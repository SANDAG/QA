{
 "cells": [
  {
   "cell_type": "code",
   "execution_count": 3,
   "metadata": {},
   "outputs": [],
   "source": [
    "import pandas as pd\n",
    "import os\n",
    "import numpy as np"
   ]
  },
  {
   "attachments": {},
   "cell_type": "markdown",
   "metadata": {},
   "source": [
    "# Helpful functions"
   ]
  },
  {
   "cell_type": "code",
   "execution_count": 4,
   "metadata": {},
   "outputs": [],
   "source": [
    "def filter_for_our_years(df):\n",
    "    return df[(df['yr_id'] == 2020) | (df['yr_id'] == 2021)]"
   ]
  },
  {
   "attachments": {},
   "cell_type": "markdown",
   "metadata": {},
   "source": [
    "# Get Input Data"
   ]
  },
  {
   "cell_type": "code",
   "execution_count": 5,
   "metadata": {},
   "outputs": [],
   "source": [
    "def get_input_data(category, geo_level, old_estimates_version, new_estimates_version):\n",
    "    # Old\n",
    "    df_old = pd.read_excel(rf'J:\\DataScience\\DataQuality\\QAQC\\Estimates QC Automation\\mgra_series_15\\individual_files\\{old_estimates_version}\\{geo_level}_est_{old_estimates_version}_{category}_ind_QA.xlsx')\n",
    "    if geo_level == 'sra':\n",
    "        df_old['sra'] = df_old['sra'].str.lower()\n",
    "    df_old = df_old.set_index([geo_level, 'yr_id'])\n",
    "    \n",
    "\n",
    "    # New\n",
    "    df_new = pd.read_excel(rf'J:\\DataScience\\DataQuality\\QAQC\\Estimates QC Automation\\mgra_series_15\\individual_files\\{new_estimates_version}\\{geo_level}_est_{new_estimates_version}_{category}_ind_QA.xlsx')\n",
    "    if geo_level == 'sra':\n",
    "        df_new['sra'] = df_new['sra'].str.lower()\n",
    "    \n",
    "    df_new = df_new.set_index([geo_level, 'yr_id'])\n",
    "    \n",
    "    return df_new, df_old"
   ]
  },
  {
   "cell_type": "code",
   "execution_count": 18,
   "metadata": {},
   "outputs": [],
   "source": [
    "def get_input_data_ase(category, geo_level, old_estimates_version, new_estimates_version):\n",
    "    # Old\n",
    "    df_old = pd.read_excel(rf'J:\\DataScience\\DataQuality\\QAQC\\Estimates QC Automation\\mgra_series_15\\individual_files\\{old_estimates_version}\\{geo_level}_est_{old_estimates_version}_{category}_ind_QA.xlsx')\n",
    "\n",
    "    # New\n",
    "    df_new = pd.read_excel(rf'J:\\DataScience\\DataQuality\\QAQC\\Estimates QC Automation\\mgra_series_15\\individual_files\\{new_estimates_version}\\{geo_level}_est_{new_estimates_version}_{category}_ind_QA.xlsx')\n",
    "    \n",
    "    return df_new, df_old"
   ]
  },
  {
   "attachments": {},
   "cell_type": "markdown",
   "metadata": {},
   "source": [
    "# Subtraction Function"
   ]
  },
  {
   "cell_type": "code",
   "execution_count": 7,
   "metadata": {},
   "outputs": [],
   "source": [
    "def subtract_dataframes(df1, df2):\n",
    "    # Filter the second data frame to keep only rows with index values in the first data frame\n",
    "    common_index = pd.merge(df1, df2, left_index=True, right_index=True)\n",
    "    df1 = df1.loc[common_index.index]\n",
    "    df2 = df2.loc[common_index.index]\n",
    "    \n",
    "    # Find the common columns between the two data frames\n",
    "    common_cols = list(set(df1.columns) & set(df2.columns))\n",
    "    common_cols = [x for x in df2.columns if x in common_cols]\n",
    "    \n",
    "    # Filter the data frames to keep only the common columns\n",
    "    df1 = df1[common_cols]\n",
    "    df2 = df2[common_cols]\n",
    "    \n",
    "    # Subtract the second data frame from the first\n",
    "    result = df1.subtract(df2)\n",
    "    \n",
    "    return result"
   ]
  },
  {
   "attachments": {},
   "cell_type": "markdown",
   "metadata": {},
   "source": [
    "# Write to excel function"
   ]
  },
  {
   "cell_type": "code",
   "execution_count": 8,
   "metadata": {},
   "outputs": [],
   "source": [
    "def write_to_excel(df_new, df_old, old_estimates_version, new_estimates_version, category, geo_level):\n",
    "    diff = subtract_dataframes(df_new, df_old)\n",
    "    # Create a Pandas Excel writer using xlsxwriter as the engine\n",
    "    writer = pd.ExcelWriter(rf'J:\\DataScience\\DataQuality\\QAQC\\Estimates QC Automation\\mgra_series_15\\diff_files\\{new_estimates_version}\\{geo_level}_{category}_est_{new_estimates_version}_minus_{old_estimates_version}_QA.xlsx', engine='xlsxwriter')\n",
    "\n",
    "    # Write each data frame to a different sheet\n",
    "    df_new.reset_index().to_excel(writer, sheet_name=f'{new_estimates_version} Data', index=False)\n",
    "    df_old.reset_index().to_excel(writer, sheet_name=f'{old_estimates_version} Data', index=False)\n",
    "    diff.reset_index().to_excel(writer, sheet_name='Diff', index=False)\n",
    "\n",
    "    # Save the writer\n",
    "    writer.save()"
   ]
  },
  {
   "attachments": {},
   "cell_type": "markdown",
   "metadata": {},
   "source": [
    "# Run"
   ]
  },
  {
   "cell_type": "code",
   "execution_count": 10,
   "metadata": {},
   "outputs": [],
   "source": [
    "categories = ['age', 'ethnicity', 'households', 'housing', 'income', 'population', 'sex']\n",
    "#categories = ['workers', 'children']\n",
    "#geo_levels = ['census_tract', 'luz', 'mgra', 'sra', 'cpa', 'jurisdiction', 'region']\n",
    "geo_levels = ['mgra', 'sra', 'cpa', 'jurisdiction', 'region']\n",
    "#geo_levels = ['mgra']"
   ]
  },
  {
   "attachments": {},
   "cell_type": "markdown",
   "metadata": {},
   "source": [
    "## For Series 15 Data"
   ]
  },
  {
   "cell_type": "code",
   "execution_count": 19,
   "metadata": {},
   "outputs": [
    {
     "name": "stdout",
     "output_type": "stream",
     "text": [
      "age-mgra is complete\n",
      "age-sra is complete\n",
      "age-cpa is complete\n",
      "age-jurisdiction is complete\n",
      "age-region is complete\n",
      "ethnicity-mgra is complete\n",
      "ethnicity-sra is complete\n",
      "ethnicity-cpa is complete\n",
      "ethnicity-jurisdiction is complete\n",
      "ethnicity-region is complete\n",
      "households-mgra is complete\n",
      "households-sra is complete\n",
      "households-cpa is complete\n",
      "households-jurisdiction is complete\n",
      "households-region is complete\n",
      "housing-mgra is complete\n",
      "housing-sra is complete\n",
      "housing-cpa is complete\n",
      "housing-jurisdiction is complete\n",
      "housing-region is complete\n",
      "income-mgra is complete\n",
      "income-sra is complete\n",
      "income-cpa is complete\n",
      "income-jurisdiction is complete\n",
      "income-region is complete\n",
      "population-mgra is complete\n",
      "population-sra is complete\n",
      "population-cpa is complete\n",
      "population-jurisdiction is complete\n",
      "population-region is complete\n",
      "sex-mgra is complete\n",
      "sex-sra is complete\n",
      "sex-cpa is complete\n",
      "sex-jurisdiction is complete\n",
      "sex-region is complete\n"
     ]
    }
   ],
   "source": [
    "for category in categories:\n",
    "    for geo_level in geo_levels:\n",
    "        df_new, df_old = get_input_data(category=category, geo_level=geo_level, old_estimates_version='2022_03', new_estimates_version='2022_04')\n",
    "        write_to_excel(df_new=df_new, df_old=df_old, old_estimates_version='2022_03', new_estimates_version='2022_04', category=category, geo_level=geo_level)\n",
    "        print(f'{category}-{geo_level} is complete')"
   ]
  },
  {
   "attachments": {},
   "cell_type": "markdown",
   "metadata": {},
   "source": [
    "# Age Sex Ethnicity\n",
    "Run this last as it takes a long time. Or run at larger geographies. "
   ]
  },
  {
   "cell_type": "code",
   "execution_count": 24,
   "metadata": {},
   "outputs": [
    {
     "name": "stdout",
     "output_type": "stream",
     "text": [
      "jurisdiction-is complete\n",
      "region-is complete\n"
     ]
    }
   ],
   "source": [
    "category = 'age_sex_ethnicity'\n",
    "for geo_level in ['jurisdiction', 'region']:#geo_levels:\n",
    "    df_new, df_old = get_input_data_ase(category=category, geo_level=geo_level, old_estimates_version='2022_03', new_estimates_version='2022_04')\n",
    "    df_new = df_new.reset_index(drop=True).groupby([geo_level, 'yr_id', 'age group', 'sex']).sum()\n",
    "    df_old = df_old.reset_index(drop=True).groupby([geo_level, 'yr_id', 'age group', 'sex']).sum()\n",
    "    write_to_excel(new_estimates_version = '2022_04', df_new = df_new, old_estimates_version='2022_03', df_old = df_old, category = category, geo_level = geo_level)\n",
    "    print(f'{geo_level}-is complete')"
   ]
  },
  {
   "cell_type": "code",
   "execution_count": null,
   "metadata": {},
   "outputs": [],
   "source": []
  }
 ],
 "metadata": {
  "kernelspec": {
   "display_name": "base",
   "language": "python",
   "name": "python3"
  },
  "language_info": {
   "codemirror_mode": {
    "name": "ipython",
    "version": 3
   },
   "file_extension": ".py",
   "mimetype": "text/x-python",
   "name": "python",
   "nbconvert_exporter": "python",
   "pygments_lexer": "ipython3",
   "version": "3.8.8"
  },
  "orig_nbformat": 4,
  "vscode": {
   "interpreter": {
    "hash": "6db16e9940ad839c1e288012a4d7b04c8c55c67646ae73b178066b197eb654ea"
   }
  }
 },
 "nbformat": 4,
 "nbformat_minor": 2
}
