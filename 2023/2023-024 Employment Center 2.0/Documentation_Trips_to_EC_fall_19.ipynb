{
 "cells": [
  {
   "cell_type": "markdown",
   "metadata": {},
   "source": [
    "# Number of Trips to the New Employment Centers\n",
    "#### Purpose:\n",
    "To find the number of trips to the new employment centers by different factors such as primary mode, trip purpose, and vehicle type on weekdays of fall 2019 in the county of San Diego. \n",
    "\n",
    "#### Data Source:\n",
    "There are two data sources that were used. Both data sources come from Replica Place Studies(please login to your Replica account):\\\n",
    "$\\;\\;\\;\\;\\;\\;$ 1. Replica Place Studies: https://studio.replicahq.com/places/studies/p544f96 \\\n",
    "$\\;\\;\\;\\;\\;\\;$ 2. Replica Place Studies: https://studio.replicahq.com/places/studies/ulztfb3\n",
    "\n",
    "\n",
    "#### Transformations being preformed:\n",
    "Two datasets were downloaded separately from Replica Place Studies. They were then uploaded to J Drive. \n",
    "\n",
    "#### Location of Outputs:\n",
    "J:\\DataScience\\DSEconProdDessem\\EC2\\Replica\\Trips_to_EC_fall_2019_thursday\\Outputs\n",
    "\n",
    "#### Author: \n",
    "Navid Hedayati (navid.hedayati@sandag.org)\n",
    "\n",
    "#### Data Created \n",
    "3/2/2023"
   ]
  },
  {
   "cell_type": "markdown",
   "metadata": {},
   "source": [
    "# Import Libraries"
   ]
  },
  {
   "cell_type": "code",
   "execution_count": 1,
   "metadata": {},
   "outputs": [],
   "source": [
    "# Necessary libraries\n",
    "import pandas as pd\n",
    "import numpy as np\n",
    "import geopandas as gpd"
   ]
  },
  {
   "cell_type": "markdown",
   "metadata": {},
   "source": [
    "# Read Data\n",
    "Two datasets were read. They are called replica and replica_2."
   ]
  },
  {
   "cell_type": "code",
   "execution_count": 2,
   "metadata": {},
   "outputs": [],
   "source": [
    "replica = pd.read_csv(r\"J:\\DataScience\\DSEconProdDessem\\EC2\\Replica\\Trips_to_EC_fall_2019_thursday\\replica-first_study-02_14_23-trips_dataset\\replica-first_study-02_14_23-trips_dataset.csv\")"
   ]
  },
  {
   "cell_type": "code",
   "execution_count": 3,
   "metadata": {},
   "outputs": [],
   "source": [
    "replica_2 = pd.read_csv(r\"J:\\DataScience\\DSEconProdDessem\\EC2\\Replica\\Trips_to_EC_fall_2019_thursday\\replica-num_trips_blockgrps_to_ecs_fall_19_thusrday-02_23_23-trips_dataset\\replica-num_trips_blockgrps_to_ecs_fall_19_thusrday-02_23_23-trips_dataset.csv\")"
   ]
  },
  {
   "cell_type": "code",
   "execution_count": 4,
   "metadata": {},
   "outputs": [
    {
     "data": {
      "text/plain": [
       "(7557621, 39)"
      ]
     },
     "execution_count": 4,
     "metadata": {},
     "output_type": "execute_result"
    }
   ],
   "source": [
    "# dataset dimentions\n",
    "replica.shape"
   ]
  },
  {
   "cell_type": "code",
   "execution_count": 5,
   "metadata": {},
   "outputs": [
    {
     "data": {
      "text/plain": [
       "(7557621, 37)"
      ]
     },
     "execution_count": 5,
     "metadata": {},
     "output_type": "execute_result"
    }
   ],
   "source": [
    "# dataset dimentions\n",
    "replica_2.shape"
   ]
  },
  {
   "cell_type": "code",
   "execution_count": 6,
   "metadata": {},
   "outputs": [
    {
     "data": {
      "text/html": [
       "<div>\n",
       "<style scoped>\n",
       "    .dataframe tbody tr th:only-of-type {\n",
       "        vertical-align: middle;\n",
       "    }\n",
       "\n",
       "    .dataframe tbody tr th {\n",
       "        vertical-align: top;\n",
       "    }\n",
       "\n",
       "    .dataframe thead th {\n",
       "        text-align: right;\n",
       "    }\n",
       "</style>\n",
       "<table border=\"1\" class=\"dataframe\">\n",
       "  <thead>\n",
       "    <tr style=\"text-align: right;\">\n",
       "      <th></th>\n",
       "      <th>origin_bgrp</th>\n",
       "      <th>origin_cty</th>\n",
       "      <th>origin_st</th>\n",
       "      <th>destination_bgrp</th>\n",
       "      <th>destination_cty</th>\n",
       "      <th>destination_custom</th>\n",
       "      <th>primary_mode</th>\n",
       "      <th>trip_purpose</th>\n",
       "      <th>previous_trip_purpose</th>\n",
       "      <th>trip_start_time</th>\n",
       "      <th>...</th>\n",
       "      <th>trip_taker_available_vehicles</th>\n",
       "      <th>trip_taker_resident_type</th>\n",
       "      <th>trip_taker_home_bgrp</th>\n",
       "      <th>trip_taker_home_trct</th>\n",
       "      <th>trip_taker_home_cty</th>\n",
       "      <th>trip_taker_home_st</th>\n",
       "      <th>trip_taker_work_bgrp</th>\n",
       "      <th>trip_taker_work_trct</th>\n",
       "      <th>trip_taker_work_cty</th>\n",
       "      <th>trip_taker_work_st</th>\n",
       "    </tr>\n",
       "  </thead>\n",
       "  <tbody>\n",
       "    <tr>\n",
       "      <th>0</th>\n",
       "      <td>1 (Tract 5520.01, Los Angeles, CA)</td>\n",
       "      <td>Los Angeles County, CA</td>\n",
       "      <td>California</td>\n",
       "      <td>1 (Tract 187, San Diego, CA)</td>\n",
       "      <td>San Diego County, CA</td>\n",
       "      <td>Marine Corps Base Camp Pendleton</td>\n",
       "      <td>private_auto</td>\n",
       "      <td>work</td>\n",
       "      <td>home</td>\n",
       "      <td>07:39:00</td>\n",
       "      <td>...</td>\n",
       "      <td>three_plus</td>\n",
       "      <td>core</td>\n",
       "      <td>1 (Tract 5520.01, Los Angeles, CA)</td>\n",
       "      <td>5520.01 (Los Angeles, CA)</td>\n",
       "      <td>Los Angeles County, CA</td>\n",
       "      <td>California</td>\n",
       "      <td>1 (Tract 187, San Diego, CA)</td>\n",
       "      <td>187 (San Diego, CA)</td>\n",
       "      <td>San Diego County, CA</td>\n",
       "      <td>California</td>\n",
       "    </tr>\n",
       "    <tr>\n",
       "      <th>1</th>\n",
       "      <td>2 (Tract 1105, Orange, CA)</td>\n",
       "      <td>Orange County, CA</td>\n",
       "      <td>California</td>\n",
       "      <td>1 (Tract 187, San Diego, CA)</td>\n",
       "      <td>San Diego County, CA</td>\n",
       "      <td>Marine Corps Base Camp Pendleton</td>\n",
       "      <td>private_auto</td>\n",
       "      <td>social</td>\n",
       "      <td>shop</td>\n",
       "      <td>10:35:51</td>\n",
       "      <td>...</td>\n",
       "      <td>\\N</td>\n",
       "      <td>visitor</td>\n",
       "      <td>\\N</td>\n",
       "      <td>\\N</td>\n",
       "      <td>\\N</td>\n",
       "      <td>\\N</td>\n",
       "      <td>\\N</td>\n",
       "      <td>\\N</td>\n",
       "      <td>\\N</td>\n",
       "      <td>\\N</td>\n",
       "    </tr>\n",
       "    <tr>\n",
       "      <th>2</th>\n",
       "      <td>2 (Tract 5736.01, Los Angeles, CA)</td>\n",
       "      <td>Los Angeles County, CA</td>\n",
       "      <td>California</td>\n",
       "      <td>1 (Tract 187, San Diego, CA)</td>\n",
       "      <td>San Diego County, CA</td>\n",
       "      <td>Marine Corps Base Camp Pendleton</td>\n",
       "      <td>private_auto</td>\n",
       "      <td>social</td>\n",
       "      <td>social</td>\n",
       "      <td>14:31:22</td>\n",
       "      <td>...</td>\n",
       "      <td>two</td>\n",
       "      <td>core</td>\n",
       "      <td>5 (Tract 5549, Los Angeles, CA)</td>\n",
       "      <td>5549 (Los Angeles, CA)</td>\n",
       "      <td>Los Angeles County, CA</td>\n",
       "      <td>California</td>\n",
       "      <td>\\N</td>\n",
       "      <td>\\N</td>\n",
       "      <td>\\N</td>\n",
       "      <td>\\N</td>\n",
       "    </tr>\n",
       "    <tr>\n",
       "      <th>3</th>\n",
       "      <td>2 (Tract 5039.01, Los Angeles, CA)</td>\n",
       "      <td>Los Angeles County, CA</td>\n",
       "      <td>California</td>\n",
       "      <td>1 (Tract 187, San Diego, CA)</td>\n",
       "      <td>San Diego County, CA</td>\n",
       "      <td>Marine Corps Base Camp Pendleton</td>\n",
       "      <td>carpool</td>\n",
       "      <td>work</td>\n",
       "      <td>social</td>\n",
       "      <td>14:45:47</td>\n",
       "      <td>...</td>\n",
       "      <td>three_plus</td>\n",
       "      <td>core</td>\n",
       "      <td>5 (Tract 423.13, Orange, CA)</td>\n",
       "      <td>423.13 (Orange, CA)</td>\n",
       "      <td>Orange County, CA</td>\n",
       "      <td>California</td>\n",
       "      <td>1 (Tract 187, San Diego, CA)</td>\n",
       "      <td>187 (San Diego, CA)</td>\n",
       "      <td>San Diego County, CA</td>\n",
       "      <td>California</td>\n",
       "    </tr>\n",
       "    <tr>\n",
       "      <th>4</th>\n",
       "      <td>4 (Tract 5705.02, Los Angeles, CA)</td>\n",
       "      <td>Los Angeles County, CA</td>\n",
       "      <td>California</td>\n",
       "      <td>1 (Tract 187, San Diego, CA)</td>\n",
       "      <td>San Diego County, CA</td>\n",
       "      <td>Marine Corps Base Camp Pendleton</td>\n",
       "      <td>carpool</td>\n",
       "      <td>work</td>\n",
       "      <td>home</td>\n",
       "      <td>06:25:00</td>\n",
       "      <td>...</td>\n",
       "      <td>one</td>\n",
       "      <td>core</td>\n",
       "      <td>4 (Tract 5705.02, Los Angeles, CA)</td>\n",
       "      <td>5705.02 (Los Angeles, CA)</td>\n",
       "      <td>Los Angeles County, CA</td>\n",
       "      <td>California</td>\n",
       "      <td>1 (Tract 187, San Diego, CA)</td>\n",
       "      <td>187 (San Diego, CA)</td>\n",
       "      <td>San Diego County, CA</td>\n",
       "      <td>California</td>\n",
       "    </tr>\n",
       "  </tbody>\n",
       "</table>\n",
       "<p>5 rows × 39 columns</p>\n",
       "</div>"
      ],
      "text/plain": [
       "                          origin_bgrp              origin_cty   origin_st  \\\n",
       "0  1 (Tract 5520.01, Los Angeles, CA)  Los Angeles County, CA  California   \n",
       "1          2 (Tract 1105, Orange, CA)       Orange County, CA  California   \n",
       "2  2 (Tract 5736.01, Los Angeles, CA)  Los Angeles County, CA  California   \n",
       "3  2 (Tract 5039.01, Los Angeles, CA)  Los Angeles County, CA  California   \n",
       "4  4 (Tract 5705.02, Los Angeles, CA)  Los Angeles County, CA  California   \n",
       "\n",
       "               destination_bgrp       destination_cty  \\\n",
       "0  1 (Tract 187, San Diego, CA)  San Diego County, CA   \n",
       "1  1 (Tract 187, San Diego, CA)  San Diego County, CA   \n",
       "2  1 (Tract 187, San Diego, CA)  San Diego County, CA   \n",
       "3  1 (Tract 187, San Diego, CA)  San Diego County, CA   \n",
       "4  1 (Tract 187, San Diego, CA)  San Diego County, CA   \n",
       "\n",
       "                 destination_custom  primary_mode trip_purpose  \\\n",
       "0  Marine Corps Base Camp Pendleton  private_auto         work   \n",
       "1  Marine Corps Base Camp Pendleton  private_auto       social   \n",
       "2  Marine Corps Base Camp Pendleton  private_auto       social   \n",
       "3  Marine Corps Base Camp Pendleton       carpool         work   \n",
       "4  Marine Corps Base Camp Pendleton       carpool         work   \n",
       "\n",
       "  previous_trip_purpose trip_start_time  ... trip_taker_available_vehicles  \\\n",
       "0                  home        07:39:00  ...                    three_plus   \n",
       "1                  shop        10:35:51  ...                            \\N   \n",
       "2                social        14:31:22  ...                           two   \n",
       "3                social        14:45:47  ...                    three_plus   \n",
       "4                  home        06:25:00  ...                           one   \n",
       "\n",
       "   trip_taker_resident_type                trip_taker_home_bgrp  \\\n",
       "0                      core  1 (Tract 5520.01, Los Angeles, CA)   \n",
       "1                   visitor                                  \\N   \n",
       "2                      core     5 (Tract 5549, Los Angeles, CA)   \n",
       "3                      core        5 (Tract 423.13, Orange, CA)   \n",
       "4                      core  4 (Tract 5705.02, Los Angeles, CA)   \n",
       "\n",
       "        trip_taker_home_trct     trip_taker_home_cty trip_taker_home_st  \\\n",
       "0  5520.01 (Los Angeles, CA)  Los Angeles County, CA         California   \n",
       "1                         \\N                      \\N                 \\N   \n",
       "2     5549 (Los Angeles, CA)  Los Angeles County, CA         California   \n",
       "3        423.13 (Orange, CA)       Orange County, CA         California   \n",
       "4  5705.02 (Los Angeles, CA)  Los Angeles County, CA         California   \n",
       "\n",
       "           trip_taker_work_bgrp trip_taker_work_trct   trip_taker_work_cty  \\\n",
       "0  1 (Tract 187, San Diego, CA)  187 (San Diego, CA)  San Diego County, CA   \n",
       "1                            \\N                   \\N                    \\N   \n",
       "2                            \\N                   \\N                    \\N   \n",
       "3  1 (Tract 187, San Diego, CA)  187 (San Diego, CA)  San Diego County, CA   \n",
       "4  1 (Tract 187, San Diego, CA)  187 (San Diego, CA)  San Diego County, CA   \n",
       "\n",
       "  trip_taker_work_st  \n",
       "0         California  \n",
       "1                 \\N  \n",
       "2                 \\N  \n",
       "3         California  \n",
       "4         California  \n",
       "\n",
       "[5 rows x 39 columns]"
      ]
     },
     "execution_count": 6,
     "metadata": {},
     "output_type": "execute_result"
    }
   ],
   "source": [
    "replica.head()"
   ]
  },
  {
   "cell_type": "code",
   "execution_count": 7,
   "metadata": {},
   "outputs": [
    {
     "data": {
      "text/html": [
       "<div>\n",
       "<style scoped>\n",
       "    .dataframe tbody tr th:only-of-type {\n",
       "        vertical-align: middle;\n",
       "    }\n",
       "\n",
       "    .dataframe tbody tr th {\n",
       "        vertical-align: top;\n",
       "    }\n",
       "\n",
       "    .dataframe thead th {\n",
       "        text-align: right;\n",
       "    }\n",
       "</style>\n",
       "<table border=\"1\" class=\"dataframe\">\n",
       "  <thead>\n",
       "    <tr style=\"text-align: right;\">\n",
       "      <th></th>\n",
       "      <th>origin_bgrp</th>\n",
       "      <th>origin_cty</th>\n",
       "      <th>origin_st</th>\n",
       "      <th>destination_custom</th>\n",
       "      <th>primary_mode</th>\n",
       "      <th>trip_purpose</th>\n",
       "      <th>previous_trip_purpose</th>\n",
       "      <th>trip_start_time</th>\n",
       "      <th>trip_end_time</th>\n",
       "      <th>trip_duration_minutes</th>\n",
       "      <th>...</th>\n",
       "      <th>trip_taker_available_vehicles</th>\n",
       "      <th>trip_taker_resident_type</th>\n",
       "      <th>trip_taker_home_bgrp</th>\n",
       "      <th>trip_taker_home_trct</th>\n",
       "      <th>trip_taker_home_cty</th>\n",
       "      <th>trip_taker_home_st</th>\n",
       "      <th>trip_taker_work_bgrp</th>\n",
       "      <th>trip_taker_work_trct</th>\n",
       "      <th>trip_taker_work_cty</th>\n",
       "      <th>trip_taker_work_st</th>\n",
       "    </tr>\n",
       "  </thead>\n",
       "  <tbody>\n",
       "    <tr>\n",
       "      <th>0</th>\n",
       "      <td>Outside of region</td>\n",
       "      <td>Outside of region</td>\n",
       "      <td>Outside of region</td>\n",
       "      <td>Ocean Beach</td>\n",
       "      <td>other_travel_mode</td>\n",
       "      <td>lodging</td>\n",
       "      <td>other_activity_type</td>\n",
       "      <td>17:17:22</td>\n",
       "      <td>06:44:40</td>\n",
       "      <td>807</td>\n",
       "      <td>...</td>\n",
       "      <td>\\N</td>\n",
       "      <td>visitor</td>\n",
       "      <td>\\N</td>\n",
       "      <td>\\N</td>\n",
       "      <td>\\N</td>\n",
       "      <td>\\N</td>\n",
       "      <td>\\N</td>\n",
       "      <td>\\N</td>\n",
       "      <td>\\N</td>\n",
       "      <td>\\N</td>\n",
       "    </tr>\n",
       "    <tr>\n",
       "      <th>1</th>\n",
       "      <td>Outside of region</td>\n",
       "      <td>Outside of region</td>\n",
       "      <td>Outside of region</td>\n",
       "      <td>Ocean Beach</td>\n",
       "      <td>other_travel_mode</td>\n",
       "      <td>lodging</td>\n",
       "      <td>social</td>\n",
       "      <td>02:18:02</td>\n",
       "      <td>15:43:40</td>\n",
       "      <td>805</td>\n",
       "      <td>...</td>\n",
       "      <td>\\N</td>\n",
       "      <td>visitor</td>\n",
       "      <td>\\N</td>\n",
       "      <td>\\N</td>\n",
       "      <td>\\N</td>\n",
       "      <td>\\N</td>\n",
       "      <td>\\N</td>\n",
       "      <td>\\N</td>\n",
       "      <td>\\N</td>\n",
       "      <td>\\N</td>\n",
       "    </tr>\n",
       "    <tr>\n",
       "      <th>2</th>\n",
       "      <td>Outside of region</td>\n",
       "      <td>Outside of region</td>\n",
       "      <td>Outside of region</td>\n",
       "      <td>Pacific Beach</td>\n",
       "      <td>other_travel_mode</td>\n",
       "      <td>home</td>\n",
       "      <td>work</td>\n",
       "      <td>03:48:50</td>\n",
       "      <td>17:02:40</td>\n",
       "      <td>793</td>\n",
       "      <td>...</td>\n",
       "      <td>one</td>\n",
       "      <td>core</td>\n",
       "      <td>5 (Tract 80.06, San Diego, CA)</td>\n",
       "      <td>80.06 (San Diego, CA)</td>\n",
       "      <td>San Diego County, CA</td>\n",
       "      <td>California</td>\n",
       "      <td>Outside of region</td>\n",
       "      <td>Outside of region</td>\n",
       "      <td>Outside of region</td>\n",
       "      <td>Outside of region</td>\n",
       "    </tr>\n",
       "    <tr>\n",
       "      <th>3</th>\n",
       "      <td>Outside of region</td>\n",
       "      <td>Outside of region</td>\n",
       "      <td>Outside of region</td>\n",
       "      <td>San Diego Airport</td>\n",
       "      <td>other_travel_mode</td>\n",
       "      <td>region_departure</td>\n",
       "      <td>social</td>\n",
       "      <td>15:26:21</td>\n",
       "      <td>04:54:05</td>\n",
       "      <td>807</td>\n",
       "      <td>...</td>\n",
       "      <td>\\N</td>\n",
       "      <td>visitor</td>\n",
       "      <td>\\N</td>\n",
       "      <td>\\N</td>\n",
       "      <td>\\N</td>\n",
       "      <td>\\N</td>\n",
       "      <td>\\N</td>\n",
       "      <td>\\N</td>\n",
       "      <td>\\N</td>\n",
       "      <td>\\N</td>\n",
       "    </tr>\n",
       "    <tr>\n",
       "      <th>4</th>\n",
       "      <td>Outside of region</td>\n",
       "      <td>Outside of region</td>\n",
       "      <td>Outside of region</td>\n",
       "      <td>Downtown</td>\n",
       "      <td>other_travel_mode</td>\n",
       "      <td>social</td>\n",
       "      <td>social</td>\n",
       "      <td>02:35:01</td>\n",
       "      <td>16:05:33</td>\n",
       "      <td>810</td>\n",
       "      <td>...</td>\n",
       "      <td>two</td>\n",
       "      <td>core</td>\n",
       "      <td>1 (Tract 186.10, San Diego, CA)</td>\n",
       "      <td>186.10 (San Diego, CA)</td>\n",
       "      <td>San Diego County, CA</td>\n",
       "      <td>California</td>\n",
       "      <td>3 (Tract 185.13, San Diego, CA)</td>\n",
       "      <td>185.13 (San Diego, CA)</td>\n",
       "      <td>San Diego County, CA</td>\n",
       "      <td>California</td>\n",
       "    </tr>\n",
       "  </tbody>\n",
       "</table>\n",
       "<p>5 rows × 37 columns</p>\n",
       "</div>"
      ],
      "text/plain": [
       "         origin_bgrp         origin_cty          origin_st destination_custom  \\\n",
       "0  Outside of region  Outside of region  Outside of region        Ocean Beach   \n",
       "1  Outside of region  Outside of region  Outside of region        Ocean Beach   \n",
       "2  Outside of region  Outside of region  Outside of region      Pacific Beach   \n",
       "3  Outside of region  Outside of region  Outside of region  San Diego Airport   \n",
       "4  Outside of region  Outside of region  Outside of region           Downtown   \n",
       "\n",
       "        primary_mode      trip_purpose previous_trip_purpose trip_start_time  \\\n",
       "0  other_travel_mode           lodging   other_activity_type        17:17:22   \n",
       "1  other_travel_mode           lodging                social        02:18:02   \n",
       "2  other_travel_mode              home                  work        03:48:50   \n",
       "3  other_travel_mode  region_departure                social        15:26:21   \n",
       "4  other_travel_mode            social                social        02:35:01   \n",
       "\n",
       "  trip_end_time  trip_duration_minutes  ...  trip_taker_available_vehicles  \\\n",
       "0      06:44:40                    807  ...                             \\N   \n",
       "1      15:43:40                    805  ...                             \\N   \n",
       "2      17:02:40                    793  ...                            one   \n",
       "3      04:54:05                    807  ...                             \\N   \n",
       "4      16:05:33                    810  ...                            two   \n",
       "\n",
       "  trip_taker_resident_type             trip_taker_home_bgrp  \\\n",
       "0                  visitor                               \\N   \n",
       "1                  visitor                               \\N   \n",
       "2                     core   5 (Tract 80.06, San Diego, CA)   \n",
       "3                  visitor                               \\N   \n",
       "4                     core  1 (Tract 186.10, San Diego, CA)   \n",
       "\n",
       "     trip_taker_home_trct   trip_taker_home_cty trip_taker_home_st  \\\n",
       "0                      \\N                    \\N                 \\N   \n",
       "1                      \\N                    \\N                 \\N   \n",
       "2   80.06 (San Diego, CA)  San Diego County, CA         California   \n",
       "3                      \\N                    \\N                 \\N   \n",
       "4  186.10 (San Diego, CA)  San Diego County, CA         California   \n",
       "\n",
       "              trip_taker_work_bgrp    trip_taker_work_trct  \\\n",
       "0                               \\N                      \\N   \n",
       "1                               \\N                      \\N   \n",
       "2                Outside of region       Outside of region   \n",
       "3                               \\N                      \\N   \n",
       "4  3 (Tract 185.13, San Diego, CA)  185.13 (San Diego, CA)   \n",
       "\n",
       "    trip_taker_work_cty trip_taker_work_st  \n",
       "0                    \\N                 \\N  \n",
       "1                    \\N                 \\N  \n",
       "2     Outside of region  Outside of region  \n",
       "3                    \\N                 \\N  \n",
       "4  San Diego County, CA         California  \n",
       "\n",
       "[5 rows x 37 columns]"
      ]
     },
     "execution_count": 7,
     "metadata": {},
     "output_type": "execute_result"
    }
   ],
   "source": [
    "replica_2.head()"
   ]
  },
  {
   "cell_type": "markdown",
   "metadata": {},
   "source": [
    "# Number of Trips by Primary Mode\n",
    "The goal of this section is to get the number of trips to each employment centers by primary modes. These primary modes are biking, carpool, commercial, on demand auto, and other travel modes.  "
   ]
  },
  {
   "cell_type": "code",
   "execution_count": 8,
   "metadata": {},
   "outputs": [],
   "source": [
    "# Group the replica dataset by destination_custom(i.e, the new  employment centers) and primary_mode fields. Then aggregate it to get the count of trips in each primary mode.\n",
    "trips_primary_mode = replica.groupby(['destination_custom', 'primary_mode']).agg({'count'}).reset_index()[[ 'destination_custom', 'primary_mode', 'origin_bgrp']].rename(columns={'origin_bgrp':'trips'})"
   ]
  },
  {
   "cell_type": "code",
   "execution_count": 9,
   "metadata": {},
   "outputs": [
    {
     "data": {
      "text/plain": [
       "(809, 3)"
      ]
     },
     "execution_count": 9,
     "metadata": {},
     "output_type": "execute_result"
    }
   ],
   "source": [
    "trips_primary_mode.shape"
   ]
  },
  {
   "cell_type": "code",
   "execution_count": 10,
   "metadata": {},
   "outputs": [
    {
     "data": {
      "text/html": [
       "<div>\n",
       "<style scoped>\n",
       "    .dataframe tbody tr th:only-of-type {\n",
       "        vertical-align: middle;\n",
       "    }\n",
       "\n",
       "    .dataframe tbody tr th {\n",
       "        vertical-align: top;\n",
       "    }\n",
       "\n",
       "    .dataframe thead tr th {\n",
       "        text-align: left;\n",
       "    }\n",
       "</style>\n",
       "<table border=\"1\" class=\"dataframe\">\n",
       "  <thead>\n",
       "    <tr>\n",
       "      <th></th>\n",
       "      <th>destination_custom</th>\n",
       "      <th>primary_mode</th>\n",
       "      <th>trips</th>\n",
       "    </tr>\n",
       "    <tr>\n",
       "      <th></th>\n",
       "      <th></th>\n",
       "      <th></th>\n",
       "      <th>count</th>\n",
       "    </tr>\n",
       "  </thead>\n",
       "  <tbody>\n",
       "    <tr>\n",
       "      <th>0</th>\n",
       "      <td>Alpine</td>\n",
       "      <td>biking</td>\n",
       "      <td>75</td>\n",
       "    </tr>\n",
       "    <tr>\n",
       "      <th>1</th>\n",
       "      <td>Alpine</td>\n",
       "      <td>carpool</td>\n",
       "      <td>4283</td>\n",
       "    </tr>\n",
       "    <tr>\n",
       "      <th>2</th>\n",
       "      <td>Alpine</td>\n",
       "      <td>commercial</td>\n",
       "      <td>1510</td>\n",
       "    </tr>\n",
       "    <tr>\n",
       "      <th>3</th>\n",
       "      <td>Alpine</td>\n",
       "      <td>on_demand_auto</td>\n",
       "      <td>316</td>\n",
       "    </tr>\n",
       "    <tr>\n",
       "      <th>4</th>\n",
       "      <td>Alpine</td>\n",
       "      <td>other_travel_mode</td>\n",
       "      <td>288</td>\n",
       "    </tr>\n",
       "  </tbody>\n",
       "</table>\n",
       "</div>"
      ],
      "text/plain": [
       "  destination_custom       primary_mode trips\n",
       "                                        count\n",
       "0             Alpine             biking    75\n",
       "1             Alpine            carpool  4283\n",
       "2             Alpine         commercial  1510\n",
       "3             Alpine     on_demand_auto   316\n",
       "4             Alpine  other_travel_mode   288"
      ]
     },
     "execution_count": 10,
     "metadata": {},
     "output_type": "execute_result"
    }
   ],
   "source": [
    "trips_primary_mode.head()"
   ]
  },
  {
   "cell_type": "code",
   "execution_count": 9,
   "metadata": {},
   "outputs": [],
   "source": [
    "# Save the outputs in a csv file\n",
    "trips_primary_mode.to_csv(\"trips_primary_mode.csv\",sep=\",\")"
   ]
  },
  {
   "cell_type": "markdown",
   "metadata": {},
   "source": [
    "# Number of Trips by Purpose\n",
    "The goal of this section is to get the number of trips to each employment center by trip puroses such as commercial, eat, and home."
   ]
  },
  {
   "cell_type": "code",
   "execution_count": 11,
   "metadata": {},
   "outputs": [],
   "source": [
    "# Group the replica dataset by destination_custom(i.e, the new employment centers) and trip_purpose fields. Then aggregate it to get the count of trips in each trip purpose.\n",
    "trips_purpose = replica.groupby(['destination_custom','trip_purpose']).agg({'count'}).reset_index()[['destination_custom', 'trip_purpose', 'origin_bgrp']].rename(columns={'origin_bgrp':'trips'})"
   ]
  },
  {
   "cell_type": "code",
   "execution_count": 12,
   "metadata": {},
   "outputs": [
    {
     "data": {
      "text/plain": [
       "(1085, 3)"
      ]
     },
     "execution_count": 12,
     "metadata": {},
     "output_type": "execute_result"
    }
   ],
   "source": [
    "trips_purpose.shape"
   ]
  },
  {
   "cell_type": "code",
   "execution_count": 13,
   "metadata": {},
   "outputs": [
    {
     "data": {
      "text/html": [
       "<div>\n",
       "<style scoped>\n",
       "    .dataframe tbody tr th:only-of-type {\n",
       "        vertical-align: middle;\n",
       "    }\n",
       "\n",
       "    .dataframe tbody tr th {\n",
       "        vertical-align: top;\n",
       "    }\n",
       "\n",
       "    .dataframe thead tr th {\n",
       "        text-align: left;\n",
       "    }\n",
       "</style>\n",
       "<table border=\"1\" class=\"dataframe\">\n",
       "  <thead>\n",
       "    <tr>\n",
       "      <th></th>\n",
       "      <th>destination_custom</th>\n",
       "      <th>trip_purpose</th>\n",
       "      <th>trips</th>\n",
       "    </tr>\n",
       "    <tr>\n",
       "      <th></th>\n",
       "      <th></th>\n",
       "      <th></th>\n",
       "      <th>count</th>\n",
       "    </tr>\n",
       "  </thead>\n",
       "  <tbody>\n",
       "    <tr>\n",
       "      <th>0</th>\n",
       "      <td>Alpine</td>\n",
       "      <td>commercial</td>\n",
       "      <td>1523</td>\n",
       "    </tr>\n",
       "    <tr>\n",
       "      <th>1</th>\n",
       "      <td>Alpine</td>\n",
       "      <td>eat</td>\n",
       "      <td>3504</td>\n",
       "    </tr>\n",
       "    <tr>\n",
       "      <th>2</th>\n",
       "      <td>Alpine</td>\n",
       "      <td>home</td>\n",
       "      <td>4912</td>\n",
       "    </tr>\n",
       "    <tr>\n",
       "      <th>3</th>\n",
       "      <td>Alpine</td>\n",
       "      <td>lodging</td>\n",
       "      <td>142</td>\n",
       "    </tr>\n",
       "    <tr>\n",
       "      <th>4</th>\n",
       "      <td>Alpine</td>\n",
       "      <td>maintenance</td>\n",
       "      <td>1548</td>\n",
       "    </tr>\n",
       "  </tbody>\n",
       "</table>\n",
       "</div>"
      ],
      "text/plain": [
       "  destination_custom trip_purpose trips\n",
       "                                  count\n",
       "0             Alpine   commercial  1523\n",
       "1             Alpine          eat  3504\n",
       "2             Alpine         home  4912\n",
       "3             Alpine      lodging   142\n",
       "4             Alpine  maintenance  1548"
      ]
     },
     "execution_count": 13,
     "metadata": {},
     "output_type": "execute_result"
    }
   ],
   "source": [
    "trips_purpose.head()"
   ]
  },
  {
   "cell_type": "code",
   "execution_count": 13,
   "metadata": {},
   "outputs": [],
   "source": [
    "# Save outputs in a csv file\n",
    "trips_purpose.to_csv(\"trips_purpose.csv\", sep=\",\")"
   ]
  },
  {
   "cell_type": "markdown",
   "metadata": {},
   "source": [
    "# Number of Trips by Previous Trip Purpose \n",
    "The goal of this section is to get the number of trips to each new employment center by previous trip purpose. "
   ]
  },
  {
   "cell_type": "code",
   "execution_count": 82,
   "metadata": {},
   "outputs": [],
   "source": [
    "# Group the replica dataset by destination_custom(i.e, the new employment centers) and previous_trip_purpose fields. Then aggregate it to get the count of trips in each previous trip purposes.\n",
    "previous_trips_purpose = replica.groupby(['destination_custom','previous_trip_purpose']).agg({'count'}).reset_index()[['destination_custom','previous_trip_purpose', 'origin_bgrp']].rename(columns={'origin_bgrp':'trips'})"
   ]
  },
  {
   "cell_type": "code",
   "execution_count": 83,
   "metadata": {},
   "outputs": [
    {
     "data": {
      "text/plain": [
       "(1259, 3)"
      ]
     },
     "execution_count": 83,
     "metadata": {},
     "output_type": "execute_result"
    }
   ],
   "source": [
    "previous_trips_purpose.shape"
   ]
  },
  {
   "cell_type": "code",
   "execution_count": 84,
   "metadata": {},
   "outputs": [
    {
     "data": {
      "text/html": [
       "<div>\n",
       "<style scoped>\n",
       "    .dataframe tbody tr th:only-of-type {\n",
       "        vertical-align: middle;\n",
       "    }\n",
       "\n",
       "    .dataframe tbody tr th {\n",
       "        vertical-align: top;\n",
       "    }\n",
       "\n",
       "    .dataframe thead tr th {\n",
       "        text-align: left;\n",
       "    }\n",
       "</style>\n",
       "<table border=\"1\" class=\"dataframe\">\n",
       "  <thead>\n",
       "    <tr>\n",
       "      <th></th>\n",
       "      <th>destination_custom</th>\n",
       "      <th>previous_trip_purpose</th>\n",
       "      <th>trips</th>\n",
       "    </tr>\n",
       "    <tr>\n",
       "      <th></th>\n",
       "      <th></th>\n",
       "      <th></th>\n",
       "      <th>count</th>\n",
       "    </tr>\n",
       "  </thead>\n",
       "  <tbody>\n",
       "    <tr>\n",
       "      <th>0</th>\n",
       "      <td>Alpine</td>\n",
       "      <td>\\N</td>\n",
       "      <td>32</td>\n",
       "    </tr>\n",
       "    <tr>\n",
       "      <th>1</th>\n",
       "      <td>Alpine</td>\n",
       "      <td>commercial</td>\n",
       "      <td>1523</td>\n",
       "    </tr>\n",
       "    <tr>\n",
       "      <th>2</th>\n",
       "      <td>Alpine</td>\n",
       "      <td>eat</td>\n",
       "      <td>1970</td>\n",
       "    </tr>\n",
       "    <tr>\n",
       "      <th>3</th>\n",
       "      <td>Alpine</td>\n",
       "      <td>home</td>\n",
       "      <td>7289</td>\n",
       "    </tr>\n",
       "    <tr>\n",
       "      <th>4</th>\n",
       "      <td>Alpine</td>\n",
       "      <td>lodging</td>\n",
       "      <td>312</td>\n",
       "    </tr>\n",
       "  </tbody>\n",
       "</table>\n",
       "</div>"
      ],
      "text/plain": [
       "  destination_custom previous_trip_purpose trips\n",
       "                                           count\n",
       "0             Alpine                    \\N    32\n",
       "1             Alpine            commercial  1523\n",
       "2             Alpine                   eat  1970\n",
       "3             Alpine                  home  7289\n",
       "4             Alpine               lodging   312"
      ]
     },
     "execution_count": 84,
     "metadata": {},
     "output_type": "execute_result"
    }
   ],
   "source": [
    "previous_trips_purpose.head()"
   ]
  },
  {
   "cell_type": "code",
   "execution_count": 135,
   "metadata": {},
   "outputs": [],
   "source": [
    "# Save the outputs in a csv file\n",
    "previous_trips_purpose.to_csv(\"previous_trips_purpose.csv\",sep=\",\")"
   ]
  },
  {
   "cell_type": "markdown",
   "metadata": {},
   "source": [
    "# Number of Trips by Vehicle Type\n",
    "The goal of this section is to get the number of trips to each employment center by vehicle types. The vehicle types  are heavy_commercial, medium_commercial, and unknown_vehicle_type. "
   ]
  },
  {
   "cell_type": "code",
   "execution_count": 14,
   "metadata": {},
   "outputs": [],
   "source": [
    "# Group the replica dataset by destination_custom(i.e, the new employment centers) and vehicle_type fields. Then aggregate it to get the count of trips in each vehile_type.\n",
    "trips_vehicle_type = replica.groupby(['destination_custom','vehicle_type']).agg({'count'}).reset_index()[['destination_custom','vehicle_type', 'origin_bgrp']].rename(columns={'origin_bgrp':'trips'})"
   ]
  },
  {
   "cell_type": "code",
   "execution_count": 15,
   "metadata": {},
   "outputs": [
    {
     "data": {
      "text/plain": [
       "(340, 3)"
      ]
     },
     "execution_count": 15,
     "metadata": {},
     "output_type": "execute_result"
    }
   ],
   "source": [
    "trips_vehicle_type.shape"
   ]
  },
  {
   "cell_type": "code",
   "execution_count": 16,
   "metadata": {},
   "outputs": [
    {
     "data": {
      "text/html": [
       "<div>\n",
       "<style scoped>\n",
       "    .dataframe tbody tr th:only-of-type {\n",
       "        vertical-align: middle;\n",
       "    }\n",
       "\n",
       "    .dataframe tbody tr th {\n",
       "        vertical-align: top;\n",
       "    }\n",
       "\n",
       "    .dataframe thead tr th {\n",
       "        text-align: left;\n",
       "    }\n",
       "</style>\n",
       "<table border=\"1\" class=\"dataframe\">\n",
       "  <thead>\n",
       "    <tr>\n",
       "      <th></th>\n",
       "      <th>destination_custom</th>\n",
       "      <th>vehicle_type</th>\n",
       "      <th>trips</th>\n",
       "    </tr>\n",
       "    <tr>\n",
       "      <th></th>\n",
       "      <th></th>\n",
       "      <th></th>\n",
       "      <th>count</th>\n",
       "    </tr>\n",
       "  </thead>\n",
       "  <tbody>\n",
       "    <tr>\n",
       "      <th>0</th>\n",
       "      <td>Alpine</td>\n",
       "      <td>heavy_commercial</td>\n",
       "      <td>23</td>\n",
       "    </tr>\n",
       "    <tr>\n",
       "      <th>1</th>\n",
       "      <td>Alpine</td>\n",
       "      <td>medium_commercial</td>\n",
       "      <td>1487</td>\n",
       "    </tr>\n",
       "    <tr>\n",
       "      <th>2</th>\n",
       "      <td>Alpine</td>\n",
       "      <td>unknown_vehicle_type</td>\n",
       "      <td>21581</td>\n",
       "    </tr>\n",
       "    <tr>\n",
       "      <th>3</th>\n",
       "      <td>Balboa Park</td>\n",
       "      <td>heavy_commercial</td>\n",
       "      <td>5</td>\n",
       "    </tr>\n",
       "    <tr>\n",
       "      <th>4</th>\n",
       "      <td>Balboa Park</td>\n",
       "      <td>medium_commercial</td>\n",
       "      <td>680</td>\n",
       "    </tr>\n",
       "  </tbody>\n",
       "</table>\n",
       "</div>"
      ],
      "text/plain": [
       "  destination_custom          vehicle_type  trips\n",
       "                                            count\n",
       "0             Alpine      heavy_commercial     23\n",
       "1             Alpine     medium_commercial   1487\n",
       "2             Alpine  unknown_vehicle_type  21581\n",
       "3        Balboa Park      heavy_commercial      5\n",
       "4        Balboa Park     medium_commercial    680"
      ]
     },
     "execution_count": 16,
     "metadata": {},
     "output_type": "execute_result"
    }
   ],
   "source": [
    "trips_vehicle_type.head()"
   ]
  },
  {
   "cell_type": "code",
   "execution_count": 137,
   "metadata": {},
   "outputs": [],
   "source": [
    "# Save the outputs in a csv file\n",
    "trips_vehicle_type.to_csv(\"trips_vehicle_type.csv\",sep=\",\")"
   ]
  },
  {
   "cell_type": "markdown",
   "metadata": {},
   "source": [
    "# Number of Trips by Origin Land Use\n",
    "The goal of this section is to get the number of trips to each employment center by the trips origin land use. The origin_land_use field have categories such as civic_institutional, education, multi_family, and single family."
   ]
  },
  {
   "cell_type": "code",
   "execution_count": 17,
   "metadata": {},
   "outputs": [],
   "source": [
    "# Group the replica dataset by destination_custom(i.e, the new employment centers) and origin_building_use fields. Then aggregate it to get the count of trips in each trip origin land use category.\n",
    "trips_origin_building_use = replica.groupby(['destination_custom','origin_building_use']).agg({'count'}).reset_index()[['destination_custom','origin_building_use', 'origin_bgrp']].rename(columns={'origin_bgrp':'trips'})"
   ]
  },
  {
   "cell_type": "code",
   "execution_count": 18,
   "metadata": {},
   "outputs": [
    {
     "data": {
      "text/plain": [
       "(1350, 3)"
      ]
     },
     "execution_count": 18,
     "metadata": {},
     "output_type": "execute_result"
    }
   ],
   "source": [
    "trips_origin_building_use.shape"
   ]
  },
  {
   "cell_type": "code",
   "execution_count": 19,
   "metadata": {},
   "outputs": [
    {
     "data": {
      "text/html": [
       "<div>\n",
       "<style scoped>\n",
       "    .dataframe tbody tr th:only-of-type {\n",
       "        vertical-align: middle;\n",
       "    }\n",
       "\n",
       "    .dataframe tbody tr th {\n",
       "        vertical-align: top;\n",
       "    }\n",
       "\n",
       "    .dataframe thead tr th {\n",
       "        text-align: left;\n",
       "    }\n",
       "</style>\n",
       "<table border=\"1\" class=\"dataframe\">\n",
       "  <thead>\n",
       "    <tr>\n",
       "      <th></th>\n",
       "      <th>destination_custom</th>\n",
       "      <th>origin_building_use</th>\n",
       "      <th>trips</th>\n",
       "    </tr>\n",
       "    <tr>\n",
       "      <th></th>\n",
       "      <th></th>\n",
       "      <th></th>\n",
       "      <th>count</th>\n",
       "    </tr>\n",
       "  </thead>\n",
       "  <tbody>\n",
       "    <tr>\n",
       "      <th>0</th>\n",
       "      <td>Alpine</td>\n",
       "      <td>civic_institutional</td>\n",
       "      <td>531</td>\n",
       "    </tr>\n",
       "    <tr>\n",
       "      <th>1</th>\n",
       "      <td>Alpine</td>\n",
       "      <td>education</td>\n",
       "      <td>1638</td>\n",
       "    </tr>\n",
       "    <tr>\n",
       "      <th>2</th>\n",
       "      <td>Alpine</td>\n",
       "      <td>healthcare</td>\n",
       "      <td>179</td>\n",
       "    </tr>\n",
       "    <tr>\n",
       "      <th>3</th>\n",
       "      <td>Alpine</td>\n",
       "      <td>industrial</td>\n",
       "      <td>322</td>\n",
       "    </tr>\n",
       "    <tr>\n",
       "      <th>4</th>\n",
       "      <td>Alpine</td>\n",
       "      <td>multi_family</td>\n",
       "      <td>1099</td>\n",
       "    </tr>\n",
       "  </tbody>\n",
       "</table>\n",
       "</div>"
      ],
      "text/plain": [
       "  destination_custom  origin_building_use trips\n",
       "                                          count\n",
       "0             Alpine  civic_institutional   531\n",
       "1             Alpine            education  1638\n",
       "2             Alpine           healthcare   179\n",
       "3             Alpine           industrial   322\n",
       "4             Alpine         multi_family  1099"
      ]
     },
     "execution_count": 19,
     "metadata": {},
     "output_type": "execute_result"
    }
   ],
   "source": [
    "trips_origin_building_use.head()"
   ]
  },
  {
   "cell_type": "code",
   "execution_count": 141,
   "metadata": {},
   "outputs": [],
   "source": [
    "# Save the outputs in a csv file\n",
    "trips_origin_building_use.to_csv(\"trips_origin_building_use.csv\",sep=\",\")"
   ]
  },
  {
   "cell_type": "markdown",
   "metadata": {},
   "source": [
    "# Number of Trips by Destination Land Use\n",
    "The goal of this section is to get the number of trips to each employment center by the trips destination land use. The destination_land_use field have categories such as civic_institutional, education, healthcare, and mixed_use. "
   ]
  },
  {
   "cell_type": "code",
   "execution_count": 20,
   "metadata": {},
   "outputs": [],
   "source": [
    "# Group the replica dataset by destination_custom(i.e, the new employment centers) and destination_land_use fields. Then aggregate it to get the count of trips in each trip destination land use category.\n",
    "trips_destination_land_use = replica.groupby(['destination_custom','destination_land_use']).agg({'count'}).reset_index()[['destination_custom','destination_land_use', 'origin_bgrp']].rename(columns={'origin_bgrp':'trips'})"
   ]
  },
  {
   "cell_type": "code",
   "execution_count": 21,
   "metadata": {},
   "outputs": [
    {
     "data": {
      "text/plain": [
       "(1150, 3)"
      ]
     },
     "execution_count": 21,
     "metadata": {},
     "output_type": "execute_result"
    }
   ],
   "source": [
    "trips_destination_land_use.shape"
   ]
  },
  {
   "cell_type": "code",
   "execution_count": 22,
   "metadata": {},
   "outputs": [
    {
     "data": {
      "text/html": [
       "<div>\n",
       "<style scoped>\n",
       "    .dataframe tbody tr th:only-of-type {\n",
       "        vertical-align: middle;\n",
       "    }\n",
       "\n",
       "    .dataframe tbody tr th {\n",
       "        vertical-align: top;\n",
       "    }\n",
       "\n",
       "    .dataframe thead tr th {\n",
       "        text-align: left;\n",
       "    }\n",
       "</style>\n",
       "<table border=\"1\" class=\"dataframe\">\n",
       "  <thead>\n",
       "    <tr>\n",
       "      <th></th>\n",
       "      <th>destination_custom</th>\n",
       "      <th>destination_land_use</th>\n",
       "      <th>trips</th>\n",
       "    </tr>\n",
       "    <tr>\n",
       "      <th></th>\n",
       "      <th></th>\n",
       "      <th></th>\n",
       "      <th>count</th>\n",
       "    </tr>\n",
       "  </thead>\n",
       "  <tbody>\n",
       "    <tr>\n",
       "      <th>0</th>\n",
       "      <td>Alpine</td>\n",
       "      <td>civic_institutional</td>\n",
       "      <td>427</td>\n",
       "    </tr>\n",
       "    <tr>\n",
       "      <th>1</th>\n",
       "      <td>Alpine</td>\n",
       "      <td>education</td>\n",
       "      <td>659</td>\n",
       "    </tr>\n",
       "    <tr>\n",
       "      <th>2</th>\n",
       "      <td>Alpine</td>\n",
       "      <td>healthcare</td>\n",
       "      <td>12</td>\n",
       "    </tr>\n",
       "    <tr>\n",
       "      <th>3</th>\n",
       "      <td>Alpine</td>\n",
       "      <td>industrial</td>\n",
       "      <td>107</td>\n",
       "    </tr>\n",
       "    <tr>\n",
       "      <th>4</th>\n",
       "      <td>Alpine</td>\n",
       "      <td>mixed_use</td>\n",
       "      <td>1661</td>\n",
       "    </tr>\n",
       "  </tbody>\n",
       "</table>\n",
       "</div>"
      ],
      "text/plain": [
       "  destination_custom destination_land_use trips\n",
       "                                          count\n",
       "0             Alpine  civic_institutional   427\n",
       "1             Alpine            education   659\n",
       "2             Alpine           healthcare    12\n",
       "3             Alpine           industrial   107\n",
       "4             Alpine            mixed_use  1661"
      ]
     },
     "execution_count": 22,
     "metadata": {},
     "output_type": "execute_result"
    }
   ],
   "source": [
    "trips_destination_land_use.head()"
   ]
  },
  {
   "cell_type": "code",
   "execution_count": 143,
   "metadata": {},
   "outputs": [],
   "source": [
    "# Save the outputs in a csv file\n",
    "trips_destination_land_use.to_csv(\"trips_destination_land_use.csv\",sep=\",\")"
   ]
  },
  {
   "cell_type": "markdown",
   "metadata": {},
   "source": [
    "# Number of Trips by Destination Building Use\n",
    "The goal of this section is to get the number of trips to each employment center by the trips destination building use. The destination_building_use field has categories such as civic_institutional, education, healthcare, and industrial. "
   ]
  },
  {
   "cell_type": "code",
   "execution_count": 23,
   "metadata": {},
   "outputs": [],
   "source": [
    "# Group the replica dataset by destination_custom(i.e, the new employment centers) and destination_building_use fields. Then aggregate it to get the count of trips in each trip destination building use category.\n",
    "trips_destination_building_use = replica.groupby(['destination_custom','destination_building_use']).agg({'count'}).reset_index()[['destination_custom','destination_building_use', 'origin_bgrp']].rename(columns={'origin_bgrp':'trips'})"
   ]
  },
  {
   "cell_type": "code",
   "execution_count": 24,
   "metadata": {},
   "outputs": [
    {
     "data": {
      "text/plain": [
       "(1151, 3)"
      ]
     },
     "execution_count": 24,
     "metadata": {},
     "output_type": "execute_result"
    }
   ],
   "source": [
    "trips_destination_building_use.shape"
   ]
  },
  {
   "cell_type": "code",
   "execution_count": 25,
   "metadata": {},
   "outputs": [
    {
     "data": {
      "text/html": [
       "<div>\n",
       "<style scoped>\n",
       "    .dataframe tbody tr th:only-of-type {\n",
       "        vertical-align: middle;\n",
       "    }\n",
       "\n",
       "    .dataframe tbody tr th {\n",
       "        vertical-align: top;\n",
       "    }\n",
       "\n",
       "    .dataframe thead tr th {\n",
       "        text-align: left;\n",
       "    }\n",
       "</style>\n",
       "<table border=\"1\" class=\"dataframe\">\n",
       "  <thead>\n",
       "    <tr>\n",
       "      <th></th>\n",
       "      <th>destination_custom</th>\n",
       "      <th>destination_building_use</th>\n",
       "      <th>trips</th>\n",
       "    </tr>\n",
       "    <tr>\n",
       "      <th></th>\n",
       "      <th></th>\n",
       "      <th></th>\n",
       "      <th>count</th>\n",
       "    </tr>\n",
       "  </thead>\n",
       "  <tbody>\n",
       "    <tr>\n",
       "      <th>0</th>\n",
       "      <td>Alpine</td>\n",
       "      <td>civic_institutional</td>\n",
       "      <td>591</td>\n",
       "    </tr>\n",
       "    <tr>\n",
       "      <th>1</th>\n",
       "      <td>Alpine</td>\n",
       "      <td>education</td>\n",
       "      <td>695</td>\n",
       "    </tr>\n",
       "    <tr>\n",
       "      <th>2</th>\n",
       "      <td>Alpine</td>\n",
       "      <td>healthcare</td>\n",
       "      <td>168</td>\n",
       "    </tr>\n",
       "    <tr>\n",
       "      <th>3</th>\n",
       "      <td>Alpine</td>\n",
       "      <td>industrial</td>\n",
       "      <td>119</td>\n",
       "    </tr>\n",
       "    <tr>\n",
       "      <th>4</th>\n",
       "      <td>Alpine</td>\n",
       "      <td>multi_family</td>\n",
       "      <td>773</td>\n",
       "    </tr>\n",
       "  </tbody>\n",
       "</table>\n",
       "</div>"
      ],
      "text/plain": [
       "  destination_custom destination_building_use trips\n",
       "                                              count\n",
       "0             Alpine      civic_institutional   591\n",
       "1             Alpine                education   695\n",
       "2             Alpine               healthcare   168\n",
       "3             Alpine               industrial   119\n",
       "4             Alpine             multi_family   773"
      ]
     },
     "execution_count": 25,
     "metadata": {},
     "output_type": "execute_result"
    }
   ],
   "source": [
    "trips_destination_building_use.head()"
   ]
  },
  {
   "cell_type": "code",
   "execution_count": 145,
   "metadata": {},
   "outputs": [],
   "source": [
    "# Save the outputs in a csv file\n",
    "trips_destination_building_use.to_csv(\"trips_destination_building_use.csv\",sep=\",\")"
   ]
  },
  {
   "cell_type": "markdown",
   "metadata": {},
   "source": [
    "# Number of Trips by Duration\n",
    "The goal of this section is to get the number of trips to each employment center by trip duratin. trip_duration_minutes field was used to create a new field called trip_duration. This filed has five categories. these categories are 0-5_min, 5-15_min, 15-30_min, 30-60_min, and 60+_min."
   ]
  },
  {
   "cell_type": "code",
   "execution_count": 26,
   "metadata": {},
   "outputs": [],
   "source": [
    "# Group the replica dataset by destination_custom(i.e, the new employment centers) and trip_duration_minutes fields. Then aggregate it to get the count of trips in each category in trip_duration_minutes field.\n",
    "trips_duration = replica.groupby(['destination_custom','trip_duration_minutes']).agg({'count'}).reset_index()[['destination_custom','trip_duration_minutes', 'origin_bgrp']].rename(columns={'origin_bgrp':'trips'})"
   ]
  },
  {
   "cell_type": "code",
   "execution_count": 27,
   "metadata": {},
   "outputs": [
    {
     "data": {
      "text/plain": [
       "(36020, 3)"
      ]
     },
     "execution_count": 27,
     "metadata": {},
     "output_type": "execute_result"
    }
   ],
   "source": [
    "trips_duration.shape"
   ]
  },
  {
   "cell_type": "code",
   "execution_count": 28,
   "metadata": {},
   "outputs": [
    {
     "data": {
      "text/html": [
       "<div>\n",
       "<style scoped>\n",
       "    .dataframe tbody tr th:only-of-type {\n",
       "        vertical-align: middle;\n",
       "    }\n",
       "\n",
       "    .dataframe tbody tr th {\n",
       "        vertical-align: top;\n",
       "    }\n",
       "\n",
       "    .dataframe thead tr th {\n",
       "        text-align: left;\n",
       "    }\n",
       "</style>\n",
       "<table border=\"1\" class=\"dataframe\">\n",
       "  <thead>\n",
       "    <tr>\n",
       "      <th></th>\n",
       "      <th>destination_custom</th>\n",
       "      <th>trip_duration_minutes</th>\n",
       "      <th>trips</th>\n",
       "    </tr>\n",
       "    <tr>\n",
       "      <th></th>\n",
       "      <th></th>\n",
       "      <th></th>\n",
       "      <th>count</th>\n",
       "    </tr>\n",
       "  </thead>\n",
       "  <tbody>\n",
       "    <tr>\n",
       "      <th>0</th>\n",
       "      <td>Alpine</td>\n",
       "      <td>0</td>\n",
       "      <td>988</td>\n",
       "    </tr>\n",
       "    <tr>\n",
       "      <th>1</th>\n",
       "      <td>Alpine</td>\n",
       "      <td>1</td>\n",
       "      <td>1446</td>\n",
       "    </tr>\n",
       "    <tr>\n",
       "      <th>2</th>\n",
       "      <td>Alpine</td>\n",
       "      <td>2</td>\n",
       "      <td>1547</td>\n",
       "    </tr>\n",
       "    <tr>\n",
       "      <th>3</th>\n",
       "      <td>Alpine</td>\n",
       "      <td>3</td>\n",
       "      <td>1466</td>\n",
       "    </tr>\n",
       "    <tr>\n",
       "      <th>4</th>\n",
       "      <td>Alpine</td>\n",
       "      <td>4</td>\n",
       "      <td>1138</td>\n",
       "    </tr>\n",
       "  </tbody>\n",
       "</table>\n",
       "</div>"
      ],
      "text/plain": [
       "  destination_custom trip_duration_minutes trips\n",
       "                                           count\n",
       "0             Alpine                     0   988\n",
       "1             Alpine                     1  1446\n",
       "2             Alpine                     2  1547\n",
       "3             Alpine                     3  1466\n",
       "4             Alpine                     4  1138"
      ]
     },
     "execution_count": 28,
     "metadata": {},
     "output_type": "execute_result"
    }
   ],
   "source": [
    "trips_duration.head()"
   ]
  },
  {
   "cell_type": "code",
   "execution_count": 29,
   "metadata": {},
   "outputs": [],
   "source": [
    "trips_duration['trip_duration_minutes'] = trips_duration['trip_duration_minutes'].replace(0,1)"
   ]
  },
  {
   "cell_type": "code",
   "execution_count": 30,
   "metadata": {},
   "outputs": [],
   "source": [
    "#trip_duration_minutes field was used to create a new field called trip_duration. This filed has five categories. these categories are 0-5_min, 5-15_min, 15-30_min, 30-60_min, and 60+_min.\n",
    "trips_duration['trip_duration'] = pd.cut(x=trips_duration['trip_duration_minutes'], bins=[0,5,15,30,60,np.inf], labels=['0-5_min', '5-15_min', '15-30_min','30-60_min','60+_min'], ordered =True)"
   ]
  },
  {
   "cell_type": "code",
   "execution_count": 31,
   "metadata": {},
   "outputs": [
    {
     "data": {
      "text/html": [
       "<div>\n",
       "<style scoped>\n",
       "    .dataframe tbody tr th:only-of-type {\n",
       "        vertical-align: middle;\n",
       "    }\n",
       "\n",
       "    .dataframe tbody tr th {\n",
       "        vertical-align: top;\n",
       "    }\n",
       "\n",
       "    .dataframe thead tr th {\n",
       "        text-align: left;\n",
       "    }\n",
       "</style>\n",
       "<table border=\"1\" class=\"dataframe\">\n",
       "  <thead>\n",
       "    <tr>\n",
       "      <th></th>\n",
       "      <th>destination_custom</th>\n",
       "      <th>trip_duration_minutes</th>\n",
       "      <th>trips</th>\n",
       "      <th>trip_duration</th>\n",
       "    </tr>\n",
       "    <tr>\n",
       "      <th></th>\n",
       "      <th></th>\n",
       "      <th></th>\n",
       "      <th>count</th>\n",
       "      <th></th>\n",
       "    </tr>\n",
       "  </thead>\n",
       "  <tbody>\n",
       "    <tr>\n",
       "      <th>0</th>\n",
       "      <td>Alpine</td>\n",
       "      <td>1</td>\n",
       "      <td>988</td>\n",
       "      <td>0-5_min</td>\n",
       "    </tr>\n",
       "    <tr>\n",
       "      <th>1</th>\n",
       "      <td>Alpine</td>\n",
       "      <td>1</td>\n",
       "      <td>1446</td>\n",
       "      <td>0-5_min</td>\n",
       "    </tr>\n",
       "    <tr>\n",
       "      <th>2</th>\n",
       "      <td>Alpine</td>\n",
       "      <td>2</td>\n",
       "      <td>1547</td>\n",
       "      <td>0-5_min</td>\n",
       "    </tr>\n",
       "    <tr>\n",
       "      <th>3</th>\n",
       "      <td>Alpine</td>\n",
       "      <td>3</td>\n",
       "      <td>1466</td>\n",
       "      <td>0-5_min</td>\n",
       "    </tr>\n",
       "    <tr>\n",
       "      <th>4</th>\n",
       "      <td>Alpine</td>\n",
       "      <td>4</td>\n",
       "      <td>1138</td>\n",
       "      <td>0-5_min</td>\n",
       "    </tr>\n",
       "  </tbody>\n",
       "</table>\n",
       "</div>"
      ],
      "text/plain": [
       "  destination_custom trip_duration_minutes trips trip_duration\n",
       "                                           count              \n",
       "0             Alpine                     1   988       0-5_min\n",
       "1             Alpine                     1  1446       0-5_min\n",
       "2             Alpine                     2  1547       0-5_min\n",
       "3             Alpine                     3  1466       0-5_min\n",
       "4             Alpine                     4  1138       0-5_min"
      ]
     },
     "execution_count": 31,
     "metadata": {},
     "output_type": "execute_result"
    }
   ],
   "source": [
    "trips_duration.head()"
   ]
  },
  {
   "cell_type": "code",
   "execution_count": 32,
   "metadata": {},
   "outputs": [],
   "source": [
    "trips_duration = trips_duration.drop(columns='trip_duration_minutes')"
   ]
  },
  {
   "cell_type": "code",
   "execution_count": 33,
   "metadata": {},
   "outputs": [],
   "source": [
    "trips_duration = trips_duration.groupby(['destination_custom','trip_duration']).agg({'sum'}) "
   ]
  },
  {
   "cell_type": "code",
   "execution_count": 36,
   "metadata": {},
   "outputs": [
    {
     "data": {
      "text/html": [
       "<div>\n",
       "<style scoped>\n",
       "    .dataframe tbody tr th:only-of-type {\n",
       "        vertical-align: middle;\n",
       "    }\n",
       "\n",
       "    .dataframe tbody tr th {\n",
       "        vertical-align: top;\n",
       "    }\n",
       "\n",
       "    .dataframe thead tr th {\n",
       "        text-align: left;\n",
       "    }\n",
       "\n",
       "    .dataframe thead tr:last-of-type th {\n",
       "        text-align: right;\n",
       "    }\n",
       "</style>\n",
       "<table border=\"1\" class=\"dataframe\">\n",
       "  <thead>\n",
       "    <tr>\n",
       "      <th></th>\n",
       "      <th></th>\n",
       "      <th>trips</th>\n",
       "    </tr>\n",
       "    <tr>\n",
       "      <th></th>\n",
       "      <th></th>\n",
       "      <th>count</th>\n",
       "    </tr>\n",
       "    <tr>\n",
       "      <th></th>\n",
       "      <th></th>\n",
       "      <th>sum</th>\n",
       "    </tr>\n",
       "    <tr>\n",
       "      <th>destination_custom</th>\n",
       "      <th>trip_duration</th>\n",
       "      <th></th>\n",
       "    </tr>\n",
       "  </thead>\n",
       "  <tbody>\n",
       "    <tr>\n",
       "      <th rowspan=\"5\" valign=\"top\">Alpine</th>\n",
       "      <th>0-5_min</th>\n",
       "      <td>7562</td>\n",
       "    </tr>\n",
       "    <tr>\n",
       "      <th>5-15_min</th>\n",
       "      <td>6021</td>\n",
       "    </tr>\n",
       "    <tr>\n",
       "      <th>15-30_min</th>\n",
       "      <td>5303</td>\n",
       "    </tr>\n",
       "    <tr>\n",
       "      <th>30-60_min</th>\n",
       "      <td>3409</td>\n",
       "    </tr>\n",
       "    <tr>\n",
       "      <th>60+_min</th>\n",
       "      <td>796</td>\n",
       "    </tr>\n",
       "    <tr>\n",
       "      <th rowspan=\"5\" valign=\"top\">Balboa Park</th>\n",
       "      <th>0-5_min</th>\n",
       "      <td>5879</td>\n",
       "    </tr>\n",
       "    <tr>\n",
       "      <th>5-15_min</th>\n",
       "      <td>9181</td>\n",
       "    </tr>\n",
       "    <tr>\n",
       "      <th>15-30_min</th>\n",
       "      <td>7339</td>\n",
       "    </tr>\n",
       "    <tr>\n",
       "      <th>30-60_min</th>\n",
       "      <td>2665</td>\n",
       "    </tr>\n",
       "    <tr>\n",
       "      <th>60+_min</th>\n",
       "      <td>1395</td>\n",
       "    </tr>\n",
       "  </tbody>\n",
       "</table>\n",
       "</div>"
      ],
      "text/plain": [
       "                                 trips\n",
       "                                 count\n",
       "                                   sum\n",
       "destination_custom trip_duration      \n",
       "Alpine             0-5_min        7562\n",
       "                   5-15_min       6021\n",
       "                   15-30_min      5303\n",
       "                   30-60_min      3409\n",
       "                   60+_min         796\n",
       "Balboa Park        0-5_min        5879\n",
       "                   5-15_min       9181\n",
       "                   15-30_min      7339\n",
       "                   30-60_min      2665\n",
       "                   60+_min        1395"
      ]
     },
     "execution_count": 36,
     "metadata": {},
     "output_type": "execute_result"
    }
   ],
   "source": [
    "trips_duration.head(10)"
   ]
  },
  {
   "cell_type": "code",
   "execution_count": 26,
   "metadata": {},
   "outputs": [],
   "source": [
    "# Save the outputs in a csv file\n",
    "trips_duration.to_csv(\"trips_duration.csv\", sep = \",\")"
   ]
  },
  {
   "cell_type": "markdown",
   "metadata": {},
   "source": [
    "# Number of Trips by Distance\n",
    "The goal of this section is to get the number of trips to each employment center by trip distance in miles. trip_distance_miles field was used to create a new fiel called trip_distance. This filed has six categories. these categories are less_than_1_mile, 1-2_miles, 2-5_miles, 5-10_miles, 10-25_miles, and 25+_miles."
   ]
  },
  {
   "cell_type": "code",
   "execution_count": 37,
   "metadata": {},
   "outputs": [],
   "source": [
    "# Group the replica dataset by destination_custom(i.e, the new employment centers) and trip_distance_miles fields. Then aggregate it to get the count of trips in each category in trip_distance_miles field.\n",
    "trips_distance = replica.groupby(['destination_custom','trip_distance_miles']).agg({'count'}).reset_index()[['destination_custom','trip_distance_miles', 'origin_bgrp']].rename(columns={'origin_bgrp':'trips'})"
   ]
  },
  {
   "cell_type": "code",
   "execution_count": 38,
   "metadata": {},
   "outputs": [
    {
     "data": {
      "text/plain": [
       "(137596, 3)"
      ]
     },
     "execution_count": 38,
     "metadata": {},
     "output_type": "execute_result"
    }
   ],
   "source": [
    "trips_distance.shape"
   ]
  },
  {
   "cell_type": "code",
   "execution_count": 39,
   "metadata": {},
   "outputs": [
    {
     "data": {
      "text/html": [
       "<div>\n",
       "<style scoped>\n",
       "    .dataframe tbody tr th:only-of-type {\n",
       "        vertical-align: middle;\n",
       "    }\n",
       "\n",
       "    .dataframe tbody tr th {\n",
       "        vertical-align: top;\n",
       "    }\n",
       "\n",
       "    .dataframe thead tr th {\n",
       "        text-align: left;\n",
       "    }\n",
       "</style>\n",
       "<table border=\"1\" class=\"dataframe\">\n",
       "  <thead>\n",
       "    <tr>\n",
       "      <th></th>\n",
       "      <th>destination_custom</th>\n",
       "      <th>trip_distance_miles</th>\n",
       "      <th>trips</th>\n",
       "    </tr>\n",
       "    <tr>\n",
       "      <th></th>\n",
       "      <th></th>\n",
       "      <th></th>\n",
       "      <th>count</th>\n",
       "    </tr>\n",
       "  </thead>\n",
       "  <tbody>\n",
       "    <tr>\n",
       "      <th>0</th>\n",
       "      <td>Alpine</td>\n",
       "      <td>0.0</td>\n",
       "      <td>508</td>\n",
       "    </tr>\n",
       "    <tr>\n",
       "      <th>1</th>\n",
       "      <td>Alpine</td>\n",
       "      <td>0.1</td>\n",
       "      <td>602</td>\n",
       "    </tr>\n",
       "    <tr>\n",
       "      <th>2</th>\n",
       "      <td>Alpine</td>\n",
       "      <td>0.2</td>\n",
       "      <td>413</td>\n",
       "    </tr>\n",
       "    <tr>\n",
       "      <th>3</th>\n",
       "      <td>Alpine</td>\n",
       "      <td>0.3</td>\n",
       "      <td>419</td>\n",
       "    </tr>\n",
       "    <tr>\n",
       "      <th>4</th>\n",
       "      <td>Alpine</td>\n",
       "      <td>0.4</td>\n",
       "      <td>450</td>\n",
       "    </tr>\n",
       "  </tbody>\n",
       "</table>\n",
       "</div>"
      ],
      "text/plain": [
       "  destination_custom trip_distance_miles trips\n",
       "                                         count\n",
       "0             Alpine                 0.0   508\n",
       "1             Alpine                 0.1   602\n",
       "2             Alpine                 0.2   413\n",
       "3             Alpine                 0.3   419\n",
       "4             Alpine                 0.4   450"
      ]
     },
     "execution_count": 39,
     "metadata": {},
     "output_type": "execute_result"
    }
   ],
   "source": [
    "trips_distance.head()"
   ]
  },
  {
   "cell_type": "code",
   "execution_count": 40,
   "metadata": {},
   "outputs": [],
   "source": [
    "trips_distance['trip_distance_miles'] = trips_distance['trip_distance_miles'].replace(0.0,0.1)"
   ]
  },
  {
   "cell_type": "code",
   "execution_count": 41,
   "metadata": {},
   "outputs": [],
   "source": [
    "#trip_distance_miles field was used to create a new fiel called trip_distance. This filed has six categories. these categories are are less_than_1_mile, 1-2_miles, 2-5_miles, 5-10_miles, 10-25_miles, and 25+_miles.\n",
    "trips_distance['trip_distance'] = pd.cut(x=trips_distance['trip_distance_miles'], bins=[0,1,2,5,10,25,np.inf], labels=['less_than_1_mile','1-2_miles','2-5_miles','5-10_miles','10-25_miles','25+_miles'], ordered =True )"
   ]
  },
  {
   "cell_type": "code",
   "execution_count": 42,
   "metadata": {},
   "outputs": [
    {
     "data": {
      "text/html": [
       "<div>\n",
       "<style scoped>\n",
       "    .dataframe tbody tr th:only-of-type {\n",
       "        vertical-align: middle;\n",
       "    }\n",
       "\n",
       "    .dataframe tbody tr th {\n",
       "        vertical-align: top;\n",
       "    }\n",
       "\n",
       "    .dataframe thead tr th {\n",
       "        text-align: left;\n",
       "    }\n",
       "</style>\n",
       "<table border=\"1\" class=\"dataframe\">\n",
       "  <thead>\n",
       "    <tr>\n",
       "      <th></th>\n",
       "      <th>destination_custom</th>\n",
       "      <th>trip_distance_miles</th>\n",
       "      <th>trips</th>\n",
       "      <th>trip_distance</th>\n",
       "    </tr>\n",
       "    <tr>\n",
       "      <th></th>\n",
       "      <th></th>\n",
       "      <th></th>\n",
       "      <th>count</th>\n",
       "      <th></th>\n",
       "    </tr>\n",
       "  </thead>\n",
       "  <tbody>\n",
       "    <tr>\n",
       "      <th>0</th>\n",
       "      <td>Alpine</td>\n",
       "      <td>0.1</td>\n",
       "      <td>508</td>\n",
       "      <td>less_than_1_mile</td>\n",
       "    </tr>\n",
       "    <tr>\n",
       "      <th>1</th>\n",
       "      <td>Alpine</td>\n",
       "      <td>0.1</td>\n",
       "      <td>602</td>\n",
       "      <td>less_than_1_mile</td>\n",
       "    </tr>\n",
       "    <tr>\n",
       "      <th>2</th>\n",
       "      <td>Alpine</td>\n",
       "      <td>0.2</td>\n",
       "      <td>413</td>\n",
       "      <td>less_than_1_mile</td>\n",
       "    </tr>\n",
       "    <tr>\n",
       "      <th>3</th>\n",
       "      <td>Alpine</td>\n",
       "      <td>0.3</td>\n",
       "      <td>419</td>\n",
       "      <td>less_than_1_mile</td>\n",
       "    </tr>\n",
       "    <tr>\n",
       "      <th>4</th>\n",
       "      <td>Alpine</td>\n",
       "      <td>0.4</td>\n",
       "      <td>450</td>\n",
       "      <td>less_than_1_mile</td>\n",
       "    </tr>\n",
       "  </tbody>\n",
       "</table>\n",
       "</div>"
      ],
      "text/plain": [
       "  destination_custom trip_distance_miles trips     trip_distance\n",
       "                                         count                  \n",
       "0             Alpine                 0.1   508  less_than_1_mile\n",
       "1             Alpine                 0.1   602  less_than_1_mile\n",
       "2             Alpine                 0.2   413  less_than_1_mile\n",
       "3             Alpine                 0.3   419  less_than_1_mile\n",
       "4             Alpine                 0.4   450  less_than_1_mile"
      ]
     },
     "execution_count": 42,
     "metadata": {},
     "output_type": "execute_result"
    }
   ],
   "source": [
    "trips_distance.head()"
   ]
  },
  {
   "cell_type": "code",
   "execution_count": 43,
   "metadata": {},
   "outputs": [],
   "source": [
    "trips_distance = trips_distance.drop(columns='trip_distance_miles')"
   ]
  },
  {
   "cell_type": "code",
   "execution_count": 44,
   "metadata": {},
   "outputs": [],
   "source": [
    "trips_distance = trips_distance.groupby(['destination_custom','trip_distance']).agg({'sum'})"
   ]
  },
  {
   "cell_type": "code",
   "execution_count": 45,
   "metadata": {},
   "outputs": [
    {
     "data": {
      "text/html": [
       "<div>\n",
       "<style scoped>\n",
       "    .dataframe tbody tr th:only-of-type {\n",
       "        vertical-align: middle;\n",
       "    }\n",
       "\n",
       "    .dataframe tbody tr th {\n",
       "        vertical-align: top;\n",
       "    }\n",
       "\n",
       "    .dataframe thead tr th {\n",
       "        text-align: left;\n",
       "    }\n",
       "\n",
       "    .dataframe thead tr:last-of-type th {\n",
       "        text-align: right;\n",
       "    }\n",
       "</style>\n",
       "<table border=\"1\" class=\"dataframe\">\n",
       "  <thead>\n",
       "    <tr>\n",
       "      <th></th>\n",
       "      <th></th>\n",
       "      <th>trips</th>\n",
       "    </tr>\n",
       "    <tr>\n",
       "      <th></th>\n",
       "      <th></th>\n",
       "      <th>count</th>\n",
       "    </tr>\n",
       "    <tr>\n",
       "      <th></th>\n",
       "      <th></th>\n",
       "      <th>sum</th>\n",
       "    </tr>\n",
       "    <tr>\n",
       "      <th>destination_custom</th>\n",
       "      <th>trip_distance</th>\n",
       "      <th></th>\n",
       "    </tr>\n",
       "  </thead>\n",
       "  <tbody>\n",
       "    <tr>\n",
       "      <th rowspan=\"6\" valign=\"top\">Alpine</th>\n",
       "      <th>less_than_1_mile</th>\n",
       "      <td>4687</td>\n",
       "    </tr>\n",
       "    <tr>\n",
       "      <th>1-2_miles</th>\n",
       "      <td>2772</td>\n",
       "    </tr>\n",
       "    <tr>\n",
       "      <th>2-5_miles</th>\n",
       "      <td>2890</td>\n",
       "    </tr>\n",
       "    <tr>\n",
       "      <th>5-10_miles</th>\n",
       "      <td>2143</td>\n",
       "    </tr>\n",
       "    <tr>\n",
       "      <th>10-25_miles</th>\n",
       "      <td>6301</td>\n",
       "    </tr>\n",
       "    <tr>\n",
       "      <th>25+_miles</th>\n",
       "      <td>4298</td>\n",
       "    </tr>\n",
       "    <tr>\n",
       "      <th rowspan=\"6\" valign=\"top\">Balboa Park</th>\n",
       "      <th>less_than_1_mile</th>\n",
       "      <td>4726</td>\n",
       "    </tr>\n",
       "    <tr>\n",
       "      <th>1-2_miles</th>\n",
       "      <td>1735</td>\n",
       "    </tr>\n",
       "    <tr>\n",
       "      <th>2-5_miles</th>\n",
       "      <td>5469</td>\n",
       "    </tr>\n",
       "    <tr>\n",
       "      <th>5-10_miles</th>\n",
       "      <td>5093</td>\n",
       "    </tr>\n",
       "    <tr>\n",
       "      <th>10-25_miles</th>\n",
       "      <td>6412</td>\n",
       "    </tr>\n",
       "    <tr>\n",
       "      <th>25+_miles</th>\n",
       "      <td>3024</td>\n",
       "    </tr>\n",
       "  </tbody>\n",
       "</table>\n",
       "</div>"
      ],
      "text/plain": [
       "                                    trips\n",
       "                                    count\n",
       "                                      sum\n",
       "destination_custom trip_distance         \n",
       "Alpine             less_than_1_mile  4687\n",
       "                   1-2_miles         2772\n",
       "                   2-5_miles         2890\n",
       "                   5-10_miles        2143\n",
       "                   10-25_miles       6301\n",
       "                   25+_miles         4298\n",
       "Balboa Park        less_than_1_mile  4726\n",
       "                   1-2_miles         1735\n",
       "                   2-5_miles         5469\n",
       "                   5-10_miles        5093\n",
       "                   10-25_miles       6412\n",
       "                   25+_miles         3024"
      ]
     },
     "execution_count": 45,
     "metadata": {},
     "output_type": "execute_result"
    }
   ],
   "source": [
    "trips_distance.head(12)"
   ]
  },
  {
   "cell_type": "code",
   "execution_count": 26,
   "metadata": {},
   "outputs": [],
   "source": [
    "# Save the outputs in a csv file \n",
    "trips_distance.to_csv(\"trips_distance.csv\",sep=\",\")"
   ]
  },
  {
   "cell_type": "markdown",
   "metadata": {},
   "source": [
    "# Number of Trips by Block Groups\n",
    "The goal of this section is to get the number of trips to each employment center from each block group. "
   ]
  },
  {
   "cell_type": "code",
   "execution_count": 46,
   "metadata": {},
   "outputs": [
    {
     "data": {
      "text/plain": [
       "(7557621, 37)"
      ]
     },
     "execution_count": 46,
     "metadata": {},
     "output_type": "execute_result"
    }
   ],
   "source": [
    "replica_2.shape"
   ]
  },
  {
   "cell_type": "code",
   "execution_count": 47,
   "metadata": {},
   "outputs": [],
   "source": [
    "# Group the replica_2 dataset by destination_custom(i.e, the new employment centers) and origin_bgrp fields. Then aggregate it to get the count of trips from each block groups to the employment centers.\n",
    "trips_bgrp_to_EC = replica_2.groupby(['origin_bgrp','destination_custom']).agg({'count'}).reset_index()[['origin_bgrp','destination_custom','origin_cty']].rename(columns={'origin_cty':'trips'})"
   ]
  },
  {
   "cell_type": "code",
   "execution_count": 48,
   "metadata": {},
   "outputs": [
    {
     "data": {
      "text/plain": [
       "(218271, 3)"
      ]
     },
     "execution_count": 48,
     "metadata": {},
     "output_type": "execute_result"
    }
   ],
   "source": [
    "trips_bgrp_to_EC.shape"
   ]
  },
  {
   "cell_type": "code",
   "execution_count": 49,
   "metadata": {},
   "outputs": [
    {
     "data": {
      "text/html": [
       "<div>\n",
       "<style scoped>\n",
       "    .dataframe tbody tr th:only-of-type {\n",
       "        vertical-align: middle;\n",
       "    }\n",
       "\n",
       "    .dataframe tbody tr th {\n",
       "        vertical-align: top;\n",
       "    }\n",
       "\n",
       "    .dataframe thead tr th {\n",
       "        text-align: left;\n",
       "    }\n",
       "</style>\n",
       "<table border=\"1\" class=\"dataframe\">\n",
       "  <thead>\n",
       "    <tr>\n",
       "      <th></th>\n",
       "      <th>origin_bgrp</th>\n",
       "      <th>destination_custom</th>\n",
       "      <th>trips</th>\n",
       "    </tr>\n",
       "    <tr>\n",
       "      <th></th>\n",
       "      <th></th>\n",
       "      <th></th>\n",
       "      <th>count</th>\n",
       "    </tr>\n",
       "  </thead>\n",
       "  <tbody>\n",
       "    <tr>\n",
       "      <th>0</th>\n",
       "      <td>0 (Tract 5766.02, Los Angeles, CA)</td>\n",
       "      <td>Oceanside Civic Center</td>\n",
       "      <td>1</td>\n",
       "    </tr>\n",
       "    <tr>\n",
       "      <th>1</th>\n",
       "      <td>0 (Tract 5766.02, Los Angeles, CA)</td>\n",
       "      <td>Otay Mesa East</td>\n",
       "      <td>1</td>\n",
       "    </tr>\n",
       "    <tr>\n",
       "      <th>2</th>\n",
       "      <td>0 (Tract 9901, San Diego, CA)</td>\n",
       "      <td>Carlsbad Village</td>\n",
       "      <td>1</td>\n",
       "    </tr>\n",
       "    <tr>\n",
       "      <th>3</th>\n",
       "      <td>0 (Tract 9901, San Diego, CA)</td>\n",
       "      <td>Chula Vista Northwest</td>\n",
       "      <td>1</td>\n",
       "    </tr>\n",
       "    <tr>\n",
       "      <th>4</th>\n",
       "      <td>0 (Tract 9901, San Diego, CA)</td>\n",
       "      <td>Chula Vista Otay</td>\n",
       "      <td>1</td>\n",
       "    </tr>\n",
       "  </tbody>\n",
       "</table>\n",
       "</div>"
      ],
      "text/plain": [
       "                          origin_bgrp      destination_custom trips\n",
       "                                                              count\n",
       "0  0 (Tract 5766.02, Los Angeles, CA)  Oceanside Civic Center     1\n",
       "1  0 (Tract 5766.02, Los Angeles, CA)          Otay Mesa East     1\n",
       "2       0 (Tract 9901, San Diego, CA)        Carlsbad Village     1\n",
       "3       0 (Tract 9901, San Diego, CA)   Chula Vista Northwest     1\n",
       "4       0 (Tract 9901, San Diego, CA)        Chula Vista Otay     1"
      ]
     },
     "execution_count": 49,
     "metadata": {},
     "output_type": "execute_result"
    }
   ],
   "source": [
    "trips_bgrp_to_EC.head()"
   ]
  },
  {
   "cell_type": "code",
   "execution_count": 50,
   "metadata": {},
   "outputs": [],
   "source": [
    "trips_bgrp_to_EC = trips_bgrp_to_EC.sort_values(by=['destination_custom'])"
   ]
  },
  {
   "cell_type": "code",
   "execution_count": 51,
   "metadata": {},
   "outputs": [
    {
     "data": {
      "text/html": [
       "<div>\n",
       "<style scoped>\n",
       "    .dataframe tbody tr th:only-of-type {\n",
       "        vertical-align: middle;\n",
       "    }\n",
       "\n",
       "    .dataframe tbody tr th {\n",
       "        vertical-align: top;\n",
       "    }\n",
       "\n",
       "    .dataframe thead tr th {\n",
       "        text-align: left;\n",
       "    }\n",
       "</style>\n",
       "<table border=\"1\" class=\"dataframe\">\n",
       "  <thead>\n",
       "    <tr>\n",
       "      <th></th>\n",
       "      <th>origin_bgrp</th>\n",
       "      <th>destination_custom</th>\n",
       "      <th>trips</th>\n",
       "    </tr>\n",
       "    <tr>\n",
       "      <th></th>\n",
       "      <th></th>\n",
       "      <th></th>\n",
       "      <th>count</th>\n",
       "    </tr>\n",
       "  </thead>\n",
       "  <tbody>\n",
       "    <tr>\n",
       "      <th>14228</th>\n",
       "      <td>1 (Tract 153.01, San Diego, CA)</td>\n",
       "      <td>Alpine</td>\n",
       "      <td>16</td>\n",
       "    </tr>\n",
       "    <tr>\n",
       "      <th>44281</th>\n",
       "      <td>1 (Tract 32.09, San Diego, CA)</td>\n",
       "      <td>Alpine</td>\n",
       "      <td>8</td>\n",
       "    </tr>\n",
       "    <tr>\n",
       "      <th>86384</th>\n",
       "      <td>2 (Tract 117, San Diego, CA)</td>\n",
       "      <td>Alpine</td>\n",
       "      <td>2</td>\n",
       "    </tr>\n",
       "    <tr>\n",
       "      <th>13611</th>\n",
       "      <td>1 (Tract 149.02, San Diego, CA)</td>\n",
       "      <td>Alpine</td>\n",
       "      <td>82</td>\n",
       "    </tr>\n",
       "    <tr>\n",
       "      <th>86351</th>\n",
       "      <td>2 (Tract 117, Imperial, CA)</td>\n",
       "      <td>Alpine</td>\n",
       "      <td>6</td>\n",
       "    </tr>\n",
       "  </tbody>\n",
       "</table>\n",
       "</div>"
      ],
      "text/plain": [
       "                           origin_bgrp destination_custom trips\n",
       "                                                          count\n",
       "14228  1 (Tract 153.01, San Diego, CA)             Alpine    16\n",
       "44281   1 (Tract 32.09, San Diego, CA)             Alpine     8\n",
       "86384     2 (Tract 117, San Diego, CA)             Alpine     2\n",
       "13611  1 (Tract 149.02, San Diego, CA)             Alpine    82\n",
       "86351      2 (Tract 117, Imperial, CA)             Alpine     6"
      ]
     },
     "execution_count": 51,
     "metadata": {},
     "output_type": "execute_result"
    }
   ],
   "source": [
    "trips_bgrp_to_EC.head()"
   ]
  },
  {
   "cell_type": "code",
   "execution_count": 52,
   "metadata": {},
   "outputs": [
    {
     "data": {
      "text/plain": [
       "(218271, 3)"
      ]
     },
     "execution_count": 52,
     "metadata": {},
     "output_type": "execute_result"
    }
   ],
   "source": [
    "trips_bgrp_to_EC.shape"
   ]
  },
  {
   "cell_type": "code",
   "execution_count": 66,
   "metadata": {},
   "outputs": [],
   "source": [
    "# Save the outputs in a csv file\n",
    "trips_bgrp_to_EC.to_csv(\"trips_bgrp_to_EC.csv\",sep=\",\")"
   ]
  }
 ],
 "metadata": {
  "interpreter": {
   "hash": "6db16e9940ad839c1e288012a4d7b04c8c55c67646ae73b178066b197eb654ea"
  },
  "kernelspec": {
   "display_name": "Python 3 (ipykernel)",
   "language": "python",
   "name": "python3"
  },
  "language_info": {
   "codemirror_mode": {
    "name": "ipython",
    "version": 3
   },
   "file_extension": ".py",
   "mimetype": "text/x-python",
   "name": "python",
   "nbconvert_exporter": "python",
   "pygments_lexer": "ipython3",
   "version": "3.10.6"
  }
 },
 "nbformat": 4,
 "nbformat_minor": 4
}
