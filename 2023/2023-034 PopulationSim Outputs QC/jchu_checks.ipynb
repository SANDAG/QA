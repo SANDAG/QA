{
 "cells": [
  {
   "cell_type": "code",
   "execution_count": 1,
   "id": "d1d4ffd5",
   "metadata": {},
   "outputs": [],
   "source": [
    "import numpy as np\n",
    "import pandas as pd\n",
    "import dask.dataframe as dd\n",
    "import dask.array as da\n",
    "import dask.bag as db\n",
    "import matplotlib as plt"
   ]
  },
  {
   "cell_type": "code",
   "execution_count": 2,
   "id": "40e99633",
   "metadata": {},
   "outputs": [
    {
     "name": "stdout",
     "output_type": "stream",
     "text": [
      "(3282404, 17)\n"
     ]
    },
    {
     "data": {
      "text/html": [
       "<div>\n",
       "<style scoped>\n",
       "    .dataframe tbody tr th:only-of-type {\n",
       "        vertical-align: middle;\n",
       "    }\n",
       "\n",
       "    .dataframe tbody tr th {\n",
       "        vertical-align: top;\n",
       "    }\n",
       "\n",
       "    .dataframe thead th {\n",
       "        text-align: right;\n",
       "    }\n",
       "</style>\n",
       "<table border=\"1\" class=\"dataframe\">\n",
       "  <thead>\n",
       "    <tr style=\"text-align: right;\">\n",
       "      <th></th>\n",
       "      <th>mgra</th>\n",
       "      <th>household_id</th>\n",
       "      <th>SPORDER</th>\n",
       "      <th>AGEP</th>\n",
       "      <th>SEX</th>\n",
       "      <th>ESR</th>\n",
       "      <th>COW</th>\n",
       "      <th>WKHP</th>\n",
       "      <th>SCHG</th>\n",
       "      <th>RAC1P</th>\n",
       "      <th>HISP</th>\n",
       "      <th>MIL</th>\n",
       "      <th>SCHL</th>\n",
       "      <th>OCCP</th>\n",
       "      <th>WKW</th>\n",
       "      <th>NAICS2</th>\n",
       "      <th>SOC2</th>\n",
       "    </tr>\n",
       "  </thead>\n",
       "  <tbody>\n",
       "    <tr>\n",
       "      <th>0</th>\n",
       "      <td>57</td>\n",
       "      <td>1</td>\n",
       "      <td>1</td>\n",
       "      <td>64</td>\n",
       "      <td>2</td>\n",
       "      <td>1.0</td>\n",
       "      <td>2.0</td>\n",
       "      <td>15.0</td>\n",
       "      <td>0</td>\n",
       "      <td>9</td>\n",
       "      <td>23</td>\n",
       "      <td>4.0</td>\n",
       "      <td>21.0</td>\n",
       "      <td>2050.0</td>\n",
       "      <td>1.0</td>\n",
       "      <td>81</td>\n",
       "      <td>21</td>\n",
       "    </tr>\n",
       "    <tr>\n",
       "      <th>1</th>\n",
       "      <td>57</td>\n",
       "      <td>1</td>\n",
       "      <td>2</td>\n",
       "      <td>29</td>\n",
       "      <td>1</td>\n",
       "      <td>1.0</td>\n",
       "      <td>1.0</td>\n",
       "      <td>40.0</td>\n",
       "      <td>0</td>\n",
       "      <td>9</td>\n",
       "      <td>3</td>\n",
       "      <td>4.0</td>\n",
       "      <td>19.0</td>\n",
       "      <td>4700.0</td>\n",
       "      <td>1.0</td>\n",
       "      <td>44</td>\n",
       "      <td>41</td>\n",
       "    </tr>\n",
       "    <tr>\n",
       "      <th>2</th>\n",
       "      <td>57</td>\n",
       "      <td>1</td>\n",
       "      <td>3</td>\n",
       "      <td>62</td>\n",
       "      <td>2</td>\n",
       "      <td>6.0</td>\n",
       "      <td>0.0</td>\n",
       "      <td>0.0</td>\n",
       "      <td>0</td>\n",
       "      <td>9</td>\n",
       "      <td>23</td>\n",
       "      <td>4.0</td>\n",
       "      <td>19.0</td>\n",
       "      <td>0.0</td>\n",
       "      <td>0.0</td>\n",
       "      <td>0</td>\n",
       "      <td>0</td>\n",
       "    </tr>\n",
       "    <tr>\n",
       "      <th>3</th>\n",
       "      <td>57</td>\n",
       "      <td>2</td>\n",
       "      <td>1</td>\n",
       "      <td>64</td>\n",
       "      <td>2</td>\n",
       "      <td>6.0</td>\n",
       "      <td>0.0</td>\n",
       "      <td>0.0</td>\n",
       "      <td>0</td>\n",
       "      <td>1</td>\n",
       "      <td>1</td>\n",
       "      <td>4.0</td>\n",
       "      <td>19.0</td>\n",
       "      <td>0.0</td>\n",
       "      <td>0.0</td>\n",
       "      <td>0</td>\n",
       "      <td>0</td>\n",
       "    </tr>\n",
       "    <tr>\n",
       "      <th>4</th>\n",
       "      <td>57</td>\n",
       "      <td>3</td>\n",
       "      <td>1</td>\n",
       "      <td>56</td>\n",
       "      <td>2</td>\n",
       "      <td>1.0</td>\n",
       "      <td>6.0</td>\n",
       "      <td>30.0</td>\n",
       "      <td>0</td>\n",
       "      <td>1</td>\n",
       "      <td>2</td>\n",
       "      <td>4.0</td>\n",
       "      <td>1.0</td>\n",
       "      <td>4230.0</td>\n",
       "      <td>2.0</td>\n",
       "      <td>81</td>\n",
       "      <td>37</td>\n",
       "    </tr>\n",
       "  </tbody>\n",
       "</table>\n",
       "</div>"
      ],
      "text/plain": [
       "   mgra  household_id  SPORDER  AGEP  SEX  ESR  COW  WKHP  SCHG  RAC1P  HISP  \\\n",
       "0    57             1        1    64    2  1.0  2.0  15.0     0      9    23   \n",
       "1    57             1        2    29    1  1.0  1.0  40.0     0      9     3   \n",
       "2    57             1        3    62    2  6.0  0.0   0.0     0      9    23   \n",
       "3    57             2        1    64    2  6.0  0.0   0.0     0      1     1   \n",
       "4    57             3        1    56    2  1.0  6.0  30.0     0      1     2   \n",
       "\n",
       "   MIL  SCHL    OCCP  WKW NAICS2  SOC2  \n",
       "0  4.0  21.0  2050.0  1.0     81    21  \n",
       "1  4.0  19.0  4700.0  1.0     44    41  \n",
       "2  4.0  19.0     0.0  0.0      0     0  \n",
       "3  4.0  19.0     0.0  0.0      0     0  \n",
       "4  4.0   1.0  4230.0  2.0     81    37  "
      ]
     },
     "execution_count": 2,
     "metadata": {},
     "output_type": "execute_result"
    }
   ],
   "source": [
    "persons = dd.read_csv(r'C:\\Users\\jchu\\OneDrive - San Diego Association of Governments\\Projects\\2023\\2023-034 PopulationSim Outputs QC\\Data\\synthetic_persons_2022_01.csv',\n",
    "                      dtype={'NAICS2': 'object'},\n",
    "                      blocksize=25e6)\n",
    "print((persons.shape[0].compute(), persons.shape[1]))\n",
    "persons.head()"
   ]
  },
  {
   "cell_type": "code",
   "execution_count": 3,
   "id": "016ce3c6",
   "metadata": {},
   "outputs": [
    {
     "name": "stdout",
     "output_type": "stream",
     "text": [
      "(1276883, 10)\n"
     ]
    },
    {
     "data": {
      "text/html": [
       "<div>\n",
       "<style scoped>\n",
       "    .dataframe tbody tr th:only-of-type {\n",
       "        vertical-align: middle;\n",
       "    }\n",
       "\n",
       "    .dataframe tbody tr th {\n",
       "        vertical-align: top;\n",
       "    }\n",
       "\n",
       "    .dataframe thead th {\n",
       "        text-align: right;\n",
       "    }\n",
       "</style>\n",
       "<table border=\"1\" class=\"dataframe\">\n",
       "  <thead>\n",
       "    <tr style=\"text-align: right;\">\n",
       "      <th></th>\n",
       "      <th>household_id</th>\n",
       "      <th>mgra</th>\n",
       "      <th>NP</th>\n",
       "      <th>HHADJINC</th>\n",
       "      <th>HHT</th>\n",
       "      <th>WIF</th>\n",
       "      <th>HUPAC</th>\n",
       "      <th>VEH</th>\n",
       "      <th>BLD</th>\n",
       "      <th>GQ_type</th>\n",
       "    </tr>\n",
       "  </thead>\n",
       "  <tbody>\n",
       "    <tr>\n",
       "      <th>0</th>\n",
       "      <td>1</td>\n",
       "      <td>57</td>\n",
       "      <td>3</td>\n",
       "      <td>87344.7</td>\n",
       "      <td>3.0</td>\n",
       "      <td>2.0</td>\n",
       "      <td>4.0</td>\n",
       "      <td>1.0</td>\n",
       "      <td>6.0</td>\n",
       "      <td>0.0</td>\n",
       "    </tr>\n",
       "    <tr>\n",
       "      <th>1</th>\n",
       "      <td>2</td>\n",
       "      <td>57</td>\n",
       "      <td>1</td>\n",
       "      <td>39633.6</td>\n",
       "      <td>6.0</td>\n",
       "      <td>NaN</td>\n",
       "      <td>4.0</td>\n",
       "      <td>1.0</td>\n",
       "      <td>3.0</td>\n",
       "      <td>0.0</td>\n",
       "    </tr>\n",
       "    <tr>\n",
       "      <th>2</th>\n",
       "      <td>3</td>\n",
       "      <td>57</td>\n",
       "      <td>3</td>\n",
       "      <td>35541.0</td>\n",
       "      <td>1.0</td>\n",
       "      <td>1.0</td>\n",
       "      <td>4.0</td>\n",
       "      <td>5.0</td>\n",
       "      <td>3.0</td>\n",
       "      <td>0.0</td>\n",
       "    </tr>\n",
       "    <tr>\n",
       "      <th>3</th>\n",
       "      <td>4</td>\n",
       "      <td>57</td>\n",
       "      <td>3</td>\n",
       "      <td>35541.0</td>\n",
       "      <td>1.0</td>\n",
       "      <td>1.0</td>\n",
       "      <td>4.0</td>\n",
       "      <td>5.0</td>\n",
       "      <td>3.0</td>\n",
       "      <td>0.0</td>\n",
       "    </tr>\n",
       "    <tr>\n",
       "      <th>4</th>\n",
       "      <td>5</td>\n",
       "      <td>57</td>\n",
       "      <td>2</td>\n",
       "      <td>56865.6</td>\n",
       "      <td>1.0</td>\n",
       "      <td>0.0</td>\n",
       "      <td>4.0</td>\n",
       "      <td>3.0</td>\n",
       "      <td>2.0</td>\n",
       "      <td>0.0</td>\n",
       "    </tr>\n",
       "  </tbody>\n",
       "</table>\n",
       "</div>"
      ],
      "text/plain": [
       "   household_id  mgra  NP  HHADJINC  HHT  WIF  HUPAC  VEH  BLD  GQ_type\n",
       "0             1    57   3   87344.7  3.0  2.0    4.0  1.0  6.0      0.0\n",
       "1             2    57   1   39633.6  6.0  NaN    4.0  1.0  3.0      0.0\n",
       "2             3    57   3   35541.0  1.0  1.0    4.0  5.0  3.0      0.0\n",
       "3             4    57   3   35541.0  1.0  1.0    4.0  5.0  3.0      0.0\n",
       "4             5    57   2   56865.6  1.0  0.0    4.0  3.0  2.0      0.0"
      ]
     },
     "execution_count": 3,
     "metadata": {},
     "output_type": "execute_result"
    }
   ],
   "source": [
    "households = dd.read_csv(r'C:\\Users\\jchu\\OneDrive - San Diego Association of Governments\\Projects\\2023\\2023-034 PopulationSim Outputs QC\\Data\\synthetic_households_2022_01.csv',\n",
    "                      blocksize=25e6)\n",
    "print((households.shape[0].compute(), households.shape[1]))\n",
    "households.head()"
   ]
  },
  {
   "cell_type": "markdown",
   "id": "8cf6896f",
   "metadata": {},
   "source": [
    "# 8.1 ESR b, 3, 6 have 'isWorker' !=0\n",
    "\n",
    "Check for records in which `ESR` is less than 16 yo (`0`) or unemployed (`3`) or not in labor force (`6`) and their `isWorker` code is `0`."
   ]
  },
  {
   "cell_type": "code",
   "execution_count": 4,
   "id": "e90f7ee0",
   "metadata": {},
   "outputs": [
    {
     "data": {
      "text/plain": [
       "0"
      ]
     },
     "execution_count": 4,
     "metadata": {},
     "output_type": "execute_result"
    }
   ],
   "source": [
    "# Number of persons that has no ESR code\n",
    "persons[persons['ESR'].isna()].shape[0].compute()"
   ]
  },
  {
   "cell_type": "code",
   "execution_count": 5,
   "id": "740c3c79",
   "metadata": {},
   "outputs": [
    {
     "name": "stdout",
     "output_type": "stream",
     "text": [
      "0    0.0\n",
      "1    9.0\n",
      "2    1.0\n",
      "3    5.0\n",
      "4    6.0\n",
      "5    2.0\n",
      "6    3.0\n",
      "7    4.0\n",
      "8    7.0\n",
      "9    8.0\n",
      "Name: COW, dtype: float64 0      0.0\n",
      "1     12.0\n",
      "2     50.0\n",
      "3     40.0\n",
      "4      1.0\n",
      "      ... \n",
      "65    26.0\n",
      "66    52.0\n",
      "67    98.0\n",
      "68    54.0\n",
      "69    62.0\n",
      "Name: WKHP, Length: 70, dtype: float64 0         0.0\n",
      "1      9920.0\n",
      "2      4850.0\n",
      "3      7210.0\n",
      "4      4840.0\n",
      "        ...  \n",
      "469    7610.0\n",
      "470    3321.0\n",
      "471    3647.0\n",
      "472    4640.0\n",
      "473    6460.0\n",
      "Name: OCCP, Length: 474, dtype: float64 0    0.0\n",
      "1    6.0\n",
      "2    4.0\n",
      "3    5.0\n",
      "4    1.0\n",
      "5    2.0\n",
      "6    3.0\n",
      "Name: WKW, dtype: float64\n"
     ]
    }
   ],
   "source": [
    "# Only taking records where ESR is 0, 3, 6: less than 16, unemployed, or not in labor force\n",
    "ESRb36 = persons[(persons['ESR'] == 0) | (persons['ESR'] == 3) | (persons['ESR'] == 6)]\n",
    "\n",
    "# Checking to see if any other column codes for `isWorker`\n",
    "cow = ESRb36['COW'].unique()\n",
    "wkhp = ESRb36['WKHP'].unique()\n",
    "occp = ESRb36['OCCP'].unique()\n",
    "wkw = ESRb36['WKW'].unique()\n",
    "\n",
    "print(cow.compute(), wkhp.compute(), occp.compute(), wkw.compute())"
   ]
  },
  {
   "cell_type": "markdown",
   "id": "12a7e519",
   "metadata": {},
   "source": [
    "# 8.2 ESR b have age > 16 \n",
    "\n",
    "Check for records in which `ESR` is less than 16 (`0`), but `AGEP` is greater than than 16."
   ]
  },
  {
   "cell_type": "code",
   "execution_count": 6,
   "id": "1f596187",
   "metadata": {},
   "outputs": [
    {
     "data": {
      "text/plain": [
       "0"
      ]
     },
     "execution_count": 6,
     "metadata": {},
     "output_type": "execute_result"
    }
   ],
   "source": [
    "# Number of persons that have an ESR of 0 (less than 16 y/o), but AGEP greater than or equal to 16\n",
    "persons[(persons['ESR'] == 0) & persons['AGEP'] >= 16].shape[0].compute()"
   ]
  },
  {
   "cell_type": "markdown",
   "id": "55eacbbc",
   "metadata": {},
   "source": [
    "# 8.3 ESR b has COW of b \n",
    "Check for records in which `ESR` is less than 16 (`0`), but `COW` is in the universe (not `0`)."
   ]
  },
  {
   "cell_type": "code",
   "execution_count": 7,
   "id": "a72bb038",
   "metadata": {},
   "outputs": [
    {
     "data": {
      "text/plain": [
       "0"
      ]
     },
     "execution_count": 7,
     "metadata": {},
     "output_type": "execute_result"
    }
   ],
   "source": [
    "# Number of persons that have an ESR of 0 (less than 16 y/o), but has a COW status\n",
    "persons[(persons['ESR'] == 0) & persons['COW'] != 0].shape[0].compute()"
   ]
  },
  {
   "cell_type": "markdown",
   "id": "38328ff9",
   "metadata": {},
   "source": [
    "# 8.4 ESR 3 or 6 have 'isWorker' != 0\n",
    "Check is removed due to missing `isWorker` column."
   ]
  },
  {
   "cell_type": "markdown",
   "id": "31f1034c",
   "metadata": {},
   "source": [
    "# 8.5 ESR b or 3 or 6 don't have COW of b or 9 (b= NAN) \n",
    "Check for records in which `ESR` is less than 16 yo (`0`) or unemployed (`3`) or not in labor force (`6`) and their `COW` is in the universe and employed (not `0` or `9`).\n",
    "\n",
    "### FLAGED AS FALSE. Data contains records with ESR 3 and 6 with COW neither 0 nor 9"
   ]
  },
  {
   "cell_type": "code",
   "execution_count": 8,
   "id": "fac7fcc6",
   "metadata": {},
   "outputs": [
    {
     "data": {
      "text/plain": [
       "197351"
      ]
     },
     "execution_count": 8,
     "metadata": {},
     "output_type": "execute_result"
    }
   ],
   "source": [
    "# Number of persons where ESR is 0, 3, 6: less than 16, unemployed, or not in labor force\n",
    "# But has a COW code that is neither 0 nor 9 (not in universe nor unemployed/last worked 5 years/never worked)\n",
    "ESRb36[~((ESRb36['COW'] == 0) | (ESRb36['COW'] == 9))].shape[0].compute()"
   ]
  },
  {
   "cell_type": "code",
   "execution_count": 9,
   "id": "f5254659",
   "metadata": {},
   "outputs": [
    {
     "data": {
      "text/plain": [
       "0    6.0\n",
       "1    3.0\n",
       "Name: ESR, dtype: float64"
      ]
     },
     "execution_count": 9,
     "metadata": {},
     "output_type": "execute_result"
    }
   ],
   "source": [
    "# ESR codes of 3 and 6 contain COW codes that are neither 0 nor 9\n",
    "ESRb36[~((ESRb36['COW'] == 0) | (ESRb36['COW'] == 9))]['ESR'].unique().compute()"
   ]
  },
  {
   "cell_type": "code",
   "execution_count": 10,
   "id": "d4fe7c82",
   "metadata": {},
   "outputs": [
    {
     "data": {
      "text/plain": [
       "0    1.0\n",
       "1    5.0\n",
       "2    6.0\n",
       "3    2.0\n",
       "4    3.0\n",
       "5    4.0\n",
       "6    7.0\n",
       "7    8.0\n",
       "Name: COW, dtype: float64"
      ]
     },
     "execution_count": 10,
     "metadata": {},
     "output_type": "execute_result"
    }
   ],
   "source": [
    "# COW codes vary between 1 to 8 for these ESR codes\n",
    "ESRb36[~((ESRb36['COW'] == 0) | (ESRb36['COW'] == 9))]['COW'].unique().compute()"
   ]
  },
  {
   "cell_type": "code",
   "execution_count": 11,
   "id": "bee320de",
   "metadata": {},
   "outputs": [
    {
     "data": {
      "text/html": [
       "<div>\n",
       "<style scoped>\n",
       "    .dataframe tbody tr th:only-of-type {\n",
       "        vertical-align: middle;\n",
       "    }\n",
       "\n",
       "    .dataframe tbody tr th {\n",
       "        vertical-align: top;\n",
       "    }\n",
       "\n",
       "    .dataframe thead th {\n",
       "        text-align: right;\n",
       "    }\n",
       "</style>\n",
       "<table border=\"1\" class=\"dataframe\">\n",
       "  <thead>\n",
       "    <tr style=\"text-align: right;\">\n",
       "      <th></th>\n",
       "      <th>mgra</th>\n",
       "      <th>household_id</th>\n",
       "      <th>SPORDER</th>\n",
       "      <th>AGEP</th>\n",
       "      <th>SEX</th>\n",
       "      <th>ESR</th>\n",
       "      <th>COW</th>\n",
       "      <th>WKHP</th>\n",
       "      <th>SCHG</th>\n",
       "      <th>RAC1P</th>\n",
       "      <th>HISP</th>\n",
       "      <th>MIL</th>\n",
       "      <th>SCHL</th>\n",
       "      <th>OCCP</th>\n",
       "      <th>WKW</th>\n",
       "      <th>NAICS2</th>\n",
       "      <th>SOC2</th>\n",
       "    </tr>\n",
       "  </thead>\n",
       "  <tbody>\n",
       "    <tr>\n",
       "      <th>17</th>\n",
       "      <td>57</td>\n",
       "      <td>8</td>\n",
       "      <td>3</td>\n",
       "      <td>27</td>\n",
       "      <td>2</td>\n",
       "      <td>6.0</td>\n",
       "      <td>1.0</td>\n",
       "      <td>12.0</td>\n",
       "      <td>0</td>\n",
       "      <td>1</td>\n",
       "      <td>1</td>\n",
       "      <td>4.0</td>\n",
       "      <td>18.0</td>\n",
       "      <td>4850.0</td>\n",
       "      <td>6.0</td>\n",
       "      <td>32</td>\n",
       "      <td>41</td>\n",
       "    </tr>\n",
       "    <tr>\n",
       "      <th>21</th>\n",
       "      <td>57</td>\n",
       "      <td>9</td>\n",
       "      <td>3</td>\n",
       "      <td>27</td>\n",
       "      <td>2</td>\n",
       "      <td>6.0</td>\n",
       "      <td>1.0</td>\n",
       "      <td>12.0</td>\n",
       "      <td>0</td>\n",
       "      <td>1</td>\n",
       "      <td>1</td>\n",
       "      <td>4.0</td>\n",
       "      <td>18.0</td>\n",
       "      <td>4850.0</td>\n",
       "      <td>6.0</td>\n",
       "      <td>32</td>\n",
       "      <td>41</td>\n",
       "    </tr>\n",
       "    <tr>\n",
       "      <th>24</th>\n",
       "      <td>57</td>\n",
       "      <td>10</td>\n",
       "      <td>2</td>\n",
       "      <td>25</td>\n",
       "      <td>2</td>\n",
       "      <td>6.0</td>\n",
       "      <td>5.0</td>\n",
       "      <td>12.0</td>\n",
       "      <td>15</td>\n",
       "      <td>1</td>\n",
       "      <td>1</td>\n",
       "      <td>2.0</td>\n",
       "      <td>19.0</td>\n",
       "      <td>7210.0</td>\n",
       "      <td>4.0</td>\n",
       "      <td>92</td>\n",
       "      <td>49</td>\n",
       "    </tr>\n",
       "    <tr>\n",
       "      <th>25</th>\n",
       "      <td>57</td>\n",
       "      <td>10</td>\n",
       "      <td>3</td>\n",
       "      <td>22</td>\n",
       "      <td>1</td>\n",
       "      <td>6.0</td>\n",
       "      <td>1.0</td>\n",
       "      <td>50.0</td>\n",
       "      <td>15</td>\n",
       "      <td>1</td>\n",
       "      <td>1</td>\n",
       "      <td>2.0</td>\n",
       "      <td>19.0</td>\n",
       "      <td>4840.0</td>\n",
       "      <td>6.0</td>\n",
       "      <td>44</td>\n",
       "      <td>41</td>\n",
       "    </tr>\n",
       "    <tr>\n",
       "      <th>31</th>\n",
       "      <td>57</td>\n",
       "      <td>14</td>\n",
       "      <td>1</td>\n",
       "      <td>69</td>\n",
       "      <td>1</td>\n",
       "      <td>6.0</td>\n",
       "      <td>6.0</td>\n",
       "      <td>40.0</td>\n",
       "      <td>0</td>\n",
       "      <td>9</td>\n",
       "      <td>2</td>\n",
       "      <td>4.0</td>\n",
       "      <td>7.0</td>\n",
       "      <td>4251.0</td>\n",
       "      <td>5.0</td>\n",
       "      <td>56</td>\n",
       "      <td>37</td>\n",
       "    </tr>\n",
       "  </tbody>\n",
       "</table>\n",
       "</div>"
      ],
      "text/plain": [
       "    mgra  household_id  SPORDER  AGEP  SEX  ESR  COW  WKHP  SCHG  RAC1P  HISP  \\\n",
       "17    57             8        3    27    2  6.0  1.0  12.0     0      1     1   \n",
       "21    57             9        3    27    2  6.0  1.0  12.0     0      1     1   \n",
       "24    57            10        2    25    2  6.0  5.0  12.0    15      1     1   \n",
       "25    57            10        3    22    1  6.0  1.0  50.0    15      1     1   \n",
       "31    57            14        1    69    1  6.0  6.0  40.0     0      9     2   \n",
       "\n",
       "    MIL  SCHL    OCCP  WKW NAICS2  SOC2  \n",
       "17  4.0  18.0  4850.0  6.0     32    41  \n",
       "21  4.0  18.0  4850.0  6.0     32    41  \n",
       "24  2.0  19.0  7210.0  4.0     92    49  \n",
       "25  2.0  19.0  4840.0  6.0     44    41  \n",
       "31  4.0   7.0  4251.0  5.0     56    37  "
      ]
     },
     "execution_count": 11,
     "metadata": {},
     "output_type": "execute_result"
    }
   ],
   "source": [
    "ESRb36[~((ESRb36['COW'] == 0) | (ESRb36['COW'] == 9))].head()"
   ]
  },
  {
   "cell_type": "code",
   "execution_count": 12,
   "id": "ef134acb",
   "metadata": {},
   "outputs": [],
   "source": [
    "# output results of checks\n",
    "pd.DataFrame(ESRb36[~((ESRb36['COW'] == 0) | (ESRb36['COW'] == 9))]).to_csv('persons_ESRb36_COW_no_b_9.csv', index=False)"
   ]
  },
  {
   "cell_type": "markdown",
   "id": "9f2f8e7f",
   "metadata": {},
   "source": [
    "# 8.6 Range of hours worked for ESR 1 and 4 and ESR 2 and 5 is reasonable "
   ]
  },
  {
   "cell_type": "code",
   "execution_count": 13,
   "id": "10444646",
   "metadata": {},
   "outputs": [
    {
     "name": "stdout",
     "output_type": "stream",
     "text": [
      "count    1.513777e+06\n",
      "mean     4.037509e+01\n",
      "std      1.226280e+01\n",
      "min      1.000000e+00\n",
      "25%      4.000000e+01\n",
      "50%      4.000000e+01\n",
      "75%      5.500000e+01\n",
      "max      9.900000e+01\n",
      "Name: WKHP, dtype: float64\n"
     ]
    },
    {
     "data": {
      "text/plain": [
       "<AxesSubplot:>"
      ]
     },
     "execution_count": 13,
     "metadata": {},
     "output_type": "execute_result"
    },
    {
     "data": {
      "image/png": "[encoded data removed]",
      "text/plain": [
       "<Figure size 432x288 with 1 Axes>"
      ]
     },
     "metadata": {
      "needs_background": "light"
     },
     "output_type": "display_data"
    }
   ],
   "source": [
    "# Check range of hours for persons with ESR 1 or 4: at work civilians or armed forces\n",
    "print(persons[(persons['ESR'] == 1) | (persons['ESR'] == 4)]['WKHP'].describe().compute())\n",
    "pd.Series(persons[(persons['ESR'] == 1) | (persons['ESR'] == 4)]['WKHP']).hist()"
   ]
  },
  {
   "cell_type": "code",
   "execution_count": 14,
   "id": "7c0b3f2b",
   "metadata": {},
   "outputs": [
    {
     "name": "stdout",
     "output_type": "stream",
     "text": [
      "count    35005.000000\n",
      "mean        36.149236\n",
      "std         15.246967\n",
      "min          1.000000\n",
      "25%         35.000000\n",
      "50%         40.000000\n",
      "75%         40.000000\n",
      "max         99.000000\n",
      "Name: WKHP, dtype: float64\n"
     ]
    },
    {
     "data": {
      "text/plain": [
       "<AxesSubplot:>"
      ]
     },
     "execution_count": 14,
     "metadata": {},
     "output_type": "execute_result"
    },
    {
     "data": {
      "image/png": "[encoded data removed]",
      "text/plain": [
       "<Figure size 432x288 with 1 Axes>"
      ]
     },
     "metadata": {
      "needs_background": "light"
     },
     "output_type": "display_data"
    }
   ],
   "source": [
    "# Check range of hours for persons with ESR 1 or 4: not at work civilians or armed forces, but with a job\n",
    "print(persons[(persons['ESR'] == 2) | (persons['ESR'] == 5)]['WKHP'].describe().compute())\n",
    "pd.Series(persons[(persons['ESR'] == 2) | (persons['ESR'] == 5)]['WKHP']).hist()"
   ]
  },
  {
   "cell_type": "markdown",
   "id": "412eaf5a",
   "metadata": {},
   "source": [
    "# 8.7 ESR 4 or 5 have MIL of 1 or 3\n",
    "Check if armed forces ESR 4 or 5 have an active duty status MIL of 1 or 3"
   ]
  },
  {
   "cell_type": "code",
   "execution_count": 15,
   "id": "a088408b",
   "metadata": {},
   "outputs": [
    {
     "data": {
      "text/plain": [
       "0    1.0\n",
       "1    3.0\n",
       "Name: MIL, dtype: float64"
      ]
     },
     "execution_count": 15,
     "metadata": {},
     "output_type": "execute_result"
    }
   ],
   "source": [
    "# MIL codes for persons with ESR 4 or 5: armed forces\n",
    "# MIL codes 1 and 3 code for those on active duty\n",
    "persons[(persons['ESR'] == 4) | (persons['ESR'] == 5)]['MIL'].unique().compute()"
   ]
  },
  {
   "cell_type": "markdown",
   "id": "d9f5aaac",
   "metadata": {},
   "source": [
    "# 8.8 Is there a pattern in COW values for those with MIL code != b or 4\n",
    "For those in or used to be on active duty, what are COW values?\n",
    "\n",
    "Mostly falls under COW 5, Federal government employee. Removing those that are on active duty brings the distribution closer to those that never served, but a large majority still work under the federal government."
   ]
  },
  {
   "cell_type": "code",
   "execution_count": 16,
   "id": "acc22730",
   "metadata": {},
   "outputs": [
    {
     "name": "stdout",
     "output_type": "stream",
     "text": [
      "0    5.0\n",
      "1    1.0\n",
      "2    0.0\n",
      "3    2.0\n",
      "4    6.0\n",
      "5    7.0\n",
      "6    3.0\n",
      "7    4.0\n",
      "8    9.0\n",
      "9    8.0\n",
      "Name: COW, dtype: float64\n"
     ]
    },
    {
     "data": {
      "text/plain": [
       "<AxesSubplot:>"
      ]
     },
     "execution_count": 16,
     "metadata": {},
     "output_type": "execute_result"
    },
    {
     "data": {
      "image/png": "[encoded data removed]",
      "text/plain": [
       "<Figure size 432x288 with 1 Axes>"
      ]
     },
     "metadata": {
      "needs_background": "light"
     },
     "output_type": "display_data"
    }
   ],
   "source": [
    "# Distribution of COW values for those in or used to be on active duty\n",
    "print(persons[~((persons['MIL']==0) | (persons['MIL'] == 4))]['COW'].unique().compute())\n",
    "pd.Series(persons[~((persons['MIL']==0) | (persons['MIL'] == 4))]['COW']).hist()"
   ]
  },
  {
   "cell_type": "code",
   "execution_count": 17,
   "id": "270fbd9a",
   "metadata": {},
   "outputs": [
    {
     "data": {
      "text/plain": [
       "<AxesSubplot:>"
      ]
     },
     "execution_count": 17,
     "metadata": {},
     "output_type": "execute_result"
    },
    {
     "data": {
      "image/png": "[encoded data removed]",
      "text/plain": [
       "<Figure size 432x288 with 1 Axes>"
      ]
     },
     "metadata": {
      "needs_background": "light"
     },
     "output_type": "display_data"
    }
   ],
   "source": [
    "# Distribution of COW values for those that has never served\n",
    "pd.Series(persons[(persons['MIL']==0) | (persons['MIL'] == 4)]['COW']).hist()"
   ]
  },
  {
   "cell_type": "markdown",
   "id": "6efa27ef",
   "metadata": {},
   "source": [
    "# 8.9  MIL b and ESR b have age < 17 \n",
    "Check if MIL value less than 17 y/o and ESR value less than 16 (both values of 0) have all AGEP less than 17."
   ]
  },
  {
   "cell_type": "code",
   "execution_count": 18,
   "id": "74d044b1",
   "metadata": {},
   "outputs": [
    {
     "data": {
      "text/plain": [
       "0"
      ]
     },
     "execution_count": 18,
     "metadata": {},
     "output_type": "execute_result"
    }
   ],
   "source": [
    "# Number of persons with ESR value less than 16 y/o, but AGEP greater than or equal to 17\n",
    "persons[(persons['ESR'] == 0) & (persons['AGEP'] >= 17)].shape[0].compute()"
   ]
  },
  {
   "cell_type": "code",
   "execution_count": 19,
   "id": "1b6283fd",
   "metadata": {},
   "outputs": [
    {
     "data": {
      "text/plain": [
       "0"
      ]
     },
     "execution_count": 19,
     "metadata": {},
     "output_type": "execute_result"
    }
   ],
   "source": [
    "# Number of persons with MIL value less than 16 y/o, but AGEP greater than or equal to 17\n",
    "persons[(persons['MIL'] == 0) & (persons['AGEP'] >= 17)].shape[0].compute()"
   ]
  },
  {
   "cell_type": "markdown",
   "id": "861716e8",
   "metadata": {},
   "source": [
    "# 8.10 MIL 1 have ESR = 4 or 5\n",
    "Check if MIL on active duty has ESR value for armed forces"
   ]
  },
  {
   "cell_type": "code",
   "execution_count": 20,
   "id": "ad9bd51e",
   "metadata": {},
   "outputs": [
    {
     "data": {
      "text/plain": [
       "0    4.0\n",
       "1    5.0\n",
       "Name: ESR, dtype: float64"
      ]
     },
     "execution_count": 20,
     "metadata": {},
     "output_type": "execute_result"
    }
   ],
   "source": [
    "persons[persons['MIL'] == 1]['ESR'].unique().compute()"
   ]
  },
  {
   "cell_type": "markdown",
   "id": "e89669db",
   "metadata": {},
   "source": [
    "# 8.11 ESR 4 or 5 have age <= 60"
   ]
  },
  {
   "cell_type": "code",
   "execution_count": 21,
   "id": "bab15348",
   "metadata": {},
   "outputs": [
    {
     "data": {
      "text/plain": [
       "0"
      ]
     },
     "execution_count": 21,
     "metadata": {},
     "output_type": "execute_result"
    }
   ],
   "source": [
    "persons[((persons['ESR'] == 4) | (persons['ESR'] == 5)) & (persons['AGEP'] > 60)].shape[0].compute()"
   ]
  },
  {
   "cell_type": "markdown",
   "id": "45922dd6",
   "metadata": {},
   "source": [
    "# 8.12 MIL 1 has isWorker 1 and ESR 4 or 5. Pattern in their COWs?\n",
    "`isWorker` is removed and cannot be checked. ESR checked in 8.10."
   ]
  },
  {
   "cell_type": "code",
   "execution_count": 22,
   "id": "3cc49443",
   "metadata": {},
   "outputs": [
    {
     "data": {
      "text/plain": [
       "0    5.0\n",
       "Name: COW, dtype: float64"
      ]
     },
     "execution_count": 22,
     "metadata": {},
     "output_type": "execute_result"
    }
   ],
   "source": [
    "persons[persons['MIL'] == 1]['COW'].unique().compute()"
   ]
  },
  {
   "cell_type": "markdown",
   "id": "494c4d5c",
   "metadata": {},
   "source": [
    "# 8.13 MIL = 1 or 3 have age > 60\n",
    "\n",
    "Check for all persons with `MIL` codes `1` or `3` (active duty) and over `AGEP` 60.\n",
    "\n",
    "All persons that are on active duty and over `AGEP` 60 are only on active duty for training in Reserves/National Guard (`MIL` code `3`)."
   ]
  },
  {
   "cell_type": "code",
   "execution_count": 23,
   "id": "cd0aa758",
   "metadata": {},
   "outputs": [
    {
     "name": "stdout",
     "output_type": "stream",
     "text": [
      "12940\n"
     ]
    },
    {
     "data": {
      "text/plain": [
       "<AxesSubplot:>"
      ]
     },
     "execution_count": 23,
     "metadata": {},
     "output_type": "execute_result"
    },
    {
     "data": {
      "image/png": "[encoded data removed]",
      "text/plain": [
       "<Figure size 432x288 with 1 Axes>"
      ]
     },
     "metadata": {
      "needs_background": "light"
     },
     "output_type": "display_data"
    }
   ],
   "source": [
    "print(persons[((persons['MIL'] == 1) | (persons['MIL'] == 3)) & (persons['AGEP'] > 60)].shape[0].compute())\n",
    "pd.Series(persons[((persons['MIL'] == 1) | (persons['MIL'] == 3)) & (persons['AGEP'] > 60)]['AGEP']).hist()"
   ]
  },
  {
   "cell_type": "code",
   "execution_count": 24,
   "id": "79c30d18",
   "metadata": {},
   "outputs": [
    {
     "name": "stdout",
     "output_type": "stream",
     "text": [
      "0\n"
     ]
    },
    {
     "data": {
      "text/plain": [
       "<AxesSubplot:>"
      ]
     },
     "execution_count": 24,
     "metadata": {},
     "output_type": "execute_result"
    },
    {
     "data": {
      "image/png": "[encoded data removed]",
      "text/plain": [
       "<Figure size 432x288 with 1 Axes>"
      ]
     },
     "metadata": {
      "needs_background": "light"
     },
     "output_type": "display_data"
    }
   ],
   "source": [
    "print(persons[(persons['MIL'] == 1) & (persons['AGEP'] > 60)].shape[0].compute())\n",
    "pd.Series(persons[(persons['MIL'] == 1) & (persons['AGEP'] > 60)]['AGEP']).hist()"
   ]
  },
  {
   "cell_type": "code",
   "execution_count": 27,
   "id": "60e92ef4",
   "metadata": {},
   "outputs": [
    {
     "name": "stdout",
     "output_type": "stream",
     "text": [
      "12940\n"
     ]
    },
    {
     "data": {
      "text/plain": [
       "<AxesSubplot:>"
      ]
     },
     "execution_count": 27,
     "metadata": {},
     "output_type": "execute_result"
    },
    {
     "data": {
      "image/png": "[encoded data removed]",
      "text/plain": [
       "<Figure size 432x288 with 1 Axes>"
      ]
     },
     "metadata": {
      "needs_background": "light"
     },
     "output_type": "display_data"
    }
   ],
   "source": [
    "print(persons[(persons['MIL'] == 3) & (persons['AGEP'] > 60)].shape[0].compute())\n",
    "pd.Series(persons[(persons['MIL'] == 3) & (persons['AGEP'] > 60)]['AGEP']).hist()"
   ]
  },
  {
   "cell_type": "code",
   "execution_count": 26,
   "id": "0175e005",
   "metadata": {},
   "outputs": [
    {
     "data": {
      "text/plain": [
       "<AxesSubplot:>"
      ]
     },
     "execution_count": 26,
     "metadata": {},
     "output_type": "execute_result"
    },
    {
     "data": {
      "image/png": "[encoded data removed]",
      "text/plain": [
       "<Figure size 432x288 with 1 Axes>"
      ]
     },
     "metadata": {
      "needs_background": "light"
     },
     "output_type": "display_data"
    }
   ],
   "source": [
    "# Checks for \n",
    "pd.Series(persons[((persons['MIL'] == 1) | (persons['MIL'] == 3)) & (persons['AGEP'] > 60)]['COW']).hist()"
   ]
  },
  {
   "cell_type": "code",
   "execution_count": null,
   "id": "f3ab4b73",
   "metadata": {},
   "outputs": [],
   "source": []
  }
 ],
 "metadata": {
  "kernelspec": {
   "display_name": "Python 3 (ipykernel)",
   "language": "python",
   "name": "python3"
  },
  "language_info": {
   "codemirror_mode": {
    "name": "ipython",
    "version": 3
   },
   "file_extension": ".py",
   "mimetype": "text/x-python",
   "name": "python",
   "nbconvert_exporter": "python",
   "pygments_lexer": "ipython3",
   "version": "3.9.7"
  }
 },
 "nbformat": 4,
 "nbformat_minor": 5
}
