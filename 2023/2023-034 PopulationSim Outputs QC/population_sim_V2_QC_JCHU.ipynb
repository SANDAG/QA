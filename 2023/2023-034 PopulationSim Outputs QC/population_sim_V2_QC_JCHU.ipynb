{
 "cells": [
  {
   "cell_type": "code",
   "execution_count": 1,
   "id": "e5b169a8",
   "metadata": {},
   "outputs": [],
   "source": [
    "import numpy as np\n",
    "import pandas as pd\n",
    "import dask.dataframe as dd\n",
    "import dask.array as da\n",
    "import dask.bag as db\n",
    "import matplotlib as plt"
   ]
  },
  {
   "cell_type": "markdown",
   "id": "a5b82cbf",
   "metadata": {},
   "source": [
    "# Downloading and checking the data"
   ]
  },
  {
   "cell_type": "code",
   "execution_count": 2,
   "id": "958a4cbb",
   "metadata": {},
   "outputs": [
    {
     "name": "stdout",
     "output_type": "stream",
     "text": [
      "(3282454, 17)\n"
     ]
    },
    {
     "data": {
      "text/html": [
       "<div>\n",
       "<style scoped>\n",
       "    .dataframe tbody tr th:only-of-type {\n",
       "        vertical-align: middle;\n",
       "    }\n",
       "\n",
       "    .dataframe tbody tr th {\n",
       "        vertical-align: top;\n",
       "    }\n",
       "\n",
       "    .dataframe thead th {\n",
       "        text-align: right;\n",
       "    }\n",
       "</style>\n",
       "<table border=\"1\" class=\"dataframe\">\n",
       "  <thead>\n",
       "    <tr style=\"text-align: right;\">\n",
       "      <th></th>\n",
       "      <th>mgra</th>\n",
       "      <th>household_id</th>\n",
       "      <th>SPORDER</th>\n",
       "      <th>AGEP</th>\n",
       "      <th>SEX</th>\n",
       "      <th>ESR</th>\n",
       "      <th>COW</th>\n",
       "      <th>WKHP</th>\n",
       "      <th>SCHG</th>\n",
       "      <th>RAC1P</th>\n",
       "      <th>HISP</th>\n",
       "      <th>MIL</th>\n",
       "      <th>SCHL</th>\n",
       "      <th>OCCP</th>\n",
       "      <th>WKW</th>\n",
       "      <th>NAICS2</th>\n",
       "      <th>SOC2</th>\n",
       "    </tr>\n",
       "  </thead>\n",
       "  <tbody>\n",
       "    <tr>\n",
       "      <th>0</th>\n",
       "      <td>57</td>\n",
       "      <td>1</td>\n",
       "      <td>1</td>\n",
       "      <td>64</td>\n",
       "      <td>2</td>\n",
       "      <td>1.0</td>\n",
       "      <td>2.0</td>\n",
       "      <td>15.0</td>\n",
       "      <td>0</td>\n",
       "      <td>9</td>\n",
       "      <td>23</td>\n",
       "      <td>4.0</td>\n",
       "      <td>21.0</td>\n",
       "      <td>2050.0</td>\n",
       "      <td>1.0</td>\n",
       "      <td>81</td>\n",
       "      <td>21</td>\n",
       "    </tr>\n",
       "    <tr>\n",
       "      <th>1</th>\n",
       "      <td>57</td>\n",
       "      <td>1</td>\n",
       "      <td>2</td>\n",
       "      <td>29</td>\n",
       "      <td>1</td>\n",
       "      <td>1.0</td>\n",
       "      <td>1.0</td>\n",
       "      <td>40.0</td>\n",
       "      <td>0</td>\n",
       "      <td>9</td>\n",
       "      <td>3</td>\n",
       "      <td>4.0</td>\n",
       "      <td>19.0</td>\n",
       "      <td>4700.0</td>\n",
       "      <td>1.0</td>\n",
       "      <td>44</td>\n",
       "      <td>41</td>\n",
       "    </tr>\n",
       "    <tr>\n",
       "      <th>2</th>\n",
       "      <td>57</td>\n",
       "      <td>1</td>\n",
       "      <td>3</td>\n",
       "      <td>62</td>\n",
       "      <td>2</td>\n",
       "      <td>6.0</td>\n",
       "      <td>0.0</td>\n",
       "      <td>0.0</td>\n",
       "      <td>0</td>\n",
       "      <td>9</td>\n",
       "      <td>23</td>\n",
       "      <td>4.0</td>\n",
       "      <td>19.0</td>\n",
       "      <td>0.0</td>\n",
       "      <td>0.0</td>\n",
       "      <td>0</td>\n",
       "      <td>0</td>\n",
       "    </tr>\n",
       "    <tr>\n",
       "      <th>3</th>\n",
       "      <td>57</td>\n",
       "      <td>2</td>\n",
       "      <td>1</td>\n",
       "      <td>56</td>\n",
       "      <td>1</td>\n",
       "      <td>1.0</td>\n",
       "      <td>1.0</td>\n",
       "      <td>40.0</td>\n",
       "      <td>0</td>\n",
       "      <td>1</td>\n",
       "      <td>9</td>\n",
       "      <td>2.0</td>\n",
       "      <td>21.0</td>\n",
       "      <td>9030.0</td>\n",
       "      <td>1.0</td>\n",
       "      <td>48</td>\n",
       "      <td>53</td>\n",
       "    </tr>\n",
       "    <tr>\n",
       "      <th>4</th>\n",
       "      <td>57</td>\n",
       "      <td>3</td>\n",
       "      <td>1</td>\n",
       "      <td>64</td>\n",
       "      <td>2</td>\n",
       "      <td>6.0</td>\n",
       "      <td>0.0</td>\n",
       "      <td>0.0</td>\n",
       "      <td>0</td>\n",
       "      <td>1</td>\n",
       "      <td>1</td>\n",
       "      <td>4.0</td>\n",
       "      <td>19.0</td>\n",
       "      <td>0.0</td>\n",
       "      <td>0.0</td>\n",
       "      <td>0</td>\n",
       "      <td>0</td>\n",
       "    </tr>\n",
       "  </tbody>\n",
       "</table>\n",
       "</div>"
      ],
      "text/plain": [
       "   mgra  household_id  SPORDER  AGEP  SEX  ESR  COW  WKHP  SCHG  RAC1P  HISP  \\\n",
       "0    57             1        1    64    2  1.0  2.0  15.0     0      9    23   \n",
       "1    57             1        2    29    1  1.0  1.0  40.0     0      9     3   \n",
       "2    57             1        3    62    2  6.0  0.0   0.0     0      9    23   \n",
       "3    57             2        1    56    1  1.0  1.0  40.0     0      1     9   \n",
       "4    57             3        1    64    2  6.0  0.0   0.0     0      1     1   \n",
       "\n",
       "   MIL  SCHL    OCCP  WKW NAICS2  SOC2  \n",
       "0  4.0  21.0  2050.0  1.0     81    21  \n",
       "1  4.0  19.0  4700.0  1.0     44    41  \n",
       "2  4.0  19.0     0.0  0.0      0     0  \n",
       "3  2.0  21.0  9030.0  1.0     48    53  \n",
       "4  4.0  19.0     0.0  0.0      0     0  "
      ]
     },
     "execution_count": 2,
     "metadata": {},
     "output_type": "execute_result"
    }
   ],
   "source": [
    "persons = dd.read_csv(r'C:\\Users\\jchu\\OneDrive - San Diego Association of Governments\\Projects\\2023\\2023-034 PopulationSim Outputs QC\\Data\\Version 2\\synthetic_persons_2022_01.csv',\n",
    "                      dtype={'NAICS2': 'object'},\n",
    "                      blocksize=25e6)\n",
    "print((persons.shape[0].compute(), persons.shape[1]))\n",
    "persons.head()"
   ]
  },
  {
   "cell_type": "code",
   "execution_count": 3,
   "id": "68abfda4",
   "metadata": {},
   "outputs": [
    {
     "name": "stdout",
     "output_type": "stream",
     "text": [
      "(1276883, 10)\n"
     ]
    },
    {
     "data": {
      "text/html": [
       "<div>\n",
       "<style scoped>\n",
       "    .dataframe tbody tr th:only-of-type {\n",
       "        vertical-align: middle;\n",
       "    }\n",
       "\n",
       "    .dataframe tbody tr th {\n",
       "        vertical-align: top;\n",
       "    }\n",
       "\n",
       "    .dataframe thead th {\n",
       "        text-align: right;\n",
       "    }\n",
       "</style>\n",
       "<table border=\"1\" class=\"dataframe\">\n",
       "  <thead>\n",
       "    <tr style=\"text-align: right;\">\n",
       "      <th></th>\n",
       "      <th>household_id</th>\n",
       "      <th>mgra</th>\n",
       "      <th>NP</th>\n",
       "      <th>HHADJINC</th>\n",
       "      <th>HHT</th>\n",
       "      <th>WIF</th>\n",
       "      <th>HUPAC</th>\n",
       "      <th>VEH</th>\n",
       "      <th>BLD</th>\n",
       "      <th>GQ_type</th>\n",
       "    </tr>\n",
       "  </thead>\n",
       "  <tbody>\n",
       "    <tr>\n",
       "      <th>0</th>\n",
       "      <td>1</td>\n",
       "      <td>57</td>\n",
       "      <td>3</td>\n",
       "      <td>87344.7</td>\n",
       "      <td>3.0</td>\n",
       "      <td>2.0</td>\n",
       "      <td>4.0</td>\n",
       "      <td>1.0</td>\n",
       "      <td>6.0</td>\n",
       "      <td>0.0</td>\n",
       "    </tr>\n",
       "    <tr>\n",
       "      <th>1</th>\n",
       "      <td>2</td>\n",
       "      <td>57</td>\n",
       "      <td>1</td>\n",
       "      <td>204630.0</td>\n",
       "      <td>4.0</td>\n",
       "      <td>NaN</td>\n",
       "      <td>4.0</td>\n",
       "      <td>2.0</td>\n",
       "      <td>2.0</td>\n",
       "      <td>0.0</td>\n",
       "    </tr>\n",
       "    <tr>\n",
       "      <th>2</th>\n",
       "      <td>3</td>\n",
       "      <td>57</td>\n",
       "      <td>1</td>\n",
       "      <td>39633.6</td>\n",
       "      <td>6.0</td>\n",
       "      <td>NaN</td>\n",
       "      <td>4.0</td>\n",
       "      <td>1.0</td>\n",
       "      <td>3.0</td>\n",
       "      <td>0.0</td>\n",
       "    </tr>\n",
       "    <tr>\n",
       "      <th>3</th>\n",
       "      <td>4</td>\n",
       "      <td>57</td>\n",
       "      <td>6</td>\n",
       "      <td>78621.0</td>\n",
       "      <td>3.0</td>\n",
       "      <td>1.0</td>\n",
       "      <td>2.0</td>\n",
       "      <td>1.0</td>\n",
       "      <td>2.0</td>\n",
       "      <td>0.0</td>\n",
       "    </tr>\n",
       "    <tr>\n",
       "      <th>4</th>\n",
       "      <td>5</td>\n",
       "      <td>57</td>\n",
       "      <td>7</td>\n",
       "      <td>108561.6</td>\n",
       "      <td>1.0</td>\n",
       "      <td>1.0</td>\n",
       "      <td>3.0</td>\n",
       "      <td>4.0</td>\n",
       "      <td>2.0</td>\n",
       "      <td>0.0</td>\n",
       "    </tr>\n",
       "  </tbody>\n",
       "</table>\n",
       "</div>"
      ],
      "text/plain": [
       "   household_id  mgra  NP  HHADJINC  HHT  WIF  HUPAC  VEH  BLD  GQ_type\n",
       "0             1    57   3   87344.7  3.0  2.0    4.0  1.0  6.0      0.0\n",
       "1             2    57   1  204630.0  4.0  NaN    4.0  2.0  2.0      0.0\n",
       "2             3    57   1   39633.6  6.0  NaN    4.0  1.0  3.0      0.0\n",
       "3             4    57   6   78621.0  3.0  1.0    2.0  1.0  2.0      0.0\n",
       "4             5    57   7  108561.6  1.0  1.0    3.0  4.0  2.0      0.0"
      ]
     },
     "execution_count": 3,
     "metadata": {},
     "output_type": "execute_result"
    }
   ],
   "source": [
    "households = dd.read_csv(r'C:\\Users\\jchu\\OneDrive - San Diego Association of Governments\\Projects\\2023\\2023-034 PopulationSim Outputs QC\\Data\\Version 2\\synthetic_households_2022_01.csv',\n",
    "                      blocksize=25e6)\n",
    "print((households.shape[0].compute(), households.shape[1]))\n",
    "households.head()"
   ]
  },
  {
   "cell_type": "markdown",
   "id": "052213e9",
   "metadata": {},
   "source": [
    "# 10.1 ESR b have age > 16 \n",
    "\n",
    "Check for records in which `ESR` is less than 16 (`0`), but `AGEP` is greater than than 16."
   ]
  },
  {
   "cell_type": "code",
   "execution_count": 4,
   "id": "a85b0b76",
   "metadata": {},
   "outputs": [
    {
     "data": {
      "text/plain": [
       "0"
      ]
     },
     "execution_count": 4,
     "metadata": {},
     "output_type": "execute_result"
    }
   ],
   "source": [
    "# Number of persons that have an ESR of 0 (less than 16 y/o), but AGEP greater than or equal to 16\n",
    "persons[(persons['ESR'] == 0) & persons['AGEP'] >= 16].shape[0].compute()"
   ]
  },
  {
   "cell_type": "markdown",
   "id": "4f39a5a6",
   "metadata": {},
   "source": [
    "# 10.2 ESR b has COW of b \n",
    "Check for records in which `ESR` is less than 16 (`0`), but `COW` is in the universe (not `0`)."
   ]
  },
  {
   "cell_type": "code",
   "execution_count": 5,
   "id": "d3759cd9",
   "metadata": {},
   "outputs": [
    {
     "data": {
      "text/plain": [
       "0"
      ]
     },
     "execution_count": 5,
     "metadata": {},
     "output_type": "execute_result"
    }
   ],
   "source": [
    "# Number of persons that have an ESR of 0 (less than 16 y/o), but has a COW status\n",
    "persons[(persons['ESR'] == 0) & persons['COW'] != 0].shape[0].compute()"
   ]
  },
  {
   "cell_type": "markdown",
   "id": "f7adc8f0",
   "metadata": {},
   "source": [
    "# 10.3 ESR b or 3 or 6 don't have COW of b or 9 (b= NAN) \n",
    "Check for records in which `ESR` is less than 16 yo (`0`) or unemployed (`3`) or not in labor force (`6`) and their `COW` is in the universe and employed (not `0` or `9`).\n",
    "\n",
    "### FLAGED AS FALSE. Data contains records with ESR 3 and 6 with COW neither 0 nor 9"
   ]
  },
  {
   "cell_type": "code",
   "execution_count": 6,
   "id": "ff477743",
   "metadata": {},
   "outputs": [
    {
     "data": {
      "text/plain": [
       "193296"
      ]
     },
     "execution_count": 6,
     "metadata": {},
     "output_type": "execute_result"
    }
   ],
   "source": [
    "# Number of persons where ESR is 0, 3, 6: less than 16, unemployed, or not in labor force\n",
    "# But has a COW code that is neither 0 nor 9 (not in universe nor unemployed/last worked 5 years/never worked)\n",
    "ESRb36 = persons[(persons['ESR'] == 0) | (persons['ESR'] == 3) | (persons['ESR'] == 6)]\n",
    "ESRb36[~((ESRb36['COW'] == 0) | (ESRb36['COW'] == 9))].shape[0].compute()"
   ]
  },
  {
   "cell_type": "code",
   "execution_count": 7,
   "id": "dcff2d73",
   "metadata": {},
   "outputs": [
    {
     "data": {
      "text/plain": [
       "0    6.0\n",
       "1    3.0\n",
       "Name: ESR, dtype: float64"
      ]
     },
     "execution_count": 7,
     "metadata": {},
     "output_type": "execute_result"
    }
   ],
   "source": [
    "# ESR codes of 3 and 6 contain COW codes that are neither 0 nor 9\n",
    "ESRb36[~((ESRb36['COW'] == 0) | (ESRb36['COW'] == 9))]['ESR'].unique().compute()"
   ]
  },
  {
   "cell_type": "code",
   "execution_count": 8,
   "id": "ce535ec7",
   "metadata": {},
   "outputs": [
    {
     "data": {
      "text/plain": [
       "0    1.0\n",
       "1    2.0\n",
       "2    5.0\n",
       "3    3.0\n",
       "4    6.0\n",
       "5    7.0\n",
       "6    4.0\n",
       "7    8.0\n",
       "Name: COW, dtype: float64"
      ]
     },
     "execution_count": 8,
     "metadata": {},
     "output_type": "execute_result"
    }
   ],
   "source": [
    "# COW codes vary between 1 to 8 for these ESR codes\n",
    "ESRb36[~((ESRb36['COW'] == 0) | (ESRb36['COW'] == 9))]['COW'].unique().compute()"
   ]
  },
  {
   "cell_type": "code",
   "execution_count": 9,
   "id": "a2b45a00",
   "metadata": {},
   "outputs": [
    {
     "data": {
      "text/html": [
       "<div>\n",
       "<style scoped>\n",
       "    .dataframe tbody tr th:only-of-type {\n",
       "        vertical-align: middle;\n",
       "    }\n",
       "\n",
       "    .dataframe tbody tr th {\n",
       "        vertical-align: top;\n",
       "    }\n",
       "\n",
       "    .dataframe thead th {\n",
       "        text-align: right;\n",
       "    }\n",
       "</style>\n",
       "<table border=\"1\" class=\"dataframe\">\n",
       "  <thead>\n",
       "    <tr style=\"text-align: right;\">\n",
       "      <th></th>\n",
       "      <th>mgra</th>\n",
       "      <th>household_id</th>\n",
       "      <th>SPORDER</th>\n",
       "      <th>AGEP</th>\n",
       "      <th>SEX</th>\n",
       "      <th>ESR</th>\n",
       "      <th>COW</th>\n",
       "      <th>WKHP</th>\n",
       "      <th>SCHG</th>\n",
       "      <th>RAC1P</th>\n",
       "      <th>HISP</th>\n",
       "      <th>MIL</th>\n",
       "      <th>SCHL</th>\n",
       "      <th>OCCP</th>\n",
       "      <th>WKW</th>\n",
       "      <th>NAICS2</th>\n",
       "      <th>SOC2</th>\n",
       "    </tr>\n",
       "  </thead>\n",
       "  <tbody>\n",
       "    <tr>\n",
       "      <th>11</th>\n",
       "      <td>57</td>\n",
       "      <td>5</td>\n",
       "      <td>1</td>\n",
       "      <td>31</td>\n",
       "      <td>1</td>\n",
       "      <td>6.0</td>\n",
       "      <td>1.0</td>\n",
       "      <td>0.0</td>\n",
       "      <td>0</td>\n",
       "      <td>1</td>\n",
       "      <td>1</td>\n",
       "      <td>2.0</td>\n",
       "      <td>19.0</td>\n",
       "      <td>4720.0</td>\n",
       "      <td>0.0</td>\n",
       "      <td>44</td>\n",
       "      <td>41</td>\n",
       "    </tr>\n",
       "    <tr>\n",
       "      <th>25</th>\n",
       "      <td>57</td>\n",
       "      <td>6</td>\n",
       "      <td>8</td>\n",
       "      <td>60</td>\n",
       "      <td>2</td>\n",
       "      <td>3.0</td>\n",
       "      <td>1.0</td>\n",
       "      <td>40.0</td>\n",
       "      <td>0</td>\n",
       "      <td>1</td>\n",
       "      <td>2</td>\n",
       "      <td>4.0</td>\n",
       "      <td>9.0</td>\n",
       "      <td>2633.0</td>\n",
       "      <td>6.0</td>\n",
       "      <td>45</td>\n",
       "      <td>27</td>\n",
       "    </tr>\n",
       "    <tr>\n",
       "      <th>46</th>\n",
       "      <td>100</td>\n",
       "      <td>17</td>\n",
       "      <td>2</td>\n",
       "      <td>49</td>\n",
       "      <td>2</td>\n",
       "      <td>6.0</td>\n",
       "      <td>1.0</td>\n",
       "      <td>0.0</td>\n",
       "      <td>0</td>\n",
       "      <td>1</td>\n",
       "      <td>2</td>\n",
       "      <td>4.0</td>\n",
       "      <td>19.0</td>\n",
       "      <td>940.0</td>\n",
       "      <td>0.0</td>\n",
       "      <td>54</td>\n",
       "      <td>13</td>\n",
       "    </tr>\n",
       "    <tr>\n",
       "      <th>51</th>\n",
       "      <td>100</td>\n",
       "      <td>18</td>\n",
       "      <td>3</td>\n",
       "      <td>18</td>\n",
       "      <td>2</td>\n",
       "      <td>6.0</td>\n",
       "      <td>1.0</td>\n",
       "      <td>16.0</td>\n",
       "      <td>0</td>\n",
       "      <td>8</td>\n",
       "      <td>2</td>\n",
       "      <td>4.0</td>\n",
       "      <td>16.0</td>\n",
       "      <td>4055.0</td>\n",
       "      <td>6.0</td>\n",
       "      <td>722</td>\n",
       "      <td>35</td>\n",
       "    </tr>\n",
       "    <tr>\n",
       "      <th>54</th>\n",
       "      <td>100</td>\n",
       "      <td>21</td>\n",
       "      <td>1</td>\n",
       "      <td>43</td>\n",
       "      <td>2</td>\n",
       "      <td>6.0</td>\n",
       "      <td>1.0</td>\n",
       "      <td>25.0</td>\n",
       "      <td>0</td>\n",
       "      <td>9</td>\n",
       "      <td>1</td>\n",
       "      <td>4.0</td>\n",
       "      <td>18.0</td>\n",
       "      <td>5820.0</td>\n",
       "      <td>5.0</td>\n",
       "      <td>722</td>\n",
       "      <td>43</td>\n",
       "    </tr>\n",
       "  </tbody>\n",
       "</table>\n",
       "</div>"
      ],
      "text/plain": [
       "    mgra  household_id  SPORDER  AGEP  SEX  ESR  COW  WKHP  SCHG  RAC1P  HISP  \\\n",
       "11    57             5        1    31    1  6.0  1.0   0.0     0      1     1   \n",
       "25    57             6        8    60    2  3.0  1.0  40.0     0      1     2   \n",
       "46   100            17        2    49    2  6.0  1.0   0.0     0      1     2   \n",
       "51   100            18        3    18    2  6.0  1.0  16.0     0      8     2   \n",
       "54   100            21        1    43    2  6.0  1.0  25.0     0      9     1   \n",
       "\n",
       "    MIL  SCHL    OCCP  WKW NAICS2  SOC2  \n",
       "11  2.0  19.0  4720.0  0.0     44    41  \n",
       "25  4.0   9.0  2633.0  6.0     45    27  \n",
       "46  4.0  19.0   940.0  0.0     54    13  \n",
       "51  4.0  16.0  4055.0  6.0    722    35  \n",
       "54  4.0  18.0  5820.0  5.0    722    43  "
      ]
     },
     "execution_count": 9,
     "metadata": {},
     "output_type": "execute_result"
    }
   ],
   "source": [
    "ESRb36[~((ESRb36['COW'] == 0) | (ESRb36['COW'] == 9))].head()"
   ]
  },
  {
   "cell_type": "code",
   "execution_count": 10,
   "id": "d19af098",
   "metadata": {},
   "outputs": [],
   "source": [
    "# output results of checks\n",
    "pd.DataFrame(ESRb36[~((ESRb36['COW'] == 0) | (ESRb36['COW'] == 9))].compute()).to_csv('persons_ESRb36_COW_no_b_9_v2.csv', index=False)"
   ]
  },
  {
   "cell_type": "markdown",
   "id": "2fb0e7c9",
   "metadata": {},
   "source": [
    "# 10.4 Range of hours worked for ESR 1 and 4 and ESR 2 and 5 is reasonable\n",
    "\n",
    "Median of hours is 40 (expected) but maximum hours looks really high."
   ]
  },
  {
   "cell_type": "code",
   "execution_count": 11,
   "id": "f8f3dfdf",
   "metadata": {},
   "outputs": [
    {
     "name": "stdout",
     "output_type": "stream",
     "text": [
      "count    1.501518e+06\n",
      "mean     4.011637e+01\n",
      "std      1.244240e+01\n",
      "min      1.000000e+00\n",
      "25%      4.000000e+01\n",
      "50%      4.000000e+01\n",
      "75%      5.000000e+01\n",
      "max      9.900000e+01\n",
      "Name: WKHP, dtype: float64\n"
     ]
    },
    {
     "data": {
      "text/plain": [
       "<AxesSubplot:>"
      ]
     },
     "execution_count": 11,
     "metadata": {},
     "output_type": "execute_result"
    },
    {
     "data": {
      "image/png": "[encoded data removed]",
      "text/plain": [
       "<Figure size 432x288 with 1 Axes>"
      ]
     },
     "metadata": {
      "needs_background": "light"
     },
     "output_type": "display_data"
    }
   ],
   "source": [
    "# Check range of hours for persons with ESR 1 or 4: at work civilians or armed forces\n",
    "print(persons[(persons['ESR'] == 1) | (persons['ESR'] == 4)]['WKHP'].describe().compute())\n",
    "pd.Series(persons[(persons['ESR'] == 1) | (persons['ESR'] == 4)]['WKHP']).hist()"
   ]
  },
  {
   "cell_type": "code",
   "execution_count": 12,
   "id": "d731c693",
   "metadata": {},
   "outputs": [
    {
     "data": {
      "text/plain": [
       "count    144498.000000\n",
       "mean         64.410144\n",
       "std          10.850501\n",
       "min          51.000000\n",
       "25%          60.000000\n",
       "50%          60.000000\n",
       "75%          80.000000\n",
       "max          99.000000\n",
       "Name: WKHP, dtype: float64"
      ]
     },
     "execution_count": 12,
     "metadata": {},
     "output_type": "execute_result"
    }
   ],
   "source": [
    "persons[((persons['ESR'] == 1) | (persons['ESR'] == 4)) & (persons['WKHP']>50)]['WKHP'].describe().compute()"
   ]
  },
  {
   "cell_type": "code",
   "execution_count": 13,
   "id": "faf19d48",
   "metadata": {},
   "outputs": [
    {
     "name": "stdout",
     "output_type": "stream",
     "text": [
      "count    35241.000000\n",
      "mean        35.869640\n",
      "std         15.640732\n",
      "min          1.000000\n",
      "25%         35.000000\n",
      "50%         40.000000\n",
      "75%         40.000000\n",
      "max         99.000000\n",
      "Name: WKHP, dtype: float64\n"
     ]
    },
    {
     "data": {
      "text/plain": [
       "<AxesSubplot:>"
      ]
     },
     "execution_count": 13,
     "metadata": {},
     "output_type": "execute_result"
    },
    {
     "data": {
      "image/png": "[encoded data removed]",
      "text/plain": [
       "<Figure size 432x288 with 1 Axes>"
      ]
     },
     "metadata": {
      "needs_background": "light"
     },
     "output_type": "display_data"
    }
   ],
   "source": [
    "# Check range of hours for persons with ESR 1 or 4: not at work civilians or armed forces, but with a job\n",
    "print(persons[(persons['ESR'] == 2) | (persons['ESR'] == 5)]['WKHP'].describe().compute())\n",
    "pd.Series(persons[(persons['ESR'] == 2) | (persons['ESR'] == 5)]['WKHP']).hist()"
   ]
  },
  {
   "cell_type": "code",
   "execution_count": 14,
   "id": "8bff7bf1",
   "metadata": {},
   "outputs": [
    {
     "data": {
      "text/plain": [
       "count    654152.0\n",
       "mean          0.0\n",
       "std           0.0\n",
       "min           0.0\n",
       "25%           0.0\n",
       "50%           0.0\n",
       "75%           0.0\n",
       "max           0.0\n",
       "Name: WKHP, dtype: float64"
      ]
     },
     "execution_count": 14,
     "metadata": {},
     "output_type": "execute_result"
    }
   ],
   "source": [
    "persons[((persons['ESR'] == 0))]['WKHP'].describe().compute()\n",
    "# pd.persons[(((persons['ESR'] == 6 | (persons['ESR']==0))) & (persons['WKHP']>50)]['WKHP'].hist()"
   ]
  },
  {
   "cell_type": "code",
   "execution_count": 15,
   "id": "b090e651",
   "metadata": {},
   "outputs": [],
   "source": [
    "# 100k records more than 40 hours per week for 3 and 6 ESR"
   ]
  },
  {
   "cell_type": "markdown",
   "id": "bdcaff27",
   "metadata": {},
   "source": [
    "# 10.5 ESR 4 or 5 have MIL of 1 or 3\n",
    "Check if armed forces ESR 4 or 5 have an active duty status MIL of 1 or 3"
   ]
  },
  {
   "cell_type": "code",
   "execution_count": 16,
   "id": "e74d4ec0",
   "metadata": {},
   "outputs": [
    {
     "data": {
      "text/plain": [
       "0    1.0\n",
       "1    3.0\n",
       "Name: MIL, dtype: float64"
      ]
     },
     "execution_count": 16,
     "metadata": {},
     "output_type": "execute_result"
    }
   ],
   "source": [
    "# MIL codes for persons with ESR 4 or 5: armed forces\n",
    "# MIL codes 1 and 3 code for those on active duty\n",
    "persons[(persons['ESR'] == 4) | (persons['ESR'] == 5)]['MIL'].unique().compute()"
   ]
  },
  {
   "cell_type": "markdown",
   "id": "74553a69",
   "metadata": {},
   "source": [
    "# 10.6 Is there a pattern in COW values for those with MIL code != b or 4\n",
    "For those in or used to be on active duty, what are COW values?\n",
    "\n",
    "Mostly falls under COW 5, Federal government employee. Removing those that are on active duty brings the distribution closer to those that never served, but a large majority still work under the federal government. Similar findings to version 1."
   ]
  },
  {
   "cell_type": "code",
   "execution_count": 17,
   "id": "0f61ac13",
   "metadata": {},
   "outputs": [
    {
     "name": "stdout",
     "output_type": "stream",
     "text": [
      "0    1.0\n",
      "1    5.0\n",
      "2    0.0\n",
      "3    2.0\n",
      "4    6.0\n",
      "5    3.0\n",
      "6    7.0\n",
      "7    9.0\n",
      "8    4.0\n",
      "9    8.0\n",
      "Name: COW, dtype: float64\n"
     ]
    },
    {
     "data": {
      "text/plain": [
       "<AxesSubplot:>"
      ]
     },
     "execution_count": 17,
     "metadata": {},
     "output_type": "execute_result"
    },
    {
     "data": {
      "image/png": "[encoded data removed]",
      "text/plain": [
       "<Figure size 432x288 with 1 Axes>"
      ]
     },
     "metadata": {
      "needs_background": "light"
     },
     "output_type": "display_data"
    }
   ],
   "source": [
    "# Distribution of COW values for those in or used to be on active duty\n",
    "print(persons[~((persons['MIL']==0) | (persons['MIL'] == 4))]['COW'].unique().compute())\n",
    "pd.Series(persons[~((persons['MIL']==0) | (persons['MIL'] == 4))]['COW']).hist()"
   ]
  },
  {
   "cell_type": "code",
   "execution_count": 18,
   "id": "9e645ea5",
   "metadata": {},
   "outputs": [
    {
     "data": {
      "text/plain": [
       "<AxesSubplot:>"
      ]
     },
     "execution_count": 18,
     "metadata": {},
     "output_type": "execute_result"
    },
    {
     "data": {
      "image/png": "[encoded data removed]",
      "text/plain": [
       "<Figure size 432x288 with 1 Axes>"
      ]
     },
     "metadata": {
      "needs_background": "light"
     },
     "output_type": "display_data"
    }
   ],
   "source": [
    "# Distribution of COW values for those that has never served\n",
    "pd.Series(persons[(persons['MIL']==0) | (persons['MIL'] == 4)]['COW']).hist()"
   ]
  },
  {
   "cell_type": "markdown",
   "id": "34897ba4",
   "metadata": {},
   "source": [
    "# 10.7  MIL b and ESR b have age < 17 \n",
    "Check if MIL value less than 17 y/o and ESR value less than 16 (both values of 0) have all AGEP less than 17."
   ]
  },
  {
   "cell_type": "code",
   "execution_count": 19,
   "id": "7a11694f",
   "metadata": {},
   "outputs": [
    {
     "data": {
      "text/plain": [
       "0"
      ]
     },
     "execution_count": 19,
     "metadata": {},
     "output_type": "execute_result"
    }
   ],
   "source": [
    "# Number of persons with ESR value less than 16 y/o, but AGEP greater than or equal to 17\n",
    "persons[(persons['ESR'] == 0) & (persons['AGEP'] >= 17)].shape[0].compute()"
   ]
  },
  {
   "cell_type": "code",
   "execution_count": 20,
   "id": "08fdbb92",
   "metadata": {},
   "outputs": [
    {
     "data": {
      "text/plain": [
       "0"
      ]
     },
     "execution_count": 20,
     "metadata": {},
     "output_type": "execute_result"
    }
   ],
   "source": [
    "# Number of persons with MIL value less than 16 y/o, but AGEP greater than or equal to 17\n",
    "persons[(persons['MIL'] == 0) & (persons['AGEP'] >= 17)].shape[0].compute()"
   ]
  },
  {
   "cell_type": "markdown",
   "id": "500b4d69",
   "metadata": {},
   "source": [
    "# 10.8 MIL 1 have ESR = 4 or 5\n",
    "Check if MIL on active duty has ESR value for armed forces"
   ]
  },
  {
   "cell_type": "code",
   "execution_count": 21,
   "id": "7a8af317",
   "metadata": {},
   "outputs": [
    {
     "data": {
      "text/plain": [
       "0    4.0\n",
       "1    5.0\n",
       "Name: ESR, dtype: float64"
      ]
     },
     "execution_count": 21,
     "metadata": {},
     "output_type": "execute_result"
    }
   ],
   "source": [
    "persons[persons['MIL'] == 1]['ESR'].unique().compute()"
   ]
  },
  {
   "cell_type": "markdown",
   "id": "df592c76",
   "metadata": {},
   "source": [
    "# 10.9 ESR 4 or 5 have age <= 60"
   ]
  },
  {
   "cell_type": "code",
   "execution_count": 22,
   "id": "beb2c146",
   "metadata": {},
   "outputs": [
    {
     "data": {
      "text/plain": [
       "0"
      ]
     },
     "execution_count": 22,
     "metadata": {},
     "output_type": "execute_result"
    }
   ],
   "source": [
    "persons[((persons['ESR'] == 4) | (persons['ESR'] == 5)) & (persons['AGEP'] > 60)].shape[0].compute()"
   ]
  },
  {
   "cell_type": "markdown",
   "id": "47c55cb2",
   "metadata": {},
   "source": [
    "# 10.10 Pattern in COWs with MIL 1 has ESR 4 or 5."
   ]
  },
  {
   "cell_type": "code",
   "execution_count": 23,
   "id": "8c660bb1",
   "metadata": {},
   "outputs": [
    {
     "data": {
      "text/plain": [
       "0    5.0\n",
       "Name: COW, dtype: float64"
      ]
     },
     "execution_count": 23,
     "metadata": {},
     "output_type": "execute_result"
    }
   ],
   "source": [
    "persons[persons['MIL'] == 1]['COW'].unique().compute()"
   ]
  },
  {
   "cell_type": "markdown",
   "id": "2289ecc0",
   "metadata": {},
   "source": [
    "# 10.11 MIL = 1 or 3 have age > 60\n",
    "\n",
    "Check for all persons with `MIL` codes `1` or `3` (active duty) and over `AGEP` 60.\n",
    "\n",
    "All persons that are on active duty and over `AGEP` 60 are on active duty for training in Reserves/National Guard (`MIL` code `3`)."
   ]
  },
  {
   "cell_type": "code",
   "execution_count": 24,
   "id": "1eeec811",
   "metadata": {},
   "outputs": [
    {
     "name": "stdout",
     "output_type": "stream",
     "text": [
      "12536\n"
     ]
    },
    {
     "data": {
      "text/plain": [
       "<AxesSubplot:>"
      ]
     },
     "execution_count": 24,
     "metadata": {},
     "output_type": "execute_result"
    },
    {
     "data": {
      "image/png": "[encoded data removed]",
      "text/plain": [
       "<Figure size 432x288 with 1 Axes>"
      ]
     },
     "metadata": {
      "needs_background": "light"
     },
     "output_type": "display_data"
    }
   ],
   "source": [
    "# Number and distribution of persons with MIL code 1 or 3 and are over AGEP 60\n",
    "print(persons[((persons['MIL'] == 1) | (persons['MIL'] == 3)) & (persons['AGEP'] > 60)].shape[0].compute())\n",
    "pd.Series(persons[((persons['MIL'] == 1) | (persons['MIL'] == 3)) & (persons['AGEP'] > 60)]['AGEP']).hist()"
   ]
  },
  {
   "cell_type": "code",
   "execution_count": 25,
   "id": "63bb4eb5",
   "metadata": {},
   "outputs": [
    {
     "name": "stdout",
     "output_type": "stream",
     "text": [
      "0\n"
     ]
    },
    {
     "data": {
      "text/plain": [
       "<AxesSubplot:>"
      ]
     },
     "execution_count": 25,
     "metadata": {},
     "output_type": "execute_result"
    },
    {
     "data": {
      "image/png": "[encoded data removed]",
      "text/plain": [
       "<Figure size 432x288 with 1 Axes>"
      ]
     },
     "metadata": {
      "needs_background": "light"
     },
     "output_type": "display_data"
    }
   ],
   "source": [
    "# Number and distribution of persons with MIL code 1 and are over AGEP 60\n",
    "print(persons[(persons['MIL'] == 1) & (persons['AGEP'] > 60)].shape[0].compute())\n",
    "pd.Series(persons[(persons['MIL'] == 1) & (persons['AGEP'] > 60)]['AGEP']).hist()"
   ]
  },
  {
   "cell_type": "code",
   "execution_count": 26,
   "id": "4d84ecf1",
   "metadata": {},
   "outputs": [
    {
     "name": "stdout",
     "output_type": "stream",
     "text": [
      "12536\n"
     ]
    },
    {
     "data": {
      "text/plain": [
       "<AxesSubplot:>"
      ]
     },
     "execution_count": 26,
     "metadata": {},
     "output_type": "execute_result"
    },
    {
     "data": {
      "image/png": "[encoded data removed]",
      "text/plain": [
       "<Figure size 432x288 with 1 Axes>"
      ]
     },
     "metadata": {
      "needs_background": "light"
     },
     "output_type": "display_data"
    }
   ],
   "source": [
    "# Number and distribution of persons with MIL code 3 and are over AGEP 60\n",
    "print(persons[(persons['MIL'] == 3) & (persons['AGEP'] > 60)].shape[0].compute())\n",
    "pd.Series(persons[(persons['MIL'] == 3) & (persons['AGEP'] > 60)]['AGEP']).hist()"
   ]
  },
  {
   "cell_type": "code",
   "execution_count": 27,
   "id": "16aefd77",
   "metadata": {},
   "outputs": [
    {
     "data": {
      "text/plain": [
       "<AxesSubplot:>"
      ]
     },
     "execution_count": 27,
     "metadata": {},
     "output_type": "execute_result"
    },
    {
     "data": {
      "image/png": "[encoded data removed]",
      "text/plain": [
       "<Figure size 432x288 with 1 Axes>"
      ]
     },
     "metadata": {
      "needs_background": "light"
     },
     "output_type": "display_data"
    }
   ],
   "source": [
    "# Checks for COW code distributions for persons with MIL code 1 or 3\n",
    "# Majority are COW code 0 (not in COW universe)\n",
    "pd.Series(persons[((persons['MIL'] == 1) | (persons['MIL'] == 3)) & (persons['AGEP'] > 60)]['COW']).hist()"
   ]
  },
  {
   "cell_type": "code",
   "execution_count": null,
   "id": "f6b55ec5",
   "metadata": {},
   "outputs": [],
   "source": []
  },
  {
   "cell_type": "code",
   "execution_count": null,
   "id": "32230a17",
   "metadata": {},
   "outputs": [],
   "source": []
  },
  {
   "cell_type": "code",
   "execution_count": null,
   "id": "62d7735c",
   "metadata": {},
   "outputs": [],
   "source": []
  }
 ],
 "metadata": {
  "kernelspec": {
   "display_name": "Python 3 (ipykernel)",
   "language": "python",
   "name": "python3"
  },
  "language_info": {
   "codemirror_mode": {
    "name": "ipython",
    "version": 3
   },
   "file_extension": ".py",
   "mimetype": "text/x-python",
   "name": "python",
   "nbconvert_exporter": "python",
   "pygments_lexer": "ipython3",
   "version": "3.9.7"
  }
 },
 "nbformat": 4,
 "nbformat_minor": 5
}
