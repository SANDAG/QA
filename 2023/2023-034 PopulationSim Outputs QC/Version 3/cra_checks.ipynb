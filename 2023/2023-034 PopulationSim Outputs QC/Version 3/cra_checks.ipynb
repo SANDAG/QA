{
 "cells": [
  {
   "cell_type": "code",
   "execution_count": 1,
   "metadata": {},
   "outputs": [],
   "source": [
    "import pandas as pd\n",
    "import numpy as np"
   ]
  },
  {
   "attachments": {},
   "cell_type": "markdown",
   "metadata": {},
   "source": [
    "# Download the data"
   ]
  },
  {
   "cell_type": "code",
   "execution_count": 2,
   "metadata": {},
   "outputs": [
    {
     "name": "stdout",
     "output_type": "stream",
     "text": [
      "MGRA based data is downloaded\n",
      "Synthetic Households is downloaded\n",
      "Synthetic Persons is downloaded\n"
     ]
    }
   ],
   "source": [
    "mgra_based_data = pd.read_csv(r\"C:\\Users\\cra\\OneDrive - San Diego Association of Governments\\Working_Drive\\new_popsim\\new_data\\new_mgra15_based_input_2022_01.csv\")\n",
    "print(\"MGRA based data is downloaded\")\n",
    "synthetic_households = pd.read_csv(r\"C:\\Users\\cra\\OneDrive - San Diego Association of Governments\\Working_Drive\\new_popsim\\new_data\\synthetic_households_2022_01.csv\")\n",
    "print(\"Synthetic Households is downloaded\")\n",
    "synthetic_persons = pd.read_csv(r\"C:\\Users\\cra\\OneDrive - San Diego Association of Governments\\Working_Drive\\new_popsim\\new_data\\synthetic_persons_2022_01.csv\")\n",
    "print(\"Synthetic Persons is downloaded\")"
   ]
  },
  {
   "attachments": {},
   "cell_type": "markdown",
   "metadata": {},
   "source": [
    "# Check 1\n",
    "Null value checks - all "
   ]
  },
  {
   "cell_type": "code",
   "execution_count": 4,
   "metadata": {},
   "outputs": [
    {
     "data": {
      "text/plain": [
       "Series([], dtype: int64)"
      ]
     },
     "execution_count": 4,
     "metadata": {},
     "output_type": "execute_result"
    }
   ],
   "source": [
    "mgra_based_data.isna().sum()[mgra_based_data.isna().sum() > 0]"
   ]
  },
  {
   "cell_type": "code",
   "execution_count": 5,
   "metadata": {},
   "outputs": [
    {
     "data": {
      "text/plain": [
       "WIF    495495\n",
       "VEH    116411\n",
       "dtype: int64"
      ]
     },
     "execution_count": 5,
     "metadata": {},
     "output_type": "execute_result"
    }
   ],
   "source": [
    "synthetic_households.isna().sum()[synthetic_households.isna().sum() > 0]"
   ]
  },
  {
   "cell_type": "code",
   "execution_count": 6,
   "metadata": {},
   "outputs": [
    {
     "data": {
      "text/plain": [
       "Series([], dtype: int64)"
      ]
     },
     "execution_count": 6,
     "metadata": {},
     "output_type": "execute_result"
    }
   ],
   "source": [
    "synthetic_persons.isna().sum()[synthetic_persons.isna().sum() > 0]"
   ]
  },
  {
   "cell_type": "code",
   "execution_count": 5,
   "metadata": {},
   "outputs": [],
   "source": [
    "# '''Subset the persons file using the houshold_id where WIF is NaN. Then further subset where ESR code is 1 or 4 '''\n",
    "# columns = list(synthetic_households[(synthetic_households['WIF'].isna())]['household_id'])\n",
    "# output = synthetic_persons[synthetic_persons['household_id'].isin(columns)]\n",
    "# output = output[output['ESR'].isin([1,4])]\n",
    "# output"
   ]
  },
  {
   "cell_type": "code",
   "execution_count": 6,
   "metadata": {},
   "outputs": [],
   "source": [
    "# output.to_excel(r'C:\\Users\\cra\\San Diego Association of Governments\\SANDAG QA QC - Documents\\Projects\\2023\\2023-034 PopulationSim Outputs QC\\Results\\SH_WIF_is_NaN_and_SP_ESR_is_1_or_4.xlsx', index=False)"
   ]
  },
  {
   "attachments": {},
   "cell_type": "markdown",
   "metadata": {},
   "source": [
    "# Check 2\n",
    "Consistency in Household Population, Group Quarter Population, and No. Of non-GQ households between MGRA-based input, synthetic persons and synthetic households files "
   ]
  },
  {
   "cell_type": "code",
   "execution_count": 7,
   "metadata": {},
   "outputs": [
    {
     "data": {
      "text/html": [
       "<div>\n",
       "<style scoped>\n",
       "    .dataframe tbody tr th:only-of-type {\n",
       "        vertical-align: middle;\n",
       "    }\n",
       "\n",
       "    .dataframe tbody tr th {\n",
       "        vertical-align: top;\n",
       "    }\n",
       "\n",
       "    .dataframe thead th {\n",
       "        text-align: right;\n",
       "    }\n",
       "</style>\n",
       "<table border=\"1\" class=\"dataframe\">\n",
       "  <thead>\n",
       "    <tr style=\"text-align: right;\">\n",
       "      <th></th>\n",
       "      <th>mgra</th>\n",
       "      <th>household_id</th>\n",
       "      <th>SPORDER</th>\n",
       "      <th>AGEP</th>\n",
       "      <th>SEX</th>\n",
       "      <th>ESR</th>\n",
       "      <th>COW</th>\n",
       "      <th>WKHP</th>\n",
       "      <th>SCHG</th>\n",
       "      <th>RAC1P</th>\n",
       "      <th>HISP</th>\n",
       "      <th>MIL</th>\n",
       "      <th>SCHL</th>\n",
       "      <th>OCCP</th>\n",
       "      <th>WKW</th>\n",
       "      <th>NAICS2</th>\n",
       "      <th>SOC2</th>\n",
       "      <th>GQ_type</th>\n",
       "    </tr>\n",
       "  </thead>\n",
       "  <tbody>\n",
       "    <tr>\n",
       "      <th>0</th>\n",
       "      <td>57</td>\n",
       "      <td>1</td>\n",
       "      <td>1</td>\n",
       "      <td>34</td>\n",
       "      <td>2</td>\n",
       "      <td>1.0</td>\n",
       "      <td>1.0</td>\n",
       "      <td>40.0</td>\n",
       "      <td>0</td>\n",
       "      <td>1</td>\n",
       "      <td>2</td>\n",
       "      <td>4.0</td>\n",
       "      <td>17.0</td>\n",
       "      <td>4850.0</td>\n",
       "      <td>1.0</td>\n",
       "      <td>33</td>\n",
       "      <td>41</td>\n",
       "      <td>0.0</td>\n",
       "    </tr>\n",
       "    <tr>\n",
       "      <th>1</th>\n",
       "      <td>57</td>\n",
       "      <td>1</td>\n",
       "      <td>2</td>\n",
       "      <td>16</td>\n",
       "      <td>2</td>\n",
       "      <td>6.0</td>\n",
       "      <td>0.0</td>\n",
       "      <td>0.0</td>\n",
       "      <td>13</td>\n",
       "      <td>1</td>\n",
       "      <td>2</td>\n",
       "      <td>0.0</td>\n",
       "      <td>13.0</td>\n",
       "      <td>0.0</td>\n",
       "      <td>0.0</td>\n",
       "      <td>0</td>\n",
       "      <td>0</td>\n",
       "      <td>0.0</td>\n",
       "    </tr>\n",
       "    <tr>\n",
       "      <th>2</th>\n",
       "      <td>57</td>\n",
       "      <td>1</td>\n",
       "      <td>3</td>\n",
       "      <td>15</td>\n",
       "      <td>2</td>\n",
       "      <td>0.0</td>\n",
       "      <td>0.0</td>\n",
       "      <td>0.0</td>\n",
       "      <td>11</td>\n",
       "      <td>1</td>\n",
       "      <td>2</td>\n",
       "      <td>0.0</td>\n",
       "      <td>11.0</td>\n",
       "      <td>0.0</td>\n",
       "      <td>0.0</td>\n",
       "      <td>0</td>\n",
       "      <td>0</td>\n",
       "      <td>0.0</td>\n",
       "    </tr>\n",
       "    <tr>\n",
       "      <th>3</th>\n",
       "      <td>57</td>\n",
       "      <td>1</td>\n",
       "      <td>4</td>\n",
       "      <td>14</td>\n",
       "      <td>2</td>\n",
       "      <td>0.0</td>\n",
       "      <td>0.0</td>\n",
       "      <td>0.0</td>\n",
       "      <td>11</td>\n",
       "      <td>1</td>\n",
       "      <td>2</td>\n",
       "      <td>0.0</td>\n",
       "      <td>11.0</td>\n",
       "      <td>0.0</td>\n",
       "      <td>0.0</td>\n",
       "      <td>0</td>\n",
       "      <td>0</td>\n",
       "      <td>0.0</td>\n",
       "    </tr>\n",
       "    <tr>\n",
       "      <th>4</th>\n",
       "      <td>57</td>\n",
       "      <td>1</td>\n",
       "      <td>5</td>\n",
       "      <td>12</td>\n",
       "      <td>1</td>\n",
       "      <td>0.0</td>\n",
       "      <td>0.0</td>\n",
       "      <td>0.0</td>\n",
       "      <td>8</td>\n",
       "      <td>1</td>\n",
       "      <td>2</td>\n",
       "      <td>0.0</td>\n",
       "      <td>8.0</td>\n",
       "      <td>0.0</td>\n",
       "      <td>0.0</td>\n",
       "      <td>0</td>\n",
       "      <td>0</td>\n",
       "      <td>0.0</td>\n",
       "    </tr>\n",
       "    <tr>\n",
       "      <th>...</th>\n",
       "      <td>...</td>\n",
       "      <td>...</td>\n",
       "      <td>...</td>\n",
       "      <td>...</td>\n",
       "      <td>...</td>\n",
       "      <td>...</td>\n",
       "      <td>...</td>\n",
       "      <td>...</td>\n",
       "      <td>...</td>\n",
       "      <td>...</td>\n",
       "      <td>...</td>\n",
       "      <td>...</td>\n",
       "      <td>...</td>\n",
       "      <td>...</td>\n",
       "      <td>...</td>\n",
       "      <td>...</td>\n",
       "      <td>...</td>\n",
       "      <td>...</td>\n",
       "    </tr>\n",
       "    <tr>\n",
       "      <th>3282450</th>\n",
       "      <td>24280</td>\n",
       "      <td>1276879</td>\n",
       "      <td>1</td>\n",
       "      <td>41</td>\n",
       "      <td>1</td>\n",
       "      <td>6.0</td>\n",
       "      <td>0.0</td>\n",
       "      <td>0.0</td>\n",
       "      <td>0</td>\n",
       "      <td>1</td>\n",
       "      <td>1</td>\n",
       "      <td>4.0</td>\n",
       "      <td>6.0</td>\n",
       "      <td>0.0</td>\n",
       "      <td>0.0</td>\n",
       "      <td>0</td>\n",
       "      <td>0</td>\n",
       "      <td>3.0</td>\n",
       "    </tr>\n",
       "    <tr>\n",
       "      <th>3282451</th>\n",
       "      <td>24280</td>\n",
       "      <td>1276880</td>\n",
       "      <td>1</td>\n",
       "      <td>28</td>\n",
       "      <td>1</td>\n",
       "      <td>6.0</td>\n",
       "      <td>1.0</td>\n",
       "      <td>40.0</td>\n",
       "      <td>0</td>\n",
       "      <td>1</td>\n",
       "      <td>2</td>\n",
       "      <td>4.0</td>\n",
       "      <td>11.0</td>\n",
       "      <td>6260.0</td>\n",
       "      <td>5.0</td>\n",
       "      <td>23</td>\n",
       "      <td>47</td>\n",
       "      <td>3.0</td>\n",
       "    </tr>\n",
       "    <tr>\n",
       "      <th>3282452</th>\n",
       "      <td>24280</td>\n",
       "      <td>1276881</td>\n",
       "      <td>1</td>\n",
       "      <td>76</td>\n",
       "      <td>1</td>\n",
       "      <td>6.0</td>\n",
       "      <td>0.0</td>\n",
       "      <td>0.0</td>\n",
       "      <td>0</td>\n",
       "      <td>1</td>\n",
       "      <td>1</td>\n",
       "      <td>3.0</td>\n",
       "      <td>19.0</td>\n",
       "      <td>0.0</td>\n",
       "      <td>0.0</td>\n",
       "      <td>0</td>\n",
       "      <td>0</td>\n",
       "      <td>3.0</td>\n",
       "    </tr>\n",
       "    <tr>\n",
       "      <th>3282453</th>\n",
       "      <td>24280</td>\n",
       "      <td>1276882</td>\n",
       "      <td>1</td>\n",
       "      <td>46</td>\n",
       "      <td>1</td>\n",
       "      <td>6.0</td>\n",
       "      <td>0.0</td>\n",
       "      <td>0.0</td>\n",
       "      <td>0</td>\n",
       "      <td>9</td>\n",
       "      <td>2</td>\n",
       "      <td>4.0</td>\n",
       "      <td>13.0</td>\n",
       "      <td>0.0</td>\n",
       "      <td>0.0</td>\n",
       "      <td>0</td>\n",
       "      <td>0</td>\n",
       "      <td>3.0</td>\n",
       "    </tr>\n",
       "    <tr>\n",
       "      <th>3282454</th>\n",
       "      <td>24280</td>\n",
       "      <td>1276883</td>\n",
       "      <td>1</td>\n",
       "      <td>23</td>\n",
       "      <td>2</td>\n",
       "      <td>1.0</td>\n",
       "      <td>1.0</td>\n",
       "      <td>40.0</td>\n",
       "      <td>0</td>\n",
       "      <td>1</td>\n",
       "      <td>1</td>\n",
       "      <td>4.0</td>\n",
       "      <td>13.0</td>\n",
       "      <td>4840.0</td>\n",
       "      <td>6.0</td>\n",
       "      <td>56</td>\n",
       "      <td>41</td>\n",
       "      <td>3.0</td>\n",
       "    </tr>\n",
       "  </tbody>\n",
       "</table>\n",
       "<p>3282455 rows × 18 columns</p>\n",
       "</div>"
      ],
      "text/plain": [
       "          mgra  household_id  SPORDER  AGEP  SEX  ESR  COW  WKHP  SCHG  RAC1P  \\\n",
       "0           57             1        1    34    2  1.0  1.0  40.0     0      1   \n",
       "1           57             1        2    16    2  6.0  0.0   0.0    13      1   \n",
       "2           57             1        3    15    2  0.0  0.0   0.0    11      1   \n",
       "3           57             1        4    14    2  0.0  0.0   0.0    11      1   \n",
       "4           57             1        5    12    1  0.0  0.0   0.0     8      1   \n",
       "...        ...           ...      ...   ...  ...  ...  ...   ...   ...    ...   \n",
       "3282450  24280       1276879        1    41    1  6.0  0.0   0.0     0      1   \n",
       "3282451  24280       1276880        1    28    1  6.0  1.0  40.0     0      1   \n",
       "3282452  24280       1276881        1    76    1  6.0  0.0   0.0     0      1   \n",
       "3282453  24280       1276882        1    46    1  6.0  0.0   0.0     0      9   \n",
       "3282454  24280       1276883        1    23    2  1.0  1.0  40.0     0      1   \n",
       "\n",
       "         HISP  MIL  SCHL    OCCP  WKW NAICS2  SOC2  GQ_type  \n",
       "0           2  4.0  17.0  4850.0  1.0     33    41      0.0  \n",
       "1           2  0.0  13.0     0.0  0.0      0     0      0.0  \n",
       "2           2  0.0  11.0     0.0  0.0      0     0      0.0  \n",
       "3           2  0.0  11.0     0.0  0.0      0     0      0.0  \n",
       "4           2  0.0   8.0     0.0  0.0      0     0      0.0  \n",
       "...       ...  ...   ...     ...  ...    ...   ...      ...  \n",
       "3282450     1  4.0   6.0     0.0  0.0      0     0      3.0  \n",
       "3282451     2  4.0  11.0  6260.0  5.0     23    47      3.0  \n",
       "3282452     1  3.0  19.0     0.0  0.0      0     0      3.0  \n",
       "3282453     2  4.0  13.0     0.0  0.0      0     0      3.0  \n",
       "3282454     1  4.0  13.0  4840.0  6.0     56    41      3.0  \n",
       "\n",
       "[3282455 rows x 18 columns]"
      ]
     },
     "execution_count": 7,
     "metadata": {},
     "output_type": "execute_result"
    }
   ],
   "source": [
    "synthetic_persons_with_GQ = synthetic_persons.merge(synthetic_households[['household_id', 'GQ_type']], how='left', on='household_id')\n",
    "synthetic_persons_with_GQ"
   ]
  },
  {
   "cell_type": "code",
   "execution_count": 8,
   "metadata": {},
   "outputs": [],
   "source": [
    "# Synthetic Households Work \n",
    "sh_number_of_non_gq_households = len(synthetic_households[synthetic_households['GQ_type'] == 0])\n",
    "sh_number_of_gq_households = len(synthetic_households[synthetic_households['GQ_type'] != 0])\n",
    "sh_population_non_gq = sum(synthetic_households[synthetic_households['GQ_type'] == 0]['NP'])\n",
    "sh_population_gq = sum(synthetic_households[synthetic_households['GQ_type'] != 0]['NP'])"
   ]
  },
  {
   "cell_type": "code",
   "execution_count": 9,
   "metadata": {},
   "outputs": [
    {
     "data": {
      "text/plain": [
       "116411"
      ]
     },
     "execution_count": 9,
     "metadata": {},
     "output_type": "execute_result"
    }
   ],
   "source": [
    "# Synthetic Persons Work \n",
    "sp_number_of_non_gq_households = synthetic_persons_with_GQ[synthetic_persons_with_GQ['GQ_type'] == 0]['household_id'].nunique()\n",
    "sp_number_of_gq_households = synthetic_persons_with_GQ[synthetic_persons_with_GQ['GQ_type'] != 0]['household_id'].nunique()\n",
    "sp_population_non_gq = len(synthetic_persons_with_GQ[synthetic_persons_with_GQ['GQ_type'] == 0])\n",
    "sp_population_gq = len(synthetic_persons_with_GQ[synthetic_persons_with_GQ['GQ_type'] != 0])\n",
    "sp_population_gq"
   ]
  },
  {
   "cell_type": "code",
   "execution_count": 10,
   "metadata": {},
   "outputs": [],
   "source": [
    "# MGRA based information \n",
    "mb_number_of_non_gq_households = sum(mgra_based_data['hh'])\n",
    "mb_population_non_gq = sum(mgra_based_data['hhp'])\n",
    "mb_population_gq = sum(mgra_based_data['gq_civ'] + mgra_based_data['gq_mil'])"
   ]
  },
  {
   "attachments": {},
   "cell_type": "markdown",
   "metadata": {},
   "source": [
    "## Consistency in Household Population\n",
    "This is non-gq"
   ]
  },
  {
   "cell_type": "code",
   "execution_count": 11,
   "metadata": {},
   "outputs": [
    {
     "name": "stdout",
     "output_type": "stream",
     "text": [
      "Synthetic Households non-gq population 3166044\n",
      "Synthetic Persons non-gq population 3166044\n",
      "MGRA Based non-gq population 3170895\n"
     ]
    }
   ],
   "source": [
    "print(f\"Synthetic Households non-gq population {sh_population_non_gq}\")\n",
    "print(f\"Synthetic Persons non-gq population {sp_population_non_gq}\")\n",
    "print(f\"MGRA Based non-gq population {mb_population_non_gq}\")"
   ]
  },
  {
   "cell_type": "code",
   "execution_count": 12,
   "metadata": {},
   "outputs": [],
   "source": [
    "# Synthetic Households non-gq dataframe\n",
    "sh_non_qg_pop_df = synthetic_households[synthetic_households['GQ_type'] == 0][['mgra', 'NP']]\n",
    "sh_non_qg_pop_df = sh_non_qg_pop_df.groupby('mgra').sum().reset_index()\n",
    "sh_non_qg_pop_df.columns = ['mgra', 'non_gq_pop_SH']\n",
    "\n",
    "# MGRA Based non-gq dataframe\n",
    "mgra_based_data_non_gq_pop = mgra_based_data[['mgra','hhp']]\n",
    "mgra_based_data_non_gq_pop.columns = ['mgra', 'non_gq_pop_MB']"
   ]
  },
  {
   "cell_type": "code",
   "execution_count": 14,
   "metadata": {},
   "outputs": [
    {
     "data": {
      "text/html": [
       "<div>\n",
       "<style scoped>\n",
       "    .dataframe tbody tr th:only-of-type {\n",
       "        vertical-align: middle;\n",
       "    }\n",
       "\n",
       "    .dataframe tbody tr th {\n",
       "        vertical-align: top;\n",
       "    }\n",
       "\n",
       "    .dataframe thead th {\n",
       "        text-align: right;\n",
       "    }\n",
       "</style>\n",
       "<table border=\"1\" class=\"dataframe\">\n",
       "  <thead>\n",
       "    <tr style=\"text-align: right;\">\n",
       "      <th></th>\n",
       "      <th>mgra</th>\n",
       "      <th>non_gq_pop_SH</th>\n",
       "      <th>non_gq_pop_MB</th>\n",
       "      <th>Diff</th>\n",
       "    </tr>\n",
       "  </thead>\n",
       "  <tbody>\n",
       "    <tr>\n",
       "      <th>0</th>\n",
       "      <td>1</td>\n",
       "      <td>433</td>\n",
       "      <td>440</td>\n",
       "      <td>-7</td>\n",
       "    </tr>\n",
       "    <tr>\n",
       "      <th>1</th>\n",
       "      <td>2</td>\n",
       "      <td>63</td>\n",
       "      <td>68</td>\n",
       "      <td>-5</td>\n",
       "    </tr>\n",
       "    <tr>\n",
       "      <th>2</th>\n",
       "      <td>3</td>\n",
       "      <td>547</td>\n",
       "      <td>549</td>\n",
       "      <td>-2</td>\n",
       "    </tr>\n",
       "    <tr>\n",
       "      <th>3</th>\n",
       "      <td>4</td>\n",
       "      <td>6</td>\n",
       "      <td>5</td>\n",
       "      <td>1</td>\n",
       "    </tr>\n",
       "    <tr>\n",
       "      <th>4</th>\n",
       "      <td>5</td>\n",
       "      <td>93</td>\n",
       "      <td>90</td>\n",
       "      <td>3</td>\n",
       "    </tr>\n",
       "    <tr>\n",
       "      <th>...</th>\n",
       "      <td>...</td>\n",
       "      <td>...</td>\n",
       "      <td>...</td>\n",
       "      <td>...</td>\n",
       "    </tr>\n",
       "    <tr>\n",
       "      <th>18468</th>\n",
       "      <td>24314</td>\n",
       "      <td>48</td>\n",
       "      <td>46</td>\n",
       "      <td>2</td>\n",
       "    </tr>\n",
       "    <tr>\n",
       "      <th>18469</th>\n",
       "      <td>24316</td>\n",
       "      <td>519</td>\n",
       "      <td>514</td>\n",
       "      <td>5</td>\n",
       "    </tr>\n",
       "    <tr>\n",
       "      <th>18470</th>\n",
       "      <td>24317</td>\n",
       "      <td>6</td>\n",
       "      <td>5</td>\n",
       "      <td>1</td>\n",
       "    </tr>\n",
       "    <tr>\n",
       "      <th>18471</th>\n",
       "      <td>24318</td>\n",
       "      <td>157</td>\n",
       "      <td>136</td>\n",
       "      <td>21</td>\n",
       "    </tr>\n",
       "    <tr>\n",
       "      <th>18472</th>\n",
       "      <td>24321</td>\n",
       "      <td>72</td>\n",
       "      <td>67</td>\n",
       "      <td>5</td>\n",
       "    </tr>\n",
       "  </tbody>\n",
       "</table>\n",
       "<p>18473 rows × 4 columns</p>\n",
       "</div>"
      ],
      "text/plain": [
       "        mgra  non_gq_pop_SH  non_gq_pop_MB  Diff\n",
       "0          1            433            440    -7\n",
       "1          2             63             68    -5\n",
       "2          3            547            549    -2\n",
       "3          4              6              5     1\n",
       "4          5             93             90     3\n",
       "...      ...            ...            ...   ...\n",
       "18468  24314             48             46     2\n",
       "18469  24316            519            514     5\n",
       "18470  24317              6              5     1\n",
       "18471  24318            157            136    21\n",
       "18472  24321             72             67     5\n",
       "\n",
       "[18473 rows x 4 columns]"
      ]
     },
     "execution_count": 14,
     "metadata": {},
     "output_type": "execute_result"
    }
   ],
   "source": [
    "merged_sh_mb_non_gq_pop = sh_non_qg_pop_df.merge(mgra_based_data_non_gq_pop, how='left', on='mgra')\n",
    "merged_sh_mb_non_gq_pop['Diff'] = merged_sh_mb_non_gq_pop['non_gq_pop_SH'] - merged_sh_mb_non_gq_pop['non_gq_pop_MB']\n",
    "# merged_sh_mb_non_gq_pop.to_excel(r'C:\\Users\\cra\\San Diego Association of Governments\\SANDAG QA QC - Documents\\Projects\\2023\\2023-034 PopulationSim Outputs QC\\Data\\Version 3\\Results\\merged_sh_mb_non_gq_pop.xlsx', index=False)\n",
    "merged_sh_mb_non_gq_pop"
   ]
  },
  {
   "cell_type": "code",
   "execution_count": 16,
   "metadata": {},
   "outputs": [
    {
     "data": {
      "text/plain": [
       "3170895"
      ]
     },
     "execution_count": 16,
     "metadata": {},
     "output_type": "execute_result"
    }
   ],
   "source": [
    "merged_sh_mb_non_gq_pop[\"non_gq_pop_MB\"].sum()"
   ]
  },
  {
   "attachments": {},
   "cell_type": "markdown",
   "metadata": {},
   "source": [
    "## Consistency in Group Quarter Population"
   ]
  },
  {
   "cell_type": "code",
   "execution_count": 17,
   "metadata": {},
   "outputs": [
    {
     "name": "stdout",
     "output_type": "stream",
     "text": [
      "Synthetic Households gq population 116411\n",
      "Synthetic Persons gq population 116411\n",
      "MGRA Based gq population 116411\n"
     ]
    }
   ],
   "source": [
    "print(f\"Synthetic Households gq population {sh_population_gq}\")\n",
    "print(f\"Synthetic Persons gq population {sp_population_gq}\")\n",
    "print(f\"MGRA Based gq population {mb_population_gq}\")"
   ]
  },
  {
   "attachments": {},
   "cell_type": "markdown",
   "metadata": {},
   "source": [
    "## Consistency in number of non-gq households"
   ]
  },
  {
   "cell_type": "code",
   "execution_count": 18,
   "metadata": {},
   "outputs": [
    {
     "name": "stdout",
     "output_type": "stream",
     "text": [
      "Synthetic Households -  number of non-gq households: 1160472\n",
      "Synthetic Persons -  number of non-gq households: 1160472\n",
      "MGRA Based -  number of non-gq households: 1160472\n"
     ]
    }
   ],
   "source": [
    "print(f\"Synthetic Households -  number of non-gq households: {sh_number_of_non_gq_households}\")\n",
    "print(f\"Synthetic Persons -  number of non-gq households: {sp_number_of_non_gq_households}\")\n",
    "print(f\"MGRA Based -  number of non-gq households: {mb_number_of_non_gq_households}\")"
   ]
  },
  {
   "attachments": {},
   "cell_type": "markdown",
   "metadata": {},
   "source": [
    "## Consistency in number of gq households"
   ]
  },
  {
   "cell_type": "code",
   "execution_count": 19,
   "metadata": {},
   "outputs": [
    {
     "name": "stdout",
     "output_type": "stream",
     "text": [
      "Synthetic Households -  number of gq households: 116411\n",
      "Synthetic Persons -  number of gq households: 116411\n"
     ]
    }
   ],
   "source": [
    "print(f\"Synthetic Households -  number of gq households: {sh_number_of_gq_households}\")\n",
    "print(f\"Synthetic Persons -  number of gq households: {sp_number_of_gq_households}\")"
   ]
  },
  {
   "attachments": {},
   "cell_type": "markdown",
   "metadata": {},
   "source": [
    "# Check #3\n",
    "Consistency in distribution of households in income categories between synthetic households file and households' distributions sent by Econ team  "
   ]
  },
  {
   "cell_type": "code",
   "execution_count": 20,
   "metadata": {},
   "outputs": [],
   "source": [
    "bins = [0, 15000, 30000, 45000, 60000, 75000, 100000, 125000, 150000, 200000, np.inf]\n",
    "labels = [\n",
    "    'Less than 15,000', \n",
    "    '15,000 to 30,000', \n",
    "    '30,000 to 45,000', \n",
    "    '45,000 to 60,000', \n",
    "    '60,000 to 75,000', \n",
    "    '75,000 to 100,000',\n",
    "    '100,000 to 125,000',\n",
    "    '125,000 to 150,000',\n",
    "    '150,000 to 200,000',\n",
    "    '200,000 or more'\n",
    "]\n",
    "\n",
    "synthetic_households['Income Category'] = pd.cut(synthetic_households['HHADJINC'], bins=bins, labels=labels, include_lowest=True)"
   ]
  },
  {
   "cell_type": "code",
   "execution_count": 21,
   "metadata": {},
   "outputs": [
    {
     "data": {
      "text/html": [
       "<div>\n",
       "<style scoped>\n",
       "    .dataframe tbody tr th:only-of-type {\n",
       "        vertical-align: middle;\n",
       "    }\n",
       "\n",
       "    .dataframe tbody tr th {\n",
       "        vertical-align: top;\n",
       "    }\n",
       "\n",
       "    .dataframe thead th {\n",
       "        text-align: right;\n",
       "    }\n",
       "</style>\n",
       "<table border=\"1\" class=\"dataframe\">\n",
       "  <thead>\n",
       "    <tr style=\"text-align: right;\">\n",
       "      <th></th>\n",
       "      <th>Income Category</th>\n",
       "      <th>SH_percentage</th>\n",
       "    </tr>\n",
       "  </thead>\n",
       "  <tbody>\n",
       "    <tr>\n",
       "      <th>0</th>\n",
       "      <td>Less than 15,000</td>\n",
       "      <td>9.95</td>\n",
       "    </tr>\n",
       "    <tr>\n",
       "      <th>1</th>\n",
       "      <td>15,000 to 30,000</td>\n",
       "      <td>10.61</td>\n",
       "    </tr>\n",
       "    <tr>\n",
       "      <th>2</th>\n",
       "      <td>30,000 to 45,000</td>\n",
       "      <td>8.90</td>\n",
       "    </tr>\n",
       "    <tr>\n",
       "      <th>3</th>\n",
       "      <td>45,000 to 60,000</td>\n",
       "      <td>7.58</td>\n",
       "    </tr>\n",
       "    <tr>\n",
       "      <th>4</th>\n",
       "      <td>60,000 to 75,000</td>\n",
       "      <td>7.46</td>\n",
       "    </tr>\n",
       "    <tr>\n",
       "      <th>5</th>\n",
       "      <td>75,000 to 100,000</td>\n",
       "      <td>11.11</td>\n",
       "    </tr>\n",
       "    <tr>\n",
       "      <th>6</th>\n",
       "      <td>100,000 to 125,000</td>\n",
       "      <td>9.68</td>\n",
       "    </tr>\n",
       "    <tr>\n",
       "      <th>7</th>\n",
       "      <td>125,000 to 150,000</td>\n",
       "      <td>7.03</td>\n",
       "    </tr>\n",
       "    <tr>\n",
       "      <th>8</th>\n",
       "      <td>150,000 to 200,000</td>\n",
       "      <td>10.78</td>\n",
       "    </tr>\n",
       "    <tr>\n",
       "      <th>9</th>\n",
       "      <td>200,000 or more</td>\n",
       "      <td>16.90</td>\n",
       "    </tr>\n",
       "  </tbody>\n",
       "</table>\n",
       "</div>"
      ],
      "text/plain": [
       "      Income Category  SH_percentage\n",
       "0    Less than 15,000           9.95\n",
       "1    15,000 to 30,000          10.61\n",
       "2    30,000 to 45,000           8.90\n",
       "3    45,000 to 60,000           7.58\n",
       "4    60,000 to 75,000           7.46\n",
       "5   75,000 to 100,000          11.11\n",
       "6  100,000 to 125,000           9.68\n",
       "7  125,000 to 150,000           7.03\n",
       "8  150,000 to 200,000          10.78\n",
       "9     200,000 or more          16.90"
      ]
     },
     "execution_count": 21,
     "metadata": {},
     "output_type": "execute_result"
    }
   ],
   "source": [
    "income_frequency_distribution = synthetic_households.groupby('Income Category').size().div(len(synthetic_households)).reset_index(name='SH_percentage')\n",
    "income_frequency_distribution['SH_percentage'] = round(income_frequency_distribution['SH_percentage']*100, 2)\n",
    "income_frequency_distribution"
   ]
  },
  {
   "cell_type": "code",
   "execution_count": 17,
   "metadata": {},
   "outputs": [
    {
     "ename": "NameError",
     "evalue": "name 'income_frequency_distribution' is not defined",
     "output_type": "error",
     "traceback": [
      "\u001b[1;31m---------------------------------------------------------------------------\u001b[0m",
      "\u001b[1;31mNameError\u001b[0m                                 Traceback (most recent call last)",
      "\u001b[1;32m~\\AppData\\Local\\Temp\\ipykernel_17192\\4029275476.py\u001b[0m in \u001b[0;36m<cell line: 1>\u001b[1;34m()\u001b[0m\n\u001b[1;32m----> 1\u001b[1;33m \u001b[0mincome_frequency_distribution\u001b[0m\u001b[1;33m[\u001b[0m\u001b[1;34m'est_percentage'\u001b[0m\u001b[1;33m]\u001b[0m \u001b[1;33m=\u001b[0m \u001b[1;33m[\u001b[0m\u001b[1;36m5.4\u001b[0m\u001b[1;33m,\u001b[0m \u001b[1;36m8.2\u001b[0m\u001b[1;33m,\u001b[0m \u001b[1;36m8.7\u001b[0m\u001b[1;33m,\u001b[0m \u001b[1;36m8.6\u001b[0m\u001b[1;33m,\u001b[0m \u001b[1;36m8.1\u001b[0m\u001b[1;33m,\u001b[0m \u001b[1;36m12.1\u001b[0m\u001b[1;33m,\u001b[0m \u001b[1;36m10.1\u001b[0m\u001b[1;33m,\u001b[0m \u001b[1;36m8.3\u001b[0m\u001b[1;33m,\u001b[0m \u001b[1;36m11.9\u001b[0m\u001b[1;33m,\u001b[0m \u001b[1;36m18.6\u001b[0m\u001b[1;33m]\u001b[0m\u001b[1;33m\u001b[0m\u001b[1;33m\u001b[0m\u001b[0m\n\u001b[0m\u001b[0;32m      2\u001b[0m \u001b[0mincome_frequency_distribution\u001b[0m\u001b[1;33m\u001b[0m\u001b[1;33m\u001b[0m\u001b[0m\n",
      "\u001b[1;31mNameError\u001b[0m: name 'income_frequency_distribution' is not defined"
     ]
    }
   ],
   "source": [
    "income_frequency_distribution['est_percentage'] = [5.4, 8.2, 8.7, 8.6, 8.1, 12.1, 10.1, 8.3, 11.9, 18.6]\n",
    "income_frequency_distribution"
   ]
  },
  {
   "cell_type": "code",
   "execution_count": 21,
   "metadata": {},
   "outputs": [
    {
     "data": {
      "text/html": [
       "<div>\n",
       "<style scoped>\n",
       "    .dataframe tbody tr th:only-of-type {\n",
       "        vertical-align: middle;\n",
       "    }\n",
       "\n",
       "    .dataframe tbody tr th {\n",
       "        vertical-align: top;\n",
       "    }\n",
       "\n",
       "    .dataframe thead th {\n",
       "        text-align: right;\n",
       "    }\n",
       "</style>\n",
       "<table border=\"1\" class=\"dataframe\">\n",
       "  <thead>\n",
       "    <tr style=\"text-align: right;\">\n",
       "      <th></th>\n",
       "      <th>Income Category</th>\n",
       "      <th>SH_percentage</th>\n",
       "      <th>est_percentage</th>\n",
       "      <th>Diff</th>\n",
       "    </tr>\n",
       "  </thead>\n",
       "  <tbody>\n",
       "    <tr>\n",
       "      <th>0</th>\n",
       "      <td>Less than 15,000</td>\n",
       "      <td>11.48</td>\n",
       "      <td>4.68</td>\n",
       "      <td>6.80</td>\n",
       "    </tr>\n",
       "    <tr>\n",
       "      <th>1</th>\n",
       "      <td>15,000 to 30,000</td>\n",
       "      <td>11.13</td>\n",
       "      <td>7.72</td>\n",
       "      <td>3.41</td>\n",
       "    </tr>\n",
       "    <tr>\n",
       "      <th>2</th>\n",
       "      <td>30,000 to 45,000</td>\n",
       "      <td>8.57</td>\n",
       "      <td>8.58</td>\n",
       "      <td>-0.01</td>\n",
       "    </tr>\n",
       "    <tr>\n",
       "      <th>3</th>\n",
       "      <td>45,000 to 60,000</td>\n",
       "      <td>7.63</td>\n",
       "      <td>8.62</td>\n",
       "      <td>-0.99</td>\n",
       "    </tr>\n",
       "    <tr>\n",
       "      <th>4</th>\n",
       "      <td>60,000 to 75,000</td>\n",
       "      <td>7.05</td>\n",
       "      <td>8.24</td>\n",
       "      <td>-1.19</td>\n",
       "    </tr>\n",
       "    <tr>\n",
       "      <th>5</th>\n",
       "      <td>75,000 to 100,000</td>\n",
       "      <td>10.23</td>\n",
       "      <td>12.38</td>\n",
       "      <td>-2.15</td>\n",
       "    </tr>\n",
       "    <tr>\n",
       "      <th>6</th>\n",
       "      <td>100,000 to 125,000</td>\n",
       "      <td>9.02</td>\n",
       "      <td>10.44</td>\n",
       "      <td>-1.42</td>\n",
       "    </tr>\n",
       "    <tr>\n",
       "      <th>7</th>\n",
       "      <td>125,000 to 150,000</td>\n",
       "      <td>6.60</td>\n",
       "      <td>8.56</td>\n",
       "      <td>-1.96</td>\n",
       "    </tr>\n",
       "    <tr>\n",
       "      <th>8</th>\n",
       "      <td>150,000 to 200,000</td>\n",
       "      <td>10.26</td>\n",
       "      <td>12.33</td>\n",
       "      <td>-2.07</td>\n",
       "    </tr>\n",
       "    <tr>\n",
       "      <th>9</th>\n",
       "      <td>200,000 or more</td>\n",
       "      <td>18.02</td>\n",
       "      <td>18.45</td>\n",
       "      <td>-0.43</td>\n",
       "    </tr>\n",
       "  </tbody>\n",
       "</table>\n",
       "</div>"
      ],
      "text/plain": [
       "      Income Category  SH_percentage  est_percentage  Diff\n",
       "0    Less than 15,000          11.48            4.68  6.80\n",
       "1    15,000 to 30,000          11.13            7.72  3.41\n",
       "2    30,000 to 45,000           8.57            8.58 -0.01\n",
       "3    45,000 to 60,000           7.63            8.62 -0.99\n",
       "4    60,000 to 75,000           7.05            8.24 -1.19\n",
       "5   75,000 to 100,000          10.23           12.38 -2.15\n",
       "6  100,000 to 125,000           9.02           10.44 -1.42\n",
       "7  125,000 to 150,000           6.60            8.56 -1.96\n",
       "8  150,000 to 200,000          10.26           12.33 -2.07\n",
       "9     200,000 or more          18.02           18.45 -0.43"
      ]
     },
     "execution_count": 21,
     "metadata": {},
     "output_type": "execute_result"
    }
   ],
   "source": [
    "income_frequency_distribution['Diff'] = income_frequency_distribution['SH_percentage'] - income_frequency_distribution['est_percentage']\n",
    "income_frequency_distribution"
   ]
  },
  {
   "cell_type": "code",
   "execution_count": 23,
   "metadata": {},
   "outputs": [],
   "source": [
    "income_frequency_distribution#.to_excel(r'C:\\Users\\cra\\San Diego Association of Governments\\SANDAG QA QC - Documents\\Projects\\2023\\2023-034 PopulationSim Outputs QC\\Results\\frequency_pct_table_SH_and_econ.xlsx', index=False)"
   ]
  },
  {
   "cell_type": "code",
   "execution_count": null,
   "metadata": {},
   "outputs": [],
   "source": [
    "income_frequency_distribution"
   ]
  },
  {
   "attachments": {},
   "cell_type": "markdown",
   "metadata": {},
   "source": [
    "# Check #4\n",
    "Consistency in number of workers between synthetic persons/households file and number of workers calculated by the Econ team [see production side jobs for workers]"
   ]
  },
  {
   "cell_type": "code",
   "execution_count": 33,
   "metadata": {},
   "outputs": [
    {
     "data": {
      "text/plain": [
       "1523764"
      ]
     },
     "execution_count": 33,
     "metadata": {},
     "output_type": "execute_result"
    }
   ],
   "source": [
    "sp_num_of_workers = len(synthetic_persons[(~synthetic_persons['ESR'].isna()) & (synthetic_persons['ESR'].isin([1,2,4,5]))])\n",
    "sp_num_of_workers"
   ]
  },
  {
   "cell_type": "code",
   "execution_count": 34,
   "metadata": {},
   "outputs": [
    {
     "data": {
      "text/plain": [
       "1598836.12442623"
      ]
     },
     "execution_count": 34,
     "metadata": {},
     "output_type": "execute_result"
    }
   ],
   "source": [
    "econ_num = 1598.83612442623*1000\n",
    "econ_num"
   ]
  },
  {
   "cell_type": "code",
   "execution_count": 35,
   "metadata": {},
   "outputs": [
    {
     "data": {
      "text/plain": [
       "-75072.12442623009"
      ]
     },
     "execution_count": 35,
     "metadata": {},
     "output_type": "execute_result"
    }
   ],
   "source": [
    "sp_num_of_workers - econ_num"
   ]
  },
  {
   "cell_type": "code",
   "execution_count": 25,
   "metadata": {},
   "outputs": [
    {
     "data": {
      "text/plain": [
       "3230021"
      ]
     },
     "execution_count": 25,
     "metadata": {},
     "output_type": "execute_result"
    }
   ],
   "source": [
    "way_1 = len(synthetic_persons[(~synthetic_persons['COW'].isna()) & (synthetic_persons['COW'] != 9)])\n",
    "way_1"
   ]
  },
  {
   "cell_type": "code",
   "execution_count": 26,
   "metadata": {},
   "outputs": [
    {
     "data": {
      "text/plain": [
       "2178675"
      ]
     },
     "execution_count": 26,
     "metadata": {},
     "output_type": "execute_result"
    }
   ],
   "source": [
    "way_2 = len(synthetic_persons[(~synthetic_persons['ESR'].isna()) & (synthetic_persons['ESR'] != 6) & (synthetic_persons['ESR'] != 3)])\n",
    "way_2"
   ]
  },
  {
   "cell_type": "code",
   "execution_count": 27,
   "metadata": {},
   "outputs": [
    {
     "data": {
      "text/plain": [
       "2145584"
      ]
     },
     "execution_count": 27,
     "metadata": {},
     "output_type": "execute_result"
    }
   ],
   "source": [
    "way_3 = len(synthetic_persons[(~synthetic_persons['ESR'].isna()) & (synthetic_persons['ESR'] != 6) & (synthetic_persons['ESR'] != 3) & (synthetic_persons['ESR'] != 2) & (synthetic_persons['ESR'] != 5)])\n",
    "way_3"
   ]
  },
  {
   "cell_type": "code",
   "execution_count": 28,
   "metadata": {},
   "outputs": [
    {
     "data": {
      "text/plain": [
       "1490673"
      ]
     },
     "execution_count": 28,
     "metadata": {},
     "output_type": "execute_result"
    }
   ],
   "source": [
    "len(synthetic_persons[(~synthetic_persons['ESR'].isna()) & (synthetic_persons['ESR'].isin([1,4]))])"
   ]
  },
  {
   "cell_type": "code",
   "execution_count": 29,
   "metadata": {},
   "outputs": [
    {
     "data": {
      "text/plain": [
       "1499705"
      ]
     },
     "execution_count": 29,
     "metadata": {},
     "output_type": "execute_result"
    }
   ],
   "source": [
    "# This is Labor Force\n",
    "len(synthetic_persons[(~synthetic_persons['ESR'].isna()) & (synthetic_persons['ESR'].isin([1,2,3]))])"
   ]
  },
  {
   "cell_type": "code",
   "execution_count": 30,
   "metadata": {},
   "outputs": [
    {
     "data": {
      "text/plain": [
       "1443058"
      ]
     },
     "execution_count": 30,
     "metadata": {},
     "output_type": "execute_result"
    }
   ],
   "source": [
    "len(synthetic_persons[(~synthetic_persons['COW'].isna()) & (synthetic_persons['COW'].isin([1,2,3,4,5]))])"
   ]
  },
  {
   "cell_type": "code",
   "execution_count": 31,
   "metadata": {},
   "outputs": [
    {
     "data": {
      "text/plain": [
       "1271556"
      ]
     },
     "execution_count": 31,
     "metadata": {},
     "output_type": "execute_result"
    }
   ],
   "source": [
    "len(synthetic_persons[(~synthetic_persons['COW'].isna()) & (synthetic_persons['COW'].isin([1,2,3,4]))])"
   ]
  },
  {
   "cell_type": "code",
   "execution_count": null,
   "metadata": {},
   "outputs": [],
   "source": [
    "# Have a labor force check as well \n",
    "'''The control for above is from the econ team'''"
   ]
  },
  {
   "cell_type": "code",
   "execution_count": 13,
   "metadata": {},
   "outputs": [
    {
     "data": {
      "text/plain": [
       "1494959"
      ]
     },
     "execution_count": 13,
     "metadata": {},
     "output_type": "execute_result"
    }
   ],
   "source": [
    "econ_num = 1_494_959\n",
    "econ_num"
   ]
  },
  {
   "attachments": {},
   "cell_type": "markdown",
   "metadata": {},
   "source": [
    "# Check 6"
   ]
  },
  {
   "attachments": {},
   "cell_type": "markdown",
   "metadata": {},
   "source": [
    "## a"
   ]
  },
  {
   "cell_type": "code",
   "execution_count": 22,
   "metadata": {},
   "outputs": [
    {
     "data": {
      "text/plain": [
       "True"
      ]
     },
     "execution_count": 22,
     "metadata": {},
     "output_type": "execute_result"
    }
   ],
   "source": [
    "synthetic_households['NP'].sum() == synthetic_persons['SPORDER'].count()"
   ]
  },
  {
   "cell_type": "code",
   "execution_count": 17,
   "metadata": {},
   "outputs": [
    {
     "data": {
      "text/plain": [
       "3282454"
      ]
     },
     "execution_count": 17,
     "metadata": {},
     "output_type": "execute_result"
    }
   ],
   "source": [
    "synthetic_persons['SPORDER'].count()"
   ]
  },
  {
   "cell_type": "code",
   "execution_count": 40,
   "metadata": {},
   "outputs": [
    {
     "data": {
      "text/plain": [
       "116411"
      ]
     },
     "execution_count": 40,
     "metadata": {},
     "output_type": "execute_result"
    }
   ],
   "source": [
    "sh_number_of_gq_households"
   ]
  },
  {
   "cell_type": "code",
   "execution_count": null,
   "metadata": {},
   "outputs": [],
   "source": []
  },
  {
   "cell_type": "code",
   "execution_count": 35,
   "metadata": {},
   "outputs": [
    {
     "name": "stdout",
     "output_type": "stream",
     "text": [
      "True\n"
     ]
    }
   ],
   "source": [
    "print(sh_number_of_non_gq_households == sp_number_of_non_gq_households == mb_number_of_non_gq_households)"
   ]
  },
  {
   "cell_type": "code",
   "execution_count": 33,
   "metadata": {},
   "outputs": [
    {
     "name": "stdout",
     "output_type": "stream",
     "text": [
      "True\n"
     ]
    }
   ],
   "source": [
    "print(sh_population_gq == sp_population_gq == mb_population_gq)"
   ]
  },
  {
   "cell_type": "code",
   "execution_count": 25,
   "metadata": {},
   "outputs": [
    {
     "data": {
      "text/html": [
       "<div>\n",
       "<style scoped>\n",
       "    .dataframe tbody tr th:only-of-type {\n",
       "        vertical-align: middle;\n",
       "    }\n",
       "\n",
       "    .dataframe tbody tr th {\n",
       "        vertical-align: top;\n",
       "    }\n",
       "\n",
       "    .dataframe thead th {\n",
       "        text-align: right;\n",
       "    }\n",
       "</style>\n",
       "<table border=\"1\" class=\"dataframe\">\n",
       "  <thead>\n",
       "    <tr style=\"text-align: right;\">\n",
       "      <th></th>\n",
       "      <th>mgra</th>\n",
       "      <th>non_gq_pop_MB</th>\n",
       "    </tr>\n",
       "  </thead>\n",
       "  <tbody>\n",
       "    <tr>\n",
       "      <th>0</th>\n",
       "      <td>1</td>\n",
       "      <td>440</td>\n",
       "    </tr>\n",
       "    <tr>\n",
       "      <th>1</th>\n",
       "      <td>2</td>\n",
       "      <td>68</td>\n",
       "    </tr>\n",
       "    <tr>\n",
       "      <th>2</th>\n",
       "      <td>3</td>\n",
       "      <td>549</td>\n",
       "    </tr>\n",
       "    <tr>\n",
       "      <th>3</th>\n",
       "      <td>4</td>\n",
       "      <td>5</td>\n",
       "    </tr>\n",
       "    <tr>\n",
       "      <th>4</th>\n",
       "      <td>5</td>\n",
       "      <td>90</td>\n",
       "    </tr>\n",
       "    <tr>\n",
       "      <th>...</th>\n",
       "      <td>...</td>\n",
       "      <td>...</td>\n",
       "    </tr>\n",
       "    <tr>\n",
       "      <th>24316</th>\n",
       "      <td>24317</td>\n",
       "      <td>5</td>\n",
       "    </tr>\n",
       "    <tr>\n",
       "      <th>24317</th>\n",
       "      <td>24318</td>\n",
       "      <td>136</td>\n",
       "    </tr>\n",
       "    <tr>\n",
       "      <th>24318</th>\n",
       "      <td>24319</td>\n",
       "      <td>0</td>\n",
       "    </tr>\n",
       "    <tr>\n",
       "      <th>24319</th>\n",
       "      <td>24320</td>\n",
       "      <td>0</td>\n",
       "    </tr>\n",
       "    <tr>\n",
       "      <th>24320</th>\n",
       "      <td>24321</td>\n",
       "      <td>67</td>\n",
       "    </tr>\n",
       "  </tbody>\n",
       "</table>\n",
       "<p>24321 rows × 2 columns</p>\n",
       "</div>"
      ],
      "text/plain": [
       "        mgra  non_gq_pop_MB\n",
       "0          1            440\n",
       "1          2             68\n",
       "2          3            549\n",
       "3          4              5\n",
       "4          5             90\n",
       "...      ...            ...\n",
       "24316  24317              5\n",
       "24317  24318            136\n",
       "24318  24319              0\n",
       "24319  24320              0\n",
       "24320  24321             67\n",
       "\n",
       "[24321 rows x 2 columns]"
      ]
     },
     "execution_count": 25,
     "metadata": {},
     "output_type": "execute_result"
    }
   ],
   "source": [
    "mgra_based_data_non_gq_pop = mgra_based_data[['mgra','hhp']]\n",
    "mgra_based_data_non_gq_pop.columns = ['mgra', 'non_gq_pop_MB']\n",
    "mgra_based_data_non_gq_pop"
   ]
  },
  {
   "cell_type": "code",
   "execution_count": 11,
   "metadata": {},
   "outputs": [
    {
     "data": {
      "text/html": [
       "<div>\n",
       "<style scoped>\n",
       "    .dataframe tbody tr th:only-of-type {\n",
       "        vertical-align: middle;\n",
       "    }\n",
       "\n",
       "    .dataframe tbody tr th {\n",
       "        vertical-align: top;\n",
       "    }\n",
       "\n",
       "    .dataframe thead th {\n",
       "        text-align: right;\n",
       "    }\n",
       "</style>\n",
       "<table border=\"1\" class=\"dataframe\">\n",
       "  <thead>\n",
       "    <tr style=\"text-align: right;\">\n",
       "      <th></th>\n",
       "      <th>mgra</th>\n",
       "      <th>sp_pop_non_gq_pop</th>\n",
       "    </tr>\n",
       "  </thead>\n",
       "  <tbody>\n",
       "    <tr>\n",
       "      <th>0</th>\n",
       "      <td>1</td>\n",
       "      <td>441</td>\n",
       "    </tr>\n",
       "    <tr>\n",
       "      <th>1</th>\n",
       "      <td>2</td>\n",
       "      <td>67</td>\n",
       "    </tr>\n",
       "    <tr>\n",
       "      <th>2</th>\n",
       "      <td>3</td>\n",
       "      <td>547</td>\n",
       "    </tr>\n",
       "    <tr>\n",
       "      <th>3</th>\n",
       "      <td>4</td>\n",
       "      <td>6</td>\n",
       "    </tr>\n",
       "    <tr>\n",
       "      <th>4</th>\n",
       "      <td>5</td>\n",
       "      <td>90</td>\n",
       "    </tr>\n",
       "    <tr>\n",
       "      <th>...</th>\n",
       "      <td>...</td>\n",
       "      <td>...</td>\n",
       "    </tr>\n",
       "    <tr>\n",
       "      <th>18465</th>\n",
       "      <td>24314</td>\n",
       "      <td>50</td>\n",
       "    </tr>\n",
       "    <tr>\n",
       "      <th>18466</th>\n",
       "      <td>24316</td>\n",
       "      <td>515</td>\n",
       "    </tr>\n",
       "    <tr>\n",
       "      <th>18467</th>\n",
       "      <td>24317</td>\n",
       "      <td>8</td>\n",
       "    </tr>\n",
       "    <tr>\n",
       "      <th>18468</th>\n",
       "      <td>24318</td>\n",
       "      <td>134</td>\n",
       "    </tr>\n",
       "    <tr>\n",
       "      <th>18469</th>\n",
       "      <td>24321</td>\n",
       "      <td>70</td>\n",
       "    </tr>\n",
       "  </tbody>\n",
       "</table>\n",
       "<p>18470 rows × 2 columns</p>\n",
       "</div>"
      ],
      "text/plain": [
       "        mgra  sp_pop_non_gq_pop\n",
       "0          1                441\n",
       "1          2                 67\n",
       "2          3                547\n",
       "3          4                  6\n",
       "4          5                 90\n",
       "...      ...                ...\n",
       "18465  24314                 50\n",
       "18466  24316                515\n",
       "18467  24317                  8\n",
       "18468  24318                134\n",
       "18469  24321                 70\n",
       "\n",
       "[18470 rows x 2 columns]"
      ]
     },
     "execution_count": 11,
     "metadata": {},
     "output_type": "execute_result"
    }
   ],
   "source": [
    "sp_hh_non_gq = synthetic_persons_with_GQ[synthetic_persons_with_GQ['GQ_type'] == 0][['mgra']]\n",
    "sp_hh_non_gq['sp_pop_non_gq_pop'] = 1\n",
    "sp_hh_non_gq = sp_hh_non_gq.groupby('mgra').sum().reset_index()\n",
    "sp_hh_non_gq"
   ]
  },
  {
   "cell_type": "code",
   "execution_count": 12,
   "metadata": {},
   "outputs": [
    {
     "data": {
      "text/html": [
       "<div>\n",
       "<style scoped>\n",
       "    .dataframe tbody tr th:only-of-type {\n",
       "        vertical-align: middle;\n",
       "    }\n",
       "\n",
       "    .dataframe tbody tr th {\n",
       "        vertical-align: top;\n",
       "    }\n",
       "\n",
       "    .dataframe thead th {\n",
       "        text-align: right;\n",
       "    }\n",
       "</style>\n",
       "<table border=\"1\" class=\"dataframe\">\n",
       "  <thead>\n",
       "    <tr style=\"text-align: right;\">\n",
       "      <th></th>\n",
       "      <th>mgra</th>\n",
       "      <th>mb_non_gq_pop</th>\n",
       "    </tr>\n",
       "  </thead>\n",
       "  <tbody>\n",
       "    <tr>\n",
       "      <th>0</th>\n",
       "      <td>1</td>\n",
       "      <td>440</td>\n",
       "    </tr>\n",
       "    <tr>\n",
       "      <th>1</th>\n",
       "      <td>2</td>\n",
       "      <td>68</td>\n",
       "    </tr>\n",
       "    <tr>\n",
       "      <th>2</th>\n",
       "      <td>3</td>\n",
       "      <td>549</td>\n",
       "    </tr>\n",
       "    <tr>\n",
       "      <th>3</th>\n",
       "      <td>4</td>\n",
       "      <td>5</td>\n",
       "    </tr>\n",
       "    <tr>\n",
       "      <th>4</th>\n",
       "      <td>5</td>\n",
       "      <td>90</td>\n",
       "    </tr>\n",
       "    <tr>\n",
       "      <th>...</th>\n",
       "      <td>...</td>\n",
       "      <td>...</td>\n",
       "    </tr>\n",
       "    <tr>\n",
       "      <th>24316</th>\n",
       "      <td>24317</td>\n",
       "      <td>5</td>\n",
       "    </tr>\n",
       "    <tr>\n",
       "      <th>24317</th>\n",
       "      <td>24318</td>\n",
       "      <td>136</td>\n",
       "    </tr>\n",
       "    <tr>\n",
       "      <th>24318</th>\n",
       "      <td>24319</td>\n",
       "      <td>0</td>\n",
       "    </tr>\n",
       "    <tr>\n",
       "      <th>24319</th>\n",
       "      <td>24320</td>\n",
       "      <td>0</td>\n",
       "    </tr>\n",
       "    <tr>\n",
       "      <th>24320</th>\n",
       "      <td>24321</td>\n",
       "      <td>67</td>\n",
       "    </tr>\n",
       "  </tbody>\n",
       "</table>\n",
       "<p>24321 rows × 2 columns</p>\n",
       "</div>"
      ],
      "text/plain": [
       "        mgra  mb_non_gq_pop\n",
       "0          1            440\n",
       "1          2             68\n",
       "2          3            549\n",
       "3          4              5\n",
       "4          5             90\n",
       "...      ...            ...\n",
       "24316  24317              5\n",
       "24317  24318            136\n",
       "24318  24319              0\n",
       "24319  24320              0\n",
       "24320  24321             67\n",
       "\n",
       "[24321 rows x 2 columns]"
      ]
     },
     "execution_count": 12,
     "metadata": {},
     "output_type": "execute_result"
    }
   ],
   "source": [
    "mb_non_gq_pop = mgra_based_data[['mgra', 'hhp']]\n",
    "mb_non_gq_pop.columns = ['mgra', 'mb_non_gq_pop']\n",
    "mb_non_gq_pop"
   ]
  },
  {
   "cell_type": "code",
   "execution_count": 13,
   "metadata": {},
   "outputs": [
    {
     "data": {
      "text/html": [
       "<div>\n",
       "<style scoped>\n",
       "    .dataframe tbody tr th:only-of-type {\n",
       "        vertical-align: middle;\n",
       "    }\n",
       "\n",
       "    .dataframe tbody tr th {\n",
       "        vertical-align: top;\n",
       "    }\n",
       "\n",
       "    .dataframe thead th {\n",
       "        text-align: right;\n",
       "    }\n",
       "</style>\n",
       "<table border=\"1\" class=\"dataframe\">\n",
       "  <thead>\n",
       "    <tr style=\"text-align: right;\">\n",
       "      <th></th>\n",
       "      <th>mgra</th>\n",
       "      <th>mb_non_gq_pop</th>\n",
       "    </tr>\n",
       "  </thead>\n",
       "  <tbody>\n",
       "    <tr>\n",
       "      <th>3307</th>\n",
       "      <td>3308</td>\n",
       "      <td>2</td>\n",
       "    </tr>\n",
       "    <tr>\n",
       "      <th>5021</th>\n",
       "      <td>5022</td>\n",
       "      <td>2</td>\n",
       "    </tr>\n",
       "    <tr>\n",
       "      <th>6649</th>\n",
       "      <td>6650</td>\n",
       "      <td>2</td>\n",
       "    </tr>\n",
       "    <tr>\n",
       "      <th>9886</th>\n",
       "      <td>9887</td>\n",
       "      <td>3</td>\n",
       "    </tr>\n",
       "    <tr>\n",
       "      <th>11115</th>\n",
       "      <td>11116</td>\n",
       "      <td>4</td>\n",
       "    </tr>\n",
       "    <tr>\n",
       "      <th>13622</th>\n",
       "      <td>13623</td>\n",
       "      <td>2</td>\n",
       "    </tr>\n",
       "    <tr>\n",
       "      <th>13869</th>\n",
       "      <td>13870</td>\n",
       "      <td>1</td>\n",
       "    </tr>\n",
       "    <tr>\n",
       "      <th>15803</th>\n",
       "      <td>15804</td>\n",
       "      <td>2</td>\n",
       "    </tr>\n",
       "    <tr>\n",
       "      <th>15959</th>\n",
       "      <td>15960</td>\n",
       "      <td>1</td>\n",
       "    </tr>\n",
       "    <tr>\n",
       "      <th>16220</th>\n",
       "      <td>16221</td>\n",
       "      <td>2</td>\n",
       "    </tr>\n",
       "  </tbody>\n",
       "</table>\n",
       "</div>"
      ],
      "text/plain": [
       "        mgra  mb_non_gq_pop\n",
       "3307    3308              2\n",
       "5021    5022              2\n",
       "6649    6650              2\n",
       "9886    9887              3\n",
       "11115  11116              4\n",
       "13622  13623              2\n",
       "13869  13870              1\n",
       "15803  15804              2\n",
       "15959  15960              1\n",
       "16220  16221              2"
      ]
     },
     "execution_count": 13,
     "metadata": {},
     "output_type": "execute_result"
    }
   ],
   "source": [
    "output = mb_non_gq_pop[~mb_non_gq_pop['mgra'].isin(list(sp_hh_non_gq['mgra']))]\n",
    "output[output['mb_non_gq_pop'] != 0]"
   ]
  },
  {
   "cell_type": "code",
   "execution_count": 14,
   "metadata": {},
   "outputs": [
    {
     "data": {
      "text/plain": [
       "3170895"
      ]
     },
     "execution_count": 14,
     "metadata": {},
     "output_type": "execute_result"
    }
   ],
   "source": [
    "sum(mgra_based_data['hhp'])"
   ]
  },
  {
   "cell_type": "code",
   "execution_count": 15,
   "metadata": {},
   "outputs": [],
   "source": [
    "output = sp_hh_non_gq.merge(mb_non_gq_pop, how='left', on='mgra')\n",
    "output['diff'] = output['sp_pop_non_gq_pop'] - output['mb_non_gq_pop']\n",
    "\n",
    "output.to_excel(\"mgra_non_gq_pop_differences.xlsx\", index=False)"
   ]
  },
  {
   "cell_type": "code",
   "execution_count": 10,
   "metadata": {},
   "outputs": [
    {
     "name": "stdout",
     "output_type": "stream",
     "text": [
      "True\n",
      "False\n",
      "True\n"
     ]
    }
   ],
   "source": [
    "# Checking Equivalency \n",
    "print(sh_number_of_non_gq_households == sp_number_of_non_gq_households == mb_number_of_non_gq_households)\n",
    "print(sh_population_non_gq == sp_population_non_gq == mb_population_non_gq)\n",
    "print(sh_population_gq == sp_population_gq == mb_population_gq)\n",
    "\n",
    "#TODO: num of GQ households "
   ]
  },
  {
   "attachments": {},
   "cell_type": "markdown",
   "metadata": {},
   "source": [
    "# Check 4: Internal Consistency Checks"
   ]
  },
  {
   "attachments": {},
   "cell_type": "markdown",
   "metadata": {},
   "source": [
    "### Check 4a: Internal Consistency Check in aggregate values across geography levels for both persons and households outputs  "
   ]
  },
  {
   "cell_type": "code",
   "execution_count": 17,
   "metadata": {},
   "outputs": [
    {
     "data": {
      "text/plain": [
       "True"
      ]
     },
     "execution_count": 17,
     "metadata": {},
     "output_type": "execute_result"
    }
   ],
   "source": [
    "# Region level \n",
    "synthetic_households['NP'].sum() == len(synthetic_persons)"
   ]
  },
  {
   "cell_type": "code",
   "execution_count": 18,
   "metadata": {},
   "outputs": [
    {
     "data": {
      "text/html": [
       "<div>\n",
       "<style scoped>\n",
       "    .dataframe tbody tr th:only-of-type {\n",
       "        vertical-align: middle;\n",
       "    }\n",
       "\n",
       "    .dataframe tbody tr th {\n",
       "        vertical-align: top;\n",
       "    }\n",
       "\n",
       "    .dataframe thead th {\n",
       "        text-align: right;\n",
       "    }\n",
       "</style>\n",
       "<table border=\"1\" class=\"dataframe\">\n",
       "  <thead>\n",
       "    <tr style=\"text-align: right;\">\n",
       "      <th></th>\n",
       "      <th>mgra</th>\n",
       "      <th>pop_households</th>\n",
       "    </tr>\n",
       "  </thead>\n",
       "  <tbody>\n",
       "    <tr>\n",
       "      <th>0</th>\n",
       "      <td>1</td>\n",
       "      <td>441</td>\n",
       "    </tr>\n",
       "    <tr>\n",
       "      <th>1</th>\n",
       "      <td>2</td>\n",
       "      <td>129</td>\n",
       "    </tr>\n",
       "    <tr>\n",
       "      <th>2</th>\n",
       "      <td>3</td>\n",
       "      <td>547</td>\n",
       "    </tr>\n",
       "    <tr>\n",
       "      <th>3</th>\n",
       "      <td>4</td>\n",
       "      <td>6</td>\n",
       "    </tr>\n",
       "    <tr>\n",
       "      <th>4</th>\n",
       "      <td>5</td>\n",
       "      <td>90</td>\n",
       "    </tr>\n",
       "    <tr>\n",
       "      <th>...</th>\n",
       "      <td>...</td>\n",
       "      <td>...</td>\n",
       "    </tr>\n",
       "    <tr>\n",
       "      <th>18624</th>\n",
       "      <td>24314</td>\n",
       "      <td>50</td>\n",
       "    </tr>\n",
       "    <tr>\n",
       "      <th>18625</th>\n",
       "      <td>24316</td>\n",
       "      <td>515</td>\n",
       "    </tr>\n",
       "    <tr>\n",
       "      <th>18626</th>\n",
       "      <td>24317</td>\n",
       "      <td>8</td>\n",
       "    </tr>\n",
       "    <tr>\n",
       "      <th>18627</th>\n",
       "      <td>24318</td>\n",
       "      <td>134</td>\n",
       "    </tr>\n",
       "    <tr>\n",
       "      <th>18628</th>\n",
       "      <td>24321</td>\n",
       "      <td>70</td>\n",
       "    </tr>\n",
       "  </tbody>\n",
       "</table>\n",
       "<p>18629 rows × 2 columns</p>\n",
       "</div>"
      ],
      "text/plain": [
       "        mgra  pop_households\n",
       "0          1             441\n",
       "1          2             129\n",
       "2          3             547\n",
       "3          4               6\n",
       "4          5              90\n",
       "...      ...             ...\n",
       "18624  24314              50\n",
       "18625  24316             515\n",
       "18626  24317               8\n",
       "18627  24318             134\n",
       "18628  24321              70\n",
       "\n",
       "[18629 rows x 2 columns]"
      ]
     },
     "execution_count": 18,
     "metadata": {},
     "output_type": "execute_result"
    }
   ],
   "source": [
    "sh_mgra_np = synthetic_households[['mgra', 'NP']].groupby('mgra').sum().reset_index()\n",
    "sh_mgra_np.columns = ['mgra', 'pop_households']\n",
    "sh_mgra_np"
   ]
  },
  {
   "cell_type": "code",
   "execution_count": 19,
   "metadata": {},
   "outputs": [
    {
     "name": "stderr",
     "output_type": "stream",
     "text": [
      "C:\\Users\\cra\\AppData\\Local\\Temp\\ipykernel_13544\\2966902140.py:2: SettingWithCopyWarning: \n",
      "A value is trying to be set on a copy of a slice from a DataFrame.\n",
      "Try using .loc[row_indexer,col_indexer] = value instead\n",
      "\n",
      "See the caveats in the documentation: https://pandas.pydata.org/pandas-docs/stable/user_guide/indexing.html#returning-a-view-versus-a-copy\n",
      "  sp_pop_count['pop_persons'] = 1\n"
     ]
    },
    {
     "data": {
      "text/html": [
       "<div>\n",
       "<style scoped>\n",
       "    .dataframe tbody tr th:only-of-type {\n",
       "        vertical-align: middle;\n",
       "    }\n",
       "\n",
       "    .dataframe tbody tr th {\n",
       "        vertical-align: top;\n",
       "    }\n",
       "\n",
       "    .dataframe thead th {\n",
       "        text-align: right;\n",
       "    }\n",
       "</style>\n",
       "<table border=\"1\" class=\"dataframe\">\n",
       "  <thead>\n",
       "    <tr style=\"text-align: right;\">\n",
       "      <th></th>\n",
       "      <th>mgra</th>\n",
       "      <th>pop_persons</th>\n",
       "    </tr>\n",
       "  </thead>\n",
       "  <tbody>\n",
       "    <tr>\n",
       "      <th>0</th>\n",
       "      <td>1</td>\n",
       "      <td>441</td>\n",
       "    </tr>\n",
       "    <tr>\n",
       "      <th>1</th>\n",
       "      <td>2</td>\n",
       "      <td>129</td>\n",
       "    </tr>\n",
       "    <tr>\n",
       "      <th>2</th>\n",
       "      <td>3</td>\n",
       "      <td>547</td>\n",
       "    </tr>\n",
       "    <tr>\n",
       "      <th>3</th>\n",
       "      <td>4</td>\n",
       "      <td>6</td>\n",
       "    </tr>\n",
       "    <tr>\n",
       "      <th>4</th>\n",
       "      <td>5</td>\n",
       "      <td>90</td>\n",
       "    </tr>\n",
       "    <tr>\n",
       "      <th>...</th>\n",
       "      <td>...</td>\n",
       "      <td>...</td>\n",
       "    </tr>\n",
       "    <tr>\n",
       "      <th>18624</th>\n",
       "      <td>24314</td>\n",
       "      <td>50</td>\n",
       "    </tr>\n",
       "    <tr>\n",
       "      <th>18625</th>\n",
       "      <td>24316</td>\n",
       "      <td>515</td>\n",
       "    </tr>\n",
       "    <tr>\n",
       "      <th>18626</th>\n",
       "      <td>24317</td>\n",
       "      <td>8</td>\n",
       "    </tr>\n",
       "    <tr>\n",
       "      <th>18627</th>\n",
       "      <td>24318</td>\n",
       "      <td>134</td>\n",
       "    </tr>\n",
       "    <tr>\n",
       "      <th>18628</th>\n",
       "      <td>24321</td>\n",
       "      <td>70</td>\n",
       "    </tr>\n",
       "  </tbody>\n",
       "</table>\n",
       "<p>18629 rows × 2 columns</p>\n",
       "</div>"
      ],
      "text/plain": [
       "        mgra  pop_persons\n",
       "0          1          441\n",
       "1          2          129\n",
       "2          3          547\n",
       "3          4            6\n",
       "4          5           90\n",
       "...      ...          ...\n",
       "18624  24314           50\n",
       "18625  24316          515\n",
       "18626  24317            8\n",
       "18627  24318          134\n",
       "18628  24321           70\n",
       "\n",
       "[18629 rows x 2 columns]"
      ]
     },
     "execution_count": 19,
     "metadata": {},
     "output_type": "execute_result"
    }
   ],
   "source": [
    "sp_pop_count = synthetic_persons[['mgra']]\n",
    "sp_pop_count['pop_persons'] = 1\n",
    "sp_pop_count = sp_pop_count.groupby('mgra').sum().reset_index()\n",
    "sp_pop_count"
   ]
  },
  {
   "cell_type": "code",
   "execution_count": 20,
   "metadata": {},
   "outputs": [
    {
     "data": {
      "text/plain": [
       "0"
      ]
     },
     "execution_count": 20,
     "metadata": {},
     "output_type": "execute_result"
    }
   ],
   "source": [
    "# Check for differences at the MGRA level \n",
    "sum(sh_mgra_np['pop_households'] - sp_pop_count['pop_persons'])"
   ]
  },
  {
   "attachments": {},
   "cell_type": "markdown",
   "metadata": {},
   "source": [
    "### Check 4b: Compare total 'NP' in the households output with count of 'SPORDER' in the persons output"
   ]
  },
  {
   "cell_type": "code",
   "execution_count": 21,
   "metadata": {},
   "outputs": [
    {
     "data": {
      "text/html": [
       "<div>\n",
       "<style scoped>\n",
       "    .dataframe tbody tr th:only-of-type {\n",
       "        vertical-align: middle;\n",
       "    }\n",
       "\n",
       "    .dataframe tbody tr th {\n",
       "        vertical-align: top;\n",
       "    }\n",
       "\n",
       "    .dataframe thead th {\n",
       "        text-align: right;\n",
       "    }\n",
       "</style>\n",
       "<table border=\"1\" class=\"dataframe\">\n",
       "  <thead>\n",
       "    <tr style=\"text-align: right;\">\n",
       "      <th></th>\n",
       "      <th>mgra</th>\n",
       "      <th>sporder_count</th>\n",
       "    </tr>\n",
       "  </thead>\n",
       "  <tbody>\n",
       "    <tr>\n",
       "      <th>0</th>\n",
       "      <td>1</td>\n",
       "      <td>441</td>\n",
       "    </tr>\n",
       "    <tr>\n",
       "      <th>1</th>\n",
       "      <td>2</td>\n",
       "      <td>129</td>\n",
       "    </tr>\n",
       "    <tr>\n",
       "      <th>2</th>\n",
       "      <td>3</td>\n",
       "      <td>547</td>\n",
       "    </tr>\n",
       "    <tr>\n",
       "      <th>3</th>\n",
       "      <td>4</td>\n",
       "      <td>6</td>\n",
       "    </tr>\n",
       "    <tr>\n",
       "      <th>4</th>\n",
       "      <td>5</td>\n",
       "      <td>90</td>\n",
       "    </tr>\n",
       "    <tr>\n",
       "      <th>...</th>\n",
       "      <td>...</td>\n",
       "      <td>...</td>\n",
       "    </tr>\n",
       "    <tr>\n",
       "      <th>18624</th>\n",
       "      <td>24314</td>\n",
       "      <td>50</td>\n",
       "    </tr>\n",
       "    <tr>\n",
       "      <th>18625</th>\n",
       "      <td>24316</td>\n",
       "      <td>515</td>\n",
       "    </tr>\n",
       "    <tr>\n",
       "      <th>18626</th>\n",
       "      <td>24317</td>\n",
       "      <td>8</td>\n",
       "    </tr>\n",
       "    <tr>\n",
       "      <th>18627</th>\n",
       "      <td>24318</td>\n",
       "      <td>134</td>\n",
       "    </tr>\n",
       "    <tr>\n",
       "      <th>18628</th>\n",
       "      <td>24321</td>\n",
       "      <td>70</td>\n",
       "    </tr>\n",
       "  </tbody>\n",
       "</table>\n",
       "<p>18629 rows × 2 columns</p>\n",
       "</div>"
      ],
      "text/plain": [
       "        mgra  sporder_count\n",
       "0          1            441\n",
       "1          2            129\n",
       "2          3            547\n",
       "3          4              6\n",
       "4          5             90\n",
       "...      ...            ...\n",
       "18624  24314             50\n",
       "18625  24316            515\n",
       "18626  24317              8\n",
       "18627  24318            134\n",
       "18628  24321             70\n",
       "\n",
       "[18629 rows x 2 columns]"
      ]
     },
     "execution_count": 21,
     "metadata": {},
     "output_type": "execute_result"
    }
   ],
   "source": [
    "sp_mgra_sporder = synthetic_persons[['mgra', 'SPORDER']].groupby('mgra').count().reset_index()\n",
    "sp_mgra_sporder.columns = ['mgra', 'sporder_count']\n",
    "sp_mgra_sporder"
   ]
  },
  {
   "cell_type": "code",
   "execution_count": 22,
   "metadata": {},
   "outputs": [
    {
     "data": {
      "text/plain": [
       "0"
      ]
     },
     "execution_count": 22,
     "metadata": {},
     "output_type": "execute_result"
    }
   ],
   "source": [
    "# Check for differences at the MGRA level \n",
    "sum(sh_mgra_np['pop_households'] - sp_mgra_sporder['sporder_count'])"
   ]
  },
  {
   "attachments": {},
   "cell_type": "markdown",
   "metadata": {},
   "source": [
    "### 4c: Compare number of households match between the households and persons output   "
   ]
  },
  {
   "cell_type": "code",
   "execution_count": 23,
   "metadata": {},
   "outputs": [
    {
     "data": {
      "text/plain": [
       "True"
      ]
     },
     "execution_count": 23,
     "metadata": {},
     "output_type": "execute_result"
    }
   ],
   "source": [
    "synthetic_persons['household_id'].nunique() == len(synthetic_households)"
   ]
  },
  {
   "attachments": {},
   "cell_type": "markdown",
   "metadata": {},
   "source": [
    "### 4d: Compare workers ('numworkers' and 'isWorker') from households and persons output\n",
    "- We need to figure out what is the new equivalent of 'isWorker' in persons"
   ]
  },
  {
   "cell_type": "code",
   "execution_count": 24,
   "metadata": {},
   "outputs": [],
   "source": [
    "sp_household_esr = synthetic_persons[['household_id', 'ESR']]"
   ]
  },
  {
   "cell_type": "code",
   "execution_count": 25,
   "metadata": {},
   "outputs": [],
   "source": [
    "sh_household_wif = synthetic_households[['household_id', 'WIF']]"
   ]
  },
  {
   "cell_type": "code",
   "execution_count": 26,
   "metadata": {},
   "outputs": [
    {
     "data": {
      "text/html": [
       "<div>\n",
       "<style scoped>\n",
       "    .dataframe tbody tr th:only-of-type {\n",
       "        vertical-align: middle;\n",
       "    }\n",
       "\n",
       "    .dataframe tbody tr th {\n",
       "        vertical-align: top;\n",
       "    }\n",
       "\n",
       "    .dataframe thead th {\n",
       "        text-align: right;\n",
       "    }\n",
       "</style>\n",
       "<table border=\"1\" class=\"dataframe\">\n",
       "  <thead>\n",
       "    <tr style=\"text-align: right;\">\n",
       "      <th></th>\n",
       "      <th>household_id</th>\n",
       "      <th>ESR</th>\n",
       "      <th>WIF</th>\n",
       "    </tr>\n",
       "  </thead>\n",
       "  <tbody>\n",
       "    <tr>\n",
       "      <th>2217</th>\n",
       "      <td>873</td>\n",
       "      <td>1.0</td>\n",
       "      <td>0.0</td>\n",
       "    </tr>\n",
       "    <tr>\n",
       "      <th>5444</th>\n",
       "      <td>2080</td>\n",
       "      <td>1.0</td>\n",
       "      <td>0.0</td>\n",
       "    </tr>\n",
       "    <tr>\n",
       "      <th>8775</th>\n",
       "      <td>3477</td>\n",
       "      <td>1.0</td>\n",
       "      <td>0.0</td>\n",
       "    </tr>\n",
       "    <tr>\n",
       "      <th>10124</th>\n",
       "      <td>4068</td>\n",
       "      <td>1.0</td>\n",
       "      <td>0.0</td>\n",
       "    </tr>\n",
       "    <tr>\n",
       "      <th>14812</th>\n",
       "      <td>5830</td>\n",
       "      <td>1.0</td>\n",
       "      <td>0.0</td>\n",
       "    </tr>\n",
       "    <tr>\n",
       "      <th>...</th>\n",
       "      <td>...</td>\n",
       "      <td>...</td>\n",
       "      <td>...</td>\n",
       "    </tr>\n",
       "    <tr>\n",
       "      <th>3165246</th>\n",
       "      <td>1160281</td>\n",
       "      <td>1.0</td>\n",
       "      <td>0.0</td>\n",
       "    </tr>\n",
       "    <tr>\n",
       "      <th>3165319</th>\n",
       "      <td>1160301</td>\n",
       "      <td>1.0</td>\n",
       "      <td>0.0</td>\n",
       "    </tr>\n",
       "    <tr>\n",
       "      <th>3165323</th>\n",
       "      <td>1160302</td>\n",
       "      <td>1.0</td>\n",
       "      <td>0.0</td>\n",
       "    </tr>\n",
       "    <tr>\n",
       "      <th>3165327</th>\n",
       "      <td>1160303</td>\n",
       "      <td>1.0</td>\n",
       "      <td>0.0</td>\n",
       "    </tr>\n",
       "    <tr>\n",
       "      <th>3165909</th>\n",
       "      <td>1160450</td>\n",
       "      <td>1.0</td>\n",
       "      <td>0.0</td>\n",
       "    </tr>\n",
       "  </tbody>\n",
       "</table>\n",
       "<p>6409 rows × 3 columns</p>\n",
       "</div>"
      ],
      "text/plain": [
       "         household_id  ESR  WIF\n",
       "2217              873  1.0  0.0\n",
       "5444             2080  1.0  0.0\n",
       "8775             3477  1.0  0.0\n",
       "10124            4068  1.0  0.0\n",
       "14812            5830  1.0  0.0\n",
       "...               ...  ...  ...\n",
       "3165246       1160281  1.0  0.0\n",
       "3165319       1160301  1.0  0.0\n",
       "3165323       1160302  1.0  0.0\n",
       "3165327       1160303  1.0  0.0\n",
       "3165909       1160450  1.0  0.0\n",
       "\n",
       "[6409 rows x 3 columns]"
      ]
     },
     "execution_count": 26,
     "metadata": {},
     "output_type": "execute_result"
    }
   ],
   "source": [
    "# These household IDs say that there are no workers in the family but somebody in the household has an ESR ID of [1,2,4] which means that they are a worker.  \n",
    "# What is the definition os 'isworker'\n",
    "output = sp_household_esr.merge(sh_household_wif, how='left', on='household_id')\n",
    "output = output[output['WIF'] == 0]\n",
    "output = output[~output['ESR'].isin([0,3,6])]\n",
    "\n",
    "output"
   ]
  },
  {
   "cell_type": "code",
   "execution_count": 136,
   "metadata": {},
   "outputs": [
    {
     "data": {
      "text/html": [
       "<div>\n",
       "<style scoped>\n",
       "    .dataframe tbody tr th:only-of-type {\n",
       "        vertical-align: middle;\n",
       "    }\n",
       "\n",
       "    .dataframe tbody tr th {\n",
       "        vertical-align: top;\n",
       "    }\n",
       "\n",
       "    .dataframe thead th {\n",
       "        text-align: right;\n",
       "    }\n",
       "</style>\n",
       "<table border=\"1\" class=\"dataframe\">\n",
       "  <thead>\n",
       "    <tr style=\"text-align: right;\">\n",
       "      <th></th>\n",
       "      <th>household_id</th>\n",
       "      <th>COW</th>\n",
       "    </tr>\n",
       "  </thead>\n",
       "  <tbody>\n",
       "    <tr>\n",
       "      <th>0</th>\n",
       "      <td>1</td>\n",
       "      <td>3.0</td>\n",
       "    </tr>\n",
       "    <tr>\n",
       "      <th>1</th>\n",
       "      <td>2</td>\n",
       "      <td>0.0</td>\n",
       "    </tr>\n",
       "    <tr>\n",
       "      <th>2</th>\n",
       "      <td>3</td>\n",
       "      <td>15.0</td>\n",
       "    </tr>\n",
       "    <tr>\n",
       "      <th>3</th>\n",
       "      <td>4</td>\n",
       "      <td>15.0</td>\n",
       "    </tr>\n",
       "    <tr>\n",
       "      <th>4</th>\n",
       "      <td>5</td>\n",
       "      <td>0.0</td>\n",
       "    </tr>\n",
       "    <tr>\n",
       "      <th>...</th>\n",
       "      <td>...</td>\n",
       "      <td>...</td>\n",
       "    </tr>\n",
       "    <tr>\n",
       "      <th>1276878</th>\n",
       "      <td>1276879</td>\n",
       "      <td>0.0</td>\n",
       "    </tr>\n",
       "    <tr>\n",
       "      <th>1276879</th>\n",
       "      <td>1276880</td>\n",
       "      <td>1.0</td>\n",
       "    </tr>\n",
       "    <tr>\n",
       "      <th>1276880</th>\n",
       "      <td>1276881</td>\n",
       "      <td>0.0</td>\n",
       "    </tr>\n",
       "    <tr>\n",
       "      <th>1276881</th>\n",
       "      <td>1276882</td>\n",
       "      <td>0.0</td>\n",
       "    </tr>\n",
       "    <tr>\n",
       "      <th>1276882</th>\n",
       "      <td>1276883</td>\n",
       "      <td>1.0</td>\n",
       "    </tr>\n",
       "  </tbody>\n",
       "</table>\n",
       "<p>1276883 rows × 2 columns</p>\n",
       "</div>"
      ],
      "text/plain": [
       "         household_id   COW\n",
       "0                   1   3.0\n",
       "1                   2   0.0\n",
       "2                   3  15.0\n",
       "3                   4  15.0\n",
       "4                   5   0.0\n",
       "...               ...   ...\n",
       "1276878       1276879   0.0\n",
       "1276879       1276880   1.0\n",
       "1276880       1276881   0.0\n",
       "1276881       1276882   0.0\n",
       "1276882       1276883   1.0\n",
       "\n",
       "[1276883 rows x 2 columns]"
      ]
     },
     "execution_count": 136,
     "metadata": {},
     "output_type": "execute_result"
    }
   ],
   "source": [
    "hp_cow = synthetic_persons[['household_id', 'COW']].groupby('household_id').sum().reset_index()\n",
    "hp_cow"
   ]
  },
  {
   "cell_type": "code",
   "execution_count": 142,
   "metadata": {},
   "outputs": [
    {
     "data": {
      "text/html": [
       "<div>\n",
       "<style scoped>\n",
       "    .dataframe tbody tr th:only-of-type {\n",
       "        vertical-align: middle;\n",
       "    }\n",
       "\n",
       "    .dataframe tbody tr th {\n",
       "        vertical-align: top;\n",
       "    }\n",
       "\n",
       "    .dataframe thead th {\n",
       "        text-align: right;\n",
       "    }\n",
       "</style>\n",
       "<table border=\"1\" class=\"dataframe\">\n",
       "  <thead>\n",
       "    <tr style=\"text-align: right;\">\n",
       "      <th></th>\n",
       "      <th>household_id</th>\n",
       "      <th>COW</th>\n",
       "      <th>WIF</th>\n",
       "    </tr>\n",
       "  </thead>\n",
       "  <tbody>\n",
       "    <tr>\n",
       "      <th>110</th>\n",
       "      <td>111</td>\n",
       "      <td>1.0</td>\n",
       "      <td>0.0</td>\n",
       "    </tr>\n",
       "    <tr>\n",
       "      <th>119</th>\n",
       "      <td>120</td>\n",
       "      <td>4.0</td>\n",
       "      <td>0.0</td>\n",
       "    </tr>\n",
       "    <tr>\n",
       "      <th>128</th>\n",
       "      <td>129</td>\n",
       "      <td>5.0</td>\n",
       "      <td>0.0</td>\n",
       "    </tr>\n",
       "    <tr>\n",
       "      <th>129</th>\n",
       "      <td>130</td>\n",
       "      <td>5.0</td>\n",
       "      <td>0.0</td>\n",
       "    </tr>\n",
       "    <tr>\n",
       "      <th>154</th>\n",
       "      <td>155</td>\n",
       "      <td>1.0</td>\n",
       "      <td>0.0</td>\n",
       "    </tr>\n",
       "    <tr>\n",
       "      <th>...</th>\n",
       "      <td>...</td>\n",
       "      <td>...</td>\n",
       "      <td>...</td>\n",
       "    </tr>\n",
       "    <tr>\n",
       "      <th>1160300</th>\n",
       "      <td>1160301</td>\n",
       "      <td>10.0</td>\n",
       "      <td>0.0</td>\n",
       "    </tr>\n",
       "    <tr>\n",
       "      <th>1160301</th>\n",
       "      <td>1160302</td>\n",
       "      <td>10.0</td>\n",
       "      <td>0.0</td>\n",
       "    </tr>\n",
       "    <tr>\n",
       "      <th>1160302</th>\n",
       "      <td>1160303</td>\n",
       "      <td>10.0</td>\n",
       "      <td>0.0</td>\n",
       "    </tr>\n",
       "    <tr>\n",
       "      <th>1160319</th>\n",
       "      <td>1160320</td>\n",
       "      <td>1.0</td>\n",
       "      <td>0.0</td>\n",
       "    </tr>\n",
       "    <tr>\n",
       "      <th>1160449</th>\n",
       "      <td>1160450</td>\n",
       "      <td>2.0</td>\n",
       "      <td>0.0</td>\n",
       "    </tr>\n",
       "  </tbody>\n",
       "</table>\n",
       "<p>25029 rows × 3 columns</p>\n",
       "</div>"
      ],
      "text/plain": [
       "         household_id   COW  WIF\n",
       "110               111   1.0  0.0\n",
       "119               120   4.0  0.0\n",
       "128               129   5.0  0.0\n",
       "129               130   5.0  0.0\n",
       "154               155   1.0  0.0\n",
       "...               ...   ...  ...\n",
       "1160300       1160301  10.0  0.0\n",
       "1160301       1160302  10.0  0.0\n",
       "1160302       1160303  10.0  0.0\n",
       "1160319       1160320   1.0  0.0\n",
       "1160449       1160450   2.0  0.0\n",
       "\n",
       "[25029 rows x 3 columns]"
      ]
     },
     "execution_count": 142,
     "metadata": {},
     "output_type": "execute_result"
    }
   ],
   "source": [
    "workers_comparison = hp_cow.merge(synthetic_households[['household_id', 'WIF']], how='left', on='household_id')\n",
    "#workers_comparison['Diff'] = workers_comparison['COW'] - workers_comparison['WIF']\n",
    "\n",
    "workers_comparison[((workers_comparison['COW'] != 0) & (workers_comparison['WIF'] == 0))]"
   ]
  },
  {
   "attachments": {},
   "cell_type": "markdown",
   "metadata": {},
   "source": [
    "# Check 5"
   ]
  },
  {
   "attachments": {},
   "cell_type": "markdown",
   "metadata": {},
   "source": [
    "### Check 5a: Compare number of persons by GQ and non-GQ in the persons and households output match forecast numbers."
   ]
  },
  {
   "cell_type": "code",
   "execution_count": 108,
   "metadata": {},
   "outputs": [
    {
     "name": "stdout",
     "output_type": "stream",
     "text": [
      "Non-GQ Population: Synthetic Households - 3165993\n"
     ]
    }
   ],
   "source": [
    "print(f\"Non-GQ Population - Synthetic Households - {sh_population_non_gq}\")\n",
    "print(f\"Non-GQ Population - Synthetic Persons - {sp_population_non_gq}\")\n",
    "print(f\"GQ Population - Synthetic Households - {sh_population_gq}\")\n",
    "print(f\"GQ Population - Synthetic Households - {sh_population_gq}\")"
   ]
  },
  {
   "cell_type": "code",
   "execution_count": null,
   "metadata": {},
   "outputs": [],
   "source": [
    "print(sh_population_non_gq == sp_population_non_gq == mb_population_non_gq)\n",
    "print(sh_population_gq == sp_population_gq == mb_population_gq)"
   ]
  },
  {
   "cell_type": "markdown",
   "metadata": {},
   "source": [
    "# Employment Comparison"
   ]
  },
  {
   "cell_type": "code",
   "execution_count": 6,
   "metadata": {},
   "outputs": [
    {
     "data": {
      "text/html": [
       "<div>\n",
       "<style scoped>\n",
       "    .dataframe tbody tr th:only-of-type {\n",
       "        vertical-align: middle;\n",
       "    }\n",
       "\n",
       "    .dataframe tbody tr th {\n",
       "        vertical-align: top;\n",
       "    }\n",
       "\n",
       "    .dataframe thead th {\n",
       "        text-align: right;\n",
       "    }\n",
       "</style>\n",
       "<table border=\"1\" class=\"dataframe\">\n",
       "  <thead>\n",
       "    <tr style=\"text-align: right;\">\n",
       "      <th></th>\n",
       "      <th>mgra</th>\n",
       "      <th>household_id</th>\n",
       "      <th>SPORDER</th>\n",
       "      <th>AGEP</th>\n",
       "      <th>SEX</th>\n",
       "      <th>ESR</th>\n",
       "      <th>COW</th>\n",
       "      <th>WKHP</th>\n",
       "      <th>SCHG</th>\n",
       "      <th>RAC1P</th>\n",
       "      <th>HISP</th>\n",
       "      <th>MIL</th>\n",
       "      <th>SCHL</th>\n",
       "      <th>OCCP</th>\n",
       "      <th>WKW</th>\n",
       "      <th>NAICS2</th>\n",
       "      <th>SOC2</th>\n",
       "      <th>xwalk_QC</th>\n",
       "      <th>GQ_type</th>\n",
       "    </tr>\n",
       "  </thead>\n",
       "  <tbody>\n",
       "    <tr>\n",
       "      <th>0</th>\n",
       "      <td>57</td>\n",
       "      <td>1</td>\n",
       "      <td>1</td>\n",
       "      <td>34</td>\n",
       "      <td>2</td>\n",
       "      <td>1.0</td>\n",
       "      <td>1.0</td>\n",
       "      <td>40.0</td>\n",
       "      <td>0</td>\n",
       "      <td>1</td>\n",
       "      <td>2</td>\n",
       "      <td>4.0</td>\n",
       "      <td>17.0</td>\n",
       "      <td>4850.0</td>\n",
       "      <td>1.0</td>\n",
       "      <td>33</td>\n",
       "      <td>41</td>\n",
       "      <td>job_10</td>\n",
       "      <td>0.0</td>\n",
       "    </tr>\n",
       "    <tr>\n",
       "      <th>1</th>\n",
       "      <td>57</td>\n",
       "      <td>1</td>\n",
       "      <td>2</td>\n",
       "      <td>16</td>\n",
       "      <td>2</td>\n",
       "      <td>6.0</td>\n",
       "      <td>0.0</td>\n",
       "      <td>0.0</td>\n",
       "      <td>13</td>\n",
       "      <td>1</td>\n",
       "      <td>2</td>\n",
       "      <td>0.0</td>\n",
       "      <td>13.0</td>\n",
       "      <td>0.0</td>\n",
       "      <td>0.0</td>\n",
       "      <td>0</td>\n",
       "      <td>0</td>\n",
       "      <td>0</td>\n",
       "      <td>0.0</td>\n",
       "    </tr>\n",
       "    <tr>\n",
       "      <th>2</th>\n",
       "      <td>57</td>\n",
       "      <td>1</td>\n",
       "      <td>3</td>\n",
       "      <td>15</td>\n",
       "      <td>2</td>\n",
       "      <td>0.0</td>\n",
       "      <td>0.0</td>\n",
       "      <td>0.0</td>\n",
       "      <td>11</td>\n",
       "      <td>1</td>\n",
       "      <td>2</td>\n",
       "      <td>0.0</td>\n",
       "      <td>11.0</td>\n",
       "      <td>0.0</td>\n",
       "      <td>0.0</td>\n",
       "      <td>0</td>\n",
       "      <td>0</td>\n",
       "      <td>0</td>\n",
       "      <td>0.0</td>\n",
       "    </tr>\n",
       "    <tr>\n",
       "      <th>3</th>\n",
       "      <td>57</td>\n",
       "      <td>1</td>\n",
       "      <td>4</td>\n",
       "      <td>14</td>\n",
       "      <td>2</td>\n",
       "      <td>0.0</td>\n",
       "      <td>0.0</td>\n",
       "      <td>0.0</td>\n",
       "      <td>11</td>\n",
       "      <td>1</td>\n",
       "      <td>2</td>\n",
       "      <td>0.0</td>\n",
       "      <td>11.0</td>\n",
       "      <td>0.0</td>\n",
       "      <td>0.0</td>\n",
       "      <td>0</td>\n",
       "      <td>0</td>\n",
       "      <td>0</td>\n",
       "      <td>0.0</td>\n",
       "    </tr>\n",
       "    <tr>\n",
       "      <th>4</th>\n",
       "      <td>57</td>\n",
       "      <td>1</td>\n",
       "      <td>5</td>\n",
       "      <td>12</td>\n",
       "      <td>1</td>\n",
       "      <td>0.0</td>\n",
       "      <td>0.0</td>\n",
       "      <td>0.0</td>\n",
       "      <td>8</td>\n",
       "      <td>1</td>\n",
       "      <td>2</td>\n",
       "      <td>0.0</td>\n",
       "      <td>8.0</td>\n",
       "      <td>0.0</td>\n",
       "      <td>0.0</td>\n",
       "      <td>0</td>\n",
       "      <td>0</td>\n",
       "      <td>0</td>\n",
       "      <td>0.0</td>\n",
       "    </tr>\n",
       "    <tr>\n",
       "      <th>...</th>\n",
       "      <td>...</td>\n",
       "      <td>...</td>\n",
       "      <td>...</td>\n",
       "      <td>...</td>\n",
       "      <td>...</td>\n",
       "      <td>...</td>\n",
       "      <td>...</td>\n",
       "      <td>...</td>\n",
       "      <td>...</td>\n",
       "      <td>...</td>\n",
       "      <td>...</td>\n",
       "      <td>...</td>\n",
       "      <td>...</td>\n",
       "      <td>...</td>\n",
       "      <td>...</td>\n",
       "      <td>...</td>\n",
       "      <td>...</td>\n",
       "      <td>...</td>\n",
       "      <td>...</td>\n",
       "    </tr>\n",
       "    <tr>\n",
       "      <th>3166039</th>\n",
       "      <td>10222</td>\n",
       "      <td>1160472</td>\n",
       "      <td>1</td>\n",
       "      <td>46</td>\n",
       "      <td>2</td>\n",
       "      <td>1.0</td>\n",
       "      <td>2.0</td>\n",
       "      <td>40.0</td>\n",
       "      <td>0</td>\n",
       "      <td>9</td>\n",
       "      <td>2</td>\n",
       "      <td>4.0</td>\n",
       "      <td>16.0</td>\n",
       "      <td>440.0</td>\n",
       "      <td>1.0</td>\n",
       "      <td>81</td>\n",
       "      <td>11</td>\n",
       "      <td>job_14</td>\n",
       "      <td>0.0</td>\n",
       "    </tr>\n",
       "    <tr>\n",
       "      <th>3166040</th>\n",
       "      <td>10222</td>\n",
       "      <td>1160472</td>\n",
       "      <td>2</td>\n",
       "      <td>49</td>\n",
       "      <td>1</td>\n",
       "      <td>1.0</td>\n",
       "      <td>1.0</td>\n",
       "      <td>40.0</td>\n",
       "      <td>0</td>\n",
       "      <td>9</td>\n",
       "      <td>2</td>\n",
       "      <td>4.0</td>\n",
       "      <td>16.0</td>\n",
       "      <td>4210.0</td>\n",
       "      <td>1.0</td>\n",
       "      <td>56</td>\n",
       "      <td>37</td>\n",
       "      <td>job_4</td>\n",
       "      <td>0.0</td>\n",
       "    </tr>\n",
       "    <tr>\n",
       "      <th>3166041</th>\n",
       "      <td>10222</td>\n",
       "      <td>1160472</td>\n",
       "      <td>3</td>\n",
       "      <td>16</td>\n",
       "      <td>1</td>\n",
       "      <td>6.0</td>\n",
       "      <td>0.0</td>\n",
       "      <td>0.0</td>\n",
       "      <td>12</td>\n",
       "      <td>9</td>\n",
       "      <td>2</td>\n",
       "      <td>0.0</td>\n",
       "      <td>12.0</td>\n",
       "      <td>0.0</td>\n",
       "      <td>0.0</td>\n",
       "      <td>0</td>\n",
       "      <td>0</td>\n",
       "      <td>0</td>\n",
       "      <td>0.0</td>\n",
       "    </tr>\n",
       "    <tr>\n",
       "      <th>3166042</th>\n",
       "      <td>10222</td>\n",
       "      <td>1160472</td>\n",
       "      <td>4</td>\n",
       "      <td>13</td>\n",
       "      <td>2</td>\n",
       "      <td>0.0</td>\n",
       "      <td>0.0</td>\n",
       "      <td>0.0</td>\n",
       "      <td>9</td>\n",
       "      <td>9</td>\n",
       "      <td>2</td>\n",
       "      <td>0.0</td>\n",
       "      <td>9.0</td>\n",
       "      <td>0.0</td>\n",
       "      <td>0.0</td>\n",
       "      <td>0</td>\n",
       "      <td>0</td>\n",
       "      <td>0</td>\n",
       "      <td>0.0</td>\n",
       "    </tr>\n",
       "    <tr>\n",
       "      <th>3166043</th>\n",
       "      <td>10222</td>\n",
       "      <td>1160472</td>\n",
       "      <td>5</td>\n",
       "      <td>71</td>\n",
       "      <td>2</td>\n",
       "      <td>6.0</td>\n",
       "      <td>0.0</td>\n",
       "      <td>0.0</td>\n",
       "      <td>15</td>\n",
       "      <td>9</td>\n",
       "      <td>2</td>\n",
       "      <td>4.0</td>\n",
       "      <td>16.0</td>\n",
       "      <td>0.0</td>\n",
       "      <td>0.0</td>\n",
       "      <td>0</td>\n",
       "      <td>0</td>\n",
       "      <td>0</td>\n",
       "      <td>0.0</td>\n",
       "    </tr>\n",
       "  </tbody>\n",
       "</table>\n",
       "<p>3166044 rows × 19 columns</p>\n",
       "</div>"
      ],
      "text/plain": [
       "          mgra  household_id  SPORDER  AGEP  SEX  ESR  COW  WKHP  SCHG  RAC1P  \\\n",
       "0           57             1        1    34    2  1.0  1.0  40.0     0      1   \n",
       "1           57             1        2    16    2  6.0  0.0   0.0    13      1   \n",
       "2           57             1        3    15    2  0.0  0.0   0.0    11      1   \n",
       "3           57             1        4    14    2  0.0  0.0   0.0    11      1   \n",
       "4           57             1        5    12    1  0.0  0.0   0.0     8      1   \n",
       "...        ...           ...      ...   ...  ...  ...  ...   ...   ...    ...   \n",
       "3166039  10222       1160472        1    46    2  1.0  2.0  40.0     0      9   \n",
       "3166040  10222       1160472        2    49    1  1.0  1.0  40.0     0      9   \n",
       "3166041  10222       1160472        3    16    1  6.0  0.0   0.0    12      9   \n",
       "3166042  10222       1160472        4    13    2  0.0  0.0   0.0     9      9   \n",
       "3166043  10222       1160472        5    71    2  6.0  0.0   0.0    15      9   \n",
       "\n",
       "         HISP  MIL  SCHL    OCCP  WKW NAICS2  SOC2 xwalk_QC  GQ_type  \n",
       "0           2  4.0  17.0  4850.0  1.0     33    41   job_10      0.0  \n",
       "1           2  0.0  13.0     0.0  0.0      0     0        0      0.0  \n",
       "2           2  0.0  11.0     0.0  0.0      0     0        0      0.0  \n",
       "3           2  0.0  11.0     0.0  0.0      0     0        0      0.0  \n",
       "4           2  0.0   8.0     0.0  0.0      0     0        0      0.0  \n",
       "...       ...  ...   ...     ...  ...    ...   ...      ...      ...  \n",
       "3166039     2  4.0  16.0   440.0  1.0     81    11   job_14      0.0  \n",
       "3166040     2  4.0  16.0  4210.0  1.0     56    37    job_4      0.0  \n",
       "3166041     2  0.0  12.0     0.0  0.0      0     0        0      0.0  \n",
       "3166042     2  0.0   9.0     0.0  0.0      0     0        0      0.0  \n",
       "3166043     2  4.0  16.0     0.0  0.0      0     0        0      0.0  \n",
       "\n",
       "[3166044 rows x 19 columns]"
      ]
     },
     "execution_count": 6,
     "metadata": {},
     "output_type": "execute_result"
    }
   ],
   "source": [
    "synthetic_persons_with_GQ = synthetic_persons.merge(synthetic_households[['household_id', 'GQ_type']], how='left', on='household_id')\n",
    "sp_non_gq = synthetic_persons_with_GQ[synthetic_persons_with_GQ['GQ_type'] == 0]\n",
    "sp_non_gq"
   ]
  },
  {
   "cell_type": "code",
   "execution_count": 7,
   "metadata": {},
   "outputs": [
    {
     "name": "stderr",
     "output_type": "stream",
     "text": [
      "C:\\Users\\cra\\AppData\\Local\\Temp\\ipykernel_19404\\2130620262.py:35: SettingWithCopyWarning: \n",
      "A value is trying to be set on a copy of a slice from a DataFrame.\n",
      "Try using .loc[row_indexer,col_indexer] = value instead\n",
      "\n",
      "See the caveats in the documentation: https://pandas.pydata.org/pandas-docs/stable/user_guide/indexing.html#returning-a-view-versus-a-copy\n",
      "  sp_non_gq['xwalk_QC'] = sp_non_gq.apply(PUMS_group, axis='columns')\n"
     ]
    },
    {
     "data": {
      "text/html": [
       "<div>\n",
       "<style scoped>\n",
       "    .dataframe tbody tr th:only-of-type {\n",
       "        vertical-align: middle;\n",
       "    }\n",
       "\n",
       "    .dataframe tbody tr th {\n",
       "        vertical-align: top;\n",
       "    }\n",
       "\n",
       "    .dataframe thead th {\n",
       "        text-align: right;\n",
       "    }\n",
       "</style>\n",
       "<table border=\"1\" class=\"dataframe\">\n",
       "  <thead>\n",
       "    <tr style=\"text-align: right;\">\n",
       "      <th></th>\n",
       "      <th>mgra</th>\n",
       "      <th>household_id</th>\n",
       "      <th>SPORDER</th>\n",
       "      <th>AGEP</th>\n",
       "      <th>SEX</th>\n",
       "      <th>ESR</th>\n",
       "      <th>COW</th>\n",
       "      <th>WKHP</th>\n",
       "      <th>SCHG</th>\n",
       "      <th>RAC1P</th>\n",
       "      <th>HISP</th>\n",
       "      <th>MIL</th>\n",
       "      <th>SCHL</th>\n",
       "      <th>OCCP</th>\n",
       "      <th>WKW</th>\n",
       "      <th>NAICS2</th>\n",
       "      <th>SOC2</th>\n",
       "      <th>xwalk_QC</th>\n",
       "      <th>GQ_type</th>\n",
       "    </tr>\n",
       "  </thead>\n",
       "  <tbody>\n",
       "    <tr>\n",
       "      <th>0</th>\n",
       "      <td>57</td>\n",
       "      <td>1</td>\n",
       "      <td>1</td>\n",
       "      <td>34</td>\n",
       "      <td>2</td>\n",
       "      <td>1.0</td>\n",
       "      <td>1.0</td>\n",
       "      <td>40.0</td>\n",
       "      <td>0</td>\n",
       "      <td>1</td>\n",
       "      <td>2</td>\n",
       "      <td>4.0</td>\n",
       "      <td>17.0</td>\n",
       "      <td>4850.0</td>\n",
       "      <td>1.0</td>\n",
       "      <td>33</td>\n",
       "      <td>41</td>\n",
       "      <td>job_10</td>\n",
       "      <td>0.0</td>\n",
       "    </tr>\n",
       "    <tr>\n",
       "      <th>1</th>\n",
       "      <td>57</td>\n",
       "      <td>1</td>\n",
       "      <td>2</td>\n",
       "      <td>16</td>\n",
       "      <td>2</td>\n",
       "      <td>6.0</td>\n",
       "      <td>0.0</td>\n",
       "      <td>0.0</td>\n",
       "      <td>13</td>\n",
       "      <td>1</td>\n",
       "      <td>2</td>\n",
       "      <td>0.0</td>\n",
       "      <td>13.0</td>\n",
       "      <td>0.0</td>\n",
       "      <td>0.0</td>\n",
       "      <td>0</td>\n",
       "      <td>0</td>\n",
       "      <td>0</td>\n",
       "      <td>0.0</td>\n",
       "    </tr>\n",
       "    <tr>\n",
       "      <th>2</th>\n",
       "      <td>57</td>\n",
       "      <td>1</td>\n",
       "      <td>3</td>\n",
       "      <td>15</td>\n",
       "      <td>2</td>\n",
       "      <td>0.0</td>\n",
       "      <td>0.0</td>\n",
       "      <td>0.0</td>\n",
       "      <td>11</td>\n",
       "      <td>1</td>\n",
       "      <td>2</td>\n",
       "      <td>0.0</td>\n",
       "      <td>11.0</td>\n",
       "      <td>0.0</td>\n",
       "      <td>0.0</td>\n",
       "      <td>0</td>\n",
       "      <td>0</td>\n",
       "      <td>0</td>\n",
       "      <td>0.0</td>\n",
       "    </tr>\n",
       "    <tr>\n",
       "      <th>3</th>\n",
       "      <td>57</td>\n",
       "      <td>1</td>\n",
       "      <td>4</td>\n",
       "      <td>14</td>\n",
       "      <td>2</td>\n",
       "      <td>0.0</td>\n",
       "      <td>0.0</td>\n",
       "      <td>0.0</td>\n",
       "      <td>11</td>\n",
       "      <td>1</td>\n",
       "      <td>2</td>\n",
       "      <td>0.0</td>\n",
       "      <td>11.0</td>\n",
       "      <td>0.0</td>\n",
       "      <td>0.0</td>\n",
       "      <td>0</td>\n",
       "      <td>0</td>\n",
       "      <td>0</td>\n",
       "      <td>0.0</td>\n",
       "    </tr>\n",
       "    <tr>\n",
       "      <th>4</th>\n",
       "      <td>57</td>\n",
       "      <td>1</td>\n",
       "      <td>5</td>\n",
       "      <td>12</td>\n",
       "      <td>1</td>\n",
       "      <td>0.0</td>\n",
       "      <td>0.0</td>\n",
       "      <td>0.0</td>\n",
       "      <td>8</td>\n",
       "      <td>1</td>\n",
       "      <td>2</td>\n",
       "      <td>0.0</td>\n",
       "      <td>8.0</td>\n",
       "      <td>0.0</td>\n",
       "      <td>0.0</td>\n",
       "      <td>0</td>\n",
       "      <td>0</td>\n",
       "      <td>0</td>\n",
       "      <td>0.0</td>\n",
       "    </tr>\n",
       "    <tr>\n",
       "      <th>...</th>\n",
       "      <td>...</td>\n",
       "      <td>...</td>\n",
       "      <td>...</td>\n",
       "      <td>...</td>\n",
       "      <td>...</td>\n",
       "      <td>...</td>\n",
       "      <td>...</td>\n",
       "      <td>...</td>\n",
       "      <td>...</td>\n",
       "      <td>...</td>\n",
       "      <td>...</td>\n",
       "      <td>...</td>\n",
       "      <td>...</td>\n",
       "      <td>...</td>\n",
       "      <td>...</td>\n",
       "      <td>...</td>\n",
       "      <td>...</td>\n",
       "      <td>...</td>\n",
       "      <td>...</td>\n",
       "    </tr>\n",
       "    <tr>\n",
       "      <th>3166039</th>\n",
       "      <td>10222</td>\n",
       "      <td>1160472</td>\n",
       "      <td>1</td>\n",
       "      <td>46</td>\n",
       "      <td>2</td>\n",
       "      <td>1.0</td>\n",
       "      <td>2.0</td>\n",
       "      <td>40.0</td>\n",
       "      <td>0</td>\n",
       "      <td>9</td>\n",
       "      <td>2</td>\n",
       "      <td>4.0</td>\n",
       "      <td>16.0</td>\n",
       "      <td>440.0</td>\n",
       "      <td>1.0</td>\n",
       "      <td>81</td>\n",
       "      <td>11</td>\n",
       "      <td>job_14</td>\n",
       "      <td>0.0</td>\n",
       "    </tr>\n",
       "    <tr>\n",
       "      <th>3166040</th>\n",
       "      <td>10222</td>\n",
       "      <td>1160472</td>\n",
       "      <td>2</td>\n",
       "      <td>49</td>\n",
       "      <td>1</td>\n",
       "      <td>1.0</td>\n",
       "      <td>1.0</td>\n",
       "      <td>40.0</td>\n",
       "      <td>0</td>\n",
       "      <td>9</td>\n",
       "      <td>2</td>\n",
       "      <td>4.0</td>\n",
       "      <td>16.0</td>\n",
       "      <td>4210.0</td>\n",
       "      <td>1.0</td>\n",
       "      <td>56</td>\n",
       "      <td>37</td>\n",
       "      <td>job_4</td>\n",
       "      <td>0.0</td>\n",
       "    </tr>\n",
       "    <tr>\n",
       "      <th>3166041</th>\n",
       "      <td>10222</td>\n",
       "      <td>1160472</td>\n",
       "      <td>3</td>\n",
       "      <td>16</td>\n",
       "      <td>1</td>\n",
       "      <td>6.0</td>\n",
       "      <td>0.0</td>\n",
       "      <td>0.0</td>\n",
       "      <td>12</td>\n",
       "      <td>9</td>\n",
       "      <td>2</td>\n",
       "      <td>0.0</td>\n",
       "      <td>12.0</td>\n",
       "      <td>0.0</td>\n",
       "      <td>0.0</td>\n",
       "      <td>0</td>\n",
       "      <td>0</td>\n",
       "      <td>0</td>\n",
       "      <td>0.0</td>\n",
       "    </tr>\n",
       "    <tr>\n",
       "      <th>3166042</th>\n",
       "      <td>10222</td>\n",
       "      <td>1160472</td>\n",
       "      <td>4</td>\n",
       "      <td>13</td>\n",
       "      <td>2</td>\n",
       "      <td>0.0</td>\n",
       "      <td>0.0</td>\n",
       "      <td>0.0</td>\n",
       "      <td>9</td>\n",
       "      <td>9</td>\n",
       "      <td>2</td>\n",
       "      <td>0.0</td>\n",
       "      <td>9.0</td>\n",
       "      <td>0.0</td>\n",
       "      <td>0.0</td>\n",
       "      <td>0</td>\n",
       "      <td>0</td>\n",
       "      <td>0</td>\n",
       "      <td>0.0</td>\n",
       "    </tr>\n",
       "    <tr>\n",
       "      <th>3166043</th>\n",
       "      <td>10222</td>\n",
       "      <td>1160472</td>\n",
       "      <td>5</td>\n",
       "      <td>71</td>\n",
       "      <td>2</td>\n",
       "      <td>6.0</td>\n",
       "      <td>0.0</td>\n",
       "      <td>0.0</td>\n",
       "      <td>15</td>\n",
       "      <td>9</td>\n",
       "      <td>2</td>\n",
       "      <td>4.0</td>\n",
       "      <td>16.0</td>\n",
       "      <td>0.0</td>\n",
       "      <td>0.0</td>\n",
       "      <td>0</td>\n",
       "      <td>0</td>\n",
       "      <td>0</td>\n",
       "      <td>0.0</td>\n",
       "    </tr>\n",
       "  </tbody>\n",
       "</table>\n",
       "<p>3166044 rows × 19 columns</p>\n",
       "</div>"
      ],
      "text/plain": [
       "          mgra  household_id  SPORDER  AGEP  SEX  ESR  COW  WKHP  SCHG  RAC1P  \\\n",
       "0           57             1        1    34    2  1.0  1.0  40.0     0      1   \n",
       "1           57             1        2    16    2  6.0  0.0   0.0    13      1   \n",
       "2           57             1        3    15    2  0.0  0.0   0.0    11      1   \n",
       "3           57             1        4    14    2  0.0  0.0   0.0    11      1   \n",
       "4           57             1        5    12    1  0.0  0.0   0.0     8      1   \n",
       "...        ...           ...      ...   ...  ...  ...  ...   ...   ...    ...   \n",
       "3166039  10222       1160472        1    46    2  1.0  2.0  40.0     0      9   \n",
       "3166040  10222       1160472        2    49    1  1.0  1.0  40.0     0      9   \n",
       "3166041  10222       1160472        3    16    1  6.0  0.0   0.0    12      9   \n",
       "3166042  10222       1160472        4    13    2  0.0  0.0   0.0     9      9   \n",
       "3166043  10222       1160472        5    71    2  6.0  0.0   0.0    15      9   \n",
       "\n",
       "         HISP  MIL  SCHL    OCCP  WKW NAICS2  SOC2 xwalk_QC  GQ_type  \n",
       "0           2  4.0  17.0  4850.0  1.0     33    41   job_10      0.0  \n",
       "1           2  0.0  13.0     0.0  0.0      0     0        0      0.0  \n",
       "2           2  0.0  11.0     0.0  0.0      0     0        0      0.0  \n",
       "3           2  0.0  11.0     0.0  0.0      0     0        0      0.0  \n",
       "4           2  0.0   8.0     0.0  0.0      0     0        0      0.0  \n",
       "...       ...  ...   ...     ...  ...    ...   ...      ...      ...  \n",
       "3166039     2  4.0  16.0   440.0  1.0     81    11   job_14      0.0  \n",
       "3166040     2  4.0  16.0  4210.0  1.0     56    37    job_4      0.0  \n",
       "3166041     2  0.0  12.0     0.0  0.0      0     0        0      0.0  \n",
       "3166042     2  0.0   9.0     0.0  0.0      0     0        0      0.0  \n",
       "3166043     2  4.0  16.0     0.0  0.0      0     0        0      0.0  \n",
       "\n",
       "[3166044 rows x 19 columns]"
      ]
     },
     "execution_count": 7,
     "metadata": {},
     "output_type": "execute_result"
    }
   ],
   "source": [
    "# Based on xwalk_PUMS_jobs.xlsx file from ENF\n",
    "\n",
    "def PUMS_group(df):\n",
    "    if df['NAICS2'] in ('92'):\n",
    "        return 'job_1'\n",
    "    elif df['NAICS2'] in ('MIL'):\n",
    "        return 'job_2'\n",
    "    elif df['NAICS2'] in ('11', '21'):\n",
    "        return 'job_3'\n",
    "    elif df['NAICS2'] in ('51', '54', '56'):\n",
    "        return 'job_4'\n",
    "    elif df['NAICS2'] in ('52', '53', '55'):\n",
    "        return 'job_5'\n",
    "    elif df['NAICS2'] in ('61'):\n",
    "        return 'job_6'\n",
    "    elif df['NAICS2'] in ('62'):\n",
    "        return 'job_7'\n",
    "    elif df['NAICS2'] in ('44', '45', '4M'):\n",
    "        return 'job_8'\n",
    "    elif df['NAICS2'] in ('48', '49', '23'):\n",
    "        return 'job_9'\n",
    "    elif df['NAICS2'] in ('22', '31', '32', '33', '42', '3M'):\n",
    "        return 'job_10'\n",
    "    elif df['NAICS2'] in ('71'):\n",
    "        return 'job_11'\n",
    "    elif df['NAICS2'] in ('721'):\n",
    "        return 'job_12'\n",
    "    elif df['NAICS2'] in ('722'):\n",
    "        return 'job_13'\n",
    "    elif df['NAICS2'] in ('81'):\n",
    "        return 'job_14'\n",
    "    else:\n",
    "        return df['NAICS2']\n",
    "    \n",
    "sp_non_gq['xwalk_QC'] = sp_non_gq.apply(PUMS_group, axis='columns')\n",
    "sp_non_gq"
   ]
  },
  {
   "cell_type": "code",
   "execution_count": 35,
   "metadata": {},
   "outputs": [],
   "source": [
    "synthetic_NAICS = sp_non_gq.groupby(['xwalk_QC']).agg(total=('NAICS2', 'count')).reset_index()"
   ]
  },
  {
   "attachments": {},
   "cell_type": "markdown",
   "metadata": {},
   "source": []
  },
  {
   "cell_type": "code",
   "execution_count": 36,
   "metadata": {},
   "outputs": [],
   "source": [
    "job_dict = {\n",
    "    'job_4': 280600,\n",
    "    'job_10': 177100,\n",
    "    'job_7': 165200,\n",
    "    'job_5': 153600,\n",
    "    'job_6': 126500,\n",
    "    'job_13': 124000,\n",
    "    'job_9': 121500,\n",
    "    'job_8': 112000,\n",
    "    'job_2': 104000,\n",
    "    'job_1': 98000,\n",
    "    'job_14': 72300,\n",
    "    'job_11': 37400,\n",
    "    'job_12': 16700,\n",
    "    'job_3': 9100\n",
    "}\n"
   ]
  },
  {
   "cell_type": "code",
   "execution_count": 37,
   "metadata": {},
   "outputs": [],
   "source": [
    "synthetic_NAICS['econ_values'] = synthetic_NAICS['xwalk_QC'].map(job_dict)"
   ]
  },
  {
   "cell_type": "code",
   "execution_count": 38,
   "metadata": {},
   "outputs": [],
   "source": [
    "synthetic_NAICS['Diff'] = synthetic_NAICS['total'] - synthetic_NAICS['econ_values']\n",
    "synthetic_NAICS.columns = ['Job_#', 'Synthetic_persons_val', 'Econ_val', 'Diff']\n",
    "synthetic_NAICS = synthetic_NAICS[(synthetic_NAICS['Job_#'] != '0') & (synthetic_NAICS['Job_#'] != '99')]"
   ]
  },
  {
   "cell_type": "code",
   "execution_count": 45,
   "metadata": {},
   "outputs": [
    {
     "data": {
      "text/html": [
       "<div>\n",
       "<style scoped>\n",
       "    .dataframe tbody tr th:only-of-type {\n",
       "        vertical-align: middle;\n",
       "    }\n",
       "\n",
       "    .dataframe tbody tr th {\n",
       "        vertical-align: top;\n",
       "    }\n",
       "\n",
       "    .dataframe thead th {\n",
       "        text-align: right;\n",
       "    }\n",
       "</style>\n",
       "<table border=\"1\" class=\"dataframe\">\n",
       "  <thead>\n",
       "    <tr style=\"text-align: right;\">\n",
       "      <th></th>\n",
       "      <th>Job_#</th>\n",
       "      <th>Synthetic_persons_val</th>\n",
       "      <th>Econ_val</th>\n",
       "      <th>Diff</th>\n",
       "    </tr>\n",
       "  </thead>\n",
       "  <tbody>\n",
       "    <tr>\n",
       "      <th>2</th>\n",
       "      <td>job_1</td>\n",
       "      <td>97702</td>\n",
       "      <td>98000.0</td>\n",
       "      <td>-298.0</td>\n",
       "    </tr>\n",
       "    <tr>\n",
       "      <th>8</th>\n",
       "      <td>job_2</td>\n",
       "      <td>61705</td>\n",
       "      <td>104000.0</td>\n",
       "      <td>-42295.0</td>\n",
       "    </tr>\n",
       "    <tr>\n",
       "      <th>9</th>\n",
       "      <td>job_3</td>\n",
       "      <td>9455</td>\n",
       "      <td>9100.0</td>\n",
       "      <td>355.0</td>\n",
       "    </tr>\n",
       "    <tr>\n",
       "      <th>10</th>\n",
       "      <td>job_4</td>\n",
       "      <td>280734</td>\n",
       "      <td>280600.0</td>\n",
       "      <td>134.0</td>\n",
       "    </tr>\n",
       "    <tr>\n",
       "      <th>11</th>\n",
       "      <td>job_5</td>\n",
       "      <td>153417</td>\n",
       "      <td>153600.0</td>\n",
       "      <td>-183.0</td>\n",
       "    </tr>\n",
       "    <tr>\n",
       "      <th>12</th>\n",
       "      <td>job_6</td>\n",
       "      <td>125782</td>\n",
       "      <td>126500.0</td>\n",
       "      <td>-718.0</td>\n",
       "    </tr>\n",
       "    <tr>\n",
       "      <th>13</th>\n",
       "      <td>job_7</td>\n",
       "      <td>164773</td>\n",
       "      <td>165200.0</td>\n",
       "      <td>-427.0</td>\n",
       "    </tr>\n",
       "    <tr>\n",
       "      <th>14</th>\n",
       "      <td>job_8</td>\n",
       "      <td>111193</td>\n",
       "      <td>112000.0</td>\n",
       "      <td>-807.0</td>\n",
       "    </tr>\n",
       "    <tr>\n",
       "      <th>15</th>\n",
       "      <td>job_9</td>\n",
       "      <td>120908</td>\n",
       "      <td>121500.0</td>\n",
       "      <td>-592.0</td>\n",
       "    </tr>\n",
       "    <tr>\n",
       "      <th>3</th>\n",
       "      <td>job_10</td>\n",
       "      <td>176808</td>\n",
       "      <td>177100.0</td>\n",
       "      <td>-292.0</td>\n",
       "    </tr>\n",
       "    <tr>\n",
       "      <th>4</th>\n",
       "      <td>job_11</td>\n",
       "      <td>36537</td>\n",
       "      <td>37400.0</td>\n",
       "      <td>-863.0</td>\n",
       "    </tr>\n",
       "    <tr>\n",
       "      <th>5</th>\n",
       "      <td>job_12</td>\n",
       "      <td>15735</td>\n",
       "      <td>16700.0</td>\n",
       "      <td>-965.0</td>\n",
       "    </tr>\n",
       "    <tr>\n",
       "      <th>6</th>\n",
       "      <td>job_13</td>\n",
       "      <td>123326</td>\n",
       "      <td>124000.0</td>\n",
       "      <td>-674.0</td>\n",
       "    </tr>\n",
       "    <tr>\n",
       "      <th>7</th>\n",
       "      <td>job_14</td>\n",
       "      <td>71743</td>\n",
       "      <td>72300.0</td>\n",
       "      <td>-557.0</td>\n",
       "    </tr>\n",
       "  </tbody>\n",
       "</table>\n",
       "</div>"
      ],
      "text/plain": [
       "     Job_#  Synthetic_persons_val  Econ_val     Diff\n",
       "2    job_1                  97702   98000.0   -298.0\n",
       "8    job_2                  61705  104000.0 -42295.0\n",
       "9    job_3                   9455    9100.0    355.0\n",
       "10   job_4                 280734  280600.0    134.0\n",
       "11   job_5                 153417  153600.0   -183.0\n",
       "12   job_6                 125782  126500.0   -718.0\n",
       "13   job_7                 164773  165200.0   -427.0\n",
       "14   job_8                 111193  112000.0   -807.0\n",
       "15   job_9                 120908  121500.0   -592.0\n",
       "3   job_10                 176808  177100.0   -292.0\n",
       "4   job_11                  36537   37400.0   -863.0\n",
       "5   job_12                  15735   16700.0   -965.0\n",
       "6   job_13                 123326  124000.0   -674.0\n",
       "7   job_14                  71743   72300.0   -557.0"
      ]
     },
     "execution_count": 45,
     "metadata": {},
     "output_type": "execute_result"
    }
   ],
   "source": [
    "# Extract the numeric part and create a temporary column for sorting\n",
    "synthetic_NAICS['temp_sort'] = synthetic_NAICS['Job_#'].str.extract('(\\d+)').astype(int)\n",
    "\n",
    "# Sort values by the temporary column\n",
    "synthetic_NAICS = synthetic_NAICS.sort_values(by='temp_sort')\n",
    "\n",
    "# Drop the temporary column\n",
    "synthetic_NAICS = synthetic_NAICS.drop(columns='temp_sort')\n",
    "synthetic_NAICS"
   ]
  },
  {
   "cell_type": "code",
   "execution_count": 46,
   "metadata": {},
   "outputs": [],
   "source": [
    "synthetic_NAICS.to_excel('no_gq_econ_sp_jobs_comparison.xlsx', index=False)"
   ]
  },
  {
   "attachments": {},
   "cell_type": "markdown",
   "metadata": {},
   "source": [
    "|"
   ]
  }
 ],
 "metadata": {
  "kernelspec": {
   "display_name": "base",
   "language": "python",
   "name": "python3"
  },
  "language_info": {
   "codemirror_mode": {
    "name": "ipython",
    "version": 3
   },
   "file_extension": ".py",
   "mimetype": "text/x-python",
   "name": "python",
   "nbconvert_exporter": "python",
   "pygments_lexer": "ipython3",
   "version": "3.11.1"
  },
  "orig_nbformat": 4
 },
 "nbformat": 4,
 "nbformat_minor": 2
}
