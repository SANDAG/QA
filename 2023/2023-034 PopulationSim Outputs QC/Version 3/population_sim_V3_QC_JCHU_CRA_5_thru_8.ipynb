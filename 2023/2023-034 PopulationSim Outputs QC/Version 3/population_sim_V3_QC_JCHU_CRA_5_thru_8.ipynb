{
 "cells": [
  {
   "cell_type": "code",
   "execution_count": 1,
   "id": "e5b169a8",
   "metadata": {},
   "outputs": [],
   "source": [
    "import numpy as np\n",
    "import pandas as pd\n",
    "import dask.dataframe as dd\n",
    "import dask.array as da\n",
    "import dask.bag as db\n",
    "import matplotlib as plt"
   ]
  },
  {
   "cell_type": "markdown",
   "id": "a5b82cbf",
   "metadata": {},
   "source": [
    "# Downloading and checking the data"
   ]
  },
  {
   "cell_type": "code",
   "execution_count": 2,
   "id": "958a4cbb",
   "metadata": {},
   "outputs": [
    {
     "name": "stdout",
     "output_type": "stream",
     "text": [
      "(3282455, 17)\n"
     ]
    },
    {
     "data": {
      "text/html": [
       "<div>\n",
       "<style scoped>\n",
       "    .dataframe tbody tr th:only-of-type {\n",
       "        vertical-align: middle;\n",
       "    }\n",
       "\n",
       "    .dataframe tbody tr th {\n",
       "        vertical-align: top;\n",
       "    }\n",
       "\n",
       "    .dataframe thead th {\n",
       "        text-align: right;\n",
       "    }\n",
       "</style>\n",
       "<table border=\"1\" class=\"dataframe\">\n",
       "  <thead>\n",
       "    <tr style=\"text-align: right;\">\n",
       "      <th></th>\n",
       "      <th>mgra</th>\n",
       "      <th>household_id</th>\n",
       "      <th>SPORDER</th>\n",
       "      <th>AGEP</th>\n",
       "      <th>SEX</th>\n",
       "      <th>ESR</th>\n",
       "      <th>COW</th>\n",
       "      <th>WKHP</th>\n",
       "      <th>SCHG</th>\n",
       "      <th>RAC1P</th>\n",
       "      <th>HISP</th>\n",
       "      <th>MIL</th>\n",
       "      <th>SCHL</th>\n",
       "      <th>OCCP</th>\n",
       "      <th>WKW</th>\n",
       "      <th>NAICS2</th>\n",
       "      <th>SOC2</th>\n",
       "    </tr>\n",
       "  </thead>\n",
       "  <tbody>\n",
       "    <tr>\n",
       "      <th>0</th>\n",
       "      <td>57</td>\n",
       "      <td>1</td>\n",
       "      <td>1</td>\n",
       "      <td>34</td>\n",
       "      <td>2</td>\n",
       "      <td>1.0</td>\n",
       "      <td>1.0</td>\n",
       "      <td>40.0</td>\n",
       "      <td>0</td>\n",
       "      <td>1</td>\n",
       "      <td>2</td>\n",
       "      <td>4.0</td>\n",
       "      <td>17.0</td>\n",
       "      <td>4850.0</td>\n",
       "      <td>1.0</td>\n",
       "      <td>33</td>\n",
       "      <td>41</td>\n",
       "    </tr>\n",
       "    <tr>\n",
       "      <th>1</th>\n",
       "      <td>57</td>\n",
       "      <td>1</td>\n",
       "      <td>2</td>\n",
       "      <td>16</td>\n",
       "      <td>2</td>\n",
       "      <td>6.0</td>\n",
       "      <td>0.0</td>\n",
       "      <td>0.0</td>\n",
       "      <td>13</td>\n",
       "      <td>1</td>\n",
       "      <td>2</td>\n",
       "      <td>0.0</td>\n",
       "      <td>13.0</td>\n",
       "      <td>0.0</td>\n",
       "      <td>0.0</td>\n",
       "      <td>0</td>\n",
       "      <td>0</td>\n",
       "    </tr>\n",
       "    <tr>\n",
       "      <th>2</th>\n",
       "      <td>57</td>\n",
       "      <td>1</td>\n",
       "      <td>3</td>\n",
       "      <td>15</td>\n",
       "      <td>2</td>\n",
       "      <td>0.0</td>\n",
       "      <td>0.0</td>\n",
       "      <td>0.0</td>\n",
       "      <td>11</td>\n",
       "      <td>1</td>\n",
       "      <td>2</td>\n",
       "      <td>0.0</td>\n",
       "      <td>11.0</td>\n",
       "      <td>0.0</td>\n",
       "      <td>0.0</td>\n",
       "      <td>0</td>\n",
       "      <td>0</td>\n",
       "    </tr>\n",
       "    <tr>\n",
       "      <th>3</th>\n",
       "      <td>57</td>\n",
       "      <td>1</td>\n",
       "      <td>4</td>\n",
       "      <td>14</td>\n",
       "      <td>2</td>\n",
       "      <td>0.0</td>\n",
       "      <td>0.0</td>\n",
       "      <td>0.0</td>\n",
       "      <td>11</td>\n",
       "      <td>1</td>\n",
       "      <td>2</td>\n",
       "      <td>0.0</td>\n",
       "      <td>11.0</td>\n",
       "      <td>0.0</td>\n",
       "      <td>0.0</td>\n",
       "      <td>0</td>\n",
       "      <td>0</td>\n",
       "    </tr>\n",
       "    <tr>\n",
       "      <th>4</th>\n",
       "      <td>57</td>\n",
       "      <td>1</td>\n",
       "      <td>5</td>\n",
       "      <td>12</td>\n",
       "      <td>1</td>\n",
       "      <td>0.0</td>\n",
       "      <td>0.0</td>\n",
       "      <td>0.0</td>\n",
       "      <td>8</td>\n",
       "      <td>1</td>\n",
       "      <td>2</td>\n",
       "      <td>0.0</td>\n",
       "      <td>8.0</td>\n",
       "      <td>0.0</td>\n",
       "      <td>0.0</td>\n",
       "      <td>0</td>\n",
       "      <td>0</td>\n",
       "    </tr>\n",
       "  </tbody>\n",
       "</table>\n",
       "</div>"
      ],
      "text/plain": [
       "   mgra  household_id  SPORDER  AGEP  SEX  ESR  COW  WKHP  SCHG  RAC1P  HISP  \\\n",
       "0    57             1        1    34    2  1.0  1.0  40.0     0      1     2   \n",
       "1    57             1        2    16    2  6.0  0.0   0.0    13      1     2   \n",
       "2    57             1        3    15    2  0.0  0.0   0.0    11      1     2   \n",
       "3    57             1        4    14    2  0.0  0.0   0.0    11      1     2   \n",
       "4    57             1        5    12    1  0.0  0.0   0.0     8      1     2   \n",
       "\n",
       "   MIL  SCHL    OCCP  WKW NAICS2  SOC2  \n",
       "0  4.0  17.0  4850.0  1.0     33    41  \n",
       "1  0.0  13.0     0.0  0.0      0     0  \n",
       "2  0.0  11.0     0.0  0.0      0     0  \n",
       "3  0.0  11.0     0.0  0.0      0     0  \n",
       "4  0.0   8.0     0.0  0.0      0     0  "
      ]
     },
     "execution_count": 2,
     "metadata": {},
     "output_type": "execute_result"
    }
   ],
   "source": [
    "persons = dd.read_csv(r'T:\\socioec\\Current_Projects\\SR15\\S0\\version6\\abm_csv\\synthetic_persons_2022_01.csv',\n",
    "                      dtype={'NAICS2': 'object'},\n",
    "                      blocksize=25e6)\n",
    "print((persons.shape[0].compute(), persons.shape[1]))\n",
    "persons.head()"
   ]
  },
  {
   "cell_type": "code",
   "execution_count": 3,
   "id": "68abfda4",
   "metadata": {},
   "outputs": [
    {
     "name": "stdout",
     "output_type": "stream",
     "text": [
      "(1276883, 10)\n"
     ]
    },
    {
     "data": {
      "text/html": [
       "<div>\n",
       "<style scoped>\n",
       "    .dataframe tbody tr th:only-of-type {\n",
       "        vertical-align: middle;\n",
       "    }\n",
       "\n",
       "    .dataframe tbody tr th {\n",
       "        vertical-align: top;\n",
       "    }\n",
       "\n",
       "    .dataframe thead th {\n",
       "        text-align: right;\n",
       "    }\n",
       "</style>\n",
       "<table border=\"1\" class=\"dataframe\">\n",
       "  <thead>\n",
       "    <tr style=\"text-align: right;\">\n",
       "      <th></th>\n",
       "      <th>household_id</th>\n",
       "      <th>mgra</th>\n",
       "      <th>NP</th>\n",
       "      <th>HHADJINC</th>\n",
       "      <th>HHT</th>\n",
       "      <th>WIF</th>\n",
       "      <th>HUPAC</th>\n",
       "      <th>VEH</th>\n",
       "      <th>BLD</th>\n",
       "      <th>GQ_type</th>\n",
       "    </tr>\n",
       "  </thead>\n",
       "  <tbody>\n",
       "    <tr>\n",
       "      <th>0</th>\n",
       "      <td>1</td>\n",
       "      <td>57</td>\n",
       "      <td>6</td>\n",
       "      <td>78621.0</td>\n",
       "      <td>3.0</td>\n",
       "      <td>1.0</td>\n",
       "      <td>2.0</td>\n",
       "      <td>1.0</td>\n",
       "      <td>2.0</td>\n",
       "      <td>0.0</td>\n",
       "    </tr>\n",
       "    <tr>\n",
       "      <th>1</th>\n",
       "      <td>2</td>\n",
       "      <td>57</td>\n",
       "      <td>7</td>\n",
       "      <td>108561.6</td>\n",
       "      <td>1.0</td>\n",
       "      <td>1.0</td>\n",
       "      <td>3.0</td>\n",
       "      <td>4.0</td>\n",
       "      <td>2.0</td>\n",
       "      <td>0.0</td>\n",
       "    </tr>\n",
       "    <tr>\n",
       "      <th>2</th>\n",
       "      <td>3</td>\n",
       "      <td>57</td>\n",
       "      <td>8</td>\n",
       "      <td>46849.5</td>\n",
       "      <td>1.0</td>\n",
       "      <td>3.0</td>\n",
       "      <td>3.0</td>\n",
       "      <td>2.0</td>\n",
       "      <td>7.0</td>\n",
       "      <td>0.0</td>\n",
       "    </tr>\n",
       "    <tr>\n",
       "      <th>3</th>\n",
       "      <td>4</td>\n",
       "      <td>57</td>\n",
       "      <td>3</td>\n",
       "      <td>35541.0</td>\n",
       "      <td>1.0</td>\n",
       "      <td>1.0</td>\n",
       "      <td>4.0</td>\n",
       "      <td>5.0</td>\n",
       "      <td>3.0</td>\n",
       "      <td>0.0</td>\n",
       "    </tr>\n",
       "    <tr>\n",
       "      <th>4</th>\n",
       "      <td>5</td>\n",
       "      <td>57</td>\n",
       "      <td>3</td>\n",
       "      <td>35541.0</td>\n",
       "      <td>1.0</td>\n",
       "      <td>1.0</td>\n",
       "      <td>4.0</td>\n",
       "      <td>5.0</td>\n",
       "      <td>3.0</td>\n",
       "      <td>0.0</td>\n",
       "    </tr>\n",
       "  </tbody>\n",
       "</table>\n",
       "</div>"
      ],
      "text/plain": [
       "   household_id  mgra  NP  HHADJINC  HHT  WIF  HUPAC  VEH  BLD  GQ_type\n",
       "0             1    57   6   78621.0  3.0  1.0    2.0  1.0  2.0      0.0\n",
       "1             2    57   7  108561.6  1.0  1.0    3.0  4.0  2.0      0.0\n",
       "2             3    57   8   46849.5  1.0  3.0    3.0  2.0  7.0      0.0\n",
       "3             4    57   3   35541.0  1.0  1.0    4.0  5.0  3.0      0.0\n",
       "4             5    57   3   35541.0  1.0  1.0    4.0  5.0  3.0      0.0"
      ]
     },
     "execution_count": 3,
     "metadata": {},
     "output_type": "execute_result"
    }
   ],
   "source": [
    "households = dd.read_csv(r'T:\\socioec\\Current_Projects\\SR15\\S0\\version6\\abm_csv\\synthetic_households_2022_01.csv',\n",
    "                      blocksize=25e6)\n",
    "print((households.shape[0].compute(), households.shape[1]))\n",
    "households.head()"
   ]
  },
  {
   "cell_type": "markdown",
   "id": "052213e9",
   "metadata": {},
   "source": [
    "# 8.1 ESR b have age > 16 \n",
    "\n",
    "Check for records in which `ESR` is less than 16 (`0`), but `AGEP` is greater than than 16."
   ]
  },
  {
   "cell_type": "code",
   "execution_count": 4,
   "id": "a85b0b76",
   "metadata": {},
   "outputs": [
    {
     "data": {
      "text/plain": [
       "0"
      ]
     },
     "execution_count": 4,
     "metadata": {},
     "output_type": "execute_result"
    }
   ],
   "source": [
    "# Number of persons that have an ESR of 0 (less than 16 y/o), but AGEP greater than or equal to 16\n",
    "persons[(persons['ESR'] == 0) & persons['AGEP'] >= 16].shape[0].compute()"
   ]
  },
  {
   "cell_type": "markdown",
   "id": "4f39a5a6",
   "metadata": {},
   "source": [
    "# 8.X ESR b has COW of b \n",
    "Check for records in which `ESR` is less than 16 (`0`), but `COW` is in the universe (not `0`)."
   ]
  },
  {
   "cell_type": "code",
   "execution_count": 5,
   "id": "d3759cd9",
   "metadata": {},
   "outputs": [
    {
     "data": {
      "text/plain": [
       "0"
      ]
     },
     "execution_count": 5,
     "metadata": {},
     "output_type": "execute_result"
    }
   ],
   "source": [
    "# Number of persons that have an ESR of 0 (less than 16 y/o), but has a COW status\n",
    "persons[(persons['ESR'] == 0) & persons['COW'] != 0].shape[0].compute()"
   ]
  },
  {
   "cell_type": "markdown",
   "id": "f7adc8f0",
   "metadata": {},
   "source": [
    "# 8.X ESR b or 3 or 6 don't have COW of b or 9 (b= NAN) \n",
    "Check for records in which `ESR` is less than 16 yo (`0`) or unemployed (`3`) or not in labor force (`6`) and their `COW` is in the universe and employed (not `0` or `9`).\n",
    "\n",
    "### FLAGED AS FALSE. Data contains records with ESR 3 and 6 with COW neither 0 nor 9"
   ]
  },
  {
   "cell_type": "code",
   "execution_count": 6,
   "id": "ff477743",
   "metadata": {},
   "outputs": [
    {
     "data": {
      "text/plain": [
       "101906"
      ]
     },
     "execution_count": 6,
     "metadata": {},
     "output_type": "execute_result"
    }
   ],
   "source": [
    "# Number of persons where ESR is 0, 3, 6: less than 16, unemployed, or not in labor force\n",
    "# But has a COW code that is neither 0 nor 9 (not in universe nor unemployed/last worked 5 years/never worked)\n",
    "ESRb36 = persons[(persons['ESR'] == 0) | (persons['ESR'] == 3) | (persons['ESR'] == 6)]\n",
    "ESRb36[~((ESRb36['COW'] == 0) | (ESRb36['COW'] == 9))].shape[0].compute()"
   ]
  },
  {
   "cell_type": "code",
   "execution_count": 7,
   "id": "dcff2d73",
   "metadata": {},
   "outputs": [
    {
     "data": {
      "text/plain": [
       "0    6.0\n",
       "1    3.0\n",
       "Name: ESR, dtype: float64"
      ]
     },
     "execution_count": 7,
     "metadata": {},
     "output_type": "execute_result"
    }
   ],
   "source": [
    "# ESR codes of 3 and 6 contain COW codes that are neither 0 nor 9\n",
    "ESRb36[~((ESRb36['COW'] == 0) | (ESRb36['COW'] == 9))]['ESR'].unique().compute()"
   ]
  },
  {
   "cell_type": "code",
   "execution_count": 8,
   "id": "ce535ec7",
   "metadata": {},
   "outputs": [
    {
     "data": {
      "text/plain": [
       "0    1.0\n",
       "1    5.0\n",
       "2    2.0\n",
       "3    6.0\n",
       "4    7.0\n",
       "5    3.0\n",
       "6    4.0\n",
       "7    8.0\n",
       "Name: COW, dtype: float64"
      ]
     },
     "execution_count": 8,
     "metadata": {},
     "output_type": "execute_result"
    }
   ],
   "source": [
    "# COW codes vary between 1 to 8 for these ESR codes\n",
    "ESRb36[~((ESRb36['COW'] == 0) | (ESRb36['COW'] == 9))]['COW'].unique().compute()"
   ]
  },
  {
   "cell_type": "code",
   "execution_count": 9,
   "id": "a2b45a00",
   "metadata": {},
   "outputs": [
    {
     "data": {
      "text/html": [
       "<div>\n",
       "<style scoped>\n",
       "    .dataframe tbody tr th:only-of-type {\n",
       "        vertical-align: middle;\n",
       "    }\n",
       "\n",
       "    .dataframe tbody tr th {\n",
       "        vertical-align: top;\n",
       "    }\n",
       "\n",
       "    .dataframe thead th {\n",
       "        text-align: right;\n",
       "    }\n",
       "</style>\n",
       "<table border=\"1\" class=\"dataframe\">\n",
       "  <thead>\n",
       "    <tr style=\"text-align: right;\">\n",
       "      <th></th>\n",
       "      <th>mgra</th>\n",
       "      <th>household_id</th>\n",
       "      <th>SPORDER</th>\n",
       "      <th>AGEP</th>\n",
       "      <th>SEX</th>\n",
       "      <th>ESR</th>\n",
       "      <th>COW</th>\n",
       "      <th>WKHP</th>\n",
       "      <th>SCHG</th>\n",
       "      <th>RAC1P</th>\n",
       "      <th>HISP</th>\n",
       "      <th>MIL</th>\n",
       "      <th>SCHL</th>\n",
       "      <th>OCCP</th>\n",
       "      <th>WKW</th>\n",
       "      <th>NAICS2</th>\n",
       "      <th>SOC2</th>\n",
       "    </tr>\n",
       "  </thead>\n",
       "  <tbody>\n",
       "    <tr>\n",
       "      <th>6</th>\n",
       "      <td>57</td>\n",
       "      <td>2</td>\n",
       "      <td>1</td>\n",
       "      <td>31</td>\n",
       "      <td>1</td>\n",
       "      <td>6.0</td>\n",
       "      <td>1.0</td>\n",
       "      <td>0.0</td>\n",
       "      <td>0</td>\n",
       "      <td>1</td>\n",
       "      <td>1</td>\n",
       "      <td>2.0</td>\n",
       "      <td>19.0</td>\n",
       "      <td>4720.0</td>\n",
       "      <td>0.0</td>\n",
       "      <td>44</td>\n",
       "      <td>41</td>\n",
       "    </tr>\n",
       "    <tr>\n",
       "      <th>20</th>\n",
       "      <td>57</td>\n",
       "      <td>3</td>\n",
       "      <td>8</td>\n",
       "      <td>60</td>\n",
       "      <td>2</td>\n",
       "      <td>3.0</td>\n",
       "      <td>1.0</td>\n",
       "      <td>40.0</td>\n",
       "      <td>0</td>\n",
       "      <td>1</td>\n",
       "      <td>2</td>\n",
       "      <td>4.0</td>\n",
       "      <td>9.0</td>\n",
       "      <td>2633.0</td>\n",
       "      <td>6.0</td>\n",
       "      <td>45</td>\n",
       "      <td>27</td>\n",
       "    </tr>\n",
       "    <tr>\n",
       "      <th>47</th>\n",
       "      <td>100</td>\n",
       "      <td>18</td>\n",
       "      <td>2</td>\n",
       "      <td>49</td>\n",
       "      <td>2</td>\n",
       "      <td>6.0</td>\n",
       "      <td>1.0</td>\n",
       "      <td>0.0</td>\n",
       "      <td>0</td>\n",
       "      <td>1</td>\n",
       "      <td>2</td>\n",
       "      <td>4.0</td>\n",
       "      <td>19.0</td>\n",
       "      <td>940.0</td>\n",
       "      <td>0.0</td>\n",
       "      <td>54</td>\n",
       "      <td>13</td>\n",
       "    </tr>\n",
       "    <tr>\n",
       "      <th>51</th>\n",
       "      <td>100</td>\n",
       "      <td>19</td>\n",
       "      <td>2</td>\n",
       "      <td>49</td>\n",
       "      <td>2</td>\n",
       "      <td>6.0</td>\n",
       "      <td>1.0</td>\n",
       "      <td>0.0</td>\n",
       "      <td>0</td>\n",
       "      <td>1</td>\n",
       "      <td>2</td>\n",
       "      <td>4.0</td>\n",
       "      <td>19.0</td>\n",
       "      <td>940.0</td>\n",
       "      <td>0.0</td>\n",
       "      <td>54</td>\n",
       "      <td>13</td>\n",
       "    </tr>\n",
       "    <tr>\n",
       "      <th>55</th>\n",
       "      <td>100</td>\n",
       "      <td>20</td>\n",
       "      <td>2</td>\n",
       "      <td>49</td>\n",
       "      <td>2</td>\n",
       "      <td>6.0</td>\n",
       "      <td>1.0</td>\n",
       "      <td>0.0</td>\n",
       "      <td>0</td>\n",
       "      <td>1</td>\n",
       "      <td>2</td>\n",
       "      <td>4.0</td>\n",
       "      <td>19.0</td>\n",
       "      <td>940.0</td>\n",
       "      <td>0.0</td>\n",
       "      <td>54</td>\n",
       "      <td>13</td>\n",
       "    </tr>\n",
       "  </tbody>\n",
       "</table>\n",
       "</div>"
      ],
      "text/plain": [
       "    mgra  household_id  SPORDER  AGEP  SEX  ESR  COW  WKHP  SCHG  RAC1P  HISP  \\\n",
       "6     57             2        1    31    1  6.0  1.0   0.0     0      1     1   \n",
       "20    57             3        8    60    2  3.0  1.0  40.0     0      1     2   \n",
       "47   100            18        2    49    2  6.0  1.0   0.0     0      1     2   \n",
       "51   100            19        2    49    2  6.0  1.0   0.0     0      1     2   \n",
       "55   100            20        2    49    2  6.0  1.0   0.0     0      1     2   \n",
       "\n",
       "    MIL  SCHL    OCCP  WKW NAICS2  SOC2  \n",
       "6   2.0  19.0  4720.0  0.0     44    41  \n",
       "20  4.0   9.0  2633.0  6.0     45    27  \n",
       "47  4.0  19.0   940.0  0.0     54    13  \n",
       "51  4.0  19.0   940.0  0.0     54    13  \n",
       "55  4.0  19.0   940.0  0.0     54    13  "
      ]
     },
     "execution_count": 9,
     "metadata": {},
     "output_type": "execute_result"
    }
   ],
   "source": [
    "ESRb36[~((ESRb36['COW'] == 0) | (ESRb36['COW'] == 9))].head()"
   ]
  },
  {
   "cell_type": "code",
   "execution_count": 10,
   "id": "d19af098",
   "metadata": {},
   "outputs": [],
   "source": [
    "# output results of checks\n",
    "pd.DataFrame(ESRb36[~((ESRb36['COW'] == 0) | (ESRb36['COW'] == 9))].compute()).to_csv('persons_ESRb36_COW_no_b_9_v2.csv', index=False)"
   ]
  },
  {
   "cell_type": "markdown",
   "id": "2fb0e7c9",
   "metadata": {},
   "source": [
    "# 8.4 Range of hours worked for ESR 1 and 4 and ESR 2 and 5 is reasonable\n",
    "\n",
    "Median of hours is 40 (expected) but maximum hours looks really high."
   ]
  },
  {
   "cell_type": "code",
   "execution_count": 11,
   "id": "f8f3dfdf",
   "metadata": {},
   "outputs": [
    {
     "name": "stdout",
     "output_type": "stream",
     "text": [
      "count    1.490673e+06\n",
      "mean     4.003619e+01\n",
      "std      1.236616e+01\n",
      "min      1.000000e+00\n",
      "25%      4.000000e+01\n",
      "50%      4.000000e+01\n",
      "75%      5.000000e+01\n",
      "max      9.900000e+01\n",
      "Name: WKHP, dtype: float64\n"
     ]
    },
    {
     "data": {
      "text/plain": [
       "<AxesSubplot:>"
      ]
     },
     "execution_count": 11,
     "metadata": {},
     "output_type": "execute_result"
    },
    {
     "data": {
      "image/png": "[encoded data removed]",
      "text/plain": [
       "<Figure size 432x288 with 1 Axes>"
      ]
     },
     "metadata": {
      "needs_background": "light"
     },
     "output_type": "display_data"
    }
   ],
   "source": [
    "# Check range of hours for persons with ESR 1 or 4: at work civilians or armed forces\n",
    "print(persons[(persons['ESR'] == 1) | (persons['ESR'] == 4)]['WKHP'].describe().compute())\n",
    "pd.Series(persons[(persons['ESR'] == 1) | (persons['ESR'] == 4)]['WKHP']).hist()"
   ]
  },
  {
   "cell_type": "code",
   "execution_count": 12,
   "id": "d731c693",
   "metadata": {},
   "outputs": [
    {
     "data": {
      "text/plain": [
       "count    142221.000000\n",
       "mean         64.307078\n",
       "std          10.723942\n",
       "min          51.000000\n",
       "25%          60.000000\n",
       "50%          65.000000\n",
       "75%          80.000000\n",
       "max          99.000000\n",
       "Name: WKHP, dtype: float64"
      ]
     },
     "execution_count": 12,
     "metadata": {},
     "output_type": "execute_result"
    }
   ],
   "source": [
    "persons[((persons['ESR'] == 1) | (persons['ESR'] == 4)) & (persons['WKHP']>50)]['WKHP'].describe().compute()"
   ]
  },
  {
   "cell_type": "code",
   "execution_count": 13,
   "id": "faf19d48",
   "metadata": {},
   "outputs": [
    {
     "name": "stdout",
     "output_type": "stream",
     "text": [
      "count    33091.000000\n",
      "mean        36.010275\n",
      "std         14.915749\n",
      "min          1.000000\n",
      "25%         35.000000\n",
      "50%         40.000000\n",
      "75%         40.000000\n",
      "max         99.000000\n",
      "Name: WKHP, dtype: float64\n"
     ]
    },
    {
     "data": {
      "text/plain": [
       "<AxesSubplot:>"
      ]
     },
     "execution_count": 13,
     "metadata": {},
     "output_type": "execute_result"
    },
    {
     "data": {
      "image/png": "[encoded data removed]",
      "text/plain": [
       "<Figure size 432x288 with 1 Axes>"
      ]
     },
     "metadata": {
      "needs_background": "light"
     },
     "output_type": "display_data"
    }
   ],
   "source": [
    "# Check range of hours for persons with ESR not 1 or 4: not at work civilians or armed forces, but with a job\n",
    "print(persons[(persons['ESR'] == 2) | (persons['ESR'] == 5)]['WKHP'].describe().compute())\n",
    "pd.Series(persons[(persons['ESR'] == 2) | (persons['ESR'] == 5)]['WKHP']).hist()"
   ]
  },
  {
   "cell_type": "code",
   "execution_count": 14,
   "id": "8bff7bf1",
   "metadata": {},
   "outputs": [
    {
     "data": {
      "text/plain": [
       "count    654911.0\n",
       "mean          0.0\n",
       "std           0.0\n",
       "min           0.0\n",
       "25%           0.0\n",
       "50%           0.0\n",
       "75%           0.0\n",
       "max           0.0\n",
       "Name: WKHP, dtype: float64"
      ]
     },
     "execution_count": 14,
     "metadata": {},
     "output_type": "execute_result"
    }
   ],
   "source": [
    "persons[((persons['ESR'] == 0))]['WKHP'].describe().compute()\n",
    "# pd.persons[(((persons['ESR'] == 6 | (persons['ESR']==0))) & (persons['WKHP']>50)]['WKHP'].hist()"
   ]
  },
  {
   "cell_type": "code",
   "execution_count": 15,
   "id": "b090e651",
   "metadata": {},
   "outputs": [],
   "source": [
    "# 100k records more than 40 hours per week for 3 and 6 ESR"
   ]
  },
  {
   "cell_type": "markdown",
   "id": "bdcaff27",
   "metadata": {},
   "source": [
    "# 8.5 ESR 4 or 5 have MIL of 1 or 3\n",
    "Check if armed forces ESR 4 or 5 have an active duty status MIL of 1 or 3"
   ]
  },
  {
   "cell_type": "code",
   "execution_count": 16,
   "id": "e74d4ec0",
   "metadata": {},
   "outputs": [
    {
     "data": {
      "text/plain": [
       "0    1.0\n",
       "1    3.0\n",
       "Name: MIL, dtype: float64"
      ]
     },
     "execution_count": 16,
     "metadata": {},
     "output_type": "execute_result"
    }
   ],
   "source": [
    "# MIL codes for persons with ESR 4 or 5: armed forces\n",
    "# MIL codes 1 and 3 code for those on active duty\n",
    "persons[(persons['ESR'] == 4) | (persons['ESR'] == 5)]['MIL'].unique().compute()"
   ]
  },
  {
   "cell_type": "markdown",
   "id": "74553a69",
   "metadata": {},
   "source": [
    "# 8.6 Is there a pattern in COW values for those with MIL code != b or 4\n",
    "For those in or used to be on active duty, what are COW values?\n",
    "\n",
    "Mostly falls under COW 5, Federal government employee. Removing those that are on active duty brings the distribution closer to those that never served, but a large majority still work under the federal government. Similar findings to version 1 and 2."
   ]
  },
  {
   "cell_type": "code",
   "execution_count": 17,
   "id": "0f61ac13",
   "metadata": {},
   "outputs": [
    {
     "name": "stdout",
     "output_type": "stream",
     "text": [
      "0    1.0\n",
      "1    0.0\n",
      "2    5.0\n",
      "3    2.0\n",
      "4    6.0\n",
      "5    3.0\n",
      "6    4.0\n",
      "7    7.0\n",
      "8    9.0\n",
      "9    8.0\n",
      "Name: COW, dtype: float64\n"
     ]
    },
    {
     "data": {
      "text/plain": [
       "<AxesSubplot:>"
      ]
     },
     "execution_count": 17,
     "metadata": {},
     "output_type": "execute_result"
    },
    {
     "data": {
      "image/png": "[encoded data removed]",
      "text/plain": [
       "<Figure size 432x288 with 1 Axes>"
      ]
     },
     "metadata": {
      "needs_background": "light"
     },
     "output_type": "display_data"
    }
   ],
   "source": [
    "# Distribution of COW values for those in or used to be on active duty\n",
    "print(persons[~((persons['MIL']==0) | (persons['MIL'] == 4))]['COW'].unique().compute())\n",
    "pd.Series(persons[~((persons['MIL']==0) | (persons['MIL'] == 4))]['COW']).hist()"
   ]
  },
  {
   "cell_type": "code",
   "execution_count": 18,
   "id": "9e645ea5",
   "metadata": {},
   "outputs": [
    {
     "data": {
      "text/plain": [
       "<AxesSubplot:>"
      ]
     },
     "execution_count": 18,
     "metadata": {},
     "output_type": "execute_result"
    },
    {
     "data": {
      "image/png": "[encoded data removed]",
      "text/plain": [
       "<Figure size 432x288 with 1 Axes>"
      ]
     },
     "metadata": {
      "needs_background": "light"
     },
     "output_type": "display_data"
    }
   ],
   "source": [
    "# Distribution of COW values for those that has never served\n",
    "pd.Series(persons[(persons['MIL']==0) | (persons['MIL'] == 4)]['COW']).hist()"
   ]
  },
  {
   "cell_type": "markdown",
   "id": "34897ba4",
   "metadata": {},
   "source": [
    "# 8.7  MIL b and ESR b have age < 17 \n",
    "Check if MIL value less than 17 y/o and ESR value less than 16 (both values of 0) have all AGEP less than 17."
   ]
  },
  {
   "cell_type": "code",
   "execution_count": 19,
   "id": "7a11694f",
   "metadata": {},
   "outputs": [
    {
     "data": {
      "text/plain": [
       "0"
      ]
     },
     "execution_count": 19,
     "metadata": {},
     "output_type": "execute_result"
    }
   ],
   "source": [
    "# Number of persons with ESR value less than 16 y/o, but AGEP greater than or equal to 17\n",
    "persons[(persons['ESR'] == 0) & (persons['AGEP'] >= 17)].shape[0].compute()"
   ]
  },
  {
   "cell_type": "code",
   "execution_count": 20,
   "id": "08fdbb92",
   "metadata": {},
   "outputs": [
    {
     "data": {
      "text/plain": [
       "0"
      ]
     },
     "execution_count": 20,
     "metadata": {},
     "output_type": "execute_result"
    }
   ],
   "source": [
    "# Number of persons with MIL value less than 16 y/o, but AGEP greater than or equal to 17\n",
    "persons[(persons['MIL'] == 0) & (persons['AGEP'] >= 17)].shape[0].compute()"
   ]
  },
  {
   "cell_type": "markdown",
   "id": "500b4d69",
   "metadata": {},
   "source": [
    "# 8.8 MIL 1 have ESR = 4 or 5\n",
    "Check if MIL on active duty has ESR value for armed forces"
   ]
  },
  {
   "cell_type": "code",
   "execution_count": 21,
   "id": "7a8af317",
   "metadata": {},
   "outputs": [
    {
     "data": {
      "text/plain": [
       "0    4.0\n",
       "1    5.0\n",
       "Name: ESR, dtype: float64"
      ]
     },
     "execution_count": 21,
     "metadata": {},
     "output_type": "execute_result"
    }
   ],
   "source": [
    "persons[persons['MIL'] == 1]['ESR'].unique().compute()"
   ]
  },
  {
   "cell_type": "markdown",
   "id": "df592c76",
   "metadata": {},
   "source": [
    "# 8.9 ESR 4 or 5 have age <= 60"
   ]
  },
  {
   "cell_type": "code",
   "execution_count": 22,
   "id": "beb2c146",
   "metadata": {},
   "outputs": [
    {
     "data": {
      "text/plain": [
       "0"
      ]
     },
     "execution_count": 22,
     "metadata": {},
     "output_type": "execute_result"
    }
   ],
   "source": [
    "persons[((persons['ESR'] == 4) | (persons['ESR'] == 5)) & (persons['AGEP'] > 60)].shape[0].compute()"
   ]
  },
  {
   "cell_type": "markdown",
   "id": "47c55cb2",
   "metadata": {},
   "source": [
    "# 8.X Pattern in COWs with MIL 1 has ESR 4 or 5."
   ]
  },
  {
   "cell_type": "code",
   "execution_count": 23,
   "id": "8c660bb1",
   "metadata": {},
   "outputs": [
    {
     "data": {
      "text/plain": [
       "0    5.0\n",
       "Name: COW, dtype: float64"
      ]
     },
     "execution_count": 23,
     "metadata": {},
     "output_type": "execute_result"
    }
   ],
   "source": [
    "persons[persons['MIL'] == 1]['COW'].unique().compute()"
   ]
  },
  {
   "cell_type": "markdown",
   "id": "2289ecc0",
   "metadata": {},
   "source": [
    "# 8.11 MIL = 1 or 3 have age > 60\n",
    "\n",
    "Check for all persons with `MIL` codes `1` or `3` (active duty) and over `AGEP` 60.\n",
    "\n",
    "All persons that are on active duty and over `AGEP` 60 are on active duty for training in Reserves/National Guard (`MIL` code `3`)."
   ]
  },
  {
   "cell_type": "code",
   "execution_count": 24,
   "id": "1eeec811",
   "metadata": {},
   "outputs": [
    {
     "name": "stdout",
     "output_type": "stream",
     "text": [
      "12951\n"
     ]
    },
    {
     "data": {
      "text/plain": [
       "<AxesSubplot:>"
      ]
     },
     "execution_count": 24,
     "metadata": {},
     "output_type": "execute_result"
    },
    {
     "data": {
      "image/png": "[encoded data removed]",
      "text/plain": [
       "<Figure size 432x288 with 1 Axes>"
      ]
     },
     "metadata": {
      "needs_background": "light"
     },
     "output_type": "display_data"
    }
   ],
   "source": [
    "# Number and distribution of persons with MIL code 1 or 3 and are over AGEP 60\n",
    "print(persons[((persons['MIL'] == 1) | (persons['MIL'] == 3)) & (persons['AGEP'] > 60)].shape[0].compute())\n",
    "pd.Series(persons[((persons['MIL'] == 1) | (persons['MIL'] == 3)) & (persons['AGEP'] > 60)]['AGEP']).hist()"
   ]
  },
  {
   "cell_type": "code",
   "execution_count": 25,
   "id": "63bb4eb5",
   "metadata": {},
   "outputs": [
    {
     "name": "stdout",
     "output_type": "stream",
     "text": [
      "0\n"
     ]
    },
    {
     "data": {
      "text/plain": [
       "<AxesSubplot:>"
      ]
     },
     "execution_count": 25,
     "metadata": {},
     "output_type": "execute_result"
    },
    {
     "data": {
      "image/png": "[encoded data removed]",
      "text/plain": [
       "<Figure size 432x288 with 1 Axes>"
      ]
     },
     "metadata": {
      "needs_background": "light"
     },
     "output_type": "display_data"
    }
   ],
   "source": [
    "# Number and distribution of persons with MIL code 1 and are over AGEP 60\n",
    "print(persons[(persons['MIL'] == 1) & (persons['AGEP'] > 60)].shape[0].compute())\n",
    "pd.Series(persons[(persons['MIL'] == 1) & (persons['AGEP'] > 60)]['AGEP']).hist()"
   ]
  },
  {
   "cell_type": "code",
   "execution_count": 26,
   "id": "4d84ecf1",
   "metadata": {},
   "outputs": [
    {
     "name": "stdout",
     "output_type": "stream",
     "text": [
      "12951\n"
     ]
    },
    {
     "data": {
      "text/plain": [
       "<AxesSubplot:>"
      ]
     },
     "execution_count": 26,
     "metadata": {},
     "output_type": "execute_result"
    },
    {
     "data": {
      "image/png": "[encoded data removed]",
      "text/plain": [
       "<Figure size 432x288 with 1 Axes>"
      ]
     },
     "metadata": {
      "needs_background": "light"
     },
     "output_type": "display_data"
    }
   ],
   "source": [
    "# Number and distribution of persons with MIL code 3 and are over AGEP 60\n",
    "print(persons[(persons['MIL'] == 3) & (persons['AGEP'] > 60)].shape[0].compute())\n",
    "pd.Series(persons[(persons['MIL'] == 3) & (persons['AGEP'] > 60)]['AGEP']).hist()"
   ]
  },
  {
   "cell_type": "code",
   "execution_count": 27,
   "id": "16aefd77",
   "metadata": {},
   "outputs": [
    {
     "data": {
      "text/plain": [
       "<AxesSubplot:>"
      ]
     },
     "execution_count": 27,
     "metadata": {},
     "output_type": "execute_result"
    },
    {
     "data": {
      "image/png": "[encoded data removed]",
      "text/plain": [
       "<Figure size 432x288 with 1 Axes>"
      ]
     },
     "metadata": {
      "needs_background": "light"
     },
     "output_type": "display_data"
    }
   ],
   "source": [
    "# Checks for COW code distributions for persons with MIL code 1 or 3\n",
    "# Majority are COW code 0 (not in COW universe)\n",
    "pd.Series(persons[((persons['MIL'] == 1) | (persons['MIL'] == 3)) & (persons['AGEP'] > 60)]['COW']).hist()"
   ]
  },
  {
   "cell_type": "markdown",
   "id": "26e4b945",
   "metadata": {},
   "source": [
    "# Consistency checks between household income and vehicle ownership check   \n",
    "\n",
    "# 7.a Household Income < 30K, more than 2 vehicles (currently looking at more than 4 vehicles)\n",
    "\n",
    "# 7.b Household Income > 100K, 0 vehicles   "
   ]
  },
  {
   "cell_type": "code",
   "execution_count": 28,
   "id": "72586ae3",
   "metadata": {},
   "outputs": [
    {
     "data": {
      "text/html": [
       "<div>\n",
       "<style scoped>\n",
       "    .dataframe tbody tr th:only-of-type {\n",
       "        vertical-align: middle;\n",
       "    }\n",
       "\n",
       "    .dataframe tbody tr th {\n",
       "        vertical-align: top;\n",
       "    }\n",
       "\n",
       "    .dataframe thead th {\n",
       "        text-align: right;\n",
       "    }\n",
       "</style>\n",
       "<table border=\"1\" class=\"dataframe\">\n",
       "  <thead>\n",
       "    <tr style=\"text-align: right;\">\n",
       "      <th></th>\n",
       "      <th>household_id</th>\n",
       "      <th>mgra</th>\n",
       "      <th>NP</th>\n",
       "      <th>HHADJINC</th>\n",
       "      <th>HHT</th>\n",
       "      <th>WIF</th>\n",
       "      <th>HUPAC</th>\n",
       "      <th>VEH</th>\n",
       "      <th>BLD</th>\n",
       "      <th>GQ_type</th>\n",
       "    </tr>\n",
       "  </thead>\n",
       "  <tbody>\n",
       "    <tr>\n",
       "      <th>13754</th>\n",
       "      <td>13755</td>\n",
       "      <td>8184</td>\n",
       "      <td>6</td>\n",
       "      <td>16155.00</td>\n",
       "      <td>1.0</td>\n",
       "      <td>1.0</td>\n",
       "      <td>3.0</td>\n",
       "      <td>5.0</td>\n",
       "      <td>3.0</td>\n",
       "      <td>0.0</td>\n",
       "    </tr>\n",
       "    <tr>\n",
       "      <th>282235</th>\n",
       "      <td>912088</td>\n",
       "      <td>8735</td>\n",
       "      <td>6</td>\n",
       "      <td>0.00</td>\n",
       "      <td>5.0</td>\n",
       "      <td>NaN</td>\n",
       "      <td>4.0</td>\n",
       "      <td>5.0</td>\n",
       "      <td>2.0</td>\n",
       "      <td>0.0</td>\n",
       "    </tr>\n",
       "    <tr>\n",
       "      <th>282236</th>\n",
       "      <td>912089</td>\n",
       "      <td>8735</td>\n",
       "      <td>6</td>\n",
       "      <td>0.00</td>\n",
       "      <td>5.0</td>\n",
       "      <td>NaN</td>\n",
       "      <td>4.0</td>\n",
       "      <td>5.0</td>\n",
       "      <td>2.0</td>\n",
       "      <td>0.0</td>\n",
       "    </tr>\n",
       "    <tr>\n",
       "      <th>282237</th>\n",
       "      <td>912090</td>\n",
       "      <td>8735</td>\n",
       "      <td>6</td>\n",
       "      <td>0.00</td>\n",
       "      <td>5.0</td>\n",
       "      <td>NaN</td>\n",
       "      <td>4.0</td>\n",
       "      <td>5.0</td>\n",
       "      <td>2.0</td>\n",
       "      <td>0.0</td>\n",
       "    </tr>\n",
       "    <tr>\n",
       "      <th>282238</th>\n",
       "      <td>912091</td>\n",
       "      <td>8735</td>\n",
       "      <td>6</td>\n",
       "      <td>0.00</td>\n",
       "      <td>5.0</td>\n",
       "      <td>NaN</td>\n",
       "      <td>4.0</td>\n",
       "      <td>5.0</td>\n",
       "      <td>2.0</td>\n",
       "      <td>0.0</td>\n",
       "    </tr>\n",
       "    <tr>\n",
       "      <th>...</th>\n",
       "      <td>...</td>\n",
       "      <td>...</td>\n",
       "      <td>...</td>\n",
       "      <td>...</td>\n",
       "      <td>...</td>\n",
       "      <td>...</td>\n",
       "      <td>...</td>\n",
       "      <td>...</td>\n",
       "      <td>...</td>\n",
       "      <td>...</td>\n",
       "    </tr>\n",
       "    <tr>\n",
       "      <th>111852</th>\n",
       "      <td>741705</td>\n",
       "      <td>7147</td>\n",
       "      <td>1</td>\n",
       "      <td>10.77</td>\n",
       "      <td>4.0</td>\n",
       "      <td>NaN</td>\n",
       "      <td>4.0</td>\n",
       "      <td>6.0</td>\n",
       "      <td>1.0</td>\n",
       "      <td>0.0</td>\n",
       "    </tr>\n",
       "    <tr>\n",
       "      <th>115508</th>\n",
       "      <td>745361</td>\n",
       "      <td>7507</td>\n",
       "      <td>1</td>\n",
       "      <td>10.77</td>\n",
       "      <td>4.0</td>\n",
       "      <td>NaN</td>\n",
       "      <td>4.0</td>\n",
       "      <td>6.0</td>\n",
       "      <td>1.0</td>\n",
       "      <td>0.0</td>\n",
       "    </tr>\n",
       "    <tr>\n",
       "      <th>115509</th>\n",
       "      <td>745362</td>\n",
       "      <td>7507</td>\n",
       "      <td>1</td>\n",
       "      <td>10.77</td>\n",
       "      <td>4.0</td>\n",
       "      <td>NaN</td>\n",
       "      <td>4.0</td>\n",
       "      <td>6.0</td>\n",
       "      <td>1.0</td>\n",
       "      <td>0.0</td>\n",
       "    </tr>\n",
       "    <tr>\n",
       "      <th>88471</th>\n",
       "      <td>718324</td>\n",
       "      <td>486</td>\n",
       "      <td>1</td>\n",
       "      <td>10.77</td>\n",
       "      <td>4.0</td>\n",
       "      <td>NaN</td>\n",
       "      <td>4.0</td>\n",
       "      <td>6.0</td>\n",
       "      <td>1.0</td>\n",
       "      <td>0.0</td>\n",
       "    </tr>\n",
       "    <tr>\n",
       "      <th>530061</th>\n",
       "      <td>1159914</td>\n",
       "      <td>10172</td>\n",
       "      <td>2</td>\n",
       "      <td>19386.00</td>\n",
       "      <td>1.0</td>\n",
       "      <td>2.0</td>\n",
       "      <td>4.0</td>\n",
       "      <td>6.0</td>\n",
       "      <td>5.0</td>\n",
       "      <td>0.0</td>\n",
       "    </tr>\n",
       "  </tbody>\n",
       "</table>\n",
       "<p>1462 rows × 10 columns</p>\n",
       "</div>"
      ],
      "text/plain": [
       "        household_id   mgra  NP  HHADJINC  HHT  WIF  HUPAC  VEH  BLD  GQ_type\n",
       "13754          13755   8184   6  16155.00  1.0  1.0    3.0  5.0  3.0      0.0\n",
       "282235        912088   8735   6      0.00  5.0  NaN    4.0  5.0  2.0      0.0\n",
       "282236        912089   8735   6      0.00  5.0  NaN    4.0  5.0  2.0      0.0\n",
       "282237        912090   8735   6      0.00  5.0  NaN    4.0  5.0  2.0      0.0\n",
       "282238        912091   8735   6      0.00  5.0  NaN    4.0  5.0  2.0      0.0\n",
       "...              ...    ...  ..       ...  ...  ...    ...  ...  ...      ...\n",
       "111852        741705   7147   1     10.77  4.0  NaN    4.0  6.0  1.0      0.0\n",
       "115508        745361   7507   1     10.77  4.0  NaN    4.0  6.0  1.0      0.0\n",
       "115509        745362   7507   1     10.77  4.0  NaN    4.0  6.0  1.0      0.0\n",
       "88471         718324    486   1     10.77  4.0  NaN    4.0  6.0  1.0      0.0\n",
       "530061       1159914  10172   2  19386.00  1.0  2.0    4.0  6.0  5.0      0.0\n",
       "\n",
       "[1462 rows x 10 columns]"
      ]
     },
     "execution_count": 28,
     "metadata": {},
     "output_type": "execute_result"
    }
   ],
   "source": [
    "households_30k_2 = households[(households['HHADJINC'] < 30000) & (households['VEH'] > 4)]\n",
    "households_30k_2.sort_values('VEH').compute()"
   ]
  },
  {
   "cell_type": "code",
   "execution_count": 29,
   "id": "0ce160dc",
   "metadata": {},
   "outputs": [],
   "source": [
    "pd.DataFrame(households_30k_2.sort_values('VEH').compute()).to_csv('households_30k_4.csv', index=False)"
   ]
  },
  {
   "cell_type": "code",
   "execution_count": null,
   "id": "09b8291d",
   "metadata": {},
   "outputs": [],
   "source": []
  },
  {
   "cell_type": "code",
   "execution_count": 30,
   "id": "8a650554",
   "metadata": {},
   "outputs": [
    {
     "data": {
      "text/plain": [
       "1.9753979415272407"
      ]
     },
     "execution_count": 30,
     "metadata": {},
     "output_type": "execute_result"
    }
   ],
   "source": [
    "households['VEH'].mean().compute()"
   ]
  },
  {
   "cell_type": "code",
   "execution_count": 31,
   "id": "96e49cea",
   "metadata": {},
   "outputs": [
    {
     "data": {
      "text/plain": [
       "<AxesSubplot:>"
      ]
     },
     "execution_count": 31,
     "metadata": {},
     "output_type": "execute_result"
    },
    {
     "data": {
      "image/png": "[encoded data removed]",
      "text/plain": [
       "<Figure size 432x288 with 1 Axes>"
      ]
     },
     "metadata": {
      "needs_background": "light"
     },
     "output_type": "display_data"
    }
   ],
   "source": [
    "pd.Series(households['NP']).hist()"
   ]
  },
  {
   "cell_type": "code",
   "execution_count": 32,
   "id": "22785589",
   "metadata": {},
   "outputs": [
    {
     "name": "stdout",
     "output_type": "stream",
     "text": [
      "5.5588235294117645\n"
     ]
    },
    {
     "data": {
      "text/plain": [
       "<AxesSubplot:>"
      ]
     },
     "execution_count": 32,
     "metadata": {},
     "output_type": "execute_result"
    },
    {
     "data": {
      "image/png": "[encoded data removed]",
      "text/plain": [
       "<Figure size 432x288 with 1 Axes>"
      ]
     },
     "metadata": {
      "needs_background": "light"
     },
     "output_type": "display_data"
    }
   ],
   "source": [
    "print(households_30k_2['VEH'].mean().compute())\n",
    "pd.Series(households_30k_2['NP']).hist()"
   ]
  },
  {
   "cell_type": "code",
   "execution_count": 33,
   "id": "f7715fc0",
   "metadata": {},
   "outputs": [
    {
     "data": {
      "text/plain": [
       "<AxesSubplot:>"
      ]
     },
     "execution_count": 33,
     "metadata": {},
     "output_type": "execute_result"
    },
    {
     "data": {
      "image/png": "[encoded data removed]",
      "text/plain": [
       "<Figure size 432x288 with 1 Axes>"
      ]
     },
     "metadata": {
      "needs_background": "light"
     },
     "output_type": "display_data"
    }
   ],
   "source": [
    "pd.Series(households['HHT']).hist()"
   ]
  },
  {
   "cell_type": "code",
   "execution_count": 34,
   "id": "9a514560",
   "metadata": {},
   "outputs": [
    {
     "data": {
      "text/plain": [
       "<AxesSubplot:>"
      ]
     },
     "execution_count": 34,
     "metadata": {},
     "output_type": "execute_result"
    },
    {
     "data": {
      "image/png": "[encoded data removed]",
      "text/plain": [
       "<Figure size 432x288 with 1 Axes>"
      ]
     },
     "metadata": {
      "needs_background": "light"
     },
     "output_type": "display_data"
    }
   ],
   "source": [
    "pd.Series(households_30k_2['HHT']).hist()"
   ]
  },
  {
   "cell_type": "code",
   "execution_count": 35,
   "id": "f3bb8361",
   "metadata": {},
   "outputs": [
    {
     "data": {
      "text/html": [
       "<div>\n",
       "<style scoped>\n",
       "    .dataframe tbody tr th:only-of-type {\n",
       "        vertical-align: middle;\n",
       "    }\n",
       "\n",
       "    .dataframe tbody tr th {\n",
       "        vertical-align: top;\n",
       "    }\n",
       "\n",
       "    .dataframe thead th {\n",
       "        text-align: right;\n",
       "    }\n",
       "</style>\n",
       "<table border=\"1\" class=\"dataframe\">\n",
       "  <thead>\n",
       "    <tr style=\"text-align: right;\">\n",
       "      <th></th>\n",
       "      <th>household_id</th>\n",
       "      <th>mgra</th>\n",
       "      <th>NP</th>\n",
       "      <th>HHADJINC</th>\n",
       "      <th>HHT</th>\n",
       "      <th>WIF</th>\n",
       "      <th>HUPAC</th>\n",
       "      <th>VEH</th>\n",
       "      <th>BLD</th>\n",
       "      <th>GQ_type</th>\n",
       "    </tr>\n",
       "  </thead>\n",
       "  <tbody>\n",
       "    <tr>\n",
       "      <th>121</th>\n",
       "      <td>122</td>\n",
       "      <td>165</td>\n",
       "      <td>5</td>\n",
       "      <td>112008.0</td>\n",
       "      <td>1.0</td>\n",
       "      <td>2.0</td>\n",
       "      <td>3.0</td>\n",
       "      <td>0.0</td>\n",
       "      <td>2.0</td>\n",
       "      <td>0.0</td>\n",
       "    </tr>\n",
       "    <tr>\n",
       "      <th>379</th>\n",
       "      <td>380</td>\n",
       "      <td>565</td>\n",
       "      <td>2</td>\n",
       "      <td>134625.0</td>\n",
       "      <td>1.0</td>\n",
       "      <td>1.0</td>\n",
       "      <td>4.0</td>\n",
       "      <td>0.0</td>\n",
       "      <td>2.0</td>\n",
       "      <td>0.0</td>\n",
       "    </tr>\n",
       "    <tr>\n",
       "      <th>509</th>\n",
       "      <td>510</td>\n",
       "      <td>611</td>\n",
       "      <td>5</td>\n",
       "      <td>112008.0</td>\n",
       "      <td>1.0</td>\n",
       "      <td>2.0</td>\n",
       "      <td>3.0</td>\n",
       "      <td>0.0</td>\n",
       "      <td>2.0</td>\n",
       "      <td>0.0</td>\n",
       "    </tr>\n",
       "    <tr>\n",
       "      <th>810</th>\n",
       "      <td>811</td>\n",
       "      <td>1077</td>\n",
       "      <td>3</td>\n",
       "      <td>119547.0</td>\n",
       "      <td>3.0</td>\n",
       "      <td>3.0</td>\n",
       "      <td>4.0</td>\n",
       "      <td>0.0</td>\n",
       "      <td>2.0</td>\n",
       "      <td>0.0</td>\n",
       "    </tr>\n",
       "    <tr>\n",
       "      <th>3945</th>\n",
       "      <td>3946</td>\n",
       "      <td>3482</td>\n",
       "      <td>2</td>\n",
       "      <td>105976.8</td>\n",
       "      <td>1.0</td>\n",
       "      <td>2.0</td>\n",
       "      <td>4.0</td>\n",
       "      <td>0.0</td>\n",
       "      <td>6.0</td>\n",
       "      <td>0.0</td>\n",
       "    </tr>\n",
       "    <tr>\n",
       "      <th>...</th>\n",
       "      <td>...</td>\n",
       "      <td>...</td>\n",
       "      <td>...</td>\n",
       "      <td>...</td>\n",
       "      <td>...</td>\n",
       "      <td>...</td>\n",
       "      <td>...</td>\n",
       "      <td>...</td>\n",
       "      <td>...</td>\n",
       "      <td>...</td>\n",
       "    </tr>\n",
       "    <tr>\n",
       "      <th>527487</th>\n",
       "      <td>1157340</td>\n",
       "      <td>9485</td>\n",
       "      <td>1</td>\n",
       "      <td>113623.5</td>\n",
       "      <td>6.0</td>\n",
       "      <td>NaN</td>\n",
       "      <td>4.0</td>\n",
       "      <td>0.0</td>\n",
       "      <td>9.0</td>\n",
       "      <td>0.0</td>\n",
       "    </tr>\n",
       "    <tr>\n",
       "      <th>528967</th>\n",
       "      <td>1158820</td>\n",
       "      <td>9566</td>\n",
       "      <td>3</td>\n",
       "      <td>123855.0</td>\n",
       "      <td>7.0</td>\n",
       "      <td>NaN</td>\n",
       "      <td>4.0</td>\n",
       "      <td>0.0</td>\n",
       "      <td>6.0</td>\n",
       "      <td>0.0</td>\n",
       "    </tr>\n",
       "    <tr>\n",
       "      <th>529824</th>\n",
       "      <td>1159677</td>\n",
       "      <td>10094</td>\n",
       "      <td>3</td>\n",
       "      <td>123855.0</td>\n",
       "      <td>7.0</td>\n",
       "      <td>NaN</td>\n",
       "      <td>4.0</td>\n",
       "      <td>0.0</td>\n",
       "      <td>6.0</td>\n",
       "      <td>0.0</td>\n",
       "    </tr>\n",
       "    <tr>\n",
       "      <th>529825</th>\n",
       "      <td>1159678</td>\n",
       "      <td>10094</td>\n",
       "      <td>3</td>\n",
       "      <td>123855.0</td>\n",
       "      <td>7.0</td>\n",
       "      <td>NaN</td>\n",
       "      <td>4.0</td>\n",
       "      <td>0.0</td>\n",
       "      <td>6.0</td>\n",
       "      <td>0.0</td>\n",
       "    </tr>\n",
       "    <tr>\n",
       "      <th>530523</th>\n",
       "      <td>1160376</td>\n",
       "      <td>10222</td>\n",
       "      <td>7</td>\n",
       "      <td>186105.6</td>\n",
       "      <td>1.0</td>\n",
       "      <td>3.0</td>\n",
       "      <td>2.0</td>\n",
       "      <td>0.0</td>\n",
       "      <td>2.0</td>\n",
       "      <td>0.0</td>\n",
       "    </tr>\n",
       "  </tbody>\n",
       "</table>\n",
       "<p>9570 rows × 10 columns</p>\n",
       "</div>"
      ],
      "text/plain": [
       "        household_id   mgra  NP  HHADJINC  HHT  WIF  HUPAC  VEH  BLD  GQ_type\n",
       "121              122    165   5  112008.0  1.0  2.0    3.0  0.0  2.0      0.0\n",
       "379              380    565   2  134625.0  1.0  1.0    4.0  0.0  2.0      0.0\n",
       "509              510    611   5  112008.0  1.0  2.0    3.0  0.0  2.0      0.0\n",
       "810              811   1077   3  119547.0  3.0  3.0    4.0  0.0  2.0      0.0\n",
       "3945            3946   3482   2  105976.8  1.0  2.0    4.0  0.0  6.0      0.0\n",
       "...              ...    ...  ..       ...  ...  ...    ...  ...  ...      ...\n",
       "527487       1157340   9485   1  113623.5  6.0  NaN    4.0  0.0  9.0      0.0\n",
       "528967       1158820   9566   3  123855.0  7.0  NaN    4.0  0.0  6.0      0.0\n",
       "529824       1159677  10094   3  123855.0  7.0  NaN    4.0  0.0  6.0      0.0\n",
       "529825       1159678  10094   3  123855.0  7.0  NaN    4.0  0.0  6.0      0.0\n",
       "530523       1160376  10222   7  186105.6  1.0  3.0    2.0  0.0  2.0      0.0\n",
       "\n",
       "[9570 rows x 10 columns]"
      ]
     },
     "execution_count": 35,
     "metadata": {},
     "output_type": "execute_result"
    }
   ],
   "source": [
    "households_100k_0 = households[(households['HHADJINC'] >100000) & (households['VEH']==0)]\n",
    "households_100k_0.compute()"
   ]
  },
  {
   "cell_type": "code",
   "execution_count": 36,
   "id": "10a77f9b",
   "metadata": {},
   "outputs": [
    {
     "data": {
      "text/plain": [
       "<AxesSubplot:>"
      ]
     },
     "execution_count": 36,
     "metadata": {},
     "output_type": "execute_result"
    },
    {
     "data": {
      "image/png": "[encoded data removed]",
      "text/plain": [
       "<Figure size 432x288 with 1 Axes>"
      ]
     },
     "metadata": {
      "needs_background": "light"
     },
     "output_type": "display_data"
    }
   ],
   "source": [
    "pd.Series(households_100k_0['NP']).hist()"
   ]
  },
  {
   "cell_type": "code",
   "execution_count": 37,
   "id": "40b92527",
   "metadata": {},
   "outputs": [],
   "source": [
    "pd.DataFrame(households_100k_0.compute()).to_csv('households_100k_0.csv', index=False)"
   ]
  },
  {
   "cell_type": "code",
   "execution_count": 38,
   "id": "dbab22c6",
   "metadata": {},
   "outputs": [
    {
     "data": {
      "text/html": [
       "<div>\n",
       "<style scoped>\n",
       "    .dataframe tbody tr th:only-of-type {\n",
       "        vertical-align: middle;\n",
       "    }\n",
       "\n",
       "    .dataframe tbody tr th {\n",
       "        vertical-align: top;\n",
       "    }\n",
       "\n",
       "    .dataframe thead th {\n",
       "        text-align: right;\n",
       "    }\n",
       "</style>\n",
       "<table border=\"1\" class=\"dataframe\">\n",
       "  <thead>\n",
       "    <tr style=\"text-align: right;\">\n",
       "      <th></th>\n",
       "      <th>NP</th>\n",
       "      <th>HHADJINC</th>\n",
       "      <th>HHT</th>\n",
       "      <th>WIF</th>\n",
       "      <th>HUPAC</th>\n",
       "      <th>VEH</th>\n",
       "      <th>BLD</th>\n",
       "      <th>GQ_type</th>\n",
       "    </tr>\n",
       "  </thead>\n",
       "  <tbody>\n",
       "    <tr>\n",
       "      <th>145354</th>\n",
       "      <td>13</td>\n",
       "      <td>260095.5</td>\n",
       "      <td>5.0</td>\n",
       "      <td>NaN</td>\n",
       "      <td>4.0</td>\n",
       "      <td>0.0</td>\n",
       "      <td>8.0</td>\n",
       "      <td>0.0</td>\n",
       "    </tr>\n",
       "  </tbody>\n",
       "</table>\n",
       "</div>"
      ],
      "text/plain": [
       "        NP  HHADJINC  HHT  WIF  HUPAC  VEH  BLD  GQ_type\n",
       "145354  13  260095.5  5.0  NaN    4.0  0.0  8.0      0.0"
      ]
     },
     "execution_count": 38,
     "metadata": {},
     "output_type": "execute_result"
    }
   ],
   "source": [
    "households_100k_0[households_100k_0['NP']>10].drop(columns=['household_id', 'mgra']).drop_duplicates().compute()"
   ]
  },
  {
   "cell_type": "code",
   "execution_count": 39,
   "id": "db5ab745",
   "metadata": {},
   "outputs": [
    {
     "data": {
      "text/plain": [
       "<AxesSubplot:>"
      ]
     },
     "execution_count": 39,
     "metadata": {},
     "output_type": "execute_result"
    },
    {
     "data": {
      "image/png": "[encoded data removed]",
      "text/plain": [
       "<Figure size 432x288 with 1 Axes>"
      ]
     },
     "metadata": {
      "needs_background": "light"
     },
     "output_type": "display_data"
    }
   ],
   "source": [
    "pd.Series(households_100k_0['HHT']).hist()"
   ]
  },
  {
   "cell_type": "code",
   "execution_count": null,
   "id": "db786ed5",
   "metadata": {},
   "outputs": [],
   "source": []
  }
 ],
 "metadata": {
  "kernelspec": {
   "display_name": "Python 3 (ipykernel)",
   "language": "python",
   "name": "python3"
  },
  "language_info": {
   "codemirror_mode": {
    "name": "ipython",
    "version": 3
   },
   "file_extension": ".py",
   "mimetype": "text/x-python",
   "name": "python",
   "nbconvert_exporter": "python",
   "pygments_lexer": "ipython3",
   "version": "3.9.7"
  }
 },
 "nbformat": 4,
 "nbformat_minor": 5
}
