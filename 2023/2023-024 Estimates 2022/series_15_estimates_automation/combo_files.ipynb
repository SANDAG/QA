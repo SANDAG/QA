{
 "cells": [
  {
   "cell_type": "code",
   "execution_count": 1,
   "metadata": {},
   "outputs": [],
   "source": [
    "import pandas as pd"
   ]
  },
  {
   "cell_type": "code",
   "execution_count": 8,
   "metadata": {},
   "outputs": [],
   "source": [
    "housing = pd.read_csv(r'C:\\Users\\cra\\San Diego Association of Governments\\SANDAG QA QC - Documents\\Projects\\2023\\2023-023 Estimates 2022\\Data\\housing\\region_housing_est_2022_01_ind_QA.csv')\n",
    "housing = housing.set_index(['region', 'yr_id'])\n",
    "population = pd.read_csv(r'C:\\Users\\cra\\San Diego Association of Governments\\SANDAG QA QC - Documents\\Projects\\2023\\2023-023 Estimates 2022\\Data\\population\\region_population_est_2022_01_ind_QA.csv')\n",
    "population = population.set_index(['region', 'yr_id'])\n",
    "household = pd.read_csv(r'C:\\Users\\cra\\San Diego Association of Governments\\SANDAG QA QC - Documents\\Projects\\2023\\2023-023 Estimates 2022\\Data\\households\\region_households_est_2022_01_ind_QA.csv')\n",
    "household = household.set_index(['region', 'yr_id'])"
   ]
  },
  {
   "cell_type": "code",
   "execution_count": 9,
   "metadata": {},
   "outputs": [
    {
     "data": {
      "text/html": [
       "<div>\n",
       "<style scoped>\n",
       "    .dataframe tbody tr th:only-of-type {\n",
       "        vertical-align: middle;\n",
       "    }\n",
       "\n",
       "    .dataframe tbody tr th {\n",
       "        vertical-align: top;\n",
       "    }\n",
       "\n",
       "    .dataframe thead th {\n",
       "        text-align: right;\n",
       "    }\n",
       "</style>\n",
       "<table border=\"1\" class=\"dataframe\">\n",
       "  <thead>\n",
       "    <tr style=\"text-align: right;\">\n",
       "      <th></th>\n",
       "      <th></th>\n",
       "      <th>Family household:female householder, no husband present</th>\n",
       "      <th>Family household:male householder, no wife present</th>\n",
       "      <th>Family household:married-couple</th>\n",
       "      <th>Nonfamily household:female householder, living alone</th>\n",
       "      <th>Nonfamily household:female householder, not living alone</th>\n",
       "      <th>Nonfamily household:male householder, living alone</th>\n",
       "      <th>Nonfamily household:male householder, not living alone</th>\n",
       "      <th>Total_Household_Type</th>\n",
       "    </tr>\n",
       "    <tr>\n",
       "      <th>region</th>\n",
       "      <th>yr_id</th>\n",
       "      <th></th>\n",
       "      <th></th>\n",
       "      <th></th>\n",
       "      <th></th>\n",
       "      <th></th>\n",
       "      <th></th>\n",
       "      <th></th>\n",
       "      <th></th>\n",
       "    </tr>\n",
       "  </thead>\n",
       "  <tbody>\n",
       "    <tr>\n",
       "      <th rowspan=\"3\" valign=\"top\">San Diego</th>\n",
       "      <th>2020</th>\n",
       "      <td>191908</td>\n",
       "      <td>377440</td>\n",
       "      <td>272996</td>\n",
       "      <td>32070</td>\n",
       "      <td>22109</td>\n",
       "      <td>169561</td>\n",
       "      <td>78186</td>\n",
       "      <td>1144270</td>\n",
       "    </tr>\n",
       "    <tr>\n",
       "      <th>2021</th>\n",
       "      <td>192652</td>\n",
       "      <td>378902</td>\n",
       "      <td>274054</td>\n",
       "      <td>32195</td>\n",
       "      <td>22195</td>\n",
       "      <td>170219</td>\n",
       "      <td>78489</td>\n",
       "      <td>1148706</td>\n",
       "    </tr>\n",
       "    <tr>\n",
       "      <th>2022</th>\n",
       "      <td>194626</td>\n",
       "      <td>382784</td>\n",
       "      <td>276861</td>\n",
       "      <td>32524</td>\n",
       "      <td>22422</td>\n",
       "      <td>171962</td>\n",
       "      <td>79293</td>\n",
       "      <td>1160472</td>\n",
       "    </tr>\n",
       "  </tbody>\n",
       "</table>\n",
       "</div>"
      ],
      "text/plain": [
       "                 Family household:female householder, no husband present   \\\n",
       "region    yr_id                                                             \n",
       "San Diego 2020                                              191908          \n",
       "          2021                                              192652          \n",
       "          2022                                              194626          \n",
       "\n",
       "                 Family household:male householder, no wife present  \\\n",
       "region    yr_id                                                       \n",
       "San Diego 2020                                              377440    \n",
       "          2021                                              378902    \n",
       "          2022                                              382784    \n",
       "\n",
       "                 Family household:married-couple  \\\n",
       "region    yr_id                                    \n",
       "San Diego 2020                            272996   \n",
       "          2021                            274054   \n",
       "          2022                            276861   \n",
       "\n",
       "                 Nonfamily household:female householder, living alone  \\\n",
       "region    yr_id                                                         \n",
       "San Diego 2020                                               32070      \n",
       "          2021                                               32195      \n",
       "          2022                                               32524      \n",
       "\n",
       "                 Nonfamily household:female householder, not living alone  \\\n",
       "region    yr_id                                                             \n",
       "San Diego 2020                                               22109          \n",
       "          2021                                               22195          \n",
       "          2022                                               22422          \n",
       "\n",
       "                 Nonfamily household:male householder, living alone  \\\n",
       "region    yr_id                                                       \n",
       "San Diego 2020                                              169561    \n",
       "          2021                                              170219    \n",
       "          2022                                              171962    \n",
       "\n",
       "                 Nonfamily household:male householder, not living alone  \\\n",
       "region    yr_id                                                           \n",
       "San Diego 2020                                               78186        \n",
       "          2021                                               78489        \n",
       "          2022                                               79293        \n",
       "\n",
       "                 Total_Household_Type  \n",
       "region    yr_id                        \n",
       "San Diego 2020                1144270  \n",
       "          2021                1148706  \n",
       "          2022                1160472  "
      ]
     },
     "execution_count": 9,
     "metadata": {},
     "output_type": "execute_result"
    }
   ],
   "source": [
    "household"
   ]
  },
  {
   "cell_type": "code",
   "execution_count": null,
   "metadata": {},
   "outputs": [],
   "source": []
  }
 ],
 "metadata": {
  "kernelspec": {
   "display_name": "base",
   "language": "python",
   "name": "python3"
  },
  "language_info": {
   "codemirror_mode": {
    "name": "ipython",
    "version": 3
   },
   "file_extension": ".py",
   "mimetype": "text/x-python",
   "name": "python",
   "nbconvert_exporter": "python",
   "pygments_lexer": "ipython3",
   "version": "3.8.8"
  },
  "orig_nbformat": 4,
  "vscode": {
   "interpreter": {
    "hash": "6db16e9940ad839c1e288012a4d7b04c8c55c67646ae73b178066b197eb654ea"
   }
  }
 },
 "nbformat": 4,
 "nbformat_minor": 2
}
