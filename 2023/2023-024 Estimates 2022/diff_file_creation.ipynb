{
 "cells": [
  {
   "cell_type": "code",
   "execution_count": 2,
   "metadata": {},
   "outputs": [],
   "source": [
    "import pandas as pd\n",
    "import os"
   ]
  },
  {
   "attachments": {},
   "cell_type": "markdown",
   "metadata": {},
   "source": [
    "# Helpful functions"
   ]
  },
  {
   "cell_type": "code",
   "execution_count": 8,
   "metadata": {},
   "outputs": [],
   "source": [
    "def filter_for_our_years(df):\n",
    "    return df[(df['yr_id'] == 2020) | (df['yr_id'] == 2021)]"
   ]
  },
  {
   "attachments": {},
   "cell_type": "markdown",
   "metadata": {},
   "source": [
    "# Age"
   ]
  },
  {
   "cell_type": "code",
   "execution_count": 3,
   "metadata": {},
   "outputs": [],
   "source": [
    "geo_level = 'region'"
   ]
  },
  {
   "cell_type": "code",
   "execution_count": 16,
   "metadata": {},
   "outputs": [
    {
     "data": {
      "text/html": [
       "<div>\n",
       "<style scoped>\n",
       "    .dataframe tbody tr th:only-of-type {\n",
       "        vertical-align: middle;\n",
       "    }\n",
       "\n",
       "    .dataframe tbody tr th {\n",
       "        vertical-align: top;\n",
       "    }\n",
       "\n",
       "    .dataframe thead th {\n",
       "        text-align: right;\n",
       "    }\n",
       "</style>\n",
       "<table border=\"1\" class=\"dataframe\">\n",
       "  <thead>\n",
       "    <tr style=\"text-align: right;\">\n",
       "      <th></th>\n",
       "      <th></th>\n",
       "      <th>Under 5</th>\n",
       "      <th>10 to 14</th>\n",
       "      <th>15 to 17</th>\n",
       "      <th>18 and 19</th>\n",
       "      <th>20 to 24</th>\n",
       "      <th>25 to 29</th>\n",
       "      <th>30 to 34</th>\n",
       "      <th>35 to 39</th>\n",
       "      <th>40 to 44</th>\n",
       "      <th>45 to 49</th>\n",
       "      <th>5 to 9</th>\n",
       "      <th>50 to 54</th>\n",
       "      <th>55 to 59</th>\n",
       "      <th>60 and 61</th>\n",
       "      <th>62 to 64</th>\n",
       "      <th>65 to 69</th>\n",
       "      <th>70 to 74</th>\n",
       "      <th>75 to 79</th>\n",
       "      <th>80 to 84</th>\n",
       "      <th>85 and Older</th>\n",
       "    </tr>\n",
       "    <tr>\n",
       "      <th>region</th>\n",
       "      <th>yr_id</th>\n",
       "      <th></th>\n",
       "      <th></th>\n",
       "      <th></th>\n",
       "      <th></th>\n",
       "      <th></th>\n",
       "      <th></th>\n",
       "      <th></th>\n",
       "      <th></th>\n",
       "      <th></th>\n",
       "      <th></th>\n",
       "      <th></th>\n",
       "      <th></th>\n",
       "      <th></th>\n",
       "      <th></th>\n",
       "      <th></th>\n",
       "      <th></th>\n",
       "      <th></th>\n",
       "      <th></th>\n",
       "      <th></th>\n",
       "      <th></th>\n",
       "    </tr>\n",
       "  </thead>\n",
       "  <tbody>\n",
       "    <tr>\n",
       "      <th rowspan=\"2\" valign=\"top\">San Diego</th>\n",
       "      <th>2020</th>\n",
       "      <td>221150</td>\n",
       "      <td>221337</td>\n",
       "      <td>121485</td>\n",
       "      <td>105558</td>\n",
       "      <td>282225</td>\n",
       "      <td>298642</td>\n",
       "      <td>271572</td>\n",
       "      <td>235732</td>\n",
       "      <td>209104</td>\n",
       "      <td>203010</td>\n",
       "      <td>203886</td>\n",
       "      <td>201784</td>\n",
       "      <td>192300</td>\n",
       "      <td>64243</td>\n",
       "      <td>92766</td>\n",
       "      <td>139543</td>\n",
       "      <td>100341</td>\n",
       "      <td>65090</td>\n",
       "      <td>43852</td>\n",
       "      <td>57659</td>\n",
       "    </tr>\n",
       "    <tr>\n",
       "      <th>2021</th>\n",
       "      <td>209060</td>\n",
       "      <td>215490</td>\n",
       "      <td>117097</td>\n",
       "      <td>98600</td>\n",
       "      <td>283006</td>\n",
       "      <td>289033</td>\n",
       "      <td>265311</td>\n",
       "      <td>239966</td>\n",
       "      <td>213336</td>\n",
       "      <td>198370</td>\n",
       "      <td>204741</td>\n",
       "      <td>187093</td>\n",
       "      <td>194529</td>\n",
       "      <td>69011</td>\n",
       "      <td>88984</td>\n",
       "      <td>135799</td>\n",
       "      <td>106334</td>\n",
       "      <td>65727</td>\n",
       "      <td>46538</td>\n",
       "      <td>60478</td>\n",
       "    </tr>\n",
       "  </tbody>\n",
       "</table>\n",
       "</div>"
      ],
      "text/plain": [
       "                 Under 5  10 to 14  15 to 17  18 and 19  20 to 24  25 to 29  \\\n",
       "region    yr_id                                                               \n",
       "San Diego 2020    221150    221337    121485     105558    282225    298642   \n",
       "          2021    209060    215490    117097      98600    283006    289033   \n",
       "\n",
       "                 30 to 34  35 to 39  40 to 44  45 to 49  5 to 9  50 to 54  \\\n",
       "region    yr_id                                                             \n",
       "San Diego 2020     271572    235732    209104    203010  203886    201784   \n",
       "          2021     265311    239966    213336    198370  204741    187093   \n",
       "\n",
       "                 55 to 59  60 and 61  62 to 64  65 to 69  70 to 74  75 to 79  \\\n",
       "region    yr_id                                                                \n",
       "San Diego 2020     192300      64243     92766    139543    100341     65090   \n",
       "          2021     194529      69011     88984    135799    106334     65727   \n",
       "\n",
       "                 80 to 84  85 and Older  \n",
       "region    yr_id                          \n",
       "San Diego 2020      43852         57659  \n",
       "          2021      46538         60478  "
      ]
     },
     "execution_count": 16,
     "metadata": {},
     "output_type": "execute_result"
    }
   ],
   "source": [
    "# 2022_01\n",
    "age_2022_01_file = pd.read_csv(rf'C:\\Users\\cra\\San Diego Association of Governments\\SANDAG QA QC - Documents\\Projects\\2023\\2023-023 Estimates 2022\\Data\\age\\{geo_level}_age_est_2022_01_ind_QA.csv')\n",
    "age_2022_01_file = filter_for_our_years(age_2022_01_file)\n",
    "age_2022_01_file = age_2022_01_file.set_index([geo_level, 'yr_id'])\n",
    "age_2022_01_file"
   ]
  },
  {
   "cell_type": "code",
   "execution_count": 18,
   "metadata": {},
   "outputs": [
    {
     "data": {
      "text/html": [
       "<div>\n",
       "<style scoped>\n",
       "    .dataframe tbody tr th:only-of-type {\n",
       "        vertical-align: middle;\n",
       "    }\n",
       "\n",
       "    .dataframe tbody tr th {\n",
       "        vertical-align: top;\n",
       "    }\n",
       "\n",
       "    .dataframe thead th {\n",
       "        text-align: right;\n",
       "    }\n",
       "</style>\n",
       "<table border=\"1\" class=\"dataframe\">\n",
       "  <thead>\n",
       "    <tr style=\"text-align: right;\">\n",
       "      <th></th>\n",
       "      <th></th>\n",
       "      <th>Under 5</th>\n",
       "      <th>5 to 9</th>\n",
       "      <th>10 to 14</th>\n",
       "      <th>15 to 17</th>\n",
       "      <th>18 and 19</th>\n",
       "      <th>20 to 24</th>\n",
       "      <th>25 to 29</th>\n",
       "      <th>30 to 34</th>\n",
       "      <th>35 to 39</th>\n",
       "      <th>40 to 44</th>\n",
       "      <th>45 to 49</th>\n",
       "      <th>50 to 54</th>\n",
       "      <th>55 to 59</th>\n",
       "      <th>60 and 61</th>\n",
       "      <th>62 to 64</th>\n",
       "      <th>65 to 69</th>\n",
       "      <th>70 to 74</th>\n",
       "      <th>75 to 79</th>\n",
       "      <th>80 to 84</th>\n",
       "      <th>85 and Older</th>\n",
       "    </tr>\n",
       "    <tr>\n",
       "      <th>region</th>\n",
       "      <th>yr_id</th>\n",
       "      <th></th>\n",
       "      <th></th>\n",
       "      <th></th>\n",
       "      <th></th>\n",
       "      <th></th>\n",
       "      <th></th>\n",
       "      <th></th>\n",
       "      <th></th>\n",
       "      <th></th>\n",
       "      <th></th>\n",
       "      <th></th>\n",
       "      <th></th>\n",
       "      <th></th>\n",
       "      <th></th>\n",
       "      <th></th>\n",
       "      <th></th>\n",
       "      <th></th>\n",
       "      <th></th>\n",
       "      <th></th>\n",
       "      <th></th>\n",
       "    </tr>\n",
       "  </thead>\n",
       "  <tbody>\n",
       "    <tr>\n",
       "      <th rowspan=\"2\" valign=\"top\">San Diego</th>\n",
       "      <th>2020</th>\n",
       "      <td>205904</td>\n",
       "      <td>230989</td>\n",
       "      <td>223104</td>\n",
       "      <td>133490</td>\n",
       "      <td>98931</td>\n",
       "      <td>261861</td>\n",
       "      <td>207190</td>\n",
       "      <td>208315</td>\n",
       "      <td>231394</td>\n",
       "      <td>208834</td>\n",
       "      <td>204996</td>\n",
       "      <td>200622</td>\n",
       "      <td>207276</td>\n",
       "      <td>80734</td>\n",
       "      <td>114670</td>\n",
       "      <td>164902</td>\n",
       "      <td>134013</td>\n",
       "      <td>88881</td>\n",
       "      <td>60482</td>\n",
       "      <td>64691</td>\n",
       "    </tr>\n",
       "    <tr>\n",
       "      <th>2021</th>\n",
       "      <td>197646</td>\n",
       "      <td>229493</td>\n",
       "      <td>225022</td>\n",
       "      <td>135190</td>\n",
       "      <td>97988</td>\n",
       "      <td>259127</td>\n",
       "      <td>205113</td>\n",
       "      <td>202317</td>\n",
       "      <td>224786</td>\n",
       "      <td>211732</td>\n",
       "      <td>199960</td>\n",
       "      <td>200006</td>\n",
       "      <td>201821</td>\n",
       "      <td>81186</td>\n",
       "      <td>114951</td>\n",
       "      <td>168295</td>\n",
       "      <td>139549</td>\n",
       "      <td>92723</td>\n",
       "      <td>62146</td>\n",
       "      <td>66353</td>\n",
       "    </tr>\n",
       "  </tbody>\n",
       "</table>\n",
       "</div>"
      ],
      "text/plain": [
       "                 Under 5  5 to 9  10 to 14  15 to 17  18 and 19  20 to 24  \\\n",
       "region    yr_id                                                             \n",
       "San Diego 2020    205904  230989    223104    133490      98931    261861   \n",
       "          2021    197646  229493    225022    135190      97988    259127   \n",
       "\n",
       "                 25 to 29  30 to 34  35 to 39  40 to 44  45 to 49  50 to 54  \\\n",
       "region    yr_id                                                               \n",
       "San Diego 2020     207190    208315    231394    208834    204996    200622   \n",
       "          2021     205113    202317    224786    211732    199960    200006   \n",
       "\n",
       "                 55 to 59  60 and 61  62 to 64  65 to 69  70 to 74  75 to 79  \\\n",
       "region    yr_id                                                                \n",
       "San Diego 2020     207276      80734    114670    164902    134013     88881   \n",
       "          2021     201821      81186    114951    168295    139549     92723   \n",
       "\n",
       "                 80 to 84  85 and Older  \n",
       "region    yr_id                          \n",
       "San Diego 2020      60482         64691  \n",
       "          2021      62146         66353  "
      ]
     },
     "execution_count": 18,
     "metadata": {},
     "output_type": "execute_result"
    }
   ],
   "source": [
    "# 2021_01\n",
    "age_2021_01_file = pd.read_csv(rf'C:\\Users\\cra\\San Diego Association of Governments\\SANDAG QA QC - Documents\\Projects\\2023\\2023-023 Estimates 2022\\Results\\Test 5- Vintage Comparison\\2021_01\\age\\QA_2021_01_{geo_level}_age.csv')\n",
    "age_2021_01_file = filter_for_our_years(age_2021_01_file)\n",
    "age_2021_01_file = age_2021_01_file.set_index([geo_level, 'yr_id'])\n",
    "age_2021_01_file"
   ]
  },
  {
   "cell_type": "code",
   "execution_count": null,
   "metadata": {},
   "outputs": [],
   "source": []
  },
  {
   "cell_type": "code",
   "execution_count": 83,
   "metadata": {},
   "outputs": [],
   "source": [
    "def get_input_data(category, geo_level):\n",
    "    # 2022_01\n",
    "    df_2022_01 = pd.read_csv(rf'C:\\Users\\cra\\San Diego Association of Governments\\SANDAG QA QC - Documents\\Projects\\2023\\2023-023 Estimates 2022\\Data\\{category}\\{geo_level}_{category}_est_2022_01_ind_QA.csv')\n",
    "    df_2022_01 = filter_for_our_years(df_2022_01)\n",
    "    df_2022_01 = df_2022_01.set_index([geo_level, 'yr_id'])\n",
    "    \n",
    "    if category == 'income_group':\n",
    "        category = 'household_income'\n",
    "    # 2021_01 \n",
    "    df_2021_01 = pd.read_csv(rf'C:\\Users\\cra\\San Diego Association of Governments\\SANDAG QA QC - Documents\\Projects\\2023\\2023-023 Estimates 2022\\Results\\Test 5- Vintage Comparison\\2021_01\\{category}\\QA_2021_01_{geo_level}_{category}.csv')\n",
    "    df_2021_01 = filter_for_our_years(df_2021_01)\n",
    "    df_2021_01 = df_2021_01.set_index([geo_level, 'yr_id'])\n",
    "    \n",
    "    return df_2022_01, df_2021_01"
   ]
  },
  {
   "cell_type": "code",
   "execution_count": 43,
   "metadata": {},
   "outputs": [],
   "source": [
    "df_2022_01, df_2021_01 = get_input_data(category='age', geo_level='region')"
   ]
  },
  {
   "attachments": {},
   "cell_type": "markdown",
   "metadata": {},
   "source": [
    "# Functions"
   ]
  },
  {
   "cell_type": "code",
   "execution_count": 37,
   "metadata": {},
   "outputs": [],
   "source": [
    "import pandas as pd\n",
    "\n",
    "def subtract_dataframes(df1, df2):\n",
    "    # Find the common columns between the two data frames\n",
    "    common_cols = list(set(df1.columns) & set(df2.columns))\n",
    "    common_cols = [x for x in df2.columns if x in common_cols]\n",
    "    # Filter the data frames to keep only the common columns\n",
    "    df1 = df1[common_cols]\n",
    "    df2 = df2[common_cols]\n",
    "    \n",
    "    # Subtract the second data frame from the first\n",
    "    result = df1.subtract(df2)\n",
    "    \n",
    "    return result\n"
   ]
  },
  {
   "cell_type": "code",
   "execution_count": 38,
   "metadata": {},
   "outputs": [],
   "source": [
    "def write_to_excel(df_2022, df_2021, category, geo_level):\n",
    "    diff = subtract_dataframes(df_2022, df_2021)\n",
    "    # Create a Pandas Excel writer using xlsxwriter as the engine\n",
    "    writer = pd.ExcelWriter(rf'C:\\Users\\cra\\San Diego Association of Governments\\SANDAG QA QC - Documents\\Projects\\2023\\2023-023 Estimates 2022\\Results\\Test 5- Vintage Comparison\\diff_outputs\\{category}\\{geo_level}_diff_2022_minus_2021.xlsx', engine='xlsxwriter')\n",
    "\n",
    "    # Write each data frame to a different sheet\n",
    "    df_2022.to_excel(writer, sheet_name='2022_01 Data', index=True)\n",
    "    df_2021.to_excel(writer, sheet_name='2021_01 Data', index=True)\n",
    "    diff.to_excel(writer, sheet_name='Diff', index=True)\n",
    "\n",
    "    # Save the writer\n",
    "    writer.save()"
   ]
  },
  {
   "attachments": {},
   "cell_type": "markdown",
   "metadata": {},
   "source": [
    "# Run"
   ]
  },
  {
   "cell_type": "code",
   "execution_count": 139,
   "metadata": {},
   "outputs": [],
   "source": [
    "category = 'age_sex_ethnicity'\n",
    "geo_level = 'cpa'"
   ]
  },
  {
   "cell_type": "code",
   "execution_count": 140,
   "metadata": {},
   "outputs": [],
   "source": [
    "df_2022_01, df_2021_01 = get_input_data(category=category, geo_level=geo_level)"
   ]
  },
  {
   "cell_type": "code",
   "execution_count": 141,
   "metadata": {},
   "outputs": [],
   "source": [
    "df_2022_01 = df_2022_01.reset_index().groupby([geo_level, 'yr_id', 'age_group', 'sex']).sum()"
   ]
  },
  {
   "cell_type": "code",
   "execution_count": 142,
   "metadata": {},
   "outputs": [],
   "source": [
    "df_2021_01 = df_2021_01.reset_index().groupby([geo_level, 'yr_id', 'name', 'sex']).sum()"
   ]
  },
  {
   "cell_type": "code",
   "execution_count": 143,
   "metadata": {},
   "outputs": [],
   "source": [
    "write_to_excel(df_2022_01, df_2021_01, category, geo_level)"
   ]
  },
  {
   "cell_type": "markdown",
   "metadata": {},
   "source": []
  }
 ],
 "metadata": {
  "kernelspec": {
   "display_name": "base",
   "language": "python",
   "name": "python3"
  },
  "language_info": {
   "codemirror_mode": {
    "name": "ipython",
    "version": 3
   },
   "file_extension": ".py",
   "mimetype": "text/x-python",
   "name": "python",
   "nbconvert_exporter": "python",
   "pygments_lexer": "ipython3",
   "version": "3.8.8"
  },
  "orig_nbformat": 4,
  "vscode": {
   "interpreter": {
    "hash": "6db16e9940ad839c1e288012a4d7b04c8c55c67646ae73b178066b197eb654ea"
   }
  }
 },
 "nbformat": 4,
 "nbformat_minor": 2
}
