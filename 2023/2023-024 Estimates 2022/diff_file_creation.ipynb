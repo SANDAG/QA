{
 "cells": [
  {
   "cell_type": "code",
   "execution_count": 1,
   "metadata": {},
   "outputs": [],
   "source": [
    "import pandas as pd\n",
    "import os"
   ]
  },
  {
   "attachments": {},
   "cell_type": "markdown",
   "metadata": {},
   "source": [
    "# Helpful functions"
   ]
  },
  {
   "cell_type": "code",
   "execution_count": 2,
   "metadata": {},
   "outputs": [],
   "source": [
    "def filter_for_our_years(df):\n",
    "    return df[(df['yr_id'] == 2020) | (df['yr_id'] == 2021)]"
   ]
  },
  {
   "attachments": {},
   "cell_type": "markdown",
   "metadata": {},
   "source": [
    "# Age"
   ]
  },
  {
   "cell_type": "code",
   "execution_count": 3,
   "metadata": {},
   "outputs": [],
   "source": [
    "def get_input_data(category, geo_level):\n",
    "    # 2022_01\n",
    "    df_2022_01 = pd.read_csv(rf'C:\\Users\\cra\\San Diego Association of Governments\\SANDAG QA QC - Documents\\Projects\\2023\\2023-023 Estimates 2022\\Data\\{category}\\{geo_level}_{category}_est_2022_01_ind_QA.csv')\n",
    "    df_2022_01 = filter_for_our_years(df_2022_01)\n",
    "    if geo_level == 'SRA':\n",
    "        df_2022_01['SRA'] = df_2022_01['SRA'].str.lower()\n",
    "    df_2022_01 = df_2022_01.set_index([geo_level, 'yr_id'])\n",
    "    \n",
    "    if category == 'income_group':\n",
    "        category = 'household_income'\n",
    "    if geo_level == 'SRA':\n",
    "        geo_level = 'sra'\n",
    "    # 2021_01 \n",
    "    df_2021_01 = pd.read_csv(rf'C:\\Users\\cra\\San Diego Association of Governments\\SANDAG QA QC - Documents\\Projects\\2023\\2023-023 Estimates 2022\\Results\\Test 5- Vintage Comparison\\2021_01\\{category}\\QA_2021_01_{geo_level}_{category}.csv')\n",
    "    if geo_level == 'sra':\n",
    "        df_2021_01['SRA'] = df_2021_01['sra']\n",
    "        df_2021_01 = df_2021_01.drop('sra', axis=1)\n",
    "        geo_level = 'SRA'\n",
    "        df_2021_01['SRA'] = df_2021_01['SRA'].str.lower()\n",
    "    if category == 'age_sex_ethnicity':\n",
    "        df_2021_01 = df_2021_01.rename(columns={'name':'age_group'})\n",
    "    \n",
    "    df_2021_01 = filter_for_our_years(df_2021_01)\n",
    "    df_2021_01 = df_2021_01.set_index([geo_level, 'yr_id'])\n",
    "    \n",
    "    return df_2022_01, df_2021_01"
   ]
  },
  {
   "cell_type": "code",
   "execution_count": 4,
   "metadata": {},
   "outputs": [],
   "source": [
    "def get_input_data_combo_files(geo_level):\n",
    "    # 2022_01\n",
    "    df_2022_01 = pd.read_csv(rf'C:\\Users\\cra\\San Diego Association of Governments\\SANDAG QA QC - Documents\\Projects\\2023\\2023-023 Estimates 2022\\Data\\combo_files\\{geo_level}_housing_population_households_combo_QA.csv')\n",
    "    df_2022_01 = filter_for_our_years(df_2022_01)\n",
    "    df_2022_01[geo_level] = df_2022_01[geo_level].str.lower()\n",
    "    df_2022_01 = df_2022_01.set_index([geo_level, 'yr_id'])\n",
    "    #print('good')\n",
    "\n",
    "    # 2021_01 \n",
    "    if geo_level == 'SRA':\n",
    "        geo_level = 'sra'\n",
    "    df_2021_01 = pd.read_csv(rf'C:\\Users\\cra\\San Diego Association of Governments\\SANDAG QA QC - Documents\\Projects\\2023\\2023-023 Estimates 2022\\Results\\Test 5- Vintage Comparison\\2021_01\\combo_files\\2021_01_{geo_level}_housing_population_households_combo_QA.csv')\n",
    "    #print('good')\n",
    "    df_2021_01 = filter_for_our_years(df_2021_01)\n",
    "    #print(df_2021_01.columns)\n",
    "    if geo_level == 'sra':\n",
    "        df_2021_01['SRA'] = df_2021_01['sra']\n",
    "        df_2021_01 = df_2021_01.drop('sra', axis=1)\n",
    "        geo_level = 'SRA'\n",
    "    df_2021_01[geo_level] = df_2021_01[geo_level].str.lower()\n",
    "    df_2021_01 = df_2021_01.set_index([geo_level, 'yr_id'])\n",
    "    \n",
    "    return df_2022_01, df_2021_01"
   ]
  },
  {
   "attachments": {},
   "cell_type": "markdown",
   "metadata": {},
   "source": [
    "# Functions"
   ]
  },
  {
   "cell_type": "code",
   "execution_count": 10,
   "metadata": {},
   "outputs": [],
   "source": [
    "# import pandas as pd\n",
    "\n",
    "# def subtract_dataframes(df1, df2):\n",
    "#     # Find the common columns between the two data frames\n",
    "#     common_cols = list(set(df1.columns) & set(df2.columns))\n",
    "#     common_cols = [x for x in df2.columns if x in common_cols]\n",
    "#     # Filter the data frames to keep only the common columns\n",
    "#     df1 = df1[common_cols]\n",
    "#     df2 = df2[common_cols]\n",
    "    \n",
    "#     # Subtract the second data frame from the first\n",
    "#     result = df1.subtract(df2)\n",
    "    \n",
    "#     return result\n"
   ]
  },
  {
   "cell_type": "code",
   "execution_count": 7,
   "metadata": {},
   "outputs": [],
   "source": [
    "# def subtract_dataframes(df1, df2):\n",
    "#     # Filter the second data frame to keep only rows with index values in the first data frame\n",
    "#     df2 = df2.loc[df1.index]\n",
    "    \n",
    "#     # Find the common columns between the two data frames\n",
    "#     common_cols = list(set(df1.columns) & set(df2.columns))\n",
    "#     common_cols = [x for x in df2.columns if x in common_cols]\n",
    "    \n",
    "#     # Filter the data frames to keep only the common columns\n",
    "#     df1 = df1[common_cols]\n",
    "#     df2 = df2[common_cols]\n",
    "    \n",
    "#     # Subtract the second data frame from the first\n",
    "#     result = df1.subtract(df2)\n",
    "    \n",
    "#     return result\n"
   ]
  },
  {
   "cell_type": "code",
   "execution_count": 5,
   "metadata": {},
   "outputs": [],
   "source": [
    "def subtract_dataframes(df1, df2):\n",
    "    # Filter the second data frame to keep only rows with index values in the first data frame\n",
    "    common_index = pd.merge(df1, df2, left_index=True, right_index=True)\n",
    "    df1 = df1.loc[common_index.index]\n",
    "    df2 = df2.loc[common_index.index]\n",
    "    \n",
    "    # Find the common columns between the two data frames\n",
    "    common_cols = list(set(df1.columns) & set(df2.columns))\n",
    "    common_cols = [x for x in df2.columns if x in common_cols]\n",
    "    \n",
    "    # Filter the data frames to keep only the common columns\n",
    "    df1 = df1[common_cols]\n",
    "    df2 = df2[common_cols]\n",
    "    \n",
    "    # Subtract the second data frame from the first\n",
    "    result = df1.subtract(df2)\n",
    "    \n",
    "    return result"
   ]
  },
  {
   "cell_type": "code",
   "execution_count": 6,
   "metadata": {},
   "outputs": [],
   "source": [
    "def write_to_excel(df_2022, df_2021, category, geo_level):\n",
    "    diff = subtract_dataframes(df_2022, df_2021)\n",
    "    # Create a Pandas Excel writer using xlsxwriter as the engine\n",
    "    writer = pd.ExcelWriter(rf'C:\\Users\\cra\\San Diego Association of Governments\\SANDAG QA QC - Documents\\Projects\\2023\\2023-023 Estimates 2022\\Results\\Test 5- Vintage Comparison\\diff_outputs\\{category}\\{geo_level}_diff_2022_minus_2021.xlsx', engine='xlsxwriter')\n",
    "\n",
    "    # Write each data frame to a different sheet\n",
    "    df_2022.reset_index().to_excel(writer, sheet_name='2022_01 Data', index=False)\n",
    "    df_2021.reset_index().to_excel(writer, sheet_name='2021_01 Data', index=False)\n",
    "    diff.reset_index().to_excel(writer, sheet_name='Diff', index=False)\n",
    "\n",
    "    # Save the writer\n",
    "    writer.save()"
   ]
  },
  {
   "cell_type": "code",
   "execution_count": 7,
   "metadata": {},
   "outputs": [],
   "source": [
    "def write_to_excel_combo_files(df_2022, df_2021, geo_level):\n",
    "    diff = subtract_dataframes(df_2022, df_2021)\n",
    "    # Create a Pandas Excel writer using xlsxwriter as the engine\n",
    "    writer = pd.ExcelWriter(rf'C:\\Users\\cra\\San Diego Association of Governments\\SANDAG QA QC - Documents\\Projects\\2023\\2023-023 Estimates 2022\\Results\\Test 5- Vintage Comparison\\diff_outputs\\combo_files\\{geo_level}_diff_2022_minus_2021.xlsx', engine='xlsxwriter')\n",
    "\n",
    "    # Write each data frame to a different sheet\n",
    "    df_2022.reset_index().to_excel(writer, sheet_name='2022_01 Data', index=False)\n",
    "    df_2021.reset_index().to_excel(writer, sheet_name='2021_01 Data', index=False)\n",
    "    diff.reset_index().to_excel(writer, sheet_name='Diff', index=False)\n",
    "\n",
    "    # Save the writer\n",
    "    writer.save()"
   ]
  },
  {
   "attachments": {},
   "cell_type": "markdown",
   "metadata": {},
   "source": [
    "# Run"
   ]
  },
  {
   "cell_type": "code",
   "execution_count": 8,
   "metadata": {},
   "outputs": [],
   "source": [
    "categories = ['age', 'ethnicity', 'households', 'housing', 'income_group', 'population', 'sex']\n",
    "geo_levels = ['SRA', 'cpa', 'jurisdiction', 'region']"
   ]
  },
  {
   "cell_type": "code",
   "execution_count": 9,
   "metadata": {},
   "outputs": [
    {
     "name": "stdout",
     "output_type": "stream",
     "text": [
      "age-SRA is complete\n",
      "age-cpa is complete\n",
      "age-jurisdiction is complete\n",
      "age-region is complete\n",
      "ethnicity-SRA is complete\n",
      "ethnicity-cpa is complete\n",
      "ethnicity-jurisdiction is complete\n",
      "ethnicity-region is complete\n",
      "households-SRA is complete\n",
      "households-cpa is complete\n",
      "households-jurisdiction is complete\n",
      "households-region is complete\n",
      "housing-SRA is complete\n",
      "housing-cpa is complete\n",
      "housing-jurisdiction is complete\n",
      "housing-region is complete\n",
      "income_group-SRA is complete\n",
      "income_group-cpa is complete\n",
      "income_group-jurisdiction is complete\n",
      "income_group-region is complete\n",
      "population-SRA is complete\n",
      "population-cpa is complete\n",
      "population-jurisdiction is complete\n",
      "population-region is complete\n",
      "sex-SRA is complete\n",
      "sex-cpa is complete\n",
      "sex-jurisdiction is complete\n",
      "sex-region is complete\n"
     ]
    }
   ],
   "source": [
    "for category in categories:\n",
    "    for geo_level in geo_levels:\n",
    "        df_2022_01, df_2021_01 = get_input_data(category=category, geo_level=geo_level)\n",
    "        write_to_excel(df_2022_01, df_2021_01, category = category, geo_level = geo_level)\n",
    "        print(f'{category}-{geo_level} is complete')"
   ]
  },
  {
   "cell_type": "code",
   "execution_count": 19,
   "metadata": {},
   "outputs": [
    {
     "name": "stdout",
     "output_type": "stream",
     "text": [
      "82\n",
      "SRA-is complete\n",
      "cpa-is complete\n",
      "jurisdiction-is complete\n",
      "region-is complete\n"
     ]
    }
   ],
   "source": [
    "import numpy as np\n",
    "for geo_level in geo_levels:\n",
    "    df_2022_01, df_2021_01 = get_input_data_combo_files(geo_level)\n",
    "    if geo_level == 'SRA':\n",
    "        print(len(df_2021_01))\n",
    "        df_2021_01 = df_2021_01.reset_index()\n",
    "        df_2021_01['SRA'] = np.where(df_2021_01['SRA'] == 'harbison-crest', 'harbison crest', df_2021_01['SRA'])\n",
    "        df_2021_01 = df_2021_01.set_index(['SRA', 'yr_id'])\n",
    "    write_to_excel_combo_files(df_2022_01, df_2021_01, geo_level)\n",
    "    print(f'{geo_level}-is complete')"
   ]
  },
  {
   "cell_type": "code",
   "execution_count": 130,
   "metadata": {},
   "outputs": [
    {
     "name": "stdout",
     "output_type": "stream",
     "text": [
      "SRA-is complete\n",
      "cpa-is complete\n",
      "jurisdiction-is complete\n",
      "region-is complete\n"
     ]
    }
   ],
   "source": [
    "category = 'age_sex_ethnicity'\n",
    "for geo_level in geo_levels:\n",
    "    df_2022_01, df_2021_01 = get_input_data(category=category, geo_level=geo_level)\n",
    "    df_2022_01 = df_2022_01.reset_index().groupby([geo_level, 'yr_id', 'age_group', 'sex']).sum()\n",
    "    df_2021_01 = df_2021_01.reset_index().groupby([geo_level, 'yr_id', 'age_group', 'sex']).sum()\n",
    "    write_to_excel(df_2022_01, df_2021_01, category = category, geo_level = geo_level)\n",
    "    print(f'{geo_level}-is complete')"
   ]
  },
  {
   "cell_type": "code",
   "execution_count": 122,
   "metadata": {},
   "outputs": [],
   "source": [
    "category = 'age_sex_ethnicity'\n",
    "geo_level = 'region'"
   ]
  },
  {
   "cell_type": "code",
   "execution_count": 123,
   "metadata": {},
   "outputs": [],
   "source": [
    "df_2022_01, df_2021_01 = get_input_data(category=category, geo_level=geo_level)\n"
   ]
  },
  {
   "cell_type": "code",
   "execution_count": 124,
   "metadata": {},
   "outputs": [],
   "source": [
    "df_2022_01 = df_2022_01.reset_index().groupby([geo_level, 'yr_id', 'age_group', 'sex']).sum()\n",
    "df_2021_01 = df_2021_01.reset_index().groupby([geo_level, 'yr_id', 'age_group', 'sex']).sum()"
   ]
  },
  {
   "cell_type": "code",
   "execution_count": 125,
   "metadata": {},
   "outputs": [],
   "source": [
    "df_2021_01 = df_2021_01.reset_index().groupby([geo_level, 'yr_id', 'age_group', 'sex']).sum()"
   ]
  },
  {
   "cell_type": "code",
   "execution_count": 126,
   "metadata": {},
   "outputs": [],
   "source": [
    "write_to_excel(df_2022_01, df_2021_01, category = category, geo_level = geo_level)"
   ]
  },
  {
   "cell_type": "code",
   "execution_count": null,
   "metadata": {},
   "outputs": [],
   "source": [
    "# Add name and sex in the groupby in data input"
   ]
  },
  {
   "cell_type": "markdown",
   "metadata": {},
   "source": []
  }
 ],
 "metadata": {
  "kernelspec": {
   "display_name": "base",
   "language": "python",
   "name": "python3"
  },
  "language_info": {
   "codemirror_mode": {
    "name": "ipython",
    "version": 3
   },
   "file_extension": ".py",
   "mimetype": "text/x-python",
   "name": "python",
   "nbconvert_exporter": "python",
   "pygments_lexer": "ipython3",
   "version": "3.8.8"
  },
  "orig_nbformat": 4,
  "vscode": {
   "interpreter": {
    "hash": "6db16e9940ad839c1e288012a4d7b04c8c55c67646ae73b178066b197eb654ea"
   }
  }
 },
 "nbformat": 4,
 "nbformat_minor": 2
}
