{
 "cells": [
  {
   "cell_type": "code",
   "execution_count": 18,
   "metadata": {},
   "outputs": [],
   "source": [
    "import os \n",
    "import pandas as pd\n",
    "import numpy as np\n",
    "import glob\n",
    "import pyodbc\n",
    "import gc"
   ]
  },
  {
   "attachments": {},
   "cell_type": "markdown",
   "metadata": {},
   "source": [
    "# Download DOF Data"
   ]
  },
  {
   "cell_type": "code",
   "execution_count": 19,
   "metadata": {},
   "outputs": [
    {
     "data": {
      "text/html": [
       "<div>\n",
       "<style scoped>\n",
       "    .dataframe tbody tr th:only-of-type {\n",
       "        vertical-align: middle;\n",
       "    }\n",
       "\n",
       "    .dataframe tbody tr th {\n",
       "        vertical-align: top;\n",
       "    }\n",
       "\n",
       "    .dataframe thead th {\n",
       "        text-align: right;\n",
       "    }\n",
       "</style>\n",
       "<table border=\"1\" class=\"dataframe\">\n",
       "  <thead>\n",
       "    <tr style=\"text-align: right;\">\n",
       "      <th></th>\n",
       "      <th>area_type</th>\n",
       "      <th>area_name</th>\n",
       "      <th>summary_type</th>\n",
       "      <th>county_name</th>\n",
       "      <th>est_yr</th>\n",
       "      <th>est_md</th>\n",
       "      <th>total_pop</th>\n",
       "      <th>household_pop</th>\n",
       "      <th>group_quarters</th>\n",
       "      <th>total_hu</th>\n",
       "      <th>single</th>\n",
       "      <th>single_detached</th>\n",
       "      <th>single_attached</th>\n",
       "      <th>multiple</th>\n",
       "      <th>two_to_four</th>\n",
       "      <th>five_plus</th>\n",
       "      <th>mobile_homes</th>\n",
       "      <th>occupied</th>\n",
       "      <th>unoccupied</th>\n",
       "      <th>vintage_yr</th>\n",
       "    </tr>\n",
       "  </thead>\n",
       "  <tbody>\n",
       "    <tr>\n",
       "      <th>0</th>\n",
       "      <td>County</td>\n",
       "      <td>San Diego</td>\n",
       "      <td>Total</td>\n",
       "      <td>San Diego</td>\n",
       "      <td>2020</td>\n",
       "      <td>JAN_1</td>\n",
       "      <td>3331279</td>\n",
       "      <td>3218869</td>\n",
       "      <td>112410</td>\n",
       "      <td>1226879</td>\n",
       "      <td>729293</td>\n",
       "      <td>622861</td>\n",
       "      <td>106432</td>\n",
       "      <td>451206</td>\n",
       "      <td>87814</td>\n",
       "      <td>363392</td>\n",
       "      <td>46380</td>\n",
       "      <td>1153981</td>\n",
       "      <td>72898</td>\n",
       "      <td>2022</td>\n",
       "    </tr>\n",
       "    <tr>\n",
       "      <th>1</th>\n",
       "      <td>County</td>\n",
       "      <td>San Diego</td>\n",
       "      <td>Total</td>\n",
       "      <td>San Diego</td>\n",
       "      <td>2021</td>\n",
       "      <td>JAN_1</td>\n",
       "      <td>3288503</td>\n",
       "      <td>3185504</td>\n",
       "      <td>102999</td>\n",
       "      <td>1234243</td>\n",
       "      <td>730358</td>\n",
       "      <td>623705</td>\n",
       "      <td>106653</td>\n",
       "      <td>457367</td>\n",
       "      <td>89145</td>\n",
       "      <td>368222</td>\n",
       "      <td>46521</td>\n",
       "      <td>1159366</td>\n",
       "      <td>74877</td>\n",
       "      <td>2022</td>\n",
       "    </tr>\n",
       "    <tr>\n",
       "      <th>2</th>\n",
       "      <td>County</td>\n",
       "      <td>San Diego</td>\n",
       "      <td>Total</td>\n",
       "      <td>San Diego</td>\n",
       "      <td>2022</td>\n",
       "      <td>JAN_1</td>\n",
       "      <td>3287306</td>\n",
       "      <td>3170895</td>\n",
       "      <td>116411</td>\n",
       "      <td>1244854</td>\n",
       "      <td>733579</td>\n",
       "      <td>626055</td>\n",
       "      <td>107524</td>\n",
       "      <td>464642</td>\n",
       "      <td>89713</td>\n",
       "      <td>374929</td>\n",
       "      <td>46636</td>\n",
       "      <td>1169378</td>\n",
       "      <td>75476</td>\n",
       "      <td>2022</td>\n",
       "    </tr>\n",
       "  </tbody>\n",
       "</table>\n",
       "</div>"
      ],
      "text/plain": [
       "  area_type  area_name summary_type county_name  est_yr est_md  total_pop  \\\n",
       "0    County  San Diego        Total   San Diego    2020  JAN_1    3331279   \n",
       "1    County  San Diego        Total   San Diego    2021  JAN_1    3288503   \n",
       "2    County  San Diego        Total   San Diego    2022  JAN_1    3287306   \n",
       "\n",
       "   household_pop  group_quarters  total_hu  single  single_detached  \\\n",
       "0        3218869          112410   1226879  729293           622861   \n",
       "1        3185504          102999   1234243  730358           623705   \n",
       "2        3170895          116411   1244854  733579           626055   \n",
       "\n",
       "   single_attached  multiple  two_to_four  five_plus  mobile_homes  occupied  \\\n",
       "0           106432    451206        87814     363392         46380   1153981   \n",
       "1           106653    457367        89145     368222         46521   1159366   \n",
       "2           107524    464642        89713     374929         46636   1169378   \n",
       "\n",
       "   unoccupied  vintage_yr  \n",
       "0       72898        2022  \n",
       "1       74877        2022  \n",
       "2       75476        2022  "
      ]
     },
     "execution_count": 19,
     "metadata": {},
     "output_type": "execute_result"
    }
   ],
   "source": [
    "conn = pyodbc.connect('Driver={ODBC Driver 17 for SQL Server};'\n",
    "                    'Server=DDAMWSQL16.sandag.org;'\n",
    "                    'Database=estimates;'\n",
    "                    'Trusted_Connection=yes;')\n",
    "\n",
    "with open(r'C:\\Users\\cra\\OneDrive - San Diego Association of Governments\\QA_Repository\\2023\\2023-024 Estimates 2022\\sql_queries\\DOF_query.sql', 'r') as sql_file:\n",
    "    sql_query = sql_file.read()\n",
    "\n",
    "df =  pd.read_sql_query(sql_query, conn)\n",
    "df"
   ]
  },
  {
   "cell_type": "code",
   "execution_count": null,
   "metadata": {},
   "outputs": [],
   "source": []
  },
  {
   "cell_type": "code",
   "execution_count": null,
   "metadata": {},
   "outputs": [],
   "source": []
  },
  {
   "attachments": {},
   "cell_type": "markdown",
   "metadata": {},
   "source": [
    "# Folders"
   ]
  },
  {
   "cell_type": "code",
   "execution_count": 11,
   "metadata": {},
   "outputs": [],
   "source": [
    "age = r'C:\\Users\\cra\\San Diego Association of Governments\\SANDAG QA QC - Documents\\Projects\\2023\\2023-023 Estimates 2022\\Data\\age'\n",
    "age_sex_ethnicity = r'C:\\Users\\cra\\San Diego Association of Governments\\SANDAG QA QC - Documents\\Projects\\2023\\2023-023 Estimates 2022\\Data\\age_sex_ethnicity'\n",
    "children = r'C:\\Users\\cra\\San Diego Association of Governments\\SANDAG QA QC - Documents\\Projects\\2023\\2023-023 Estimates 2022\\Data\\children'\n",
    "ethnicity = r'C:\\Users\\cra\\San Diego Association of Governments\\SANDAG QA QC - Documents\\Projects\\2023\\2023-023 Estimates 2022\\Data\\ethnicity'\n",
    "households = r'C:\\Users\\cra\\San Diego Association of Governments\\SANDAG QA QC - Documents\\Projects\\2023\\2023-023 Estimates 2022\\Data\\households'\n",
    "housing = r'C:\\Users\\cra\\San Diego Association of Governments\\SANDAG QA QC - Documents\\Projects\\2023\\2023-023 Estimates 2022\\Data\\housing'\n",
    "income = r'C:\\Users\\cra\\San Diego Association of Governments\\SANDAG QA QC - Documents\\Projects\\2023\\2023-023 Estimates 2022\\Data\\income_group'\n",
    "population = r'C:\\Users\\cra\\San Diego Association of Governments\\SANDAG QA QC - Documents\\Projects\\2023\\2023-023 Estimates 2022\\Data\\population'\n",
    "sex = r'C:\\Users\\cra\\San Diego Association of Governments\\SANDAG QA QC - Documents\\Projects\\2023\\2023-023 Estimates 2022\\Data\\sex'\n",
    "workers = r'C:\\Users\\cra\\San Diego Association of Governments\\SANDAG QA QC - Documents\\Projects\\2023\\2023-023 Estimates 2022\\Data\\workers'\n",
    "\n",
    "all_folders = [age, age_sex_ethnicity, children, ethnicity, households, housing, income, population, sex, workers]"
   ]
  },
  {
   "attachments": {},
   "cell_type": "markdown",
   "metadata": {},
   "source": [
    "# Internal Consistency Checks"
   ]
  },
  {
   "attachments": {},
   "cell_type": "markdown",
   "metadata": {},
   "source": [
    "## Population"
   ]
  },
  {
   "cell_type": "code",
   "execution_count": 7,
   "metadata": {},
   "outputs": [],
   "source": [
    "def internal_consistency_population(df):\n",
    "    df['tot_pop_calc'] = df['Group Quarters - College'] + df['Group Quarters - Military'] + df['Group Quarters - Other'] + df['Household Population']\n",
    "\n",
    "    tot_pop_sum = sum((df['tot_pop_calc'] == df['total_population'])) - len(df)\n",
    "\n",
    "    df['tot_gq_pop_calc'] = df['Group Quarters - College'] + df['Group Quarters - Military'] + df['Group Quarters - Other']\n",
    "\n",
    "    tot_gq_pop_sum = sum((df['tot_gq_pop_calc'] == df['total_pop_GQ'])) - len(df)\n",
    "\n",
    "    if ((tot_pop_sum == 0) & (tot_gq_pop_sum == 0)):\n",
    "        return 'Dataframe is internally consistent'\n",
    "    else:\n",
    "        return 'Dataframe is not internally consistent'\n"
   ]
  },
  {
   "cell_type": "code",
   "execution_count": 4,
   "metadata": {},
   "outputs": [],
   "source": [
    "def population_folder_internal_consistency(url):\n",
    "    files = os.listdir(url)\n",
    "    for file in files:\n",
    "        df = pd.read_csv(url+'/'+file)\n",
    "        print(f\"{file}: {internal_consistency_population(df)}\")"
   ]
  },
  {
   "cell_type": "code",
   "execution_count": 8,
   "metadata": {},
   "outputs": [
    {
     "name": "stdout",
     "output_type": "stream",
     "text": [
      "census_tract_population_est_2022_01_ind_QA.csv: Dataframe is internally consistent\n",
      "cpa_population_est_2022_01_ind_QA.csv: Dataframe is internally consistent\n",
      "jurisdiction_population_est_2022_01_ind_QA.csv: Dataframe is internally consistent\n",
      "LUZ_population_est_2022_01_ind_QA.csv: Dataframe is internally consistent\n",
      "mgra_population_est_2022_01_ind_QA.csv: Dataframe is internally consistent\n",
      "region_population_est_2022_01_ind_QA.csv: Dataframe is internally consistent\n",
      "SRA_population_est_2022_01_ind_QA.csv: Dataframe is internally consistent\n"
     ]
    }
   ],
   "source": [
    "population_folder_internal_consistency(population)"
   ]
  },
  {
   "cell_type": "code",
   "execution_count": null,
   "metadata": {},
   "outputs": [],
   "source": []
  },
  {
   "attachments": {},
   "cell_type": "markdown",
   "metadata": {},
   "source": [
    "# NaN Check"
   ]
  },
  {
   "cell_type": "code",
   "execution_count": 15,
   "metadata": {},
   "outputs": [],
   "source": [
    "def check_missing_values(df):\n",
    "    if df.isnull().values.any():\n",
    "        return 'There are NaNs'\n",
    "    else:\n",
    "        return 'There are no NaNs'"
   ]
  },
  {
   "cell_type": "code",
   "execution_count": 16,
   "metadata": {},
   "outputs": [],
   "source": [
    "def population_folder_NaN_Check(url):\n",
    "    files = os.listdir(url)\n",
    "    for file in files:\n",
    "        df = pd.read_csv(url+'/'+file)\n",
    "        print(f\"{file}: {check_missing_values(df)}\")"
   ]
  },
  {
   "cell_type": "code",
   "execution_count": 17,
   "metadata": {},
   "outputs": [
    {
     "name": "stdout",
     "output_type": "stream",
     "text": [
      "census_tract_population_est_2022_01_ind_QA.csv: There are no NaNs\n",
      "cpa_population_est_2022_01_ind_QA.csv: There are no NaNs\n",
      "jurisdiction_population_est_2022_01_ind_QA.csv: There are no NaNs\n",
      "LUZ_population_est_2022_01_ind_QA.csv: There are no NaNs\n",
      "mgra_population_est_2022_01_ind_QA.csv: There are no NaNs\n",
      "region_population_est_2022_01_ind_QA.csv: There are no NaNs\n",
      "SRA_population_est_2022_01_ind_QA.csv: There are no NaNs\n",
      "census_tract_population_est_2022_01_ind_QA.csv: There are no NaNs\n",
      "cpa_population_est_2022_01_ind_QA.csv: There are no NaNs\n",
      "jurisdiction_population_est_2022_01_ind_QA.csv: There are no NaNs\n",
      "LUZ_population_est_2022_01_ind_QA.csv: There are no NaNs\n",
      "mgra_population_est_2022_01_ind_QA.csv: There are no NaNs\n",
      "region_population_est_2022_01_ind_QA.csv: There are no NaNs\n",
      "SRA_population_est_2022_01_ind_QA.csv: There are no NaNs\n",
      "census_tract_population_est_2022_01_ind_QA.csv: There are no NaNs\n",
      "cpa_population_est_2022_01_ind_QA.csv: There are no NaNs\n",
      "jurisdiction_population_est_2022_01_ind_QA.csv: There are no NaNs\n",
      "LUZ_population_est_2022_01_ind_QA.csv: There are no NaNs\n",
      "mgra_population_est_2022_01_ind_QA.csv: There are no NaNs\n",
      "region_population_est_2022_01_ind_QA.csv: There are no NaNs\n",
      "SRA_population_est_2022_01_ind_QA.csv: There are no NaNs\n",
      "census_tract_population_est_2022_01_ind_QA.csv: There are no NaNs\n",
      "cpa_population_est_2022_01_ind_QA.csv: There are no NaNs\n",
      "jurisdiction_population_est_2022_01_ind_QA.csv: There are no NaNs\n",
      "LUZ_population_est_2022_01_ind_QA.csv: There are no NaNs\n",
      "mgra_population_est_2022_01_ind_QA.csv: There are no NaNs\n",
      "region_population_est_2022_01_ind_QA.csv: There are no NaNs\n",
      "SRA_population_est_2022_01_ind_QA.csv: There are no NaNs\n",
      "census_tract_population_est_2022_01_ind_QA.csv: There are no NaNs\n",
      "cpa_population_est_2022_01_ind_QA.csv: There are no NaNs\n",
      "jurisdiction_population_est_2022_01_ind_QA.csv: There are no NaNs\n",
      "LUZ_population_est_2022_01_ind_QA.csv: There are no NaNs\n",
      "mgra_population_est_2022_01_ind_QA.csv: There are no NaNs\n",
      "region_population_est_2022_01_ind_QA.csv: There are no NaNs\n",
      "SRA_population_est_2022_01_ind_QA.csv: There are no NaNs\n",
      "census_tract_population_est_2022_01_ind_QA.csv: There are no NaNs\n",
      "cpa_population_est_2022_01_ind_QA.csv: There are no NaNs\n",
      "jurisdiction_population_est_2022_01_ind_QA.csv: There are no NaNs\n",
      "LUZ_population_est_2022_01_ind_QA.csv: There are no NaNs\n",
      "mgra_population_est_2022_01_ind_QA.csv: There are no NaNs\n",
      "region_population_est_2022_01_ind_QA.csv: There are no NaNs\n",
      "SRA_population_est_2022_01_ind_QA.csv: There are no NaNs\n",
      "census_tract_population_est_2022_01_ind_QA.csv: There are no NaNs\n",
      "cpa_population_est_2022_01_ind_QA.csv: There are no NaNs\n",
      "jurisdiction_population_est_2022_01_ind_QA.csv: There are no NaNs\n",
      "LUZ_population_est_2022_01_ind_QA.csv: There are no NaNs\n",
      "mgra_population_est_2022_01_ind_QA.csv: There are no NaNs\n",
      "region_population_est_2022_01_ind_QA.csv: There are no NaNs\n",
      "SRA_population_est_2022_01_ind_QA.csv: There are no NaNs\n",
      "census_tract_population_est_2022_01_ind_QA.csv: There are no NaNs\n",
      "cpa_population_est_2022_01_ind_QA.csv: There are no NaNs\n",
      "jurisdiction_population_est_2022_01_ind_QA.csv: There are no NaNs\n",
      "LUZ_population_est_2022_01_ind_QA.csv: There are no NaNs\n",
      "mgra_population_est_2022_01_ind_QA.csv: There are no NaNs\n",
      "region_population_est_2022_01_ind_QA.csv: There are no NaNs\n",
      "SRA_population_est_2022_01_ind_QA.csv: There are no NaNs\n",
      "census_tract_population_est_2022_01_ind_QA.csv: There are no NaNs\n",
      "cpa_population_est_2022_01_ind_QA.csv: There are no NaNs\n",
      "jurisdiction_population_est_2022_01_ind_QA.csv: There are no NaNs\n",
      "LUZ_population_est_2022_01_ind_QA.csv: There are no NaNs\n",
      "mgra_population_est_2022_01_ind_QA.csv: There are no NaNs\n",
      "region_population_est_2022_01_ind_QA.csv: There are no NaNs\n",
      "SRA_population_est_2022_01_ind_QA.csv: There are no NaNs\n",
      "census_tract_population_est_2022_01_ind_QA.csv: There are no NaNs\n",
      "cpa_population_est_2022_01_ind_QA.csv: There are no NaNs\n",
      "jurisdiction_population_est_2022_01_ind_QA.csv: There are no NaNs\n",
      "LUZ_population_est_2022_01_ind_QA.csv: There are no NaNs\n",
      "mgra_population_est_2022_01_ind_QA.csv: There are no NaNs\n",
      "region_population_est_2022_01_ind_QA.csv: There are no NaNs\n",
      "SRA_population_est_2022_01_ind_QA.csv: There are no NaNs\n"
     ]
    }
   ],
   "source": [
    "for folder in all_folders:\n",
    "    population_folder_NaN_Check(population)"
   ]
  },
  {
   "cell_type": "code",
   "execution_count": null,
   "metadata": {},
   "outputs": [],
   "source": []
  },
  {
   "cell_type": "code",
   "execution_count": null,
   "metadata": {},
   "outputs": [],
   "source": []
  },
  {
   "cell_type": "code",
   "execution_count": null,
   "metadata": {},
   "outputs": [],
   "source": []
  }
 ],
 "metadata": {
  "kernelspec": {
   "display_name": "base",
   "language": "python",
   "name": "python3"
  },
  "language_info": {
   "codemirror_mode": {
    "name": "ipython",
    "version": 3
   },
   "file_extension": ".py",
   "mimetype": "text/x-python",
   "name": "python",
   "nbconvert_exporter": "python",
   "pygments_lexer": "ipython3",
   "version": "3.8.8"
  },
  "orig_nbformat": 4
 },
 "nbformat": 4,
 "nbformat_minor": 2
}
