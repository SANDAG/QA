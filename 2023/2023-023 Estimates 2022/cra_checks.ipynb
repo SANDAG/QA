{
 "cells": [
  {
   "cell_type": "code",
   "execution_count": 2,
   "metadata": {},
   "outputs": [],
   "source": [
    "import os \n",
    "import pandas as pd\n",
    "import numpy as np\n",
    "import glob\n",
    "import pyodbc\n",
    "import gc"
   ]
  },
  {
   "cell_type": "code",
   "execution_count": null,
   "metadata": {},
   "outputs": [],
   "source": []
  },
  {
   "attachments": {},
   "cell_type": "markdown",
   "metadata": {},
   "source": [
    "# QC Item 1: Total Population"
   ]
  },
  {
   "attachments": {},
   "cell_type": "markdown",
   "metadata": {},
   "source": [
    "## Test 1: Internal Consistency Check"
   ]
  },
  {
   "cell_type": "code",
   "execution_count": 9,
   "metadata": {},
   "outputs": [
    {
     "data": {
      "text/html": [
       "<div>\n",
       "<style scoped>\n",
       "    .dataframe tbody tr th:only-of-type {\n",
       "        vertical-align: middle;\n",
       "    }\n",
       "\n",
       "    .dataframe tbody tr th {\n",
       "        vertical-align: top;\n",
       "    }\n",
       "\n",
       "    .dataframe thead th {\n",
       "        text-align: right;\n",
       "    }\n",
       "</style>\n",
       "<table border=\"1\" class=\"dataframe\">\n",
       "  <thead>\n",
       "    <tr style=\"text-align: right;\">\n",
       "      <th></th>\n",
       "      <th>region</th>\n",
       "      <th>yr_id</th>\n",
       "      <th>Group Quarters - College</th>\n",
       "      <th>Group Quarters - Military</th>\n",
       "      <th>Group Quarters - Other</th>\n",
       "      <th>Household Population</th>\n",
       "      <th>Total</th>\n",
       "      <th>Total_GQ</th>\n",
       "    </tr>\n",
       "  </thead>\n",
       "  <tbody>\n",
       "    <tr>\n",
       "      <th>0</th>\n",
       "      <td>San Diego</td>\n",
       "      <td>2020</td>\n",
       "      <td>26881</td>\n",
       "      <td>41611</td>\n",
       "      <td>43918</td>\n",
       "      <td>3218869</td>\n",
       "      <td>3331279</td>\n",
       "      <td>112410</td>\n",
       "    </tr>\n",
       "    <tr>\n",
       "      <th>1</th>\n",
       "      <td>San Diego</td>\n",
       "      <td>2021</td>\n",
       "      <td>17810</td>\n",
       "      <td>41422</td>\n",
       "      <td>43767</td>\n",
       "      <td>3185504</td>\n",
       "      <td>3288503</td>\n",
       "      <td>102999</td>\n",
       "    </tr>\n",
       "    <tr>\n",
       "      <th>2</th>\n",
       "      <td>San Diego</td>\n",
       "      <td>2022</td>\n",
       "      <td>30637</td>\n",
       "      <td>43210</td>\n",
       "      <td>42564</td>\n",
       "      <td>3170895</td>\n",
       "      <td>3287306</td>\n",
       "      <td>116411</td>\n",
       "    </tr>\n",
       "  </tbody>\n",
       "</table>\n",
       "</div>"
      ],
      "text/plain": [
       "      region  yr_id  Group Quarters - College  Group Quarters - Military  \\\n",
       "0  San Diego   2020                     26881                      41611   \n",
       "1  San Diego   2021                     17810                      41422   \n",
       "2  San Diego   2022                     30637                      43210   \n",
       "\n",
       "   Group Quarters - Other  Household Population    Total  Total_GQ  \n",
       "0                   43918               3218869  3331279    112410  \n",
       "1                   43767               3185504  3288503    102999  \n",
       "2                   42564               3170895  3287306    116411  "
      ]
     },
     "execution_count": 9,
     "metadata": {},
     "output_type": "execute_result"
    }
   ],
   "source": [
    "# Cleaning and prepping the population data\n",
    "population_data = pd.read_csv(r'C:\\Users\\cra\\San Diego Association of Governments\\SANDAG QA QC - Documents\\Projects\\2023\\2023-024 Estimates 2022\\Data\\population\\region_population_est_2022_01_ind_QA.csv')\n",
    "\n",
    "# Calculating the total \n",
    "population_data['Total'] = population_data['Group Quarters - College'] + population_data['Group Quarters - Military'] + population_data['Group Quarters - Other'] + population_data['Household Population']\n",
    "\n",
    "# Calculating total GQ \n",
    "population_data['Total_GQ'] = population_data['Group Quarters - College'] + population_data['Group Quarters - Military'] + population_data['Group Quarters - Other']\n",
    "\n",
    "population_data"
   ]
  },
  {
   "attachments": {},
   "cell_type": "markdown",
   "metadata": {},
   "source": [
    "### i. Total Population for the region, jurisdiction, cpa matches the sum of household population and GQ population"
   ]
  },
  {
   "attachments": {},
   "cell_type": "markdown",
   "metadata": {},
   "source": [
    "### ii: Total Population for the region, jurisdiction, cpa matches the sum of all ethnicity group population"
   ]
  },
  {
   "cell_type": "code",
   "execution_count": null,
   "metadata": {},
   "outputs": [],
   "source": [
    "population, housing and households combine together \n",
    "- I can then impute vacancy rate inside that field \n",
    "-  "
   ]
  },
  {
   "cell_type": "code",
   "execution_count": 4,
   "metadata": {},
   "outputs": [
    {
     "data": {
      "text/plain": [
       "Index(['region', 'yr_id', 'Group Quarters - College',\n",
       "       'Group Quarters - Military', 'Group Quarters - Other',\n",
       "       'Household Population'],\n",
       "      dtype='object')"
      ]
     },
     "execution_count": 4,
     "metadata": {},
     "output_type": "execute_result"
    }
   ],
   "source": [
    "population_data.columns"
   ]
  },
  {
   "cell_type": "markdown",
   "metadata": {},
   "source": []
  }
 ],
 "metadata": {
  "kernelspec": {
   "display_name": "base",
   "language": "python",
   "name": "python3"
  },
  "language_info": {
   "codemirror_mode": {
    "name": "ipython",
    "version": 3
   },
   "file_extension": ".py",
   "mimetype": "text/x-python",
   "name": "python",
   "nbconvert_exporter": "python",
   "pygments_lexer": "ipython3",
   "version": "3.8.8"
  },
  "orig_nbformat": 4,
  "vscode": {
   "interpreter": {
    "hash": "6db16e9940ad839c1e288012a4d7b04c8c55c67646ae73b178066b197eb654ea"
   }
  }
 },
 "nbformat": 4,
 "nbformat_minor": 2
}
