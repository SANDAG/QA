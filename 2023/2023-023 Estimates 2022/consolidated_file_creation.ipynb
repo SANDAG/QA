{
 "cells": [
  {
   "cell_type": "code",
   "execution_count": 2,
   "metadata": {},
   "outputs": [],
   "source": [
    "import pandas as pd\n",
    "import os\n",
    "\n",
    "def merge_files_on_geo_level(geo_level, url, output_file):\n",
    "    # create empty dataframe to store merged data\n",
    "    merged_data = pd.DataFrame()\n",
    "\n",
    "    # loop through all subfolders in url folder\n",
    "    for folder_name in os.listdir(url):\n",
    "        print(folder_name)\n",
    "        # loop through all files in subfolder\n",
    "        if ((folder_name == 'age_sex_ethnicity') | (folder_name == 'combo_files') | (folder_name == 'consolidated_files')):\n",
    "            pass\n",
    "        else:\n",
    "            for file_name in os.listdir(os.path.join(url, folder_name)):\n",
    "                # check if file contains geo_level in the name\n",
    "                if geo_level in file_name and file_name.endswith('.csv'):\n",
    "                    # read in data from file and merge with merged_data dataframe\n",
    "                    file_path = os.path.join(url, folder_name, file_name)\n",
    "                    df = pd.read_csv(file_path)\n",
    "                    if merged_data.empty:\n",
    "                        merged_data = df\n",
    "                    else:\n",
    "                        merged_data = pd.merge(merged_data, df, how='left', on=[f'{geo_level}', 'yr_id'])\n",
    "    print(merged_data.head())\n",
    "    merged_data.reset_index().to_csv(f\"{output_file}/{geo_level}_consolidated_file_QA.csv\", index=False)\n",
    "\n",
    "    # # sum all columns except for geo_level and yr_id\n",
    "    # if not merged_data.empty:\n",
    "    #     merged_data = merged_data.groupby(['geo_level', 'yr_id']).sum().reset_index()\n",
    "    \n",
    "    return merged_data\n"
   ]
  },
  {
   "cell_type": "code",
   "execution_count": 2,
   "metadata": {},
   "outputs": [],
   "source": [
    "# 2021_01\n",
    "url = 'C:/Users/cra/San Diego Association of Governments/SANDAG QA QC - Documents/Projects/2023/2023-023 Estimates 2022/Results/Test 5- Vintage Comparison/2021_01'\n",
    "output_file = 'C:/Users/cra/San Diego Association of Governments/SANDAG QA QC - Documents/Projects/2023/2023-023 Estimates 2022/Results/Test 5- Vintage Comparison/2021_01/consolidated_files'"
   ]
  },
  {
   "cell_type": "code",
   "execution_count": 6,
   "metadata": {},
   "outputs": [],
   "source": [
    "#2022_01\n",
    "url = 'C:/Users/cra/San Diego Association of Governments/SANDAG QA QC - Documents/Projects/2023/2023-023 Estimates 2022/Data'\n",
    "output_file = 'C:/Users/cra/San Diego Association of Governments/SANDAG QA QC - Documents/Projects/2023/2023-023 Estimates 2022/Data/consolidated_files'"
   ]
  },
  {
   "cell_type": "code",
   "execution_count": 1,
   "metadata": {},
   "outputs": [],
   "source": [
    "def url_and_output_file(version):\n",
    "    if version == '2021_01':\n",
    "         url = 'C:/Users/cra/San Diego Association of Governments/SANDAG QA QC - Documents/Projects/2023/2023-023 Estimates 2022/Results/Test 5- Vintage Comparison/2021_01'\n",
    "         output_file = 'C:/Users/cra/San Diego Association of Governments/SANDAG QA QC - Documents/Projects/2023/2023-023 Estimates 2022/Results/Test 5- Vintage Comparison/2021_01/consolidated_files'\n",
    "         return url, output_file\n",
    "    elif version == '2022_01':\n",
    "         url = 'C:/Users/cra/San Diego Association of Governments/SANDAG QA QC - Documents/Projects/2023/2023-023 Estimates 2022/Data'\n",
    "         output_file = 'C:/Users/cra/San Diego Association of Governments/SANDAG QA QC - Documents/Projects/2023/2023-023 Estimates 2022/Data/consolidated_files'\n",
    "         return url, output_file\n",
    "        \n"
   ]
  },
  {
   "cell_type": "code",
   "execution_count": 3,
   "metadata": {},
   "outputs": [
    {
     "data": {
      "text/plain": [
       "['age',\n",
       " 'age_sex_ethnicity',\n",
       " 'children',\n",
       " 'combo_files',\n",
       " 'consolidated_files',\n",
       " 'ethnicity',\n",
       " 'households',\n",
       " 'housing',\n",
       " 'income_group',\n",
       " 'population',\n",
       " 'sex',\n",
       " 'workers']"
      ]
     },
     "execution_count": 3,
     "metadata": {},
     "output_type": "execute_result"
    }
   ],
   "source": [
    "os.listdir('C:/Users/cra/San Diego Association of Governments/SANDAG QA QC - Documents/Projects/2023/2023-023 Estimates 2022/Data')"
   ]
  },
  {
   "cell_type": "code",
   "execution_count": 6,
   "metadata": {},
   "outputs": [],
   "source": [
    "import pandas as pd\n",
    "import os\n",
    "\n",
    "def merge_files_on_geo_level(geo_level, version):\n",
    "    url, output_file = url_and_output_file(version=version)\n",
    "    # create empty dataframe to store merged data\n",
    "    merged_data = pd.DataFrame()\n",
    "\n",
    "    # loop through all subfolders in url folder\n",
    "    for folder_name in os.listdir(url):\n",
    "        # loop through all files in subfolder\n",
    "        if ((folder_name == 'age_sex_ethnicity') | (folder_name == 'combo_files') | (folder_name == 'consolidated_files')):\n",
    "            pass\n",
    "        else:\n",
    "            for file_name in os.listdir(os.path.join(url, folder_name)):\n",
    "                # check if file contains geo_level in the name\n",
    "                if geo_level in file_name and file_name.endswith('.csv'):\n",
    "                    # read in data from file and merge with merged_data dataframe\n",
    "                    file_path = os.path.join(url, folder_name, file_name)\n",
    "                    df = pd.read_csv(file_path)\n",
    "                    if merged_data.empty:\n",
    "                        merged_data = df\n",
    "                    else:\n",
    "                        merged_data = pd.merge(merged_data, df, how='left', on=[f'{geo_level}', 'yr_id'])\n",
    "    merged_data.reset_index().to_csv(f\"{output_file}/{geo_level}_consolidated_file_QA.csv\", index=False)\n",
    "\n",
    "    # # sum all columns except for geo_level and yr_id\n",
    "    # if not merged_data.empty:\n",
    "    #     merged_data = merged_data.groupby(['geo_level', 'yr_id']).sum().reset_index()\n",
    "    \n",
    "    return merged_data\n"
   ]
  },
  {
   "cell_type": "code",
   "execution_count": 7,
   "metadata": {},
   "outputs": [
    {
     "name": "stdout",
     "output_type": "stream",
     "text": [
      "cpa is done.\n",
      "jurisdiction is done.\n",
      "region is done.\n",
      "sra is done.\n"
     ]
    }
   ],
   "source": [
    "for geo_level in ['cpa', 'jurisdiction', 'region', 'sra']:\n",
    "    merge_files_on_geo_level(geo_level=geo_level, version='2022_01')\n",
    "    merge_files_on_geo_level(geo_level=geo_level, version='2021_01')\n",
    "    print(f\"{geo_level} is done.\")\n"
   ]
  },
  {
   "cell_type": "code",
   "execution_count": null,
   "metadata": {},
   "outputs": [],
   "source": []
  }
 ],
 "metadata": {
  "kernelspec": {
   "display_name": "base",
   "language": "python",
   "name": "python3"
  },
  "language_info": {
   "codemirror_mode": {
    "name": "ipython",
    "version": 3
   },
   "file_extension": ".py",
   "mimetype": "text/x-python",
   "name": "python",
   "nbconvert_exporter": "python",
   "pygments_lexer": "ipython3",
   "version": "3.8.8"
  },
  "orig_nbformat": 4
 },
 "nbformat": 4,
 "nbformat_minor": 2
}
