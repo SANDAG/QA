{
 "cells": [
  {
   "cell_type": "code",
   "execution_count": 14,
   "metadata": {},
   "outputs": [],
   "source": [
    "import os \n",
    "import pandas as pd\n",
    "import numpy as np\n",
    "import glob\n",
    "import pyodbc\n",
    "import gc"
   ]
  },
  {
   "cell_type": "code",
   "execution_count": 15,
   "metadata": {},
   "outputs": [],
   "source": [
    "def dof_data_pull():\n",
    "    conn = pyodbc.connect('Driver={ODBC Driver 17 for SQL Server};'\n",
    "                    'Server=DDAMWSQL16.sandag.org;'\n",
    "                    'Database=estimates;'\n",
    "                    'Trusted_Connection=yes;')\n",
    "\n",
    "    with open(r'sql_queries\\dof_query.sql', 'r') as sql_file:\n",
    "        sql_query = sql_file.read()\n",
    "\n",
    "    dof_data =  pd.read_sql_query(sql_query, conn)\n",
    "    dof_data = dof_data.set_index(['region', 'yr_id'])\n",
    "    return dof_data"
   ]
  },
  {
   "cell_type": "code",
   "execution_count": 16,
   "metadata": {},
   "outputs": [],
   "source": [
    "# Need Housing and population\n",
    "def find_and_download_files(url, estimates_version, category):\n",
    "    path = url.replace(\"\\\\\", \"/\")\n",
    "\n",
    "    files_with_words = []\n",
    "    for filename in os.listdir(path):\n",
    "        if 'region' in filename and category in filename and estimates_version in filename:\n",
    "            file_path = os.path.join(path, filename)\n",
    "            files_with_words.append(file_path)\n",
    "\n",
    "    df = pd.read_excel(files_with_words[0])\n",
    "\n",
    "    return df"
   ]
  },
  {
   "cell_type": "code",
   "execution_count": 17,
   "metadata": {},
   "outputs": [],
   "source": [
    "def housing_data_pull(estimates_version):\n",
    "    housing_df = find_and_download_files(url=rf'J:\\DataScience\\DataQuality\\QAQC\\Estimates QC Automation\\v_series15\\individual_files\\{estimates_version}', estimates_version=estimates_version, category='housing')\n",
    "    housing_df['unoccupied'] = housing_df['units'] - housing_df['occupied']\n",
    "    return housing_df"
   ]
  },
  {
   "cell_type": "code",
   "execution_count": 18,
   "metadata": {},
   "outputs": [],
   "source": [
    "def population_data_pull(estimates_version):\n",
    "    population_df = find_and_download_files(url=rf'J:\\DataScience\\DataQuality\\QAQC\\Estimates QC Automation\\v_series15\\individual_files\\{estimates_version}', estimates_version=estimates_version, category='population')\n",
    "    return population_df"
   ]
  },
  {
   "cell_type": "code",
   "execution_count": 19,
   "metadata": {},
   "outputs": [],
   "source": [
    "def households_data_pull(estimates_version):\n",
    "    households_df = find_and_download_files(url=rf'J:\\DataScience\\DataQuality\\QAQC\\Estimates QC Automation\\v_series15\\individual_files\\{estimates_version}', estimates_version=estimates_version, category='households')\n",
    "    households_df['two_to_four'] = households_df[2] + households_df[3] + households_df[4]\n",
    "    households_df['five_plus'] = households_df[5] + households_df[6] + households_df[7]\n",
    "    return households_df"
   ]
  },
  {
   "cell_type": "code",
   "execution_count": 20,
   "metadata": {},
   "outputs": [],
   "source": [
    "def pull_excel_data_and_merge(estimates_version):\n",
    "    excel_data = households_data_pull(estimates_version).merge(housing_data_pull(estimates_version), on=['region', 'yr_id']).merge(population_data_pull(estimates_version), on=['region', 'yr_id'])\n",
    "    excel_data = excel_data.set_index(['region', 'yr_id'])\n",
    "    return excel_data"
   ]
  },
  {
   "cell_type": "code",
   "execution_count": 21,
   "metadata": {},
   "outputs": [],
   "source": [
    "def subtract_dataframes(df1, df2):\n",
    "    # Filter the second data frame to keep only rows with index values in the first data frame\n",
    "    common_index = pd.merge(df1, df2, left_index=True, right_index=True)\n",
    "    df1 = df1.loc[common_index.index]\n",
    "    df2 = df2.loc[common_index.index]\n",
    "    \n",
    "    # Find the common columns between the two data frames\n",
    "    common_cols = list(set(df1.columns) & set(df2.columns))\n",
    "    common_cols = [x for x in df2.columns if x in common_cols]\n",
    "    \n",
    "    # Filter the data frames to keep only the common columns\n",
    "    df1 = df1[common_cols]\n",
    "    df2 = df2[common_cols]\n",
    "    \n",
    "    # Subtract the second data frame from the first\n",
    "    result = df1.subtract(df2)\n",
    "    \n",
    "    return result"
   ]
  },
  {
   "cell_type": "code",
   "execution_count": 22,
   "metadata": {},
   "outputs": [],
   "source": [
    "def percent_diff_dataframes(df1, df2):\n",
    "    # Filter the second data frame to keep only rows with index values in the first data frame\n",
    "    common_index = pd.merge(df1, df2, left_index=True, right_index=True)\n",
    "    df1 = df1.loc[common_index.index]\n",
    "    df2 = df2.loc[common_index.index]\n",
    "    \n",
    "    # Find the common columns between the two data frames\n",
    "    common_cols = list(set(df1.columns) & set(df2.columns))\n",
    "    common_cols = [x for x in df2.columns if x in common_cols]\n",
    "    \n",
    "    # Filter the data frames to keep only the common columns\n",
    "    df1 = df1[common_cols]\n",
    "    df2 = df2[common_cols]\n",
    "    \n",
    "    # Subtract the second data frame from the first\n",
    "    subtraction = df1.subtract(df2)\n",
    "    division = subtraction.divide(df2)\n",
    "    result = division*100\n",
    "    result = result.round(decimals=2)\n",
    "    return result"
   ]
  },
  {
   "cell_type": "code",
   "execution_count": 23,
   "metadata": {},
   "outputs": [],
   "source": [
    "def create_output(excel_data, dof_data, estimates_data):\n",
    "    dof_data = dof_data_pull()\n",
    "    excel_data = pull_excel_data_and_merge(estimates_data)\n",
    "    diff_file = subtract_dataframes(excel_data, dof_data)\n",
    "    pct_diff_file = percent_diff_dataframes(excel_data, dof_data)\n",
    "\n",
    "    return diff_file, pct_diff_file"
   ]
  },
  {
   "cell_type": "code",
   "execution_count": 24,
   "metadata": {},
   "outputs": [],
   "source": [
    "def write_to_excel(excel_data, dof_data, estimates_version):\n",
    "    diff, pct = create_output(excel_data, dof_data, estimates_version)\n",
    "    # Create a Pandas Excel writer using xlsxwriter as the engine\n",
    "    writer = pd.ExcelWriter(rf'J:\\DataScience\\DataQuality\\QAQC\\Estimates QC Automation\\v_series15\\dof_comparison\\{estimates_version}\\region_est_minus_dof_QA.xlsx', engine='xlsxwriter')\n",
    "\n",
    "    # Write each data frame to a different sheet\n",
    "    excel_data.reset_index().to_excel(writer, sheet_name=f'{estimates_version} Data', index=False)\n",
    "    dof_data.reset_index().to_excel(writer, sheet_name=f'DOF Data', index=False)\n",
    "    diff.reset_index().to_excel(writer, sheet_name='Diff', index=False)\n",
    "    pct.reset_index().to_excel(writer, sheet_name='PCT Diff', index=False)\n",
    "\n",
    "    # Save the writer\n",
    "    writer.save()"
   ]
  },
  {
   "cell_type": "code",
   "execution_count": 25,
   "metadata": {},
   "outputs": [],
   "source": [
    "def main(estimates_version):\n",
    "    dof_data = dof_data_pull()\n",
    "    estimates_data = pull_excel_data_and_merge(estimates_version)\n",
    "    diff_file, pct_diff_file = create_output(estimates_data, dof_data, estimates_version)\n",
    "    write_to_excel(estimates_data, dof_data, estimates_version)\n"
   ]
  },
  {
   "cell_type": "code",
   "execution_count": 28,
   "metadata": {},
   "outputs": [],
   "source": [
    "main(estimates_version='2022_01')"
   ]
  }
 ],
 "metadata": {
  "kernelspec": {
   "display_name": "base",
   "language": "python",
   "name": "python3"
  },
  "language_info": {
   "codemirror_mode": {
    "name": "ipython",
    "version": 3
   },
   "file_extension": ".py",
   "mimetype": "text/x-python",
   "name": "python",
   "nbconvert_exporter": "python",
   "pygments_lexer": "ipython3",
   "version": "3.8.8"
  },
  "orig_nbformat": 4
 },
 "nbformat": 4,
 "nbformat_minor": 2
}
