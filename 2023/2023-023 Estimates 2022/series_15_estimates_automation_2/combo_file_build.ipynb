{
 "cells": [
  {
   "cell_type": "code",
   "execution_count": 1,
   "metadata": {},
   "outputs": [],
   "source": [
    "import pandas as pd\n",
    "import os\n",
    "import numpy as np"
   ]
  },
  {
   "attachments": {},
   "cell_type": "markdown",
   "metadata": {},
   "source": [
    "# Find the necessary files"
   ]
  },
  {
   "cell_type": "code",
   "execution_count": 2,
   "metadata": {},
   "outputs": [],
   "source": [
    "def find_files(url, geo_level, category, estimates_version):\n",
    "    path = url.replace(\"\\\\\", \"/\")\n",
    "\n",
    "    if category == 'age':\n",
    "        category = 'age_i'\n",
    "    files_with_words = []\n",
    "    for filename in os.listdir(path):\n",
    "        if geo_level in filename and category in filename and estimates_version in filename:\n",
    "            file_path = os.path.join(path, filename)\n",
    "            files_with_words.append(file_path)\n",
    "\n",
    "    return files_with_words"
   ]
  },
  {
   "attachments": {},
   "cell_type": "markdown",
   "metadata": {},
   "source": [
    "# Create the combo file"
   ]
  },
  {
   "cell_type": "code",
   "execution_count": 3,
   "metadata": {},
   "outputs": [],
   "source": [
    "def create_combo_file(geo_level, estimates_version):\n",
    "    # Housing \n",
    "    housing_file = find_files(url=rf'J:\\DataScience\\DataQuality\\QAQC\\Estimates QC Automation\\v_series15\\individual_files\\{estimates_version}', geo_level=geo_level,category='housing', estimates_version=estimates_version)\n",
    "    housing_df = pd.read_excel(housing_file[0])\n",
    "    housing_df = housing_df.set_index([geo_level, 'yr_id'])\n",
    "\n",
    "    # Population \n",
    "    population_file = find_files(url=rf'J:\\DataScience\\DataQuality\\QAQC\\Estimates QC Automation\\v_series15\\individual_files\\{estimates_version}', geo_level=geo_level,category='population', estimates_version=estimates_version)\n",
    "    population_df = pd.read_excel(population_file[0])\n",
    "    population_df = population_df.set_index([geo_level, 'yr_id'])\n",
    "\n",
    "    # Households\n",
    "    households_file = find_files(url=rf'J:\\DataScience\\DataQuality\\QAQC\\Estimates QC Automation\\v_series15\\individual_files\\{estimates_version}', geo_level=geo_level,category='households', estimates_version=estimates_version)\n",
    "    households_df = pd.read_excel(households_file[0])\n",
    "    households_df = households_df.set_index([geo_level, 'yr_id'])\n",
    "\n",
    "    # Merge Data\n",
    "    merged_df = housing_df.merge(population_df, left_index=True, right_index=True).merge(households_df, left_index=True, right_index=True)\n",
    "\n",
    "    # Add in HHS\n",
    "    merged_df['hhs'] = round(merged_df['Household Population']/merged_df['Total Households'],2)\n",
    "    return merged_df\n"
   ]
  },
  {
   "attachments": {},
   "cell_type": "markdown",
   "metadata": {},
   "source": [
    "# Output the combo file"
   ]
  },
  {
   "cell_type": "code",
   "execution_count": 4,
   "metadata": {},
   "outputs": [],
   "source": [
    "def create_and_output_combo_file(geo_level, estimates_version):\n",
    "    # Create the combo file\n",
    "    combo_file = create_combo_file(geo_level, estimates_version)\n",
    "    combo_file = combo_file.reset_index()\n",
    "\n",
    "    # Output to correct place \n",
    "    combo_file.to_excel(rf\"J:\\DataScience\\DataQuality\\QAQC\\Estimates QC Automation\\v_series15\\combo_files\\{estimates_version}\\{geo_level}_est_{estimates_version}_combo_file_QA.xlsx\", index=False)"
   ]
  },
  {
   "attachments": {},
   "cell_type": "markdown",
   "metadata": {},
   "source": [
    "# Run and create combo files"
   ]
  },
  {
   "cell_type": "code",
   "execution_count": 5,
   "metadata": {},
   "outputs": [
    {
     "name": "stdout",
     "output_type": "stream",
     "text": [
      "census_tract-2022_03 is complete\n",
      "cpa-2022_03 is complete\n",
      "jurisdiction-2022_03 is complete\n",
      "luz-2022_03 is complete\n",
      "mgra-2022_03 is complete\n",
      "region-2022_03 is complete\n",
      "sra-2022_03 is complete\n"
     ]
    }
   ],
   "source": [
    "for geo_level in ['census_tract', 'cpa', 'jurisdiction', 'luz', 'mgra', 'region', 'sra']:\n",
    "    for estimates_version in ['2022_03']:\n",
    "        create_and_output_combo_file(geo_level=geo_level, estimates_version=estimates_version)\n",
    "        print(f\"{geo_level}-{estimates_version} is complete\")"
   ]
  }
 ],
 "metadata": {
  "kernelspec": {
   "display_name": "base",
   "language": "python",
   "name": "python3"
  },
  "language_info": {
   "codemirror_mode": {
    "name": "ipython",
    "version": 3
   },
   "file_extension": ".py",
   "mimetype": "text/x-python",
   "name": "python",
   "nbconvert_exporter": "python",
   "pygments_lexer": "ipython3",
   "version": "3.8.8"
  },
  "orig_nbformat": 4,
  "vscode": {
   "interpreter": {
    "hash": "6db16e9940ad839c1e288012a4d7b04c8c55c67646ae73b178066b197eb654ea"
   }
  }
 },
 "nbformat": 4,
 "nbformat_minor": 2
}
