{
 "cells": [
  {
   "cell_type": "code",
   "execution_count": 4,
   "metadata": {},
   "outputs": [],
   "source": [
    "import pandas as pd\n",
    "import os\n",
    "import numpy as np"
   ]
  },
  {
   "cell_type": "code",
   "execution_count": null,
   "metadata": {},
   "outputs": [],
   "source": [
    "def find_files(url, geo_level, category, estimates_version):\n",
    "    path = url.replace(\"\\\\\", \"/\")\n",
    "\n",
    "    if category == 'age':\n",
    "        category = 'age_i'\n",
    "    files_with_words = []\n",
    "    for filename in os.listdir(path):\n",
    "        if geo_level in filename and category in filename and estimates_version in filename:\n",
    "            file_path = os.path.join(path, filename)\n",
    "            files_with_words.append(file_path)\n",
    "\n",
    "    return files_with_words"
   ]
  },
  {
   "cell_type": "code",
   "execution_count": 9,
   "metadata": {},
   "outputs": [],
   "source": [
    "def find_file(url, geo_level, variable, estimates_version):\n",
    "    path = url.replace(\"\\\\\", \"/\")\n",
    "\n",
    "    if variable == 'age':\n",
    "        variable = 'age_i'\n",
    "    files_with_words = []\n",
    "    for filename in os.listdir(path):\n",
    "        if geo_level in filename and variable in filename and estimates_version in filename:\n",
    "            file_path = os.path.join(path, filename)\n",
    "            files_with_words.append(file_path)\n",
    "\n",
    "    return files_with_words"
   ]
  },
  {
   "cell_type": "code",
   "execution_count": null,
   "metadata": {},
   "outputs": [],
   "source": [
    "def write_to_excel(df_new, df_old, old_estimates_version, new_estimates_version, category, geo_level):\n",
    "    diff = subtract_dataframes(df_new, df_old)\n",
    "    # Create a Pandas Excel writer using xlsxwriter as the engine\n",
    "    writer = pd.ExcelWriter(rf'J:\\DataScience\\DataQuality\\QAQC\\Estimates QC Automation\\v_series15\\diff_files\\{new_estimates_version}\\{geo_level}_{category}_est_{new_estimates_version}_minus_{old_estimates_version}_QA.xlsx', engine='xlsxwriter')\n",
    "\n",
    "    # Write each data frame to a different sheet\n",
    "    df_new.reset_index().to_excel(writer, sheet_name=f'{new_estimates_version} Data', index=False)\n",
    "    df_old.reset_index().to_excel(writer, sheet_name=f'{old_estimates_version} Data', index=False)\n",
    "    diff.reset_index().to_excel(writer, sheet_name='Diff', index=False)\n",
    "\n",
    "    # Save the writer\n",
    "    writer.save()"
   ]
  },
  {
   "cell_type": "code",
   "execution_count": 6,
   "metadata": {},
   "outputs": [],
   "source": [
    "def write_to_excel(mgra_df, census_tract_df, luz_df, cpa_df, sra_df,jurisdiction_df, region_df, estimates_version, variable):\n",
    "    writer = pd.ExcelWriter(rf'J:\\DataScience\\DataQuality\\QAQC\\Estimates QC Automation\\v_series15\\variable_workbooks\\{estimates_version}\\{variable}_{estimates_version}_QA.xlsx', engine='xlsxwriter')\n",
    "\n",
    "    # Write each data frame to a different sheet\n",
    "    mgra_df.to_excel(writer, sheet_name='mgra', index=False)\n",
    "    census_tract_df.to_excel(writer, sheet_name='census_tract', index=False)\n",
    "    luz_df.to_excel(writer, sheet_name='luz', index=False)\n",
    "    cpa_df.to_excel(writer, sheet_name='cpa', index=False)\n",
    "    sra_df.to_excel(writer, sheet_name='sra', index=False)\n",
    "    jurisdiction_df.to_excel(writer, sheet_name='jurisdiction', index=False)\n",
    "    region_df.to_excel(writer, sheet_name='region', index=False)\n",
    "\n",
    "    # Save the writer\n",
    "    writer.save()"
   ]
  },
  {
   "cell_type": "code",
   "execution_count": 11,
   "metadata": {},
   "outputs": [],
   "source": [
    "estimates_version = '2022_03'\n",
    "#variables = ['population']\n",
    "variables = ['age', 'children', 'ethnicity', 'households', 'housing','income', 'sex', 'workers']\n",
    "geo_levels = ['mgra', 'census_tract', 'luz', 'cpa', 'sra', 'jurisdiction', 'region']"
   ]
  },
  {
   "cell_type": "code",
   "execution_count": 12,
   "metadata": {},
   "outputs": [
    {
     "name": "stdout",
     "output_type": "stream",
     "text": [
      "age Done\n",
      "children Done\n",
      "ethnicity Done\n",
      "households Done\n",
      "housing Done\n",
      "income Done\n",
      "sex Done\n",
      "workers Done\n"
     ]
    }
   ],
   "source": [
    "for variable in variables:\n",
    "    mgra_df = pd.read_excel(find_file(url=rf'J:\\DataScience\\DataQuality\\QAQC\\Estimates QC Automation\\v_series15\\individual_files\\{estimates_version}', geo_level='mgra', variable=variable, estimates_version=estimates_version)[0])\n",
    "\n",
    "    census_tract_df = pd.read_excel(find_file(url=rf'J:\\DataScience\\DataQuality\\QAQC\\Estimates QC Automation\\v_series15\\individual_files\\{estimates_version}', geo_level='census_tract', variable=variable, estimates_version=estimates_version)[0])\n",
    "    luz_df = pd.read_excel(find_file(url=rf'J:\\DataScience\\DataQuality\\QAQC\\Estimates QC Automation\\v_series15\\individual_files\\{estimates_version}', geo_level='luz', variable=variable, estimates_version=estimates_version)[0])\n",
    "    cpa_df = pd.read_excel(find_file(url=rf'J:\\DataScience\\DataQuality\\QAQC\\Estimates QC Automation\\v_series15\\individual_files\\{estimates_version}', geo_level='cpa', variable=variable, estimates_version=estimates_version)[0])\n",
    "    sra_df = pd.read_excel(find_file(url=rf'J:\\DataScience\\DataQuality\\QAQC\\Estimates QC Automation\\v_series15\\individual_files\\{estimates_version}', geo_level='sra', variable=variable, estimates_version=estimates_version)[0])\n",
    "    jurisdiction_df = pd.read_excel(find_file(url=rf'J:\\DataScience\\DataQuality\\QAQC\\Estimates QC Automation\\v_series15\\individual_files\\{estimates_version}', geo_level='jurisdiction', variable=variable, estimates_version=estimates_version)[0])\n",
    "    region_df = pd.read_excel(find_file(url=rf'J:\\DataScience\\DataQuality\\QAQC\\Estimates QC Automation\\v_series15\\individual_files\\{estimates_version}', geo_level='region', variable=variable, estimates_version=estimates_version)[0])\n",
    "\n",
    "\n",
    "    write_to_excel(mgra_df, census_tract_df, luz_df, cpa_df, sra_df,jurisdiction_df, region_df, estimates_version, variable)\n",
    "    print(f\"{variable} Done\")\n",
    "\n",
    "\n"
   ]
  },
  {
   "cell_type": "code",
   "execution_count": null,
   "metadata": {},
   "outputs": [],
   "source": []
  }
 ],
 "metadata": {
  "kernelspec": {
   "display_name": "base",
   "language": "python",
   "name": "python3"
  },
  "language_info": {
   "codemirror_mode": {
    "name": "ipython",
    "version": 3
   },
   "file_extension": ".py",
   "mimetype": "text/x-python",
   "name": "python",
   "nbconvert_exporter": "python",
   "pygments_lexer": "ipython3",
   "version": "3.8.8"
  },
  "orig_nbformat": 4
 },
 "nbformat": 4,
 "nbformat_minor": 2
}
