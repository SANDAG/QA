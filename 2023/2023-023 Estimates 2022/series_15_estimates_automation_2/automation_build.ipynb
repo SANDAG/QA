{
 "cells": [
  {
   "cell_type": "code",
   "execution_count": 48,
   "metadata": {},
   "outputs": [],
   "source": [
    "import os \n",
    "import pandas as pd\n",
    "import numpy as np\n",
    "import glob\n",
    "import pyodbc\n",
    "import gc"
   ]
  },
  {
   "cell_type": "code",
   "execution_count": 49,
   "metadata": {},
   "outputs": [],
   "source": [
    "def standard_format_sql_download(sql_file_name, geo_level, estimates_version):\n",
    "    conn = pyodbc.connect('Driver={ODBC Driver 17 for SQL Server};'\n",
    "                    'Server=DDAMWSQL16.sandag.org;'\n",
    "                    'Database=estimates;'\n",
    "                    'Trusted_Connection=yes;')\n",
    "\n",
    "    with open(rf'sql_queries\\{sql_file_name}.sql', 'r') as sql_file:\n",
    "        sql_query = sql_file.read()\n",
    "\n",
    "    sql_query = sql_query.format(geo_level=geo_level, estimates_version=estimates_version)\n",
    "    df =  pd.read_sql_query(sql_query, conn)\n",
    "    df = df.rename(columns={'geo_level':geo_level})\n",
    "    return df"
   ]
  },
  {
   "cell_type": "code",
   "execution_count": 51,
   "metadata": {},
   "outputs": [],
   "source": [
    "def standard_format_pivot(df, geo_level):\n",
    "    output = pd.pivot(df, values='value', index=[geo_level, 'yr_id'], columns=['breakdown_value'])\n",
    "    output.columns.name = ''\n",
    "    output = output.reset_index()\n",
    "    return output"
   ]
  },
  {
   "cell_type": "code",
   "execution_count": 52,
   "metadata": {},
   "outputs": [],
   "source": [
    "def export_to_j_drive(df, geo_level, estimates_version):\n",
    "    df.to_excel(rf'J:\\DataScience\\DataQuality\\QAQC\\estimates_automation\\aggregated_data\\{geo_level}_est_{estimates_version}_ind_QA.xlsx', index=False)"
   ]
  },
  {
   "cell_type": "code",
   "execution_count": 53,
   "metadata": {},
   "outputs": [],
   "source": [
    "def standard_format_output_creation(sql_file_name, geo_level, estimates_version):\n",
    "    sql_output = standard_format_sql_download(sql_file_name=sql_file_name, geo_level=geo_level, estimates_version=estimates_version)\n",
    "    \n",
    "    pivoted_output = standard_format_pivot(df=sql_output, geo_level=geo_level)\n",
    "\n",
    "    export_to_j_drive(df=pivoted_output, geo_level=geo_level, estimates_version=estimates_version)\n",
    "\n",
    "    return pivoted_output"
   ]
  },
  {
   "attachments": {},
   "cell_type": "markdown",
   "metadata": {},
   "source": [
    "# Specific Manipulations"
   ]
  },
  {
   "cell_type": "code",
   "execution_count": 112,
   "metadata": {},
   "outputs": [],
   "source": [
    "def age_manipulations(df, geo_level, estimates_version):\n",
    "    '''This function puts the columns in the correct order'''\n",
    "    return df[[geo_level, 'yr_id', 'Under 5', '5 to 9', '10 to 14', '15 to 17', '18 and 19', '20 to 24', '25 to 29', '30 to 34', '35 to 39', '40 to 44', '45 to 49', '50 to 54', '55 to 59', '60 and 61', '62 to 64', '65 to 69', '70 to 74', '75 to 79', '80 to 84', '85 and Older']]"
   ]
  },
  {
   "cell_type": "code",
   "execution_count": 113,
   "metadata": {},
   "outputs": [],
   "source": [
    "def households_manipulations(df, geo_level, estimates_version):\n",
    "    df['Total Households'] = df.loc[:, ~df.columns.isin([geo_level, 'yr_id'])].sum(axis=1)\n",
    "    return df"
   ]
  },
  {
   "cell_type": "code",
   "execution_count": 128,
   "metadata": {},
   "outputs": [],
   "source": [
    "def housing_manipulations(df, geo_level, estimates_version):\n",
    "    df_to_add = standard_format_sql_download(sql_file_name='housing_p2', geo_level=geo_level, estimates_version=estimates_version)\n",
    "\n",
    "    final = df.merge(df_to_add, how='left', on=[geo_level, 'yr_id'])\n",
    "\n",
    "    return final "
   ]
  },
  {
   "cell_type": "code",
   "execution_count": 143,
   "metadata": {},
   "outputs": [],
   "source": [
    "def income_manipulations(df, geo_level, estimates_version):\n",
    "    '''This function puts the columns in the correct order'''\n",
    "    return df[[geo_level, 'yr_id', 'Less than $15,000', '$15,000 to $29,999', '$30,000 to $44,999', '$45,000 to $59,999', '$60,000 to $74,999', '$75,000 to $99,999', '$100,000 to $124,999', '$125,000 to $149,999', '$150,000 to $199,999', '$200,000 or more']]"
   ]
  },
  {
   "cell_type": "code",
   "execution_count": 152,
   "metadata": {},
   "outputs": [],
   "source": [
    "def population_manipulations(df, geo_level, estimates_version):\n",
    "    df['Total Population'] = df.loc[:, ~df.columns.isin([geo_level, 'yr_id'])].sum(axis=1)\n",
    "    df['Total GQ Population'] = df.loc[:, ~df.columns.isin([geo_level, 'yr_id', 'Household Population', 'Total Population'])].sum(axis=1)\n",
    "    return df"
   ]
  },
  {
   "attachments": {},
   "cell_type": "markdown",
   "metadata": {},
   "source": [
    "# Information Table"
   ]
  },
  {
   "cell_type": "code",
   "execution_count": 167,
   "metadata": {},
   "outputs": [],
   "source": [
    "table_information = {\n",
    "    'age': {\n",
    "            'manipulation_function': age_manipulations\n",
    "    },\n",
    "    'children':{\n",
    "            'manipulation_function': None\n",
    "    },\n",
    "    'ethnicity':{\n",
    "            'manipulation_function': None\n",
    "    },\n",
    "    'households':{\n",
    "            'manipulation_function': households_manipulations\n",
    "    },\n",
    "    'housing':{\n",
    "            'manipulation_function': housing_manipulations\n",
    "    },\n",
    "    'income':{\n",
    "            'manipulation_function': income_manipulations\n",
    "    },\n",
    "    'population':{\n",
    "            'manipulation_function': population_manipulations\n",
    "    },\n",
    "    'sex':{\n",
    "            'manipulation_function': None\n",
    "    },\n",
    "    'workers':{\n",
    "            'manipulation_function': None\n",
    "    }\n",
    "}"
   ]
  },
  {
   "attachments": {},
   "cell_type": "markdown",
   "metadata": {},
   "source": [
    "# Output Function"
   ]
  },
  {
   "cell_type": "code",
   "execution_count": 165,
   "metadata": {},
   "outputs": [],
   "source": [
    "pivot_needed = ['age', 'ethnicity', 'households', 'housing', 'income', 'population', 'sex']"
   ]
  },
  {
   "cell_type": "code",
   "execution_count": 169,
   "metadata": {},
   "outputs": [],
   "source": [
    "def standard_format_output_creation(table_key_name, geo_level, estimates_version):\n",
    "    output = standard_format_sql_download(sql_file_name=table_key_name, geo_level=geo_level, estimates_version=estimates_version)\n",
    "\n",
    "    if table_key_name in pivot_needed:\n",
    "        output = standard_format_pivot(df=output, geo_level=geo_level)\n",
    "\n",
    "    if table_information[table_key_name]['manipulation_function'] != None:\n",
    "        output = table_information[table_key_name]['manipulation_function'](df=output, geo_level=geo_level, estimates_version=estimates_version)\n",
    "\n",
    "    export_to_j_drive(df=output, geo_level=geo_level, estimates_version=estimates_version)\n",
    "\n",
    "    return output"
   ]
  },
  {
   "attachments": {},
   "cell_type": "markdown",
   "metadata": {},
   "source": [
    "# Create Output"
   ]
  },
  {
   "cell_type": "code",
   "execution_count": 170,
   "metadata": {},
   "outputs": [],
   "source": [
    "for table_key_name in table_information.keys():\n",
    "    for geo_level in ['mgra', 'census_tract', 'luz', 'cpa', 'jurisdiction', 'sra', 'region']:\n",
    "        standard_format_output_creation(table_key_name=table_key_name, geo_level=geo_level, estimates_version='2022_01')\n",
    "        print(f\"{table_key_name}-{geo_level} is complete.\")"
   ]
  }
 ],
 "metadata": {
  "kernelspec": {
   "display_name": "base",
   "language": "python",
   "name": "python3"
  },
  "language_info": {
   "codemirror_mode": {
    "name": "ipython",
    "version": 3
   },
   "file_extension": ".py",
   "mimetype": "text/x-python",
   "name": "python",
   "nbconvert_exporter": "python",
   "pygments_lexer": "ipython3",
   "version": "3.8.8"
  },
  "orig_nbformat": 4
 },
 "nbformat": 4,
 "nbformat_minor": 2
}
