{
 "cells": [
  {
   "cell_type": "code",
   "execution_count": 1,
   "metadata": {},
   "outputs": [],
   "source": [
    "import os \n",
    "import pandas as pd\n",
    "import numpy as np\n",
    "import glob\n",
    "import pyodbc\n",
    "import gc"
   ]
  },
  {
   "cell_type": "code",
   "execution_count": 2,
   "metadata": {},
   "outputs": [],
   "source": [
    "def calculate_yoy_pct_change(df, geo_level):\n",
    "    return df.groupby(level=geo_level).apply(lambda x: x.pct_change().iloc[1:] * 100).droplevel(0).round(2)"
   ]
  },
  {
   "cell_type": "code",
   "execution_count": 3,
   "metadata": {},
   "outputs": [],
   "source": [
    "def create_pct_diff_table(df, geo_level):\n",
    "    result = pd.DataFrame()\n",
    "\n",
    "    for ind_geography in list(df.index.levels[0]):\n",
    "        # Manipulate the DF\n",
    "        temp_df = df.loc[ind_geography].reset_index()\n",
    "        temp_df[geo_level] = ind_geography\n",
    "        temp_df = temp_df.set_index([geo_level, 'yr_id'])\n",
    "\n",
    "        # Find percent diff\n",
    "        pct_changes = calculate_yoy_pct_change(df=temp_df, geo_level=geo_level)\n",
    "\n",
    "\n",
    "        result = pd.concat([result, pct_changes], axis=0)\n",
    "    \n",
    "    return result"
   ]
  },
  {
   "cell_type": "code",
   "execution_count": 4,
   "metadata": {},
   "outputs": [],
   "source": [
    "variables = ['age', 'ethnicity', 'households', 'housing', 'income', 'population', 'sex']\n",
    "geo_levels = ['census_tract', 'luz', 'sra', 'cpa', 'jurisdiction', 'region']\n",
    "estimates_version = '2022_03'"
   ]
  },
  {
   "cell_type": "code",
   "execution_count": 5,
   "metadata": {},
   "outputs": [
    {
     "name": "stdout",
     "output_type": "stream",
     "text": [
      "age-census_tract is complete\n",
      "age-luz is complete\n",
      "age-sra is complete\n",
      "age-cpa is complete\n",
      "age-jurisdiction is complete\n",
      "age-region is complete\n",
      "ethnicity-census_tract is complete\n",
      "ethnicity-luz is complete\n",
      "ethnicity-sra is complete\n",
      "ethnicity-cpa is complete\n",
      "ethnicity-jurisdiction is complete\n",
      "ethnicity-region is complete\n",
      "households-census_tract is complete\n",
      "households-luz is complete\n",
      "households-sra is complete\n",
      "households-cpa is complete\n",
      "households-jurisdiction is complete\n",
      "households-region is complete\n",
      "housing-census_tract is complete\n",
      "housing-luz is complete\n",
      "housing-sra is complete\n",
      "housing-cpa is complete\n",
      "housing-jurisdiction is complete\n",
      "housing-region is complete\n",
      "income-census_tract is complete\n",
      "income-luz is complete\n",
      "income-sra is complete\n",
      "income-cpa is complete\n",
      "income-jurisdiction is complete\n",
      "income-region is complete\n",
      "population-census_tract is complete\n",
      "population-luz is complete\n",
      "population-sra is complete\n",
      "population-cpa is complete\n",
      "population-jurisdiction is complete\n",
      "population-region is complete\n",
      "sex-census_tract is complete\n",
      "sex-luz is complete\n",
      "sex-sra is complete\n",
      "sex-cpa is complete\n",
      "sex-jurisdiction is complete\n",
      "sex-region is complete\n"
     ]
    }
   ],
   "source": [
    "for variable in variables:\n",
    "    for geo_level in geo_levels:\n",
    "        # Get DataFrame\n",
    "        df = pd.read_excel(rf'J:\\DataScience\\DataQuality\\QAQC\\Estimates QC Automation\\v_series15\\individual_files\\{estimates_version}\\{geo_level}_est_{estimates_version}_{variable}_ind_QA.xlsx')\n",
    "        df = df.set_index([geo_level, 'yr_id'])\n",
    "\n",
    "        # Create File \n",
    "        output_file = create_pct_diff_table(df=df, geo_level=geo_level)\n",
    "\n",
    "        # Output File \n",
    "        output_file.reset_index().to_excel(rf'J:\\DataScience\\DataQuality\\QAQC\\Estimates QC Automation\\v_series15\\pct_yoy_files\\{estimates_version}\\{geo_level}_est_{estimates_version}_{variable}_yoy_QA.xlsx', index=False)\n",
    "\n",
    "        # Update\n",
    "        print(f\"{variable}-{geo_level} is complete\")"
   ]
  }
 ],
 "metadata": {
  "kernelspec": {
   "display_name": "base",
   "language": "python",
   "name": "python3"
  },
  "language_info": {
   "codemirror_mode": {
    "name": "ipython",
    "version": 3
   },
   "file_extension": ".py",
   "mimetype": "text/x-python",
   "name": "python",
   "nbconvert_exporter": "python",
   "pygments_lexer": "ipython3",
   "version": "3.8.8"
  },
  "orig_nbformat": 4
 },
 "nbformat": 4,
 "nbformat_minor": 2
}
