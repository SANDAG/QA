{
 "cells": [
  {
   "cell_type": "code",
   "execution_count": 10,
   "metadata": {},
   "outputs": [],
   "source": [
    "import pandas as pd\n",
    "import os\n",
    "import numpy as np"
   ]
  },
  {
   "attachments": {},
   "cell_type": "markdown",
   "metadata": {},
   "source": [
    "# Helpful functions"
   ]
  },
  {
   "cell_type": "code",
   "execution_count": 11,
   "metadata": {},
   "outputs": [],
   "source": [
    "def filter_for_our_years(df):\n",
    "    return df[(df['yr_id'] == 2020) | (df['yr_id'] == 2021)]"
   ]
  },
  {
   "attachments": {},
   "cell_type": "markdown",
   "metadata": {},
   "source": [
    "# Diff Function"
   ]
  },
  {
   "cell_type": "code",
   "execution_count": 12,
   "metadata": {},
   "outputs": [],
   "source": [
    "def get_input_data_across_series(category, geo_level, new_estimates_version):\n",
    "    '''This function compares 2021_01 data with any of the series 15 data products.'''\n",
    "    # Old\n",
    "    df_old = pd.read_excel(rf'J:\\DataScience\\DataQuality\\QAQC\\Estimates QC Automation\\v_2021_01\\individual_files\\QA_2021_01_{geo_level}_{category}.xlsx')\n",
    "    df_old = filter_for_our_years(df_old)\n",
    "    if geo_level == 'sra':\n",
    "        df_old['sra'] = df_old['sra'].str.lower()\n",
    "    df_old = df_old.set_index([geo_level, 'yr_id'])\n",
    "    if category == 'age_sex_ethnicity':\n",
    "        df_old = df_old.rename(columns={'name':'age group'})\n",
    "    \n",
    "\n",
    "    # New\n",
    "    df_new = pd.read_excel(rf'J:\\DataScience\\DataQuality\\QAQC\\Estimates QC Automation\\v_series15\\individual_files\\{new_estimates_version}\\{geo_level}_est_{new_estimates_version}_{category}_ind_QA.xlsx')\n",
    "    if geo_level == 'sra':\n",
    "        df_new['sra'] = df_new['sra'].str.lower()\n",
    "    \n",
    "    df_new = filter_for_our_years(df_new)\n",
    "    df_new = df_new.set_index([geo_level, 'yr_id'])\n",
    "    \n",
    "    return df_new, df_old"
   ]
  },
  {
   "cell_type": "code",
   "execution_count": 39,
   "metadata": {},
   "outputs": [],
   "source": [
    "def get_input_data_across_series_ase(category, geo_level, new_estimates_version):\n",
    "    '''This function compares 2021_01 data with any of the series 15 data products.'''\n",
    "    # Old\n",
    "    df_old = pd.read_excel(rf'J:\\DataScience\\DataQuality\\QAQC\\Estimates QC Automation\\v_2021_01\\individual_files\\QA_2021_01_{geo_level}_{category}.xlsx')\n",
    "    df_old = filter_for_our_years(df_old)\n",
    "    df_old = df_old.rename(columns={'age_group':'age group'})\n",
    "    df_old = df_old.rename(columns={'name':'age group'})\n",
    "    \n",
    "\n",
    "    # New\n",
    "    df_new = pd.read_excel(rf'J:\\DataScience\\DataQuality\\QAQC\\Estimates QC Automation\\v_series15\\individual_files\\{new_estimates_version}\\{geo_level}_est_{new_estimates_version}_{category}_ind_QA.xlsx')\n",
    "    \n",
    "    df_new = filter_for_our_years(df_new)\n",
    "    #df_new = df_new.set_index([geo_level, 'yr_id'])\n",
    "    \n",
    "    return df_new, df_old"
   ]
  },
  {
   "cell_type": "code",
   "execution_count": 13,
   "metadata": {},
   "outputs": [],
   "source": [
    "def get_input_data_both_series15(category, geo_level, old_estimates_version, new_estimates_version):\n",
    "    # Old\n",
    "    df_old = pd.read_excel(rf'J:\\DataScience\\DataQuality\\QAQC\\Estimates QC Automation\\v_series15\\individual_files\\{old_estimates_version}\\{geo_level}_est_{old_estimates_version}_{category}_ind_QA.xlsx')\n",
    "    if geo_level == 'sra':\n",
    "        df_old['sra'] = df_old['sra'].str.lower()\n",
    "    df_old = df_old.set_index([geo_level, 'yr_id'])\n",
    "    \n",
    "\n",
    "    # New\n",
    "    df_new = pd.read_excel(rf'J:\\DataScience\\DataQuality\\QAQC\\Estimates QC Automation\\v_series15\\individual_files\\{new_estimates_version}\\{geo_level}_est_{new_estimates_version}_{category}_ind_QA.xlsx')\n",
    "    if geo_level == 'sra':\n",
    "        df_new['sra'] = df_new['sra'].str.lower()\n",
    "    \n",
    "    df_new = df_new.set_index([geo_level, 'yr_id'])\n",
    "    \n",
    "    return df_new, df_old"
   ]
  },
  {
   "cell_type": "code",
   "execution_count": 42,
   "metadata": {},
   "outputs": [],
   "source": [
    "def get_input_data_both_series15_ase(category, geo_level, old_estimates_version, new_estimates_version):\n",
    "    # Old\n",
    "    df_old = pd.read_excel(rf'J:\\DataScience\\DataQuality\\QAQC\\Estimates QC Automation\\v_series15\\individual_files\\{old_estimates_version}\\{geo_level}_est_{old_estimates_version}_{category}_ind_QA.xlsx')\n",
    "\n",
    "    # New\n",
    "    df_new = pd.read_excel(rf'J:\\DataScience\\DataQuality\\QAQC\\Estimates QC Automation\\v_series15\\individual_files\\{new_estimates_version}\\{geo_level}_est_{new_estimates_version}_{category}_ind_QA.xlsx')\n",
    "    \n",
    "    return df_new, df_old"
   ]
  },
  {
   "cell_type": "code",
   "execution_count": 14,
   "metadata": {},
   "outputs": [],
   "source": [
    "# def get_input_data_combo_files_series15(geo_level):\n",
    "#     # 2022_01\n",
    "#     df_2022_01 = pd.read_csv(rf'C:\\Users\\cra\\San Diego Association of Governments\\SANDAG QA QC - Documents\\Projects\\2023\\2023-023 Estimates 2022\\Data\\combo_files\\{geo_level}_housing_population_households_combo_QA.csv')\n",
    "#     df_2022_01 = filter_for_our_years(df_2022_01)\n",
    "#     if geo_level != 'LUZ':\n",
    "#         df_2022_01[geo_level] = df_2022_01[geo_level].str.lower()\n",
    "#     df_2022_01 = df_2022_01.set_index([geo_level, 'yr_id'])\n",
    "#     #print('good')\n",
    "\n",
    "#     # 2021_01 \n",
    "#     if geo_level == 'SRA':\n",
    "#         geo_level = 'sra'\n",
    "#     df_2021_01 = pd.read_csv(rf'C:\\Users\\cra\\San Diego Association of Governments\\SANDAG QA QC - Documents\\Projects\\2023\\2023-023 Estimates 2022\\Results\\Test 5- Vintage Comparison\\2021_01\\combo_files\\2021_01_{geo_level}_housing_population_households_combo_QA.csv')\n",
    "#     #print('good')\n",
    "#     df_2021_01 = filter_for_our_years(df_2021_01)\n",
    "#     #print(df_2021_01.columns)\n",
    "#     if geo_level == 'sra':\n",
    "#         df_2021_01['SRA'] = df_2021_01['sra']\n",
    "#         df_2021_01 = df_2021_01.drop('sra', axis=1)\n",
    "#         geo_level = 'SRA'\n",
    "#         df_2021_01['SRA'] = np.where(df_2021_01['SRA'] == 'harbison-crest', 'harbison crest', df_2021_01['SRA'])\n",
    "#     if geo_level != 'LUZ':\n",
    "#         df_2021_01[geo_level] = df_2021_01[geo_level].str.lower()\n",
    "#     df_2021_01 = df_2021_01.set_index([geo_level, 'yr_id'])\n",
    "    \n",
    "#     return df_2022_01, df_2021_01"
   ]
  },
  {
   "attachments": {},
   "cell_type": "markdown",
   "metadata": {},
   "source": [
    "# Subtraction Function"
   ]
  },
  {
   "cell_type": "code",
   "execution_count": 15,
   "metadata": {},
   "outputs": [],
   "source": [
    "def subtract_dataframes(df1, df2):\n",
    "    # Filter the second data frame to keep only rows with index values in the first data frame\n",
    "    common_index = pd.merge(df1, df2, left_index=True, right_index=True)\n",
    "    df1 = df1.loc[common_index.index]\n",
    "    df2 = df2.loc[common_index.index]\n",
    "    \n",
    "    # Find the common columns between the two data frames\n",
    "    common_cols = list(set(df1.columns) & set(df2.columns))\n",
    "    common_cols = [x for x in df2.columns if x in common_cols]\n",
    "    \n",
    "    # Filter the data frames to keep only the common columns\n",
    "    df1 = df1[common_cols]\n",
    "    df2 = df2[common_cols]\n",
    "    \n",
    "    # Subtract the second data frame from the first\n",
    "    result = df1.subtract(df2)\n",
    "    \n",
    "    return result"
   ]
  },
  {
   "attachments": {},
   "cell_type": "markdown",
   "metadata": {},
   "source": [
    "# Write to excel function"
   ]
  },
  {
   "cell_type": "code",
   "execution_count": 16,
   "metadata": {},
   "outputs": [],
   "source": [
    "def write_to_excel(df_new, df_old, old_estimates_version, new_estimates_version, category, geo_level):\n",
    "    diff = subtract_dataframes(df_new, df_old)\n",
    "    # Create a Pandas Excel writer using xlsxwriter as the engine\n",
    "    writer = pd.ExcelWriter(rf'J:\\DataScience\\DataQuality\\QAQC\\Estimates QC Automation\\v_series15\\diff_files\\{new_estimates_version}\\{geo_level}_{category}_est_{new_estimates_version}_minus_{old_estimates_version}_QA.xlsx', engine='xlsxwriter')\n",
    "\n",
    "    # Write each data frame to a different sheet\n",
    "    df_new.reset_index().to_excel(writer, sheet_name=f'{new_estimates_version} Data', index=False)\n",
    "    df_old.reset_index().to_excel(writer, sheet_name=f'{old_estimates_version} Data', index=False)\n",
    "    diff.reset_index().to_excel(writer, sheet_name='Diff', index=False)\n",
    "\n",
    "    # Save the writer\n",
    "    writer.save()"
   ]
  },
  {
   "cell_type": "code",
   "execution_count": 17,
   "metadata": {},
   "outputs": [],
   "source": [
    "# def write_to_excel_combo_files(df_2022, df_2021, geo_level):\n",
    "#     diff = subtract_dataframes(df_2022, df_2021)\n",
    "#     # Create a Pandas Excel writer using xlsxwriter as the engine\n",
    "#     writer = pd.ExcelWriter(rf'C:\\Users\\cra\\San Diego Association of Governments\\SANDAG QA QC - Documents\\Projects\\2023\\2023-023 Estimates 2022\\Results\\Test 5- Vintage Comparison\\diff_outputs\\combo_files\\{geo_level}_diff_2022_minus_2021.xlsx', engine='xlsxwriter')\n",
    "\n",
    "#     # Write each data frame to a different sheet\n",
    "#     df_2022.reset_index().to_excel(writer, sheet_name='2022_01 Data', index=False)\n",
    "#     df_2021.reset_index().to_excel(writer, sheet_name='2021_01 Data', index=False)\n",
    "#     diff.reset_index().to_excel(writer, sheet_name='Diff', index=False)\n",
    "\n",
    "#     # Save the writer\n",
    "#     writer.save()"
   ]
  },
  {
   "attachments": {},
   "cell_type": "markdown",
   "metadata": {},
   "source": [
    "# Run"
   ]
  },
  {
   "cell_type": "code",
   "execution_count": 18,
   "metadata": {},
   "outputs": [],
   "source": [
    "categories = ['age', 'ethnicity', 'households', 'housing', 'income', 'population', 'sex']\n",
    "#categories = ['age']\n",
    "geo_levels = ['sra', 'cpa', 'jurisdiction', 'region']\n",
    "#geo_levels = ['jurisdiction']"
   ]
  },
  {
   "cell_type": "markdown",
   "metadata": {},
   "source": [
    "## Accross Series Versions"
   ]
  },
  {
   "cell_type": "code",
   "execution_count": 19,
   "metadata": {},
   "outputs": [
    {
     "name": "stdout",
     "output_type": "stream",
     "text": [
      "age-sra is complete\n",
      "age-cpa is complete\n",
      "age-jurisdiction is complete\n",
      "age-region is complete\n",
      "ethnicity-sra is complete\n",
      "ethnicity-cpa is complete\n",
      "ethnicity-jurisdiction is complete\n",
      "ethnicity-region is complete\n",
      "households-sra is complete\n",
      "households-cpa is complete\n",
      "households-jurisdiction is complete\n",
      "households-region is complete\n",
      "housing-sra is complete\n",
      "housing-cpa is complete\n",
      "housing-jurisdiction is complete\n",
      "housing-region is complete\n",
      "income-sra is complete\n",
      "income-cpa is complete\n",
      "income-jurisdiction is complete\n",
      "income-region is complete\n",
      "population-sra is complete\n",
      "population-cpa is complete\n",
      "population-jurisdiction is complete\n",
      "population-region is complete\n",
      "sex-sra is complete\n",
      "sex-cpa is complete\n",
      "sex-jurisdiction is complete\n",
      "sex-region is complete\n"
     ]
    }
   ],
   "source": [
    "for category in categories:\n",
    "    for geo_level in geo_levels:\n",
    "        df_new, df_old = get_input_data_across_series(category=category, geo_level=geo_level, new_estimates_version='2022_02')\n",
    "        write_to_excel(df_new=df_new, df_old=df_old, old_estimates_version='2021_01', new_estimates_version='2022_02', category=category, geo_level=geo_level)\n",
    "        print(f'{category}-{geo_level} is complete')"
   ]
  },
  {
   "cell_type": "code",
   "execution_count": 44,
   "metadata": {},
   "outputs": [
    {
     "name": "stdout",
     "output_type": "stream",
     "text": [
      "age_sex_ethnicity-sra is complete\n"
     ]
    }
   ],
   "source": [
    "for category in ['age_sex_ethnicity']:\n",
    "    for geo_level in ['sra', 'cpa', 'jurisdiction', 'region']: # geo_levels\n",
    "        df_new, df_old = get_input_data_across_series_ase(category=category, geo_level=geo_level, new_estimates_version='2022_02')\n",
    "        df_new = df_new.reset_index().groupby([geo_level, 'yr_id', 'age group', 'sex']).sum()\n",
    "        df_old = df_old.reset_index().groupby([geo_level, 'yr_id', 'age group', 'sex']).sum()\n",
    "        write_to_excel(df_new=df_new, df_old=df_old, old_estimates_version='2021_01', new_estimates_version='2022_02', category=category, geo_level=geo_level)\n",
    "        print(f'{category}-{geo_level} is complete')"
   ]
  },
  {
   "cell_type": "code",
   "execution_count": null,
   "metadata": {},
   "outputs": [
    {
     "name": "stdout",
     "output_type": "stream",
     "text": [
      "age_sex_ethnicity-sra is complete\n"
     ]
    },
    {
     "ename": "KeyboardInterrupt",
     "evalue": "",
     "output_type": "error",
     "traceback": [
      "\u001b[1;31m---------------------------------------------------------------------------\u001b[0m",
      "\u001b[1;31mKeyboardInterrupt\u001b[0m                         Traceback (most recent call last)",
      "\u001b[1;32m~\\AppData\\Local\\Temp\\ipykernel_11088\\1020924540.py\u001b[0m in \u001b[0;36m<cell line: 1>\u001b[1;34m()\u001b[0m\n\u001b[0;32m      4\u001b[0m         \u001b[0mdf_new\u001b[0m \u001b[1;33m=\u001b[0m \u001b[0mdf_new\u001b[0m\u001b[1;33m.\u001b[0m\u001b[0mreset_index\u001b[0m\u001b[1;33m(\u001b[0m\u001b[1;33m)\u001b[0m\u001b[1;33m.\u001b[0m\u001b[0mgroupby\u001b[0m\u001b[1;33m(\u001b[0m\u001b[1;33m[\u001b[0m\u001b[0mgeo_level\u001b[0m\u001b[1;33m,\u001b[0m \u001b[1;34m'yr_id'\u001b[0m\u001b[1;33m,\u001b[0m \u001b[1;34m'age group'\u001b[0m\u001b[1;33m,\u001b[0m \u001b[1;34m'sex'\u001b[0m\u001b[1;33m]\u001b[0m\u001b[1;33m)\u001b[0m\u001b[1;33m.\u001b[0m\u001b[0msum\u001b[0m\u001b[1;33m(\u001b[0m\u001b[1;33m)\u001b[0m\u001b[1;33m\u001b[0m\u001b[1;33m\u001b[0m\u001b[0m\n\u001b[0;32m      5\u001b[0m         \u001b[0mdf_old\u001b[0m \u001b[1;33m=\u001b[0m \u001b[0mdf_old\u001b[0m\u001b[1;33m.\u001b[0m\u001b[0mreset_index\u001b[0m\u001b[1;33m(\u001b[0m\u001b[1;33m)\u001b[0m\u001b[1;33m.\u001b[0m\u001b[0mgroupby\u001b[0m\u001b[1;33m(\u001b[0m\u001b[1;33m[\u001b[0m\u001b[0mgeo_level\u001b[0m\u001b[1;33m,\u001b[0m \u001b[1;34m'yr_id'\u001b[0m\u001b[1;33m,\u001b[0m \u001b[1;34m'age group'\u001b[0m\u001b[1;33m,\u001b[0m \u001b[1;34m'sex'\u001b[0m\u001b[1;33m]\u001b[0m\u001b[1;33m)\u001b[0m\u001b[1;33m.\u001b[0m\u001b[0msum\u001b[0m\u001b[1;33m(\u001b[0m\u001b[1;33m)\u001b[0m\u001b[1;33m\u001b[0m\u001b[1;33m\u001b[0m\u001b[0m\n\u001b[1;32m----> 6\u001b[1;33m         \u001b[0mwrite_to_excel\u001b[0m\u001b[1;33m(\u001b[0m\u001b[0mdf_new\u001b[0m\u001b[1;33m=\u001b[0m\u001b[0mdf_new\u001b[0m\u001b[1;33m,\u001b[0m \u001b[0mdf_old\u001b[0m\u001b[1;33m=\u001b[0m\u001b[0mdf_old\u001b[0m\u001b[1;33m,\u001b[0m \u001b[0mold_estimates_version\u001b[0m\u001b[1;33m=\u001b[0m\u001b[1;34m'2021_01'\u001b[0m\u001b[1;33m,\u001b[0m \u001b[0mnew_estimates_version\u001b[0m\u001b[1;33m=\u001b[0m\u001b[1;34m'2022_02'\u001b[0m\u001b[1;33m,\u001b[0m \u001b[0mcategory\u001b[0m\u001b[1;33m=\u001b[0m\u001b[0mcategory\u001b[0m\u001b[1;33m,\u001b[0m \u001b[0mgeo_level\u001b[0m\u001b[1;33m=\u001b[0m\u001b[0mgeo_level\u001b[0m\u001b[1;33m)\u001b[0m\u001b[1;33m\u001b[0m\u001b[1;33m\u001b[0m\u001b[0m\n\u001b[0m\u001b[0;32m      7\u001b[0m         \u001b[0mprint\u001b[0m\u001b[1;33m(\u001b[0m\u001b[1;34mf'{category}-{geo_level} is complete'\u001b[0m\u001b[1;33m)\u001b[0m\u001b[1;33m\u001b[0m\u001b[1;33m\u001b[0m\u001b[0m\n",
      "\u001b[1;32m~\\AppData\\Local\\Temp\\ipykernel_11088\\1609367183.py\u001b[0m in \u001b[0;36mwrite_to_excel\u001b[1;34m(df_new, df_old, old_estimates_version, new_estimates_version, category, geo_level)\u001b[0m\n\u001b[0;32m      5\u001b[0m \u001b[1;33m\u001b[0m\u001b[0m\n\u001b[0;32m      6\u001b[0m     \u001b[1;31m# Write each data frame to a different sheet\u001b[0m\u001b[1;33m\u001b[0m\u001b[1;33m\u001b[0m\u001b[1;33m\u001b[0m\u001b[0m\n\u001b[1;32m----> 7\u001b[1;33m     \u001b[0mdf_new\u001b[0m\u001b[1;33m.\u001b[0m\u001b[0mreset_index\u001b[0m\u001b[1;33m(\u001b[0m\u001b[1;33m)\u001b[0m\u001b[1;33m.\u001b[0m\u001b[0mto_excel\u001b[0m\u001b[1;33m(\u001b[0m\u001b[0mwriter\u001b[0m\u001b[1;33m,\u001b[0m \u001b[0msheet_name\u001b[0m\u001b[1;33m=\u001b[0m\u001b[1;34mf'{new_estimates_version} Data'\u001b[0m\u001b[1;33m,\u001b[0m \u001b[0mindex\u001b[0m\u001b[1;33m=\u001b[0m\u001b[1;32mFalse\u001b[0m\u001b[1;33m)\u001b[0m\u001b[1;33m\u001b[0m\u001b[1;33m\u001b[0m\u001b[0m\n\u001b[0m\u001b[0;32m      8\u001b[0m     \u001b[0mdf_old\u001b[0m\u001b[1;33m.\u001b[0m\u001b[0mreset_index\u001b[0m\u001b[1;33m(\u001b[0m\u001b[1;33m)\u001b[0m\u001b[1;33m.\u001b[0m\u001b[0mto_excel\u001b[0m\u001b[1;33m(\u001b[0m\u001b[0mwriter\u001b[0m\u001b[1;33m,\u001b[0m \u001b[0msheet_name\u001b[0m\u001b[1;33m=\u001b[0m\u001b[1;34mf'{old_estimates_version} Data'\u001b[0m\u001b[1;33m,\u001b[0m \u001b[0mindex\u001b[0m\u001b[1;33m=\u001b[0m\u001b[1;32mFalse\u001b[0m\u001b[1;33m)\u001b[0m\u001b[1;33m\u001b[0m\u001b[1;33m\u001b[0m\u001b[0m\n\u001b[0;32m      9\u001b[0m     \u001b[0mdiff\u001b[0m\u001b[1;33m.\u001b[0m\u001b[0mreset_index\u001b[0m\u001b[1;33m(\u001b[0m\u001b[1;33m)\u001b[0m\u001b[1;33m.\u001b[0m\u001b[0mto_excel\u001b[0m\u001b[1;33m(\u001b[0m\u001b[0mwriter\u001b[0m\u001b[1;33m,\u001b[0m \u001b[0msheet_name\u001b[0m\u001b[1;33m=\u001b[0m\u001b[1;34m'Diff'\u001b[0m\u001b[1;33m,\u001b[0m \u001b[0mindex\u001b[0m\u001b[1;33m=\u001b[0m\u001b[1;32mFalse\u001b[0m\u001b[1;33m)\u001b[0m\u001b[1;33m\u001b[0m\u001b[1;33m\u001b[0m\u001b[0m\n",
      "\u001b[1;32mc:\\Users\\cra\\Anaconda3\\lib\\site-packages\\pandas\\core\\generic.py\u001b[0m in \u001b[0;36mto_excel\u001b[1;34m(self, excel_writer, sheet_name, na_rep, float_format, columns, header, index, index_label, startrow, startcol, engine, merge_cells, encoding, inf_rep, verbose, freeze_panes, storage_options)\u001b[0m\n\u001b[0;32m   2282\u001b[0m             \u001b[0minf_rep\u001b[0m\u001b[1;33m=\u001b[0m\u001b[0minf_rep\u001b[0m\u001b[1;33m,\u001b[0m\u001b[1;33m\u001b[0m\u001b[1;33m\u001b[0m\u001b[0m\n\u001b[0;32m   2283\u001b[0m         )\n\u001b[1;32m-> 2284\u001b[1;33m         formatter.write(\n\u001b[0m\u001b[0;32m   2285\u001b[0m             \u001b[0mexcel_writer\u001b[0m\u001b[1;33m,\u001b[0m\u001b[1;33m\u001b[0m\u001b[1;33m\u001b[0m\u001b[0m\n\u001b[0;32m   2286\u001b[0m             \u001b[0msheet_name\u001b[0m\u001b[1;33m=\u001b[0m\u001b[0msheet_name\u001b[0m\u001b[1;33m,\u001b[0m\u001b[1;33m\u001b[0m\u001b[1;33m\u001b[0m\u001b[0m\n",
      "\u001b[1;32mc:\\Users\\cra\\Anaconda3\\lib\\site-packages\\pandas\\io\\formats\\excel.py\u001b[0m in \u001b[0;36mwrite\u001b[1;34m(self, writer, sheet_name, startrow, startcol, freeze_panes, engine, storage_options)\u001b[0m\n\u001b[0;32m    838\u001b[0m \u001b[1;33m\u001b[0m\u001b[0m\n\u001b[0;32m    839\u001b[0m         \u001b[1;32mtry\u001b[0m\u001b[1;33m:\u001b[0m\u001b[1;33m\u001b[0m\u001b[1;33m\u001b[0m\u001b[0m\n\u001b[1;32m--> 840\u001b[1;33m             writer.write_cells(\n\u001b[0m\u001b[0;32m    841\u001b[0m                 \u001b[0mformatted_cells\u001b[0m\u001b[1;33m,\u001b[0m\u001b[1;33m\u001b[0m\u001b[1;33m\u001b[0m\u001b[0m\n\u001b[0;32m    842\u001b[0m                 \u001b[0msheet_name\u001b[0m\u001b[1;33m,\u001b[0m\u001b[1;33m\u001b[0m\u001b[1;33m\u001b[0m\u001b[0m\n",
      "\u001b[1;32mc:\\Users\\cra\\Anaconda3\\lib\\site-packages\\pandas\\io\\excel\\_xlsxwriter.py\u001b[0m in \u001b[0;36mwrite_cells\u001b[1;34m(self, cells, sheet_name, startrow, startcol, freeze_panes)\u001b[0m\n\u001b[0;32m    229\u001b[0m \u001b[1;33m\u001b[0m\u001b[0m\n\u001b[0;32m    230\u001b[0m             \u001b[0mstylekey\u001b[0m \u001b[1;33m=\u001b[0m \u001b[0mjson\u001b[0m\u001b[1;33m.\u001b[0m\u001b[0mdumps\u001b[0m\u001b[1;33m(\u001b[0m\u001b[0mcell\u001b[0m\u001b[1;33m.\u001b[0m\u001b[0mstyle\u001b[0m\u001b[1;33m)\u001b[0m\u001b[1;33m\u001b[0m\u001b[1;33m\u001b[0m\u001b[0m\n\u001b[1;32m--> 231\u001b[1;33m             \u001b[1;32mif\u001b[0m \u001b[0mfmt\u001b[0m\u001b[1;33m:\u001b[0m\u001b[1;33m\u001b[0m\u001b[1;33m\u001b[0m\u001b[0m\n\u001b[0m\u001b[0;32m    232\u001b[0m                 \u001b[0mstylekey\u001b[0m \u001b[1;33m+=\u001b[0m \u001b[0mfmt\u001b[0m\u001b[1;33m\u001b[0m\u001b[1;33m\u001b[0m\u001b[0m\n\u001b[0;32m    233\u001b[0m \u001b[1;33m\u001b[0m\u001b[0m\n",
      "\u001b[1;31mKeyboardInterrupt\u001b[0m: "
     ]
    }
   ],
   "source": [
    "for category in ['age_sex_ethnicity']:\n",
    "    for geo_level in ['sra', 'cpa', 'jurisdiction', 'region']: # geo_levels\n",
    "        df_new, df_old = get_input_data_both_series15_ase(category=category, geo_level=geo_level, old_estimates_version='2022_01', new_estimates_version='2022_02')\n",
    "        df_new = df_new.reset_index().groupby([geo_level, 'yr_id', 'age group', 'sex']).sum()\n",
    "        df_old = df_old.reset_index().groupby([geo_level, 'yr_id', 'age group', 'sex']).sum()\n",
    "        write_to_excel(df_new=df_new, df_old=df_old, old_estimates_version='2022_01', new_estimates_version='2022_02', category=category, geo_level=geo_level)\n",
    "        print(f'{category}-{geo_level} is complete')"
   ]
  },
  {
   "attachments": {},
   "cell_type": "markdown",
   "metadata": {},
   "source": [
    "## For Series 15 Data"
   ]
  },
  {
   "cell_type": "code",
   "execution_count": 21,
   "metadata": {},
   "outputs": [],
   "source": [
    "# df_new = pd.read_excel(rf'J:\\DataScience\\DataQuality\\QAQC\\Estimates QC Automation\\v_series15\\individual_files\\2022_02\\cpa_est_2022_02_housing_ind_QA.xlsx')\n",
    "# df_new"
   ]
  },
  {
   "cell_type": "code",
   "execution_count": 20,
   "metadata": {},
   "outputs": [
    {
     "name": "stdout",
     "output_type": "stream",
     "text": [
      "age-sra is complete\n",
      "age-cpa is complete\n",
      "age-jurisdiction is complete\n",
      "age-region is complete\n",
      "ethnicity-sra is complete\n",
      "ethnicity-cpa is complete\n",
      "ethnicity-jurisdiction is complete\n",
      "ethnicity-region is complete\n",
      "households-sra is complete\n",
      "households-cpa is complete\n",
      "households-jurisdiction is complete\n",
      "households-region is complete\n",
      "housing-sra is complete\n",
      "housing-cpa is complete\n",
      "housing-jurisdiction is complete\n",
      "housing-region is complete\n",
      "income-sra is complete\n",
      "income-cpa is complete\n",
      "income-jurisdiction is complete\n",
      "income-region is complete\n",
      "population-sra is complete\n",
      "population-cpa is complete\n",
      "population-jurisdiction is complete\n",
      "population-region is complete\n",
      "sex-sra is complete\n",
      "sex-cpa is complete\n",
      "sex-jurisdiction is complete\n",
      "sex-region is complete\n"
     ]
    }
   ],
   "source": [
    "for category in categories:\n",
    "    for geo_level in geo_levels:\n",
    "        df_new, df_old = get_input_data_both_series15(category=category, geo_level=geo_level, old_estimates_version='2022_01', new_estimates_version='2022_02')\n",
    "        write_to_excel(df_new=df_new, df_old=df_old, old_estimates_version='2022_01', new_estimates_version='2022_02', category=category, geo_level=geo_level)\n",
    "        print(f'{category}-{geo_level} is complete')"
   ]
  },
  {
   "cell_type": "code",
   "execution_count": null,
   "metadata": {},
   "outputs": [],
   "source": []
  },
  {
   "attachments": {},
   "cell_type": "markdown",
   "metadata": {},
   "source": [
    "# Age Sex Ethnicity"
   ]
  },
  {
   "cell_type": "code",
   "execution_count": 9,
   "metadata": {},
   "outputs": [
    {
     "name": "stdout",
     "output_type": "stream",
     "text": [
      "SRA-is complete\n"
     ]
    }
   ],
   "source": [
    "category = 'age_sex_ethnicity'\n",
    "for geo_level in ['census_tract']:#geo_levels:\n",
    "    df_2022_01, df_2021_01 = get_input_data(category=category, geo_level=geo_level)\n",
    "    df_2022_01 = df_2022_01.reset_index().groupby([geo_level, 'yr_id', 'age group', 'sex']).sum()\n",
    "    df_2021_01 = df_2021_01.reset_index().groupby([geo_level, 'yr_id', 'age group', 'sex']).sum()\n",
    "    write_to_excel(df_2022_01, df_2021_01, category = category, geo_level = geo_level)\n",
    "    print(f'{geo_level}-is complete')"
   ]
  },
  {
   "cell_type": "code",
   "execution_count": 125,
   "metadata": {},
   "outputs": [],
   "source": [
    "df_2021_01 = df_2021_01.reset_index().groupby([geo_level, 'yr_id', 'age_group', 'sex']).sum()"
   ]
  },
  {
   "cell_type": "code",
   "execution_count": 126,
   "metadata": {},
   "outputs": [],
   "source": [
    "write_to_excel(df_2022_01, df_2021_01, category = category, geo_level = geo_level)"
   ]
  },
  {
   "cell_type": "code",
   "execution_count": null,
   "metadata": {},
   "outputs": [],
   "source": [
    "# Add name and sex in the groupby in data input"
   ]
  },
  {
   "cell_type": "markdown",
   "metadata": {},
   "source": []
  }
 ],
 "metadata": {
  "kernelspec": {
   "display_name": "base",
   "language": "python",
   "name": "python3"
  },
  "language_info": {
   "codemirror_mode": {
    "name": "ipython",
    "version": 3
   },
   "file_extension": ".py",
   "mimetype": "text/x-python",
   "name": "python",
   "nbconvert_exporter": "python",
   "pygments_lexer": "ipython3",
   "version": "3.8.8"
  },
  "orig_nbformat": 4,
  "vscode": {
   "interpreter": {
    "hash": "6db16e9940ad839c1e288012a4d7b04c8c55c67646ae73b178066b197eb654ea"
   }
  }
 },
 "nbformat": 4,
 "nbformat_minor": 2
}
