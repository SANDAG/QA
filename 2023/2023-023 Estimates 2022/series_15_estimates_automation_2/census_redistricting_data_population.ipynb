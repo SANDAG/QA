{
 "cells": [
  {
   "cell_type": "code",
   "execution_count": 10,
   "metadata": {},
   "outputs": [],
   "source": [
    "import os \n",
    "import pandas as pd\n",
    "import numpy as np\n",
    "import glob\n",
    "import pyodbc\n",
    "import gc"
   ]
  },
  {
   "attachments": {},
   "cell_type": "markdown",
   "metadata": {},
   "source": [
    "# Download PL94 Data"
   ]
  },
  {
   "cell_type": "code",
   "execution_count": 11,
   "metadata": {},
   "outputs": [],
   "source": [
    "def download_pl94_housing_data():\n",
    "    conn = pyodbc.connect('Driver={ODBC Driver 17 for SQL Server};'\n",
    "                    'Server=DDAMWSQL16.sandag.org;'\n",
    "                    'Database=estimates;'\n",
    "                    'Trusted_Connection=yes;')\n",
    "\n",
    "    with open(r'sql_queries\\ct_population.sql', 'r') as sql_file:\n",
    "        sql_query = sql_file.read()\n",
    "\n",
    "    df = pd.read_sql_query(sql_query, conn)\n",
    "    df = df.set_index('census_tract')\n",
    "\n",
    "    return df"
   ]
  },
  {
   "attachments": {},
   "cell_type": "markdown",
   "metadata": {},
   "source": [
    "# Download Internal Data"
   ]
  },
  {
   "cell_type": "code",
   "execution_count": 12,
   "metadata": {},
   "outputs": [],
   "source": [
    "def download_internal_housing_data(estimates_version):\n",
    "    df = pd.read_excel(rf'J:\\DataScience\\DataQuality\\QAQC\\Estimates QC Automation\\v_series15\\individual_files\\{estimates_version}\\census_tract_est_{estimates_version}_ethnicity_ind_QA.xlsx')\n",
    "    df = df[df['yr_id'] == 2020]\n",
    "    df = df.drop('yr_id', axis=1)\n",
    "    df = df.set_index('census_tract')\n",
    "    return df"
   ]
  },
  {
   "attachments": {},
   "cell_type": "markdown",
   "metadata": {},
   "source": [
    "# Create Diff"
   ]
  },
  {
   "cell_type": "code",
   "execution_count": 13,
   "metadata": {},
   "outputs": [],
   "source": [
    "def create_diff(pl94_data, ind_file):\n",
    "    pl94_data = pl94_data.loc[ind_file.index]\n",
    "    \n",
    "    return ind_file - pl94_data"
   ]
  },
  {
   "attachments": {},
   "cell_type": "markdown",
   "metadata": {},
   "source": [
    "# Push To Excel"
   ]
  },
  {
   "cell_type": "code",
   "execution_count": 14,
   "metadata": {},
   "outputs": [],
   "source": [
    "def push_to_excel_census_tract_level(pl94_data, ind_file, diff, estimates_version):\n",
    "    writer = pd.ExcelWriter(rf'J:\\DataScience\\DataQuality\\QAQC\\Estimates QC Automation\\v_series15\\pl94_diff_files\\{estimates_version}\\census_tract_est_{estimates_version}_minus_pl94_data_ethnicity_QA.xlsx', engine='xlsxwriter')\n",
    "    #writer = pd.ExcelWriter('census_tract_diff_2022_01_est_minus_census_redistricting.xlsx')\n",
    "\n",
    "    # Write each data frame to a different sheet\n",
    "    pl94_data.loc[ind_file.index].reset_index().to_excel(writer, sheet_name=f'{estimates_version} Data', index=False)\n",
    "    ind_file.reset_index().to_excel(writer, sheet_name='Census Redistricting Data', index=False)\n",
    "    diff.reset_index().to_excel(writer, sheet_name='Diff', index=False)\n",
    "\n",
    "    writer.save()"
   ]
  },
  {
   "cell_type": "code",
   "execution_count": 15,
   "metadata": {},
   "outputs": [],
   "source": [
    "def push_to_excel_region_level(pl94_data, ind_file, diff, estimates_version):\n",
    "    writer = pd.ExcelWriter(rf'J:\\DataScience\\DataQuality\\QAQC\\Estimates QC Automation\\v_series15\\pl94_diff_files\\{estimates_version}\\region_est_{estimates_version}_minus_pl94_data_ethnicity_QA.xlsx', engine='xlsxwriter')\n",
    "\n",
    "    # Write each data frame to a different sheet\n",
    "    pd.DataFrame(pl94_data.loc[ind_file.index].reset_index(drop=True).sum(axis=0)).T.reset_index().to_excel(writer, sheet_name=f'{estimates_version} Data', index=False)\n",
    "    pd.DataFrame(ind_file.reset_index(drop=True).sum(axis=0)).T.reset_index().to_excel(writer, sheet_name='Census Redistricting Data', index=False)\n",
    "    pd.DataFrame(diff.reset_index(drop=True).sum(axis=0)).T.reset_index().to_excel(writer, sheet_name='Diff', index=False)\n",
    "\n",
    "    writer.save()"
   ]
  },
  {
   "attachments": {},
   "cell_type": "markdown",
   "metadata": {},
   "source": [
    "# Main Function"
   ]
  },
  {
   "cell_type": "code",
   "execution_count": 16,
   "metadata": {},
   "outputs": [],
   "source": [
    "def create_ethnicity_pl94_ouptput(estimates_version):\n",
    "    pl94_data = download_pl94_housing_data()\n",
    "    ind_file = download_internal_housing_data(estimates_version)\n",
    "    diff = create_diff(pl94_data, ind_file)\n",
    "\n",
    "    in_cr_not_in_est = [x for x in list(pl94_data.index) if x not in list(ind_file.index)]\n",
    "    print(f\"The following CT are in census redistricting but not in estimates: {in_cr_not_in_est}\")\n",
    "\n",
    "    in_est_not_in_cr = [x for x in list(ind_file.index) if x not in list(pl94_data.index)]\n",
    "    print(f\"The following CT are in estimamtes but not in census redistricting: {in_est_not_in_cr}\")\n",
    "\n",
    "    push_to_excel_census_tract_level(pl94_data, ind_file, diff, estimates_version)\n",
    "\n",
    "    push_to_excel_region_level(pl94_data, ind_file, diff, estimates_version)\n",
    "\n",
    "    print('Outputs Completed')"
   ]
  },
  {
   "cell_type": "markdown",
   "metadata": {},
   "source": [
    "# Run"
   ]
  },
  {
   "cell_type": "code",
   "execution_count": 17,
   "metadata": {},
   "outputs": [
    {
     "name": "stdout",
     "output_type": "stream",
     "text": [
      "The following CT are in census redistricting but not in estimates: [990100.0]\n",
      "The following CT are in estimamtes but not in census redistricting: []\n",
      "Outputs Completed\n"
     ]
    }
   ],
   "source": [
    "create_ethnicity_pl94_ouptput(estimates_version='2022_01')"
   ]
  }
 ],
 "metadata": {
  "kernelspec": {
   "display_name": "base",
   "language": "python",
   "name": "python3"
  },
  "language_info": {
   "codemirror_mode": {
    "name": "ipython",
    "version": 3
   },
   "file_extension": ".py",
   "mimetype": "text/x-python",
   "name": "python",
   "nbconvert_exporter": "python",
   "pygments_lexer": "ipython3",
   "version": "3.8.8"
  },
  "orig_nbformat": 4
 },
 "nbformat": 4,
 "nbformat_minor": 2
}
