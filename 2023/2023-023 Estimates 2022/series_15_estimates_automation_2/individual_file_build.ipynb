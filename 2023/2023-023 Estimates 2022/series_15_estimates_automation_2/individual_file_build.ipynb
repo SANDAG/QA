{
 "cells": [
  {
   "cell_type": "code",
   "execution_count": 1,
   "metadata": {},
   "outputs": [],
   "source": [
    "import os\n",
    "import pandas as pd\n",
    "import numpy as np\n",
    "import pyodbc"
   ]
  },
  {
   "attachments": {},
   "cell_type": "markdown",
   "metadata": {},
   "source": [
    "# Data Pull Functions"
   ]
  },
  {
   "cell_type": "code",
   "execution_count": 2,
   "metadata": {},
   "outputs": [],
   "source": [
    "def standard_format_sql_download(sql_file_name, geo_level, estimates_version):\n",
    "    conn = pyodbc.connect('Driver={ODBC Driver 17 for SQL Server};'\n",
    "                    'Server=DDAMWSQL16.sandag.org;'\n",
    "                    'Database=estimates;'\n",
    "                    'Trusted_Connection=yes;')\n",
    "\n",
    "    with open(rf'sql_queries\\{sql_file_name}.sql', 'r') as sql_file:\n",
    "        sql_query = sql_file.read()\n",
    "\n",
    "    sql_query = sql_query.format(geo_level=geo_level, estimates_version=estimates_version)\n",
    "    df =  pd.read_sql_query(sql_query, conn)\n",
    "    df = df.rename(columns={'geo_level':geo_level})\n",
    "    return df"
   ]
  },
  {
   "cell_type": "code",
   "execution_count": 3,
   "metadata": {},
   "outputs": [],
   "source": [
    "def standard_format_pivot(df, geo_level):\n",
    "    output = pd.pivot(df, values='value', index=[geo_level, 'yr_id'], columns=['breakdown_value'])\n",
    "    output.columns.name = ''\n",
    "    output = output.reset_index()\n",
    "    return output"
   ]
  },
  {
   "cell_type": "code",
   "execution_count": 4,
   "metadata": {},
   "outputs": [],
   "source": [
    "def export_to_j_drive(df, geo_level, estimates_version, sql_file_name):\n",
    "    df.to_excel(rf'J:\\DataScience\\DataQuality\\QAQC\\Estimates QC Automation\\v_series15\\individual_files\\{estimates_version}\\{geo_level}_est_{estimates_version}_{sql_file_name}_ind_QA.xlsx', index=False)"
   ]
  },
  {
   "cell_type": "code",
   "execution_count": 5,
   "metadata": {},
   "outputs": [],
   "source": [
    "def standard_format_output_creation(sql_file_name, geo_level, estimates_version):\n",
    "    sql_output = standard_format_sql_download(sql_file_name=sql_file_name, geo_level=geo_level, estimates_version=estimates_version)\n",
    "    \n",
    "    pivoted_output = standard_format_pivot(df=sql_output, geo_level=geo_level)\n",
    "\n",
    "    export_to_j_drive(df=pivoted_output, geo_level=geo_level, estimates_version=estimates_version)\n",
    "\n",
    "    return pivoted_output"
   ]
  },
  {
   "attachments": {},
   "cell_type": "markdown",
   "metadata": {},
   "source": [
    "# Specific Manipulations"
   ]
  },
  {
   "cell_type": "code",
   "execution_count": 6,
   "metadata": {},
   "outputs": [],
   "source": [
    "def age_manipulations(df, geo_level, estimates_version):\n",
    "    '''This function puts the columns in the correct order'''\n",
    "    return df[[geo_level, 'yr_id', 'Under 5', '5 to 9', '10 to 14', '15 to 17', '18 and 19', '20 to 24', '25 to 29', '30 to 34', '35 to 39', '40 to 44', '45 to 49', '50 to 54', '55 to 59', '60 and 61', '62 to 64', '65 to 69', '70 to 74', '75 to 79', '80 to 84', '85 and Older']]"
   ]
  },
  {
   "cell_type": "code",
   "execution_count": 7,
   "metadata": {},
   "outputs": [],
   "source": [
    "def households_manipulations(df, geo_level, estimates_version):\n",
    "    df['Total Households'] = df.loc[:, ~df.columns.isin([geo_level, 'yr_id'])].sum(axis=1)\n",
    "    return df"
   ]
  },
  {
   "cell_type": "code",
   "execution_count": 8,
   "metadata": {},
   "outputs": [],
   "source": [
    "def housing_manipulations(df, geo_level, estimates_version):\n",
    "    df_to_add = standard_format_sql_download(sql_file_name='housing_p2', geo_level=geo_level, estimates_version=estimates_version)\n",
    "\n",
    "    final = df.merge(df_to_add, how='left', on=[geo_level, 'yr_id'])\n",
    "\n",
    "    return final "
   ]
  },
  {
   "cell_type": "code",
   "execution_count": 9,
   "metadata": {},
   "outputs": [],
   "source": [
    "def income_manipulations(df, geo_level, estimates_version):\n",
    "    '''This function puts the columns in the correct order'''\n",
    "    return df[[geo_level, 'yr_id', 'Less than $15,000', '$15,000 to $29,999', '$30,000 to $44,999', '$45,000 to $59,999', '$60,000 to $74,999', '$75,000 to $99,999', '$100,000 to $124,999', '$125,000 to $149,999', '$150,000 to $199,999', '$200,000 or more']]"
   ]
  },
  {
   "cell_type": "code",
   "execution_count": 10,
   "metadata": {},
   "outputs": [],
   "source": [
    "def population_manipulations(df, geo_level, estimates_version):\n",
    "    df['Total Population'] = df.loc[:, ~df.columns.isin([geo_level, 'yr_id'])].sum(axis=1)\n",
    "    df['Total GQ Population'] = df.loc[:, ~df.columns.isin([geo_level, 'yr_id', 'Household Population', 'Total Population'])].sum(axis=1)\n",
    "    return df"
   ]
  },
  {
   "attachments": {},
   "cell_type": "markdown",
   "metadata": {},
   "source": [
    "# Information Table"
   ]
  },
  {
   "cell_type": "code",
   "execution_count": 11,
   "metadata": {},
   "outputs": [],
   "source": [
    "table_information = {\n",
    "    'age': {\n",
    "            'manipulation_function': age_manipulations\n",
    "    },\n",
    "    'children':{\n",
    "            'manipulation_function': None\n",
    "    },\n",
    "    'ethnicity':{\n",
    "            'manipulation_function': None\n",
    "    },\n",
    "    'households':{\n",
    "            'manipulation_function': households_manipulations\n",
    "    },\n",
    "    'housing':{\n",
    "            'manipulation_function': housing_manipulations\n",
    "    },\n",
    "    'income':{\n",
    "            'manipulation_function': income_manipulations\n",
    "    },\n",
    "    'population':{\n",
    "            'manipulation_function': population_manipulations\n",
    "    },\n",
    "    'sex':{\n",
    "            'manipulation_function': None\n",
    "    },\n",
    "    'workers':{\n",
    "            'manipulation_function': None\n",
    "    }\n",
    "}"
   ]
  },
  {
   "attachments": {},
   "cell_type": "markdown",
   "metadata": {},
   "source": [
    "# Output Function"
   ]
  },
  {
   "cell_type": "code",
   "execution_count": 12,
   "metadata": {},
   "outputs": [],
   "source": [
    "pivot_needed = ['age', 'ethnicity', 'households', 'housing', 'income', 'population', 'sex']"
   ]
  },
  {
   "cell_type": "code",
   "execution_count": 13,
   "metadata": {},
   "outputs": [],
   "source": [
    "def standard_format_output_creation(table_key_name, geo_level, estimates_version):\n",
    "    output = standard_format_sql_download(sql_file_name=table_key_name, geo_level=geo_level, estimates_version=estimates_version)\n",
    "\n",
    "    if table_key_name in pivot_needed:\n",
    "        output = standard_format_pivot(df=output, geo_level=geo_level)\n",
    "\n",
    "    if table_information[table_key_name]['manipulation_function'] != None:\n",
    "        output = table_information[table_key_name]['manipulation_function'](df=output, geo_level=geo_level, estimates_version=estimates_version)\n",
    "\n",
    "    export_to_j_drive(df=output, geo_level=geo_level, estimates_version=estimates_version, sql_file_name=table_key_name)\n",
    "\n",
    "    return output"
   ]
  },
  {
   "attachments": {},
   "cell_type": "markdown",
   "metadata": {},
   "source": [
    "# Create Output"
   ]
  },
  {
   "cell_type": "code",
   "execution_count": 14,
   "metadata": {},
   "outputs": [
    {
     "name": "stdout",
     "output_type": "stream",
     "text": [
      "age-mgra is complete.\n",
      "age-census_tract is complete.\n",
      "age-luz is complete.\n",
      "age-cpa is complete.\n",
      "age-jurisdiction is complete.\n",
      "age-sra is complete.\n",
      "age-region is complete.\n",
      "children-mgra is complete.\n",
      "children-census_tract is complete.\n",
      "children-luz is complete.\n",
      "children-cpa is complete.\n",
      "children-jurisdiction is complete.\n",
      "children-sra is complete.\n",
      "children-region is complete.\n",
      "ethnicity-mgra is complete.\n",
      "ethnicity-census_tract is complete.\n",
      "ethnicity-luz is complete.\n",
      "ethnicity-cpa is complete.\n",
      "ethnicity-jurisdiction is complete.\n",
      "ethnicity-sra is complete.\n",
      "ethnicity-region is complete.\n",
      "households-mgra is complete.\n",
      "households-census_tract is complete.\n",
      "households-luz is complete.\n",
      "households-cpa is complete.\n",
      "households-jurisdiction is complete.\n",
      "households-sra is complete.\n",
      "households-region is complete.\n",
      "housing-mgra is complete.\n",
      "housing-census_tract is complete.\n",
      "housing-luz is complete.\n",
      "housing-cpa is complete.\n",
      "housing-jurisdiction is complete.\n",
      "housing-sra is complete.\n",
      "housing-region is complete.\n"
     ]
    },
    {
     "ename": "KeyError",
     "evalue": "\"['Less than $15,000', '$15,000 to $29,999', '$30,000 to $44,999', '$45,000 to $59,999', '$60,000 to $74,999', '$75,000 to $99,999', '$100,000 to $124,999', '$125,000 to $149,999', '$150,000 to $199,999', '$200,000 or more'] not in index\"",
     "output_type": "error",
     "traceback": [
      "\u001b[1;31m---------------------------------------------------------------------------\u001b[0m",
      "\u001b[1;31mKeyError\u001b[0m                                  Traceback (most recent call last)",
      "\u001b[1;32m~\\AppData\\Local\\Temp\\ipykernel_11436\\2353013248.py\u001b[0m in \u001b[0;36m<cell line: 1>\u001b[1;34m()\u001b[0m\n\u001b[0;32m      1\u001b[0m \u001b[1;32mfor\u001b[0m \u001b[0mtable_key_name\u001b[0m \u001b[1;32min\u001b[0m \u001b[0mtable_information\u001b[0m\u001b[1;33m.\u001b[0m\u001b[0mkeys\u001b[0m\u001b[1;33m(\u001b[0m\u001b[1;33m)\u001b[0m\u001b[1;33m:\u001b[0m\u001b[1;33m\u001b[0m\u001b[1;33m\u001b[0m\u001b[0m\n\u001b[0;32m      2\u001b[0m     \u001b[1;32mfor\u001b[0m \u001b[0mgeo_level\u001b[0m \u001b[1;32min\u001b[0m \u001b[1;33m[\u001b[0m\u001b[1;34m'mgra'\u001b[0m\u001b[1;33m,\u001b[0m \u001b[1;34m'census_tract'\u001b[0m\u001b[1;33m,\u001b[0m \u001b[1;34m'luz'\u001b[0m\u001b[1;33m,\u001b[0m \u001b[1;34m'cpa'\u001b[0m\u001b[1;33m,\u001b[0m \u001b[1;34m'jurisdiction'\u001b[0m\u001b[1;33m,\u001b[0m \u001b[1;34m'sra'\u001b[0m\u001b[1;33m,\u001b[0m \u001b[1;34m'region'\u001b[0m\u001b[1;33m]\u001b[0m\u001b[1;33m:\u001b[0m\u001b[1;33m\u001b[0m\u001b[1;33m\u001b[0m\u001b[0m\n\u001b[1;32m----> 3\u001b[1;33m         \u001b[0mstandard_format_output_creation\u001b[0m\u001b[1;33m(\u001b[0m\u001b[0mtable_key_name\u001b[0m\u001b[1;33m=\u001b[0m\u001b[0mtable_key_name\u001b[0m\u001b[1;33m,\u001b[0m \u001b[0mgeo_level\u001b[0m\u001b[1;33m=\u001b[0m\u001b[0mgeo_level\u001b[0m\u001b[1;33m,\u001b[0m \u001b[0mestimates_version\u001b[0m\u001b[1;33m=\u001b[0m\u001b[1;34m'2022_04'\u001b[0m\u001b[1;33m)\u001b[0m\u001b[1;33m\u001b[0m\u001b[1;33m\u001b[0m\u001b[0m\n\u001b[0m\u001b[0;32m      4\u001b[0m         \u001b[0mprint\u001b[0m\u001b[1;33m(\u001b[0m\u001b[1;34mf\"{table_key_name}-{geo_level} is complete.\"\u001b[0m\u001b[1;33m)\u001b[0m\u001b[1;33m\u001b[0m\u001b[1;33m\u001b[0m\u001b[0m\n",
      "\u001b[1;32m~\\AppData\\Local\\Temp\\ipykernel_11436\\2795339060.py\u001b[0m in \u001b[0;36mstandard_format_output_creation\u001b[1;34m(table_key_name, geo_level, estimates_version)\u001b[0m\n\u001b[0;32m      6\u001b[0m \u001b[1;33m\u001b[0m\u001b[0m\n\u001b[0;32m      7\u001b[0m     \u001b[1;32mif\u001b[0m \u001b[0mtable_information\u001b[0m\u001b[1;33m[\u001b[0m\u001b[0mtable_key_name\u001b[0m\u001b[1;33m]\u001b[0m\u001b[1;33m[\u001b[0m\u001b[1;34m'manipulation_function'\u001b[0m\u001b[1;33m]\u001b[0m \u001b[1;33m!=\u001b[0m \u001b[1;32mNone\u001b[0m\u001b[1;33m:\u001b[0m\u001b[1;33m\u001b[0m\u001b[1;33m\u001b[0m\u001b[0m\n\u001b[1;32m----> 8\u001b[1;33m         \u001b[0moutput\u001b[0m \u001b[1;33m=\u001b[0m \u001b[0mtable_information\u001b[0m\u001b[1;33m[\u001b[0m\u001b[0mtable_key_name\u001b[0m\u001b[1;33m]\u001b[0m\u001b[1;33m[\u001b[0m\u001b[1;34m'manipulation_function'\u001b[0m\u001b[1;33m]\u001b[0m\u001b[1;33m(\u001b[0m\u001b[0mdf\u001b[0m\u001b[1;33m=\u001b[0m\u001b[0moutput\u001b[0m\u001b[1;33m,\u001b[0m \u001b[0mgeo_level\u001b[0m\u001b[1;33m=\u001b[0m\u001b[0mgeo_level\u001b[0m\u001b[1;33m,\u001b[0m \u001b[0mestimates_version\u001b[0m\u001b[1;33m=\u001b[0m\u001b[0mestimates_version\u001b[0m\u001b[1;33m)\u001b[0m\u001b[1;33m\u001b[0m\u001b[1;33m\u001b[0m\u001b[0m\n\u001b[0m\u001b[0;32m      9\u001b[0m \u001b[1;33m\u001b[0m\u001b[0m\n\u001b[0;32m     10\u001b[0m     \u001b[0mexport_to_j_drive\u001b[0m\u001b[1;33m(\u001b[0m\u001b[0mdf\u001b[0m\u001b[1;33m=\u001b[0m\u001b[0moutput\u001b[0m\u001b[1;33m,\u001b[0m \u001b[0mgeo_level\u001b[0m\u001b[1;33m=\u001b[0m\u001b[0mgeo_level\u001b[0m\u001b[1;33m,\u001b[0m \u001b[0mestimates_version\u001b[0m\u001b[1;33m=\u001b[0m\u001b[0mestimates_version\u001b[0m\u001b[1;33m,\u001b[0m \u001b[0msql_file_name\u001b[0m\u001b[1;33m=\u001b[0m\u001b[0mtable_key_name\u001b[0m\u001b[1;33m)\u001b[0m\u001b[1;33m\u001b[0m\u001b[1;33m\u001b[0m\u001b[0m\n",
      "\u001b[1;32m~\\AppData\\Local\\Temp\\ipykernel_11436\\847485996.py\u001b[0m in \u001b[0;36mincome_manipulations\u001b[1;34m(df, geo_level, estimates_version)\u001b[0m\n\u001b[0;32m      1\u001b[0m \u001b[1;32mdef\u001b[0m \u001b[0mincome_manipulations\u001b[0m\u001b[1;33m(\u001b[0m\u001b[0mdf\u001b[0m\u001b[1;33m,\u001b[0m \u001b[0mgeo_level\u001b[0m\u001b[1;33m,\u001b[0m \u001b[0mestimates_version\u001b[0m\u001b[1;33m)\u001b[0m\u001b[1;33m:\u001b[0m\u001b[1;33m\u001b[0m\u001b[1;33m\u001b[0m\u001b[0m\n\u001b[0;32m      2\u001b[0m     \u001b[1;34m'''This function puts the columns in the correct order'''\u001b[0m\u001b[1;33m\u001b[0m\u001b[1;33m\u001b[0m\u001b[0m\n\u001b[1;32m----> 3\u001b[1;33m     \u001b[1;32mreturn\u001b[0m \u001b[0mdf\u001b[0m\u001b[1;33m[\u001b[0m\u001b[1;33m[\u001b[0m\u001b[0mgeo_level\u001b[0m\u001b[1;33m,\u001b[0m \u001b[1;34m'yr_id'\u001b[0m\u001b[1;33m,\u001b[0m \u001b[1;34m'Less than $15,000'\u001b[0m\u001b[1;33m,\u001b[0m \u001b[1;34m'$15,000 to $29,999'\u001b[0m\u001b[1;33m,\u001b[0m \u001b[1;34m'$30,000 to $44,999'\u001b[0m\u001b[1;33m,\u001b[0m \u001b[1;34m'$45,000 to $59,999'\u001b[0m\u001b[1;33m,\u001b[0m \u001b[1;34m'$60,000 to $74,999'\u001b[0m\u001b[1;33m,\u001b[0m \u001b[1;34m'$75,000 to $99,999'\u001b[0m\u001b[1;33m,\u001b[0m \u001b[1;34m'$100,000 to $124,999'\u001b[0m\u001b[1;33m,\u001b[0m \u001b[1;34m'$125,000 to $149,999'\u001b[0m\u001b[1;33m,\u001b[0m \u001b[1;34m'$150,000 to $199,999'\u001b[0m\u001b[1;33m,\u001b[0m \u001b[1;34m'$200,000 or more'\u001b[0m\u001b[1;33m]\u001b[0m\u001b[1;33m]\u001b[0m\u001b[1;33m\u001b[0m\u001b[1;33m\u001b[0m\u001b[0m\n\u001b[0m",
      "\u001b[1;32mc:\\Users\\cra\\Anaconda3\\lib\\site-packages\\pandas\\core\\frame.py\u001b[0m in \u001b[0;36m__getitem__\u001b[1;34m(self, key)\u001b[0m\n\u001b[0;32m   3462\u001b[0m             \u001b[1;32mif\u001b[0m \u001b[0mis_iterator\u001b[0m\u001b[1;33m(\u001b[0m\u001b[0mkey\u001b[0m\u001b[1;33m)\u001b[0m\u001b[1;33m:\u001b[0m\u001b[1;33m\u001b[0m\u001b[1;33m\u001b[0m\u001b[0m\n\u001b[0;32m   3463\u001b[0m                 \u001b[0mkey\u001b[0m \u001b[1;33m=\u001b[0m \u001b[0mlist\u001b[0m\u001b[1;33m(\u001b[0m\u001b[0mkey\u001b[0m\u001b[1;33m)\u001b[0m\u001b[1;33m\u001b[0m\u001b[1;33m\u001b[0m\u001b[0m\n\u001b[1;32m-> 3464\u001b[1;33m             \u001b[0mindexer\u001b[0m \u001b[1;33m=\u001b[0m \u001b[0mself\u001b[0m\u001b[1;33m.\u001b[0m\u001b[0mloc\u001b[0m\u001b[1;33m.\u001b[0m\u001b[0m_get_listlike_indexer\u001b[0m\u001b[1;33m(\u001b[0m\u001b[0mkey\u001b[0m\u001b[1;33m,\u001b[0m \u001b[0maxis\u001b[0m\u001b[1;33m=\u001b[0m\u001b[1;36m1\u001b[0m\u001b[1;33m)\u001b[0m\u001b[1;33m[\u001b[0m\u001b[1;36m1\u001b[0m\u001b[1;33m]\u001b[0m\u001b[1;33m\u001b[0m\u001b[1;33m\u001b[0m\u001b[0m\n\u001b[0m\u001b[0;32m   3465\u001b[0m \u001b[1;33m\u001b[0m\u001b[0m\n\u001b[0;32m   3466\u001b[0m         \u001b[1;31m# take() does not accept boolean indexers\u001b[0m\u001b[1;33m\u001b[0m\u001b[1;33m\u001b[0m\u001b[1;33m\u001b[0m\u001b[0m\n",
      "\u001b[1;32mc:\\Users\\cra\\Anaconda3\\lib\\site-packages\\pandas\\core\\indexing.py\u001b[0m in \u001b[0;36m_get_listlike_indexer\u001b[1;34m(self, key, axis)\u001b[0m\n\u001b[0;32m   1312\u001b[0m             \u001b[0mkeyarr\u001b[0m\u001b[1;33m,\u001b[0m \u001b[0mindexer\u001b[0m\u001b[1;33m,\u001b[0m \u001b[0mnew_indexer\u001b[0m \u001b[1;33m=\u001b[0m \u001b[0max\u001b[0m\u001b[1;33m.\u001b[0m\u001b[0m_reindex_non_unique\u001b[0m\u001b[1;33m(\u001b[0m\u001b[0mkeyarr\u001b[0m\u001b[1;33m)\u001b[0m\u001b[1;33m\u001b[0m\u001b[1;33m\u001b[0m\u001b[0m\n\u001b[0;32m   1313\u001b[0m \u001b[1;33m\u001b[0m\u001b[0m\n\u001b[1;32m-> 1314\u001b[1;33m         \u001b[0mself\u001b[0m\u001b[1;33m.\u001b[0m\u001b[0m_validate_read_indexer\u001b[0m\u001b[1;33m(\u001b[0m\u001b[0mkeyarr\u001b[0m\u001b[1;33m,\u001b[0m \u001b[0mindexer\u001b[0m\u001b[1;33m,\u001b[0m \u001b[0maxis\u001b[0m\u001b[1;33m)\u001b[0m\u001b[1;33m\u001b[0m\u001b[1;33m\u001b[0m\u001b[0m\n\u001b[0m\u001b[0;32m   1315\u001b[0m \u001b[1;33m\u001b[0m\u001b[0m\n\u001b[0;32m   1316\u001b[0m         if needs_i8_conversion(ax.dtype) or isinstance(\n",
      "\u001b[1;32mc:\\Users\\cra\\Anaconda3\\lib\\site-packages\\pandas\\core\\indexing.py\u001b[0m in \u001b[0;36m_validate_read_indexer\u001b[1;34m(self, key, indexer, axis)\u001b[0m\n\u001b[0;32m   1375\u001b[0m \u001b[1;33m\u001b[0m\u001b[0m\n\u001b[0;32m   1376\u001b[0m             \u001b[0mnot_found\u001b[0m \u001b[1;33m=\u001b[0m \u001b[0mlist\u001b[0m\u001b[1;33m(\u001b[0m\u001b[0mensure_index\u001b[0m\u001b[1;33m(\u001b[0m\u001b[0mkey\u001b[0m\u001b[1;33m)\u001b[0m\u001b[1;33m[\u001b[0m\u001b[0mmissing_mask\u001b[0m\u001b[1;33m.\u001b[0m\u001b[0mnonzero\u001b[0m\u001b[1;33m(\u001b[0m\u001b[1;33m)\u001b[0m\u001b[1;33m[\u001b[0m\u001b[1;36m0\u001b[0m\u001b[1;33m]\u001b[0m\u001b[1;33m]\u001b[0m\u001b[1;33m.\u001b[0m\u001b[0munique\u001b[0m\u001b[1;33m(\u001b[0m\u001b[1;33m)\u001b[0m\u001b[1;33m)\u001b[0m\u001b[1;33m\u001b[0m\u001b[1;33m\u001b[0m\u001b[0m\n\u001b[1;32m-> 1377\u001b[1;33m             \u001b[1;32mraise\u001b[0m \u001b[0mKeyError\u001b[0m\u001b[1;33m(\u001b[0m\u001b[1;34mf\"{not_found} not in index\"\u001b[0m\u001b[1;33m)\u001b[0m\u001b[1;33m\u001b[0m\u001b[1;33m\u001b[0m\u001b[0m\n\u001b[0m\u001b[0;32m   1378\u001b[0m \u001b[1;33m\u001b[0m\u001b[0m\n\u001b[0;32m   1379\u001b[0m \u001b[1;33m\u001b[0m\u001b[0m\n",
      "\u001b[1;31mKeyError\u001b[0m: \"['Less than $15,000', '$15,000 to $29,999', '$30,000 to $44,999', '$45,000 to $59,999', '$60,000 to $74,999', '$75,000 to $99,999', '$100,000 to $124,999', '$125,000 to $149,999', '$150,000 to $199,999', '$200,000 or more'] not in index\""
     ]
    }
   ],
   "source": [
    "for table_key_name in table_information.keys():\n",
    "    for geo_level in ['mgra', 'census_tract', 'luz', 'cpa', 'jurisdiction', 'sra', 'region']:\n",
    "        standard_format_output_creation(table_key_name=table_key_name, geo_level=geo_level, estimates_version='2022_04')\n",
    "        print(f\"{table_key_name}-{geo_level} is complete.\")"
   ]
  },
  {
   "cell_type": "code",
   "execution_count": 16,
   "metadata": {},
   "outputs": [
    {
     "name": "stdout",
     "output_type": "stream",
     "text": [
      "population-mgra is complete.\n",
      "population-census_tract is complete.\n",
      "population-luz is complete.\n",
      "population-cpa is complete.\n",
      "population-jurisdiction is complete.\n",
      "population-sra is complete.\n",
      "population-region is complete.\n",
      "sex-mgra is complete.\n",
      "sex-census_tract is complete.\n",
      "sex-luz is complete.\n",
      "sex-cpa is complete.\n",
      "sex-jurisdiction is complete.\n",
      "sex-sra is complete.\n",
      "sex-region is complete.\n",
      "workers-mgra is complete.\n",
      "workers-census_tract is complete.\n",
      "workers-luz is complete.\n",
      "workers-cpa is complete.\n",
      "workers-jurisdiction is complete.\n",
      "workers-sra is complete.\n",
      "workers-region is complete.\n"
     ]
    }
   ],
   "source": [
    "for table_key_name in ['population', 'sex', 'workers']:\n",
    "    for geo_level in ['mgra', 'census_tract', 'luz', 'cpa', 'jurisdiction', 'sra', 'region']:\n",
    "        standard_format_output_creation(table_key_name=table_key_name, geo_level=geo_level, estimates_version='2022_04')\n",
    "        print(f\"{table_key_name}-{geo_level} is complete.\")"
   ]
  },
  {
   "attachments": {},
   "cell_type": "markdown",
   "metadata": {},
   "source": [
    "# Age Sex Ethnicity Table"
   ]
  },
  {
   "cell_type": "code",
   "execution_count": 17,
   "metadata": {},
   "outputs": [],
   "source": [
    "def age_sex_ethnciity_manipulations(df, geo_level):\n",
    "    output = pd.pivot(df, values='population', index=[geo_level, 'yr_id', 'age group', 'sex'], columns=['race'])\n",
    "    output.columns.name = ''\n",
    "    return output.reset_index()"
   ]
  },
  {
   "cell_type": "code",
   "execution_count": 18,
   "metadata": {},
   "outputs": [],
   "source": [
    "def age_sex_ethnicity_table_creation(geo_level, estimates_version):\n",
    "    print(f\"Donwloading {geo_level} data.\")\n",
    "    raw_sql_output = standard_format_sql_download(sql_file_name='age_sex_ethnicity', geo_level=geo_level, estimates_version=estimates_version)\n",
    "    print(f\"Completed donwloading {geo_level} data.\")\n",
    "\n",
    "    pivoted_data = age_sex_ethnciity_manipulations(raw_sql_output, geo_level)\n",
    "\n",
    "    export_to_j_drive(df=pivoted_data, geo_level=geo_level, estimates_version=estimates_version, sql_file_name='age_sex_ethnicity')\n",
    "\n",
    "    return pivoted_data"
   ]
  },
  {
   "cell_type": "code",
   "execution_count": 20,
   "metadata": {},
   "outputs": [
    {
     "name": "stdout",
     "output_type": "stream",
     "text": [
      "Donwloading jurisdiction data.\n",
      "Completed donwloading jurisdiction data.\n",
      "jurisdiction is complete.\n",
      "Donwloading region data.\n",
      "Completed donwloading region data.\n",
      "region is complete.\n"
     ]
    }
   ],
   "source": [
    "for geo_level in ['jurisdiction', 'region']:\n",
    "    age_sex_ethnicity_table_creation(geo_level=geo_level, estimates_version='2022_04')\n",
    "    print(f\"{geo_level} is complete.\")"
   ]
  },
  {
   "cell_type": "code",
   "execution_count": 18,
   "metadata": {},
   "outputs": [
    {
     "name": "stdout",
     "output_type": "stream",
     "text": [
      "Donwloading census_tract data.\n",
      "Completed donwloading census_tract data.\n",
      "census_tract is complete.\n",
      "Donwloading luz data.\n",
      "Completed donwloading luz data.\n",
      "luz is complete.\n",
      "Donwloading cpa data.\n",
      "Completed donwloading cpa data.\n",
      "cpa is complete.\n",
      "Donwloading jurisdiction data.\n",
      "Completed donwloading jurisdiction data.\n",
      "jurisdiction is complete.\n",
      "Donwloading sra data.\n",
      "Completed donwloading sra data.\n",
      "sra is complete.\n",
      "Donwloading region data.\n",
      "Completed donwloading region data.\n",
      "region is complete.\n"
     ]
    }
   ],
   "source": [
    "# for geo_level in ['census_tract', 'luz', 'cpa', 'jurisdiction', 'sra', 'region']:\n",
    "#     age_sex_ethnicity_table_creation(geo_level=geo_level, estimates_version='2022_02')\n",
    "#     print(f\"{geo_level} is complete.\")"
   ]
  },
  {
   "cell_type": "code",
   "execution_count": 16,
   "metadata": {},
   "outputs": [
    {
     "name": "stdout",
     "output_type": "stream",
     "text": [
      "Donwloading census_tract data.\n",
      "Completed donwloading census_tract data.\n",
      "census_tract is complete.\n",
      "Donwloading luz data.\n",
      "Completed donwloading luz data.\n",
      "luz is complete.\n",
      "Donwloading cpa data.\n",
      "Completed donwloading cpa data.\n",
      "cpa is complete.\n",
      "Donwloading jurisdiction data.\n",
      "Completed donwloading jurisdiction data.\n",
      "jurisdiction is complete.\n",
      "Donwloading sra data.\n",
      "Completed donwloading sra data.\n",
      "sra is complete.\n",
      "Donwloading region data.\n",
      "Completed donwloading region data.\n",
      "region is complete.\n"
     ]
    }
   ],
   "source": [
    "for geo_level in ['census_tract', 'luz', 'cpa', 'jurisdiction', 'sra', 'region']: #MGRA is too big for now\n",
    "    age_sex_ethnicity_table_creation(geo_level=geo_level, estimates_version='2022_03')\n",
    "    print(f\"{geo_level} is complete.\")"
   ]
  }
 ],
 "metadata": {
  "kernelspec": {
   "display_name": "base",
   "language": "python",
   "name": "python3"
  },
  "language_info": {
   "codemirror_mode": {
    "name": "ipython",
    "version": 3
   },
   "file_extension": ".py",
   "mimetype": "text/x-python",
   "name": "python",
   "nbconvert_exporter": "python",
   "pygments_lexer": "ipython3",
   "version": "3.8.8"
  },
  "orig_nbformat": 4,
  "vscode": {
   "interpreter": {
    "hash": "6db16e9940ad839c1e288012a4d7b04c8c55c67646ae73b178066b197eb654ea"
   }
  }
 },
 "nbformat": 4,
 "nbformat_minor": 2
}
