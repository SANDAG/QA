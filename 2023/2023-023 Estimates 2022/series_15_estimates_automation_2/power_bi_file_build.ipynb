{
 "cells": [
  {
   "cell_type": "code",
   "execution_count": 1,
   "metadata": {},
   "outputs": [],
   "source": [
    "import pandas as pd\n",
    "import os\n",
    "import numpy as np"
   ]
  },
  {
   "attachments": {},
   "cell_type": "markdown",
   "metadata": {},
   "source": [
    "# Find the necessary files"
   ]
  },
  {
   "cell_type": "code",
   "execution_count": 2,
   "metadata": {},
   "outputs": [],
   "source": [
    "def find_files(url, geo_level):\n",
    "    path = url.replace(\"\\\\\", \"/\")\n",
    "\n",
    "    files_with_words = []\n",
    "    for filename in os.listdir(path):\n",
    "        if geo_level in filename and 'age_sex_ethnicity' not in filename:\n",
    "            file_path = os.path.join(path, filename)\n",
    "            files_with_words.append(file_path)\n",
    "\n",
    "    return files_with_words"
   ]
  },
  {
   "attachments": {},
   "cell_type": "markdown",
   "metadata": {},
   "source": [
    "# Create the power bi file"
   ]
  },
  {
   "cell_type": "code",
   "execution_count": 3,
   "metadata": {},
   "outputs": [],
   "source": [
    "def create_power_bi_file(geo_level, estimates_version):\n",
    "    files = find_files(url=rf'J:\\DataScience\\DataQuality\\QAQC\\Estimates QC Automation\\v_series15\\individual_files\\{estimates_version}', geo_level=geo_level)\n",
    "    df_merged = pd.DataFrame()\n",
    "    for file in files:\n",
    "        temp_df = pd.read_excel(file)\n",
    "        if df_merged.empty:\n",
    "            df_merged = temp_df\n",
    "        else:\n",
    "            df_merged = df_merged.merge(temp_df, how='left', left_on=[geo_level, 'yr_id'], right_on=[geo_level, 'yr_id'])\n",
    "    df_merged['hhs'] = round(df_merged['Household Population']/df_merged['Total Households'],2)\n",
    "    return df_merged\n"
   ]
  },
  {
   "cell_type": "code",
   "execution_count": 4,
   "metadata": {},
   "outputs": [],
   "source": [
    "# test = create_combo_file(geo_level='cpa', estimates_version='2022_02')\n",
    "# test"
   ]
  },
  {
   "attachments": {},
   "cell_type": "markdown",
   "metadata": {},
   "source": [
    "# Output the consolidated file"
   ]
  },
  {
   "cell_type": "code",
   "execution_count": 4,
   "metadata": {},
   "outputs": [],
   "source": [
    "def create_and_output_power_bi_file(geo_level, estimates_version):\n",
    "    # Create the combo file\n",
    "    combo_file = create_power_bi_file(geo_level, estimates_version)\n",
    "\n",
    "    # Output to correct place \n",
    "    combo_file.to_excel(rf\"J:\\DataScience\\DataQuality\\QAQC\\Estimates QC Automation\\v_series15\\power_bi_files\\{estimates_version}\\{geo_level}_est_{estimates_version}_power_bi_file_QA.xlsx\", index=False)"
   ]
  },
  {
   "attachments": {},
   "cell_type": "markdown",
   "metadata": {},
   "source": [
    "# Run and create combo files"
   ]
  },
  {
   "cell_type": "code",
   "execution_count": 5,
   "metadata": {},
   "outputs": [
    {
     "name": "stdout",
     "output_type": "stream",
     "text": [
      "census_tract-2022_03 is complete\n",
      "cpa-2022_03 is complete\n",
      "jurisdiction-2022_03 is complete\n",
      "luz-2022_03 is complete\n",
      "mgra-2022_03 is complete\n",
      "region-2022_03 is complete\n",
      "sra-2022_03 is complete\n"
     ]
    }
   ],
   "source": [
    "for geo_level in ['census_tract', 'cpa', 'jurisdiction', 'luz', 'mgra', 'region', 'sra']:\n",
    "    for estimates_version in ['2022_03']:\n",
    "        create_and_output_power_bi_file(geo_level=geo_level, estimates_version=estimates_version)\n",
    "        print(f\"{geo_level}-{estimates_version} is complete\")"
   ]
  }
 ],
 "metadata": {
  "kernelspec": {
   "display_name": "base",
   "language": "python",
   "name": "python3"
  },
  "language_info": {
   "codemirror_mode": {
    "name": "ipython",
    "version": 3
   },
   "file_extension": ".py",
   "mimetype": "text/x-python",
   "name": "python",
   "nbconvert_exporter": "python",
   "pygments_lexer": "ipython3",
   "version": "3.8.8"
  },
  "orig_nbformat": 4
 },
 "nbformat": 4,
 "nbformat_minor": 2
}
