{
 "cells": [
  {
   "attachments": {},
   "cell_type": "markdown",
   "metadata": {},
   "source": [
    "# Estimates Analysis Long Format Outputs\n",
    "\n",
    "<font size=\"3\">\n",
    "\n",
    "Purpose:  \n",
    "QA analysis of estimates outputs. Generate YOY and diff files in long format to facilitate analysis in Excel as needed.\n",
    "\n",
    "Inputs:  \n",
    "Files generated from Estimates QC Automation process: J:/DataScience/DataQuality/QAQC/Estimates QC Automation\n",
    "\n",
    "Outputs:\n",
    "- [YOY threshold analysis for current vintage](#yoy-analysis)\n",
    "- [Difference threshold analysis between two vintages](#diff-analysis)\n",
    "\n",
    "Author: Dante Lee  \n",
    "Date Created: 3/29/2023  \n",
    "Last Updated: 5/4/2023\n",
    "</font>"
   ]
  },
  {
   "cell_type": "code",
   "execution_count": 1,
   "metadata": {},
   "outputs": [],
   "source": [
    "import pandas as pd\n",
    "import os\n",
    "from openpyxl.workbook import Workbook"
   ]
  },
  {
   "attachments": {},
   "cell_type": "markdown",
   "metadata": {},
   "source": [
    "## Data Preparation"
   ]
  },
  {
   "cell_type": "code",
   "execution_count": 6,
   "metadata": {},
   "outputs": [],
   "source": [
    "current = '2022_04'\n",
    "previous = '2022_03'\n",
    "folder_input = 'J:/DataScience/DataQuality/QAQC/Estimates QC Automation/v_series15'\n",
    "folder_output = 'C:/Users/dle/OneDrive - San Diego Association of Governments/Projects/2023/2023-023 Estimates 2022/Results'\n",
    "\n",
    "# GEOGRAPHY LEVELS AVAILABLE:\n",
    "# 'region', 'jurisdiction', 'cpa', 'sra', 'census_tract', 'luz', 'mgra'\n",
    "geography = ['jurisdiction', 'cpa']\n",
    "# geography = ['cpa']\n",
    "# geography = ['region', 'jurisdiction', 'cpa', 'sra', 'census_tract', 'luz', 'mgra']\n",
    "\n",
    "# VARIABLES AVAILABLE:\n",
    "# 'age', 'children', 'ethnicity', 'households', 'housing', 'income', 'population', 'sex', 'workers', 'age_sex_ethnicity'\n",
    "# variable = ['age_sex_ethnicity', 'income']\n",
    "variable = ['sex']\n",
    "# variable = ['age', 'children', 'ethnicity', 'households', 'housing', 'population', 'sex', 'workers']"
   ]
  },
  {
   "attachments": {},
   "cell_type": "markdown",
   "metadata": {},
   "source": [
    "## YOY Analysis\n",
    "Transform data into long format and calculate numeric and percentage changes year-over-year by geography/variable group"
   ]
  },
  {
   "cell_type": "code",
   "execution_count": 4,
   "metadata": {},
   "outputs": [
    {
     "name": "stdout",
     "output_type": "stream",
     "text": [
      "2022_04\n",
      "jurisdiction - sex complete\n",
      "cpa - sex complete\n"
     ]
    }
   ],
   "source": [
    "# Generate YOY change outputs for current vintage\n",
    "print(current)\n",
    "\n",
    "for geo in geography:\n",
    "    for var in variable:\n",
    "        file_name = geo + '_est_' + current + '_' + var + '_ind_QA.xlsx'\n",
    "        df = pd.read_excel(folder_input + '/individual_files/' + current + '/' + file_name)\n",
    "        \n",
    "        # Rename geography level to generic 'geography'\n",
    "        df.rename(columns={ df.columns[0]: 'geography' }, inplace = True)\n",
    "\n",
    "        # Unpivot table by geography and year\n",
    "        df_unpivot = pd.melt(df,\n",
    "                            id_vars = df[df.columns[0:2]],\n",
    "                            value_vars = df[df.columns[2:]])\n",
    "\n",
    "        # Calculate value differences and percentage differences for threshold analysis\n",
    "        if var == 'age_sex_ethnicity':\n",
    "            df_unpivot['diff'] = df_unpivot.groupby(['geography', 'age group', 'sex', 'variable'])['value'].diff()\n",
    "        else:\n",
    "            df_unpivot['diff'] = df_unpivot.groupby(['geography', 'variable'])['value'].diff()\n",
    "        \n",
    "        # Percentage difference from previous value\n",
    "        df_unpivot['diff_percent'] = df_unpivot['diff'] / df_unpivot['value'].shift(1)\n",
    "\n",
    "        path = folder_output + '/Test 3 - Threshold YOY/{current}/{var}'\n",
    "        isExist = os.path.exists(path)\n",
    "        if not isExist:\n",
    "            os.makedirs(path)\n",
    "\n",
    "        # Save results to Excel file\n",
    "        writer = pd.ExcelWriter(folder_output + '/Test 3 - Threshold YOY/{current}/{var}/{geo}_{var}_est_{current}_YOY.xlsx')\n",
    "        df_unpivot.to_excel(writer, sheet_name=var, merge_cells=False, index=False)\n",
    "        writer.close()\n",
    "\n",
    "        print('{geo} - {var} complete')"
   ]
  },
  {
   "attachments": {},
   "cell_type": "markdown",
   "metadata": {},
   "source": [
    "## Diff Analysis\n",
    "Combine current and previous vintages into a single sheet in long format, and  calculate numeric and percentage differences between the two vintages."
   ]
  },
  {
   "cell_type": "code",
   "execution_count": 5,
   "metadata": {},
   "outputs": [
    {
     "name": "stdout",
     "output_type": "stream",
     "text": [
      "2022_04-2022_03\n",
      "cpa - ethnicity complete\n"
     ]
    }
   ],
   "source": [
    "print('{0}-{1}'.format(current, previous))\n",
    "\n",
    "for geo in geography:\n",
    "    for var in variable:\n",
    "        file_diff = geo + '_' + var + '_est_' + current + '_minus_' + previous + '_QA.xlsx'\n",
    "        file_diff_path = folder_output + '/Test 4- Vintage Comparison/diff_outputs/' + current + ' and ' + previous + ' diff/' + var + '/' + file_diff\n",
    "\n",
    "        # First sheet (current)\n",
    "        df1 = pd.read_excel(file_diff_path, sheet_name=current+' Data')\n",
    "        df1_unpivot = pd.melt(df1,\n",
    "                            id_vars = df1[df1.columns[0:2]],\n",
    "                            value_vars = df1[df1.columns[2:]])\n",
    "\n",
    "        df1_unpivot = df1_unpivot.rename(columns={ df1_unpivot.columns[0]: 'geography', df1_unpivot.columns[-1]: current })\n",
    "\n",
    "        # Second sheet (previous)\n",
    "        df2 = pd.read_excel(file_diff_path, sheet_name=previous+' Data')\n",
    "        df2_unpivot = pd.melt(df2,\n",
    "                            id_vars = df2[df2.columns[0:2]],\n",
    "                            value_vars = df2[df2.columns[2:]])\n",
    "\n",
    "        df2_unpivot = df2_unpivot.rename(columns={ df2_unpivot.columns[0]: 'geography', df2_unpivot.columns[-1]: previous })\n",
    "\n",
    "        # Join dataframes together and calculate diff and percent diff\n",
    "        df_diff = pd.merge(df1_unpivot, df2_unpivot, how='left',\n",
    "                        left_on=['geography', 'yr_id', 'variable'],\n",
    "                        right_on=['geography', 'yr_id', 'variable'])\n",
    "\n",
    "        df_diff['diff'] = df_diff[current] - df_diff[previous]\n",
    "        df_diff['diff_percent'] = df_diff['diff'] / df_diff[previous]\n",
    "        df_diff = df_diff.sort_values(by=['geography', 'yr_id'])\n",
    "\n",
    "        # Save results to Excel file\n",
    "        with pd.ExcelWriter(file_diff_path, engine='openpyxl', mode='a', if_sheet_exists='replace') as writer:\n",
    "            df_diff.to_excel(writer, sheet_name='QC diff', index=False)\n",
    "\n",
    "        print('{geo} - {var} complete')"
   ]
  }
 ],
 "metadata": {
  "kernelspec": {
   "display_name": "base",
   "language": "python",
   "name": "python3"
  },
  "language_info": {
   "codemirror_mode": {
    "name": "ipython",
    "version": 3
   },
   "file_extension": ".py",
   "mimetype": "text/x-python",
   "name": "python",
   "nbconvert_exporter": "python",
   "pygments_lexer": "ipython3",
   "version": "3.9.12"
  },
  "orig_nbformat": 4,
  "vscode": {
   "interpreter": {
    "hash": "e5d6e1232f85ddb5303135df77d505662c512360ec06a3661471a6d4adea7be0"
   }
  }
 },
 "nbformat": 4,
 "nbformat_minor": 2
}
