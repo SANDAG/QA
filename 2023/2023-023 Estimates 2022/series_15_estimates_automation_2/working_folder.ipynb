{
 "cells": [
  {
   "cell_type": "code",
   "execution_count": 1,
   "metadata": {},
   "outputs": [],
   "source": [
    "import os\n",
    "import pandas as pd\n",
    "import numpy as np\n",
    "import pyodbc"
   ]
  },
  {
   "cell_type": "code",
   "execution_count": 12,
   "metadata": {},
   "outputs": [
    {
     "data": {
      "text/plain": [
       "['J:\\\\DataScience\\\\DataQuality\\\\QAQC\\\\Estimates QC Automation\\\\CSV_Files\\\\QA_2021_01_cpa_age.csv',\n",
       " 'J:\\\\DataScience\\\\DataQuality\\\\QAQC\\\\Estimates QC Automation\\\\CSV_Files\\\\QA_2021_01_cpa_age_sex_ethnicity.csv',\n",
       " 'J:\\\\DataScience\\\\DataQuality\\\\QAQC\\\\Estimates QC Automation\\\\CSV_Files\\\\QA_2021_01_cpa_ethnicity.csv',\n",
       " 'J:\\\\DataScience\\\\DataQuality\\\\QAQC\\\\Estimates QC Automation\\\\CSV_Files\\\\QA_2021_01_cpa_households.csv',\n",
       " 'J:\\\\DataScience\\\\DataQuality\\\\QAQC\\\\Estimates QC Automation\\\\CSV_Files\\\\QA_2021_01_cpa_household_income.csv',\n",
       " 'J:\\\\DataScience\\\\DataQuality\\\\QAQC\\\\Estimates QC Automation\\\\CSV_Files\\\\QA_2021_01_cpa_housing.csv',\n",
       " 'J:\\\\DataScience\\\\DataQuality\\\\QAQC\\\\Estimates QC Automation\\\\CSV_Files\\\\QA_2021_01_cpa_population.csv',\n",
       " 'J:\\\\DataScience\\\\DataQuality\\\\QAQC\\\\Estimates QC Automation\\\\CSV_Files\\\\QA_2021_01_cpa_sex.csv',\n",
       " 'J:\\\\DataScience\\\\DataQuality\\\\QAQC\\\\Estimates QC Automation\\\\CSV_Files\\\\QA_2021_01_jurisdiction_age.csv',\n",
       " 'J:\\\\DataScience\\\\DataQuality\\\\QAQC\\\\Estimates QC Automation\\\\CSV_Files\\\\QA_2021_01_jurisdiction_age_sex_ethnicity.csv',\n",
       " 'J:\\\\DataScience\\\\DataQuality\\\\QAQC\\\\Estimates QC Automation\\\\CSV_Files\\\\QA_2021_01_jurisdiction_ethnicity.csv',\n",
       " 'J:\\\\DataScience\\\\DataQuality\\\\QAQC\\\\Estimates QC Automation\\\\CSV_Files\\\\QA_2021_01_jurisdiction_households.csv',\n",
       " 'J:\\\\DataScience\\\\DataQuality\\\\QAQC\\\\Estimates QC Automation\\\\CSV_Files\\\\QA_2021_01_jurisdiction_household_income.csv',\n",
       " 'J:\\\\DataScience\\\\DataQuality\\\\QAQC\\\\Estimates QC Automation\\\\CSV_Files\\\\QA_2021_01_jurisdiction_housing.csv',\n",
       " 'J:\\\\DataScience\\\\DataQuality\\\\QAQC\\\\Estimates QC Automation\\\\CSV_Files\\\\QA_2021_01_jurisdiction_population.csv',\n",
       " 'J:\\\\DataScience\\\\DataQuality\\\\QAQC\\\\Estimates QC Automation\\\\CSV_Files\\\\QA_2021_01_jurisdiction_sex.csv',\n",
       " 'J:\\\\DataScience\\\\DataQuality\\\\QAQC\\\\Estimates QC Automation\\\\CSV_Files\\\\QA_2021_01_LUZ_age.csv',\n",
       " 'J:\\\\DataScience\\\\DataQuality\\\\QAQC\\\\Estimates QC Automation\\\\CSV_Files\\\\QA_2021_01_LUZ_age_sex_ethnicity.csv',\n",
       " 'J:\\\\DataScience\\\\DataQuality\\\\QAQC\\\\Estimates QC Automation\\\\CSV_Files\\\\QA_2021_01_LUZ_ethnicity.csv',\n",
       " 'J:\\\\DataScience\\\\DataQuality\\\\QAQC\\\\Estimates QC Automation\\\\CSV_Files\\\\QA_2021_01_LUZ_households.csv',\n",
       " 'J:\\\\DataScience\\\\DataQuality\\\\QAQC\\\\Estimates QC Automation\\\\CSV_Files\\\\QA_2021_01_LUZ_household_income.csv',\n",
       " 'J:\\\\DataScience\\\\DataQuality\\\\QAQC\\\\Estimates QC Automation\\\\CSV_Files\\\\QA_2021_01_LUZ_housing.csv',\n",
       " 'J:\\\\DataScience\\\\DataQuality\\\\QAQC\\\\Estimates QC Automation\\\\CSV_Files\\\\QA_2021_01_LUZ_population.csv',\n",
       " 'J:\\\\DataScience\\\\DataQuality\\\\QAQC\\\\Estimates QC Automation\\\\CSV_Files\\\\QA_2021_01_LUZ_sex.csv',\n",
       " 'J:\\\\DataScience\\\\DataQuality\\\\QAQC\\\\Estimates QC Automation\\\\CSV_Files\\\\QA_2021_01_mgra_households.csv',\n",
       " 'J:\\\\DataScience\\\\DataQuality\\\\QAQC\\\\Estimates QC Automation\\\\CSV_Files\\\\QA_2021_01_mgra_id_households.csv',\n",
       " 'J:\\\\DataScience\\\\DataQuality\\\\QAQC\\\\Estimates QC Automation\\\\CSV_Files\\\\QA_2021_01_region_age.csv',\n",
       " 'J:\\\\DataScience\\\\DataQuality\\\\QAQC\\\\Estimates QC Automation\\\\CSV_Files\\\\QA_2021_01_region_age_sex_ethnicity.csv',\n",
       " 'J:\\\\DataScience\\\\DataQuality\\\\QAQC\\\\Estimates QC Automation\\\\CSV_Files\\\\QA_2021_01_region_ethnicity.csv',\n",
       " 'J:\\\\DataScience\\\\DataQuality\\\\QAQC\\\\Estimates QC Automation\\\\CSV_Files\\\\QA_2021_01_region_households.csv',\n",
       " 'J:\\\\DataScience\\\\DataQuality\\\\QAQC\\\\Estimates QC Automation\\\\CSV_Files\\\\QA_2021_01_region_household_income.csv',\n",
       " 'J:\\\\DataScience\\\\DataQuality\\\\QAQC\\\\Estimates QC Automation\\\\CSV_Files\\\\QA_2021_01_region_housing.csv',\n",
       " 'J:\\\\DataScience\\\\DataQuality\\\\QAQC\\\\Estimates QC Automation\\\\CSV_Files\\\\QA_2021_01_region_population.csv',\n",
       " 'J:\\\\DataScience\\\\DataQuality\\\\QAQC\\\\Estimates QC Automation\\\\CSV_Files\\\\QA_2021_01_region_sex.csv',\n",
       " 'J:\\\\DataScience\\\\DataQuality\\\\QAQC\\\\Estimates QC Automation\\\\CSV_Files\\\\QA_2021_01_sra_age.csv',\n",
       " 'J:\\\\DataScience\\\\DataQuality\\\\QAQC\\\\Estimates QC Automation\\\\CSV_Files\\\\QA_2021_01_sra_age_sex_ethnicity.csv',\n",
       " 'J:\\\\DataScience\\\\DataQuality\\\\QAQC\\\\Estimates QC Automation\\\\CSV_Files\\\\QA_2021_01_sra_ethnicity.csv',\n",
       " 'J:\\\\DataScience\\\\DataQuality\\\\QAQC\\\\Estimates QC Automation\\\\CSV_Files\\\\QA_2021_01_sra_households.csv',\n",
       " 'J:\\\\DataScience\\\\DataQuality\\\\QAQC\\\\Estimates QC Automation\\\\CSV_Files\\\\QA_2021_01_sra_household_income.csv',\n",
       " 'J:\\\\DataScience\\\\DataQuality\\\\QAQC\\\\Estimates QC Automation\\\\CSV_Files\\\\QA_2021_01_sra_housing.csv',\n",
       " 'J:\\\\DataScience\\\\DataQuality\\\\QAQC\\\\Estimates QC Automation\\\\CSV_Files\\\\QA_2021_01_sra_population.csv',\n",
       " 'J:\\\\DataScience\\\\DataQuality\\\\QAQC\\\\Estimates QC Automation\\\\CSV_Files\\\\QA_2021_01_sra_sex.csv']"
      ]
     },
     "execution_count": 12,
     "metadata": {},
     "output_type": "execute_result"
    }
   ],
   "source": [
    "import os\n",
    "\n",
    "folder_path = r\"J:\\DataScience\\DataQuality\\QAQC\\Estimates QC Automation\\CSV_Files\"\n",
    "file_paths = []\n",
    "\n",
    "for root, directories, files in os.walk(folder_path):\n",
    "    for filename in files:\n",
    "        # Join the two strings to form the full filepath.\n",
    "        filepath = os.path.join(root, filename)\n",
    "        file_paths.append(filepath)\n",
    "\n",
    "file_paths\n"
   ]
  },
  {
   "cell_type": "code",
   "execution_count": 27,
   "metadata": {},
   "outputs": [
    {
     "name": "stdout",
     "output_type": "stream",
     "text": [
      "QA_2021_01_sra_sex is complete.\n",
      "QA_2021_01_sra_sex is complete.\n",
      "QA_2021_01_sra_sex is complete.\n",
      "QA_2021_01_sra_sex is complete.\n",
      "QA_2021_01_sra_sex is complete.\n",
      "QA_2021_01_sra_sex is complete.\n",
      "QA_2021_01_sra_sex is complete.\n",
      "QA_2021_01_sra_sex is complete.\n",
      "QA_2021_01_sra_sex is complete.\n",
      "QA_2021_01_sra_sex is complete.\n",
      "QA_2021_01_sra_sex is complete.\n",
      "QA_2021_01_sra_sex is complete.\n",
      "QA_2021_01_sra_sex is complete.\n",
      "QA_2021_01_sra_sex is complete.\n",
      "QA_2021_01_sra_sex is complete.\n",
      "QA_2021_01_sra_sex is complete.\n",
      "QA_2021_01_sra_sex is complete.\n",
      "QA_2021_01_sra_sex is complete.\n",
      "QA_2021_01_sra_sex is complete.\n",
      "QA_2021_01_sra_sex is complete.\n",
      "QA_2021_01_sra_sex is complete.\n",
      "QA_2021_01_sra_sex is complete.\n",
      "QA_2021_01_sra_sex is complete.\n",
      "QA_2021_01_sra_sex is complete.\n",
      "QA_2021_01_sra_sex is complete.\n",
      "QA_2021_01_sra_sex is complete.\n",
      "QA_2021_01_sra_sex is complete.\n",
      "QA_2021_01_sra_sex is complete.\n",
      "QA_2021_01_sra_sex is complete.\n",
      "QA_2021_01_sra_sex is complete.\n",
      "QA_2021_01_sra_sex is complete.\n",
      "QA_2021_01_sra_sex is complete.\n",
      "QA_2021_01_sra_sex is complete.\n",
      "QA_2021_01_sra_sex is complete.\n",
      "QA_2021_01_sra_sex is complete.\n",
      "QA_2021_01_sra_sex is complete.\n",
      "QA_2021_01_sra_sex is complete.\n",
      "QA_2021_01_sra_sex is complete.\n",
      "QA_2021_01_sra_sex is complete.\n",
      "QA_2021_01_sra_sex is complete.\n",
      "QA_2021_01_sra_sex is complete.\n",
      "QA_2021_01_sra_sex is complete.\n"
     ]
    }
   ],
   "source": [
    "for file_path in file_paths:\n",
    "    df = pd.read_csv(file_path)\n",
    "    output_path = \"J:\\\\DataScience\\\\DataQuality\\\\QAQC\\\\Estimates QC Automation\\\\v_2021_01\"\n",
    "    output_path = output_path + \"\\\\\" + file_path.split('\\\\')[-1][:-4] + \".xlsx\"\n",
    "    df.to_excel(output_path, index=False)\n",
    "    print(f\"{file_paths[-1][-22:-4]} is complete.\")\n",
    "    "
   ]
  },
  {
   "cell_type": "code",
   "execution_count": 26,
   "metadata": {},
   "outputs": [
    {
     "data": {
      "text/plain": [
       "'QA_2021_01_sra_sex'"
      ]
     },
     "execution_count": 26,
     "metadata": {},
     "output_type": "execute_result"
    }
   ],
   "source": [
    "file_paths[-1][-22:-4]"
   ]
  },
  {
   "cell_type": "code",
   "execution_count": null,
   "metadata": {},
   "outputs": [],
   "source": []
  }
 ],
 "metadata": {
  "kernelspec": {
   "display_name": "base",
   "language": "python",
   "name": "python3"
  },
  "language_info": {
   "codemirror_mode": {
    "name": "ipython",
    "version": 3
   },
   "file_extension": ".py",
   "mimetype": "text/x-python",
   "name": "python",
   "nbconvert_exporter": "python",
   "pygments_lexer": "ipython3",
   "version": "3.8.8"
  },
  "orig_nbformat": 4
 },
 "nbformat": 4,
 "nbformat_minor": 2
}
