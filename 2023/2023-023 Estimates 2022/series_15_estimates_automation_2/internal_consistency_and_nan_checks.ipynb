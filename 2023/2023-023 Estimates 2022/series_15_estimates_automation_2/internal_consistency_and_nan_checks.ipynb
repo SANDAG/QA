{
 "cells": [
  {
   "cell_type": "code",
   "execution_count": 1,
   "metadata": {},
   "outputs": [],
   "source": [
    "import os \n",
    "import pandas as pd\n",
    "import numpy as np\n",
    "import glob\n",
    "import pyodbc\n",
    "import gc"
   ]
  },
  {
   "attachments": {},
   "cell_type": "markdown",
   "metadata": {},
   "source": [
    "# Internal Consistency Checks"
   ]
  },
  {
   "attachments": {},
   "cell_type": "markdown",
   "metadata": {},
   "source": [
    "## Population"
   ]
  },
  {
   "cell_type": "code",
   "execution_count": 2,
   "metadata": {},
   "outputs": [],
   "source": [
    "def find_files(url, variable, estimates_version):\n",
    "    path = url.replace(\"\\\\\", \"/\")\n",
    "\n",
    "    if variable == 'age':\n",
    "        variable = 'age_i'\n",
    "    files_with_words = []\n",
    "    for filename in os.listdir(path):\n",
    "        if variable in filename and estimates_version in filename:\n",
    "            file_path = os.path.join(path, filename)\n",
    "            files_with_words.append(file_path)\n",
    "\n",
    "    return files_with_words"
   ]
  },
  {
   "cell_type": "code",
   "execution_count": 3,
   "metadata": {},
   "outputs": [],
   "source": [
    "def internal_consistency_population(df):\n",
    "    df['tot_pop_calc'] = df['Group Quarters - College'] + df['Group Quarters - Military'] + df['Group Quarters - Other'] + df['Household Population']\n",
    "\n",
    "    tot_pop_diff = sum((df['tot_pop_calc'] == df['Total Population'])) - len(df)\n",
    "\n",
    "    df['tot_gq_pop_calc'] = df['Group Quarters - College'] + df['Group Quarters - Military'] + df['Group Quarters - Other']\n",
    "\n",
    "    tot_gq_pop_diff = sum((df['tot_gq_pop_calc'] == df['Total GQ Population'])) - len(df)\n",
    "\n",
    "    if ((tot_pop_diff == 0) & (tot_gq_pop_diff == 0)):\n",
    "        return 'Dataframe is internally consistent'\n",
    "    else:\n",
    "        return 'Dataframe is not internally consistent'\n"
   ]
  },
  {
   "cell_type": "code",
   "execution_count": 27,
   "metadata": {},
   "outputs": [],
   "source": [
    "def population_folder_internal_consistency(estimates_version):\n",
    "    list_of_files = find_files(url=rf'J:\\DataScience\\DataQuality\\QAQC\\Estimates QC Automation\\v_series15\\individual_files\\{estimates_version}', variable='population', estimates_version=estimates_version)\n",
    "    for file in list_of_files:\n",
    "        df = pd.read_excel(file)\n",
    "        geo_level = file.split(\"\\\\\")[1].split(\"_est\")[0]\n",
    "        print(f\"{geo_level}: {internal_consistency_population(df)}\")"
   ]
  },
  {
   "cell_type": "code",
   "execution_count": 28,
   "metadata": {},
   "outputs": [
    {
     "name": "stdout",
     "output_type": "stream",
     "text": [
      "census_tract: Dataframe is internally consistent\n",
      "cpa: Dataframe is internally consistent\n",
      "jurisdiction: Dataframe is internally consistent\n",
      "luz: Dataframe is internally consistent\n",
      "mgra: Dataframe is internally consistent\n",
      "region: Dataframe is internally consistent\n",
      "sra: Dataframe is internally consistent\n"
     ]
    }
   ],
   "source": [
    "population_folder_internal_consistency(estimates_version='2022_03')"
   ]
  },
  {
   "attachments": {},
   "cell_type": "markdown",
   "metadata": {},
   "source": [
    "# NaN Check"
   ]
  },
  {
   "cell_type": "code",
   "execution_count": 29,
   "metadata": {},
   "outputs": [],
   "source": [
    "def check_missing_values(df):\n",
    "    if df.isnull().values.any():\n",
    "        return 'There are NaNs'\n",
    "    else:\n",
    "        return 'There are no NaNs'"
   ]
  },
  {
   "cell_type": "code",
   "execution_count": 35,
   "metadata": {},
   "outputs": [],
   "source": [
    "def population_folder_internal_consistency(estimates_version, variable):\n",
    "    list_of_files = find_files(url=rf'J:\\DataScience\\DataQuality\\QAQC\\Estimates QC Automation\\v_series15\\individual_files\\{estimates_version}', variable=variable, estimates_version=estimates_version)\n",
    "    for file in list_of_files:\n",
    "        df = pd.read_excel(file)\n",
    "        geo_level = file.split(\"\\\\\")[1].split(\"_est\")[0]\n",
    "        print(f\"{geo_level}-{variable}: {check_missing_values(df)}\")"
   ]
  },
  {
   "cell_type": "code",
   "execution_count": 36,
   "metadata": {},
   "outputs": [
    {
     "name": "stdout",
     "output_type": "stream",
     "text": [
      "census_tract-population: There are no NaNs\n",
      "cpa-population: There are no NaNs\n",
      "jurisdiction-population: There are no NaNs\n",
      "luz-population: There are no NaNs\n",
      "mgra-population: There are no NaNs\n",
      "region-population: There are no NaNs\n",
      "sra-population: There are no NaNs\n"
     ]
    }
   ],
   "source": [
    "population_folder_internal_consistency(estimates_version='2022_03', variable='population')"
   ]
  }
 ],
 "metadata": {
  "kernelspec": {
   "display_name": "base",
   "language": "python",
   "name": "python3"
  },
  "language_info": {
   "codemirror_mode": {
    "name": "ipython",
    "version": 3
   },
   "file_extension": ".py",
   "mimetype": "text/x-python",
   "name": "python",
   "nbconvert_exporter": "python",
   "pygments_lexer": "ipython3",
   "version": "3.8.8"
  },
  "orig_nbformat": 4
 },
 "nbformat": 4,
 "nbformat_minor": 2
}
