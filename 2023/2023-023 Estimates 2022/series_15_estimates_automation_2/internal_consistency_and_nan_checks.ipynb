{
 "cells": [
  {
   "cell_type": "code",
   "execution_count": 3,
   "metadata": {},
   "outputs": [],
   "source": [
    "import os \n",
    "import pandas as pd\n",
    "import numpy as np\n",
    "import glob\n",
    "import pyodbc\n",
    "import gc"
   ]
  },
  {
   "attachments": {},
   "cell_type": "markdown",
   "metadata": {},
   "source": [
    "## Population Internal Consistency"
   ]
  },
  {
   "cell_type": "code",
   "execution_count": 2,
   "metadata": {},
   "outputs": [],
   "source": [
    "def find_files(url, variable, estimates_version):\n",
    "    path = url.replace(\"\\\\\", \"/\")\n",
    "\n",
    "    if variable == 'age':\n",
    "        variable = 'age_i'\n",
    "    files_with_words = []\n",
    "    for filename in os.listdir(path):\n",
    "        if variable in filename and estimates_version in filename:\n",
    "            file_path = os.path.join(path, filename)\n",
    "            files_with_words.append(file_path)\n",
    "\n",
    "    return files_with_words"
   ]
  },
  {
   "cell_type": "code",
   "execution_count": 3,
   "metadata": {},
   "outputs": [],
   "source": [
    "def internal_consistency_population(df):\n",
    "    df['tot_pop_calc'] = df['Group Quarters - College'] + df['Group Quarters - Military'] + df['Group Quarters - Other'] + df['Household Population']\n",
    "\n",
    "    tot_pop_diff = sum((df['tot_pop_calc'] == df['Total Population'])) - len(df)\n",
    "\n",
    "    df['tot_gq_pop_calc'] = df['Group Quarters - College'] + df['Group Quarters - Military'] + df['Group Quarters - Other']\n",
    "\n",
    "    tot_gq_pop_diff = sum((df['tot_gq_pop_calc'] == df['Total GQ Population'])) - len(df)\n",
    "\n",
    "    if ((tot_pop_diff == 0) & (tot_gq_pop_diff == 0)):\n",
    "        return 'Dataframe is internally consistent'\n",
    "    else:\n",
    "        return 'Dataframe is not internally consistent'\n"
   ]
  },
  {
   "cell_type": "code",
   "execution_count": 2,
   "metadata": {},
   "outputs": [],
   "source": [
    "def population_folder_internal_consistency(estimates_version):\n",
    "    list_of_files = find_files(url=rf'J:\\DataScience\\DataQuality\\QAQC\\Estimates QC Automation\\v_series15\\individual_files\\{estimates_version}', variable='population', estimates_version=estimates_version)\n",
    "    for file in list_of_files:\n",
    "        df = pd.read_excel(file)\n",
    "        geo_level = file.split(\"\\\\\")[1].split(\"_est\")[0]\n",
    "        print(f\"{geo_level}: {internal_consistency_population(df)}\")"
   ]
  },
  {
   "cell_type": "code",
   "execution_count": 28,
   "metadata": {},
   "outputs": [
    {
     "name": "stdout",
     "output_type": "stream",
     "text": [
      "census_tract: Dataframe is internally consistent\n",
      "cpa: Dataframe is internally consistent\n",
      "jurisdiction: Dataframe is internally consistent\n",
      "luz: Dataframe is internally consistent\n",
      "mgra: Dataframe is internally consistent\n",
      "region: Dataframe is internally consistent\n",
      "sra: Dataframe is internally consistent\n"
     ]
    }
   ],
   "source": [
    "population_folder_internal_consistency(estimates_version='2022_03')"
   ]
  },
  {
   "attachments": {},
   "cell_type": "markdown",
   "metadata": {},
   "source": [
    "# NaN Check"
   ]
  },
  {
   "cell_type": "code",
   "execution_count": 29,
   "metadata": {},
   "outputs": [],
   "source": [
    "def check_missing_values(df):\n",
    "    if df.isnull().values.any():\n",
    "        return 'There are NaNs'\n",
    "    else:\n",
    "        return 'There are no NaNs'"
   ]
  },
  {
   "cell_type": "code",
   "execution_count": 35,
   "metadata": {},
   "outputs": [],
   "source": [
    "def population_folder_internal_consistency(estimates_version, variable):\n",
    "    list_of_files = find_files(url=rf'J:\\DataScience\\DataQuality\\QAQC\\Estimates QC Automation\\v_series15\\individual_files\\{estimates_version}', variable=variable, estimates_version=estimates_version)\n",
    "    for file in list_of_files:\n",
    "        df = pd.read_excel(file)\n",
    "        geo_level = file.split(\"\\\\\")[1].split(\"_est\")[0]\n",
    "        print(f\"{geo_level}-{variable}: {check_missing_values(df)}\")"
   ]
  },
  {
   "cell_type": "code",
   "execution_count": 36,
   "metadata": {},
   "outputs": [
    {
     "name": "stdout",
     "output_type": "stream",
     "text": [
      "census_tract-population: There are no NaNs\n",
      "cpa-population: There are no NaNs\n",
      "jurisdiction-population: There are no NaNs\n",
      "luz-population: There are no NaNs\n",
      "mgra-population: There are no NaNs\n",
      "region-population: There are no NaNs\n",
      "sra-population: There are no NaNs\n"
     ]
    }
   ],
   "source": [
    "population_folder_internal_consistency(estimates_version='2022_03', variable='population')"
   ]
  },
  {
   "cell_type": "code",
   "execution_count": null,
   "metadata": {},
   "outputs": [],
   "source": []
  },
  {
   "attachments": {},
   "cell_type": "markdown",
   "metadata": {},
   "source": [
    "# Across Geography Internal Consistency"
   ]
  },
  {
   "cell_type": "code",
   "execution_count": 45,
   "metadata": {},
   "outputs": [],
   "source": [
    "def check_dataframe_sums(*dataframes):\n",
    "    # Get the column names of the first dataframe\n",
    "    col_names = dataframes[0].columns\n",
    "    \n",
    "    # Calculate the sum of each column for the first dataframe\n",
    "    sums = dataframes[0][col_names].sum()\n",
    "\n",
    "    # Iterate through the remaining dataframes and compare the sum of each column\n",
    "    for i, df in enumerate(dataframes[1:], start=1):\n",
    "        # Ensure the column names match\n",
    "        if not set(col_names) == set(df.columns):\n",
    "            print(col_names)\n",
    "            print(df.columns)\n",
    "            return f\"Dataframe {i} has different column names\"\n",
    "        \n",
    "        # Calculate the sum of each column for the current dataframe\n",
    "        current_sums = df[col_names].sum()\n",
    "        \n",
    "        # Compare the sums of each column\n",
    "        if not sums.equals(current_sums):\n",
    "            return f\"Dataframe {i} has different sums\"\n",
    "    \n",
    "    return \"All dataframes have the same column sums\""
   ]
  },
  {
   "cell_type": "code",
   "execution_count": 49,
   "metadata": {},
   "outputs": [],
   "source": [
    "def find_file(url, geo_level, variable, estimates_version):\n",
    "    path = url.replace(\"\\\\\", \"/\")\n",
    "\n",
    "    if variable == 'age':\n",
    "        variable = 'age_i'\n",
    "    elif variable == 'sex':\n",
    "        variable = 'sex_i'\n",
    "    elif variable == 'ethnicity':\n",
    "        variable = f'{estimates_version}_ethnicity'\n",
    "    files_with_words = []\n",
    "    for filename in os.listdir(path):\n",
    "        if geo_level in filename and variable in filename and estimates_version in filename:\n",
    "            file_path = os.path.join(path, filename)\n",
    "            files_with_words.append(file_path)\n",
    "\n",
    "    return files_with_words"
   ]
  },
  {
   "cell_type": "code",
   "execution_count": 47,
   "metadata": {},
   "outputs": [],
   "source": [
    "estimates_version = '2022_03'\n",
    "variables = ['age', 'children', 'ethnicity', 'households', 'housing','income', 'sex', 'workers', 'population']\n",
    "#variables = ['ethnicity']\n",
    "geo_levels = ['mgra', 'census_tract', 'luz', 'cpa', 'sra', 'jurisdiction', 'region']"
   ]
  },
  {
   "cell_type": "code",
   "execution_count": 50,
   "metadata": {},
   "outputs": [
    {
     "name": "stdout",
     "output_type": "stream",
     "text": [
      "age: All dataframes have the same column sums\n",
      "children: All dataframes have the same column sums\n",
      "ethnicity: All dataframes have the same column sums\n",
      "households: All dataframes have the same column sums\n",
      "housing: All dataframes have the same column sums\n",
      "income: All dataframes have the same column sums\n",
      "sex: All dataframes have the same column sums\n",
      "workers: All dataframes have the same column sums\n",
      "population: All dataframes have the same column sums\n"
     ]
    }
   ],
   "source": [
    "for variable in variables:\n",
    "    mgra_df = pd.read_excel(find_file(url=rf'J:\\DataScience\\DataQuality\\QAQC\\Estimates QC Automation\\v_series15\\individual_files\\{estimates_version}', geo_level='mgra', variable=variable, estimates_version=estimates_version)[0])\n",
    "    mgra_df = mgra_df.set_index(['mgra', 'yr_id'])\n",
    "\n",
    "    census_tract_df = pd.read_excel(find_file(url=rf'J:\\DataScience\\DataQuality\\QAQC\\Estimates QC Automation\\v_series15\\individual_files\\{estimates_version}', geo_level='census_tract', variable=variable, estimates_version=estimates_version)[0])\n",
    "    census_tract_df = census_tract_df.set_index(['census_tract', 'yr_id'])\n",
    "\n",
    "    luz_df = pd.read_excel(find_file(url=rf'J:\\DataScience\\DataQuality\\QAQC\\Estimates QC Automation\\v_series15\\individual_files\\{estimates_version}', geo_level='luz', variable=variable, estimates_version=estimates_version)[0])\n",
    "    luz_df = luz_df.set_index(['luz', 'yr_id'])\n",
    "    \n",
    "    cpa_df = pd.read_excel(find_file(url=rf'J:\\DataScience\\DataQuality\\QAQC\\Estimates QC Automation\\v_series15\\individual_files\\{estimates_version}', geo_level='cpa', variable=variable, estimates_version=estimates_version)[0])\n",
    "    cpa_df = cpa_df.set_index(['cpa', 'yr_id'])\n",
    "    \n",
    "    sra_df = pd.read_excel(find_file(url=rf'J:\\DataScience\\DataQuality\\QAQC\\Estimates QC Automation\\v_series15\\individual_files\\{estimates_version}', geo_level='sra', variable=variable, estimates_version=estimates_version)[0])\n",
    "    sra_df = sra_df.set_index(['sra', 'yr_id'])\n",
    "    \n",
    "    jurisdiction_df = pd.read_excel(find_file(url=rf'J:\\DataScience\\DataQuality\\QAQC\\Estimates QC Automation\\v_series15\\individual_files\\{estimates_version}', geo_level='jurisdiction', variable=variable, estimates_version=estimates_version)[0])\n",
    "    jurisdiction_df = jurisdiction_df.set_index(['jurisdiction', 'yr_id'])\n",
    "    \n",
    "    region_df = pd.read_excel(find_file(url=rf'J:\\DataScience\\DataQuality\\QAQC\\Estimates QC Automation\\v_series15\\individual_files\\{estimates_version}', geo_level='region', variable=variable, estimates_version=estimates_version)[0])\n",
    "    region_df = region_df.set_index(['region', 'yr_id'])\n",
    "\n",
    "    print(f\"{variable}: {check_dataframe_sums(mgra_df, census_tract_df, luz_df, cpa_df, jurisdiction_df, region_df)}\")\n",
    "\n"
   ]
  },
  {
   "attachments": {},
   "cell_type": "markdown",
   "metadata": {},
   "source": [
    "## For Age Sex Ethnicity"
   ]
  },
  {
   "cell_type": "code",
   "execution_count": 52,
   "metadata": {},
   "outputs": [],
   "source": [
    "estimates_version = '2022_03'\n",
    "variables = ['age_sex_ethnicity']\n",
    "geo_levels = ['census_tract', 'luz', 'cpa', 'sra', 'jurisdiction', 'region']"
   ]
  },
  {
   "cell_type": "code",
   "execution_count": 53,
   "metadata": {},
   "outputs": [
    {
     "name": "stdout",
     "output_type": "stream",
     "text": [
      "age_sex_ethnicity: All dataframes have the same column sums\n"
     ]
    }
   ],
   "source": [
    "for variable in variables:\n",
    "    census_tract_df = pd.read_excel(find_file(url=rf'J:\\DataScience\\DataQuality\\QAQC\\Estimates QC Automation\\v_series15\\individual_files\\{estimates_version}', geo_level='census_tract', variable=variable, estimates_version=estimates_version)[0])\n",
    "    census_tract_df = census_tract_df.set_index(['census_tract', 'yr_id', 'age group', 'sex'])\n",
    "\n",
    "    luz_df = pd.read_excel(find_file(url=rf'J:\\DataScience\\DataQuality\\QAQC\\Estimates QC Automation\\v_series15\\individual_files\\{estimates_version}', geo_level='luz', variable=variable, estimates_version=estimates_version)[0])\n",
    "    luz_df = luz_df.set_index(['luz', 'yr_id', 'age group', 'sex'])\n",
    "    \n",
    "    cpa_df = pd.read_excel(find_file(url=rf'J:\\DataScience\\DataQuality\\QAQC\\Estimates QC Automation\\v_series15\\individual_files\\{estimates_version}', geo_level='cpa', variable=variable, estimates_version=estimates_version)[0])\n",
    "    cpa_df = cpa_df.set_index(['cpa', 'yr_id', 'age group', 'sex'])\n",
    "    \n",
    "    sra_df = pd.read_excel(find_file(url=rf'J:\\DataScience\\DataQuality\\QAQC\\Estimates QC Automation\\v_series15\\individual_files\\{estimates_version}', geo_level='sra', variable=variable, estimates_version=estimates_version)[0])\n",
    "    sra_df = sra_df.set_index(['sra', 'yr_id', 'age group', 'sex'])\n",
    "    \n",
    "    jurisdiction_df = pd.read_excel(find_file(url=rf'J:\\DataScience\\DataQuality\\QAQC\\Estimates QC Automation\\v_series15\\individual_files\\{estimates_version}', geo_level='jurisdiction', variable=variable, estimates_version=estimates_version)[0])\n",
    "    jurisdiction_df = jurisdiction_df.set_index(['jurisdiction', 'yr_id', 'age group', 'sex'])\n",
    "    \n",
    "    region_df = pd.read_excel(find_file(url=rf'J:\\DataScience\\DataQuality\\QAQC\\Estimates QC Automation\\v_series15\\individual_files\\{estimates_version}', geo_level='region', variable=variable, estimates_version=estimates_version)[0])\n",
    "    region_df = region_df.set_index(['region', 'yr_id', 'age group', 'sex'])\n",
    "\n",
    "    print(f\"{variable}: {check_dataframe_sums(census_tract_df, luz_df, cpa_df, jurisdiction_df, region_df)}\")"
   ]
  }
 ],
 "metadata": {
  "kernelspec": {
   "display_name": "base",
   "language": "python",
   "name": "python3"
  },
  "language_info": {
   "codemirror_mode": {
    "name": "ipython",
    "version": 3
   },
   "file_extension": ".py",
   "mimetype": "text/x-python",
   "name": "python",
   "nbconvert_exporter": "python",
   "pygments_lexer": "ipython3",
   "version": "3.8.8"
  },
  "orig_nbformat": 4
 },
 "nbformat": 4,
 "nbformat_minor": 2
}
