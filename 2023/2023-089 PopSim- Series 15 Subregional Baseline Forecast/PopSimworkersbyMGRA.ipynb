{
 "cells": [
  {
   "cell_type": "code",
   "execution_count": 5,
   "metadata": {},
   "outputs": [],
   "source": [
    "\n",
    "import os\n",
    "import glob\n",
    "import pandas as pd\n",
    "\n",
    "def workers_synhh(directory_path, excel_path):\n",
    "    \"\"\"\n",
    "    Process synthetic households csv files from the specified directory path,\n",
    "    calculate the total number of workers by MGRA for each forecast year,\n",
    "    and save the summary to an Excel file.\n",
    "\n",
    "    Args:\n",
    "    directory_path (str): Path to the directory containing the CSV files\n",
    "    excel_path (str): Path to save the Excel file\n",
    "\n",
    "    Returns:\n",
    "    None\n",
    "    \"\"\"\n",
    "    # Loading the CSV files\n",
    "    files_csv = glob.glob(os.path.join(directory_path, 'synthetic_households*.csv'))\n",
    "\n",
    "    # Initializing an empty list and appending the popsim outputs to the empty list\n",
    "    syn_hhs = []\n",
    "\n",
    "    for file in files_csv:\n",
    "        df = pd.read_csv(file)\n",
    "        file_name = os.path.basename(file)[:-4]\n",
    "        syn_hhs.append((df, file_name))\n",
    "\n",
    "    # Numbers of workers by MGRA for each forecast year\n",
    "    workers_all = pd.DataFrame()\n",
    "\n",
    "    for df, file_name in syn_hhs:\n",
    "        workers_mgra = df.groupby('mgra')['workers'].sum().rename(file_name)\n",
    "        if workers_all.empty:\n",
    "            workers_all = pd.DataFrame(workers_mgra)\n",
    "        else:\n",
    "            workers_all = pd.merge(workers_all, workers_mgra, left_index=True, right_index=True, how='outer')\n",
    "\n",
    "    workers_all['Workers_mean'] = workers_all.mean(axis=1).round().astype(int)\n",
    "    workers_all['Workers_mdn'] = workers_all.median(axis=1).round().astype(int)\n",
    "    workers_all.reset_index(inplace=True)\n",
    "\n",
    "    # Creating workers by MGRA Excel output\n",
    "    if not os.path.exists(excel_path):\n",
    "        workers_all.to_excel(excel_path, index=True)\n",
    "    else:\n",
    "        print(f\"The file {excel_path} already exists and cannot be overwritten.\")\n",
    "\n",
    "\n",
    "directory_path = r''\n",
    "excel_path = r''\n",
    "\n",
    "workers_synhh(directory_path, excel_path)"
   ]
  }
 ],
 "metadata": {
  "kernelspec": {
   "display_name": "Python 3",
   "language": "python",
   "name": "python3"
  },
  "language_info": {
   "codemirror_mode": {
    "name": "ipython",
    "version": 3
   },
   "file_extension": ".py",
   "mimetype": "text/x-python",
   "name": "python",
   "nbconvert_exporter": "python",
   "pygments_lexer": "ipython3",
   "version": "3.10.6"
  }
 },
 "nbformat": 4,
 "nbformat_minor": 2
}
