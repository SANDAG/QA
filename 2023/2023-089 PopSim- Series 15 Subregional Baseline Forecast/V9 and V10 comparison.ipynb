{
 "cells": [
  {
   "cell_type": "code",
   "execution_count": 1,
   "id": "ebd94e94",
   "metadata": {},
   "outputs": [],
   "source": [
    "import pandas as pd\n",
    "import numpy as np"
   ]
  },
  {
   "cell_type": "code",
   "execution_count": 2,
   "id": "65d3a000",
   "metadata": {},
   "outputs": [],
   "source": [
    "path = r'C:\\Users\\jchu\\OneDrive - San Diego Association of Governments\\Projects\\2023\\Series 15 Subregional Forecast\\2023-089 PopSim- Series 15 Subregional Baseline Forecast\\Data'\n",
    "persons = {}\n",
    "households = {}\n",
    "years = [2026, 2029, 2032, 2035, 2040, 2050]"
   ]
  },
  {
   "cell_type": "code",
   "execution_count": 3,
   "id": "4cc32c89",
   "metadata": {},
   "outputs": [],
   "source": [
    "for year in years:\n",
    "    persons['v9_{}'.format(year)] = pd.read_csv(path+r'\\version9\\synthetic_persons_{}.csv'.format(year)).fillna('NA')\n",
    "    households['v9_{}'.format(year)] = pd.read_csv(path+r'\\version9\\synthetic_households_{}.csv'.format(year)).fillna('NA')\n",
    "    \n",
    "\n",
    "    persons['v10_{}'.format(year)] = pd.read_csv(path+r'\\version10\\synthetic_persons_{}.csv'.format(year)).fillna('NA')\n",
    "    households['v10_{}'.format(year)] = pd.read_csv(path+r'\\version10\\synthetic_households_{}.csv'.format(year)).fillna('NA')"
   ]
  },
  {
   "cell_type": "code",
   "execution_count": 17,
   "id": "825bcaaa",
   "metadata": {},
   "outputs": [
    {
     "name": "stdout",
     "output_type": "stream",
     "text": [
      "CHECK FOR YEAR: 2026\n",
      "persons check\n",
      "0\n",
      "households_check\n",
      "0\n",
      "gq_check\n",
      "0\n",
      "workers_check\n",
      "0\n",
      "[6. 0. 3.]\n",
      "--------------------------\n",
      "CHECK FOR YEAR: 2029\n",
      "persons check\n",
      "0\n",
      "households_check\n",
      "0\n",
      "gq_check\n",
      "0\n",
      "workers_check\n",
      "0\n",
      "[6. 0. 3.]\n",
      "--------------------------\n",
      "CHECK FOR YEAR: 2032\n",
      "persons check\n",
      "0\n",
      "households_check\n",
      "0\n",
      "gq_check\n",
      "0\n",
      "workers_check\n",
      "0\n",
      "[6. 0. 3.]\n",
      "--------------------------\n",
      "CHECK FOR YEAR: 2035\n",
      "persons check\n",
      "0\n",
      "households_check\n",
      "0\n",
      "gq_check\n",
      "0\n",
      "workers_check\n",
      "0\n",
      "[6. 0. 3.]\n",
      "--------------------------\n",
      "CHECK FOR YEAR: 2040\n",
      "persons check\n",
      "0\n",
      "households_check\n",
      "0\n",
      "gq_check\n",
      "0\n",
      "workers_check\n",
      "0\n",
      "[6. 3. 0.]\n",
      "--------------------------\n",
      "CHECK FOR YEAR: 2050\n",
      "persons check\n",
      "0\n",
      "households_check\n",
      "0\n",
      "gq_check\n",
      "0\n",
      "workers_check\n",
      "0\n",
      "[6. 0. 3.]\n",
      "--------------------------\n"
     ]
    }
   ],
   "source": [
    "for year in years:\n",
    "    print('CHECK FOR YEAR: ' + str(year))\n",
    "    print('persons check')\n",
    "    print((persons['v9_{}'.format(year)].sort_values(['mgra', 'household_id', 'SERIALNO', 'SPORDER']).reset_index(drop=True) != persons['v10_{}'.format(year)].sort_values(['mgra', 'household_id', 'SERIALNO', 'SPORDER']).reset_index(drop=True)).sum().sum())\n",
    "    print('households_check')\n",
    "    print((households['v9_{}'.format(year)][['household_id', 'mgra', 'SERIALNO', 'NP', 'HHADJINC', 'HHT', 'HUPAC', 'VEH', 'BLD']] != households['v10_{}'.format(year)][['household_id', 'mgra', 'SERIALNO', 'NP', 'HHADJINC', 'HHT', 'HUPAC', 'VEH', 'BLD']]).sum().sum())\n",
    "    print('gq_check')\n",
    "    print(((households['v9_{}'.format(year)]['TYPEHUGQ']==1) != (households['v10_{}'.format(year)]['gq_type']==0)).sum())\n",
    "    print('workers_check')\n",
    "    workers_check = persons['v10_{}'.format(year)][persons['v10_{}'.format(year)]['ESR'].isin([1, 2, 4, 5])].groupby('household_id').count()['mgra'].reset_index().merge(households['v10_{}'.format(year)][['household_id', 'workers']], on='household_id', how='left')\n",
    "    workers_check['diff'] = workers_check['mgra'] - workers_check['workers']\n",
    "    print(workers_check['diff'].sum())\n",
    "    print(persons['v10_{}'.format(year)][~persons['v10_{}'.format(year)]['household_id'].isin(workers_check['household_id'])]['ESR'].unique())\n",
    "    print('-'*26)"
   ]
  },
  {
   "cell_type": "code",
   "execution_count": 6,
   "id": "b91bae4e",
   "metadata": {},
   "outputs": [
    {
     "data": {
      "text/plain": [
       "{2026: gq_type\n",
       " 0    1526266\n",
       " 1      40766\n",
       " 2       5399\n",
       " 3       3792\n",
       " Name: workers, dtype: int64,\n",
       " 2029: gq_type\n",
       " 0    1541558\n",
       " 1      41075\n",
       " 2       5430\n",
       " 3       3804\n",
       " Name: workers, dtype: int64,\n",
       " 2032: gq_type\n",
       " 0    1558781\n",
       " 1      41554\n",
       " 2       5489\n",
       " 3       3836\n",
       " Name: workers, dtype: int64,\n",
       " 2035: gq_type\n",
       " 0    1577471\n",
       " 1      42074\n",
       " 2       5570\n",
       " 3       3886\n",
       " Name: workers, dtype: int64,\n",
       " 2040: gq_type\n",
       " 0    1607231\n",
       " 1      41850\n",
       " 2       5534\n",
       " 3       3872\n",
       " Name: workers, dtype: int64,\n",
       " 2050: gq_type\n",
       " 0    1630336\n",
       " 1      41181\n",
       " 2       5464\n",
       " 3       3682\n",
       " Name: workers, dtype: int64}"
      ]
     },
     "execution_count": 6,
     "metadata": {},
     "output_type": "execute_result"
    }
   ],
   "source": [
    "workers_households = {}\n",
    "for year in years:\n",
    "    workers_households[year] = households['v10_{}'.format(year)].groupby('gq_type')['workers'].sum()\n",
    "workers_households"
   ]
  },
  {
   "cell_type": "markdown",
   "id": "8cc6adbd",
   "metadata": {},
   "source": [
    "# Workers by Household Type"
   ]
  },
  {
   "cell_type": "code",
   "execution_count": 8,
   "id": "1d352c37",
   "metadata": {},
   "outputs": [
    {
     "data": {
      "text/html": [
       "<div>\n",
       "<style scoped>\n",
       "    .dataframe tbody tr th:only-of-type {\n",
       "        vertical-align: middle;\n",
       "    }\n",
       "\n",
       "    .dataframe tbody tr th {\n",
       "        vertical-align: top;\n",
       "    }\n",
       "\n",
       "    .dataframe thead th {\n",
       "        text-align: right;\n",
       "    }\n",
       "</style>\n",
       "<table border=\"1\" class=\"dataframe\">\n",
       "  <thead>\n",
       "    <tr style=\"text-align: right;\">\n",
       "      <th>gq_type</th>\n",
       "      <th>0</th>\n",
       "      <th>1</th>\n",
       "      <th>2</th>\n",
       "      <th>3</th>\n",
       "    </tr>\n",
       "  </thead>\n",
       "  <tbody>\n",
       "    <tr>\n",
       "      <th>2026</th>\n",
       "      <td>1526266</td>\n",
       "      <td>40766</td>\n",
       "      <td>5399</td>\n",
       "      <td>3792</td>\n",
       "    </tr>\n",
       "    <tr>\n",
       "      <th>2029</th>\n",
       "      <td>1541558</td>\n",
       "      <td>41075</td>\n",
       "      <td>5430</td>\n",
       "      <td>3804</td>\n",
       "    </tr>\n",
       "    <tr>\n",
       "      <th>2032</th>\n",
       "      <td>1558781</td>\n",
       "      <td>41554</td>\n",
       "      <td>5489</td>\n",
       "      <td>3836</td>\n",
       "    </tr>\n",
       "    <tr>\n",
       "      <th>2035</th>\n",
       "      <td>1577471</td>\n",
       "      <td>42074</td>\n",
       "      <td>5570</td>\n",
       "      <td>3886</td>\n",
       "    </tr>\n",
       "    <tr>\n",
       "      <th>2040</th>\n",
       "      <td>1607231</td>\n",
       "      <td>41850</td>\n",
       "      <td>5534</td>\n",
       "      <td>3872</td>\n",
       "    </tr>\n",
       "    <tr>\n",
       "      <th>2050</th>\n",
       "      <td>1630336</td>\n",
       "      <td>41181</td>\n",
       "      <td>5464</td>\n",
       "      <td>3682</td>\n",
       "    </tr>\n",
       "  </tbody>\n",
       "</table>\n",
       "</div>"
      ],
      "text/plain": [
       "gq_type        0      1     2     3\n",
       "2026     1526266  40766  5399  3792\n",
       "2029     1541558  41075  5430  3804\n",
       "2032     1558781  41554  5489  3836\n",
       "2035     1577471  42074  5570  3886\n",
       "2040     1607231  41850  5534  3872\n",
       "2050     1630336  41181  5464  3682"
      ]
     },
     "execution_count": 8,
     "metadata": {},
     "output_type": "execute_result"
    }
   ],
   "source": [
    "pd.DataFrame(workers_households).T"
   ]
  },
  {
   "cell_type": "code",
   "execution_count": null,
   "id": "79fd3c3e",
   "metadata": {},
   "outputs": [],
   "source": []
  },
  {
   "cell_type": "code",
   "execution_count": null,
   "id": "c90f8511",
   "metadata": {},
   "outputs": [],
   "source": []
  }
 ],
 "metadata": {
  "kernelspec": {
   "display_name": "Python 3 (ipykernel)",
   "language": "python",
   "name": "python3"
  },
  "language_info": {
   "codemirror_mode": {
    "name": "ipython",
    "version": 3
   },
   "file_extension": ".py",
   "mimetype": "text/x-python",
   "name": "python",
   "nbconvert_exporter": "python",
   "pygments_lexer": "ipython3",
   "version": "3.9.7"
  }
 },
 "nbformat": 4,
 "nbformat_minor": 5
}
