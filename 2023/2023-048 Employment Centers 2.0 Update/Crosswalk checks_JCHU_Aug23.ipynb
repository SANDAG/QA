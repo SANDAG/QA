{
 "cells": [
  {
   "cell_type": "code",
   "execution_count": 1,
   "id": "2cf41672",
   "metadata": {},
   "outputs": [],
   "source": [
    "import pandas as pd\n",
    "import numpy as np"
   ]
  },
  {
   "cell_type": "code",
   "execution_count": 2,
   "id": "f072a019",
   "metadata": {},
   "outputs": [
    {
     "data": {
      "text/html": [
       "<div>\n",
       "<style scoped>\n",
       "    .dataframe tbody tr th:only-of-type {\n",
       "        vertical-align: middle;\n",
       "    }\n",
       "\n",
       "    .dataframe tbody tr th {\n",
       "        vertical-align: top;\n",
       "    }\n",
       "\n",
       "    .dataframe thead th {\n",
       "        text-align: right;\n",
       "    }\n",
       "</style>\n",
       "<table border=\"1\" class=\"dataframe\">\n",
       "  <thead>\n",
       "    <tr style=\"text-align: right;\">\n",
       "      <th></th>\n",
       "      <th>TAZ_13</th>\n",
       "      <th>EC_ID</th>\n",
       "      <th>EC_Name</th>\n",
       "      <th>Tier</th>\n",
       "    </tr>\n",
       "  </thead>\n",
       "  <tbody>\n",
       "    <tr>\n",
       "      <th>0</th>\n",
       "      <td>13</td>\n",
       "      <td>50</td>\n",
       "      <td>Oceanside - San Luis Rey Mission</td>\n",
       "      <td>4</td>\n",
       "    </tr>\n",
       "    <tr>\n",
       "      <th>1</th>\n",
       "      <td>15</td>\n",
       "      <td>93</td>\n",
       "      <td>Marine Corps Base Camp Pendleton</td>\n",
       "      <td>5</td>\n",
       "    </tr>\n",
       "    <tr>\n",
       "      <th>2</th>\n",
       "      <td>16</td>\n",
       "      <td>93</td>\n",
       "      <td>Marine Corps Base Camp Pendleton</td>\n",
       "      <td>5</td>\n",
       "    </tr>\n",
       "    <tr>\n",
       "      <th>3</th>\n",
       "      <td>43</td>\n",
       "      <td>93</td>\n",
       "      <td>Marine Corps Base Camp Pendleton</td>\n",
       "      <td>5</td>\n",
       "    </tr>\n",
       "    <tr>\n",
       "      <th>4</th>\n",
       "      <td>46</td>\n",
       "      <td>26</td>\n",
       "      <td>Fallbrook</td>\n",
       "      <td>4</td>\n",
       "    </tr>\n",
       "  </tbody>\n",
       "</table>\n",
       "</div>"
      ],
      "text/plain": [
       "   TAZ_13  EC_ID                           EC_Name  Tier\n",
       "0      13     50  Oceanside - San Luis Rey Mission     4\n",
       "1      15     93  Marine Corps Base Camp Pendleton     5\n",
       "2      16     93  Marine Corps Base Camp Pendleton     5\n",
       "3      43     93  Marine Corps Base Camp Pendleton     5\n",
       "4      46     26                         Fallbrook     4"
      ]
     },
     "execution_count": 2,
     "metadata": {},
     "output_type": "execute_result"
    }
   ],
   "source": [
    "taz = pd.read_csv(r'Outputs/EC2_taz13.CSV')\n",
    "taz.head()"
   ]
  },
  {
   "cell_type": "code",
   "execution_count": 3,
   "id": "9acffb11",
   "metadata": {},
   "outputs": [
    {
     "data": {
      "text/html": [
       "<div>\n",
       "<style scoped>\n",
       "    .dataframe tbody tr th:only-of-type {\n",
       "        vertical-align: middle;\n",
       "    }\n",
       "\n",
       "    .dataframe tbody tr th {\n",
       "        vertical-align: top;\n",
       "    }\n",
       "\n",
       "    .dataframe thead th {\n",
       "        text-align: right;\n",
       "    }\n",
       "</style>\n",
       "<table border=\"1\" class=\"dataframe\">\n",
       "  <thead>\n",
       "    <tr style=\"text-align: right;\">\n",
       "      <th></th>\n",
       "      <th>MGRA_13</th>\n",
       "      <th>EC_ID</th>\n",
       "      <th>EC_Name</th>\n",
       "      <th>Tier</th>\n",
       "    </tr>\n",
       "  </thead>\n",
       "  <tbody>\n",
       "    <tr>\n",
       "      <th>0</th>\n",
       "      <td>13</td>\n",
       "      <td>28</td>\n",
       "      <td>Hillcrest</td>\n",
       "      <td>2</td>\n",
       "    </tr>\n",
       "    <tr>\n",
       "      <th>1</th>\n",
       "      <td>15</td>\n",
       "      <td>28</td>\n",
       "      <td>Hillcrest</td>\n",
       "      <td>2</td>\n",
       "    </tr>\n",
       "    <tr>\n",
       "      <th>2</th>\n",
       "      <td>18</td>\n",
       "      <td>47</td>\n",
       "      <td>Ocean Beach</td>\n",
       "      <td>2</td>\n",
       "    </tr>\n",
       "    <tr>\n",
       "      <th>3</th>\n",
       "      <td>19</td>\n",
       "      <td>47</td>\n",
       "      <td>Ocean Beach</td>\n",
       "      <td>2</td>\n",
       "    </tr>\n",
       "    <tr>\n",
       "      <th>4</th>\n",
       "      <td>20</td>\n",
       "      <td>47</td>\n",
       "      <td>Ocean Beach</td>\n",
       "      <td>2</td>\n",
       "    </tr>\n",
       "  </tbody>\n",
       "</table>\n",
       "</div>"
      ],
      "text/plain": [
       "   MGRA_13  EC_ID      EC_Name  Tier\n",
       "0       13     28    Hillcrest     2\n",
       "1       15     28    Hillcrest     2\n",
       "2       18     47  Ocean Beach     2\n",
       "3       19     47  Ocean Beach     2\n",
       "4       20     47  Ocean Beach     2"
      ]
     },
     "execution_count": 3,
     "metadata": {},
     "output_type": "execute_result"
    }
   ],
   "source": [
    "mgra = pd.read_csv(r'Outputs/EC2_mgra13.CSV')\n",
    "mgra.head()"
   ]
  },
  {
   "cell_type": "markdown",
   "id": "ba94fe65",
   "metadata": {},
   "source": [
    "# Check only unique taz and mgra per ec"
   ]
  },
  {
   "cell_type": "code",
   "execution_count": 4,
   "id": "54132b77",
   "metadata": {},
   "outputs": [
    {
     "data": {
      "text/plain": [
       "(2105, 4)"
      ]
     },
     "execution_count": 4,
     "metadata": {},
     "output_type": "execute_result"
    }
   ],
   "source": [
    "taz.shape"
   ]
  },
  {
   "cell_type": "code",
   "execution_count": 5,
   "id": "6f7bc2f0",
   "metadata": {},
   "outputs": [
    {
     "data": {
      "text/plain": [
       "2105"
      ]
     },
     "execution_count": 5,
     "metadata": {},
     "output_type": "execute_result"
    }
   ],
   "source": [
    "len(taz['TAZ_13'].unique())"
   ]
  },
  {
   "cell_type": "code",
   "execution_count": 6,
   "id": "2686075a",
   "metadata": {},
   "outputs": [
    {
     "data": {
      "text/plain": [
       "(7678, 4)"
      ]
     },
     "execution_count": 6,
     "metadata": {},
     "output_type": "execute_result"
    }
   ],
   "source": [
    "mgra.shape"
   ]
  },
  {
   "cell_type": "code",
   "execution_count": 7,
   "id": "6aaf3321",
   "metadata": {},
   "outputs": [
    {
     "data": {
      "text/plain": [
       "7678"
      ]
     },
     "execution_count": 7,
     "metadata": {},
     "output_type": "execute_result"
    }
   ],
   "source": [
    "len(mgra['MGRA_13'].unique())"
   ]
  },
  {
   "cell_type": "markdown",
   "id": "0d47273b",
   "metadata": {},
   "source": [
    "# Check ECs in crosswalk"
   ]
  },
  {
   "cell_type": "code",
   "execution_count": 8,
   "id": "cae912f1",
   "metadata": {},
   "outputs": [
    {
     "data": {
      "text/plain": [
       "array(['Oceanside - San Luis Rey Mission',\n",
       "       'Marine Corps Base Camp Pendleton', 'Fallbrook', 'Casino Pauma',\n",
       "       \"Harrah's Resort Southern California\", 'Oceanside - Old Grove',\n",
       "       'Vista Guajome', 'Oceanside - Rancho Del Oro',\n",
       "       'Oceanside Civic Center', 'Vista Village',\n",
       "       'Oceanside - Oceanside Boulevard', 'Oceanside Tri-city',\n",
       "       'El Camino', 'Vista Sycamore', 'Carlsbad Village',\n",
       "       'San Marcos Civic Center', 'Vista Tech Park',\n",
       "       'Escondido Centre City', 'Carlsbad Palomar Airport',\n",
       "       'Escondido - Midway', 'Escondido - Palomar',\n",
       "       'Carlsbad State Beach', 'Encinitas Beach',\n",
       "       'Encinitas - I-5 Eastward', 'Encinitas - La Costa', 'Ramona',\n",
       "       'West Bernardo', 'Rancho Bernardo', 'Solana Beach',\n",
       "       'Barona Resort & Casino', 'Del Mar Fairgrounds', 'Del Mar',\n",
       "       'Poway', 'Rancho Peñasquitos', 'Carmel Valley', 'Scripps Poway',\n",
       "       'Sorrento Valley West', 'Sorrento Valley East', 'Scripps Ranch',\n",
       "       'Marine Corps Air Station Miramar', 'Miramar', 'Carroll Canyon',\n",
       "       'Lakeside', 'Viejas Casino & Resort', 'University City', 'Santee',\n",
       "       'La Jolla', 'Kearny Mesa West', 'Alpine', 'Kearny Mesa East',\n",
       "       'El Cajon - Gillespie Field', 'Morena Boulevard', 'Clairemont',\n",
       "       'El Cajon', 'Pacific Beach', 'Linda Vista', 'Lake Murray',\n",
       "       'Mission Gorge', 'University of San Diego', 'Sycuan Casino Resort',\n",
       "       'Mission Valley', 'La Mesa', 'San Diego State University',\n",
       "       'Mid-City', 'University Heights', 'Normal Heights', 'Ocean Beach',\n",
       "       'Hillcrest', 'Jamacha', 'Spring Valley', 'San Diego Airport',\n",
       "       'Lemon Grove', 'Marine Corps Recruit Depot', 'Balboa Park',\n",
       "       'Fleet Anti-Submarine Warfare', 'Downtown',\n",
       "       'Naval Medical Center San Diego', 'Golden Hill', 'Encanto',\n",
       "       'Naval Air Station North Island Coronado', 'Logan Heights',\n",
       "       'Jamul Casino', 'Naval Base Point Loma', 'Barrio Logan',\n",
       "       'Golden Acorn Casino & Travel Center', 'Coronado', 'National City',\n",
       "       'Naval Base San Diego', 'Naval Amphibious Base Coronado',\n",
       "       'Sweetwater', 'Chula Vista Northwest', 'Chula Vista Eastlake',\n",
       "       'Chula Vista - Sunbow', 'Chula Vista Southwest',\n",
       "       'Chula Vista Otay', 'Otay Mesa East', 'Imperial Beach - Nestor',\n",
       "       'Otay Mesa Brown Field', 'San Ysidro'], dtype=object)"
      ]
     },
     "execution_count": 8,
     "metadata": {},
     "output_type": "execute_result"
    }
   ],
   "source": [
    "taz['EC_Name'].unique()"
   ]
  },
  {
   "cell_type": "code",
   "execution_count": 9,
   "id": "65ce0867",
   "metadata": {},
   "outputs": [
    {
     "data": {
      "text/plain": [
       "array([  1,   2,   3,   4,   5,   6,   7,   8,   9,  10,  11,  12,  13,\n",
       "        14,  15,  16,  17,  18,  19,  20,  21,  22,  23,  24,  25,  26,\n",
       "        27,  28,  29,  30,  31,  32,  33,  34,  35,  36,  37,  38,  39,\n",
       "        40,  41,  42,  43,  44,  45,  46,  47,  48,  49,  50,  51,  52,\n",
       "        53,  54,  55,  56,  57,  58,  59,  60,  61,  62,  63,  64,  65,\n",
       "        66,  67,  68,  69,  70,  71,  72,  73,  74,  75,  76,  77,  78,\n",
       "        79,  82,  83,  87,  88,  90,  91,  92,  93,  94,  95,  96,  97,\n",
       "        98, 100, 101, 102, 103, 104, 106, 108], dtype=int64)"
      ]
     },
     "execution_count": 9,
     "metadata": {},
     "output_type": "execute_result"
    }
   ],
   "source": [
    "taz['EC_ID'].sort_values().unique()"
   ]
  },
  {
   "cell_type": "code",
   "execution_count": 10,
   "id": "b85d521d",
   "metadata": {},
   "outputs": [
    {
     "data": {
      "text/plain": [
       "99"
      ]
     },
     "execution_count": 10,
     "metadata": {},
     "output_type": "execute_result"
    }
   ],
   "source": [
    "len(taz['EC_Name'].unique())"
   ]
  },
  {
   "cell_type": "code",
   "execution_count": 11,
   "id": "ac5e83e9",
   "metadata": {},
   "outputs": [
    {
     "data": {
      "text/plain": [
       "array(['Hillcrest', 'Ocean Beach', 'San Diego Airport', 'Mission Valley',\n",
       "       'University Heights', 'Normal Heights', 'Mission Gorge',\n",
       "       'Mid-City', 'Lemon Grove', 'Encanto', 'San Diego State University',\n",
       "       'La Mesa', 'National City', 'Sweetwater', 'Naval Base San Diego',\n",
       "       'Logan Heights', 'Barrio Logan', 'Golden Hill', 'Balboa Park',\n",
       "       'Downtown', 'Naval Medical Center San Diego',\n",
       "       'Marine Corps Recruit Depot', 'Naval Base Point Loma',\n",
       "       'Pacific Beach', 'Morena Boulevard', 'La Jolla',\n",
       "       'Sorrento Valley West', 'University City', 'Solana Beach',\n",
       "       'Del Mar', 'Carmel Valley', 'Sorrento Valley East',\n",
       "       'Carroll Canyon', 'Miramar', 'Marine Corps Air Station Miramar',\n",
       "       'Scripps Ranch', 'Rancho Peñasquitos', 'Clairemont', 'Linda Vista',\n",
       "       'Kearny Mesa West', 'Kearny Mesa East', 'University of San Diego',\n",
       "       'Lake Murray', 'Naval Air Station North Island Coronado',\n",
       "       'Imperial Beach - Nestor', 'San Ysidro', 'Otay Mesa Brown Field',\n",
       "       'Otay Mesa East', 'Chula Vista Otay', 'Chula Vista Southwest',\n",
       "       'Coronado', 'Chula Vista Northwest', 'Chula Vista - Sunbow',\n",
       "       'Chula Vista Eastlake', 'Spring Valley', 'Jamacha', 'El Cajon',\n",
       "       'Sycuan Casino Resort', 'El Cajon - Gillespie Field', 'Santee',\n",
       "       'Lakeside', 'Barona Resort & Casino', 'Poway', 'West Bernardo',\n",
       "       'Rancho Bernardo', 'Scripps Poway', 'Encinitas - La Costa',\n",
       "       'Del Mar Fairgrounds', 'Encinitas Beach',\n",
       "       'Encinitas - I-5 Eastward', 'Carlsbad Village', 'El Camino',\n",
       "       'Carlsbad State Beach', 'Oceanside Civic Center',\n",
       "       'Oceanside - Oceanside Boulevard', 'Oceanside - Old Grove',\n",
       "       'Oceanside - San Luis Rey Mission', 'Oceanside - Rancho Del Oro',\n",
       "       'Oceanside Tri-city', 'Marine Corps Base Camp Pendleton',\n",
       "       'Fallbrook', 'Pala Casino Spa Resort', 'Casino Pauma',\n",
       "       \"Harrah's Resort Southern California\",\n",
       "       'Valley View Casino & Hotel', 'Vista Guajome', 'Vista Village',\n",
       "       'Carlsbad Palomar Airport', 'Vista Tech Park', 'Vista Sycamore',\n",
       "       'San Marcos Civic Center', 'Escondido - Palomar',\n",
       "       'Escondido Centre City', 'Escondido - Midway', 'Ramona',\n",
       "       'Golden Acorn Casino & Travel Center', 'Viejas Casino & Resort',\n",
       "       'Alpine', 'Jamul Casino', 'Fleet Anti-Submarine Warfare',\n",
       "       'Naval Amphibious Base Coronado'], dtype=object)"
      ]
     },
     "execution_count": 11,
     "metadata": {},
     "output_type": "execute_result"
    }
   ],
   "source": [
    "mgra['EC_Name'].unique()"
   ]
  },
  {
   "cell_type": "code",
   "execution_count": 12,
   "id": "e863ae27",
   "metadata": {},
   "outputs": [
    {
     "data": {
      "text/plain": [
       "array([  1,   2,   3,   4,   5,   6,   7,   8,   9,  10,  11,  12,  13,\n",
       "        14,  15,  16,  17,  18,  19,  20,  21,  22,  23,  24,  25,  26,\n",
       "        27,  28,  29,  30,  31,  32,  33,  34,  35,  36,  37,  38,  39,\n",
       "        40,  41,  42,  43,  44,  45,  46,  47,  48,  49,  50,  51,  52,\n",
       "        53,  54,  55,  56,  57,  58,  59,  60,  61,  62,  63,  64,  65,\n",
       "        66,  67,  68,  69,  70,  71,  72,  73,  74,  75,  76,  77,  78,\n",
       "        79,  82,  83,  87,  88,  90,  91,  92,  93,  94,  95,  96,  97,\n",
       "        98, 100, 101, 102, 103, 104, 105, 106, 107, 108], dtype=int64)"
      ]
     },
     "execution_count": 12,
     "metadata": {},
     "output_type": "execute_result"
    }
   ],
   "source": [
    "mgra['EC_ID'].sort_values().unique()"
   ]
  },
  {
   "cell_type": "code",
   "execution_count": 13,
   "id": "f3e98853",
   "metadata": {},
   "outputs": [
    {
     "data": {
      "text/plain": [
       "101"
      ]
     },
     "execution_count": 13,
     "metadata": {},
     "output_type": "execute_result"
    }
   ],
   "source": [
    "len(mgra['EC_Name'].unique())"
   ]
  },
  {
   "cell_type": "code",
   "execution_count": 14,
   "id": "e38b5f4d",
   "metadata": {},
   "outputs": [
    {
     "data": {
      "text/plain": [
       "{105, 107}"
      ]
     },
     "execution_count": 14,
     "metadata": {},
     "output_type": "execute_result"
    }
   ],
   "source": [
    "missing = set(np.append(taz['EC_ID'].sort_values().unique(), mgra['EC_ID'].sort_values().unique())) - set(taz['EC_ID'].sort_values().unique())\n",
    "missing"
   ]
  },
  {
   "cell_type": "code",
   "execution_count": 15,
   "id": "3570828a",
   "metadata": {},
   "outputs": [
    {
     "data": {
      "text/html": [
       "<div>\n",
       "<style scoped>\n",
       "    .dataframe tbody tr th:only-of-type {\n",
       "        vertical-align: middle;\n",
       "    }\n",
       "\n",
       "    .dataframe tbody tr th {\n",
       "        vertical-align: top;\n",
       "    }\n",
       "\n",
       "    .dataframe thead th {\n",
       "        text-align: right;\n",
       "    }\n",
       "</style>\n",
       "<table border=\"1\" class=\"dataframe\">\n",
       "  <thead>\n",
       "    <tr style=\"text-align: right;\">\n",
       "      <th></th>\n",
       "      <th>MGRA_13</th>\n",
       "      <th>EC_ID</th>\n",
       "      <th>EC_Name</th>\n",
       "      <th>Tier</th>\n",
       "    </tr>\n",
       "  </thead>\n",
       "  <tbody>\n",
       "    <tr>\n",
       "      <th>6406</th>\n",
       "      <td>15981</td>\n",
       "      <td>105</td>\n",
       "      <td>Pala Casino Spa Resort</td>\n",
       "      <td>6</td>\n",
       "    </tr>\n",
       "    <tr>\n",
       "      <th>6407</th>\n",
       "      <td>15982</td>\n",
       "      <td>105</td>\n",
       "      <td>Pala Casino Spa Resort</td>\n",
       "      <td>6</td>\n",
       "    </tr>\n",
       "    <tr>\n",
       "      <th>6416</th>\n",
       "      <td>16093</td>\n",
       "      <td>105</td>\n",
       "      <td>Pala Casino Spa Resort</td>\n",
       "      <td>6</td>\n",
       "    </tr>\n",
       "    <tr>\n",
       "      <th>6417</th>\n",
       "      <td>16094</td>\n",
       "      <td>105</td>\n",
       "      <td>Pala Casino Spa Resort</td>\n",
       "      <td>6</td>\n",
       "    </tr>\n",
       "    <tr>\n",
       "      <th>6418</th>\n",
       "      <td>16095</td>\n",
       "      <td>105</td>\n",
       "      <td>Pala Casino Spa Resort</td>\n",
       "      <td>6</td>\n",
       "    </tr>\n",
       "    <tr>\n",
       "      <th>6419</th>\n",
       "      <td>16097</td>\n",
       "      <td>105</td>\n",
       "      <td>Pala Casino Spa Resort</td>\n",
       "      <td>6</td>\n",
       "    </tr>\n",
       "    <tr>\n",
       "      <th>6420</th>\n",
       "      <td>16123</td>\n",
       "      <td>105</td>\n",
       "      <td>Pala Casino Spa Resort</td>\n",
       "      <td>6</td>\n",
       "    </tr>\n",
       "    <tr>\n",
       "      <th>6421</th>\n",
       "      <td>16246</td>\n",
       "      <td>105</td>\n",
       "      <td>Pala Casino Spa Resort</td>\n",
       "      <td>6</td>\n",
       "    </tr>\n",
       "    <tr>\n",
       "      <th>6422</th>\n",
       "      <td>16247</td>\n",
       "      <td>105</td>\n",
       "      <td>Pala Casino Spa Resort</td>\n",
       "      <td>6</td>\n",
       "    </tr>\n",
       "    <tr>\n",
       "      <th>6423</th>\n",
       "      <td>16249</td>\n",
       "      <td>105</td>\n",
       "      <td>Pala Casino Spa Resort</td>\n",
       "      <td>6</td>\n",
       "    </tr>\n",
       "    <tr>\n",
       "      <th>6424</th>\n",
       "      <td>16250</td>\n",
       "      <td>105</td>\n",
       "      <td>Pala Casino Spa Resort</td>\n",
       "      <td>6</td>\n",
       "    </tr>\n",
       "    <tr>\n",
       "      <th>6425</th>\n",
       "      <td>16251</td>\n",
       "      <td>105</td>\n",
       "      <td>Pala Casino Spa Resort</td>\n",
       "      <td>6</td>\n",
       "    </tr>\n",
       "    <tr>\n",
       "      <th>6426</th>\n",
       "      <td>16252</td>\n",
       "      <td>105</td>\n",
       "      <td>Pala Casino Spa Resort</td>\n",
       "      <td>6</td>\n",
       "    </tr>\n",
       "    <tr>\n",
       "      <th>6427</th>\n",
       "      <td>16253</td>\n",
       "      <td>105</td>\n",
       "      <td>Pala Casino Spa Resort</td>\n",
       "      <td>6</td>\n",
       "    </tr>\n",
       "    <tr>\n",
       "      <th>6428</th>\n",
       "      <td>16254</td>\n",
       "      <td>105</td>\n",
       "      <td>Pala Casino Spa Resort</td>\n",
       "      <td>6</td>\n",
       "    </tr>\n",
       "    <tr>\n",
       "      <th>6429</th>\n",
       "      <td>16255</td>\n",
       "      <td>105</td>\n",
       "      <td>Pala Casino Spa Resort</td>\n",
       "      <td>6</td>\n",
       "    </tr>\n",
       "    <tr>\n",
       "      <th>6430</th>\n",
       "      <td>16256</td>\n",
       "      <td>105</td>\n",
       "      <td>Pala Casino Spa Resort</td>\n",
       "      <td>6</td>\n",
       "    </tr>\n",
       "    <tr>\n",
       "      <th>6431</th>\n",
       "      <td>16263</td>\n",
       "      <td>105</td>\n",
       "      <td>Pala Casino Spa Resort</td>\n",
       "      <td>6</td>\n",
       "    </tr>\n",
       "    <tr>\n",
       "      <th>6432</th>\n",
       "      <td>16264</td>\n",
       "      <td>105</td>\n",
       "      <td>Pala Casino Spa Resort</td>\n",
       "      <td>6</td>\n",
       "    </tr>\n",
       "    <tr>\n",
       "      <th>6439</th>\n",
       "      <td>16652</td>\n",
       "      <td>107</td>\n",
       "      <td>Valley View Casino &amp; Hotel</td>\n",
       "      <td>6</td>\n",
       "    </tr>\n",
       "    <tr>\n",
       "      <th>6440</th>\n",
       "      <td>16657</td>\n",
       "      <td>107</td>\n",
       "      <td>Valley View Casino &amp; Hotel</td>\n",
       "      <td>6</td>\n",
       "    </tr>\n",
       "    <tr>\n",
       "      <th>6441</th>\n",
       "      <td>16662</td>\n",
       "      <td>107</td>\n",
       "      <td>Valley View Casino &amp; Hotel</td>\n",
       "      <td>6</td>\n",
       "    </tr>\n",
       "    <tr>\n",
       "      <th>6442</th>\n",
       "      <td>16731</td>\n",
       "      <td>107</td>\n",
       "      <td>Valley View Casino &amp; Hotel</td>\n",
       "      <td>6</td>\n",
       "    </tr>\n",
       "  </tbody>\n",
       "</table>\n",
       "</div>"
      ],
      "text/plain": [
       "      MGRA_13  EC_ID                     EC_Name  Tier\n",
       "6406    15981    105      Pala Casino Spa Resort     6\n",
       "6407    15982    105      Pala Casino Spa Resort     6\n",
       "6416    16093    105      Pala Casino Spa Resort     6\n",
       "6417    16094    105      Pala Casino Spa Resort     6\n",
       "6418    16095    105      Pala Casino Spa Resort     6\n",
       "6419    16097    105      Pala Casino Spa Resort     6\n",
       "6420    16123    105      Pala Casino Spa Resort     6\n",
       "6421    16246    105      Pala Casino Spa Resort     6\n",
       "6422    16247    105      Pala Casino Spa Resort     6\n",
       "6423    16249    105      Pala Casino Spa Resort     6\n",
       "6424    16250    105      Pala Casino Spa Resort     6\n",
       "6425    16251    105      Pala Casino Spa Resort     6\n",
       "6426    16252    105      Pala Casino Spa Resort     6\n",
       "6427    16253    105      Pala Casino Spa Resort     6\n",
       "6428    16254    105      Pala Casino Spa Resort     6\n",
       "6429    16255    105      Pala Casino Spa Resort     6\n",
       "6430    16256    105      Pala Casino Spa Resort     6\n",
       "6431    16263    105      Pala Casino Spa Resort     6\n",
       "6432    16264    105      Pala Casino Spa Resort     6\n",
       "6439    16652    107  Valley View Casino & Hotel     6\n",
       "6440    16657    107  Valley View Casino & Hotel     6\n",
       "6441    16662    107  Valley View Casino & Hotel     6\n",
       "6442    16731    107  Valley View Casino & Hotel     6"
      ]
     },
     "execution_count": 15,
     "metadata": {},
     "output_type": "execute_result"
    }
   ],
   "source": [
    "mgra[mgra['EC_ID'].isin(missing)]"
   ]
  },
  {
   "cell_type": "code",
   "execution_count": null,
   "id": "6f3f9a28",
   "metadata": {},
   "outputs": [],
   "source": []
  }
 ],
 "metadata": {
  "kernelspec": {
   "display_name": "Python 3 (ipykernel)",
   "language": "python",
   "name": "python3"
  },
  "language_info": {
   "codemirror_mode": {
    "name": "ipython",
    "version": 3
   },
   "file_extension": ".py",
   "mimetype": "text/x-python",
   "name": "python",
   "nbconvert_exporter": "python",
   "pygments_lexer": "ipython3",
   "version": "3.9.7"
  }
 },
 "nbformat": 4,
 "nbformat_minor": 5
}
