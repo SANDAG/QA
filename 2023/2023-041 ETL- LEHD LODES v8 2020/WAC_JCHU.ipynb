{
 "cells": [
  {
   "cell_type": "code",
   "execution_count": 1,
   "id": "ba67d517-e407-4e7e-8b81-f19ec672fb89",
   "metadata": {},
   "outputs": [],
   "source": [
    "import pandas as pd\n",
    "import dask.dataframe as dd\n",
    "import numpy as np\n",
    "import os\n",
    "import pyodbc \n",
    "import glob"
   ]
  },
  {
   "cell_type": "markdown",
   "id": "4e21b835-3f56-41b6-8ef0-7c769f2c1515",
   "metadata": {},
   "source": [
    "# R Drive Source"
   ]
  },
  {
   "cell_type": "code",
   "execution_count": 2,
   "id": "b97abe0c",
   "metadata": {},
   "outputs": [],
   "source": [
    "yrs = range(2002, 2021)"
   ]
  },
  {
   "cell_type": "code",
   "execution_count": 3,
   "id": "c2d0a01f",
   "metadata": {},
   "outputs": [
    {
     "name": "stdout",
     "output_type": "stream",
     "text": [
      "----complete: 2002\n",
      "----complete: 2003\n",
      "----complete: 2004\n",
      "----complete: 2005\n",
      "----complete: 2006\n",
      "----complete: 2007\n",
      "----complete: 2008\n",
      "----complete: 2009\n",
      "----complete: 2010\n",
      "----complete: 2011\n",
      "----complete: 2012\n",
      "----complete: 2013\n",
      "----complete: 2014\n",
      "----complete: 2015\n",
      "----complete: 2016\n",
      "----complete: 2017\n",
      "----complete: 2018\n",
      "----complete: 2019\n",
      "----complete: 2020\n"
     ]
    }
   ],
   "source": [
    "sources = dict()\n",
    "for year in yrs:\n",
    "    # source data\n",
    "    csv = glob.glob(r\"R:\\DPOE\\LEHD LODES\\8.0\\Source\\wac\" + \"/*\" + str(year) + \".csv\")\n",
    "    dfs = []\n",
    "\n",
    "    for filename in csv:\n",
    "        df = dd.read_csv(filename)\n",
    "        dfs.append(df)\n",
    "\n",
    "    dfs_year = dd.concat(dfs, axis=0)\n",
    "    \n",
    "    sources[year] = pd.DataFrame(dfs_year[dfs_year['w_geocode'].astype(str).str.startswith('6073')].compute())\n",
    "    print('----complete: ' + str(year))"
   ]
  },
  {
   "cell_type": "markdown",
   "id": "b4b662f1-5451-4b5a-9fda-19e7368c32cf",
   "metadata": {},
   "source": [
    "# Database"
   ]
  },
  {
   "cell_type": "code",
   "execution_count": 4,
   "id": "114b4c61-ba38-42f2-8310-f00d345e2c02",
   "metadata": {},
   "outputs": [],
   "source": [
    "# Connect to DDAMWSQL16 to access staging table and create separate dataframes for each year\n",
    "conn = pyodbc.connect('Driver={ODBC Driver 17 for SQL Server};'\n",
    "                      'Server=DDAMWSQL16.sandag.org;'\n",
    "                      'Database=socioec_data;'\n",
    "                      'Trusted_Connection=yes;')\n",
    "\n",
    "# tbl = 'socioec_data.lehd_lodes.od_7_5'\n",
    "tbl = '[dpoe_stage].[lehd_lodes].[wac_8_0]'\n",
    "\n",
    "database = {}\n",
    "\n",
    "for x in yrs:\n",
    "    qry = \"SELECT * FROM \" + tbl + \" WHERE yr=\" + str(x)\n",
    "    database[x] = pd.read_sql_query(qry, conn)"
   ]
  },
  {
   "cell_type": "markdown",
   "id": "accc19d6-e760-4c3b-ab3d-4080b83455d2",
   "metadata": {},
   "source": [
    "# Check data totals"
   ]
  },
  {
   "cell_type": "code",
   "execution_count": 5,
   "id": "d5d7808e",
   "metadata": {},
   "outputs": [],
   "source": [
    "sql_qc = {}\n",
    "\n",
    "for x in yrs:       \n",
    "    # Remove non-numeric columns\n",
    "    sql_qcyr = database[x].select_dtypes(include=np.number)\n",
    "    del sql_qcyr['yr']\n",
    "    \n",
    "    # Summary row\n",
    "    total = sql_qcyr.sum()\n",
    "    total.name = 'Total'\n",
    "    \n",
    "    sql_qc[x] = sql_qcyr.append(total.transpose())\n",
    "    \n",
    "csv_qc = {}\n",
    "\n",
    "for x in yrs:\n",
    "    # Select only numeric columns\n",
    "    csv_qcyr = sources[x].iloc[:, 1:-1]\n",
    "    \n",
    "    # Summary row\n",
    "    total = csv_qcyr.sum()\n",
    "    total.name = 'Total'\n",
    "    \n",
    "    csv_qc[x] = csv_qcyr.append(total.transpose())"
   ]
  },
  {
   "cell_type": "code",
   "execution_count": 9,
   "id": "333bf47c",
   "metadata": {},
   "outputs": [
    {
     "name": "stdout",
     "output_type": "stream",
     "text": [
      "2002 - sql:(369501, 51) || csv:(369501, 51)\n",
      "sql:67094160 || csv:67094160\n",
      "2002 - Shapes match: True | Totals match: True\n",
      "----------------------------------------------------------------------------\n",
      "2003 - sql:(376805, 51) || csv:(376805, 51)\n",
      "sql:67698848 || csv:67698848\n",
      "2003 - Shapes match: True | Totals match: True\n",
      "----------------------------------------------------------------------------\n",
      "2004 - sql:(383423, 51) || csv:(383423, 51)\n",
      "sql:68507376 || csv:68507376\n",
      "2004 - Shapes match: True | Totals match: True\n",
      "----------------------------------------------------------------------------\n",
      "2005 - sql:(389881, 51) || csv:(389881, 51)\n",
      "sql:69654928 || csv:69654928\n",
      "2005 - Shapes match: True | Totals match: True\n",
      "----------------------------------------------------------------------------\n",
      "2006 - sql:(395457, 51) || csv:(395457, 51)\n",
      "sql:70606336 || csv:70606336\n",
      "2006 - Shapes match: True | Totals match: True\n",
      "----------------------------------------------------------------------------\n",
      "2007 - sql:(438309, 51) || csv:(438309, 51)\n",
      "sql:70206352 || csv:70206352\n",
      "2007 - Shapes match: True | Totals match: True\n",
      "----------------------------------------------------------------------------\n",
      "2008 - sql:(447931, 51) || csv:(447931, 51)\n",
      "sql:71157744 || csv:71157744\n",
      "2008 - Shapes match: True | Totals match: True\n",
      "----------------------------------------------------------------------------\n",
      "2009 - sql:(443735, 51) || csv:(443735, 51)\n",
      "sql:131320484 || csv:131320484\n",
      "2009 - Shapes match: True | Totals match: True\n",
      "----------------------------------------------------------------------------\n",
      "2010 - sql:(446631, 51) || csv:(446631, 51)\n",
      "sql:135458724 || csv:135458724\n",
      "2010 - Shapes match: True | Totals match: True\n",
      "----------------------------------------------------------------------------\n",
      "2011 - sql:(407051, 51) || csv:(407051, 51)\n",
      "sql:140332904 || csv:140332904\n",
      "2011 - Shapes match: True | Totals match: True\n",
      "----------------------------------------------------------------------------\n",
      "2012 - sql:(410033, 51) || csv:(410033, 51)\n",
      "sql:140723130 || csv:140723130\n",
      "2012 - Shapes match: True | Totals match: True\n",
      "----------------------------------------------------------------------------\n",
      "2013 - sql:(413047, 51) || csv:(413047, 51)\n",
      "sql:144527758 || csv:144527758\n",
      "2013 - Shapes match: True | Totals match: True\n",
      "----------------------------------------------------------------------------\n",
      "2014 - sql:(416447, 51) || csv:(416447, 51)\n",
      "sql:148332208 || csv:148332208\n",
      "2014 - Shapes match: True | Totals match: True\n",
      "----------------------------------------------------------------------------\n",
      "2015 - sql:(422245, 51) || csv:(422245, 51)\n",
      "sql:151339208 || csv:151339208\n",
      "2015 - Shapes match: True | Totals match: True\n",
      "----------------------------------------------------------------------------\n",
      "2016 - sql:(436077, 51) || csv:(436077, 51)\n",
      "sql:156523060 || csv:156523060\n",
      "2016 - Shapes match: True | Totals match: True\n",
      "----------------------------------------------------------------------------\n",
      "2017 - sql:(443041, 51) || csv:(443041, 51)\n",
      "sql:159258510 || csv:159258510\n",
      "2017 - Shapes match: True | Totals match: True\n",
      "----------------------------------------------------------------------------\n",
      "2018 - sql:(448829, 51) || csv:(448829, 51)\n",
      "sql:162659824 || csv:162659824\n",
      "2018 - Shapes match: True | Totals match: True\n",
      "----------------------------------------------------------------------------\n",
      "2019 - sql:(455115, 51) || csv:(455115, 51)\n",
      "sql:163754638 || csv:163754638\n",
      "2019 - Shapes match: True | Totals match: True\n",
      "----------------------------------------------------------------------------\n",
      "2020 - sql:(433931, 51) || csv:(433931, 51)\n",
      "sql:155133008 || csv:155133008\n",
      "2020 - Shapes match: True | Totals match: True\n",
      "----------------------------------------------------------------------------\n"
     ]
    }
   ],
   "source": [
    "for x in yrs:   \n",
    "    # Compare dataframe shapes\n",
    "    shape_qc = sql_qc[x].shape == csv_qc[x].shape\n",
    "    \n",
    "    if shape_qc == True:\n",
    "        # Get only total rows from each data frame\n",
    "        sql_tot = sql_qc[x].iloc[-1:]\n",
    "        csv_tot = csv_qc[x].iloc[-1:]\n",
    "        \n",
    "        # Check summary totals\n",
    "        tot_check = csv_tot.equals(sql_tot)\n",
    "        print('{0} - sql:{1} || csv:{2}'.format(x, sql_qc[x].shape, csv_qc[x].shape))\n",
    "        print('sql:{0} || csv:{1}'.format(sql_tot.sum().sum(), csv_tot.sum().sum()))\n",
    "        print('{0} - Shapes match: {1} | Totals match: {2}'.format(x, shape_qc, tot_check))\n",
    "        print('----------------------------------------------------------------------------')\n",
    "    else:\n",
    "        print('{0}: data frame shape error'.format(x))"
   ]
  },
  {
   "cell_type": "code",
   "execution_count": 7,
   "id": "c8c90393",
   "metadata": {},
   "outputs": [
    {
     "name": "stdout",
     "output_type": "stream",
     "text": [
      "2002: True - SQL: 12983; CSV: 12983\n",
      "2003: True - SQL: 13218; CSV: 13218\n",
      "2004: True - SQL: 13400; CSV: 13400\n",
      "2005: True - SQL: 13574; CSV: 13574\n",
      "2006: True - SQL: 13726; CSV: 13726\n",
      "2007: True - SQL: 15750; CSV: 15750\n",
      "2008: True - SQL: 16104; CSV: 16104\n",
      "2009: True - SQL: 16119; CSV: 16119\n",
      "2010: True - SQL: 16115; CSV: 16115\n",
      "2011: True - SQL: 14262; CSV: 14262\n",
      "2012: True - SQL: 14844; CSV: 14844\n",
      "2013: True - SQL: 14863; CSV: 14863\n",
      "2014: True - SQL: 15074; CSV: 15074\n",
      "2015: True - SQL: 15303; CSV: 15303\n",
      "2016: True - SQL: 15760; CSV: 15760\n",
      "2017: True - SQL: 15922; CSV: 15922\n",
      "2018: True - SQL: 16106; CSV: 16106\n",
      "2019: True - SQL: 16287; CSV: 16287\n",
      "2020: True - SQL: 15675; CSV: 15675\n"
     ]
    }
   ],
   "source": [
    "# Connection to DDAMWSQL16\n",
    "# Check distinct census blocks in SQL table and CSVs\n",
    "\n",
    "conn = pyodbc.connect('Driver={ODBC Driver 17 for SQL Server};'\n",
    "                      'Server=DDAMWSQL16.sandag.org;'\n",
    "                      'Database=socioec_data;'\n",
    "                      'Trusted_Connection=yes;')\n",
    "\n",
    "tbl = '[dpoe_stage].[lehd_lodes].[wac_8_0]'\n",
    "\n",
    "sql_blocks = {}\n",
    "\n",
    "for x in yrs:\n",
    "    # Check distinct census blocks in year SQL table\n",
    "    qry = \"SELECT DISTINCT w_geocode FROM \" + tbl + \" WHERE yr=\" + str(x)\n",
    "    sql_blocks[x] = pd.read_sql_query(qry, conn)\n",
    "    \n",
    "    sql_blocksyr = sql_blocks[x].shape[0]\n",
    "    \n",
    "    # Check distinct census blocks in year CSV\n",
    "    csv_blockssdyr = sources[x].drop_duplicates(subset=['w_geocode']).shape[0]\n",
    "    \n",
    "    sql_csv_blocks = csv_blockssdyr == sql_blocksyr\n",
    "    \n",
    "    print('{0}: {1} - SQL: {2}; CSV: {3}'.format(str(x), sql_csv_blocks, sql_blocksyr, csv_blockssdyr))"
   ]
  },
  {
   "cell_type": "code",
   "execution_count": 8,
   "id": "1b23a4f1",
   "metadata": {},
   "outputs": [
    {
     "name": "stdout",
     "output_type": "stream",
     "text": [
      "Total Census Blocks in GeoDepot: 28474\n"
     ]
    }
   ],
   "source": [
    "# Connection to sql2014b8\n",
    "\n",
    "conn = pyodbc.connect('Driver={ODBC Driver 17 for SQL Server};'\n",
    "                      'Server=sql2014b8.sandag.org;'\n",
    "                      'Database=GeoDepot;'\n",
    "                      'Trusted_Connection=yes;')\n",
    "\n",
    "# Check number of distinct census blocks in CENSUSBLOCKS layer\n",
    "qry = \"SELECT DISTINCT CTBLOCK FROM GeoDepot.gis.CENSUSBLOCKS\"\n",
    "gis = pd.read_sql_query(qry, conn)\n",
    "\n",
    "gis_blocks = len(gis)\n",
    "\n",
    "print('Total Census Blocks in GeoDepot: {0}'.format(gis_blocks))"
   ]
  },
  {
   "cell_type": "code",
   "execution_count": null,
   "id": "d7c61ecf",
   "metadata": {},
   "outputs": [],
   "source": []
  },
  {
   "cell_type": "code",
   "execution_count": null,
   "id": "a88f62bf",
   "metadata": {},
   "outputs": [],
   "source": []
  }
 ],
 "metadata": {
  "kernelspec": {
   "display_name": "Python 3 (ipykernel)",
   "language": "python",
   "name": "python3"
  },
  "language_info": {
   "codemirror_mode": {
    "name": "ipython",
    "version": 3
   },
   "file_extension": ".py",
   "mimetype": "text/x-python",
   "name": "python",
   "nbconvert_exporter": "python",
   "pygments_lexer": "ipython3",
   "version": "3.9.7"
  }
 },
 "nbformat": 4,
 "nbformat_minor": 5
}
