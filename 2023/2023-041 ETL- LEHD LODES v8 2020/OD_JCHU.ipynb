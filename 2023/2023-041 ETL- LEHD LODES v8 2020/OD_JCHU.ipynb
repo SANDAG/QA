{
 "cells": [
  {
   "cell_type": "code",
   "execution_count": 1,
   "id": "39d4f1a6",
   "metadata": {},
   "outputs": [],
   "source": [
    "import os \n",
    "import pandas as pd\n",
    "import numpy as np\n",
    "import glob\n",
    "import pyodbc\n",
    "import gc\n",
    "import sys\n",
    "import dask.dataframe as dd"
   ]
  },
  {
   "cell_type": "code",
   "execution_count": 2,
   "id": "87c58a2a",
   "metadata": {},
   "outputs": [],
   "source": [
    "path = r'R:\\DPOE\\LEHD LODES\\8.0\\Source\\od'"
   ]
  },
  {
   "cell_type": "code",
   "execution_count": 3,
   "id": "f2c68d6c",
   "metadata": {},
   "outputs": [
    {
     "name": "stdout",
     "output_type": "stream",
     "text": [
      "----complete: 2020\n"
     ]
    }
   ],
   "source": [
    "sources = dict()\n",
    "for year in range(2002, 2021):\n",
    "    # source data\n",
    "    csv = glob.glob(path + \"/*\" + str(year) + \".csv\")\n",
    "    dfs = []\n",
    "\n",
    "    for filename in csv:\n",
    "        df = dd.read_csv(filename)\n",
    "        w_geo = df['w_geocode'].astype(str).str.startswith('6073')\n",
    "        h_geo = df['h_geocode'].astype(str).str.startswith('6073')\n",
    "        dfs.append(df[w_geo|h_geo])\n",
    "\n",
    "    dfs_year = dd.concat(dfs, axis=0)\n",
    "    sources[year] = dfs_year\n",
    "    print('----complete: ' + str(year))"
   ]
  },
  {
   "cell_type": "code",
   "execution_count": 4,
   "id": "7d4a01d0",
   "metadata": {},
   "outputs": [
    {
     "data": {
      "text/html": [
       "<div>\n",
       "<style scoped>\n",
       "    .dataframe tbody tr th:only-of-type {\n",
       "        vertical-align: middle;\n",
       "    }\n",
       "\n",
       "    .dataframe tbody tr th {\n",
       "        vertical-align: top;\n",
       "    }\n",
       "\n",
       "    .dataframe thead th {\n",
       "        text-align: right;\n",
       "    }\n",
       "</style>\n",
       "<table border=\"1\" class=\"dataframe\">\n",
       "  <thead>\n",
       "    <tr style=\"text-align: right;\">\n",
       "      <th></th>\n",
       "      <th>w_geocode</th>\n",
       "      <th>h_geocode</th>\n",
       "      <th>S000</th>\n",
       "      <th>SA01</th>\n",
       "      <th>SA02</th>\n",
       "      <th>SA03</th>\n",
       "      <th>SE01</th>\n",
       "      <th>SE02</th>\n",
       "      <th>SE03</th>\n",
       "      <th>SI01</th>\n",
       "      <th>SI02</th>\n",
       "      <th>SI03</th>\n",
       "      <th>createdate</th>\n",
       "    </tr>\n",
       "  </thead>\n",
       "  <tbody>\n",
       "    <tr>\n",
       "      <th>128743</th>\n",
       "      <td>60730001001021</td>\n",
       "      <td>220050303012005</td>\n",
       "      <td>1</td>\n",
       "      <td>0</td>\n",
       "      <td>1</td>\n",
       "      <td>0</td>\n",
       "      <td>0</td>\n",
       "      <td>0</td>\n",
       "      <td>1</td>\n",
       "      <td>1</td>\n",
       "      <td>0</td>\n",
       "      <td>0</td>\n",
       "      <td>20230321</td>\n",
       "    </tr>\n",
       "    <tr>\n",
       "      <th>128744</th>\n",
       "      <td>60730001002025</td>\n",
       "      <td>171859573001020</td>\n",
       "      <td>1</td>\n",
       "      <td>0</td>\n",
       "      <td>1</td>\n",
       "      <td>0</td>\n",
       "      <td>1</td>\n",
       "      <td>0</td>\n",
       "      <td>0</td>\n",
       "      <td>0</td>\n",
       "      <td>0</td>\n",
       "      <td>1</td>\n",
       "      <td>20230321</td>\n",
       "    </tr>\n",
       "    <tr>\n",
       "      <th>128745</th>\n",
       "      <td>60730002011000</td>\n",
       "      <td>420171004021021</td>\n",
       "      <td>1</td>\n",
       "      <td>0</td>\n",
       "      <td>1</td>\n",
       "      <td>0</td>\n",
       "      <td>1</td>\n",
       "      <td>0</td>\n",
       "      <td>0</td>\n",
       "      <td>0</td>\n",
       "      <td>0</td>\n",
       "      <td>1</td>\n",
       "      <td>20230321</td>\n",
       "    </tr>\n",
       "    <tr>\n",
       "      <th>128746</th>\n",
       "      <td>60730002011008</td>\n",
       "      <td>511076112041001</td>\n",
       "      <td>1</td>\n",
       "      <td>0</td>\n",
       "      <td>1</td>\n",
       "      <td>0</td>\n",
       "      <td>0</td>\n",
       "      <td>0</td>\n",
       "      <td>1</td>\n",
       "      <td>0</td>\n",
       "      <td>0</td>\n",
       "      <td>1</td>\n",
       "      <td>20230321</td>\n",
       "    </tr>\n",
       "    <tr>\n",
       "      <th>128747</th>\n",
       "      <td>60730002012004</td>\n",
       "      <td>80410045151023</td>\n",
       "      <td>1</td>\n",
       "      <td>0</td>\n",
       "      <td>1</td>\n",
       "      <td>0</td>\n",
       "      <td>0</td>\n",
       "      <td>0</td>\n",
       "      <td>1</td>\n",
       "      <td>0</td>\n",
       "      <td>0</td>\n",
       "      <td>1</td>\n",
       "      <td>20230321</td>\n",
       "    </tr>\n",
       "  </tbody>\n",
       "</table>\n",
       "</div>"
      ],
      "text/plain": [
       "             w_geocode        h_geocode  S000  SA01  SA02  SA03  SE01  SE02  \\\n",
       "128743  60730001001021  220050303012005     1     0     1     0     0     0   \n",
       "128744  60730001002025  171859573001020     1     0     1     0     1     0   \n",
       "128745  60730002011000  420171004021021     1     0     1     0     1     0   \n",
       "128746  60730002011008  511076112041001     1     0     1     0     0     0   \n",
       "128747  60730002012004   80410045151023     1     0     1     0     0     0   \n",
       "\n",
       "        SE03  SI01  SI02  SI03  createdate  \n",
       "128743     1     1     0     0    20230321  \n",
       "128744     0     0     0     1    20230321  \n",
       "128745     0     0     0     1    20230321  \n",
       "128746     1     0     0     1    20230321  \n",
       "128747     1     0     0     1    20230321  "
      ]
     },
     "execution_count": 4,
     "metadata": {},
     "output_type": "execute_result"
    }
   ],
   "source": [
    "sources[2020].head()"
   ]
  },
  {
   "cell_type": "code",
   "execution_count": 5,
   "id": "fcc2ab1a",
   "metadata": {},
   "outputs": [
    {
     "name": "stdout",
     "output_type": "stream",
     "text": [
      "----complete: 2020\n"
     ]
    }
   ],
   "source": [
    "oos_path =  r'R:\\DPOE\\LEHD LODES\\8.0\\Source\\oos'\n",
    "oos_sources = dict()\n",
    "for year in range(2002, 2021):\n",
    "    \n",
    "    csv = glob.glob(oos_path + \"/*\" + str(year) + \".csv\")\n",
    "    dfs = []\n",
    "\n",
    "    for filename in csv:\n",
    "        df = dd.read_csv(filename)\n",
    "        w_geo = df['w_geocode'].astype(str).str.startswith('6073')\n",
    "        h_geo = df['h_geocode'].astype(str).str.startswith('6073')\n",
    "        dfs.append(df[h_geo|w_geo])\n",
    "\n",
    "    dfs_year = dd.concat(dfs, axis=0)\n",
    "    oos_sources[year] = dfs_year\n",
    "    print('----complete: ' + str(year))"
   ]
  },
  {
   "cell_type": "code",
   "execution_count": 6,
   "id": "c66c69a8",
   "metadata": {},
   "outputs": [
    {
     "data": {
      "text/html": [
       "<div>\n",
       "<style scoped>\n",
       "    .dataframe tbody tr th:only-of-type {\n",
       "        vertical-align: middle;\n",
       "    }\n",
       "\n",
       "    .dataframe tbody tr th {\n",
       "        vertical-align: top;\n",
       "    }\n",
       "\n",
       "    .dataframe thead th {\n",
       "        text-align: right;\n",
       "    }\n",
       "</style>\n",
       "<table border=\"1\" class=\"dataframe\">\n",
       "  <thead>\n",
       "    <tr style=\"text-align: right;\">\n",
       "      <th></th>\n",
       "      <th>w_geocode</th>\n",
       "      <th>h_geocode</th>\n",
       "      <th>S000</th>\n",
       "      <th>SA01</th>\n",
       "      <th>SA02</th>\n",
       "      <th>SA03</th>\n",
       "      <th>SE01</th>\n",
       "      <th>SE02</th>\n",
       "      <th>SE03</th>\n",
       "      <th>SI01</th>\n",
       "      <th>SI02</th>\n",
       "      <th>SI03</th>\n",
       "      <th>createdate</th>\n",
       "    </tr>\n",
       "  </thead>\n",
       "  <tbody>\n",
       "    <tr>\n",
       "      <th>2389</th>\n",
       "      <td>10030114112049</td>\n",
       "      <td>60730083472001</td>\n",
       "      <td>1</td>\n",
       "      <td>0</td>\n",
       "      <td>0</td>\n",
       "      <td>1</td>\n",
       "      <td>0</td>\n",
       "      <td>0</td>\n",
       "      <td>1</td>\n",
       "      <td>0</td>\n",
       "      <td>1</td>\n",
       "      <td>0</td>\n",
       "      <td>20230321</td>\n",
       "    </tr>\n",
       "    <tr>\n",
       "      <th>6613</th>\n",
       "      <td>10139529001016</td>\n",
       "      <td>60730185093004</td>\n",
       "      <td>1</td>\n",
       "      <td>0</td>\n",
       "      <td>1</td>\n",
       "      <td>0</td>\n",
       "      <td>1</td>\n",
       "      <td>0</td>\n",
       "      <td>0</td>\n",
       "      <td>0</td>\n",
       "      <td>1</td>\n",
       "      <td>0</td>\n",
       "      <td>20230321</td>\n",
       "    </tr>\n",
       "    <tr>\n",
       "      <th>6642</th>\n",
       "      <td>10139529002036</td>\n",
       "      <td>60730200303013</td>\n",
       "      <td>1</td>\n",
       "      <td>0</td>\n",
       "      <td>0</td>\n",
       "      <td>1</td>\n",
       "      <td>0</td>\n",
       "      <td>0</td>\n",
       "      <td>1</td>\n",
       "      <td>0</td>\n",
       "      <td>1</td>\n",
       "      <td>0</td>\n",
       "      <td>20230321</td>\n",
       "    </tr>\n",
       "    <tr>\n",
       "      <th>6830</th>\n",
       "      <td>10150007002017</td>\n",
       "      <td>60730136044005</td>\n",
       "      <td>1</td>\n",
       "      <td>1</td>\n",
       "      <td>0</td>\n",
       "      <td>0</td>\n",
       "      <td>0</td>\n",
       "      <td>1</td>\n",
       "      <td>0</td>\n",
       "      <td>0</td>\n",
       "      <td>0</td>\n",
       "      <td>1</td>\n",
       "      <td>20230321</td>\n",
       "    </tr>\n",
       "    <tr>\n",
       "      <th>7450</th>\n",
       "      <td>10150012012011</td>\n",
       "      <td>60730029031000</td>\n",
       "      <td>1</td>\n",
       "      <td>1</td>\n",
       "      <td>0</td>\n",
       "      <td>0</td>\n",
       "      <td>1</td>\n",
       "      <td>0</td>\n",
       "      <td>0</td>\n",
       "      <td>0</td>\n",
       "      <td>1</td>\n",
       "      <td>0</td>\n",
       "      <td>20230321</td>\n",
       "    </tr>\n",
       "  </tbody>\n",
       "</table>\n",
       "</div>"
      ],
      "text/plain": [
       "           w_geocode       h_geocode  S000  SA01  SA02  SA03  SE01  SE02  \\\n",
       "2389  10030114112049  60730083472001     1     0     0     1     0     0   \n",
       "6613  10139529001016  60730185093004     1     0     1     0     1     0   \n",
       "6642  10139529002036  60730200303013     1     0     0     1     0     0   \n",
       "6830  10150007002017  60730136044005     1     1     0     0     0     1   \n",
       "7450  10150012012011  60730029031000     1     1     0     0     1     0   \n",
       "\n",
       "      SE03  SI01  SI02  SI03  createdate  \n",
       "2389     1     0     1     0    20230321  \n",
       "6613     0     0     1     0    20230321  \n",
       "6642     1     0     1     0    20230321  \n",
       "6830     0     0     0     1    20230321  \n",
       "7450     0     0     1     0    20230321  "
      ]
     },
     "execution_count": 6,
     "metadata": {},
     "output_type": "execute_result"
    }
   ],
   "source": [
    "oos_sources[2020].head()"
   ]
  },
  {
   "cell_type": "markdown",
   "id": "36c9f53d",
   "metadata": {},
   "source": [
    "**Loading the staging tables** "
   ]
  },
  {
   "cell_type": "code",
   "execution_count": 7,
   "id": "df0ee2de",
   "metadata": {},
   "outputs": [],
   "source": [
    "conn = pyodbc.connect('Driver={ODBC Driver 17 for SQL Server};'\n",
    "                      'Server=DDAMWSQL16.sandag.org;'\n",
    "                      'Database=socioec_data;'\n",
    "                      'Trusted_Connection=yes;')"
   ]
  },
  {
   "cell_type": "code",
   "execution_count": 8,
   "id": "59732e4e",
   "metadata": {},
   "outputs": [
    {
     "name": "stdout",
     "output_type": "stream",
     "text": [
      "----complete: 2020\n"
     ]
    }
   ],
   "source": [
    "database = dict()\n",
    "\n",
    "for year in range(2002, 2021):\n",
    "    od = \"\"\"\n",
    "    SELECT *\n",
    "    FROM [dpoe_stage].[lehd_lodes].[od_8_0]\n",
    "    WHERE yr = \"\"\" + str(year)\n",
    "    db = pd.read_sql_query(od, conn)\n",
    "    database[year] = db\n",
    "    print('----complete: ' + str(year))"
   ]
  },
  {
   "cell_type": "markdown",
   "id": "aec06679",
   "metadata": {},
   "source": [
    "### QC checks\n",
    "1. Compare the row counts\n",
    "2. Compare data types<br>\n",
    "**Note**- The source data only contains those that work within San Diego geoid (starting with 06073) or live within California (06). OOS data contains those that work outside of California, but live in San Diego."
   ]
  },
  {
   "cell_type": "code",
   "execution_count": null,
   "id": "0b62ea3d",
   "metadata": {},
   "outputs": [],
   "source": [
    "for year in range(2002, 2021):\n",
    "    source_df = sources[year].shape[0].compute()\n",
    "    oos_df = oos_sources[year].shape[0]\n",
    "    database_df = database[year].shape[0]\n",
    "    print(str(year) + ': database sub - {0} || source sub - {1} || diff - {2}'.format(database_df, source_df, database_df-(source_df + oos_df))"
   ]
  },
  {
   "cell_type": "code",
   "execution_count": null,
   "id": "205e0cb7",
   "metadata": {},
   "outputs": [],
   "source": []
  },
  {
   "cell_type": "markdown",
   "id": "f25b3559",
   "metadata": {},
   "source": [
    "### Compare data types"
   ]
  },
  {
   "cell_type": "code",
   "execution_count": null,
   "id": "8a58f929",
   "metadata": {},
   "outputs": [],
   "source": [
    "source_subs[2020].dtypes"
   ]
  },
  {
   "cell_type": "code",
   "execution_count": null,
   "id": "1279d148",
   "metadata": {},
   "outputs": [],
   "source": [
    "database[2020].dtypes"
   ]
  },
  {
   "cell_type": "markdown",
   "id": "3a4df4de",
   "metadata": {},
   "source": [
    "### Compare sum totals"
   ]
  },
  {
   "cell_type": "code",
   "execution_count": null,
   "id": "4c27816f",
   "metadata": {},
   "outputs": [],
   "source": [
    "for year in range(2002, 2021):\n",
    "    od_tot = sources[year].iloc[:,2:-1].sum().compute()\n",
    "    oos_tot = oos_sources[year].iloc[:,2:-1].sum().compute()\n",
    "    print('{0} - od_tot: {1} || oos_tot: {2}'.format(year, od_tot, oos_tot))\n",
    "    print('{0} - od_tot: {1} || oos_tot: {2}'.format(year, od_tot.sum(), oos_tot.sum()))\n",
    "    print('-------------------------------')"
   ]
  },
  {
   "cell_type": "markdown",
   "id": "721ffb6e",
   "metadata": {},
   "source": [
    "```\n",
    "SQL\n",
    "\n",
    "-- Get Table Totals\n",
    "SELECT yr, \n",
    "SUM(S000) AS S000,\n",
    "SUM(SA01) as SA01,\n",
    "SUM(SA02) AS SA02,\n",
    "SUM(SA03) AS SA03,\n",
    "SUM(SE01) AS SE01,\n",
    "SUM(SE02) AS SE02,\n",
    "SUM(SE03) AS SE03,\n",
    "SUM(SI01) AS SI01,\n",
    "SUM(SI02) AS SI02,\n",
    "SUM(SI03) AS SI03,\n",
    "SUM(S000)+SUM(SA01)+SUM(SA02)+SUM(SA03)+SUM(SE01)+SUM(SE02)+SUM(SE03)+SUM(SI01)+SUM(SI02)+SUM(SI03) AS TOTAL\n",
    "FROM [dpoe_stage].[lehd_lodes].[od_8_0]\n",
    "GROUP BY yr\n",
    "ORDER BY yr\n",
    "```"
   ]
  },
  {
   "cell_type": "markdown",
   "id": "843c559e",
   "metadata": {},
   "source": [
    "### Check Census Blocks included"
   ]
  },
  {
   "cell_type": "code",
   "execution_count": null,
   "id": "607c10f0",
   "metadata": {},
   "outputs": [],
   "source": [
    "db_count_h = dict()\n",
    "db_count_w = dict()\n",
    "\n",
    "for year in range(2013, 2021):\n",
    "    qry = \"SELECT DISTINCT h_geocode FROM [dpoe_stage].[lehd_lodes].[od_8_0] WHERE yr = \" + str(year)\n",
    "    db_blocks = pd.read_sql_query(qry, conn)\n",
    "    db_count_h[year] = db_blocks.shape[0]\n",
    "    print('h_geoid: {0} - {1}'.format(year, db_count_h[year]))\n",
    "\n",
    "    # w_geoid blocks\n",
    "    qry = \"SELECT DISTINCT w_geocode FROM [dpoe_stage].[lehd_lodes].[od_8_0] WHERE yr = \" + str(year)\n",
    "    db_blocks = pd.read_sql_query(qry, conn)\n",
    "    db_count_w[year] = db_blocks.shape[0]\n",
    "    print('w_geoid: {0} - {1}'.format(year, db_count_w[year]))"
   ]
  },
  {
   "cell_type": "code",
   "execution_count": null,
   "id": "ff443556",
   "metadata": {},
   "outputs": [],
   "source": [
    "source_subs[2017]['h_geocode'].nunique()"
   ]
  },
  {
   "cell_type": "code",
   "execution_count": null,
   "id": "864d9b82",
   "metadata": {},
   "outputs": [],
   "source": [
    "## CHECKING CSV\n",
    "\n",
    "source_count_h = {}\n",
    "source_count_w = {}\n",
    "\n",
    "for year in range(2013, 2021):\n",
    "    # h_geocode blocks\n",
    "    od_count_h = len(np.unique(np.concatenate(sources[year]['h_geocode'],\n",
    "                  oos_sources[year]['h_geocode'],axis = 0)))\n",
    "    print('h_geocode: {0} - {1}'.format(year, od_count_h))\n",
    "    source_count_h[year] = od_count_h\n",
    "\n",
    "    # w_geocode blocks\n",
    "    od_count_w = len(np.unique(np.concatenate(sources[year]['w_geocode'],\n",
    "                  oos_sources[year]['w_geocode'],axis = 0)))\n",
    "    print('w_geocode: {0} - {1}'.format(year, od_count_w))\n",
    "    source_count_w[year] = od_count_w"
   ]
  },
  {
   "cell_type": "code",
   "execution_count": null,
   "id": "3f903b29",
   "metadata": {},
   "outputs": [],
   "source": [
    "for year in range(2013, 2021):\n",
    "    print('h difference: {0} - {1}'.format(year, source_count_h[year] - db_count_h[year]))\n",
    "    print('w difference: {0} - {1}'.format(year, source_count_w[year] - db_count_w[year]))"
   ]
  },
  {
   "cell_type": "code",
   "execution_count": null,
   "id": "77258823",
   "metadata": {},
   "outputs": [],
   "source": []
  }
 ],
 "metadata": {
  "kernelspec": {
   "display_name": "Python 3 (ipykernel)",
   "language": "python",
   "name": "python3"
  },
  "language_info": {
   "codemirror_mode": {
    "name": "ipython",
    "version": 3
   },
   "file_extension": ".py",
   "mimetype": "text/x-python",
   "name": "python",
   "nbconvert_exporter": "python",
   "pygments_lexer": "ipython3",
   "version": "3.9.7"
  }
 },
 "nbformat": 4,
 "nbformat_minor": 5
}
