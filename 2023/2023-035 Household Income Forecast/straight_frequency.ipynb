{
 "cells": [
  {
   "cell_type": "code",
   "execution_count": 1,
   "metadata": {},
   "outputs": [],
   "source": [
    "import pandas as pd\n",
    "import copy\n",
    "import numpy as np\n",
    "import warnings\n",
    "warnings.simplefilter(\"ignore\")"
   ]
  },
  {
   "attachments": {},
   "cell_type": "markdown",
   "metadata": {},
   "source": [
    "# Download The Data"
   ]
  },
  {
   "cell_type": "code",
   "execution_count": 2,
   "metadata": {},
   "outputs": [],
   "source": [
    "raw_data = pd.read_csv('PUMSsubset_SanDiego-2017-2021.txt', delimiter='\\t')"
   ]
  },
  {
   "attachments": {},
   "cell_type": "markdown",
   "metadata": {},
   "source": [
    "# Adjust The Household Income "
   ]
  },
  {
   "cell_type": "code",
   "execution_count": 3,
   "metadata": {},
   "outputs": [],
   "source": [
    "def multiply_income(row):\n",
    "    if row[\"Year\"] == 2019:\n",
    "        return row[\"HINCP\"] * 344.416/299.433\n",
    "    elif row[\"Year\"] == 2020:\n",
    "        return row[\"HINCP\"] * 344.416/303.932\n",
    "    elif row['Year'] == 2021:\n",
    "        return row[\"HINCP\"] * 344.416/319.761\n",
    "\n",
    "raw_data[\"adjusted_income\"] = raw_data.apply(multiply_income, axis=1)"
   ]
  },
  {
   "attachments": {},
   "cell_type": "markdown",
   "metadata": {},
   "source": [
    "# Create Income Categories"
   ]
  },
  {
   "cell_type": "code",
   "execution_count": 4,
   "metadata": {},
   "outputs": [],
   "source": [
    "def income_cat(x):\n",
    "    if x == 9999999:\n",
    "        return 0\n",
    "    elif x < 15000:\n",
    "        return 1\n",
    "    elif x >= 15000 and x < 30000:\n",
    "        return 2\n",
    "    elif x >= 30000 and x < 45000:\n",
    "        return 3\n",
    "    elif x >= 45000 and x < 60000:\n",
    "        return 4\n",
    "    elif x >= 60000 and x < 75000:\n",
    "        return 5\n",
    "    elif x >= 75000 and x < 100000:\n",
    "        return 6\n",
    "    elif x >= 100000 and x < 125000:\n",
    "        return 7\n",
    "    elif x >= 125000 and x < 150000:\n",
    "        return 8\n",
    "    elif x >= 150000 and x < 200000:\n",
    "        return 9\n",
    "    elif x >= 200000 and x < 300000:\n",
    "        return 10\n",
    "    elif x >= 300000 and x < 500000:\n",
    "        return 11\n",
    "    elif x >= 500000 and x < 700000:\n",
    "        return 12\n",
    "    elif x >= 700000 and x < 900000:\n",
    "        return 13\n",
    "    else:\n",
    "        return 14"
   ]
  },
  {
   "cell_type": "code",
   "execution_count": 5,
   "metadata": {},
   "outputs": [],
   "source": [
    "# Temp new one \n",
    "def income_cat(x):\n",
    "    if x == 9999999:\n",
    "        return 0\n",
    "    elif x < 15000:\n",
    "        return 1\n",
    "    elif x >= 15000 and x < 30000:\n",
    "        return 2\n",
    "    elif x >= 30000 and x < 45000:\n",
    "        return 3\n",
    "    elif x >= 45000 and x < 60000:\n",
    "        return 4\n",
    "    elif x >= 60000 and x < 75000:\n",
    "        return 5\n",
    "    elif x >= 75000 and x < 100000:\n",
    "        return 6\n",
    "    elif x >= 100000 and x < 125000:\n",
    "        return 7\n",
    "    elif x >= 125000 and x < 150000:\n",
    "        return 8\n",
    "    elif x >= 150000 and x < 200000:\n",
    "        return 9\n",
    "    else:\n",
    "        return 10"
   ]
  },
  {
   "attachments": {},
   "cell_type": "markdown",
   "metadata": {},
   "source": [
    "# Create Main Function"
   ]
  },
  {
   "cell_type": "code",
   "execution_count": 6,
   "metadata": {},
   "outputs": [],
   "source": [
    "def create_frequency_table(df):\n",
    "    # Create the income categories\n",
    "    df['IncomeCat'] = df['adjusted_income'].apply(income_cat)\n",
    "\n",
    "    # Created a weighted frequency\n",
    "    weighted_freq = df.groupby('IncomeCat').apply(lambda x: np.sum(x['WGTP']) / np.sum(df['WGTP'])).reset_index(name='frequency_percent')\n",
    "\n",
    "    # Multiple weighted frequency to read as a percent\n",
    "    weighted_freq['frequency_percent'] = weighted_freq['frequency_percent'] * 100\n",
    "\n",
    "    return weighted_freq"
   ]
  },
  {
   "attachments": {},
   "cell_type": "markdown",
   "metadata": {},
   "source": [
    "# Run Main Function"
   ]
  },
  {
   "cell_type": "code",
   "execution_count": 7,
   "metadata": {},
   "outputs": [],
   "source": [
    "processed_data = raw_data[((raw_data['RELSHIPP'] == 20) & (raw_data['Year'] == 2019) & (raw_data['ADJINC'] > 0) & (raw_data['TYPEHUGQ'] == 1))]"
   ]
  },
  {
   "cell_type": "code",
   "execution_count": 8,
   "metadata": {},
   "outputs": [
    {
     "data": {
      "text/html": [
       "<div>\n",
       "<style scoped>\n",
       "    .dataframe tbody tr th:only-of-type {\n",
       "        vertical-align: middle;\n",
       "    }\n",
       "\n",
       "    .dataframe tbody tr th {\n",
       "        vertical-align: top;\n",
       "    }\n",
       "\n",
       "    .dataframe thead th {\n",
       "        text-align: right;\n",
       "    }\n",
       "</style>\n",
       "<table border=\"1\" class=\"dataframe\">\n",
       "  <thead>\n",
       "    <tr style=\"text-align: right;\">\n",
       "      <th></th>\n",
       "      <th>IncomeCat</th>\n",
       "      <th>frequency_percent</th>\n",
       "    </tr>\n",
       "  </thead>\n",
       "  <tbody>\n",
       "    <tr>\n",
       "      <th>0</th>\n",
       "      <td>1</td>\n",
       "      <td>6.412612</td>\n",
       "    </tr>\n",
       "    <tr>\n",
       "      <th>1</th>\n",
       "      <td>2</td>\n",
       "      <td>7.981669</td>\n",
       "    </tr>\n",
       "    <tr>\n",
       "      <th>2</th>\n",
       "      <td>3</td>\n",
       "      <td>7.826430</td>\n",
       "    </tr>\n",
       "    <tr>\n",
       "      <th>3</th>\n",
       "      <td>4</td>\n",
       "      <td>9.258228</td>\n",
       "    </tr>\n",
       "    <tr>\n",
       "      <th>4</th>\n",
       "      <td>5</td>\n",
       "      <td>8.204004</td>\n",
       "    </tr>\n",
       "    <tr>\n",
       "      <th>5</th>\n",
       "      <td>6</td>\n",
       "      <td>12.035872</td>\n",
       "    </tr>\n",
       "    <tr>\n",
       "      <th>6</th>\n",
       "      <td>7</td>\n",
       "      <td>10.989980</td>\n",
       "    </tr>\n",
       "    <tr>\n",
       "      <th>7</th>\n",
       "      <td>8</td>\n",
       "      <td>8.441687</td>\n",
       "    </tr>\n",
       "    <tr>\n",
       "      <th>8</th>\n",
       "      <td>9</td>\n",
       "      <td>10.847896</td>\n",
       "    </tr>\n",
       "    <tr>\n",
       "      <th>9</th>\n",
       "      <td>10</td>\n",
       "      <td>18.001623</td>\n",
       "    </tr>\n",
       "  </tbody>\n",
       "</table>\n",
       "</div>"
      ],
      "text/plain": [
       "   IncomeCat  frequency_percent\n",
       "0          1           6.412612\n",
       "1          2           7.981669\n",
       "2          3           7.826430\n",
       "3          4           9.258228\n",
       "4          5           8.204004\n",
       "5          6          12.035872\n",
       "6          7          10.989980\n",
       "7          8           8.441687\n",
       "8          9          10.847896\n",
       "9         10          18.001623"
      ]
     },
     "execution_count": 8,
     "metadata": {},
     "output_type": "execute_result"
    }
   ],
   "source": [
    "result = create_frequency_table(df=processed_data)\n",
    "result#.to_excel('weighted_distribution_2019.xlsx')\n",
    "result"
   ]
  },
  {
   "attachments": {},
   "cell_type": "markdown",
   "metadata": {},
   "source": [
    "# Non Weighted Frequency"
   ]
  },
  {
   "cell_type": "code",
   "execution_count": 9,
   "metadata": {},
   "outputs": [],
   "source": [
    "# pd.DataFrame(processed_data['IncomeCat'].value_counts().sort_index()).to_excel('frequency_counts_2019.xlsx')"
   ]
  },
  {
   "cell_type": "code",
   "execution_count": 10,
   "metadata": {},
   "outputs": [
    {
     "data": {
      "text/html": [
       "<div>\n",
       "<style scoped>\n",
       "    .dataframe tbody tr th:only-of-type {\n",
       "        vertical-align: middle;\n",
       "    }\n",
       "\n",
       "    .dataframe tbody tr th {\n",
       "        vertical-align: top;\n",
       "    }\n",
       "\n",
       "    .dataframe thead th {\n",
       "        text-align: right;\n",
       "    }\n",
       "</style>\n",
       "<table border=\"1\" class=\"dataframe\">\n",
       "  <thead>\n",
       "    <tr style=\"text-align: right;\">\n",
       "      <th></th>\n",
       "      <th>IncomeCat</th>\n",
       "    </tr>\n",
       "  </thead>\n",
       "  <tbody>\n",
       "    <tr>\n",
       "      <th>1</th>\n",
       "      <td>0.060745</td>\n",
       "    </tr>\n",
       "    <tr>\n",
       "      <th>2</th>\n",
       "      <td>0.074650</td>\n",
       "    </tr>\n",
       "    <tr>\n",
       "      <th>3</th>\n",
       "      <td>0.077212</td>\n",
       "    </tr>\n",
       "    <tr>\n",
       "      <th>4</th>\n",
       "      <td>0.087641</td>\n",
       "    </tr>\n",
       "    <tr>\n",
       "      <th>5</th>\n",
       "      <td>0.079682</td>\n",
       "    </tr>\n",
       "    <tr>\n",
       "      <th>6</th>\n",
       "      <td>0.119019</td>\n",
       "    </tr>\n",
       "    <tr>\n",
       "      <th>7</th>\n",
       "      <td>0.109322</td>\n",
       "    </tr>\n",
       "    <tr>\n",
       "      <th>8</th>\n",
       "      <td>0.084805</td>\n",
       "    </tr>\n",
       "    <tr>\n",
       "      <th>9</th>\n",
       "      <td>0.112981</td>\n",
       "    </tr>\n",
       "    <tr>\n",
       "      <th>10</th>\n",
       "      <td>0.193944</td>\n",
       "    </tr>\n",
       "  </tbody>\n",
       "</table>\n",
       "</div>"
      ],
      "text/plain": [
       "    IncomeCat\n",
       "1    0.060745\n",
       "2    0.074650\n",
       "3    0.077212\n",
       "4    0.087641\n",
       "5    0.079682\n",
       "6    0.119019\n",
       "7    0.109322\n",
       "8    0.084805\n",
       "9    0.112981\n",
       "10   0.193944"
      ]
     },
     "execution_count": 10,
     "metadata": {},
     "output_type": "execute_result"
    }
   ],
   "source": [
    "pd.DataFrame(processed_data['IncomeCat'].value_counts(normalize=True)).sort_index()"
   ]
  },
  {
   "cell_type": "code",
   "execution_count": 18,
   "metadata": {},
   "outputs": [
    {
     "data": {
      "text/plain": [
       "0     6.074467\n",
       "1     7.465008\n",
       "2     7.721160\n",
       "3     8.764066\n",
       "4     7.968164\n",
       "5    11.901930\n",
       "6    10.932211\n",
       "7     8.480468\n",
       "8    11.298143\n",
       "9    19.394383\n",
       "Name: IncomeCat, dtype: float64"
      ]
     },
     "execution_count": 18,
     "metadata": {},
     "output_type": "execute_result"
    }
   ],
   "source": [
    "pd.DataFrame(processed_data['IncomeCat'].value_counts(normalize=True)).sort_index()['IncomeCat'].reset_index(drop=True)*100"
   ]
  },
  {
   "cell_type": "code",
   "execution_count": 19,
   "metadata": {},
   "outputs": [],
   "source": [
    "result['non_weighted_frequency'] = pd.DataFrame(processed_data['IncomeCat'].value_counts(normalize=True)).sort_index()['IncomeCat'].reset_index(drop=True)*100"
   ]
  },
  {
   "cell_type": "code",
   "execution_count": 21,
   "metadata": {},
   "outputs": [],
   "source": [
    "result.columns = ['Income Category', 'Weighted Frequency', 'Non Weighted Frequency']"
   ]
  },
  {
   "cell_type": "code",
   "execution_count": 23,
   "metadata": {},
   "outputs": [],
   "source": [
    "result#.to_excel('weighted_and_unweighted.xlsx')"
   ]
  },
  {
   "cell_type": "code",
   "execution_count": null,
   "metadata": {},
   "outputs": [],
   "source": []
  }
 ],
 "metadata": {
  "kernelspec": {
   "display_name": "base",
   "language": "python",
   "name": "python3"
  },
  "language_info": {
   "codemirror_mode": {
    "name": "ipython",
    "version": 3
   },
   "file_extension": ".py",
   "mimetype": "text/x-python",
   "name": "python",
   "nbconvert_exporter": "python",
   "pygments_lexer": "ipython3",
   "version": "3.8.8"
  },
  "orig_nbformat": 4
 },
 "nbformat": 4,
 "nbformat_minor": 2
}
