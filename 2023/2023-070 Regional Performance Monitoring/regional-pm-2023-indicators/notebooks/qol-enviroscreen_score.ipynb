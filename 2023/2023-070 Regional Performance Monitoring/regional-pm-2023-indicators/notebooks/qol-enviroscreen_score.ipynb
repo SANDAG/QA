{
 "cells": [
  {
   "cell_type": "code",
   "execution_count": 241,
   "metadata": {},
   "outputs": [
    {
     "data": {
      "text/markdown": [
       "## Raw data path"
      ],
      "text/plain": [
       "<IPython.core.display.Markdown object>"
      ]
     },
     "metadata": {},
     "output_type": "display_data"
    },
    {
     "data": {
      "text/markdown": [
       "[C:/Users/tan/src/regional-pm-2023/data/raw/qol/social_equity/enviroscreen_score](C:/Users/tan/src/regional-pm-2023/data/raw/qol/social_equity/enviroscreen_score)"
      ],
      "text/plain": [
       "<IPython.core.display.Markdown object>"
      ]
     },
     "metadata": {},
     "output_type": "display_data"
    }
   ],
   "source": [
    "%reload_ext autoreload\n",
    "%autoreload 2\n",
    "\n",
    "from IPython.core.display import Markdown\n",
    "from tqdm.auto import tqdm\n",
    "import config\n",
    "import docs\n",
    "import geopandas as gpd\n",
    "import pandas as pd\n",
    "import requests\n",
    "from datetime import datetime\n",
    "import numpy as np\n",
    "\n",
    "pd.set_option('display.max_colwidth', None)\n",
    "\n",
    "INDICATOR = 'enviroscreen_score'\n",
    "CONFIG = config.get_config(INDICATOR, '../config.toml')\n",
    "\n",
    "display(Markdown('## Raw data path'))\n",
    "raw_dir_path = str(CONFIG['raw_dir']).replace('\\\\', '/')\n",
    "display(Markdown(f\"[{raw_dir_path}]({raw_dir_path})\"))"
   ]
  },
  {
   "cell_type": "markdown",
   "metadata": {},
   "source": [
    "# Quality of Life: Social Equity\n",
    "\n",
    "## Social Equity Score"
   ]
  },
  {
   "cell_type": "code",
   "execution_count": 242,
   "metadata": {},
   "outputs": [
    {
     "data": {
      "text/markdown": [
       "CalEnviroScreen social equity score and population in top percentiles.\n",
       "\n",
       "nan"
      ],
      "text/plain": [
       "<IPython.core.display.Markdown object>"
      ]
     },
     "execution_count": 242,
     "metadata": {},
     "output_type": "execute_result"
    }
   ],
   "source": [
    "docs.describe_indicator(\n",
    "    indicator=INDICATOR,\n",
    "    indicators_xlsx_path=CONFIG['indicators_xlsx_path'],\n",
    ")"
   ]
  },
  {
   "cell_type": "code",
   "execution_count": 243,
   "metadata": {},
   "outputs": [
    {
     "data": {
      "text/html": [
       "<div>\n",
       "<style scoped>\n",
       "    .dataframe tbody tr th:only-of-type {\n",
       "        vertical-align: middle;\n",
       "    }\n",
       "\n",
       "    .dataframe tbody tr th {\n",
       "        vertical-align: top;\n",
       "    }\n",
       "\n",
       "    .dataframe thead th {\n",
       "        text-align: right;\n",
       "    }\n",
       "</style>\n",
       "<table border=\"1\" class=\"dataframe\">\n",
       "  <thead>\n",
       "    <tr style=\"text-align: right;\">\n",
       "      <th></th>\n",
       "      <th>name</th>\n",
       "      <th>description</th>\n",
       "      <th>type</th>\n",
       "    </tr>\n",
       "    <tr>\n",
       "      <th>column</th>\n",
       "      <th></th>\n",
       "      <th></th>\n",
       "      <th></th>\n",
       "    </tr>\n",
       "  </thead>\n",
       "  <tbody>\n",
       "    <tr>\n",
       "      <th>year</th>\n",
       "      <td>Year</td>\n",
       "      <td>Year of record.</td>\n",
       "      <td>datetime</td>\n",
       "    </tr>\n",
       "    <tr>\n",
       "      <th>region_score</th>\n",
       "      <td>Region Score</td>\n",
       "      <td>CalEnviroScreen social equity score, in a given year.</td>\n",
       "      <td>float</td>\n",
       "    </tr>\n",
       "    <tr>\n",
       "      <th>population_25th</th>\n",
       "      <td>Population above 25 Percentile</td>\n",
       "      <td>Percentage of residents above 25th percentile of score, in a given year.</td>\n",
       "      <td>float</td>\n",
       "    </tr>\n",
       "    <tr>\n",
       "      <th>population_50th</th>\n",
       "      <td>Population above 50 Percentile</td>\n",
       "      <td>Percentage of residents above 50th percentile of score, in a given year.</td>\n",
       "      <td>float</td>\n",
       "    </tr>\n",
       "  </tbody>\n",
       "</table>\n",
       "</div>"
      ],
      "text/plain": [
       "                                           name  \\\n",
       "column                                            \n",
       "year                                       Year   \n",
       "region_score                       Region Score   \n",
       "population_25th  Population above 25 Percentile   \n",
       "population_50th  Population above 50 Percentile   \n",
       "\n",
       "                                                                              description  \\\n",
       "column                                                                                      \n",
       "year                                                                      Year of record.   \n",
       "region_score                        CalEnviroScreen social equity score, in a given year.   \n",
       "population_25th  Percentage of residents above 25th percentile of score, in a given year.   \n",
       "population_50th  Percentage of residents above 50th percentile of score, in a given year.   \n",
       "\n",
       "                     type  \n",
       "column                     \n",
       "year             datetime  \n",
       "region_score        float  \n",
       "population_25th     float  \n",
       "population_50th     float  "
      ]
     },
     "execution_count": 243,
     "metadata": {},
     "output_type": "execute_result"
    }
   ],
   "source": [
    "docs.list_schema(\n",
    "    indicator=INDICATOR,\n",
    "    indicators_xlsx_path=CONFIG['indicators_xlsx_path'],\n",
    ")"
   ]
  },
  {
   "cell_type": "code",
   "execution_count": 244,
   "metadata": {},
   "outputs": [
    {
     "data": {
      "text/html": [
       "<div>\n",
       "<style scoped>\n",
       "    .dataframe tbody tr th:only-of-type {\n",
       "        vertical-align: middle;\n",
       "    }\n",
       "\n",
       "    .dataframe tbody tr th {\n",
       "        vertical-align: top;\n",
       "    }\n",
       "\n",
       "    .dataframe thead th {\n",
       "        text-align: right;\n",
       "    }\n",
       "</style>\n",
       "<table border=\"1\" class=\"dataframe\">\n",
       "  <thead>\n",
       "    <tr style=\"text-align: right;\">\n",
       "      <th></th>\n",
       "      <th>name</th>\n",
       "      <th>organization</th>\n",
       "      <th>active</th>\n",
       "      <th>notes</th>\n",
       "    </tr>\n",
       "    <tr>\n",
       "      <th>source</th>\n",
       "      <th></th>\n",
       "      <th></th>\n",
       "      <th></th>\n",
       "      <th></th>\n",
       "    </tr>\n",
       "  </thead>\n",
       "  <tbody>\n",
       "    <tr>\n",
       "      <th>enviroscreen</th>\n",
       "      <td>CalEnviroscreen</td>\n",
       "      <td>California Office of Environment Health Hazard Assessment</td>\n",
       "      <td>True</td>\n",
       "      <td>NaN</td>\n",
       "    </tr>\n",
       "  </tbody>\n",
       "</table>\n",
       "</div>"
      ],
      "text/plain": [
       "                         name  \\\n",
       "source                          \n",
       "enviroscreen  CalEnviroscreen   \n",
       "\n",
       "                                                           organization  \\\n",
       "source                                                                    \n",
       "enviroscreen  California Office of Environment Health Hazard Assessment   \n",
       "\n",
       "              active notes  \n",
       "source                      \n",
       "enviroscreen    True   NaN  "
      ]
     },
     "execution_count": 244,
     "metadata": {},
     "output_type": "execute_result"
    }
   ],
   "source": [
    "docs.list_sources(\n",
    "    indicator=INDICATOR,\n",
    "    indicators_xlsx_path=CONFIG['indicators_xlsx_path'],\n",
    ")"
   ]
  },
  {
   "cell_type": "code",
   "execution_count": 245,
   "metadata": {},
   "outputs": [
    {
     "data": {
      "text/html": [
       "<div>\n",
       "<style scoped>\n",
       "    .dataframe tbody tr th:only-of-type {\n",
       "        vertical-align: middle;\n",
       "    }\n",
       "\n",
       "    .dataframe tbody tr th {\n",
       "        vertical-align: top;\n",
       "    }\n",
       "\n",
       "    .dataframe thead th {\n",
       "        text-align: right;\n",
       "    }\n",
       "</style>\n",
       "<table border=\"1\" class=\"dataframe\">\n",
       "  <thead>\n",
       "    <tr style=\"text-align: right;\">\n",
       "      <th></th>\n",
       "      <th>step</th>\n",
       "    </tr>\n",
       "  </thead>\n",
       "  <tbody>\n",
       "    <tr>\n",
       "      <th>0</th>\n",
       "      <td>Download data from availible releases.</td>\n",
       "    </tr>\n",
       "    <tr>\n",
       "      <th>1</th>\n",
       "      <td>Calculate enviroscreen score and percentile populations from availible releases.</td>\n",
       "    </tr>\n",
       "  </tbody>\n",
       "</table>\n",
       "</div>"
      ],
      "text/plain": [
       "                                                                               step\n",
       "0                                            Download data from availible releases.\n",
       "1  Calculate enviroscreen score and percentile populations from availible releases."
      ]
     },
     "execution_count": 245,
     "metadata": {},
     "output_type": "execute_result"
    }
   ],
   "source": [
    "steps = docs.list_update_steps(\n",
    "    indicator=INDICATOR,\n",
    "    indicators_xlsx_path=CONFIG['indicators_xlsx_path'],\n",
    ")\n",
    "steps"
   ]
  },
  {
   "cell_type": "code",
   "execution_count": 246,
   "metadata": {},
   "outputs": [
    {
     "data": {
      "text/html": [
       "<div>\n",
       "<style scoped>\n",
       "    .dataframe tbody tr th:only-of-type {\n",
       "        vertical-align: middle;\n",
       "    }\n",
       "\n",
       "    .dataframe tbody tr th {\n",
       "        vertical-align: top;\n",
       "    }\n",
       "\n",
       "    .dataframe thead th {\n",
       "        text-align: right;\n",
       "    }\n",
       "</style>\n",
       "<table border=\"1\" class=\"dataframe\">\n",
       "  <thead>\n",
       "    <tr style=\"text-align: right;\">\n",
       "      <th></th>\n",
       "      <th>author</th>\n",
       "      <th>note</th>\n",
       "    </tr>\n",
       "  </thead>\n",
       "  <tbody>\n",
       "    <tr>\n",
       "      <th>0</th>\n",
       "      <td>NaN</td>\n",
       "      <td>NaN</td>\n",
       "    </tr>\n",
       "  </tbody>\n",
       "</table>\n",
       "</div>"
      ],
      "text/plain": [
       "  author note\n",
       "0    NaN  NaN"
      ]
     },
     "execution_count": 246,
     "metadata": {},
     "output_type": "execute_result"
    }
   ],
   "source": [
    "docs.list_remarks(\n",
    "    indicator=INDICATOR,\n",
    "    indicators_xlsx_path=CONFIG['indicators_xlsx_path'],\n",
    ")"
   ]
  },
  {
   "cell_type": "markdown",
   "metadata": {},
   "source": [
    "### Step 0: Download availible releases\n",
    "I was able to find and download data for CalEnviroscreen versions [4](https://oehha.ca.gov/calenviroscreen/report/calenviroscreen-40), [3](https://oehha.ca.gov/calenviroscreen/report/calenviroscreen-30), and [2](https://oehha.ca.gov/calenviroscreen/report/calenviroscreen-version-20) (I did not find anything archived for the first release)."
   ]
  },
  {
   "cell_type": "code",
   "execution_count": 247,
   "metadata": {},
   "outputs": [
    {
     "data": {
      "text/plain": [
       "step    Download data from availible releases.\n",
       "Name: 0, dtype: object"
      ]
     },
     "metadata": {},
     "output_type": "display_data"
    }
   ],
   "source": [
    "display(steps.loc[0])"
   ]
  },
  {
   "cell_type": "markdown",
   "metadata": {},
   "source": [
    "### Step 1: Calculate scores\n",
    "\n",
    "The region score are the scores of individual tract scores weighted by population.\n",
    "\n",
    "The populations at 25th and 50th percentile are sums of transects that have the 25th and 50th worst social equity scores respectively."
   ]
  },
  {
   "cell_type": "code",
   "execution_count": 248,
   "metadata": {},
   "outputs": [
    {
     "data": {
      "text/plain": [
       "step    Calculate enviroscreen score and percentile populations from availible releases.\n",
       "Name: 1, dtype: object"
      ]
     },
     "metadata": {},
     "output_type": "display_data"
    }
   ],
   "source": [
    "display(steps.loc[1])"
   ]
  },
  {
   "cell_type": "code",
   "execution_count": 249,
   "metadata": {},
   "outputs": [
    {
     "data": {
      "text/html": [
       "<div>\n",
       "<style scoped>\n",
       "    .dataframe tbody tr th:only-of-type {\n",
       "        vertical-align: middle;\n",
       "    }\n",
       "\n",
       "    .dataframe tbody tr th {\n",
       "        vertical-align: top;\n",
       "    }\n",
       "\n",
       "    .dataframe thead th {\n",
       "        text-align: right;\n",
       "    }\n",
       "</style>\n",
       "<table border=\"1\" class=\"dataframe\">\n",
       "  <thead>\n",
       "    <tr style=\"text-align: right;\">\n",
       "      <th></th>\n",
       "      <th></th>\n",
       "      <th>county</th>\n",
       "      <th>population</th>\n",
       "      <th>score</th>\n",
       "      <th>percentile</th>\n",
       "      <th>pop_top_25_pct</th>\n",
       "      <th>pop_top_50_pct</th>\n",
       "    </tr>\n",
       "    <tr>\n",
       "      <th>year</th>\n",
       "      <th>tract</th>\n",
       "      <th></th>\n",
       "      <th></th>\n",
       "      <th></th>\n",
       "      <th></th>\n",
       "      <th></th>\n",
       "      <th></th>\n",
       "    </tr>\n",
       "  </thead>\n",
       "  <tbody>\n",
       "    <tr>\n",
       "      <th rowspan=\"3\" valign=\"top\">2021-01-01</th>\n",
       "      <th>6073021800</th>\n",
       "      <td>San Diego</td>\n",
       "      <td>2403</td>\n",
       "      <td>2.936723</td>\n",
       "      <td>0.655572</td>\n",
       "      <td>False</td>\n",
       "      <td>False</td>\n",
       "    </tr>\n",
       "    <tr>\n",
       "      <th>6073017306</th>\n",
       "      <td>San Diego</td>\n",
       "      <td>2439</td>\n",
       "      <td>2.885369</td>\n",
       "      <td>0.605144</td>\n",
       "      <td>False</td>\n",
       "      <td>False</td>\n",
       "    </tr>\n",
       "    <tr>\n",
       "      <th>6073008311</th>\n",
       "      <td>San Diego</td>\n",
       "      <td>2936</td>\n",
       "      <td>1.671190</td>\n",
       "      <td>0.126072</td>\n",
       "      <td>False</td>\n",
       "      <td>False</td>\n",
       "    </tr>\n",
       "  </tbody>\n",
       "</table>\n",
       "</div>"
      ],
      "text/plain": [
       "                          county  population     score  percentile  \\\n",
       "year       tract                                                     \n",
       "2021-01-01 6073021800  San Diego        2403  2.936723    0.655572   \n",
       "           6073017306  San Diego        2439  2.885369    0.605144   \n",
       "           6073008311  San Diego        2936  1.671190    0.126072   \n",
       "\n",
       "                       pop_top_25_pct  pop_top_50_pct  \n",
       "year       tract                                       \n",
       "2021-01-01 6073021800           False           False  \n",
       "           6073017306           False           False  \n",
       "           6073008311           False           False  "
      ]
     },
     "execution_count": 249,
     "metadata": {},
     "output_type": "execute_result"
    }
   ],
   "source": [
    "version_4 = (\n",
    "        pd.read_excel(\n",
    "            CONFIG['raw_dir']\n",
    "            / (\n",
    "                'calenviroscreen/'\n",
    "                '4/'\n",
    "                'calenviroscreen40resultsdatadictionaryf2021/'\n",
    "                'calenviroscreen40resultsdatadictionary_F_2021.xlsx'\n",
    "            )\n",
    "        )\n",
    "        .assign(\n",
    "            tract=lambda df: df['Census Tract'],\n",
    "            county=lambda df: df['California County'],\n",
    "            population=lambda df: df['Total Population'],\n",
    "            score=lambda df: df['CES 4.0 Score'],\n",
    "            percentile=lambda df: df['CES 4.0 Percentile'],\n",
    "            year=datetime(2021, 1, 1)\n",
    "        )\n",
    "        .dropna(subset=['score'])\n",
    "        .dropna(subset=['percentile'])\n",
    "        [\n",
    "            [\n",
    "                'tract',\n",
    "                'county',\n",
    "                'population',\n",
    "                'score',\n",
    "                'percentile',\n",
    "                'year',\n",
    "            ]\n",
    "        ]\n",
    "        .query(\"`county` == 'San Diego'\")\n",
    "        .assign(\n",
    "            pop_top_25_pct=lambda df: (\n",
    "                df.percentile\n",
    "                .apply(lambda x: True if x >= 75 else False)\n",
    "            ),\n",
    "            pop_top_50_pct=lambda df: (\n",
    "                df.percentile\n",
    "                .apply(lambda x: True if x >= 50 else False)\n",
    "            ),\n",
    "        )\n",
    "        .set_index(['year', 'tract'])\n",
    "    )\n",
    "version_4.tail(3)"
   ]
  },
  {
   "cell_type": "code",
   "execution_count": 250,
   "metadata": {},
   "outputs": [
    {
     "data": {
      "text/html": [
       "<div>\n",
       "<style scoped>\n",
       "    .dataframe tbody tr th:only-of-type {\n",
       "        vertical-align: middle;\n",
       "    }\n",
       "\n",
       "    .dataframe tbody tr th {\n",
       "        vertical-align: top;\n",
       "    }\n",
       "\n",
       "    .dataframe thead th {\n",
       "        text-align: right;\n",
       "    }\n",
       "</style>\n",
       "<table border=\"1\" class=\"dataframe\">\n",
       "  <thead>\n",
       "    <tr style=\"text-align: right;\">\n",
       "      <th></th>\n",
       "      <th></th>\n",
       "      <th>county</th>\n",
       "      <th>population</th>\n",
       "      <th>score</th>\n",
       "      <th>percentile</th>\n",
       "      <th>pop_top_25_pct</th>\n",
       "      <th>pop_top_50_pct</th>\n",
       "    </tr>\n",
       "    <tr>\n",
       "      <th>year</th>\n",
       "      <th>tract</th>\n",
       "      <th></th>\n",
       "      <th></th>\n",
       "      <th></th>\n",
       "      <th></th>\n",
       "      <th></th>\n",
       "      <th></th>\n",
       "    </tr>\n",
       "  </thead>\n",
       "  <tbody>\n",
       "    <tr>\n",
       "      <th rowspan=\"3\" valign=\"top\">2018-01-01</th>\n",
       "      <th>6073008324</th>\n",
       "      <td>San Diego</td>\n",
       "      <td>6600</td>\n",
       "      <td>2.11</td>\n",
       "      <td>0.37</td>\n",
       "      <td>False</td>\n",
       "      <td>False</td>\n",
       "    </tr>\n",
       "    <tr>\n",
       "      <th>6073008331</th>\n",
       "      <td>San Diego</td>\n",
       "      <td>2466</td>\n",
       "      <td>1.72</td>\n",
       "      <td>0.19</td>\n",
       "      <td>False</td>\n",
       "      <td>False</td>\n",
       "    </tr>\n",
       "    <tr>\n",
       "      <th>6073008102</th>\n",
       "      <td>San Diego</td>\n",
       "      <td>3395</td>\n",
       "      <td>1.09</td>\n",
       "      <td>0.04</td>\n",
       "      <td>False</td>\n",
       "      <td>False</td>\n",
       "    </tr>\n",
       "  </tbody>\n",
       "</table>\n",
       "</div>"
      ],
      "text/plain": [
       "                          county  population  score  percentile  \\\n",
       "year       tract                                                  \n",
       "2018-01-01 6073008324  San Diego        6600   2.11        0.37   \n",
       "           6073008331  San Diego        2466   1.72        0.19   \n",
       "           6073008102  San Diego        3395   1.09        0.04   \n",
       "\n",
       "                       pop_top_25_pct  pop_top_50_pct  \n",
       "year       tract                                       \n",
       "2018-01-01 6073008324           False           False  \n",
       "           6073008331           False           False  \n",
       "           6073008102           False           False  "
      ]
     },
     "execution_count": 250,
     "metadata": {},
     "output_type": "execute_result"
    }
   ],
   "source": [
    "version_3 = (\n",
    "        pd.read_csv(\n",
    "            CONFIG['raw_dir']\n",
    "            / (\n",
    "                'calenviroscreen/'\n",
    "                '3/'\n",
    "                'calenviroscreen-3.0-results-june-2018-update.csv'\n",
    "            )\n",
    "        )\n",
    "        .assign(\n",
    "            tract=lambda df: df['Census Tract'],\n",
    "            county=lambda df: df['California County'],\n",
    "            population=lambda df: df['Total Population'],\n",
    "            score=lambda df: df['CES 3.0 Score'],\n",
    "            percentile=lambda df: df[' CES 3.0 Percentile'],\n",
    "            year=datetime(2018, 1, 1)\n",
    "        )\n",
    "        .dropna(subset=['score'])\n",
    "        .dropna(subset=['percentile'])\n",
    "        [\n",
    "            [\n",
    "                'tract',\n",
    "                'county',\n",
    "                'population',\n",
    "                'score',\n",
    "                'percentile',\n",
    "                'year',\n",
    "            ]\n",
    "        ]\n",
    "        .query(\"`county` == 'San Diego'\")\n",
    "        .assign(\n",
    "            pop_top_25_pct=lambda df: (\n",
    "                df.percentile\n",
    "                .apply(lambda x: True if x >= 75 else False)\n",
    "            ),\n",
    "            pop_top_50_pct=lambda df: (\n",
    "                df.percentile\n",
    "                .apply(lambda x: True if x >= 50 else False)\n",
    "            ),\n",
    "        )\n",
    "        .set_index(['year', 'tract'])\n",
    "    )\n",
    "version_3.tail(3)"
   ]
  },
  {
   "cell_type": "code",
   "execution_count": 251,
   "metadata": {},
   "outputs": [],
   "source": [
    "def parse_percentile_range(df: pd.DataFrame) -> pd.Series:\n",
    "    \"\"\"Average a range of EnviroScreen percentiles.\n",
    "    \"\"\"\n",
    "    low = df.percentile.apply(lambda x: x.split('-')[0] if type(x) is str else x).astype('Int64')\n",
    "    high = df.percentile.apply(lambda x: x.split('-')[1].strip('% (lowest/highest scores)')  if type(x) is str else '0').astype('Int64')\n",
    "    return (low + high) / 2"
   ]
  },
  {
   "cell_type": "code",
   "execution_count": 252,
   "metadata": {},
   "outputs": [
    {
     "data": {
      "text/html": [
       "<div>\n",
       "<style scoped>\n",
       "    .dataframe tbody tr th:only-of-type {\n",
       "        vertical-align: middle;\n",
       "    }\n",
       "\n",
       "    .dataframe tbody tr th {\n",
       "        vertical-align: top;\n",
       "    }\n",
       "\n",
       "    .dataframe thead th {\n",
       "        text-align: right;\n",
       "    }\n",
       "</style>\n",
       "<table border=\"1\" class=\"dataframe\">\n",
       "  <thead>\n",
       "    <tr style=\"text-align: right;\">\n",
       "      <th></th>\n",
       "      <th></th>\n",
       "      <th>county</th>\n",
       "      <th>population</th>\n",
       "      <th>score</th>\n",
       "      <th>percentile</th>\n",
       "      <th>pop_top_25_pct</th>\n",
       "      <th>pop_top_50_pct</th>\n",
       "    </tr>\n",
       "    <tr>\n",
       "      <th>year</th>\n",
       "      <th>tract</th>\n",
       "      <th></th>\n",
       "      <th></th>\n",
       "      <th></th>\n",
       "      <th></th>\n",
       "      <th></th>\n",
       "      <th></th>\n",
       "    </tr>\n",
       "  </thead>\n",
       "  <tbody>\n",
       "    <tr>\n",
       "      <th rowspan=\"3\" valign=\"top\">2014-01-01</th>\n",
       "      <th>6.073022e+09</th>\n",
       "      <td>San Diego</td>\n",
       "      <td>2022</td>\n",
       "      <td>11.029751</td>\n",
       "      <td>13.0</td>\n",
       "      <td>False</td>\n",
       "      <td>False</td>\n",
       "    </tr>\n",
       "    <tr>\n",
       "      <th>6.073022e+09</th>\n",
       "      <td>San Diego</td>\n",
       "      <td>3391</td>\n",
       "      <td>17.486004</td>\n",
       "      <td>33.0</td>\n",
       "      <td>False</td>\n",
       "      <td>False</td>\n",
       "    </tr>\n",
       "    <tr>\n",
       "      <th>6.073021e+09</th>\n",
       "      <td>San Diego</td>\n",
       "      <td>7225</td>\n",
       "      <td>12.175017</td>\n",
       "      <td>18.0</td>\n",
       "      <td>False</td>\n",
       "      <td>False</td>\n",
       "    </tr>\n",
       "  </tbody>\n",
       "</table>\n",
       "</div>"
      ],
      "text/plain": [
       "                            county  population      score  percentile  \\\n",
       "year       tract                                                        \n",
       "2014-01-01 6.073022e+09  San Diego        2022  11.029751        13.0   \n",
       "           6.073022e+09  San Diego        3391  17.486004        33.0   \n",
       "           6.073021e+09  San Diego        7225  12.175017        18.0   \n",
       "\n",
       "                         pop_top_25_pct  pop_top_50_pct  \n",
       "year       tract                                         \n",
       "2014-01-01 6.073022e+09           False           False  \n",
       "           6.073022e+09           False           False  \n",
       "           6.073021e+09           False           False  "
      ]
     },
     "execution_count": 252,
     "metadata": {},
     "output_type": "execute_result"
    }
   ],
   "source": [
    "version_2 = (\n",
    "    gpd.read_file(\n",
    "        CONFIG['raw_dir']\n",
    "        / (\n",
    "            'calenviroscreen/'\n",
    "            '2/'\n",
    "            'CES20_UpdateOct2014.gdb'\n",
    "        )\n",
    "    )\n",
    "    [\n",
    "        [\n",
    "            'Tract_1',\n",
    "            'County',\n",
    "            'Population',\n",
    "            'CESScore',\n",
    "            'PercentileRange',\n",
    "        ]\n",
    "\n",
    "    ]\n",
    "    .rename(\n",
    "        columns={\n",
    "            'Tract_1': 'tract',\n",
    "            'County': 'county',\n",
    "            'Population': 'population',\n",
    "            'CESScore': 'score',\n",
    "            'PercentileRange': 'percentile',\n",
    "        }\n",
    "    )\n",
    "    .assign( # I didn't see percentiles, only a range, so average was taken\n",
    "        percentile=parse_percentile_range,\n",
    "    )\n",
    "    .query(\"`county` == 'San Diego'\")\n",
    "    .assign(year=datetime(2014, 1, 1))\n",
    "    .assign(\n",
    "        pop_top_25_pct=lambda df: (\n",
    "            df.percentile\n",
    "            .apply(lambda x: True if not pd.isna(x) and x >= 75 else False)\n",
    "        ),\n",
    "        pop_top_50_pct=lambda df: (\n",
    "            df.percentile\n",
    "            .apply(lambda x: True if  not pd.isna(x) and x >= 50 else False)\n",
    "        ),\n",
    "    )\n",
    "    .set_index(['year', 'tract'])\n",
    ")\n",
    "version_2.tail(3)"
   ]
  },
  {
   "cell_type": "code",
   "execution_count": 253,
   "metadata": {},
   "outputs": [
    {
     "data": {
      "text/html": [
       "<div>\n",
       "<style scoped>\n",
       "    .dataframe tbody tr th:only-of-type {\n",
       "        vertical-align: middle;\n",
       "    }\n",
       "\n",
       "    .dataframe tbody tr th {\n",
       "        vertical-align: top;\n",
       "    }\n",
       "\n",
       "    .dataframe thead th {\n",
       "        text-align: right;\n",
       "    }\n",
       "</style>\n",
       "<table border=\"1\" class=\"dataframe\">\n",
       "  <thead>\n",
       "    <tr style=\"text-align: right;\">\n",
       "      <th></th>\n",
       "      <th></th>\n",
       "      <th>county</th>\n",
       "      <th>population</th>\n",
       "      <th>score</th>\n",
       "      <th>percentile</th>\n",
       "      <th>pop_top_25_pct</th>\n",
       "      <th>pop_top_50_pct</th>\n",
       "    </tr>\n",
       "    <tr>\n",
       "      <th>year</th>\n",
       "      <th>tract</th>\n",
       "      <th></th>\n",
       "      <th></th>\n",
       "      <th></th>\n",
       "      <th></th>\n",
       "      <th></th>\n",
       "      <th></th>\n",
       "    </tr>\n",
       "  </thead>\n",
       "  <tbody>\n",
       "    <tr>\n",
       "      <th rowspan=\"3\" valign=\"top\">2014-01-01</th>\n",
       "      <th>6.073022e+09</th>\n",
       "      <td>San Diego</td>\n",
       "      <td>2022</td>\n",
       "      <td>11.029751</td>\n",
       "      <td>13.0</td>\n",
       "      <td>False</td>\n",
       "      <td>False</td>\n",
       "    </tr>\n",
       "    <tr>\n",
       "      <th>6.073022e+09</th>\n",
       "      <td>San Diego</td>\n",
       "      <td>3391</td>\n",
       "      <td>17.486004</td>\n",
       "      <td>33.0</td>\n",
       "      <td>False</td>\n",
       "      <td>False</td>\n",
       "    </tr>\n",
       "    <tr>\n",
       "      <th>6.073021e+09</th>\n",
       "      <td>San Diego</td>\n",
       "      <td>7225</td>\n",
       "      <td>12.175017</td>\n",
       "      <td>18.0</td>\n",
       "      <td>False</td>\n",
       "      <td>False</td>\n",
       "    </tr>\n",
       "  </tbody>\n",
       "</table>\n",
       "</div>"
      ],
      "text/plain": [
       "                            county  population      score  percentile  \\\n",
       "year       tract                                                        \n",
       "2014-01-01 6.073022e+09  San Diego        2022  11.029751        13.0   \n",
       "           6.073022e+09  San Diego        3391  17.486004        33.0   \n",
       "           6.073021e+09  San Diego        7225  12.175017        18.0   \n",
       "\n",
       "                         pop_top_25_pct  pop_top_50_pct  \n",
       "year       tract                                         \n",
       "2014-01-01 6.073022e+09           False           False  \n",
       "           6.073022e+09           False           False  \n",
       "           6.073021e+09           False           False  "
      ]
     },
     "execution_count": 253,
     "metadata": {},
     "output_type": "execute_result"
    }
   ],
   "source": [
    "df = pd.concat([version_4, version_3, version_2])\n",
    "df.tail(3)"
   ]
  },
  {
   "cell_type": "code",
   "execution_count": 254,
   "metadata": {},
   "outputs": [],
   "source": [
    "region_score = (\n",
    "    df\n",
    "    .dropna(subset='score')\n",
    "    .groupby('year')\n",
    "    .apply(\n",
    "        lambda x:\n",
    "        np.average(\n",
    "            x['score'],\n",
    "            weights=x['population'],\n",
    "        )\n",
    "    )\n",
    "    .sort_index()\n",
    ")"
   ]
  },
  {
   "cell_type": "code",
   "execution_count": 255,
   "metadata": {},
   "outputs": [],
   "source": [
    "pop_top_25_pct = (\n",
    "    df\n",
    "    .query('`pop_top_25_pct` == True')\n",
    "    .groupby('year')\n",
    "    ['population']\n",
    "    .sum()\n",
    "    .sort_index()\n",
    ")"
   ]
  },
  {
   "cell_type": "code",
   "execution_count": 256,
   "metadata": {},
   "outputs": [],
   "source": [
    "pop_top_50_pct = (\n",
    "    df\n",
    "    .query('`pop_top_50_pct` == True')\n",
    "    .groupby('year')\n",
    "    ['population']\n",
    "    .sum()\n",
    "    .sort_index()\n",
    ")"
   ]
  },
  {
   "cell_type": "code",
   "execution_count": 257,
   "metadata": {},
   "outputs": [],
   "source": [
    "population = (\n",
    "    df\n",
    "    .groupby('year')\n",
    "    ['population']\n",
    "    .sum()\n",
    ")"
   ]
  },
  {
   "cell_type": "code",
   "execution_count": 258,
   "metadata": {},
   "outputs": [
    {
     "data": {
      "text/html": [
       "<div>\n",
       "<style scoped>\n",
       "    .dataframe tbody tr th:only-of-type {\n",
       "        vertical-align: middle;\n",
       "    }\n",
       "\n",
       "    .dataframe tbody tr th {\n",
       "        vertical-align: top;\n",
       "    }\n",
       "\n",
       "    .dataframe thead th {\n",
       "        text-align: right;\n",
       "    }\n",
       "</style>\n",
       "<table border=\"1\" class=\"dataframe\">\n",
       "  <thead>\n",
       "    <tr style=\"text-align: right;\">\n",
       "      <th></th>\n",
       "      <th>region_score</th>\n",
       "      <th>population_25th</th>\n",
       "      <th>population_50th</th>\n",
       "    </tr>\n",
       "    <tr>\n",
       "      <th>year</th>\n",
       "      <th></th>\n",
       "      <th></th>\n",
       "      <th></th>\n",
       "    </tr>\n",
       "  </thead>\n",
       "  <tbody>\n",
       "    <tr>\n",
       "      <th>2014-01-01</th>\n",
       "      <td>18.41</td>\n",
       "      <td>0.04</td>\n",
       "      <td>0.23</td>\n",
       "    </tr>\n",
       "    <tr>\n",
       "      <th>2018-01-01</th>\n",
       "      <td>18.98</td>\n",
       "      <td>0.05</td>\n",
       "      <td>0.23</td>\n",
       "    </tr>\n",
       "    <tr>\n",
       "      <th>2021-01-01</th>\n",
       "      <td>19.96</td>\n",
       "      <td>0.07</td>\n",
       "      <td>0.29</td>\n",
       "    </tr>\n",
       "  </tbody>\n",
       "</table>\n",
       "</div>"
      ],
      "text/plain": [
       "            region_score  population_25th  population_50th\n",
       "year                                                      \n",
       "2014-01-01         18.41             0.04             0.23\n",
       "2018-01-01         18.98             0.05             0.23\n",
       "2021-01-01         19.96             0.07             0.29"
      ]
     },
     "execution_count": 258,
     "metadata": {},
     "output_type": "execute_result"
    }
   ],
   "source": [
    "enviroscreen_score = (\n",
    "    pd.DataFrame(\n",
    "        data={\n",
    "            'region_score': region_score,\n",
    "            'population_25th': (pop_top_25_pct/population),\n",
    "            'population_50th': (pop_top_50_pct/population),\n",
    "        }\n",
    "    )\n",
    "    .round(2)\n",
    ")\n",
    "enviroscreen_score"
   ]
  },
  {
   "cell_type": "markdown",
   "metadata": {},
   "source": [
    "### Save Data"
   ]
  },
  {
   "cell_type": "code",
   "execution_count": 259,
   "metadata": {},
   "outputs": [
    {
     "data": {
      "text/markdown": [
       "#### Clean data path"
      ],
      "text/plain": [
       "<IPython.core.display.Markdown object>"
      ]
     },
     "metadata": {},
     "output_type": "display_data"
    },
    {
     "data": {
      "text/markdown": [
       "[C:/Users/tan/src/regional-pm-2023/data/clean/qol/social_equity/enviroscreen_score](C:/Users/tan/src/regional-pm-2023/data/clean/qol/social_equity/enviroscreen_score)"
      ],
      "text/plain": [
       "<IPython.core.display.Markdown object>"
      ]
     },
     "metadata": {},
     "output_type": "display_data"
    }
   ],
   "source": [
    "display(Markdown('#### Clean data path'))\n",
    "clean_dir_path = str(CONFIG['clean_dir']).replace('\\\\', '/')\n",
    "display(Markdown(f\"[{clean_dir_path}]({clean_dir_path})\"))"
   ]
  },
  {
   "cell_type": "code",
   "execution_count": 260,
   "metadata": {},
   "outputs": [],
   "source": [
    "enviroscreen_score.to_csv(\n",
    "    CONFIG['clean_dir']\n",
    "    / f'{INDICATOR}_odp.csv'\n",
    ")"
   ]
  }
 ],
 "metadata": {
  "kernelspec": {
   "display_name": ".venv",
   "language": "python",
   "name": "python3"
  },
  "language_info": {
   "codemirror_mode": {
    "name": "ipython",
    "version": 3
   },
   "file_extension": ".py",
   "mimetype": "text/x-python",
   "name": "python",
   "nbconvert_exporter": "python",
   "pygments_lexer": "ipython3",
   "version": "3.11.3"
  },
  "orig_nbformat": 4
 },
 "nbformat": 4,
 "nbformat_minor": 2
}
