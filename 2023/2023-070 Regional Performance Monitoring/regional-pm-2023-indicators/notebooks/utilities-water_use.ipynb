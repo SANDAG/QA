{
 "cells": [
  {
   "cell_type": "code",
   "execution_count": 7,
   "metadata": {},
   "outputs": [
    {
     "data": {
      "text/markdown": [
       "## Raw data path"
      ],
      "text/plain": [
       "<IPython.core.display.Markdown object>"
      ]
     },
     "metadata": {},
     "output_type": "display_data"
    },
    {
     "data": {
      "text/markdown": [
       "[C:/Users/tan/src/regional-pm-2023/data/raw/utilities/water/water_use](C:/Users/tan/src/regional-pm-2023/data/raw/utilities/water/water_use)"
      ],
      "text/plain": [
       "<IPython.core.display.Markdown object>"
      ]
     },
     "metadata": {},
     "output_type": "display_data"
    }
   ],
   "source": [
    "%reload_ext autoreload\n",
    "%autoreload 2\n",
    "\n",
    "from IPython.core.display import Markdown\n",
    "from tqdm.auto import tqdm\n",
    "import config\n",
    "import docs\n",
    "import pandas as pd\n",
    "import requests\n",
    "\n",
    "pd.set_option('display.max_colwidth', None)\n",
    "\n",
    "INDICATOR = 'water_use'\n",
    "CONFIG = config.get_config(INDICATOR, '../config.toml')\n",
    "\n",
    "display(Markdown('## Raw data path'))\n",
    "raw_dir_path = str(CONFIG['raw_dir']).replace('\\\\', '/')\n",
    "display(Markdown(f\"[{raw_dir_path}]({raw_dir_path})\"))\n"
   ]
  },
  {
   "cell_type": "markdown",
   "metadata": {},
   "source": [
    "# Environment: Water\n",
    "\n",
    "## Water Use"
   ]
  },
  {
   "cell_type": "code",
   "execution_count": 8,
   "metadata": {},
   "outputs": [
    {
     "data": {
      "text/markdown": [
       "Amount of water delievered.\n",
       "\n",
       "nan"
      ],
      "text/plain": [
       "<IPython.core.display.Markdown object>"
      ]
     },
     "execution_count": 8,
     "metadata": {},
     "output_type": "execute_result"
    }
   ],
   "source": [
    "docs.describe_indicator(\n",
    "    indicator=INDICATOR,\n",
    "    indicators_xlsx_path=CONFIG['indicators_xlsx_path'],\n",
    ")"
   ]
  },
  {
   "cell_type": "code",
   "execution_count": 9,
   "metadata": {},
   "outputs": [
    {
     "data": {
      "text/html": [
       "<div>\n",
       "<style scoped>\n",
       "    .dataframe tbody tr th:only-of-type {\n",
       "        vertical-align: middle;\n",
       "    }\n",
       "\n",
       "    .dataframe tbody tr th {\n",
       "        vertical-align: top;\n",
       "    }\n",
       "\n",
       "    .dataframe thead th {\n",
       "        text-align: right;\n",
       "    }\n",
       "</style>\n",
       "<table border=\"1\" class=\"dataframe\">\n",
       "  <thead>\n",
       "    <tr style=\"text-align: right;\">\n",
       "      <th></th>\n",
       "      <th>name</th>\n",
       "      <th>description</th>\n",
       "      <th>type</th>\n",
       "    </tr>\n",
       "    <tr>\n",
       "      <th>column</th>\n",
       "      <th></th>\n",
       "      <th></th>\n",
       "      <th></th>\n",
       "    </tr>\n",
       "  </thead>\n",
       "  <tbody>\n",
       "    <tr>\n",
       "      <th>year</th>\n",
       "      <td>Fiscal Year</td>\n",
       "      <td>Fiscal year of record.</td>\n",
       "      <td>datetime</td>\n",
       "    </tr>\n",
       "    <tr>\n",
       "      <th>water_use</th>\n",
       "      <td>Water Use</td>\n",
       "      <td>Amount of water delievered in acre-feet, for a given year.</td>\n",
       "      <td>float</td>\n",
       "    </tr>\n",
       "  </tbody>\n",
       "</table>\n",
       "</div>"
      ],
      "text/plain": [
       "                  name  \\\n",
       "column                   \n",
       "year       Fiscal Year   \n",
       "water_use    Water Use   \n",
       "\n",
       "                                                          description  \\\n",
       "column                                                                  \n",
       "year                                           Fiscal year of record.   \n",
       "water_use  Amount of water delievered in acre-feet, for a given year.   \n",
       "\n",
       "               type  \n",
       "column               \n",
       "year       datetime  \n",
       "water_use     float  "
      ]
     },
     "execution_count": 9,
     "metadata": {},
     "output_type": "execute_result"
    }
   ],
   "source": [
    "docs.list_schema(\n",
    "    indicator=INDICATOR,\n",
    "    indicators_xlsx_path=CONFIG['indicators_xlsx_path'],\n",
    ")"
   ]
  },
  {
   "cell_type": "code",
   "execution_count": 10,
   "metadata": {},
   "outputs": [
    {
     "data": {
      "text/html": [
       "<div>\n",
       "<style scoped>\n",
       "    .dataframe tbody tr th:only-of-type {\n",
       "        vertical-align: middle;\n",
       "    }\n",
       "\n",
       "    .dataframe tbody tr th {\n",
       "        vertical-align: top;\n",
       "    }\n",
       "\n",
       "    .dataframe thead th {\n",
       "        text-align: right;\n",
       "    }\n",
       "</style>\n",
       "<table border=\"1\" class=\"dataframe\">\n",
       "  <thead>\n",
       "    <tr style=\"text-align: right;\">\n",
       "      <th></th>\n",
       "      <th>name</th>\n",
       "      <th>organization</th>\n",
       "      <th>active</th>\n",
       "      <th>notes</th>\n",
       "    </tr>\n",
       "    <tr>\n",
       "      <th>source</th>\n",
       "      <th></th>\n",
       "      <th></th>\n",
       "      <th></th>\n",
       "      <th></th>\n",
       "    </tr>\n",
       "  </thead>\n",
       "  <tbody>\n",
       "    <tr>\n",
       "      <th>cwa_budget</th>\n",
       "      <td>Annual Budget Reports</td>\n",
       "      <td>San Diego County Water Authority</td>\n",
       "      <td>True</td>\n",
       "      <td>Based on fiscal year instead of calendar year.</td>\n",
       "    </tr>\n",
       "  </tbody>\n",
       "</table>\n",
       "</div>"
      ],
      "text/plain": [
       "                             name                      organization  active  \\\n",
       "source                                                                        \n",
       "cwa_budget  Annual Budget Reports  San Diego County Water Authority    True   \n",
       "\n",
       "                                                     notes  \n",
       "source                                                      \n",
       "cwa_budget  Based on fiscal year instead of calendar year.  "
      ]
     },
     "execution_count": 10,
     "metadata": {},
     "output_type": "execute_result"
    }
   ],
   "source": [
    "docs.list_sources(\n",
    "    indicator=INDICATOR,\n",
    "    indicators_xlsx_path=CONFIG['indicators_xlsx_path'],\n",
    ")"
   ]
  },
  {
   "cell_type": "code",
   "execution_count": 11,
   "metadata": {},
   "outputs": [
    {
     "data": {
      "text/html": [
       "<div>\n",
       "<style scoped>\n",
       "    .dataframe tbody tr th:only-of-type {\n",
       "        vertical-align: middle;\n",
       "    }\n",
       "\n",
       "    .dataframe tbody tr th {\n",
       "        vertical-align: top;\n",
       "    }\n",
       "\n",
       "    .dataframe thead th {\n",
       "        text-align: right;\n",
       "    }\n",
       "</style>\n",
       "<table border=\"1\" class=\"dataframe\">\n",
       "  <thead>\n",
       "    <tr style=\"text-align: right;\">\n",
       "      <th></th>\n",
       "      <th>step</th>\n",
       "    </tr>\n",
       "  </thead>\n",
       "  <tbody>\n",
       "    <tr>\n",
       "      <th>0</th>\n",
       "      <td>Update legacy sheet based on newest CWA fiscal year report.</td>\n",
       "    </tr>\n",
       "    <tr>\n",
       "      <th>1</th>\n",
       "      <td>Extract legacy data from legacy PM sheet.</td>\n",
       "    </tr>\n",
       "  </tbody>\n",
       "</table>\n",
       "</div>"
      ],
      "text/plain": [
       "                                                          step\n",
       "0  Update legacy sheet based on newest CWA fiscal year report.\n",
       "1                    Extract legacy data from legacy PM sheet."
      ]
     },
     "execution_count": 11,
     "metadata": {},
     "output_type": "execute_result"
    }
   ],
   "source": [
    "steps = docs.list_update_steps(\n",
    "    indicator=INDICATOR,\n",
    "    indicators_xlsx_path=CONFIG['indicators_xlsx_path'],\n",
    ")\n",
    "steps"
   ]
  },
  {
   "cell_type": "code",
   "execution_count": 12,
   "metadata": {},
   "outputs": [
    {
     "data": {
      "text/html": [
       "<div>\n",
       "<style scoped>\n",
       "    .dataframe tbody tr th:only-of-type {\n",
       "        vertical-align: middle;\n",
       "    }\n",
       "\n",
       "    .dataframe tbody tr th {\n",
       "        vertical-align: top;\n",
       "    }\n",
       "\n",
       "    .dataframe thead th {\n",
       "        text-align: right;\n",
       "    }\n",
       "</style>\n",
       "<table border=\"1\" class=\"dataframe\">\n",
       "  <thead>\n",
       "    <tr style=\"text-align: right;\">\n",
       "      <th></th>\n",
       "      <th>author</th>\n",
       "      <th>note</th>\n",
       "    </tr>\n",
       "  </thead>\n",
       "  <tbody>\n",
       "    <tr>\n",
       "      <th>0</th>\n",
       "      <td>TAN</td>\n",
       "      <td>We have not identified a current SANDAG SME for this.</td>\n",
       "    </tr>\n",
       "  </tbody>\n",
       "</table>\n",
       "</div>"
      ],
      "text/plain": [
       "  author                                                   note\n",
       "0    TAN  We have not identified a current SANDAG SME for this."
      ]
     },
     "execution_count": 12,
     "metadata": {},
     "output_type": "execute_result"
    }
   ],
   "source": [
    "docs.list_remarks(\n",
    "    indicator=INDICATOR,\n",
    "    indicators_xlsx_path=CONFIG['indicators_xlsx_path'],\n",
    ")"
   ]
  },
  {
   "cell_type": "markdown",
   "metadata": {},
   "source": [
    "### Step 0:\n",
    "\n",
    "## Step 0: Update legacy sheet\n",
    "\n",
    "2022 Central Water Authority's [Fiscal Year report](https://www.sdcwa.org/about-us/budgets-financial-reports/#), from a number in the text on page 40."
   ]
  },
  {
   "cell_type": "code",
   "execution_count": 13,
   "metadata": {},
   "outputs": [
    {
     "data": {
      "text/plain": [
       "step    Update legacy sheet based on newest CWA fiscal year report.\n",
       "Name: 0, dtype: object"
      ]
     },
     "metadata": {},
     "output_type": "display_data"
    }
   ],
   "source": [
    "display(steps.loc[0])"
   ]
  },
  {
   "cell_type": "markdown",
   "metadata": {},
   "source": [
    "## Step 1: Extract from legacy sheet"
   ]
  },
  {
   "cell_type": "code",
   "execution_count": 14,
   "metadata": {},
   "outputs": [
    {
     "data": {
      "text/html": [
       "<div>\n",
       "<style scoped>\n",
       "    .dataframe tbody tr th:only-of-type {\n",
       "        vertical-align: middle;\n",
       "    }\n",
       "\n",
       "    .dataframe tbody tr th {\n",
       "        vertical-align: top;\n",
       "    }\n",
       "\n",
       "    .dataframe thead th {\n",
       "        text-align: right;\n",
       "    }\n",
       "</style>\n",
       "<table border=\"1\" class=\"dataframe\">\n",
       "  <thead>\n",
       "    <tr style=\"text-align: right;\">\n",
       "      <th></th>\n",
       "      <th>water_use</th>\n",
       "    </tr>\n",
       "    <tr>\n",
       "      <th>year</th>\n",
       "      <th></th>\n",
       "    </tr>\n",
       "  </thead>\n",
       "  <tbody>\n",
       "    <tr>\n",
       "      <th>2020-01-01</th>\n",
       "      <td>354007.0</td>\n",
       "    </tr>\n",
       "    <tr>\n",
       "      <th>2021-01-01</th>\n",
       "      <td>384165.0</td>\n",
       "    </tr>\n",
       "    <tr>\n",
       "      <th>2022-01-01</th>\n",
       "      <td>409514.0</td>\n",
       "    </tr>\n",
       "  </tbody>\n",
       "</table>\n",
       "</div>"
      ],
      "text/plain": [
       "            water_use\n",
       "year                 \n",
       "2020-01-01   354007.0\n",
       "2021-01-01   384165.0\n",
       "2022-01-01   409514.0"
      ]
     },
     "metadata": {},
     "output_type": "display_data"
    }
   ],
   "source": [
    "water_use = (\n",
    "    pd.read_excel(\n",
    "        CONFIG['legacy_xlsx_path'],\n",
    "        CONFIG['legacy_sheet'],\n",
    "        usecols='A:B',\n",
    "        header=None,\n",
    "        names=['year', 'water_use'],\n",
    "        skiprows=4,\n",
    "        nrows=18,\n",
    "    )\n",
    "    .assign(year=lambda df: pd.to_datetime(df.year, format='%Y'))\n",
    "    .set_index('year')\n",
    ")\n",
    "display(water_use.tail(3))"
   ]
  },
  {
   "cell_type": "markdown",
   "metadata": {},
   "source": [
    "### Save Data"
   ]
  },
  {
   "cell_type": "code",
   "execution_count": 15,
   "metadata": {},
   "outputs": [
    {
     "data": {
      "text/markdown": [
       "#### Clean data path"
      ],
      "text/plain": [
       "<IPython.core.display.Markdown object>"
      ]
     },
     "metadata": {},
     "output_type": "display_data"
    },
    {
     "data": {
      "text/markdown": [
       "[C:/Users/tan/src/regional-pm-2023/data/clean/utilities/water/water_use](C:/Users/tan/src/regional-pm-2023/data/clean/utilities/water/water_use)"
      ],
      "text/plain": [
       "<IPython.core.display.Markdown object>"
      ]
     },
     "metadata": {},
     "output_type": "display_data"
    }
   ],
   "source": [
    "display(Markdown('#### Clean data path'))\n",
    "clean_dir_path = str(CONFIG['clean_dir']).replace('\\\\', '/')\n",
    "display(Markdown(f\"[{clean_dir_path}]({clean_dir_path})\"))"
   ]
  },
  {
   "cell_type": "code",
   "execution_count": 16,
   "metadata": {},
   "outputs": [],
   "source": [
    "water_use.to_csv(\n",
    "    CONFIG['clean_dir']\n",
    "    / f'{INDICATOR}_odp.csv'\n",
    ")"
   ]
  }
 ],
 "metadata": {
  "kernelspec": {
   "display_name": ".venv",
   "language": "python",
   "name": "python3"
  },
  "language_info": {
   "codemirror_mode": {
    "name": "ipython",
    "version": 3
   },
   "file_extension": ".py",
   "mimetype": "text/x-python",
   "name": "python",
   "nbconvert_exporter": "python",
   "pygments_lexer": "ipython3",
   "version": "3.11.3"
  },
  "orig_nbformat": 4
 },
 "nbformat": 4,
 "nbformat_minor": 2
}
