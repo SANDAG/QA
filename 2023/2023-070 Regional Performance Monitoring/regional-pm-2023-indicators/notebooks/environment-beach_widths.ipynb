{
 "cells": [
  {
   "cell_type": "code",
   "execution_count": 46,
   "metadata": {},
   "outputs": [
    {
     "data": {
      "text/markdown": [
       "## Raw data path"
      ],
      "text/plain": [
       "<IPython.core.display.Markdown object>"
      ]
     },
     "metadata": {},
     "output_type": "display_data"
    },
    {
     "data": {
      "text/markdown": [
       "[C:/Users/tan/src/regional-pm-2023/data/raw/environment/beaches/beach_widths](C:/Users/tan/src/regional-pm-2023/data/raw/environment/beaches/beach_widths)"
      ],
      "text/plain": [
       "<IPython.core.display.Markdown object>"
      ]
     },
     "metadata": {},
     "output_type": "display_data"
    }
   ],
   "source": [
    "%reload_ext autoreload\n",
    "%autoreload 2\n",
    "\n",
    "from IPython.core.display import Markdown\n",
    "from tqdm.auto import tqdm\n",
    "import config\n",
    "import docs\n",
    "import pandas as pd\n",
    "import requests\n",
    "\n",
    "pd.set_option('display.max_colwidth', None)\n",
    "\n",
    "INDICATOR = 'beach_widths'\n",
    "CONFIG = config.get_config(INDICATOR, '../config.toml')\n",
    "\n",
    "display(Markdown('## Raw data path'))\n",
    "raw_dir_path = str(CONFIG['raw_dir']).replace('\\\\', '/')\n",
    "display(Markdown(f\"[{raw_dir_path}]({raw_dir_path})\"))\n"
   ]
  },
  {
   "cell_type": "markdown",
   "metadata": {},
   "source": [
    "# Healthy Environment: Beaches\n",
    "\n",
    "## Beach Widths"
   ]
  },
  {
   "cell_type": "code",
   "execution_count": 47,
   "metadata": {},
   "outputs": [
    {
     "data": {
      "text/markdown": [
       "Average fall widths of beaches.\n",
       "\n",
       "nan"
      ],
      "text/plain": [
       "<IPython.core.display.Markdown object>"
      ]
     },
     "execution_count": 47,
     "metadata": {},
     "output_type": "execute_result"
    }
   ],
   "source": [
    "docs.describe_indicator(\n",
    "    indicator=INDICATOR,\n",
    "    indicators_xlsx_path=CONFIG['indicators_xlsx_path'],\n",
    ")"
   ]
  },
  {
   "cell_type": "code",
   "execution_count": 48,
   "metadata": {},
   "outputs": [
    {
     "data": {
      "text/html": [
       "<div>\n",
       "<style scoped>\n",
       "    .dataframe tbody tr th:only-of-type {\n",
       "        vertical-align: middle;\n",
       "    }\n",
       "\n",
       "    .dataframe tbody tr th {\n",
       "        vertical-align: top;\n",
       "    }\n",
       "\n",
       "    .dataframe thead th {\n",
       "        text-align: right;\n",
       "    }\n",
       "</style>\n",
       "<table border=\"1\" class=\"dataframe\">\n",
       "  <thead>\n",
       "    <tr style=\"text-align: right;\">\n",
       "      <th></th>\n",
       "      <th>name</th>\n",
       "      <th>description</th>\n",
       "      <th>type</th>\n",
       "    </tr>\n",
       "    <tr>\n",
       "      <th>column</th>\n",
       "      <th></th>\n",
       "      <th></th>\n",
       "      <th></th>\n",
       "    </tr>\n",
       "  </thead>\n",
       "  <tbody>\n",
       "    <tr>\n",
       "      <th>year</th>\n",
       "      <td>Year</td>\n",
       "      <td>Year of record.</td>\n",
       "      <td>datetime</td>\n",
       "    </tr>\n",
       "    <tr>\n",
       "      <th>cell</th>\n",
       "      <td>Littoral Cell</td>\n",
       "      <td>Littoral Cell for record.</td>\n",
       "      <td>string</td>\n",
       "    </tr>\n",
       "    <tr>\n",
       "      <th>beach</th>\n",
       "      <td>Beach</td>\n",
       "      <td>Beach for record.</td>\n",
       "      <td>string</td>\n",
       "    </tr>\n",
       "    <tr>\n",
       "      <th>width</th>\n",
       "      <td>Width</td>\n",
       "      <td>Average fall widths of beaches in feet, in a given year for a given beach.</td>\n",
       "      <td>float</td>\n",
       "    </tr>\n",
       "  </tbody>\n",
       "</table>\n",
       "</div>"
      ],
      "text/plain": [
       "                 name  \\\n",
       "column                  \n",
       "year             Year   \n",
       "cell    Littoral Cell   \n",
       "beach           Beach   \n",
       "width           Width   \n",
       "\n",
       "                                                                       description  \\\n",
       "column                                                                               \n",
       "year                                                               Year of record.   \n",
       "cell                                                     Littoral Cell for record.   \n",
       "beach                                                            Beach for record.   \n",
       "width   Average fall widths of beaches in feet, in a given year for a given beach.   \n",
       "\n",
       "            type  \n",
       "column            \n",
       "year    datetime  \n",
       "cell      string  \n",
       "beach     string  \n",
       "width      float  "
      ]
     },
     "execution_count": 48,
     "metadata": {},
     "output_type": "execute_result"
    }
   ],
   "source": [
    "docs.list_schema(\n",
    "    indicator=INDICATOR,\n",
    "    indicators_xlsx_path=CONFIG['indicators_xlsx_path'],\n",
    ")"
   ]
  },
  {
   "cell_type": "code",
   "execution_count": 49,
   "metadata": {},
   "outputs": [
    {
     "data": {
      "text/html": [
       "<div>\n",
       "<style scoped>\n",
       "    .dataframe tbody tr th:only-of-type {\n",
       "        vertical-align: middle;\n",
       "    }\n",
       "\n",
       "    .dataframe tbody tr th {\n",
       "        vertical-align: top;\n",
       "    }\n",
       "\n",
       "    .dataframe thead th {\n",
       "        text-align: right;\n",
       "    }\n",
       "</style>\n",
       "<table border=\"1\" class=\"dataframe\">\n",
       "  <thead>\n",
       "    <tr style=\"text-align: right;\">\n",
       "      <th></th>\n",
       "      <th>name</th>\n",
       "      <th>organization</th>\n",
       "      <th>active</th>\n",
       "      <th>notes</th>\n",
       "    </tr>\n",
       "    <tr>\n",
       "      <th>source</th>\n",
       "      <th></th>\n",
       "      <th></th>\n",
       "      <th></th>\n",
       "      <th></th>\n",
       "    </tr>\n",
       "  </thead>\n",
       "  <tbody>\n",
       "    <tr>\n",
       "      <th>shoreline_monitoring</th>\n",
       "      <td>Shoreline Monitoring Program</td>\n",
       "      <td>SANDAG Shoreline Monitoring Program</td>\n",
       "      <td>True</td>\n",
       "      <td>Appendixes contain new as well as all historical data.</td>\n",
       "    </tr>\n",
       "  </tbody>\n",
       "</table>\n",
       "</div>"
      ],
      "text/plain": [
       "                                              name  \\\n",
       "source                                               \n",
       "shoreline_monitoring  Shoreline Monitoring Program   \n",
       "\n",
       "                                             organization  active  \\\n",
       "source                                                              \n",
       "shoreline_monitoring  SANDAG Shoreline Monitoring Program    True   \n",
       "\n",
       "                                                                       notes  \n",
       "source                                                                        \n",
       "shoreline_monitoring  Appendixes contain new as well as all historical data.  "
      ]
     },
     "execution_count": 49,
     "metadata": {},
     "output_type": "execute_result"
    }
   ],
   "source": [
    "docs.list_sources(\n",
    "    indicator=INDICATOR,\n",
    "    indicators_xlsx_path=CONFIG['indicators_xlsx_path'],\n",
    ")"
   ]
  },
  {
   "cell_type": "code",
   "execution_count": 50,
   "metadata": {},
   "outputs": [
    {
     "data": {
      "text/html": [
       "<div>\n",
       "<style scoped>\n",
       "    .dataframe tbody tr th:only-of-type {\n",
       "        vertical-align: middle;\n",
       "    }\n",
       "\n",
       "    .dataframe tbody tr th {\n",
       "        vertical-align: top;\n",
       "    }\n",
       "\n",
       "    .dataframe thead th {\n",
       "        text-align: right;\n",
       "    }\n",
       "</style>\n",
       "<table border=\"1\" class=\"dataframe\">\n",
       "  <thead>\n",
       "    <tr style=\"text-align: right;\">\n",
       "      <th></th>\n",
       "      <th>step</th>\n",
       "    </tr>\n",
       "  </thead>\n",
       "  <tbody>\n",
       "    <tr>\n",
       "      <th>0</th>\n",
       "      <td>Extract legacy data from legacy PM sheet.</td>\n",
       "    </tr>\n",
       "    <tr>\n",
       "      <th>1</th>\n",
       "      <td>Download Report data from new integrated report.</td>\n",
       "    </tr>\n",
       "    <tr>\n",
       "      <th>2</th>\n",
       "      <td>Extract/calculate new widths in San Diego region from report.</td>\n",
       "    </tr>\n",
       "  </tbody>\n",
       "</table>\n",
       "</div>"
      ],
      "text/plain": [
       "                                                            step\n",
       "0                      Extract legacy data from legacy PM sheet.\n",
       "1               Download Report data from new integrated report.\n",
       "2  Extract/calculate new widths in San Diego region from report."
      ]
     },
     "execution_count": 50,
     "metadata": {},
     "output_type": "execute_result"
    }
   ],
   "source": [
    "steps = docs.list_update_steps(\n",
    "    indicator=INDICATOR,\n",
    "    indicators_xlsx_path=CONFIG['indicators_xlsx_path'],\n",
    ")\n",
    "steps"
   ]
  },
  {
   "cell_type": "code",
   "execution_count": 51,
   "metadata": {},
   "outputs": [
    {
     "data": {
      "text/html": [
       "<div>\n",
       "<style scoped>\n",
       "    .dataframe tbody tr th:only-of-type {\n",
       "        vertical-align: middle;\n",
       "    }\n",
       "\n",
       "    .dataframe tbody tr th {\n",
       "        vertical-align: top;\n",
       "    }\n",
       "\n",
       "    .dataframe thead th {\n",
       "        text-align: right;\n",
       "    }\n",
       "</style>\n",
       "<table border=\"1\" class=\"dataframe\">\n",
       "  <thead>\n",
       "    <tr style=\"text-align: right;\">\n",
       "      <th></th>\n",
       "      <th>author</th>\n",
       "      <th>note</th>\n",
       "    </tr>\n",
       "  </thead>\n",
       "  <tbody>\n",
       "    <tr>\n",
       "      <th>0</th>\n",
       "      <td>TAN</td>\n",
       "      <td>Current SMEs are Keith Greer &lt;Keith.Greer@sandag.org&gt; and Courtney Pesce &lt;Courtney.Pesce@sandag.org&gt;</td>\n",
       "    </tr>\n",
       "  </tbody>\n",
       "</table>\n",
       "</div>"
      ],
      "text/plain": [
       "  author  \\\n",
       "0    TAN   \n",
       "\n",
       "                                                                                                   note  \n",
       "0  Current SMEs are Keith Greer <Keith.Greer@sandag.org> and Courtney Pesce <Courtney.Pesce@sandag.org>  "
      ]
     },
     "execution_count": 51,
     "metadata": {},
     "output_type": "execute_result"
    }
   ],
   "source": [
    "docs.list_remarks(\n",
    "    indicator=INDICATOR,\n",
    "    indicators_xlsx_path=CONFIG['indicators_xlsx_path'],\n",
    ")"
   ]
  },
  {
   "cell_type": "markdown",
   "metadata": {},
   "source": [
    "### Step 0:"
   ]
  },
  {
   "cell_type": "code",
   "execution_count": 52,
   "metadata": {},
   "outputs": [
    {
     "data": {
      "text/plain": [
       "step    Extract legacy data from legacy PM sheet.\n",
       "Name: 0, dtype: object"
      ]
     },
     "metadata": {},
     "output_type": "display_data"
    },
    {
     "data": {
      "text/html": [
       "<div>\n",
       "<style scoped>\n",
       "    .dataframe tbody tr th:only-of-type {\n",
       "        vertical-align: middle;\n",
       "    }\n",
       "\n",
       "    .dataframe tbody tr th {\n",
       "        vertical-align: top;\n",
       "    }\n",
       "\n",
       "    .dataframe thead th {\n",
       "        text-align: right;\n",
       "    }\n",
       "</style>\n",
       "<table border=\"1\" class=\"dataframe\">\n",
       "  <thead>\n",
       "    <tr style=\"text-align: right;\">\n",
       "      <th></th>\n",
       "      <th></th>\n",
       "      <th></th>\n",
       "      <th>width</th>\n",
       "    </tr>\n",
       "    <tr>\n",
       "      <th>year</th>\n",
       "      <th>cell</th>\n",
       "      <th>beach</th>\n",
       "      <th></th>\n",
       "    </tr>\n",
       "  </thead>\n",
       "  <tbody>\n",
       "    <tr>\n",
       "      <th rowspan=\"2\" valign=\"top\">2020-01-01</th>\n",
       "      <th rowspan=\"2\" valign=\"top\">Oceanside Littoral Cell</th>\n",
       "      <th>Carlsbad</th>\n",
       "      <td>119.9</td>\n",
       "    </tr>\n",
       "    <tr>\n",
       "      <th>Oceanside</th>\n",
       "      <td>248.0</td>\n",
       "    </tr>\n",
       "  </tbody>\n",
       "</table>\n",
       "</div>"
      ],
      "text/plain": [
       "                                              width\n",
       "year       cell                    beach           \n",
       "2020-01-01 Oceanside Littoral Cell Carlsbad   119.9\n",
       "                                   Oceanside  248.0"
      ]
     },
     "execution_count": 52,
     "metadata": {},
     "output_type": "execute_result"
    }
   ],
   "source": [
    "display(steps.loc[0])\n",
    "\n",
    "old_data = (\n",
    "    # Read data from historical sheet\n",
    "    pd.read_excel(\n",
    "        CONFIG['legacy_xlsx_path'],\n",
    "        sheet_name=CONFIG['legacy_sheet'],\n",
    "        skiprows=4,\n",
    "        nrows=12,\n",
    "        usecols='A:R',\n",
    "        header=None,\n",
    "        names=(\n",
    "            ['cell', 'beach'] + list(range(2005, 2021))\n",
    "        )\n",
    "    )\n",
    "    # Fill in gaps from Excel's merged cell.\n",
    "    .assign(cell=lambda df: df.cell.ffill())\n",
    "    # Melt the year columns into a tall table.\n",
    "    .melt(\n",
    "        id_vars=['cell', 'beach'], \n",
    "        var_name='year',\n",
    "        value_name='width',\n",
    "    )\n",
    "    # Format year to datetime\n",
    "    .assign(year=lambda df: pd.to_datetime(df.year, format='%Y'))\n",
    "    [['year', 'cell', 'beach', 'width']]\n",
    "    .set_index(['year', 'cell', 'beach'])\n",
    ")\n",
    "old_data.tail(2)"
   ]
  },
  {
   "cell_type": "markdown",
   "metadata": {},
   "source": [
    "### Step 1: Download new data"
   ]
  },
  {
   "cell_type": "code",
   "execution_count": 53,
   "metadata": {},
   "outputs": [
    {
     "data": {
      "text/plain": [
       "step    Download Report data from new integrated report.\n",
       "Name: 1, dtype: object"
      ]
     },
     "metadata": {},
     "output_type": "display_data"
    }
   ],
   "source": [
    "display(steps.loc[1])"
   ]
  },
  {
   "cell_type": "markdown",
   "metadata": {},
   "source": [
    "The newest latest Shoreline Monitoring reports can be found [here](https://www.sandag.org/projects-and-programs/environment/shoreline-management/monitoring-program).\n",
    "\n",
    "* Appendix C contains the newest width data (as well as all previous data).\n",
    "* `beach_transects.xlsx` is a manually made mapping of individual transects (sensor stations) to beaches in the report. Some reverse engineering had to be done because we were not able to find the historical mappings, but the numbers are very close (0-1 foot off for all beaches)."
   ]
  },
  {
   "cell_type": "markdown",
   "metadata": {},
   "source": [
    "### Step 2:"
   ]
  },
  {
   "cell_type": "code",
   "execution_count": 54,
   "metadata": {},
   "outputs": [
    {
     "data": {
      "text/plain": [
       "step    Extract/calculate new widths in San Diego region from report.\n",
       "Name: 2, dtype: object"
      ]
     },
     "metadata": {},
     "output_type": "display_data"
    }
   ],
   "source": [
    "display(steps.loc[2])"
   ]
  },
  {
   "cell_type": "code",
   "execution_count": 55,
   "metadata": {},
   "outputs": [],
   "source": [
    "# Mappings are needed to aggregate transect stations by beach.\n",
    "beach_transects = pd.read_excel(CONFIG['raw_dir']/'beach_transects.xlsx')\n",
    "beach_transects.head(2)\n",
    "\n",
    "\n",
    "def calculate_beach_widths(\n",
    "    year: int,\n",
    "    column: str,\n",
    "    beach_transects: pd.DataFrame,\n",
    ") -> pd.DataFrame:\n",
    "    \"\"\"Calculate average fall beach widths for a single year.\n",
    "    \"\"\"\n",
    "    widths = (\n",
    "        pd.read_excel(\n",
    "            CONFIG['raw_dir']/'Appendix C-MSL Shorelines.xlsx',\n",
    "            sheet_name='MSL Beachwidths',\n",
    "            skiprows=6,\n",
    "            header=None,\n",
    "            usecols=f'A,B,{column}',\n",
    "            names=['cell', 'transect', 'width']\n",
    "        )\n",
    "        # transect code is first 7 characters.\n",
    "        .assign(transect=lambda df: df.transect.str[0:7])\n",
    "        # Fill in gaps from Excel's merged cell.\n",
    "        .assign(cell=lambda df: df.cell.ffill())\n",
    "        .assign(year=year)\n",
    "        .assign(year=lambda df: pd.to_datetime(df.year, format='%Y'))\n",
    "    )\n",
    "    return (\n",
    "        widths\n",
    "        .merge(beach_transects, how='left', on='transect')\n",
    "        .drop(columns='transect')\n",
    "        .groupby(by=['year', 'cell', 'beach'], sort=False)\n",
    "        [['width']]\n",
    "        .mean()\n",
    "        .round(1)\n",
    "    )"
   ]
  },
  {
   "cell_type": "markdown",
   "metadata": {},
   "source": [
    "Calculate 2020 data and compare to data on the PM XLSX.\n",
    "\n",
    "They are slightly off, but nothing larger than a foot. This is the closest I've been able to match past values given that we were unable to locate the original transect mapping."
   ]
  },
  {
   "cell_type": "code",
   "execution_count": 56,
   "metadata": {},
   "outputs": [
    {
     "name": "stderr",
     "output_type": "stream",
     "text": [
      "C:\\Users\\tan\\AppData\\Local\\Temp\\ipykernel_75216\\2702246711.py:8: PerformanceWarning: indexing past lexsort depth may impact performance.\n",
      "  old_data.loc['2020', 'width'] - beach_widths_2020.width\n"
     ]
    },
    {
     "data": {
      "text/plain": [
       "year        cell                         beach                    \n",
       "2020-01-01  Silver Strand Littoral Cell  Imperial Beach               0.0\n",
       "                                         Silver Strand State Beach    0.5\n",
       "                                         Coronado                     0.0\n",
       "            Mission Beach Littoral Cell  Ocean Beach                  0.0\n",
       "                                         Pacific/ Mission Beaches     0.0\n",
       "            Oceanside Littoral Cell      La Jolla                     0.2\n",
       "                                         San Diego                    0.0\n",
       "                                         Del Mar                      0.5\n",
       "                                         Solana Beach                 0.0\n",
       "                                         Encinitas                    0.0\n",
       "                                         Carlsbad                     0.9\n",
       "                                         Oceanside                    0.0\n",
       "Name: width, dtype: float64"
      ]
     },
     "execution_count": 56,
     "metadata": {},
     "output_type": "execute_result"
    }
   ],
   "source": [
    "beach_widths_2020 = calculate_beach_widths(\n",
    "    year=2020,\n",
    "    column='BE',\n",
    "    beach_transects=beach_transects,\n",
    ")\n",
    "\n",
    "\n",
    "old_data.loc['2020', 'width'] - beach_widths_2020.width"
   ]
  },
  {
   "cell_type": "markdown",
   "metadata": {},
   "source": []
  },
  {
   "cell_type": "code",
   "execution_count": 57,
   "metadata": {},
   "outputs": [],
   "source": [
    "new_data = calculate_beach_widths(\n",
    "    year=2021,\n",
    "    column='BG',\n",
    "    beach_transects=beach_transects,\n",
    ")\n"
   ]
  },
  {
   "cell_type": "code",
   "execution_count": 58,
   "metadata": {},
   "outputs": [
    {
     "data": {
      "text/html": [
       "<div>\n",
       "<style scoped>\n",
       "    .dataframe tbody tr th:only-of-type {\n",
       "        vertical-align: middle;\n",
       "    }\n",
       "\n",
       "    .dataframe tbody tr th {\n",
       "        vertical-align: top;\n",
       "    }\n",
       "\n",
       "    .dataframe thead th {\n",
       "        text-align: right;\n",
       "    }\n",
       "</style>\n",
       "<table border=\"1\" class=\"dataframe\">\n",
       "  <thead>\n",
       "    <tr style=\"text-align: right;\">\n",
       "      <th></th>\n",
       "      <th></th>\n",
       "      <th></th>\n",
       "      <th>width</th>\n",
       "    </tr>\n",
       "    <tr>\n",
       "      <th>year</th>\n",
       "      <th>cell</th>\n",
       "      <th>beach</th>\n",
       "      <th></th>\n",
       "    </tr>\n",
       "  </thead>\n",
       "  <tbody>\n",
       "    <tr>\n",
       "      <th rowspan=\"5\" valign=\"top\">2005-01-01</th>\n",
       "      <th rowspan=\"3\" valign=\"top\">Silver Strand Littoral Cell</th>\n",
       "      <th>Imperial Beach</th>\n",
       "      <td>114.50</td>\n",
       "    </tr>\n",
       "    <tr>\n",
       "      <th>Silver Strand State Beach</th>\n",
       "      <td>438.50</td>\n",
       "    </tr>\n",
       "    <tr>\n",
       "      <th>Coronado</th>\n",
       "      <td>737.00</td>\n",
       "    </tr>\n",
       "    <tr>\n",
       "      <th rowspan=\"2\" valign=\"top\">Mission Beach Littoral Cell</th>\n",
       "      <th>Ocean Beach</th>\n",
       "      <td>225.00</td>\n",
       "    </tr>\n",
       "    <tr>\n",
       "      <th>Pacific/ Mission Beaches</th>\n",
       "      <td>240.75</td>\n",
       "    </tr>\n",
       "    <tr>\n",
       "      <th>...</th>\n",
       "      <th>...</th>\n",
       "      <th>...</th>\n",
       "      <td>...</td>\n",
       "    </tr>\n",
       "    <tr>\n",
       "      <th rowspan=\"5\" valign=\"top\">2021-01-01</th>\n",
       "      <th rowspan=\"5\" valign=\"top\">Oceanside Littoral Cell</th>\n",
       "      <th>Del Mar</th>\n",
       "      <td>143.50</td>\n",
       "    </tr>\n",
       "    <tr>\n",
       "      <th>Solana Beach</th>\n",
       "      <td>204.00</td>\n",
       "    </tr>\n",
       "    <tr>\n",
       "      <th>Encinitas</th>\n",
       "      <td>135.80</td>\n",
       "    </tr>\n",
       "    <tr>\n",
       "      <th>Carlsbad</th>\n",
       "      <td>114.90</td>\n",
       "    </tr>\n",
       "    <tr>\n",
       "      <th>Oceanside</th>\n",
       "      <td>211.50</td>\n",
       "    </tr>\n",
       "  </tbody>\n",
       "</table>\n",
       "<p>204 rows × 1 columns</p>\n",
       "</div>"
      ],
      "text/plain": [
       "                                                                   width\n",
       "year       cell                        beach                            \n",
       "2005-01-01 Silver Strand Littoral Cell Imperial Beach             114.50\n",
       "                                       Silver Strand State Beach  438.50\n",
       "                                       Coronado                   737.00\n",
       "           Mission Beach Littoral Cell Ocean Beach                225.00\n",
       "                                       Pacific/ Mission Beaches   240.75\n",
       "...                                                                  ...\n",
       "2021-01-01 Oceanside Littoral Cell     Del Mar                    143.50\n",
       "                                       Solana Beach               204.00\n",
       "                                       Encinitas                  135.80\n",
       "                                       Carlsbad                   114.90\n",
       "                                       Oceanside                  211.50\n",
       "\n",
       "[204 rows x 1 columns]"
      ]
     },
     "execution_count": 58,
     "metadata": {},
     "output_type": "execute_result"
    }
   ],
   "source": [
    "beach_widths = pd.concat(\n",
    "    [\n",
    "        old_data,\n",
    "        new_data,\n",
    "    ],\n",
    ")\n",
    "beach_widths"
   ]
  },
  {
   "cell_type": "markdown",
   "metadata": {},
   "source": [
    "### Save Data"
   ]
  },
  {
   "cell_type": "code",
   "execution_count": 59,
   "metadata": {},
   "outputs": [
    {
     "data": {
      "text/markdown": [
       "#### Clean data path"
      ],
      "text/plain": [
       "<IPython.core.display.Markdown object>"
      ]
     },
     "metadata": {},
     "output_type": "display_data"
    },
    {
     "data": {
      "text/markdown": [
       "[C:/Users/tan/src/regional-pm-2023/data/clean/environment/beaches/beach_widths](C:/Users/tan/src/regional-pm-2023/data/clean/environment/beaches/beach_widths)"
      ],
      "text/plain": [
       "<IPython.core.display.Markdown object>"
      ]
     },
     "metadata": {},
     "output_type": "display_data"
    }
   ],
   "source": [
    "display(Markdown('#### Clean data path'))\n",
    "clean_dir_path = str(CONFIG['clean_dir']).replace('\\\\', '/')\n",
    "display(Markdown(f\"[{clean_dir_path}]({clean_dir_path})\"))"
   ]
  },
  {
   "cell_type": "code",
   "execution_count": 60,
   "metadata": {},
   "outputs": [],
   "source": [
    "beach_widths.to_csv(\n",
    "    CONFIG['clean_dir']\n",
    "    / f'{INDICATOR}_odp.csv'\n",
    ")"
   ]
  }
 ],
 "metadata": {
  "kernelspec": {
   "display_name": ".venv",
   "language": "python",
   "name": "python3"
  },
  "language_info": {
   "codemirror_mode": {
    "name": "ipython",
    "version": 3
   },
   "file_extension": ".py",
   "mimetype": "text/x-python",
   "name": "python",
   "nbconvert_exporter": "python",
   "pygments_lexer": "ipython3",
   "version": "3.11.3"
  },
  "orig_nbformat": 4
 },
 "nbformat": 4,
 "nbformat_minor": 2
}
