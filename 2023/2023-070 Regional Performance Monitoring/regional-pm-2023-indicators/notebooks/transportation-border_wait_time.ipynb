{
 "cells": [
  {
   "cell_type": "code",
   "execution_count": 75,
   "metadata": {},
   "outputs": [
    {
     "data": {
      "text/markdown": [
       "## Raw data path"
      ],
      "text/plain": [
       "<IPython.core.display.Markdown object>"
      ]
     },
     "metadata": {},
     "output_type": "display_data"
    },
    {
     "data": {
      "text/markdown": [
       "[C:/Users/tan/src/regional-pm-2023/data/raw/transportation/border/border_wait_time](C:/Users/tan/src/regional-pm-2023/data/raw/transportation/border/border_wait_time)"
      ],
      "text/plain": [
       "<IPython.core.display.Markdown object>"
      ]
     },
     "metadata": {},
     "output_type": "display_data"
    }
   ],
   "source": [
    "%reload_ext autoreload\n",
    "%autoreload 2\n",
    "\n",
    "from IPython.core.display import Markdown\n",
    "from tqdm.auto import tqdm\n",
    "import config\n",
    "import docs\n",
    "import pandas as pd\n",
    "import requests\n",
    "import db\n",
    "\n",
    "pd.set_option('display.max_colwidth', None)\n",
    "\n",
    "INDICATOR = 'border_wait_time'\n",
    "CONFIG = config.get_config(INDICATOR, '../config.toml')\n",
    "\n",
    "display(Markdown('## Raw data path'))\n",
    "raw_dir_path = str(CONFIG['raw_dir']).replace('\\\\', '/')\n",
    "display(Markdown(f\"[{raw_dir_path}]({raw_dir_path})\"))\n"
   ]
  },
  {
   "cell_type": "markdown",
   "metadata": {},
   "source": [
    "# Transportation Planning: Border\n",
    "\n",
    "## Border Wait Time"
   ]
  },
  {
   "cell_type": "code",
   "execution_count": 76,
   "metadata": {},
   "outputs": [
    {
     "data": {
      "text/markdown": [
       "Average border wait time for different traffic types.\n",
       "\n",
       "nan"
      ],
      "text/plain": [
       "<IPython.core.display.Markdown object>"
      ]
     },
     "execution_count": 76,
     "metadata": {},
     "output_type": "execute_result"
    }
   ],
   "source": [
    "docs.describe_indicator(\n",
    "    indicator=INDICATOR,\n",
    "    indicators_xlsx_path=CONFIG['indicators_xlsx_path'],\n",
    ")"
   ]
  },
  {
   "cell_type": "code",
   "execution_count": 77,
   "metadata": {},
   "outputs": [
    {
     "data": {
      "text/html": [
       "<div>\n",
       "<style scoped>\n",
       "    .dataframe tbody tr th:only-of-type {\n",
       "        vertical-align: middle;\n",
       "    }\n",
       "\n",
       "    .dataframe tbody tr th {\n",
       "        vertical-align: top;\n",
       "    }\n",
       "\n",
       "    .dataframe thead th {\n",
       "        text-align: right;\n",
       "    }\n",
       "</style>\n",
       "<table border=\"1\" class=\"dataframe\">\n",
       "  <thead>\n",
       "    <tr style=\"text-align: right;\">\n",
       "      <th></th>\n",
       "      <th>name</th>\n",
       "      <th>description</th>\n",
       "      <th>type</th>\n",
       "    </tr>\n",
       "    <tr>\n",
       "      <th>column</th>\n",
       "      <th></th>\n",
       "      <th></th>\n",
       "      <th></th>\n",
       "    </tr>\n",
       "  </thead>\n",
       "  <tbody>\n",
       "    <tr>\n",
       "      <th>year</th>\n",
       "      <td>Year</td>\n",
       "      <td>Year of record.</td>\n",
       "      <td>datetime</td>\n",
       "    </tr>\n",
       "    <tr>\n",
       "      <th>traffic_type</th>\n",
       "      <td>Traffic Type</td>\n",
       "      <td>Type of border traffic.</td>\n",
       "      <td>string</td>\n",
       "    </tr>\n",
       "    <tr>\n",
       "      <th>average_wait_time</th>\n",
       "      <td>Average Wait Time</td>\n",
       "      <td>Average wait time in minutes in a given year for a given traffic type.</td>\n",
       "      <td>float</td>\n",
       "    </tr>\n",
       "  </tbody>\n",
       "</table>\n",
       "</div>"
      ],
      "text/plain": [
       "                                name  \\\n",
       "column                                 \n",
       "year                            Year   \n",
       "traffic_type            Traffic Type   \n",
       "average_wait_time  Average Wait Time   \n",
       "\n",
       "                                                                              description  \\\n",
       "column                                                                                      \n",
       "year                                                                      Year of record.   \n",
       "traffic_type                                                      Type of border traffic.   \n",
       "average_wait_time  Average wait time in minutes in a given year for a given traffic type.   \n",
       "\n",
       "                       type  \n",
       "column                       \n",
       "year               datetime  \n",
       "traffic_type         string  \n",
       "average_wait_time     float  "
      ]
     },
     "execution_count": 77,
     "metadata": {},
     "output_type": "execute_result"
    }
   ],
   "source": [
    "docs.list_schema(\n",
    "    indicator=INDICATOR,\n",
    "    indicators_xlsx_path=CONFIG['indicators_xlsx_path'],\n",
    ")"
   ]
  },
  {
   "cell_type": "code",
   "execution_count": 78,
   "metadata": {},
   "outputs": [
    {
     "data": {
      "text/html": [
       "<div>\n",
       "<style scoped>\n",
       "    .dataframe tbody tr th:only-of-type {\n",
       "        vertical-align: middle;\n",
       "    }\n",
       "\n",
       "    .dataframe tbody tr th {\n",
       "        vertical-align: top;\n",
       "    }\n",
       "\n",
       "    .dataframe thead th {\n",
       "        text-align: right;\n",
       "    }\n",
       "</style>\n",
       "<table border=\"1\" class=\"dataframe\">\n",
       "  <thead>\n",
       "    <tr style=\"text-align: right;\">\n",
       "      <th></th>\n",
       "      <th>name</th>\n",
       "      <th>organization</th>\n",
       "      <th>active</th>\n",
       "      <th>notes</th>\n",
       "    </tr>\n",
       "    <tr>\n",
       "      <th>source</th>\n",
       "      <th></th>\n",
       "      <th></th>\n",
       "      <th></th>\n",
       "      <th></th>\n",
       "    </tr>\n",
       "  </thead>\n",
       "  <tbody>\n",
       "    <tr>\n",
       "      <th>NaN</th>\n",
       "      <td>Border Wait Time Data</td>\n",
       "      <td>Customs and Border Patrol</td>\n",
       "      <td>True</td>\n",
       "      <td>SANDAG's database archive of this is missing several months in 2022 due to ETL errors, so average does not include some months of data.</td>\n",
       "    </tr>\n",
       "  </tbody>\n",
       "</table>\n",
       "</div>"
      ],
      "text/plain": [
       "                         name               organization  active  \\\n",
       "source                                                             \n",
       "NaN     Border Wait Time Data  Customs and Border Patrol    True   \n",
       "\n",
       "                                                                                                                                          notes  \n",
       "source                                                                                                                                           \n",
       "NaN     SANDAG's database archive of this is missing several months in 2022 due to ETL errors, so average does not include some months of data.  "
      ]
     },
     "execution_count": 78,
     "metadata": {},
     "output_type": "execute_result"
    }
   ],
   "source": [
    "docs.list_sources(\n",
    "    indicator=INDICATOR,\n",
    "    indicators_xlsx_path=CONFIG['indicators_xlsx_path'],\n",
    ")"
   ]
  },
  {
   "cell_type": "code",
   "execution_count": 79,
   "metadata": {},
   "outputs": [
    {
     "data": {
      "text/html": [
       "<div>\n",
       "<style scoped>\n",
       "    .dataframe tbody tr th:only-of-type {\n",
       "        vertical-align: middle;\n",
       "    }\n",
       "\n",
       "    .dataframe tbody tr th {\n",
       "        vertical-align: top;\n",
       "    }\n",
       "\n",
       "    .dataframe thead th {\n",
       "        text-align: right;\n",
       "    }\n",
       "</style>\n",
       "<table border=\"1\" class=\"dataframe\">\n",
       "  <thead>\n",
       "    <tr style=\"text-align: right;\">\n",
       "      <th></th>\n",
       "      <th>step</th>\n",
       "    </tr>\n",
       "  </thead>\n",
       "  <tbody>\n",
       "    <tr>\n",
       "      <th>0</th>\n",
       "      <td>Extract from legacy PM data.</td>\n",
       "    </tr>\n",
       "    <tr>\n",
       "      <th>1</th>\n",
       "      <td>Download new data from SANDAG's SQL Server and combine with legacy PM data.</td>\n",
       "    </tr>\n",
       "  </tbody>\n",
       "</table>\n",
       "</div>"
      ],
      "text/plain": [
       "                                                                          step\n",
       "0                                                 Extract from legacy PM data.\n",
       "1  Download new data from SANDAG's SQL Server and combine with legacy PM data."
      ]
     },
     "execution_count": 79,
     "metadata": {},
     "output_type": "execute_result"
    }
   ],
   "source": [
    "steps = docs.list_update_steps(\n",
    "    indicator=INDICATOR,\n",
    "    indicators_xlsx_path=CONFIG['indicators_xlsx_path'],\n",
    ")\n",
    "steps"
   ]
  },
  {
   "cell_type": "code",
   "execution_count": 80,
   "metadata": {},
   "outputs": [
    {
     "data": {
      "text/html": [
       "<div>\n",
       "<style scoped>\n",
       "    .dataframe tbody tr th:only-of-type {\n",
       "        vertical-align: middle;\n",
       "    }\n",
       "\n",
       "    .dataframe tbody tr th {\n",
       "        vertical-align: top;\n",
       "    }\n",
       "\n",
       "    .dataframe thead th {\n",
       "        text-align: right;\n",
       "    }\n",
       "</style>\n",
       "<table border=\"1\" class=\"dataframe\">\n",
       "  <thead>\n",
       "    <tr style=\"text-align: right;\">\n",
       "      <th></th>\n",
       "      <th>author</th>\n",
       "      <th>note</th>\n",
       "    </tr>\n",
       "  </thead>\n",
       "  <tbody>\n",
       "    <tr>\n",
       "      <th>0</th>\n",
       "      <td>TAN</td>\n",
       "      <td>NaN</td>\n",
       "    </tr>\n",
       "  </tbody>\n",
       "</table>\n",
       "</div>"
      ],
      "text/plain": [
       "  author note\n",
       "0    TAN  NaN"
      ]
     },
     "execution_count": 80,
     "metadata": {},
     "output_type": "execute_result"
    }
   ],
   "source": [
    "docs.list_remarks(\n",
    "    indicator=INDICATOR,\n",
    "    indicators_xlsx_path=CONFIG['indicators_xlsx_path'],\n",
    ")"
   ]
  },
  {
   "cell_type": "markdown",
   "metadata": {},
   "source": [
    "### Step 0: Extract legacy data"
   ]
  },
  {
   "cell_type": "code",
   "execution_count": 81,
   "metadata": {},
   "outputs": [
    {
     "data": {
      "text/plain": [
       "step    Extract from legacy PM data.\n",
       "Name: 0, dtype: object"
      ]
     },
     "metadata": {},
     "output_type": "display_data"
    }
   ],
   "source": [
    "display(steps.loc[0])"
   ]
  },
  {
   "cell_type": "markdown",
   "metadata": {},
   "source": [
    "There are two tables on the sheet. Per their comments that the methodology has changed, it would be the best to use 2011-now data."
   ]
  },
  {
   "cell_type": "code",
   "execution_count": 82,
   "metadata": {},
   "outputs": [
    {
     "data": {
      "text/html": [
       "<div>\n",
       "<style scoped>\n",
       "    .dataframe tbody tr th:only-of-type {\n",
       "        vertical-align: middle;\n",
       "    }\n",
       "\n",
       "    .dataframe tbody tr th {\n",
       "        vertical-align: top;\n",
       "    }\n",
       "\n",
       "    .dataframe thead th {\n",
       "        text-align: right;\n",
       "    }\n",
       "</style>\n",
       "<table border=\"1\" class=\"dataframe\">\n",
       "  <thead>\n",
       "    <tr style=\"text-align: right;\">\n",
       "      <th></th>\n",
       "      <th></th>\n",
       "      <th>average_wait_time</th>\n",
       "    </tr>\n",
       "    <tr>\n",
       "      <th>year</th>\n",
       "      <th>traffic_type</th>\n",
       "      <th></th>\n",
       "    </tr>\n",
       "  </thead>\n",
       "  <tbody>\n",
       "    <tr>\n",
       "      <th>2011</th>\n",
       "      <th>SENTRI Passengers</th>\n",
       "      <td>5.0</td>\n",
       "    </tr>\n",
       "    <tr>\n",
       "      <th>2012</th>\n",
       "      <th>SENTRI Passengers</th>\n",
       "      <td>6.5</td>\n",
       "    </tr>\n",
       "    <tr>\n",
       "      <th>2013</th>\n",
       "      <th>SENTRI Passengers</th>\n",
       "      <td>7.0</td>\n",
       "    </tr>\n",
       "    <tr>\n",
       "      <th>2014</th>\n",
       "      <th>SENTRI Passengers</th>\n",
       "      <td>7.5</td>\n",
       "    </tr>\n",
       "    <tr>\n",
       "      <th>2015</th>\n",
       "      <th>SENTRI Passengers</th>\n",
       "      <td>7.5</td>\n",
       "    </tr>\n",
       "    <tr>\n",
       "      <th>...</th>\n",
       "      <th>...</th>\n",
       "      <td>...</td>\n",
       "    </tr>\n",
       "    <tr>\n",
       "      <th>2017</th>\n",
       "      <th>San Ysidro Pedestrian West</th>\n",
       "      <td>8.0</td>\n",
       "    </tr>\n",
       "    <tr>\n",
       "      <th>2018</th>\n",
       "      <th>San Ysidro Pedestrian West</th>\n",
       "      <td>10.0</td>\n",
       "    </tr>\n",
       "    <tr>\n",
       "      <th>2019</th>\n",
       "      <th>San Ysidro Pedestrian West</th>\n",
       "      <td>10.0</td>\n",
       "    </tr>\n",
       "    <tr>\n",
       "      <th>2020</th>\n",
       "      <th>San Ysidro Pedestrian West</th>\n",
       "      <td>7.0</td>\n",
       "    </tr>\n",
       "    <tr>\n",
       "      <th>2021</th>\n",
       "      <th>San Ysidro Pedestrian West</th>\n",
       "      <td>NaN</td>\n",
       "    </tr>\n",
       "  </tbody>\n",
       "</table>\n",
       "<p>88 rows × 1 columns</p>\n",
       "</div>"
      ],
      "text/plain": [
       "                                 average_wait_time\n",
       "year traffic_type                                 \n",
       "2011 SENTRI Passengers                         5.0\n",
       "2012 SENTRI Passengers                         6.5\n",
       "2013 SENTRI Passengers                         7.0\n",
       "2014 SENTRI Passengers                         7.5\n",
       "2015 SENTRI Passengers                         7.5\n",
       "...                                            ...\n",
       "2017 San Ysidro Pedestrian West                8.0\n",
       "2018 San Ysidro Pedestrian West               10.0\n",
       "2019 San Ysidro Pedestrian West               10.0\n",
       "2020 San Ysidro Pedestrian West                7.0\n",
       "2021 San Ysidro Pedestrian West                NaN\n",
       "\n",
       "[88 rows x 1 columns]"
      ]
     },
     "execution_count": 82,
     "metadata": {},
     "output_type": "execute_result"
    }
   ],
   "source": [
    "legacy_data = (\n",
    "    pd.read_excel(\n",
    "        CONFIG['legacy_xlsx_path'],\n",
    "        CONFIG['legacy_sheet'],\n",
    "        skiprows=42,\n",
    "        nrows=11,\n",
    "        usecols='A:I',\n",
    "    )\n",
    "    .rename(columns={'Unnamed: 0': 'year'})\n",
    "    .rename(columns=lambda col: col.strip(' *'))\n",
    "    .melt('year', var_name='traffic_type', value_name='average_wait_time')\n",
    "    .set_index(['year', 'traffic_type'])\n",
    ")\n",
    "legacy_data"
   ]
  },
  {
   "cell_type": "markdown",
   "metadata": {},
   "source": [
    "### Step 1: Update with new data"
   ]
  },
  {
   "cell_type": "code",
   "execution_count": 83,
   "metadata": {},
   "outputs": [
    {
     "data": {
      "text/plain": [
       "step    Download new data from SANDAG's SQL Server and combine with legacy PM data.\n",
       "Name: 1, dtype: object"
      ]
     },
     "metadata": {},
     "output_type": "display_data"
    }
   ],
   "source": [
    "display(steps.loc[1])"
   ]
  },
  {
   "cell_type": "code",
   "execution_count": 84,
   "metadata": {},
   "outputs": [],
   "source": [
    "query = \"\"\"--sql\n",
    "\n",
    "SELECT \n",
    "\t*\n",
    "FROM (\n",
    "SELECT\n",
    "\t[Year],\n",
    "\t[Column],\n",
    "\tCAST([Average Wait Time] AS FLOAT) AS 'Average Wait Time'\n",
    "FROM (\n",
    "\tSELECT\n",
    "\t\t[Year],\n",
    "\t\tIIF(\n",
    "\t\t\t[Vehicle Type]='Passenger' AND [Lane Type]='SENTRI' AND [Port Name] IN ('San Ysidro','SanYsidro PedWest','Otay Mesa Passenger','Otay Mesa Commercial','Otay Mesa Border Express'), \n",
    "\t\t\t'SENTRI Passengers',\n",
    "\t\tIIF(\n",
    "\t\t\t[Vehicle Type]='Passenger' AND [Lane Type]='READY' AND [Port Name] IN ('San Ysidro','SanYsidro PedWest','Otay Mesa Passenger','Otay Mesa Commercial','Otay Mesa Border Express'), \n",
    "\t\t\t'READY  Passengers',\n",
    "\t\tIIF(\n",
    "\t\t\t[Vehicle Type]='Passenger' AND [Lane Type]='Standard' AND [Port Name] IN ('San Ysidro','SanYsidro PedWest','Otay Mesa Passenger','Otay Mesa Commercial','Otay Mesa Border Express','Tecate'), \n",
    "\t\t\t'General Passengers',\n",
    "\t\tIIF(\n",
    "\t\t\t[Vehicle Type]='Commercial' AND [Lane Type]='Standard' AND [Port Name] IN ('Otay Mesa Passenger','Otay Mesa Commercial','Otay Mesa Border Express','Tecate'), \n",
    "\t\t\t'Standard Commercial',\n",
    "\t\tIIF(\n",
    "\t\t\t[Vehicle Type]='Commercial' AND [Lane Type]='FAST' AND [Port Name] IN ('Otay Mesa Passenger','Otay Mesa Commercial','Otay Mesa Border Express'), \n",
    "\t\t\t'FAST Commercial',\n",
    "\t\tIIF(\n",
    "\t\t\t[Vehicle Type]='Pedestrian' AND [Lane Type]='Standard' AND [Port Name] IN ('San Ysidro','Tecate','Otay Mesa Passenger','Otay Mesa Commercial','Otay Mesa Border Express'), \n",
    "\t\t\t'General Pedestrians',\n",
    "\t\tIIF(\n",
    "\t\t\t[Vehicle Type]='Pedestrian' AND [Lane Type]='READY' AND [Port Name] IN ('San Ysidro','SanYsidro PedWest','Otay Mesa Passenger','Otay Mesa Commercial','Otay Mesa Border Express'), \n",
    "\t\t\t'READY Pedestrians',\n",
    "\t\tIIF(\n",
    "\t\t\t[Vehicle Type]='Pedestrian' AND [Lane Type]='Standard' AND [Port Name] IN ('San Ysidro','San Ysidro PedWest'), \n",
    "\t\t\t'San Ysidro Pedestrian West',\n",
    "\t\t\t'not included'\n",
    "\t\t)))))))) AS 'Column',\n",
    "\t\t[Average Wait Time],\n",
    "\t\tCONCAT([Vehicle Type],'_',[Lane Type],'_',[Port Name]) AS 'Inputs'\n",
    "\t\tFROM (\n",
    "\t\t\tSELECT \n",
    "\t\t\t\tYEAR(date) as 'Year', \n",
    "\t\t\t\tREPLACE(SUBSTRING(crossing_type.description, 1, CHARINDEX('-', crossing_type.description) - 1), 'Vehicle', '') as 'Vehicle Type',\n",
    "\t\t\t\tSUBSTRING(crossing_type.description, CHARINDEX('-', crossing_type.description) + 2, LEN(crossing_type.description)) as 'Lane Type',\n",
    "\t\t\t\tport_name as 'Port Name', \n",
    "\t\t\t\tAVG(delay) as 'Average Wait Time'\n",
    "\t\t\tFROM borderwaittimes.dbo.border_wait_time \n",
    "\t\t\tLEFT JOIN borderwaittimes.dbo.crossing_type \n",
    "\t\t\t\tON crossing_type.crossing_type_id = border_wait_time.crossing_type\n",
    "\t\t\tLEFT JOIN borderwaittimes.dbo.port_of_entry\n",
    "\t\t\t\tON port_of_entry.port_id = border_wait_time.port_id\n",
    "\t\t\tWHERE date >= '2011-01-01'\n",
    "\t\t\tGROUP BY \n",
    "\t\t\t\tYEAR(date), \n",
    "\t\t\t\tdescription, \n",
    "\t\t\t\tport_name\n",
    "\t\t) AS [wt_lookup]\n",
    "\t\tWHERE [Year]<2023\n",
    "\t) AS [wt_intermediate]\n",
    ") AS wt\n",
    "PIVOT\n",
    "(\n",
    "\tAVG([Average Wait Time]) FOR [Column] IN (\n",
    "\t\t[SENTRI Passengers],\n",
    "\t\t[READY  Passengers],\n",
    "\t\t[General Passengers],\n",
    "\t\t[Standard Commercial],\n",
    "\t\t[FAST Commercial],\n",
    "\t\t[General Pedestrians],\n",
    "\t\t[READY Pedestrians],\n",
    "\t\t[San Ysidro Pedestrian West]\n",
    "\t)\n",
    ") AS pivot_wt\n",
    "\"\"\""
   ]
  },
  {
   "cell_type": "code",
   "execution_count": 85,
   "metadata": {},
   "outputs": [],
   "source": [
    "con = db.get_db_connection(\n",
    "    server='SQL2014b8',\n",
    "    db='borderwaittimes',\n",
    ")"
   ]
  },
  {
   "cell_type": "code",
   "execution_count": 86,
   "metadata": {},
   "outputs": [
    {
     "data": {
      "text/html": [
       "<div>\n",
       "<style scoped>\n",
       "    .dataframe tbody tr th:only-of-type {\n",
       "        vertical-align: middle;\n",
       "    }\n",
       "\n",
       "    .dataframe tbody tr th {\n",
       "        vertical-align: top;\n",
       "    }\n",
       "\n",
       "    .dataframe thead th {\n",
       "        text-align: right;\n",
       "    }\n",
       "</style>\n",
       "<table border=\"1\" class=\"dataframe\">\n",
       "  <thead>\n",
       "    <tr style=\"text-align: right;\">\n",
       "      <th></th>\n",
       "      <th></th>\n",
       "      <th>average_wait_time</th>\n",
       "    </tr>\n",
       "    <tr>\n",
       "      <th>year</th>\n",
       "      <th>traffic_type</th>\n",
       "      <th></th>\n",
       "    </tr>\n",
       "  </thead>\n",
       "  <tbody>\n",
       "    <tr>\n",
       "      <th rowspan=\"8\" valign=\"top\">2022</th>\n",
       "      <th>SENTRI Passengers</th>\n",
       "      <td>12.000000</td>\n",
       "    </tr>\n",
       "    <tr>\n",
       "      <th>READY  Passengers</th>\n",
       "      <td>68.000000</td>\n",
       "    </tr>\n",
       "    <tr>\n",
       "      <th>General Passengers</th>\n",
       "      <td>63.666667</td>\n",
       "    </tr>\n",
       "    <tr>\n",
       "      <th>Standard Commercial</th>\n",
       "      <td>30.500000</td>\n",
       "    </tr>\n",
       "    <tr>\n",
       "      <th>FAST Commercial</th>\n",
       "      <td>16.000000</td>\n",
       "    </tr>\n",
       "    <tr>\n",
       "      <th>General Pedestrians</th>\n",
       "      <td>19.666667</td>\n",
       "    </tr>\n",
       "    <tr>\n",
       "      <th>READY Pedestrians</th>\n",
       "      <td>9.000000</td>\n",
       "    </tr>\n",
       "    <tr>\n",
       "      <th>San Ysidro Pedestrian West</th>\n",
       "      <td>0.000000</td>\n",
       "    </tr>\n",
       "  </tbody>\n",
       "</table>\n",
       "</div>"
      ],
      "text/plain": [
       "                                 average_wait_time\n",
       "year traffic_type                                 \n",
       "2022 SENTRI Passengers                   12.000000\n",
       "     READY  Passengers                   68.000000\n",
       "     General Passengers                  63.666667\n",
       "     Standard Commercial                 30.500000\n",
       "     FAST Commercial                     16.000000\n",
       "     General Pedestrians                 19.666667\n",
       "     READY Pedestrians                    9.000000\n",
       "     San Ysidro Pedestrian West           0.000000"
      ]
     },
     "execution_count": 86,
     "metadata": {},
     "output_type": "execute_result"
    }
   ],
   "source": [
    "new_data = (\n",
    "    pd.read_sql(query, con)\n",
    "    .rename(columns={'Year': 'year'})\n",
    "    .melt('year', var_name='traffic_type', value_name='average_wait_time')\n",
    "    .query(\"`year` == 2022\")\n",
    "    .set_index(['year', 'traffic_type'])\n",
    ")\n",
    "new_data"
   ]
  },
  {
   "cell_type": "code",
   "execution_count": 87,
   "metadata": {},
   "outputs": [
    {
     "data": {
      "text/html": [
       "<div>\n",
       "<style scoped>\n",
       "    .dataframe tbody tr th:only-of-type {\n",
       "        vertical-align: middle;\n",
       "    }\n",
       "\n",
       "    .dataframe tbody tr th {\n",
       "        vertical-align: top;\n",
       "    }\n",
       "\n",
       "    .dataframe thead th {\n",
       "        text-align: right;\n",
       "    }\n",
       "</style>\n",
       "<table border=\"1\" class=\"dataframe\">\n",
       "  <thead>\n",
       "    <tr style=\"text-align: right;\">\n",
       "      <th></th>\n",
       "      <th></th>\n",
       "      <th>average_wait_time</th>\n",
       "    </tr>\n",
       "    <tr>\n",
       "      <th>year</th>\n",
       "      <th>traffic_type</th>\n",
       "      <th></th>\n",
       "    </tr>\n",
       "  </thead>\n",
       "  <tbody>\n",
       "    <tr>\n",
       "      <th rowspan=\"5\" valign=\"top\">2011</th>\n",
       "      <th>FAST Commercial</th>\n",
       "      <td>22.00000</td>\n",
       "    </tr>\n",
       "    <tr>\n",
       "      <th>General Passengers</th>\n",
       "      <td>46.66667</td>\n",
       "    </tr>\n",
       "    <tr>\n",
       "      <th>General Pedestrians</th>\n",
       "      <td>21.00000</td>\n",
       "    </tr>\n",
       "    <tr>\n",
       "      <th>READY  Passengers</th>\n",
       "      <td>NaN</td>\n",
       "    </tr>\n",
       "    <tr>\n",
       "      <th>READY Pedestrians</th>\n",
       "      <td>NaN</td>\n",
       "    </tr>\n",
       "    <tr>\n",
       "      <th>...</th>\n",
       "      <th>...</th>\n",
       "      <td>...</td>\n",
       "    </tr>\n",
       "    <tr>\n",
       "      <th rowspan=\"5\" valign=\"top\">2022</th>\n",
       "      <th>READY  Passengers</th>\n",
       "      <td>68.00000</td>\n",
       "    </tr>\n",
       "    <tr>\n",
       "      <th>READY Pedestrians</th>\n",
       "      <td>9.00000</td>\n",
       "    </tr>\n",
       "    <tr>\n",
       "      <th>SENTRI Passengers</th>\n",
       "      <td>12.00000</td>\n",
       "    </tr>\n",
       "    <tr>\n",
       "      <th>San Ysidro Pedestrian West</th>\n",
       "      <td>0.00000</td>\n",
       "    </tr>\n",
       "    <tr>\n",
       "      <th>Standard Commercial</th>\n",
       "      <td>30.50000</td>\n",
       "    </tr>\n",
       "  </tbody>\n",
       "</table>\n",
       "<p>96 rows × 1 columns</p>\n",
       "</div>"
      ],
      "text/plain": [
       "                                 average_wait_time\n",
       "year traffic_type                                 \n",
       "2011 FAST Commercial                      22.00000\n",
       "     General Passengers                   46.66667\n",
       "     General Pedestrians                  21.00000\n",
       "     READY  Passengers                         NaN\n",
       "     READY Pedestrians                         NaN\n",
       "...                                            ...\n",
       "2022 READY  Passengers                    68.00000\n",
       "     READY Pedestrians                     9.00000\n",
       "     SENTRI Passengers                    12.00000\n",
       "     San Ysidro Pedestrian West            0.00000\n",
       "     Standard Commercial                  30.50000\n",
       "\n",
       "[96 rows x 1 columns]"
      ]
     },
     "execution_count": 87,
     "metadata": {},
     "output_type": "execute_result"
    }
   ],
   "source": [
    "borderwaittimes = pd.concat([legacy_data, new_data]).sort_index()\n",
    "borderwaittimes"
   ]
  },
  {
   "cell_type": "markdown",
   "metadata": {},
   "source": [
    "Note that several months were missing in the database due to the automatic download script going down."
   ]
  },
  {
   "cell_type": "code",
   "execution_count": 88,
   "metadata": {},
   "outputs": [
    {
     "data": {
      "text/html": [
       "<div>\n",
       "<style scoped>\n",
       "    .dataframe tbody tr th:only-of-type {\n",
       "        vertical-align: middle;\n",
       "    }\n",
       "\n",
       "    .dataframe tbody tr th {\n",
       "        vertical-align: top;\n",
       "    }\n",
       "\n",
       "    .dataframe thead th {\n",
       "        text-align: right;\n",
       "    }\n",
       "</style>\n",
       "<table border=\"1\" class=\"dataframe\">\n",
       "  <thead>\n",
       "    <tr style=\"text-align: right;\">\n",
       "      <th></th>\n",
       "      <th>year</th>\n",
       "      <th>month</th>\n",
       "      <th>records</th>\n",
       "    </tr>\n",
       "  </thead>\n",
       "  <tbody>\n",
       "    <tr>\n",
       "      <th>0</th>\n",
       "      <td>2022</td>\n",
       "      <td>1</td>\n",
       "      <td>9542</td>\n",
       "    </tr>\n",
       "    <tr>\n",
       "      <th>1</th>\n",
       "      <td>2022</td>\n",
       "      <td>2</td>\n",
       "      <td>10565</td>\n",
       "    </tr>\n",
       "    <tr>\n",
       "      <th>2</th>\n",
       "      <td>2022</td>\n",
       "      <td>3</td>\n",
       "      <td>11629</td>\n",
       "    </tr>\n",
       "    <tr>\n",
       "      <th>3</th>\n",
       "      <td>2022</td>\n",
       "      <td>11</td>\n",
       "      <td>8144</td>\n",
       "    </tr>\n",
       "    <tr>\n",
       "      <th>4</th>\n",
       "      <td>2022</td>\n",
       "      <td>12</td>\n",
       "      <td>11570</td>\n",
       "    </tr>\n",
       "  </tbody>\n",
       "</table>\n",
       "</div>"
      ],
      "text/plain": [
       "   year  month  records\n",
       "0  2022      1     9542\n",
       "1  2022      2    10565\n",
       "2  2022      3    11629\n",
       "3  2022     11     8144\n",
       "4  2022     12    11570"
      ]
     },
     "execution_count": 88,
     "metadata": {},
     "output_type": "execute_result"
    }
   ],
   "source": [
    "# List not null records in 2022\n",
    "(\n",
    "    pd.read_sql(\n",
    "        \"\"\"--sql\n",
    "            SELECT\n",
    "                YEAR([date]) AS [year],\n",
    "                MONTH([date]) AS [month],\n",
    "                COUNT([date]) AS [records]\n",
    "            FROM [borderwaittimes].[dbo].[border_wait_time]\n",
    "            WHERE YEAR([date]) = 2022 AND [delay] is not NULL\n",
    "            GROUP BY YEAR([date]), MONTH([date])\n",
    "            ORDER BY MONTH([date])\n",
    "        \"\"\",\n",
    "        con\n",
    "    )\n",
    ")"
   ]
  },
  {
   "cell_type": "markdown",
   "metadata": {},
   "source": [
    "### Save Data"
   ]
  },
  {
   "cell_type": "code",
   "execution_count": 89,
   "metadata": {},
   "outputs": [
    {
     "data": {
      "text/markdown": [
       "#### Clean data path"
      ],
      "text/plain": [
       "<IPython.core.display.Markdown object>"
      ]
     },
     "metadata": {},
     "output_type": "display_data"
    },
    {
     "data": {
      "text/markdown": [
       "[C:/Users/tan/src/regional-pm-2023/data/clean/transportation/border/border_wait_time](C:/Users/tan/src/regional-pm-2023/data/clean/transportation/border/border_wait_time)"
      ],
      "text/plain": [
       "<IPython.core.display.Markdown object>"
      ]
     },
     "metadata": {},
     "output_type": "display_data"
    }
   ],
   "source": [
    "display(Markdown('#### Clean data path'))\n",
    "clean_dir_path = str(CONFIG['clean_dir']).replace('\\\\', '/')\n",
    "display(Markdown(f\"[{clean_dir_path}]({clean_dir_path})\"))"
   ]
  },
  {
   "cell_type": "code",
   "execution_count": 91,
   "metadata": {},
   "outputs": [],
   "source": [
    "borderwaittimes.to_csv(\n",
    "    CONFIG['clean_dir']\n",
    "    / f'{INDICATOR}_odp.csv'\n",
    ")"
   ]
  },
  {
   "cell_type": "code",
   "execution_count": null,
   "metadata": {},
   "outputs": [],
   "source": []
  }
 ],
 "metadata": {
  "kernelspec": {
   "display_name": ".venv",
   "language": "python",
   "name": "python3"
  },
  "language_info": {
   "codemirror_mode": {
    "name": "ipython",
    "version": 3
   },
   "file_extension": ".py",
   "mimetype": "text/x-python",
   "name": "python",
   "nbconvert_exporter": "python",
   "pygments_lexer": "ipython3",
   "version": "3.11.3"
  },
  "orig_nbformat": 4
 },
 "nbformat": 4,
 "nbformat_minor": 2
}
