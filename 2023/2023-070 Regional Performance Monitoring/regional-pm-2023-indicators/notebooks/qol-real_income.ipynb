{
 "cells": [
  {
   "cell_type": "code",
   "execution_count": 26,
   "metadata": {},
   "outputs": [
    {
     "data": {
      "text/markdown": [
       "## Raw data path"
      ],
      "text/plain": [
       "<IPython.core.display.Markdown object>"
      ]
     },
     "metadata": {},
     "output_type": "display_data"
    },
    {
     "data": {
      "text/markdown": [
       "[C:/Users/tan/src/regional-pm-2023/data/raw/qol/income/real_income](C:/Users/tan/src/regional-pm-2023/data/raw/qol/income/real_income)"
      ],
      "text/plain": [
       "<IPython.core.display.Markdown object>"
      ]
     },
     "metadata": {},
     "output_type": "display_data"
    }
   ],
   "source": [
    "%reload_ext autoreload\n",
    "%autoreload 2\n",
    "\n",
    "from IPython.core.display import Markdown\n",
    "from tqdm.auto import tqdm\n",
    "import config\n",
    "import docs\n",
    "import pandas as pd\n",
    "import requests\n",
    "from pathlib import Path\n",
    "\n",
    "pd.set_option('display.max_colwidth', None)\n",
    "\n",
    "INDICATOR = 'real_income'\n",
    "CONFIG = config.get_config(INDICATOR, '../config.toml')\n",
    "\n",
    "display(Markdown('## Raw data path'))\n",
    "raw_dir_path = str(CONFIG['raw_dir']).replace('\\\\', '/')\n",
    "display(Markdown(f\"[{raw_dir_path}]({raw_dir_path})\"))\n"
   ]
  },
  {
   "cell_type": "markdown",
   "metadata": {},
   "source": [
    "# Quality of Life: Income\n",
    "\n",
    "## Real Income"
   ]
  },
  {
   "cell_type": "code",
   "execution_count": 27,
   "metadata": {},
   "outputs": [
    {
     "data": {
      "text/markdown": [
       "Real per capita income (adjusted for 2022 CPI).\n",
       "\n",
       "nan"
      ],
      "text/plain": [
       "<IPython.core.display.Markdown object>"
      ]
     },
     "execution_count": 27,
     "metadata": {},
     "output_type": "execute_result"
    }
   ],
   "source": [
    "docs.describe_indicator(\n",
    "    indicator=INDICATOR,\n",
    "    indicators_xlsx_path=CONFIG['indicators_xlsx_path'],\n",
    ")"
   ]
  },
  {
   "cell_type": "code",
   "execution_count": 28,
   "metadata": {},
   "outputs": [
    {
     "data": {
      "text/html": [
       "<div>\n",
       "<style scoped>\n",
       "    .dataframe tbody tr th:only-of-type {\n",
       "        vertical-align: middle;\n",
       "    }\n",
       "\n",
       "    .dataframe tbody tr th {\n",
       "        vertical-align: top;\n",
       "    }\n",
       "\n",
       "    .dataframe thead th {\n",
       "        text-align: right;\n",
       "    }\n",
       "</style>\n",
       "<table border=\"1\" class=\"dataframe\">\n",
       "  <thead>\n",
       "    <tr style=\"text-align: right;\">\n",
       "      <th></th>\n",
       "      <th>name</th>\n",
       "      <th>description</th>\n",
       "      <th>type</th>\n",
       "    </tr>\n",
       "    <tr>\n",
       "      <th>column</th>\n",
       "      <th></th>\n",
       "      <th></th>\n",
       "      <th></th>\n",
       "    </tr>\n",
       "  </thead>\n",
       "  <tbody>\n",
       "    <tr>\n",
       "      <th>year</th>\n",
       "      <td>Year</td>\n",
       "      <td>Year of record.</td>\n",
       "      <td>datetime</td>\n",
       "    </tr>\n",
       "    <tr>\n",
       "      <th>geography</th>\n",
       "      <td>Geography</td>\n",
       "      <td>Geography of record (\"United States\", \"California\", or \"San Diego\").</td>\n",
       "      <td>string</td>\n",
       "    </tr>\n",
       "    <tr>\n",
       "      <th>income</th>\n",
       "      <td>Income</td>\n",
       "      <td>Unajusted per capita income in a given year for a given geography.</td>\n",
       "      <td>NaN</td>\n",
       "    </tr>\n",
       "    <tr>\n",
       "      <th>cpi</th>\n",
       "      <td>Consumer Price Index (CPI)</td>\n",
       "      <td>CPI value in a given year for a given geography.</td>\n",
       "      <td>NaN</td>\n",
       "    </tr>\n",
       "    <tr>\n",
       "      <th>real_income</th>\n",
       "      <td>Real Income</td>\n",
       "      <td>Real per capita income (adjusted for 2022 CPI), in a given year for a given geography.</td>\n",
       "      <td>float</td>\n",
       "    </tr>\n",
       "  </tbody>\n",
       "</table>\n",
       "</div>"
      ],
      "text/plain": [
       "                                   name  \\\n",
       "column                                    \n",
       "year                               Year   \n",
       "geography                     Geography   \n",
       "income                           Income   \n",
       "cpi          Consumer Price Index (CPI)   \n",
       "real_income                 Real Income   \n",
       "\n",
       "                                                                                        description  \\\n",
       "column                                                                                                \n",
       "year                                                                                Year of record.   \n",
       "geography                      Geography of record (\"United States\", \"California\", or \"San Diego\").   \n",
       "income                           Unajusted per capita income in a given year for a given geography.   \n",
       "cpi                                                CPI value in a given year for a given geography.   \n",
       "real_income  Real per capita income (adjusted for 2022 CPI), in a given year for a given geography.   \n",
       "\n",
       "                 type  \n",
       "column                 \n",
       "year         datetime  \n",
       "geography      string  \n",
       "income            NaN  \n",
       "cpi               NaN  \n",
       "real_income     float  "
      ]
     },
     "execution_count": 28,
     "metadata": {},
     "output_type": "execute_result"
    }
   ],
   "source": [
    "docs.list_schema(\n",
    "    indicator=INDICATOR,\n",
    "    indicators_xlsx_path=CONFIG['indicators_xlsx_path'],\n",
    ")"
   ]
  },
  {
   "cell_type": "code",
   "execution_count": 29,
   "metadata": {},
   "outputs": [
    {
     "data": {
      "text/html": [
       "<div>\n",
       "<style scoped>\n",
       "    .dataframe tbody tr th:only-of-type {\n",
       "        vertical-align: middle;\n",
       "    }\n",
       "\n",
       "    .dataframe tbody tr th {\n",
       "        vertical-align: top;\n",
       "    }\n",
       "\n",
       "    .dataframe thead th {\n",
       "        text-align: right;\n",
       "    }\n",
       "</style>\n",
       "<table border=\"1\" class=\"dataframe\">\n",
       "  <thead>\n",
       "    <tr style=\"text-align: right;\">\n",
       "      <th></th>\n",
       "      <th>name</th>\n",
       "      <th>organization</th>\n",
       "      <th>active</th>\n",
       "      <th>notes</th>\n",
       "    </tr>\n",
       "    <tr>\n",
       "      <th>source</th>\n",
       "      <th></th>\n",
       "      <th></th>\n",
       "      <th></th>\n",
       "      <th></th>\n",
       "    </tr>\n",
       "  </thead>\n",
       "  <tbody>\n",
       "    <tr>\n",
       "      <th>income_fred</th>\n",
       "      <td>San Diego Personal Income (PCPI06073)</td>\n",
       "      <td>St. Louis Federal Reserve</td>\n",
       "      <td>True</td>\n",
       "      <td>NaN</td>\n",
       "    </tr>\n",
       "    <tr>\n",
       "      <th>income_fred</th>\n",
       "      <td>California Personal Income (CAPCPI)</td>\n",
       "      <td>St. Louis Federal Reserve</td>\n",
       "      <td>True</td>\n",
       "      <td>NaN</td>\n",
       "    </tr>\n",
       "    <tr>\n",
       "      <th>income_fred</th>\n",
       "      <td>US Personal Income (A792RC0A052NBEA)</td>\n",
       "      <td>St. Louis Federal Reserve</td>\n",
       "      <td>True</td>\n",
       "      <td>NaN</td>\n",
       "    </tr>\n",
       "    <tr>\n",
       "      <th>cpi_fred</th>\n",
       "      <td>San Diego CPI (CUUSA424SA0)</td>\n",
       "      <td>St. Louis Federal Reserve</td>\n",
       "      <td>True</td>\n",
       "      <td>NaN</td>\n",
       "    </tr>\n",
       "    <tr>\n",
       "      <th>cpi_bls</th>\n",
       "      <td>US CPI (CUUR0000SA0)</td>\n",
       "      <td>Bureau of Labor Statistics</td>\n",
       "      <td>True</td>\n",
       "      <td>A FRED source for this was not found.</td>\n",
       "    </tr>\n",
       "    <tr>\n",
       "      <th>cpi_dir</th>\n",
       "      <td>California CPI</td>\n",
       "      <td>California Department of Industrial Relations</td>\n",
       "      <td>True</td>\n",
       "      <td>This PDF sheet was the best source we found, so values were manually extracted.</td>\n",
       "    </tr>\n",
       "  </tbody>\n",
       "</table>\n",
       "</div>"
      ],
      "text/plain": [
       "                                              name  \\\n",
       "source                                               \n",
       "income_fred  San Diego Personal Income (PCPI06073)   \n",
       "income_fred    California Personal Income (CAPCPI)   \n",
       "income_fred   US Personal Income (A792RC0A052NBEA)   \n",
       "cpi_fred               San Diego CPI (CUUSA424SA0)   \n",
       "cpi_bls                       US CPI (CUUR0000SA0)   \n",
       "cpi_dir                             California CPI   \n",
       "\n",
       "                                              organization  active  \\\n",
       "source                                                               \n",
       "income_fred                      St. Louis Federal Reserve    True   \n",
       "income_fred                      St. Louis Federal Reserve    True   \n",
       "income_fred                      St. Louis Federal Reserve    True   \n",
       "cpi_fred                         St. Louis Federal Reserve    True   \n",
       "cpi_bls                         Bureau of Labor Statistics    True   \n",
       "cpi_dir      California Department of Industrial Relations    True   \n",
       "\n",
       "                                                                                       notes  \n",
       "source                                                                                        \n",
       "income_fred                                                                              NaN  \n",
       "income_fred                                                                              NaN  \n",
       "income_fred                                                                              NaN  \n",
       "cpi_fred                                                                                 NaN  \n",
       "cpi_bls                                                A FRED source for this was not found.  \n",
       "cpi_dir      This PDF sheet was the best source we found, so values were manually extracted.  "
      ]
     },
     "execution_count": 29,
     "metadata": {},
     "output_type": "execute_result"
    }
   ],
   "source": [
    "docs.list_sources(\n",
    "    indicator=INDICATOR,\n",
    "    indicators_xlsx_path=CONFIG['indicators_xlsx_path'],\n",
    ")"
   ]
  },
  {
   "cell_type": "code",
   "execution_count": 30,
   "metadata": {},
   "outputs": [
    {
     "data": {
      "text/html": [
       "<div>\n",
       "<style scoped>\n",
       "    .dataframe tbody tr th:only-of-type {\n",
       "        vertical-align: middle;\n",
       "    }\n",
       "\n",
       "    .dataframe tbody tr th {\n",
       "        vertical-align: top;\n",
       "    }\n",
       "\n",
       "    .dataframe thead th {\n",
       "        text-align: right;\n",
       "    }\n",
       "</style>\n",
       "<table border=\"1\" class=\"dataframe\">\n",
       "  <thead>\n",
       "    <tr style=\"text-align: right;\">\n",
       "      <th></th>\n",
       "      <th>step</th>\n",
       "    </tr>\n",
       "  </thead>\n",
       "  <tbody>\n",
       "    <tr>\n",
       "      <th>0</th>\n",
       "      <td>Download new Per Capita Income and CPI data.</td>\n",
       "    </tr>\n",
       "    <tr>\n",
       "      <th>1</th>\n",
       "      <td>Extract Per Capita Income data.</td>\n",
       "    </tr>\n",
       "    <tr>\n",
       "      <th>2</th>\n",
       "      <td>Extract CPI data.</td>\n",
       "    </tr>\n",
       "    <tr>\n",
       "      <th>3</th>\n",
       "      <td>Combine Per Capita Income and CPI and calculate personal income.</td>\n",
       "    </tr>\n",
       "  </tbody>\n",
       "</table>\n",
       "</div>"
      ],
      "text/plain": [
       "                                                               step\n",
       "0                      Download new Per Capita Income and CPI data.\n",
       "1                                   Extract Per Capita Income data.\n",
       "2                                                 Extract CPI data.\n",
       "3  Combine Per Capita Income and CPI and calculate personal income."
      ]
     },
     "execution_count": 30,
     "metadata": {},
     "output_type": "execute_result"
    }
   ],
   "source": [
    "steps = docs.list_update_steps(\n",
    "    indicator=INDICATOR,\n",
    "    indicators_xlsx_path=CONFIG['indicators_xlsx_path'],\n",
    ")\n",
    "steps"
   ]
  },
  {
   "cell_type": "code",
   "execution_count": 31,
   "metadata": {},
   "outputs": [
    {
     "data": {
      "text/html": [
       "<div>\n",
       "<style scoped>\n",
       "    .dataframe tbody tr th:only-of-type {\n",
       "        vertical-align: middle;\n",
       "    }\n",
       "\n",
       "    .dataframe tbody tr th {\n",
       "        vertical-align: top;\n",
       "    }\n",
       "\n",
       "    .dataframe thead th {\n",
       "        text-align: right;\n",
       "    }\n",
       "</style>\n",
       "<table border=\"1\" class=\"dataframe\">\n",
       "  <thead>\n",
       "    <tr style=\"text-align: right;\">\n",
       "      <th></th>\n",
       "      <th>author</th>\n",
       "      <th>note</th>\n",
       "    </tr>\n",
       "  </thead>\n",
       "  <tbody>\n",
       "    <tr>\n",
       "      <th>0</th>\n",
       "      <td>NaN</td>\n",
       "      <td>NaN</td>\n",
       "    </tr>\n",
       "  </tbody>\n",
       "</table>\n",
       "</div>"
      ],
      "text/plain": [
       "  author note\n",
       "0    NaN  NaN"
      ]
     },
     "execution_count": 31,
     "metadata": {},
     "output_type": "execute_result"
    }
   ],
   "source": [
    "docs.list_remarks(\n",
    "    indicator=INDICATOR,\n",
    "    indicators_xlsx_path=CONFIG['indicators_xlsx_path'],\n",
    ")"
   ]
  },
  {
   "cell_type": "markdown",
   "metadata": {},
   "source": [
    "### Step 0: Download new data"
   ]
  },
  {
   "cell_type": "code",
   "execution_count": 32,
   "metadata": {},
   "outputs": [
    {
     "data": {
      "text/plain": [
       "step    Download new Per Capita Income and CPI data.\n",
       "Name: 0, dtype: object"
      ]
     },
     "metadata": {},
     "output_type": "display_data"
    }
   ],
   "source": [
    "display(steps.loc[0])"
   ]
  },
  {
   "cell_type": "markdown",
   "metadata": {},
   "source": [
    "* New years: 2021-2022 (though income is only 2021 for San Diego).\n",
    "* Data comes from the following:\n",
    "  * Per Capita Income: all tables from St. Louis Federal Reserve Economic Data (FRED)\n",
    "    * United States: [A792RC0A052NBEA](https://fred.stlouisfed.org/series/A792RC0A052NBEA) \n",
    "    * San Diego: [PCPI06073](https://fred.stlouisfed.org/series/PCPI06073)\n",
    "    * California: [CAPCPI](https://fred.stlouisfed.org/series/CAPCPI)\n",
    "  * CPI (for adjusting to real income)\n",
    "    * United States: [https://data.bls.gov/timeseries/CUUR0000SA0 from Bureau of Labor Statistics (BLS)](https://data.bls.gov/timeseries/CUUR0000SA0) \n",
    "    * San Diego: [CUUSA424SA0 from FRED](https://fred.stlouisfed.org/series/CUUSA424SA0)\n",
    "    * California: [Table from CA Department of Industrial Relations](https://www.dir.ca.gov/OPRL/CPI/EntireCCPI.PDF) \n",
    "      * (FRED or BLS doesn't report it, this PDF is the best alternative we found. There's a manual extract in the raw data folder.)\n",
    "* The email in `raw/` mentions that past data was revised. We recalculated based on the sources suggested in the email.\n"
   ]
  },
  {
   "cell_type": "markdown",
   "metadata": {},
   "source": [
    "### Step 1: Extract Per Capita Income"
   ]
  },
  {
   "cell_type": "code",
   "execution_count": 33,
   "metadata": {},
   "outputs": [
    {
     "data": {
      "text/plain": [
       "step    Extract Per Capita Income data.\n",
       "Name: 1, dtype: object"
      ]
     },
     "metadata": {},
     "output_type": "display_data"
    }
   ],
   "source": [
    "display(steps.loc[1])"
   ]
  },
  {
   "cell_type": "code",
   "execution_count": 34,
   "metadata": {},
   "outputs": [],
   "source": [
    "def parse_fred_income(csv_path: Path, geography: str) -> pd.DataFrame:\n",
    "    return (\n",
    "        pd.read_csv(csv_path, names=['year', 'income'], header=None, skiprows=1)\n",
    "        .assign(geography=geography)\n",
    "        .query('`year` >= \"2005\"')\n",
    "        .assign(year=lambda df: pd.to_datetime(df.year, format='%Y-%m-%d'))\n",
    "        .set_index(['year', 'geography'])\n",
    "    )"
   ]
  },
  {
   "cell_type": "code",
   "execution_count": 35,
   "metadata": {},
   "outputs": [
    {
     "data": {
      "text/html": [
       "<div>\n",
       "<style scoped>\n",
       "    .dataframe tbody tr th:only-of-type {\n",
       "        vertical-align: middle;\n",
       "    }\n",
       "\n",
       "    .dataframe tbody tr th {\n",
       "        vertical-align: top;\n",
       "    }\n",
       "\n",
       "    .dataframe thead th {\n",
       "        text-align: right;\n",
       "    }\n",
       "</style>\n",
       "<table border=\"1\" class=\"dataframe\">\n",
       "  <thead>\n",
       "    <tr style=\"text-align: right;\">\n",
       "      <th></th>\n",
       "      <th></th>\n",
       "      <th>income</th>\n",
       "    </tr>\n",
       "    <tr>\n",
       "      <th>year</th>\n",
       "      <th>geography</th>\n",
       "      <th></th>\n",
       "    </tr>\n",
       "  </thead>\n",
       "  <tbody>\n",
       "    <tr>\n",
       "      <th rowspan=\"3\" valign=\"top\">2021-01-01</th>\n",
       "      <th>California</th>\n",
       "      <td>76800.0</td>\n",
       "    </tr>\n",
       "    <tr>\n",
       "      <th>San Diego</th>\n",
       "      <td>72637.0</td>\n",
       "    </tr>\n",
       "    <tr>\n",
       "      <th>United States</th>\n",
       "      <td>64073.0</td>\n",
       "    </tr>\n",
       "    <tr>\n",
       "      <th rowspan=\"2\" valign=\"top\">2022-01-01</th>\n",
       "      <th>California</th>\n",
       "      <td>77339.0</td>\n",
       "    </tr>\n",
       "    <tr>\n",
       "      <th>United States</th>\n",
       "      <td>65280.0</td>\n",
       "    </tr>\n",
       "  </tbody>\n",
       "</table>\n",
       "</div>"
      ],
      "text/plain": [
       "                           income\n",
       "year       geography             \n",
       "2021-01-01 California     76800.0\n",
       "           San Diego      72637.0\n",
       "           United States  64073.0\n",
       "2022-01-01 California     77339.0\n",
       "           United States  65280.0"
      ]
     },
     "execution_count": 35,
     "metadata": {},
     "output_type": "execute_result"
    }
   ],
   "source": [
    "income = pd.concat(\n",
    "    [\n",
    "        parse_fred_income(\n",
    "            csv_path=CONFIG['raw_dir']/'income/A792RC0A052NBEA.csv', \n",
    "            geography='United States'\n",
    "        ),\n",
    "        parse_fred_income(\n",
    "            csv_path=CONFIG['raw_dir']/'income/PCPI06073.csv', \n",
    "            geography='San Diego'\n",
    "        ),\n",
    "        parse_fred_income(\n",
    "            csv_path=CONFIG['raw_dir']/'income/CAPCPI.csv', \n",
    "            geography='California'\n",
    "        )\n",
    "    ]\n",
    ")\n",
    "income.sort_index().tail(5)"
   ]
  },
  {
   "cell_type": "markdown",
   "metadata": {},
   "source": [
    "### Step 2: Extract CPI"
   ]
  },
  {
   "cell_type": "code",
   "execution_count": 36,
   "metadata": {},
   "outputs": [
    {
     "data": {
      "text/plain": [
       "step    Extract CPI data.\n",
       "Name: 2, dtype: object"
      ]
     },
     "metadata": {},
     "output_type": "display_data"
    }
   ],
   "source": [
    "display(steps.loc[2])"
   ]
  },
  {
   "cell_type": "code",
   "execution_count": 37,
   "metadata": {},
   "outputs": [],
   "source": [
    "us_cpi = (\n",
    "    pd.read_excel(\n",
    "        CONFIG['raw_dir']/'cpi/SeriesReport-20230816142508_0050ae.xlsx',\n",
    "        skiprows=11,\n",
    "        usecols='A:M'\n",
    "    )\n",
    "    .rename(columns=lambda col: col.lower())\n",
    "    .assign(year=lambda df: pd.to_datetime(df.year, format='%Y'))\n",
    "    .query('`year` < 2023 and `year` >= 2005')\n",
    "    .melt(id_vars='year', var_name='month',value_name='cpi')\n",
    "    .groupby('year')\n",
    "    .aggregate(\n",
    "        {\n",
    "            'month': 'min',\n",
    "            'cpi': 'mean',\n",
    "        }\n",
    "    )\n",
    "    .drop(columns='month')\n",
    "    .assign(geography='United States')\n",
    "    .set_index('geography', append=True)\n",
    ")\n",
    "\n",
    "sd_cpi = (\n",
    "    pd.read_csv(\n",
    "        CONFIG['raw_dir']/'cpi/CUUSA424SA0.csv',\n",
    "        names=['year', 'cpi'], \n",
    "        header=None, \n",
    "        skiprows=1,\n",
    "    )\n",
    "        .assign(geography='San Diego')\n",
    "        .query('`year` >= \"2005-01-01\"')\n",
    "        .assign(year=lambda df: pd.to_datetime(df.year, format='%Y-%m-%d'))\n",
    "        .set_index(['year', 'geography'])\n",
    ")\n",
    "\n",
    "ca_cpi = (\n",
    "    pd.read_excel(CONFIG['raw_dir']/'cpi/EntireCCPI.xlsx')\n",
    "    .assign(year=lambda df: pd.to_datetime(df.year, format='%Y'))\n",
    "    .assign(geography='California')\n",
    "    .set_index(['year', 'geography'])\n",
    ")"
   ]
  },
  {
   "cell_type": "code",
   "execution_count": 38,
   "metadata": {},
   "outputs": [
    {
     "data": {
      "text/html": [
       "<div>\n",
       "<style scoped>\n",
       "    .dataframe tbody tr th:only-of-type {\n",
       "        vertical-align: middle;\n",
       "    }\n",
       "\n",
       "    .dataframe tbody tr th {\n",
       "        vertical-align: top;\n",
       "    }\n",
       "\n",
       "    .dataframe thead th {\n",
       "        text-align: right;\n",
       "    }\n",
       "</style>\n",
       "<table border=\"1\" class=\"dataframe\">\n",
       "  <thead>\n",
       "    <tr style=\"text-align: right;\">\n",
       "      <th></th>\n",
       "      <th></th>\n",
       "      <th>cpi</th>\n",
       "    </tr>\n",
       "    <tr>\n",
       "      <th>year</th>\n",
       "      <th>geography</th>\n",
       "      <th></th>\n",
       "    </tr>\n",
       "  </thead>\n",
       "  <tbody>\n",
       "    <tr>\n",
       "      <th rowspan=\"3\" valign=\"top\">2021-01-01</th>\n",
       "      <th>California</th>\n",
       "      <td>297.371000</td>\n",
       "    </tr>\n",
       "    <tr>\n",
       "      <th>San Diego</th>\n",
       "      <td>319.761000</td>\n",
       "    </tr>\n",
       "    <tr>\n",
       "      <th>United States</th>\n",
       "      <td>270.969750</td>\n",
       "    </tr>\n",
       "    <tr>\n",
       "      <th rowspan=\"3\" valign=\"top\">2022-01-01</th>\n",
       "      <th>California</th>\n",
       "      <td>319.224000</td>\n",
       "    </tr>\n",
       "    <tr>\n",
       "      <th>San Diego</th>\n",
       "      <td>344.416000</td>\n",
       "    </tr>\n",
       "    <tr>\n",
       "      <th>United States</th>\n",
       "      <td>292.654917</td>\n",
       "    </tr>\n",
       "  </tbody>\n",
       "</table>\n",
       "</div>"
      ],
      "text/plain": [
       "                                 cpi\n",
       "year       geography                \n",
       "2021-01-01 California     297.371000\n",
       "           San Diego      319.761000\n",
       "           United States  270.969750\n",
       "2022-01-01 California     319.224000\n",
       "           San Diego      344.416000\n",
       "           United States  292.654917"
      ]
     },
     "execution_count": 38,
     "metadata": {},
     "output_type": "execute_result"
    }
   ],
   "source": [
    "cpi = (\n",
    "    pd.concat(\n",
    "        [\n",
    "            us_cpi,\n",
    "            sd_cpi,\n",
    "            ca_cpi,\n",
    "        ]\n",
    "    )\n",
    "    .sort_index()\n",
    ")\n",
    "cpi.tail(6)"
   ]
  },
  {
   "cell_type": "code",
   "execution_count": null,
   "metadata": {},
   "outputs": [],
   "source": []
  },
  {
   "cell_type": "markdown",
   "metadata": {},
   "source": [
    "### Step 3: Calculate real income"
   ]
  },
  {
   "cell_type": "code",
   "execution_count": 39,
   "metadata": {},
   "outputs": [
    {
     "data": {
      "text/plain": [
       "step    Combine Per Capita Income and CPI and calculate personal income.\n",
       "Name: 3, dtype: object"
      ]
     },
     "metadata": {},
     "output_type": "display_data"
    }
   ],
   "source": [
    "display(steps.loc[3])"
   ]
  },
  {
   "cell_type": "markdown",
   "metadata": {},
   "source": [
    "Use most recent CPI to weigh dollars."
   ]
  },
  {
   "cell_type": "code",
   "execution_count": 40,
   "metadata": {},
   "outputs": [
    {
     "data": {
      "text/html": [
       "<div>\n",
       "<style scoped>\n",
       "    .dataframe tbody tr th:only-of-type {\n",
       "        vertical-align: middle;\n",
       "    }\n",
       "\n",
       "    .dataframe tbody tr th {\n",
       "        vertical-align: top;\n",
       "    }\n",
       "\n",
       "    .dataframe thead th {\n",
       "        text-align: right;\n",
       "    }\n",
       "</style>\n",
       "<table border=\"1\" class=\"dataframe\">\n",
       "  <thead>\n",
       "    <tr style=\"text-align: right;\">\n",
       "      <th></th>\n",
       "      <th>cpi</th>\n",
       "    </tr>\n",
       "    <tr>\n",
       "      <th>geography</th>\n",
       "      <th></th>\n",
       "    </tr>\n",
       "  </thead>\n",
       "  <tbody>\n",
       "    <tr>\n",
       "      <th>California</th>\n",
       "      <td>319.224000</td>\n",
       "    </tr>\n",
       "    <tr>\n",
       "      <th>San Diego</th>\n",
       "      <td>344.416000</td>\n",
       "    </tr>\n",
       "    <tr>\n",
       "      <th>United States</th>\n",
       "      <td>292.654917</td>\n",
       "    </tr>\n",
       "  </tbody>\n",
       "</table>\n",
       "</div>"
      ],
      "text/plain": [
       "                      cpi\n",
       "geography                \n",
       "California     319.224000\n",
       "San Diego      344.416000\n",
       "United States  292.654917"
      ]
     },
     "execution_count": 40,
     "metadata": {},
     "output_type": "execute_result"
    }
   ],
   "source": [
    "current_cpi = cpi.loc['2022'].droplevel(0)\n",
    "current_cpi"
   ]
  },
  {
   "cell_type": "code",
   "execution_count": 41,
   "metadata": {},
   "outputs": [
    {
     "data": {
      "text/html": [
       "<div>\n",
       "<style scoped>\n",
       "    .dataframe tbody tr th:only-of-type {\n",
       "        vertical-align: middle;\n",
       "    }\n",
       "\n",
       "    .dataframe tbody tr th {\n",
       "        vertical-align: top;\n",
       "    }\n",
       "\n",
       "    .dataframe thead th {\n",
       "        text-align: right;\n",
       "    }\n",
       "</style>\n",
       "<table border=\"1\" class=\"dataframe\">\n",
       "  <thead>\n",
       "    <tr style=\"text-align: right;\">\n",
       "      <th></th>\n",
       "      <th></th>\n",
       "      <th>income</th>\n",
       "      <th>cpi</th>\n",
       "      <th>real_income</th>\n",
       "    </tr>\n",
       "    <tr>\n",
       "      <th>year</th>\n",
       "      <th>geography</th>\n",
       "      <th></th>\n",
       "      <th></th>\n",
       "      <th></th>\n",
       "    </tr>\n",
       "  </thead>\n",
       "  <tbody>\n",
       "    <tr>\n",
       "      <th rowspan=\"3\" valign=\"top\">2021-01-01</th>\n",
       "      <th>California</th>\n",
       "      <td>76800.0</td>\n",
       "      <td>297.371000</td>\n",
       "      <td>82443.826735</td>\n",
       "    </tr>\n",
       "    <tr>\n",
       "      <th>San Diego</th>\n",
       "      <td>72637.0</td>\n",
       "      <td>319.761000</td>\n",
       "      <td>78237.636835</td>\n",
       "    </tr>\n",
       "    <tr>\n",
       "      <th>United States</th>\n",
       "      <td>64073.0</td>\n",
       "      <td>270.969750</td>\n",
       "      <td>69200.633929</td>\n",
       "    </tr>\n",
       "    <tr>\n",
       "      <th rowspan=\"3\" valign=\"top\">2022-01-01</th>\n",
       "      <th>California</th>\n",
       "      <td>77339.0</td>\n",
       "      <td>319.224000</td>\n",
       "      <td>77339.000000</td>\n",
       "    </tr>\n",
       "    <tr>\n",
       "      <th>San Diego</th>\n",
       "      <td>NaN</td>\n",
       "      <td>344.416000</td>\n",
       "      <td>NaN</td>\n",
       "    </tr>\n",
       "    <tr>\n",
       "      <th>United States</th>\n",
       "      <td>65280.0</td>\n",
       "      <td>292.654917</td>\n",
       "      <td>65280.000000</td>\n",
       "    </tr>\n",
       "  </tbody>\n",
       "</table>\n",
       "</div>"
      ],
      "text/plain": [
       "                           income         cpi   real_income\n",
       "year       geography                                       \n",
       "2021-01-01 California     76800.0  297.371000  82443.826735\n",
       "           San Diego      72637.0  319.761000  78237.636835\n",
       "           United States  64073.0  270.969750  69200.633929\n",
       "2022-01-01 California     77339.0  319.224000  77339.000000\n",
       "           San Diego          NaN  344.416000           NaN\n",
       "           United States  65280.0  292.654917  65280.000000"
      ]
     },
     "execution_count": 41,
     "metadata": {},
     "output_type": "execute_result"
    }
   ],
   "source": [
    "real_income = (\n",
    "    income\n",
    "    .join(cpi, how='right')\n",
    "    .join(current_cpi, rsuffix='_current', how='left')\n",
    "    .assign(\n",
    "        real_income=lambda df:\n",
    "            df.income * (df.cpi_current / df.cpi)\n",
    "    )\n",
    "    .drop(columns='cpi_current')\n",
    ")\n",
    "\n",
    "real_income.tail(6)"
   ]
  },
  {
   "cell_type": "markdown",
   "metadata": {},
   "source": [
    "### Save Data"
   ]
  },
  {
   "cell_type": "code",
   "execution_count": 42,
   "metadata": {},
   "outputs": [
    {
     "data": {
      "text/markdown": [
       "#### Clean data path"
      ],
      "text/plain": [
       "<IPython.core.display.Markdown object>"
      ]
     },
     "metadata": {},
     "output_type": "display_data"
    },
    {
     "data": {
      "text/markdown": [
       "[C:/Users/tan/src/regional-pm-2023/data/clean/qol/income/real_income](C:/Users/tan/src/regional-pm-2023/data/clean/qol/income/real_income)"
      ],
      "text/plain": [
       "<IPython.core.display.Markdown object>"
      ]
     },
     "metadata": {},
     "output_type": "display_data"
    }
   ],
   "source": [
    "display(Markdown('#### Clean data path'))\n",
    "clean_dir_path = str(CONFIG['clean_dir']).replace('\\\\', '/')\n",
    "display(Markdown(f\"[{clean_dir_path}]({clean_dir_path})\"))"
   ]
  },
  {
   "cell_type": "code",
   "execution_count": 43,
   "metadata": {},
   "outputs": [],
   "source": [
    "real_income.to_csv(\n",
    "    CONFIG['clean_dir']\n",
    "    / f'{INDICATOR}_odp.csv'\n",
    ")"
   ]
  }
 ],
 "metadata": {
  "kernelspec": {
   "display_name": ".venv",
   "language": "python",
   "name": "python3"
  },
  "language_info": {
   "codemirror_mode": {
    "name": "ipython",
    "version": 3
   },
   "file_extension": ".py",
   "mimetype": "text/x-python",
   "name": "python",
   "nbconvert_exporter": "python",
   "pygments_lexer": "ipython3",
   "version": "3.11.3"
  },
  "orig_nbformat": 4
 },
 "nbformat": 4,
 "nbformat_minor": 2
}
