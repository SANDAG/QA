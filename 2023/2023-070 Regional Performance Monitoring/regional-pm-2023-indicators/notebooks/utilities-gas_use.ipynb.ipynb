{
 "cells": [
  {
   "cell_type": "code",
   "execution_count": 1,
   "metadata": {},
   "outputs": [
    {
     "name": "stderr",
     "output_type": "stream",
     "text": [
      "c:\\Users\\tan\\src\\regional-pm-2023\\.venv\\Lib\\site-packages\\tqdm\\auto.py:21: TqdmWarning: IProgress not found. Please update jupyter and ipywidgets. See https://ipywidgets.readthedocs.io/en/stable/user_install.html\n",
      "  from .autonotebook import tqdm as notebook_tqdm\n"
     ]
    },
    {
     "data": {
      "text/markdown": [
       "## Raw data path"
      ],
      "text/plain": [
       "<IPython.core.display.Markdown object>"
      ]
     },
     "metadata": {},
     "output_type": "display_data"
    },
    {
     "data": {
      "text/markdown": [
       "[C:/Users/tan/src/regional-pm-2023/data/raw/utilities/energy/gas_use](C:/Users/tan/src/regional-pm-2023/data/raw/utilities/energy/gas_use)"
      ],
      "text/plain": [
       "<IPython.core.display.Markdown object>"
      ]
     },
     "metadata": {},
     "output_type": "display_data"
    }
   ],
   "source": [
    "%reload_ext autoreload\n",
    "%autoreload 2\n",
    "\n",
    "from IPython.core.display import Markdown\n",
    "from tqdm.auto import tqdm\n",
    "import config\n",
    "import docs\n",
    "import pandas as pd\n",
    "import requests\n",
    "\n",
    "pd.set_option('display.max_colwidth', None)\n",
    "\n",
    "INDICATOR = 'gas_use'\n",
    "CONFIG = config.get_config(INDICATOR, '../config.toml')\n",
    "\n",
    "display(Markdown('## Raw data path'))\n",
    "raw_dir_path = str(CONFIG['raw_dir']).replace('\\\\', '/')\n",
    "display(Markdown(f\"[{raw_dir_path}]({raw_dir_path})\"))\n"
   ]
  },
  {
   "cell_type": "markdown",
   "metadata": {},
   "source": [
    "# Energy and Water: Energy\n",
    "\n",
    "## Gas Use"
   ]
  },
  {
   "cell_type": "code",
   "execution_count": 2,
   "metadata": {},
   "outputs": [
    {
     "data": {
      "text/markdown": [
       "Amount of gas consumed by sector.\n",
       "\n",
       "nan"
      ],
      "text/plain": [
       "<IPython.core.display.Markdown object>"
      ]
     },
     "execution_count": 2,
     "metadata": {},
     "output_type": "execute_result"
    }
   ],
   "source": [
    "docs.describe_indicator(\n",
    "    indicator=INDICATOR,\n",
    "    indicators_xlsx_path=CONFIG['indicators_xlsx_path'],\n",
    ")"
   ]
  },
  {
   "cell_type": "code",
   "execution_count": 3,
   "metadata": {},
   "outputs": [
    {
     "data": {
      "text/html": [
       "<div>\n",
       "<style scoped>\n",
       "    .dataframe tbody tr th:only-of-type {\n",
       "        vertical-align: middle;\n",
       "    }\n",
       "\n",
       "    .dataframe tbody tr th {\n",
       "        vertical-align: top;\n",
       "    }\n",
       "\n",
       "    .dataframe thead th {\n",
       "        text-align: right;\n",
       "    }\n",
       "</style>\n",
       "<table border=\"1\" class=\"dataframe\">\n",
       "  <thead>\n",
       "    <tr style=\"text-align: right;\">\n",
       "      <th></th>\n",
       "      <th>name</th>\n",
       "      <th>description</th>\n",
       "      <th>type</th>\n",
       "    </tr>\n",
       "    <tr>\n",
       "      <th>column</th>\n",
       "      <th></th>\n",
       "      <th></th>\n",
       "      <th></th>\n",
       "    </tr>\n",
       "  </thead>\n",
       "  <tbody>\n",
       "    <tr>\n",
       "      <th>year</th>\n",
       "      <td>Year</td>\n",
       "      <td>Year of record.</td>\n",
       "      <td>datetime</td>\n",
       "    </tr>\n",
       "    <tr>\n",
       "      <th>sector</th>\n",
       "      <td>Sector</td>\n",
       "      <td>Sector (\"Residential\" or \"Non-Residential\") of record.</td>\n",
       "      <td>string</td>\n",
       "    </tr>\n",
       "    <tr>\n",
       "      <th>gas_use</th>\n",
       "      <td>Gas Use</td>\n",
       "      <td>Amount of gas consumed by sector in millions of therms, in a given year by a given sector.</td>\n",
       "      <td>float</td>\n",
       "    </tr>\n",
       "  </tbody>\n",
       "</table>\n",
       "</div>"
      ],
      "text/plain": [
       "            name  \\\n",
       "column             \n",
       "year        Year   \n",
       "sector    Sector   \n",
       "gas_use  Gas Use   \n",
       "\n",
       "                                                                                        description  \\\n",
       "column                                                                                                \n",
       "year                                                                                Year of record.   \n",
       "sector                                       Sector (\"Residential\" or \"Non-Residential\") of record.   \n",
       "gas_use  Amount of gas consumed by sector in millions of therms, in a given year by a given sector.   \n",
       "\n",
       "             type  \n",
       "column             \n",
       "year     datetime  \n",
       "sector     string  \n",
       "gas_use     float  "
      ]
     },
     "execution_count": 3,
     "metadata": {},
     "output_type": "execute_result"
    }
   ],
   "source": [
    "docs.list_schema(\n",
    "    indicator=INDICATOR,\n",
    "    indicators_xlsx_path=CONFIG['indicators_xlsx_path'],\n",
    ")"
   ]
  },
  {
   "cell_type": "code",
   "execution_count": 4,
   "metadata": {},
   "outputs": [
    {
     "data": {
      "text/html": [
       "<div>\n",
       "<style scoped>\n",
       "    .dataframe tbody tr th:only-of-type {\n",
       "        vertical-align: middle;\n",
       "    }\n",
       "\n",
       "    .dataframe tbody tr th {\n",
       "        vertical-align: top;\n",
       "    }\n",
       "\n",
       "    .dataframe thead th {\n",
       "        text-align: right;\n",
       "    }\n",
       "</style>\n",
       "<table border=\"1\" class=\"dataframe\">\n",
       "  <thead>\n",
       "    <tr style=\"text-align: right;\">\n",
       "      <th></th>\n",
       "      <th>name</th>\n",
       "      <th>organization</th>\n",
       "      <th>active</th>\n",
       "      <th>notes</th>\n",
       "    </tr>\n",
       "    <tr>\n",
       "      <th>source</th>\n",
       "      <th></th>\n",
       "      <th></th>\n",
       "      <th></th>\n",
       "      <th></th>\n",
       "    </tr>\n",
       "  </thead>\n",
       "  <tbody>\n",
       "    <tr>\n",
       "      <th>energy_consumption_db</th>\n",
       "      <td>California Energy Consumption Database</td>\n",
       "      <td>California Energy Commission</td>\n",
       "      <td>True</td>\n",
       "      <td>Generated based on \"Consumption by County\" report.</td>\n",
       "    </tr>\n",
       "  </tbody>\n",
       "</table>\n",
       "</div>"
      ],
      "text/plain": [
       "                                                         name  \\\n",
       "source                                                          \n",
       "energy_consumption_db  California Energy Consumption Database   \n",
       "\n",
       "                                       organization  active  \\\n",
       "source                                                        \n",
       "energy_consumption_db  California Energy Commission    True   \n",
       "\n",
       "                                                                    notes  \n",
       "source                                                                     \n",
       "energy_consumption_db  Generated based on \"Consumption by County\" report.  "
      ]
     },
     "execution_count": 4,
     "metadata": {},
     "output_type": "execute_result"
    }
   ],
   "source": [
    "docs.list_sources(\n",
    "    indicator=INDICATOR,\n",
    "    indicators_xlsx_path=CONFIG['indicators_xlsx_path'],\n",
    ")"
   ]
  },
  {
   "cell_type": "code",
   "execution_count": 5,
   "metadata": {},
   "outputs": [
    {
     "data": {
      "text/html": [
       "<div>\n",
       "<style scoped>\n",
       "    .dataframe tbody tr th:only-of-type {\n",
       "        vertical-align: middle;\n",
       "    }\n",
       "\n",
       "    .dataframe tbody tr th {\n",
       "        vertical-align: top;\n",
       "    }\n",
       "\n",
       "    .dataframe thead th {\n",
       "        text-align: right;\n",
       "    }\n",
       "</style>\n",
       "<table border=\"1\" class=\"dataframe\">\n",
       "  <thead>\n",
       "    <tr style=\"text-align: right;\">\n",
       "      <th></th>\n",
       "      <th>step</th>\n",
       "    </tr>\n",
       "  </thead>\n",
       "  <tbody>\n",
       "    <tr>\n",
       "      <th>0</th>\n",
       "      <td>Download annual county data from CEC Energy Consumption Database</td>\n",
       "    </tr>\n",
       "    <tr>\n",
       "      <th>1</th>\n",
       "      <td>Extract residential and non-residential consumption from the raw data.</td>\n",
       "    </tr>\n",
       "  </tbody>\n",
       "</table>\n",
       "</div>"
      ],
      "text/plain": [
       "                                                                     step\n",
       "0        Download annual county data from CEC Energy Consumption Database\n",
       "1  Extract residential and non-residential consumption from the raw data."
      ]
     },
     "execution_count": 5,
     "metadata": {},
     "output_type": "execute_result"
    }
   ],
   "source": [
    "steps = docs.list_update_steps(\n",
    "    indicator=INDICATOR,\n",
    "    indicators_xlsx_path=CONFIG['indicators_xlsx_path'],\n",
    ")\n",
    "steps"
   ]
  },
  {
   "cell_type": "code",
   "execution_count": 6,
   "metadata": {},
   "outputs": [
    {
     "data": {
      "text/html": [
       "<div>\n",
       "<style scoped>\n",
       "    .dataframe tbody tr th:only-of-type {\n",
       "        vertical-align: middle;\n",
       "    }\n",
       "\n",
       "    .dataframe tbody tr th {\n",
       "        vertical-align: top;\n",
       "    }\n",
       "\n",
       "    .dataframe thead th {\n",
       "        text-align: right;\n",
       "    }\n",
       "</style>\n",
       "<table border=\"1\" class=\"dataframe\">\n",
       "  <thead>\n",
       "    <tr style=\"text-align: right;\">\n",
       "      <th></th>\n",
       "      <th>author</th>\n",
       "      <th>note</th>\n",
       "    </tr>\n",
       "  </thead>\n",
       "  <tbody>\n",
       "    <tr>\n",
       "      <th>0</th>\n",
       "      <td>TAN</td>\n",
       "      <td>Current SME is Jeff Hoyos &lt;Jeff.Hoyos@sandag.org&gt;.</td>\n",
       "    </tr>\n",
       "    <tr>\n",
       "      <th>1</th>\n",
       "      <td>TAN</td>\n",
       "      <td>I'm not sure if any source was used consistently in the past. This source was easy to download for all needed years and covers the whole county (CEC forecasts use SDGE's area which goes into Orange County).</td>\n",
       "    </tr>\n",
       "    <tr>\n",
       "      <th>2</th>\n",
       "      <td>TAN</td>\n",
       "      <td>Note that the legacy PM data sheet is not used as input.</td>\n",
       "    </tr>\n",
       "  </tbody>\n",
       "</table>\n",
       "</div>"
      ],
      "text/plain": [
       "  author  \\\n",
       "0    TAN   \n",
       "1    TAN   \n",
       "2    TAN   \n",
       "\n",
       "                                                                                                                                                                                                             note  \n",
       "0                                                                                                                                                              Current SME is Jeff Hoyos <Jeff.Hoyos@sandag.org>.  \n",
       "1  I'm not sure if any source was used consistently in the past. This source was easy to download for all needed years and covers the whole county (CEC forecasts use SDGE's area which goes into Orange County).  \n",
       "2                                                                                                                                                        Note that the legacy PM data sheet is not used as input.  "
      ]
     },
     "execution_count": 6,
     "metadata": {},
     "output_type": "execute_result"
    }
   ],
   "source": [
    "docs.list_remarks(\n",
    "    indicator=INDICATOR,\n",
    "    indicators_xlsx_path=CONFIG['indicators_xlsx_path'],\n",
    ")"
   ]
  },
  {
   "cell_type": "markdown",
   "metadata": {},
   "source": [
    "### Step 0: Download data"
   ]
  },
  {
   "cell_type": "markdown",
   "metadata": {},
   "source": [
    "Data can be downloaded using [this](http://www.ecdms.energy.ca.gov/gasbycounty.aspxx) CEC report."
   ]
  },
  {
   "cell_type": "code",
   "execution_count": 7,
   "metadata": {},
   "outputs": [
    {
     "data": {
      "text/plain": [
       "step    Download annual county data from CEC Energy Consumption Database\n",
       "Name: 0, dtype: object"
      ]
     },
     "metadata": {},
     "output_type": "display_data"
    }
   ],
   "source": [
    "display(steps.loc[0])"
   ]
  },
  {
   "cell_type": "markdown",
   "metadata": {},
   "source": [
    "### Step 1:  Extract data"
   ]
  },
  {
   "cell_type": "code",
   "execution_count": 8,
   "metadata": {},
   "outputs": [
    {
     "data": {
      "text/plain": [
       "step    Extract residential and non-residential consumption from the raw data.\n",
       "Name: 1, dtype: object"
      ]
     },
     "metadata": {},
     "output_type": "display_data"
    }
   ],
   "source": [
    "display(steps.loc[1])"
   ]
  },
  {
   "cell_type": "code",
   "execution_count": 9,
   "metadata": {},
   "outputs": [
    {
     "data": {
      "text/html": [
       "<div>\n",
       "<style scoped>\n",
       "    .dataframe tbody tr th:only-of-type {\n",
       "        vertical-align: middle;\n",
       "    }\n",
       "\n",
       "    .dataframe tbody tr th {\n",
       "        vertical-align: top;\n",
       "    }\n",
       "\n",
       "    .dataframe thead th {\n",
       "        text-align: right;\n",
       "    }\n",
       "</style>\n",
       "<table border=\"1\" class=\"dataframe\">\n",
       "  <thead>\n",
       "    <tr style=\"text-align: right;\">\n",
       "      <th></th>\n",
       "      <th></th>\n",
       "      <th>electricity_use</th>\n",
       "    </tr>\n",
       "    <tr>\n",
       "      <th>sector</th>\n",
       "      <th>year</th>\n",
       "      <th></th>\n",
       "    </tr>\n",
       "  </thead>\n",
       "  <tbody>\n",
       "    <tr>\n",
       "      <th>Non-Residential</th>\n",
       "      <th>2021-01-01</th>\n",
       "      <td>227.549467</td>\n",
       "    </tr>\n",
       "    <tr>\n",
       "      <th>Residential</th>\n",
       "      <th>2021-01-01</th>\n",
       "      <td>295.965443</td>\n",
       "    </tr>\n",
       "    <tr>\n",
       "      <th>Non-Residential</th>\n",
       "      <th>2020-01-01</th>\n",
       "      <td>202.366603</td>\n",
       "    </tr>\n",
       "    <tr>\n",
       "      <th>Residential</th>\n",
       "      <th>2020-01-01</th>\n",
       "      <td>302.849797</td>\n",
       "    </tr>\n",
       "    <tr>\n",
       "      <th>Non-Residential</th>\n",
       "      <th>2019-01-01</th>\n",
       "      <td>230.140620</td>\n",
       "    </tr>\n",
       "    <tr>\n",
       "      <th>Residential</th>\n",
       "      <th>2019-01-01</th>\n",
       "      <td>303.771611</td>\n",
       "    </tr>\n",
       "    <tr>\n",
       "      <th>Non-Residential</th>\n",
       "      <th>2018-01-01</th>\n",
       "      <td>217.997747</td>\n",
       "    </tr>\n",
       "    <tr>\n",
       "      <th>Residential</th>\n",
       "      <th>2018-01-01</th>\n",
       "      <td>264.526740</td>\n",
       "    </tr>\n",
       "    <tr>\n",
       "      <th>Non-Residential</th>\n",
       "      <th>2017-01-01</th>\n",
       "      <td>207.039431</td>\n",
       "    </tr>\n",
       "    <tr>\n",
       "      <th>Residential</th>\n",
       "      <th>2017-01-01</th>\n",
       "      <td>272.796531</td>\n",
       "    </tr>\n",
       "    <tr>\n",
       "      <th>Non-Residential</th>\n",
       "      <th>2016-01-01</th>\n",
       "      <td>203.800192</td>\n",
       "    </tr>\n",
       "    <tr>\n",
       "      <th>Residential</th>\n",
       "      <th>2016-01-01</th>\n",
       "      <td>268.989959</td>\n",
       "    </tr>\n",
       "    <tr>\n",
       "      <th>Non-Residential</th>\n",
       "      <th>2015-01-01</th>\n",
       "      <td>197.132860</td>\n",
       "    </tr>\n",
       "    <tr>\n",
       "      <th>Residential</th>\n",
       "      <th>2015-01-01</th>\n",
       "      <td>255.632102</td>\n",
       "    </tr>\n",
       "    <tr>\n",
       "      <th>Non-Residential</th>\n",
       "      <th>2014-01-01</th>\n",
       "      <td>194.443844</td>\n",
       "    </tr>\n",
       "    <tr>\n",
       "      <th>Residential</th>\n",
       "      <th>2014-01-01</th>\n",
       "      <td>256.576175</td>\n",
       "    </tr>\n",
       "    <tr>\n",
       "      <th>Non-Residential</th>\n",
       "      <th>2013-01-01</th>\n",
       "      <td>209.336654</td>\n",
       "    </tr>\n",
       "    <tr>\n",
       "      <th>Residential</th>\n",
       "      <th>2013-01-01</th>\n",
       "      <td>318.306133</td>\n",
       "    </tr>\n",
       "    <tr>\n",
       "      <th>Non-Residential</th>\n",
       "      <th>2012-01-01</th>\n",
       "      <td>203.521435</td>\n",
       "    </tr>\n",
       "    <tr>\n",
       "      <th>Residential</th>\n",
       "      <th>2012-01-01</th>\n",
       "      <td>311.180545</td>\n",
       "    </tr>\n",
       "    <tr>\n",
       "      <th>Non-Residential</th>\n",
       "      <th>2011-01-01</th>\n",
       "      <td>201.909404</td>\n",
       "    </tr>\n",
       "    <tr>\n",
       "      <th>Residential</th>\n",
       "      <th>2011-01-01</th>\n",
       "      <td>326.950605</td>\n",
       "    </tr>\n",
       "    <tr>\n",
       "      <th>Non-Residential</th>\n",
       "      <th>2010-01-01</th>\n",
       "      <td>218.347663</td>\n",
       "    </tr>\n",
       "    <tr>\n",
       "      <th>Residential</th>\n",
       "      <th>2010-01-01</th>\n",
       "      <td>337.913994</td>\n",
       "    </tr>\n",
       "    <tr>\n",
       "      <th>Non-Residential</th>\n",
       "      <th>2009-01-01</th>\n",
       "      <td>206.135681</td>\n",
       "    </tr>\n",
       "    <tr>\n",
       "      <th>Residential</th>\n",
       "      <th>2009-01-01</th>\n",
       "      <td>308.747489</td>\n",
       "    </tr>\n",
       "    <tr>\n",
       "      <th>Non-Residential</th>\n",
       "      <th>2008-01-01</th>\n",
       "      <td>216.672990</td>\n",
       "    </tr>\n",
       "    <tr>\n",
       "      <th>Residential</th>\n",
       "      <th>2008-01-01</th>\n",
       "      <td>324.692766</td>\n",
       "    </tr>\n",
       "    <tr>\n",
       "      <th>Non-Residential</th>\n",
       "      <th>2007-01-01</th>\n",
       "      <td>215.112957</td>\n",
       "    </tr>\n",
       "    <tr>\n",
       "      <th>Residential</th>\n",
       "      <th>2007-01-01</th>\n",
       "      <td>331.933074</td>\n",
       "    </tr>\n",
       "    <tr>\n",
       "      <th>Non-Residential</th>\n",
       "      <th>2006-01-01</th>\n",
       "      <td>218.678297</td>\n",
       "    </tr>\n",
       "    <tr>\n",
       "      <th>Residential</th>\n",
       "      <th>2006-01-01</th>\n",
       "      <td>345.407561</td>\n",
       "    </tr>\n",
       "    <tr>\n",
       "      <th>Non-Residential</th>\n",
       "      <th>2005-01-01</th>\n",
       "      <td>219.673683</td>\n",
       "    </tr>\n",
       "    <tr>\n",
       "      <th>Residential</th>\n",
       "      <th>2005-01-01</th>\n",
       "      <td>335.165037</td>\n",
       "    </tr>\n",
       "  </tbody>\n",
       "</table>\n",
       "</div>"
      ],
      "text/plain": [
       "                            electricity_use\n",
       "sector          year                       \n",
       "Non-Residential 2021-01-01       227.549467\n",
       "Residential     2021-01-01       295.965443\n",
       "Non-Residential 2020-01-01       202.366603\n",
       "Residential     2020-01-01       302.849797\n",
       "Non-Residential 2019-01-01       230.140620\n",
       "Residential     2019-01-01       303.771611\n",
       "Non-Residential 2018-01-01       217.997747\n",
       "Residential     2018-01-01       264.526740\n",
       "Non-Residential 2017-01-01       207.039431\n",
       "Residential     2017-01-01       272.796531\n",
       "Non-Residential 2016-01-01       203.800192\n",
       "Residential     2016-01-01       268.989959\n",
       "Non-Residential 2015-01-01       197.132860\n",
       "Residential     2015-01-01       255.632102\n",
       "Non-Residential 2014-01-01       194.443844\n",
       "Residential     2014-01-01       256.576175\n",
       "Non-Residential 2013-01-01       209.336654\n",
       "Residential     2013-01-01       318.306133\n",
       "Non-Residential 2012-01-01       203.521435\n",
       "Residential     2012-01-01       311.180545\n",
       "Non-Residential 2011-01-01       201.909404\n",
       "Residential     2011-01-01       326.950605\n",
       "Non-Residential 2010-01-01       218.347663\n",
       "Residential     2010-01-01       337.913994\n",
       "Non-Residential 2009-01-01       206.135681\n",
       "Residential     2009-01-01       308.747489\n",
       "Non-Residential 2008-01-01       216.672990\n",
       "Residential     2008-01-01       324.692766\n",
       "Non-Residential 2007-01-01       215.112957\n",
       "Residential     2007-01-01       331.933074\n",
       "Non-Residential 2006-01-01       218.678297\n",
       "Residential     2006-01-01       345.407561\n",
       "Non-Residential 2005-01-01       219.673683\n",
       "Residential     2005-01-01       335.165037"
      ]
     },
     "execution_count": 9,
     "metadata": {},
     "output_type": "execute_result"
    }
   ],
   "source": [
    "gas_use = (\n",
    "    pd.read_csv(\n",
    "        CONFIG['raw_dir']/'GasByCounty.csv'\n",
    "    )\n",
    "    .rename(columns={'Sector': 'sector'})\n",
    "    .set_index('sector')\n",
    "    .drop(columns='County') # San Diego implicit, don't need this\n",
    "    .drop('Total') # Don't need aggregate columns/rows\n",
    "    .drop(columns='Total Usage') # Don't need aggregate columns/rows\n",
    "    .reset_index()\n",
    "    .melt(\n",
    "        id_vars=['sector'],\n",
    "        var_name='year',\n",
    "        value_name='electricity_use',\n",
    "    )\n",
    "    .assign(year=lambda df: pd.to_datetime(df.year, format='%Y'))\n",
    "    .set_index(['sector', 'year'])\n",
    ")\n",
    "gas_use"
   ]
  },
  {
   "cell_type": "markdown",
   "metadata": {},
   "source": [
    "### Save Data"
   ]
  },
  {
   "cell_type": "code",
   "execution_count": 10,
   "metadata": {},
   "outputs": [
    {
     "data": {
      "text/markdown": [
       "#### Clean data path"
      ],
      "text/plain": [
       "<IPython.core.display.Markdown object>"
      ]
     },
     "metadata": {},
     "output_type": "display_data"
    },
    {
     "data": {
      "text/markdown": [
       "[C:/Users/tan/src/regional-pm-2023/data/clean/utilities/energy/gas_use](C:/Users/tan/src/regional-pm-2023/data/clean/utilities/energy/gas_use)"
      ],
      "text/plain": [
       "<IPython.core.display.Markdown object>"
      ]
     },
     "metadata": {},
     "output_type": "display_data"
    }
   ],
   "source": [
    "display(Markdown('#### Clean data path'))\n",
    "clean_dir_path = str(CONFIG['clean_dir']).replace('\\\\', '/')\n",
    "display(Markdown(f\"[{clean_dir_path}]({clean_dir_path})\"))"
   ]
  },
  {
   "cell_type": "code",
   "execution_count": 11,
   "metadata": {},
   "outputs": [],
   "source": [
    "gas_use.to_csv(\n",
    "    CONFIG['clean_dir']\n",
    "    / f'{INDICATOR}_odp.csv'\n",
    ")"
   ]
  }
 ],
 "metadata": {
  "kernelspec": {
   "display_name": ".venv",
   "language": "python",
   "name": "python3"
  },
  "language_info": {
   "codemirror_mode": {
    "name": "ipython",
    "version": 3
   },
   "file_extension": ".py",
   "mimetype": "text/x-python",
   "name": "python",
   "nbconvert_exporter": "python",
   "pygments_lexer": "ipython3",
   "version": "3.11.3"
  },
  "orig_nbformat": 4
 },
 "nbformat": 4,
 "nbformat_minor": 2
}
