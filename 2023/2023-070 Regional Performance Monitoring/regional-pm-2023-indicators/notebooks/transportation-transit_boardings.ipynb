{
 "cells": [
  {
   "cell_type": "code",
   "execution_count": 37,
   "metadata": {},
   "outputs": [
    {
     "data": {
      "text/markdown": [
       "## Raw data path"
      ],
      "text/plain": [
       "<IPython.core.display.Markdown object>"
      ]
     },
     "metadata": {},
     "output_type": "display_data"
    },
    {
     "data": {
      "text/markdown": [
       "[C:/Users/tan/OneDrive - San Diego Association of Governments/Performance Monitoring/Regional Performance Monitoring/2023/raw/transportation/transit/transit_boardings](C:/Users/tan/OneDrive - San Diego Association of Governments/Performance Monitoring/Regional Performance Monitoring/2023/raw/transportation/transit/transit_boardings)"
      ],
      "text/plain": [
       "<IPython.core.display.Markdown object>"
      ]
     },
     "metadata": {},
     "output_type": "display_data"
    }
   ],
   "source": [
    "%reload_ext autoreload\n",
    "%autoreload 2\n",
    "\n",
    "from IPython.core.display import Markdown\n",
    "from tqdm.auto import tqdm\n",
    "import config\n",
    "import docs\n",
    "import pandas as pd\n",
    "import requests\n",
    "from datetime import datetime\n",
    "\n",
    "pd.set_option('display.max_colwidth', None)\n",
    "\n",
    "INDICATOR = 'transit_boardings'\n",
    "CONFIG = config.get_config(INDICATOR, '../config.toml')\n",
    "\n",
    "display(Markdown('## Raw data path'))\n",
    "raw_dir_path = str(CONFIG['raw_dir']).replace('\\\\', '/')\n",
    "display(Markdown(f\"[{raw_dir_path}]({raw_dir_path})\"))\n"
   ]
  },
  {
   "cell_type": "markdown",
   "metadata": {},
   "source": [
    "# Transportation Policy: Transit\n",
    "\n",
    "## Transit Boardings"
   ]
  },
  {
   "cell_type": "code",
   "execution_count": 38,
   "metadata": {},
   "outputs": [
    {
     "data": {
      "text/markdown": [
       "Number of transit boardings.\n",
       "\n",
       "nan"
      ],
      "text/plain": [
       "<IPython.core.display.Markdown object>"
      ]
     },
     "execution_count": 38,
     "metadata": {},
     "output_type": "execute_result"
    }
   ],
   "source": [
    "docs.describe_indicator(\n",
    "    indicator=INDICATOR,\n",
    "    indicators_xlsx_path=CONFIG['indicators_xlsx_path'],\n",
    ")"
   ]
  },
  {
   "cell_type": "code",
   "execution_count": 39,
   "metadata": {},
   "outputs": [
    {
     "data": {
      "text/html": [
       "<div>\n",
       "<style scoped>\n",
       "    .dataframe tbody tr th:only-of-type {\n",
       "        vertical-align: middle;\n",
       "    }\n",
       "\n",
       "    .dataframe tbody tr th {\n",
       "        vertical-align: top;\n",
       "    }\n",
       "\n",
       "    .dataframe thead th {\n",
       "        text-align: right;\n",
       "    }\n",
       "</style>\n",
       "<table border=\"1\" class=\"dataframe\">\n",
       "  <thead>\n",
       "    <tr style=\"text-align: right;\">\n",
       "      <th></th>\n",
       "      <th>name</th>\n",
       "      <th>description</th>\n",
       "      <th>type</th>\n",
       "    </tr>\n",
       "    <tr>\n",
       "      <th>column</th>\n",
       "      <th></th>\n",
       "      <th></th>\n",
       "      <th></th>\n",
       "    </tr>\n",
       "  </thead>\n",
       "  <tbody>\n",
       "    <tr>\n",
       "      <th>year</th>\n",
       "      <td>Year</td>\n",
       "      <td>Year of record.</td>\n",
       "      <td>datetime</td>\n",
       "    </tr>\n",
       "    <tr>\n",
       "      <th>boardings</th>\n",
       "      <td>Boardings</td>\n",
       "      <td>Number of transit boardings in a given year.</td>\n",
       "      <td>int</td>\n",
       "    </tr>\n",
       "  </tbody>\n",
       "</table>\n",
       "</div>"
      ],
      "text/plain": [
       "                name                                   description      type\n",
       "column                                                                      \n",
       "year            Year                               Year of record.  datetime\n",
       "boardings  Boardings  Number of transit boardings in a given year.       int"
      ]
     },
     "execution_count": 39,
     "metadata": {},
     "output_type": "execute_result"
    }
   ],
   "source": [
    "docs.list_schema(\n",
    "    indicator=INDICATOR,\n",
    "    indicators_xlsx_path=CONFIG['indicators_xlsx_path'],\n",
    ")"
   ]
  },
  {
   "cell_type": "code",
   "execution_count": 40,
   "metadata": {},
   "outputs": [
    {
     "data": {
      "text/html": [
       "<div>\n",
       "<style scoped>\n",
       "    .dataframe tbody tr th:only-of-type {\n",
       "        vertical-align: middle;\n",
       "    }\n",
       "\n",
       "    .dataframe tbody tr th {\n",
       "        vertical-align: top;\n",
       "    }\n",
       "\n",
       "    .dataframe thead th {\n",
       "        text-align: right;\n",
       "    }\n",
       "</style>\n",
       "<table border=\"1\" class=\"dataframe\">\n",
       "  <thead>\n",
       "    <tr style=\"text-align: right;\">\n",
       "      <th></th>\n",
       "      <th>name</th>\n",
       "      <th>organization</th>\n",
       "      <th>active</th>\n",
       "      <th>notes</th>\n",
       "    </tr>\n",
       "    <tr>\n",
       "      <th>source</th>\n",
       "      <th></th>\n",
       "      <th></th>\n",
       "      <th></th>\n",
       "      <th></th>\n",
       "    </tr>\n",
       "  </thead>\n",
       "  <tbody>\n",
       "    <tr>\n",
       "      <th>boardings_xlsx</th>\n",
       "      <td>MTS and NTCD</td>\n",
       "      <td>Caltrans</td>\n",
       "      <td>True</td>\n",
       "      <td>Best source we have was a workbook we've manually saved numbers from the operaters in.</td>\n",
       "    </tr>\n",
       "  </tbody>\n",
       "</table>\n",
       "</div>"
      ],
      "text/plain": [
       "                        name organization  active  \\\n",
       "source                                              \n",
       "boardings_xlsx  MTS and NTCD     Caltrans    True   \n",
       "\n",
       "                                                                                                 notes  \n",
       "source                                                                                                  \n",
       "boardings_xlsx  Best source we have was a workbook we've manually saved numbers from the operaters in.  "
      ]
     },
     "execution_count": 40,
     "metadata": {},
     "output_type": "execute_result"
    }
   ],
   "source": [
    "docs.list_sources(\n",
    "    indicator=INDICATOR,\n",
    "    indicators_xlsx_path=CONFIG['indicators_xlsx_path'],\n",
    ")"
   ]
  },
  {
   "cell_type": "code",
   "execution_count": 41,
   "metadata": {},
   "outputs": [
    {
     "data": {
      "text/html": [
       "<div>\n",
       "<style scoped>\n",
       "    .dataframe tbody tr th:only-of-type {\n",
       "        vertical-align: middle;\n",
       "    }\n",
       "\n",
       "    .dataframe tbody tr th {\n",
       "        vertical-align: top;\n",
       "    }\n",
       "\n",
       "    .dataframe thead th {\n",
       "        text-align: right;\n",
       "    }\n",
       "</style>\n",
       "<table border=\"1\" class=\"dataframe\">\n",
       "  <thead>\n",
       "    <tr style=\"text-align: right;\">\n",
       "      <th></th>\n",
       "      <th>step</th>\n",
       "    </tr>\n",
       "  </thead>\n",
       "  <tbody>\n",
       "    <tr>\n",
       "      <th>0</th>\n",
       "      <td>Extract from legacy PM data.</td>\n",
       "    </tr>\n",
       "    <tr>\n",
       "      <th>1</th>\n",
       "      <td>Calculate new fiscal year from workbooks for monthly transit operator boardings.</td>\n",
       "    </tr>\n",
       "  </tbody>\n",
       "</table>\n",
       "</div>"
      ],
      "text/plain": [
       "                                                                               step\n",
       "0                                                      Extract from legacy PM data.\n",
       "1  Calculate new fiscal year from workbooks for monthly transit operator boardings."
      ]
     },
     "execution_count": 41,
     "metadata": {},
     "output_type": "execute_result"
    }
   ],
   "source": [
    "steps = docs.list_update_steps(\n",
    "    indicator=INDICATOR,\n",
    "    indicators_xlsx_path=CONFIG['indicators_xlsx_path'],\n",
    ")\n",
    "steps"
   ]
  },
  {
   "cell_type": "code",
   "execution_count": 42,
   "metadata": {},
   "outputs": [
    {
     "data": {
      "text/html": [
       "<div>\n",
       "<style scoped>\n",
       "    .dataframe tbody tr th:only-of-type {\n",
       "        vertical-align: middle;\n",
       "    }\n",
       "\n",
       "    .dataframe tbody tr th {\n",
       "        vertical-align: top;\n",
       "    }\n",
       "\n",
       "    .dataframe thead th {\n",
       "        text-align: right;\n",
       "    }\n",
       "</style>\n",
       "<table border=\"1\" class=\"dataframe\">\n",
       "  <thead>\n",
       "    <tr style=\"text-align: right;\">\n",
       "      <th></th>\n",
       "      <th>author</th>\n",
       "      <th>note</th>\n",
       "    </tr>\n",
       "  </thead>\n",
       "  <tbody>\n",
       "    <tr>\n",
       "      <th>0</th>\n",
       "      <td>TAN</td>\n",
       "      <td>NaN</td>\n",
       "    </tr>\n",
       "    <tr>\n",
       "      <th>1</th>\n",
       "      <td>TAN</td>\n",
       "      <td>NaN</td>\n",
       "    </tr>\n",
       "  </tbody>\n",
       "</table>\n",
       "</div>"
      ],
      "text/plain": [
       "  author note\n",
       "0    TAN  NaN\n",
       "1    TAN  NaN"
      ]
     },
     "execution_count": 42,
     "metadata": {},
     "output_type": "execute_result"
    }
   ],
   "source": [
    "docs.list_remarks(\n",
    "    indicator=INDICATOR,\n",
    "    indicators_xlsx_path=CONFIG['indicators_xlsx_path'],\n",
    ")"
   ]
  },
  {
   "cell_type": "markdown",
   "metadata": {},
   "source": [
    "### Step 0: Extract legacy data"
   ]
  },
  {
   "cell_type": "code",
   "execution_count": 43,
   "metadata": {},
   "outputs": [
    {
     "data": {
      "text/plain": [
       "step    Extract from legacy PM data.\n",
       "Name: 0, dtype: object"
      ]
     },
     "metadata": {},
     "output_type": "display_data"
    }
   ],
   "source": [
    "display(steps.loc[0])"
   ]
  },
  {
   "cell_type": "code",
   "execution_count": 44,
   "metadata": {},
   "outputs": [
    {
     "data": {
      "text/html": [
       "<div>\n",
       "<style scoped>\n",
       "    .dataframe tbody tr th:only-of-type {\n",
       "        vertical-align: middle;\n",
       "    }\n",
       "\n",
       "    .dataframe tbody tr th {\n",
       "        vertical-align: top;\n",
       "    }\n",
       "\n",
       "    .dataframe thead th {\n",
       "        text-align: right;\n",
       "    }\n",
       "</style>\n",
       "<table border=\"1\" class=\"dataframe\">\n",
       "  <thead>\n",
       "    <tr style=\"text-align: right;\">\n",
       "      <th></th>\n",
       "      <th>boardings</th>\n",
       "    </tr>\n",
       "    <tr>\n",
       "      <th>year</th>\n",
       "      <th></th>\n",
       "    </tr>\n",
       "  </thead>\n",
       "  <tbody>\n",
       "    <tr>\n",
       "      <th>2004-01-01</th>\n",
       "      <td>89097814</td>\n",
       "    </tr>\n",
       "    <tr>\n",
       "      <th>2005-01-01</th>\n",
       "      <td>89215818</td>\n",
       "    </tr>\n",
       "    <tr>\n",
       "      <th>2006-01-01</th>\n",
       "      <td>94816260</td>\n",
       "    </tr>\n",
       "    <tr>\n",
       "      <th>2007-01-01</th>\n",
       "      <td>97073041</td>\n",
       "    </tr>\n",
       "    <tr>\n",
       "      <th>2008-01-01</th>\n",
       "      <td>102930179</td>\n",
       "    </tr>\n",
       "    <tr>\n",
       "      <th>2009-01-01</th>\n",
       "      <td>104070965</td>\n",
       "    </tr>\n",
       "    <tr>\n",
       "      <th>2010-01-01</th>\n",
       "      <td>93552921</td>\n",
       "    </tr>\n",
       "    <tr>\n",
       "      <th>2011-01-01</th>\n",
       "      <td>95674258</td>\n",
       "    </tr>\n",
       "    <tr>\n",
       "      <th>2012-01-01</th>\n",
       "      <td>100083143</td>\n",
       "    </tr>\n",
       "    <tr>\n",
       "      <th>2013-01-01</th>\n",
       "      <td>96974848</td>\n",
       "    </tr>\n",
       "    <tr>\n",
       "      <th>2014-01-01</th>\n",
       "      <td>107382468</td>\n",
       "    </tr>\n",
       "    <tr>\n",
       "      <th>2015-01-01</th>\n",
       "      <td>109449879</td>\n",
       "    </tr>\n",
       "    <tr>\n",
       "      <th>2016-01-01</th>\n",
       "      <td>104544364</td>\n",
       "    </tr>\n",
       "    <tr>\n",
       "      <th>2017-01-01</th>\n",
       "      <td>99257178</td>\n",
       "    </tr>\n",
       "    <tr>\n",
       "      <th>2018-01-01</th>\n",
       "      <td>95884301</td>\n",
       "    </tr>\n",
       "    <tr>\n",
       "      <th>2019-01-01</th>\n",
       "      <td>95580056</td>\n",
       "    </tr>\n",
       "    <tr>\n",
       "      <th>2020-01-01</th>\n",
       "      <td>79400443</td>\n",
       "    </tr>\n",
       "  </tbody>\n",
       "</table>\n",
       "</div>"
      ],
      "text/plain": [
       "            boardings\n",
       "year                 \n",
       "2004-01-01   89097814\n",
       "2005-01-01   89215818\n",
       "2006-01-01   94816260\n",
       "2007-01-01   97073041\n",
       "2008-01-01  102930179\n",
       "2009-01-01  104070965\n",
       "2010-01-01   93552921\n",
       "2011-01-01   95674258\n",
       "2012-01-01  100083143\n",
       "2013-01-01   96974848\n",
       "2014-01-01  107382468\n",
       "2015-01-01  109449879\n",
       "2016-01-01  104544364\n",
       "2017-01-01   99257178\n",
       "2018-01-01   95884301\n",
       "2019-01-01   95580056\n",
       "2020-01-01   79400443"
      ]
     },
     "execution_count": 44,
     "metadata": {},
     "output_type": "execute_result"
    }
   ],
   "source": [
    "legacy_boardings_data = (\n",
    "    pd.read_excel(\n",
    "        CONFIG['legacy_xlsx_path'],\n",
    "        CONFIG['legacy_sheet'],\n",
    "        skiprows=3,\n",
    "        nrows=17,\n",
    "        usecols='A,B',\n",
    "    )\n",
    "    .rename(columns={'Unnamed: 0': 'year', 'Boardings': 'boardings'})\n",
    "    .assign(year=lambda df: pd.to_datetime(df.year, format='%Y'))\n",
    "    .set_index('year')\n",
    ")\n",
    "legacy_boardings_data"
   ]
  },
  {
   "cell_type": "markdown",
   "metadata": {},
   "source": [
    "### Step 1: Caclulate and combine"
   ]
  },
  {
   "cell_type": "code",
   "execution_count": 45,
   "metadata": {},
   "outputs": [
    {
     "data": {
      "text/plain": [
       "step    Calculate new fiscal year from workbooks for monthly transit operator boardings.\n",
       "Name: 1, dtype: object"
      ]
     },
     "metadata": {},
     "output_type": "display_data"
    }
   ],
   "source": [
    "display(steps.loc[1])"
   ]
  },
  {
   "cell_type": "code",
   "execution_count": 46,
   "metadata": {},
   "outputs": [
    {
     "data": {
      "text/plain": [
       "boardings    39214848.0\n",
       "dtype: float64"
      ]
     },
     "execution_count": 46,
     "metadata": {},
     "output_type": "execute_result"
    }
   ],
   "source": [
    "mts_boardings_fy2021 = (\n",
    "    pd.read_excel(\n",
    "        CONFIG['raw_dir']/'Ridership by Month FY19-FY22_MTS.xlsx',\n",
    "        nrows=48,\n",
    "        usecols='A:D',\n",
    "    )\n",
    "    .melt('YRMO', var_name='mode', value_name='boardings')\n",
    "    .query(\"`YRMO` >= '2020-07' and `YRMO` <= '2021-06'\")\n",
    "    .drop(columns='mode')\n",
    "    .rename(columns={'YRMO': 'year'})\n",
    "    .assign(year=lambda df: pd.to_datetime(df.year, format='%Y-%m'))\n",
    "    .set_index('year')\n",
    "    .sum()\n",
    ")\n",
    "mts_boardings_fy2021"
   ]
  },
  {
   "cell_type": "code",
   "execution_count": 47,
   "metadata": {},
   "outputs": [
    {
     "data": {
      "text/plain": [
       "boardings    58428534.05\n",
       "dtype: float64"
      ]
     },
     "execution_count": 47,
     "metadata": {},
     "output_type": "execute_result"
    }
   ],
   "source": [
    "mts_boardings_fy2022 = (\n",
    "    pd.read_excel(\n",
    "        CONFIG['raw_dir']/'Ridership by Month FY19-FY22_MTS.xlsx',\n",
    "        nrows=48,\n",
    "        usecols='A:D',\n",
    "    )\n",
    "    .melt('YRMO', var_name='mode', value_name='boardings')\n",
    "    .query(\"`YRMO` >= '2021-07' and `YRMO` <= '2022-06'\")\n",
    "    .drop(columns='mode')\n",
    "    .rename(columns={'YRMO': 'year'})\n",
    "    .assign(year=lambda df: pd.to_datetime(df.year, format='%Y-%m'))\n",
    "    .set_index('year')\n",
    "    .sum()\n",
    ")\n",
    "mts_boardings_fy2022"
   ]
  },
  {
   "cell_type": "code",
   "execution_count": 48,
   "metadata": {},
   "outputs": [
    {
     "data": {
      "text/plain": [
       "boardings    4457760\n",
       "dtype: int64"
      ]
     },
     "execution_count": 48,
     "metadata": {},
     "output_type": "execute_result"
    }
   ],
   "source": [
    "ntcd_boardings_fy2021 = (\n",
    "    pd.read_excel(\n",
    "        CONFIG['raw_dir']/'Ridership by Month FY19-FY22_NCTD.xlsx',\n",
    "        sheet_name='FY 2022 vs Prior Year',\n",
    "        skiprows=7,\n",
    "        nrows=12,\n",
    "        usecols='AC',\n",
    "    )\n",
    "    .rename(columns={'FY21.5': 'boardings'})\n",
    "    .sum()\n",
    ")\n",
    "ntcd_boardings_fy2021"
   ]
  },
  {
   "cell_type": "code",
   "execution_count": 49,
   "metadata": {},
   "outputs": [
    {
     "data": {
      "text/plain": [
       "boardings    5935648\n",
       "dtype: int64"
      ]
     },
     "execution_count": 49,
     "metadata": {},
     "output_type": "execute_result"
    }
   ],
   "source": [
    "ntcd_boardings_fy2022 = (\n",
    "    pd.read_excel(\n",
    "        CONFIG['raw_dir']/'Ridership by Month FY19-FY22_NCTD.xlsx',\n",
    "        sheet_name='FY 2022 vs Prior Year',\n",
    "        skiprows=7,\n",
    "        nrows=12,\n",
    "        usecols='AB',\n",
    "    )\n",
    "    .rename(columns={'FY22.5': 'boardings'})\n",
    "    .sum()\n",
    ")\n",
    "ntcd_boardings_fy2022"
   ]
  },
  {
   "cell_type": "code",
   "execution_count": 50,
   "metadata": {},
   "outputs": [
    {
     "data": {
      "text/html": [
       "<div>\n",
       "<style scoped>\n",
       "    .dataframe tbody tr th:only-of-type {\n",
       "        vertical-align: middle;\n",
       "    }\n",
       "\n",
       "    .dataframe tbody tr th {\n",
       "        vertical-align: top;\n",
       "    }\n",
       "\n",
       "    .dataframe thead th {\n",
       "        text-align: right;\n",
       "    }\n",
       "</style>\n",
       "<table border=\"1\" class=\"dataframe\">\n",
       "  <thead>\n",
       "    <tr style=\"text-align: right;\">\n",
       "      <th></th>\n",
       "      <th>boardings</th>\n",
       "    </tr>\n",
       "    <tr>\n",
       "      <th>year</th>\n",
       "      <th></th>\n",
       "    </tr>\n",
       "  </thead>\n",
       "  <tbody>\n",
       "    <tr>\n",
       "      <th>2021-01-01</th>\n",
       "      <td>43672608.00</td>\n",
       "    </tr>\n",
       "    <tr>\n",
       "      <th>2022-01-01</th>\n",
       "      <td>64364182.05</td>\n",
       "    </tr>\n",
       "  </tbody>\n",
       "</table>\n",
       "</div>"
      ],
      "text/plain": [
       "              boardings\n",
       "year                   \n",
       "2021-01-01  43672608.00\n",
       "2022-01-01  64364182.05"
      ]
     },
     "execution_count": 50,
     "metadata": {},
     "output_type": "execute_result"
    }
   ],
   "source": [
    "new_boardings_data = pd.DataFrame(\n",
    "    data={\n",
    "        'boardings': [\n",
    "            (mts_boardings_fy2021[0] + ntcd_boardings_fy2021[0]),\n",
    "            (mts_boardings_fy2022[0] + ntcd_boardings_fy2022[0]),\n",
    "        ]\n",
    "    },\n",
    "    index=(\n",
    "        pd.Index(\n",
    "            [\n",
    "                datetime(2021, 1, 1),\n",
    "                datetime(2022, 1, 1),\n",
    "            ],\n",
    "            name='year'\n",
    "        )\n",
    "    )\n",
    ")\n",
    "new_boardings_data"
   ]
  },
  {
   "cell_type": "code",
   "execution_count": 51,
   "metadata": {},
   "outputs": [],
   "source": [
    "transit_boardings = pd.concat([legacy_boardings_data, new_boardings_data])"
   ]
  },
  {
   "cell_type": "markdown",
   "metadata": {},
   "source": [
    "### Save Data"
   ]
  },
  {
   "cell_type": "code",
   "execution_count": 52,
   "metadata": {},
   "outputs": [
    {
     "data": {
      "text/markdown": [
       "#### Clean data path"
      ],
      "text/plain": [
       "<IPython.core.display.Markdown object>"
      ]
     },
     "metadata": {},
     "output_type": "display_data"
    },
    {
     "data": {
      "text/markdown": [
       "[C:/Users/tan/OneDrive - San Diego Association of Governments/Performance Monitoring/Regional Performance Monitoring/2023/clean/transportation/transit/transit_boardings](C:/Users/tan/OneDrive - San Diego Association of Governments/Performance Monitoring/Regional Performance Monitoring/2023/clean/transportation/transit/transit_boardings)"
      ],
      "text/plain": [
       "<IPython.core.display.Markdown object>"
      ]
     },
     "metadata": {},
     "output_type": "display_data"
    }
   ],
   "source": [
    "display(Markdown('#### Clean data path'))\n",
    "clean_dir_path = str(CONFIG['clean_dir']).replace('\\\\', '/')\n",
    "display(Markdown(f\"[{clean_dir_path}]({clean_dir_path})\"))"
   ]
  },
  {
   "cell_type": "code",
   "execution_count": 53,
   "metadata": {},
   "outputs": [],
   "source": [
    "transit_boardings.to_csv(\n",
    "    CONFIG['clean_dir']\n",
    "    / f'{INDICATOR}_odp.csv'\n",
    ")"
   ]
  }
 ],
 "metadata": {
  "kernelspec": {
   "display_name": ".venv",
   "language": "python",
   "name": "python3"
  },
  "language_info": {
   "codemirror_mode": {
    "name": "ipython",
    "version": 3
   },
   "file_extension": ".py",
   "mimetype": "text/x-python",
   "name": "python",
   "nbconvert_exporter": "python",
   "pygments_lexer": "ipython3",
   "version": "3.11.3"
  },
  "orig_nbformat": 4
 },
 "nbformat": 4,
 "nbformat_minor": 2
}
