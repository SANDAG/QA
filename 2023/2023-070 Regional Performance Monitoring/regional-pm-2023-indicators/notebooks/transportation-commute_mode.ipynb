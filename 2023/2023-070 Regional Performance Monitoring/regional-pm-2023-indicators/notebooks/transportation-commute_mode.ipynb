{
 "cells": [
  {
   "cell_type": "code",
   "execution_count": 2,
   "metadata": {},
   "outputs": [
    {
     "name": "stderr",
     "output_type": "stream",
     "text": [
      "c:\\Users\\tan\\src\\regional-pm-2023\\.venv\\Lib\\site-packages\\tqdm\\auto.py:21: TqdmWarning: IProgress not found. Please update jupyter and ipywidgets. See https://ipywidgets.readthedocs.io/en/stable/user_install.html\n",
      "  from .autonotebook import tqdm as notebook_tqdm\n"
     ]
    },
    {
     "data": {
      "text/markdown": [
       "## Raw data path"
      ],
      "text/plain": [
       "<IPython.core.display.Markdown object>"
      ]
     },
     "metadata": {},
     "output_type": "display_data"
    },
    {
     "data": {
      "text/markdown": [
       "[C:/Users/tan/src/regional-pm-2023/data/raw/transportation/commute/commute_mode](C:/Users/tan/src/regional-pm-2023/data/raw/transportation/commute/commute_mode)"
      ],
      "text/plain": [
       "<IPython.core.display.Markdown object>"
      ]
     },
     "metadata": {},
     "output_type": "display_data"
    }
   ],
   "source": [
    "%reload_ext autoreload\n",
    "%autoreload 2\n",
    "\n",
    "from IPython.core.display import Markdown\n",
    "from tqdm.auto import tqdm\n",
    "import config\n",
    "import docs\n",
    "import pandas as pd\n",
    "import requests\n",
    "import acs\n",
    "\n",
    "pd.set_option('display.max_colwidth', None)\n",
    "\n",
    "INDICATOR = 'commute_mode'\n",
    "CONFIG = config.get_config(INDICATOR, '../config.toml')\n",
    "CENSUS_API_KEY = CONFIG['acs_api_key']\n",
    "\n",
    "display(Markdown('## Raw data path'))\n",
    "raw_dir_path = str(CONFIG['raw_dir']).replace('\\\\', '/')\n",
    "display(Markdown(f\"[{raw_dir_path}]({raw_dir_path})\"))\n"
   ]
  },
  {
   "cell_type": "markdown",
   "metadata": {},
   "source": [
    "# Transportation Planning: Commute\n",
    "\n",
    "## Commute Mode"
   ]
  },
  {
   "cell_type": "code",
   "execution_count": 3,
   "metadata": {},
   "outputs": [
    {
     "data": {
      "text/markdown": [
       "Typical resident commute mode.\n",
       "\n",
       "nan"
      ],
      "text/plain": [
       "<IPython.core.display.Markdown object>"
      ]
     },
     "execution_count": 3,
     "metadata": {},
     "output_type": "execute_result"
    }
   ],
   "source": [
    "docs.describe_indicator(\n",
    "    indicator=INDICATOR,\n",
    "    indicators_xlsx_path=CONFIG['indicators_xlsx_path'],\n",
    ")"
   ]
  },
  {
   "cell_type": "code",
   "execution_count": 4,
   "metadata": {},
   "outputs": [
    {
     "data": {
      "text/html": [
       "<div>\n",
       "<style scoped>\n",
       "    .dataframe tbody tr th:only-of-type {\n",
       "        vertical-align: middle;\n",
       "    }\n",
       "\n",
       "    .dataframe tbody tr th {\n",
       "        vertical-align: top;\n",
       "    }\n",
       "\n",
       "    .dataframe thead th {\n",
       "        text-align: right;\n",
       "    }\n",
       "</style>\n",
       "<table border=\"1\" class=\"dataframe\">\n",
       "  <thead>\n",
       "    <tr style=\"text-align: right;\">\n",
       "      <th></th>\n",
       "      <th>name</th>\n",
       "      <th>description</th>\n",
       "      <th>type</th>\n",
       "    </tr>\n",
       "    <tr>\n",
       "      <th>column</th>\n",
       "      <th></th>\n",
       "      <th></th>\n",
       "      <th></th>\n",
       "    </tr>\n",
       "  </thead>\n",
       "  <tbody>\n",
       "    <tr>\n",
       "      <th>year</th>\n",
       "      <td>Year</td>\n",
       "      <td>Year of record.</td>\n",
       "      <td>datetime</td>\n",
       "    </tr>\n",
       "    <tr>\n",
       "      <th>geography</th>\n",
       "      <td>Geography</td>\n",
       "      <td>Geography of record (\"United States\", \"California\", or \"San Diego\").</td>\n",
       "      <td>string</td>\n",
       "    </tr>\n",
       "    <tr>\n",
       "      <th>mode</th>\n",
       "      <td>Mode</td>\n",
       "      <td>Transportation mode of record (\"Drive Alone\", \"Car or Vanpool\", \"Transit\" ,\"Walk\" ,\"Bike\", \"Work at Place of Residence\",  or\"Other\").</td>\n",
       "      <td>string</td>\n",
       "    </tr>\n",
       "    <tr>\n",
       "      <th>mode_share</th>\n",
       "      <td>Mode Share</td>\n",
       "      <td>Percentage of residents in a given year and geography commuting with a given transportation mode.</td>\n",
       "      <td>float</td>\n",
       "    </tr>\n",
       "  </tbody>\n",
       "</table>\n",
       "</div>"
      ],
      "text/plain": [
       "                  name  \\\n",
       "column                   \n",
       "year              Year   \n",
       "geography    Geography   \n",
       "mode              Mode   \n",
       "mode_share  Mode Share   \n",
       "\n",
       "                                                                                                                                      description  \\\n",
       "column                                                                                                                                              \n",
       "year                                                                                                                              Year of record.   \n",
       "geography                                                                    Geography of record (\"United States\", \"California\", or \"San Diego\").   \n",
       "mode        Transportation mode of record (\"Drive Alone\", \"Car or Vanpool\", \"Transit\" ,\"Walk\" ,\"Bike\", \"Work at Place of Residence\",  or\"Other\").   \n",
       "mode_share                                      Percentage of residents in a given year and geography commuting with a given transportation mode.   \n",
       "\n",
       "                type  \n",
       "column                \n",
       "year        datetime  \n",
       "geography     string  \n",
       "mode          string  \n",
       "mode_share     float  "
      ]
     },
     "execution_count": 4,
     "metadata": {},
     "output_type": "execute_result"
    }
   ],
   "source": [
    "docs.list_schema(\n",
    "    indicator=INDICATOR,\n",
    "    indicators_xlsx_path=CONFIG['indicators_xlsx_path'],\n",
    ")"
   ]
  },
  {
   "cell_type": "code",
   "execution_count": 5,
   "metadata": {},
   "outputs": [
    {
     "data": {
      "text/html": [
       "<div>\n",
       "<style scoped>\n",
       "    .dataframe tbody tr th:only-of-type {\n",
       "        vertical-align: middle;\n",
       "    }\n",
       "\n",
       "    .dataframe tbody tr th {\n",
       "        vertical-align: top;\n",
       "    }\n",
       "\n",
       "    .dataframe thead th {\n",
       "        text-align: right;\n",
       "    }\n",
       "</style>\n",
       "<table border=\"1\" class=\"dataframe\">\n",
       "  <thead>\n",
       "    <tr style=\"text-align: right;\">\n",
       "      <th></th>\n",
       "      <th>name</th>\n",
       "      <th>organization</th>\n",
       "      <th>active</th>\n",
       "      <th>notes</th>\n",
       "    </tr>\n",
       "    <tr>\n",
       "      <th>source</th>\n",
       "      <th></th>\n",
       "      <th></th>\n",
       "      <th></th>\n",
       "      <th></th>\n",
       "    </tr>\n",
       "  </thead>\n",
       "  <tbody>\n",
       "    <tr>\n",
       "      <th>acs_B08301</th>\n",
       "      <td>American Community Survey API (B08301)</td>\n",
       "      <td>US  Census Bureau</td>\n",
       "      <td>1.0</td>\n",
       "      <td>NaN</td>\n",
       "    </tr>\n",
       "  </tbody>\n",
       "</table>\n",
       "</div>"
      ],
      "text/plain": [
       "                                              name       organization  active  \\\n",
       "source                                                                          \n",
       "acs_B08301  American Community Survey API (B08301)  US  Census Bureau     1.0   \n",
       "\n",
       "           notes  \n",
       "source            \n",
       "acs_B08301   NaN  "
      ]
     },
     "execution_count": 5,
     "metadata": {},
     "output_type": "execute_result"
    }
   ],
   "source": [
    "docs.list_sources(\n",
    "    indicator=INDICATOR,\n",
    "    indicators_xlsx_path=CONFIG['indicators_xlsx_path'],\n",
    ")"
   ]
  },
  {
   "cell_type": "code",
   "execution_count": 6,
   "metadata": {},
   "outputs": [
    {
     "data": {
      "text/html": [
       "<div>\n",
       "<style scoped>\n",
       "    .dataframe tbody tr th:only-of-type {\n",
       "        vertical-align: middle;\n",
       "    }\n",
       "\n",
       "    .dataframe tbody tr th {\n",
       "        vertical-align: top;\n",
       "    }\n",
       "\n",
       "    .dataframe thead th {\n",
       "        text-align: right;\n",
       "    }\n",
       "</style>\n",
       "<table border=\"1\" class=\"dataframe\">\n",
       "  <thead>\n",
       "    <tr style=\"text-align: right;\">\n",
       "      <th></th>\n",
       "      <th>step</th>\n",
       "    </tr>\n",
       "  </thead>\n",
       "  <tbody>\n",
       "    <tr>\n",
       "      <th>0</th>\n",
       "      <td>Download raw ACS data.</td>\n",
       "    </tr>\n",
       "    <tr>\n",
       "      <th>1</th>\n",
       "      <td>Transform raw ACS data (calculate percentages, summarize extra columns as Other)</td>\n",
       "    </tr>\n",
       "    <tr>\n",
       "      <th>2</th>\n",
       "      <td>Extract legacy PM data and combine it with new data.</td>\n",
       "    </tr>\n",
       "  </tbody>\n",
       "</table>\n",
       "</div>"
      ],
      "text/plain": [
       "                                                                               step\n",
       "0                                                            Download raw ACS data.\n",
       "1  Transform raw ACS data (calculate percentages, summarize extra columns as Other)\n",
       "2                              Extract legacy PM data and combine it with new data."
      ]
     },
     "execution_count": 6,
     "metadata": {},
     "output_type": "execute_result"
    }
   ],
   "source": [
    "steps = docs.list_update_steps(\n",
    "    indicator=INDICATOR,\n",
    "    indicators_xlsx_path=CONFIG['indicators_xlsx_path'],\n",
    ")\n",
    "steps"
   ]
  },
  {
   "cell_type": "code",
   "execution_count": 7,
   "metadata": {},
   "outputs": [
    {
     "data": {
      "text/html": [
       "<div>\n",
       "<style scoped>\n",
       "    .dataframe tbody tr th:only-of-type {\n",
       "        vertical-align: middle;\n",
       "    }\n",
       "\n",
       "    .dataframe tbody tr th {\n",
       "        vertical-align: top;\n",
       "    }\n",
       "\n",
       "    .dataframe thead th {\n",
       "        text-align: right;\n",
       "    }\n",
       "</style>\n",
       "<table border=\"1\" class=\"dataframe\">\n",
       "  <thead>\n",
       "    <tr style=\"text-align: right;\">\n",
       "      <th></th>\n",
       "      <th>author</th>\n",
       "      <th>note</th>\n",
       "    </tr>\n",
       "  </thead>\n",
       "  <tbody>\n",
       "    <tr>\n",
       "      <th>0</th>\n",
       "      <td>TAN</td>\n",
       "      <td>Public ACS data only goes back to 2010, so had to use legacy PM data 2005-2010.</td>\n",
       "    </tr>\n",
       "    <tr>\n",
       "      <th>1</th>\n",
       "      <td>TAN</td>\n",
       "      <td>US and California modes were never archived for more than the most recent year, so only had San Diego County data all the way back to 2005.</td>\n",
       "    </tr>\n",
       "  </tbody>\n",
       "</table>\n",
       "</div>"
      ],
      "text/plain": [
       "  author  \\\n",
       "0    TAN   \n",
       "1    TAN   \n",
       "\n",
       "                                                                                                                                          note  \n",
       "0                                                              Public ACS data only goes back to 2010, so had to use legacy PM data 2005-2010.  \n",
       "1  US and California modes were never archived for more than the most recent year, so only had San Diego County data all the way back to 2005.  "
      ]
     },
     "execution_count": 7,
     "metadata": {},
     "output_type": "execute_result"
    }
   ],
   "source": [
    "docs.list_remarks(\n",
    "    indicator=INDICATOR,\n",
    "    indicators_xlsx_path=CONFIG['indicators_xlsx_path'],\n",
    ")"
   ]
  },
  {
   "cell_type": "markdown",
   "metadata": {},
   "source": [
    "### Step 0: Download ACS data\n",
    "\n",
    "Note that finalized 2021 is not availible for 1 year ACS (and it may never be availible), and 2022 data isn't expected until sometime September 2023."
   ]
  },
  {
   "cell_type": "code",
   "execution_count": 8,
   "metadata": {},
   "outputs": [
    {
     "data": {
      "text/plain": [
       "step    Download raw ACS data.\n",
       "Name: 0, dtype: object"
      ]
     },
     "metadata": {},
     "output_type": "display_data"
    },
    {
     "data": {
      "text/html": [
       "<div>\n",
       "<style scoped>\n",
       "    .dataframe tbody tr th:only-of-type {\n",
       "        vertical-align: middle;\n",
       "    }\n",
       "\n",
       "    .dataframe tbody tr th {\n",
       "        vertical-align: top;\n",
       "    }\n",
       "\n",
       "    .dataframe thead th {\n",
       "        text-align: right;\n",
       "    }\n",
       "</style>\n",
       "<table border=\"1\" class=\"dataframe\">\n",
       "  <thead>\n",
       "    <tr style=\"text-align: right;\">\n",
       "      <th></th>\n",
       "      <th>NAME</th>\n",
       "      <th>B08301_001E</th>\n",
       "      <th>B08301_003E</th>\n",
       "      <th>B08301_004E</th>\n",
       "      <th>B08301_010E</th>\n",
       "      <th>B08301_019E</th>\n",
       "      <th>B08301_018E</th>\n",
       "      <th>B08301_021E</th>\n",
       "      <th>state</th>\n",
       "      <th>county</th>\n",
       "      <th>us</th>\n",
       "      <th>year</th>\n",
       "    </tr>\n",
       "  </thead>\n",
       "  <tbody>\n",
       "    <tr>\n",
       "      <th>19</th>\n",
       "      <td>United States</td>\n",
       "      <td>156941346.0</td>\n",
       "      <td>119153349.0</td>\n",
       "      <td>13900979.0</td>\n",
       "      <td>7778444.0</td>\n",
       "      <td>4153050.0</td>\n",
       "      <td>805722.0</td>\n",
       "      <td>8970800.0</td>\n",
       "      <td>NaN</td>\n",
       "      <td>NaN</td>\n",
       "      <td>1.0</td>\n",
       "      <td>2019-01-01</td>\n",
       "    </tr>\n",
       "    <tr>\n",
       "      <th>20</th>\n",
       "      <td>San Diego County, California</td>\n",
       "      <td>1591072.0</td>\n",
       "      <td>1011792.0</td>\n",
       "      <td>115574.0</td>\n",
       "      <td>27527.0</td>\n",
       "      <td>50559.0</td>\n",
       "      <td>6077.0</td>\n",
       "      <td>351947.0</td>\n",
       "      <td>6.0</td>\n",
       "      <td>73.0</td>\n",
       "      <td>NaN</td>\n",
       "      <td>2021-01-01</td>\n",
       "    </tr>\n",
       "    <tr>\n",
       "      <th>21</th>\n",
       "      <td>United States</td>\n",
       "      <td>154314179.0</td>\n",
       "      <td>104650121.0</td>\n",
       "      <td>12018354.0</td>\n",
       "      <td>3793329.0</td>\n",
       "      <td>3399405.0</td>\n",
       "      <td>616153.0</td>\n",
       "      <td>27568098.0</td>\n",
       "      <td>NaN</td>\n",
       "      <td>NaN</td>\n",
       "      <td>1.0</td>\n",
       "      <td>2021-01-01</td>\n",
       "    </tr>\n",
       "  </tbody>\n",
       "</table>\n",
       "</div>"
      ],
      "text/plain": [
       "                            NAME  B08301_001E  B08301_003E  B08301_004E  \\\n",
       "19                 United States  156941346.0  119153349.0   13900979.0   \n",
       "20  San Diego County, California    1591072.0    1011792.0     115574.0   \n",
       "21                 United States  154314179.0  104650121.0   12018354.0   \n",
       "\n",
       "    B08301_010E  B08301_019E  B08301_018E  B08301_021E  state  county   us  \\\n",
       "19    7778444.0    4153050.0     805722.0    8970800.0    NaN     NaN  1.0   \n",
       "20      27527.0      50559.0       6077.0     351947.0    6.0    73.0  NaN   \n",
       "21    3793329.0    3399405.0     616153.0   27568098.0    NaN     NaN  1.0   \n",
       "\n",
       "          year  \n",
       "19  2019-01-01  \n",
       "20  2021-01-01  \n",
       "21  2021-01-01  "
      ]
     },
     "execution_count": 8,
     "metadata": {},
     "output_type": "execute_result"
    }
   ],
   "source": [
    "display(steps.loc[0])\n",
    "\n",
    "# Per https://api.census.gov/data/2021/acs/acs1/variables.html\n",
    "columns = {\n",
    "    'B08301_001E': 'Total',\n",
    "    'B08301_003E': 'Drive Alone',\n",
    "    'B08301_004E': 'Car or Vanpool',\n",
    "    'B08301_010E': 'Transit',\n",
    "    'B08301_019E': 'Walk',\n",
    "    'B08301_018E': 'Bike',\n",
    "    'B08301_021E': 'Work at Place of Residence',\n",
    "}\n",
    "\n",
    "if not (CONFIG['raw_dir']/'B08301.csv').exists():\n",
    "    raw_data = acs.download_detail_table_acs_data(\n",
    "        CENSUS_API_KEY,\n",
    "        years=list(range(2010, 2020)) + [2021],\n",
    "        columns=list(columns.keys()),\n",
    "    )\n",
    "    raw_data.to_csv(CONFIG['raw_dir']/'B08301.csv', index=False)\n",
    "else:\n",
    "    raw_data = pd.read_csv(CONFIG['raw_dir']/'B08301.csv')\n",
    "\n",
    "raw_data.tail(3)"
   ]
  },
  {
   "cell_type": "markdown",
   "metadata": {},
   "source": [
    "### Step 1: Transform ACS data"
   ]
  },
  {
   "cell_type": "code",
   "execution_count": 9,
   "metadata": {},
   "outputs": [
    {
     "data": {
      "text/plain": [
       "step    Transform raw ACS data (calculate percentages, summarize extra columns as Other)\n",
       "Name: 1, dtype: object"
      ]
     },
     "metadata": {},
     "output_type": "display_data"
    }
   ],
   "source": [
    "display(steps.loc[1])"
   ]
  },
  {
   "cell_type": "code",
   "execution_count": 10,
   "metadata": {},
   "outputs": [],
   "source": [
    "# Clean raw data\n",
    "commute_mode = (\n",
    "    raw_data\n",
    "    .drop(columns=['us', 'state', 'county'])\n",
    "    .rename(columns={'NAME': 'geography'} | columns)\n",
    "    .melt(\n",
    "        id_vars=['year', 'geography'],\n",
    "        var_name='mode',\n",
    "        value_name='mode_share',\n",
    "    )\n",
    "    .assign(year=lambda df: pd.to_datetime(df.year, format='%Y-%m-%d'))\n",
    "    .set_index(['year', 'geography', 'mode'])\n",
    "    .rename({'San Diego County, California': 'San Diego County'})\n",
    ")\n",
    "\n",
    "# convert to percentages out of Total\n",
    "total = commute_mode.xs('Total', level='mode')\n",
    "commute_mode = (commute_mode / total)\n",
    "commute_mode = commute_mode.drop('Total', level='mode')\n",
    "\n",
    "# Add an other category for the remaining percentages\n",
    "other = (\n",
    "    1.00 - commute_mode\n",
    "    .groupby(['year', 'geography'])\n",
    "    .sum()\n",
    "    .assign(mode='Other')\n",
    "    .set_index('mode', append=True)\n",
    ")"
   ]
  },
  {
   "cell_type": "markdown",
   "metadata": {},
   "source": [
    "### Step 2: Extract and combine legacy data."
   ]
  },
  {
   "cell_type": "code",
   "execution_count": 11,
   "metadata": {},
   "outputs": [
    {
     "data": {
      "text/plain": [
       "step    Extract legacy PM data and combine it with new data.\n",
       "Name: 2, dtype: object"
      ]
     },
     "metadata": {},
     "output_type": "display_data"
    }
   ],
   "source": [
    "display(steps.loc[2])"
   ]
  },
  {
   "cell_type": "code",
   "execution_count": 12,
   "metadata": {},
   "outputs": [
    {
     "data": {
      "text/html": [
       "<div>\n",
       "<style scoped>\n",
       "    .dataframe tbody tr th:only-of-type {\n",
       "        vertical-align: middle;\n",
       "    }\n",
       "\n",
       "    .dataframe tbody tr th {\n",
       "        vertical-align: top;\n",
       "    }\n",
       "\n",
       "    .dataframe thead th {\n",
       "        text-align: right;\n",
       "    }\n",
       "</style>\n",
       "<table border=\"1\" class=\"dataframe\">\n",
       "  <thead>\n",
       "    <tr style=\"text-align: right;\">\n",
       "      <th></th>\n",
       "      <th></th>\n",
       "      <th></th>\n",
       "      <th>mode_share</th>\n",
       "    </tr>\n",
       "    <tr>\n",
       "      <th>year</th>\n",
       "      <th>geography</th>\n",
       "      <th>mode</th>\n",
       "      <th></th>\n",
       "    </tr>\n",
       "  </thead>\n",
       "  <tbody>\n",
       "    <tr>\n",
       "      <th>2007-01-01</th>\n",
       "      <th>San Diego County</th>\n",
       "      <th>Other</th>\n",
       "      <td>0.010656</td>\n",
       "    </tr>\n",
       "    <tr>\n",
       "      <th>2008-01-01</th>\n",
       "      <th>San Diego County</th>\n",
       "      <th>Other</th>\n",
       "      <td>0.012570</td>\n",
       "    </tr>\n",
       "    <tr>\n",
       "      <th>2009-01-01</th>\n",
       "      <th>San Diego County</th>\n",
       "      <th>Other</th>\n",
       "      <td>0.012188</td>\n",
       "    </tr>\n",
       "  </tbody>\n",
       "</table>\n",
       "</div>"
      ],
      "text/plain": [
       "                                   mode_share\n",
       "year       geography        mode             \n",
       "2007-01-01 San Diego County Other    0.010656\n",
       "2008-01-01 San Diego County Other    0.012570\n",
       "2009-01-01 San Diego County Other    0.012188"
      ]
     },
     "execution_count": 12,
     "metadata": {},
     "output_type": "execute_result"
    }
   ],
   "source": [
    "# Read in legacy data (only availible for San Diego County)\n",
    "legacy_data = (\n",
    "    pd.read_excel(\n",
    "        CONFIG['legacy_xlsx_path'],\n",
    "        sheet_name=CONFIG['legacy_sheet'],\n",
    "        usecols='A:H',\n",
    "        skiprows=3,\n",
    "        nrows=5,\n",
    "    )\n",
    "    .rename(columns={'Unnamed: 0': 'year'})\n",
    "    .melt('year', var_name='mode', value_name='mode_share')\n",
    "    .assign(geography='San Diego County')\n",
    "    .assign(year=lambda df: pd.to_datetime(df.year, format='%Y'))\n",
    "    .set_index(['year', 'geography', 'mode'])\n",
    "    .rename({'San Diego': 'San Diego County'})\n",
    ")\n",
    "legacy_data"
   ]
  },
  {
   "cell_type": "code",
   "execution_count": 13,
   "metadata": {},
   "outputs": [
    {
     "data": {
      "text/html": [
       "<div>\n",
       "<style scoped>\n",
       "    .dataframe tbody tr th:only-of-type {\n",
       "        vertical-align: middle;\n",
       "    }\n",
       "\n",
       "    .dataframe tbody tr th {\n",
       "        vertical-align: top;\n",
       "    }\n",
       "\n",
       "    .dataframe thead th {\n",
       "        text-align: right;\n",
       "    }\n",
       "</style>\n",
       "<table border=\"1\" class=\"dataframe\">\n",
       "  <thead>\n",
       "    <tr style=\"text-align: right;\">\n",
       "      <th></th>\n",
       "      <th></th>\n",
       "      <th></th>\n",
       "      <th>mode_share</th>\n",
       "    </tr>\n",
       "    <tr>\n",
       "      <th>year</th>\n",
       "      <th>geography</th>\n",
       "      <th>mode</th>\n",
       "      <th></th>\n",
       "    </tr>\n",
       "  </thead>\n",
       "  <tbody>\n",
       "    <tr>\n",
       "      <th rowspan=\"9\" valign=\"top\">2021-01-01</th>\n",
       "      <th rowspan=\"2\" valign=\"top\">San Diego County</th>\n",
       "      <th>Walk</th>\n",
       "      <td>0.031777</td>\n",
       "    </tr>\n",
       "    <tr>\n",
       "      <th>Work at Place of Residence</th>\n",
       "      <td>0.221201</td>\n",
       "    </tr>\n",
       "    <tr>\n",
       "      <th rowspan=\"7\" valign=\"top\">United States</th>\n",
       "      <th>Bike</th>\n",
       "      <td>0.003993</td>\n",
       "    </tr>\n",
       "    <tr>\n",
       "      <th>Car or Vanpool</th>\n",
       "      <td>0.077882</td>\n",
       "    </tr>\n",
       "    <tr>\n",
       "      <th>Drive Alone</th>\n",
       "      <td>0.678163</td>\n",
       "    </tr>\n",
       "    <tr>\n",
       "      <th>Other</th>\n",
       "      <td>0.014702</td>\n",
       "    </tr>\n",
       "    <tr>\n",
       "      <th>Transit</th>\n",
       "      <td>0.024582</td>\n",
       "    </tr>\n",
       "    <tr>\n",
       "      <th>Walk</th>\n",
       "      <td>0.022029</td>\n",
       "    </tr>\n",
       "    <tr>\n",
       "      <th>Work at Place of Residence</th>\n",
       "      <td>0.178649</td>\n",
       "    </tr>\n",
       "  </tbody>\n",
       "</table>\n",
       "</div>"
      ],
      "text/plain": [
       "                                                        mode_share\n",
       "year       geography        mode                                  \n",
       "2021-01-01 San Diego County Walk                          0.031777\n",
       "                            Work at Place of Residence    0.221201\n",
       "           United States    Bike                          0.003993\n",
       "                            Car or Vanpool                0.077882\n",
       "                            Drive Alone                   0.678163\n",
       "                            Other                         0.014702\n",
       "                            Transit                       0.024582\n",
       "                            Walk                          0.022029\n",
       "                            Work at Place of Residence    0.178649"
      ]
     },
     "execution_count": 13,
     "metadata": {},
     "output_type": "execute_result"
    }
   ],
   "source": [
    "commute_mode = pd.concat([commute_mode, other, legacy_data]).sort_index()\n",
    "commute_mode.tail(9)"
   ]
  },
  {
   "cell_type": "markdown",
   "metadata": {},
   "source": [
    "### Save Data"
   ]
  },
  {
   "cell_type": "code",
   "execution_count": 14,
   "metadata": {},
   "outputs": [
    {
     "data": {
      "text/markdown": [
       "#### Clean data path"
      ],
      "text/plain": [
       "<IPython.core.display.Markdown object>"
      ]
     },
     "metadata": {},
     "output_type": "display_data"
    },
    {
     "data": {
      "text/markdown": [
       "[C:/Users/tan/src/regional-pm-2023/data/clean/transportation/commute/commute_mode](C:/Users/tan/src/regional-pm-2023/data/clean/transportation/commute/commute_mode)"
      ],
      "text/plain": [
       "<IPython.core.display.Markdown object>"
      ]
     },
     "metadata": {},
     "output_type": "display_data"
    }
   ],
   "source": [
    "display(Markdown('#### Clean data path'))\n",
    "clean_dir_path = str(CONFIG['clean_dir']).replace('\\\\', '/')\n",
    "display(Markdown(f\"[{clean_dir_path}]({clean_dir_path})\"))"
   ]
  },
  {
   "cell_type": "code",
   "execution_count": 15,
   "metadata": {},
   "outputs": [],
   "source": [
    "commute_mode.to_csv(\n",
    "    CONFIG['clean_dir']\n",
    "    / f'{INDICATOR}_odp.csv'\n",
    ")"
   ]
  },
  {
   "cell_type": "code",
   "execution_count": null,
   "metadata": {},
   "outputs": [],
   "source": []
  }
 ],
 "metadata": {
  "kernelspec": {
   "display_name": ".venv",
   "language": "python",
   "name": "python3"
  },
  "language_info": {
   "codemirror_mode": {
    "name": "ipython",
    "version": 3
   },
   "file_extension": ".py",
   "mimetype": "text/x-python",
   "name": "python",
   "nbconvert_exporter": "python",
   "pygments_lexer": "ipython3",
   "version": "3.11.3"
  },
  "orig_nbformat": 4
 },
 "nbformat": 4,
 "nbformat_minor": 2
}
