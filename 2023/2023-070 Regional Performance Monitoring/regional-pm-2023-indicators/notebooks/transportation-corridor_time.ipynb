{
 "cells": [
  {
   "cell_type": "code",
   "execution_count": 32,
   "metadata": {},
   "outputs": [
    {
     "data": {
      "text/markdown": [
       "## Raw data path"
      ],
      "text/plain": [
       "<IPython.core.display.Markdown object>"
      ]
     },
     "metadata": {},
     "output_type": "display_data"
    },
    {
     "data": {
      "text/markdown": [
       "[C:/Users/tan/src/regional-pm-2023/data/raw/transportation/commute/corridor_time](C:/Users/tan/src/regional-pm-2023/data/raw/transportation/commute/corridor_time)"
      ],
      "text/plain": [
       "<IPython.core.display.Markdown object>"
      ]
     },
     "metadata": {},
     "output_type": "display_data"
    }
   ],
   "source": [
    "%reload_ext autoreload\n",
    "%autoreload 2\n",
    "\n",
    "from IPython.core.display import Markdown\n",
    "from tqdm.auto import tqdm\n",
    "import config\n",
    "import docs\n",
    "import pandas as pd\n",
    "import requests\n",
    "\n",
    "pd.set_option('display.max_colwidth', None)\n",
    "\n",
    "INDICATOR = 'corridor_time'\n",
    "CONFIG = config.get_config(INDICATOR, '../config.toml')\n",
    "\n",
    "display(Markdown('## Raw data path'))\n",
    "raw_dir_path = str(CONFIG['raw_dir']).replace('\\\\', '/')\n",
    "display(Markdown(f\"[{raw_dir_path}]({raw_dir_path})\"))\n"
   ]
  },
  {
   "cell_type": "markdown",
   "metadata": {},
   "source": [
    "# Transportation Policy: Commute\n",
    "\n",
    "## Corridor Times"
   ]
  },
  {
   "cell_type": "code",
   "execution_count": 33,
   "metadata": {},
   "outputs": [
    {
     "data": {
      "text/markdown": [
       "Average commute times on select corridors.\n",
       "\n",
       "nan"
      ],
      "text/plain": [
       "<IPython.core.display.Markdown object>"
      ]
     },
     "execution_count": 33,
     "metadata": {},
     "output_type": "execute_result"
    }
   ],
   "source": [
    "docs.describe_indicator(\n",
    "    indicator=INDICATOR,\n",
    "    indicators_xlsx_path=CONFIG['indicators_xlsx_path'],\n",
    ")"
   ]
  },
  {
   "cell_type": "code",
   "execution_count": 34,
   "metadata": {},
   "outputs": [
    {
     "data": {
      "text/html": [
       "<div>\n",
       "<style scoped>\n",
       "    .dataframe tbody tr th:only-of-type {\n",
       "        vertical-align: middle;\n",
       "    }\n",
       "\n",
       "    .dataframe tbody tr th {\n",
       "        vertical-align: top;\n",
       "    }\n",
       "\n",
       "    .dataframe thead th {\n",
       "        text-align: right;\n",
       "    }\n",
       "</style>\n",
       "<table border=\"1\" class=\"dataframe\">\n",
       "  <thead>\n",
       "    <tr style=\"text-align: right;\">\n",
       "      <th></th>\n",
       "      <th>name</th>\n",
       "      <th>description</th>\n",
       "      <th>type</th>\n",
       "    </tr>\n",
       "    <tr>\n",
       "      <th>column</th>\n",
       "      <th></th>\n",
       "      <th></th>\n",
       "      <th></th>\n",
       "    </tr>\n",
       "  </thead>\n",
       "  <tbody>\n",
       "    <tr>\n",
       "      <th>year</th>\n",
       "      <td>Year</td>\n",
       "      <td>Year of record.</td>\n",
       "      <td>datetime</td>\n",
       "    </tr>\n",
       "    <tr>\n",
       "      <th>corridor</th>\n",
       "      <td>Corridor</td>\n",
       "      <td>Traffic corridor of record.</td>\n",
       "      <td>string</td>\n",
       "    </tr>\n",
       "    <tr>\n",
       "      <th>peak</th>\n",
       "      <td>Peak</td>\n",
       "      <td>Traffic peak time of a record (\"AM\" for 8:00 A.M. departure or \"PM\" for 5:00 P.M. departure).</td>\n",
       "      <td>string</td>\n",
       "    </tr>\n",
       "    <tr>\n",
       "      <th>travel_times</th>\n",
       "      <td>Travel Times</td>\n",
       "      <td>Average commute times on select corridors</td>\n",
       "      <td>float</td>\n",
       "    </tr>\n",
       "  </tbody>\n",
       "</table>\n",
       "</div>"
      ],
      "text/plain": [
       "                      name  \\\n",
       "column                       \n",
       "year                  Year   \n",
       "corridor          Corridor   \n",
       "peak                  Peak   \n",
       "travel_times  Travel Times   \n",
       "\n",
       "                                                                                                description  \\\n",
       "column                                                                                                        \n",
       "year                                                                                        Year of record.   \n",
       "corridor                                                                        Traffic corridor of record.   \n",
       "peak          Traffic peak time of a record (\"AM\" for 8:00 A.M. departure or \"PM\" for 5:00 P.M. departure).   \n",
       "travel_times                                                      Average commute times on select corridors   \n",
       "\n",
       "                  type  \n",
       "column                  \n",
       "year          datetime  \n",
       "corridor        string  \n",
       "peak            string  \n",
       "travel_times     float  "
      ]
     },
     "execution_count": 34,
     "metadata": {},
     "output_type": "execute_result"
    }
   ],
   "source": [
    "docs.list_schema(\n",
    "    indicator=INDICATOR,\n",
    "    indicators_xlsx_path=CONFIG['indicators_xlsx_path'],\n",
    ")"
   ]
  },
  {
   "cell_type": "code",
   "execution_count": 35,
   "metadata": {},
   "outputs": [
    {
     "data": {
      "text/html": [
       "<div>\n",
       "<style scoped>\n",
       "    .dataframe tbody tr th:only-of-type {\n",
       "        vertical-align: middle;\n",
       "    }\n",
       "\n",
       "    .dataframe tbody tr th {\n",
       "        vertical-align: top;\n",
       "    }\n",
       "\n",
       "    .dataframe thead th {\n",
       "        text-align: right;\n",
       "    }\n",
       "</style>\n",
       "<table border=\"1\" class=\"dataframe\">\n",
       "  <thead>\n",
       "    <tr style=\"text-align: right;\">\n",
       "      <th></th>\n",
       "      <th>name</th>\n",
       "      <th>organization</th>\n",
       "      <th>active</th>\n",
       "      <th>notes</th>\n",
       "    </tr>\n",
       "    <tr>\n",
       "      <th>source</th>\n",
       "      <th></th>\n",
       "      <th></th>\n",
       "      <th></th>\n",
       "      <th></th>\n",
       "    </tr>\n",
       "  </thead>\n",
       "  <tbody>\n",
       "    <tr>\n",
       "      <th>corridor_time</th>\n",
       "      <td>State of the Commute</td>\n",
       "      <td>SANDAG</td>\n",
       "      <td>True</td>\n",
       "      <td>Numbers pulled from table on ODP.</td>\n",
       "    </tr>\n",
       "  </tbody>\n",
       "</table>\n",
       "</div>"
      ],
      "text/plain": [
       "                               name organization  active  \\\n",
       "source                                                     \n",
       "corridor_time  State of the Commute       SANDAG    True   \n",
       "\n",
       "                                           notes  \n",
       "source                                            \n",
       "corridor_time  Numbers pulled from table on ODP.  "
      ]
     },
     "execution_count": 35,
     "metadata": {},
     "output_type": "execute_result"
    }
   ],
   "source": [
    "docs.list_sources(\n",
    "    indicator=INDICATOR,\n",
    "    indicators_xlsx_path=CONFIG['indicators_xlsx_path'],\n",
    ")"
   ]
  },
  {
   "cell_type": "code",
   "execution_count": 36,
   "metadata": {},
   "outputs": [
    {
     "data": {
      "text/html": [
       "<div>\n",
       "<style scoped>\n",
       "    .dataframe tbody tr th:only-of-type {\n",
       "        vertical-align: middle;\n",
       "    }\n",
       "\n",
       "    .dataframe tbody tr th {\n",
       "        vertical-align: top;\n",
       "    }\n",
       "\n",
       "    .dataframe thead th {\n",
       "        text-align: right;\n",
       "    }\n",
       "</style>\n",
       "<table border=\"1\" class=\"dataframe\">\n",
       "  <thead>\n",
       "    <tr style=\"text-align: right;\">\n",
       "      <th></th>\n",
       "      <th>step</th>\n",
       "    </tr>\n",
       "  </thead>\n",
       "  <tbody>\n",
       "    <tr>\n",
       "      <th>0</th>\n",
       "      <td>Extract from legacy PM data.</td>\n",
       "    </tr>\n",
       "    <tr>\n",
       "      <th>1</th>\n",
       "      <td>Extract new data from latest State of Commute report and combine with legacy PM data.</td>\n",
       "    </tr>\n",
       "  </tbody>\n",
       "</table>\n",
       "</div>"
      ],
      "text/plain": [
       "                                                                                    step\n",
       "0                                                           Extract from legacy PM data.\n",
       "1  Extract new data from latest State of Commute report and combine with legacy PM data."
      ]
     },
     "execution_count": 36,
     "metadata": {},
     "output_type": "execute_result"
    }
   ],
   "source": [
    "steps = docs.list_update_steps(\n",
    "    indicator=INDICATOR,\n",
    "    indicators_xlsx_path=CONFIG['indicators_xlsx_path'],\n",
    ")\n",
    "steps"
   ]
  },
  {
   "cell_type": "code",
   "execution_count": 37,
   "metadata": {},
   "outputs": [
    {
     "data": {
      "text/html": [
       "<div>\n",
       "<style scoped>\n",
       "    .dataframe tbody tr th:only-of-type {\n",
       "        vertical-align: middle;\n",
       "    }\n",
       "\n",
       "    .dataframe tbody tr th {\n",
       "        vertical-align: top;\n",
       "    }\n",
       "\n",
       "    .dataframe thead th {\n",
       "        text-align: right;\n",
       "    }\n",
       "</style>\n",
       "<table border=\"1\" class=\"dataframe\">\n",
       "  <thead>\n",
       "    <tr style=\"text-align: right;\">\n",
       "      <th></th>\n",
       "      <th>author</th>\n",
       "      <th>note</th>\n",
       "    </tr>\n",
       "  </thead>\n",
       "  <tbody>\n",
       "    <tr>\n",
       "      <th>0</th>\n",
       "      <td>TAN</td>\n",
       "      <td>NaN</td>\n",
       "    </tr>\n",
       "    <tr>\n",
       "      <th>1</th>\n",
       "      <td>TAN</td>\n",
       "      <td>NaN</td>\n",
       "    </tr>\n",
       "  </tbody>\n",
       "</table>\n",
       "</div>"
      ],
      "text/plain": [
       "  author note\n",
       "0    TAN  NaN\n",
       "1    TAN  NaN"
      ]
     },
     "execution_count": 37,
     "metadata": {},
     "output_type": "execute_result"
    }
   ],
   "source": [
    "docs.list_remarks(\n",
    "    indicator=INDICATOR,\n",
    "    indicators_xlsx_path=CONFIG['indicators_xlsx_path'],\n",
    ")"
   ]
  },
  {
   "cell_type": "markdown",
   "metadata": {},
   "source": [
    "### Step 0: Get and add to legacy data\n",
    "\n",
    "[Data was taken from the numbers reported on latest State of Commute](https://opendata.sandag.org/Transportation/SOC-Peak-Period-Highway-Congestion-Volumes-Map-PeM/ntjg-7y5y)."
   ]
  },
  {
   "cell_type": "code",
   "execution_count": 38,
   "metadata": {},
   "outputs": [
    {
     "data": {
      "text/plain": [
       "step    Extract from legacy PM data.\n",
       "Name: 0, dtype: object"
      ]
     },
     "metadata": {},
     "output_type": "display_data"
    }
   ],
   "source": [
    "display(steps.loc[0])"
   ]
  },
  {
   "cell_type": "markdown",
   "metadata": {},
   "source": [
    "### Step 1: Extract legacy data"
   ]
  },
  {
   "cell_type": "code",
   "execution_count": 39,
   "metadata": {},
   "outputs": [
    {
     "data": {
      "text/plain": [
       "step    Extract new data from latest State of Commute report and combine with legacy PM data.\n",
       "Name: 1, dtype: object"
      ]
     },
     "metadata": {},
     "output_type": "display_data"
    }
   ],
   "source": [
    "display(steps.loc[1])"
   ]
  },
  {
   "cell_type": "code",
   "execution_count": 41,
   "metadata": {},
   "outputs": [
    {
     "data": {
      "text/html": [
       "<div>\n",
       "<style scoped>\n",
       "    .dataframe tbody tr th:only-of-type {\n",
       "        vertical-align: middle;\n",
       "    }\n",
       "\n",
       "    .dataframe tbody tr th {\n",
       "        vertical-align: top;\n",
       "    }\n",
       "\n",
       "    .dataframe thead th {\n",
       "        text-align: right;\n",
       "    }\n",
       "</style>\n",
       "<table border=\"1\" class=\"dataframe\">\n",
       "  <thead>\n",
       "    <tr style=\"text-align: right;\">\n",
       "      <th></th>\n",
       "      <th></th>\n",
       "      <th></th>\n",
       "      <th></th>\n",
       "      <th>travel_times</th>\n",
       "    </tr>\n",
       "    <tr>\n",
       "      <th>year</th>\n",
       "      <th>corridor_id</th>\n",
       "      <th>corridor</th>\n",
       "      <th>peak</th>\n",
       "      <th></th>\n",
       "    </tr>\n",
       "  </thead>\n",
       "  <tbody>\n",
       "    <tr>\n",
       "      <th rowspan=\"3\" valign=\"top\">2022-01-01</th>\n",
       "      <th>10</th>\n",
       "      <th>San Ysidro to Downtown SD via I-5</th>\n",
       "      <th>AM</th>\n",
       "      <td>18.0</td>\n",
       "    </tr>\n",
       "    <tr>\n",
       "      <th>11</th>\n",
       "      <th>El Cajon to Sorrento Valley via I-8</th>\n",
       "      <th>AM</th>\n",
       "      <td>26.0</td>\n",
       "    </tr>\n",
       "    <tr>\n",
       "      <th>12</th>\n",
       "      <th>Poway to Carmel Valley via SR 56</th>\n",
       "      <th>AM</th>\n",
       "      <td>13.0</td>\n",
       "    </tr>\n",
       "  </tbody>\n",
       "</table>\n",
       "</div>"
      ],
      "text/plain": [
       "                                                                 travel_times\n",
       "year       corridor_id corridor                            peak              \n",
       "2022-01-01 10          San Ysidro to Downtown SD via I-5   AM            18.0\n",
       "           11          El Cajon to Sorrento Valley via I-8 AM            26.0\n",
       "           12          Poway to Carmel Valley via SR 56    AM            13.0"
      ]
     },
     "execution_count": 41,
     "metadata": {},
     "output_type": "execute_result"
    }
   ],
   "source": [
    "am_data = (\n",
    "    pd.read_excel(\n",
    "        CONFIG['legacy_xlsx_path'],\n",
    "        CONFIG['legacy_sheet'],\n",
    "        usecols='A:C,F:V',\n",
    "        skiprows=4,\n",
    "        nrows=12,\n",
    "    )\n",
    "    .rename(\n",
    "        columns={\n",
    "            'Unnamed: 0': 'corridor_id',\n",
    "            'Corridor': 'freeway',\n",
    "            'Unnamed: 2': 'route',\n",
    "        }\n",
    "    )\n",
    "    .melt(\n",
    "        id_vars=['corridor_id', 'freeway', 'route'], \n",
    "        var_name='year', \n",
    "        value_name='travel_times'\n",
    "    )\n",
    "    .assign(year=lambda df: pd.to_datetime(df.year, format='%Y'))\n",
    "    .assign(corridor=lambda df: df.route + ' via ' + df.freeway)\n",
    "    .assign(peak='AM')\n",
    "    .drop(columns=['freeway', 'route'])\n",
    "    .set_index(['year', 'corridor_id', 'corridor', 'peak'])\n",
    ")\n",
    "am_data.tail(3)"
   ]
  },
  {
   "cell_type": "code",
   "execution_count": 43,
   "metadata": {},
   "outputs": [
    {
     "data": {
      "text/html": [
       "<div>\n",
       "<style scoped>\n",
       "    .dataframe tbody tr th:only-of-type {\n",
       "        vertical-align: middle;\n",
       "    }\n",
       "\n",
       "    .dataframe tbody tr th {\n",
       "        vertical-align: top;\n",
       "    }\n",
       "\n",
       "    .dataframe thead th {\n",
       "        text-align: right;\n",
       "    }\n",
       "</style>\n",
       "<table border=\"1\" class=\"dataframe\">\n",
       "  <thead>\n",
       "    <tr style=\"text-align: right;\">\n",
       "      <th></th>\n",
       "      <th></th>\n",
       "      <th></th>\n",
       "      <th></th>\n",
       "      <th>travel_times</th>\n",
       "    </tr>\n",
       "    <tr>\n",
       "      <th>year</th>\n",
       "      <th>corridor_id</th>\n",
       "      <th>corridor</th>\n",
       "      <th>peak</th>\n",
       "      <th></th>\n",
       "    </tr>\n",
       "  </thead>\n",
       "  <tbody>\n",
       "    <tr>\n",
       "      <th rowspan=\"3\" valign=\"top\">2022-01-01</th>\n",
       "      <th>10</th>\n",
       "      <th>San Ysidro to Downtown SD via I-5</th>\n",
       "      <th>PM</th>\n",
       "      <td>17.0</td>\n",
       "    </tr>\n",
       "    <tr>\n",
       "      <th>11</th>\n",
       "      <th>El Cajon to Sorrento Valley via I-8</th>\n",
       "      <th>PM</th>\n",
       "      <td>38.0</td>\n",
       "    </tr>\n",
       "    <tr>\n",
       "      <th>12</th>\n",
       "      <th>Poway to Carmel Valley via SR 56</th>\n",
       "      <th>PM</th>\n",
       "      <td>46.0</td>\n",
       "    </tr>\n",
       "  </tbody>\n",
       "</table>\n",
       "</div>"
      ],
      "text/plain": [
       "                                                                 travel_times\n",
       "year       corridor_id corridor                            peak              \n",
       "2022-01-01 10          San Ysidro to Downtown SD via I-5   PM            17.0\n",
       "           11          El Cajon to Sorrento Valley via I-8 PM            38.0\n",
       "           12          Poway to Carmel Valley via SR 56    PM            46.0"
      ]
     },
     "execution_count": 43,
     "metadata": {},
     "output_type": "execute_result"
    }
   ],
   "source": [
    "pm_data = (\n",
    "    pd.read_excel(\n",
    "        CONFIG['legacy_xlsx_path'],\n",
    "        CONFIG['legacy_sheet'],\n",
    "        usecols='A:C,X:AN',\n",
    "        skiprows=4,\n",
    "        nrows=12,\n",
    "    )\n",
    "    .rename(\n",
    "        columns={\n",
    "            'Unnamed: 0': 'corridor_id',\n",
    "            'Corridor': 'freeway',\n",
    "            'Unnamed: 2': 'route',\n",
    "        }\n",
    "    )\n",
    "    .melt(\n",
    "        id_vars=['corridor_id', 'freeway', 'route'], \n",
    "        var_name='year', \n",
    "        value_name='travel_times'\n",
    "    )\n",
    "    .assign(year=lambda df: pd.to_datetime(df.year, format='%Y.1'))\n",
    "    .assign(corridor=lambda df: df.route + ' via ' + df.freeway)\n",
    "    .assign(peak='PM')\n",
    "    .drop(columns=['freeway', 'route'])\n",
    "    .set_index(['year', 'corridor_id', 'corridor', 'peak'])\n",
    ")\n",
    "pm_data.tail(3)"
   ]
  },
  {
   "cell_type": "code",
   "execution_count": 44,
   "metadata": {},
   "outputs": [
    {
     "data": {
      "text/html": [
       "<div>\n",
       "<style scoped>\n",
       "    .dataframe tbody tr th:only-of-type {\n",
       "        vertical-align: middle;\n",
       "    }\n",
       "\n",
       "    .dataframe tbody tr th {\n",
       "        vertical-align: top;\n",
       "    }\n",
       "\n",
       "    .dataframe thead th {\n",
       "        text-align: right;\n",
       "    }\n",
       "</style>\n",
       "<table border=\"1\" class=\"dataframe\">\n",
       "  <thead>\n",
       "    <tr style=\"text-align: right;\">\n",
       "      <th></th>\n",
       "      <th></th>\n",
       "      <th></th>\n",
       "      <th></th>\n",
       "      <th>travel_times</th>\n",
       "    </tr>\n",
       "    <tr>\n",
       "      <th>year</th>\n",
       "      <th>corridor_id</th>\n",
       "      <th>corridor</th>\n",
       "      <th>peak</th>\n",
       "      <th></th>\n",
       "    </tr>\n",
       "  </thead>\n",
       "  <tbody>\n",
       "    <tr>\n",
       "      <th rowspan=\"5\" valign=\"top\">2006-01-01</th>\n",
       "      <th>1</th>\n",
       "      <th>Oceanside to Downtown SD via I-5</th>\n",
       "      <th>AM</th>\n",
       "      <td>56.909639</td>\n",
       "    </tr>\n",
       "    <tr>\n",
       "      <th>2</th>\n",
       "      <th>Escondido to Downtown SD via I-15</th>\n",
       "      <th>AM</th>\n",
       "      <td>47.756218</td>\n",
       "    </tr>\n",
       "    <tr>\n",
       "      <th>3</th>\n",
       "      <th>Escondido to Carlsbad via SR 78</th>\n",
       "      <th>AM</th>\n",
       "      <td>17.773055</td>\n",
       "    </tr>\n",
       "    <tr>\n",
       "      <th>4</th>\n",
       "      <th>El Cajon to Downtown SD via SR 94</th>\n",
       "      <th>AM</th>\n",
       "      <td>19.817705</td>\n",
       "    </tr>\n",
       "    <tr>\n",
       "      <th>5</th>\n",
       "      <th>El Cajon to Downtown SD via I-8</th>\n",
       "      <th>AM</th>\n",
       "      <td>20.916404</td>\n",
       "    </tr>\n",
       "    <tr>\n",
       "      <th>...</th>\n",
       "      <th>...</th>\n",
       "      <th>...</th>\n",
       "      <th>...</th>\n",
       "      <td>...</td>\n",
       "    </tr>\n",
       "    <tr>\n",
       "      <th rowspan=\"5\" valign=\"top\">2022-01-01</th>\n",
       "      <th>8</th>\n",
       "      <th>Chula Vista to Sorrento Valley via I-805</th>\n",
       "      <th>PM</th>\n",
       "      <td>49.000000</td>\n",
       "    </tr>\n",
       "    <tr>\n",
       "      <th>9</th>\n",
       "      <th>Chula Vista to Downtown SD via I-805</th>\n",
       "      <th>PM</th>\n",
       "      <td>14.000000</td>\n",
       "    </tr>\n",
       "    <tr>\n",
       "      <th>10</th>\n",
       "      <th>San Ysidro to Downtown SD via I-5</th>\n",
       "      <th>PM</th>\n",
       "      <td>17.000000</td>\n",
       "    </tr>\n",
       "    <tr>\n",
       "      <th>11</th>\n",
       "      <th>El Cajon to Sorrento Valley via I-8</th>\n",
       "      <th>PM</th>\n",
       "      <td>38.000000</td>\n",
       "    </tr>\n",
       "    <tr>\n",
       "      <th>12</th>\n",
       "      <th>Poway to Carmel Valley via SR 56</th>\n",
       "      <th>PM</th>\n",
       "      <td>46.000000</td>\n",
       "    </tr>\n",
       "  </tbody>\n",
       "</table>\n",
       "<p>408 rows × 1 columns</p>\n",
       "</div>"
      ],
      "text/plain": [
       "                                                                      travel_times\n",
       "year       corridor_id corridor                                 peak              \n",
       "2006-01-01 1           Oceanside to Downtown SD via I-5         AM       56.909639\n",
       "           2           Escondido to Downtown SD via I-15        AM       47.756218\n",
       "           3           Escondido to Carlsbad via SR 78          AM       17.773055\n",
       "           4           El Cajon to Downtown SD via SR 94        AM       19.817705\n",
       "           5           El Cajon to Downtown SD via I-8          AM       20.916404\n",
       "...                                                                            ...\n",
       "2022-01-01 8           Chula Vista to Sorrento Valley via I-805 PM       49.000000\n",
       "           9           Chula Vista to Downtown SD via I-805     PM       14.000000\n",
       "           10          San Ysidro to Downtown SD via I-5        PM       17.000000\n",
       "           11          El Cajon to Sorrento Valley via I-8      PM       38.000000\n",
       "           12          Poway to Carmel Valley via SR 56         PM       46.000000\n",
       "\n",
       "[408 rows x 1 columns]"
      ]
     },
     "execution_count": 44,
     "metadata": {},
     "output_type": "execute_result"
    }
   ],
   "source": [
    "corridor_time = pd.concat([am_data, pm_data])\n",
    "corridor_time"
   ]
  },
  {
   "cell_type": "markdown",
   "metadata": {},
   "source": [
    "### Save Data"
   ]
  },
  {
   "cell_type": "code",
   "execution_count": 45,
   "metadata": {},
   "outputs": [
    {
     "data": {
      "text/markdown": [
       "#### Clean data path"
      ],
      "text/plain": [
       "<IPython.core.display.Markdown object>"
      ]
     },
     "metadata": {},
     "output_type": "display_data"
    },
    {
     "data": {
      "text/markdown": [
       "[C:/Users/tan/src/regional-pm-2023/data/clean/transportation/commute/corridor_time](C:/Users/tan/src/regional-pm-2023/data/clean/transportation/commute/corridor_time)"
      ],
      "text/plain": [
       "<IPython.core.display.Markdown object>"
      ]
     },
     "metadata": {},
     "output_type": "display_data"
    }
   ],
   "source": [
    "display(Markdown('#### Clean data path'))\n",
    "clean_dir_path = str(CONFIG['clean_dir']).replace('\\\\', '/')\n",
    "display(Markdown(f\"[{clean_dir_path}]({clean_dir_path})\"))"
   ]
  },
  {
   "cell_type": "code",
   "execution_count": 46,
   "metadata": {},
   "outputs": [],
   "source": [
    "corridor_time.to_csv(\n",
    "    CONFIG['clean_dir']\n",
    "    / f'{INDICATOR}_odp.csv'\n",
    ")"
   ]
  },
  {
   "cell_type": "code",
   "execution_count": null,
   "metadata": {},
   "outputs": [],
   "source": []
  }
 ],
 "metadata": {
  "kernelspec": {
   "display_name": ".venv",
   "language": "python",
   "name": "python3"
  },
  "language_info": {
   "codemirror_mode": {
    "name": "ipython",
    "version": 3
   },
   "file_extension": ".py",
   "mimetype": "text/x-python",
   "name": "python",
   "nbconvert_exporter": "python",
   "pygments_lexer": "ipython3",
   "version": "3.11.3"
  },
  "orig_nbformat": 4
 },
 "nbformat": 4,
 "nbformat_minor": 2
}
