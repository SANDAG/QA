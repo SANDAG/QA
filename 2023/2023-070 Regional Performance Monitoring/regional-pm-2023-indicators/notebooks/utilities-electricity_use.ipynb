{
 "cells": [
  {
   "cell_type": "code",
   "execution_count": 20,
   "metadata": {},
   "outputs": [
    {
     "data": {
      "text/markdown": [
       "## Raw data path"
      ],
      "text/plain": [
       "<IPython.core.display.Markdown object>"
      ]
     },
     "metadata": {},
     "output_type": "display_data"
    },
    {
     "data": {
      "text/markdown": [
       "[C:/Users/tan/src/regional-pm-2023/data/raw/utilities/energy/electricity_use](C:/Users/tan/src/regional-pm-2023/data/raw/utilities/energy/electricity_use)"
      ],
      "text/plain": [
       "<IPython.core.display.Markdown object>"
      ]
     },
     "metadata": {},
     "output_type": "display_data"
    }
   ],
   "source": [
    "%reload_ext autoreload\n",
    "%autoreload 2\n",
    "\n",
    "from IPython.core.display import Markdown\n",
    "from tqdm.auto import tqdm\n",
    "import config\n",
    "import docs\n",
    "import pandas as pd\n",
    "import requests\n",
    "\n",
    "pd.set_option('display.max_colwidth', None)\n",
    "\n",
    "INDICATOR = 'electricity_use'\n",
    "CONFIG = config.get_config(INDICATOR, '../config.toml')\n",
    "\n",
    "display(Markdown('## Raw data path'))\n",
    "raw_dir_path = str(CONFIG['raw_dir']).replace('\\\\', '/')\n",
    "display(Markdown(f\"[{raw_dir_path}]({raw_dir_path})\"))\n"
   ]
  },
  {
   "cell_type": "markdown",
   "metadata": {},
   "source": [
    "# Energy and Water: Energy\n",
    "\n",
    "## Electricity Use"
   ]
  },
  {
   "cell_type": "code",
   "execution_count": 21,
   "metadata": {},
   "outputs": [
    {
     "data": {
      "text/markdown": [
       "Amount of electricity consumed by sector.\n",
       "\n",
       "nan"
      ],
      "text/plain": [
       "<IPython.core.display.Markdown object>"
      ]
     },
     "execution_count": 21,
     "metadata": {},
     "output_type": "execute_result"
    }
   ],
   "source": [
    "docs.describe_indicator(\n",
    "    indicator=INDICATOR,\n",
    "    indicators_xlsx_path=CONFIG['indicators_xlsx_path'],\n",
    ")"
   ]
  },
  {
   "cell_type": "code",
   "execution_count": 22,
   "metadata": {},
   "outputs": [
    {
     "data": {
      "text/html": [
       "<div>\n",
       "<style scoped>\n",
       "    .dataframe tbody tr th:only-of-type {\n",
       "        vertical-align: middle;\n",
       "    }\n",
       "\n",
       "    .dataframe tbody tr th {\n",
       "        vertical-align: top;\n",
       "    }\n",
       "\n",
       "    .dataframe thead th {\n",
       "        text-align: right;\n",
       "    }\n",
       "</style>\n",
       "<table border=\"1\" class=\"dataframe\">\n",
       "  <thead>\n",
       "    <tr style=\"text-align: right;\">\n",
       "      <th></th>\n",
       "      <th>name</th>\n",
       "      <th>description</th>\n",
       "      <th>type</th>\n",
       "    </tr>\n",
       "    <tr>\n",
       "      <th>column</th>\n",
       "      <th></th>\n",
       "      <th></th>\n",
       "      <th></th>\n",
       "    </tr>\n",
       "  </thead>\n",
       "  <tbody>\n",
       "    <tr>\n",
       "      <th>year</th>\n",
       "      <td>Year</td>\n",
       "      <td>Year of record.</td>\n",
       "      <td>datetime</td>\n",
       "    </tr>\n",
       "    <tr>\n",
       "      <th>sector</th>\n",
       "      <td>Sector</td>\n",
       "      <td>Sector (\"Residential\" or \"Non-Residential\") of record.</td>\n",
       "      <td>string</td>\n",
       "    </tr>\n",
       "    <tr>\n",
       "      <th>electricity_use</th>\n",
       "      <td>Electricity Use</td>\n",
       "      <td>Amount of electricity consumed by sector in gigawatt hours (GWh), in a given year by a given sector.</td>\n",
       "      <td>float</td>\n",
       "    </tr>\n",
       "  </tbody>\n",
       "</table>\n",
       "</div>"
      ],
      "text/plain": [
       "                            name  \\\n",
       "column                             \n",
       "year                        Year   \n",
       "sector                    Sector   \n",
       "electricity_use  Electricity Use   \n",
       "\n",
       "                                                                                                          description  \\\n",
       "column                                                                                                                  \n",
       "year                                                                                                  Year of record.   \n",
       "sector                                                         Sector (\"Residential\" or \"Non-Residential\") of record.   \n",
       "electricity_use  Amount of electricity consumed by sector in gigawatt hours (GWh), in a given year by a given sector.   \n",
       "\n",
       "                     type  \n",
       "column                     \n",
       "year             datetime  \n",
       "sector             string  \n",
       "electricity_use     float  "
      ]
     },
     "execution_count": 22,
     "metadata": {},
     "output_type": "execute_result"
    }
   ],
   "source": [
    "docs.list_schema(\n",
    "    indicator=INDICATOR,\n",
    "    indicators_xlsx_path=CONFIG['indicators_xlsx_path'],\n",
    ")"
   ]
  },
  {
   "cell_type": "code",
   "execution_count": 23,
   "metadata": {},
   "outputs": [
    {
     "data": {
      "text/html": [
       "<div>\n",
       "<style scoped>\n",
       "    .dataframe tbody tr th:only-of-type {\n",
       "        vertical-align: middle;\n",
       "    }\n",
       "\n",
       "    .dataframe tbody tr th {\n",
       "        vertical-align: top;\n",
       "    }\n",
       "\n",
       "    .dataframe thead th {\n",
       "        text-align: right;\n",
       "    }\n",
       "</style>\n",
       "<table border=\"1\" class=\"dataframe\">\n",
       "  <thead>\n",
       "    <tr style=\"text-align: right;\">\n",
       "      <th></th>\n",
       "      <th>name</th>\n",
       "      <th>organization</th>\n",
       "      <th>active</th>\n",
       "      <th>notes</th>\n",
       "    </tr>\n",
       "    <tr>\n",
       "      <th>source</th>\n",
       "      <th></th>\n",
       "      <th></th>\n",
       "      <th></th>\n",
       "      <th></th>\n",
       "    </tr>\n",
       "  </thead>\n",
       "  <tbody>\n",
       "    <tr>\n",
       "      <th>energy_consumption_db</th>\n",
       "      <td>California Energy Consumption Database</td>\n",
       "      <td>California Energy Commission</td>\n",
       "      <td>True</td>\n",
       "      <td>Generated based on \"Consumption by County\" report.</td>\n",
       "    </tr>\n",
       "  </tbody>\n",
       "</table>\n",
       "</div>"
      ],
      "text/plain": [
       "                                                         name  \\\n",
       "source                                                          \n",
       "energy_consumption_db  California Energy Consumption Database   \n",
       "\n",
       "                                       organization  active  \\\n",
       "source                                                        \n",
       "energy_consumption_db  California Energy Commission    True   \n",
       "\n",
       "                                                                    notes  \n",
       "source                                                                     \n",
       "energy_consumption_db  Generated based on \"Consumption by County\" report.  "
      ]
     },
     "execution_count": 23,
     "metadata": {},
     "output_type": "execute_result"
    }
   ],
   "source": [
    "docs.list_sources(\n",
    "    indicator=INDICATOR,\n",
    "    indicators_xlsx_path=CONFIG['indicators_xlsx_path'],\n",
    ")"
   ]
  },
  {
   "cell_type": "code",
   "execution_count": 24,
   "metadata": {},
   "outputs": [
    {
     "data": {
      "text/html": [
       "<div>\n",
       "<style scoped>\n",
       "    .dataframe tbody tr th:only-of-type {\n",
       "        vertical-align: middle;\n",
       "    }\n",
       "\n",
       "    .dataframe tbody tr th {\n",
       "        vertical-align: top;\n",
       "    }\n",
       "\n",
       "    .dataframe thead th {\n",
       "        text-align: right;\n",
       "    }\n",
       "</style>\n",
       "<table border=\"1\" class=\"dataframe\">\n",
       "  <thead>\n",
       "    <tr style=\"text-align: right;\">\n",
       "      <th></th>\n",
       "      <th>step</th>\n",
       "    </tr>\n",
       "  </thead>\n",
       "  <tbody>\n",
       "    <tr>\n",
       "      <th>0</th>\n",
       "      <td>Download annual county data from CEC Energy Consumption Database</td>\n",
       "    </tr>\n",
       "    <tr>\n",
       "      <th>1</th>\n",
       "      <td>Extract residential and non-residential consumption from the raw data.</td>\n",
       "    </tr>\n",
       "  </tbody>\n",
       "</table>\n",
       "</div>"
      ],
      "text/plain": [
       "                                                                     step\n",
       "0        Download annual county data from CEC Energy Consumption Database\n",
       "1  Extract residential and non-residential consumption from the raw data."
      ]
     },
     "execution_count": 24,
     "metadata": {},
     "output_type": "execute_result"
    }
   ],
   "source": [
    "steps = docs.list_update_steps(\n",
    "    indicator=INDICATOR,\n",
    "    indicators_xlsx_path=CONFIG['indicators_xlsx_path'],\n",
    ")\n",
    "steps"
   ]
  },
  {
   "cell_type": "code",
   "execution_count": 25,
   "metadata": {},
   "outputs": [
    {
     "data": {
      "text/html": [
       "<div>\n",
       "<style scoped>\n",
       "    .dataframe tbody tr th:only-of-type {\n",
       "        vertical-align: middle;\n",
       "    }\n",
       "\n",
       "    .dataframe tbody tr th {\n",
       "        vertical-align: top;\n",
       "    }\n",
       "\n",
       "    .dataframe thead th {\n",
       "        text-align: right;\n",
       "    }\n",
       "</style>\n",
       "<table border=\"1\" class=\"dataframe\">\n",
       "  <thead>\n",
       "    <tr style=\"text-align: right;\">\n",
       "      <th></th>\n",
       "      <th>author</th>\n",
       "      <th>note</th>\n",
       "    </tr>\n",
       "  </thead>\n",
       "  <tbody>\n",
       "    <tr>\n",
       "      <th>0</th>\n",
       "      <td>TAN</td>\n",
       "      <td>Current SME is Jeff Hoyos &lt;Jeff.Hoyos@sandag.org&gt;.</td>\n",
       "    </tr>\n",
       "    <tr>\n",
       "      <th>1</th>\n",
       "      <td>TAN</td>\n",
       "      <td>I'm not sure if any source was used consistently in the past. This source was easy to download for all needed years and covers the whole county (CEC forecasts use SDGE's area which goes into Orange County).</td>\n",
       "    </tr>\n",
       "    <tr>\n",
       "      <th>2</th>\n",
       "      <td>TAN</td>\n",
       "      <td>Note that the legacy PM data sheet is not used as input.</td>\n",
       "    </tr>\n",
       "  </tbody>\n",
       "</table>\n",
       "</div>"
      ],
      "text/plain": [
       "  author  \\\n",
       "0    TAN   \n",
       "1    TAN   \n",
       "2    TAN   \n",
       "\n",
       "                                                                                                                                                                                                             note  \n",
       "0                                                                                                                                                              Current SME is Jeff Hoyos <Jeff.Hoyos@sandag.org>.  \n",
       "1  I'm not sure if any source was used consistently in the past. This source was easy to download for all needed years and covers the whole county (CEC forecasts use SDGE's area which goes into Orange County).  \n",
       "2                                                                                                                                                        Note that the legacy PM data sheet is not used as input.  "
      ]
     },
     "execution_count": 25,
     "metadata": {},
     "output_type": "execute_result"
    }
   ],
   "source": [
    "docs.list_remarks(\n",
    "    indicator=INDICATOR,\n",
    "    indicators_xlsx_path=CONFIG['indicators_xlsx_path'],\n",
    ")"
   ]
  },
  {
   "cell_type": "markdown",
   "metadata": {},
   "source": [
    "### Step 0: Download data"
   ]
  },
  {
   "cell_type": "markdown",
   "metadata": {},
   "source": [
    "Data can be downloaded using [this](http://www.ecdms.energy.ca.gov/elecbycounty.aspx) CEC report."
   ]
  },
  {
   "cell_type": "code",
   "execution_count": 26,
   "metadata": {},
   "outputs": [
    {
     "data": {
      "text/plain": [
       "step    Download annual county data from CEC Energy Consumption Database\n",
       "Name: 0, dtype: object"
      ]
     },
     "metadata": {},
     "output_type": "display_data"
    }
   ],
   "source": [
    "display(steps.loc[0])"
   ]
  },
  {
   "cell_type": "markdown",
   "metadata": {},
   "source": [
    "### Step 1:  Extract data"
   ]
  },
  {
   "cell_type": "code",
   "execution_count": 27,
   "metadata": {},
   "outputs": [
    {
     "data": {
      "text/plain": [
       "step    Extract residential and non-residential consumption from the raw data.\n",
       "Name: 1, dtype: object"
      ]
     },
     "metadata": {},
     "output_type": "display_data"
    }
   ],
   "source": [
    "display(steps.loc[1])"
   ]
  },
  {
   "cell_type": "code",
   "execution_count": 28,
   "metadata": {},
   "outputs": [
    {
     "data": {
      "text/html": [
       "<div>\n",
       "<style scoped>\n",
       "    .dataframe tbody tr th:only-of-type {\n",
       "        vertical-align: middle;\n",
       "    }\n",
       "\n",
       "    .dataframe tbody tr th {\n",
       "        vertical-align: top;\n",
       "    }\n",
       "\n",
       "    .dataframe thead th {\n",
       "        text-align: right;\n",
       "    }\n",
       "</style>\n",
       "<table border=\"1\" class=\"dataframe\">\n",
       "  <thead>\n",
       "    <tr style=\"text-align: right;\">\n",
       "      <th></th>\n",
       "      <th></th>\n",
       "      <th>electricity_use</th>\n",
       "    </tr>\n",
       "    <tr>\n",
       "      <th>sector</th>\n",
       "      <th>year</th>\n",
       "      <th></th>\n",
       "    </tr>\n",
       "  </thead>\n",
       "  <tbody>\n",
       "    <tr>\n",
       "      <th>Non-Residential</th>\n",
       "      <th>2021-01-01</th>\n",
       "      <td>12285.326331</td>\n",
       "    </tr>\n",
       "    <tr>\n",
       "      <th>Residential</th>\n",
       "      <th>2021-01-01</th>\n",
       "      <td>7480.166978</td>\n",
       "    </tr>\n",
       "    <tr>\n",
       "      <th>Non-Residential</th>\n",
       "      <th>2020-01-01</th>\n",
       "      <td>11657.679451</td>\n",
       "    </tr>\n",
       "    <tr>\n",
       "      <th>Residential</th>\n",
       "      <th>2020-01-01</th>\n",
       "      <td>7387.046267</td>\n",
       "    </tr>\n",
       "    <tr>\n",
       "      <th>Non-Residential</th>\n",
       "      <th>2019-01-01</th>\n",
       "      <td>12415.797864</td>\n",
       "    </tr>\n",
       "    <tr>\n",
       "      <th>Residential</th>\n",
       "      <th>2019-01-01</th>\n",
       "      <td>6573.152838</td>\n",
       "    </tr>\n",
       "    <tr>\n",
       "      <th>Non-Residential</th>\n",
       "      <th>2018-01-01</th>\n",
       "      <td>12768.021612</td>\n",
       "    </tr>\n",
       "    <tr>\n",
       "      <th>Residential</th>\n",
       "      <th>2018-01-01</th>\n",
       "      <td>6711.739591</td>\n",
       "    </tr>\n",
       "    <tr>\n",
       "      <th>Non-Residential</th>\n",
       "      <th>2017-01-01</th>\n",
       "      <td>12614.446916</td>\n",
       "    </tr>\n",
       "    <tr>\n",
       "      <th>Residential</th>\n",
       "      <th>2017-01-01</th>\n",
       "      <td>6747.412499</td>\n",
       "    </tr>\n",
       "    <tr>\n",
       "      <th>Non-Residential</th>\n",
       "      <th>2016-01-01</th>\n",
       "      <td>12964.561271</td>\n",
       "    </tr>\n",
       "    <tr>\n",
       "      <th>Residential</th>\n",
       "      <th>2016-01-01</th>\n",
       "      <td>6677.171207</td>\n",
       "    </tr>\n",
       "    <tr>\n",
       "      <th>Non-Residential</th>\n",
       "      <th>2015-01-01</th>\n",
       "      <td>13045.637710</td>\n",
       "    </tr>\n",
       "    <tr>\n",
       "      <th>Residential</th>\n",
       "      <th>2015-01-01</th>\n",
       "      <td>6826.944131</td>\n",
       "    </tr>\n",
       "    <tr>\n",
       "      <th>Non-Residential</th>\n",
       "      <th>2014-01-01</th>\n",
       "      <td>13069.647706</td>\n",
       "    </tr>\n",
       "    <tr>\n",
       "      <th>Residential</th>\n",
       "      <th>2014-01-01</th>\n",
       "      <td>6830.151820</td>\n",
       "    </tr>\n",
       "    <tr>\n",
       "      <th>Non-Residential</th>\n",
       "      <th>2013-01-01</th>\n",
       "      <td>12812.097105</td>\n",
       "    </tr>\n",
       "    <tr>\n",
       "      <th>Residential</th>\n",
       "      <th>2013-01-01</th>\n",
       "      <td>6782.571757</td>\n",
       "    </tr>\n",
       "    <tr>\n",
       "      <th>Non-Residential</th>\n",
       "      <th>2012-01-01</th>\n",
       "      <td>12655.257995</td>\n",
       "    </tr>\n",
       "    <tr>\n",
       "      <th>Residential</th>\n",
       "      <th>2012-01-01</th>\n",
       "      <td>6892.874708</td>\n",
       "    </tr>\n",
       "    <tr>\n",
       "      <th>Non-Residential</th>\n",
       "      <th>2011-01-01</th>\n",
       "      <td>12429.085194</td>\n",
       "    </tr>\n",
       "    <tr>\n",
       "      <th>Residential</th>\n",
       "      <th>2011-01-01</th>\n",
       "      <td>6692.268102</td>\n",
       "    </tr>\n",
       "    <tr>\n",
       "      <th>Non-Residential</th>\n",
       "      <th>2010-01-01</th>\n",
       "      <td>12488.266436</td>\n",
       "    </tr>\n",
       "    <tr>\n",
       "      <th>Residential</th>\n",
       "      <th>2010-01-01</th>\n",
       "      <td>6626.887524</td>\n",
       "    </tr>\n",
       "    <tr>\n",
       "      <th>Non-Residential</th>\n",
       "      <th>2009-01-01</th>\n",
       "      <td>12770.543425</td>\n",
       "    </tr>\n",
       "    <tr>\n",
       "      <th>Residential</th>\n",
       "      <th>2009-01-01</th>\n",
       "      <td>6790.824725</td>\n",
       "    </tr>\n",
       "    <tr>\n",
       "      <th>Non-Residential</th>\n",
       "      <th>2008-01-01</th>\n",
       "      <td>13071.303318</td>\n",
       "    </tr>\n",
       "    <tr>\n",
       "      <th>Residential</th>\n",
       "      <th>2008-01-01</th>\n",
       "      <td>6916.899923</td>\n",
       "    </tr>\n",
       "    <tr>\n",
       "      <th>Non-Residential</th>\n",
       "      <th>2007-01-01</th>\n",
       "      <td>12894.535944</td>\n",
       "    </tr>\n",
       "    <tr>\n",
       "      <th>Residential</th>\n",
       "      <th>2007-01-01</th>\n",
       "      <td>6751.637513</td>\n",
       "    </tr>\n",
       "    <tr>\n",
       "      <th>Non-Residential</th>\n",
       "      <th>2006-01-01</th>\n",
       "      <td>12703.050819</td>\n",
       "    </tr>\n",
       "    <tr>\n",
       "      <th>Residential</th>\n",
       "      <th>2006-01-01</th>\n",
       "      <td>6718.078167</td>\n",
       "    </tr>\n",
       "    <tr>\n",
       "      <th>Non-Residential</th>\n",
       "      <th>2005-01-01</th>\n",
       "      <td>12139.563443</td>\n",
       "    </tr>\n",
       "    <tr>\n",
       "      <th>Residential</th>\n",
       "      <th>2005-01-01</th>\n",
       "      <td>6327.958855</td>\n",
       "    </tr>\n",
       "  </tbody>\n",
       "</table>\n",
       "</div>"
      ],
      "text/plain": [
       "                            electricity_use\n",
       "sector          year                       \n",
       "Non-Residential 2021-01-01     12285.326331\n",
       "Residential     2021-01-01      7480.166978\n",
       "Non-Residential 2020-01-01     11657.679451\n",
       "Residential     2020-01-01      7387.046267\n",
       "Non-Residential 2019-01-01     12415.797864\n",
       "Residential     2019-01-01      6573.152838\n",
       "Non-Residential 2018-01-01     12768.021612\n",
       "Residential     2018-01-01      6711.739591\n",
       "Non-Residential 2017-01-01     12614.446916\n",
       "Residential     2017-01-01      6747.412499\n",
       "Non-Residential 2016-01-01     12964.561271\n",
       "Residential     2016-01-01      6677.171207\n",
       "Non-Residential 2015-01-01     13045.637710\n",
       "Residential     2015-01-01      6826.944131\n",
       "Non-Residential 2014-01-01     13069.647706\n",
       "Residential     2014-01-01      6830.151820\n",
       "Non-Residential 2013-01-01     12812.097105\n",
       "Residential     2013-01-01      6782.571757\n",
       "Non-Residential 2012-01-01     12655.257995\n",
       "Residential     2012-01-01      6892.874708\n",
       "Non-Residential 2011-01-01     12429.085194\n",
       "Residential     2011-01-01      6692.268102\n",
       "Non-Residential 2010-01-01     12488.266436\n",
       "Residential     2010-01-01      6626.887524\n",
       "Non-Residential 2009-01-01     12770.543425\n",
       "Residential     2009-01-01      6790.824725\n",
       "Non-Residential 2008-01-01     13071.303318\n",
       "Residential     2008-01-01      6916.899923\n",
       "Non-Residential 2007-01-01     12894.535944\n",
       "Residential     2007-01-01      6751.637513\n",
       "Non-Residential 2006-01-01     12703.050819\n",
       "Residential     2006-01-01      6718.078167\n",
       "Non-Residential 2005-01-01     12139.563443\n",
       "Residential     2005-01-01      6327.958855"
      ]
     },
     "execution_count": 28,
     "metadata": {},
     "output_type": "execute_result"
    }
   ],
   "source": [
    "electricity_use = (\n",
    "    pd.read_csv(\n",
    "        CONFIG['raw_dir']/'ElectricityByCounty.csv'\n",
    "    )\n",
    "    .rename(columns={'Sector': 'sector'})\n",
    "    .set_index('sector')\n",
    "    .drop(columns='County') # San Diego implicit, don't need this\n",
    "    .drop('Total') # Don't need aggregate columns/rows\n",
    "    .drop(columns='Total Usage') # Don't need aggregate columns/rows\n",
    "    .reset_index()\n",
    "    .melt(\n",
    "        id_vars=['sector'],\n",
    "        var_name='year',\n",
    "        value_name='electricity_use',\n",
    "    )\n",
    "    .assign(year=lambda df: pd.to_datetime(df.year, format='%Y'))\n",
    "    .set_index(['sector', 'year'])\n",
    ")\n",
    "electricity_use"
   ]
  },
  {
   "cell_type": "markdown",
   "metadata": {},
   "source": [
    "### Save Data"
   ]
  },
  {
   "cell_type": "code",
   "execution_count": 29,
   "metadata": {},
   "outputs": [
    {
     "data": {
      "text/markdown": [
       "#### Clean data path"
      ],
      "text/plain": [
       "<IPython.core.display.Markdown object>"
      ]
     },
     "metadata": {},
     "output_type": "display_data"
    },
    {
     "data": {
      "text/markdown": [
       "[C:/Users/tan/src/regional-pm-2023/data/clean/utilities/energy/electricity_use](C:/Users/tan/src/regional-pm-2023/data/clean/utilities/energy/electricity_use)"
      ],
      "text/plain": [
       "<IPython.core.display.Markdown object>"
      ]
     },
     "metadata": {},
     "output_type": "display_data"
    }
   ],
   "source": [
    "display(Markdown('#### Clean data path'))\n",
    "clean_dir_path = str(CONFIG['clean_dir']).replace('\\\\', '/')\n",
    "display(Markdown(f\"[{clean_dir_path}]({clean_dir_path})\"))"
   ]
  },
  {
   "cell_type": "code",
   "execution_count": 30,
   "metadata": {},
   "outputs": [],
   "source": [
    "electricity_use.to_csv(\n",
    "    CONFIG['clean_dir']\n",
    "    / f'{INDICATOR}_odp.csv'\n",
    ")"
   ]
  }
 ],
 "metadata": {
  "kernelspec": {
   "display_name": ".venv",
   "language": "python",
   "name": "python3"
  },
  "language_info": {
   "codemirror_mode": {
    "name": "ipython",
    "version": 3
   },
   "file_extension": ".py",
   "mimetype": "text/x-python",
   "name": "python",
   "nbconvert_exporter": "python",
   "pygments_lexer": "ipython3",
   "version": "3.11.3"
  },
  "orig_nbformat": 4
 },
 "nbformat": 4,
 "nbformat_minor": 2
}
