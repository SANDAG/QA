{
 "cells": [
  {
   "cell_type": "markdown",
   "metadata": {},
   "source": [
    "# Estimate Tests"
   ]
  },
  {
   "cell_type": "markdown",
   "metadata": {},
   "source": []
  },
  {
   "cell_type": "code",
   "execution_count": 1,
   "metadata": {},
   "outputs": [],
   "source": [
    "import os \n",
    "import pandas as pd\n",
    "import numpy as np\n",
    "import glob\n",
    "import pyodbc\n",
    "import gc"
   ]
  },
  {
   "cell_type": "markdown",
   "metadata": {},
   "source": [
    "SQL Data"
   ]
  },
  {
   "cell_type": "code",
   "execution_count": 3,
   "metadata": {},
   "outputs": [],
   "source": [
    "conn = pyodbc.connect('Driver={ODBC Driver 17 for SQL Server};'\n",
    "                    'Server=DDAMWSQL16.sandag.org;'\n",
    "                    'Database=estimates;'\n",
    "                    'Trusted_Connection=yes;')"
   ]
  },
  {
   "cell_type": "code",
   "execution_count": 4,
   "metadata": {},
   "outputs": [],
   "source": [
    "age_query = '''SELECT [mgra_id]\n",
    "      ,[yr_id]\n",
    "      ,[age_group_id]\n",
    "      ,[population]\n",
    "  FROM [estimates].[est_2021_01].[dw_age]'''\n",
    "\n",
    "age_df =  pd.read_sql_query(age_query, conn) #example df"
   ]
  },
  {
   "cell_type": "markdown",
   "metadata": {},
   "source": [
    "Dummy data"
   ]
  },
  {
   "cell_type": "code",
   "execution_count": 15,
   "metadata": {},
   "outputs": [
    {
     "data": {
      "text/html": [
       "<div>\n",
       "<style scoped>\n",
       "    .dataframe tbody tr th:only-of-type {\n",
       "        vertical-align: middle;\n",
       "    }\n",
       "\n",
       "    .dataframe tbody tr th {\n",
       "        vertical-align: top;\n",
       "    }\n",
       "\n",
       "    .dataframe thead th {\n",
       "        text-align: right;\n",
       "    }\n",
       "</style>\n",
       "<table border=\"1\" class=\"dataframe\">\n",
       "  <thead>\n",
       "    <tr style=\"text-align: right;\">\n",
       "      <th></th>\n",
       "      <th>cpa</th>\n",
       "      <th>yr_id</th>\n",
       "      <th>Under 5</th>\n",
       "      <th>5 to 9</th>\n",
       "      <th>10 to 14</th>\n",
       "      <th>15 to 17</th>\n",
       "      <th>18 and 19</th>\n",
       "      <th>20 to 24</th>\n",
       "      <th>25 to 29</th>\n",
       "      <th>30 to 34</th>\n",
       "      <th>...</th>\n",
       "      <th>Mobile Home</th>\n",
       "      <th>Single-family Detached</th>\n",
       "      <th>Single-family Attached</th>\n",
       "      <th>Total Population</th>\n",
       "      <th>Household Population</th>\n",
       "      <th>Group Quarters - Military</th>\n",
       "      <th>Group Quarters - College</th>\n",
       "      <th>Group Quarters - Other</th>\n",
       "      <th>Female</th>\n",
       "      <th>Male</th>\n",
       "    </tr>\n",
       "  </thead>\n",
       "  <tbody>\n",
       "    <tr>\n",
       "      <th>0</th>\n",
       "      <td>*Not in a CPA*</td>\n",
       "      <td>2010</td>\n",
       "      <td>90871</td>\n",
       "      <td>88551</td>\n",
       "      <td>91299</td>\n",
       "      <td>58584</td>\n",
       "      <td>38383</td>\n",
       "      <td>100872</td>\n",
       "      <td>95918</td>\n",
       "      <td>87962</td>\n",
       "      <td>...</td>\n",
       "      <td>23408</td>\n",
       "      <td>0</td>\n",
       "      <td>0</td>\n",
       "      <td>1307092</td>\n",
       "      <td>1278994</td>\n",
       "      <td>12565</td>\n",
       "      <td>757</td>\n",
       "      <td>14776</td>\n",
       "      <td>662153</td>\n",
       "      <td>644939</td>\n",
       "    </tr>\n",
       "    <tr>\n",
       "      <th>1</th>\n",
       "      <td>*Not in a CPA*</td>\n",
       "      <td>2011</td>\n",
       "      <td>92624</td>\n",
       "      <td>89970</td>\n",
       "      <td>91020</td>\n",
       "      <td>58625</td>\n",
       "      <td>37208</td>\n",
       "      <td>102829</td>\n",
       "      <td>95803</td>\n",
       "      <td>89077</td>\n",
       "      <td>...</td>\n",
       "      <td>23521</td>\n",
       "      <td>0</td>\n",
       "      <td>0</td>\n",
       "      <td>1319085</td>\n",
       "      <td>1292819</td>\n",
       "      <td>11006</td>\n",
       "      <td>732</td>\n",
       "      <td>14528</td>\n",
       "      <td>666987</td>\n",
       "      <td>652098</td>\n",
       "    </tr>\n",
       "    <tr>\n",
       "      <th>2</th>\n",
       "      <td>*Not in a CPA*</td>\n",
       "      <td>2012</td>\n",
       "      <td>94265</td>\n",
       "      <td>92503</td>\n",
       "      <td>90614</td>\n",
       "      <td>59753</td>\n",
       "      <td>37398</td>\n",
       "      <td>105358</td>\n",
       "      <td>94585</td>\n",
       "      <td>90851</td>\n",
       "      <td>...</td>\n",
       "      <td>23579</td>\n",
       "      <td>0</td>\n",
       "      <td>0</td>\n",
       "      <td>1334407</td>\n",
       "      <td>1308219</td>\n",
       "      <td>10688</td>\n",
       "      <td>747</td>\n",
       "      <td>14753</td>\n",
       "      <td>674166</td>\n",
       "      <td>660241</td>\n",
       "    </tr>\n",
       "    <tr>\n",
       "      <th>3</th>\n",
       "      <td>*Not in a CPA*</td>\n",
       "      <td>2013</td>\n",
       "      <td>95707</td>\n",
       "      <td>95149</td>\n",
       "      <td>90674</td>\n",
       "      <td>60809</td>\n",
       "      <td>38364</td>\n",
       "      <td>107063</td>\n",
       "      <td>93448</td>\n",
       "      <td>92897</td>\n",
       "      <td>...</td>\n",
       "      <td>23679</td>\n",
       "      <td>0</td>\n",
       "      <td>0</td>\n",
       "      <td>1352612</td>\n",
       "      <td>1325969</td>\n",
       "      <td>10670</td>\n",
       "      <td>1003</td>\n",
       "      <td>14970</td>\n",
       "      <td>681992</td>\n",
       "      <td>670620</td>\n",
       "    </tr>\n",
       "    <tr>\n",
       "      <th>4</th>\n",
       "      <td>*Not in a CPA*</td>\n",
       "      <td>2014</td>\n",
       "      <td>96320</td>\n",
       "      <td>97534</td>\n",
       "      <td>91130</td>\n",
       "      <td>60475</td>\n",
       "      <td>39052</td>\n",
       "      <td>107246</td>\n",
       "      <td>92293</td>\n",
       "      <td>94577</td>\n",
       "      <td>...</td>\n",
       "      <td>23742</td>\n",
       "      <td>0</td>\n",
       "      <td>0</td>\n",
       "      <td>1365946</td>\n",
       "      <td>1338945</td>\n",
       "      <td>10777</td>\n",
       "      <td>1184</td>\n",
       "      <td>15040</td>\n",
       "      <td>688018</td>\n",
       "      <td>677928</td>\n",
       "    </tr>\n",
       "  </tbody>\n",
       "</table>\n",
       "<p>5 rows × 54 columns</p>\n",
       "</div>"
      ],
      "text/plain": [
       "              cpa  yr_id  Under 5  5 to 9  10 to 14  15 to 17  18 and 19  \\\n",
       "0  *Not in a CPA*   2010    90871   88551     91299     58584      38383   \n",
       "1  *Not in a CPA*   2011    92624   89970     91020     58625      37208   \n",
       "2  *Not in a CPA*   2012    94265   92503     90614     59753      37398   \n",
       "3  *Not in a CPA*   2013    95707   95149     90674     60809      38364   \n",
       "4  *Not in a CPA*   2014    96320   97534     91130     60475      39052   \n",
       "\n",
       "   20 to 24  25 to 29  30 to 34  ...  Mobile Home  Single-family Detached  \\\n",
       "0    100872     95918     87962  ...        23408                       0   \n",
       "1    102829     95803     89077  ...        23521                       0   \n",
       "2    105358     94585     90851  ...        23579                       0   \n",
       "3    107063     93448     92897  ...        23679                       0   \n",
       "4    107246     92293     94577  ...        23742                       0   \n",
       "\n",
       "   Single-family Attached  Total Population  Household Population  \\\n",
       "0                       0           1307092               1278994   \n",
       "1                       0           1319085               1292819   \n",
       "2                       0           1334407               1308219   \n",
       "3                       0           1352612               1325969   \n",
       "4                       0           1365946               1338945   \n",
       "\n",
       "   Group Quarters - Military  Group Quarters - College  \\\n",
       "0                      12565                       757   \n",
       "1                      11006                       732   \n",
       "2                      10688                       747   \n",
       "3                      10670                      1003   \n",
       "4                      10777                      1184   \n",
       "\n",
       "   Group Quarters - Other  Female    Male  \n",
       "0                   14776  662153  644939  \n",
       "1                   14528  666987  652098  \n",
       "2                   14753  674166  660241  \n",
       "3                   14970  681992  670620  \n",
       "4                   15040  688018  677928  \n",
       "\n",
       "[5 rows x 54 columns]"
      ]
     },
     "execution_count": 15,
     "metadata": {},
     "output_type": "execute_result"
    }
   ],
   "source": [
    "df = pd.read_csv('data/2020_06_consolidated_cpa_QA.csv')\n",
    "df.head()"
   ]
  },
  {
   "cell_type": "markdown",
   "metadata": {},
   "source": [
    "# Checking for null values"
   ]
  },
  {
   "cell_type": "markdown",
   "metadata": {},
   "source": [
    "If using sql query:"
   ]
  },
  {
   "cell_type": "code",
   "execution_count": 5,
   "metadata": {},
   "outputs": [],
   "source": [
    "age_query = '''SELECT [mgra_id]\n",
    "      ,[yr_id]\n",
    "      ,[age_group_id]\n",
    "      ,[population]\n",
    "  FROM [estimates].[est_2021_01].[dw_age]\n",
    "  WHERE [mgra_id] is NULL'''\n",
    "\n",
    "age_df =  pd.read_sql_query(age_query, conn)"
   ]
  },
  {
   "cell_type": "code",
   "execution_count": 6,
   "metadata": {},
   "outputs": [
    {
     "data": {
      "text/html": [
       "<div>\n",
       "<style scoped>\n",
       "    .dataframe tbody tr th:only-of-type {\n",
       "        vertical-align: middle;\n",
       "    }\n",
       "\n",
       "    .dataframe tbody tr th {\n",
       "        vertical-align: top;\n",
       "    }\n",
       "\n",
       "    .dataframe thead th {\n",
       "        text-align: right;\n",
       "    }\n",
       "</style>\n",
       "<table border=\"1\" class=\"dataframe\">\n",
       "  <thead>\n",
       "    <tr style=\"text-align: right;\">\n",
       "      <th></th>\n",
       "      <th>mgra_id</th>\n",
       "      <th>yr_id</th>\n",
       "      <th>age_group_id</th>\n",
       "      <th>population</th>\n",
       "    </tr>\n",
       "  </thead>\n",
       "  <tbody>\n",
       "  </tbody>\n",
       "</table>\n",
       "</div>"
      ],
      "text/plain": [
       "Empty DataFrame\n",
       "Columns: [mgra_id, yr_id, age_group_id, population]\n",
       "Index: []"
      ]
     },
     "execution_count": 6,
     "metadata": {},
     "output_type": "execute_result"
    }
   ],
   "source": [
    "age_df # no null vals so empty"
   ]
  },
  {
   "cell_type": "markdown",
   "metadata": {},
   "source": [
    "If using a df:"
   ]
  },
  {
   "cell_type": "code",
   "execution_count": 16,
   "metadata": {},
   "outputs": [],
   "source": [
    "def spot_nulls(df):\n",
    "    if (df.isna().sum() != 0).any():\n",
    "        print('Null values present')\n",
    "        return df.columns[df.isnull().any()].tolist() # returns the column names that have null vals"
   ]
  },
  {
   "cell_type": "code",
   "execution_count": 17,
   "metadata": {},
   "outputs": [],
   "source": [
    "spot_nulls(df)"
   ]
  },
  {
   "cell_type": "markdown",
   "metadata": {},
   "source": [
    "Code for Y-o-Y change using outputs saved by Eric as dummy (Prabina)\n",
    "Threshold Analysis- Calculate Year-on-Year % changes and flag  changes >5%"
   ]
  },
  {
   "cell_type": "markdown",
   "metadata": {},
   "source": [
    "# Year-on-Year % change"
   ]
  },
  {
   "cell_type": "code",
   "execution_count": 30,
   "metadata": {},
   "outputs": [],
   "source": [
    "def yearly_change(df, col, region_level):\n",
    "    df = df.loc[:,~df.columns.isin([region_level])] \n",
    "    pop_change = df.groupby('yr_id').sum().pct_change()[[col]]\n",
    "    return pop_change[pop_change[col]>0.05].index.to_list() # returns years that have changes more than 5%"
   ]
  },
  {
   "cell_type": "code",
   "execution_count": 31,
   "metadata": {},
   "outputs": [
    {
     "data": {
      "text/plain": [
       "[]"
      ]
     },
     "execution_count": 31,
     "metadata": {},
     "output_type": "execute_result"
    }
   ],
   "source": [
    "yearly_change(df, 'Total Population', 'cpa')"
   ]
  },
  {
   "cell_type": "code",
   "execution_count": null,
   "metadata": {},
   "outputs": [],
   "source": []
  }
 ],
 "metadata": {
  "kernelspec": {
   "display_name": "Python 3.8.8 ('base')",
   "language": "python",
   "name": "python3"
  },
  "language_info": {
   "codemirror_mode": {
    "name": "ipython",
    "version": 3
   },
   "file_extension": ".py",
   "mimetype": "text/x-python",
   "name": "python",
   "nbconvert_exporter": "python",
   "pygments_lexer": "ipython3",
   "version": "3.8.8"
  },
  "orig_nbformat": 4,
  "vscode": {
   "interpreter": {
    "hash": "ad2bdc8ecc057115af97d19610ffacc2b4e99fae6737bb82f5d7fb13d2f2c186"
   }
  }
 },
 "nbformat": 4,
 "nbformat_minor": 2
}
