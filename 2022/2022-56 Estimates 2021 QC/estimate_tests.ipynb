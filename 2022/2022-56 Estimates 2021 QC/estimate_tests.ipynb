{
 "cells": [
  {
   "cell_type": "markdown",
   "metadata": {},
   "source": [
    "# Estimate Tests\n",
    "This is the master file.  \n",
    "Test Plan: https://sandag.sharepoint.com/:o:/r/qaqc/_layouts/15/Doc.aspx?sourcedoc=%7Bcdbc0ab4-0dd8-4b28-bc55-126bf1e23a09%7D&action=edit&wd=target(Untitled%20Section.one%7C9946b4ef-58e5-497b-b0ef-cc8a04b47b51%2FTest%20Plan%7C40159c9b-17bb-4f3a-a26a-6b4796057c01%2F)\n",
    "\n",
    "Project Folder: https://sandag.sharepoint.com/qaqc/Shared%20Documents/Forms/AllItems.aspx?id=%2Fqaqc%2FShared%20Documents%2FProjects%2F2022%2F2022%2D56%20Estimates%202021%20QC&viewid=55f948d8%2Dbe65%2D49f6%2Da164%2D4c080cbb683e\n",
    "\n"
   ]
  },
  {
   "cell_type": "code",
   "execution_count": null,
   "metadata": {},
   "outputs": [],
   "source": []
  },
  {
   "cell_type": "code",
   "execution_count": null,
   "metadata": {},
   "outputs": [],
   "source": []
  }
 ],
 "metadata": {
  "kernelspec": {
   "display_name": "Python 3.8.8 ('base')",
   "language": "python",
   "name": "python3"
  },
  "language_info": {
   "name": "python",
   "version": "3.8.8"
  },
  "orig_nbformat": 4,
  "vscode": {
   "interpreter": {
    "hash": "6db16e9940ad839c1e288012a4d7b04c8c55c67646ae73b178066b197eb654ea"
   }
  }
 },
 "nbformat": 4,
 "nbformat_minor": 2
}
