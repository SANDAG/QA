{
 "cells": [
  {
   "cell_type": "markdown",
   "metadata": {},
   "source": [
    "# 2022-48 Census Building Permit ETL QC\n",
    "Test Plan: https://sandag.sharepoint.com/:o:/r/qaqc/_layouts/15/Doc.aspx?sourcedoc=%7Bc2c3f693-42fd-4ef1-be35-d81805feb277%7D&action=editnew"
   ]
  },
  {
   "cell_type": "markdown",
   "metadata": {},
   "source": [
    "## Library Imports"
   ]
  },
  {
   "cell_type": "code",
   "execution_count": 33,
   "metadata": {},
   "outputs": [],
   "source": [
    "import pandas as pd\n",
    "import numpy as np\n",
    "import pyodbc\n",
    "\n",
    "from pathlib import Path"
   ]
  },
  {
   "cell_type": "markdown",
   "metadata": {},
   "source": [
    "## Downloading Data"
   ]
  },
  {
   "cell_type": "code",
   "execution_count": 32,
   "metadata": {},
   "outputs": [],
   "source": [
    "def download_data(year):\n",
    "    \"\"\"\n",
    "    This function downloads source, staging, and production data of Census Building Permits for the\n",
    "    input year\n",
    "\n",
    "    :param year:    The year of data to download\n",
    "    :returns:       Tuple containing raw data (1 df), staging data (2 dfs), and production data \n",
    "                    (2 dfs) for the input year\n",
    "    \"\"\"\n",
    "    # raw data is stored in the following folder\n",
    "    raw_folder = Path(r\"R:\\DPOE\\Census\\Census Building Permits\\Source\\raw\")\n",
    "    \n",
    "    # get raw data files for the input year (multiple files can exist)\n",
    "    raw_data_files = raw_folder.glob(f\"co{year}*\")\n",
    "\n",
    "    # get the raw data for the input year\n",
    "    df_list = []\n",
    "    for file in raw_data_files:\n",
    "        df_list.append(pd.read_csv(file, index_col=None, header=0))\n",
    "    raw_data = pd.concat(df_list, axis=0, ignore_index=True)\n",
    "\n",
    "    # create a connection to the SQL server\n",
    "    conn = pyodbc.connect('Driver={ODBC Driver 17 for SQL Server};'\n",
    "        'Server=DDAMWSQL16.sandag.org;'\n",
    "        'Database=dpoe_stage;'\n",
    "        'Trusted_Connection=yes;')\n",
    "\n",
    "    # get the staging data for the input year\n",
    "    # note staging data has two tables, county_annual_dbo and county_geo_id_dbo\n",
    "    annual_dbo_query = \"SELECT * \"\\\n",
    "        f\"FROM dpoe_stage.census_building_permits.county_annual_dbo WHERE yr={year};\"\n",
    "    geo_id_dbo_query = \"SELECT * \"\\\n",
    "        f\"FROM dpoe_stage.census_building_permits.county_geo_id_dbo WHERE yr={year};\"\n",
    "    staging_data = [pd.read_sql_query(annual_dbo_query, conn), \n",
    "        pd.read_sql_query(geo_id_dbo_query, conn)]\n",
    "\n",
    "    # get the production data for the input year\n",
    "    # note production data has two tables, county_annual and county_geo_id\n",
    "    annual_query = \"SELECT * \"\\\n",
    "        f\"FROM socioec_data.census_building_permits.county_annual WHERE yr={year};\"\n",
    "    geo_id_query = \"SELECT * \"\\\n",
    "        f\"FROM socioec_data.census_building_permits.county_geo_id WHERE yr={year};\"\n",
    "    production_data = [pd.read_sql_query(annual_query, conn), pd.read_sql_query(geo_id_query, conn)]\n",
    "\n",
    "    # return the raw, staging, and production data\n",
    "    return (raw_data, staging_data[0], staging_data[1], production_data[0], production_data[1])"
   ]
  }
 ],
 "metadata": {
  "kernelspec": {
   "display_name": "Python 3.9.12 ('SANDAG')",
   "language": "python",
   "name": "python3"
  },
  "language_info": {
   "codemirror_mode": {
    "name": "ipython",
    "version": 3
   },
   "file_extension": ".py",
   "mimetype": "text/x-python",
   "name": "python",
   "nbconvert_exporter": "python",
   "pygments_lexer": "ipython3",
   "version": "3.9.12"
  },
  "orig_nbformat": 4,
  "vscode": {
   "interpreter": {
    "hash": "41c20cbfa603768ded13150453b5681e701a59febb16590ec3ab380b595ec114"
   }
  }
 },
 "nbformat": 4,
 "nbformat_minor": 2
}
