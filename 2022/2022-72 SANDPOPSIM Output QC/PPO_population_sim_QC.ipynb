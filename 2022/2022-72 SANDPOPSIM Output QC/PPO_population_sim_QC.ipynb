{
 "cells": [
  {
   "cell_type": "code",
   "execution_count": 1,
   "metadata": {},
   "outputs": [],
   "source": [
    "import numpy as np\n",
    "import pandas as pd"
   ]
  },
  {
   "cell_type": "code",
   "execution_count": 2,
   "metadata": {},
   "outputs": [
    {
     "data": {
      "text/html": [
       "<div>\n",
       "<style scoped>\n",
       "    .dataframe tbody tr th:only-of-type {\n",
       "        vertical-align: middle;\n",
       "    }\n",
       "\n",
       "    .dataframe tbody tr th {\n",
       "        vertical-align: top;\n",
       "    }\n",
       "\n",
       "    .dataframe thead th {\n",
       "        text-align: right;\n",
       "    }\n",
       "</style>\n",
       "<table border=\"1\" class=\"dataframe\">\n",
       "  <thead>\n",
       "    <tr style=\"text-align: right;\">\n",
       "      <th></th>\n",
       "      <th>tract</th>\n",
       "      <th>mgra</th>\n",
       "      <th>household_id</th>\n",
       "      <th>SPORDER</th>\n",
       "      <th>AGEP</th>\n",
       "      <th>SEX</th>\n",
       "      <th>ESR</th>\n",
       "      <th>COW</th>\n",
       "      <th>WKHP</th>\n",
       "      <th>SCHG</th>\n",
       "      <th>RAC1P</th>\n",
       "      <th>HISP</th>\n",
       "      <th>MIL</th>\n",
       "      <th>isWorker</th>\n",
       "    </tr>\n",
       "  </thead>\n",
       "  <tbody>\n",
       "    <tr>\n",
       "      <td>0</td>\n",
       "      <td>18100.0</td>\n",
       "      <td>245</td>\n",
       "      <td>1</td>\n",
       "      <td>1</td>\n",
       "      <td>52</td>\n",
       "      <td>2</td>\n",
       "      <td>1.0</td>\n",
       "      <td>1.0</td>\n",
       "      <td>40.0</td>\n",
       "      <td>NaN</td>\n",
       "      <td>1</td>\n",
       "      <td>2</td>\n",
       "      <td>4.0</td>\n",
       "      <td>1</td>\n",
       "    </tr>\n",
       "    <tr>\n",
       "      <td>1</td>\n",
       "      <td>18100.0</td>\n",
       "      <td>245</td>\n",
       "      <td>1</td>\n",
       "      <td>2</td>\n",
       "      <td>39</td>\n",
       "      <td>1</td>\n",
       "      <td>3.0</td>\n",
       "      <td>1.0</td>\n",
       "      <td>40.0</td>\n",
       "      <td>NaN</td>\n",
       "      <td>1</td>\n",
       "      <td>2</td>\n",
       "      <td>4.0</td>\n",
       "      <td>0</td>\n",
       "    </tr>\n",
       "    <tr>\n",
       "      <td>2</td>\n",
       "      <td>18100.0</td>\n",
       "      <td>245</td>\n",
       "      <td>1</td>\n",
       "      <td>3</td>\n",
       "      <td>79</td>\n",
       "      <td>2</td>\n",
       "      <td>6.0</td>\n",
       "      <td>NaN</td>\n",
       "      <td>NaN</td>\n",
       "      <td>NaN</td>\n",
       "      <td>1</td>\n",
       "      <td>2</td>\n",
       "      <td>4.0</td>\n",
       "      <td>0</td>\n",
       "    </tr>\n",
       "    <tr>\n",
       "      <td>3</td>\n",
       "      <td>18100.0</td>\n",
       "      <td>245</td>\n",
       "      <td>2</td>\n",
       "      <td>1</td>\n",
       "      <td>25</td>\n",
       "      <td>2</td>\n",
       "      <td>4.0</td>\n",
       "      <td>5.0</td>\n",
       "      <td>50.0</td>\n",
       "      <td>15.0</td>\n",
       "      <td>6</td>\n",
       "      <td>2</td>\n",
       "      <td>1.0</td>\n",
       "      <td>1</td>\n",
       "    </tr>\n",
       "    <tr>\n",
       "      <td>4</td>\n",
       "      <td>18100.0</td>\n",
       "      <td>245</td>\n",
       "      <td>2</td>\n",
       "      <td>2</td>\n",
       "      <td>24</td>\n",
       "      <td>1</td>\n",
       "      <td>1.0</td>\n",
       "      <td>6.0</td>\n",
       "      <td>20.0</td>\n",
       "      <td>15.0</td>\n",
       "      <td>1</td>\n",
       "      <td>1</td>\n",
       "      <td>2.0</td>\n",
       "      <td>1</td>\n",
       "    </tr>\n",
       "  </tbody>\n",
       "</table>\n",
       "</div>"
      ],
      "text/plain": [
       "     tract  mgra  household_id  SPORDER  AGEP  SEX  ESR  COW  WKHP  SCHG  \\\n",
       "0  18100.0   245             1        1    52    2  1.0  1.0  40.0   NaN   \n",
       "1  18100.0   245             1        2    39    1  3.0  1.0  40.0   NaN   \n",
       "2  18100.0   245             1        3    79    2  6.0  NaN   NaN   NaN   \n",
       "3  18100.0   245             2        1    25    2  4.0  5.0  50.0  15.0   \n",
       "4  18100.0   245             2        2    24    1  1.0  6.0  20.0  15.0   \n",
       "\n",
       "   RAC1P  HISP  MIL  isWorker  \n",
       "0      1     2  4.0         1  \n",
       "1      1     2  4.0         0  \n",
       "2      1     2  4.0         0  \n",
       "3      6     2  1.0         1  \n",
       "4      1     1  2.0         1  "
      ]
     },
     "execution_count": 2,
     "metadata": {},
     "output_type": "execute_result"
    }
   ],
   "source": [
    "persons =pd.read_csv('synthetic_persons.csv') # focus on persons\n",
    "persons.head()"
   ]
  },
  {
   "cell_type": "code",
   "execution_count": 3,
   "metadata": {},
   "outputs": [
    {
     "data": {
      "text/html": [
       "<div>\n",
       "<style scoped>\n",
       "    .dataframe tbody tr th:only-of-type {\n",
       "        vertical-align: middle;\n",
       "    }\n",
       "\n",
       "    .dataframe tbody tr th {\n",
       "        vertical-align: top;\n",
       "    }\n",
       "\n",
       "    .dataframe thead th {\n",
       "        text-align: right;\n",
       "    }\n",
       "</style>\n",
       "<table border=\"1\" class=\"dataframe\">\n",
       "  <thead>\n",
       "    <tr style=\"text-align: right;\">\n",
       "      <th></th>\n",
       "      <th>household_id</th>\n",
       "      <th>tract</th>\n",
       "      <th>mgra</th>\n",
       "      <th>NP</th>\n",
       "      <th>HHADJINC</th>\n",
       "      <th>ADJINC</th>\n",
       "      <th>HHT</th>\n",
       "      <th>WIF</th>\n",
       "      <th>HUPAC</th>\n",
       "      <th>VEH</th>\n",
       "      <th>numWorkers</th>\n",
       "      <th>GQ_type</th>\n",
       "    </tr>\n",
       "  </thead>\n",
       "  <tbody>\n",
       "    <tr>\n",
       "      <td>0</td>\n",
       "      <td>1</td>\n",
       "      <td>18100.0</td>\n",
       "      <td>245</td>\n",
       "      <td>3</td>\n",
       "      <td>121500.0</td>\n",
       "      <td>1010145</td>\n",
       "      <td>3.0</td>\n",
       "      <td>2.0</td>\n",
       "      <td>4.0</td>\n",
       "      <td>3.0</td>\n",
       "      <td>1.0</td>\n",
       "      <td>NaN</td>\n",
       "    </tr>\n",
       "    <tr>\n",
       "      <td>1</td>\n",
       "      <td>2</td>\n",
       "      <td>18100.0</td>\n",
       "      <td>245</td>\n",
       "      <td>3</td>\n",
       "      <td>75400.0</td>\n",
       "      <td>1010145</td>\n",
       "      <td>1.0</td>\n",
       "      <td>2.0</td>\n",
       "      <td>1.0</td>\n",
       "      <td>2.0</td>\n",
       "      <td>2.0</td>\n",
       "      <td>NaN</td>\n",
       "    </tr>\n",
       "    <tr>\n",
       "      <td>2</td>\n",
       "      <td>3</td>\n",
       "      <td>18100.0</td>\n",
       "      <td>245</td>\n",
       "      <td>3</td>\n",
       "      <td>45800.0</td>\n",
       "      <td>1010145</td>\n",
       "      <td>3.0</td>\n",
       "      <td>1.0</td>\n",
       "      <td>4.0</td>\n",
       "      <td>1.0</td>\n",
       "      <td>1.0</td>\n",
       "      <td>NaN</td>\n",
       "    </tr>\n",
       "    <tr>\n",
       "      <td>3</td>\n",
       "      <td>4</td>\n",
       "      <td>18100.0</td>\n",
       "      <td>245</td>\n",
       "      <td>3</td>\n",
       "      <td>70000.0</td>\n",
       "      <td>1010145</td>\n",
       "      <td>1.0</td>\n",
       "      <td>2.0</td>\n",
       "      <td>1.0</td>\n",
       "      <td>2.0</td>\n",
       "      <td>2.0</td>\n",
       "      <td>NaN</td>\n",
       "    </tr>\n",
       "    <tr>\n",
       "      <td>4</td>\n",
       "      <td>5</td>\n",
       "      <td>18100.0</td>\n",
       "      <td>245</td>\n",
       "      <td>1</td>\n",
       "      <td>35700.0</td>\n",
       "      <td>1010145</td>\n",
       "      <td>6.0</td>\n",
       "      <td>NaN</td>\n",
       "      <td>4.0</td>\n",
       "      <td>1.0</td>\n",
       "      <td>1.0</td>\n",
       "      <td>NaN</td>\n",
       "    </tr>\n",
       "  </tbody>\n",
       "</table>\n",
       "</div>"
      ],
      "text/plain": [
       "   household_id    tract  mgra  NP  HHADJINC   ADJINC  HHT  WIF  HUPAC  VEH  \\\n",
       "0             1  18100.0   245   3  121500.0  1010145  3.0  2.0    4.0  3.0   \n",
       "1             2  18100.0   245   3   75400.0  1010145  1.0  2.0    1.0  2.0   \n",
       "2             3  18100.0   245   3   45800.0  1010145  3.0  1.0    4.0  1.0   \n",
       "3             4  18100.0   245   3   70000.0  1010145  1.0  2.0    1.0  2.0   \n",
       "4             5  18100.0   245   1   35700.0  1010145  6.0  NaN    4.0  1.0   \n",
       "\n",
       "   numWorkers  GQ_type  \n",
       "0         1.0      NaN  \n",
       "1         2.0      NaN  \n",
       "2         1.0      NaN  \n",
       "3         2.0      NaN  \n",
       "4         1.0      NaN  "
      ]
     },
     "execution_count": 3,
     "metadata": {},
     "output_type": "execute_result"
    }
   ],
   "source": [
    "households=pd.read_csv('synthetic_households.csv')\n",
    "households.head()\n"
   ]
  },
  {
   "cell_type": "markdown",
   "metadata": {},
   "source": [
    "11.1 All ESR b, 3, 6 have 'isWorker'=0 \n",
    "- if less than 16 yo (b) or unemployed (3) or not in labor force (6), their `is_worker` code is 0"
   ]
  },
  {
   "cell_type": "code",
   "execution_count": 54,
   "metadata": {},
   "outputs": [
    {
     "data": {
      "text/plain": [
       "array([0], dtype=int64)"
      ]
     },
     "execution_count": 54,
     "metadata": {},
     "output_type": "execute_result"
    }
   ],
   "source": [
    "persons[(np.isnan(persons['ESR'])) | (persons['ESR'] == 3) | (persons['ESR'] == 6)]['isWorker'].unique()"
   ]
  },
  {
   "cell_type": "markdown",
   "metadata": {},
   "source": [
    "True"
   ]
  },
  {
   "cell_type": "markdown",
   "metadata": {},
   "source": [
    "11.2 All ESR b have age < 16 \n",
    "- if less than 16 (b), age also less than 16"
   ]
  },
  {
   "cell_type": "code",
   "execution_count": 57,
   "metadata": {},
   "outputs": [
    {
     "data": {
      "text/html": [
       "<div>\n",
       "<style scoped>\n",
       "    .dataframe tbody tr th:only-of-type {\n",
       "        vertical-align: middle;\n",
       "    }\n",
       "\n",
       "    .dataframe tbody tr th {\n",
       "        vertical-align: top;\n",
       "    }\n",
       "\n",
       "    .dataframe thead th {\n",
       "        text-align: right;\n",
       "    }\n",
       "</style>\n",
       "<table border=\"1\" class=\"dataframe\">\n",
       "  <thead>\n",
       "    <tr style=\"text-align: right;\">\n",
       "      <th></th>\n",
       "      <th>tract</th>\n",
       "      <th>mgra</th>\n",
       "      <th>household_id</th>\n",
       "      <th>SPORDER</th>\n",
       "      <th>AGEP</th>\n",
       "      <th>SEX</th>\n",
       "      <th>ESR</th>\n",
       "      <th>COW</th>\n",
       "      <th>WKHP</th>\n",
       "      <th>SCHG</th>\n",
       "      <th>RAC1P</th>\n",
       "      <th>HISP</th>\n",
       "      <th>MIL</th>\n",
       "      <th>isWorker</th>\n",
       "    </tr>\n",
       "  </thead>\n",
       "  <tbody>\n",
       "    <tr>\n",
       "      <td>5</td>\n",
       "      <td>18100.0</td>\n",
       "      <td>245</td>\n",
       "      <td>2</td>\n",
       "      <td>3</td>\n",
       "      <td>4</td>\n",
       "      <td>2</td>\n",
       "      <td>NaN</td>\n",
       "      <td>NaN</td>\n",
       "      <td>NaN</td>\n",
       "      <td>1.0</td>\n",
       "      <td>6</td>\n",
       "      <td>2</td>\n",
       "      <td>NaN</td>\n",
       "      <td>0</td>\n",
       "    </tr>\n",
       "    <tr>\n",
       "      <td>11</td>\n",
       "      <td>18100.0</td>\n",
       "      <td>245</td>\n",
       "      <td>4</td>\n",
       "      <td>3</td>\n",
       "      <td>5</td>\n",
       "      <td>2</td>\n",
       "      <td>NaN</td>\n",
       "      <td>NaN</td>\n",
       "      <td>NaN</td>\n",
       "      <td>2.0</td>\n",
       "      <td>1</td>\n",
       "      <td>3</td>\n",
       "      <td>NaN</td>\n",
       "      <td>0</td>\n",
       "    </tr>\n",
       "    <tr>\n",
       "      <td>16</td>\n",
       "      <td>18100.0</td>\n",
       "      <td>245</td>\n",
       "      <td>7</td>\n",
       "      <td>3</td>\n",
       "      <td>1</td>\n",
       "      <td>1</td>\n",
       "      <td>NaN</td>\n",
       "      <td>NaN</td>\n",
       "      <td>NaN</td>\n",
       "      <td>NaN</td>\n",
       "      <td>3</td>\n",
       "      <td>2</td>\n",
       "      <td>NaN</td>\n",
       "      <td>0</td>\n",
       "    </tr>\n",
       "    <tr>\n",
       "      <td>19</td>\n",
       "      <td>18100.0</td>\n",
       "      <td>245</td>\n",
       "      <td>8</td>\n",
       "      <td>3</td>\n",
       "      <td>10</td>\n",
       "      <td>2</td>\n",
       "      <td>NaN</td>\n",
       "      <td>NaN</td>\n",
       "      <td>NaN</td>\n",
       "      <td>7.0</td>\n",
       "      <td>1</td>\n",
       "      <td>1</td>\n",
       "      <td>NaN</td>\n",
       "      <td>0</td>\n",
       "    </tr>\n",
       "    <tr>\n",
       "      <td>20</td>\n",
       "      <td>18100.0</td>\n",
       "      <td>245</td>\n",
       "      <td>8</td>\n",
       "      <td>4</td>\n",
       "      <td>9</td>\n",
       "      <td>1</td>\n",
       "      <td>NaN</td>\n",
       "      <td>NaN</td>\n",
       "      <td>NaN</td>\n",
       "      <td>6.0</td>\n",
       "      <td>1</td>\n",
       "      <td>1</td>\n",
       "      <td>NaN</td>\n",
       "      <td>0</td>\n",
       "    </tr>\n",
       "  </tbody>\n",
       "</table>\n",
       "</div>"
      ],
      "text/plain": [
       "      tract  mgra  household_id  SPORDER  AGEP  SEX  ESR  COW  WKHP  SCHG  \\\n",
       "5   18100.0   245             2        3     4    2  NaN  NaN   NaN   1.0   \n",
       "11  18100.0   245             4        3     5    2  NaN  NaN   NaN   2.0   \n",
       "16  18100.0   245             7        3     1    1  NaN  NaN   NaN   NaN   \n",
       "19  18100.0   245             8        3    10    2  NaN  NaN   NaN   7.0   \n",
       "20  18100.0   245             8        4     9    1  NaN  NaN   NaN   6.0   \n",
       "\n",
       "    RAC1P  HISP  MIL  isWorker  \n",
       "5       6     2  NaN         0  \n",
       "11      1     3  NaN         0  \n",
       "16      3     2  NaN         0  \n",
       "19      1     1  NaN         0  \n",
       "20      1     1  NaN         0  "
      ]
     },
     "execution_count": 57,
     "metadata": {},
     "output_type": "execute_result"
    }
   ],
   "source": [
    "less_than_16 = persons[np.isnan(persons['ESR'])]\n",
    "less_than_16.head()"
   ]
  },
  {
   "cell_type": "code",
   "execution_count": 56,
   "metadata": {},
   "outputs": [
    {
     "data": {
      "text/plain": [
       "True"
      ]
     },
     "execution_count": 56,
     "metadata": {},
     "output_type": "execute_result"
    }
   ],
   "source": [
    "(less_than_16['AGEP']<16).all()"
   ]
  },
  {
   "cell_type": "markdown",
   "metadata": {},
   "source": [
    "True"
   ]
  },
  {
   "cell_type": "markdown",
   "metadata": {},
   "source": [
    "11.3 All ESR b has COW of b \n",
    "- if less than 16, not in universe (b)"
   ]
  },
  {
   "cell_type": "code",
   "execution_count": 8,
   "metadata": {},
   "outputs": [
    {
     "data": {
      "text/plain": [
       "array([nan])"
      ]
     },
     "execution_count": 8,
     "metadata": {},
     "output_type": "execute_result"
    }
   ],
   "source": [
    "(less_than_16['COW']).unique()"
   ]
  },
  {
   "cell_type": "markdown",
   "metadata": {},
   "source": [
    "True"
   ]
  },
  {
   "cell_type": "markdown",
   "metadata": {},
   "source": [
    "11.4 All ESR 3 or 6 have 'isWorker'= 0 \n",
    "- if unemployed (3) or not in labor force (6), they're not workers (0)"
   ]
  },
  {
   "cell_type": "code",
   "execution_count": 9,
   "metadata": {},
   "outputs": [
    {
     "data": {
      "text/plain": [
       "array([0], dtype=int64)"
      ]
     },
     "execution_count": 9,
     "metadata": {},
     "output_type": "execute_result"
    }
   ],
   "source": [
    "persons[(persons['ESR'] == 3) | (persons['ESR'] == 6)]['isWorker'].unique()"
   ]
  },
  {
   "cell_type": "markdown",
   "metadata": {},
   "source": [
    "True"
   ]
  },
  {
   "cell_type": "markdown",
   "metadata": {},
   "source": [
    "11.5 All ESR 3 or 6 have COW of b or 9 \n",
    "- if unemployed (3) or not in labor force (6), they're not in universe (b) or unemployed (9)"
   ]
  },
  {
   "cell_type": "code",
   "execution_count": 10,
   "metadata": {},
   "outputs": [
    {
     "data": {
      "text/plain": [
       "array([ 1., nan,  6.,  3.,  2.,  4.,  9.,  7.,  5.,  8.])"
      ]
     },
     "execution_count": 10,
     "metadata": {},
     "output_type": "execute_result"
    }
   ],
   "source": [
    "persons[(persons['ESR'] == 3) | (persons['ESR'] == 6)]['COW'].unique()"
   ]
  },
  {
   "cell_type": "markdown",
   "metadata": {},
   "source": [
    "#### False, marking unemployed people in ESR as employed in COW"
   ]
  },
  {
   "cell_type": "code",
   "execution_count": 30,
   "metadata": {},
   "outputs": [],
   "source": [
    "persons[(persons['ESR'] == 3) | (persons['ESR'] == 6)].to_csv('persons_with_ESR_3_or_6.csv')"
   ]
  },
  {
   "cell_type": "markdown",
   "metadata": {},
   "source": [
    "see output to learn more about persons whose ESR = 3 or 6"
   ]
  },
  {
   "cell_type": "markdown",
   "metadata": {},
   "source": [
    "11.6 Range of hours worked for (ESR 1 or 4) and (ESR 2 and 5) is reasonable"
   ]
  },
  {
   "cell_type": "code",
   "execution_count": 31,
   "metadata": {},
   "outputs": [
    {
     "data": {
      "text/plain": [
       "1.0"
      ]
     },
     "execution_count": 31,
     "metadata": {},
     "output_type": "execute_result"
    }
   ],
   "source": [
    "persons[(persons['ESR'] == 1) | (persons['ESR'] == 4)]['WKHP'].min()"
   ]
  },
  {
   "cell_type": "code",
   "execution_count": 32,
   "metadata": {},
   "outputs": [
    {
     "data": {
      "text/plain": [
       "99.0"
      ]
     },
     "execution_count": 32,
     "metadata": {},
     "output_type": "execute_result"
    }
   ],
   "source": [
    "persons[(persons['ESR'] == 1) | (persons['ESR'] == 4)]['WKHP'].max()"
   ]
  },
  {
   "cell_type": "code",
   "execution_count": 33,
   "metadata": {},
   "outputs": [
    {
     "data": {
      "text/plain": [
       "1.0"
      ]
     },
     "execution_count": 33,
     "metadata": {},
     "output_type": "execute_result"
    }
   ],
   "source": [
    "persons[(persons['ESR'] == 2) | (persons['ESR'] == 5)]['WKHP'].min()"
   ]
  },
  {
   "cell_type": "code",
   "execution_count": 34,
   "metadata": {},
   "outputs": [
    {
     "data": {
      "text/plain": [
       "99.0"
      ]
     },
     "execution_count": 34,
     "metadata": {},
     "output_type": "execute_result"
    }
   ],
   "source": [
    "persons[(persons['ESR'] == 2) | (persons['ESR'] == 5)]['WKHP'].max()"
   ]
  },
  {
   "cell_type": "markdown",
   "metadata": {},
   "source": [
    "99 is a bit too high but if someone is working two jobs and working 14 hours a day, it's possible so pass"
   ]
  },
  {
   "cell_type": "markdown",
   "metadata": {},
   "source": [
    "11.7 ESR 4 or 5 have MIL of 1 or 3\n",
    "- if in armed forces (4, 5), MIL says on active duty (1, 3) "
   ]
  },
  {
   "cell_type": "code",
   "execution_count": 13,
   "metadata": {},
   "outputs": [
    {
     "data": {
      "text/plain": [
       "array([1., 3.])"
      ]
     },
     "execution_count": 13,
     "metadata": {},
     "output_type": "execute_result"
    }
   ],
   "source": [
    "persons[(persons['ESR'] == 4) | (persons['ESR'] == 5)]['MIL'].unique()"
   ]
  },
  {
   "cell_type": "markdown",
   "metadata": {},
   "source": [
    "11.8 Is there a pattern in COW values for those with MIL code != b or 4\n",
    "- if served in military (1,2,3 in MIL), how do their work setting vary?"
   ]
  },
  {
   "cell_type": "code",
   "execution_count": 39,
   "metadata": {},
   "outputs": [
    {
     "data": {
      "text/plain": [
       "array([ 5.,  6.,  1., nan,  2.,  7.,  3.,  4.,  8.,  9.])"
      ]
     },
     "execution_count": 39,
     "metadata": {},
     "output_type": "execute_result"
    }
   ],
   "source": [
    "persons[~((np.isnan(persons['MIL'])) | (persons['MIL'] == 4))]['COW'].unique()"
   ]
  },
  {
   "cell_type": "markdown",
   "metadata": {},
   "source": [
    "No variation; they work in all sorts of industry like private or public or self-employed"
   ]
  },
  {
   "cell_type": "markdown",
   "metadata": {},
   "source": [
    "11.9 All MIL b and ESR b have age < 17\n",
    "- if under 17 (MIL.b) or under 16 (ESR.b), does age correctly identify them as under 17?"
   ]
  },
  {
   "cell_type": "code",
   "execution_count": 41,
   "metadata": {},
   "outputs": [
    {
     "data": {
      "text/plain": [
       "array([ 4,  5,  1, 10,  9,  6,  2,  3, 16, 13,  8,  7,  0, 12, 15, 14, 11],\n",
       "      dtype=int64)"
      ]
     },
     "execution_count": 41,
     "metadata": {},
     "output_type": "execute_result"
    }
   ],
   "source": [
    "persons[pd.isna(persons['MIL'])]['AGEP'].unique()"
   ]
  },
  {
   "cell_type": "code",
   "execution_count": 42,
   "metadata": {},
   "outputs": [
    {
     "data": {
      "text/plain": [
       "array([ 4,  5,  1, 10,  9,  6,  2,  3, 13,  8,  7,  0, 12, 15, 14, 11],\n",
       "      dtype=int64)"
      ]
     },
     "execution_count": 42,
     "metadata": {},
     "output_type": "execute_result"
    }
   ],
   "source": [
    "persons[pd.isna(persons['ESR'])]['AGEP'].unique()"
   ]
  },
  {
   "cell_type": "markdown",
   "metadata": {},
   "source": [
    "True"
   ]
  },
  {
   "cell_type": "markdown",
   "metadata": {},
   "source": [
    "11.10 All MIL 1 have ESR = 4 or 5  \n",
    "- if in active duty (1), are they under armed forces (4, 5)?"
   ]
  },
  {
   "cell_type": "code",
   "execution_count": 25,
   "metadata": {},
   "outputs": [
    {
     "data": {
      "text/plain": [
       "array([4., 5.])"
      ]
     },
     "execution_count": 25,
     "metadata": {},
     "output_type": "execute_result"
    }
   ],
   "source": [
    "persons[persons['MIL'] == 1]['ESR'].unique()"
   ]
  },
  {
   "cell_type": "markdown",
   "metadata": {},
   "source": [
    "True"
   ]
  },
  {
   "cell_type": "markdown",
   "metadata": {},
   "source": [
    "11.11 All ESR 4 or 5 have age <= 60\n",
    "- if on armed forces (4,5), are they all younger than 61?"
   ]
  },
  {
   "cell_type": "code",
   "execution_count": 49,
   "metadata": {},
   "outputs": [
    {
     "data": {
      "text/plain": [
       "array([25, 35, 34, 26, 27, 36, 46, 22, 21, 30, 23, 32, 33, 37, 29, 31, 40,\n",
       "       28, 48, 24, 20, 52, 39, 47, 54, 41, 42, 38, 49, 50, 44, 19, 43, 45,\n",
       "       60, 51, 57, 18, 17], dtype=int64)"
      ]
     },
     "execution_count": 49,
     "metadata": {},
     "output_type": "execute_result"
    }
   ],
   "source": [
    "persons[(persons['ESR'] == 4) | (persons['ESR'] == 5)]['AGEP'].unique();;///////'''']]'''"
   ]
  },
  {
   "cell_type": "markdown",
   "metadata": {},
   "source": [
    "True"
   ]
  },
  {
   "cell_type": "markdown",
   "metadata": {},
   "source": [
    "11.12 All MIL 1 has isWorker 1 and ESR 4 or 5. Pattern in their COWs?\n",
    "- if on active duty (1), they're all working (1) and they are armed forces (4, 5). Plus, is there a variation in the type of job they perform (COWs)?"
   ]
  },
  {
   "cell_type": "code",
   "execution_count": 59,
   "metadata": {},
   "outputs": [
    {
     "data": {
      "text/plain": [
       "array([1], dtype=int64)"
      ]
     },
     "execution_count": 59,
     "metadata": {},
     "output_type": "execute_result"
    }
   ],
   "source": [
    "persons[persons['MIL'] == 1]['isWorker'].unique()"
   ]
  },
  {
   "cell_type": "code",
   "execution_count": 60,
   "metadata": {},
   "outputs": [
    {
     "data": {
      "text/plain": [
       "array([4., 5.])"
      ]
     },
     "execution_count": 60,
     "metadata": {},
     "output_type": "execute_result"
    }
   ],
   "source": [
    "persons[persons['MIL'] == 1]['ESR'].unique()"
   ]
  },
  {
   "cell_type": "code",
   "execution_count": 62,
   "metadata": {},
   "outputs": [
    {
     "data": {
      "text/plain": [
       "array([5.])"
      ]
     },
     "execution_count": 62,
     "metadata": {},
     "output_type": "execute_result"
    }
   ],
   "source": [
    "persons[persons['MIL'] == 1]['COW'].unique() # ans 5 is federal government employee"
   ]
  },
  {
   "cell_type": "markdown",
   "metadata": {},
   "source": [
    "True"
   ]
  },
  {
   "cell_type": "markdown",
   "metadata": {},
   "source": [
    "11.13 All MIL = 1 or 3 have age <= 60\n",
    "- if in active duty, aged 60 and below?"
   ]
  },
  {
   "cell_type": "code",
   "execution_count": 64,
   "metadata": {},
   "outputs": [
    {
     "data": {
      "text/plain": [
       "array([25, 35, 34, 26, 27, 36, 37, 72, 46, 83, 22, 21, 30, 23, 32, 33, 29,\n",
       "       31, 40, 28, 65, 48, 80, 24, 59, 43, 82, 71, 20, 50, 76, 70, 74, 69,\n",
       "       52, 89, 54, 67, 39, 75, 49, 86, 79, 47, 60, 42, 58, 68, 81, 73, 55,\n",
       "       57, 78, 84, 90, 38, 41, 53, 66, 64, 19, 44, 77, 61, 45, 63, 94, 56,\n",
       "       51, 87, 62, 85, 18, 17], dtype=int64)"
      ]
     },
     "execution_count": 64,
     "metadata": {},
     "output_type": "execute_result"
    }
   ],
   "source": [
    "persons[(persons['MIL'] == 1) | (persons['MIL'] == 3)]['AGEP'].unique()"
   ]
  },
  {
   "cell_type": "markdown",
   "metadata": {},
   "source": [
    "We notice some who are older than 60. Is it related to those who are now in active duty (1) or only on active duty for training (3)?"
   ]
  },
  {
   "cell_type": "code",
   "execution_count": 65,
   "metadata": {},
   "outputs": [
    {
     "data": {
      "text/plain": [
       "array([25, 35, 34, 26, 27, 36, 46, 22, 21, 30, 23, 32, 33, 37, 29, 31, 40,\n",
       "       28, 48, 24, 20, 52, 39, 47, 54, 41, 42, 38, 49, 50, 44, 19, 43, 45,\n",
       "       60, 51, 57, 18, 17], dtype=int64)"
      ]
     },
     "execution_count": 65,
     "metadata": {},
     "output_type": "execute_result"
    }
   ],
   "source": [
    "persons[(persons['MIL'] == 1)]['AGEP'].unique()"
   ]
  },
  {
   "cell_type": "code",
   "execution_count": 66,
   "metadata": {},
   "outputs": [
    {
     "data": {
      "text/plain": [
       "array([37, 72, 83, 34, 27, 25, 65, 80, 33, 59, 43, 82, 71, 30, 50, 76, 70,\n",
       "       74, 69, 89, 54, 67, 75, 49, 86, 46, 79, 60, 42, 58, 23, 68, 81, 73,\n",
       "       55, 32, 48, 57, 20, 47, 40, 78, 21, 84, 90, 38, 31, 53, 66, 64, 39,\n",
       "       19, 44, 35, 77, 52, 61, 28, 63, 29, 26, 94, 56, 87, 36, 62, 85, 45],\n",
       "      dtype=int64)"
      ]
     },
     "execution_count": 66,
     "metadata": {},
     "output_type": "execute_result"
    }
   ],
   "source": [
    "persons[(persons['MIL'] == 3)]['AGEP'].unique()"
   ]
  },
  {
   "cell_type": "markdown",
   "metadata": {},
   "source": [
    "Those who are in active duty for training are older than 60"
   ]
  },
  {
   "cell_type": "code",
   "execution_count": 28,
   "metadata": {},
   "outputs": [
    {
     "data": {
      "text/plain": [
       "252655"
      ]
     },
     "execution_count": 28,
     "metadata": {},
     "output_type": "execute_result"
    }
   ],
   "source": [
    "persons[(persons['COW'] == 6) | (persons['COW'] == 7) | (persons['COW'] == 8)].shape[0]"
   ]
  },
  {
   "cell_type": "code",
   "execution_count": null,
   "metadata": {},
   "outputs": [],
   "source": []
  },
  {
   "cell_type": "code",
   "execution_count": null,
   "metadata": {},
   "outputs": [],
   "source": []
  }
 ],
 "metadata": {
  "kernelspec": {
   "display_name": "Python 3.7.4 ('base')",
   "language": "python",
   "name": "python3"
  },
  "language_info": {
   "codemirror_mode": {
    "name": "ipython",
    "version": 3
   },
   "file_extension": ".py",
   "mimetype": "text/x-python",
   "name": "python",
   "nbconvert_exporter": "python",
   "pygments_lexer": "ipython3",
   "version": "3.7.4"
  },
  "orig_nbformat": 4,
  "vscode": {
   "interpreter": {
    "hash": "9a180aef4ec9e360bb4800443a6eb7a9f30ffd5c78c81dec888953dc96acba15"
   }
  }
 },
 "nbformat": 4,
 "nbformat_minor": 2
}
