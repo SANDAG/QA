{
 "cells": [
  {
   "cell_type": "markdown",
   "metadata": {},
   "source": [
    "# SANDAG Populationsim QC"
   ]
  },
  {
   "cell_type": "code",
   "execution_count": 1,
   "metadata": {},
   "outputs": [],
   "source": [
    "import pandas as pd\n",
    "import numpy as np\n",
    "import pyodbc\n",
    "import glob\n",
    "import copy"
   ]
  },
  {
   "cell_type": "markdown",
   "metadata": {},
   "source": [
    "# Data Preparation"
   ]
  },
  {
   "cell_type": "markdown",
   "metadata": {},
   "source": [
    "### Download Populationsim data"
   ]
  },
  {
   "cell_type": "code",
   "execution_count": 2,
   "metadata": {},
   "outputs": [],
   "source": [
    "synthetic_households = pd.read_csv('C:/Users/cra/San Diego Association of Governments/SANDAG QA QC - Documents/Projects/2022/2022-72 SANDPOPSIM Output QC/Population Sim Outputs/synthetic_households.csv')\n",
    "synthetic_persons = pd.read_csv('C:/Users/cra/San Diego Association of Governments/SANDAG QA QC - Documents/Projects/2022/2022-72 SANDPOPSIM Output QC/Population Sim Outputs/synthetic_persons.csv')"
   ]
  },
  {
   "cell_type": "markdown",
   "metadata": {},
   "source": [
    "### Download Crosswalk Data"
   ]
  },
  {
   "cell_type": "code",
   "execution_count": 3,
   "metadata": {},
   "outputs": [],
   "source": [
    "# Download Data\n",
    "conn = pyodbc.connect('Driver={ODBC Driver 17 for SQL Server};'\n",
    "                      'Server=SQL2014B8.sandag.org;'\n",
    "                      'Database=GeoDepot;'\n",
    "                      'Trusted_Connection=yes;')\n",
    "\n",
    "query = '''SELECT\n",
    "      [MGRA]\n",
    "\t  ,cpa_data.NAME AS CPA\n",
    "\t  ,jur_data.Name AS Jurisdiction\n",
    "      ,[LUZ]\n",
    "  FROM [GeoDepot].[gis].[MGRA15] as mgra_base\n",
    "  LEFT JOIN [GeoDepot].[gis].[CITIES] AS jur_data\n",
    "  ON mgra_base.City = jur_data.City\n",
    "  LEFT JOIN [GeoDepot].[gis].[CITYCPA] AS cpa_data\n",
    "  ON mgra_base.CPA = cpa_data.CPA'''\n",
    "\n",
    "crosswalk = pd.read_sql_query(query,conn)"
   ]
  },
  {
   "cell_type": "code",
   "execution_count": 4,
   "metadata": {},
   "outputs": [],
   "source": [
    "# Appending to synthetic data\n",
    "synthetic_households= synthetic_households.merge(crosswalk, left_on='mgra', right_on='MGRA', how='left')\n",
    "synthetic_persons = synthetic_persons.merge(crosswalk, left_on='mgra', right_on='MGRA', how='left')"
   ]
  },
  {
   "cell_type": "code",
   "execution_count": 5,
   "metadata": {},
   "outputs": [],
   "source": [
    "synthetic_persons['Region'] = 'San Diego'\n",
    "synthetic_households['Region'] = 'San Diego'"
   ]
  },
  {
   "cell_type": "markdown",
   "metadata": {},
   "source": [
    "### Georgaphy Groupings"
   ]
  },
  {
   "cell_type": "code",
   "execution_count": 6,
   "metadata": {},
   "outputs": [],
   "source": [
    "# Synthetic Population (SP)\n",
    "sh_mgra = pd.DataFrame(synthetic_households['mgra'].value_counts()).rename(columns={'mgra':'Total'})\n",
    "sh_mgra.index.name = 'mgra'\n",
    "\n",
    "sh_tract = pd.DataFrame(synthetic_households['tract'].value_counts()).rename(columns={'tract':'Total'})\n",
    "sh_tract.index.name = 'tract'\n",
    "\n",
    "sh_CPA = pd.DataFrame(synthetic_households['CPA'].value_counts()).rename(columns={'CPA':'Total'})\n",
    "sh_CPA.index.name = 'CPA'\n",
    "\n",
    "sh_jurisdiction = pd.DataFrame(synthetic_households['Jurisdiction'].value_counts()).rename(columns={'Jurisdiction':'Total'})\n",
    "sh_jurisdiction.index.name = 'Jurisdiction'\n",
    "\n",
    "sh_LUZ = pd.DataFrame(synthetic_households['LUZ'].value_counts()).rename(columns={'LUZ':'Total'})\n",
    "sh_LUZ.index.name = 'LUZ'\n",
    "\n",
    "sh_Region = pd.DataFrame(synthetic_households['Region'].value_counts()).rename(columns={'Region':'Total'})\n",
    "sh_Region.index.name = 'Region'"
   ]
  },
  {
   "cell_type": "code",
   "execution_count": 7,
   "metadata": {},
   "outputs": [],
   "source": [
    "# Synthetic Persons (SP)\n",
    "sp_mgra = pd.DataFrame(synthetic_persons['mgra'].value_counts()).rename(columns={'mgra':'Total'})\n",
    "sp_mgra.index.name = 'mgra'\n",
    "\n",
    "sp_tract = pd.DataFrame(synthetic_persons['tract'].value_counts()).rename(columns={'tract':'Total'})\n",
    "sp_tract.index.name = 'tract'\n",
    "\n",
    "sp_CPA = pd.DataFrame(synthetic_persons['CPA'].value_counts()).rename(columns={'CPA':'Total'})\n",
    "sp_CPA.index.name = 'CPA'\n",
    "\n",
    "sp_jurisdiction = pd.DataFrame(synthetic_persons['Jurisdiction'].value_counts()).rename(columns={'Jurisdiction':'Total'})\n",
    "sp_jurisdiction.index.name = 'Jurisdiction'\n",
    "\n",
    "sp_LUZ = pd.DataFrame(synthetic_persons['LUZ'].value_counts()).rename(columns={'LUZ':'Total'})\n",
    "sp_LUZ.index.name = 'LUZ'\n",
    "\n",
    "sp_Region = pd.DataFrame(synthetic_persons['Region'].value_counts()).rename(columns={'Region':'Total'})\n",
    "sp_Region.index.name = 'Region'"
   ]
  },
  {
   "cell_type": "markdown",
   "metadata": {},
   "source": [
    "# Internal Consistency Checks\n",
    "Reminder: Tract and CPA should not match "
   ]
  },
  {
   "cell_type": "code",
   "execution_count": 8,
   "metadata": {},
   "outputs": [
    {
     "name": "stdout",
     "output_type": "stream",
     "text": [
      "MGRA total - 3361280\n",
      "Tract total - 3247180\n",
      "CPA total - 1440291\n",
      "Jurisdiction Total - 3361280\n",
      "LUZ total - 3361280\n",
      "Region total - 3361280\n"
     ]
    }
   ],
   "source": [
    "# Synthetic Persons\n",
    "print(f\"MGRA total - {sp_mgra['Total'].sum()}\")\n",
    "print(f\"Tract total - {sp_tract['Total'].sum()}\")\n",
    "print(f\"CPA total - {sp_CPA['Total'].sum()}\")\n",
    "print(f\"Jurisdiction Total - {sp_jurisdiction['Total'].sum()}\")\n",
    "print(f\"LUZ total - {sp_LUZ['Total'].sum()}\")\n",
    "print(f\"Region total - {sp_Region['Total'].sum()}\")"
   ]
  },
  {
   "cell_type": "code",
   "execution_count": 9,
   "metadata": {},
   "outputs": [
    {
     "name": "stdout",
     "output_type": "stream",
     "text": [
      "MGRA total - 1267147\n",
      "Tract total - 1153047\n",
      "CPA total - 579807\n",
      "Jurisdiction Total - 1267147\n",
      "LUZ total - 1267147\n",
      "Region total - 1267147\n"
     ]
    }
   ],
   "source": [
    "# Synthetic Households\n",
    "print(f\"MGRA total - {sh_mgra['Total'].sum()}\")\n",
    "print(f\"Tract total - {sh_tract['Total'].sum()}\")\n",
    "print(f\"CPA total - {sh_CPA['Total'].sum()}\")\n",
    "print(f\"Jurisdiction Total - {sh_jurisdiction['Total'].sum()}\")\n",
    "print(f\"LUZ total - {sh_LUZ['Total'].sum()}\")\n",
    "print(f\"Region total - {sh_Region['Total'].sum()}\")"
   ]
  },
  {
   "cell_type": "markdown",
   "metadata": {},
   "source": [
    "# Comparison with Forecasts\n",
    "- Can't do a one to one check, will need to check a rough estimate\n",
    "- The only forecast available at the moment is the 2019 base year forecast "
   ]
  },
  {
   "cell_type": "code",
   "execution_count": 12,
   "metadata": {},
   "outputs": [],
   "source": [
    "forecast_data_mgra = pd.read_csv('J:/DataScience/DataQuality/QAQC/forecast_automation/mgra_series_15_2019_CSV_outputs/mgra_2019_CSV_Data_ind_QA.csv')"
   ]
  },
  {
   "cell_type": "markdown",
   "metadata": {},
   "source": [
    "## Comparing Population Values at MGRA/Juridiction/Region Levels"
   ]
  },
  {
   "cell_type": "markdown",
   "metadata": {},
   "source": [
    "### MGRA Level Check"
   ]
  },
  {
   "cell_type": "code",
   "execution_count": 30,
   "metadata": {},
   "outputs": [
    {
     "data": {
      "text/html": [
       "<div>\n",
       "<style scoped>\n",
       "    .dataframe tbody tr th:only-of-type {\n",
       "        vertical-align: middle;\n",
       "    }\n",
       "\n",
       "    .dataframe tbody tr th {\n",
       "        vertical-align: top;\n",
       "    }\n",
       "\n",
       "    .dataframe thead th {\n",
       "        text-align: right;\n",
       "    }\n",
       "</style>\n",
       "<table border=\"1\" class=\"dataframe\">\n",
       "  <thead>\n",
       "    <tr style=\"text-align: right;\">\n",
       "      <th></th>\n",
       "      <th>mgra</th>\n",
       "      <th>popsim_pop</th>\n",
       "      <th>forecast_pop</th>\n",
       "      <th>Diff</th>\n",
       "    </tr>\n",
       "  </thead>\n",
       "  <tbody>\n",
       "    <tr>\n",
       "      <th>2</th>\n",
       "      <td>4929</td>\n",
       "      <td>8528</td>\n",
       "      <td>4264</td>\n",
       "      <td>4264</td>\n",
       "    </tr>\n",
       "    <tr>\n",
       "      <th>9</th>\n",
       "      <td>7507</td>\n",
       "      <td>4228</td>\n",
       "      <td>3623</td>\n",
       "      <td>605</td>\n",
       "    </tr>\n",
       "    <tr>\n",
       "      <th>15</th>\n",
       "      <td>19747</td>\n",
       "      <td>3194</td>\n",
       "      <td>2742</td>\n",
       "      <td>452</td>\n",
       "    </tr>\n",
       "    <tr>\n",
       "      <th>0</th>\n",
       "      <td>5878</td>\n",
       "      <td>11396</td>\n",
       "      <td>11018</td>\n",
       "      <td>378</td>\n",
       "    </tr>\n",
       "    <tr>\n",
       "      <th>14</th>\n",
       "      <td>2428</td>\n",
       "      <td>3395</td>\n",
       "      <td>3028</td>\n",
       "      <td>367</td>\n",
       "    </tr>\n",
       "    <tr>\n",
       "      <th>...</th>\n",
       "      <td>...</td>\n",
       "      <td>...</td>\n",
       "      <td>...</td>\n",
       "      <td>...</td>\n",
       "    </tr>\n",
       "    <tr>\n",
       "      <th>59</th>\n",
       "      <td>19499</td>\n",
       "      <td>1465</td>\n",
       "      <td>1610</td>\n",
       "      <td>-145</td>\n",
       "    </tr>\n",
       "    <tr>\n",
       "      <th>592</th>\n",
       "      <td>2768</td>\n",
       "      <td>673</td>\n",
       "      <td>821</td>\n",
       "      <td>-148</td>\n",
       "    </tr>\n",
       "    <tr>\n",
       "      <th>30</th>\n",
       "      <td>6963</td>\n",
       "      <td>1952</td>\n",
       "      <td>2105</td>\n",
       "      <td>-153</td>\n",
       "    </tr>\n",
       "    <tr>\n",
       "      <th>32</th>\n",
       "      <td>13437</td>\n",
       "      <td>1852</td>\n",
       "      <td>2013</td>\n",
       "      <td>-161</td>\n",
       "    </tr>\n",
       "    <tr>\n",
       "      <th>42</th>\n",
       "      <td>19717</td>\n",
       "      <td>1636</td>\n",
       "      <td>1828</td>\n",
       "      <td>-192</td>\n",
       "    </tr>\n",
       "  </tbody>\n",
       "</table>\n",
       "<p>18902 rows × 4 columns</p>\n",
       "</div>"
      ],
      "text/plain": [
       "      mgra  popsim_pop  forecast_pop  Diff\n",
       "2     4929        8528          4264  4264\n",
       "9     7507        4228          3623   605\n",
       "15   19747        3194          2742   452\n",
       "0     5878       11396         11018   378\n",
       "14    2428        3395          3028   367\n",
       "..     ...         ...           ...   ...\n",
       "59   19499        1465          1610  -145\n",
       "592   2768         673           821  -148\n",
       "30    6963        1952          2105  -153\n",
       "32   13437        1852          2013  -161\n",
       "42   19717        1636          1828  -192\n",
       "\n",
       "[18902 rows x 4 columns]"
      ]
     },
     "execution_count": 30,
     "metadata": {},
     "output_type": "execute_result"
    }
   ],
   "source": [
    "mgra_population = forecast_data_mgra[['mgra','pop']]\n",
    "mgra_persons_comparison = sp_mgra.reset_index().merge(mgra_population, how='left', on='mgra')\n",
    "mgra_persons_comparison.columns = ['mgra', 'popsim_pop', 'forecast_pop']\n",
    "mgra_persons_comparison['Diff'] = mgra_persons_comparison['popsim_pop'] - mgra_persons_comparison['forecast_pop']\n",
    "mgra_persons_comparison = mgra_persons_comparison.sort_values('Diff', ascending=False)\n",
    "\n",
    "mgra_persons_comparison"
   ]
  },
  {
   "cell_type": "code",
   "execution_count": null,
   "metadata": {},
   "outputs": [],
   "source": []
  },
  {
   "cell_type": "code",
   "execution_count": null,
   "metadata": {},
   "outputs": [],
   "source": []
  },
  {
   "cell_type": "code",
   "execution_count": null,
   "metadata": {},
   "outputs": [],
   "source": []
  },
  {
   "cell_type": "code",
   "execution_count": null,
   "metadata": {},
   "outputs": [],
   "source": []
  },
  {
   "cell_type": "code",
   "execution_count": null,
   "metadata": {},
   "outputs": [],
   "source": []
  },
  {
   "cell_type": "markdown",
   "metadata": {},
   "source": [
    "# Comparison with LEHD Data"
   ]
  },
  {
   "cell_type": "markdown",
   "metadata": {},
   "source": []
  },
  {
   "cell_type": "code",
   "execution_count": null,
   "metadata": {},
   "outputs": [],
   "source": []
  },
  {
   "cell_type": "code",
   "execution_count": null,
   "metadata": {},
   "outputs": [],
   "source": []
  },
  {
   "cell_type": "code",
   "execution_count": null,
   "metadata": {},
   "outputs": [],
   "source": []
  }
 ],
 "metadata": {
  "kernelspec": {
   "display_name": "Python 3.8.8 ('base')",
   "language": "python",
   "name": "python3"
  },
  "language_info": {
   "codemirror_mode": {
    "name": "ipython",
    "version": 3
   },
   "file_extension": ".py",
   "mimetype": "text/x-python",
   "name": "python",
   "nbconvert_exporter": "python",
   "pygments_lexer": "ipython3",
   "version": "3.8.8"
  },
  "orig_nbformat": 4,
  "vscode": {
   "interpreter": {
    "hash": "6db16e9940ad839c1e288012a4d7b04c8c55c67646ae73b178066b197eb654ea"
   }
  }
 },
 "nbformat": 4,
 "nbformat_minor": 2
}
