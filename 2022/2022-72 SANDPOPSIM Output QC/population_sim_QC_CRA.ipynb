{
 "cells": [
  {
   "cell_type": "markdown",
   "metadata": {},
   "source": [
    "# SANDAG Populationsim QC"
   ]
  },
  {
   "cell_type": "code",
   "execution_count": 1,
   "metadata": {},
   "outputs": [],
   "source": [
    "import pandas as pd\n",
    "import numpy as np\n",
    "import pyodbc\n",
    "import glob\n",
    "import copy"
   ]
  },
  {
   "cell_type": "markdown",
   "metadata": {},
   "source": [
    "# Data Preparation"
   ]
  },
  {
   "cell_type": "markdown",
   "metadata": {},
   "source": [
    "### Download Populationsim data"
   ]
  },
  {
   "cell_type": "code",
   "execution_count": 2,
   "metadata": {},
   "outputs": [],
   "source": [
    "synthetic_households = pd.read_csv('C:/Users/cra/San Diego Association of Governments/SANDAG QA QC - Documents/Projects/2022/2022-72 SANDPOPSIM Output QC/Population Sim Outputs/synthetic_households.csv')\n",
    "synthetic_persons = pd.read_csv('C:/Users/cra/San Diego Association of Governments/SANDAG QA QC - Documents/Projects/2022/2022-72 SANDPOPSIM Output QC/Population Sim Outputs/synthetic_persons.csv')"
   ]
  },
  {
   "cell_type": "markdown",
   "metadata": {},
   "source": [
    "### Download Crosswalk Data"
   ]
  },
  {
   "cell_type": "code",
   "execution_count": 3,
   "metadata": {},
   "outputs": [],
   "source": [
    "# Download Data\n",
    "conn = pyodbc.connect('Driver={ODBC Driver 17 for SQL Server};'\n",
    "                      'Server=SQL2014B8.sandag.org;'\n",
    "                      'Database=GeoDepot;'\n",
    "                      'Trusted_Connection=yes;')\n",
    "\n",
    "query = '''SELECT\n",
    "      [MGRA]\n",
    "\t  ,cpa_data.NAME AS CPA\n",
    "\t  ,jur_data.Name AS Jurisdiction\n",
    "      ,[LUZ]\n",
    "  FROM [GeoDepot].[gis].[MGRA15] as mgra_base\n",
    "  LEFT JOIN [GeoDepot].[gis].[CITIES] AS jur_data\n",
    "  ON mgra_base.City = jur_data.City\n",
    "  LEFT JOIN [GeoDepot].[gis].[CITYCPA] AS cpa_data\n",
    "  ON mgra_base.CPA = cpa_data.CPA'''\n",
    "\n",
    "crosswalk = pd.read_sql_query(query,conn)"
   ]
  },
  {
   "cell_type": "code",
   "execution_count": 4,
   "metadata": {},
   "outputs": [],
   "source": [
    "# Appending to synthetic data\n",
    "synthetic_households= synthetic_households.merge(crosswalk, left_on='mgra', right_on='MGRA', how='left')\n",
    "synthetic_persons = synthetic_persons.merge(crosswalk, left_on='mgra', right_on='MGRA', how='left')"
   ]
  },
  {
   "cell_type": "code",
   "execution_count": 29,
   "metadata": {},
   "outputs": [],
   "source": [
    "synthetic_persons['Region'] = 'San Diego'\n",
    "synthetic_households['Region'] = 'San Diego'"
   ]
  },
  {
   "cell_type": "markdown",
   "metadata": {},
   "source": [
    "### Georgaphy Groupings"
   ]
  },
  {
   "cell_type": "code",
   "execution_count": 33,
   "metadata": {},
   "outputs": [],
   "source": [
    "# Synthetic Population (SP)\n",
    "sh_mgra = pd.DataFrame(synthetic_households['mgra'].value_counts()).rename(columns={'mgra':'Total'})\n",
    "sh_mgra.index.name = 'mgra'\n",
    "\n",
    "sh_tract = pd.DataFrame(synthetic_households['tract'].value_counts()).rename(columns={'tract':'Total'})\n",
    "sh_tract.index.name = 'tract'\n",
    "\n",
    "sh_CPA = pd.DataFrame(synthetic_households['CPA'].value_counts()).rename(columns={'CPA':'Total'})\n",
    "sh_CPA.index.name = 'CPA'\n",
    "\n",
    "sh_jurisdiction = pd.DataFrame(synthetic_households['Jurisdiction'].value_counts()).rename(columns={'Jurisdiction':'Total'})\n",
    "sh_jurisdiction.index.name = 'Jurisdiction'\n",
    "\n",
    "sh_LUZ = pd.DataFrame(synthetic_households['LUZ'].value_counts()).rename(columns={'LUZ':'Total'})\n",
    "sh_LUZ.index.name = 'LUZ'\n",
    "\n",
    "sh_Region = pd.DataFrame(synthetic_households['Region'].value_counts()).rename(columns={'Region':'Total'})\n",
    "sh_Region.index.name = 'Region'"
   ]
  },
  {
   "cell_type": "code",
   "execution_count": 34,
   "metadata": {},
   "outputs": [],
   "source": [
    "# Synthetic Persons (SP)\n",
    "sp_mgra = pd.DataFrame(synthetic_persons['mgra'].value_counts()).rename(columns={'mgra':'Total'})\n",
    "sp_mgra.index.name = 'mgra'\n",
    "\n",
    "sp_tract = pd.DataFrame(synthetic_persons['tract'].value_counts()).rename(columns={'tract':'Total'})\n",
    "sp_tract.index.name = 'tract'\n",
    "\n",
    "sp_CPA = pd.DataFrame(synthetic_persons['CPA'].value_counts()).rename(columns={'CPA':'Total'})\n",
    "sp_CPA.index.name = 'CPA'\n",
    "\n",
    "sp_jurisdiction = pd.DataFrame(synthetic_persons['Jurisdiction'].value_counts()).rename(columns={'Jurisdiction':'Total'})\n",
    "sp_jurisdiction.index.name = 'Jurisdiction'\n",
    "\n",
    "sp_LUZ = pd.DataFrame(synthetic_persons['LUZ'].value_counts()).rename(columns={'LUZ':'Total'})\n",
    "sp_LUZ.index.name = 'LUZ'\n",
    "\n",
    "sp_Region = pd.DataFrame(synthetic_persons['Region'].value_counts()).rename(columns={'Region':'Total'})\n",
    "sp_Region.index.name = 'Region'"
   ]
  },
  {
   "cell_type": "markdown",
   "metadata": {},
   "source": [
    "# Internal Consistency Checks\n",
    "Reminder: Tract and CPA should not match "
   ]
  },
  {
   "cell_type": "code",
   "execution_count": 39,
   "metadata": {},
   "outputs": [
    {
     "name": "stdout",
     "output_type": "stream",
     "text": [
      "MGRA total - 3361280\n",
      "Tract total - 3247180\n",
      "CPA total - 1440291\n",
      "Jurisdiction Total - 3361280\n",
      "LUZ total - 3361280\n",
      "Region total - 3361280\n"
     ]
    }
   ],
   "source": [
    "# Synthetic Persons\n",
    "print(f\"MGRA total - {sp_mgra['Total'].sum()}\")\n",
    "print(f\"Tract total - {sp_tract['Total'].sum()}\")\n",
    "print(f\"CPA total - {sp_CPA['Total'].sum()}\")\n",
    "print(f\"Jurisdiction Total - {sp_jurisdiction['Total'].sum()}\")\n",
    "print(f\"LUZ total - {sp_LUZ['Total'].sum()}\")\n",
    "print(f\"Region total - {sp_Region['Total'].sum()}\")"
   ]
  },
  {
   "cell_type": "code",
   "execution_count": 40,
   "metadata": {},
   "outputs": [
    {
     "name": "stdout",
     "output_type": "stream",
     "text": [
      "MGRA total - 1267147\n",
      "Tract total - 1153047\n",
      "CPA total - 579807\n",
      "Jurisdiction Total - 1267147\n",
      "LUZ total - 1267147\n",
      "Region total - 1267147\n"
     ]
    }
   ],
   "source": [
    "# Synthetic Households\n",
    "print(f\"MGRA total - {sh_mgra['Total'].sum()}\")\n",
    "print(f\"Tract total - {sh_tract['Total'].sum()}\")\n",
    "print(f\"CPA total - {sh_CPA['Total'].sum()}\")\n",
    "print(f\"Jurisdiction Total - {sh_jurisdiction['Total'].sum()}\")\n",
    "print(f\"LUZ total - {sh_LUZ['Total'].sum()}\")\n",
    "print(f\"Region total - {sh_Region['Total'].sum()}\")"
   ]
  },
  {
   "cell_type": "markdown",
   "metadata": {},
   "source": [
    "# Comparison with Forecasts\n",
    "- Can't do a one to one check, will need to check a rough estimate\n",
    "- The only forecast available at the moment is the 2019 base year forecast "
   ]
  },
  {
   "cell_type": "code",
   "execution_count": null,
   "metadata": {},
   "outputs": [],
   "source": []
  },
  {
   "cell_type": "code",
   "execution_count": null,
   "metadata": {},
   "outputs": [],
   "source": []
  },
  {
   "cell_type": "markdown",
   "metadata": {},
   "source": [
    "# Comparison with LEHD Data"
   ]
  },
  {
   "cell_type": "markdown",
   "metadata": {},
   "source": []
  },
  {
   "cell_type": "code",
   "execution_count": null,
   "metadata": {},
   "outputs": [],
   "source": []
  },
  {
   "cell_type": "code",
   "execution_count": null,
   "metadata": {},
   "outputs": [],
   "source": []
  },
  {
   "cell_type": "code",
   "execution_count": null,
   "metadata": {},
   "outputs": [],
   "source": []
  }
 ],
 "metadata": {
  "kernelspec": {
   "display_name": "Python 3.8.8 ('base')",
   "language": "python",
   "name": "python3"
  },
  "language_info": {
   "codemirror_mode": {
    "name": "ipython",
    "version": 3
   },
   "file_extension": ".py",
   "mimetype": "text/x-python",
   "name": "python",
   "nbconvert_exporter": "python",
   "pygments_lexer": "ipython3",
   "version": "3.8.8"
  },
  "orig_nbformat": 4,
  "vscode": {
   "interpreter": {
    "hash": "6db16e9940ad839c1e288012a4d7b04c8c55c67646ae73b178066b197eb654ea"
   }
  }
 },
 "nbformat": 4,
 "nbformat_minor": 2
}
