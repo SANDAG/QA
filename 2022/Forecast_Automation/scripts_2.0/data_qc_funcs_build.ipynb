{
 "cells": [
  {
   "cell_type": "markdown",
   "metadata": {},
   "source": [
    "# Data QC Functions\n",
    "This script houses all of the data QC functions."
   ]
  },
  {
   "cell_type": "code",
   "execution_count": 1,
   "metadata": {},
   "outputs": [],
   "source": [
    "# Import Libraries\n",
    "import pandas as pd\n",
    "import numpy as np\n",
    "import yaml\n",
    "import os\n",
    "import pyodbc\n",
    "import glob\n",
    "import copy\n",
    "import traceback\n",
    "import warnings\n",
    "warnings.filterwarnings('ignore')"
   ]
  },
  {
   "cell_type": "markdown",
   "metadata": {},
   "source": [
    "# Input Data"
   ]
  },
  {
   "cell_type": "code",
   "execution_count": 2,
   "metadata": {},
   "outputs": [],
   "source": [
    "# Information\n",
    "DATASOURCE_IDS = ['99']\n",
    "data_input_folder = 'J:/DataScience/DataQuality/QAQC/forecast_automation/mgra_series_13_outputs_CSV_data/aggregated_data/'\n",
    "data_output_folders = 'J:/DataScience/DataQuality/QAQC/forecast_automation/mgra_series_13_outputs_CSV_data'\n",
    "geography_levels = ['mgra', 'region']"
   ]
  },
  {
   "cell_type": "markdown",
   "metadata": {},
   "source": [
    "# Download Data"
   ]
  },
  {
   "cell_type": "code",
   "execution_count": 4,
   "metadata": {},
   "outputs": [
    {
     "name": "stdout",
     "output_type": "stream",
     "text": [
      "Now creating work for luz_DS99_ind_QA.csv\n",
      "luz_DS99_ind_QA.csv is uploaded\n",
      "Now creating work for mgra_DS99_ind_QA.csv\n",
      "mgra_DS99_ind_QA.csv is uploaded\n",
      "Now creating work for mgra_SQLDS99_ind_QA.csv\n",
      "mgra_SQLDS99_ind_QA.csv is uploaded\n",
      "Now creating work for region_DS99_ind_QA.csv\n",
      "region_DS99_ind_QA.csv is uploaded\n",
      "Now creating work for region_SQLDS99_ind_QA.csv\n",
      "region_SQLDS99_ind_QA.csv is uploaded\n",
      "Now creating work for taz_DS99_ind_QA.csv\n",
      "taz_DS99_ind_QA.csv is uploaded\n"
     ]
    }
   ],
   "source": [
    "# download all of the data \n",
    "all_data = {}\n",
    "for ds_id in DATASOURCE_IDS:\n",
    "    temp_dict = {}\n",
    "    for file in os.listdir(data_input_folder):\n",
    "        if (ds_id in file):\n",
    "            print(f\"Now creating work for {file}\")\n",
    "            # TODO: Have two folders input and output and have this grab from the input folder \n",
    "            temp_dict[file] = pd.read_csv(data_input_folder + file)\n",
    "            print(f\"{file} is uploaded\")\n",
    "    all_data[ds_id] = temp_dict"
   ]
  },
  {
   "cell_type": "markdown",
   "metadata": {},
   "source": [
    "# Internal Consistency Check"
   ]
  },
  {
   "cell_type": "code",
   "execution_count": 83,
   "metadata": {},
   "outputs": [],
   "source": [
    "def internal_consistency(DSID, specific_columns:False, level_comparison):\n",
    "    level_1_df = all_data[DSID][level_comparison[0] + f\"_DS{DSID}_ind_QA.csv\"]\n",
    "    level_2_df = all_data[DSID][level_comparison[1] + f\"_DS{DSID}_ind_QA.csv\"]\n",
    "\n",
    "    # Check the years \n",
    "    non_shared_years = [x for x in set(level_1_df['year']) if x not in set(level_2_df['year'])]\n",
    "    if len(non_shared_years) != 0:\n",
    "        print('Years are not consistent accross geography levels')\n",
    "    else:\n",
    "        print('Years are consistent accross geography levels')\n",
    "\n",
    "\n",
    "    if specific_columns != False:\n",
    "        shared_columns = specific_columns\n",
    "    else:\n",
    "        shared_columns = [x for x in level_1_df.columns if x in level_2_df.columns]\n",
    "        shared_columns = list(set(shared_columns) - set(['year', level_comparison[0], level_comparison[1]]))\n",
    "\n",
    "\n",
    "    level_1_df = level_1_df[shared_columns]\n",
    "    level_1_df = pd.DataFrame(level_1_df.sum(), columns=[level_comparison[0]])\n",
    "\n",
    "    level_2_df = level_2_df[shared_columns]\n",
    "    level_2_df = pd.DataFrame(level_2_df.sum(), columns=[level_comparison[1]])\n",
    "\n",
    "    final_df = level_1_df.merge(level_2_df, left_index=True, right_index=True)\n",
    "    final_df['Diff'] = final_df[level_comparison[0]] - final_df[level_comparison[1]]\n",
    "    final_df = final_df[final_df['Diff'] != 0]\n",
    "\n",
    "    if len(final_df) == 0:\n",
    "        return f\"Column Sums are consistent accross {level_comparison[0]} and {level_comparison[1]}\"\n",
    "    else:\n",
    "        return final_df"
   ]
  },
  {
   "cell_type": "code",
   "execution_count": 86,
   "metadata": {},
   "outputs": [
    {
     "name": "stdout",
     "output_type": "stream",
     "text": [
      "Years are consistent accross geography levels\n"
     ]
    },
    {
     "data": {
      "text/html": [
       "<div>\n",
       "<style scoped>\n",
       "    .dataframe tbody tr th:only-of-type {\n",
       "        vertical-align: middle;\n",
       "    }\n",
       "\n",
       "    .dataframe tbody tr th {\n",
       "        vertical-align: top;\n",
       "    }\n",
       "\n",
       "    .dataframe thead th {\n",
       "        text-align: right;\n",
       "    }\n",
       "</style>\n",
       "<table border=\"1\" class=\"dataframe\">\n",
       "  <thead>\n",
       "    <tr style=\"text-align: right;\">\n",
       "      <th></th>\n",
       "      <th>mgra</th>\n",
       "      <th>region</th>\n",
       "      <th>Diff</th>\n",
       "    </tr>\n",
       "  </thead>\n",
       "  <tbody>\n",
       "    <tr>\n",
       "      <th>beachactive</th>\n",
       "      <td>1.790531e+04</td>\n",
       "      <td>1.790531e+04</td>\n",
       "      <td>-3.637979e-12</td>\n",
       "    </tr>\n",
       "    <tr>\n",
       "      <th>milestocoast</th>\n",
       "      <td>3.188995e+06</td>\n",
       "      <td>3.188995e+06</td>\n",
       "      <td>-4.656613e-10</td>\n",
       "    </tr>\n",
       "    <tr>\n",
       "      <th>effective_acres</th>\n",
       "      <td>1.626623e+07</td>\n",
       "      <td>1.626623e+07</td>\n",
       "      <td>-1.862645e-09</td>\n",
       "    </tr>\n",
       "    <tr>\n",
       "      <th>acres</th>\n",
       "      <td>3.545365e+07</td>\n",
       "      <td>3.545365e+07</td>\n",
       "      <td>-1.490116e-08</td>\n",
       "    </tr>\n",
       "    <tr>\n",
       "      <th>parkactive</th>\n",
       "      <td>8.513491e+04</td>\n",
       "      <td>8.513491e+04</td>\n",
       "      <td>1.455192e-11</td>\n",
       "    </tr>\n",
       "    <tr>\n",
       "      <th>land_acres</th>\n",
       "      <td>3.508165e+07</td>\n",
       "      <td>3.508165e+07</td>\n",
       "      <td>-7.450581e-09</td>\n",
       "    </tr>\n",
       "  </tbody>\n",
       "</table>\n",
       "</div>"
      ],
      "text/plain": [
       "                         mgra        region          Diff\n",
       "beachactive      1.790531e+04  1.790531e+04 -3.637979e-12\n",
       "milestocoast     3.188995e+06  3.188995e+06 -4.656613e-10\n",
       "effective_acres  1.626623e+07  1.626623e+07 -1.862645e-09\n",
       "acres            3.545365e+07  3.545365e+07 -1.490116e-08\n",
       "parkactive       8.513491e+04  8.513491e+04  1.455192e-11\n",
       "land_acres       3.508165e+07  3.508165e+07 -7.450581e-09"
      ]
     },
     "execution_count": 86,
     "metadata": {},
     "output_type": "execute_result"
    }
   ],
   "source": [
    "internal_consistency('99', specific_columns = False, level_comparison = ['mgra', 'region'])"
   ]
  },
  {
   "cell_type": "code",
   "execution_count": null,
   "metadata": {},
   "outputs": [],
   "source": []
  }
 ],
 "metadata": {
  "kernelspec": {
   "display_name": "Python 3.8.8 ('base')",
   "language": "python",
   "name": "python3"
  },
  "language_info": {
   "codemirror_mode": {
    "name": "ipython",
    "version": 3
   },
   "file_extension": ".py",
   "mimetype": "text/x-python",
   "name": "python",
   "nbconvert_exporter": "python",
   "pygments_lexer": "ipython3",
   "version": "3.8.8"
  },
  "orig_nbformat": 4,
  "vscode": {
   "interpreter": {
    "hash": "6db16e9940ad839c1e288012a4d7b04c8c55c67646ae73b178066b197eb654ea"
   }
  }
 },
 "nbformat": 4,
 "nbformat_minor": 2
}
