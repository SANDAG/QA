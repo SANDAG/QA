{
 "cells": [
  {
   "cell_type": "markdown",
   "metadata": {},
   "source": [
    "# Data Manipulation Function \n",
    "This notebook houses all of the data manipulation functions. \n",
    "\n",
    "Data Manipulation Functions \n",
    "1. Diff Files \n",
    "2. Both Files"
   ]
  },
  {
   "cell_type": "code",
   "execution_count": 1,
   "metadata": {},
   "outputs": [],
   "source": [
    "# Import Libraries\n",
    "import pandas as pd\n",
    "import numpy as np\n",
    "import yaml\n",
    "import os\n",
    "import pyodbc\n",
    "import glob\n",
    "import copy\n",
    "import traceback\n",
    "import warnings\n",
    "warnings.filterwarnings('ignore')"
   ]
  },
  {
   "cell_type": "markdown",
   "metadata": {},
   "source": [
    "# Input Data"
   ]
  },
  {
   "cell_type": "code",
   "execution_count": null,
   "metadata": {},
   "outputs": [],
   "source": [
    "# Information\n",
    "DATASOURCE_IDS = ['39', '42', '99', 'SQLDS99']\n",
    "j_drive_output_folder_path = 'J:/DataScience/DataQuality/QAQC/forecast_automation/mgra_series_13_outputs_CSV_data/aggregated_data/'\n",
    "geography_levels = ['mgra', 'region']"
   ]
  },
  {
   "cell_type": "markdown",
   "metadata": {},
   "source": [
    "# Download Data"
   ]
  },
  {
   "cell_type": "code",
   "execution_count": null,
   "metadata": {},
   "outputs": [],
   "source": [
    "# download all of the data \n",
    "all_data = {}\n",
    "for ds_id in DATASOURCE_IDS:\n",
    "    temp_dict = {}\n",
    "    for file in os.listdir(j_drive_output_folder_path):\n",
    "        if (ds_id in file):\n",
    "            # TODO: Have two folders input and output and have this grab from the input folder \n",
    "            temp_dict[file] = pd.read_csv(j_drive_output_folder_path + file)\n",
    "    all_data[ds_id] = temp_dict"
   ]
  },
  {
   "cell_type": "markdown",
   "metadata": {},
   "source": [
    "# Both Files"
   ]
  },
  {
   "cell_type": "code",
   "execution_count": null,
   "metadata": {},
   "outputs": [],
   "source": [
    "def create_both_file(DS1, DS2, level, send_to_j_drive):\n",
    "    df1 = all_data[DS1][f\"{level}_DS{DS1}_ind_QA.csv\"]\n",
    "    df2 = all_data[DS2][f\"{level}_DS{DS2}_ind_QA.csv\"]\n",
    "\n",
    "    # First check to see if shapes are identical\n",
    "    if df1.shape != df2.shape:\n",
    "        print(f\"Shapes are not identical. DF1 is shape {df1.shape} and DF2 is shape {df2.shape}\")\n",
    "    elif len(set(df1.columns).difference(set(df2.columns))) != 0:\n",
    "        print(f\"There is a difference in columns. The columns that exist in DF1 but not in DF2 are {[x for x in df1.columns if x not in df2.columns]}. The columns that exist in DF2 but not in DF1 are {[x for x in df2.columns if x not in df1.columns]}\")\n",
    "    elif len(set(df1['yr_id']).difference(set(df2['yr_id']))) != 0:\n",
    "        print(f\"There is a difference in the years of these dataframes. The years that exist in DF1 but not in DF2 are {[x for x in list(set(df1['yr_id'])) if x not in list(set(df2['yr_id']))]}. The columns that exist in DF2 but not in DF1 are {[x for x in list(set(df2['yr_id'])) if x not in list(set(df1['yr_id']))]}\")\n",
    "    \n",
    "\n",
    "    if level == 'region':\n",
    "        output = df1.merge(df2, on=['year'], how='left', suffixes=[f'_DS{DS1}', f'_DS{DS2}'])\n",
    "        output = output.groupby(['year']).sum()\n",
    "    else:\n",
    "        output = df1.merge(df2, on=[f'{level}','year'], how='left', suffixes=[f'_DS{DS1}', f'_DS{DS2}'])\n",
    "        output = output.groupby([f'{level}', 'year']).sum()\n",
    "\n",
    "    if send_to_j_drive == 'Y':\n",
    "        output.to_csv('J:/DataScience/DataQuality/QAQC/forecast_automation/mgra_series_13_outputs_CSV_data/both_files/' + f\"{level}_both_DS{DS1}_DS{DS2}_QA.csv\", index=True) \n",
    "\n",
    "    return output"
   ]
  },
  {
   "cell_type": "markdown",
   "metadata": {},
   "source": [
    "# Diff Functions"
   ]
  },
  {
   "cell_type": "code",
   "execution_count": 2,
   "metadata": {},
   "outputs": [],
   "source": [
    "# TODO: write a check in here to see if the column is 'yr_id', 'yr' or 'year', if not 'year' change to year. \n",
    "# TODO: May want to conside to little amount of QC I do in this to be a seperate function all together \n",
    "def create_diff_file(DS1, DS2, level, send_to_j_drive):\n",
    "    df1 = all_data[DS1][f\"{level}_DS{DS1}_ind_QA.csv\"]\n",
    "    df2 = all_data[DS2][f\"{level}_DS{DS2}_ind_QA.csv\"]\n",
    "\n",
    "    # First check to see if shapes are identical\n",
    "    if df1.shape != df2.shape:\n",
    "        print(f\"Shapes are not identical. DF1 is shape {df1.shape} and DF2 is shape {df2.shape}\")\n",
    "\n",
    "    # Check if different columns are present amongst datasets, if so, manipulate so that only the shared columns are present\n",
    "    if len(set(df1.columns).difference(set(df2.columns))) != 0:\n",
    "        print(f\"There is a difference in columns. The columns that exist in DF1 but not in DF2 are {[x for x in df1.columns if x not in df2.columns]}. The columns that exist in DF2 but not in DF1 are {[x for x in df2.columns if x not in df1.columns]}\")\n",
    "        # Ensure each data frame has the same columns\n",
    "        df1 = df1[[x for x in df1.columns if x in df2.columns]]\n",
    "        df2 = df2[[x for x in df1.columns if x in df2.columns]]\n",
    "\n",
    "    # Check if different years are present amongst datasets, if so, manipulate so that only the shared years are compared\n",
    "    if len(set(df1['yr_id']).difference(set(df2['yr_id']))) != 0:\n",
    "        print(f\"There is a difference in the years of these dataframes. The years that exist in DF1 but not in DF2 are {[x for x in list(set(df1['yr_id'])) if x not in list(set(df2['yr_id']))]}. The columns that exist in DF2 but not in DF1 are {[x for x in list(set(df2['yr_id'])) if x not in list(set(df1['yr_id']))]}\")\n",
    "        shared_years = [x for x in list(set(df1['yr_id'])) if x in list(set(df2['yr_id']))]\n",
    "        df1 = df1[df1['yr_id'].isin(shared_years)]\n",
    "        df2 = df2[df2['yr_id'].isin(shared_years)]\n",
    "    \n",
    "    df1 = df1.groupby([f'{level}', 'yr_id']).sum()\n",
    "    df2 = df2.groupby([f'{level}', 'yr_id']).sum()\n",
    "\n",
    "    diff_df = df2 - df1\n",
    "\n",
    "\n",
    "    if send_to_j_drive == 'Y':\n",
    "        diff_df.to_csv('J:/DataScience/DataQuality/QAQC/forecast_automation/mgra_series_13_outputs/' + f\"{level}_diff_DS{DS2}_minus_DS{DS1}_QA.csv\", index=True) \n",
    "\n",
    "    return diff_df"
   ]
  }
 ],
 "metadata": {
  "kernelspec": {
   "display_name": "Python 3.8.8 ('base')",
   "language": "python",
   "name": "python3"
  },
  "language_info": {
   "codemirror_mode": {
    "name": "ipython",
    "version": 3
   },
   "file_extension": ".py",
   "mimetype": "text/x-python",
   "name": "python",
   "nbconvert_exporter": "python",
   "pygments_lexer": "ipython3",
   "version": "3.8.8"
  },
  "orig_nbformat": 4,
  "vscode": {
   "interpreter": {
    "hash": "6db16e9940ad839c1e288012a4d7b04c8c55c67646ae73b178066b197eb654ea"
   }
  }
 },
 "nbformat": 4,
 "nbformat_minor": 2
}
