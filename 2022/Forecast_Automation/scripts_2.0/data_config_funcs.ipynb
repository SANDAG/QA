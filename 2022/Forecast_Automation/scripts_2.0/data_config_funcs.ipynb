{
 "cells": [
  {
   "cell_type": "markdown",
   "metadata": {},
   "source": [
    "# Data Configuration Functions \n",
    "This notebook houses all of the functions associated with data configuration. Data configuration includes data preparation preparation outputs and manipulated outputs. \n",
    "\n",
    "Outline: \n",
    "Base Level Build:\n",
    "1. Download DS Data Function \n",
    "\n",
    "Database Addition Functions \n",
    "1. Vacnacy \n",
    "2. ...\n",
    "3. ... \n",
    "\n",
    "Append Additions Function: \n",
    "1. Append Additions (Creates MGRA Output)\n",
    "\n",
    "Rollup Functions \n",
    "1. TAZ Level Output \n",
    "2. LUZ Level Output \n",
    "3. CPA Level Output \n",
    "4. Jusrisdiction level output\n",
    "5. Region Level Output"
   ]
  },
  {
   "cell_type": "code",
   "execution_count": 1,
   "metadata": {},
   "outputs": [],
   "source": [
    "# Import Libraries\n",
    "import pandas as pd\n",
    "import numpy as np\n",
    "import yaml\n",
    "import os\n",
    "import pyodbc\n",
    "import glob\n",
    "import copy\n",
    "import traceback\n",
    "import warnings\n",
    "warnings.filterwarnings('ignore')"
   ]
  },
  {
   "cell_type": "code",
   "execution_count": null,
   "metadata": {},
   "outputs": [],
   "source": []
  },
  {
   "cell_type": "code",
   "execution_count": null,
   "metadata": {},
   "outputs": [],
   "source": []
  },
  {
   "cell_type": "code",
   "execution_count": null,
   "metadata": {},
   "outputs": [],
   "source": []
  },
  {
   "cell_type": "markdown",
   "metadata": {},
   "source": []
  }
 ],
 "metadata": {
  "kernelspec": {
   "display_name": "Python 3.8.8 ('base')",
   "language": "python",
   "name": "python3"
  },
  "language_info": {
   "codemirror_mode": {
    "name": "ipython",
    "version": 3
   },
   "file_extension": ".py",
   "mimetype": "text/x-python",
   "name": "python",
   "nbconvert_exporter": "python",
   "pygments_lexer": "ipython3",
   "version": "3.8.8"
  },
  "orig_nbformat": 4,
  "vscode": {
   "interpreter": {
    "hash": "6db16e9940ad839c1e288012a4d7b04c8c55c67646ae73b178066b197eb654ea"
   }
  }
 },
 "nbformat": 4,
 "nbformat_minor": 2
}
