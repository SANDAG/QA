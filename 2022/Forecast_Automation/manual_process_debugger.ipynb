{
 "cells": [
  {
   "cell_type": "markdown",
   "metadata": {},
   "source": [
    "# Debugging Script \n",
    "This is a manual script of the functions for debugging purposes"
   ]
  },
  {
   "cell_type": "code",
   "execution_count": 4,
   "metadata": {},
   "outputs": [],
   "source": [
    "# Import Libraries\n",
    "import pandas as pd\n",
    "import numpy as np\n",
    "import yaml\n",
    "import matplotlib.pyplot as plt\n",
    "import seaborn as sns\n",
    "#Libraries \n",
    "import os\n",
    "import pyodbc\n",
    "import glob\n",
    "import copy\n",
    "import PySimpleGUI as sg\n",
    "import traceback"
   ]
  },
  {
   "cell_type": "markdown",
   "metadata": {},
   "source": [
    "# Bring in Part 1 Code"
   ]
  },
  {
   "cell_type": "code",
   "execution_count": 5,
   "metadata": {},
   "outputs": [],
   "source": [
    "!pip -q install -r ./config_files/requirements.txt\n",
    "import pandas as pd\n",
    "pd.options.mode.chained_assignment = None"
   ]
  },
  {
   "cell_type": "code",
   "execution_count": 3,
   "metadata": {},
   "outputs": [],
   "source": [
    "# Bring in functions\n",
    "%run ./scripts/Part_1.ipynb"
   ]
  },
  {
   "cell_type": "markdown",
   "metadata": {},
   "source": [
    " # Individual Files"
   ]
  },
  {
   "cell_type": "code",
   "execution_count": 4,
   "metadata": {},
   "outputs": [],
   "source": [
    "# inputs \n",
    "ds_ID = 'DS42'"
   ]
  },
  {
   "cell_type": "markdown",
   "metadata": {},
   "source": [
    "comparison_processed_data vs comparison_no_geozone_df:\n",
    "- comparison_processed_data has columns appending the DSID and has the geozone at the end (jurisdiction level)\n",
    "- features are all of teh columns\n"
   ]
  },
  {
   "cell_type": "code",
   "execution_count": 5,
   "metadata": {},
   "outputs": [
    {
     "name": "stdout",
     "output_type": "stream",
     "text": [
      "DS42's jurisdiction did not merge correctly.\n"
     ]
    }
   ],
   "source": [
    "# mgra_ind\n",
    "comparison_processed_data, comparison_no_geozone_df, features = download_DS_data(ds_ID, jur_level)"
   ]
  },
  {
   "cell_type": "code",
   "execution_count": 6,
   "metadata": {},
   "outputs": [],
   "source": [
    "# CPA Level Aggregation\n",
    "comparison_processed_data_cpa = cpa_aggregation_ind(comparison_no_geozone_df, cpa_level)"
   ]
  },
  {
   "cell_type": "code",
   "execution_count": 7,
   "metadata": {},
   "outputs": [],
   "source": [
    "# Jurisdiction aggregation\n",
    "comparison_processed_data_jur = jur_aggregation_ind(comparison_no_geozone_df, jur_level)"
   ]
  },
  {
   "cell_type": "code",
   "execution_count": 8,
   "metadata": {},
   "outputs": [],
   "source": [
    "# Region Aggregation\n",
    "comparison_processed_data_reg = region_aggregation_ind(comparison_no_geozone_df)"
   ]
  },
  {
   "cell_type": "markdown",
   "metadata": {},
   "source": [
    "# Comparison Files"
   ]
  },
  {
   "cell_type": "code",
   "execution_count": 9,
   "metadata": {},
   "outputs": [],
   "source": [
    "# Inputs for comparison \n",
    "first_ID = \"DS38\"\n",
    "second_ID = 'DS41'"
   ]
  },
  {
   "cell_type": "code",
   "execution_count": 10,
   "metadata": {},
   "outputs": [
    {
     "name": "stdout",
     "output_type": "stream",
     "text": [
      "DS38's jurisdiction did not merge correctly.\n",
      "DS41's jurisdiction did not merge correctly.\n"
     ]
    }
   ],
   "source": [
    "# Download the necessary data\n",
    "# First ID\n",
    "comparison_first_ID_processed_data, comparison_first_ID_no_geozone_df, first_ID_features = download_DS_data(first_ID, jur_level)\n",
    "\n",
    "# Second ID\n",
    "comparison_second_ID_processed_data, comparison_second_ID_no_geozone_df, second_ID_features = download_DS_data(second_ID, jur_level)"
   ]
  },
  {
   "cell_type": "markdown",
   "metadata": {},
   "source": [
    "## Both Files"
   ]
  },
  {
   "cell_type": "code",
   "execution_count": 11,
   "metadata": {},
   "outputs": [],
   "source": [
    "# MGRA_Both Files\n",
    "# This does the right thing and drops 'secondary' not sure how it knows to do that but it does \n",
    "mgra_both = concat_dfs_temp(comparison_first_ID_no_geozone_df, comparison_second_ID_no_geozone_df)"
   ]
  },
  {
   "cell_type": "code",
   "execution_count": 12,
   "metadata": {},
   "outputs": [],
   "source": [
    "# CPA both\n",
    "cpa_both = cpa_aggregation(comparison_first_ID_no_geozone_df, comparison_second_ID_no_geozone_df, cpa_level)"
   ]
  },
  {
   "cell_type": "code",
   "execution_count": 13,
   "metadata": {},
   "outputs": [],
   "source": [
    "# Jur both \n",
    "jur_both = jur_aggregation(comparison_first_ID_no_geozone_df, comparison_second_ID_no_geozone_df, jur_level)"
   ]
  },
  {
   "cell_type": "code",
   "execution_count": 14,
   "metadata": {},
   "outputs": [],
   "source": [
    "# Region Both\n",
    "region_both = region_aggregation(comparison_first_ID_no_geozone_df, comparison_second_ID_no_geozone_df)"
   ]
  },
  {
   "cell_type": "markdown",
   "metadata": {},
   "source": [
    "## Diff Files"
   ]
  },
  {
   "cell_type": "code",
   "execution_count": 15,
   "metadata": {},
   "outputs": [
    {
     "name": "stderr",
     "output_type": "stream",
     "text": [
      "C:\\Users\\cra\\AppData\\Local\\Temp\\ipykernel_20132\\564207998.py:16: PerformanceWarning: DataFrame is highly fragmented.  This is usually the result of calling `frame.insert` many times, which has poor performance.  Consider joining all columns at once using pd.concat(axis=1) instead.  To get a de-fragmented frame, use `newframe = frame.copy()`\n",
      "  diff_df[f'{column}_diff'] = first_second_ID_comparison[f'{column}_{first_ID}'] - first_second_ID_comparison[f'{column}_{second_ID}']\n"
     ]
    }
   ],
   "source": [
    "'''The issue is that in mgra_both 'secondary' does not exist '''\n",
    "\n",
    "'''The issue with this code originally is that the input originally was create_diff(features_first_ID, features_second_ID, first_second_ID_comparison) and the features_first_ID had non numeric columns such as secondary and elementary while mgra-both only had numeric (because of the groupby at the end) so the way the code was written it was trying to subtract columns that were alike in 'features_first_ID' and 'features_second_ID' but some didn't exist in mgra_both'''\n",
    "\n",
    "'''Create diff goes and keeps things in the same order, it doesn't use set. Now the code is grabbing columns from the both file itself. '''\n",
    "\n",
    "mgra_diff = create_diff(list([x[:-5] for x in mgra_both if x[-5:] == '_' + first_ID]), list([x[:-5] for x in mgra_both if x[-5:] == '_' + second_ID]), mgra_both)"
   ]
  },
  {
   "cell_type": "code",
   "execution_count": 16,
   "metadata": {},
   "outputs": [
    {
     "name": "stderr",
     "output_type": "stream",
     "text": [
      "C:\\Users\\cra\\AppData\\Local\\Temp\\ipykernel_20132\\3044449395.py:19: PerformanceWarning: DataFrame is highly fragmented.  This is usually the result of calling `frame.insert` many times, which has poor performance.  Consider joining all columns at once using pd.concat(axis=1) instead.  To get a de-fragmented frame, use `newframe = frame.copy()`\n",
      "  diff_df[f'{column}_diff'] = first_second_ID_comparison[f'{column}_{first_ID}'] - first_second_ID_comparison[f'{column}_{second_ID}']\n"
     ]
    }
   ],
   "source": [
    "cpa_diff = create_diff_temp(list([x[:-5] for x in cpa_both if x[-5:] == '_' + first_ID]),list([x[:-5] for x in cpa_both if x[-5:] == '_' + second_ID]), cpa_both) "
   ]
  },
  {
   "cell_type": "code",
   "execution_count": 17,
   "metadata": {},
   "outputs": [
    {
     "name": "stderr",
     "output_type": "stream",
     "text": [
      "C:\\Users\\cra\\AppData\\Local\\Temp\\ipykernel_20132\\3044449395.py:19: PerformanceWarning: DataFrame is highly fragmented.  This is usually the result of calling `frame.insert` many times, which has poor performance.  Consider joining all columns at once using pd.concat(axis=1) instead.  To get a de-fragmented frame, use `newframe = frame.copy()`\n",
      "  diff_df[f'{column}_diff'] = first_second_ID_comparison[f'{column}_{first_ID}'] - first_second_ID_comparison[f'{column}_{second_ID}']\n"
     ]
    }
   ],
   "source": [
    "jur_diff = create_diff_temp(list([x[:-5] for x in jur_both if x[-5:] == '_' + first_ID]), list([x[:-5] for x in jur_both if x[-5:] == '_' + second_ID]), jur_both)"
   ]
  },
  {
   "cell_type": "code",
   "execution_count": 18,
   "metadata": {},
   "outputs": [
    {
     "name": "stderr",
     "output_type": "stream",
     "text": [
      "C:\\Users\\cra\\AppData\\Local\\Temp\\ipykernel_20132\\3044449395.py:19: PerformanceWarning: DataFrame is highly fragmented.  This is usually the result of calling `frame.insert` many times, which has poor performance.  Consider joining all columns at once using pd.concat(axis=1) instead.  To get a de-fragmented frame, use `newframe = frame.copy()`\n",
      "  diff_df[f'{column}_diff'] = first_second_ID_comparison[f'{column}_{first_ID}'] - first_second_ID_comparison[f'{column}_{second_ID}']\n"
     ]
    }
   ],
   "source": [
    "region_diff = create_diff_temp(list([x[:-5] for x in region_both if x[-5:] == '_' + first_ID]), list([x[:-5] for x in region_both if x[-5:] == '_' + first_ID]), region_both)"
   ]
  },
  {
   "cell_type": "code",
   "execution_count": null,
   "metadata": {},
   "outputs": [],
   "source": []
  },
  {
   "cell_type": "markdown",
   "metadata": {},
   "source": [
    "# Creating outputs for J Drive"
   ]
  },
  {
   "cell_type": "code",
   "execution_count": 6,
   "metadata": {},
   "outputs": [],
   "source": [
    "dsids = ['DS35', 'DS38', 'DS41', 'DS42']"
   ]
  },
  {
   "cell_type": "code",
   "execution_count": 7,
   "metadata": {},
   "outputs": [
    {
     "name": "stdout",
     "output_type": "stream",
     "text": [
      "DS35's jurisdiction did not merge correctly.\n"
     ]
    }
   ],
   "source": [
    "# Test with DS35\n",
    "comparison_processed_data, comparison_no_geozone_df, features = download_DS_data('DS35', jur_level)"
   ]
  },
  {
   "cell_type": "code",
   "execution_count": 11,
   "metadata": {},
   "outputs": [
    {
     "data": {
      "text/html": [
       "<div>\n",
       "<style scoped>\n",
       "    .dataframe tbody tr th:only-of-type {\n",
       "        vertical-align: middle;\n",
       "    }\n",
       "\n",
       "    .dataframe tbody tr th {\n",
       "        vertical-align: top;\n",
       "    }\n",
       "\n",
       "    .dataframe thead th {\n",
       "        text-align: right;\n",
       "    }\n",
       "</style>\n",
       "<table border=\"1\" class=\"dataframe tex2jax_ignore\">\n",
       "  <thead>\n",
       "    <tr style=\"text-align: right;\">\n",
       "      <th></th>\n",
       "      <th>mgra</th>\n",
       "      <th>taz</th>\n",
       "      <th>hs</th>\n",
       "      <th>hs_sf</th>\n",
       "      <th>hs_mf</th>\n",
       "      <th>hs_mh</th>\n",
       "      <th>hh</th>\n",
       "      <th>hh_sf</th>\n",
       "      <th>hh_mf</th>\n",
       "      <th>hh_mh</th>\n",
       "      <th>...</th>\n",
       "      <th>American Indian</th>\n",
       "      <th>Asian</th>\n",
       "      <th>Black</th>\n",
       "      <th>Hispanic</th>\n",
       "      <th>Other</th>\n",
       "      <th>Pacific Islander</th>\n",
       "      <th>Two or More</th>\n",
       "      <th>White</th>\n",
       "      <th>Female</th>\n",
       "      <th>Male</th>\n",
       "    </tr>\n",
       "  </thead>\n",
       "  <tbody>\n",
       "    <tr>\n",
       "      <th>0</th>\n",
       "      <td>1</td>\n",
       "      <td>3331</td>\n",
       "      <td>19</td>\n",
       "      <td>19</td>\n",
       "      <td>0</td>\n",
       "      <td>0</td>\n",
       "      <td>18</td>\n",
       "      <td>18</td>\n",
       "      <td>0</td>\n",
       "      <td>0</td>\n",
       "      <td>...</td>\n",
       "      <td>0.0</td>\n",
       "      <td>1.0</td>\n",
       "      <td>0.0</td>\n",
       "      <td>1.0</td>\n",
       "      <td>1.0</td>\n",
       "      <td>0.0</td>\n",
       "      <td>2.0</td>\n",
       "      <td>36.0</td>\n",
       "      <td>23.0</td>\n",
       "      <td>18.0</td>\n",
       "    </tr>\n",
       "    <tr>\n",
       "      <th>1</th>\n",
       "      <td>2</td>\n",
       "      <td>3331</td>\n",
       "      <td>35</td>\n",
       "      <td>35</td>\n",
       "      <td>0</td>\n",
       "      <td>0</td>\n",
       "      <td>34</td>\n",
       "      <td>34</td>\n",
       "      <td>0</td>\n",
       "      <td>0</td>\n",
       "      <td>...</td>\n",
       "      <td>0.0</td>\n",
       "      <td>5.0</td>\n",
       "      <td>0.0</td>\n",
       "      <td>11.0</td>\n",
       "      <td>0.0</td>\n",
       "      <td>0.0</td>\n",
       "      <td>2.0</td>\n",
       "      <td>63.0</td>\n",
       "      <td>41.0</td>\n",
       "      <td>40.0</td>\n",
       "    </tr>\n",
       "    <tr>\n",
       "      <th>2</th>\n",
       "      <td>3</td>\n",
       "      <td>3358</td>\n",
       "      <td>52</td>\n",
       "      <td>52</td>\n",
       "      <td>0</td>\n",
       "      <td>0</td>\n",
       "      <td>52</td>\n",
       "      <td>52</td>\n",
       "      <td>0</td>\n",
       "      <td>0</td>\n",
       "      <td>...</td>\n",
       "      <td>0.0</td>\n",
       "      <td>5.0</td>\n",
       "      <td>0.0</td>\n",
       "      <td>11.0</td>\n",
       "      <td>0.0</td>\n",
       "      <td>0.0</td>\n",
       "      <td>0.0</td>\n",
       "      <td>95.0</td>\n",
       "      <td>57.0</td>\n",
       "      <td>54.0</td>\n",
       "    </tr>\n",
       "    <tr>\n",
       "      <th>3</th>\n",
       "      <td>4</td>\n",
       "      <td>3358</td>\n",
       "      <td>30</td>\n",
       "      <td>30</td>\n",
       "      <td>0</td>\n",
       "      <td>0</td>\n",
       "      <td>30</td>\n",
       "      <td>30</td>\n",
       "      <td>0</td>\n",
       "      <td>0</td>\n",
       "      <td>...</td>\n",
       "      <td>1.0</td>\n",
       "      <td>0.0</td>\n",
       "      <td>0.0</td>\n",
       "      <td>12.0</td>\n",
       "      <td>0.0</td>\n",
       "      <td>1.0</td>\n",
       "      <td>4.0</td>\n",
       "      <td>55.0</td>\n",
       "      <td>35.0</td>\n",
       "      <td>38.0</td>\n",
       "    </tr>\n",
       "    <tr>\n",
       "      <th>4</th>\n",
       "      <td>5</td>\n",
       "      <td>3358</td>\n",
       "      <td>28</td>\n",
       "      <td>28</td>\n",
       "      <td>0</td>\n",
       "      <td>0</td>\n",
       "      <td>28</td>\n",
       "      <td>28</td>\n",
       "      <td>0</td>\n",
       "      <td>0</td>\n",
       "      <td>...</td>\n",
       "      <td>1.0</td>\n",
       "      <td>2.0</td>\n",
       "      <td>1.0</td>\n",
       "      <td>8.0</td>\n",
       "      <td>0.0</td>\n",
       "      <td>0.0</td>\n",
       "      <td>1.0</td>\n",
       "      <td>50.0</td>\n",
       "      <td>29.0</td>\n",
       "      <td>34.0</td>\n",
       "    </tr>\n",
       "    <tr>\n",
       "      <th>...</th>\n",
       "      <td>...</td>\n",
       "      <td>...</td>\n",
       "      <td>...</td>\n",
       "      <td>...</td>\n",
       "      <td>...</td>\n",
       "      <td>...</td>\n",
       "      <td>...</td>\n",
       "      <td>...</td>\n",
       "      <td>...</td>\n",
       "      <td>...</td>\n",
       "      <td>...</td>\n",
       "      <td>...</td>\n",
       "      <td>...</td>\n",
       "      <td>...</td>\n",
       "      <td>...</td>\n",
       "      <td>...</td>\n",
       "      <td>...</td>\n",
       "      <td>...</td>\n",
       "      <td>...</td>\n",
       "      <td>...</td>\n",
       "      <td>...</td>\n",
       "    </tr>\n",
       "    <tr>\n",
       "      <th>299021</th>\n",
       "      <td>22998</td>\n",
       "      <td>1290</td>\n",
       "      <td>92</td>\n",
       "      <td>92</td>\n",
       "      <td>0</td>\n",
       "      <td>0</td>\n",
       "      <td>87</td>\n",
       "      <td>87</td>\n",
       "      <td>0</td>\n",
       "      <td>0</td>\n",
       "      <td>...</td>\n",
       "      <td>0.0</td>\n",
       "      <td>56.0</td>\n",
       "      <td>8.0</td>\n",
       "      <td>44.0</td>\n",
       "      <td>0.0</td>\n",
       "      <td>0.0</td>\n",
       "      <td>9.0</td>\n",
       "      <td>95.0</td>\n",
       "      <td>108.0</td>\n",
       "      <td>104.0</td>\n",
       "    </tr>\n",
       "    <tr>\n",
       "      <th>299022</th>\n",
       "      <td>22999</td>\n",
       "      <td>1290</td>\n",
       "      <td>0</td>\n",
       "      <td>0</td>\n",
       "      <td>0</td>\n",
       "      <td>0</td>\n",
       "      <td>0</td>\n",
       "      <td>0</td>\n",
       "      <td>0</td>\n",
       "      <td>0</td>\n",
       "      <td>...</td>\n",
       "      <td>0.0</td>\n",
       "      <td>0.0</td>\n",
       "      <td>0.0</td>\n",
       "      <td>0.0</td>\n",
       "      <td>0.0</td>\n",
       "      <td>0.0</td>\n",
       "      <td>0.0</td>\n",
       "      <td>0.0</td>\n",
       "      <td>0.0</td>\n",
       "      <td>0.0</td>\n",
       "    </tr>\n",
       "    <tr>\n",
       "      <th>299023</th>\n",
       "      <td>23000</td>\n",
       "      <td>1290</td>\n",
       "      <td>131</td>\n",
       "      <td>131</td>\n",
       "      <td>0</td>\n",
       "      <td>0</td>\n",
       "      <td>126</td>\n",
       "      <td>126</td>\n",
       "      <td>0</td>\n",
       "      <td>0</td>\n",
       "      <td>...</td>\n",
       "      <td>0.0</td>\n",
       "      <td>109.0</td>\n",
       "      <td>1.0</td>\n",
       "      <td>71.0</td>\n",
       "      <td>0.0</td>\n",
       "      <td>0.0</td>\n",
       "      <td>3.0</td>\n",
       "      <td>122.0</td>\n",
       "      <td>138.0</td>\n",
       "      <td>168.0</td>\n",
       "    </tr>\n",
       "    <tr>\n",
       "      <th>299024</th>\n",
       "      <td>23001</td>\n",
       "      <td>1254</td>\n",
       "      <td>85</td>\n",
       "      <td>85</td>\n",
       "      <td>0</td>\n",
       "      <td>0</td>\n",
       "      <td>82</td>\n",
       "      <td>82</td>\n",
       "      <td>0</td>\n",
       "      <td>0</td>\n",
       "      <td>...</td>\n",
       "      <td>0.0</td>\n",
       "      <td>63.0</td>\n",
       "      <td>7.0</td>\n",
       "      <td>33.0</td>\n",
       "      <td>1.0</td>\n",
       "      <td>0.0</td>\n",
       "      <td>14.0</td>\n",
       "      <td>87.0</td>\n",
       "      <td>96.0</td>\n",
       "      <td>109.0</td>\n",
       "    </tr>\n",
       "    <tr>\n",
       "      <th>299025</th>\n",
       "      <td>23002</td>\n",
       "      <td>1254</td>\n",
       "      <td>120</td>\n",
       "      <td>20</td>\n",
       "      <td>100</td>\n",
       "      <td>0</td>\n",
       "      <td>109</td>\n",
       "      <td>17</td>\n",
       "      <td>92</td>\n",
       "      <td>0</td>\n",
       "      <td>...</td>\n",
       "      <td>2.0</td>\n",
       "      <td>76.0</td>\n",
       "      <td>2.0</td>\n",
       "      <td>48.0</td>\n",
       "      <td>0.0</td>\n",
       "      <td>0.0</td>\n",
       "      <td>10.0</td>\n",
       "      <td>107.0</td>\n",
       "      <td>114.0</td>\n",
       "      <td>131.0</td>\n",
       "    </tr>\n",
       "  </tbody>\n",
       "</table>\n",
       "<p>299026 rows × 145 columns</p>\n",
       "</div>"
      ],
      "text/plain": [
       "         mgra   taz   hs  hs_sf  hs_mf  hs_mh   hh  hh_sf  hh_mf  hh_mh  ...  \\\n",
       "0           1  3331   19     19      0      0   18     18      0      0  ...   \n",
       "1           2  3331   35     35      0      0   34     34      0      0  ...   \n",
       "2           3  3358   52     52      0      0   52     52      0      0  ...   \n",
       "3           4  3358   30     30      0      0   30     30      0      0  ...   \n",
       "4           5  3358   28     28      0      0   28     28      0      0  ...   \n",
       "...       ...   ...  ...    ...    ...    ...  ...    ...    ...    ...  ...   \n",
       "299021  22998  1290   92     92      0      0   87     87      0      0  ...   \n",
       "299022  22999  1290    0      0      0      0    0      0      0      0  ...   \n",
       "299023  23000  1290  131    131      0      0  126    126      0      0  ...   \n",
       "299024  23001  1254   85     85      0      0   82     82      0      0  ...   \n",
       "299025  23002  1254  120     20    100      0  109     17     92      0  ...   \n",
       "\n",
       "        American Indian  Asian  Black  Hispanic  Other  Pacific Islander  \\\n",
       "0                   0.0    1.0    0.0       1.0    1.0               0.0   \n",
       "1                   0.0    5.0    0.0      11.0    0.0               0.0   \n",
       "2                   0.0    5.0    0.0      11.0    0.0               0.0   \n",
       "3                   1.0    0.0    0.0      12.0    0.0               1.0   \n",
       "4                   1.0    2.0    1.0       8.0    0.0               0.0   \n",
       "...                 ...    ...    ...       ...    ...               ...   \n",
       "299021              0.0   56.0    8.0      44.0    0.0               0.0   \n",
       "299022              0.0    0.0    0.0       0.0    0.0               0.0   \n",
       "299023              0.0  109.0    1.0      71.0    0.0               0.0   \n",
       "299024              0.0   63.0    7.0      33.0    1.0               0.0   \n",
       "299025              2.0   76.0    2.0      48.0    0.0               0.0   \n",
       "\n",
       "        Two or More  White  Female   Male  \n",
       "0               2.0   36.0    23.0   18.0  \n",
       "1               2.0   63.0    41.0   40.0  \n",
       "2               0.0   95.0    57.0   54.0  \n",
       "3               4.0   55.0    35.0   38.0  \n",
       "4               1.0   50.0    29.0   34.0  \n",
       "...             ...    ...     ...    ...  \n",
       "299021          9.0   95.0   108.0  104.0  \n",
       "299022          0.0    0.0     0.0    0.0  \n",
       "299023          3.0  122.0   138.0  168.0  \n",
       "299024         14.0   87.0    96.0  109.0  \n",
       "299025         10.0  107.0   114.0  131.0  \n",
       "\n",
       "[299026 rows x 145 columns]"
      ]
     },
     "execution_count": 11,
     "metadata": {},
     "output_type": "execute_result"
    }
   ],
   "source": [
    "comparison_no_geozone_df"
   ]
  },
  {
   "cell_type": "code",
   "execution_count": null,
   "metadata": {},
   "outputs": [],
   "source": [
    "# Rollup to LUZ\n"
   ]
  },
  {
   "cell_type": "code",
   "execution_count": 14,
   "metadata": {},
   "outputs": [],
   "source": [
    "comparison_no_geozone_df.to_csv('J:/DataScience/DataQuality/QAQC/forecast_automation/mgra_series_13_outputs_CSV_data/aggregated_data/forecast_35_mgra_ind_QA.csv', index=False)"
   ]
  },
  {
   "cell_type": "code",
   "execution_count": null,
   "metadata": {},
   "outputs": [],
   "source": [
    "for DSID in dsids:\n",
    "    comparison_processed_data, comparison_no_geozone_df, features = download_DS_data(DSID, jur_level)\n",
    "    \n"
   ]
  }
 ],
 "metadata": {
  "kernelspec": {
   "display_name": "Python 3.8.8 ('base')",
   "language": "python",
   "name": "python3"
  },
  "language_info": {
   "codemirror_mode": {
    "name": "ipython",
    "version": 3
   },
   "file_extension": ".py",
   "mimetype": "text/x-python",
   "name": "python",
   "nbconvert_exporter": "python",
   "pygments_lexer": "ipython3",
   "version": "3.8.8"
  },
  "orig_nbformat": 4,
  "vscode": {
   "interpreter": {
    "hash": "6db16e9940ad839c1e288012a4d7b04c8c55c67646ae73b178066b197eb654ea"
   }
  }
 },
 "nbformat": 4,
 "nbformat_minor": 2
}
