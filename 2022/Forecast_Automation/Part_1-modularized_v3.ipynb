{
 "cells": [
  {
   "cell_type": "markdown",
   "metadata": {},
   "source": [
    "# Part One"
   ]
  },
  {
   "cell_type": "code",
   "execution_count": 1,
   "metadata": {},
   "outputs": [],
   "source": [
    "# Import Libraries\n",
    "import pandas as pd\n",
    "import numpy as np\n",
    "import yaml\n",
    "import matplotlib.pyplot as plt\n",
    "import seaborn as sns\n",
    "#Libraries \n",
    "import pandas as pd\n",
    "import numpy as np\n",
    "import matplotlib.pyplot as plt\n",
    "import os\n",
    "import seaborn as sns\n",
    "from matplotlib.pyplot import figure\n",
    "import pyodbc \n",
    "import glob\n",
    "import copy\n",
    "import PySimpleGUI as sg"
   ]
  },
  {
   "cell_type": "markdown",
   "metadata": {},
   "source": [
    "# Comparison Functions"
   ]
  },
  {
   "cell_type": "markdown",
   "metadata": {},
   "source": [
    "## MGRA Level Data"
   ]
  },
  {
   "cell_type": "markdown",
   "metadata": {},
   "source": [
    "### Concatenate both DS dataframes"
   ]
  },
  {
   "cell_type": "code",
   "execution_count": 2,
   "metadata": {},
   "outputs": [],
   "source": [
    "def concat_dfs(comparison_first_ID_processed_data, comparison_second_ID_processed_data):\n",
    "    # Added geozone to merge keys to account for mgra's in multiple jurisdictions (or other geographical levels)\n",
    "    first_second_ID_comparison = comparison_first_ID_processed_data.merge(\n",
    "        comparison_second_ID_processed_data,\n",
    "        how='left',\n",
    "        left_on=[f'mgra_{first_ID}',\n",
    "                 f'year_{first_ID}',\n",
    "                 f'geozone_{first_ID}'],\n",
    "        right_on=[f'mgra_{second_ID}',\n",
    "                 f'year_{second_ID}',\n",
    "                 f'geozone_{second_ID}'])\n",
    "    \n",
    "    # Clean green combined\n",
    "    first_second_ID_comparison = first_second_ID_comparison.drop([f'mgra_{second_ID}', f'year_{second_ID}', f'geozone_{second_ID}'], axis=1)\n",
    "    first_second_ID_comparison = first_second_ID_comparison.rename(columns={f'mgra_{first_ID}': 'mgra', f'year_{first_ID}': 'year', f'geozone_{first_ID}': 'geozone'})\n",
    "    \n",
    "    # Because we're summing, if using series 14 data, mgra's in multiple jurisdictions will be counted multiple times\n",
    "    first_second_ID_comparison = first_second_ID_comparison.groupby(['mgra', 'year']).sum()\n",
    "    \n",
    "    #first_second_ID_comparison.to_csv(f\"{output_path}/{first_ID}_{second_ID}_comparison\")\n",
    "    \n",
    "    return first_second_ID_comparison"
   ]
  },
  {
   "cell_type": "markdown",
   "metadata": {},
   "source": [
    "## CPA level Data"
   ]
  },
  {
   "cell_type": "code",
   "execution_count": 3,
   "metadata": {},
   "outputs": [],
   "source": [
    "def cpa_aggregation(first_ID_df, second_ID_df, cpa_level):\n",
    "    \n",
    "    # Adding SQl Data (CPA) to first_id_df\n",
    "    comparison_first_ID_processed_data_cpa = first_ID_df.merge(cpa_level, how='left', on='mgra')\n",
    "    comparison_first_ID_processed_data_cpa = comparison_first_ID_processed_data_cpa[comparison_first_ID_processed_data_cpa['geozone'] != '*Not in a CPA*']\n",
    "\n",
    "    # Adding SQl Data (CPA) to second_id_df\n",
    "    comparison_second_ID_processed_data_cpa = second_ID_df.merge(cpa_level, how='left', on='mgra')\n",
    "    comparison_second_ID_processed_data_cpa = comparison_second_ID_processed_data_cpa[comparison_second_ID_processed_data_cpa['geozone'] != '*Not in a CPA*']\n",
    "\n",
    "    # Merge first_id_df and second_id_df together on mgra, year, and geozone\n",
    "    comparison_processed_data_cpa = comparison_first_ID_processed_data_cpa.merge(comparison_second_ID_processed_data_cpa, how='inner', on=['mgra', 'year', 'geozone'], suffixes=[f'_{first_ID}', f'_{second_ID}'])\n",
    "\n",
    "    # Drop the MGRA column because it isn't really a quantitative value\n",
    "    comparison_processed_data_cpa = comparison_processed_data_cpa.drop('mgra', axis=1)\n",
    "\n",
    "    # Aggregate the sum of features by geozone and year\n",
    "    comparison_processed_data_cpa = comparison_processed_data_cpa.groupby(['geozone', 'year']).sum()\n",
    "\n",
    "    # Rename index (geozone -> cpa)\n",
    "    comparison_processed_data_cpa.index.names = ['cpa', 'year']\n",
    "    \n",
    "    #comparison_processed_data_cpa.to_csv(f\"{output_path}/{first_ID}_{second_ID}_comparison_cpa\")\n",
    "\n",
    "    return comparison_processed_data_cpa"
   ]
  },
  {
   "cell_type": "markdown",
   "metadata": {},
   "source": [
    "## Jurisdiction level Data"
   ]
  },
  {
   "cell_type": "code",
   "execution_count": 4,
   "metadata": {},
   "outputs": [],
   "source": [
    "def jur_aggregation(first_ID_df, second_ID_df, jur_level):\n",
    "    # Adding SQl Data (Jurisdiction) to first_id_df\n",
    "    comparison_first_ID_processed_data_jur = first_ID_df.merge(jur_level, how='left', on='mgra')\n",
    "    \n",
    "    # Adding SQl Data (Jurisdiction) to second_id_df\n",
    "    comparison_second_ID_processed_data_jur = second_ID_df.merge(jur_level, how='left', on='mgra')\n",
    "    \n",
    "    # Merge first_id_df and second_id_df together on mgra, year, and geozone\n",
    "    comparison_processed_data_jur = comparison_first_ID_processed_data_jur.merge(comparison_second_ID_processed_data_jur, how='inner', on=['mgra', 'year', 'geozone'], suffixes=[f'_{first_ID}', f'_{second_ID}'])\n",
    "    \n",
    "    # Drop the MGRA column because it isn't really a quantitative value\n",
    "    comparison_processed_data_jur = comparison_processed_data_jur.drop('mgra', axis=1)\n",
    "    \n",
    "    # Aggregate the sum of features by geozone and year\n",
    "    comparison_processed_data_jur = comparison_processed_data_jur.groupby(['geozone', 'year']).sum()\n",
    "    \n",
    "    # Rename index (geozone -> jurisdiction)\n",
    "    comparison_processed_data_jur.index.names = ['jurisdiction', 'year']\n",
    "    \n",
    "    #comparison_processed_data_jur.to_csv(f\"{output_path}/{first_ID}_{second_ID}_comparison_jurisdiction\")\n",
    "    \n",
    "    return comparison_processed_data_jur"
   ]
  },
  {
   "cell_type": "markdown",
   "metadata": {},
   "source": [
    "## Creating Diff File for all Geo Levels"
   ]
  },
  {
   "cell_type": "code",
   "execution_count": 5,
   "metadata": {},
   "outputs": [],
   "source": [
    "def non_shared_features(features_first_ID, features_second_ID):\n",
    "    \"\"\"\n",
    "    (Comparison only)\n",
    "    Identifies non-shared features between two different DS_ID's.\n",
    "    \"\"\"\n",
    "    # In case we want to display non-shared features\n",
    "    return list(first_ID_unique ^ set(features_second_ID))"
   ]
  },
  {
   "cell_type": "code",
   "execution_count": 6,
   "metadata": {},
   "outputs": [],
   "source": [
    "def create_diff(features_first_ID, features_second_ID, first_second_ID_comparison):\n",
    "    \"\"\"\n",
    "    (Comparison only)\n",
    "    \"\"\"\n",
    "    # Finding features common to both DSID data frames\n",
    "    first_ID_unique = set(features_first_ID)\n",
    "    intersection = first_ID_unique.intersection(features_second_ID)\n",
    "    shared_features = list(intersection)\n",
    "    \n",
    "    # Calculate diff values between the two DS_ID's\n",
    "    diff_df = pd.DataFrame()\n",
    "\n",
    "    # NOTE: Subtracts second DS ID from first DS ID. If negative, then second DS ID was greater than first DS ID.\n",
    "    for column in shared_features:\n",
    "        diff_df[f'{column}_diff'] = first_second_ID_comparison[f'{column}_{first_ID}'] - first_second_ID_comparison[f'{column}_{second_ID}']\n",
    "    \n",
    "    #diff_df.to_csv(f\"{output_path}/{first_ID}_{second_ID}_complete_diff\")\n",
    "    \n",
    "    return diff_df"
   ]
  },
  {
   "cell_type": "markdown",
   "metadata": {},
   "source": [
    "## Region level Data"
   ]
  },
  {
   "cell_type": "code",
   "execution_count": 7,
   "metadata": {},
   "outputs": [],
   "source": [
    "def region_aggregation(first_ID_df, second_ID_df):\n",
    "    # Merge first_id_df and second_id_df together on mgra and year\n",
    "    comparison_processed_data_reg = first_ID_df.merge(second_ID_df, how='inner', on=['mgra', 'year'], suffixes=[f'_{first_ID}', f'_{second_ID}'])\n",
    "    \n",
    "    # Aggregate the sum of features by year\n",
    "    comparison_processed_data_reg = comparison_processed_data_reg.groupby('year').sum()\n",
    "    \n",
    "    # Drop the MGRA column because it isn't really a quantitative value\n",
    "    comparison_processed_data_reg = comparison_processed_data_reg.drop('mgra', axis=1)\n",
    "    \n",
    "    #comparison_processed_data_reg.to_csv(f\"{output_path}/{first_ID}_{second_ID}_comparison_region\")\n",
    "    \n",
    "    return comparison_processed_data_reg"
   ]
  },
  {
   "cell_type": "markdown",
   "metadata": {},
   "source": [
    "# Individual Functions"
   ]
  },
  {
   "cell_type": "code",
   "execution_count": 8,
   "metadata": {},
   "outputs": [],
   "source": [
    "# maybe config argument?\n",
    "def download_DS_data(ds_ID, jur_level):\n",
    "    datafiles = config[ds_ID].values()\n",
    "    \n",
    "    comparison_no_geozone_df = pd.DataFrame()\n",
    "    for file_name in datafiles:\n",
    "        working_df = pd.read_csv(file_name)\n",
    "        working_df['year'] = f\"{file_name[-11:-7]}\"\n",
    "        comparison_no_geozone_df = comparison_no_geozone_df.append(working_df)\n",
    "        \n",
    "    # Save the features_first_ID for future use (Used when creating the diff file)\n",
    "    features = comparison_no_geozone_df.drop(['mgra', 'year'], axis=1).columns\n",
    "    \n",
    "    comparison_no_geozone = copy.deepcopy(comparison_no_geozone_df)\n",
    "    \n",
    "    # Adding SQl Data to first_id_df\n",
    "    comparison_processed_data = comparison_no_geozone.merge(jur_level, how='left', on='mgra')\n",
    "    \n",
    "    # making it original\n",
    "    comparison_processed_data.columns = [x + f'_{ds_ID}' for x in comparison_processed_data.columns]\n",
    "    \n",
    "    #comparison_first_ID_processed_data.to_csv(f\"{output_path}/comparison_{first_ID}_processed_data.csv\")\n",
    "    \n",
    "    return comparison_processed_data, comparison_no_geozone_df, features"
   ]
  },
  {
   "cell_type": "markdown",
   "metadata": {},
   "source": [
    "## CPA Aggregation"
   ]
  },
  {
   "cell_type": "code",
   "execution_count": 9,
   "metadata": {},
   "outputs": [],
   "source": [
    "def cpa_aggregation_ind(first_ID_df, cpa_level):\n",
    "    \n",
    "    # Adding SQl Data (CPA) to first_id_df\n",
    "    comparison_first_ID_processed_data_cpa = first_ID_df.merge(cpa_level, how='left', on='mgra')\n",
    "    comparison_first_ID_processed_data_cpa = comparison_first_ID_processed_data_cpa[comparison_first_ID_processed_data_cpa['geozone'] != '*Not in a CPA*']\n",
    "\n",
    "    # Drop the MGRA column because it isn't really a quantitative value\n",
    "    comparison_processed_data_cpa = comparison_first_ID_processed_data_cpa.drop('mgra', axis=1)\n",
    "\n",
    "    # Aggregate the sum of features by geozone and year\n",
    "    comparison_processed_data_cpa = comparison_processed_data_cpa.groupby(['geozone', 'year']).sum()\n",
    "\n",
    "    # Rename index (geozone -> cpa)\n",
    "    comparison_processed_data_cpa.index.names = ['cpa', 'year']\n",
    "    \n",
    "    #comparison_processed_data_cpa.to_csv(f\"{output_path}/{first_ID}_{second_ID}_comparison_cpa\")\n",
    "\n",
    "    return comparison_processed_data_cpa"
   ]
  },
  {
   "cell_type": "markdown",
   "metadata": {},
   "source": [
    "## Jurisdiction level Data"
   ]
  },
  {
   "cell_type": "code",
   "execution_count": 10,
   "metadata": {},
   "outputs": [],
   "source": [
    "def jur_aggregation_ind(first_ID_df, jur_level):\n",
    "    # Adding SQl Data (Jurisdiction) to first_id_df\n",
    "    comparison_first_ID_processed_data_jur = first_ID_df.merge(jur_level, how='left', on='mgra')\n",
    "    \n",
    "    # Drop the MGRA column because it isn't really a quantitative value\n",
    "    comparison_processed_data_jur = comparison_first_ID_processed_data_jur.drop('mgra', axis=1)\n",
    "    \n",
    "    # Aggregate the sum of features by geozone and year\n",
    "    comparison_processed_data_jur = comparison_processed_data_jur.groupby(['geozone', 'year']).sum()\n",
    "    \n",
    "    # Rename index (geozone -> jurisdiction)\n",
    "    comparison_processed_data_jur.index.names = ['jurisdiction', 'year']\n",
    "    \n",
    "    #comparison_processed_data_jur.to_csv(f\"{output_path}/{first_ID}_{second_ID}_comparison_jurisdiction\")\n",
    "    \n",
    "    return comparison_processed_data_jur"
   ]
  },
  {
   "cell_type": "markdown",
   "metadata": {},
   "source": [
    "## Region level Data"
   ]
  },
  {
   "cell_type": "code",
   "execution_count": 11,
   "metadata": {},
   "outputs": [],
   "source": [
    "def region_aggregation_ind(first_ID_df):\n",
    "    \n",
    "    # Aggregate the sum of features by year\n",
    "    comparison_processed_data_reg = first_ID_df.groupby('year').sum()\n",
    "    \n",
    "    # Drop the MGRA column because it isn't really a quantitative value\n",
    "    comparison_processed_data_reg = comparison_processed_data_reg.drop('mgra', axis=1)\n",
    "    \n",
    "    #comparison_processed_data_reg.to_csv(f\"{output_path}/{first_ID}_{second_ID}_comparison_region\")\n",
    "    \n",
    "    return comparison_processed_data_reg"
   ]
  },
  {
   "cell_type": "markdown",
   "metadata": {},
   "source": [
    "# Environment Setup"
   ]
  },
  {
   "cell_type": "markdown",
   "metadata": {},
   "source": [
    "## Pulling Info From YML File"
   ]
  },
  {
   "cell_type": "code",
   "execution_count": 12,
   "metadata": {},
   "outputs": [],
   "source": [
    "# Localise with . files \n",
    "# config_filename = 'C:/Users/cra/OneDrive - San Diego Association of Governments/DS41_42/ds41_42_config.yml'\n",
    "config_filename = './ds_config.yml'"
   ]
  },
  {
   "cell_type": "code",
   "execution_count": 13,
   "metadata": {},
   "outputs": [],
   "source": [
    "with open(config_filename, \"r\") as yml_file:\n",
    "    config = yaml.safe_load(yml_file)"
   ]
  },
  {
   "cell_type": "markdown",
   "metadata": {},
   "source": [
    "## Downloading SQL Data"
   ]
  },
  {
   "cell_type": "code",
   "execution_count": 14,
   "metadata": {},
   "outputs": [],
   "source": [
    "conn = pyodbc.connect('Driver={ODBC Driver 17 for SQL Server};'\n",
    "                      'Server=DDAMWSQL16.sandag.org;'\n",
    "                      'Database=demographic_warehouse;'\n",
    "                      'Trusted_Connection=yes;')"
   ]
  },
  {
   "cell_type": "code",
   "execution_count": 15,
   "metadata": {},
   "outputs": [],
   "source": [
    "# NOTE: Format to make it select correct MGRA series based on input DS\n",
    "query_all = \"SELECT mgra, geotype, geozone FROM demographic_warehouse.dim.mgra WHERE series = 14 AND (geotype='cpa' OR geotype='jurisdiction')\" #Remove the last and part when I do this for real "
   ]
  },
  {
   "cell_type": "code",
   "execution_count": 16,
   "metadata": {},
   "outputs": [],
   "source": [
    "sql_query = pd.read_sql_query(query_all,conn)\n",
    "\n",
    "sql_df_all = pd.DataFrame(sql_query)"
   ]
  },
  {
   "cell_type": "code",
   "execution_count": 17,
   "metadata": {},
   "outputs": [],
   "source": [
    "# SQl Data at different levels\n",
    "jur_level = sql_df_all[sql_df_all['geotype']=='jurisdiction'].drop('geotype', axis=1).drop_duplicates()\n",
    "cpa_level = sql_df_all[sql_df_all['geotype']=='cpa'].drop('geotype', axis=1).drop_duplicates()"
   ]
  },
  {
   "cell_type": "markdown",
   "metadata": {},
   "source": [
    "# GUI Implementation"
   ]
  },
  {
   "cell_type": "markdown",
   "metadata": {},
   "source": [
    "## Base window"
   ]
  },
  {
   "cell_type": "code",
   "execution_count": 73,
   "metadata": {},
   "outputs": [],
   "source": [
    "def base_window():\n",
    "    # Very basic window.\n",
    "    # Return event\n",
    "    layout_first = [\n",
    "        [sg.Text('Please Designate An Output Path (. for local) And Select A Comparison Option')],\n",
    "        [sg.Text('Output Path', size =(15, 1)), sg.FolderBrowse(key='output-path')],\n",
    "        [sg.Listbox(values=(list(config.keys())[1:-1]), select_mode='multiple', size=(30, 6))],\n",
    "        [sg.Button(button_text='comparison', key='comparison-select'),\n",
    "         sg.Button(button_text='individual', key='individual-select'),\n",
    "         sg.Cancel()]\n",
    "    ]\n",
    "    \n",
    "    # Add inputs for output_path, desired features, and desired outputs (maybe a dropdown if possible?)\n",
    "\n",
    "    window = sg.Window('Base window', layout_first)\n",
    "    event, values = window.read()\n",
    "    window.close()\n",
    "\n",
    "    return event, values"
   ]
  },
  {
   "cell_type": "code",
   "execution_count": 74,
   "metadata": {},
   "outputs": [
    {
     "data": {
      "text/plain": [
       "('comparison-select', {'output-path': '', 0: []})"
      ]
     },
     "execution_count": 74,
     "metadata": {},
     "output_type": "execute_result"
    }
   ],
   "source": [
    "base_window()"
   ]
  },
  {
   "cell_type": "markdown",
   "metadata": {},
   "source": [
    "## Comparison window"
   ]
  },
  {
   "cell_type": "code",
   "execution_count": 43,
   "metadata": {},
   "outputs": [],
   "source": [
    "def comparison_window():\n",
    "    # Very basic window.\n",
    "    # Return values using\n",
    "    # automatic-numbered keys\n",
    "    layout_comparison = [\n",
    "        [sg.Text('Please Input DS_ID Numbers (Format as DSXX)')],\n",
    "        [sg.Text('First DS_ID', size =(15, 1)), sg.InputText()],\n",
    "        [sg.Text('Second DS_ID', size =(15, 1)), sg.InputText()],\n",
    "        [sg.Submit(key='comparison'), sg.Cancel()]\n",
    "    ]\n",
    "    \n",
    "    window = sg.Window('Comparison window', layout_comparison)\n",
    "    event, values = window.read()\n",
    "    window.close()\n",
    "    \n",
    "    return event, values"
   ]
  },
  {
   "cell_type": "code",
   "execution_count": 44,
   "metadata": {},
   "outputs": [],
   "source": [
    "def comparison_window():\n",
    "    # Very basic window.\n",
    "    # Return values using\n",
    "    # automatic-numbered keys\n",
    "    layout_comparison = [\n",
    "        [sg.Text('Please Input DS_ID Numbers (Format as DSXX)')],\n",
    "        [sg.Text('First DS_ID', size =(15, 1)), sg.InputText()],\n",
    "        [sg.Text('Second DS_ID', size =(15, 1)), sg.InputText()],\n",
    "        [sg.Submit(key='comparison'), sg.Cancel()]\n",
    "    ]\n",
    "    \n",
    "    window = sg.Window('Comparison window', layout_comparison)\n",
    "    event, values = window.read()\n",
    "    window.close()\n",
    "    \n",
    "    return event, values"
   ]
  },
  {
   "cell_type": "markdown",
   "metadata": {},
   "source": [
    "## Individual window"
   ]
  },
  {
   "cell_type": "code",
   "execution_count": 45,
   "metadata": {},
   "outputs": [],
   "source": [
    "def individual_window():\n",
    "    # Very basic window.\n",
    "    # Return values using\n",
    "    # automatic-numbered keys\n",
    "    layout_comparison = [\n",
    "        [sg.Text('Please Input DS_ID Number (Format as DSXX)')],\n",
    "        [sg.Text('Individual DS_ID', size =(15, 1)), sg.InputText()],\n",
    "        [sg.Submit(key='individual'), sg.Cancel()]\n",
    "    ]\n",
    "    \n",
    "    window = sg.Window('Individual window', layout_comparison)\n",
    "    event, values = window.read()\n",
    "    window.close()\n",
    "    \n",
    "    return event, values"
   ]
  },
  {
   "cell_type": "code",
   "execution_count": null,
   "metadata": {},
   "outputs": [],
   "source": []
  },
  {
   "cell_type": "markdown",
   "metadata": {},
   "source": [
    "## Initialize GUI"
   ]
  },
  {
   "cell_type": "code",
   "execution_count": 46,
   "metadata": {},
   "outputs": [
    {
     "data": {
      "text/plain": [
       "'SandyBeach'"
      ]
     },
     "execution_count": 46,
     "metadata": {},
     "output_type": "execute_result"
    }
   ],
   "source": [
    "# Add some color\n",
    "# to the window\n",
    "sg.theme('SandyBeach')"
   ]
  },
  {
   "cell_type": "code",
   "execution_count": 47,
   "metadata": {},
   "outputs": [],
   "source": [
    "def initiate_window(event):\n",
    "    event, values = base_window()\n",
    "    output_path = values['output-path']\n",
    "    while True:\n",
    "        if event in [None, 'Cancel']:\n",
    "            return\n",
    "        if event == 'comparison-select':\n",
    "            event, values = comparison_window()\n",
    "            return event, values\n",
    "        if event == 'individual-select':\n",
    "            event, values = individual_window()\n",
    "            return event, values"
   ]
  },
  {
   "cell_type": "code",
   "execution_count": 48,
   "metadata": {},
   "outputs": [],
   "source": [
    "event, values = initiate_window(None)"
   ]
  },
  {
   "cell_type": "code",
   "execution_count": 50,
   "metadata": {},
   "outputs": [
    {
     "ename": "NameError",
     "evalue": "name 'output_path' is not defined",
     "output_type": "error",
     "traceback": [
      "\u001b[1;31m---------------------------------------------------------------------------\u001b[0m",
      "\u001b[1;31mNameError\u001b[0m                                 Traceback (most recent call last)",
      "\u001b[1;32m<ipython-input-50-03cbb9cd0a01>\u001b[0m in \u001b[0;36m<module>\u001b[1;34m\u001b[0m\n\u001b[1;32m----> 1\u001b[1;33m \u001b[0mevent\u001b[0m\u001b[1;33m,\u001b[0m \u001b[0mvalues\u001b[0m\u001b[1;33m,\u001b[0m \u001b[0moutput_path\u001b[0m\u001b[1;33m\u001b[0m\u001b[1;33m\u001b[0m\u001b[0m\n\u001b[0m",
      "\u001b[1;31mNameError\u001b[0m: name 'output_path' is not defined"
     ]
    }
   ],
   "source": [
    "event, values, output_path"
   ]
  },
  {
   "cell_type": "code",
   "execution_count": 24,
   "metadata": {},
   "outputs": [],
   "source": [
    "# invalid check_type input\n",
    "if event not in ['comparison', 'individual']:\n",
    "    raise AssertionError(\"Invalid check_type in yml file. Please use either 'comparison' or 'individual'\")\n",
    "    \n",
    "if event == 'comparison':\n",
    "    \n",
    "    first_ID = values[0]\n",
    "    second_ID = values[1]\n",
    "    \n",
    "    # identical ds_id's\n",
    "    if first_ID == second_ID:\n",
    "        raise AssertionError('first_ID and second_ID inputs are equivalent. Please make sure they are different values')\n",
    "    \n",
    "    # first_id actually exists in list\n",
    "    if first_ID not in config.keys():\n",
    "        raise AssertionError('first_ID not found in specified DS_ID list. Please reference yml file for selectable DS_IDs')\n",
    "    \n",
    "    # second_id actually exists in list\n",
    "    if second_ID not in config.keys():\n",
    "        raise AssertionError('second_ID not found in specified DS_ID list. Please reference yml file for selectable DS_IDs')\n",
    "        \n",
    "elif event == 'individual':\n",
    "    \n",
    "    individual_ID = values[0]\n",
    "    \n",
    "    # individual_id actually exists in list\n",
    "    if individual_ID not in config.keys():\n",
    "        raise AssertionError(f'individual_ID not found in specified DS_ID list. Valid DS_IDs include: {\", \".join(list(config.keys())[1:-1])}.')"
   ]
  },
  {
   "cell_type": "code",
   "execution_count": 25,
   "metadata": {},
   "outputs": [],
   "source": [
    "# if event == 'comparison':\n",
    "    \n",
    "#     input_list = ['mgra_diff', 'first_ID_processed']\n",
    "    \n",
    "#     comparison_function_dict = {}\n",
    "    \n",
    "#     # download data for each ds_id\n",
    "#     first_ID_processed, first_ID_unprocessed, first_ID_features = download_DS_data(first_ID, jur_level)\n",
    "#     second_ID_processed, second_ID_unprocessed, second_ID_features = download_DS_data(second_ID, jur_level)\n",
    "    \n",
    "#     # concatenate both processed ds_id's together to get mgra level data by mgra and year\n",
    "#     mgra_both = concat_dfs(first_ID_processed, second_ID_processed)\n",
    "    \n",
    "#     # aggregate both ds_id's together by cpa level and year\n",
    "#     cpa_both = cpa_aggregation(first_ID_unprocessed, second_ID_unprocessed, cpa_level)\n",
    "    \n",
    "#     # aggregate both ds_id's together by jurisdiction level and year\n",
    "#     jur_both = jur_aggregation(first_ID_unprocessed, second_ID_unprocessed, jur_level)\n",
    "    \n",
    "#     # aggregate both ds_id's together by region level (sum total)\n",
    "#     region_both = region_aggregation(first_ID_unprocessed, second_ID_unprocessed)\n",
    "    \n",
    "#     # Create diff at mgra level\n",
    "#     mgra_diff = create_diff(first_ID_features, second_ID_features, mgra_both)\n",
    "\n",
    "#     # Create diff at cpa level\n",
    "#     cpa_diff = create_diff(first_ID_features, second_ID_features, cpa_both)\n",
    "\n",
    "#     # Create diff at jurisdiction level\n",
    "#     jur_diff = create_diff(first_ID_features, second_ID_features, jur_both)\n",
    "    \n",
    "#     # Create diff at region level\n",
    "#     reg_diff = create_diff(first_ID_features, second_ID_features, region_both)\n",
    "    \n",
    "#     # output func here"
   ]
  },
  {
   "cell_type": "code",
   "execution_count": 27,
   "metadata": {},
   "outputs": [],
   "source": [
    "if event == 'comparison':\n",
    "    \n",
    "    input_list = ['jur_diff', 'mgra_both', 'region_diff']\n",
    "    \n",
    "    # download data for each ds_id    \n",
    "    first_ID_processed, first_ID_unprocessed, first_ID_features = download_DS_data(first_ID, jur_level)\n",
    "    second_ID_processed, second_ID_unprocessed, second_ID_features = download_DS_data(second_ID, jur_level)\n",
    "    \n",
    "    if 'mgra_both' in input_list:\n",
    "        mgra_both = concat_dfs(first_ID_processed, second_ID_processed)\n",
    "    if 'cpa_both' in input_list:\n",
    "        cpa_both = cpa_aggregation(first_ID_unprocessed, second_ID_unprocessed, cpa_level)\n",
    "    if 'jur_both' in input_list: \n",
    "        jur_both = jur_aggregation(first_ID_unprocessed, second_ID_unprocessed, jur_level)\n",
    "    if 'region_both' in input_list:\n",
    "        region_both = region_aggregation(first_ID_unprocessed, second_ID_unprocessed)\n",
    "    if 'mgra_diff' in input_list:\n",
    "        if 'mgra_both' not in input_list:\n",
    "            mgra_both = concat_dfs(first_ID_processed, second_ID_processed)\n",
    "        mgra_diff = create_diff(first_ID_features, second_ID_features, mgra_both)\n",
    "    if 'cpa_diff' in input_list: \n",
    "        if 'cpa_both' not in input_list:\n",
    "            cpa_both = cpa_aggregation(first_ID_unprocessed, second_ID_unprocessed, cpa_level)\n",
    "        cpa_diff = create_diff(first_ID_features, second_ID_features, cpa_both)\n",
    "    if 'jur_diff' in input_list:\n",
    "        if 'jur_both' not in input_list:\n",
    "            jur_both = jur_aggregation(first_ID_unprocessed, second_ID_unprocessed, jur_level)\n",
    "        jur_diff = create_diff(first_ID_features, second_ID_features, jur_both)\n",
    "    if 'region_diff' in input_list:\n",
    "        if 'region_both' not in input_list:\n",
    "            region_both = region_aggregation(first_ID_unprocessed, second_ID_unprocessed)\n",
    "        region_diff = create_diff(first_ID_features, second_ID_features, region_both)\n",
    "\n",
    "        # output func here"
   ]
  },
  {
   "cell_type": "code",
   "execution_count": null,
   "metadata": {},
   "outputs": [],
   "source": [
    "# for df in input_list: #May have to do the created thing if strings can't be used as variable names\n",
    "#      globals()[df].to_csv(f\"{output_file}/{df}.csv\")"
   ]
  },
  {
   "cell_type": "markdown",
   "metadata": {},
   "source": [
    "To do: \n",
    "- Add the input_list feature in the GUI \n",
    "    - Set that value equal to an input_list\n",
    "- Create the output based on the data frames created \n",
    "- Add default folder for unspecified output_path"
   ]
  },
  {
   "cell_type": "code",
   "execution_count": null,
   "metadata": {},
   "outputs": [],
   "source": [
    "if event == 'individual':\n",
    "    \n",
    "    # download data for the ds_id\n",
    "    individual_ID_processed, individual_ID_unprocessed, individual_ID_features = download_DS_data(individual_ID, jur_level)\n",
    "    \n",
    "    if 'cpa_ind' in input_list:\n",
    "        cpa_ind = cpa_aggregation_ind(individual_ID_unprocessed, cpa_level)\n",
    "    if 'jur_ind' in input_list:\n",
    "        jur_ind = jur_aggregation_ind(individual_ID_unprocessed, jur_level)\n",
    "    if 'region_ind' in input_list:\n",
    "        region_ind = region_aggregation_ind(individual_ID_unprocessed)\n",
    "    \n",
    "    # aggregate both ds_id's together by cpa level and year\n",
    "    cpa_ind = cpa_aggregation_ind(individual_ID_unprocessed, cpa_level)\n",
    "    \n",
    "    # aggregate both ds_id's together by jurisdiction level and year\n",
    "    jur_ind = jur_aggregation_ind(individual_ID_unprocessed, jur_level)\n",
    "\n",
    "    # aggregate both ds_id's together by region level (sum total)\n",
    "    region_ind = region_aggregation_ind(individual_ID_unprocessed)\n",
    "    \n",
    "    # output func"
   ]
  },
  {
   "cell_type": "markdown",
   "metadata": {},
   "source": [
    "# Output csv files"
   ]
  },
  {
   "cell_type": "code",
   "execution_count": null,
   "metadata": {},
   "outputs": [],
   "source": [
    "def comparison_output(input_lst, df_list):\n",
    "    if 'all' in lst.lower():\n",
    "        mgra_both.to_csv(f\"{output_path}/{first_ID}_{second_ID}_comparison.csv\")\n",
    "        cpa_both.to_csv(f\"{output_path}/{first_ID}_{second_ID}_comparison_cpa.csv\")\n",
    "        jur_both.to_csv(f\"{output_path}/{first_ID}_{second_ID}_comparison_jurisdiction.csv\")\n",
    "        region_both.to_csv(f\"{output_path}/{first_ID}_{second_ID}_comparison_region.csv\")\n",
    "\n",
    "        mgra_diff.to_csv(f\"{output_path}/{first_ID}_{second_ID}_mgra_diff.csv\")\n",
    "        cpa_diff.to_csv(f\"{output_path}/{first_ID}_{second_ID}_cpa_diff.csv\")\n",
    "        jur_diff.to_csv(f\"{output_path}/{first_ID}_{second_ID}_jurisdiction_diff.csv\")\n",
    "        reg_diff.to_csv(f\"{output_path}/{first_ID}_{second_ID}_region_diff.csv\")\n",
    "    elif 'all':\n",
    "        "
   ]
  },
  {
   "cell_type": "code",
   "execution_count": null,
   "metadata": {},
   "outputs": [],
   "source": [
    "# Ind outputs\n",
    "\n",
    "#individual_ID_processed.to_csv(f\"{output_path}/{individual_ID}_processed_data.csv\")\n",
    "#cpa_ind.to_csv(f\"{output_path}/{individual_ID}_cpa.csv\")\n",
    "#jur_ind.to_csv(f\"{output_path}/{individual_ID}_jurisdiction.csv\")\n",
    "#region_ind.to_csv(f\"{output_path}/{individual_ID}_region.csv\")"
   ]
  },
  {
   "cell_type": "code",
   "execution_count": null,
   "metadata": {},
   "outputs": [],
   "source": [
    "# Comparison outputs\n",
    "\n",
    "#mgra_both.to_csv(f\"{output_path}/{first_ID}_{second_ID}_comparison.csv\")\n",
    "#cpa_both.to_csv(f\"{output_path}/{first_ID}_{second_ID}_comparison_cpa.csv\")\n",
    "#jur_both.to_csv(f\"{output_path}/{first_ID}_{second_ID}_comparison_jurisdiction.csv\")\n",
    "#region_both.to_csv(f\"{output_path}/{first_ID}_{second_ID}_comparison_region.csv\")\n",
    "\n",
    "#mgra_diff.to_csv(f\"{output_path}/{first_ID}_{second_ID}_mgra_diff.csv\")\n",
    "#cpa_diff.to_csv(f\"{output_path}/{first_ID}_{second_ID}_cpa_diff.csv\")\n",
    "#jur_diff.to_csv(f\"{output_path}/{first_ID}_{second_ID}_jurisdiction_diff.csv\")\n",
    "#reg_diff.to_csv(f\"{output_path}/{first_ID}_{second_ID}_region_diff.csv\")"
   ]
  },
  {
   "cell_type": "code",
   "execution_count": null,
   "metadata": {},
   "outputs": [],
   "source": [
    "def foo(x,y):\n",
    "    return(x+y)"
   ]
  },
  {
   "cell_type": "code",
   "execution_count": null,
   "metadata": {},
   "outputs": [],
   "source": [
    "a = {'function1': foo}"
   ]
  },
  {
   "cell_type": "code",
   "execution_count": null,
   "metadata": {},
   "outputs": [],
   "source": [
    "a['function1'](1,2)"
   ]
  },
  {
   "cell_type": "code",
   "execution_count": null,
   "metadata": {},
   "outputs": [],
   "source": [
    "def mult(x,y):\n",
    "    return (x*y)"
   ]
  },
  {
   "cell_type": "code",
   "execution_count": null,
   "metadata": {},
   "outputs": [],
   "source": [
    "mult(4,a['function1'](1,2))"
   ]
  },
  {
   "cell_type": "code",
   "execution_count": null,
   "metadata": {},
   "outputs": [],
   "source": []
  },
  {
   "cell_type": "markdown",
   "metadata": {
    "heading_collapsed": true
   },
   "source": [
    "# Brainstorming for Part 2"
   ]
  },
  {
   "cell_type": "code",
   "execution_count": null,
   "metadata": {
    "hidden": true
   },
   "outputs": [],
   "source": [
    "config['dof']['dof_data'] # figure out what this is for and what to do with it"
   ]
  },
  {
   "cell_type": "code",
   "execution_count": null,
   "metadata": {
    "hidden": true
   },
   "outputs": [],
   "source": [
    "mgra_both.head()"
   ]
  },
  {
   "cell_type": "code",
   "execution_count": null,
   "metadata": {
    "hidden": true
   },
   "outputs": [],
   "source": [
    "# MGRA level stats\n",
    "mgra_both.describe(percentiles=[0.5])"
   ]
  },
  {
   "cell_type": "code",
   "execution_count": null,
   "metadata": {
    "hidden": true
   },
   "outputs": [],
   "source": []
  },
  {
   "cell_type": "markdown",
   "metadata": {
    "hidden": true
   },
   "source": [
    "### Outlier Detection"
   ]
  },
  {
   "cell_type": "code",
   "execution_count": null,
   "metadata": {
    "hidden": true
   },
   "outputs": [],
   "source": [
    "# Good article: https://machinelearningmastery.com/how-to-use-statistics-to-identify-outliers-in-data/"
   ]
  },
  {
   "cell_type": "code",
   "execution_count": null,
   "metadata": {
    "hidden": true
   },
   "outputs": [],
   "source": [
    "diff_stats = mgra_diff.describe()"
   ]
  },
  {
   "cell_type": "code",
   "execution_count": null,
   "metadata": {
    "hidden": true
   },
   "outputs": [],
   "source": [
    "diff_stats"
   ]
  },
  {
   "cell_type": "code",
   "execution_count": null,
   "metadata": {
    "hidden": true
   },
   "outputs": [],
   "source": [
    "from scipy import stats"
   ]
  },
  {
   "cell_type": "code",
   "execution_count": null,
   "metadata": {
    "hidden": true
   },
   "outputs": [],
   "source": [
    "mgra_both"
   ]
  },
  {
   "cell_type": "code",
   "execution_count": null,
   "metadata": {
    "hidden": true
   },
   "outputs": [],
   "source": [
    "q = mgra_both[\"taz_DS35\"].quantile(0.99)\n",
    "mgra_both[mgra_both[\"taz_DS35\"] > q]"
   ]
  },
  {
   "cell_type": "code",
   "execution_count": null,
   "metadata": {
    "hidden": true
   },
   "outputs": [],
   "source": [
    "mgra_both[mgra_both[\"taz_DS35\"] > q]"
   ]
  },
  {
   "cell_type": "code",
   "execution_count": null,
   "metadata": {
    "hidden": true
   },
   "outputs": [],
   "source": [
    "mgra_both['taz_DS35']"
   ]
  },
  {
   "cell_type": "code",
   "execution_count": null,
   "metadata": {
    "hidden": true
   },
   "outputs": [],
   "source": []
  },
  {
   "cell_type": "code",
   "execution_count": null,
   "metadata": {
    "hidden": true
   },
   "outputs": [],
   "source": []
  },
  {
   "cell_type": "code",
   "execution_count": null,
   "metadata": {
    "hidden": true
   },
   "outputs": [],
   "source": [
    "mgra_both[(np.abs(stats.zscore(mgra_both)) < 3).all(axis=1)]"
   ]
  },
  {
   "cell_type": "code",
   "execution_count": null,
   "metadata": {
    "hidden": true
   },
   "outputs": [],
   "source": []
  },
  {
   "cell_type": "code",
   "execution_count": null,
   "metadata": {
    "hidden": true
   },
   "outputs": [],
   "source": [
    "diff_stats.loc['max']"
   ]
  },
  {
   "cell_type": "code",
   "execution_count": null,
   "metadata": {
    "hidden": true
   },
   "outputs": [],
   "source": [
    "diff_stats.loc['max']"
   ]
  },
  {
   "cell_type": "code",
   "execution_count": null,
   "metadata": {
    "hidden": true
   },
   "outputs": [],
   "source": []
  },
  {
   "cell_type": "code",
   "execution_count": null,
   "metadata": {
    "hidden": true
   },
   "outputs": [],
   "source": []
  }
 ],
 "metadata": {
  "interpreter": {
   "hash": "d60123f2ed8b63279fba5ddbefdeca593323e286d3975f7130d49323a9310301"
  },
  "kernelspec": {
   "display_name": "Python 3",
   "language": "python",
   "name": "python3"
  },
  "language_info": {
   "codemirror_mode": {
    "name": "ipython",
    "version": 3
   },
   "file_extension": ".py",
   "mimetype": "text/x-python",
   "name": "python",
   "nbconvert_exporter": "python",
   "pygments_lexer": "ipython3",
   "version": "3.7.11"
  }
 },
 "nbformat": 4,
 "nbformat_minor": 2
}
