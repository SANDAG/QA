{
 "cells": [
  {
   "cell_type": "markdown",
   "metadata": {},
   "source": [
    "# Part One"
   ]
  },
  {
   "cell_type": "code",
   "execution_count": 1,
   "metadata": {},
   "outputs": [],
   "source": [
    "# Import Libraries\n",
    "import pandas as pd\n",
    "import numpy as np\n",
    "import yaml\n",
    "import matplotlib.pyplot as plt\n",
    "import seaborn as sns\n",
    "#Libraries \n",
    "import pandas as pd\n",
    "import numpy as np\n",
    "import matplotlib.pyplot as plt\n",
    "import os\n",
    "import seaborn as sns\n",
    "from matplotlib.pyplot import figure\n",
    "import pyodbc \n",
    "import glob"
   ]
  },
  {
   "cell_type": "code",
   "execution_count": 2,
   "metadata": {},
   "outputs": [],
   "source": [
    "# Localise with . files \n",
    "config_filename = 'C:/Users/cra/OneDrive - San Diego Association of Governments/DS41_42/ds41_42_config.yml'"
   ]
  },
  {
   "cell_type": "code",
   "execution_count": 5,
   "metadata": {},
   "outputs": [
    {
     "data": {
      "text/plain": [
       "'C:/Users/cra/OneDrive - San Diego Association of Governments/DS41_42/ds41_42_config.yml'"
      ]
     },
     "execution_count": 5,
     "metadata": {},
     "output_type": "execute_result"
    }
   ],
   "source": [
    "config_filename"
   ]
  },
  {
   "cell_type": "code",
   "execution_count": 3,
   "metadata": {},
   "outputs": [],
   "source": [
    "with open(config_filename, \"r\") as yml_file:\n",
    "    config = yaml.safe_load(yml_file)"
   ]
  },
  {
   "cell_type": "code",
   "execution_count": 4,
   "metadata": {},
   "outputs": [
    {
     "data": {
      "text/plain": [
       "{'DS35': {'DS35_2016': 'T:/socioec/Current_Projects/XPEF31/abm_csv/mgra13_based_input2016_01.csv',\n",
       "  'DS35_2018': 'T:/socioec/Current_Projects/XPEF31/abm_csv/mgra13_based_input2018_01.csv',\n",
       "  'DS35_2020': 'T:/socioec/Current_Projects/XPEF31/abm_csv/mgra13_based_input2020_01.csv',\n",
       "  'DS35_2023': 'T:/socioec/Current_Projects/XPEF31/abm_csv/mgra13_based_input2023_01.csv',\n",
       "  'DS35_2025': 'T:/socioec/Current_Projects/XPEF31/abm_csv/mgra13_based_input2025_01.csv',\n",
       "  'DS35_2026': 'T:/socioec/Current_Projects/XPEF31/abm_csv/mgra13_based_input2026_01.csv',\n",
       "  'DS35_2029': 'T:/socioec/Current_Projects/XPEF31/abm_csv/mgra13_based_input2029_01.csv',\n",
       "  'DS35_2030': 'T:/socioec/Current_Projects/XPEF31/abm_csv/mgra13_based_input2030_01.csv',\n",
       "  'DS35_2032': 'T:/socioec/Current_Projects/XPEF31/abm_csv/mgra13_based_input2032_01.csv',\n",
       "  'DS35_2035': 'T:/socioec/Current_Projects/XPEF31/abm_csv/mgra13_based_input2035_01.csv',\n",
       "  'DS35_2040': 'T:/socioec/Current_Projects/XPEF31/abm_csv/mgra13_based_input2040_01.csv',\n",
       "  'DS35_2045': 'T:/socioec/Current_Projects/XPEF31/abm_csv/mgra13_based_input2045_01.csv',\n",
       "  'DS35_2050': 'T:/socioec/Current_Projects/XPEF31/abm_csv/mgra13_based_input2050_01.csv'},\n",
       " 'DS41': {'DS41_2016': 'T:/socioec/Current_Projects/XPEF35/abm_csv/New_mgra_based_input/mgra13_based_input2016_02.csv',\n",
       "  'DS41_2018': 'T:/socioec/Current_Projects/XPEF35/abm_csv/New_mgra_based_input/mgra13_based_input2018_02.csv',\n",
       "  'DS41_2020': 'T:/socioec/Current_Projects/XPEF35/abm_csv/New_mgra_based_input/mgra13_based_input2020_02.csv',\n",
       "  'DS41_2023': 'T:/socioec/Current_Projects/XPEF35/abm_csv/New_mgra_based_input/mgra13_based_input2023_02.csv',\n",
       "  'DS41_2025': 'T:/socioec/Current_Projects/XPEF35/abm_csv/New_mgra_based_input/mgra13_based_input2025_02.csv',\n",
       "  'DS41_2026': 'T:/socioec/Current_Projects/XPEF35/abm_csv/New_mgra_based_input/mgra13_based_input2026_02.csv',\n",
       "  'DS41_2029': 'T:/socioec/Current_Projects/XPEF35/abm_csv/New_mgra_based_input/mgra13_based_input2029_02.csv',\n",
       "  'DS41_2030': 'T:/socioec/Current_Projects/XPEF35/abm_csv/New_mgra_based_input/mgra13_based_input2030_02.csv',\n",
       "  'DS41_2032': 'T:/socioec/Current_Projects/XPEF35/abm_csv/New_mgra_based_input/mgra13_based_input2032_02.csv',\n",
       "  'DS41_2035': 'T:/socioec/Current_Projects/XPEF35/abm_csv/New_mgra_based_input/mgra13_based_input2035_02.csv',\n",
       "  'DS41_2040': 'T:/socioec/Current_Projects/XPEF35/abm_csv/New_mgra_based_input/mgra13_based_input2040_02.csv',\n",
       "  'DS41_2045': 'T:/socioec/Current_Projects/XPEF35/abm_csv/New_mgra_based_input/mgra13_based_input2045_02.csv',\n",
       "  'DS41_2050': 'T:/socioec/Current_Projects/XPEF35/abm_csv/New_mgra_based_input/mgra13_based_input2050_02.csv'},\n",
       " 'DS38': {'DS38_2016': 'T:/socioec/Current_Projects/XPEF33/abm_csv/new_parking/mgra13_based_input2016_05_np.csv',\n",
       "  'DS38_2018': 'T:/socioec/Current_Projects/XPEF33/abm_csv/new_parking/mgra13_based_input2018_05_np.csv',\n",
       "  'DS38_2020': 'T:/socioec/Current_Projects/XPEF33/abm_csv/new_parking/mgra13_based_input2020_05_np.csv',\n",
       "  'DS38_2023': 'T:/socioec/Current_Projects/XPEF33/abm_csv/new_parking/mgra13_based_input2023_05_np.csv',\n",
       "  'DS38_2025': 'T:/socioec/Current_Projects/XPEF33/abm_csv/new_parking/mgra13_based_input2025_05_np.csv',\n",
       "  'DS38_2026': 'T:/socioec/Current_Projects/XPEF33/abm_csv/new_parking/mgra13_based_input2026_05_np.csv',\n",
       "  'DS38_2029': 'T:/socioec/Current_Projects/XPEF33/abm_csv/new_parking/mgra13_based_input2029_05_np.csv',\n",
       "  'DS38_2030': 'T:/socioec/Current_Projects/XPEF33/abm_csv/new_parking/mgra13_based_input2030_05_np.csv',\n",
       "  'DS38_2032': 'T:/socioec/Current_Projects/XPEF33/abm_csv/new_parking/mgra13_based_input2032_05_np.csv',\n",
       "  'DS38_2035': 'T:/socioec/Current_Projects/XPEF33/abm_csv/new_parking/mgra13_based_input2035_05_np.csv',\n",
       "  'DS38_2040': 'T:/socioec/Current_Projects/XPEF33/abm_csv/new_parking/mgra13_based_input2040_05_np.csv',\n",
       "  'DS38_2045': 'T:/socioec/Current_Projects/XPEF33/abm_csv/new_parking/mgra13_based_input2045_05_np.csv',\n",
       "  'DS38_2050': 'T:/socioec/Current_Projects/XPEF33/abm_csv/new_parking/mgra13_based_input2050_05_np.csv'},\n",
       " 'DS42': {'DS42_2016': 'T:/socioec/Current_Projects/XPEF36/abm_csv/new_parking/New_mgra_based_input/mgra13_based_input2016_05_np.csv',\n",
       "  'DS42_2018': 'T:/socioec/Current_Projects/XPEF36/abm_csv/new_parking/New_mgra_based_input/mgra13_based_input2018_05_np.csv',\n",
       "  'DS42_2020': 'T:/socioec/Current_Projects/XPEF36/abm_csv/new_parking/New_mgra_based_input/mgra13_based_input2020_05_np.csv',\n",
       "  'DS42_2023': 'T:/socioec/Current_Projects/XPEF36/abm_csv/new_parking/New_mgra_based_input/mgra13_based_input2023_05_np.csv',\n",
       "  'DS42_2025': 'T:/socioec/Current_Projects/XPEF36/abm_csv/new_parking/New_mgra_based_input/mgra13_based_input2025_05_np.csv',\n",
       "  'DS42_2026': 'T:/socioec/Current_Projects/XPEF36/abm_csv/new_parking/New_mgra_based_input/mgra13_based_input2026_05_np.csv',\n",
       "  'DS42_2029': 'T:/socioec/Current_Projects/XPEF36/abm_csv/new_parking/New_mgra_based_input/mgra13_based_input2029_05_np.csv',\n",
       "  'DS42_2030': 'T:/socioec/Current_Projects/XPEF36/abm_csv/new_parking/New_mgra_based_input/mgra13_based_input2030_05_np.csv',\n",
       "  'DS42_2032': 'T:/socioec/Current_Projects/XPEF36/abm_csv/new_parking/New_mgra_based_input/mgra13_based_input2032_05_np.csv',\n",
       "  'DS42_2035': 'T:/socioec/Current_Projects/XPEF36/abm_csv/new_parking/New_mgra_based_input/mgra13_based_input2035_05_np.csv',\n",
       "  'DS42_2040': 'T:/socioec/Current_Projects/XPEF36/abm_csv/new_parking/New_mgra_based_input/mgra13_based_input2040_05_np.csv',\n",
       "  'DS42_2045': 'T:/socioec/Current_Projects/XPEF36/abm_csv/new_parking/New_mgra_based_input/mgra13_based_input2045_05_np.csv',\n",
       "  'DS42_2050': 'T:/socioec/Current_Projects/XPEF36/abm_csv/new_parking/New_mgra_based_input/mgra13_based_input2050_05_np.csv'},\n",
       " 'dof': {'dof_data': 'C:/Users/cra/San Diego Association of Governments/SANDAG QA QC - Documents/Projects/2022/2022-01 Regional Forecast DS 41-42/dof_data.xlsx'}}"
      ]
     },
     "execution_count": 4,
     "metadata": {},
     "output_type": "execute_result"
    }
   ],
   "source": [
    "config"
   ]
  },
  {
   "cell_type": "code",
   "execution_count": null,
   "metadata": {},
   "outputs": [],
   "source": [
    "DS38_datafiles = ['DS38_2016', 'DS38_2018', 'DS38_2020', 'DS38_2023', 'DS38_2025', 'DS38_2026', 'DS38_2029', 'DS38_2030', 'DS38_2032', 'DS38_2035', 'DS38_2040', 'DS38_2045', 'DS38_2050']"
   ]
  },
  {
   "cell_type": "code",
   "execution_count": null,
   "metadata": {},
   "outputs": [],
   "source": [
    "DS42_datafiles = ['DS42_2016', 'DS42_2018', 'DS42_2020', 'DS42_2023', 'DS42_2025', 'DS42_2026', 'DS42_2029', 'DS42_2030', 'DS42_2032', 'DS42_2035', 'DS42_2040', 'DS42_2045', 'DS42_2050']"
   ]
  },
  {
   "cell_type": "code",
   "execution_count": 6,
   "metadata": {},
   "outputs": [],
   "source": [
    "older_DS = 'DS38'\n",
    "current_DS = 'DS42'"
   ]
  },
  {
   "cell_type": "code",
   "execution_count": 7,
   "metadata": {},
   "outputs": [],
   "source": [
    "choice1 = input(\"Please input your first choice: \")"
   ]
  },
  {
   "cell_type": "code",
   "execution_count": 8,
   "metadata": {},
   "outputs": [
    {
     "data": {
      "text/plain": [
       "'DS43'"
      ]
     },
     "execution_count": 8,
     "metadata": {},
     "output_type": "execute_result"
    }
   ],
   "source": [
    "choice1"
   ]
  },
  {
   "cell_type": "code",
   "execution_count": null,
   "metadata": {},
   "outputs": [],
   "source": [
    "DS42_datafiles = [f'{older_DS}_2016', 'DS42_2018', 'DS42_2020', 'DS42_2023', 'DS42_2025', 'DS42_2026', 'DS42_2029', 'DS42_2030', 'DS42_2032', 'DS42_2035', 'DS42_2040', 'DS42_2045', 'DS42_2050']"
   ]
  },
  {
   "cell_type": "markdown",
   "metadata": {},
   "source": [
    "# Downloading SQL Data"
   ]
  },
  {
   "cell_type": "code",
   "execution_count": null,
   "metadata": {},
   "outputs": [],
   "source": [
    "conn = pyodbc.connect('Driver={ODBC Driver 17 for SQL Server};'\n",
    "                      'Server=DDAMWSQL16.sandag.org;'\n",
    "                      'Database=demographic_warehouse;'\n",
    "                      'Trusted_Connection=yes;')"
   ]
  },
  {
   "cell_type": "code",
   "execution_count": null,
   "metadata": {},
   "outputs": [],
   "source": [
    "query_all = \"SELECT mgra, geotype, geozone FROM demographic_warehouse.dim.mgra WHERE series = 14 AND (geotype='cpa' OR geotype='jurisdiction')\" #Remove the last and part when I do this for real "
   ]
  },
  {
   "cell_type": "code",
   "execution_count": null,
   "metadata": {},
   "outputs": [],
   "source": [
    "sql_query = pd.read_sql_query(query_all,conn)\n",
    "\n",
    "sql_df_all = pd.DataFrame(sql_query)"
   ]
  },
  {
   "cell_type": "code",
   "execution_count": null,
   "metadata": {},
   "outputs": [],
   "source": [
    "# SQl Data at different levels \n",
    "jur_level = SQL_CPA = sql_df_all[sql_df_all['geotype']=='jurisdiction']\n",
    "cpa_level - SQL_CPA = sql_df_all[sql_df_all['geotype']=='cpa']"
   ]
  },
  {
   "cell_type": "markdown",
   "metadata": {},
   "source": [
    "## Downloading the first_ID Data"
   ]
  },
  {
   "cell_type": "code",
   "execution_count": null,
   "metadata": {},
   "outputs": [],
   "source": [
    "# Older Data Frame\n",
    "DS38_Data = pd.DataFrame()\n",
    "for file_name in DS38_datafiles:\n",
    "    working_df = pd.read_csv(config[older_DS][file_name])\n",
    "    working_df['year'] = f\"{file_name[-4:]}\"\n",
    "    DS38_Data = DS38_Data.append(working_df)"
   ]
  },
  {
   "cell_type": "code",
   "execution_count": null,
   "metadata": {},
   "outputs": [],
   "source": [
    "#Making it original \n",
    "DS38_Data.columns = [x + '_DS38' for x in DS38_Data.columns]"
   ]
  },
  {
   "cell_type": "code",
   "execution_count": null,
   "metadata": {},
   "outputs": [],
   "source": [
    "import copy \n",
    "comparison_DS35_no_geozone = copy.deepcopy(DS38_Data)"
   ]
  },
  {
   "cell_type": "code",
   "execution_count": null,
   "metadata": {},
   "outputs": [],
   "source": [
    "# Adding SQl Data to DS38 \n",
    "comparison_DS35_processed_data = comparison_DS35_no_geozone.merge(jur_level, how = 'Left', on = 'MGRA')"
   ]
  },
  {
   "cell_type": "code",
   "execution_count": null,
   "metadata": {},
   "outputs": [],
   "source": [
    "DS38_Data.to_csv(\"/comparison DS35 processed data\")"
   ]
  },
  {
   "cell_type": "markdown",
   "metadata": {},
   "source": [
    "# Downloading  the second_ID Data"
   ]
  },
  {
   "cell_type": "code",
   "execution_count": null,
   "metadata": {},
   "outputs": [],
   "source": [
    "# Older Data Frame\n",
    "DS38_Data = pd.DataFrame()\n",
    "for file_name in DS38_datafiles:\n",
    "    working_df = pd.read_csv(config[older_DS][file_name])\n",
    "    working_df['year'] = f\"{file_name[-4:]}\"\n",
    "    DS38_Data = DS38_Data.append(working_df)"
   ]
  },
  {
   "cell_type": "code",
   "execution_count": null,
   "metadata": {},
   "outputs": [],
   "source": [
    "#Making it original \n",
    "DS38_Data.columns = [x + '_DS38' for x in DS38_Data.columns]"
   ]
  },
  {
   "cell_type": "code",
   "execution_count": null,
   "metadata": {},
   "outputs": [],
   "source": [
    "DS38_Data.to_csv(\"/comparison DS35 processed data\")"
   ]
  },
  {
   "cell_type": "code",
   "execution_count": null,
   "metadata": {},
   "outputs": [],
   "source": []
  },
  {
   "cell_type": "code",
   "execution_count": null,
   "metadata": {},
   "outputs": [],
   "source": []
  },
  {
   "cell_type": "code",
   "execution_count": null,
   "metadata": {},
   "outputs": [],
   "source": []
  }
 ],
 "metadata": {
  "interpreter": {
   "hash": "d60123f2ed8b63279fba5ddbefdeca593323e286d3975f7130d49323a9310301"
  },
  "kernelspec": {
   "display_name": "Python 3.8.8 ('base')",
   "language": "python",
   "name": "python3"
  },
  "language_info": {
   "codemirror_mode": {
    "name": "ipython",
    "version": 3
   },
   "file_extension": ".py",
   "mimetype": "text/x-python",
   "name": "python",
   "nbconvert_exporter": "python",
   "pygments_lexer": "ipython3",
   "version": "3.8.8"
  },
  "orig_nbformat": 4
 },
 "nbformat": 4,
 "nbformat_minor": 2
}
