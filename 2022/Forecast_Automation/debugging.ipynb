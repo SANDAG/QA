{
 "cells": [
  {
   "cell_type": "markdown",
   "metadata": {},
   "source": [
    "# Debugging"
   ]
  },
  {
   "cell_type": "code",
   "execution_count": 2,
   "metadata": {},
   "outputs": [],
   "source": [
    "import pandas as pd\n",
    "import numpy as np\n",
    "import yaml\n",
    "import os"
   ]
  },
  {
   "cell_type": "code",
   "execution_count": 13,
   "metadata": {},
   "outputs": [],
   "source": [
    "# Localise with . files \n",
    "if os.getcwd().split('\\\\')[-1] == 'scripts':\n",
    "    config_filename = '../config_files/ds_config.yml'\n",
    "else:\n",
    "    config_filename = './config_files/ds_config.yml'"
   ]
  },
  {
   "cell_type": "code",
   "execution_count": 9,
   "metadata": {},
   "outputs": [
    {
     "data": {
      "text/plain": [
       "'./config_files/ds_config.yml'"
      ]
     },
     "execution_count": 9,
     "metadata": {},
     "output_type": "execute_result"
    }
   ],
   "source": [
    "config_filename"
   ]
  },
  {
   "cell_type": "code",
   "execution_count": 14,
   "metadata": {},
   "outputs": [],
   "source": [
    "with open(config_filename, \"r\") as yml_file:\n",
    "    config = yaml.safe_load(yml_file)"
   ]
  },
  {
   "cell_type": "code",
   "execution_count": 17,
   "metadata": {},
   "outputs": [
    {
     "data": {
      "text/plain": [
       "dict_keys(['T_Drive_files', 'Household_Files', 'Person_Files', 'forecast_ID'])"
      ]
     },
     "execution_count": 17,
     "metadata": {},
     "output_type": "execute_result"
    }
   ],
   "source": [
    "config['DS35'].keys()"
   ]
  },
  {
   "cell_type": "code",
   "execution_count": 18,
   "metadata": {},
   "outputs": [
    {
     "data": {
      "text/plain": [
       "{'DS35_2016': 'T:/socioec/Current_Projects/XPEF31/abm_csv/mgra13_based_input2016_01.csv',\n",
       " 'DS35_2018': 'T:/socioec/Current_Projects/XPEF31/abm_csv/mgra13_based_input2018_01.csv',\n",
       " 'DS35_2020': 'T:/socioec/Current_Projects/XPEF31/abm_csv/mgra13_based_input2020_01.csv',\n",
       " 'DS35_2023': 'T:/socioec/Current_Projects/XPEF31/abm_csv/mgra13_based_input2023_01.csv',\n",
       " 'DS35_2025': 'T:/socioec/Current_Projects/XPEF31/abm_csv/mgra13_based_input2025_01.csv',\n",
       " 'DS35_2026': 'T:/socioec/Current_Projects/XPEF31/abm_csv/mgra13_based_input2026_01.csv',\n",
       " 'DS35_2029': 'T:/socioec/Current_Projects/XPEF31/abm_csv/mgra13_based_input2029_01.csv',\n",
       " 'DS35_2030': 'T:/socioec/Current_Projects/XPEF31/abm_csv/mgra13_based_input2030_01.csv',\n",
       " 'DS35_2032': 'T:/socioec/Current_Projects/XPEF31/abm_csv/mgra13_based_input2032_01.csv',\n",
       " 'DS35_2035': 'T:/socioec/Current_Projects/XPEF31/abm_csv/mgra13_based_input2035_01.csv',\n",
       " 'DS35_2040': 'T:/socioec/Current_Projects/XPEF31/abm_csv/mgra13_based_input2040_01.csv',\n",
       " 'DS35_2045': 'T:/socioec/Current_Projects/XPEF31/abm_csv/mgra13_based_input2045_01.csv',\n",
       " 'DS35_2050': 'T:/socioec/Current_Projects/XPEF31/abm_csv/mgra13_based_input2050_01.csv'}"
      ]
     },
     "execution_count": 18,
     "metadata": {},
     "output_type": "execute_result"
    }
   ],
   "source": [
    "config['DS35']['T_Drive_files']"
   ]
  },
  {
   "cell_type": "code",
   "execution_count": 12,
   "metadata": {},
   "outputs": [
    {
     "data": {
      "text/plain": [
       "dict_keys(['DS35_2016', 'DS35_2018', 'DS35_2020', 'DS35_2023', 'DS35_2025', 'DS35_2026', 'DS35_2029', 'DS35_2030', 'DS35_2032', 'DS35_2035', 'DS35_2040', 'DS35_2045', 'DS35_2050', 'DS35_households_2016', 'DS35_persons_2016', 'forecast_ID'])"
      ]
     },
     "execution_count": 12,
     "metadata": {},
     "output_type": "execute_result"
    }
   ],
   "source": [
    "config['DS35'].keys()"
   ]
  },
  {
   "cell_type": "code",
   "execution_count": 4,
   "metadata": {},
   "outputs": [],
   "source": [
    "# Importing Dantes output\n",
    "dante_output = pd.read_csv('C:/Users/cra/San Diego Association of Governments/SANDAG QA QC - Documents/Projects/2022/2022-73 DS39 (Revised) Forecast Output QC/Data/mgra_DS42_ind_QA.csv')"
   ]
  },
  {
   "cell_type": "code",
   "execution_count": 10,
   "metadata": {},
   "outputs": [
    {
     "data": {
      "text/plain": [
       "True"
      ]
     },
     "execution_count": 10,
     "metadata": {},
     "output_type": "execute_result"
    }
   ],
   "source": [
    "'year' in dante_output.columns"
   ]
  },
  {
   "cell_type": "code",
   "execution_count": 6,
   "metadata": {},
   "outputs": [
    {
     "name": "stderr",
     "output_type": "stream",
     "text": [
      "c:\\Users\\cra\\Anaconda3\\lib\\site-packages\\IPython\\core\\interactiveshell.py:3552: DtypeWarning: Columns (112,113) have mixed types.Specify dtype option on import or set low_memory=False.\n",
      "  exec(code_obj, self.user_global_ns, self.user_ns)\n"
     ]
    }
   ],
   "source": [
    "# Importing my output \n",
    "calvin_output = pd.read_csv(r'J:/DataScience/DataQuality/QAQC/forecast_automation/mgra_series_13_outputs_CSV_data/aggregated_data/mgra_DS42_ind_QA.csv')"
   ]
  },
  {
   "cell_type": "markdown",
   "metadata": {},
   "source": [
    "# Compare"
   ]
  },
  {
   "cell_type": "code",
   "execution_count": 13,
   "metadata": {},
   "outputs": [
    {
     "data": {
      "text/html": [
       "<div>\n",
       "<style scoped>\n",
       "    .dataframe tbody tr th:only-of-type {\n",
       "        vertical-align: middle;\n",
       "    }\n",
       "\n",
       "    .dataframe tbody tr th {\n",
       "        vertical-align: top;\n",
       "    }\n",
       "\n",
       "    .dataframe thead th {\n",
       "        text-align: right;\n",
       "    }\n",
       "</style>\n",
       "<table border=\"1\" class=\"dataframe\">\n",
       "  <thead>\n",
       "    <tr style=\"text-align: right;\">\n",
       "      <th></th>\n",
       "      <th>year</th>\n",
       "      <th>mgra</th>\n",
       "      <th>emp_total</th>\n",
       "    </tr>\n",
       "  </thead>\n",
       "  <tbody>\n",
       "    <tr>\n",
       "      <th>0</th>\n",
       "      <td>2016</td>\n",
       "      <td>1</td>\n",
       "      <td>10</td>\n",
       "    </tr>\n",
       "    <tr>\n",
       "      <th>1</th>\n",
       "      <td>2016</td>\n",
       "      <td>2</td>\n",
       "      <td>1</td>\n",
       "    </tr>\n",
       "    <tr>\n",
       "      <th>2</th>\n",
       "      <td>2016</td>\n",
       "      <td>3</td>\n",
       "      <td>5</td>\n",
       "    </tr>\n",
       "    <tr>\n",
       "      <th>3</th>\n",
       "      <td>2016</td>\n",
       "      <td>4</td>\n",
       "      <td>1</td>\n",
       "    </tr>\n",
       "    <tr>\n",
       "      <th>4</th>\n",
       "      <td>2016</td>\n",
       "      <td>5</td>\n",
       "      <td>0</td>\n",
       "    </tr>\n",
       "    <tr>\n",
       "      <th>...</th>\n",
       "      <td>...</td>\n",
       "      <td>...</td>\n",
       "      <td>...</td>\n",
       "    </tr>\n",
       "    <tr>\n",
       "      <th>299021</th>\n",
       "      <td>2050</td>\n",
       "      <td>22998</td>\n",
       "      <td>22</td>\n",
       "    </tr>\n",
       "    <tr>\n",
       "      <th>299022</th>\n",
       "      <td>2050</td>\n",
       "      <td>22999</td>\n",
       "      <td>147</td>\n",
       "    </tr>\n",
       "    <tr>\n",
       "      <th>299023</th>\n",
       "      <td>2050</td>\n",
       "      <td>23000</td>\n",
       "      <td>2</td>\n",
       "    </tr>\n",
       "    <tr>\n",
       "      <th>299024</th>\n",
       "      <td>2050</td>\n",
       "      <td>23001</td>\n",
       "      <td>7</td>\n",
       "    </tr>\n",
       "    <tr>\n",
       "      <th>299025</th>\n",
       "      <td>2050</td>\n",
       "      <td>23002</td>\n",
       "      <td>0</td>\n",
       "    </tr>\n",
       "  </tbody>\n",
       "</table>\n",
       "<p>299026 rows × 3 columns</p>\n",
       "</div>"
      ],
      "text/plain": [
       "        year   mgra  emp_total\n",
       "0       2016      1         10\n",
       "1       2016      2          1\n",
       "2       2016      3          5\n",
       "3       2016      4          1\n",
       "4       2016      5          0\n",
       "...      ...    ...        ...\n",
       "299021  2050  22998         22\n",
       "299022  2050  22999        147\n",
       "299023  2050  23000          2\n",
       "299024  2050  23001          7\n",
       "299025  2050  23002          0\n",
       "\n",
       "[299026 rows x 3 columns]"
      ]
     },
     "execution_count": 13,
     "metadata": {},
     "output_type": "execute_result"
    }
   ],
   "source": [
    "small_dante_output = dante_output[['year', 'mgra', 'emp_total']]\n",
    "small_dante_output"
   ]
  },
  {
   "cell_type": "code",
   "execution_count": 14,
   "metadata": {},
   "outputs": [
    {
     "data": {
      "text/html": [
       "<div>\n",
       "<style scoped>\n",
       "    .dataframe tbody tr th:only-of-type {\n",
       "        vertical-align: middle;\n",
       "    }\n",
       "\n",
       "    .dataframe tbody tr th {\n",
       "        vertical-align: top;\n",
       "    }\n",
       "\n",
       "    .dataframe thead th {\n",
       "        text-align: right;\n",
       "    }\n",
       "</style>\n",
       "<table border=\"1\" class=\"dataframe\">\n",
       "  <thead>\n",
       "    <tr style=\"text-align: right;\">\n",
       "      <th></th>\n",
       "      <th>year</th>\n",
       "      <th>mgra</th>\n",
       "      <th>emp_total</th>\n",
       "    </tr>\n",
       "  </thead>\n",
       "  <tbody>\n",
       "    <tr>\n",
       "      <th>0</th>\n",
       "      <td>2016</td>\n",
       "      <td>1</td>\n",
       "      <td>10</td>\n",
       "    </tr>\n",
       "    <tr>\n",
       "      <th>1</th>\n",
       "      <td>2016</td>\n",
       "      <td>2</td>\n",
       "      <td>1</td>\n",
       "    </tr>\n",
       "    <tr>\n",
       "      <th>2</th>\n",
       "      <td>2016</td>\n",
       "      <td>3</td>\n",
       "      <td>5</td>\n",
       "    </tr>\n",
       "    <tr>\n",
       "      <th>3</th>\n",
       "      <td>2016</td>\n",
       "      <td>4</td>\n",
       "      <td>1</td>\n",
       "    </tr>\n",
       "    <tr>\n",
       "      <th>4</th>\n",
       "      <td>2016</td>\n",
       "      <td>5</td>\n",
       "      <td>0</td>\n",
       "    </tr>\n",
       "    <tr>\n",
       "      <th>...</th>\n",
       "      <td>...</td>\n",
       "      <td>...</td>\n",
       "      <td>...</td>\n",
       "    </tr>\n",
       "    <tr>\n",
       "      <th>299021</th>\n",
       "      <td>2050</td>\n",
       "      <td>22998</td>\n",
       "      <td>22</td>\n",
       "    </tr>\n",
       "    <tr>\n",
       "      <th>299022</th>\n",
       "      <td>2050</td>\n",
       "      <td>22999</td>\n",
       "      <td>147</td>\n",
       "    </tr>\n",
       "    <tr>\n",
       "      <th>299023</th>\n",
       "      <td>2050</td>\n",
       "      <td>23000</td>\n",
       "      <td>2</td>\n",
       "    </tr>\n",
       "    <tr>\n",
       "      <th>299024</th>\n",
       "      <td>2050</td>\n",
       "      <td>23001</td>\n",
       "      <td>7</td>\n",
       "    </tr>\n",
       "    <tr>\n",
       "      <th>299025</th>\n",
       "      <td>2050</td>\n",
       "      <td>23002</td>\n",
       "      <td>0</td>\n",
       "    </tr>\n",
       "  </tbody>\n",
       "</table>\n",
       "<p>299026 rows × 3 columns</p>\n",
       "</div>"
      ],
      "text/plain": [
       "        year   mgra  emp_total\n",
       "0       2016      1         10\n",
       "1       2016      2          1\n",
       "2       2016      3          5\n",
       "3       2016      4          1\n",
       "4       2016      5          0\n",
       "...      ...    ...        ...\n",
       "299021  2050  22998         22\n",
       "299022  2050  22999        147\n",
       "299023  2050  23000          2\n",
       "299024  2050  23001          7\n",
       "299025  2050  23002          0\n",
       "\n",
       "[299026 rows x 3 columns]"
      ]
     },
     "execution_count": 14,
     "metadata": {},
     "output_type": "execute_result"
    }
   ],
   "source": [
    "small_calvin_output = calvin_output[['year', 'mgra', 'emp_total']]\n",
    "small_calvin_output"
   ]
  },
  {
   "cell_type": "code",
   "execution_count": 15,
   "metadata": {},
   "outputs": [
    {
     "data": {
      "text/plain": [
       "23920073"
      ]
     },
     "execution_count": 15,
     "metadata": {},
     "output_type": "execute_result"
    }
   ],
   "source": [
    "small_dante_output['emp_total'].sum()"
   ]
  },
  {
   "cell_type": "code",
   "execution_count": 16,
   "metadata": {},
   "outputs": [
    {
     "data": {
      "text/plain": [
       "23920035"
      ]
     },
     "execution_count": 16,
     "metadata": {},
     "output_type": "execute_result"
    }
   ],
   "source": [
    "small_calvin_output['emp_total'].sum()"
   ]
  },
  {
   "cell_type": "code",
   "execution_count": 18,
   "metadata": {},
   "outputs": [
    {
     "data": {
      "text/html": [
       "<div>\n",
       "<style scoped>\n",
       "    .dataframe tbody tr th:only-of-type {\n",
       "        vertical-align: middle;\n",
       "    }\n",
       "\n",
       "    .dataframe tbody tr th {\n",
       "        vertical-align: top;\n",
       "    }\n",
       "\n",
       "    .dataframe thead th {\n",
       "        text-align: right;\n",
       "    }\n",
       "</style>\n",
       "<table border=\"1\" class=\"dataframe\">\n",
       "  <thead>\n",
       "    <tr style=\"text-align: right;\">\n",
       "      <th></th>\n",
       "      <th>year</th>\n",
       "      <th>mgra</th>\n",
       "      <th>emp_total_Dante</th>\n",
       "      <th>emp_total_Calvin</th>\n",
       "    </tr>\n",
       "  </thead>\n",
       "  <tbody>\n",
       "    <tr>\n",
       "      <th>0</th>\n",
       "      <td>2016</td>\n",
       "      <td>1</td>\n",
       "      <td>10</td>\n",
       "      <td>10</td>\n",
       "    </tr>\n",
       "    <tr>\n",
       "      <th>1</th>\n",
       "      <td>2016</td>\n",
       "      <td>2</td>\n",
       "      <td>1</td>\n",
       "      <td>1</td>\n",
       "    </tr>\n",
       "    <tr>\n",
       "      <th>2</th>\n",
       "      <td>2016</td>\n",
       "      <td>3</td>\n",
       "      <td>5</td>\n",
       "      <td>5</td>\n",
       "    </tr>\n",
       "    <tr>\n",
       "      <th>3</th>\n",
       "      <td>2016</td>\n",
       "      <td>4</td>\n",
       "      <td>1</td>\n",
       "      <td>1</td>\n",
       "    </tr>\n",
       "    <tr>\n",
       "      <th>4</th>\n",
       "      <td>2016</td>\n",
       "      <td>5</td>\n",
       "      <td>0</td>\n",
       "      <td>0</td>\n",
       "    </tr>\n",
       "    <tr>\n",
       "      <th>...</th>\n",
       "      <td>...</td>\n",
       "      <td>...</td>\n",
       "      <td>...</td>\n",
       "      <td>...</td>\n",
       "    </tr>\n",
       "    <tr>\n",
       "      <th>299021</th>\n",
       "      <td>2050</td>\n",
       "      <td>22998</td>\n",
       "      <td>22</td>\n",
       "      <td>22</td>\n",
       "    </tr>\n",
       "    <tr>\n",
       "      <th>299022</th>\n",
       "      <td>2050</td>\n",
       "      <td>22999</td>\n",
       "      <td>147</td>\n",
       "      <td>147</td>\n",
       "    </tr>\n",
       "    <tr>\n",
       "      <th>299023</th>\n",
       "      <td>2050</td>\n",
       "      <td>23000</td>\n",
       "      <td>2</td>\n",
       "      <td>2</td>\n",
       "    </tr>\n",
       "    <tr>\n",
       "      <th>299024</th>\n",
       "      <td>2050</td>\n",
       "      <td>23001</td>\n",
       "      <td>7</td>\n",
       "      <td>7</td>\n",
       "    </tr>\n",
       "    <tr>\n",
       "      <th>299025</th>\n",
       "      <td>2050</td>\n",
       "      <td>23002</td>\n",
       "      <td>0</td>\n",
       "      <td>0</td>\n",
       "    </tr>\n",
       "  </tbody>\n",
       "</table>\n",
       "<p>299026 rows × 4 columns</p>\n",
       "</div>"
      ],
      "text/plain": [
       "        year   mgra  emp_total_Dante  emp_total_Calvin\n",
       "0       2016      1               10                10\n",
       "1       2016      2                1                 1\n",
       "2       2016      3                5                 5\n",
       "3       2016      4                1                 1\n",
       "4       2016      5                0                 0\n",
       "...      ...    ...              ...               ...\n",
       "299021  2050  22998               22                22\n",
       "299022  2050  22999              147               147\n",
       "299023  2050  23000                2                 2\n",
       "299024  2050  23001                7                 7\n",
       "299025  2050  23002                0                 0\n",
       "\n",
       "[299026 rows x 4 columns]"
      ]
     },
     "execution_count": 18,
     "metadata": {},
     "output_type": "execute_result"
    }
   ],
   "source": [
    "compare_emp_total = small_dante_output.merge(small_calvin_output, how='left', on=['year', 'mgra'], suffixes=['_Dante', '_Calvin'])\n",
    "compare_emp_total"
   ]
  },
  {
   "cell_type": "code",
   "execution_count": 19,
   "metadata": {},
   "outputs": [],
   "source": [
    "compare_emp_total['Diff'] = compare_emp_total['emp_total_Dante'] - compare_emp_total['emp_total_Calvin']"
   ]
  },
  {
   "cell_type": "code",
   "execution_count": 22,
   "metadata": {},
   "outputs": [
    {
     "data": {
      "text/html": [
       "<div>\n",
       "<style scoped>\n",
       "    .dataframe tbody tr th:only-of-type {\n",
       "        vertical-align: middle;\n",
       "    }\n",
       "\n",
       "    .dataframe tbody tr th {\n",
       "        vertical-align: top;\n",
       "    }\n",
       "\n",
       "    .dataframe thead th {\n",
       "        text-align: right;\n",
       "    }\n",
       "</style>\n",
       "<table border=\"1\" class=\"dataframe\">\n",
       "  <thead>\n",
       "    <tr style=\"text-align: right;\">\n",
       "      <th></th>\n",
       "      <th>year</th>\n",
       "      <th>mgra</th>\n",
       "      <th>emp_total_Dante</th>\n",
       "      <th>emp_total_Calvin</th>\n",
       "      <th>Diff</th>\n",
       "    </tr>\n",
       "  </thead>\n",
       "  <tbody>\n",
       "    <tr>\n",
       "      <th>23005</th>\n",
       "      <td>2018</td>\n",
       "      <td>4</td>\n",
       "      <td>0</td>\n",
       "      <td>1</td>\n",
       "      <td>-1</td>\n",
       "    </tr>\n",
       "    <tr>\n",
       "      <th>23064</th>\n",
       "      <td>2018</td>\n",
       "      <td>63</td>\n",
       "      <td>4</td>\n",
       "      <td>3</td>\n",
       "      <td>1</td>\n",
       "    </tr>\n",
       "    <tr>\n",
       "      <th>23092</th>\n",
       "      <td>2018</td>\n",
       "      <td>91</td>\n",
       "      <td>141</td>\n",
       "      <td>140</td>\n",
       "      <td>1</td>\n",
       "    </tr>\n",
       "    <tr>\n",
       "      <th>23099</th>\n",
       "      <td>2018</td>\n",
       "      <td>98</td>\n",
       "      <td>4</td>\n",
       "      <td>3</td>\n",
       "      <td>1</td>\n",
       "    </tr>\n",
       "    <tr>\n",
       "      <th>23105</th>\n",
       "      <td>2018</td>\n",
       "      <td>104</td>\n",
       "      <td>1</td>\n",
       "      <td>0</td>\n",
       "      <td>1</td>\n",
       "    </tr>\n",
       "    <tr>\n",
       "      <th>...</th>\n",
       "      <td>...</td>\n",
       "      <td>...</td>\n",
       "      <td>...</td>\n",
       "      <td>...</td>\n",
       "      <td>...</td>\n",
       "    </tr>\n",
       "    <tr>\n",
       "      <th>298979</th>\n",
       "      <td>2050</td>\n",
       "      <td>22956</td>\n",
       "      <td>2836</td>\n",
       "      <td>2846</td>\n",
       "      <td>-10</td>\n",
       "    </tr>\n",
       "    <tr>\n",
       "      <th>298980</th>\n",
       "      <td>2050</td>\n",
       "      <td>22957</td>\n",
       "      <td>87</td>\n",
       "      <td>86</td>\n",
       "      <td>1</td>\n",
       "    </tr>\n",
       "    <tr>\n",
       "      <th>298981</th>\n",
       "      <td>2050</td>\n",
       "      <td>22958</td>\n",
       "      <td>97</td>\n",
       "      <td>98</td>\n",
       "      <td>-1</td>\n",
       "    </tr>\n",
       "    <tr>\n",
       "      <th>298987</th>\n",
       "      <td>2050</td>\n",
       "      <td>22964</td>\n",
       "      <td>65</td>\n",
       "      <td>68</td>\n",
       "      <td>-3</td>\n",
       "    </tr>\n",
       "    <tr>\n",
       "      <th>298988</th>\n",
       "      <td>2050</td>\n",
       "      <td>22965</td>\n",
       "      <td>1043</td>\n",
       "      <td>1042</td>\n",
       "      <td>1</td>\n",
       "    </tr>\n",
       "  </tbody>\n",
       "</table>\n",
       "<p>24749 rows × 5 columns</p>\n",
       "</div>"
      ],
      "text/plain": [
       "        year   mgra  emp_total_Dante  emp_total_Calvin  Diff\n",
       "23005   2018      4                0                 1    -1\n",
       "23064   2018     63                4                 3     1\n",
       "23092   2018     91              141               140     1\n",
       "23099   2018     98                4                 3     1\n",
       "23105   2018    104                1                 0     1\n",
       "...      ...    ...              ...               ...   ...\n",
       "298979  2050  22956             2836              2846   -10\n",
       "298980  2050  22957               87                86     1\n",
       "298981  2050  22958               97                98    -1\n",
       "298987  2050  22964               65                68    -3\n",
       "298988  2050  22965             1043              1042     1\n",
       "\n",
       "[24749 rows x 5 columns]"
      ]
     },
     "execution_count": 22,
     "metadata": {},
     "output_type": "execute_result"
    }
   ],
   "source": [
    "non_zero_diff = compare_emp_total[compare_emp_total['Diff'] != 0]\n",
    "non_zero_diff"
   ]
  },
  {
   "cell_type": "code",
   "execution_count": 28,
   "metadata": {},
   "outputs": [
    {
     "data": {
      "text/html": [
       "<div>\n",
       "<style scoped>\n",
       "    .dataframe tbody tr th:only-of-type {\n",
       "        vertical-align: middle;\n",
       "    }\n",
       "\n",
       "    .dataframe tbody tr th {\n",
       "        vertical-align: top;\n",
       "    }\n",
       "\n",
       "    .dataframe thead th {\n",
       "        text-align: right;\n",
       "    }\n",
       "</style>\n",
       "<table border=\"1\" class=\"dataframe\">\n",
       "  <thead>\n",
       "    <tr style=\"text-align: right;\">\n",
       "      <th></th>\n",
       "      <th>year</th>\n",
       "      <th>mgra</th>\n",
       "      <th>emp_total_Dante</th>\n",
       "      <th>emp_total_Calvin</th>\n",
       "      <th>Diff</th>\n",
       "    </tr>\n",
       "  </thead>\n",
       "  <tbody>\n",
       "    <tr>\n",
       "      <th>218900</th>\n",
       "      <td>2035</td>\n",
       "      <td>11883</td>\n",
       "      <td>7332</td>\n",
       "      <td>7301</td>\n",
       "      <td>31</td>\n",
       "    </tr>\n",
       "    <tr>\n",
       "      <th>165197</th>\n",
       "      <td>2030</td>\n",
       "      <td>4184</td>\n",
       "      <td>1371</td>\n",
       "      <td>1351</td>\n",
       "      <td>20</td>\n",
       "    </tr>\n",
       "    <tr>\n",
       "      <th>165183</th>\n",
       "      <td>2030</td>\n",
       "      <td>4170</td>\n",
       "      <td>11118</td>\n",
       "      <td>11100</td>\n",
       "      <td>18</td>\n",
       "    </tr>\n",
       "    <tr>\n",
       "      <th>229924</th>\n",
       "      <td>2035</td>\n",
       "      <td>22907</td>\n",
       "      <td>1259</td>\n",
       "      <td>1241</td>\n",
       "      <td>18</td>\n",
       "    </tr>\n",
       "    <tr>\n",
       "      <th>142181</th>\n",
       "      <td>2029</td>\n",
       "      <td>4170</td>\n",
       "      <td>10676</td>\n",
       "      <td>10659</td>\n",
       "      <td>17</td>\n",
       "    </tr>\n",
       "    <tr>\n",
       "      <th>...</th>\n",
       "      <td>...</td>\n",
       "      <td>...</td>\n",
       "      <td>...</td>\n",
       "      <td>...</td>\n",
       "      <td>...</td>\n",
       "    </tr>\n",
       "    <tr>\n",
       "      <th>215530</th>\n",
       "      <td>2035</td>\n",
       "      <td>8513</td>\n",
       "      <td>903</td>\n",
       "      <td>919</td>\n",
       "      <td>-16</td>\n",
       "    </tr>\n",
       "    <tr>\n",
       "      <th>165185</th>\n",
       "      <td>2030</td>\n",
       "      <td>4172</td>\n",
       "      <td>7021</td>\n",
       "      <td>7039</td>\n",
       "      <td>-18</td>\n",
       "    </tr>\n",
       "    <tr>\n",
       "      <th>143794</th>\n",
       "      <td>2029</td>\n",
       "      <td>5783</td>\n",
       "      <td>10760</td>\n",
       "      <td>10778</td>\n",
       "      <td>-18</td>\n",
       "    </tr>\n",
       "    <tr>\n",
       "      <th>166796</th>\n",
       "      <td>2030</td>\n",
       "      <td>5783</td>\n",
       "      <td>10883</td>\n",
       "      <td>10903</td>\n",
       "      <td>-20</td>\n",
       "    </tr>\n",
       "    <tr>\n",
       "      <th>272234</th>\n",
       "      <td>2045</td>\n",
       "      <td>19213</td>\n",
       "      <td>10332</td>\n",
       "      <td>10354</td>\n",
       "      <td>-22</td>\n",
       "    </tr>\n",
       "  </tbody>\n",
       "</table>\n",
       "<p>24749 rows × 5 columns</p>\n",
       "</div>"
      ],
      "text/plain": [
       "        year   mgra  emp_total_Dante  emp_total_Calvin  Diff\n",
       "218900  2035  11883             7332              7301    31\n",
       "165197  2030   4184             1371              1351    20\n",
       "165183  2030   4170            11118             11100    18\n",
       "229924  2035  22907             1259              1241    18\n",
       "142181  2029   4170            10676             10659    17\n",
       "...      ...    ...              ...               ...   ...\n",
       "215530  2035   8513              903               919   -16\n",
       "165185  2030   4172             7021              7039   -18\n",
       "143794  2029   5783            10760             10778   -18\n",
       "166796  2030   5783            10883             10903   -20\n",
       "272234  2045  19213            10332             10354   -22\n",
       "\n",
       "[24749 rows x 5 columns]"
      ]
     },
     "execution_count": 28,
     "metadata": {},
     "output_type": "execute_result"
    }
   ],
   "source": [
    "non_zero_diff = non_zero_diff.sort_values('Diff', ascending=False)\n",
    "non_zero_diff"
   ]
  },
  {
   "cell_type": "code",
   "execution_count": 29,
   "metadata": {},
   "outputs": [],
   "source": [
    "non_zero_diff.to_csv('C:/Users/cra/Desktop/Dante_Calvin_Diff.csv')"
   ]
  },
  {
   "cell_type": "code",
   "execution_count": 25,
   "metadata": {},
   "outputs": [
    {
     "data": {
      "text/plain": [
       "5524"
      ]
     },
     "execution_count": 25,
     "metadata": {},
     "output_type": "execute_result"
    }
   ],
   "source": [
    "len(set(non_zero_diff['mgra']))"
   ]
  },
  {
   "cell_type": "markdown",
   "metadata": {},
   "source": []
  }
 ],
 "metadata": {
  "kernelspec": {
   "display_name": "Python 3.8.8 ('base')",
   "language": "python",
   "name": "python3"
  },
  "language_info": {
   "codemirror_mode": {
    "name": "ipython",
    "version": 3
   },
   "file_extension": ".py",
   "mimetype": "text/x-python",
   "name": "python",
   "nbconvert_exporter": "python",
   "pygments_lexer": "ipython3",
   "version": "3.8.8"
  },
  "orig_nbformat": 4,
  "vscode": {
   "interpreter": {
    "hash": "6db16e9940ad839c1e288012a4d7b04c8c55c67646ae73b178066b197eb654ea"
   }
  }
 },
 "nbformat": 4,
 "nbformat_minor": 2
}
