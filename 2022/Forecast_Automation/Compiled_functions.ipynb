{
 "cells": [
  {
   "cell_type": "code",
   "execution_count": 65,
   "id": "e6b7444c",
   "metadata": {},
   "outputs": [
    {
     "name": "stderr",
     "output_type": "stream",
     "text": [
      "C:\\Users\\ewa\\AppData\\Local\\Programs\\ArcGIS\\Pro\\bin\\Python\\envs\\arcgispro-py3\\lib\\site-packages\\pandas\\core\\indexing.py:1667: SettingWithCopyWarning:\n",
      "\n",
      "\n",
      "A value is trying to be set on a copy of a slice from a DataFrame.\n",
      "Try using .loc[row_indexer,col_indexer] = value instead\n",
      "\n",
      "See the caveats in the documentation: https://pandas.pydata.org/pandas-docs/stable/user_guide/indexing.html#returning-a-view-versus-a-copy\n",
      "\n"
     ]
    },
    {
     "name": "stdout",
     "output_type": "stream",
     "text": [
      "DS35's jurisdiction did not merge correctly.\n"
     ]
    }
   ],
   "source": [
    "%run Part_1.ipynb"
   ]
  },
  {
   "cell_type": "code",
   "execution_count": 66,
   "id": "3b8b9301",
   "metadata": {
    "scrolled": true
   },
   "outputs": [
    {
     "name": "stdout",
     "output_type": "stream",
     "text": [
      "You have all the files you need to run the comparison functions\n",
      "10\n",
      "84\n"
     ]
    },
    {
     "name": "stderr",
     "output_type": "stream",
     "text": [
      "Part_2.ipynb:11: SettingWithCopyWarning:\n",
      "\n",
      "\n",
      "A value is trying to be set on a copy of a slice from a DataFrame.\n",
      "Try using .loc[row_indexer,col_indexer] = value instead\n",
      "\n",
      "See the caveats in the documentation: https://pandas.pydata.org/pandas-docs/stable/user_guide/indexing.html#returning-a-view-versus-a-copy\n",
      "\n",
      "Part_2.ipynb:11: SettingWithCopyWarning:\n",
      "\n",
      "\n",
      "A value is trying to be set on a copy of a slice from a DataFrame.\n",
      "Try using .loc[row_indexer,col_indexer] = value instead\n",
      "\n",
      "See the caveats in the documentation: https://pandas.pydata.org/pandas-docs/stable/user_guide/indexing.html#returning-a-view-versus-a-copy\n",
      "\n"
     ]
    },
    {
     "data": {
      "application/vnd.plotly.v1+json": {
       "config": {
        "plotlyServerURL": "https://plot.ly"
       },
       "data": [
        {
         "type": "bar",
         "x": [
          "Less than &#36;15,000",
          "&#36;15,000 to &#36;29,999",
          "&#36;30,000 to &#36;44,999",
          "&#36;45,000 to &#36;59,999",
          "&#36;60,000 to &#36;74,999",
          "&#36;75,000 to &#36;99,999",
          "&#36;100,000 to &#36;124,999",
          "&#36;125,000 to &#36;149,999",
          "&#36;150,000 to &#36;199,999",
          "&#36;200,000 or more"
         ],
         "y": [
          105777,
          146481,
          146131,
          129043,
          112223,
          148786,
          111036,
          65961,
          78290,
          91120
         ]
        }
       ],
       "layout": {
        "showlegend": false,
        "template": {
         "data": {
          "bar": [
           {
            "error_x": {
             "color": "#2a3f5f"
            },
            "error_y": {
             "color": "#2a3f5f"
            },
            "marker": {
             "line": {
              "color": "#E5ECF6",
              "width": 0.5
             },
             "pattern": {
              "fillmode": "overlay",
              "size": 10,
              "solidity": 0.2
             }
            },
            "type": "bar"
           }
          ],
          "barpolar": [
           {
            "marker": {
             "line": {
              "color": "#E5ECF6",
              "width": 0.5
             },
             "pattern": {
              "fillmode": "overlay",
              "size": 10,
              "solidity": 0.2
             }
            },
            "type": "barpolar"
           }
          ],
          "carpet": [
           {
            "aaxis": {
             "endlinecolor": "#2a3f5f",
             "gridcolor": "white",
             "linecolor": "white",
             "minorgridcolor": "white",
             "startlinecolor": "#2a3f5f"
            },
            "baxis": {
             "endlinecolor": "#2a3f5f",
             "gridcolor": "white",
             "linecolor": "white",
             "minorgridcolor": "white",
             "startlinecolor": "#2a3f5f"
            },
            "type": "carpet"
           }
          ],
          "choropleth": [
           {
            "colorbar": {
             "outlinewidth": 0,
             "ticks": ""
            },
            "type": "choropleth"
           }
          ],
          "contour": [
           {
            "colorbar": {
             "outlinewidth": 0,
             "ticks": ""
            },
            "colorscale": [
             [
              0,
              "#0d0887"
             ],
             [
              0.1111111111111111,
              "#46039f"
             ],
             [
              0.2222222222222222,
              "#7201a8"
             ],
             [
              0.3333333333333333,
              "#9c179e"
             ],
             [
              0.4444444444444444,
              "#bd3786"
             ],
             [
              0.5555555555555556,
              "#d8576b"
             ],
             [
              0.6666666666666666,
              "#ed7953"
             ],
             [
              0.7777777777777778,
              "#fb9f3a"
             ],
             [
              0.8888888888888888,
              "#fdca26"
             ],
             [
              1,
              "#f0f921"
             ]
            ],
            "type": "contour"
           }
          ],
          "contourcarpet": [
           {
            "colorbar": {
             "outlinewidth": 0,
             "ticks": ""
            },
            "type": "contourcarpet"
           }
          ],
          "heatmap": [
           {
            "colorbar": {
             "outlinewidth": 0,
             "ticks": ""
            },
            "colorscale": [
             [
              0,
              "#0d0887"
             ],
             [
              0.1111111111111111,
              "#46039f"
             ],
             [
              0.2222222222222222,
              "#7201a8"
             ],
             [
              0.3333333333333333,
              "#9c179e"
             ],
             [
              0.4444444444444444,
              "#bd3786"
             ],
             [
              0.5555555555555556,
              "#d8576b"
             ],
             [
              0.6666666666666666,
              "#ed7953"
             ],
             [
              0.7777777777777778,
              "#fb9f3a"
             ],
             [
              0.8888888888888888,
              "#fdca26"
             ],
             [
              1,
              "#f0f921"
             ]
            ],
            "type": "heatmap"
           }
          ],
          "heatmapgl": [
           {
            "colorbar": {
             "outlinewidth": 0,
             "ticks": ""
            },
            "colorscale": [
             [
              0,
              "#0d0887"
             ],
             [
              0.1111111111111111,
              "#46039f"
             ],
             [
              0.2222222222222222,
              "#7201a8"
             ],
             [
              0.3333333333333333,
              "#9c179e"
             ],
             [
              0.4444444444444444,
              "#bd3786"
             ],
             [
              0.5555555555555556,
              "#d8576b"
             ],
             [
              0.6666666666666666,
              "#ed7953"
             ],
             [
              0.7777777777777778,
              "#fb9f3a"
             ],
             [
              0.8888888888888888,
              "#fdca26"
             ],
             [
              1,
              "#f0f921"
             ]
            ],
            "type": "heatmapgl"
           }
          ],
          "histogram": [
           {
            "marker": {
             "pattern": {
              "fillmode": "overlay",
              "size": 10,
              "solidity": 0.2
             }
            },
            "type": "histogram"
           }
          ],
          "histogram2d": [
           {
            "colorbar": {
             "outlinewidth": 0,
             "ticks": ""
            },
            "colorscale": [
             [
              0,
              "#0d0887"
             ],
             [
              0.1111111111111111,
              "#46039f"
             ],
             [
              0.2222222222222222,
              "#7201a8"
             ],
             [
              0.3333333333333333,
              "#9c179e"
             ],
             [
              0.4444444444444444,
              "#bd3786"
             ],
             [
              0.5555555555555556,
              "#d8576b"
             ],
             [
              0.6666666666666666,
              "#ed7953"
             ],
             [
              0.7777777777777778,
              "#fb9f3a"
             ],
             [
              0.8888888888888888,
              "#fdca26"
             ],
             [
              1,
              "#f0f921"
             ]
            ],
            "type": "histogram2d"
           }
          ],
          "histogram2dcontour": [
           {
            "colorbar": {
             "outlinewidth": 0,
             "ticks": ""
            },
            "colorscale": [
             [
              0,
              "#0d0887"
             ],
             [
              0.1111111111111111,
              "#46039f"
             ],
             [
              0.2222222222222222,
              "#7201a8"
             ],
             [
              0.3333333333333333,
              "#9c179e"
             ],
             [
              0.4444444444444444,
              "#bd3786"
             ],
             [
              0.5555555555555556,
              "#d8576b"
             ],
             [
              0.6666666666666666,
              "#ed7953"
             ],
             [
              0.7777777777777778,
              "#fb9f3a"
             ],
             [
              0.8888888888888888,
              "#fdca26"
             ],
             [
              1,
              "#f0f921"
             ]
            ],
            "type": "histogram2dcontour"
           }
          ],
          "mesh3d": [
           {
            "colorbar": {
             "outlinewidth": 0,
             "ticks": ""
            },
            "type": "mesh3d"
           }
          ],
          "parcoords": [
           {
            "line": {
             "colorbar": {
              "outlinewidth": 0,
              "ticks": ""
             }
            },
            "type": "parcoords"
           }
          ],
          "pie": [
           {
            "automargin": true,
            "type": "pie"
           }
          ],
          "scatter": [
           {
            "fillpattern": {
             "fillmode": "overlay",
             "size": 10,
             "solidity": 0.2
            },
            "type": "scatter"
           }
          ],
          "scatter3d": [
           {
            "line": {
             "colorbar": {
              "outlinewidth": 0,
              "ticks": ""
             }
            },
            "marker": {
             "colorbar": {
              "outlinewidth": 0,
              "ticks": ""
             }
            },
            "type": "scatter3d"
           }
          ],
          "scattercarpet": [
           {
            "marker": {
             "colorbar": {
              "outlinewidth": 0,
              "ticks": ""
             }
            },
            "type": "scattercarpet"
           }
          ],
          "scattergeo": [
           {
            "marker": {
             "colorbar": {
              "outlinewidth": 0,
              "ticks": ""
             }
            },
            "type": "scattergeo"
           }
          ],
          "scattergl": [
           {
            "marker": {
             "colorbar": {
              "outlinewidth": 0,
              "ticks": ""
             }
            },
            "type": "scattergl"
           }
          ],
          "scattermapbox": [
           {
            "marker": {
             "colorbar": {
              "outlinewidth": 0,
              "ticks": ""
             }
            },
            "type": "scattermapbox"
           }
          ],
          "scatterpolar": [
           {
            "marker": {
             "colorbar": {
              "outlinewidth": 0,
              "ticks": ""
             }
            },
            "type": "scatterpolar"
           }
          ],
          "scatterpolargl": [
           {
            "marker": {
             "colorbar": {
              "outlinewidth": 0,
              "ticks": ""
             }
            },
            "type": "scatterpolargl"
           }
          ],
          "scatterternary": [
           {
            "marker": {
             "colorbar": {
              "outlinewidth": 0,
              "ticks": ""
             }
            },
            "type": "scatterternary"
           }
          ],
          "surface": [
           {
            "colorbar": {
             "outlinewidth": 0,
             "ticks": ""
            },
            "colorscale": [
             [
              0,
              "#0d0887"
             ],
             [
              0.1111111111111111,
              "#46039f"
             ],
             [
              0.2222222222222222,
              "#7201a8"
             ],
             [
              0.3333333333333333,
              "#9c179e"
             ],
             [
              0.4444444444444444,
              "#bd3786"
             ],
             [
              0.5555555555555556,
              "#d8576b"
             ],
             [
              0.6666666666666666,
              "#ed7953"
             ],
             [
              0.7777777777777778,
              "#fb9f3a"
             ],
             [
              0.8888888888888888,
              "#fdca26"
             ],
             [
              1,
              "#f0f921"
             ]
            ],
            "type": "surface"
           }
          ],
          "table": [
           {
            "cells": {
             "fill": {
              "color": "#EBF0F8"
             },
             "line": {
              "color": "white"
             }
            },
            "header": {
             "fill": {
              "color": "#C8D4E3"
             },
             "line": {
              "color": "white"
             }
            },
            "type": "table"
           }
          ]
         },
         "layout": {
          "annotationdefaults": {
           "arrowcolor": "#2a3f5f",
           "arrowhead": 0,
           "arrowwidth": 1
          },
          "autotypenumbers": "strict",
          "coloraxis": {
           "colorbar": {
            "outlinewidth": 0,
            "ticks": ""
           }
          },
          "colorscale": {
           "diverging": [
            [
             0,
             "#8e0152"
            ],
            [
             0.1,
             "#c51b7d"
            ],
            [
             0.2,
             "#de77ae"
            ],
            [
             0.3,
             "#f1b6da"
            ],
            [
             0.4,
             "#fde0ef"
            ],
            [
             0.5,
             "#f7f7f7"
            ],
            [
             0.6,
             "#e6f5d0"
            ],
            [
             0.7,
             "#b8e186"
            ],
            [
             0.8,
             "#7fbc41"
            ],
            [
             0.9,
             "#4d9221"
            ],
            [
             1,
             "#276419"
            ]
           ],
           "sequential": [
            [
             0,
             "#0d0887"
            ],
            [
             0.1111111111111111,
             "#46039f"
            ],
            [
             0.2222222222222222,
             "#7201a8"
            ],
            [
             0.3333333333333333,
             "#9c179e"
            ],
            [
             0.4444444444444444,
             "#bd3786"
            ],
            [
             0.5555555555555556,
             "#d8576b"
            ],
            [
             0.6666666666666666,
             "#ed7953"
            ],
            [
             0.7777777777777778,
             "#fb9f3a"
            ],
            [
             0.8888888888888888,
             "#fdca26"
            ],
            [
             1,
             "#f0f921"
            ]
           ],
           "sequentialminus": [
            [
             0,
             "#0d0887"
            ],
            [
             0.1111111111111111,
             "#46039f"
            ],
            [
             0.2222222222222222,
             "#7201a8"
            ],
            [
             0.3333333333333333,
             "#9c179e"
            ],
            [
             0.4444444444444444,
             "#bd3786"
            ],
            [
             0.5555555555555556,
             "#d8576b"
            ],
            [
             0.6666666666666666,
             "#ed7953"
            ],
            [
             0.7777777777777778,
             "#fb9f3a"
            ],
            [
             0.8888888888888888,
             "#fdca26"
            ],
            [
             1,
             "#f0f921"
            ]
           ]
          },
          "colorway": [
           "#636efa",
           "#EF553B",
           "#00cc96",
           "#ab63fa",
           "#FFA15A",
           "#19d3f3",
           "#FF6692",
           "#B6E880",
           "#FF97FF",
           "#FECB52"
          ],
          "font": {
           "color": "#2a3f5f"
          },
          "geo": {
           "bgcolor": "white",
           "lakecolor": "white",
           "landcolor": "#E5ECF6",
           "showlakes": true,
           "showland": true,
           "subunitcolor": "white"
          },
          "hoverlabel": {
           "align": "left"
          },
          "hovermode": "closest",
          "mapbox": {
           "style": "light"
          },
          "paper_bgcolor": "white",
          "plot_bgcolor": "#E5ECF6",
          "polar": {
           "angularaxis": {
            "gridcolor": "white",
            "linecolor": "white",
            "ticks": ""
           },
           "bgcolor": "#E5ECF6",
           "radialaxis": {
            "gridcolor": "white",
            "linecolor": "white",
            "ticks": ""
           }
          },
          "scene": {
           "xaxis": {
            "backgroundcolor": "#E5ECF6",
            "gridcolor": "white",
            "gridwidth": 2,
            "linecolor": "white",
            "showbackground": true,
            "ticks": "",
            "zerolinecolor": "white"
           },
           "yaxis": {
            "backgroundcolor": "#E5ECF6",
            "gridcolor": "white",
            "gridwidth": 2,
            "linecolor": "white",
            "showbackground": true,
            "ticks": "",
            "zerolinecolor": "white"
           },
           "zaxis": {
            "backgroundcolor": "#E5ECF6",
            "gridcolor": "white",
            "gridwidth": 2,
            "linecolor": "white",
            "showbackground": true,
            "ticks": "",
            "zerolinecolor": "white"
           }
          },
          "shapedefaults": {
           "line": {
            "color": "#2a3f5f"
           }
          },
          "ternary": {
           "aaxis": {
            "gridcolor": "white",
            "linecolor": "white",
            "ticks": ""
           },
           "baxis": {
            "gridcolor": "white",
            "linecolor": "white",
            "ticks": ""
           },
           "bgcolor": "#E5ECF6",
           "caxis": {
            "gridcolor": "white",
            "linecolor": "white",
            "ticks": ""
           }
          },
          "title": {
           "x": 0.05
          },
          "xaxis": {
           "automargin": true,
           "gridcolor": "white",
           "linecolor": "white",
           "ticks": "",
           "title": {
            "standoff": 15
           },
           "zerolinecolor": "white",
           "zerolinewidth": 2
          },
          "yaxis": {
           "automargin": true,
           "gridcolor": "white",
           "linecolor": "white",
           "ticks": "",
           "title": {
            "standoff": 15
           },
           "zerolinecolor": "white",
           "zerolinewidth": 2
          }
         }
        },
        "title": {
         "text": "Distribution of Income Groups"
        },
        "updatemenus": [
         {
          "buttons": [
           {
            "args": [
             {
              "y": [
               [
                105777,
                146481,
                146131,
                129043,
                112223,
                148786,
                111036,
                65961,
                78290,
                91120
               ]
              ]
             }
            ],
            "label": "2016",
            "method": "update"
           },
           {
            "args": [
             {
              "y": [
               [
                106285,
                138937,
                138034,
                126518,
                111790,
                152017,
                115582,
                73560,
                78859,
                106053
               ]
              ]
             }
            ],
            "label": "2018",
            "method": "update"
           },
           {
            "args": [
             {
              "y": [
               [
                107961,
                140159,
                139165,
                128041,
                113374,
                154651,
                118033,
                75467,
                81329,
                108060
               ]
              ]
             }
            ],
            "label": "2020",
            "method": "update"
           },
           {
            "args": [
             {
              "y": [
               [
                110744,
                142278,
                141141,
                130611,
                116022,
                159000,
                122041,
                78561,
                85314,
                111360
               ]
              ]
             }
            ],
            "label": "2023",
            "method": "update"
           },
           {
            "args": [
             {
              "y": [
               [
                112793,
                143896,
                142657,
                132532,
                117981,
                162188,
                124956,
                80796,
                88176,
                113770
               ]
              ]
             }
            ],
            "label": "2025",
            "method": "update"
           },
           {
            "args": [
             {
              "y": [
               [
                113810,
                144681,
                143390,
                133477,
                118950,
                163775,
                126414,
                81919,
                89619,
                114972
               ]
              ]
             }
            ],
            "label": "2026",
            "method": "update"
           },
           {
            "args": [
             {
              "y": [
               [
                116491,
                146727,
                145339,
                136130,
                121761,
                168480,
                130806,
                85396,
                94092,
                118929
               ]
              ]
             }
            ],
            "label": "2029",
            "method": "update"
           },
           {
            "args": [
             {
              "y": [
               [
                116868,
                147628,
                146353,
                137131,
                122755,
                169958,
                132024,
                86349,
                95143,
                120739
               ]
              ]
             }
            ],
            "label": "2030",
            "method": "update"
           },
           {
            "args": [
             {
              "y": [
               [
                117557,
                149374,
                148330,
                139087,
                124707,
                172869,
                134430,
                88242,
                97231,
                124366
               ]
              ]
             }
            ],
            "label": "2032",
            "method": "update"
           },
           {
            "args": [
             {
              "y": [
               [
                118472,
                151895,
                151213,
                141949,
                127585,
                177177,
                138003,
                91077,
                100358,
                129859
               ]
              ]
             }
            ],
            "label": "2035",
            "method": "update"
           },
           {
            "args": [
             {
              "y": [
               [
                116721,
                152219,
                152250,
                143219,
                129308,
                180164,
                140743,
                93796,
                103361,
                136502
               ]
              ]
             }
            ],
            "label": "2040",
            "method": "update"
           },
           {
            "args": [
             {
              "y": [
               [
                114510,
                152017,
                152779,
                144021,
                130624,
                182603,
                143065,
                96261,
                106083,
                142852
               ]
              ]
             }
            ],
            "label": "2045",
            "method": "update"
           },
           {
            "args": [
             {
              "y": [
               [
                111682,
                151051,
                152554,
                144118,
                131312,
                184173,
                144717,
                98293,
                108329,
                148612
               ]
              ]
             }
            ],
            "label": "2050",
            "method": "update"
           }
          ],
          "showactive": true,
          "type": "buttons"
         }
        ],
        "xaxis": {
         "title": {
          "text": "Income Group"
         }
        },
        "yaxis": {
         "title": {
          "text": "Value"
         }
        }
       }
      },
      "text/html": [
       "<div>                            <div id=\"67197384-b2b5-4a7e-9e9f-181612c4733f\" class=\"plotly-graph-div\" style=\"height:525px; width:100%;\"></div>            <script type=\"text/javascript\">                require([\"plotly\"], function(Plotly) {                    window.PLOTLYENV=window.PLOTLYENV || {};                                    if (document.getElementById(\"67197384-b2b5-4a7e-9e9f-181612c4733f\")) {                    Plotly.newPlot(                        \"67197384-b2b5-4a7e-9e9f-181612c4733f\",                        [{\"x\":[\"Less than &#36;15,000\",\"&#36;15,000 to &#36;29,999\",\"&#36;30,000 to &#36;44,999\",\"&#36;45,000 to &#36;59,999\",\"&#36;60,000 to &#36;74,999\",\"&#36;75,000 to &#36;99,999\",\"&#36;100,000 to &#36;124,999\",\"&#36;125,000 to &#36;149,999\",\"&#36;150,000 to &#36;199,999\",\"&#36;200,000 or more\"],\"y\":[105777,146481,146131,129043,112223,148786,111036,65961,78290,91120],\"type\":\"bar\"}],                        {\"template\":{\"data\":{\"histogram2dcontour\":[{\"type\":\"histogram2dcontour\",\"colorbar\":{\"outlinewidth\":0,\"ticks\":\"\"},\"colorscale\":[[0.0,\"#0d0887\"],[0.1111111111111111,\"#46039f\"],[0.2222222222222222,\"#7201a8\"],[0.3333333333333333,\"#9c179e\"],[0.4444444444444444,\"#bd3786\"],[0.5555555555555556,\"#d8576b\"],[0.6666666666666666,\"#ed7953\"],[0.7777777777777778,\"#fb9f3a\"],[0.8888888888888888,\"#fdca26\"],[1.0,\"#f0f921\"]]}],\"choropleth\":[{\"type\":\"choropleth\",\"colorbar\":{\"outlinewidth\":0,\"ticks\":\"\"}}],\"histogram2d\":[{\"type\":\"histogram2d\",\"colorbar\":{\"outlinewidth\":0,\"ticks\":\"\"},\"colorscale\":[[0.0,\"#0d0887\"],[0.1111111111111111,\"#46039f\"],[0.2222222222222222,\"#7201a8\"],[0.3333333333333333,\"#9c179e\"],[0.4444444444444444,\"#bd3786\"],[0.5555555555555556,\"#d8576b\"],[0.6666666666666666,\"#ed7953\"],[0.7777777777777778,\"#fb9f3a\"],[0.8888888888888888,\"#fdca26\"],[1.0,\"#f0f921\"]]}],\"heatmap\":[{\"type\":\"heatmap\",\"colorbar\":{\"outlinewidth\":0,\"ticks\":\"\"},\"colorscale\":[[0.0,\"#0d0887\"],[0.1111111111111111,\"#46039f\"],[0.2222222222222222,\"#7201a8\"],[0.3333333333333333,\"#9c179e\"],[0.4444444444444444,\"#bd3786\"],[0.5555555555555556,\"#d8576b\"],[0.6666666666666666,\"#ed7953\"],[0.7777777777777778,\"#fb9f3a\"],[0.8888888888888888,\"#fdca26\"],[1.0,\"#f0f921\"]]}],\"heatmapgl\":[{\"type\":\"heatmapgl\",\"colorbar\":{\"outlinewidth\":0,\"ticks\":\"\"},\"colorscale\":[[0.0,\"#0d0887\"],[0.1111111111111111,\"#46039f\"],[0.2222222222222222,\"#7201a8\"],[0.3333333333333333,\"#9c179e\"],[0.4444444444444444,\"#bd3786\"],[0.5555555555555556,\"#d8576b\"],[0.6666666666666666,\"#ed7953\"],[0.7777777777777778,\"#fb9f3a\"],[0.8888888888888888,\"#fdca26\"],[1.0,\"#f0f921\"]]}],\"contourcarpet\":[{\"type\":\"contourcarpet\",\"colorbar\":{\"outlinewidth\":0,\"ticks\":\"\"}}],\"contour\":[{\"type\":\"contour\",\"colorbar\":{\"outlinewidth\":0,\"ticks\":\"\"},\"colorscale\":[[0.0,\"#0d0887\"],[0.1111111111111111,\"#46039f\"],[0.2222222222222222,\"#7201a8\"],[0.3333333333333333,\"#9c179e\"],[0.4444444444444444,\"#bd3786\"],[0.5555555555555556,\"#d8576b\"],[0.6666666666666666,\"#ed7953\"],[0.7777777777777778,\"#fb9f3a\"],[0.8888888888888888,\"#fdca26\"],[1.0,\"#f0f921\"]]}],\"surface\":[{\"type\":\"surface\",\"colorbar\":{\"outlinewidth\":0,\"ticks\":\"\"},\"colorscale\":[[0.0,\"#0d0887\"],[0.1111111111111111,\"#46039f\"],[0.2222222222222222,\"#7201a8\"],[0.3333333333333333,\"#9c179e\"],[0.4444444444444444,\"#bd3786\"],[0.5555555555555556,\"#d8576b\"],[0.6666666666666666,\"#ed7953\"],[0.7777777777777778,\"#fb9f3a\"],[0.8888888888888888,\"#fdca26\"],[1.0,\"#f0f921\"]]}],\"mesh3d\":[{\"type\":\"mesh3d\",\"colorbar\":{\"outlinewidth\":0,\"ticks\":\"\"}}],\"scatter\":[{\"fillpattern\":{\"fillmode\":\"overlay\",\"size\":10,\"solidity\":0.2},\"type\":\"scatter\"}],\"parcoords\":[{\"type\":\"parcoords\",\"line\":{\"colorbar\":{\"outlinewidth\":0,\"ticks\":\"\"}}}],\"scatterpolargl\":[{\"type\":\"scatterpolargl\",\"marker\":{\"colorbar\":{\"outlinewidth\":0,\"ticks\":\"\"}}}],\"bar\":[{\"error_x\":{\"color\":\"#2a3f5f\"},\"error_y\":{\"color\":\"#2a3f5f\"},\"marker\":{\"line\":{\"color\":\"#E5ECF6\",\"width\":0.5},\"pattern\":{\"fillmode\":\"overlay\",\"size\":10,\"solidity\":0.2}},\"type\":\"bar\"}],\"scattergeo\":[{\"type\":\"scattergeo\",\"marker\":{\"colorbar\":{\"outlinewidth\":0,\"ticks\":\"\"}}}],\"scatterpolar\":[{\"type\":\"scatterpolar\",\"marker\":{\"colorbar\":{\"outlinewidth\":0,\"ticks\":\"\"}}}],\"histogram\":[{\"marker\":{\"pattern\":{\"fillmode\":\"overlay\",\"size\":10,\"solidity\":0.2}},\"type\":\"histogram\"}],\"scattergl\":[{\"type\":\"scattergl\",\"marker\":{\"colorbar\":{\"outlinewidth\":0,\"ticks\":\"\"}}}],\"scatter3d\":[{\"type\":\"scatter3d\",\"line\":{\"colorbar\":{\"outlinewidth\":0,\"ticks\":\"\"}},\"marker\":{\"colorbar\":{\"outlinewidth\":0,\"ticks\":\"\"}}}],\"scattermapbox\":[{\"type\":\"scattermapbox\",\"marker\":{\"colorbar\":{\"outlinewidth\":0,\"ticks\":\"\"}}}],\"scatterternary\":[{\"type\":\"scatterternary\",\"marker\":{\"colorbar\":{\"outlinewidth\":0,\"ticks\":\"\"}}}],\"scattercarpet\":[{\"type\":\"scattercarpet\",\"marker\":{\"colorbar\":{\"outlinewidth\":0,\"ticks\":\"\"}}}],\"carpet\":[{\"aaxis\":{\"endlinecolor\":\"#2a3f5f\",\"gridcolor\":\"white\",\"linecolor\":\"white\",\"minorgridcolor\":\"white\",\"startlinecolor\":\"#2a3f5f\"},\"baxis\":{\"endlinecolor\":\"#2a3f5f\",\"gridcolor\":\"white\",\"linecolor\":\"white\",\"minorgridcolor\":\"white\",\"startlinecolor\":\"#2a3f5f\"},\"type\":\"carpet\"}],\"table\":[{\"cells\":{\"fill\":{\"color\":\"#EBF0F8\"},\"line\":{\"color\":\"white\"}},\"header\":{\"fill\":{\"color\":\"#C8D4E3\"},\"line\":{\"color\":\"white\"}},\"type\":\"table\"}],\"barpolar\":[{\"marker\":{\"line\":{\"color\":\"#E5ECF6\",\"width\":0.5},\"pattern\":{\"fillmode\":\"overlay\",\"size\":10,\"solidity\":0.2}},\"type\":\"barpolar\"}],\"pie\":[{\"automargin\":true,\"type\":\"pie\"}]},\"layout\":{\"autotypenumbers\":\"strict\",\"colorway\":[\"#636efa\",\"#EF553B\",\"#00cc96\",\"#ab63fa\",\"#FFA15A\",\"#19d3f3\",\"#FF6692\",\"#B6E880\",\"#FF97FF\",\"#FECB52\"],\"font\":{\"color\":\"#2a3f5f\"},\"hovermode\":\"closest\",\"hoverlabel\":{\"align\":\"left\"},\"paper_bgcolor\":\"white\",\"plot_bgcolor\":\"#E5ECF6\",\"polar\":{\"bgcolor\":\"#E5ECF6\",\"angularaxis\":{\"gridcolor\":\"white\",\"linecolor\":\"white\",\"ticks\":\"\"},\"radialaxis\":{\"gridcolor\":\"white\",\"linecolor\":\"white\",\"ticks\":\"\"}},\"ternary\":{\"bgcolor\":\"#E5ECF6\",\"aaxis\":{\"gridcolor\":\"white\",\"linecolor\":\"white\",\"ticks\":\"\"},\"baxis\":{\"gridcolor\":\"white\",\"linecolor\":\"white\",\"ticks\":\"\"},\"caxis\":{\"gridcolor\":\"white\",\"linecolor\":\"white\",\"ticks\":\"\"}},\"coloraxis\":{\"colorbar\":{\"outlinewidth\":0,\"ticks\":\"\"}},\"colorscale\":{\"sequential\":[[0.0,\"#0d0887\"],[0.1111111111111111,\"#46039f\"],[0.2222222222222222,\"#7201a8\"],[0.3333333333333333,\"#9c179e\"],[0.4444444444444444,\"#bd3786\"],[0.5555555555555556,\"#d8576b\"],[0.6666666666666666,\"#ed7953\"],[0.7777777777777778,\"#fb9f3a\"],[0.8888888888888888,\"#fdca26\"],[1.0,\"#f0f921\"]],\"sequentialminus\":[[0.0,\"#0d0887\"],[0.1111111111111111,\"#46039f\"],[0.2222222222222222,\"#7201a8\"],[0.3333333333333333,\"#9c179e\"],[0.4444444444444444,\"#bd3786\"],[0.5555555555555556,\"#d8576b\"],[0.6666666666666666,\"#ed7953\"],[0.7777777777777778,\"#fb9f3a\"],[0.8888888888888888,\"#fdca26\"],[1.0,\"#f0f921\"]],\"diverging\":[[0,\"#8e0152\"],[0.1,\"#c51b7d\"],[0.2,\"#de77ae\"],[0.3,\"#f1b6da\"],[0.4,\"#fde0ef\"],[0.5,\"#f7f7f7\"],[0.6,\"#e6f5d0\"],[0.7,\"#b8e186\"],[0.8,\"#7fbc41\"],[0.9,\"#4d9221\"],[1,\"#276419\"]]},\"xaxis\":{\"gridcolor\":\"white\",\"linecolor\":\"white\",\"ticks\":\"\",\"title\":{\"standoff\":15},\"zerolinecolor\":\"white\",\"automargin\":true,\"zerolinewidth\":2},\"yaxis\":{\"gridcolor\":\"white\",\"linecolor\":\"white\",\"ticks\":\"\",\"title\":{\"standoff\":15},\"zerolinecolor\":\"white\",\"automargin\":true,\"zerolinewidth\":2},\"scene\":{\"xaxis\":{\"backgroundcolor\":\"#E5ECF6\",\"gridcolor\":\"white\",\"linecolor\":\"white\",\"showbackground\":true,\"ticks\":\"\",\"zerolinecolor\":\"white\",\"gridwidth\":2},\"yaxis\":{\"backgroundcolor\":\"#E5ECF6\",\"gridcolor\":\"white\",\"linecolor\":\"white\",\"showbackground\":true,\"ticks\":\"\",\"zerolinecolor\":\"white\",\"gridwidth\":2},\"zaxis\":{\"backgroundcolor\":\"#E5ECF6\",\"gridcolor\":\"white\",\"linecolor\":\"white\",\"showbackground\":true,\"ticks\":\"\",\"zerolinecolor\":\"white\",\"gridwidth\":2}},\"shapedefaults\":{\"line\":{\"color\":\"#2a3f5f\"}},\"annotationdefaults\":{\"arrowcolor\":\"#2a3f5f\",\"arrowhead\":0,\"arrowwidth\":1},\"geo\":{\"bgcolor\":\"white\",\"landcolor\":\"#E5ECF6\",\"subunitcolor\":\"white\",\"showland\":true,\"showlakes\":true,\"lakecolor\":\"white\"},\"title\":{\"x\":0.05},\"mapbox\":{\"style\":\"light\"}}},\"title\":{\"text\":\"Distribution of Income Groups\"},\"xaxis\":{\"title\":{\"text\":\"Income Group\"}},\"yaxis\":{\"title\":{\"text\":\"Value\"}},\"updatemenus\":[{\"buttons\":[{\"args\":[{\"y\":[[105777,146481,146131,129043,112223,148786,111036,65961,78290,91120]]}],\"label\":\"2016\",\"method\":\"update\"},{\"args\":[{\"y\":[[106285,138937,138034,126518,111790,152017,115582,73560,78859,106053]]}],\"label\":\"2018\",\"method\":\"update\"},{\"args\":[{\"y\":[[107961,140159,139165,128041,113374,154651,118033,75467,81329,108060]]}],\"label\":\"2020\",\"method\":\"update\"},{\"args\":[{\"y\":[[110744,142278,141141,130611,116022,159000,122041,78561,85314,111360]]}],\"label\":\"2023\",\"method\":\"update\"},{\"args\":[{\"y\":[[112793,143896,142657,132532,117981,162188,124956,80796,88176,113770]]}],\"label\":\"2025\",\"method\":\"update\"},{\"args\":[{\"y\":[[113810,144681,143390,133477,118950,163775,126414,81919,89619,114972]]}],\"label\":\"2026\",\"method\":\"update\"},{\"args\":[{\"y\":[[116491,146727,145339,136130,121761,168480,130806,85396,94092,118929]]}],\"label\":\"2029\",\"method\":\"update\"},{\"args\":[{\"y\":[[116868,147628,146353,137131,122755,169958,132024,86349,95143,120739]]}],\"label\":\"2030\",\"method\":\"update\"},{\"args\":[{\"y\":[[117557,149374,148330,139087,124707,172869,134430,88242,97231,124366]]}],\"label\":\"2032\",\"method\":\"update\"},{\"args\":[{\"y\":[[118472,151895,151213,141949,127585,177177,138003,91077,100358,129859]]}],\"label\":\"2035\",\"method\":\"update\"},{\"args\":[{\"y\":[[116721,152219,152250,143219,129308,180164,140743,93796,103361,136502]]}],\"label\":\"2040\",\"method\":\"update\"},{\"args\":[{\"y\":[[114510,152017,152779,144021,130624,182603,143065,96261,106083,142852]]}],\"label\":\"2045\",\"method\":\"update\"},{\"args\":[{\"y\":[[111682,151051,152554,144118,131312,184173,144717,98293,108329,148612]]}],\"label\":\"2050\",\"method\":\"update\"}],\"showactive\":true,\"type\":\"buttons\"}],\"showlegend\":false},                        {\"responsive\": true}                    ).then(function(){\n",
       "                            \n",
       "var gd = document.getElementById('67197384-b2b5-4a7e-9e9f-181612c4733f');\n",
       "var x = new MutationObserver(function (mutations, observer) {{\n",
       "        var display = window.getComputedStyle(gd).display;\n",
       "        if (!display || display === 'none') {{\n",
       "            console.log([gd, 'removed!']);\n",
       "            Plotly.purge(gd);\n",
       "            observer.disconnect();\n",
       "        }}\n",
       "}});\n",
       "\n",
       "// Listen for the removal of the full notebook cells\n",
       "var notebookContainer = gd.closest('#notebook-container');\n",
       "if (notebookContainer) {{\n",
       "    x.observe(notebookContainer, {childList: true});\n",
       "}}\n",
       "\n",
       "// Listen for the clearing of the current output cell\n",
       "var outputEl = gd.closest('.output');\n",
       "if (outputEl) {{\n",
       "    x.observe(outputEl, {childList: true});\n",
       "}}\n",
       "\n",
       "                        })                };                });            </script>        </div>"
      ]
     },
     "metadata": {},
     "output_type": "display_data"
    },
    {
     "data": {
      "application/vnd.plotly.v1+json": {
       "config": {
        "plotlyServerURL": "https://plot.ly"
       },
       "data": [
        {
         "type": "bar",
         "x": [
          "hs",
          "hs_Single_Family",
          "hs_Multiple_Family",
          "hs_Mobile_Homes",
          "Household Population (hh)",
          "hh_Single_Family",
          "hh_Multiple_Family",
          "hh_Mobile_Homes",
          "gq_civ",
          "Group Quarters - Military (gq_mil)"
         ],
         "y": [
          1190554,
          717626,
          430716,
          42212,
          1134848,
          687509,
          407158,
          40181,
          63014,
          43285
         ]
        }
       ],
       "layout": {
        "showlegend": false,
        "template": {
         "data": {
          "bar": [
           {
            "error_x": {
             "color": "#2a3f5f"
            },
            "error_y": {
             "color": "#2a3f5f"
            },
            "marker": {
             "line": {
              "color": "#E5ECF6",
              "width": 0.5
             },
             "pattern": {
              "fillmode": "overlay",
              "size": 10,
              "solidity": 0.2
             }
            },
            "type": "bar"
           }
          ],
          "barpolar": [
           {
            "marker": {
             "line": {
              "color": "#E5ECF6",
              "width": 0.5
             },
             "pattern": {
              "fillmode": "overlay",
              "size": 10,
              "solidity": 0.2
             }
            },
            "type": "barpolar"
           }
          ],
          "carpet": [
           {
            "aaxis": {
             "endlinecolor": "#2a3f5f",
             "gridcolor": "white",
             "linecolor": "white",
             "minorgridcolor": "white",
             "startlinecolor": "#2a3f5f"
            },
            "baxis": {
             "endlinecolor": "#2a3f5f",
             "gridcolor": "white",
             "linecolor": "white",
             "minorgridcolor": "white",
             "startlinecolor": "#2a3f5f"
            },
            "type": "carpet"
           }
          ],
          "choropleth": [
           {
            "colorbar": {
             "outlinewidth": 0,
             "ticks": ""
            },
            "type": "choropleth"
           }
          ],
          "contour": [
           {
            "colorbar": {
             "outlinewidth": 0,
             "ticks": ""
            },
            "colorscale": [
             [
              0,
              "#0d0887"
             ],
             [
              0.1111111111111111,
              "#46039f"
             ],
             [
              0.2222222222222222,
              "#7201a8"
             ],
             [
              0.3333333333333333,
              "#9c179e"
             ],
             [
              0.4444444444444444,
              "#bd3786"
             ],
             [
              0.5555555555555556,
              "#d8576b"
             ],
             [
              0.6666666666666666,
              "#ed7953"
             ],
             [
              0.7777777777777778,
              "#fb9f3a"
             ],
             [
              0.8888888888888888,
              "#fdca26"
             ],
             [
              1,
              "#f0f921"
             ]
            ],
            "type": "contour"
           }
          ],
          "contourcarpet": [
           {
            "colorbar": {
             "outlinewidth": 0,
             "ticks": ""
            },
            "type": "contourcarpet"
           }
          ],
          "heatmap": [
           {
            "colorbar": {
             "outlinewidth": 0,
             "ticks": ""
            },
            "colorscale": [
             [
              0,
              "#0d0887"
             ],
             [
              0.1111111111111111,
              "#46039f"
             ],
             [
              0.2222222222222222,
              "#7201a8"
             ],
             [
              0.3333333333333333,
              "#9c179e"
             ],
             [
              0.4444444444444444,
              "#bd3786"
             ],
             [
              0.5555555555555556,
              "#d8576b"
             ],
             [
              0.6666666666666666,
              "#ed7953"
             ],
             [
              0.7777777777777778,
              "#fb9f3a"
             ],
             [
              0.8888888888888888,
              "#fdca26"
             ],
             [
              1,
              "#f0f921"
             ]
            ],
            "type": "heatmap"
           }
          ],
          "heatmapgl": [
           {
            "colorbar": {
             "outlinewidth": 0,
             "ticks": ""
            },
            "colorscale": [
             [
              0,
              "#0d0887"
             ],
             [
              0.1111111111111111,
              "#46039f"
             ],
             [
              0.2222222222222222,
              "#7201a8"
             ],
             [
              0.3333333333333333,
              "#9c179e"
             ],
             [
              0.4444444444444444,
              "#bd3786"
             ],
             [
              0.5555555555555556,
              "#d8576b"
             ],
             [
              0.6666666666666666,
              "#ed7953"
             ],
             [
              0.7777777777777778,
              "#fb9f3a"
             ],
             [
              0.8888888888888888,
              "#fdca26"
             ],
             [
              1,
              "#f0f921"
             ]
            ],
            "type": "heatmapgl"
           }
          ],
          "histogram": [
           {
            "marker": {
             "pattern": {
              "fillmode": "overlay",
              "size": 10,
              "solidity": 0.2
             }
            },
            "type": "histogram"
           }
          ],
          "histogram2d": [
           {
            "colorbar": {
             "outlinewidth": 0,
             "ticks": ""
            },
            "colorscale": [
             [
              0,
              "#0d0887"
             ],
             [
              0.1111111111111111,
              "#46039f"
             ],
             [
              0.2222222222222222,
              "#7201a8"
             ],
             [
              0.3333333333333333,
              "#9c179e"
             ],
             [
              0.4444444444444444,
              "#bd3786"
             ],
             [
              0.5555555555555556,
              "#d8576b"
             ],
             [
              0.6666666666666666,
              "#ed7953"
             ],
             [
              0.7777777777777778,
              "#fb9f3a"
             ],
             [
              0.8888888888888888,
              "#fdca26"
             ],
             [
              1,
              "#f0f921"
             ]
            ],
            "type": "histogram2d"
           }
          ],
          "histogram2dcontour": [
           {
            "colorbar": {
             "outlinewidth": 0,
             "ticks": ""
            },
            "colorscale": [
             [
              0,
              "#0d0887"
             ],
             [
              0.1111111111111111,
              "#46039f"
             ],
             [
              0.2222222222222222,
              "#7201a8"
             ],
             [
              0.3333333333333333,
              "#9c179e"
             ],
             [
              0.4444444444444444,
              "#bd3786"
             ],
             [
              0.5555555555555556,
              "#d8576b"
             ],
             [
              0.6666666666666666,
              "#ed7953"
             ],
             [
              0.7777777777777778,
              "#fb9f3a"
             ],
             [
              0.8888888888888888,
              "#fdca26"
             ],
             [
              1,
              "#f0f921"
             ]
            ],
            "type": "histogram2dcontour"
           }
          ],
          "mesh3d": [
           {
            "colorbar": {
             "outlinewidth": 0,
             "ticks": ""
            },
            "type": "mesh3d"
           }
          ],
          "parcoords": [
           {
            "line": {
             "colorbar": {
              "outlinewidth": 0,
              "ticks": ""
             }
            },
            "type": "parcoords"
           }
          ],
          "pie": [
           {
            "automargin": true,
            "type": "pie"
           }
          ],
          "scatter": [
           {
            "fillpattern": {
             "fillmode": "overlay",
             "size": 10,
             "solidity": 0.2
            },
            "type": "scatter"
           }
          ],
          "scatter3d": [
           {
            "line": {
             "colorbar": {
              "outlinewidth": 0,
              "ticks": ""
             }
            },
            "marker": {
             "colorbar": {
              "outlinewidth": 0,
              "ticks": ""
             }
            },
            "type": "scatter3d"
           }
          ],
          "scattercarpet": [
           {
            "marker": {
             "colorbar": {
              "outlinewidth": 0,
              "ticks": ""
             }
            },
            "type": "scattercarpet"
           }
          ],
          "scattergeo": [
           {
            "marker": {
             "colorbar": {
              "outlinewidth": 0,
              "ticks": ""
             }
            },
            "type": "scattergeo"
           }
          ],
          "scattergl": [
           {
            "marker": {
             "colorbar": {
              "outlinewidth": 0,
              "ticks": ""
             }
            },
            "type": "scattergl"
           }
          ],
          "scattermapbox": [
           {
            "marker": {
             "colorbar": {
              "outlinewidth": 0,
              "ticks": ""
             }
            },
            "type": "scattermapbox"
           }
          ],
          "scatterpolar": [
           {
            "marker": {
             "colorbar": {
              "outlinewidth": 0,
              "ticks": ""
             }
            },
            "type": "scatterpolar"
           }
          ],
          "scatterpolargl": [
           {
            "marker": {
             "colorbar": {
              "outlinewidth": 0,
              "ticks": ""
             }
            },
            "type": "scatterpolargl"
           }
          ],
          "scatterternary": [
           {
            "marker": {
             "colorbar": {
              "outlinewidth": 0,
              "ticks": ""
             }
            },
            "type": "scatterternary"
           }
          ],
          "surface": [
           {
            "colorbar": {
             "outlinewidth": 0,
             "ticks": ""
            },
            "colorscale": [
             [
              0,
              "#0d0887"
             ],
             [
              0.1111111111111111,
              "#46039f"
             ],
             [
              0.2222222222222222,
              "#7201a8"
             ],
             [
              0.3333333333333333,
              "#9c179e"
             ],
             [
              0.4444444444444444,
              "#bd3786"
             ],
             [
              0.5555555555555556,
              "#d8576b"
             ],
             [
              0.6666666666666666,
              "#ed7953"
             ],
             [
              0.7777777777777778,
              "#fb9f3a"
             ],
             [
              0.8888888888888888,
              "#fdca26"
             ],
             [
              1,
              "#f0f921"
             ]
            ],
            "type": "surface"
           }
          ],
          "table": [
           {
            "cells": {
             "fill": {
              "color": "#EBF0F8"
             },
             "line": {
              "color": "white"
             }
            },
            "header": {
             "fill": {
              "color": "#C8D4E3"
             },
             "line": {
              "color": "white"
             }
            },
            "type": "table"
           }
          ]
         },
         "layout": {
          "annotationdefaults": {
           "arrowcolor": "#2a3f5f",
           "arrowhead": 0,
           "arrowwidth": 1
          },
          "autotypenumbers": "strict",
          "coloraxis": {
           "colorbar": {
            "outlinewidth": 0,
            "ticks": ""
           }
          },
          "colorscale": {
           "diverging": [
            [
             0,
             "#8e0152"
            ],
            [
             0.1,
             "#c51b7d"
            ],
            [
             0.2,
             "#de77ae"
            ],
            [
             0.3,
             "#f1b6da"
            ],
            [
             0.4,
             "#fde0ef"
            ],
            [
             0.5,
             "#f7f7f7"
            ],
            [
             0.6,
             "#e6f5d0"
            ],
            [
             0.7,
             "#b8e186"
            ],
            [
             0.8,
             "#7fbc41"
            ],
            [
             0.9,
             "#4d9221"
            ],
            [
             1,
             "#276419"
            ]
           ],
           "sequential": [
            [
             0,
             "#0d0887"
            ],
            [
             0.1111111111111111,
             "#46039f"
            ],
            [
             0.2222222222222222,
             "#7201a8"
            ],
            [
             0.3333333333333333,
             "#9c179e"
            ],
            [
             0.4444444444444444,
             "#bd3786"
            ],
            [
             0.5555555555555556,
             "#d8576b"
            ],
            [
             0.6666666666666666,
             "#ed7953"
            ],
            [
             0.7777777777777778,
             "#fb9f3a"
            ],
            [
             0.8888888888888888,
             "#fdca26"
            ],
            [
             1,
             "#f0f921"
            ]
           ],
           "sequentialminus": [
            [
             0,
             "#0d0887"
            ],
            [
             0.1111111111111111,
             "#46039f"
            ],
            [
             0.2222222222222222,
             "#7201a8"
            ],
            [
             0.3333333333333333,
             "#9c179e"
            ],
            [
             0.4444444444444444,
             "#bd3786"
            ],
            [
             0.5555555555555556,
             "#d8576b"
            ],
            [
             0.6666666666666666,
             "#ed7953"
            ],
            [
             0.7777777777777778,
             "#fb9f3a"
            ],
            [
             0.8888888888888888,
             "#fdca26"
            ],
            [
             1,
             "#f0f921"
            ]
           ]
          },
          "colorway": [
           "#636efa",
           "#EF553B",
           "#00cc96",
           "#ab63fa",
           "#FFA15A",
           "#19d3f3",
           "#FF6692",
           "#B6E880",
           "#FF97FF",
           "#FECB52"
          ],
          "font": {
           "color": "#2a3f5f"
          },
          "geo": {
           "bgcolor": "white",
           "lakecolor": "white",
           "landcolor": "#E5ECF6",
           "showlakes": true,
           "showland": true,
           "subunitcolor": "white"
          },
          "hoverlabel": {
           "align": "left"
          },
          "hovermode": "closest",
          "mapbox": {
           "style": "light"
          },
          "paper_bgcolor": "white",
          "plot_bgcolor": "#E5ECF6",
          "polar": {
           "angularaxis": {
            "gridcolor": "white",
            "linecolor": "white",
            "ticks": ""
           },
           "bgcolor": "#E5ECF6",
           "radialaxis": {
            "gridcolor": "white",
            "linecolor": "white",
            "ticks": ""
           }
          },
          "scene": {
           "xaxis": {
            "backgroundcolor": "#E5ECF6",
            "gridcolor": "white",
            "gridwidth": 2,
            "linecolor": "white",
            "showbackground": true,
            "ticks": "",
            "zerolinecolor": "white"
           },
           "yaxis": {
            "backgroundcolor": "#E5ECF6",
            "gridcolor": "white",
            "gridwidth": 2,
            "linecolor": "white",
            "showbackground": true,
            "ticks": "",
            "zerolinecolor": "white"
           },
           "zaxis": {
            "backgroundcolor": "#E5ECF6",
            "gridcolor": "white",
            "gridwidth": 2,
            "linecolor": "white",
            "showbackground": true,
            "ticks": "",
            "zerolinecolor": "white"
           }
          },
          "shapedefaults": {
           "line": {
            "color": "#2a3f5f"
           }
          },
          "ternary": {
           "aaxis": {
            "gridcolor": "white",
            "linecolor": "white",
            "ticks": ""
           },
           "baxis": {
            "gridcolor": "white",
            "linecolor": "white",
            "ticks": ""
           },
           "bgcolor": "#E5ECF6",
           "caxis": {
            "gridcolor": "white",
            "linecolor": "white",
            "ticks": ""
           }
          },
          "title": {
           "x": 0.05
          },
          "xaxis": {
           "automargin": true,
           "gridcolor": "white",
           "linecolor": "white",
           "ticks": "",
           "title": {
            "standoff": 15
           },
           "zerolinecolor": "white",
           "zerolinewidth": 2
          },
          "yaxis": {
           "automargin": true,
           "gridcolor": "white",
           "linecolor": "white",
           "ticks": "",
           "title": {
            "standoff": 15
           },
           "zerolinecolor": "white",
           "zerolinewidth": 2
          }
         }
        },
        "title": {
         "text": "Distribution of Housing Groups"
        },
        "updatemenus": [
         {
          "buttons": [
           {
            "args": [
             {
              "y": [
               [
                1190554,
                717626,
                430716,
                42212,
                1134848,
                687509,
                407158,
                40181,
                63014,
                43285
               ]
              ]
             }
            ],
            "label": "2016",
            "method": "update"
           },
           {
            "args": [
             {
              "y": [
               [
                1205852,
                723209,
                440536,
                42107,
                1147635,
                692445,
                415174,
                40016,
                69372,
                46797
               ]
              ]
             }
            ],
            "label": "2018",
            "method": "update"
           },
           {
            "args": [
             {
              "y": [
               [
                1226462,
                730452,
                453903,
                42107,
                1166240,
                699024,
                427131,
                40085,
                72056,
                48307
               ]
              ]
             }
            ],
            "label": "2020",
            "method": "update"
           },
           {
            "args": [
             {
              "y": [
               [
                1262957,
                739359,
                481491,
                42107,
                1197072,
                705805,
                451119,
                40148,
                73875,
                50572
               ]
              ]
             }
            ],
            "label": "2023",
            "method": "update"
           },
           {
            "args": [
             {
              "y": [
               [
                1288217,
                746460,
                499650,
                42107,
                1219745,
                711809,
                467740,
                40196,
                74447,
                51327
               ]
              ]
             }
            ],
            "label": "2025",
            "method": "update"
           },
           {
            "args": [
             {
              "y": [
               [
                1300847,
                749930,
                508810,
                42107,
                1231007,
                714753,
                476048,
                40206,
                74733,
                51327
               ]
              ]
             }
            ],
            "label": "2026",
            "method": "update"
           },
           {
            "args": [
             {
              "y": [
               [
                1338737,
                758815,
                537815,
                42107,
                1264151,
                722291,
                501623,
                40237,
                75591,
                51327
               ]
              ]
             }
            ],
            "label": "2029",
            "method": "update"
           },
           {
            "args": [
             {
              "y": [
               [
                1351367,
                760811,
                548449,
                42107,
                1274948,
                724080,
                510627,
                40241,
                75877,
                51327
               ]
              ]
             }
            ],
            "label": "2030",
            "method": "update"
           },
           {
            "args": [
             {
              "y": [
               [
                1376162,
                764402,
                569653,
                42107,
                1296193,
                727144,
                528802,
                40247,
                76043,
                51327
               ]
              ]
             }
            ],
            "label": "2032",
            "method": "update"
           },
           {
            "args": [
             {
              "y": [
               [
                1409867,
                769000,
                598760,
                42107,
                1327588,
                731358,
                555975,
                40255,
                76292,
                51327
               ]
              ]
             }
            ],
            "label": "2035",
            "method": "update"
           },
           {
            "args": [
             {
              "y": [
               [
                1443635,
                775685,
                625843,
                42107,
                1348283,
                734548,
                573477,
                40258,
                76292,
                51327
               ]
              ]
             }
            ],
            "label": "2040",
            "method": "update"
           },
           {
            "args": [
             {
              "y": [
               [
                1460856,
                778161,
                640588,
                42107,
                1364815,
                736902,
                587652,
                40261,
                76292,
                51327
               ]
              ]
             }
            ],
            "label": "2045",
            "method": "update"
           },
           {
            "args": [
             {
              "y": [
               [
                1471300,
                779960,
                649233,
                42107,
                1374841,
                738656,
                595923,
                40262,
                76292,
                51327
               ]
              ]
             }
            ],
            "label": "2050",
            "method": "update"
           }
          ],
          "showactive": true,
          "type": "buttons"
         }
        ],
        "xaxis": {
         "title": {
          "text": "Housing Group"
         }
        },
        "yaxis": {
         "title": {
          "text": "Value"
         }
        }
       }
      },
      "text/html": [
       "<div>                            <div id=\"5e9abe8f-b135-4c8a-9965-ba93eb2d67cf\" class=\"plotly-graph-div\" style=\"height:525px; width:100%;\"></div>            <script type=\"text/javascript\">                require([\"plotly\"], function(Plotly) {                    window.PLOTLYENV=window.PLOTLYENV || {};                                    if (document.getElementById(\"5e9abe8f-b135-4c8a-9965-ba93eb2d67cf\")) {                    Plotly.newPlot(                        \"5e9abe8f-b135-4c8a-9965-ba93eb2d67cf\",                        [{\"x\":[\"hs\",\"hs_Single_Family\",\"hs_Multiple_Family\",\"hs_Mobile_Homes\",\"Household Population (hh)\",\"hh_Single_Family\",\"hh_Multiple_Family\",\"hh_Mobile_Homes\",\"gq_civ\",\"Group Quarters - Military (gq_mil)\"],\"y\":[1190554,717626,430716,42212,1134848,687509,407158,40181,63014,43285],\"type\":\"bar\"}],                        {\"template\":{\"data\":{\"histogram2dcontour\":[{\"type\":\"histogram2dcontour\",\"colorbar\":{\"outlinewidth\":0,\"ticks\":\"\"},\"colorscale\":[[0.0,\"#0d0887\"],[0.1111111111111111,\"#46039f\"],[0.2222222222222222,\"#7201a8\"],[0.3333333333333333,\"#9c179e\"],[0.4444444444444444,\"#bd3786\"],[0.5555555555555556,\"#d8576b\"],[0.6666666666666666,\"#ed7953\"],[0.7777777777777778,\"#fb9f3a\"],[0.8888888888888888,\"#fdca26\"],[1.0,\"#f0f921\"]]}],\"choropleth\":[{\"type\":\"choropleth\",\"colorbar\":{\"outlinewidth\":0,\"ticks\":\"\"}}],\"histogram2d\":[{\"type\":\"histogram2d\",\"colorbar\":{\"outlinewidth\":0,\"ticks\":\"\"},\"colorscale\":[[0.0,\"#0d0887\"],[0.1111111111111111,\"#46039f\"],[0.2222222222222222,\"#7201a8\"],[0.3333333333333333,\"#9c179e\"],[0.4444444444444444,\"#bd3786\"],[0.5555555555555556,\"#d8576b\"],[0.6666666666666666,\"#ed7953\"],[0.7777777777777778,\"#fb9f3a\"],[0.8888888888888888,\"#fdca26\"],[1.0,\"#f0f921\"]]}],\"heatmap\":[{\"type\":\"heatmap\",\"colorbar\":{\"outlinewidth\":0,\"ticks\":\"\"},\"colorscale\":[[0.0,\"#0d0887\"],[0.1111111111111111,\"#46039f\"],[0.2222222222222222,\"#7201a8\"],[0.3333333333333333,\"#9c179e\"],[0.4444444444444444,\"#bd3786\"],[0.5555555555555556,\"#d8576b\"],[0.6666666666666666,\"#ed7953\"],[0.7777777777777778,\"#fb9f3a\"],[0.8888888888888888,\"#fdca26\"],[1.0,\"#f0f921\"]]}],\"heatmapgl\":[{\"type\":\"heatmapgl\",\"colorbar\":{\"outlinewidth\":0,\"ticks\":\"\"},\"colorscale\":[[0.0,\"#0d0887\"],[0.1111111111111111,\"#46039f\"],[0.2222222222222222,\"#7201a8\"],[0.3333333333333333,\"#9c179e\"],[0.4444444444444444,\"#bd3786\"],[0.5555555555555556,\"#d8576b\"],[0.6666666666666666,\"#ed7953\"],[0.7777777777777778,\"#fb9f3a\"],[0.8888888888888888,\"#fdca26\"],[1.0,\"#f0f921\"]]}],\"contourcarpet\":[{\"type\":\"contourcarpet\",\"colorbar\":{\"outlinewidth\":0,\"ticks\":\"\"}}],\"contour\":[{\"type\":\"contour\",\"colorbar\":{\"outlinewidth\":0,\"ticks\":\"\"},\"colorscale\":[[0.0,\"#0d0887\"],[0.1111111111111111,\"#46039f\"],[0.2222222222222222,\"#7201a8\"],[0.3333333333333333,\"#9c179e\"],[0.4444444444444444,\"#bd3786\"],[0.5555555555555556,\"#d8576b\"],[0.6666666666666666,\"#ed7953\"],[0.7777777777777778,\"#fb9f3a\"],[0.8888888888888888,\"#fdca26\"],[1.0,\"#f0f921\"]]}],\"surface\":[{\"type\":\"surface\",\"colorbar\":{\"outlinewidth\":0,\"ticks\":\"\"},\"colorscale\":[[0.0,\"#0d0887\"],[0.1111111111111111,\"#46039f\"],[0.2222222222222222,\"#7201a8\"],[0.3333333333333333,\"#9c179e\"],[0.4444444444444444,\"#bd3786\"],[0.5555555555555556,\"#d8576b\"],[0.6666666666666666,\"#ed7953\"],[0.7777777777777778,\"#fb9f3a\"],[0.8888888888888888,\"#fdca26\"],[1.0,\"#f0f921\"]]}],\"mesh3d\":[{\"type\":\"mesh3d\",\"colorbar\":{\"outlinewidth\":0,\"ticks\":\"\"}}],\"scatter\":[{\"fillpattern\":{\"fillmode\":\"overlay\",\"size\":10,\"solidity\":0.2},\"type\":\"scatter\"}],\"parcoords\":[{\"type\":\"parcoords\",\"line\":{\"colorbar\":{\"outlinewidth\":0,\"ticks\":\"\"}}}],\"scatterpolargl\":[{\"type\":\"scatterpolargl\",\"marker\":{\"colorbar\":{\"outlinewidth\":0,\"ticks\":\"\"}}}],\"bar\":[{\"error_x\":{\"color\":\"#2a3f5f\"},\"error_y\":{\"color\":\"#2a3f5f\"},\"marker\":{\"line\":{\"color\":\"#E5ECF6\",\"width\":0.5},\"pattern\":{\"fillmode\":\"overlay\",\"size\":10,\"solidity\":0.2}},\"type\":\"bar\"}],\"scattergeo\":[{\"type\":\"scattergeo\",\"marker\":{\"colorbar\":{\"outlinewidth\":0,\"ticks\":\"\"}}}],\"scatterpolar\":[{\"type\":\"scatterpolar\",\"marker\":{\"colorbar\":{\"outlinewidth\":0,\"ticks\":\"\"}}}],\"histogram\":[{\"marker\":{\"pattern\":{\"fillmode\":\"overlay\",\"size\":10,\"solidity\":0.2}},\"type\":\"histogram\"}],\"scattergl\":[{\"type\":\"scattergl\",\"marker\":{\"colorbar\":{\"outlinewidth\":0,\"ticks\":\"\"}}}],\"scatter3d\":[{\"type\":\"scatter3d\",\"line\":{\"colorbar\":{\"outlinewidth\":0,\"ticks\":\"\"}},\"marker\":{\"colorbar\":{\"outlinewidth\":0,\"ticks\":\"\"}}}],\"scattermapbox\":[{\"type\":\"scattermapbox\",\"marker\":{\"colorbar\":{\"outlinewidth\":0,\"ticks\":\"\"}}}],\"scatterternary\":[{\"type\":\"scatterternary\",\"marker\":{\"colorbar\":{\"outlinewidth\":0,\"ticks\":\"\"}}}],\"scattercarpet\":[{\"type\":\"scattercarpet\",\"marker\":{\"colorbar\":{\"outlinewidth\":0,\"ticks\":\"\"}}}],\"carpet\":[{\"aaxis\":{\"endlinecolor\":\"#2a3f5f\",\"gridcolor\":\"white\",\"linecolor\":\"white\",\"minorgridcolor\":\"white\",\"startlinecolor\":\"#2a3f5f\"},\"baxis\":{\"endlinecolor\":\"#2a3f5f\",\"gridcolor\":\"white\",\"linecolor\":\"white\",\"minorgridcolor\":\"white\",\"startlinecolor\":\"#2a3f5f\"},\"type\":\"carpet\"}],\"table\":[{\"cells\":{\"fill\":{\"color\":\"#EBF0F8\"},\"line\":{\"color\":\"white\"}},\"header\":{\"fill\":{\"color\":\"#C8D4E3\"},\"line\":{\"color\":\"white\"}},\"type\":\"table\"}],\"barpolar\":[{\"marker\":{\"line\":{\"color\":\"#E5ECF6\",\"width\":0.5},\"pattern\":{\"fillmode\":\"overlay\",\"size\":10,\"solidity\":0.2}},\"type\":\"barpolar\"}],\"pie\":[{\"automargin\":true,\"type\":\"pie\"}]},\"layout\":{\"autotypenumbers\":\"strict\",\"colorway\":[\"#636efa\",\"#EF553B\",\"#00cc96\",\"#ab63fa\",\"#FFA15A\",\"#19d3f3\",\"#FF6692\",\"#B6E880\",\"#FF97FF\",\"#FECB52\"],\"font\":{\"color\":\"#2a3f5f\"},\"hovermode\":\"closest\",\"hoverlabel\":{\"align\":\"left\"},\"paper_bgcolor\":\"white\",\"plot_bgcolor\":\"#E5ECF6\",\"polar\":{\"bgcolor\":\"#E5ECF6\",\"angularaxis\":{\"gridcolor\":\"white\",\"linecolor\":\"white\",\"ticks\":\"\"},\"radialaxis\":{\"gridcolor\":\"white\",\"linecolor\":\"white\",\"ticks\":\"\"}},\"ternary\":{\"bgcolor\":\"#E5ECF6\",\"aaxis\":{\"gridcolor\":\"white\",\"linecolor\":\"white\",\"ticks\":\"\"},\"baxis\":{\"gridcolor\":\"white\",\"linecolor\":\"white\",\"ticks\":\"\"},\"caxis\":{\"gridcolor\":\"white\",\"linecolor\":\"white\",\"ticks\":\"\"}},\"coloraxis\":{\"colorbar\":{\"outlinewidth\":0,\"ticks\":\"\"}},\"colorscale\":{\"sequential\":[[0.0,\"#0d0887\"],[0.1111111111111111,\"#46039f\"],[0.2222222222222222,\"#7201a8\"],[0.3333333333333333,\"#9c179e\"],[0.4444444444444444,\"#bd3786\"],[0.5555555555555556,\"#d8576b\"],[0.6666666666666666,\"#ed7953\"],[0.7777777777777778,\"#fb9f3a\"],[0.8888888888888888,\"#fdca26\"],[1.0,\"#f0f921\"]],\"sequentialminus\":[[0.0,\"#0d0887\"],[0.1111111111111111,\"#46039f\"],[0.2222222222222222,\"#7201a8\"],[0.3333333333333333,\"#9c179e\"],[0.4444444444444444,\"#bd3786\"],[0.5555555555555556,\"#d8576b\"],[0.6666666666666666,\"#ed7953\"],[0.7777777777777778,\"#fb9f3a\"],[0.8888888888888888,\"#fdca26\"],[1.0,\"#f0f921\"]],\"diverging\":[[0,\"#8e0152\"],[0.1,\"#c51b7d\"],[0.2,\"#de77ae\"],[0.3,\"#f1b6da\"],[0.4,\"#fde0ef\"],[0.5,\"#f7f7f7\"],[0.6,\"#e6f5d0\"],[0.7,\"#b8e186\"],[0.8,\"#7fbc41\"],[0.9,\"#4d9221\"],[1,\"#276419\"]]},\"xaxis\":{\"gridcolor\":\"white\",\"linecolor\":\"white\",\"ticks\":\"\",\"title\":{\"standoff\":15},\"zerolinecolor\":\"white\",\"automargin\":true,\"zerolinewidth\":2},\"yaxis\":{\"gridcolor\":\"white\",\"linecolor\":\"white\",\"ticks\":\"\",\"title\":{\"standoff\":15},\"zerolinecolor\":\"white\",\"automargin\":true,\"zerolinewidth\":2},\"scene\":{\"xaxis\":{\"backgroundcolor\":\"#E5ECF6\",\"gridcolor\":\"white\",\"linecolor\":\"white\",\"showbackground\":true,\"ticks\":\"\",\"zerolinecolor\":\"white\",\"gridwidth\":2},\"yaxis\":{\"backgroundcolor\":\"#E5ECF6\",\"gridcolor\":\"white\",\"linecolor\":\"white\",\"showbackground\":true,\"ticks\":\"\",\"zerolinecolor\":\"white\",\"gridwidth\":2},\"zaxis\":{\"backgroundcolor\":\"#E5ECF6\",\"gridcolor\":\"white\",\"linecolor\":\"white\",\"showbackground\":true,\"ticks\":\"\",\"zerolinecolor\":\"white\",\"gridwidth\":2}},\"shapedefaults\":{\"line\":{\"color\":\"#2a3f5f\"}},\"annotationdefaults\":{\"arrowcolor\":\"#2a3f5f\",\"arrowhead\":0,\"arrowwidth\":1},\"geo\":{\"bgcolor\":\"white\",\"landcolor\":\"#E5ECF6\",\"subunitcolor\":\"white\",\"showland\":true,\"showlakes\":true,\"lakecolor\":\"white\"},\"title\":{\"x\":0.05},\"mapbox\":{\"style\":\"light\"}}},\"title\":{\"text\":\"Distribution of Housing Groups\"},\"xaxis\":{\"title\":{\"text\":\"Housing Group\"}},\"yaxis\":{\"title\":{\"text\":\"Value\"}},\"updatemenus\":[{\"buttons\":[{\"args\":[{\"y\":[[1190554,717626,430716,42212,1134848,687509,407158,40181,63014,43285]]}],\"label\":\"2016\",\"method\":\"update\"},{\"args\":[{\"y\":[[1205852,723209,440536,42107,1147635,692445,415174,40016,69372,46797]]}],\"label\":\"2018\",\"method\":\"update\"},{\"args\":[{\"y\":[[1226462,730452,453903,42107,1166240,699024,427131,40085,72056,48307]]}],\"label\":\"2020\",\"method\":\"update\"},{\"args\":[{\"y\":[[1262957,739359,481491,42107,1197072,705805,451119,40148,73875,50572]]}],\"label\":\"2023\",\"method\":\"update\"},{\"args\":[{\"y\":[[1288217,746460,499650,42107,1219745,711809,467740,40196,74447,51327]]}],\"label\":\"2025\",\"method\":\"update\"},{\"args\":[{\"y\":[[1300847,749930,508810,42107,1231007,714753,476048,40206,74733,51327]]}],\"label\":\"2026\",\"method\":\"update\"},{\"args\":[{\"y\":[[1338737,758815,537815,42107,1264151,722291,501623,40237,75591,51327]]}],\"label\":\"2029\",\"method\":\"update\"},{\"args\":[{\"y\":[[1351367,760811,548449,42107,1274948,724080,510627,40241,75877,51327]]}],\"label\":\"2030\",\"method\":\"update\"},{\"args\":[{\"y\":[[1376162,764402,569653,42107,1296193,727144,528802,40247,76043,51327]]}],\"label\":\"2032\",\"method\":\"update\"},{\"args\":[{\"y\":[[1409867,769000,598760,42107,1327588,731358,555975,40255,76292,51327]]}],\"label\":\"2035\",\"method\":\"update\"},{\"args\":[{\"y\":[[1443635,775685,625843,42107,1348283,734548,573477,40258,76292,51327]]}],\"label\":\"2040\",\"method\":\"update\"},{\"args\":[{\"y\":[[1460856,778161,640588,42107,1364815,736902,587652,40261,76292,51327]]}],\"label\":\"2045\",\"method\":\"update\"},{\"args\":[{\"y\":[[1471300,779960,649233,42107,1374841,738656,595923,40262,76292,51327]]}],\"label\":\"2050\",\"method\":\"update\"}],\"showactive\":true,\"type\":\"buttons\"}],\"showlegend\":false},                        {\"responsive\": true}                    ).then(function(){\n",
       "                            \n",
       "var gd = document.getElementById('5e9abe8f-b135-4c8a-9965-ba93eb2d67cf');\n",
       "var x = new MutationObserver(function (mutations, observer) {{\n",
       "        var display = window.getComputedStyle(gd).display;\n",
       "        if (!display || display === 'none') {{\n",
       "            console.log([gd, 'removed!']);\n",
       "            Plotly.purge(gd);\n",
       "            observer.disconnect();\n",
       "        }}\n",
       "}});\n",
       "\n",
       "// Listen for the removal of the full notebook cells\n",
       "var notebookContainer = gd.closest('#notebook-container');\n",
       "if (notebookContainer) {{\n",
       "    x.observe(notebookContainer, {childList: true});\n",
       "}}\n",
       "\n",
       "// Listen for the clearing of the current output cell\n",
       "var outputEl = gd.closest('.output');\n",
       "if (outputEl) {{\n",
       "    x.observe(outputEl, {childList: true});\n",
       "}}\n",
       "\n",
       "                        })                };                });            </script>        </div>"
      ]
     },
     "metadata": {},
     "output_type": "display_data"
    },
    {
     "name": "stderr",
     "output_type": "stream",
     "text": [
      "Part_2.ipynb:23: SettingWithCopyWarning:\n",
      "\n",
      "\n",
      "A value is trying to be set on a copy of a slice from a DataFrame.\n",
      "Try using .loc[row_indexer,col_indexer] = value instead\n",
      "\n",
      "See the caveats in the documentation: https://pandas.pydata.org/pandas-docs/stable/user_guide/indexing.html#returning-a-view-versus-a-copy\n",
      "\n"
     ]
    }
   ],
   "source": [
    "%run Part_2.ipynb"
   ]
  },
  {
   "cell_type": "markdown",
   "id": "ce2608bd",
   "metadata": {},
   "source": [
    "# Forecast Automation Tool Documentation"
   ]
  },
  {
   "cell_type": "markdown",
   "id": "a32f1116",
   "metadata": {},
   "source": [
    "## Part 1\n",
    "The purpose of Part 1 is to concatenate all the ABM data stored as csv's in SANDAG's T-Drive and aggregate them at the MGRA, CPA, Jurisdiction, and Region levels. If you need to download data based on a specific individual datasource-id **OR** download data from two specific datasource-id's to compare, please run `Part_1.initiate_window()` in a code cell below."
   ]
  },
  {
   "cell_type": "code",
   "execution_count": 13,
   "id": "d9b0d1ff",
   "metadata": {},
   "outputs": [],
   "source": [
    "Part_1.initiate_window()"
   ]
  },
  {
   "cell_type": "markdown",
   "id": "1bb38133",
   "metadata": {},
   "source": [
    "## Part 2\n",
    "Part 2 performs a series of checks that identify anomalies in the ABM data. Functions are run using the following format: `Part_2.{insert function name here}()`. The Part 2 checks will flag anomalies and output them in the directory: `part_2_outputs`.\n",
    "\n",
    "### Functions:\n",
    "\n",
    "- **yearly_diff_threshold**: given a dictionary with columns and thresholds, flags any differences between years that meet the threshold level. ***The input dictionary should have 0 values for columns to be ignored.***\n",
    "\n",
    "- **ds_diff_threshold**: given a dictionary with columns and thresholds, flags any differences between datasource_id's that meet the threshold level. ***The input dictionary should have 0 values for columns to be ignored.***\n",
    "\n",
    "- **shares**: given a dictionary with columns and thresholds, flags any proportions within designated columns that meet the threshold level. ***The input dictionary should have 0 values for columns to be ignored.***"
   ]
  },
  {
   "cell_type": "markdown",
   "id": "90b802b4",
   "metadata": {
    "heading_collapsed": true
   },
   "source": [
    "#### Inputs\n",
    "\n",
    "The following cell should be filled out according to the desired checks."
   ]
  },
  {
   "cell_type": "code",
   "execution_count": 60,
   "id": "c26d1e14",
   "metadata": {
    "hidden": true
   },
   "outputs": [],
   "source": [
    "first_ID = 'DS41' # this is the first datasource ID\n",
    "second_ID = 'DS35' # this will only be used if running comparison funcs\n",
    "file_path = './outputs/' # this folder should contain all the files created in part 1\n",
    "comparison = True"
   ]
  },
  {
   "cell_type": "markdown",
   "id": "d3899fcc",
   "metadata": {},
   "source": [
    "#### Input and Consistency Checks\n",
    "\n",
    "These functions will compare the csv files to an ideal output and flag any anomalies that may occur.\n",
    "\n",
    "- **check_cols**: checks that the necessary columns exist in the imported dataset and returns which columns are missing, or True if all columns exist.\n",
    "\n",
    "- **compare_totals**: checks that the totals of each column for each geography level (MGRA, jurisdiction, and region) match. Returns dictionary where keys are the non-MGRA geography levels and the value is a string describing how many columns match with the MGRA geography level.\n",
    "\n",
    "- **database_comparison**: compares total population values (sum of database values for gender, ethnicity, and age groups) from SQL data to population values in the CSV values. Outputs the mismatched rows as an xlsx file with a sheet for each category."
   ]
  },
  {
   "cell_type": "code",
   "execution_count": 61,
   "id": "c922db5b",
   "metadata": {},
   "outputs": [
    {
     "data": {
      "text/plain": [
       "True"
      ]
     },
     "execution_count": 61,
     "metadata": {},
     "output_type": "execute_result"
    }
   ],
   "source": [
    "check_cols(mgra_first)"
   ]
  },
  {
   "cell_type": "code",
   "execution_count": 62,
   "id": "db77cec6",
   "metadata": {},
   "outputs": [
    {
     "data": {
      "text/plain": [
       "{'jurisdiction': '129 columns did not match out of 139 columns.',\n",
       " 'region': 'all columns matched.'}"
      ]
     },
     "execution_count": 62,
     "metadata": {},
     "output_type": "execute_result"
    }
   ],
   "source": [
    "compare_totals(mgra_first, jur_first, reg_first)"
   ]
  },
  {
   "cell_type": "code",
   "execution_count": 89,
   "id": "014b2fdf",
   "metadata": {
    "scrolled": false
   },
   "outputs": [
    {
     "data": {
      "text/plain": [
       "'Output generated successfully.'"
      ]
     },
     "execution_count": 89,
     "metadata": {},
     "output_type": "execute_result"
    }
   ],
   "source": [
    "database_comparison(mgra_first, first_ID)"
   ]
  },
  {
   "cell_type": "markdown",
   "id": "5183d078",
   "metadata": {},
   "source": [
    "#### Threshold Analysis Checks\n",
    "\n",
    "asdf"
   ]
  },
  {
   "cell_type": "code",
   "execution_count": 84,
   "id": "d73626b7",
   "metadata": {},
   "outputs": [],
   "source": [
    "year_thresholds = {\n",
    "    'taz':\n",
    "        {'value_threshold': 0,\n",
    "        'percentage_threshold': 0},\n",
    "    'hs':\n",
    "        {'value_threshold': 0,\n",
    "        'percentage_threshold': 0},\n",
    "    'hs_Single_Family':\n",
    "        {'value_threshold': 0,\n",
    "        'percentage_threshold': 0},\n",
    "    'hs_Multiple_Family':\n",
    "        {'value_threshold': 0,\n",
    "        'percentage_threshold': 0},\n",
    "    'hs_Mobile_Homes':\n",
    "        {'value_threshold': 0,\n",
    "        'percentage_threshold': 0},\n",
    "    'Household Population (hh)':\n",
    "        {'value_threshold': 0,\n",
    "        'percentage_threshold': 0},\n",
    "    'hh_Single_Family':\n",
    "        {'value_threshold': 0,\n",
    "        'percentage_threshold': 0},\n",
    "    'hh_Multiple_Family':\n",
    "        {'value_threshold': 0,\n",
    "        'percentage_threshold': 0},\n",
    "    'hh_Mobile_Homes':\n",
    "        {'value_threshold': 0,\n",
    "        'percentage_threshold': 0},\n",
    "    'gq_civ':\n",
    "        {'value_threshold': 0,\n",
    "        'percentage_threshold': 0},\n",
    "    'Group Quarters - Military (gq_mil)':\n",
    "        {'value_threshold': 0,\n",
    "        'percentage_threshold': 0},\n",
    "    'Less than $15,000':\n",
    "        {'value_threshold': 0,\n",
    "        'percentage_threshold': 0},\n",
    "    '$15,000 to $29,999':\n",
    "        {'value_threshold': 0,\n",
    "        'percentage_threshold': 0},\n",
    "    '$30,000 to $44,999':\n",
    "        {'value_threshold': 0,\n",
    "        'percentage_threshold': 0},\n",
    "    '$45,000 to $59,999':\n",
    "        {'value_threshold': 0,\n",
    "        'percentage_threshold': 0},\n",
    "    '$60,000 to $74,999':\n",
    "        {'value_threshold': 0,\n",
    "        'percentage_threshold': 0},\n",
    "    '$75,000 to $99,999':\n",
    "        {'value_threshold': 0,\n",
    "        'percentage_threshold': 0},\n",
    "    '$100,000 to $124,999':\n",
    "        {'value_threshold': 0,\n",
    "        'percentage_threshold': 0},\n",
    "    '$125,000 to $149,999':\n",
    "        {'value_threshold': 0,\n",
    "        'percentage_threshold': 0},\n",
    "    '$150,000 to $199,999':\n",
    "        {'value_threshold': 0,\n",
    "        'percentage_threshold': 0},\n",
    "    '$200,000 or more':\n",
    "        {'value_threshold': 0,\n",
    "        'percentage_threshold': 0},\n",
    "    'hhs':\n",
    "        {'value_threshold': 0,\n",
    "        'percentage_threshold': 0},\n",
    "    'pop':\n",
    "        {'value_threshold': 0,\n",
    "        'percentage_threshold': 0},\n",
    "    'hhp':\n",
    "        {'value_threshold': 0,\n",
    "        'percentage_threshold': 0},\n",
    "    'emp_Agricultural_and_Extractive':\n",
    "        {'value_threshold': 0,\n",
    "        'percentage_threshold': 0},\n",
    "    'emp_const_non_bldg_prod':\n",
    "        {'value_threshold': 0,\n",
    "        'percentage_threshold': 0},\n",
    "    'emp_const_non_bldg_Office':\n",
    "        {'value_threshold': 0,\n",
    "        'percentage_threshold': 0},\n",
    "    'emp_utilities_prod':\n",
    "        {'value_threshold': 0,\n",
    "        'percentage_threshold': 0},\n",
    "    'emp_utilities_Office':\n",
    "        {'value_threshold': 0,\n",
    "        'percentage_threshold': 0},\n",
    "    'emp_const_bldg_prod':\n",
    "        {'value_threshold': 0,\n",
    "        'percentage_threshold': 0},\n",
    "    'emp_const_bldg_Office':\n",
    "        {'value_threshold': 0,\n",
    "        'percentage_threshold': 0},\n",
    "    'emp_Manufacturing_prod':\n",
    "        {'value_threshold': 0,\n",
    "        'percentage_threshold': 0},\n",
    "    'emp_Manufacturing_Office':\n",
    "        {'value_threshold': 0,\n",
    "        'percentage_threshold': 0},\n",
    "    'emp_whsle_whs':\n",
    "        {'value_threshold': 0,\n",
    "        'percentage_threshold': 0},\n",
    "    'emp_trans':\n",
    "        {'value_threshold': 0,\n",
    "        'percentage_threshold': 0},\n",
    "    'emp_retail':\n",
    "        {'value_threshold': 0,\n",
    "        'percentage_threshold': 0},\n",
    "    'emp_prof_bus_svcs':\n",
    "        {'value_threshold': 0,\n",
    "        'percentage_threshold': 0},\n",
    "    'emp_prof_bus_svcs_bldg_maint':\n",
    "        {'value_threshold': 0,\n",
    "        'percentage_threshold': 0},\n",
    "    'emp_pvt_ed_k12':\n",
    "        {'value_threshold': 0,\n",
    "        'percentage_threshold': 0},\n",
    "    'emp_pvt_ed_post_k12_Other_Residential':\n",
    "        {'value_threshold': 0,\n",
    "        'percentage_threshold': 0},\n",
    "    'emp_health':\n",
    "        {'value_threshold': 0,\n",
    "        'percentage_threshold': 0},\n",
    "    'emp_personal_svcs_Office':\n",
    "        {'value_threshold': 0,\n",
    "        'percentage_threshold': 0},\n",
    "    'emp_amusement':\n",
    "        {'value_threshold': 0,\n",
    "        'percentage_threshold': 0},\n",
    "    'emp_hotel':\n",
    "        {'value_threshold': 0,\n",
    "        'percentage_threshold': 0},\n",
    "    'emp_restaurant_bar':\n",
    "        {'value_threshold': 0,\n",
    "        'percentage_threshold': 0},\n",
    "    'emp_personal_svcs_retail':\n",
    "        {'value_threshold': 0,\n",
    "        'percentage_threshold': 0},\n",
    "    'emp_religious':\n",
    "        {'value_threshold': 0,\n",
    "        'percentage_threshold': 0},\n",
    "    'emp_pvt_hh':\n",
    "        {'value_threshold': 0,\n",
    "        'percentage_threshold': 0},\n",
    "    'emp_state_local_Government_ent':\n",
    "        {'value_threshold': 0,\n",
    "        'percentage_threshold': 0},\n",
    "    'emp_fed_non_Military':\n",
    "        {'value_threshold': 0,\n",
    "        'percentage_threshold': 0},\n",
    "    'emp_fed_Military':\n",
    "        {'value_threshold': 0,\n",
    "        'percentage_threshold': 0},\n",
    "    'emp_state_local_Government_blue':\n",
    "        {'value_threshold': 0,\n",
    "        'percentage_threshold': 0},\n",
    "    'emp_state_local_Government_white':\n",
    "        {'value_threshold': 0,\n",
    "        'percentage_threshold': 0},\n",
    "    'emp_public_ed':\n",
    "        {'value_threshold': 0,\n",
    "        'percentage_threshold': 0},\n",
    "    'emp_own_occ_dwell_mgmt':\n",
    "        {'value_threshold': 0,\n",
    "        'percentage_threshold': 0},\n",
    "    'emp_fed_Government_accts':\n",
    "        {'value_threshold': 0,\n",
    "        'percentage_threshold': 0},\n",
    "    'emp_st_lcl_Government_accts':\n",
    "        {'value_threshold': 0,\n",
    "        'percentage_threshold': 0},\n",
    "    'emp_cap_accts':\n",
    "        {'value_threshold': 0,\n",
    "        'percentage_threshold': 0},\n",
    "    'emp_total':\n",
    "        {'value_threshold': 0,\n",
    "        'percentage_threshold': 0},\n",
    "    'enrollgradekto8':\n",
    "        {'value_threshold': 0,\n",
    "        'percentage_threshold': 0},\n",
    "    'enrollgrade9to12':\n",
    "        {'value_threshold': 0,\n",
    "        'percentage_threshold': 0},\n",
    "    'collegeenroll':\n",
    "        {'value_threshold': 0,\n",
    "        'percentage_threshold': 0},\n",
    "    'othercollegeenroll':\n",
    "        {'value_threshold': 0,\n",
    "        'percentage_threshold': 0},\n",
    "    'adultschenrl':\n",
    "        {'value_threshold': 0,\n",
    "        'percentage_threshold': 0},\n",
    "    'ech_dist':\n",
    "        {'value_threshold': 0,\n",
    "        'percentage_threshold': 0},\n",
    "    'hch_dist':\n",
    "        {'value_threshold': 0,\n",
    "        'percentage_threshold': 0},\n",
    "    'pseudomsa':\n",
    "        {'value_threshold': 0,\n",
    "        'percentage_threshold': 0},\n",
    "    'parkarea':\n",
    "        {'value_threshold': 0,\n",
    "        'percentage_threshold': 0},\n",
    "    'hstallsoth':\n",
    "        {'value_threshold': 0,\n",
    "        'percentage_threshold': 0},\n",
    "    'hstallssam':\n",
    "        {'value_threshold': 0,\n",
    "        'percentage_threshold': 0},\n",
    "    'hparkcost':\n",
    "        {'value_threshold': 0,\n",
    "        'percentage_threshold': 0},\n",
    "    'numfreehrs':\n",
    "        {'value_threshold': 0,\n",
    "        'percentage_threshold': 0},\n",
    "    'dstallsoth':\n",
    "        {'value_threshold': 0,\n",
    "        'percentage_threshold': 0},\n",
    "    'dstallssam':\n",
    "        {'value_threshold': 0,\n",
    "        'percentage_threshold': 0},\n",
    "    'dparkcost':\n",
    "        {'value_threshold': 0,\n",
    "        'percentage_threshold': 0},\n",
    "    'mstallsoth':\n",
    "        {'value_threshold': 0,\n",
    "        'percentage_threshold': 0},\n",
    "    'mstallssam':\n",
    "        {'value_threshold': 0,\n",
    "        'percentage_threshold': 0},\n",
    "    'mparkcost':\n",
    "        {'value_threshold': 0,\n",
    "        'percentage_threshold': 0},\n",
    "    'totint':\n",
    "        {'value_threshold': 0,\n",
    "        'percentage_threshold': 0},\n",
    "    'duden':\n",
    "        {'value_threshold': 0,\n",
    "        'percentage_threshold': 0},\n",
    "    'empden':\n",
    "        {'value_threshold': 0,\n",
    "        'percentage_threshold': 0},\n",
    "    'popden':\n",
    "        {'value_threshold': 0,\n",
    "        'percentage_threshold': 0},\n",
    "    'retempden':\n",
    "        {'value_threshold': 0,\n",
    "        'percentage_threshold': 0},\n",
    "    'totintbin':\n",
    "        {'value_threshold': 0,\n",
    "        'percentage_threshold': 0},\n",
    "    'empdenbin':\n",
    "        {'value_threshold': 0,\n",
    "        'percentage_threshold': 0},\n",
    "    'dudenbin':\n",
    "        {'value_threshold': 0,\n",
    "        'percentage_threshold': 0},\n",
    "    'zip09':\n",
    "        {'value_threshold': 0,\n",
    "        'percentage_threshold': 0},\n",
    "    'parkactive':\n",
    "        {'value_threshold': 0,\n",
    "        'percentage_threshold': 0},\n",
    "    'openspaceparkpreserve':\n",
    "        {'value_threshold': 0,\n",
    "        'percentage_threshold': 0},\n",
    "    'beachactive':\n",
    "        {'value_threshold': 0,\n",
    "        'percentage_threshold': 0},\n",
    "    'budgetroom':\n",
    "        {'value_threshold': 0,\n",
    "        'percentage_threshold': 0},\n",
    "    'economyroom':\n",
    "        {'value_threshold': 0,\n",
    "        'percentage_threshold': 0},\n",
    "    'luxuryroom':\n",
    "        {'value_threshold': 0,\n",
    "        'percentage_threshold': 0},\n",
    "    'midpriceroom':\n",
    "        {'value_threshold': 0,\n",
    "        'percentage_threshold': 0},\n",
    "    'upscaleroom':\n",
    "        {'value_threshold': 0,\n",
    "        'percentage_threshold': 0},\n",
    "    'hotelroomtotal':\n",
    "        {'value_threshold': 0,\n",
    "        'percentage_threshold': 0},\n",
    "    'luz_id':\n",
    "        {'value_threshold': 0,\n",
    "        'percentage_threshold': 0},\n",
    "    'truckregiontype':\n",
    "        {'value_threshold': 0,\n",
    "        'percentage_threshold': 0},\n",
    "    'district27':\n",
    "        {'value_threshold': 0,\n",
    "        'percentage_threshold': 0},\n",
    "    'milestocoast':\n",
    "        {'value_threshold': 0,\n",
    "        'percentage_threshold': 0},\n",
    "    'acres':\n",
    "        {'value_threshold': 0,\n",
    "        'percentage_threshold': 0},\n",
    "    'effective_acres':\n",
    "        {'value_threshold': 0,\n",
    "        'percentage_threshold': 0},\n",
    "    'land_acres':\n",
    "        {'value_threshold': 0,\n",
    "        'percentage_threshold': 0},\n",
    "    'units':\n",
    "        {'value_threshold': 0,\n",
    "        'percentage_threshold': 0},\n",
    "    'vacancy':\n",
    "        {'value_threshold': 0,\n",
    "        'percentage_threshold': 0},\n",
    "    'unoccupiable':\n",
    "        {'value_threshold': 0,\n",
    "        'percentage_threshold': 0},\n",
    "    'vacancy_rate':\n",
    "        {'value_threshold': 0,\n",
    "        'percentage_threshold': 0},\n",
    "    'elem_population':\n",
    "        {'value_threshold': 0,\n",
    "        'percentage_threshold': 0},\n",
    "    'high_population':\n",
    "        {'value_threshold': 0,\n",
    "        'percentage_threshold': 0},\n",
    "    '10 to 14':\n",
    "        {'value_threshold': 0,\n",
    "        'percentage_threshold': 0},\n",
    "    '15 to 17':\n",
    "        {'value_threshold': 0,\n",
    "        'percentage_threshold': 0},\n",
    "    '18 and 19':\n",
    "        {'value_threshold': 0,\n",
    "        'percentage_threshold': 0},\n",
    "    '20 to 24':\n",
    "        {'value_threshold': 0,\n",
    "        'percentage_threshold': 0},\n",
    "    '25 to 29':\n",
    "        {'value_threshold': 0,\n",
    "        'percentage_threshold': 0},\n",
    "    '30 to 34':\n",
    "        {'value_threshold': 0,\n",
    "        'percentage_threshold': 0},\n",
    "    '35 to 39':\n",
    "        {'value_threshold': 0,\n",
    "        'percentage_threshold': 0},\n",
    "    '40 to 44':\n",
    "        {'value_threshold': 0,\n",
    "        'percentage_threshold': 0},\n",
    "    '45 to 49':\n",
    "        {'value_threshold': 0,\n",
    "        'percentage_threshold': 0},\n",
    "    '5 to 9':\n",
    "        {'value_threshold': 0,\n",
    "        'percentage_threshold': 0},\n",
    "    '50 to 54':\n",
    "        {'value_threshold': 0,\n",
    "        'percentage_threshold': 0},\n",
    "    '55 to 59':\n",
    "        {'value_threshold': 0,\n",
    "        'percentage_threshold': 0},\n",
    "    '60 and 61':\n",
    "        {'value_threshold': 0,\n",
    "        'percentage_threshold': 0},\n",
    "    '62 to 64':\n",
    "        {'value_threshold': 0,\n",
    "        'percentage_threshold': 0},\n",
    "    '65 to 69':\n",
    "        {'value_threshold': 0,\n",
    "        'percentage_threshold': 0},\n",
    "    '70 to 74':\n",
    "        {'value_threshold': 0,\n",
    "        'percentage_threshold': 0},\n",
    "    '75 to 79':\n",
    "        {'value_threshold': 0,\n",
    "        'percentage_threshold': 0},\n",
    "    '80 to 84':\n",
    "        {'value_threshold': 0,\n",
    "        'percentage_threshold': 0},\n",
    "    '85 and Older':\n",
    "        {'value_threshold': 0,\n",
    "        'percentage_threshold': 0},\n",
    "    'Under 5':\n",
    "        {'value_threshold': 0,\n",
    "        'percentage_threshold': 0},\n",
    "    'American Indian':\n",
    "        {'value_threshold': 0,\n",
    "        'percentage_threshold': 0},\n",
    "    'Asian':\n",
    "        {'value_threshold': 0,\n",
    "        'percentage_threshold': 0},\n",
    "    'Black':\n",
    "        {'value_threshold': 0,\n",
    "        'percentage_threshold': 0},\n",
    "    'Hispanic':\n",
    "        {'value_threshold': 0,\n",
    "        'percentage_threshold': 0},\n",
    "    'Other':\n",
    "        {'value_threshold': 0,\n",
    "        'percentage_threshold': 0},\n",
    "    'Pacific Islander':\n",
    "        {'value_threshold': 0,\n",
    "        'percentage_threshold': 0},\n",
    "    'Two or More':\n",
    "        {'value_threshold': 0,\n",
    "        'percentage_threshold': 0},\n",
    "    'White':\n",
    "        {'value_threshold': 0,\n",
    "        'percentage_threshold': 0},\n",
    "    'Female':\n",
    "        {'value_threshold': 0,\n",
    "        'percentage_threshold': 0},\n",
    "    'Male':\n",
    "        {'value_threshold': 0,\n",
    "        'percentage_threshold': 0},\n",
    "}"
   ]
  },
  {
   "cell_type": "code",
   "execution_count": 85,
   "id": "dd51c435",
   "metadata": {},
   "outputs": [],
   "source": [
    "year_thresh_df = yearly_diff_threshold(mgra_first, year_thresholds)"
   ]
  },
  {
   "cell_type": "code",
   "execution_count": 87,
   "id": "da88928b",
   "metadata": {},
   "outputs": [
    {
     "data": {
      "text/html": [
       "<div>\n",
       "<style scoped>\n",
       "    .dataframe tbody tr th:only-of-type {\n",
       "        vertical-align: middle;\n",
       "    }\n",
       "\n",
       "    .dataframe tbody tr th {\n",
       "        vertical-align: top;\n",
       "    }\n",
       "\n",
       "    .dataframe thead th {\n",
       "        text-align: right;\n",
       "    }\n",
       "</style>\n",
       "<table border=\"1\" class=\"dataframe tex2jax_ignore\">\n",
       "  <thead>\n",
       "    <tr style=\"text-align: right;\">\n",
       "      <th></th>\n",
       "      <th></th>\n",
       "      <th>taz</th>\n",
       "      <th>hs</th>\n",
       "      <th>hs_Single_Family</th>\n",
       "      <th>hs_Multiple_Family</th>\n",
       "      <th>hs_Mobile_Homes</th>\n",
       "      <th>Household Population (hh)</th>\n",
       "      <th>hh_Single_Family</th>\n",
       "      <th>hh_Multiple_Family</th>\n",
       "      <th>hh_Mobile_Homes</th>\n",
       "      <th>gq_civ</th>\n",
       "      <th>...</th>\n",
       "      <th>Asian</th>\n",
       "      <th>Black</th>\n",
       "      <th>Hispanic</th>\n",
       "      <th>Other</th>\n",
       "      <th>Pacific Islander</th>\n",
       "      <th>Two or More</th>\n",
       "      <th>White</th>\n",
       "      <th>Female</th>\n",
       "      <th>Male</th>\n",
       "      <th>Flag</th>\n",
       "    </tr>\n",
       "    <tr>\n",
       "      <th>mgra</th>\n",
       "      <th>year</th>\n",
       "      <th></th>\n",
       "      <th></th>\n",
       "      <th></th>\n",
       "      <th></th>\n",
       "      <th></th>\n",
       "      <th></th>\n",
       "      <th></th>\n",
       "      <th></th>\n",
       "      <th></th>\n",
       "      <th></th>\n",
       "      <th></th>\n",
       "      <th></th>\n",
       "      <th></th>\n",
       "      <th></th>\n",
       "      <th></th>\n",
       "      <th></th>\n",
       "      <th></th>\n",
       "      <th></th>\n",
       "      <th></th>\n",
       "      <th></th>\n",
       "      <th></th>\n",
       "    </tr>\n",
       "  </thead>\n",
       "  <tbody>\n",
       "    <tr>\n",
       "      <th rowspan=\"5\" valign=\"top\">1</th>\n",
       "      <th>2016-2018</th>\n",
       "      <td>0.0</td>\n",
       "      <td>0.0</td>\n",
       "      <td>0.0</td>\n",
       "      <td>0.0</td>\n",
       "      <td>0.0</td>\n",
       "      <td>0.0</td>\n",
       "      <td>0.0</td>\n",
       "      <td>0.0</td>\n",
       "      <td>0.0</td>\n",
       "      <td>0.0</td>\n",
       "      <td>...</td>\n",
       "      <td>0.0</td>\n",
       "      <td>0.0</td>\n",
       "      <td>10.0</td>\n",
       "      <td>0.0</td>\n",
       "      <td>0.0</td>\n",
       "      <td>0.0</td>\n",
       "      <td>-1.0</td>\n",
       "      <td>3.0</td>\n",
       "      <td>6.0</td>\n",
       "      <td>True</td>\n",
       "    </tr>\n",
       "    <tr>\n",
       "      <th>2018-2020</th>\n",
       "      <td>0.0</td>\n",
       "      <td>0.0</td>\n",
       "      <td>0.0</td>\n",
       "      <td>0.0</td>\n",
       "      <td>0.0</td>\n",
       "      <td>0.0</td>\n",
       "      <td>0.0</td>\n",
       "      <td>0.0</td>\n",
       "      <td>0.0</td>\n",
       "      <td>0.0</td>\n",
       "      <td>...</td>\n",
       "      <td>0.0</td>\n",
       "      <td>0.0</td>\n",
       "      <td>-7.0</td>\n",
       "      <td>0.0</td>\n",
       "      <td>0.0</td>\n",
       "      <td>4.0</td>\n",
       "      <td>-4.0</td>\n",
       "      <td>-3.0</td>\n",
       "      <td>-4.0</td>\n",
       "      <td>True</td>\n",
       "    </tr>\n",
       "    <tr>\n",
       "      <th>2020-2023</th>\n",
       "      <td>0.0</td>\n",
       "      <td>1.0</td>\n",
       "      <td>1.0</td>\n",
       "      <td>0.0</td>\n",
       "      <td>0.0</td>\n",
       "      <td>0.0</td>\n",
       "      <td>0.0</td>\n",
       "      <td>0.0</td>\n",
       "      <td>0.0</td>\n",
       "      <td>0.0</td>\n",
       "      <td>...</td>\n",
       "      <td>-1.0</td>\n",
       "      <td>0.0</td>\n",
       "      <td>-4.0</td>\n",
       "      <td>-1.0</td>\n",
       "      <td>0.0</td>\n",
       "      <td>-6.0</td>\n",
       "      <td>-31.0</td>\n",
       "      <td>-23.0</td>\n",
       "      <td>-20.0</td>\n",
       "      <td>True</td>\n",
       "    </tr>\n",
       "    <tr>\n",
       "      <th>2023-2025</th>\n",
       "      <td>0.0</td>\n",
       "      <td>0.0</td>\n",
       "      <td>0.0</td>\n",
       "      <td>0.0</td>\n",
       "      <td>0.0</td>\n",
       "      <td>0.0</td>\n",
       "      <td>0.0</td>\n",
       "      <td>0.0</td>\n",
       "      <td>0.0</td>\n",
       "      <td>0.0</td>\n",
       "      <td>...</td>\n",
       "      <td>1.0</td>\n",
       "      <td>0.0</td>\n",
       "      <td>4.0</td>\n",
       "      <td>1.0</td>\n",
       "      <td>0.0</td>\n",
       "      <td>2.0</td>\n",
       "      <td>34.0</td>\n",
       "      <td>24.0</td>\n",
       "      <td>18.0</td>\n",
       "      <td>True</td>\n",
       "    </tr>\n",
       "    <tr>\n",
       "      <th>2025-2026</th>\n",
       "      <td>0.0</td>\n",
       "      <td>0.0</td>\n",
       "      <td>0.0</td>\n",
       "      <td>0.0</td>\n",
       "      <td>0.0</td>\n",
       "      <td>0.0</td>\n",
       "      <td>0.0</td>\n",
       "      <td>0.0</td>\n",
       "      <td>0.0</td>\n",
       "      <td>0.0</td>\n",
       "      <td>...</td>\n",
       "      <td>-1.0</td>\n",
       "      <td>0.0</td>\n",
       "      <td>-4.0</td>\n",
       "      <td>-1.0</td>\n",
       "      <td>0.0</td>\n",
       "      <td>-2.0</td>\n",
       "      <td>-34.0</td>\n",
       "      <td>-24.0</td>\n",
       "      <td>-18.0</td>\n",
       "      <td>True</td>\n",
       "    </tr>\n",
       "    <tr>\n",
       "      <th>...</th>\n",
       "      <th>...</th>\n",
       "      <td>...</td>\n",
       "      <td>...</td>\n",
       "      <td>...</td>\n",
       "      <td>...</td>\n",
       "      <td>...</td>\n",
       "      <td>...</td>\n",
       "      <td>...</td>\n",
       "      <td>...</td>\n",
       "      <td>...</td>\n",
       "      <td>...</td>\n",
       "      <td>...</td>\n",
       "      <td>...</td>\n",
       "      <td>...</td>\n",
       "      <td>...</td>\n",
       "      <td>...</td>\n",
       "      <td>...</td>\n",
       "      <td>...</td>\n",
       "      <td>...</td>\n",
       "      <td>...</td>\n",
       "      <td>...</td>\n",
       "      <td>...</td>\n",
       "    </tr>\n",
       "    <tr>\n",
       "      <th rowspan=\"5\" valign=\"top\">23002</th>\n",
       "      <th>2030-2032</th>\n",
       "      <td>0.0</td>\n",
       "      <td>0.0</td>\n",
       "      <td>0.0</td>\n",
       "      <td>0.0</td>\n",
       "      <td>0.0</td>\n",
       "      <td>0.0</td>\n",
       "      <td>0.0</td>\n",
       "      <td>0.0</td>\n",
       "      <td>0.0</td>\n",
       "      <td>0.0</td>\n",
       "      <td>...</td>\n",
       "      <td>-35.0</td>\n",
       "      <td>-5.0</td>\n",
       "      <td>-51.0</td>\n",
       "      <td>-1.0</td>\n",
       "      <td>-1.0</td>\n",
       "      <td>-2.0</td>\n",
       "      <td>-134.0</td>\n",
       "      <td>-116.0</td>\n",
       "      <td>-114.0</td>\n",
       "      <td>True</td>\n",
       "    </tr>\n",
       "    <tr>\n",
       "      <th>2032-2035</th>\n",
       "      <td>0.0</td>\n",
       "      <td>0.0</td>\n",
       "      <td>0.0</td>\n",
       "      <td>0.0</td>\n",
       "      <td>0.0</td>\n",
       "      <td>0.0</td>\n",
       "      <td>0.0</td>\n",
       "      <td>0.0</td>\n",
       "      <td>0.0</td>\n",
       "      <td>0.0</td>\n",
       "      <td>...</td>\n",
       "      <td>44.0</td>\n",
       "      <td>3.0</td>\n",
       "      <td>52.0</td>\n",
       "      <td>1.0</td>\n",
       "      <td>1.0</td>\n",
       "      <td>3.0</td>\n",
       "      <td>133.0</td>\n",
       "      <td>125.0</td>\n",
       "      <td>114.0</td>\n",
       "      <td>True</td>\n",
       "    </tr>\n",
       "    <tr>\n",
       "      <th>2035-2040</th>\n",
       "      <td>0.0</td>\n",
       "      <td>0.0</td>\n",
       "      <td>0.0</td>\n",
       "      <td>0.0</td>\n",
       "      <td>0.0</td>\n",
       "      <td>4.0</td>\n",
       "      <td>1.0</td>\n",
       "      <td>3.0</td>\n",
       "      <td>0.0</td>\n",
       "      <td>0.0</td>\n",
       "      <td>...</td>\n",
       "      <td>25.0</td>\n",
       "      <td>-1.0</td>\n",
       "      <td>8.0</td>\n",
       "      <td>-1.0</td>\n",
       "      <td>0.0</td>\n",
       "      <td>11.0</td>\n",
       "      <td>-24.0</td>\n",
       "      <td>11.0</td>\n",
       "      <td>6.0</td>\n",
       "      <td>True</td>\n",
       "    </tr>\n",
       "    <tr>\n",
       "      <th>2040-2045</th>\n",
       "      <td>0.0</td>\n",
       "      <td>0.0</td>\n",
       "      <td>0.0</td>\n",
       "      <td>0.0</td>\n",
       "      <td>0.0</td>\n",
       "      <td>7.0</td>\n",
       "      <td>2.0</td>\n",
       "      <td>5.0</td>\n",
       "      <td>0.0</td>\n",
       "      <td>0.0</td>\n",
       "      <td>...</td>\n",
       "      <td>8.0</td>\n",
       "      <td>3.0</td>\n",
       "      <td>9.0</td>\n",
       "      <td>1.0</td>\n",
       "      <td>-1.0</td>\n",
       "      <td>-5.0</td>\n",
       "      <td>-7.0</td>\n",
       "      <td>-2.0</td>\n",
       "      <td>9.0</td>\n",
       "      <td>True</td>\n",
       "    </tr>\n",
       "    <tr>\n",
       "      <th>2045-2050</th>\n",
       "      <td>0.0</td>\n",
       "      <td>0.0</td>\n",
       "      <td>0.0</td>\n",
       "      <td>0.0</td>\n",
       "      <td>0.0</td>\n",
       "      <td>1.0</td>\n",
       "      <td>0.0</td>\n",
       "      <td>1.0</td>\n",
       "      <td>0.0</td>\n",
       "      <td>0.0</td>\n",
       "      <td>...</td>\n",
       "      <td>10.0</td>\n",
       "      <td>4.0</td>\n",
       "      <td>-8.0</td>\n",
       "      <td>0.0</td>\n",
       "      <td>1.0</td>\n",
       "      <td>-3.0</td>\n",
       "      <td>-1.0</td>\n",
       "      <td>-4.0</td>\n",
       "      <td>9.0</td>\n",
       "      <td>True</td>\n",
       "    </tr>\n",
       "  </tbody>\n",
       "</table>\n",
       "<p>276024 rows × 140 columns</p>\n",
       "</div>"
      ],
      "text/plain": [
       "                 taz   hs  hs_Single_Family  hs_Multiple_Family  \\\n",
       "mgra  year                                                        \n",
       "1     2016-2018  0.0  0.0               0.0                 0.0   \n",
       "      2018-2020  0.0  0.0               0.0                 0.0   \n",
       "      2020-2023  0.0  1.0               1.0                 0.0   \n",
       "      2023-2025  0.0  0.0               0.0                 0.0   \n",
       "      2025-2026  0.0  0.0               0.0                 0.0   \n",
       "...              ...  ...               ...                 ...   \n",
       "23002 2030-2032  0.0  0.0               0.0                 0.0   \n",
       "      2032-2035  0.0  0.0               0.0                 0.0   \n",
       "      2035-2040  0.0  0.0               0.0                 0.0   \n",
       "      2040-2045  0.0  0.0               0.0                 0.0   \n",
       "      2045-2050  0.0  0.0               0.0                 0.0   \n",
       "\n",
       "                 hs_Mobile_Homes  Household Population (hh)  hh_Single_Family  \\\n",
       "mgra  year                                                                      \n",
       "1     2016-2018              0.0                        0.0               0.0   \n",
       "      2018-2020              0.0                        0.0               0.0   \n",
       "      2020-2023              0.0                        0.0               0.0   \n",
       "      2023-2025              0.0                        0.0               0.0   \n",
       "      2025-2026              0.0                        0.0               0.0   \n",
       "...                          ...                        ...               ...   \n",
       "23002 2030-2032              0.0                        0.0               0.0   \n",
       "      2032-2035              0.0                        0.0               0.0   \n",
       "      2035-2040              0.0                        4.0               1.0   \n",
       "      2040-2045              0.0                        7.0               2.0   \n",
       "      2045-2050              0.0                        1.0               0.0   \n",
       "\n",
       "                 hh_Multiple_Family  hh_Mobile_Homes  gq_civ  ...  Asian  \\\n",
       "mgra  year                                                    ...          \n",
       "1     2016-2018                 0.0              0.0     0.0  ...    0.0   \n",
       "      2018-2020                 0.0              0.0     0.0  ...    0.0   \n",
       "      2020-2023                 0.0              0.0     0.0  ...   -1.0   \n",
       "      2023-2025                 0.0              0.0     0.0  ...    1.0   \n",
       "      2025-2026                 0.0              0.0     0.0  ...   -1.0   \n",
       "...                             ...              ...     ...  ...    ...   \n",
       "23002 2030-2032                 0.0              0.0     0.0  ...  -35.0   \n",
       "      2032-2035                 0.0              0.0     0.0  ...   44.0   \n",
       "      2035-2040                 3.0              0.0     0.0  ...   25.0   \n",
       "      2040-2045                 5.0              0.0     0.0  ...    8.0   \n",
       "      2045-2050                 1.0              0.0     0.0  ...   10.0   \n",
       "\n",
       "                 Black  Hispanic  Other  Pacific Islander  Two or More  White  \\\n",
       "mgra  year                                                                      \n",
       "1     2016-2018    0.0      10.0    0.0               0.0          0.0   -1.0   \n",
       "      2018-2020    0.0      -7.0    0.0               0.0          4.0   -4.0   \n",
       "      2020-2023    0.0      -4.0   -1.0               0.0         -6.0  -31.0   \n",
       "      2023-2025    0.0       4.0    1.0               0.0          2.0   34.0   \n",
       "      2025-2026    0.0      -4.0   -1.0               0.0         -2.0  -34.0   \n",
       "...                ...       ...    ...               ...          ...    ...   \n",
       "23002 2030-2032   -5.0     -51.0   -1.0              -1.0         -2.0 -134.0   \n",
       "      2032-2035    3.0      52.0    1.0               1.0          3.0  133.0   \n",
       "      2035-2040   -1.0       8.0   -1.0               0.0         11.0  -24.0   \n",
       "      2040-2045    3.0       9.0    1.0              -1.0         -5.0   -7.0   \n",
       "      2045-2050    4.0      -8.0    0.0               1.0         -3.0   -1.0   \n",
       "\n",
       "                 Female   Male  Flag  \n",
       "mgra  year                            \n",
       "1     2016-2018     3.0    6.0  True  \n",
       "      2018-2020    -3.0   -4.0  True  \n",
       "      2020-2023   -23.0  -20.0  True  \n",
       "      2023-2025    24.0   18.0  True  \n",
       "      2025-2026   -24.0  -18.0  True  \n",
       "...                 ...    ...   ...  \n",
       "23002 2030-2032  -116.0 -114.0  True  \n",
       "      2032-2035   125.0  114.0  True  \n",
       "      2035-2040    11.0    6.0  True  \n",
       "      2040-2045    -2.0    9.0  True  \n",
       "      2045-2050    -4.0    9.0  True  \n",
       "\n",
       "[276024 rows x 140 columns]"
      ]
     },
     "execution_count": 87,
     "metadata": {},
     "output_type": "execute_result"
    }
   ],
   "source": [
    "year_thresh_df[year_thresh_df['Flag']]"
   ]
  },
  {
   "cell_type": "markdown",
   "id": "cfffadfa",
   "metadata": {},
   "source": [
    "##### Employment"
   ]
  },
  {
   "cell_type": "code",
   "execution_count": null,
   "id": "05df2c66",
   "metadata": {},
   "outputs": [],
   "source": [
    "employment_thresholds = {'emp_Agricultural_and_Extractive': 2,\n",
    " 'emp_const_non_bldg_prod': 0,\n",
    " 'emp_const_non_bldg_Office': 0,\n",
    " 'emp_utilities_prod': 0,\n",
    " 'emp_utilities_Office': 0,\n",
    " 'emp_const_bldg_prod': 0,\n",
    " 'emp_const_bldg_Office': 0,\n",
    " 'emp_Manufacturing_prod': 0,\n",
    " 'emp_Manufacturing_Office': 0,\n",
    " 'emp_whsle_whs': 0,\n",
    " 'emp_trans': 0,\n",
    " 'emp_retail': 0,\n",
    " 'emp_prof_bus_svcs': 0,\n",
    " 'emp_prof_bus_svcs_bldg_maint': 0,\n",
    " 'emp_pvt_ed_k12': 0,\n",
    " 'emp_pvt_ed_post_k12_Other_Residential': 0,\n",
    " 'emp_health': 0,\n",
    " 'emp_personal_svcs_Office': 0,\n",
    " 'emp_amusement': 0,\n",
    " 'emp_hotel': 0,\n",
    " 'emp_restaurant_bar': 0,\n",
    " 'emp_personal_svcs_retail': 0,\n",
    " 'emp_religious': 0,\n",
    " 'emp_pvt_hh': 0,\n",
    " 'emp_state_local_Government_ent': 0,\n",
    " 'emp_fed_non_Military': 0,\n",
    " 'emp_fed_Military': 0,\n",
    " 'emp_state_local_Government_blue': 0,\n",
    " 'emp_state_local_Government_white': 0,\n",
    " 'emp_public_ed': 0,\n",
    " 'emp_own_occ_dwell_mgmt': 0,\n",
    " 'emp_fed_Government_accts': 0,\n",
    " 'emp_st_lcl_Government_accts': 0,\n",
    " 'emp_cap_accts': 0,\n",
    " 'emp_total': 0}"
   ]
  },
  {
   "cell_type": "code",
   "execution_count": null,
   "id": "7ddc972b",
   "metadata": {},
   "outputs": [],
   "source": []
  },
  {
   "cell_type": "markdown",
   "id": "275bbd4d",
   "metadata": {
    "heading_collapsed": true
   },
   "source": [
    "##### Income"
   ]
  },
  {
   "cell_type": "code",
   "execution_count": null,
   "id": "2a7a3d74",
   "metadata": {
    "hidden": true
   },
   "outputs": [],
   "source": []
  },
  {
   "cell_type": "markdown",
   "id": "0f5236d8",
   "metadata": {
    "heading_collapsed": true
   },
   "source": [
    "##### Population"
   ]
  },
  {
   "cell_type": "code",
   "execution_count": null,
   "id": "543d3877",
   "metadata": {
    "hidden": true
   },
   "outputs": [],
   "source": []
  },
  {
   "cell_type": "markdown",
   "id": "66cd5993",
   "metadata": {
    "heading_collapsed": true
   },
   "source": [
    "##### ASDF"
   ]
  },
  {
   "cell_type": "code",
   "execution_count": null,
   "id": "219d72bf",
   "metadata": {
    "hidden": true
   },
   "outputs": [],
   "source": []
  },
  {
   "cell_type": "code",
   "execution_count": 46,
   "id": "f4b4a160",
   "metadata": {
    "hidden": true
   },
   "outputs": [
    {
     "data": {
      "text/plain": [
       "array([2045, 2016, 2018, 2020, 2025, 2030, 2050, 2035, 2040], dtype=int64)"
      ]
     },
     "execution_count": 46,
     "metadata": {},
     "output_type": "execute_result"
    }
   ],
   "source": [
    "d_housing['yr_id'].unique()"
   ]
  },
  {
   "cell_type": "code",
   "execution_count": null,
   "id": "e4430c6d",
   "metadata": {
    "hidden": true
   },
   "outputs": [],
   "source": []
  }
 ],
 "metadata": {
  "kernelspec": {
   "display_name": "Python 3",
   "language": "python",
   "name": "python3"
  },
  "language_info": {
   "codemirror_mode": {
    "name": "ipython",
    "version": 3
   },
   "file_extension": ".py",
   "mimetype": "text/x-python",
   "name": "python",
   "nbconvert_exporter": "python",
   "pygments_lexer": "ipython3",
   "version": "3.7.11"
  }
 },
 "nbformat": 4,
 "nbformat_minor": 5
}
