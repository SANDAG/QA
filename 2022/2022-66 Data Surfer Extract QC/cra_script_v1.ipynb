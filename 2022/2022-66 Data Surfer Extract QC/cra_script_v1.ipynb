{
 "cells": [
  {
   "cell_type": "markdown",
   "metadata": {},
   "source": [
    "# CRA Script"
   ]
  },
  {
   "cell_type": "code",
   "execution_count": 1,
   "metadata": {},
   "outputs": [],
   "source": [
    "import pandas as pd\n",
    "import numpy as np \n",
    "import sqlalchemy as sql\n",
    "import os\n",
    "import urllib.parse\n",
    "import pyodbc\n",
    "import warnings\n",
    "warnings.filterwarnings('ignore') "
   ]
  },
  {
   "cell_type": "markdown",
   "metadata": {},
   "source": [
    "## SQL Query Setup"
   ]
  },
  {
   "cell_type": "code",
   "execution_count": 2,
   "metadata": {},
   "outputs": [],
   "source": [
    "# All of the different geozones\n",
    "zones = ['college', 'cpa', 'elementary', 'jurisdiction', \n",
    "         'msa', 'region', 'sdcouncil', 'secondary', 'sra', \n",
    "         'supervisorial', 'tract', 'transit', 'unified', 'zip']\n",
    "\n",
    "# All of the relevant fact tables. Not included are fact.land_use, fact.price_index_sd, \n",
    "# fact.syn_households, and fact.syn_persons.\n",
    "fact_tables = ['fact.age' 'fact.age-sex-ethnicity', 'fact.ethnicity', \n",
    "               'fact.household_income', 'fact.housing', 'fact.jobs',\n",
    "               'fact.population', 'fact.sex']\n",
    "\n",
    "# The SQL queries for each relevant fact table. These queries bascically use dim.mgra to get the\n",
    "# geozone, use whatever other dim tables to get pretty categorical values instead of ids, then\n",
    "# groupby geozone. The queries also filter for the correct datasource_id and geotype\n",
    "fact_dict = {'fact_age': \"\"\"\n",
    "                         SELECT geozone as {zone}, yr_id, age_group.name, SUM(population) as population \n",
    "                         FROM fact.age as tbl\n",
    "                         INNER JOIN dim.mgra AS mgra\n",
    "                         ON mgra.mgra_id = tbl.mgra_id\n",
    "                         INNER JOIN dim.age_group\n",
    "                         ON age_group.age_group_id = tbl.age_group_id\n",
    "                         WHERE tbl.datasource_id = {ds} AND mgra.geotype = '{zone}'\n",
    "                         GROUP BY mgra.geozone, yr_id, tbl.age_group_id, age_group.name\n",
    "                         ORDER BY mgra.geozone, yr_id, tbl.age_group_id\n",
    "                         \"\"\",\n",
    "             'fact_age_sex_ethnicity': \"\"\"\n",
    "                         SELECT geozone as {zone}, yr_id, age_group.name as age_group, sex.sex as sex, \n",
    "\t\t\t\t\t\t ethnicity.long_name as ethnicity, SUM(population) as population \n",
    "                         FROM fact.age_sex_ethnicity as tbl\n",
    "                         INNER JOIN dim.mgra AS mgra\n",
    "                         ON mgra.mgra_id = tbl.mgra_id\n",
    "                         INNER JOIN dim.age_group\n",
    "                         ON age_group.age_group_id = tbl.age_group_id\n",
    "\t\t\t\t\t\t INNER JOIN dim.sex\n",
    "                         ON sex.sex_id = tbl.sex_id\n",
    "\t\t\t\t\t\t INNER JOIN dim.ethnicity\n",
    "                         ON ethnicity.ethnicity_id = tbl.ethnicity_id\n",
    "                         WHERE tbl.datasource_id = {ds} AND mgra.geotype = '{zone}'\n",
    "                         GROUP BY mgra.geozone, yr_id, tbl.age_group_id, \n",
    "\t\t\t\t\t\t tbl.sex_id, tbl.ethnicity_id, \n",
    "\t\t\t\t\t\t age_group.name, sex.sex, ethnicity.long_name\n",
    "                         ORDER BY mgra.geozone, yr_id, tbl.age_group_id,\n",
    "\t\t\t\t\t\t tbl.sex_id, tbl.ethnicity_id\n",
    "                         \"\"\",\n",
    "             'fact_ethnicity': \"\"\"\n",
    "                         SELECT geozone as {zone}, yr_id, ethnicity.long_name, SUM(population) as population \n",
    "                         FROM fact.ethnicity as tbl\n",
    "                         INNER JOIN dim.mgra AS mgra\n",
    "                         ON mgra.mgra_id = tbl.mgra_id\n",
    "                         INNER JOIN dim.ethnicity\n",
    "                         ON ethnicity.ethnicity_id = tbl.ethnicity_id\n",
    "                         WHERE tbl.datasource_id = {ds} AND mgra.geotype = '{zone}'\n",
    "                         GROUP BY mgra.geozone, yr_id, tbl.ethnicity_id, ethnicity.long_name\n",
    "                         ORDER BY mgra.geozone, yr_id, tbl.ethnicity_id\n",
    "                         \"\"\",\n",
    "             'fact_household_income': \"\"\"\n",
    "                         SELECT geozone as {zone}, yr_id, income_group.name, SUM(households) as households \n",
    "                         FROM fact.household_income as tbl\n",
    "                         INNER JOIN dim.mgra AS mgra\n",
    "                         ON mgra.mgra_id = tbl.mgra_id\n",
    "                         INNER JOIN dim.income_group\n",
    "                         ON income_group.income_group_id = tbl.income_group_id\n",
    "                         WHERE tbl.datasource_id = {ds} AND mgra.geotype = '{zone}'\n",
    "                         GROUP BY mgra.geozone, yr_id, tbl.income_group_id, income_group.name\n",
    "                         ORDER BY mgra.geozone, yr_id, tbl.income_group_id\n",
    "                         \"\"\",\n",
    "            'fact_housing': \"\"\"\n",
    "                         SELECT geozone as {zone}, yr_id, structure_type.long_name, SUM(units) as units, \n",
    "                         SUM(unoccupiable) as unoccupiable, SUM(occupied) as occupied, SUM(vacancy) as vacancy\n",
    "                         FROM fact.housing as tbl\n",
    "                         INNER JOIN dim.mgra AS mgra\n",
    "                         ON mgra.mgra_id = tbl.mgra_id\n",
    "                         INNER JOIN dim.structure_type\n",
    "                         ON structure_type.structure_type_id = tbl.structure_type_id\n",
    "                         WHERE tbl.datasource_id = {ds} AND mgra.geotype = '{zone}'\n",
    "                         GROUP BY mgra.geozone, yr_id, tbl.structure_type_id, structure_type.long_name\n",
    "                         ORDER BY mgra.geozone, yr_id, tbl.structure_type_id\n",
    "                         \"\"\",\n",
    "             'fact_jobs': \"\"\"\n",
    "                         SELECT geozone as {zone}, yr_id, employment_type.full_name, SUM(jobs) as jobs\n",
    "                         FROM fact.jobs as tbl\n",
    "                         INNER JOIN dim.mgra AS mgra\n",
    "                         ON mgra.mgra_id = tbl.mgra_id\n",
    "                         INNER JOIN dim.employment_type\n",
    "                         ON employment_type.employment_type_id = tbl.employment_type_id\n",
    "                         WHERE tbl.datasource_id = {ds} AND mgra.geotype = '{zone}'\n",
    "                         GROUP BY mgra.geozone, yr_id, tbl.employment_type_id, employment_type.full_name\n",
    "                         ORDER BY mgra.geozone, yr_id, tbl.employment_type_id\n",
    "                         \"\"\",\n",
    "             'fact_population': \"\"\"\n",
    "                         SELECT geozone as {zone}, yr_id, housing_type.long_name, SUM(population) as population\n",
    "                         FROM fact.population as tbl\n",
    "                         INNER JOIN dim.mgra AS mgra\n",
    "                         ON mgra.mgra_id = tbl.mgra_id\n",
    "                         INNER JOIN dim.housing_type\n",
    "                         ON housing_type.housing_type_id = tbl.housing_type_id\n",
    "                         WHERE tbl.datasource_id = {ds} AND mgra.geotype = '{zone}'\n",
    "                         GROUP BY mgra.geozone, yr_id, tbl.housing_type_id, housing_type.long_name\n",
    "                         ORDER BY mgra.geozone, yr_id, tbl.housing_type_id\n",
    "                         \"\"\",\n",
    "             'fact_sex': \"\"\"\n",
    "                         SELECT geozone as {zone}, yr_id, sex.sex, SUM(population) as population\n",
    "                         FROM fact.sex as tbl\n",
    "                         INNER JOIN dim.mgra AS mgra\n",
    "                         ON mgra.mgra_id = tbl.mgra_id\n",
    "                         INNER JOIN dim.sex\n",
    "                         ON sex.sex_id = tbl.sex_id\n",
    "                         WHERE tbl.datasource_id = {ds} AND mgra.geotype = '{zone}'\n",
    "                         GROUP BY mgra.geozone, yr_id, tbl.sex_id, sex.sex\n",
    "                         ORDER BY mgra.geozone, yr_id, tbl.sex_id\n",
    "                         \"\"\"}\n",
    "\n",
    "fact_pivot = {'fact_age': {'cols': ['name'], 'vals': ['population'], 'friendly_name': 'Age'},\n",
    "             'fact_age_sex_ethnicity': {'cols': ['age_group', 'sex', 'ethnicity'], 'vals': ['population'], 'friendly_name': 'Age, Sex, Ethnicity'},\n",
    "             'fact_ethnicity': {'cols': ['long_name'], 'vals': ['population'], 'friendly_name': 'Ethnicity'},\n",
    "             'fact_household_income': {'cols': ['name'], 'vals': ['households'], 'friendly_name': 'Household Income'},\n",
    "            'fact_housing': {'cols': ['long_name'], 'vals': ['units', 'unoccupiable', 'occupied', 'vacancy'], 'friendly_name': 'Housing'},\n",
    "             'fact_jobs': {'cols': ['full_name'], 'vals': ['jobs'], 'friendly_name': 'Jobs'},\n",
    "             'fact_population': {'cols': ['long_name'], 'vals': ['population'], 'friendly_name': 'Population'},\n",
    "             'fact_sex': {'cols': ['sex'], 'vals': ['population'], 'friendly_name': 'Sex'}}"
   ]
  },
  {
   "cell_type": "markdown",
   "metadata": {},
   "source": [
    "## Census Checks"
   ]
  },
  {
   "cell_type": "code",
   "execution_count": 4,
   "metadata": {},
   "outputs": [],
   "source": [
    "def is_number(n):\n",
    "    try:\n",
    "        float(n)   # Type-casting the string to `float`.\n",
    "                   # If string is not a valid `float`, \n",
    "                   # it'll raise `ValueError` exception\n",
    "    except ValueError:\n",
    "        return False\n",
    "    return True"
   ]
  },
  {
   "cell_type": "code",
   "execution_count": 6,
   "metadata": {},
   "outputs": [],
   "source": [
    "# Download the extract data\n",
    "census_data = pd.read_csv(r'C:\\Users\\cra\\San Diego Association of Governments\\SANDAG QA QC - Documents\\Service Requests\\2022\\2022-66 Data Surfer Extract QC\\Data\\Census.csv')\n",
    "\n",
    "# Cleaning \n",
    "census_data['geom_name'] = [str(x) for x in census_data['geom_name']] # first need to make it string data\n",
    "census_data['name'] = [float(x) if is_number(x) else x for x in census_data['geom_name']] # Turn into a float "
   ]
  },
  {
   "cell_type": "markdown",
   "metadata": {},
   "source": [
    "## Age Check\n",
    "years_dict = {12:\"2000\", 5:\"2010\"}"
   ]
  },
  {
   "cell_type": "code",
   "execution_count": 7,
   "metadata": {},
   "outputs": [],
   "source": [
    "conn = pyodbc.connect('Driver={ODBC Driver 17 for SQL Server};'\n",
    "                    'Server=DDAMWSQL16.sandag.org;'\n",
    "                    'Database=demographic_warehouse;'\n",
    "                    'Trusted_Connection=yes;')\n",
    "\n",
    "# age \n",
    "query ='''\n",
    "SELECT geozone, yr_id, age_group.name, SUM(population) as population \n",
    "FROM fact.age as tbl\n",
    "INNER JOIN dim.mgra AS mgra\n",
    "ON mgra.mgra_id = tbl.mgra_id\n",
    "INNER JOIN dim.age_group\n",
    "ON age_group.age_group_id = tbl.age_group_id\n",
    "WHERE tbl.datasource_id = 12 AND mgra.geotype IN ('college', 'cpa', 'elementary', 'jurisdiction', \n",
    "         'msa', 'region', 'sdcouncil', 'secondary', 'sra', \n",
    "         'supervisorial', 'tract', 'transit', 'unified', 'zip')\n",
    "GROUP BY mgra.geozone, yr_id, tbl.age_group_id, age_group.name\n",
    "ORDER BY mgra.geozone, yr_id, tbl.age_group_id\n",
    "'''\n",
    "\n",
    "sql_data =  pd.read_sql_query(query, conn)"
   ]
  },
  {
   "cell_type": "code",
   "execution_count": 8,
   "metadata": {},
   "outputs": [],
   "source": [
    "# Set data as a float \n",
    "sql_data['name'] = [float(x) if is_number(x) else x for x in sql_data['geozone']]"
   ]
  },
  {
   "cell_type": "code",
   "execution_count": 11,
   "metadata": {},
   "outputs": [],
   "source": [
    "# Sort the excel data for age \n",
    "excel_age_data = census_data[(census_data['year'] == 2000) & (census_data['category'] == 'Age')]\n",
    "excel_age_data = excel_age_data[['name', 'year', 'variable_main', 'value_main', 'geography_type']]"
   ]
  },
  {
   "cell_type": "code",
   "execution_count": 12,
   "metadata": {},
   "outputs": [
    {
     "name": "stdout",
     "output_type": "stream",
     "text": [
      "0\n",
      "0\n"
     ]
    }
   ],
   "source": [
    "# Checking to make sure columns are the same \n",
    "print(len(list(set(excel_age_data['name']) - set(sql_data['name']))))\n",
    "print(len(set(sql_data['name']) - set(excel_age_data['name'])))"
   ]
  },
  {
   "cell_type": "code",
   "execution_count": 13,
   "metadata": {},
   "outputs": [],
   "source": [
    "# Display of why the counts will be different\n",
    "#excel_age_data[excel_age_data['name'] == 1]\n",
    "#sql_data[sql_data['name'] == 1]"
   ]
  },
  {
   "cell_type": "code",
   "execution_count": 14,
   "metadata": {},
   "outputs": [],
   "source": [
    "def age_sum_check(excel_age_data, sql_age_data):\n",
    "    '''\n",
    "    Input: Excel and SQL data that has identical geonames in a 'name' column\n",
    "    What is done: Checks that the sums for each geoname are identical \n",
    "    Output: A dataframe that says if the particular geoname passes or fails \n",
    "    '''\n",
    "    df = pd.DataFrame()\n",
    "\n",
    "    for name in set(excel_age_data['name']):\n",
    "        # Excel Data\n",
    "        excel_population = excel_age_data[excel_age_data['name'] == name]['value_main'].sum()\n",
    "\n",
    "        # SQL Data\n",
    "        sql_population = sql_age_data[sql_age_data['name'] == name]['population'].sum()\n",
    "\n",
    "        if excel_population == sql_population:\n",
    "            df[name] = ['Pass']\n",
    "        else:\n",
    "            df[name] = ['Fail']\n",
    "\n",
    "    final_df = df.T\n",
    "    final_df.columns = ['SQL/Excel Match']\n",
    "    return final_df"
   ]
  },
  {
   "cell_type": "code",
   "execution_count": 15,
   "metadata": {},
   "outputs": [
    {
     "data": {
      "text/html": [
       "<div>\n",
       "<style scoped>\n",
       "    .dataframe tbody tr th:only-of-type {\n",
       "        vertical-align: middle;\n",
       "    }\n",
       "\n",
       "    .dataframe tbody tr th {\n",
       "        vertical-align: top;\n",
       "    }\n",
       "\n",
       "    .dataframe thead th {\n",
       "        text-align: right;\n",
       "    }\n",
       "</style>\n",
       "<table border=\"1\" class=\"dataframe\">\n",
       "  <thead>\n",
       "    <tr style=\"text-align: right;\">\n",
       "      <th></th>\n",
       "      <th>SQL/Excel Match</th>\n",
       "    </tr>\n",
       "  </thead>\n",
       "  <tbody>\n",
       "    <tr>\n",
       "      <th>1.0</th>\n",
       "      <td>Pass</td>\n",
       "    </tr>\n",
       "    <tr>\n",
       "      <th>2.0</th>\n",
       "      <td>Pass</td>\n",
       "    </tr>\n",
       "    <tr>\n",
       "      <th>3.0</th>\n",
       "      <td>Pass</td>\n",
       "    </tr>\n",
       "    <tr>\n",
       "      <th>4.0</th>\n",
       "      <td>Pass</td>\n",
       "    </tr>\n",
       "    <tr>\n",
       "      <th>5.0</th>\n",
       "      <td>Pass</td>\n",
       "    </tr>\n",
       "    <tr>\n",
       "      <th>...</th>\n",
       "      <td>...</td>\n",
       "    </tr>\n",
       "    <tr>\n",
       "      <th>92145.0</th>\n",
       "      <td>Pass</td>\n",
       "    </tr>\n",
       "    <tr>\n",
       "      <th>Southwestern</th>\n",
       "      <td>Pass</td>\n",
       "    </tr>\n",
       "    <tr>\n",
       "      <th>170.42</th>\n",
       "      <td>Pass</td>\n",
       "    </tr>\n",
       "    <tr>\n",
       "      <th>92154.0</th>\n",
       "      <td>Pass</td>\n",
       "    </tr>\n",
       "    <tr>\n",
       "      <th>92155.0</th>\n",
       "      <td>Pass</td>\n",
       "    </tr>\n",
       "  </tbody>\n",
       "</table>\n",
       "<p>856 rows × 1 columns</p>\n",
       "</div>"
      ],
      "text/plain": [
       "             SQL/Excel Match\n",
       "1.0                     Pass\n",
       "2.0                     Pass\n",
       "3.0                     Pass\n",
       "4.0                     Pass\n",
       "5.0                     Pass\n",
       "...                      ...\n",
       "92145.0                 Pass\n",
       "Southwestern            Pass\n",
       "170.42                  Pass\n",
       "92154.0                 Pass\n",
       "92155.0                 Pass\n",
       "\n",
       "[856 rows x 1 columns]"
      ]
     },
     "execution_count": 15,
     "metadata": {},
     "output_type": "execute_result"
    }
   ],
   "source": [
    "# Census 2000 Checks \n",
    "age_sum_check(excel_age_data, sql_data)"
   ]
  },
  {
   "cell_type": "code",
   "execution_count": null,
   "metadata": {},
   "outputs": [],
   "source": []
  }
 ],
 "metadata": {
  "kernelspec": {
   "display_name": "Python 3.8.8 ('base')",
   "language": "python",
   "name": "python3"
  },
  "language_info": {
   "codemirror_mode": {
    "name": "ipython",
    "version": 3
   },
   "file_extension": ".py",
   "mimetype": "text/x-python",
   "name": "python",
   "nbconvert_exporter": "python",
   "pygments_lexer": "ipython3",
   "version": "3.8.8"
  },
  "orig_nbformat": 4,
  "vscode": {
   "interpreter": {
    "hash": "6db16e9940ad839c1e288012a4d7b04c8c55c67646ae73b178066b197eb654ea"
   }
  }
 },
 "nbformat": 4,
 "nbformat_minor": 2
}
