{
 "cells": [
  {
   "cell_type": "code",
   "execution_count": 1,
   "metadata": {},
   "outputs": [],
   "source": [
    "import os \n",
    "import pandas as pd\n",
    "import numpy as np\n",
    "import glob\n",
    "import pyodbc\n",
    "import gc"
   ]
  },
  {
   "cell_type": "markdown",
   "metadata": {},
   "source": [
    "# Functions"
   ]
  },
  {
   "cell_type": "code",
   "execution_count": 2,
   "metadata": {},
   "outputs": [],
   "source": [
    "def download_data(path, year):\n",
    "    '''This function downloads both the source and staging data'''\n",
    "    # Source Data (R Drive)\n",
    "    files_list = glob.glob(path + f\"/*{year}*\")\n",
    "    df_list = []\n",
    "    for filename in files_list:\n",
    "        df = pd.read_csv(filename, index_col=None, header=0)\n",
    "        df_list.append(df)\n",
    "\n",
    "    # Staging Data (SQL)\n",
    "    conn = pyodbc.connect('Driver={ODBC Driver 17 for SQL Server};'\n",
    "                      'Server=DDAMWSQL16.sandag.org;'\n",
    "                      'Database=dpoe_stage;'\n",
    "                      'Trusted_Connection=yes;')\n",
    "    \n",
    "    query =\"SELECT *\"\\\n",
    "        \"FROM [dpoe_stage].[veh_reg_dmv].[fact]\"\\\n",
    "        f\"WHERE yr = {year};\"\n",
    "\n",
    "    return pd.concat(df_list, axis=0, ignore_index=True), pd.read_sql_query(query, conn)"
   ]
  },
  {
   "cell_type": "code",
   "execution_count": 3,
   "metadata": {},
   "outputs": [],
   "source": [
    "def clean_data(source_data, sql_data):\n",
    "    '''This function cleans the data to make them equivalent'''\n",
    "    sql_data = sql_data.drop('dmv_registration_id', axis=1) #This column doesn't exist in source data\n",
    "    source_data.columns = sql_data.columns #This is making the assumption formatting does not change, if it does, our analysis portion should catch errors\n",
    "    sql_data['own'] = sql_data['own'].str.rstrip(\"\\r\") #Documented in findings \n",
    "    return source_data, sql_data"
   ]
  },
  {
   "cell_type": "code",
   "execution_count": 4,
   "metadata": {},
   "outputs": [],
   "source": [
    "def analyze_data(source_data, sql_data):\n",
    "    '''This function runs the QC test. If this function returns 'True', all tests were passed'''\n",
    "    length_boolean = len(source_data) == len(sql_data) #Checking for identical lengths\n",
    "    personal_owned_boolean = (len(source_data[source_data['own']=='Personal']) == len(sql_data[sql_data['own']=='Personal']))\n",
    "    commercial_owned_boolean = (len(source_data[source_data['own']=='Commercial']) == len(sql_data[sql_data['own']=='Commercial']))\n",
    "    government_owned_boolean = (len(source_data[source_data['own']=='Government']) == len(sql_data[sql_data['own']=='Government']))\n",
    "    identical_shapes_boolean = sql_data.shape == source_data.shape\n",
    "    return (length_boolean and personal_owned_boolean and commercial_owned_boolean and government_owned_boolean and identical_shapes_boolean)"
   ]
  },
  {
   "cell_type": "code",
   "execution_count": 5,
   "metadata": {},
   "outputs": [],
   "source": [
    "# This is the code that was used to calculate a month check. The check has now slightly changed and this can be disregarded\n",
    "\n",
    "\n",
    "# def month_check(df, year, source_or_sql):\n",
    "#     if source_or_sql == 'source':\n",
    "#         df = df[df['reg_date'] > int(f\"{int(year)-2000}0000\")]\n",
    "#         df['reg_date'] = pd.to_datetime(df['reg_date'], format='%y%m%d')\n",
    "#     else:\n",
    "#         df['reg_date'] = pd.to_datetime(df['reg_date'], format='%Y-%m-%d')\n",
    "#         df = sql_data[sql_data['reg_date'] >= f'{year}-01-01']\n",
    "#     output = True\n",
    "#     for month in range(1,13):\n",
    "#         length_of_df = len(df.loc[df['reg_date'].dt.month == month])\n",
    "#         if length_of_df == 0:\n",
    "#             print(month)\n",
    "#             output = False\n",
    "#             break\n",
    "#     return output"
   ]
  },
  {
   "cell_type": "markdown",
   "metadata": {},
   "source": [
    "# Initialize Data:"
   ]
  },
  {
   "cell_type": "code",
   "execution_count": 6,
   "metadata": {},
   "outputs": [],
   "source": [
    "all_years = [str(x) for x in range(2010,2021)]\n",
    "path = r'R:/DPOE/Vehicle Registration/DMV/Restricted/Source_2020/2010-2020'\n",
    "results = pd.DataFrame(index=all_years, columns=['Status'])"
   ]
  },
  {
   "cell_type": "markdown",
   "metadata": {},
   "source": [
    "# Run Code"
   ]
  },
  {
   "cell_type": "code",
   "execution_count": 7,
   "metadata": {},
   "outputs": [
    {
     "name": "stderr",
     "output_type": "stream",
     "text": [
      "c:\\Users\\cra\\Anaconda3\\lib\\site-packages\\pandas\\io\\sql.py:761: UserWarning: pandas only support SQLAlchemy connectable(engine/connection) ordatabase string URI or sqlite3 DBAPI2 connectionother DBAPI2 objects are not tested, please consider using SQLAlchemy\n",
      "  warnings.warn(\n",
      "c:\\Users\\cra\\Anaconda3\\lib\\site-packages\\pandas\\io\\sql.py:761: UserWarning: pandas only support SQLAlchemy connectable(engine/connection) ordatabase string URI or sqlite3 DBAPI2 connectionother DBAPI2 objects are not tested, please consider using SQLAlchemy\n",
      "  warnings.warn(\n",
      "c:\\Users\\cra\\Anaconda3\\lib\\site-packages\\pandas\\io\\sql.py:761: UserWarning: pandas only support SQLAlchemy connectable(engine/connection) ordatabase string URI or sqlite3 DBAPI2 connectionother DBAPI2 objects are not tested, please consider using SQLAlchemy\n",
      "  warnings.warn(\n",
      "c:\\Users\\cra\\Anaconda3\\lib\\site-packages\\pandas\\io\\sql.py:761: UserWarning: pandas only support SQLAlchemy connectable(engine/connection) ordatabase string URI or sqlite3 DBAPI2 connectionother DBAPI2 objects are not tested, please consider using SQLAlchemy\n",
      "  warnings.warn(\n",
      "c:\\Users\\cra\\Anaconda3\\lib\\site-packages\\pandas\\io\\sql.py:761: UserWarning: pandas only support SQLAlchemy connectable(engine/connection) ordatabase string URI or sqlite3 DBAPI2 connectionother DBAPI2 objects are not tested, please consider using SQLAlchemy\n",
      "  warnings.warn(\n",
      "c:\\Users\\cra\\Anaconda3\\lib\\site-packages\\pandas\\io\\sql.py:761: UserWarning: pandas only support SQLAlchemy connectable(engine/connection) ordatabase string URI or sqlite3 DBAPI2 connectionother DBAPI2 objects are not tested, please consider using SQLAlchemy\n",
      "  warnings.warn(\n",
      "c:\\Users\\cra\\Anaconda3\\lib\\site-packages\\pandas\\io\\sql.py:761: UserWarning: pandas only support SQLAlchemy connectable(engine/connection) ordatabase string URI or sqlite3 DBAPI2 connectionother DBAPI2 objects are not tested, please consider using SQLAlchemy\n",
      "  warnings.warn(\n",
      "c:\\Users\\cra\\Anaconda3\\lib\\site-packages\\pandas\\io\\sql.py:761: UserWarning: pandas only support SQLAlchemy connectable(engine/connection) ordatabase string URI or sqlite3 DBAPI2 connectionother DBAPI2 objects are not tested, please consider using SQLAlchemy\n",
      "  warnings.warn(\n",
      "c:\\Users\\cra\\Anaconda3\\lib\\site-packages\\pandas\\io\\sql.py:761: UserWarning: pandas only support SQLAlchemy connectable(engine/connection) ordatabase string URI or sqlite3 DBAPI2 connectionother DBAPI2 objects are not tested, please consider using SQLAlchemy\n",
      "  warnings.warn(\n",
      "c:\\Users\\cra\\Anaconda3\\lib\\site-packages\\pandas\\io\\sql.py:761: UserWarning: pandas only support SQLAlchemy connectable(engine/connection) ordatabase string URI or sqlite3 DBAPI2 connectionother DBAPI2 objects are not tested, please consider using SQLAlchemy\n",
      "  warnings.warn(\n",
      "c:\\Users\\cra\\Anaconda3\\lib\\site-packages\\pandas\\io\\sql.py:761: UserWarning: pandas only support SQLAlchemy connectable(engine/connection) ordatabase string URI or sqlite3 DBAPI2 connectionother DBAPI2 objects are not tested, please consider using SQLAlchemy\n",
      "  warnings.warn(\n"
     ]
    },
    {
     "data": {
      "text/html": [
       "<div>\n",
       "<style scoped>\n",
       "    .dataframe tbody tr th:only-of-type {\n",
       "        vertical-align: middle;\n",
       "    }\n",
       "\n",
       "    .dataframe tbody tr th {\n",
       "        vertical-align: top;\n",
       "    }\n",
       "\n",
       "    .dataframe thead th {\n",
       "        text-align: right;\n",
       "    }\n",
       "</style>\n",
       "<table border=\"1\" class=\"dataframe\">\n",
       "  <thead>\n",
       "    <tr style=\"text-align: right;\">\n",
       "      <th></th>\n",
       "      <th>Status</th>\n",
       "    </tr>\n",
       "  </thead>\n",
       "  <tbody>\n",
       "    <tr>\n",
       "      <th>2010</th>\n",
       "      <td>Pass</td>\n",
       "    </tr>\n",
       "    <tr>\n",
       "      <th>2011</th>\n",
       "      <td>Pass</td>\n",
       "    </tr>\n",
       "    <tr>\n",
       "      <th>2012</th>\n",
       "      <td>Pass</td>\n",
       "    </tr>\n",
       "    <tr>\n",
       "      <th>2013</th>\n",
       "      <td>Pass</td>\n",
       "    </tr>\n",
       "    <tr>\n",
       "      <th>2014</th>\n",
       "      <td>Pass</td>\n",
       "    </tr>\n",
       "    <tr>\n",
       "      <th>2015</th>\n",
       "      <td>Pass</td>\n",
       "    </tr>\n",
       "    <tr>\n",
       "      <th>2016</th>\n",
       "      <td>Pass</td>\n",
       "    </tr>\n",
       "    <tr>\n",
       "      <th>2017</th>\n",
       "      <td>Pass</td>\n",
       "    </tr>\n",
       "    <tr>\n",
       "      <th>2018</th>\n",
       "      <td>Pass</td>\n",
       "    </tr>\n",
       "    <tr>\n",
       "      <th>2019</th>\n",
       "      <td>Pass</td>\n",
       "    </tr>\n",
       "    <tr>\n",
       "      <th>2020</th>\n",
       "      <td>Pass</td>\n",
       "    </tr>\n",
       "  </tbody>\n",
       "</table>\n",
       "</div>"
      ],
      "text/plain": [
       "     Status\n",
       "2010   Pass\n",
       "2011   Pass\n",
       "2012   Pass\n",
       "2013   Pass\n",
       "2014   Pass\n",
       "2015   Pass\n",
       "2016   Pass\n",
       "2017   Pass\n",
       "2018   Pass\n",
       "2019   Pass\n",
       "2020   Pass"
      ]
     },
     "execution_count": 7,
     "metadata": {},
     "output_type": "execute_result"
    }
   ],
   "source": [
    "for year in all_years:\n",
    "    source_data, sql_data = download_data(path, year)\n",
    "    source_data, sql_data = clean_data(source_data, sql_data)\n",
    "    if analyze_data(source_data, sql_data):\n",
    "        results['Status'][f\"{year}\"] = 'Pass'\n",
    "    else: \n",
    "        results['Status'][f\"{year}\"] = 'Fail'\n",
    "    #print(results) # Uncomment if you would like status updates throughout\n",
    "    del source_data, sql_data #Clear Outputs From Memory to make space\n",
    "\n",
    "results"
   ]
  }
 ],
 "metadata": {
  "interpreter": {
   "hash": "6db16e9940ad839c1e288012a4d7b04c8c55c67646ae73b178066b197eb654ea"
  },
  "kernelspec": {
   "display_name": "Python 3.8.8 ('base')",
   "language": "python",
   "name": "python3"
  },
  "language_info": {
   "codemirror_mode": {
    "name": "ipython",
    "version": 3
   },
   "file_extension": ".py",
   "mimetype": "text/x-python",
   "name": "python",
   "nbconvert_exporter": "python",
   "pygments_lexer": "ipython3",
   "version": "3.8.8"
  },
  "orig_nbformat": 4
 },
 "nbformat": 4,
 "nbformat_minor": 2
}
