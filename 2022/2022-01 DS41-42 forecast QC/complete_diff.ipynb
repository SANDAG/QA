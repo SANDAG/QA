{
 "cells": [
  {
   "cell_type": "code",
   "execution_count": 1,
   "metadata": {},
   "outputs": [],
   "source": [
    "# Import Libraries\n",
    "import pandas as pd\n",
    "import numpy as np\n",
    "import yaml\n",
    "import matplotlib.pyplot as plt\n",
    "import seaborn as sns\n",
    "#Libraries \n",
    "import pandas as pd\n",
    "import numpy as np\n",
    "import matplotlib.pyplot as plt\n",
    "import os\n",
    "import seaborn as sns\n",
    "from matplotlib.pyplot import figure\n",
    "import pyodbc \n",
    "import glob"
   ]
  },
  {
   "cell_type": "code",
   "execution_count": 2,
   "metadata": {},
   "outputs": [],
   "source": [
    "config_filename = 'C:/Users/cra/OneDrive - San Diego Association of Governments/DS41_42/ds41_42_config.yml'"
   ]
  },
  {
   "cell_type": "code",
   "execution_count": 3,
   "metadata": {},
   "outputs": [],
   "source": [
    "with open(config_filename, \"r\") as yml_file:\n",
    "    config = yaml.safe_load(yml_file)"
   ]
  },
  {
   "cell_type": "code",
   "execution_count": 4,
   "metadata": {},
   "outputs": [],
   "source": [
    "DS41_datafiles = ['DS41_2016', 'DS41_2018', 'DS41_2020', 'DS41_2023', 'DS41_2025', 'DS41_2026', 'DS41_2029', 'DS41_2030', 'DS41_2032', 'DS41_2035', 'DS41_2040', 'DS41_2045', 'DS41_2050']"
   ]
  },
  {
   "cell_type": "code",
   "execution_count": 5,
   "metadata": {},
   "outputs": [],
   "source": [
    "ds41_datafiles = ['DS41_2016', 'DS41_2018', 'DS41_2020', 'DS41_2023', 'DS41_2025', 'DS41_2026', 'DS41_2029', 'DS41_2030', 'DS41_2032', 'DS41_2035', 'DS41_2040', 'DS41_2045', 'DS41_2050']"
   ]
  },
  {
   "cell_type": "code",
   "execution_count": 6,
   "metadata": {},
   "outputs": [],
   "source": [
    "ds38_datafiles = ['DS38_2016', 'DS38_2018', 'DS38_2020', 'DS38_2023', 'DS38_2025', 'DS38_2026', 'DS38_2029', 'DS38_2030', 'DS38_2032', 'DS38_2035', 'DS38_2040', 'DS38_2045', 'DS38_2050']"
   ]
  },
  {
   "cell_type": "code",
   "execution_count": 7,
   "metadata": {},
   "outputs": [],
   "source": [
    "ds42_datafiles = ['DS42_2016', 'DS42_2018', 'DS42_2020', 'DS42_2023', 'DS42_2025', 'DS42_2026', 'DS42_2029', 'DS42_2030', 'DS42_2032', 'DS42_2035', 'DS42_2040', 'DS42_2045', 'DS42_2050']"
   ]
  },
  {
   "cell_type": "markdown",
   "metadata": {},
   "source": [
    "# Downloading the data"
   ]
  },
  {
   "cell_type": "code",
   "execution_count": 8,
   "metadata": {},
   "outputs": [],
   "source": [
    "# # DS38\n",
    "# DS38_Data = pd.DataFrame()\n",
    "# for file_name in ds38_datafiles:\n",
    "#     working_df = pd.read_csv(config['DS38'][file_name])\n",
    "#     working_df['year'] = f\"{file_name[-4:]}\"\n",
    "#     DS38_Data = DS38_Data.append(working_df)"
   ]
  },
  {
   "cell_type": "code",
   "execution_count": 9,
   "metadata": {},
   "outputs": [],
   "source": [
    "# DS38_Data.shape"
   ]
  },
  {
   "cell_type": "code",
   "execution_count": 10,
   "metadata": {},
   "outputs": [],
   "source": [
    "# DS41\n",
    "DS41_Data = pd.DataFrame()\n",
    "for file_name in DS41_datafiles:\n",
    "    working_df = pd.read_csv(config['DS41'][file_name])\n",
    "    working_df['year'] = f\"{file_name[-4:]}\"\n",
    "    DS41_Data = DS41_Data.append(working_df)"
   ]
  },
  {
   "cell_type": "code",
   "execution_count": 11,
   "metadata": {},
   "outputs": [
    {
     "data": {
      "text/plain": [
       "(299026, 105)"
      ]
     },
     "execution_count": 11,
     "metadata": {},
     "output_type": "execute_result"
    }
   ],
   "source": [
    "DS41_Data.shape"
   ]
  },
  {
   "cell_type": "code",
   "execution_count": 23,
   "metadata": {},
   "outputs": [
    {
     "data": {
      "text/plain": [
       "0        3.2781\n",
       "1        3.5140\n",
       "2        3.7263\n",
       "3        4.1160\n",
       "4        4.0452\n",
       "          ...  \n",
       "22997    2.3604\n",
       "22998    2.0801\n",
       "22999    2.3331\n",
       "23000    2.9670\n",
       "23001    2.7047\n",
       "Name: duden, Length: 299026, dtype: float64"
      ]
     },
     "execution_count": 23,
     "metadata": {},
     "output_type": "execute_result"
    }
   ],
   "source": [
    "DS41_Data['duden']"
   ]
  },
  {
   "cell_type": "code",
   "execution_count": 12,
   "metadata": {},
   "outputs": [],
   "source": [
    "# DS42\n",
    "DS42_Data = pd.DataFrame()\n",
    "for file_name in ds42_datafiles:\n",
    "    working_df = pd.read_csv(config['DS42'][file_name])\n",
    "    working_df['year'] = f\"{file_name[-4:]}\"\n",
    "    DS42_Data = DS42_Data.append(working_df)"
   ]
  },
  {
   "cell_type": "code",
   "execution_count": 17,
   "metadata": {},
   "outputs": [
    {
     "data": {
      "text/plain": [
       "(299026, 108)"
      ]
     },
     "execution_count": 17,
     "metadata": {},
     "output_type": "execute_result"
    }
   ],
   "source": [
    "DS42_Data.shape"
   ]
  },
  {
   "cell_type": "code",
   "execution_count": 14,
   "metadata": {},
   "outputs": [],
   "source": [
    "col41 = list(DS41_Data.columns)\n",
    "col42 = list(DS42_Data.columns)"
   ]
  },
  {
   "cell_type": "code",
   "execution_count": 15,
   "metadata": {},
   "outputs": [
    {
     "data": {
      "text/plain": [
       "['remoteAVParking', 'MicroAccessTime', 'refueling_stations']"
      ]
     },
     "execution_count": 15,
     "metadata": {},
     "output_type": "execute_result"
    }
   ],
   "source": [
    "list(set(col42) - set(col41))"
   ]
  },
  {
   "cell_type": "code",
   "execution_count": 18,
   "metadata": {},
   "outputs": [],
   "source": [
    "DS42_Data = DS42_Data.drop(['remoteAVParking', 'MicroAccessTime', 'refueling_stations'], axis=1)"
   ]
  },
  {
   "cell_type": "code",
   "execution_count": 24,
   "metadata": {},
   "outputs": [],
   "source": [
    "# # DS42\n",
    "# DS42_Data = pd.DataFrame()\n",
    "# for file_name in ds42_datafiles:\n",
    "#     working_df = pd.read_csv(config['DS42'][file_name])\n",
    "#     working_df['year'] = f\"{file_name[-4:]}\"\n",
    "#     DS42_Data = DS42_Data.append(working_df)"
   ]
  },
  {
   "cell_type": "code",
   "execution_count": 29,
   "metadata": {},
   "outputs": [
    {
     "data": {
      "text/plain": [
       "(299026, 105)"
      ]
     },
     "execution_count": 29,
     "metadata": {},
     "output_type": "execute_result"
    }
   ],
   "source": [
    "DS41_Data.shape"
   ]
  },
  {
   "cell_type": "code",
   "execution_count": 31,
   "metadata": {},
   "outputs": [
    {
     "data": {
      "text/plain": [
       "0        0.2811\n",
       "1        0.3391\n",
       "2        0.5596\n",
       "3        2.1813\n",
       "4        0.3591\n",
       "          ...  \n",
       "22997    5.2749\n",
       "22998    0.8891\n",
       "22999    0.8737\n",
       "23000    0.1874\n",
       "23001    0.8413\n",
       "Name: empden, Length: 299026, dtype: float64"
      ]
     },
     "execution_count": 31,
     "metadata": {},
     "output_type": "execute_result"
    }
   ],
   "source": [
    "DS41_Data['empden']"
   ]
  },
  {
   "cell_type": "code",
   "execution_count": 30,
   "metadata": {},
   "outputs": [
    {
     "data": {
      "text/plain": [
       "0"
      ]
     },
     "execution_count": 30,
     "metadata": {},
     "output_type": "execute_result"
    }
   ],
   "source": [
    "DS41_Data['empden'].isnull().sum()"
   ]
  },
  {
   "cell_type": "markdown",
   "metadata": {},
   "source": [
    "# Create Diff Tables"
   ]
  },
  {
   "cell_type": "code",
   "execution_count": 19,
   "metadata": {},
   "outputs": [
    {
     "data": {
      "text/html": [
       "<div>\n",
       "<style scoped>\n",
       "    .dataframe tbody tr th:only-of-type {\n",
       "        vertical-align: middle;\n",
       "    }\n",
       "\n",
       "    .dataframe tbody tr th {\n",
       "        vertical-align: top;\n",
       "    }\n",
       "\n",
       "    .dataframe thead th {\n",
       "        text-align: right;\n",
       "    }\n",
       "</style>\n",
       "<table border=\"1\" class=\"dataframe\">\n",
       "  <thead>\n",
       "    <tr style=\"text-align: right;\">\n",
       "      <th></th>\n",
       "      <th>mgra</th>\n",
       "      <th>year</th>\n",
       "      <th>taz</th>\n",
       "      <th>hs</th>\n",
       "      <th>hs_sf</th>\n",
       "      <th>hs_mf</th>\n",
       "      <th>hs_mh</th>\n",
       "      <th>hh</th>\n",
       "      <th>hh_sf</th>\n",
       "      <th>hh_mf</th>\n",
       "      <th>...</th>\n",
       "      <th>midpriceroom</th>\n",
       "      <th>upscaleroom</th>\n",
       "      <th>hotelroomtotal</th>\n",
       "      <th>luz_id</th>\n",
       "      <th>truckregiontype</th>\n",
       "      <th>district27</th>\n",
       "      <th>milestocoast</th>\n",
       "      <th>acres</th>\n",
       "      <th>effective_acres</th>\n",
       "      <th>land_acres</th>\n",
       "    </tr>\n",
       "  </thead>\n",
       "  <tbody>\n",
       "    <tr>\n",
       "      <th>0</th>\n",
       "      <td>1</td>\n",
       "      <td>2016</td>\n",
       "      <td>0</td>\n",
       "      <td>0</td>\n",
       "      <td>0</td>\n",
       "      <td>0</td>\n",
       "      <td>0</td>\n",
       "      <td>0</td>\n",
       "      <td>0</td>\n",
       "      <td>0</td>\n",
       "      <td>...</td>\n",
       "      <td>0</td>\n",
       "      <td>0</td>\n",
       "      <td>0</td>\n",
       "      <td>0</td>\n",
       "      <td>0</td>\n",
       "      <td>0</td>\n",
       "      <td>0.0</td>\n",
       "      <td>0.0</td>\n",
       "      <td>0.0</td>\n",
       "      <td>0.0</td>\n",
       "    </tr>\n",
       "    <tr>\n",
       "      <th>1</th>\n",
       "      <td>2</td>\n",
       "      <td>2016</td>\n",
       "      <td>0</td>\n",
       "      <td>0</td>\n",
       "      <td>0</td>\n",
       "      <td>0</td>\n",
       "      <td>0</td>\n",
       "      <td>0</td>\n",
       "      <td>0</td>\n",
       "      <td>0</td>\n",
       "      <td>...</td>\n",
       "      <td>0</td>\n",
       "      <td>0</td>\n",
       "      <td>0</td>\n",
       "      <td>0</td>\n",
       "      <td>0</td>\n",
       "      <td>0</td>\n",
       "      <td>0.0</td>\n",
       "      <td>0.0</td>\n",
       "      <td>0.0</td>\n",
       "      <td>0.0</td>\n",
       "    </tr>\n",
       "    <tr>\n",
       "      <th>2</th>\n",
       "      <td>3</td>\n",
       "      <td>2016</td>\n",
       "      <td>0</td>\n",
       "      <td>0</td>\n",
       "      <td>0</td>\n",
       "      <td>0</td>\n",
       "      <td>0</td>\n",
       "      <td>0</td>\n",
       "      <td>0</td>\n",
       "      <td>0</td>\n",
       "      <td>...</td>\n",
       "      <td>0</td>\n",
       "      <td>0</td>\n",
       "      <td>0</td>\n",
       "      <td>0</td>\n",
       "      <td>0</td>\n",
       "      <td>0</td>\n",
       "      <td>0.0</td>\n",
       "      <td>0.0</td>\n",
       "      <td>0.0</td>\n",
       "      <td>0.0</td>\n",
       "    </tr>\n",
       "    <tr>\n",
       "      <th>3</th>\n",
       "      <td>4</td>\n",
       "      <td>2016</td>\n",
       "      <td>0</td>\n",
       "      <td>0</td>\n",
       "      <td>0</td>\n",
       "      <td>0</td>\n",
       "      <td>0</td>\n",
       "      <td>0</td>\n",
       "      <td>0</td>\n",
       "      <td>0</td>\n",
       "      <td>...</td>\n",
       "      <td>0</td>\n",
       "      <td>0</td>\n",
       "      <td>0</td>\n",
       "      <td>0</td>\n",
       "      <td>0</td>\n",
       "      <td>0</td>\n",
       "      <td>0.0</td>\n",
       "      <td>0.0</td>\n",
       "      <td>0.0</td>\n",
       "      <td>0.0</td>\n",
       "    </tr>\n",
       "    <tr>\n",
       "      <th>4</th>\n",
       "      <td>5</td>\n",
       "      <td>2016</td>\n",
       "      <td>0</td>\n",
       "      <td>0</td>\n",
       "      <td>0</td>\n",
       "      <td>0</td>\n",
       "      <td>0</td>\n",
       "      <td>0</td>\n",
       "      <td>0</td>\n",
       "      <td>0</td>\n",
       "      <td>...</td>\n",
       "      <td>0</td>\n",
       "      <td>0</td>\n",
       "      <td>0</td>\n",
       "      <td>0</td>\n",
       "      <td>0</td>\n",
       "      <td>0</td>\n",
       "      <td>0.0</td>\n",
       "      <td>0.0</td>\n",
       "      <td>0.0</td>\n",
       "      <td>0.0</td>\n",
       "    </tr>\n",
       "    <tr>\n",
       "      <th>...</th>\n",
       "      <td>...</td>\n",
       "      <td>...</td>\n",
       "      <td>...</td>\n",
       "      <td>...</td>\n",
       "      <td>...</td>\n",
       "      <td>...</td>\n",
       "      <td>...</td>\n",
       "      <td>...</td>\n",
       "      <td>...</td>\n",
       "      <td>...</td>\n",
       "      <td>...</td>\n",
       "      <td>...</td>\n",
       "      <td>...</td>\n",
       "      <td>...</td>\n",
       "      <td>...</td>\n",
       "      <td>...</td>\n",
       "      <td>...</td>\n",
       "      <td>...</td>\n",
       "      <td>...</td>\n",
       "      <td>...</td>\n",
       "      <td>...</td>\n",
       "    </tr>\n",
       "    <tr>\n",
       "      <th>299021</th>\n",
       "      <td>22998</td>\n",
       "      <td>2050</td>\n",
       "      <td>0</td>\n",
       "      <td>-2</td>\n",
       "      <td>-2</td>\n",
       "      <td>0</td>\n",
       "      <td>0</td>\n",
       "      <td>0</td>\n",
       "      <td>0</td>\n",
       "      <td>0</td>\n",
       "      <td>...</td>\n",
       "      <td>0</td>\n",
       "      <td>0</td>\n",
       "      <td>0</td>\n",
       "      <td>0</td>\n",
       "      <td>0</td>\n",
       "      <td>0</td>\n",
       "      <td>0.0</td>\n",
       "      <td>0.0</td>\n",
       "      <td>0.0</td>\n",
       "      <td>0.0</td>\n",
       "    </tr>\n",
       "    <tr>\n",
       "      <th>299022</th>\n",
       "      <td>22999</td>\n",
       "      <td>2050</td>\n",
       "      <td>0</td>\n",
       "      <td>0</td>\n",
       "      <td>0</td>\n",
       "      <td>0</td>\n",
       "      <td>0</td>\n",
       "      <td>0</td>\n",
       "      <td>0</td>\n",
       "      <td>0</td>\n",
       "      <td>...</td>\n",
       "      <td>0</td>\n",
       "      <td>0</td>\n",
       "      <td>0</td>\n",
       "      <td>0</td>\n",
       "      <td>0</td>\n",
       "      <td>0</td>\n",
       "      <td>0.0</td>\n",
       "      <td>0.0</td>\n",
       "      <td>0.0</td>\n",
       "      <td>0.0</td>\n",
       "    </tr>\n",
       "    <tr>\n",
       "      <th>299023</th>\n",
       "      <td>23000</td>\n",
       "      <td>2050</td>\n",
       "      <td>0</td>\n",
       "      <td>0</td>\n",
       "      <td>0</td>\n",
       "      <td>0</td>\n",
       "      <td>0</td>\n",
       "      <td>0</td>\n",
       "      <td>0</td>\n",
       "      <td>0</td>\n",
       "      <td>...</td>\n",
       "      <td>0</td>\n",
       "      <td>0</td>\n",
       "      <td>0</td>\n",
       "      <td>0</td>\n",
       "      <td>0</td>\n",
       "      <td>0</td>\n",
       "      <td>0.0</td>\n",
       "      <td>0.0</td>\n",
       "      <td>0.0</td>\n",
       "      <td>0.0</td>\n",
       "    </tr>\n",
       "    <tr>\n",
       "      <th>299024</th>\n",
       "      <td>23001</td>\n",
       "      <td>2050</td>\n",
       "      <td>0</td>\n",
       "      <td>-2</td>\n",
       "      <td>-2</td>\n",
       "      <td>0</td>\n",
       "      <td>0</td>\n",
       "      <td>0</td>\n",
       "      <td>0</td>\n",
       "      <td>0</td>\n",
       "      <td>...</td>\n",
       "      <td>0</td>\n",
       "      <td>0</td>\n",
       "      <td>0</td>\n",
       "      <td>0</td>\n",
       "      <td>0</td>\n",
       "      <td>0</td>\n",
       "      <td>0.0</td>\n",
       "      <td>0.0</td>\n",
       "      <td>0.0</td>\n",
       "      <td>0.0</td>\n",
       "    </tr>\n",
       "    <tr>\n",
       "      <th>299025</th>\n",
       "      <td>23002</td>\n",
       "      <td>2050</td>\n",
       "      <td>0</td>\n",
       "      <td>-120</td>\n",
       "      <td>-20</td>\n",
       "      <td>-100</td>\n",
       "      <td>0</td>\n",
       "      <td>-110</td>\n",
       "      <td>-20</td>\n",
       "      <td>-90</td>\n",
       "      <td>...</td>\n",
       "      <td>0</td>\n",
       "      <td>0</td>\n",
       "      <td>0</td>\n",
       "      <td>0</td>\n",
       "      <td>0</td>\n",
       "      <td>0</td>\n",
       "      <td>0.0</td>\n",
       "      <td>0.0</td>\n",
       "      <td>0.0</td>\n",
       "      <td>0.0</td>\n",
       "    </tr>\n",
       "  </tbody>\n",
       "</table>\n",
       "<p>299026 rows × 105 columns</p>\n",
       "</div>"
      ],
      "text/plain": [
       "         mgra  year  taz   hs  hs_sf  hs_mf  hs_mh   hh  hh_sf  hh_mf  ...  \\\n",
       "0           1  2016    0    0      0      0      0    0      0      0  ...   \n",
       "1           2  2016    0    0      0      0      0    0      0      0  ...   \n",
       "2           3  2016    0    0      0      0      0    0      0      0  ...   \n",
       "3           4  2016    0    0      0      0      0    0      0      0  ...   \n",
       "4           5  2016    0    0      0      0      0    0      0      0  ...   \n",
       "...       ...   ...  ...  ...    ...    ...    ...  ...    ...    ...  ...   \n",
       "299021  22998  2050    0   -2     -2      0      0    0      0      0  ...   \n",
       "299022  22999  2050    0    0      0      0      0    0      0      0  ...   \n",
       "299023  23000  2050    0    0      0      0      0    0      0      0  ...   \n",
       "299024  23001  2050    0   -2     -2      0      0    0      0      0  ...   \n",
       "299025  23002  2050    0 -120    -20   -100      0 -110    -20    -90  ...   \n",
       "\n",
       "        midpriceroom  upscaleroom  hotelroomtotal  luz_id  truckregiontype  \\\n",
       "0                  0            0               0       0                0   \n",
       "1                  0            0               0       0                0   \n",
       "2                  0            0               0       0                0   \n",
       "3                  0            0               0       0                0   \n",
       "4                  0            0               0       0                0   \n",
       "...              ...          ...             ...     ...              ...   \n",
       "299021             0            0               0       0                0   \n",
       "299022             0            0               0       0                0   \n",
       "299023             0            0               0       0                0   \n",
       "299024             0            0               0       0                0   \n",
       "299025             0            0               0       0                0   \n",
       "\n",
       "        district27  milestocoast  acres  effective_acres  land_acres  \n",
       "0                0           0.0    0.0              0.0         0.0  \n",
       "1                0           0.0    0.0              0.0         0.0  \n",
       "2                0           0.0    0.0              0.0         0.0  \n",
       "3                0           0.0    0.0              0.0         0.0  \n",
       "4                0           0.0    0.0              0.0         0.0  \n",
       "...            ...           ...    ...              ...         ...  \n",
       "299021           0           0.0    0.0              0.0         0.0  \n",
       "299022           0           0.0    0.0              0.0         0.0  \n",
       "299023           0           0.0    0.0              0.0         0.0  \n",
       "299024           0           0.0    0.0              0.0         0.0  \n",
       "299025           0           0.0    0.0              0.0         0.0  \n",
       "\n",
       "[299026 rows x 105 columns]"
      ]
     },
     "execution_count": 19,
     "metadata": {},
     "output_type": "execute_result"
    }
   ],
   "source": [
    "diff_4241 = (DS42_Data.set_index(['mgra', 'year'])- DS41_Data.set_index(['mgra', 'year'])).reset_index()\n",
    "diff_4241"
   ]
  },
  {
   "cell_type": "code",
   "execution_count": 27,
   "metadata": {},
   "outputs": [],
   "source": [
    "# diff_4238 = (DS42_Data.set_index(['mgra', 'year'])- DS38_Data.set_index(['mgra', 'year'])).reset_index()\n",
    "# diff_4238"
   ]
  },
  {
   "cell_type": "code",
   "execution_count": 21,
   "metadata": {},
   "outputs": [
    {
     "data": {
      "text/plain": [
       "0        NaN\n",
       "1        NaN\n",
       "2        NaN\n",
       "3        NaN\n",
       "4        NaN\n",
       "          ..\n",
       "299021   NaN\n",
       "299022   NaN\n",
       "299023   NaN\n",
       "299024   NaN\n",
       "299025   NaN\n",
       "Name: duden, Length: 299026, dtype: float64"
      ]
     },
     "execution_count": 21,
     "metadata": {},
     "output_type": "execute_result"
    }
   ],
   "source": [
    "diff_4241['duden']"
   ]
  },
  {
   "cell_type": "markdown",
   "metadata": {},
   "source": [
    "# Output to CSV"
   ]
  },
  {
   "cell_type": "code",
   "execution_count": 20,
   "metadata": {},
   "outputs": [],
   "source": [
    "diff_4241.to_csv(r'C:/Users/cra/OneDrive - San Diego Association of Governments/DS41_42/diff_4241.csv', index = True)"
   ]
  },
  {
   "cell_type": "code",
   "execution_count": 29,
   "metadata": {},
   "outputs": [],
   "source": [
    "# diff_4238.to_csv(r'C:/Users/cra/OneDrive - San Diego Association of Governments/DS41_42/DS4238_v2_results/New_DS4238_complete_diff.csv', index = True)"
   ]
  }
 ],
 "metadata": {
  "interpreter": {
   "hash": "d60123f2ed8b63279fba5ddbefdeca593323e286d3975f7130d49323a9310301"
  },
  "kernelspec": {
   "display_name": "Python 3.8.8 64-bit ('base': conda)",
   "language": "python",
   "name": "python3"
  },
  "language_info": {
   "codemirror_mode": {
    "name": "ipython",
    "version": 3
   },
   "file_extension": ".py",
   "mimetype": "text/x-python",
   "name": "python",
   "nbconvert_exporter": "python",
   "pygments_lexer": "ipython3",
   "version": "3.8.8"
  },
  "orig_nbformat": 4
 },
 "nbformat": 4,
 "nbformat_minor": 2
}
