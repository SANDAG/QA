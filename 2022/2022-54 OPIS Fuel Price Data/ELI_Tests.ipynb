{
 "cells": [
  {
   "cell_type": "markdown",
   "metadata": {},
   "source": [
    "# 2022-54 OPIS Fuel Price Data"
   ]
  },
  {
   "cell_type": "markdown",
   "metadata": {},
   "source": [
    "Test Plan: https://sandag.sharepoint.com/qaqc/_layouts/15/Doc.aspx?sourcedoc={c0fd7f23-7faa-4f2e-b7fb-79e477e131a6}&action=edit&wd=target%282022-41.one%7C5c70225e-b636-4090-a946-7545acf4abc3%2FTest%20Plan%7C683def87-dc70-4863-8cad-59d9ef21bd00%2F%29"
   ]
  },
  {
   "cell_type": "code",
   "execution_count": 1,
   "metadata": {},
   "outputs": [],
   "source": [
    "# Note, this notebook will be opening Excel spreadsheets, which means that pandas requires openpyxl \n",
    "# This can be installed in your environment using \"pip install openpyxl\"\n",
    "import pandas as pd\n",
    "import sqlalchemy as sql\n",
    "\n",
    "from pathlib import Path\n",
    "\n",
    "ddam = sql.create_engine('mssql+pymssql://DDAMWSQL16/dpoe_stage')"
   ]
  },
  {
   "cell_type": "markdown",
   "metadata": {},
   "source": [
    "## Download Data"
   ]
  },
  {
   "cell_type": "code",
   "execution_count": 2,
   "metadata": {},
   "outputs": [
    {
     "name": "stdout",
     "output_type": "stream",
     "text": [
      "C:\\Users\\eli\\San Diego Association of Governments\\SANDAG QA QC - Documents\\Service Requests\\2022\\2022-54 OPIS Fuel Price Data QC\\data\\San Diego County Retail Margin History.csv\n",
      "C:\\Users\\eli\\San Diego Association of Governments\\SANDAG QA QC - Documents\\Service Requests\\2022\\2022-54 OPIS Fuel Price Data QC\\data\\OPIS_FUEL_010105to123113.xlsx\n",
      "C:\\Users\\eli\\San Diego Association of Governments\\SANDAG QA QC - Documents\\Service Requests\\2022\\2022-54 OPIS Fuel Price Data QC\\data\\San Diego County Monthly Jan 2018-May 2019.xlsx\n",
      "C:\\Users\\eli\\San Diego Association of Governments\\SANDAG QA QC - Documents\\Service Requests\\2022\\2022-54 OPIS Fuel Price Data QC\\data\\SDAG_OPIS retail margin history_020618.xlsx\n"
     ]
    }
   ],
   "source": [
    "def download_raw_data(user):\n",
    "    \"\"\"\n",
    "    Download the four raw data files. Note that copies of these files were put into SharePoint.\n",
    "    Also note that the file \"San Diego County Retail Margin History.csv\" is not actually formatted\n",
    "    as a csv file, so additional processing was done\n",
    "\n",
    "    :param user:    The user downloading the data from SharePoint. This is mostly here so that it\n",
    "                    is easy for anyone to run the code\n",
    "    :returns:       Tuple containing four dataframes. In order, data contained comes from the file:\n",
    "                    \"San Diego County Retail Margin History.csv\"\n",
    "                    \"OPIS_FUEL_010105to123113.xlsx\" \n",
    "                    \"San Diego County Monthly Jan 2018-May 2019.xlsx\"\n",
    "                    \"SDAG_OPIS retail margin history_020618.xlsx\"\n",
    "    \"\"\"\n",
    "    # The folder where raw data is stored\n",
    "    base_url = Path(f\"C:/Users/{user}/San Diego Association of Governments/SANDAG QA QC - Documents/Service Requests/2022/2022-54 OPIS Fuel Price Data QC/data/\")\n",
    "\n",
    "    # The four raw data files we are getting\n",
    "    raw_files = [\n",
    "        Path(\"San Diego County Retail Margin History.csv\"),\n",
    "        Path(\"OPIS_FUEL_010105to123113.xlsx\"),\n",
    "        Path(\"San Diego County Monthly Jan 2018-May 2019.xlsx\"),\n",
    "        Path(\"SDAG_OPIS retail margin history_020618.xlsx\")\n",
    "    ]\n",
    "\n",
    "    # Get the four raw data files\n",
    "    # Note the different behaviors depending on file extension\n",
    "    raw_data = []\n",
    "    for file in raw_files:\n",
    "        if(file.suffix == \".csv\"):\n",
    "            raw_data.append(pd.read_csv(base_url / file))\n",
    "        elif(file.suffix == \".xlsx\"):\n",
    "            raw_data.append(pd.read_excel(base_url / file))\n",
    "\n",
    "    return tuple(raw_data)\n",
    "\n",
    "a, b, c, d = download_raw_data(\"eli\")"
   ]
  },
  {
   "cell_type": "code",
   "execution_count": 5,
   "metadata": {},
   "outputs": [
    {
     "data": {
      "text/html": [
       "<div>\n",
       "<style scoped>\n",
       "    .dataframe tbody tr th:only-of-type {\n",
       "        vertical-align: middle;\n",
       "    }\n",
       "\n",
       "    .dataframe tbody tr th {\n",
       "        vertical-align: top;\n",
       "    }\n",
       "\n",
       "    .dataframe thead th {\n",
       "        text-align: right;\n",
       "    }\n",
       "</style>\n",
       "<table border=\"1\" class=\"dataframe\">\n",
       "  <thead>\n",
       "    <tr style=\"text-align: right;\">\n",
       "      <th></th>\n",
       "      <th>Region Name</th>\n",
       "      <th>Product</th>\n",
       "      <th>Start Date</th>\n",
       "      <th>Station Count</th>\n",
       "      <th>Retail Average</th>\n",
       "    </tr>\n",
       "  </thead>\n",
       "  <tbody>\n",
       "    <tr>\n",
       "      <th>0</th>\n",
       "      <td>County - CA, San Diego</td>\n",
       "      <td>UNL</td>\n",
       "      <td>2005-01-01</td>\n",
       "      <td>421</td>\n",
       "      <td>2.003603</td>\n",
       "    </tr>\n",
       "    <tr>\n",
       "      <th>1</th>\n",
       "      <td>County - CA, San Diego</td>\n",
       "      <td>MID</td>\n",
       "      <td>2005-01-01</td>\n",
       "      <td>377</td>\n",
       "      <td>2.124144</td>\n",
       "    </tr>\n",
       "    <tr>\n",
       "      <th>2</th>\n",
       "      <td>County - CA, San Diego</td>\n",
       "      <td>PRE</td>\n",
       "      <td>2005-01-01</td>\n",
       "      <td>283</td>\n",
       "      <td>2.220431</td>\n",
       "    </tr>\n",
       "    <tr>\n",
       "      <th>3</th>\n",
       "      <td>County - CA, San Diego</td>\n",
       "      <td>DSL</td>\n",
       "      <td>2005-01-01</td>\n",
       "      <td>148</td>\n",
       "      <td>2.209344</td>\n",
       "    </tr>\n",
       "    <tr>\n",
       "      <th>4</th>\n",
       "      <td>County - CA, San Diego</td>\n",
       "      <td>UNL</td>\n",
       "      <td>2005-02-01</td>\n",
       "      <td>440</td>\n",
       "      <td>2.147615</td>\n",
       "    </tr>\n",
       "    <tr>\n",
       "      <th>...</th>\n",
       "      <td>...</td>\n",
       "      <td>...</td>\n",
       "      <td>...</td>\n",
       "      <td>...</td>\n",
       "      <td>...</td>\n",
       "    </tr>\n",
       "    <tr>\n",
       "      <th>427</th>\n",
       "      <td>County - CA, San Diego</td>\n",
       "      <td>DSL</td>\n",
       "      <td>2013-11-01</td>\n",
       "      <td>393</td>\n",
       "      <td>4.041660</td>\n",
       "    </tr>\n",
       "    <tr>\n",
       "      <th>428</th>\n",
       "      <td>County - CA, San Diego</td>\n",
       "      <td>UNL</td>\n",
       "      <td>2013-12-01</td>\n",
       "      <td>676</td>\n",
       "      <td>3.643526</td>\n",
       "    </tr>\n",
       "    <tr>\n",
       "      <th>429</th>\n",
       "      <td>County - CA, San Diego</td>\n",
       "      <td>MID</td>\n",
       "      <td>2013-12-01</td>\n",
       "      <td>664</td>\n",
       "      <td>3.736425</td>\n",
       "    </tr>\n",
       "    <tr>\n",
       "      <th>430</th>\n",
       "      <td>County - CA, San Diego</td>\n",
       "      <td>PRE</td>\n",
       "      <td>2013-12-01</td>\n",
       "      <td>664</td>\n",
       "      <td>3.832388</td>\n",
       "    </tr>\n",
       "    <tr>\n",
       "      <th>431</th>\n",
       "      <td>County - CA, San Diego</td>\n",
       "      <td>DSL</td>\n",
       "      <td>2013-12-01</td>\n",
       "      <td>400</td>\n",
       "      <td>4.079952</td>\n",
       "    </tr>\n",
       "  </tbody>\n",
       "</table>\n",
       "<p>432 rows × 5 columns</p>\n",
       "</div>"
      ],
      "text/plain": [
       "                Region Name Product Start Date  Station Count  Retail Average\n",
       "0    County - CA, San Diego     UNL 2005-01-01            421        2.003603\n",
       "1    County - CA, San Diego     MID 2005-01-01            377        2.124144\n",
       "2    County - CA, San Diego     PRE 2005-01-01            283        2.220431\n",
       "3    County - CA, San Diego     DSL 2005-01-01            148        2.209344\n",
       "4    County - CA, San Diego     UNL 2005-02-01            440        2.147615\n",
       "..                      ...     ...        ...            ...             ...\n",
       "427  County - CA, San Diego     DSL 2013-11-01            393        4.041660\n",
       "428  County - CA, San Diego     UNL 2013-12-01            676        3.643526\n",
       "429  County - CA, San Diego     MID 2013-12-01            664        3.736425\n",
       "430  County - CA, San Diego     PRE 2013-12-01            664        3.832388\n",
       "431  County - CA, San Diego     DSL 2013-12-01            400        4.079952\n",
       "\n",
       "[432 rows x 5 columns]"
      ]
     },
     "execution_count": 5,
     "metadata": {},
     "output_type": "execute_result"
    }
   ],
   "source": [
    "b"
   ]
  },
  {
   "cell_type": "code",
   "execution_count": 3,
   "metadata": {},
   "outputs": [],
   "source": [
    "def download_SQL_dat(user):\n",
    "    \"\"\"\n",
    "    Download the two SQL tables\n",
    "\n",
    "    :param user:    TODO\n",
    "    :returns:       Tuple containing two dataframes. In order, data contained comes from the SQL \n",
    "                    tables:\n",
    "                    [dpoe_stage].[fuel_price_opis].[price_fact] \n",
    "                    [dpoe_stage].[fuel_price_opis].[date_dim]\n",
    "    \"\"\"\n",
    "    pass"
   ]
  },
  {
   "cell_type": "markdown",
   "metadata": {},
   "source": [
    "## Test Functions"
   ]
  },
  {
   "cell_type": "markdown",
   "metadata": {},
   "source": [
    "## Running Tests"
   ]
  }
 ],
 "metadata": {
  "kernelspec": {
   "display_name": "Python 3.9.12 ('SANDAG')",
   "language": "python",
   "name": "python3"
  },
  "language_info": {
   "codemirror_mode": {
    "name": "ipython",
    "version": 3
   },
   "file_extension": ".py",
   "mimetype": "text/x-python",
   "name": "python",
   "nbconvert_exporter": "python",
   "pygments_lexer": "ipython3",
   "version": "3.9.12"
  },
  "orig_nbformat": 4,
  "vscode": {
   "interpreter": {
    "hash": "41c20cbfa603768ded13150453b5681e701a59febb16590ec3ab380b595ec114"
   }
  }
 },
 "nbformat": 4,
 "nbformat_minor": 2
}
