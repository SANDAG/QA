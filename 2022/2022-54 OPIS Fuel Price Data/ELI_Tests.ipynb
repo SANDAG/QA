{
 "cells": [
  {
   "cell_type": "markdown",
   "metadata": {},
   "source": [
    "# 2022-54 OPIS Fuel Price Data"
   ]
  },
  {
   "cell_type": "markdown",
   "metadata": {},
   "source": [
    "Test Plan: https://sandag.sharepoint.com/qaqc/_layouts/15/Doc.aspx?sourcedoc={c0fd7f23-7faa-4f2e-b7fb-79e477e131a6}&action=edit&wd=target%282022-41.one%7C5c70225e-b636-4090-a946-7545acf4abc3%2FTest%20Plan%7C683def87-dc70-4863-8cad-59d9ef21bd00%2F%29"
   ]
  },
  {
   "cell_type": "code",
   "execution_count": 1,
   "metadata": {},
   "outputs": [],
   "source": [
    "import datetime\n",
    "\n",
    "# Note, this notebook will be opening Excel spreadsheets, which means that pandas requires openpyxl \n",
    "# This can be installed in your environment using \"pip install openpyxl\"\n",
    "import pandas as pd\n",
    "import sqlalchemy as sql\n",
    "\n",
    "from pathlib import Path\n",
    "\n",
    "ddam = sql.create_engine('mssql+pymssql://DDAMWSQL16/dpoe_stage')"
   ]
  },
  {
   "cell_type": "markdown",
   "metadata": {},
   "source": [
    "## Download Data"
   ]
  },
  {
   "cell_type": "code",
   "execution_count": 2,
   "metadata": {},
   "outputs": [],
   "source": [
    "def download_raw_data(user):\n",
    "    \"\"\"\n",
    "    Download the four raw data files. Note that copies of these files were put into SharePoint.\n",
    "    Also note that the file \"San Diego County Retail Margin History.csv\" is not actually formatted\n",
    "    as a csv file in the sense that the delimiter is \"|\" instead of \",\"\n",
    "\n",
    "    :param user:    The user downloading the data from SharePoint. This is mostly here so that it\n",
    "                    is easy for anyone to run the code\n",
    "    :returns:       Tuple containing four dataframes. In order, data contained comes from the file:\n",
    "                    \"San Diego County Retail Margin History.csv\"\n",
    "                    \"OPIS_FUEL_010105to123113.xlsx\" \n",
    "                    \"San Diego County Monthly Jan 2018-May 2019.xlsx\"\n",
    "                    \"SDAG_OPIS retail margin history_020618.xlsx\"\n",
    "    \"\"\"\n",
    "    # The folder where raw data is stored\n",
    "    base_url = Path(f\"C:/Users/{user}/San Diego Association of Governments/SANDAG QA QC - Documents/Service Requests/2022/2022-54 OPIS Fuel Price Data QC/data/\")\n",
    "\n",
    "    # The four raw data files we are getting\n",
    "    raw_files = [\n",
    "        Path(\"San Diego County Retail Margin History.csv\"),\n",
    "        Path(\"OPIS_FUEL_010105to123113.xlsx\"),\n",
    "        Path(\"San Diego County Monthly Jan 2018-May 2019.xlsx\"),\n",
    "        Path(\"SDAG_OPIS retail margin history_020618.xlsx\")\n",
    "    ]\n",
    "\n",
    "    # Get the four raw data files\n",
    "    # Note the different behaviors depending on file extension\n",
    "    raw_data = []\n",
    "    for file in raw_files:\n",
    "        if(file.suffix == \".csv\"):\n",
    "            raw_data.append(pd.read_csv(base_url / file, sep=\"|\"))\n",
    "        elif(file.suffix == \".xlsx\"):\n",
    "            raw_data.append(pd.read_excel(base_url / file))\n",
    "\n",
    "    # Return the four raw data files in tuple format\n",
    "    return tuple(raw_data)"
   ]
  },
  {
   "cell_type": "code",
   "execution_count": 3,
   "metadata": {},
   "outputs": [],
   "source": [
    "def download_SQL_data(connection):\n",
    "    \"\"\"\n",
    "    Download the contents of the two SQL tables joined together into one table\n",
    "\n",
    "    :param connection:  sqlalchemy connection to DDAMWSQL16/dpoe_stage \n",
    "    :returns:           One dataframe containing the combined contents of the two tables:\n",
    "                        [dpoe_stage].[fuel_price_opis].[price_fact] \n",
    "                        [dpoe_stage].[fuel_price_opis].[date_dim]\n",
    "    \"\"\"\n",
    "    # The tables are rather small, so there is no issue in just downloading both tables and holding\n",
    "    # them in memory\n",
    "    price_fact = pd.read_sql_query(\"\"\"\n",
    "        SELECT * FROM [dpoe_stage].[fuel_price_opis].[price_fact]\n",
    "        \"\"\", con=connection)\n",
    "    date_dim = pd.read_sql_query(\"\"\"\n",
    "        SELECT * FROM [dpoe_stage].[fuel_price_opis].[date_dim]\n",
    "        \"\"\", con=connection)\n",
    "\n",
    "    # Combine the tables along the \"date_id\" field of price_fact\n",
    "    combined = price_fact.merge(date_dim, on=\"date_id\")\n",
    "\n",
    "    # Make sure the \"date_code\" column is datetime\n",
    "    combined[\"date_code\"] = pd.to_datetime(combined[\"date_code\"]).dt.date\n",
    "\n",
    "    # Return the combined SQL tables (yes I know I could have done it in SQL but I perfer doing it\n",
    "    # in python)\n",
    "    return combined"
   ]
  },
  {
   "cell_type": "markdown",
   "metadata": {},
   "source": [
    "## Test Function(s)"
   ]
  },
  {
   "cell_type": "code",
   "execution_count": 4,
   "metadata": {},
   "outputs": [],
   "source": [
    "def test(raw_df, sql_df):\n",
    "    \"\"\"\n",
    "    Run the tests as specified in the test plan. There should be a link to the test plan at the top\n",
    "    of this notebook. Note, this function does not return any values, rather it will directly print\n",
    "    out test results (and differences if a test fails)\n",
    "\n",
    "    :param raw_df:  The df containing raw data\n",
    "    :param sql_df:  The df containing SQL data. It is assumed that this df is pre-transformed\n",
    "                    outside of this function into the correct format with the correct columns\n",
    "    :returns:       None\n",
    "    \"\"\"\n",
    "    # TODO\n",
    "    return None"
   ]
  },
  {
   "cell_type": "markdown",
   "metadata": {},
   "source": [
    "## Running Tests"
   ]
  },
  {
   "cell_type": "code",
   "execution_count": 5,
   "metadata": {},
   "outputs": [],
   "source": [
    "# Get the raw data and sql data\n",
    "cost_2019_2020, OPIS_2005_2013, cost_2018_2019, OPIS_2014_2017 = download_raw_data(\"eli\")\n",
    "sql_data = download_SQL_data(ddam)"
   ]
  },
  {
   "cell_type": "code",
   "execution_count": 6,
   "metadata": {},
   "outputs": [
    {
     "data": {
      "text/html": [
       "<div>\n",
       "<style scoped>\n",
       "    .dataframe tbody tr th:only-of-type {\n",
       "        vertical-align: middle;\n",
       "    }\n",
       "\n",
       "    .dataframe tbody tr th {\n",
       "        vertical-align: top;\n",
       "    }\n",
       "\n",
       "    .dataframe thead th {\n",
       "        text-align: right;\n",
       "    }\n",
       "</style>\n",
       "<table border=\"1\" class=\"dataframe\">\n",
       "  <thead>\n",
       "    <tr style=\"text-align: right;\">\n",
       "      <th></th>\n",
       "      <th>opis_id</th>\n",
       "      <th>region</th>\n",
       "      <th>date_id</th>\n",
       "      <th>product</th>\n",
       "      <th>station_count</th>\n",
       "      <th>retail_avg</th>\n",
       "      <th>wholesale_avg</th>\n",
       "      <th>tax_avg</th>\n",
       "      <th>freight_avg</th>\n",
       "      <th>margin_avg</th>\n",
       "      <th>net_avg</th>\n",
       "      <th>date_code</th>\n",
       "      <th>yr</th>\n",
       "      <th>mnth</th>\n",
       "      <th>dy</th>\n",
       "      <th>qtr</th>\n",
       "      <th>season</th>\n",
       "    </tr>\n",
       "  </thead>\n",
       "  <tbody>\n",
       "  </tbody>\n",
       "</table>\n",
       "</div>"
      ],
      "text/plain": [
       "Empty DataFrame\n",
       "Columns: [opis_id, region, date_id, product, station_count, retail_avg, wholesale_avg, tax_avg, freight_avg, margin_avg, net_avg, date_code, yr, mnth, dy, qtr, season]\n",
       "Index: []"
      ]
     },
     "execution_count": 6,
     "metadata": {},
     "output_type": "execute_result"
    }
   ],
   "source": [
    "# Tests on the file:\n",
    "# \"R:\\DPOE\\Fuel Price\\OPIS\\2020\\Source\\\"San Diego County Retail Margin History.csv\" \n",
    "\n",
    "# Transform the SQL data into the correct format\n",
    "\n",
    "# First make a copy to avoid changing the original SQL download\n",
    "sql_cost_2019_2020 = sql_data.copy(deep=True)\n",
    "\n",
    "# Get the correct date ranges\n",
    "start_date = datetime.date(2019, 7, 1) # year, month, day\n",
    "end_date = datetime.date(2020, 7, 1)\n",
    "sql_cost_2019_2020 = sql_cost_2019_2020[\n",
    "    (sql_cost_2019_2020[\"date_code\"] >= start_date) & \n",
    "    (sql_cost_2019_2020[\"date_code\"] <= end_date)]\n",
    "sql_cost_2019_2020\n",
    "\n",
    "# Get the correct columns\n",
    "\n",
    "\n",
    "# Run tests\n",
    "# test(cost_2019_2020, sql_cost_2019_2020)"
   ]
  },
  {
   "cell_type": "code",
   "execution_count": 7,
   "metadata": {},
   "outputs": [],
   "source": [
    "# Tests on the file:\n",
    "# \"R:\\DPOE\\Fuel Price\\OPIS\\2019\\Source\\OPIS_FUEL_010105to123113.xlsx\"  "
   ]
  },
  {
   "cell_type": "code",
   "execution_count": 8,
   "metadata": {},
   "outputs": [],
   "source": [
    "# Tests on the file:\n",
    "# \"R:\\DPOE\\Fuel Price\\OPIS\\2019\\Source\\San Diego County Monthly Jan 2018-May 2019.xlsx\"   "
   ]
  },
  {
   "cell_type": "code",
   "execution_count": 9,
   "metadata": {},
   "outputs": [],
   "source": [
    "# Tests on the file:\n",
    "# \"R:\\DPOE\\Fuel Price\\OPIS\\2019\\Source\\SDAG_OPIS retail margin history_020618.xlsx\"  "
   ]
  }
 ],
 "metadata": {
  "kernelspec": {
   "display_name": "Python 3.9.12 ('SANDAG')",
   "language": "python",
   "name": "python3"
  },
  "language_info": {
   "codemirror_mode": {
    "name": "ipython",
    "version": 3
   },
   "file_extension": ".py",
   "mimetype": "text/x-python",
   "name": "python",
   "nbconvert_exporter": "python",
   "pygments_lexer": "ipython3",
   "version": "3.9.12"
  },
  "orig_nbformat": 4,
  "vscode": {
   "interpreter": {
    "hash": "41c20cbfa603768ded13150453b5681e701a59febb16590ec3ab380b595ec114"
   }
  }
 },
 "nbformat": 4,
 "nbformat_minor": 2
}
