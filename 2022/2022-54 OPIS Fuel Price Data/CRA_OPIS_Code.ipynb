{
 "cells": [
  {
   "cell_type": "code",
   "execution_count": null,
   "metadata": {},
   "outputs": [],
   "source": []
  },
  {
   "cell_type": "markdown",
   "metadata": {},
   "source": [
    "# OPIS QC"
   ]
  },
  {
   "cell_type": "code",
   "execution_count": 3,
   "metadata": {},
   "outputs": [],
   "source": [
    "import os \n",
    "import pandas as pd\n",
    "import numpy as np\n",
    "import glob\n",
    "import pyodbc\n",
    "import gc"
   ]
  },
  {
   "cell_type": "markdown",
   "metadata": {},
   "source": [
    "# Downloading Data"
   ]
  },
  {
   "cell_type": "markdown",
   "metadata": {},
   "source": [
    "## Source Data"
   ]
  },
  {
   "cell_type": "code",
   "execution_count": 46,
   "metadata": {},
   "outputs": [],
   "source": [
    "SANDAG = pd.read_excel(r'C:\\Users\\cra\\San Diego Association of Governments\\SANDAG QA QC - Documents\\Service Requests\\2022\\2022-54 OPIS Fuel Price Data QC\\data\\Copy of San Diego Association of Governments.xlsx')\n",
    "June_data = pd.read_excel(r'C:\\Users\\cra\\San Diego Association of Governments\\SANDAG QA QC - Documents\\Service Requests\\2022\\2022-54 OPIS Fuel Price Data QC\\data\\Copy of SanDiegoCountyJune2019.xlsx')"
   ]
  },
  {
   "cell_type": "code",
   "execution_count": 47,
   "metadata": {},
   "outputs": [
    {
     "data": {
      "text/html": [
       "<div>\n",
       "<style scoped>\n",
       "    .dataframe tbody tr th:only-of-type {\n",
       "        vertical-align: middle;\n",
       "    }\n",
       "\n",
       "    .dataframe tbody tr th {\n",
       "        vertical-align: top;\n",
       "    }\n",
       "\n",
       "    .dataframe thead th {\n",
       "        text-align: right;\n",
       "    }\n",
       "</style>\n",
       "<table border=\"1\" class=\"dataframe\">\n",
       "  <thead>\n",
       "    <tr style=\"text-align: right;\">\n",
       "      <th></th>\n",
       "      <th>Region Name</th>\n",
       "      <th>Retail Product Name</th>\n",
       "      <th>Start Date</th>\n",
       "      <th>Retail Average</th>\n",
       "      <th>Wholesale Average</th>\n",
       "      <th>Tax Average</th>\n",
       "      <th>Freight Average</th>\n",
       "      <th>Margin Average</th>\n",
       "      <th>Net Average</th>\n",
       "    </tr>\n",
       "  </thead>\n",
       "  <tbody>\n",
       "    <tr>\n",
       "      <th>0</th>\n",
       "      <td>County - CA, San Diego</td>\n",
       "      <td>Midgrade Gas</td>\n",
       "      <td>2019-07-01</td>\n",
       "      <td>3.878256</td>\n",
       "      <td>2.495961</td>\n",
       "      <td>0.757949</td>\n",
       "      <td>0.015</td>\n",
       "      <td>0.609346</td>\n",
       "      <td>3.105307</td>\n",
       "    </tr>\n",
       "    <tr>\n",
       "      <th>1</th>\n",
       "      <td>County - CA, San Diego</td>\n",
       "      <td>Unleaded Gas</td>\n",
       "      <td>2019-07-01</td>\n",
       "      <td>3.719346</td>\n",
       "      <td>2.355909</td>\n",
       "      <td>0.753572</td>\n",
       "      <td>0.015</td>\n",
       "      <td>0.594865</td>\n",
       "      <td>2.950774</td>\n",
       "    </tr>\n",
       "    <tr>\n",
       "      <th>2</th>\n",
       "      <td>County - CA, San Diego</td>\n",
       "      <td>Diesel</td>\n",
       "      <td>2019-07-01</td>\n",
       "      <td>3.907932</td>\n",
       "      <td>2.338376</td>\n",
       "      <td>0.980837</td>\n",
       "      <td>0.015</td>\n",
       "      <td>0.573719</td>\n",
       "      <td>2.912095</td>\n",
       "    </tr>\n",
       "    <tr>\n",
       "      <th>3</th>\n",
       "      <td>County - CA, San Diego</td>\n",
       "      <td>Premium Gas</td>\n",
       "      <td>2019-07-01</td>\n",
       "      <td>3.995260</td>\n",
       "      <td>2.575163</td>\n",
       "      <td>0.760255</td>\n",
       "      <td>0.015</td>\n",
       "      <td>0.644842</td>\n",
       "      <td>3.220006</td>\n",
       "    </tr>\n",
       "    <tr>\n",
       "      <th>4</th>\n",
       "      <td>County - CA, San Diego</td>\n",
       "      <td>Premium Gas</td>\n",
       "      <td>2020-08-01</td>\n",
       "      <td>3.506908</td>\n",
       "      <td>2.151249</td>\n",
       "      <td>0.781632</td>\n",
       "      <td>0.015</td>\n",
       "      <td>0.559027</td>\n",
       "      <td>2.710276</td>\n",
       "    </tr>\n",
       "    <tr>\n",
       "      <th>...</th>\n",
       "      <td>...</td>\n",
       "      <td>...</td>\n",
       "      <td>...</td>\n",
       "      <td>...</td>\n",
       "      <td>...</td>\n",
       "      <td>...</td>\n",
       "      <td>...</td>\n",
       "      <td>...</td>\n",
       "      <td>...</td>\n",
       "    </tr>\n",
       "    <tr>\n",
       "      <th>83</th>\n",
       "      <td>County - CA, San Diego</td>\n",
       "      <td>Premium Gas</td>\n",
       "      <td>2022-03-01</td>\n",
       "      <td>6.019278</td>\n",
       "      <td>4.676671</td>\n",
       "      <td>0.862529</td>\n",
       "      <td>0.015</td>\n",
       "      <td>0.465078</td>\n",
       "      <td>5.141749</td>\n",
       "    </tr>\n",
       "    <tr>\n",
       "      <th>84</th>\n",
       "      <td>County - CA, San Diego</td>\n",
       "      <td>Premium Gas</td>\n",
       "      <td>2022-04-01</td>\n",
       "      <td>6.121857</td>\n",
       "      <td>4.391234</td>\n",
       "      <td>0.854100</td>\n",
       "      <td>0.015</td>\n",
       "      <td>0.861523</td>\n",
       "      <td>5.252757</td>\n",
       "    </tr>\n",
       "    <tr>\n",
       "      <th>85</th>\n",
       "      <td>County - CA, San Diego</td>\n",
       "      <td>Midgrade Gas</td>\n",
       "      <td>2022-04-01</td>\n",
       "      <td>5.992657</td>\n",
       "      <td>4.244345</td>\n",
       "      <td>0.849617</td>\n",
       "      <td>0.015</td>\n",
       "      <td>0.883695</td>\n",
       "      <td>5.128040</td>\n",
       "    </tr>\n",
       "    <tr>\n",
       "      <th>86</th>\n",
       "      <td>County - CA, San Diego</td>\n",
       "      <td>Unleaded Gas</td>\n",
       "      <td>2022-04-01</td>\n",
       "      <td>5.794604</td>\n",
       "      <td>4.050425</td>\n",
       "      <td>0.844127</td>\n",
       "      <td>0.015</td>\n",
       "      <td>0.885052</td>\n",
       "      <td>4.935477</td>\n",
       "    </tr>\n",
       "    <tr>\n",
       "      <th>87</th>\n",
       "      <td>County - CA, San Diego</td>\n",
       "      <td>Diesel</td>\n",
       "      <td>2022-04-01</td>\n",
       "      <td>6.229585</td>\n",
       "      <td>4.300417</td>\n",
       "      <td>1.329838</td>\n",
       "      <td>0.015</td>\n",
       "      <td>0.584329</td>\n",
       "      <td>4.884747</td>\n",
       "    </tr>\n",
       "  </tbody>\n",
       "</table>\n",
       "<p>88 rows × 9 columns</p>\n",
       "</div>"
      ],
      "text/plain": [
       "               Region Name             Retail Product Name Start Date  \\\n",
       "0   County - CA, San Diego       Midgrade Gas              2019-07-01   \n",
       "1   County - CA, San Diego       Unleaded Gas              2019-07-01   \n",
       "2   County - CA, San Diego  Diesel                         2019-07-01   \n",
       "3   County - CA, San Diego       Premium Gas               2019-07-01   \n",
       "4   County - CA, San Diego       Premium Gas               2020-08-01   \n",
       "..                     ...                             ...        ...   \n",
       "83  County - CA, San Diego       Premium Gas               2022-03-01   \n",
       "84  County - CA, San Diego       Premium Gas               2022-04-01   \n",
       "85  County - CA, San Diego       Midgrade Gas              2022-04-01   \n",
       "86  County - CA, San Diego       Unleaded Gas              2022-04-01   \n",
       "87  County - CA, San Diego  Diesel                         2022-04-01   \n",
       "\n",
       "    Retail Average  Wholesale Average  Tax Average  Freight Average  \\\n",
       "0         3.878256           2.495961     0.757949            0.015   \n",
       "1         3.719346           2.355909     0.753572            0.015   \n",
       "2         3.907932           2.338376     0.980837            0.015   \n",
       "3         3.995260           2.575163     0.760255            0.015   \n",
       "4         3.506908           2.151249     0.781632            0.015   \n",
       "..             ...                ...          ...              ...   \n",
       "83        6.019278           4.676671     0.862529            0.015   \n",
       "84        6.121857           4.391234     0.854100            0.015   \n",
       "85        5.992657           4.244345     0.849617            0.015   \n",
       "86        5.794604           4.050425     0.844127            0.015   \n",
       "87        6.229585           4.300417     1.329838            0.015   \n",
       "\n",
       "    Margin Average  Net Average  \n",
       "0         0.609346     3.105307  \n",
       "1         0.594865     2.950774  \n",
       "2         0.573719     2.912095  \n",
       "3         0.644842     3.220006  \n",
       "4         0.559027     2.710276  \n",
       "..             ...          ...  \n",
       "83        0.465078     5.141749  \n",
       "84        0.861523     5.252757  \n",
       "85        0.883695     5.128040  \n",
       "86        0.885052     4.935477  \n",
       "87        0.584329     4.884747  \n",
       "\n",
       "[88 rows x 9 columns]"
      ]
     },
     "execution_count": 47,
     "metadata": {},
     "output_type": "execute_result"
    }
   ],
   "source": [
    "SANDAG"
   ]
  },
  {
   "cell_type": "markdown",
   "metadata": {},
   "source": [
    "## SQL Data"
   ]
  },
  {
   "cell_type": "code",
   "execution_count": 42,
   "metadata": {},
   "outputs": [],
   "source": [
    "conn = pyodbc.connect('Driver={ODBC Driver 17 for SQL Server};'\n",
    "                    'Server=DDAMWSQL16.sandag.org;'\n",
    "                    'Database=dpoe_stage;'\n",
    "                    'Trusted_Connection=yes;')\n",
    "\n",
    "query =\"SELECT\\\n",
    "      [region]\\\n",
    "      ,[product]\\\n",
    "\t  ,dim.date_code\\\n",
    "      ,[retail_avg]\\\n",
    "      ,[wholesale_avg]\\\n",
    "      ,[tax_avg]\\\n",
    "      ,[freight_avg]\\\n",
    "      ,[margin_avg]\\\n",
    "      ,[net_avg]\\\n",
    "  FROM [dpoe_stage].[fuel_price_opis].[price_fact] AS fact\\\n",
    "  INNER JOIN [dpoe_stage].[fuel_price_opis].[date_dim] AS dim\\\n",
    "  ON fact.date_id = dim.date_id\\\n",
    "  WHERE dim.yr >= 2019\"\n",
    "\n",
    "sql_data =  pd.read_sql_query(query, conn)"
   ]
  },
  {
   "cell_type": "markdown",
   "metadata": {},
   "source": [
    "# Data Type Checks "
   ]
  },
  {
   "cell_type": "code",
   "execution_count": 52,
   "metadata": {},
   "outputs": [
    {
     "data": {
      "text/plain": [
       "Index(['region', 'product', 'date_code', 'retail_avg', 'wholesale_avg',\n",
       "       'tax_avg', 'freight_avg', 'margin_avg', 'net_avg'],\n",
       "      dtype='object')"
      ]
     },
     "execution_count": 52,
     "metadata": {},
     "output_type": "execute_result"
    }
   ],
   "source": [
    "sql_data.columns"
   ]
  },
  {
   "cell_type": "code",
   "execution_count": 51,
   "metadata": {},
   "outputs": [
    {
     "data": {
      "text/plain": [
       "Index(['Region Name', 'Retail Product Name ', 'Start Date', 'Retail Average',\n",
       "       'Wholesale Average', 'Tax Average', 'Freight Average', 'Margin Average',\n",
       "       'Net Average'],\n",
       "      dtype='object')"
      ]
     },
     "execution_count": 51,
     "metadata": {},
     "output_type": "execute_result"
    }
   ],
   "source": [
    "June_data.columns"
   ]
  },
  {
   "cell_type": "markdown",
   "metadata": {},
   "source": [
    "# Data Cleaning "
   ]
  },
  {
   "cell_type": "code",
   "execution_count": 6,
   "metadata": {},
   "outputs": [],
   "source": [
    "sql_data.columns = SANDAG.columns"
   ]
  },
  {
   "cell_type": "code",
   "execution_count": 16,
   "metadata": {},
   "outputs": [],
   "source": [
    "June_data.columns = SANDAG.columns # Retail product name has an extra space in the column header"
   ]
  },
  {
   "cell_type": "code",
   "execution_count": 17,
   "metadata": {},
   "outputs": [],
   "source": [
    "June_data['Retail Product Name'] = [string.strip() for string in June_data['Retail Product Name']]"
   ]
  },
  {
   "cell_type": "code",
   "execution_count": 13,
   "metadata": {},
   "outputs": [],
   "source": [
    "SANDAG['Retail Product Name'] = [string.strip() for string in SANDAG['Retail Product Name']] # Some of the data inside the product name raw files has excessive spaces inside"
   ]
  },
  {
   "cell_type": "code",
   "execution_count": 18,
   "metadata": {},
   "outputs": [],
   "source": [
    "# SQL Data Cleaning \n",
    "sql_data_sorted = sql_data.sort_values(by='Retail Average').reset_index(drop=True)\n",
    "sql_data_sorted['Start Date'] = pd.to_datetime(sql_data_sorted['Start Date'])"
   ]
  },
  {
   "cell_type": "code",
   "execution_count": 21,
   "metadata": {},
   "outputs": [],
   "source": [
    "# SANDAG Data Cleaning \n",
    "SANDAG_data_sorted = SANDAG.sort_values(by='Retail Average').reset_index(drop=True)\n",
    "SANDAG_data_sorted['Start Date'] = pd.to_datetime(SANDAG_data_sorted['Start Date'])"
   ]
  },
  {
   "cell_type": "code",
   "execution_count": 23,
   "metadata": {},
   "outputs": [],
   "source": [
    "# June Data Cleaning\n",
    "june_data_sorted = June_data.sort_values(by='Retail Average').reset_index(drop=True)\n",
    "june_data_sorted['Start Date'] = pd.to_datetime(june_data_sorted['Start Date']) "
   ]
  },
  {
   "cell_type": "markdown",
   "metadata": {},
   "source": [
    "# Data Comparison"
   ]
  },
  {
   "cell_type": "code",
   "execution_count": 24,
   "metadata": {},
   "outputs": [
    {
     "name": "stderr",
     "output_type": "stream",
     "text": [
      "C:\\Users\\cra\\AppData\\Local\\Temp\\ipykernel_18032\\602633943.py:1: FutureWarning: Dropping of nuisance columns in DataFrame reductions (with 'numeric_only=None') is deprecated; in a future version this will raise TypeError.  Select only valid columns before calling the reduction.\n",
      "  SANDAG.sum()\n"
     ]
    },
    {
     "data": {
      "text/plain": [
       "Region Name            County - CA, San DiegoCounty - CA, San DiegoCo...\n",
       "Retail Product Name    Midgrade GasUnleaded GasDieselPremium GasPremi...\n",
       "Retail Average                                                374.315147\n",
       "Wholesale Average                                             245.668631\n",
       "Tax Average                                                     76.95694\n",
       "Freight Average                                                     1.32\n",
       "Margin Average                                                 50.369569\n",
       "Net Average                                                   296.038203\n",
       "dtype: object"
      ]
     },
     "execution_count": 24,
     "metadata": {},
     "output_type": "execute_result"
    }
   ],
   "source": [
    "SANDAG.sum()"
   ]
  },
  {
   "cell_type": "code",
   "execution_count": 55,
   "metadata": {},
   "outputs": [
    {
     "name": "stderr",
     "output_type": "stream",
     "text": [
      "C:\\Users\\cra\\AppData\\Local\\Temp\\ipykernel_18328\\4259216579.py:1: FutureWarning: Dropping of nuisance columns in DataFrame reductions (with 'numeric_only=None') is deprecated; in a future version this will raise TypeError.  Select only valid columns before calling the reduction.\n",
      "  sql_data.sum()\n"
     ]
    },
    {
     "data": {
      "text/plain": [
       "Region Name            County - CA, San DiegoCounty - CA, San DiegoCo...\n",
       "Retail Product Name    Premium GasMidgrade GasUnleaded GasDieselPremi...\n",
       "Retail Average                                                374.593941\n",
       "Wholesale Average                                             245.791765\n",
       "Tax Average                                                    76.783018\n",
       "Freight Average                                                     1.32\n",
       "Margin Average                                                 50.699153\n",
       "Net Average                                                    296.49092\n",
       "dtype: object"
      ]
     },
     "execution_count": 55,
     "metadata": {},
     "output_type": "execute_result"
    }
   ],
   "source": [
    "sql_data.sum()"
   ]
  },
  {
   "cell_type": "markdown",
   "metadata": {},
   "source": [
    "# Checking June Data"
   ]
  },
  {
   "cell_type": "code",
   "execution_count": 25,
   "metadata": {},
   "outputs": [
    {
     "data": {
      "text/html": [
       "<div>\n",
       "<style scoped>\n",
       "    .dataframe tbody tr th:only-of-type {\n",
       "        vertical-align: middle;\n",
       "    }\n",
       "\n",
       "    .dataframe tbody tr th {\n",
       "        vertical-align: top;\n",
       "    }\n",
       "\n",
       "    .dataframe thead th {\n",
       "        text-align: right;\n",
       "    }\n",
       "</style>\n",
       "<table border=\"1\" class=\"dataframe\">\n",
       "  <thead>\n",
       "    <tr style=\"text-align: right;\">\n",
       "      <th></th>\n",
       "      <th>Region Name</th>\n",
       "      <th>Retail Product Name</th>\n",
       "      <th>Start Date</th>\n",
       "      <th>Retail Average</th>\n",
       "      <th>Wholesale Average</th>\n",
       "      <th>Tax Average</th>\n",
       "      <th>Freight Average</th>\n",
       "      <th>Margin Average</th>\n",
       "      <th>Net Average</th>\n",
       "    </tr>\n",
       "  </thead>\n",
       "  <tbody>\n",
       "    <tr>\n",
       "      <th>0</th>\n",
       "      <td>County - CA, San Diego</td>\n",
       "      <td>Unleaded Gas</td>\n",
       "      <td>2019-06-01</td>\n",
       "      <td>3.789030</td>\n",
       "      <td>2.424690</td>\n",
       "      <td>0.699437</td>\n",
       "      <td>0.015</td>\n",
       "      <td>0.649903</td>\n",
       "      <td>3.074593</td>\n",
       "    </tr>\n",
       "    <tr>\n",
       "      <th>1</th>\n",
       "      <td>County - CA, San Diego</td>\n",
       "      <td>Midgrade Gas</td>\n",
       "      <td>2019-06-01</td>\n",
       "      <td>3.949064</td>\n",
       "      <td>2.562529</td>\n",
       "      <td>0.703723</td>\n",
       "      <td>0.015</td>\n",
       "      <td>0.667812</td>\n",
       "      <td>3.230341</td>\n",
       "    </tr>\n",
       "    <tr>\n",
       "      <th>2</th>\n",
       "      <td>County - CA, San Diego</td>\n",
       "      <td>Diesel</td>\n",
       "      <td>2019-06-01</td>\n",
       "      <td>3.981497</td>\n",
       "      <td>2.254755</td>\n",
       "      <td>0.969351</td>\n",
       "      <td>0.015</td>\n",
       "      <td>0.742391</td>\n",
       "      <td>2.997146</td>\n",
       "    </tr>\n",
       "    <tr>\n",
       "      <th>3</th>\n",
       "      <td>County - CA, San Diego</td>\n",
       "      <td>Premium Gas</td>\n",
       "      <td>2019-06-01</td>\n",
       "      <td>4.059997</td>\n",
       "      <td>2.646569</td>\n",
       "      <td>0.706180</td>\n",
       "      <td>0.015</td>\n",
       "      <td>0.692249</td>\n",
       "      <td>3.338818</td>\n",
       "    </tr>\n",
       "  </tbody>\n",
       "</table>\n",
       "</div>"
      ],
      "text/plain": [
       "              Region Name Retail Product Name Start Date  Retail Average  \\\n",
       "0  County - CA, San Diego        Unleaded Gas 2019-06-01        3.789030   \n",
       "1  County - CA, San Diego        Midgrade Gas 2019-06-01        3.949064   \n",
       "2  County - CA, San Diego              Diesel 2019-06-01        3.981497   \n",
       "3  County - CA, San Diego         Premium Gas 2019-06-01        4.059997   \n",
       "\n",
       "   Wholesale Average  Tax Average  Freight Average  Margin Average  \\\n",
       "0           2.424690     0.699437            0.015        0.649903   \n",
       "1           2.562529     0.703723            0.015        0.667812   \n",
       "2           2.254755     0.969351            0.015        0.742391   \n",
       "3           2.646569     0.706180            0.015        0.692249   \n",
       "\n",
       "   Net Average  \n",
       "0     3.074593  \n",
       "1     3.230341  \n",
       "2     2.997146  \n",
       "3     3.338818  "
      ]
     },
     "execution_count": 25,
     "metadata": {},
     "output_type": "execute_result"
    }
   ],
   "source": [
    "june_data_sorted"
   ]
  },
  {
   "cell_type": "code",
   "execution_count": 28,
   "metadata": {},
   "outputs": [],
   "source": [
    "# Grabbing the individual Retail Average values \n",
    "june_retail_values = list(june_data_sorted['Retail Average'])"
   ]
  },
  {
   "cell_type": "code",
   "execution_count": 36,
   "metadata": {},
   "outputs": [
    {
     "data": {
      "text/html": [
       "<div>\n",
       "<style scoped>\n",
       "    .dataframe tbody tr th:only-of-type {\n",
       "        vertical-align: middle;\n",
       "    }\n",
       "\n",
       "    .dataframe tbody tr th {\n",
       "        vertical-align: top;\n",
       "    }\n",
       "\n",
       "    .dataframe thead th {\n",
       "        text-align: right;\n",
       "    }\n",
       "</style>\n",
       "<table border=\"1\" class=\"dataframe\">\n",
       "  <thead>\n",
       "    <tr style=\"text-align: right;\">\n",
       "      <th></th>\n",
       "      <th>Region Name</th>\n",
       "      <th>Retail Product Name</th>\n",
       "      <th>Start Date</th>\n",
       "      <th>Retail Average</th>\n",
       "      <th>Wholesale Average</th>\n",
       "      <th>Tax Average</th>\n",
       "      <th>Freight Average</th>\n",
       "      <th>Margin Average</th>\n",
       "      <th>Net Average</th>\n",
       "    </tr>\n",
       "  </thead>\n",
       "  <tbody>\n",
       "    <tr>\n",
       "      <th>0</th>\n",
       "      <td>County - CA, San Diego</td>\n",
       "      <td>Unleaded Gas</td>\n",
       "      <td>2019-06-01</td>\n",
       "      <td>3.789030</td>\n",
       "      <td>2.424690</td>\n",
       "      <td>0.699437</td>\n",
       "      <td>0.015</td>\n",
       "      <td>0.649903</td>\n",
       "      <td>3.074593</td>\n",
       "    </tr>\n",
       "    <tr>\n",
       "      <th>1</th>\n",
       "      <td>County - CA, San Diego</td>\n",
       "      <td>Midgrade Gas</td>\n",
       "      <td>2019-06-01</td>\n",
       "      <td>3.949064</td>\n",
       "      <td>2.562529</td>\n",
       "      <td>0.703723</td>\n",
       "      <td>0.015</td>\n",
       "      <td>0.667812</td>\n",
       "      <td>3.230341</td>\n",
       "    </tr>\n",
       "    <tr>\n",
       "      <th>2</th>\n",
       "      <td>County - CA, San Diego</td>\n",
       "      <td>Diesel</td>\n",
       "      <td>2019-06-01</td>\n",
       "      <td>3.981497</td>\n",
       "      <td>2.254755</td>\n",
       "      <td>0.969351</td>\n",
       "      <td>0.015</td>\n",
       "      <td>0.742391</td>\n",
       "      <td>2.997146</td>\n",
       "    </tr>\n",
       "    <tr>\n",
       "      <th>3</th>\n",
       "      <td>County - CA, San Diego</td>\n",
       "      <td>Premium Gas</td>\n",
       "      <td>2019-06-01</td>\n",
       "      <td>4.059997</td>\n",
       "      <td>2.646569</td>\n",
       "      <td>0.706180</td>\n",
       "      <td>0.015</td>\n",
       "      <td>0.692249</td>\n",
       "      <td>3.338818</td>\n",
       "    </tr>\n",
       "  </tbody>\n",
       "</table>\n",
       "</div>"
      ],
      "text/plain": [
       "              Region Name Retail Product Name Start Date  Retail Average  \\\n",
       "0  County - CA, San Diego        Unleaded Gas 2019-06-01        3.789030   \n",
       "1  County - CA, San Diego        Midgrade Gas 2019-06-01        3.949064   \n",
       "2  County - CA, San Diego              Diesel 2019-06-01        3.981497   \n",
       "3  County - CA, San Diego         Premium Gas 2019-06-01        4.059997   \n",
       "\n",
       "   Wholesale Average  Tax Average  Freight Average  Margin Average  \\\n",
       "0           2.424690     0.699437            0.015        0.649903   \n",
       "1           2.562529     0.703723            0.015        0.667812   \n",
       "2           2.254755     0.969351            0.015        0.742391   \n",
       "3           2.646569     0.706180            0.015        0.692249   \n",
       "\n",
       "   Net Average  \n",
       "0     3.074593  \n",
       "1     3.230341  \n",
       "2     2.997146  \n",
       "3     3.338818  "
      ]
     },
     "execution_count": 36,
     "metadata": {},
     "output_type": "execute_result"
    }
   ],
   "source": [
    "# Sorting the SQL Dataframe to only include retail values that match\n",
    "sql_june_sort = sql_data_sorted[sql_data_sorted['Retail Average'].isin(june_retail_values)].reset_index(drop=True)\n",
    "sql_june_sort"
   ]
  },
  {
   "cell_type": "code",
   "execution_count": 40,
   "metadata": {},
   "outputs": [
    {
     "data": {
      "text/plain": [
       "3.07459306668028"
      ]
     },
     "execution_count": 40,
     "metadata": {},
     "output_type": "execute_result"
    }
   ],
   "source": [
    "june_data_sorted['Net Average'][0] "
   ]
  },
  {
   "cell_type": "code",
   "execution_count": 41,
   "metadata": {},
   "outputs": [
    {
     "data": {
      "text/plain": [
       "3.074593067"
      ]
     },
     "execution_count": 41,
     "metadata": {},
     "output_type": "execute_result"
    }
   ],
   "source": [
    "sql_june_sort['Net Average'][0] "
   ]
  },
  {
   "cell_type": "code",
   "execution_count": 39,
   "metadata": {},
   "outputs": [
    {
     "data": {
      "text/html": [
       "<div>\n",
       "<style scoped>\n",
       "    .dataframe tbody tr th:only-of-type {\n",
       "        vertical-align: middle;\n",
       "    }\n",
       "\n",
       "    .dataframe tbody tr th {\n",
       "        vertical-align: top;\n",
       "    }\n",
       "\n",
       "    .dataframe thead th {\n",
       "        text-align: right;\n",
       "    }\n",
       "</style>\n",
       "<table border=\"1\" class=\"dataframe\">\n",
       "  <thead>\n",
       "    <tr style=\"text-align: right;\">\n",
       "      <th></th>\n",
       "      <th>Region Name</th>\n",
       "      <th>Retail Product Name</th>\n",
       "      <th>Start Date</th>\n",
       "      <th>Retail Average</th>\n",
       "      <th>Wholesale Average</th>\n",
       "      <th>Tax Average</th>\n",
       "      <th>Freight Average</th>\n",
       "      <th>Margin Average</th>\n",
       "      <th>Net Average</th>\n",
       "    </tr>\n",
       "  </thead>\n",
       "  <tbody>\n",
       "    <tr>\n",
       "      <th>0</th>\n",
       "      <td>True</td>\n",
       "      <td>True</td>\n",
       "      <td>True</td>\n",
       "      <td>True</td>\n",
       "      <td>True</td>\n",
       "      <td>False</td>\n",
       "      <td>True</td>\n",
       "      <td>False</td>\n",
       "      <td>False</td>\n",
       "    </tr>\n",
       "    <tr>\n",
       "      <th>1</th>\n",
       "      <td>True</td>\n",
       "      <td>True</td>\n",
       "      <td>True</td>\n",
       "      <td>True</td>\n",
       "      <td>True</td>\n",
       "      <td>False</td>\n",
       "      <td>True</td>\n",
       "      <td>False</td>\n",
       "      <td>False</td>\n",
       "    </tr>\n",
       "    <tr>\n",
       "      <th>2</th>\n",
       "      <td>True</td>\n",
       "      <td>True</td>\n",
       "      <td>True</td>\n",
       "      <td>True</td>\n",
       "      <td>True</td>\n",
       "      <td>False</td>\n",
       "      <td>True</td>\n",
       "      <td>False</td>\n",
       "      <td>False</td>\n",
       "    </tr>\n",
       "    <tr>\n",
       "      <th>3</th>\n",
       "      <td>True</td>\n",
       "      <td>True</td>\n",
       "      <td>True</td>\n",
       "      <td>True</td>\n",
       "      <td>True</td>\n",
       "      <td>False</td>\n",
       "      <td>True</td>\n",
       "      <td>False</td>\n",
       "      <td>False</td>\n",
       "    </tr>\n",
       "  </tbody>\n",
       "</table>\n",
       "</div>"
      ],
      "text/plain": [
       "   Region Name  Retail Product Name  Start Date  Retail Average  \\\n",
       "0         True                 True        True            True   \n",
       "1         True                 True        True            True   \n",
       "2         True                 True        True            True   \n",
       "3         True                 True        True            True   \n",
       "\n",
       "   Wholesale Average  Tax Average  Freight Average  Margin Average  \\\n",
       "0               True        False             True           False   \n",
       "1               True        False             True           False   \n",
       "2               True        False             True           False   \n",
       "3               True        False             True           False   \n",
       "\n",
       "   Net Average  \n",
       "0        False  \n",
       "1        False  \n",
       "2        False  \n",
       "3        False  "
      ]
     },
     "execution_count": 39,
     "metadata": {},
     "output_type": "execute_result"
    }
   ],
   "source": [
    "june_data_sorted == sql_june_sort"
   ]
  },
  {
   "cell_type": "markdown",
   "metadata": {},
   "source": [
    "# Testing of other dataset"
   ]
  },
  {
   "cell_type": "code",
   "execution_count": 85,
   "metadata": {},
   "outputs": [
    {
     "data": {
      "text/plain": [
       "[25, 26, 27, 30, 31, 32, 33, 34, 35]"
      ]
     },
     "execution_count": 85,
     "metadata": {},
     "output_type": "execute_result"
    }
   ],
   "source": [
    "not_equivalent_index_vals = []\n",
    "for num_col in range(len(SANDAG)): \n",
    "    equivalent_test = pd.DataFrame(SANDAG_data_sorted.iloc[num_col,:]).T == pd.DataFrame(sql_data_sorted.iloc[num_col,:]).T\n",
    "    sum_val = equivalent_test.iloc[0].sum()\n",
    "    if sum_val != 9:\n",
    "        not_equivalent_index_vals.append(num_col) \n",
    "\n",
    "not_equivalent_index_vals\n"
   ]
  },
  {
   "cell_type": "code",
   "execution_count": 86,
   "metadata": {},
   "outputs": [
    {
     "data": {
      "text/html": [
       "<div>\n",
       "<style scoped>\n",
       "    .dataframe tbody tr th:only-of-type {\n",
       "        vertical-align: middle;\n",
       "    }\n",
       "\n",
       "    .dataframe tbody tr th {\n",
       "        vertical-align: top;\n",
       "    }\n",
       "\n",
       "    .dataframe thead th {\n",
       "        text-align: right;\n",
       "    }\n",
       "</style>\n",
       "<table border=\"1\" class=\"dataframe\">\n",
       "  <thead>\n",
       "    <tr style=\"text-align: right;\">\n",
       "      <th></th>\n",
       "      <th>Region Name</th>\n",
       "      <th>Retail Product Name</th>\n",
       "      <th>Start Date</th>\n",
       "      <th>Retail Average</th>\n",
       "      <th>Wholesale Average</th>\n",
       "      <th>Tax Average</th>\n",
       "      <th>Freight Average</th>\n",
       "      <th>Margin Average</th>\n",
       "      <th>Net Average</th>\n",
       "    </tr>\n",
       "  </thead>\n",
       "  <tbody>\n",
       "    <tr>\n",
       "      <th>25</th>\n",
       "      <td>True</td>\n",
       "      <td>False</td>\n",
       "      <td>False</td>\n",
       "      <td>False</td>\n",
       "      <td>False</td>\n",
       "      <td>False</td>\n",
       "      <td>True</td>\n",
       "      <td>False</td>\n",
       "      <td>False</td>\n",
       "    </tr>\n",
       "  </tbody>\n",
       "</table>\n",
       "</div>"
      ],
      "text/plain": [
       "    Region Name  Retail Product Name  Start Date  Retail Average  \\\n",
       "25         True                False       False           False   \n",
       "\n",
       "    Wholesale Average  Tax Average  Freight Average  Margin Average  \\\n",
       "25              False        False             True           False   \n",
       "\n",
       "    Net Average  \n",
       "25        False  "
      ]
     },
     "execution_count": 86,
     "metadata": {},
     "output_type": "execute_result"
    }
   ],
   "source": [
    "pd.DataFrame(SANDAG_data_sorted.iloc[25,:]).T == pd.DataFrame(sql_data_sorted.iloc[25,:]).T"
   ]
  },
  {
   "cell_type": "code",
   "execution_count": 90,
   "metadata": {},
   "outputs": [
    {
     "data": {
      "text/html": [
       "<div>\n",
       "<style scoped>\n",
       "    .dataframe tbody tr th:only-of-type {\n",
       "        vertical-align: middle;\n",
       "    }\n",
       "\n",
       "    .dataframe tbody tr th {\n",
       "        vertical-align: top;\n",
       "    }\n",
       "\n",
       "    .dataframe thead th {\n",
       "        text-align: right;\n",
       "    }\n",
       "</style>\n",
       "<table border=\"1\" class=\"dataframe\">\n",
       "  <thead>\n",
       "    <tr style=\"text-align: right;\">\n",
       "      <th></th>\n",
       "      <th>Region Name</th>\n",
       "      <th>Retail Product Name</th>\n",
       "      <th>Start Date</th>\n",
       "      <th>Retail Average</th>\n",
       "      <th>Wholesale Average</th>\n",
       "      <th>Tax Average</th>\n",
       "      <th>Freight Average</th>\n",
       "      <th>Margin Average</th>\n",
       "      <th>Net Average</th>\n",
       "    </tr>\n",
       "  </thead>\n",
       "  <tbody>\n",
       "    <tr>\n",
       "      <th>25</th>\n",
       "      <td>County - CA, San Diego</td>\n",
       "      <td>Unleaded Gas</td>\n",
       "      <td>2019-07-01</td>\n",
       "      <td>3.719346</td>\n",
       "      <td>2.355909</td>\n",
       "      <td>0.753572</td>\n",
       "      <td>0.015</td>\n",
       "      <td>0.594865</td>\n",
       "      <td>2.950774</td>\n",
       "    </tr>\n",
       "  </tbody>\n",
       "</table>\n",
       "</div>"
      ],
      "text/plain": [
       "               Region Name Retail Product Name Start Date Retail Average  \\\n",
       "25  County - CA, San Diego        Unleaded Gas 2019-07-01       3.719346   \n",
       "\n",
       "   Wholesale Average Tax Average Freight Average Margin Average Net Average  \n",
       "25          2.355909    0.753572           0.015       0.594865    2.950774  "
      ]
     },
     "execution_count": 90,
     "metadata": {},
     "output_type": "execute_result"
    }
   ],
   "source": [
    "pd.DataFrame(SANDAG_data_sorted.iloc[25,:]).T"
   ]
  },
  {
   "cell_type": "code",
   "execution_count": 89,
   "metadata": {},
   "outputs": [
    {
     "data": {
      "text/html": [
       "<div>\n",
       "<style scoped>\n",
       "    .dataframe tbody tr th:only-of-type {\n",
       "        vertical-align: middle;\n",
       "    }\n",
       "\n",
       "    .dataframe tbody tr th {\n",
       "        vertical-align: top;\n",
       "    }\n",
       "\n",
       "    .dataframe thead th {\n",
       "        text-align: right;\n",
       "    }\n",
       "</style>\n",
       "<table border=\"1\" class=\"dataframe\">\n",
       "  <thead>\n",
       "    <tr style=\"text-align: right;\">\n",
       "      <th></th>\n",
       "      <th>Region Name</th>\n",
       "      <th>Retail Product Name</th>\n",
       "      <th>Start Date</th>\n",
       "      <th>Retail Average</th>\n",
       "      <th>Wholesale Average</th>\n",
       "      <th>Tax Average</th>\n",
       "      <th>Freight Average</th>\n",
       "      <th>Margin Average</th>\n",
       "      <th>Net Average</th>\n",
       "    </tr>\n",
       "  </thead>\n",
       "  <tbody>\n",
       "    <tr>\n",
       "      <th>25</th>\n",
       "      <td>County - CA, San Diego</td>\n",
       "      <td>Diesel</td>\n",
       "      <td>2021-02-01</td>\n",
       "      <td>3.720077</td>\n",
       "      <td>2.273301</td>\n",
       "      <td>1.027826</td>\n",
       "      <td>0.015</td>\n",
       "      <td>0.403949</td>\n",
       "      <td>2.677251</td>\n",
       "    </tr>\n",
       "  </tbody>\n",
       "</table>\n",
       "</div>"
      ],
      "text/plain": [
       "               Region Name Retail Product Name  Start Date Retail Average  \\\n",
       "25  County - CA, San Diego              Diesel  2021-02-01       3.720077   \n",
       "\n",
       "   Wholesale Average Tax Average Freight Average Margin Average Net Average  \n",
       "25          2.273301    1.027826           0.015       0.403949    2.677251  "
      ]
     },
     "execution_count": 89,
     "metadata": {},
     "output_type": "execute_result"
    }
   ],
   "source": [
    "pd.DataFrame(sql_data_sorted.iloc[25,:]).T"
   ]
  }
 ],
 "metadata": {
  "kernelspec": {
   "display_name": "Python 3.8.8 ('base')",
   "language": "python",
   "name": "python3"
  },
  "language_info": {
   "codemirror_mode": {
    "name": "ipython",
    "version": 3
   },
   "file_extension": ".py",
   "mimetype": "text/x-python",
   "name": "python",
   "nbconvert_exporter": "python",
   "pygments_lexer": "ipython3",
   "version": "3.8.8"
  },
  "orig_nbformat": 4,
  "vscode": {
   "interpreter": {
    "hash": "6db16e9940ad839c1e288012a4d7b04c8c55c67646ae73b178066b197eb654ea"
   }
  }
 },
 "nbformat": 4,
 "nbformat_minor": 2
}
