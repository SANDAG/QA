{
 "cells": [
  {
   "cell_type": "code",
   "execution_count": 1,
   "metadata": {},
   "outputs": [],
   "source": [
    "import pandas as pd\n",
    "import numpy as np"
   ]
  },
  {
   "cell_type": "code",
   "execution_count": 2,
   "metadata": {},
   "outputs": [
    {
     "data": {
      "text/html": [
       "<div>\n",
       "<style scoped>\n",
       "    .dataframe tbody tr th:only-of-type {\n",
       "        vertical-align: middle;\n",
       "    }\n",
       "\n",
       "    .dataframe tbody tr th {\n",
       "        vertical-align: top;\n",
       "    }\n",
       "\n",
       "    .dataframe thead th {\n",
       "        text-align: right;\n",
       "    }\n",
       "</style>\n",
       "<table border=\"1\" class=\"dataframe\">\n",
       "  <thead>\n",
       "    <tr style=\"text-align: right;\">\n",
       "      <th></th>\n",
       "      <th>OID_</th>\n",
       "      <th>cdsCode</th>\n",
       "      <th>district</th>\n",
       "      <th>name</th>\n",
       "      <th>addr</th>\n",
       "      <th>city</th>\n",
       "      <th>zip</th>\n",
       "      <th>openDate</th>\n",
       "      <th>charter</th>\n",
       "      <th>docType</th>\n",
       "      <th>...</th>\n",
       "      <th>shrtName</th>\n",
       "      <th>priv</th>\n",
       "      <th>ClosedDate</th>\n",
       "      <th>Phantom</th>\n",
       "      <th>Notes</th>\n",
       "      <th>Check_</th>\n",
       "      <th>regionID</th>\n",
       "      <th>schoolID</th>\n",
       "      <th>Change</th>\n",
       "      <th>cdeCodeNUM</th>\n",
       "    </tr>\n",
       "  </thead>\n",
       "  <tbody>\n",
       "    <tr>\n",
       "      <td>0</td>\n",
       "      <td>1</td>\n",
       "      <td>3.768410e+13</td>\n",
       "      <td>Sweetwater Union High</td>\n",
       "      <td>Bonita Vista Middle</td>\n",
       "      <td>650 Otay Lakes Road</td>\n",
       "      <td>Chula Vista</td>\n",
       "      <td>91910</td>\n",
       "      <td>7/1/1980 0:00</td>\n",
       "      <td>N</td>\n",
       "      <td>High School District</td>\n",
       "      <td>...</td>\n",
       "      <td>Bonita Vista Mid</td>\n",
       "      <td>N</td>\n",
       "      <td>NaN</td>\n",
       "      <td>0</td>\n",
       "      <td>No change</td>\n",
       "      <td>0</td>\n",
       "      <td>0</td>\n",
       "      <td>1</td>\n",
       "      <td>0</td>\n",
       "      <td>3.768410e+13</td>\n",
       "    </tr>\n",
       "    <tr>\n",
       "      <td>1</td>\n",
       "      <td>2</td>\n",
       "      <td>3.768410e+13</td>\n",
       "      <td>Sweetwater Union High</td>\n",
       "      <td>Bonita Vista Senior High</td>\n",
       "      <td>751 Otay Lakes Road</td>\n",
       "      <td>Chula Vista</td>\n",
       "      <td>91913</td>\n",
       "      <td>7/1/1980 0:00</td>\n",
       "      <td>N</td>\n",
       "      <td>High School District</td>\n",
       "      <td>...</td>\n",
       "      <td>Bonita Vista SH</td>\n",
       "      <td>N</td>\n",
       "      <td>NaN</td>\n",
       "      <td>0</td>\n",
       "      <td>No change</td>\n",
       "      <td>0</td>\n",
       "      <td>0</td>\n",
       "      <td>2</td>\n",
       "      <td>0</td>\n",
       "      <td>3.768410e+13</td>\n",
       "    </tr>\n",
       "    <tr>\n",
       "      <td>2</td>\n",
       "      <td>3</td>\n",
       "      <td>3.768020e+13</td>\n",
       "      <td>Chula Vista Elementary</td>\n",
       "      <td>Clear View</td>\n",
       "      <td>455 Windrose Way</td>\n",
       "      <td>Chula Vista</td>\n",
       "      <td>91910</td>\n",
       "      <td>9/10/1991 0:00</td>\n",
       "      <td>N</td>\n",
       "      <td>Elementary School District</td>\n",
       "      <td>...</td>\n",
       "      <td>Clear View</td>\n",
       "      <td>N</td>\n",
       "      <td>NaN</td>\n",
       "      <td>0</td>\n",
       "      <td>No change</td>\n",
       "      <td>0</td>\n",
       "      <td>0</td>\n",
       "      <td>3</td>\n",
       "      <td>0</td>\n",
       "      <td>3.768020e+13</td>\n",
       "    </tr>\n",
       "    <tr>\n",
       "      <td>3</td>\n",
       "      <td>4</td>\n",
       "      <td>3.768020e+13</td>\n",
       "      <td>Chula Vista Elementary</td>\n",
       "      <td>Tiffany (Burton C.) Elementary</td>\n",
       "      <td>1691 Elmhurst Street</td>\n",
       "      <td>Chula Vista</td>\n",
       "      <td>91913</td>\n",
       "      <td>7/1/1980 0:00</td>\n",
       "      <td>N</td>\n",
       "      <td>Elementary School District</td>\n",
       "      <td>...</td>\n",
       "      <td>Tiffany</td>\n",
       "      <td>N</td>\n",
       "      <td>NaN</td>\n",
       "      <td>0</td>\n",
       "      <td>No change</td>\n",
       "      <td>0</td>\n",
       "      <td>0</td>\n",
       "      <td>4</td>\n",
       "      <td>0</td>\n",
       "      <td>3.768020e+13</td>\n",
       "    </tr>\n",
       "    <tr>\n",
       "      <td>4</td>\n",
       "      <td>5</td>\n",
       "      <td>3.768020e+13</td>\n",
       "      <td>Chula Vista Elementary</td>\n",
       "      <td>McMillin (Corky) Elementary</td>\n",
       "      <td>1201 Santa Cora Avenue</td>\n",
       "      <td>Chula Vista</td>\n",
       "      <td>91913</td>\n",
       "      <td>7/17/2001 0:00</td>\n",
       "      <td>N</td>\n",
       "      <td>Elementary School District</td>\n",
       "      <td>...</td>\n",
       "      <td>McMillin</td>\n",
       "      <td>N</td>\n",
       "      <td>NaN</td>\n",
       "      <td>0</td>\n",
       "      <td>No change</td>\n",
       "      <td>0</td>\n",
       "      <td>0</td>\n",
       "      <td>5</td>\n",
       "      <td>0</td>\n",
       "      <td>3.768020e+13</td>\n",
       "    </tr>\n",
       "  </tbody>\n",
       "</table>\n",
       "<p>5 rows × 22 columns</p>\n",
       "</div>"
      ],
      "text/plain": [
       "   OID_       cdsCode                district                            name  \\\n",
       "0     1  3.768410e+13   Sweetwater Union High             Bonita Vista Middle   \n",
       "1     2  3.768410e+13   Sweetwater Union High        Bonita Vista Senior High   \n",
       "2     3  3.768020e+13  Chula Vista Elementary                      Clear View   \n",
       "3     4  3.768020e+13  Chula Vista Elementary  Tiffany (Burton C.) Elementary   \n",
       "4     5  3.768020e+13  Chula Vista Elementary     McMillin (Corky) Elementary   \n",
       "\n",
       "                     addr         city    zip        openDate charter  \\\n",
       "0     650 Otay Lakes Road  Chula Vista  91910   7/1/1980 0:00       N   \n",
       "1     751 Otay Lakes Road  Chula Vista  91913   7/1/1980 0:00       N   \n",
       "2        455 Windrose Way  Chula Vista  91910  9/10/1991 0:00       N   \n",
       "3    1691 Elmhurst Street  Chula Vista  91913   7/1/1980 0:00       N   \n",
       "4  1201 Santa Cora Avenue  Chula Vista  91913  7/17/2001 0:00       N   \n",
       "\n",
       "                      docType  ...          shrtName priv ClosedDate Phantom  \\\n",
       "0        High School District  ...  Bonita Vista Mid    N        NaN       0   \n",
       "1        High School District  ...   Bonita Vista SH    N        NaN       0   \n",
       "2  Elementary School District  ...        Clear View    N        NaN       0   \n",
       "3  Elementary School District  ...           Tiffany    N        NaN       0   \n",
       "4  Elementary School District  ...          McMillin    N        NaN       0   \n",
       "\n",
       "       Notes  Check_ regionID  schoolID  Change    cdeCodeNUM  \n",
       "0  No change       0        0         1       0  3.768410e+13  \n",
       "1  No change       0        0         2       0  3.768410e+13  \n",
       "2  No change       0        0         3       0  3.768020e+13  \n",
       "3  No change       0        0         4       0  3.768020e+13  \n",
       "4  No change       0        0         5       0  3.768020e+13  \n",
       "\n",
       "[5 rows x 22 columns]"
      ]
     },
     "metadata": {},
     "output_type": "display_data"
    },
    {
     "data": {
      "text/plain": [
       "(1650, 22)"
      ]
     },
     "execution_count": 2,
     "metadata": {},
     "output_type": "execute_result"
    }
   ],
   "source": [
    "# df = pd.read_csv(r\"C:\\Users\\ppo\\OneDrive - San Diego Association of Governments\\Shared Documents\\Projects\\2022\\2022-87 School Inventory & Enrollment 2022 QC\\data\\inventory\\QC_SCHOOL_2022.csv\")\n",
    "df = pd.read_csv(r\"C:\\Users\\ppo\\Downloads\\QC_SCHOOL_2022_Revised.csv\")\n",
    "display(df.head())\n",
    "df.shape"
   ]
  },
  {
   "cell_type": "code",
   "execution_count": 3,
   "metadata": {},
   "outputs": [
    {
     "data": {
      "text/plain": [
       "Index(['OID_', 'cdsCode', 'district', 'name', 'addr', 'city', 'zip',\n",
       "       'openDate', 'charter', 'docType', 'socType', 'gsOffered', 'shrtName',\n",
       "       'priv', 'ClosedDate', 'Phantom', 'Notes', 'Check_', 'regionID',\n",
       "       'schoolID', 'Change', 'cdeCodeNUM'],\n",
       "      dtype='object')"
      ]
     },
     "execution_count": 3,
     "metadata": {},
     "output_type": "execute_result"
    }
   ],
   "source": [
    "df.columns"
   ]
  },
  {
   "attachments": {},
   "cell_type": "markdown",
   "metadata": {},
   "source": [
    "Checking uniqueness:"
   ]
  },
  {
   "cell_type": "code",
   "execution_count": 4,
   "metadata": {},
   "outputs": [],
   "source": [
    "unique_cols = ['schoolID']"
   ]
  },
  {
   "cell_type": "code",
   "execution_count": 5,
   "metadata": {},
   "outputs": [],
   "source": [
    "def unique(cols):\n",
    "    not_unique = []\n",
    "    for col in cols:\n",
    "        ser = df[col]\n",
    "        if ser.nunique() != len(ser):\n",
    "            not_unique.append(col)\n",
    "    return not_unique"
   ]
  },
  {
   "cell_type": "code",
   "execution_count": 6,
   "metadata": {},
   "outputs": [
    {
     "data": {
      "text/plain": [
       "[]"
      ]
     },
     "execution_count": 6,
     "metadata": {},
     "output_type": "execute_result"
    }
   ],
   "source": [
    "unique(unique_cols)"
   ]
  },
  {
   "attachments": {},
   "cell_type": "markdown",
   "metadata": {},
   "source": [
    "Checking nulls:"
   ]
  },
  {
   "cell_type": "code",
   "execution_count": 7,
   "metadata": {},
   "outputs": [],
   "source": [
    "null_cols = df.columns"
   ]
  },
  {
   "cell_type": "code",
   "execution_count": 8,
   "metadata": {},
   "outputs": [],
   "source": [
    "def not_null(cols):\n",
    "    nulls = []\n",
    "    for col in cols:\n",
    "        ser = df[col]\n",
    "        if len(df[pd.isna(ser)]) > 0:\n",
    "            nulls.append(col)\n",
    "    return nulls"
   ]
  },
  {
   "cell_type": "code",
   "execution_count": 9,
   "metadata": {},
   "outputs": [
    {
     "data": {
      "text/plain": [
       "['openDate', 'gsOffered', 'shrtName', 'ClosedDate', 'Notes']"
      ]
     },
     "execution_count": 9,
     "metadata": {},
     "output_type": "execute_result"
    }
   ],
   "source": [
    "not_null(null_cols)"
   ]
  },
  {
   "attachments": {},
   "cell_type": "markdown",
   "metadata": {},
   "source": [
    "Let's investigate how many null vals there are in these columns"
   ]
  },
  {
   "cell_type": "code",
   "execution_count": 10,
   "metadata": {},
   "outputs": [
    {
     "name": "stdout",
     "output_type": "stream",
     "text": [
      "openDate column has 1 missing row(s)\n",
      "gsOffered column has 50 missing row(s)\n",
      "shrtName column has 1 missing row(s)\n",
      "ClosedDate column has 1126 missing row(s)\n",
      "Notes column has 71 missing row(s)\n"
     ]
    }
   ],
   "source": [
    "for col in not_null(null_cols):\n",
    "    # display(df[pd.isna(df[col])])\n",
    "    print(f'{col} column has {len(df[pd.isna(df[col])])} missing row(s)')"
   ]
  },
  {
   "attachments": {},
   "cell_type": "markdown",
   "metadata": {},
   "source": [
    "Checking fixed numbers of vals:"
   ]
  },
  {
   "cell_type": "code",
   "execution_count": 11,
   "metadata": {},
   "outputs": [],
   "source": [
    "fixed_cols = 'charter docType socType priv Phantom regionID'.split()"
   ]
  },
  {
   "cell_type": "code",
   "execution_count": 12,
   "metadata": {},
   "outputs": [],
   "source": [
    "def fixed(cols):\n",
    "    dict = {}\n",
    "    for col in cols:\n",
    "        ser = df[col]\n",
    "        dict[col] = ser.unique().tolist()\n",
    "    return dict"
   ]
  },
  {
   "cell_type": "code",
   "execution_count": 13,
   "metadata": {},
   "outputs": [
    {
     "data": {
      "text/plain": [
       "{'charter': ['N', 'Y'],\n",
       " 'docType': ['High School District',\n",
       "  'Elementary School District',\n",
       "  'Unified School District',\n",
       "  'County Office of Education (COE)',\n",
       "  'Statewide Benefit Charter',\n",
       "  'State Board of Education',\n",
       "  'Community College District',\n",
       "  'Regional Occupation Center/Program (ROC/P)'],\n",
       " 'socType': ['Intermediate/Middle Schools (Public)',\n",
       "  'High Schools (Public)',\n",
       "  'Elementary Schools (Public)',\n",
       "  'K-12 Schools (Public)',\n",
       "  'Alternative Schools of Choice',\n",
       "  'Continuation High Schools',\n",
       "  'District Community Day Schools',\n",
       "  'Special Education Schools (Public)',\n",
       "  'Junior High Schools (Public)',\n",
       "  'Elemen Schools In 1 School Dist. (Public)',\n",
       "  'County Community',\n",
       "  'Juvenile Court Schools',\n",
       "  'Preschool',\n",
       "  'Private',\n",
       "  'District Office',\n",
       "  'Adult Education Centers',\n",
       "  'ROC/ROP',\n",
       "  'High Schools In 1 School Dist. (Public)',\n",
       "  'Opportunity Schools',\n",
       "  'No Data',\n",
       "  'San Marcos Unified'],\n",
       " 'priv': ['N', 'Y'],\n",
       " 'Phantom': [0, 1],\n",
       " 'regionID': [0, 1]}"
      ]
     },
     "execution_count": 13,
     "metadata": {},
     "output_type": "execute_result"
    }
   ],
   "source": [
    "fixed(fixed_cols)"
   ]
  },
  {
   "cell_type": "code",
   "execution_count": 14,
   "metadata": {},
   "outputs": [
    {
     "data": {
      "text/plain": [
       "Elementary Schools (Public)                  577\n",
       "Private                                      424\n",
       "High Schools (Public)                        143\n",
       "Intermediate/Middle Schools (Public)         123\n",
       "K-12 Schools (Public)                         88\n",
       "District Office                               51\n",
       "Alternative Schools of Choice                 44\n",
       "Adult Education Centers                       37\n",
       "Special Education Schools (Public)            34\n",
       "District Community Day Schools                27\n",
       "County Community                              26\n",
       "Continuation High Schools                     23\n",
       "Juvenile Court Schools                        19\n",
       "Preschool                                     14\n",
       "Junior High Schools (Public)                   8\n",
       "Elemen Schools In 1 School Dist. (Public)      4\n",
       "No Data                                        2\n",
       "Opportunity Schools                            2\n",
       "High Schools In 1 School Dist. (Public)        2\n",
       "San Marcos Unified                             1\n",
       "ROC/ROP                                        1\n",
       "Name: socType, dtype: int64"
      ]
     },
     "execution_count": 14,
     "metadata": {},
     "output_type": "execute_result"
    }
   ],
   "source": [
    "df['socType'].value_counts()"
   ]
  },
  {
   "attachments": {},
   "cell_type": "markdown",
   "metadata": {},
   "source": [
    "Additional checks"
   ]
  },
  {
   "cell_type": "code",
   "execution_count": 15,
   "metadata": {},
   "outputs": [
    {
     "data": {
      "text/plain": [
       "array(['8-Jul', '12-Sep', 'K-6', 'K-5', 'K-8', 'P-8', 'K-12', '12-Jul',\n",
       "       '12-Jun', 'P-6', '8-Jun', '5-Jan', 'K-4', '12-Nov', '8-Mar', 'K-3',\n",
       "       '5-Mar', '6-May', '9-Jul', '6-Apr', 'P-5', 'K-2', '12-Oct', 'P-12',\n",
       "       '5-Apr', 'P-K', 'K-1', '6-Mar', '8-May', 'P', '8-Apr', '12-Jan',\n",
       "       'Adult', '8-Feb', '9-Jan', 'K', '6-Jan', '12', '8-Jan', 'K-11',\n",
       "       '12-Feb', '12-Mar', '11-Jan', ' ', '11-Jul', 'K-9', nan, '9-Adult',\n",
       "       'No Data', '11-Sep', '3-Feb', '12-Aug', '8', '9-Jun', '10-Sep',\n",
       "       '7-Jun', '12-Apr', '6', '5', 'K-7', '7', '11-Aug', '9', '4-Feb',\n",
       "       '12-Adult', '9-Mar', 'K-K'], dtype=object)"
      ]
     },
     "execution_count": 15,
     "metadata": {},
     "output_type": "execute_result"
    }
   ],
   "source": [
    "df['gsOffered'].unique()"
   ]
  },
  {
   "attachments": {},
   "cell_type": "markdown",
   "metadata": {},
   "source": [
    "Empty data should follow similar structure - either leave it blank or write nan"
   ]
  },
  {
   "cell_type": "code",
   "execution_count": 16,
   "metadata": {},
   "outputs": [
    {
     "data": {
      "text/plain": [
       "Index(['San Diego Unified', 'Chula Vista Elementary', 'Poway Unified',\n",
       "       'San Diego County Office of Education', 'Vista Unified',\n",
       "       'Sweetwater Union High', 'Oceanside Unified', 'Escondido Union',\n",
       "       'La Mesa-Spring Valley', 'Cajon Valley Union',\n",
       "       'Mountain Empire Unified', 'Grossmont Union High', 'Carlsbad Unified',\n",
       "       'San Marcos Unified', 'Fallbrook Union Elementary',\n",
       "       'Lakeside Union Elementary', 'San Dieguito Union High',\n",
       "       'Valley Center-Pauma Unified', 'Ramona City Unified',\n",
       "       'Encinitas Union Elementary', 'Solana Beach Elementary',\n",
       "       'National Elementary', 'San Ysidro Elementary', 'Lemon Grove',\n",
       "       'Coronado Unified', 'Del Mar Union Elementary', 'Escondido Union High',\n",
       "       'Warner Unified', 'Dehesa Elementary', 'South Bay Union Elementary',\n",
       "       'Julian Union Elementary', 'Santee Elementary',\n",
       "       'Alpine Union Elementary', 'Borrego Springs Unified',\n",
       "       'San Diego Community College', 'Escondido Union Elementary',\n",
       "       'SBC - High Tech High', 'Cajon Valley Union Elementary',\n",
       "       'Fallbrook Union High', 'Bonsall Unified', 'South Bay Union',\n",
       "       'Julian Union High', 'Jamul-Dulzura Union Elementary',\n",
       "       'Valley Center Union Elementary', 'Vallecitos Elementary', 'Santee',\n",
       "       'Spencer Valley Elementary', 'Cardiff Elementary',\n",
       "       'SBE - Thrive Public', 'Bonsall Union Elementary', 'Pauma Elementary',\n",
       "       'Rancho Santa Fe Elementary', 'SBE - Grossmont Secondary',\n",
       "       'San Pasqual Union Elementary',\n",
       "       'SBE - Baypoint Preparatory Academy San Diego', 'San Diego County ROP',\n",
       "       'SBE - Sweetwater Secondary', 'Warner Union Elementary',\n",
       "       'SBE - Vista Springs Charter', 'Lemon Grove Elementary',\n",
       "       'Ramona Unified', 'SBE - Audeo Charter II', 'Acton-Agua Dulce Unified',\n",
       "       'Rich-Mar Union Elementary', 'Helendale Elementary',\n",
       "       'SBE - College Preparatory Middle - La Mesa Spring Valley',\n",
       "       'Encinitas Unified', 'Keppel Union Elementary',\n",
       "       'Coachella Valley Unified', 'Mono County Office of Education',\n",
       "       'SBE - College Preparatory Middle', 'Imperial Beach Charter'],\n",
       "      dtype='object')"
      ]
     },
     "execution_count": 16,
     "metadata": {},
     "output_type": "execute_result"
    }
   ],
   "source": [
    "df['district'].value_counts().index"
   ]
  },
  {
   "attachments": {},
   "cell_type": "markdown",
   "metadata": {},
   "source": [
    "Looking at unique vals of schoolID from POLY table"
   ]
  },
  {
   "cell_type": "code",
   "execution_count": 17,
   "metadata": {},
   "outputs": [
    {
     "data": {
      "text/html": [
       "<div>\n",
       "<style scoped>\n",
       "    .dataframe tbody tr th:only-of-type {\n",
       "        vertical-align: middle;\n",
       "    }\n",
       "\n",
       "    .dataframe tbody tr th {\n",
       "        vertical-align: top;\n",
       "    }\n",
       "\n",
       "    .dataframe thead th {\n",
       "        text-align: right;\n",
       "    }\n",
       "</style>\n",
       "<table border=\"1\" class=\"dataframe\">\n",
       "  <thead>\n",
       "    <tr style=\"text-align: right;\">\n",
       "      <th></th>\n",
       "      <th>OID_</th>\n",
       "      <th>schoolID</th>\n",
       "      <th>cdsCode</th>\n",
       "      <th>district</th>\n",
       "      <th>name</th>\n",
       "      <th>addr</th>\n",
       "      <th>city</th>\n",
       "      <th>zip</th>\n",
       "      <th>openDate</th>\n",
       "      <th>charter</th>\n",
       "      <th>docType</th>\n",
       "      <th>socType</th>\n",
       "      <th>gsOffered</th>\n",
       "      <th>shrtName</th>\n",
       "      <th>priv</th>\n",
       "      <th>Shape_STAr</th>\n",
       "      <th>Shape_STLe</th>\n",
       "      <th>Shape_Length</th>\n",
       "      <th>Shape_Area</th>\n",
       "    </tr>\n",
       "  </thead>\n",
       "  <tbody>\n",
       "    <tr>\n",
       "      <td>0</td>\n",
       "      <td>1</td>\n",
       "      <td>88</td>\n",
       "      <td>37683386040042</td>\n",
       "      <td>San Diego Unified</td>\n",
       "      <td>Pacific Beach Elementary</td>\n",
       "      <td>1234 Tourmaline Street</td>\n",
       "      <td>San Diego</td>\n",
       "      <td>92109</td>\n",
       "      <td>7/1/1980 0:00:00</td>\n",
       "      <td>N</td>\n",
       "      <td>Unified School District</td>\n",
       "      <td>Elementary Schools (Public)</td>\n",
       "      <td>K-5</td>\n",
       "      <td>Pacific Beach Elem</td>\n",
       "      <td>N</td>\n",
       "      <td>334304.483476</td>\n",
       "      <td>2472.448920</td>\n",
       "      <td>2472.448920</td>\n",
       "      <td>334304.483479</td>\n",
       "    </tr>\n",
       "    <tr>\n",
       "      <td>1</td>\n",
       "      <td>2</td>\n",
       "      <td>475</td>\n",
       "      <td>37680566038111</td>\n",
       "      <td>Del Mar Union Elementary</td>\n",
       "      <td>Del Mar Heights Elementary</td>\n",
       "      <td>13555 Boquita Drive</td>\n",
       "      <td>Del Mar</td>\n",
       "      <td>92014</td>\n",
       "      <td>7/1/1980 0:00:00</td>\n",
       "      <td>N</td>\n",
       "      <td>Elementary School District</td>\n",
       "      <td>Elementary Schools (Public)</td>\n",
       "      <td>K-6</td>\n",
       "      <td>Del Mar Heights</td>\n",
       "      <td>N</td>\n",
       "      <td>475624.520306</td>\n",
       "      <td>2808.574191</td>\n",
       "      <td>2808.574191</td>\n",
       "      <td>475624.520309</td>\n",
       "    </tr>\n",
       "    <tr>\n",
       "      <td>2</td>\n",
       "      <td>3</td>\n",
       "      <td>403</td>\n",
       "      <td>37683386040208</td>\n",
       "      <td>San Diego Unified</td>\n",
       "      <td>Sunset View Elementary</td>\n",
       "      <td>4365 Hill Street</td>\n",
       "      <td>San Diego</td>\n",
       "      <td>92107</td>\n",
       "      <td>7/1/1980 0:00:00</td>\n",
       "      <td>N</td>\n",
       "      <td>Unified School District</td>\n",
       "      <td>Elementary Schools (Public)</td>\n",
       "      <td>K-4</td>\n",
       "      <td>Sunset View</td>\n",
       "      <td>N</td>\n",
       "      <td>376604.128407</td>\n",
       "      <td>2398.947251</td>\n",
       "      <td>2398.947251</td>\n",
       "      <td>376604.128409</td>\n",
       "    </tr>\n",
       "    <tr>\n",
       "      <td>3</td>\n",
       "      <td>4</td>\n",
       "      <td>511</td>\n",
       "      <td>37683386059687</td>\n",
       "      <td>San Diego Unified</td>\n",
       "      <td>Muirlands Middle</td>\n",
       "      <td>1056 Nautilus Street</td>\n",
       "      <td>La Jolla</td>\n",
       "      <td>92037</td>\n",
       "      <td>7/1/1980 0:00:00</td>\n",
       "      <td>N</td>\n",
       "      <td>Unified School District</td>\n",
       "      <td>Intermediate/Middle Schools (Public)</td>\n",
       "      <td>6-8</td>\n",
       "      <td>Muirlands</td>\n",
       "      <td>N</td>\n",
       "      <td>744170.258130</td>\n",
       "      <td>3809.709403</td>\n",
       "      <td>3809.709403</td>\n",
       "      <td>744170.258131</td>\n",
       "    </tr>\n",
       "    <tr>\n",
       "      <td>4</td>\n",
       "      <td>5</td>\n",
       "      <td>570</td>\n",
       "      <td>37683386039846</td>\n",
       "      <td>San Diego Unified</td>\n",
       "      <td>La Jolla Elementary</td>\n",
       "      <td>1111 Marine Street</td>\n",
       "      <td>La Jolla</td>\n",
       "      <td>92037</td>\n",
       "      <td>7/1/1980 0:00:00</td>\n",
       "      <td>N</td>\n",
       "      <td>Unified School District</td>\n",
       "      <td>Elementary Schools (Public)</td>\n",
       "      <td>K-5</td>\n",
       "      <td>La Jolla Elem</td>\n",
       "      <td>N</td>\n",
       "      <td>362896.936759</td>\n",
       "      <td>2549.731422</td>\n",
       "      <td>2549.731422</td>\n",
       "      <td>362896.936758</td>\n",
       "    </tr>\n",
       "  </tbody>\n",
       "</table>\n",
       "</div>"
      ],
      "text/plain": [
       "   OID_  schoolID         cdsCode                  district  \\\n",
       "0     1        88  37683386040042         San Diego Unified   \n",
       "1     2       475  37680566038111  Del Mar Union Elementary   \n",
       "2     3       403  37683386040208         San Diego Unified   \n",
       "3     4       511  37683386059687         San Diego Unified   \n",
       "4     5       570  37683386039846         San Diego Unified   \n",
       "\n",
       "                         name                    addr       city    zip  \\\n",
       "0    Pacific Beach Elementary  1234 Tourmaline Street  San Diego  92109   \n",
       "1  Del Mar Heights Elementary     13555 Boquita Drive    Del Mar  92014   \n",
       "2      Sunset View Elementary        4365 Hill Street  San Diego  92107   \n",
       "3            Muirlands Middle    1056 Nautilus Street   La Jolla  92037   \n",
       "4         La Jolla Elementary      1111 Marine Street   La Jolla  92037   \n",
       "\n",
       "           openDate charter                     docType  \\\n",
       "0  7/1/1980 0:00:00       N     Unified School District   \n",
       "1  7/1/1980 0:00:00       N  Elementary School District   \n",
       "2  7/1/1980 0:00:00       N     Unified School District   \n",
       "3  7/1/1980 0:00:00       N     Unified School District   \n",
       "4  7/1/1980 0:00:00       N     Unified School District   \n",
       "\n",
       "                                socType gsOffered            shrtName priv  \\\n",
       "0           Elementary Schools (Public)       K-5  Pacific Beach Elem    N   \n",
       "1           Elementary Schools (Public)       K-6     Del Mar Heights    N   \n",
       "2           Elementary Schools (Public)       K-4         Sunset View    N   \n",
       "3  Intermediate/Middle Schools (Public)       6-8           Muirlands    N   \n",
       "4           Elementary Schools (Public)       K-5       La Jolla Elem    N   \n",
       "\n",
       "      Shape_STAr   Shape_STLe  Shape_Length     Shape_Area  \n",
       "0  334304.483476  2472.448920   2472.448920  334304.483479  \n",
       "1  475624.520306  2808.574191   2808.574191  475624.520309  \n",
       "2  376604.128407  2398.947251   2398.947251  376604.128409  \n",
       "3  744170.258130  3809.709403   3809.709403  744170.258131  \n",
       "4  362896.936759  2549.731422   2549.731422  362896.936758  "
      ]
     },
     "metadata": {},
     "output_type": "display_data"
    },
    {
     "name": "stdout",
     "output_type": "stream",
     "text": [
      "(1031, 19)\n"
     ]
    },
    {
     "data": {
      "text/plain": [
       "1031"
      ]
     },
     "execution_count": 17,
     "metadata": {},
     "output_type": "execute_result"
    }
   ],
   "source": [
    "test = pd.read_csv(r\"C:\\Users\\ppo\\OneDrive - San Diego Association of Governments\\Shared Documents\\Projects\\2022\\2022-87 School Inventory & Enrollment 2022 QC\\data\\inventory\\QC_SCHOOL_POLY_2022.csv\")\n",
    "display(test.head())\n",
    "print(test.shape)\n",
    "test['schoolID'].nunique()"
   ]
  },
  {
   "cell_type": "markdown",
   "metadata": {},
   "source": []
  }
 ],
 "metadata": {
  "kernelspec": {
   "display_name": "base",
   "language": "python",
   "name": "python3"
  },
  "language_info": {
   "codemirror_mode": {
    "name": "ipython",
    "version": 3
   },
   "file_extension": ".py",
   "mimetype": "text/x-python",
   "name": "python",
   "nbconvert_exporter": "python",
   "pygments_lexer": "ipython3",
   "version": "3.7.4"
  },
  "orig_nbformat": 4,
  "vscode": {
   "interpreter": {
    "hash": "9a180aef4ec9e360bb4800443a6eb7a9f30ffd5c78c81dec888953dc96acba15"
   }
  }
 },
 "nbformat": 4,
 "nbformat_minor": 2
}
