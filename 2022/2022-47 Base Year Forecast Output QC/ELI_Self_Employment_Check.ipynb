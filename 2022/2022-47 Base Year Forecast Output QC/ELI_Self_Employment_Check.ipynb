{
 "cells": [
  {
   "cell_type": "markdown",
   "metadata": {},
   "source": [
    "# 2022-47 Base Year Forecast Output QC\n",
    "\n",
    "Test Plan: https://sandag.sharepoint.com/qaqc/_layouts/15/Doc.aspx?sourcedoc={f8b3d630-1290-445b-99a1-2fa9041ade92}&action=edit\n",
    "\n",
    "Documentation: https://sandag.sharepoint.com/:w:/r/qaqc/_layouts/15/Doc.aspx?sourcedoc=%7B3AF20D75-0A22-4B9C-9CC4-85B3EEC294E6%7D&file=MGRABased_input_ABM_2019_process_notes.docx "
   ]
  },
  {
   "cell_type": "markdown",
   "metadata": {},
   "source": [
    "### Library Imports"
   ]
  },
  {
   "cell_type": "code",
   "execution_count": 33,
   "metadata": {},
   "outputs": [],
   "source": [
    "import pandas as pd\n",
    "import numpy as np\n",
    "\n",
    "from pathlib import Path"
   ]
  },
  {
   "cell_type": "markdown",
   "metadata": {},
   "source": [
    "### Download Data\n"
   ]
  },
  {
   "cell_type": "code",
   "execution_count": 34,
   "metadata": {},
   "outputs": [],
   "source": [
    "def download_data(user):\n",
    "    \"\"\"\n",
    "    This function downloads csv data for the 2019 Forecast Output\n",
    "\n",
    "    :param user:    The user trying to download the data. Mostly here so that others can more \n",
    "                    easily run my code\n",
    "\n",
    "    :returns:       Tuple with (mgra data, person data)\n",
    "    \"\"\"\n",
    "    # Data is stored in this folder\n",
    "    data_folder_path = Path(f\"C:/Users/{user}/San Diego Association of Governments/\" \\\n",
    "        \"SANDAG QA QC - Documents/Projects/2022/2022-47 Base Year Forecast Output QC/Data/\")\n",
    "    \n",
    "    # Define the files here\n",
    "    files = [\"mgra_ind.csv\", \"persons_2019_01.csv\", \"households_2019_01.csv\"]\n",
    "\n",
    "    # Download the data from each file and load into a dataframe\n",
    "    dfs = []\n",
    "    for file in files:\n",
    "        dfs.append(pd.read_csv(data_folder_path / file))\n",
    "\n",
    "    # Use the households file to add which mgra each person belongs to\n",
    "    hhid_to_mgra = dfs[2][[\"hhid\", \"mgra\"]]\n",
    "    dfs[1] = dfs[1].merge(hhid_to_mgra, left_on=\"hhid\", right_on=\"hhid\")\n",
    "\n",
    "    return dfs\n",
    "\n",
    "# Get data and put the dfs into named containers\n",
    "mgra, persons, _ = download_data(\"eli\")"
   ]
  },
  {
   "cell_type": "markdown",
   "metadata": {},
   "source": [
    "## Tests\n",
    "\n",
    "#### Get the number of people in the region in the following categories in the file persons.csv\n",
    "\n",
    "1. Full time worker (18+)\n",
    "2. Part time worker (18+)\n",
    "3. College student (18+)"
   ]
  },
  {
   "cell_type": "code",
   "execution_count": 35,
   "metadata": {},
   "outputs": [
    {
     "name": "stdout",
     "output_type": "stream",
     "text": [
      "Number of full time workers (18+):\n"
     ]
    },
    {
     "data": {
      "text/plain": [
       "1122490"
      ]
     },
     "execution_count": 35,
     "metadata": {},
     "output_type": "execute_result"
    }
   ],
   "source": [
    "# ptype == 1 corresponds to full time worker (18+)\n",
    "print(\"Number of full time workers (18+):\")\n",
    "persons[persons[\"ptype\"] == 1].shape[0]"
   ]
  },
  {
   "cell_type": "code",
   "execution_count": 36,
   "metadata": {},
   "outputs": [
    {
     "name": "stdout",
     "output_type": "stream",
     "text": [
      "Number of part time workers (18+):\n"
     ]
    },
    {
     "data": {
      "text/plain": [
       "359033"
      ]
     },
     "execution_count": 36,
     "metadata": {},
     "output_type": "execute_result"
    }
   ],
   "source": [
    "# ptype == 2 corresponds to part time worker (18+)\n",
    "print(\"Number of part time workers (18+):\")\n",
    "persons[persons[\"ptype\"] == 2].shape[0]"
   ]
  },
  {
   "cell_type": "code",
   "execution_count": 37,
   "metadata": {},
   "outputs": [
    {
     "name": "stdout",
     "output_type": "stream",
     "text": [
      "Number of college students (18+):\n"
     ]
    },
    {
     "data": {
      "text/plain": [
       "184270"
      ]
     },
     "execution_count": 37,
     "metadata": {},
     "output_type": "execute_result"
    }
   ],
   "source": [
    "# ptype == 3 corresponds to college studnets (18+)\n",
    "print(\"Number of college students (18+):\")\n",
    "persons[persons[\"ptype\"] == 3].shape[0]"
   ]
  },
  {
   "cell_type": "markdown",
   "metadata": {},
   "source": [
    "#### Get the number of self-employed people in the region from persons.csv confirm with mgra.csv\n",
    "\n",
    "Spoiler, persons.csv does not contain any data on self-employment"
   ]
  },
  {
   "cell_type": "code",
   "execution_count": 38,
   "metadata": {},
   "outputs": [
    {
     "data": {
      "text/plain": [
       "0    3294988\n",
       "Name: occen5, dtype: int64"
      ]
     },
     "execution_count": 38,
     "metadata": {},
     "output_type": "execute_result"
    }
   ],
   "source": [
    "# occen5 = legal census occupation code\n",
    "persons[\"occen5\"].value_counts()"
   ]
  },
  {
   "cell_type": "code",
   "execution_count": 39,
   "metadata": {},
   "outputs": [
    {
     "data": {
      "text/plain": [
       "00-0000    1369996\n",
       "11-1021     768421\n",
       "41-1011     456391\n",
       "31-1010     318000\n",
       "51-1011     146098\n",
       "45-1010     136716\n",
       "55-1010      99366\n",
       "Name: occsoc5, dtype: int64"
      ]
     },
     "execution_count": 39,
     "metadata": {},
     "output_type": "execute_result"
    }
   ],
   "source": [
    "# occsoc5 = detailed occupation codes defined by the Standard Occupation Classification (SOC) system\n",
    "persons[\"occsoc5\"].value_counts()"
   ]
  },
  {
   "cell_type": "markdown",
   "metadata": {},
   "source": [
    "Using 2018 codes unless noted otherwise:\n",
    "\n",
    "11-1201: General and Operations Managers\n",
    "\n",
    "31-1010: Not actually defined in 2018, but 2010 is Nursing, Psychiatric, and Home Health Aids\n",
    "\n",
    "41-1011: First-Line supervisors of retail sales workers\n",
    "\n",
    "45-1010: First-Line Supervisors of Farming, Fishing, and Forestry Workers\n",
    "\n",
    "51-1011: First-line supervisors of production and operating workers\n",
    "\n",
    "55-1010:  Military Officer Special and Tactical Operations Leaders"
   ]
  },
  {
   "cell_type": "code",
   "execution_count": 40,
   "metadata": {},
   "outputs": [
    {
     "data": {
      "text/plain": [
       "0       3195622\n",
       "9770      99366\n",
       "Name: indcen, dtype: int64"
      ]
     },
     "execution_count": 40,
     "metadata": {},
     "output_type": "execute_result"
    }
   ],
   "source": [
    "# ndustry code defined in PECAS: They are about 270 industry categories grouped by 6-digit NAICS \n",
    "# code (North American Industrial Classification System)\n",
    "persons[\"indcen\"].value_counts()"
   ]
  },
  {
   "cell_type": "markdown",
   "metadata": {},
   "source": [
    "9770 does not correspond to any NAICS code"
   ]
  }
 ],
 "metadata": {
  "kernelspec": {
   "display_name": "Python 3.9.12 ('SANDAG')",
   "language": "python",
   "name": "python3"
  },
  "language_info": {
   "codemirror_mode": {
    "name": "ipython",
    "version": 3
   },
   "file_extension": ".py",
   "mimetype": "text/x-python",
   "name": "python",
   "nbconvert_exporter": "python",
   "pygments_lexer": "ipython3",
   "version": "3.9.12"
  },
  "orig_nbformat": 4,
  "vscode": {
   "interpreter": {
    "hash": "41c20cbfa603768ded13150453b5681e701a59febb16590ec3ab380b595ec114"
   }
  }
 },
 "nbformat": 4,
 "nbformat_minor": 2
}
