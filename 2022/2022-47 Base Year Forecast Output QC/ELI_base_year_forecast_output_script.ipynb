{
 "cells": [
  {
   "cell_type": "markdown",
   "metadata": {},
   "source": [
    "# 2022-47 Base Year Forecast Output QC\n",
    "Test Plan: https://sandag.sharepoint.com/qaqc/_layouts/15/Doc.aspx?sourcedoc={f8b3d630-1290-445b-99a1-2fa9041ade92}&action=edit\n",
    "\n",
    "Documentation: https://sandag.sharepoint.com/:w:/r/qaqc/_layouts/15/Doc.aspx?sourcedoc=%7B3AF20D75-0A22-4B9C-9CC4-85B3EEC294E6%7D&file=MGRABased_input_ABM_2019_process_notes.docx "
   ]
  },
  {
   "cell_type": "markdown",
   "metadata": {},
   "source": [
    "### Library Imports"
   ]
  },
  {
   "cell_type": "code",
   "execution_count": 1,
   "metadata": {},
   "outputs": [],
   "source": [
    "import pandas as pd\n",
    "import pyodbc\n",
    "\n",
    "from pathlib import Path\n",
    "\n",
    "# ignore warning relating to pandas and pyodbc (just ignore all warnings)\n",
    "import warnings\n",
    "warnings.filterwarnings(\"ignore\")"
   ]
  },
  {
   "cell_type": "markdown",
   "metadata": {},
   "source": [
    "### Download Data\n"
   ]
  },
  {
   "cell_type": "code",
   "execution_count": 2,
   "metadata": {},
   "outputs": [],
   "source": [
    "def download_csv_data(user):\n",
    "    \"\"\"\n",
    "    This function downloads csv data for the 2019 Forecast Output\n",
    "\n",
    "    :param user:    The user trying to download the data. Mostly here so that others can more \n",
    "                    easily run my code\n",
    "\n",
    "    :returns:       Tuple with (mgra data, region data, jurisdiction data)\n",
    "    \"\"\"\n",
    "\n",
    "    # Data is stored in this folder\n",
    "    data_folder_path = Path(f\"C:/Users/{user}/San Diego Association of Governments/\" \\\n",
    "        \"SANDAG QA QC - Documents/Projects/2022/2022-47 Base Year Forecast Output QC/Data/\")\n",
    "\n",
    "    # Define the files we need from SharePoint\n",
    "    sp_files = [\"mgra_ind.csv\", \"region_ind.csv\", \"jur_ind.csv\"]\n",
    "\n",
    "    # Download the data and put them into dfs\n",
    "    mgra_ind = pd.read_csv(data_folder_path / sp_files[0])\n",
    "    region_ind = pd.read_csv(data_folder_path / sp_files[1])\n",
    "    jurisdiction_ind = pd.read_csv(data_folder_path / sp_files[2])\n",
    "\n",
    "    # Return the data in tuple format\n",
    "    return mgra_ind, region_ind, jurisdiction_ind\n",
    "\n",
    "# Get the csv data\n",
    "mgra, region, jurisdiction = download_csv_data(\"eli\")"
   ]
  },
  {
   "cell_type": "code",
   "execution_count": 3,
   "metadata": {},
   "outputs": [],
   "source": [
    "def download_SQL_data():\n",
    "    \"\"\"\n",
    "    This function downloads SQL data for the 2019 Forecast Output\n",
    "\n",
    "    :returns:       Tuple with (mgra data, region data)\n",
    "    \"\"\"\n",
    "    # Create the SQL connection to download juristiction data\n",
    "    connection = pyodbc.connect('Driver={ODBC Driver 17 for SQL Server};'\n",
    "        'Server=DDAMWSQL16.sandag.org;'\n",
    "        'Database=dpoe_stage;'\n",
    "        'Trusted_Connection=yes;')\n",
    "\n",
    "    # Get only the data we want (Series 14; mgra_id to jurisdiction table)\n",
    "    query = \"\"\"SELECT mgra_id, jurisdiction FROM demographic_warehouse.dim.mgra_denormalize\n",
    "        WHERE series=14\"\"\"\n",
    "    jurisdiction = pd.read_sql_query(query, connection)\n",
    "\n",
    "    # Get the data for every single fact table\n",
    "    fact_table_names = [\"age\", \"age_sex_ethnicity\", \"ethnicity\", \"household_income\", \"housing\", \"jobs\",\n",
    "        \"land_use\", \"population\", \"sex\"]\n",
    "    fact_data = {}\n",
    "    for table_name in fact_table_names:\n",
    "        fact_data[table_name] = pd.read_sql_query(f\"\"\"\n",
    "            SELECT * FROM demographic_warehouse.fact.{table_name} \n",
    "            WHERE datasource_id=44\n",
    "            AND yr_id=2019\"\"\", connection)\n",
    "\n",
    "    # For each fact table, add on the jurisdiction information using the mgra_id to jurisdiction \n",
    "    # table\n",
    "    for table_name in fact_table_names:\n",
    "        fact_data[table_name] = fact_data[table_name].merge(\n",
    "            jurisdiction, left_on=\"mgra_id\", right_on=\"mgra_id\")\n",
    "\n",
    "    return fact_data\n",
    "\n",
    "# get the SQL data\n",
    "fact_tables = download_SQL_data()"
   ]
  },
  {
   "cell_type": "markdown",
   "metadata": {},
   "source": [
    "### Tests"
   ]
  },
  {
   "cell_type": "markdown",
   "metadata": {},
   "source": [
    "#### Tests for Population Variables"
   ]
  },
  {
   "cell_type": "code",
   "execution_count": 4,
   "metadata": {},
   "outputs": [],
   "source": [
    "# pop = total population\n",
    "# hhp = total household population (exlucde gq pop)\n",
    "# gq_total = total gq population, derived from sum of population in civialn gq and military gq\n",
    "population_variables = [\"pop\", \"hhp\", \"gq_total\"]\n",
    "\n",
    "# Create the gq_total column in all dfs\n",
    "mgra[\"gq_total\"] = mgra[\"gq_civ\"] + mgra[\"Group Quarters - Military (gq_mil)\"]\n",
    "region[\"gq_total\"] = region[\"gq_civ\"] + region[\"Group Quarters - Military (gq_mil)\"]\n",
    "jurisdiction[\"gq_total\"] = jurisdiction[\"gq_civ\"] \\\n",
    "    + jurisdiction[\"Group Quarters - Military (gq_mil)\"]"
   ]
  },
  {
   "cell_type": "code",
   "execution_count": 5,
   "metadata": {},
   "outputs": [
    {
     "data": {
      "text/html": [
       "<div>\n",
       "<style scoped>\n",
       "    .dataframe tbody tr th:only-of-type {\n",
       "        vertical-align: middle;\n",
       "    }\n",
       "\n",
       "    .dataframe tbody tr th {\n",
       "        vertical-align: top;\n",
       "    }\n",
       "\n",
       "    .dataframe thead th {\n",
       "        text-align: right;\n",
       "    }\n",
       "</style>\n",
       "<table border=\"1\" class=\"dataframe\">\n",
       "  <thead>\n",
       "    <tr style=\"text-align: right;\">\n",
       "      <th></th>\n",
       "      <th>pop</th>\n",
       "      <th>hhp</th>\n",
       "      <th>gq_total</th>\n",
       "    </tr>\n",
       "  </thead>\n",
       "  <tbody>\n",
       "    <tr>\n",
       "      <th>0</th>\n",
       "      <td>True</td>\n",
       "      <td>True</td>\n",
       "      <td>True</td>\n",
       "    </tr>\n",
       "  </tbody>\n",
       "</table>\n",
       "</div>"
      ],
      "text/plain": [
       "    pop   hhp  gq_total\n",
       "0  True  True      True"
      ]
     },
     "execution_count": 5,
     "metadata": {},
     "output_type": "execute_result"
    }
   ],
   "source": [
    "# Check the population variables match up between mgra and region\n",
    "mgra[population_variables].sum() == region[population_variables]"
   ]
  },
  {
   "cell_type": "code",
   "execution_count": 6,
   "metadata": {},
   "outputs": [
    {
     "data": {
      "text/html": [
       "<div>\n",
       "<style scoped>\n",
       "    .dataframe tbody tr th:only-of-type {\n",
       "        vertical-align: middle;\n",
       "    }\n",
       "\n",
       "    .dataframe tbody tr th {\n",
       "        vertical-align: top;\n",
       "    }\n",
       "\n",
       "    .dataframe thead th {\n",
       "        text-align: right;\n",
       "    }\n",
       "</style>\n",
       "<table border=\"1\" class=\"dataframe\">\n",
       "  <thead>\n",
       "    <tr style=\"text-align: right;\">\n",
       "      <th></th>\n",
       "      <th>pop</th>\n",
       "      <th>hhp</th>\n",
       "      <th>gq_total</th>\n",
       "    </tr>\n",
       "    <tr>\n",
       "      <th>jurisdiction</th>\n",
       "      <th></th>\n",
       "      <th></th>\n",
       "      <th></th>\n",
       "    </tr>\n",
       "  </thead>\n",
       "  <tbody>\n",
       "    <tr>\n",
       "      <th>Carlsbad</th>\n",
       "      <td>False</td>\n",
       "      <td>False</td>\n",
       "      <td>True</td>\n",
       "    </tr>\n",
       "    <tr>\n",
       "      <th>Chula Vista</th>\n",
       "      <td>False</td>\n",
       "      <td>False</td>\n",
       "      <td>False</td>\n",
       "    </tr>\n",
       "    <tr>\n",
       "      <th>Coronado</th>\n",
       "      <td>False</td>\n",
       "      <td>False</td>\n",
       "      <td>True</td>\n",
       "    </tr>\n",
       "    <tr>\n",
       "      <th>Del Mar</th>\n",
       "      <td>False</td>\n",
       "      <td>False</td>\n",
       "      <td>True</td>\n",
       "    </tr>\n",
       "    <tr>\n",
       "      <th>El Cajon</th>\n",
       "      <td>False</td>\n",
       "      <td>False</td>\n",
       "      <td>False</td>\n",
       "    </tr>\n",
       "    <tr>\n",
       "      <th>Encinitas</th>\n",
       "      <td>False</td>\n",
       "      <td>False</td>\n",
       "      <td>False</td>\n",
       "    </tr>\n",
       "    <tr>\n",
       "      <th>Escondido</th>\n",
       "      <td>False</td>\n",
       "      <td>False</td>\n",
       "      <td>False</td>\n",
       "    </tr>\n",
       "    <tr>\n",
       "      <th>Imperial Beach</th>\n",
       "      <td>False</td>\n",
       "      <td>False</td>\n",
       "      <td>False</td>\n",
       "    </tr>\n",
       "    <tr>\n",
       "      <th>La Mesa</th>\n",
       "      <td>False</td>\n",
       "      <td>False</td>\n",
       "      <td>False</td>\n",
       "    </tr>\n",
       "    <tr>\n",
       "      <th>Lemon Grove</th>\n",
       "      <td>False</td>\n",
       "      <td>False</td>\n",
       "      <td>False</td>\n",
       "    </tr>\n",
       "    <tr>\n",
       "      <th>National City</th>\n",
       "      <td>False</td>\n",
       "      <td>False</td>\n",
       "      <td>False</td>\n",
       "    </tr>\n",
       "    <tr>\n",
       "      <th>Oceanside</th>\n",
       "      <td>False</td>\n",
       "      <td>False</td>\n",
       "      <td>False</td>\n",
       "    </tr>\n",
       "    <tr>\n",
       "      <th>Poway</th>\n",
       "      <td>False</td>\n",
       "      <td>False</td>\n",
       "      <td>True</td>\n",
       "    </tr>\n",
       "    <tr>\n",
       "      <th>San Diego</th>\n",
       "      <td>False</td>\n",
       "      <td>False</td>\n",
       "      <td>False</td>\n",
       "    </tr>\n",
       "    <tr>\n",
       "      <th>San Marcos</th>\n",
       "      <td>False</td>\n",
       "      <td>False</td>\n",
       "      <td>False</td>\n",
       "    </tr>\n",
       "    <tr>\n",
       "      <th>Santee</th>\n",
       "      <td>False</td>\n",
       "      <td>False</td>\n",
       "      <td>False</td>\n",
       "    </tr>\n",
       "    <tr>\n",
       "      <th>Solana Beach</th>\n",
       "      <td>False</td>\n",
       "      <td>False</td>\n",
       "      <td>True</td>\n",
       "    </tr>\n",
       "    <tr>\n",
       "      <th>Unincorporated</th>\n",
       "      <td>False</td>\n",
       "      <td>False</td>\n",
       "      <td>False</td>\n",
       "    </tr>\n",
       "    <tr>\n",
       "      <th>Vista</th>\n",
       "      <td>False</td>\n",
       "      <td>False</td>\n",
       "      <td>False</td>\n",
       "    </tr>\n",
       "  </tbody>\n",
       "</table>\n",
       "</div>"
      ],
      "text/plain": [
       "                  pop    hhp  gq_total\n",
       "jurisdiction                          \n",
       "Carlsbad        False  False      True\n",
       "Chula Vista     False  False     False\n",
       "Coronado        False  False      True\n",
       "Del Mar         False  False      True\n",
       "El Cajon        False  False     False\n",
       "Encinitas       False  False     False\n",
       "Escondido       False  False     False\n",
       "Imperial Beach  False  False     False\n",
       "La Mesa         False  False     False\n",
       "Lemon Grove     False  False     False\n",
       "National City   False  False     False\n",
       "Oceanside       False  False     False\n",
       "Poway           False  False      True\n",
       "San Diego       False  False     False\n",
       "San Marcos      False  False     False\n",
       "Santee          False  False     False\n",
       "Solana Beach    False  False      True\n",
       "Unincorporated  False  False     False\n",
       "Vista           False  False     False"
      ]
     },
     "execution_count": 6,
     "metadata": {},
     "output_type": "execute_result"
    }
   ],
   "source": [
    "# Check the population variables match up between fact tables and jurisdiction\n",
    "population_checks = []\n",
    "\n",
    "# Check total population\n",
    "fact_table_pop = fact_tables[\"population\"].groupby(\"jurisdiction\").sum()[[\"population\"]].rename(\n",
    "    {\"population\": \"pop\"}, axis=1)\n",
    "jurisdiction_pop = jurisdiction[[\"jurisdiction\", \"pop\"]].set_index(\"jurisdiction\")\n",
    "population_checks.append(fact_table_pop == jurisdiction_pop)\n",
    "\n",
    "# Check total household population\n",
    "# housing_type_id = 1 is household population without gq\n",
    "fact_table_hhp = fact_tables[\"population\"][fact_tables[\"population\"][\"housing_type_id\"] == 1]\n",
    "fact_table_hhp = fact_table_hhp.groupby(\"jurisdiction\").sum()[[\"population\"]].rename(\n",
    "    {\"population\": \"hhp\"}, axis=1)\n",
    "jurisdiction_hhp = jurisdiction[[\"jurisdiction\", \"hhp\"]].set_index(\"jurisdiction\")\n",
    "population_checks.append(fact_table_hhp == jurisdiction_hhp)\n",
    "\n",
    "# Check total gq population\n",
    "# housing_type_id != 1 (aka housing_type_id = 2, 3, 4) is household population in gq\n",
    "fact_table_gq_total = fact_tables[\"population\"][fact_tables[\"population\"][\"housing_type_id\"] != 1]\n",
    "fact_table_gq_total = fact_table_gq_total.groupby(\"jurisdiction\").sum()[[\"population\"]].rename(\n",
    "    {\"population\": \"gq_total\"}, axis=1)\n",
    "jurisdiction_gq_total = jurisdiction[[\"jurisdiction\", \"gq_total\"]].set_index(\"jurisdiction\")\n",
    "population_checks.append(fact_table_gq_total == jurisdiction_gq_total)\n",
    "\n",
    "# Output nicely formatted results\n",
    "pd.concat(population_checks, axis=1)"
   ]
  },
  {
   "cell_type": "code",
   "execution_count": 7,
   "metadata": {},
   "outputs": [
    {
     "data": {
      "text/html": [
       "<div>\n",
       "<style scoped>\n",
       "    .dataframe tbody tr th:only-of-type {\n",
       "        vertical-align: middle;\n",
       "    }\n",
       "\n",
       "    .dataframe tbody tr th {\n",
       "        vertical-align: top;\n",
       "    }\n",
       "\n",
       "    .dataframe thead th {\n",
       "        text-align: right;\n",
       "    }\n",
       "</style>\n",
       "<table border=\"1\" class=\"dataframe\">\n",
       "  <thead>\n",
       "    <tr style=\"text-align: right;\">\n",
       "      <th></th>\n",
       "      <th>pop</th>\n",
       "      <th>hhp</th>\n",
       "      <th>gq_total</th>\n",
       "    </tr>\n",
       "  </thead>\n",
       "  <tbody>\n",
       "    <tr>\n",
       "      <th>0</th>\n",
       "      <td>True</td>\n",
       "      <td>True</td>\n",
       "      <td>True</td>\n",
       "    </tr>\n",
       "  </tbody>\n",
       "</table>\n",
       "</div>"
      ],
      "text/plain": [
       "    pop   hhp  gq_total\n",
       "0  True  True      True"
      ]
     },
     "execution_count": 7,
     "metadata": {},
     "output_type": "execute_result"
    }
   ],
   "source": [
    "# Check the population variables match up between Jurisdiction and Region\n",
    "population_checks = {}\n",
    "\n",
    "# Check total population \n",
    "population_checks[\"pop\"] = (fact_tables[\"population\"][\"population\"].sum() == region[\"pop\"])\n",
    "\n",
    "# Check total household population\n",
    "non_gq_table = fact_tables[\"population\"][fact_tables[\"population\"][\"housing_type_id\"] == 1]\n",
    "population_checks[\"hhp\"] = (non_gq_table[\"population\"].sum() == region[\"hhp\"])\n",
    "\n",
    "# Check total gq population\n",
    "gq_table = fact_tables[\"population\"][fact_tables[\"population\"][\"housing_type_id\"] != 1]\n",
    "population_checks[\"gq_total\"] = (gq_table[\"population\"].sum() == region[\"gq_total\"])\n",
    "\n",
    "# Output nicely formatted results\n",
    "pd.DataFrame.from_dict(population_checks)"
   ]
  },
  {
   "cell_type": "markdown",
   "metadata": {},
   "source": [
    "#### Tests for Housing Variables"
   ]
  },
  {
   "cell_type": "code",
   "execution_count": 8,
   "metadata": {},
   "outputs": [],
   "source": [
    "# hs = housing units\n",
    "# Household Population (hh) = number of households\n",
    "# hhs = household size\n",
    "# vacancy = vacant units\n",
    "# vacancy_rate = vacancy rate\n",
    "housing_variables = [\"hs\", \"Household Population (hh)\", \"hhs\", \"vacancy\", \"vacancy_rate\"]"
   ]
  },
  {
   "cell_type": "markdown",
   "metadata": {},
   "source": [
    "#### Tests for Employment Variables"
   ]
  },
  {
   "cell_type": "markdown",
   "metadata": {},
   "source": [
    "#### Tests for School Enrollment"
   ]
  },
  {
   "cell_type": "markdown",
   "metadata": {},
   "source": [
    "#### Tests for College Enrollment"
   ]
  },
  {
   "cell_type": "markdown",
   "metadata": {},
   "source": [
    "#### Tests for Income"
   ]
  },
  {
   "cell_type": "markdown",
   "metadata": {},
   "source": [
    "#### Tests for Ethnicity by Category"
   ]
  },
  {
   "cell_type": "markdown",
   "metadata": {},
   "source": [
    "#### Tests for Age"
   ]
  },
  {
   "cell_type": "markdown",
   "metadata": {},
   "source": [
    "#### Tests for Total Hotel Rooms"
   ]
  }
 ],
 "metadata": {
  "kernelspec": {
   "display_name": "Python 3.9.12 ('SANDAG')",
   "language": "python",
   "name": "python3"
  },
  "language_info": {
   "codemirror_mode": {
    "name": "ipython",
    "version": 3
   },
   "file_extension": ".py",
   "mimetype": "text/x-python",
   "name": "python",
   "nbconvert_exporter": "python",
   "pygments_lexer": "ipython3",
   "version": "3.9.12"
  },
  "orig_nbformat": 4,
  "vscode": {
   "interpreter": {
    "hash": "41c20cbfa603768ded13150453b5681e701a59febb16590ec3ab380b595ec114"
   }
  }
 },
 "nbformat": 4,
 "nbformat_minor": 2
}
