{
 "cells": [
  {
   "cell_type": "markdown",
   "metadata": {},
   "source": [
    "# 2022-47 Base Year Forecast Output QC\n",
    "Test Plan: https://sandag.sharepoint.com/qaqc/_layouts/15/Doc.aspx?sourcedoc={f8b3d630-1290-445b-99a1-2fa9041ade92}&action=edit\n",
    "\n",
    "Documentation: https://sandag.sharepoint.com/:w:/r/qaqc/_layouts/15/Doc.aspx?sourcedoc=%7B3AF20D75-0A22-4B9C-9CC4-85B3EEC294E6%7D&file=MGRABased_input_ABM_2019_process_notes.docx "
   ]
  },
  {
   "cell_type": "markdown",
   "metadata": {},
   "source": [
    "### Library Imports"
   ]
  },
  {
   "cell_type": "code",
   "execution_count": 1,
   "metadata": {},
   "outputs": [],
   "source": [
    "import pandas as pd\n",
    "import pyodbc\n",
    "\n",
    "from pathlib import Path\n",
    "\n",
    "# ignore warning relating to pandas and pyodbc (just ignore all warnings)\n",
    "import warnings\n",
    "warnings.filterwarnings(\"ignore\")"
   ]
  },
  {
   "cell_type": "markdown",
   "metadata": {},
   "source": [
    "### Download Data\n"
   ]
  },
  {
   "cell_type": "code",
   "execution_count": 2,
   "metadata": {},
   "outputs": [],
   "source": [
    "def download_csv_data(user):\n",
    "    \"\"\"\n",
    "    This function downloads csv data for the 2019 Forecast Output\n",
    "\n",
    "    :param user:    The user trying to download the data. Mostly here so that others can more \n",
    "                    easily run my code\n",
    "\n",
    "    :returns:       Tuple with (mgra data, region data, jurisdiction data)\n",
    "    \"\"\"\n",
    "\n",
    "    # Data is stored in this folder\n",
    "    data_folder_path = Path(f\"C:/Users/{user}/San Diego Association of Governments/\" \\\n",
    "        \"SANDAG QA QC - Documents/Projects/2022/2022-47 Base Year Forecast Output QC/Data/\")\n",
    "\n",
    "    # Define the files we need from SharePoint\n",
    "    sp_files = [\"mgra_ind.csv\", \"region_ind.csv\", \"jur_ind.csv\"]\n",
    "\n",
    "    # Download the data and put them into dfs\n",
    "    mgra_ind = pd.read_csv(data_folder_path / sp_files[0])\n",
    "    region_ind = pd.read_csv(data_folder_path / sp_files[1])\n",
    "    jurisdiction_ind = pd.read_csv(data_folder_path / sp_files[2])\n",
    "\n",
    "    # Correct some columns names\n",
    "    # In region_ind.csv, \"Household Population (hh)\" --> \"hh\"\n",
    "    region_ind = region_ind.rename({\"Household Population (hh)\": \"hh\"}, axis=1)\n",
    "\n",
    "    # Return the data in tuple format\n",
    "    return mgra_ind, region_ind, jurisdiction_ind\n",
    "\n",
    "# Get the csv data\n",
    "mgra, region, jurisdiction = download_csv_data(\"eli\")"
   ]
  },
  {
   "cell_type": "code",
   "execution_count": 3,
   "metadata": {},
   "outputs": [],
   "source": [
    "def download_SQL_data():\n",
    "    \"\"\"\n",
    "    This function downloads SQL data for the 2019 Forecast Output\n",
    "\n",
    "    :returns:       Tuple with (mgra data, region data)\n",
    "    \"\"\"\n",
    "    # Create the SQL connection to download juristiction data\n",
    "    connection = pyodbc.connect('Driver={ODBC Driver 17 for SQL Server};'\n",
    "        'Server=DDAMWSQL16.sandag.org;'\n",
    "        'Database=dpoe_stage;'\n",
    "        'Trusted_Connection=yes;')\n",
    "\n",
    "    # Get only the data we want (Series 14; mgra_id to jurisdiction table)\n",
    "    query = \"\"\"SELECT mgra_id, jurisdiction FROM demographic_warehouse.dim.mgra_denormalize\n",
    "        WHERE series=14\"\"\"\n",
    "    jurisdiction = pd.read_sql_query(query, connection)\n",
    "\n",
    "    # Get the data for every single fact table\n",
    "    fact_table_names = [\"age\", \"age_sex_ethnicity\", \"ethnicity\", \"household_income\", \"housing\", \"jobs\",\n",
    "        \"land_use\", \"population\", \"sex\"]\n",
    "    fact_data = {}\n",
    "    for table_name in fact_table_names:\n",
    "        fact_data[table_name] = pd.read_sql_query(f\"\"\"\n",
    "            SELECT * FROM demographic_warehouse.fact.{table_name} \n",
    "            WHERE datasource_id=44\n",
    "            AND yr_id=2019\"\"\", connection)\n",
    "\n",
    "    # For each fact table, add on the jurisdiction information using the mgra_id to jurisdiction \n",
    "    # table\n",
    "    for table_name in fact_table_names:\n",
    "        fact_data[table_name] = fact_data[table_name].merge(\n",
    "            jurisdiction, left_on=\"mgra_id\", right_on=\"mgra_id\")\n",
    "\n",
    "    return fact_data\n",
    "\n",
    "# # get the SQL data\n",
    "# fact_tables = download_SQL_data()"
   ]
  },
  {
   "cell_type": "markdown",
   "metadata": {},
   "source": [
    "### Tests"
   ]
  },
  {
   "cell_type": "code",
   "execution_count": 4,
   "metadata": {},
   "outputs": [],
   "source": [
    "def average(numerator, denominator):\n",
    "    \"\"\"\n",
    "    TODO\n",
    "    \"\"\"\n",
    "    return numerator.sum() / denominator.sum()\n",
    "\n",
    "def rate(numerator, denominator):\n",
    "    \"\"\"\n",
    "    TODO\n",
    "    \"\"\"\n",
    "    return (numerator.sum() / denominator.sum()) * 100\n",
    "\n",
    "def compare_values(mgra_value, region_value):\n",
    "    \"\"\"\n",
    "    TODO\n",
    "    \"\"\"\n",
    "    if(mgra_value == region_value):\n",
    "        return True\n",
    "    else:\n",
    "        print(\"mgra_ind.csv   value:\", mgra_value)\n",
    "        print(\"region_ind.csv value:\", region_value)\n",
    "        return False"
   ]
  },
  {
   "cell_type": "code",
   "execution_count": 5,
   "metadata": {},
   "outputs": [],
   "source": [
    "def test_mgra_region(mgra, region, region_var, function, f_args):\n",
    "    \"\"\"\n",
    "    Generic function used to test the internal consistency of mgra_ind.csv and region_ind.csv\n",
    "\n",
    "    TODO\n",
    "    \"\"\"\n",
    "    if(function == sum):\n",
    "        return compare_values(mgra[f_args[0]].sum(), region[region_var].values[0])\n",
    "    if(function == average or function == rate):\n",
    "        return compare_values(function(mgra[f_args[0]], mgra[f_args[1]]), \n",
    "            region[region_var].values[0])"
   ]
  },
  {
   "cell_type": "markdown",
   "metadata": {},
   "source": [
    "#### Tests for Population Variables"
   ]
  },
  {
   "cell_type": "code",
   "execution_count": 6,
   "metadata": {},
   "outputs": [
    {
     "name": "stdout",
     "output_type": "stream",
     "text": [
      "pop True\n",
      "\n",
      "hhp True\n",
      "\n",
      "gq_total True\n",
      "\n"
     ]
    }
   ],
   "source": [
    "# pop = total population\n",
    "# hhp = total household population (exlucde gq pop)\n",
    "# gq_total = total gq population, derived from sum of population in civialn gq and military gq\n",
    "population_variables = [\n",
    "    [\"pop\", sum, [\"pop\"]],\n",
    "    [\"hhp\", sum, [\"hhp\"]],\n",
    "    [\"gq_total\", sum, [\"gq_total\"]]\n",
    "]\n",
    "# population_variables = [\"pop\", \"hhp\", \"gq_total\"]\n",
    "# population_functions = [sum, sum, sum]\n",
    "\n",
    "# Create the gq_total column in all dfs\n",
    "mgra[\"gq_total\"] = mgra[\"gq_civ\"] + mgra[\"Group Quarters - Military (gq_mil)\"]\n",
    "region[\"gq_total\"] = region[\"gq_civ\"] + region[\"Group Quarters - Military (gq_mil)\"]\n",
    "jurisdiction[\"gq_total\"] = jurisdiction[\"gq_civ\"] \\\n",
    "    + jurisdiction[\"Group Quarters - Military (gq_mil)\"]\n",
    "    \n",
    "# Check the population variables match up between mgra_ind.csv and region_ind.csv\n",
    "for variable in population_variables:\n",
    "    print(variable[0],\n",
    "        test_mgra_region(mgra, region, region_var=variable[0], function=variable[1], \n",
    "            f_args=variable[2]))\n",
    "    print()"
   ]
  },
  {
   "cell_type": "code",
   "execution_count": 7,
   "metadata": {},
   "outputs": [],
   "source": [
    "# # Check the population variables match up between fact tables and jurisdiction\n",
    "# population_checks = []\n",
    "\n",
    "# # Check total population\n",
    "# fact_table_pop = fact_tables[\"population\"].groupby(\"jurisdiction\").sum()[[\"population\"]].rename(\n",
    "#     {\"population\": \"pop\"}, axis=1)\n",
    "# jurisdiction_pop = jurisdiction[[\"jurisdiction\", \"pop\"]].set_index(\"jurisdiction\")\n",
    "# population_checks.append(fact_table_pop == jurisdiction_pop)\n",
    "\n",
    "# # Check total household population\n",
    "# # housing_type_id = 1 is household population without gq\n",
    "# fact_table_hhp = fact_tables[\"population\"][fact_tables[\"population\"][\"housing_type_id\"] == 1]\n",
    "# fact_table_hhp = fact_table_hhp.groupby(\"jurisdiction\").sum()[[\"population\"]].rename(\n",
    "#     {\"population\": \"hhp\"}, axis=1)\n",
    "# jurisdiction_hhp = jurisdiction[[\"jurisdiction\", \"hhp\"]].set_index(\"jurisdiction\")\n",
    "# population_checks.append(fact_table_hhp == jurisdiction_hhp)\n",
    "\n",
    "# # Check total gq population\n",
    "# # housing_type_id != 1 (aka housing_type_id = 2, 3, 4) is household population in gq\n",
    "# fact_table_gq_total = fact_tables[\"population\"][fact_tables[\"population\"][\"housing_type_id\"] != 1]\n",
    "# fact_table_gq_total = fact_table_gq_total.groupby(\"jurisdiction\").sum()[[\"population\"]].rename(\n",
    "#     {\"population\": \"gq_total\"}, axis=1)\n",
    "# jurisdiction_gq_total = jurisdiction[[\"jurisdiction\", \"gq_total\"]].set_index(\"jurisdiction\")\n",
    "# population_checks.append(fact_table_gq_total == jurisdiction_gq_total)\n",
    "\n",
    "# # Output nicely formatted results\n",
    "# pd.concat(population_checks, axis=1)"
   ]
  },
  {
   "cell_type": "code",
   "execution_count": 8,
   "metadata": {},
   "outputs": [],
   "source": [
    "# # Check the population variables match up between Jurisdiction and Region\n",
    "# population_checks = {}\n",
    "\n",
    "# # Check total population \n",
    "# population_checks[\"pop\"] = (fact_tables[\"population\"][\"population\"].sum() == region[\"pop\"])\n",
    "\n",
    "# # Check total household population\n",
    "# non_gq_table = fact_tables[\"population\"][fact_tables[\"population\"][\"housing_type_id\"] == 1]\n",
    "# population_checks[\"hhp\"] = (non_gq_table[\"population\"].sum() == region[\"hhp\"])\n",
    "\n",
    "# # Check total gq population\n",
    "# gq_table = fact_tables[\"population\"][fact_tables[\"population\"][\"housing_type_id\"] != 1]\n",
    "# population_checks[\"gq_total\"] = (gq_table[\"population\"].sum() == region[\"gq_total\"])\n",
    "\n",
    "# # Output nicely formatted results\n",
    "# pd.DataFrame.from_dict(population_checks)"
   ]
  },
  {
   "cell_type": "markdown",
   "metadata": {},
   "source": [
    "#### Tests for Housing Variables"
   ]
  },
  {
   "cell_type": "code",
   "execution_count": 9,
   "metadata": {},
   "outputs": [
    {
     "name": "stdout",
     "output_type": "stream",
     "text": [
      "hs True\n",
      "\n",
      "hh True\n",
      "\n",
      "mgra_ind.csv   value: 2.896117137863108\n",
      "region_ind.csv value: 49743.093\n",
      "hhs False\n",
      "\n",
      "vacancy True\n",
      "\n",
      "mgra_ind.csv   value: 4.26962170094305\n",
      "region_ind.csv value: 26715.815137256173\n",
      "vacancy_rate False\n",
      "\n"
     ]
    }
   ],
   "source": [
    "# hs = housing units\n",
    "# hh = number of households\n",
    "# hhs = household size\n",
    "# vacancy = vacant units\n",
    "# vacancy_rate = vacancy rate\n",
    "housing_variables = [\n",
    "    [\"hs\", sum, [\"hs\"]],\n",
    "    [\"hh\", sum, [\"Household Population (hh)\"]],\n",
    "    [\"hhs\", average, [\"pop\", \"Household Population (hh)\"]],\n",
    "    [\"vacancy\", sum, [\"vacancy\"]],\n",
    "    [\"vacancy_rate\", rate, [\"vacancy\", \"units\"]]\n",
    "]\n",
    "    \n",
    "# Check the housing variables match up between mgra_ind.csv and region_ind.csv\n",
    "for variable in housing_variables:\n",
    "    print(variable[0],\n",
    "        test_mgra_region(mgra, region, region_var=variable[0], function=variable[1], \n",
    "            f_args=variable[2]))\n",
    "    print()"
   ]
  },
  {
   "cell_type": "code",
   "execution_count": 10,
   "metadata": {},
   "outputs": [],
   "source": [
    "# # Check the housing variables match up between fact tables and jurisdiction\n",
    "# housing_checks = []\n",
    "\n",
    "# # Check housing units\n",
    "# fact_table_hs = fact_tables[\"housing\"].groupby(\"jurisdiction\").sum()[[\"units\"]].rename(\n",
    "#     {\"units\": \"hs\"}, axis=1)\n",
    "# jurisdiction_hs = jurisdiction[[\"jurisdiction\", \"hs\"]].set_index(\"jurisdiction\")\n",
    "# housing_checks.append(fact_table_hs == jurisdiction_hs)\n",
    "\n",
    "# # Check number of households\n",
    "# fact_table_hh = fact_tables[\"household_income\"].groupby(\"jurisdiction\").sum()[\n",
    "#     [\"households\"]].rename({\"households\": \"hh\"}, axis=1)\n",
    "# jurisdiction_hh = jurisdiction[[\"jurisdiction\", \"Household Population (hh)\"]].rename(\n",
    "#     {\"Household Population (hh)\": \"hh\"}, axis=1).set_index(\"jurisdiction\")\n",
    "# housing_checks.append(fact_table_hh == jurisdiction_hh)\n",
    "\n",
    "# # Check household size\n",
    "# fact_table_hhs = fact_tables[\"population\"].groupby(\"jurisdiction\").sum()[[\"population\"]].rename(\n",
    "#     {\"population\": \"hhs\"}, axis=1) / fact_tables[\"housing\"].groupby(\"jurisdiction\").sum() \\\n",
    "#     [[\"units\"]].rename({\"units\": \"hhs\"}, axis=1)\n",
    "# jurisdiction_hhs = jurisdiction[[\"jurisdiction\", \"hhs\"]].set_index(\"jurisdiction\")\n",
    "# housing_checks.append(fact_table_hhs == jurisdiction_hhs)\n",
    "\n",
    "# # Check vacant units\n",
    "# fact_table_vacancy = fact_tables[\"housing\"].groupby(\"jurisdiction\").sum()[[\"vacancy\"]]\n",
    "# jurisdiction_vacancy = jurisdiction[[\"jurisdiction\", \"vacancy\"]].set_index(\"jurisdiction\")\n",
    "# housing_checks.append(fact_table_vacancy == jurisdiction_vacancy)\n",
    "\n",
    "# # Check vacancy rate\n",
    "# fact_table_vacancy_rate = fact_tables[\"housing\"].groupby(\"jurisdiction\").sum()[[\"vacancy\"]].rename(\n",
    "#     {\"vacancy\": \"vacancy_rate\"}, axis=1) / fact_tables[\"housing\"].groupby(\"jurisdiction\").sum() \\\n",
    "#     [[\"units\"]].rename({\"units\": \"vacancy_rate\"}, axis=1)\n",
    "# jurisdiction_vacancy_rate = jurisdiction[[\"jurisdiction\", \"vacancy_rate\"]].set_index(\"jurisdiction\")\n",
    "# housing_checks.append(fact_table_vacancy_rate == jurisdiction_vacancy_rate)\n",
    "\n",
    "# # Output nicely formatted results\n",
    "# pd.concat(housing_checks, axis=1)"
   ]
  },
  {
   "cell_type": "code",
   "execution_count": 11,
   "metadata": {},
   "outputs": [],
   "source": [
    "# # Check the housing variables match up between Jurisdiction and Region\n",
    "# housing_checks = {}\n",
    "\n",
    "# # Check housing units\n",
    "# housing_checks[\"hs\"] = [fact_tables[\"housing\"][\"units\"].sum() == int(region[\"hs\"])]\n",
    "\n",
    "# # Check number of households\n",
    "# housing_checks[\"hh\"] = [fact_tables[\"household_income\"][\"households\"].sum() \n",
    "#     == int(region[\"Household Population (hh)\"])]\n",
    "\n",
    "# # Check household size\n",
    "# housing_checks[\"hhs\"] = [(fact_tables[\"population\"][\"population\"].sum() \n",
    "#     / fact_tables[\"household_income\"][\"households\"].sum()) == float(region[\"hhs\"])]\n",
    "# print(\"hhs from fact tables:\\t\\t\", (fact_tables[\"population\"][\"population\"].sum() \n",
    "#     / fact_tables[\"household_income\"][\"households\"].sum()))\n",
    "# print(\"hhs from region_ind.csv:\\t\", float(region[\"hhs\"]))\n",
    "\n",
    "# # Check vacant units\n",
    "# housing_checks[\"vacancy\"] = [fact_tables[\"housing\"][\"vacancy\"].sum() == int(region[\"vacancy\"])]\n",
    "# print(\"vacancy from fact tables:\\t\", fact_tables[\"housing\"][\"vacancy\"].sum())\n",
    "# print(\"vacancy from region_ind.csv:\\t\", int(region[\"vacancy\"]))\n",
    "\n",
    "\n",
    "# # Check vacancy rate\n",
    "# housing_checks[\"vacancy_rate\"] = [(fact_tables[\"housing\"][\"vacancy\"].sum() / fact_tables[\n",
    "#     \"housing\"][\"units\"].sum() == float(region[\"vacancy_rate\"]))]\n",
    "# print(\"vacancy_rate from fact tables:\\t\\t\", (fact_tables[\"housing\"][\"vacancy\"].sum() / fact_tables[\n",
    "#     \"housing\"][\"units\"].sum()))\n",
    "# print(\"vacancy_rate from region_ind.csv:\\t\", float(region[\"vacancy_rate\"]))\n",
    "\n",
    "# # Output nicely formatted results\n",
    "# pd.DataFrame.from_dict(housing_checks)"
   ]
  },
  {
   "cell_type": "markdown",
   "metadata": {},
   "source": [
    "#### Tests for Employment Variables"
   ]
  },
  {
   "cell_type": "code",
   "execution_count": 12,
   "metadata": {},
   "outputs": [
    {
     "name": "stdout",
     "output_type": "stream",
     "text": [
      "emp_total True\n",
      "\n",
      "emp_Agricultural_and_Extractive True\n",
      "\n",
      "emp_const_non_bldg_prod True\n",
      "\n",
      "emp_const_non_bldg_Office True\n",
      "\n",
      "emp_utilities_prod True\n",
      "\n",
      "emp_utilities_Office True\n",
      "\n",
      "emp_const_bldg_prod True\n",
      "\n",
      "emp_const_bldg_Office True\n",
      "\n",
      "emp_Manufacturing_prod True\n",
      "\n",
      "emp_Manufacturing_Office True\n",
      "\n",
      "emp_whsle_whs True\n",
      "\n",
      "emp_trans True\n",
      "\n",
      "emp_retail True\n",
      "\n",
      "emp_prof_bus_svcs True\n",
      "\n",
      "emp_prof_bus_svcs_bldg_maint True\n",
      "\n",
      "emp_pvt_ed_k12 True\n",
      "\n",
      "emp_pvt_ed_post_k12_Other_Residential True\n",
      "\n",
      "emp_health True\n",
      "\n",
      "emp_personal_svcs_Office True\n",
      "\n",
      "emp_amusement True\n",
      "\n",
      "emp_hotel True\n",
      "\n",
      "emp_restaurant_bar True\n",
      "\n",
      "emp_personal_svcs_retail True\n",
      "\n",
      "emp_religious True\n",
      "\n",
      "emp_pvt_hh True\n",
      "\n",
      "emp_state_local_Government_ent True\n",
      "\n",
      "emp_fed_non_Military True\n",
      "\n",
      "emp_fed_Military True\n",
      "\n",
      "emp_state_local_Government_blue True\n",
      "\n",
      "emp_state_local_Government_white True\n",
      "\n",
      "emp_public_ed True\n",
      "\n",
      "emp_own_occ_dwell_mgmt True\n",
      "\n",
      "emp_fed_Government_accts True\n",
      "\n",
      "emp_st_lcl_Government_accts True\n",
      "\n",
      "emp_cap_accts True\n",
      "\n"
     ]
    }
   ],
   "source": [
    "# emp_total = total employment\n",
    "# Other = various categories of employment. See ABM Wiki for more details\n",
    "employment_variables = [\n",
    "    [\"emp_total\", sum, [\"emp_total\"]],\n",
    "    [\"emp_Agricultural_and_Extractive\", sum, [\"emp_Agricultural_and_Extractive\"]],\n",
    "    [\"emp_const_non_bldg_prod\", sum, [\"emp_const_non_bldg_prod\"]],\n",
    "    [\"emp_const_non_bldg_Office\", sum, [\"emp_const_non_bldg_Office\"]],\n",
    "    [\"emp_utilities_prod\", sum, [\"emp_utilities_prod\"]],\n",
    "    [\"emp_utilities_Office\", sum, [\"emp_utilities_Office\"]],\n",
    "    [\"emp_const_bldg_prod\", sum, [\"emp_const_bldg_prod\"]],\n",
    "    [\"emp_const_bldg_Office\", sum, [\"emp_const_bldg_Office\"]],\n",
    "    [\"emp_Manufacturing_prod\", sum, [\"emp_Manufacturing_prod\"]],\n",
    "    [\"emp_Manufacturing_Office\", sum, [\"emp_Manufacturing_Office\"]],\n",
    "    [\"emp_whsle_whs\", sum, [\"emp_whsle_whs\"]],\n",
    "    [\"emp_trans\", sum, [\"emp_trans\"]],\n",
    "    [\"emp_retail\", sum, [\"emp_retail\"]],\n",
    "    [\"emp_prof_bus_svcs\", sum, [\"emp_prof_bus_svcs\"]],\n",
    "    [\"emp_prof_bus_svcs_bldg_maint\", sum, [\"emp_prof_bus_svcs_bldg_maint\"]],\n",
    "    [\"emp_pvt_ed_k12\", sum, [\"emp_pvt_ed_k12\"]],\n",
    "    [\"emp_pvt_ed_post_k12_Other_Residential\", sum, [\"emp_pvt_ed_post_k12_Other_Residential\"]],\n",
    "    [\"emp_health\", sum, [\"emp_health\"]],\n",
    "    [\"emp_personal_svcs_Office\", sum, [\"emp_personal_svcs_Office\"]],\n",
    "    [\"emp_amusement\", sum, [\"emp_amusement\"]],\n",
    "    [\"emp_hotel\", sum, [\"emp_hotel\"]],\n",
    "    [\"emp_restaurant_bar\", sum, [\"emp_restaurant_bar\"]],\n",
    "    [\"emp_personal_svcs_retail\", sum, [\"emp_personal_svcs_retail\"]],\n",
    "    [\"emp_religious\", sum, [\"emp_religious\"]],\n",
    "    [\"emp_pvt_hh\", sum, [\"emp_pvt_hh\"]],\n",
    "    [\"emp_state_local_Government_ent\", sum, [\"emp_state_local_Government_ent\"]],\n",
    "    [\"emp_fed_non_Military\", sum, [\"emp_fed_non_Military\"]],\n",
    "    [\"emp_fed_Military\", sum, [\"emp_fed_Military\"]],\n",
    "    [\"emp_state_local_Government_blue\", sum, [\"emp_state_local_Government_blue\"]],\n",
    "    [\"emp_state_local_Government_white\", sum, [\"emp_state_local_Government_white\"]],\n",
    "    [\"emp_public_ed\", sum, [\"emp_public_ed\"]],\n",
    "    [\"emp_own_occ_dwell_mgmt\", sum, [\"emp_own_occ_dwell_mgmt\"]],\n",
    "    [\"emp_fed_Government_accts\", sum, [\"emp_fed_Government_accts\"]],\n",
    "    [\"emp_st_lcl_Government_accts\", sum, [\"emp_st_lcl_Government_accts\"]],\n",
    "    [\"emp_cap_accts\", sum, [\"emp_cap_accts\"]]\n",
    "]\n",
    "    \n",
    "# Check the employment variables match up between mgra_ind.csv and region_ind.csv\n",
    "for variable in employment_variables:\n",
    "    print(variable[0],\n",
    "        test_mgra_region(mgra, region, region_var=variable[0], function=variable[1], \n",
    "            f_args=variable[2]))\n",
    "    print()"
   ]
  },
  {
   "cell_type": "markdown",
   "metadata": {},
   "source": [
    "#### Tests for School Enrollment"
   ]
  },
  {
   "cell_type": "code",
   "execution_count": 13,
   "metadata": {},
   "outputs": [
    {
     "name": "stdout",
     "output_type": "stream",
     "text": [
      "enrollgradekto8 True\n",
      "\n",
      "enrollgrade9to12 True\n",
      "\n"
     ]
    }
   ],
   "source": [
    "# enrollgradekto8 = Grade School K-8 enrollment\n",
    "# enrollgrade9to12 = Grade School 9-12 enrollment\n",
    "\n",
    "grade_school_enrollment_variables = [\n",
    "    [\"enrollgradekto8\", sum, [\"enrollgradekto8\"]],\n",
    "    [\"enrollgrade9to12\", sum, [\"enrollgrade9to12\"]]\n",
    "]\n",
    "    \n",
    "# Check the grade school enrollment variables match up between mgra_ind.csv and region_ind.csv\n",
    "for variable in grade_school_enrollment_variables:\n",
    "    print(variable[0],\n",
    "        test_mgra_region(mgra, region, region_var=variable[0], function=variable[1], \n",
    "            f_args=variable[2]))\n",
    "    print()"
   ]
  },
  {
   "cell_type": "markdown",
   "metadata": {},
   "source": [
    "#### Tests for College Enrollment"
   ]
  },
  {
   "cell_type": "code",
   "execution_count": 14,
   "metadata": {},
   "outputs": [
    {
     "name": "stdout",
     "output_type": "stream",
     "text": [
      "collegeenroll True\n",
      "\n",
      "othercollegeenroll True\n",
      "\n",
      "adultschenrl True\n",
      "\n"
     ]
    }
   ],
   "source": [
    "# collegeenroll = Major College enrollment\n",
    "# othercollegeenroll = Other College enrollment (no idea what the difference is between the two)\n",
    "# adultschenrl = Adult School enrollment\n",
    "higher_ed_enrollment_variables = [\n",
    "    [\"collegeenroll\", sum, [\"collegeenroll\"]],\n",
    "    [\"othercollegeenroll\", sum, [\"othercollegeenroll\"]],\n",
    "    [\"adultschenrl\", sum, [\"adultschenrl\"]]\n",
    "]\n",
    "    \n",
    "# Check the housing variables match up between mgra_ind.csv and region_ind.csv\n",
    "for variable in higher_ed_enrollment_variables:\n",
    "    print(variable[0],\n",
    "        test_mgra_region(mgra, region, region_var=variable[0], function=variable[1], \n",
    "            f_args=variable[2]))\n",
    "    print()"
   ]
  },
  {
   "cell_type": "markdown",
   "metadata": {},
   "source": [
    "#### Tests for Income"
   ]
  },
  {
   "cell_type": "code",
   "execution_count": 15,
   "metadata": {},
   "outputs": [
    {
     "name": "stdout",
     "output_type": "stream",
     "text": [
      "Less than $15,000 True\n",
      "\n",
      "$15,000 to $29,999 True\n",
      "\n",
      "$30,000 to $44,999 True\n",
      "\n",
      "$45,000 to $59,999 True\n",
      "\n",
      "$60,000 to $74,999 True\n",
      "\n",
      "$75,000 to $99,999 True\n",
      "\n",
      "$100,000 to $124,999 True\n",
      "\n",
      "$125,000 to $149,999 True\n",
      "\n",
      "$150,000 to $199,999 True\n",
      "\n",
      "$200,000 or more True\n",
      "\n"
     ]
    }
   ],
   "source": [
    "# Self-explanatory income categories\n",
    "income_variables = [\n",
    "    [\"Less than $15,000\", sum, [\"Less than $15,000\"]],\n",
    "    [\"$15,000 to $29,999\", sum, [\"$15,000 to $29,999\"]],\n",
    "    [\"$30,000 to $44,999\", sum, [\"$30,000 to $44,999\"]],\n",
    "    [\"$45,000 to $59,999\", sum, [\"$45,000 to $59,999\"]],\n",
    "    [\"$60,000 to $74,999\", sum, [\"$60,000 to $74,999\"]],\n",
    "    [\"$75,000 to $99,999\", sum, [\"$75,000 to $99,999\"]],\n",
    "    [\"$100,000 to $124,999\", sum, [\"$100,000 to $124,999\"]],\n",
    "    [\"$125,000 to $149,999\", sum, [\"$125,000 to $149,999\"]],\n",
    "    [\"$150,000 to $199,999\", sum, [\"$150,000 to $199,999\"]],\n",
    "    [\"$200,000 or more\", sum, [\"$200,000 or more\"]]\n",
    "]\n",
    "    \n",
    "# Check the income variables match up between mgra_ind.csv and region_ind.csv\n",
    "for variable in income_variables:\n",
    "    print(variable[0],\n",
    "        test_mgra_region(mgra, region, region_var=variable[0], function=variable[1], \n",
    "            f_args=variable[2]))\n",
    "    print()"
   ]
  },
  {
   "cell_type": "markdown",
   "metadata": {},
   "source": [
    "#### Tests for Ethnicity by Category"
   ]
  },
  {
   "cell_type": "code",
   "execution_count": 16,
   "metadata": {},
   "outputs": [
    {
     "name": "stdout",
     "output_type": "stream",
     "text": [
      "American Indian True\n",
      "\n",
      "Asian True\n",
      "\n",
      "Black True\n",
      "\n",
      "Hispanic True\n",
      "\n",
      "Other True\n",
      "\n",
      "Pacific Islander True\n",
      "\n",
      "Two or More True\n",
      "\n",
      "White True\n",
      "\n"
     ]
    }
   ],
   "source": [
    "# Self-explanatory ethnicity categories\n",
    "ethnicity_variables = [\n",
    "    [\"American Indian\", sum, [\"American Indian\"]],\n",
    "    [\"Asian\", sum, [\"Asian\"]],\n",
    "    [\"Black\", sum, [\"Black\"]],\n",
    "    [\"Hispanic\", sum, [\"Hispanic\"]],\n",
    "    [\"Other\", sum, [\"Other\"]],\n",
    "    [\"Pacific Islander\", sum, [\"Pacific Islander\"]],\n",
    "    [\"Two or More\", sum, [\"Two or More\"]],\n",
    "    [\"White\", sum, [\"White\"]]\n",
    "]\n",
    "    \n",
    "# Check the housing variables match up between mgra_ind.csv and region_ind.csv\n",
    "for variable in ethnicity_variables:\n",
    "    print(variable[0],\n",
    "        test_mgra_region(mgra, region, region_var=variable[0], function=variable[1], \n",
    "            f_args=variable[2]))\n",
    "    print()"
   ]
  },
  {
   "cell_type": "markdown",
   "metadata": {},
   "source": [
    "#### Tests for Age"
   ]
  },
  {
   "cell_type": "code",
   "execution_count": 17,
   "metadata": {},
   "outputs": [
    {
     "name": "stdout",
     "output_type": "stream",
     "text": [
      "Under 5 True\n",
      "\n",
      "5 to 9 True\n",
      "\n",
      "10 to 14 True\n",
      "\n",
      "15 to 17 True\n",
      "\n",
      "18 and 19 True\n",
      "\n",
      "20 to 24 True\n",
      "\n",
      "25 to 29 True\n",
      "\n",
      "30 to 34 True\n",
      "\n",
      "35 to 39 True\n",
      "\n",
      "40 to 44 True\n",
      "\n",
      "45 to 49 True\n",
      "\n",
      "50 to 54 True\n",
      "\n",
      "55 to 59 True\n",
      "\n",
      "60 and 61 True\n",
      "\n",
      "62 to 64 True\n",
      "\n",
      "65 to 69 True\n",
      "\n",
      "70 to 74 True\n",
      "\n",
      "75 to 79 True\n",
      "\n",
      "80 to 84 True\n",
      "\n",
      "85 and Older True\n",
      "\n"
     ]
    }
   ],
   "source": [
    "# Self-explanatory age categories\n",
    "age_variables = [\t\n",
    "    [\"Under 5\", sum, [\"Under 5\"]],\n",
    "    [\"5 to 9\", sum, [\"5 to 9\"]],\n",
    "    [\"10 to 14\", sum, [\"10 to 14\"]],\n",
    "    [\"15 to 17\", sum, [\"15 to 17\"]],\n",
    "    [\"18 and 19\", sum, [\"18 and 19\"]],\n",
    "    [\"20 to 24\", sum, [\"20 to 24\"]],\n",
    "    [\"25 to 29\", sum, [\"25 to 29\"]],\n",
    "    [\"30 to 34\", sum, [\"30 to 34\"]],\n",
    "    [\"35 to 39\", sum, [\"35 to 39\"]],\n",
    "    [\"40 to 44\", sum, [\"40 to 44\"]],\n",
    "    [\"45 to 49\", sum, [\"45 to 49\"]],\n",
    "    [\"50 to 54\", sum, [\"50 to 54\"]],\n",
    "    [\"55 to 59\", sum, [\"55 to 59\"]],\n",
    "    [\"60 and 61\", sum, [\"60 and 61\"]],\n",
    "    [\"62 to 64\", sum, [\"62 to 64\"]],\n",
    "    [\"65 to 69\", sum, [\"65 to 69\"]],\n",
    "    [\"70 to 74\", sum, [\"70 to 74\"]],\n",
    "    [\"75 to 79\", sum, [\"75 to 79\"]],\n",
    "    [\"80 to 84\", sum, [\"80 to 84\"]],\n",
    "    [\"85 and Older\", sum, [\"85 and Older\"]]\n",
    "]\n",
    "    \n",
    "# Check the housing variables match up between mgra_ind.csv and region_ind.csv\n",
    "for variable in age_variables:\n",
    "    print(variable[0],\n",
    "        test_mgra_region(mgra, region, region_var=variable[0], function=variable[1], \n",
    "            f_args=variable[2]))\n",
    "    print()"
   ]
  },
  {
   "cell_type": "markdown",
   "metadata": {},
   "source": [
    "#### Tests for Total Hotel Rooms"
   ]
  },
  {
   "cell_type": "code",
   "execution_count": 18,
   "metadata": {},
   "outputs": [
    {
     "name": "stdout",
     "output_type": "stream",
     "text": [
      "budgetroom True\n",
      "\n",
      "economyroom True\n",
      "\n",
      "luxuryroom True\n",
      "\n",
      "midpriceroom True\n",
      "\n",
      "upscaleroom True\n",
      "\n",
      "hotelroomtotal True\n",
      "\n"
     ]
    }
   ],
   "source": [
    "# Self-explanatory hotel categories\n",
    "hotel_variables = [\n",
    "    [\"budgetroom\", sum, [\"budgetroom\"]],\n",
    "    [\"economyroom\", sum, [\"economyroom\"]],\n",
    "    [\"luxuryroom\", sum, [\"luxuryroom\"]],\n",
    "    [\"midpriceroom\", sum, [\"midpriceroom\"]],\n",
    "    [\"upscaleroom\", sum, [\"upscaleroom\"]],\n",
    "    [\"hotelroomtotal\", sum, [\"hotelroomtotal\"]]\n",
    "]\n",
    "    \n",
    "# Check the housing variables match up between mgra_ind.csv and region_ind.csv\n",
    "for variable in hotel_variables:\n",
    "    print(variable[0],\n",
    "        test_mgra_region(mgra, region, region_var=variable[0], function=variable[1], \n",
    "            f_args=variable[2]))\n",
    "    print()"
   ]
  }
 ],
 "metadata": {
  "kernelspec": {
   "display_name": "Python 3.9.12 ('SANDAG')",
   "language": "python",
   "name": "python3"
  },
  "language_info": {
   "codemirror_mode": {
    "name": "ipython",
    "version": 3
   },
   "file_extension": ".py",
   "mimetype": "text/x-python",
   "name": "python",
   "nbconvert_exporter": "python",
   "pygments_lexer": "ipython3",
   "version": "3.9.12"
  },
  "orig_nbformat": 4,
  "vscode": {
   "interpreter": {
    "hash": "41c20cbfa603768ded13150453b5681e701a59febb16590ec3ab380b595ec114"
   }
  }
 },
 "nbformat": 4,
 "nbformat_minor": 2
}
