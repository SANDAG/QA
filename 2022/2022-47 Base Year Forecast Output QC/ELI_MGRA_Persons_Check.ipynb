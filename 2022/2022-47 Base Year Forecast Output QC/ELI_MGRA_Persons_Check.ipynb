{
 "cells": [
  {
   "cell_type": "markdown",
   "metadata": {},
   "source": [
    "# 2022-47 Base Year Forecast Output QC\n",
    "\n",
    "Test Plan: https://sandag.sharepoint.com/qaqc/_layouts/15/Doc.aspx?sourcedoc={f8b3d630-1290-445b-99a1-2fa9041ade92}&action=edit\n",
    "\n",
    "Documentation: https://sandag.sharepoint.com/:w:/r/qaqc/_layouts/15/Doc.aspx?sourcedoc=%7B3AF20D75-0A22-4B9C-9CC4-85B3EEC294E6%7D&file=MGRABased_input_ABM_2019_process_notes.docx "
   ]
  },
  {
   "cell_type": "markdown",
   "metadata": {},
   "source": [
    "### Library Imports"
   ]
  },
  {
   "cell_type": "code",
   "execution_count": 1,
   "metadata": {},
   "outputs": [],
   "source": [
    "import pandas as pd\n",
    "import numpy as np\n",
    "\n",
    "from pathlib import Path"
   ]
  },
  {
   "cell_type": "markdown",
   "metadata": {},
   "source": [
    "### Download Data\n"
   ]
  },
  {
   "cell_type": "code",
   "execution_count": 2,
   "metadata": {},
   "outputs": [],
   "source": [
    "def download_data(user):\n",
    "    \"\"\"\n",
    "    This function downloads csv data for the 2019 Forecast Output\n",
    "\n",
    "    :param user:    The user trying to download the data. Mostly here so that others can more \n",
    "                    easily run my code\n",
    "\n",
    "    :returns:       Tuple with (mgra data, person data)\n",
    "    \"\"\"\n",
    "    # Data is stored in this folder\n",
    "    data_folder_path = Path(f\"C:/Users/{user}/San Diego Association of Governments/\" \\\n",
    "        \"SANDAG QA QC - Documents/Projects/2022/2022-47 Base Year Forecast Output QC/Data/\")\n",
    "    \n",
    "    # Define the files here\n",
    "    files = [\"mgra_ind.csv\", \"persons_2019_01.csv\", \"households_2019_01.csv\"]\n",
    "\n",
    "    # Download the data from each file and load into a dataframe\n",
    "    dfs = []\n",
    "    for file in files:\n",
    "        dfs.append(pd.read_csv(data_folder_path / file))\n",
    "\n",
    "    # Use the households file to add which mgra each person belongs to\n",
    "    hhid_to_mgra = dfs[2][[\"hhid\", \"mgra\"]]\n",
    "    dfs[1] = dfs[1].merge(hhid_to_mgra, left_on=\"hhid\", right_on=\"hhid\")\n",
    "\n",
    "    return dfs\n",
    "\n",
    "# Get data and put the dfs into named containers\n",
    "mgra, persons, _ = download_data(\"eli\")"
   ]
  },
  {
   "cell_type": "markdown",
   "metadata": {},
   "source": [
    "### Tests"
   ]
  },
  {
   "cell_type": "markdown",
   "metadata": {},
   "source": [
    "The following checks between \"mgra_ind.csv\" and \"persons_2019_01.csv\" will be done:\n",
    "\n",
    "Ensure that...\n",
    "1. the number of people per mgra, \n",
    "2. the number of male/female people per mgra, and\n",
    "3. the number of each age category per mgra\n",
    "\n",
    "is the same between both files"
   ]
  },
  {
   "cell_type": "code",
   "execution_count": 3,
   "metadata": {},
   "outputs": [],
   "source": [
    "def test_nulls(combined_df, mgra_col, persons_col):\n",
    "    \"\"\"\n",
    "    Check that the number of mgra values matches up in the two input columns of the combined df.\n",
    "    In other words, make sure that for every mgra value in mgra, there is a corresponding one in\n",
    "    persons\n",
    "\n",
    "    :param combined_df: The data from the files \"mgra_ind.csv\" and \"persons_2019_01.csv\" combined\n",
    "                        using how=\"outer\" on the column mgra\n",
    "    :param mgra_col:    The name of the column representing \"mgra_ind.csv\" values \n",
    "    :param persons_col: The name of the column representing \"persons_2019_01.csv\" values\n",
    "    :returns:           None\n",
    "    \"\"\"\n",
    "    files = [\"mgra_ind.csv\", \"persons_2019_01.csv\"]\n",
    "\n",
    "    # Print out the number of rows where mgra_col is null\n",
    "    print(f\"Number of mgra values that appear in \\\"{files[1]}\\\" but not \\\"{files[0]}\\\":\")\n",
    "    print(\"\\t\", f\"{combined_df[mgra_col].isna().sum()}\\n\")\n",
    "\n",
    "    # Print out the number of rows where persons_col is null\n",
    "    print(f\"Number of mgra values that appear in \\\"{files[0]}\\\" but not \\\"{files[1]}\\\", ignoring \" \\\n",
    "        \"mgras with no population:\")\n",
    "    print(\"\\t\", f\"{combined_df[persons_col].isna().sum()}\\n\")\n"
   ]
  },
  {
   "cell_type": "code",
   "execution_count": 4,
   "metadata": {},
   "outputs": [],
   "source": [
    "def test_values(combined_df, mgra_col, persons_col):\n",
    "    \"\"\"\n",
    "    Check that values matche up in the two input columns of the combined df. In other words, make \n",
    "    sure that for every mgra value for which there is data in both files, that the values match up\n",
    "\n",
    "    :param combined_df: The data from the files \"mgra_ind.csv\" and \"persons_2019_01.csv\" combined\n",
    "                        using how=\"outer\" on the column mgra\n",
    "    :param mgra_col:    The name of the column representing \"mgra_ind.csv\" values \n",
    "    :param persons_col: The name of the column representing \"persons_2019_01.csv\" values\n",
    "    :returns:           None\n",
    "    \"\"\"\n",
    "    files = [\"mgra_ind.csv\", \"persons_2019_01.csv\"]\n",
    "\n",
    "    # Print out the number of rows where population does not match up\n",
    "    # Make sure to remove null rows first\n",
    "    combined_df_nn = combined_df.dropna(axis=0).copy(deep=True)\n",
    "    combined_df_nn[\"diff\"] = combined_df_nn[mgra_col] - combined_df_nn[persons_col]\n",
    "    print(f\"Number of rows in both \\\"{files[1]}\\\" and \\\"{files[0]}\\\" where population values do \" \\\n",
    "        \"not match:\")\n",
    "    # For God knows what reason, the f string goes crazy unless I use a dummy variable (x)\n",
    "    x = combined_df_nn.loc[combined_df_nn[\"diff\"] != 0].shape[0]\n",
    "    print(\"\\t\", f\"{x}\\n\")"
   ]
  },
  {
   "cell_type": "markdown",
   "metadata": {},
   "source": [
    "#### Test 1"
   ]
  },
  {
   "cell_type": "code",
   "execution_count": 5,
   "metadata": {},
   "outputs": [
    {
     "name": "stdout",
     "output_type": "stream",
     "text": [
      "Number of mgra values that appear in \"persons_2019_01.csv\" but not \"mgra_ind.csv\":\n",
      "\t 0\n",
      "\n",
      "Number of mgra values that appear in \"mgra_ind.csv\" but not \"persons_2019_01.csv\", ignoring mgras with no population:\n",
      "\t 266\n",
      "\n",
      "Number of rows in both \"persons_2019_01.csv\" and \"mgra_ind.csv\" where population values do not match:\n",
      "\t 1116\n",
      "\n"
     ]
    }
   ],
   "source": [
    "# Get the number of people per mgra from \"persons_2019_01.csv\"\n",
    "pop_persons = persons.groupby(\"mgra\").count()[[\"perid\"]].reset_index()\n",
    "\n",
    "# Get the number of people per mgra from \"mgra_ind.csv\", ignoring mgras that have no population\n",
    "pop_mgra = mgra[mgra[\"pop\"] != 0][[\"mgra\", \"pop\"]]\n",
    "\n",
    "# Combine the two dfs together\n",
    "pop_combined = pop_mgra.merge(pop_persons, how=\"outer\", left_on=\"mgra\", right_on=\"mgra\")\n",
    "\n",
    "# The tests\n",
    "test_nulls(pop_combined, \"pop\", \"perid\")\n",
    "test_values(pop_combined, \"pop\", \"perid\")"
   ]
  },
  {
   "cell_type": "markdown",
   "metadata": {},
   "source": [
    "#### Test 2"
   ]
  },
  {
   "cell_type": "code",
   "execution_count": 6,
   "metadata": {},
   "outputs": [
    {
     "name": "stdout",
     "output_type": "stream",
     "text": [
      "*** MALE TESTS ***\n",
      "Number of mgra values that appear in \"persons_2019_01.csv\" but not \"mgra_ind.csv\":\n",
      "\t 0\n",
      "\n",
      "Number of mgra values that appear in \"mgra_ind.csv\" but not \"persons_2019_01.csv\", ignoring mgras with no population:\n",
      "\t 395\n",
      "\n",
      "Number of rows in both \"persons_2019_01.csv\" and \"mgra_ind.csv\" where population values do not match:\n",
      "\t 1053\n",
      "\n",
      "*** FEMALE TESTS ***\n",
      "Number of mgra values that appear in \"persons_2019_01.csv\" but not \"mgra_ind.csv\":\n",
      "\t 0\n",
      "\n",
      "Number of mgra values that appear in \"mgra_ind.csv\" but not \"persons_2019_01.csv\", ignoring mgras with no population:\n",
      "\t 365\n",
      "\n",
      "Number of rows in both \"persons_2019_01.csv\" and \"mgra_ind.csv\" where population values do not match:\n",
      "\t 935\n",
      "\n"
     ]
    }
   ],
   "source": [
    "# Get the number of male/female per mgra from \"persons_2019_01.csv\"\n",
    "male_persons = persons[persons[\"sex\"] == 1].groupby(\"mgra\").count()[[\"perid\"]].reset_index()\n",
    "female_persons = persons[persons[\"sex\"] == 2].groupby(\"mgra\").count()[[\"perid\"]].reset_index()\n",
    "\n",
    "# Get the number of number of male/female per mgra from \"mgra_ind.csv\", ignoring mgras that have \n",
    "# no population\n",
    "populated_mgras = mgra[mgra[\"pop\"] != 0]\n",
    "male_mgra = populated_mgras[[\"mgra\", \"Male\"]]\n",
    "female_mgra = populated_mgras[[\"mgra\", \"Female\"]]\n",
    "\n",
    "# Combine the dfs together\n",
    "male_combined = male_mgra.merge(male_persons, how=\"outer\", left_on=\"mgra\", right_on=\"mgra\")\n",
    "female_combined = female_mgra.merge(female_persons, how=\"outer\", left_on=\"mgra\", right_on=\"mgra\")\n",
    "\n",
    "# The tests, male version\n",
    "print(\"*** MALE TESTS ***\")\n",
    "test_nulls(male_combined, \"Male\", \"perid\")\n",
    "test_values(male_combined, \"Male\", \"perid\")\n",
    "\n",
    "# The test, female version\n",
    "print(\"*** FEMALE TESTS ***\")\n",
    "test_nulls(female_combined, \"Female\", \"perid\")\n",
    "test_values(female_combined, \"Female\", \"perid\")"
   ]
  },
  {
   "cell_type": "markdown",
   "metadata": {},
   "source": [
    "#### Test 3"
   ]
  },
  {
   "cell_type": "code",
   "execution_count": 7,
   "metadata": {},
   "outputs": [
    {
     "name": "stdout",
     "output_type": "stream",
     "text": [
      "*** WHITE TESTS ***\n",
      "Number of mgra values that appear in \"persons_2019_01.csv\" but not \"mgra_ind.csv\":\n",
      "\t 0\n",
      "\n",
      "Number of mgra values that appear in \"mgra_ind.csv\" but not \"persons_2019_01.csv\", ignoring mgras with no population:\n",
      "\t 370\n",
      "\n",
      "Number of rows in both \"persons_2019_01.csv\" and \"mgra_ind.csv\" where population values do not match:\n",
      "\t 15916\n",
      "\n",
      "*** BLACK TESTS ***\n",
      "Number of mgra values that appear in \"persons_2019_01.csv\" but not \"mgra_ind.csv\":\n",
      "\t 0\n",
      "\n",
      "Number of mgra values that appear in \"mgra_ind.csv\" but not \"persons_2019_01.csv\", ignoring mgras with no population:\n",
      "\t 6279\n",
      "\n",
      "Number of rows in both \"persons_2019_01.csv\" and \"mgra_ind.csv\" where population values do not match:\n",
      "\t 5901\n",
      "\n",
      "*** AMERICAN INDIAN TESTS ***\n",
      "Number of mgra values that appear in \"persons_2019_01.csv\" but not \"mgra_ind.csv\":\n",
      "\t 0\n",
      "\n",
      "Number of mgra values that appear in \"mgra_ind.csv\" but not \"persons_2019_01.csv\", ignoring mgras with no population:\n",
      "\t 8663\n",
      "\n",
      "Number of rows in both \"persons_2019_01.csv\" and \"mgra_ind.csv\" where population values do not match:\n",
      "\t 6256\n",
      "\n",
      "*** ASIAN TESTS ***\n",
      "Number of mgra values that appear in \"persons_2019_01.csv\" but not \"mgra_ind.csv\":\n",
      "\t 0\n",
      "\n",
      "Number of mgra values that appear in \"mgra_ind.csv\" but not \"persons_2019_01.csv\", ignoring mgras with no population:\n",
      "\t 3976\n",
      "\n",
      "Number of rows in both \"persons_2019_01.csv\" and \"mgra_ind.csv\" where population values do not match:\n",
      "\t 4987\n",
      "\n",
      "*** PACIFIC ISLANDER TESTS ***\n",
      "Number of mgra values that appear in \"persons_2019_01.csv\" but not \"mgra_ind.csv\":\n",
      "\t 0\n",
      "\n",
      "Number of mgra values that appear in \"mgra_ind.csv\" but not \"persons_2019_01.csv\", ignoring mgras with no population:\n",
      "\t 10770\n",
      "\n",
      "Number of rows in both \"persons_2019_01.csv\" and \"mgra_ind.csv\" where population values do not match:\n",
      "\t 1654\n",
      "\n",
      "*** OTHER TESTS ***\n",
      "Number of mgra values that appear in \"persons_2019_01.csv\" but not \"mgra_ind.csv\":\n",
      "\t 0\n",
      "\n",
      "Number of mgra values that appear in \"mgra_ind.csv\" but not \"persons_2019_01.csv\", ignoring mgras with no population:\n",
      "\t 2445\n",
      "\n",
      "Number of rows in both \"persons_2019_01.csv\" and \"mgra_ind.csv\" where population values do not match:\n",
      "\t 15577\n",
      "\n",
      "*** TWO PLUS TESTS ***\n",
      "Number of mgra values that appear in \"persons_2019_01.csv\" but not \"mgra_ind.csv\":\n",
      "\t 0\n",
      "\n",
      "Number of mgra values that appear in \"mgra_ind.csv\" but not \"persons_2019_01.csv\", ignoring mgras with no population:\n",
      "\t 3480\n",
      "\n",
      "Number of rows in both \"persons_2019_01.csv\" and \"mgra_ind.csv\" where population values do not match:\n",
      "\t 11960\n",
      "\n",
      "*** HISPANIC TESTS ***\n",
      "Number of mgra values that appear in \"persons_2019_01.csv\" but not \"mgra_ind.csv\":\n",
      "\t 0\n",
      "\n",
      "Number of mgra values that appear in \"mgra_ind.csv\" but not \"persons_2019_01.csv\", ignoring mgras with no population:\n",
      "\t 1745\n",
      "\n",
      "Number of rows in both \"persons_2019_01.csv\" and \"mgra_ind.csv\" where population values do not match:\n",
      "\t 749\n",
      "\n"
     ]
    }
   ],
   "source": [
    "# Get the number of each ethnicity per mgra from \"persons_2019_01.csv\"\n",
    "white_persons =             persons[persons[\"rac1p\"] == 1].groupby(\"mgra\").count()[[\"perid\"]].reset_index()\n",
    "black_persons =             persons[persons[\"rac1p\"] == 2].groupby(\"mgra\").count()[[\"perid\"]].reset_index()\n",
    "american_indian_persons =   persons[persons[\"rac1p\"] == 5].groupby(\"mgra\").count()[[\"perid\"]].reset_index()\n",
    "asian_persons =             persons[persons[\"rac1p\"] == 6].groupby(\"mgra\").count()[[\"perid\"]].reset_index()\n",
    "pacific_islander_persons =  persons[persons[\"rac1p\"] == 7].groupby(\"mgra\").count()[[\"perid\"]].reset_index()\n",
    "other_persons =             persons[persons[\"rac1p\"] == 8].groupby(\"mgra\").count()[[\"perid\"]].reset_index()\n",
    "two_plus_persons =          persons[persons[\"rac1p\"] == 9].groupby(\"mgra\").count()[[\"perid\"]].reset_index()\n",
    "hispanic_persons =          persons[persons[\"hisp\"] == 2].groupby(\"mgra\").count()[[\"perid\"]].reset_index()\n",
    "\n",
    "# Get the number of each ethnicity per mgra from \"mgra_ind.csv\", ignoring mgras that have \n",
    "# no population\n",
    "populated_mgras =       mgra[mgra[\"pop\"] != 0]\n",
    "white_mgra =            populated_mgras[[\"mgra\", \"White\"]]\n",
    "black_mgra =            populated_mgras[[\"mgra\", \"Black\"]]\n",
    "american_indian_mgra =  populated_mgras[[\"mgra\", \"American Indian\"]]\n",
    "asian_mgra =            populated_mgras[[\"mgra\", \"Asian\"]]\n",
    "pacific_islander_mgra = populated_mgras[[\"mgra\", \"Pacific Islander\"]]\n",
    "other_mgra =            populated_mgras[[\"mgra\", \"Other\"]]\n",
    "two_plus_mgra =         populated_mgras[[\"mgra\", \"Two or More\"]]\n",
    "hispanic_mgra =         populated_mgras[[\"mgra\", \"Hispanic\"]]\n",
    "\n",
    "# Combine the dfs together\n",
    "white_combined =            white_mgra.merge(white_persons, how=\"outer\", left_on=\"mgra\", right_on=\"mgra\")\n",
    "black_combined =            black_mgra.merge(black_persons, how=\"outer\", left_on=\"mgra\", right_on=\"mgra\")\n",
    "american_indian_combined =  american_indian_mgra.merge(american_indian_persons, how=\"outer\", left_on=\"mgra\", right_on=\"mgra\")\n",
    "asian_combined =            asian_mgra.merge(asian_persons, how=\"outer\", left_on=\"mgra\", right_on=\"mgra\")\n",
    "pacific_islander_combined = pacific_islander_mgra.merge(pacific_islander_persons, how=\"outer\", left_on=\"mgra\", right_on=\"mgra\")\n",
    "other_combined =            other_mgra.merge(other_persons, how=\"outer\", left_on=\"mgra\", right_on=\"mgra\")\n",
    "two_plus_combined =         two_plus_mgra.merge(two_plus_persons, how=\"outer\", left_on=\"mgra\", right_on=\"mgra\")\n",
    "hispanic_combined =         hispanic_mgra.merge(hispanic_persons, how=\"outer\", left_on=\"mgra\", right_on=\"mgra\")\n",
    "\n",
    "# The tests, white version\n",
    "print(\"*** WHITE TESTS ***\")\n",
    "test_nulls(white_combined, \"White\", \"perid\")\n",
    "test_values(white_combined, \"White\", \"perid\")\n",
    "\n",
    "# The tests, black version\n",
    "print(\"*** BLACK TESTS ***\")\n",
    "test_nulls(black_combined, \"Black\", \"perid\")\n",
    "test_values(black_combined, \"Black\", \"perid\")\n",
    "\n",
    "# The tests, amerian indian version\n",
    "print(\"*** AMERICAN INDIAN TESTS ***\")\n",
    "test_nulls(american_indian_combined, \"American Indian\", \"perid\")\n",
    "test_values(american_indian_combined, \"American Indian\", \"perid\")\n",
    "\n",
    "# The tests, asian version\n",
    "print(\"*** ASIAN TESTS ***\")\n",
    "test_nulls(asian_combined, \"Asian\", \"perid\")\n",
    "test_values(asian_combined, \"Asian\", \"perid\")\n",
    "\n",
    "# The tests, pacific islander version\n",
    "print(\"*** PACIFIC ISLANDER TESTS ***\")\n",
    "test_nulls(pacific_islander_combined, \"Pacific Islander\", \"perid\")\n",
    "test_values(pacific_islander_combined, \"Pacific Islander\", \"perid\")\n",
    "\n",
    "# The tests, other version\n",
    "print(\"*** OTHER TESTS ***\")\n",
    "test_nulls(other_combined, \"Other\", \"perid\")\n",
    "test_values(other_combined, \"Other\", \"perid\")\n",
    "\n",
    "# The tests, two plus version\n",
    "print(\"*** TWO PLUS TESTS ***\")\n",
    "test_nulls(two_plus_combined, \"Two or More\", \"perid\")\n",
    "test_values(two_plus_combined, \"Two or More\", \"perid\")\n",
    "\n",
    "# The tests, hispanic version\n",
    "print(\"*** HISPANIC TESTS ***\")\n",
    "test_nulls(hispanic_combined, \"Hispanic\", \"perid\")\n",
    "test_values(hispanic_combined, \"Hispanic\", \"perid\")"
   ]
  }
 ],
 "metadata": {
  "kernelspec": {
   "display_name": "Python 3.9.12 ('SANDAG')",
   "language": "python",
   "name": "python3"
  },
  "language_info": {
   "codemirror_mode": {
    "name": "ipython",
    "version": 3
   },
   "file_extension": ".py",
   "mimetype": "text/x-python",
   "name": "python",
   "nbconvert_exporter": "python",
   "pygments_lexer": "ipython3",
   "version": "3.9.12"
  },
  "orig_nbformat": 4,
  "vscode": {
   "interpreter": {
    "hash": "41c20cbfa603768ded13150453b5681e701a59febb16590ec3ab380b595ec114"
   }
  }
 },
 "nbformat": 4,
 "nbformat_minor": 2
}
