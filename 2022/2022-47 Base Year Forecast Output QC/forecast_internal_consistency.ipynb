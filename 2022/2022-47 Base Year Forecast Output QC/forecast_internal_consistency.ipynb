{
 "cells": [
  {
   "cell_type": "code",
   "execution_count": 1,
   "metadata": {},
   "outputs": [],
   "source": [
    "# Import Libraries\n",
    "import pandas as pd\n",
    "import numpy as np\n",
    "import yaml\n",
    "import os\n",
    "import pyodbc\n",
    "import copy"
   ]
  },
  {
   "cell_type": "markdown",
   "metadata": {},
   "source": [
    "# Download Data"
   ]
  },
  {
   "cell_type": "code",
   "execution_count": null,
   "metadata": {},
   "outputs": [],
   "source": []
  },
  {
   "cell_type": "markdown",
   "metadata": {},
   "source": [
    "# Internal Consistency of new forecast numbers"
   ]
  },
  {
   "cell_type": "code",
   "execution_count": null,
   "metadata": {},
   "outputs": [],
   "source": [
    "def compare_totals(mgra_df, jur_df, region_df):\n",
    "    \"\"\"\n",
    "    Aggregates sum of values by year in mgra, jurisdiction, and region level and compares them together to see if they match. CPA is removed as many areas calculated in the other georgraphy \n",
    "    \"\"\"\n",
    "    mgra_totals = mgra_df.groupby('year').sum()\n",
    "    jur_totals = jur_df.groupby('year').sum()\n",
    "    reg_totals = region_df\n",
    "    \n",
    "    non_matches_dict = {}\n",
    "    jur_non_matches = []\n",
    "    for col in mgra_totals.columns:\n",
    "        if not np.isclose(jur_totals[col], mgra_totals[col]).all():\n",
    "            jur_non_matches.append(col)\n",
    "            \n",
    "    if len(jur_non_matches) == len(mgra_totals.columns):\n",
    "        non_matches_dict['jurisdiction'] = 'all columns did not match.'\n",
    "    elif len(jur_non_matches) == 0:\n",
    "        non_matches_dict['jurisdiction'] = 'all columns matched.'\n",
    "    else:\n",
    "        if len(jur_non_matches) > 10:\n",
    "            non_matches_dict['jurisdiction'] = f\"{len(jur_non_matches)} columns did not match out of {len(mgra_totals.columns)} columns.\"\n",
    "        else:\n",
    "            non_matches_dict['jurisdiction'] = ', '.join(jur_non_matches) + ' columns did not match.'\n",
    "    \n",
    "    reg_non_matches = []\n",
    "    for col in mgra_totals.columns:\n",
    "        if not np.isclose(reg_totals[col], mgra_totals[col]).all():\n",
    "            reg_non_matches.append(col)\n",
    "    if len(reg_non_matches) == len(mgra_totals.columns):\n",
    "        non_matches_dict['region'] = 'all columns did not match.'\n",
    "    elif len(reg_non_matches) == 0:\n",
    "        non_matches_dict['region'] = 'all columns matched.'\n",
    "    else:\n",
    "        if len(reg_non_matches) > 10:\n",
    "            non_matches_dict['region'] = f\"{len(reg_non_matches)} columns did not match out of {len(mgra_totals.columns)}.\"\n",
    "        else:\n",
    "            non_matches_dict['region'] = ', '.join(reg_non_matches) + ' columns did not match.'\n",
    "    \n",
    "    return non_matches_dict"
   ]
  },
  {
   "cell_type": "code",
   "execution_count": null,
   "metadata": {},
   "outputs": [],
   "source": []
  }
 ],
 "metadata": {
  "kernelspec": {
   "display_name": "Python 3.8.8 ('base')",
   "language": "python",
   "name": "python3"
  },
  "language_info": {
   "codemirror_mode": {
    "name": "ipython",
    "version": 3
   },
   "file_extension": ".py",
   "mimetype": "text/x-python",
   "name": "python",
   "nbconvert_exporter": "python",
   "pygments_lexer": "ipython3",
   "version": "3.8.8"
  },
  "orig_nbformat": 4,
  "vscode": {
   "interpreter": {
    "hash": "6db16e9940ad839c1e288012a4d7b04c8c55c67646ae73b178066b197eb654ea"
   }
  }
 },
 "nbformat": 4,
 "nbformat_minor": 2
}
