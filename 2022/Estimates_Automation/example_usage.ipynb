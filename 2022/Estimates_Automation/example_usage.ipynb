{
 "cells": [
  {
   "cell_type": "markdown",
   "metadata": {},
   "source": [
    "# Example Usage"
   ]
  },
  {
   "cell_type": "code",
   "execution_count": 1,
   "metadata": {},
   "outputs": [],
   "source": [
    "import pathlib\n",
    "\n",
    "import pandas as pd"
   ]
  },
  {
   "cell_type": "markdown",
   "metadata": {},
   "source": [
    "## Create Tables"
   ]
  },
  {
   "cell_type": "code",
   "execution_count": 2,
   "metadata": {},
   "outputs": [],
   "source": [
    "# Import the module that allows us to create tables\n",
    "import generate_tables as gt"
   ]
  },
  {
   "cell_type": "markdown",
   "metadata": {},
   "source": [
    "### Creating Estimates Tables (generate_tables.EstimatesTables)"
   ]
  },
  {
   "cell_type": "code",
   "execution_count": 3,
   "metadata": {},
   "outputs": [],
   "source": [
    "# Creating consolidated files using the vintage 2020_06 at the region and jurisdiction level\n",
    "# \"_ =\" to supress output\n",
    "_ = gt.EstimatesTables().consolidate(\"2020_06\", \n",
    "        geo_list=[\"region\", \"jurisdiction\"], \n",
    "        save=True,\n",
    "        save_folder=pathlib.Path(\"./data/raw_data/\"))"
   ]
  },
  {
   "cell_type": "code",
   "execution_count": 4,
   "metadata": {},
   "outputs": [],
   "source": [
    "# Creating individual files using the vintage 2020_06 at the region and jurisdiction level for the\n",
    "# Estimates tables household_income and age_ethnicity\n",
    "_ = gt.EstimatesTables().individual(\"2020_06\",\n",
    "        geo_list=[\"region\", \"jurisdiction\"],\n",
    "        est_table_list=[\"household_income\", \"age_ethnicity\"],\n",
    "        save=True,\n",
    "        save_folder=pathlib.Path(\"./data/raw_data/\"))"
   ]
  },
  {
   "cell_type": "markdown",
   "metadata": {},
   "source": [
    "### Creating DOF Data Files (generate_tables.CA_DOF)"
   ]
  },
  {
   "cell_type": "code",
   "execution_count": 5,
   "metadata": {},
   "outputs": [],
   "source": [
    "# Creating DOF Data file.\n",
    "# NOTE: See class documentation for some manual steps you need to do before running this code.\n",
    "# Using the default raw_data and save locations\n",
    "_ = gt.CA_DOF().get_CA_DOF_data(\n",
    "    years=range(2010, 2022),\n",
    "    geo_list=[\"region\", \"jurisdiction\"])"
   ]
  },
  {
   "cell_type": "markdown",
   "metadata": {},
   "source": [
    "### Creating Diff Files (generate_tables.DiffFiles)"
   ]
  },
  {
   "cell_type": "code",
   "execution_count": 6,
   "metadata": {},
   "outputs": [],
   "source": [
    "# First create consolidated and individual files using the same parameters as before but with \n",
    "# a vintage of 2021_01\n",
    "_ = gt.EstimatesTables().consolidate(\"2021_01\", \n",
    "        geo_list=[\"region\", \"jurisdiction\"], \n",
    "        save=True,\n",
    "        save_folder=pathlib.Path(\"./data/raw_data/\"))\n",
    "_ = gt.EstimatesTables().individual(\"2021_01\",\n",
    "        geo_list=[\"region\", \"jurisdiction\"],\n",
    "        est_table_list=[\"household_income\", \"age_ethnicity\"],\n",
    "        save=True,\n",
    "        save_folder=pathlib.Path(\"./data/raw_data/\"))"
   ]
  },
  {
   "cell_type": "code",
   "execution_count": 7,
   "metadata": {},
   "outputs": [],
   "source": [
    "# Create diff files \n",
    "_ = gt.DiffFiles().create_diff_tables(\"2020_06\", \"2021_01\", \n",
    "        geo_list=[\"region\", \"jurisdiction\"],\n",
    "        est_table_list=[\"consolidated\", \"household_income\", \"age_ethnicity\"],\n",
    "        raw_data_folder=pathlib.Path(\"./data/raw_data/\"),\n",
    "        save_folder=pathlib.Path(\"./data/diff/\"))"
   ]
  },
  {
   "cell_type": "markdown",
   "metadata": {},
   "source": [
    "## Run Checks"
   ]
  },
  {
   "cell_type": "code",
   "execution_count": 8,
   "metadata": {},
   "outputs": [],
   "source": [
    "# Import the module that allows us to run checks\n",
    "import perform_checks as pc"
   ]
  },
  {
   "cell_type": "markdown",
   "metadata": {},
   "source": [
    "### Run Check 1"
   ]
  },
  {
   "cell_type": "code",
   "execution_count": 9,
   "metadata": {},
   "outputs": [],
   "source": [
    "# TODO"
   ]
  },
  {
   "cell_type": "markdown",
   "metadata": {},
   "source": [
    "### Run Check 2"
   ]
  },
  {
   "cell_type": "code",
   "execution_count": 10,
   "metadata": {},
   "outputs": [],
   "source": [
    "# TODO"
   ]
  },
  {
   "cell_type": "markdown",
   "metadata": {},
   "source": [
    "### Run Check 3"
   ]
  },
  {
   "cell_type": "code",
   "execution_count": 11,
   "metadata": {},
   "outputs": [],
   "source": [
    "# TODO"
   ]
  },
  {
   "cell_type": "markdown",
   "metadata": {},
   "source": [
    "### Run Check 4"
   ]
  },
  {
   "cell_type": "code",
   "execution_count": 12,
   "metadata": {},
   "outputs": [],
   "source": [
    "# TODO"
   ]
  },
  {
   "cell_type": "markdown",
   "metadata": {},
   "source": [
    "### Run Check 5"
   ]
  },
  {
   "cell_type": "code",
   "execution_count": 13,
   "metadata": {},
   "outputs": [],
   "source": [
    "# N/A, done in Power BI"
   ]
  },
  {
   "cell_type": "markdown",
   "metadata": {},
   "source": [
    "### Run Check 6"
   ]
  },
  {
   "cell_type": "code",
   "execution_count": 14,
   "metadata": {},
   "outputs": [],
   "source": [
    "# TODO"
   ]
  },
  {
   "cell_type": "markdown",
   "metadata": {},
   "source": [
    "### Run Check 7"
   ]
  },
  {
   "cell_type": "code",
   "execution_count": 15,
   "metadata": {},
   "outputs": [],
   "source": [
    "# TODO"
   ]
  }
 ],
 "metadata": {
  "kernelspec": {
   "display_name": "Python 3.10.6 64-bit",
   "language": "python",
   "name": "python3"
  },
  "language_info": {
   "codemirror_mode": {
    "name": "ipython",
    "version": 3
   },
   "file_extension": ".py",
   "mimetype": "text/x-python",
   "name": "python",
   "nbconvert_exporter": "python",
   "pygments_lexer": "ipython3",
   "version": "3.10.6"
  },
  "orig_nbformat": 4,
  "vscode": {
   "interpreter": {
    "hash": "7804eeadc717885dfaa8f49b012a5fe9d8355528c06deeb48f3c48c16fd8060a"
   }
  }
 },
 "nbformat": 4,
 "nbformat_minor": 2
}
