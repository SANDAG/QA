{
 "cells": [
  {
   "cell_type": "markdown",
   "metadata": {},
   "source": [
    "# Example Usage"
   ]
  },
  {
   "cell_type": "code",
   "execution_count": 17,
   "metadata": {},
   "outputs": [],
   "source": [
    "import pathlib\n",
    "import random\n",
    "\n",
    "import numpy as np\n",
    "import pandas as pd\n",
    "\n",
    "# Local modules\n",
    "import functions as f"
   ]
  },
  {
   "cell_type": "code",
   "execution_count": 18,
   "metadata": {},
   "outputs": [],
   "source": [
    "# Where files should be saved/loaded\n",
    "RAW_FOLDER = pathlib.Path(\"./data/raw_data/\")\n",
    "DIFF_FOLDER = pathlib.Path(\"./data/diff/\")\n",
    "DOF_FOLDER = pathlib.Path(\"./data/CA_DOF/\")"
   ]
  },
  {
   "cell_type": "markdown",
   "metadata": {},
   "source": [
    "## Create Tables"
   ]
  },
  {
   "cell_type": "code",
   "execution_count": 19,
   "metadata": {},
   "outputs": [],
   "source": [
    "# Import the module that allows us to create tables\n",
    "import generate_tables as gt"
   ]
  },
  {
   "cell_type": "markdown",
   "metadata": {},
   "source": [
    "### Creating Estimates Tables (generate_tables.EstimatesTables)"
   ]
  },
  {
   "cell_type": "code",
   "execution_count": 4,
   "metadata": {},
   "outputs": [],
   "source": [
    "# Creating consolidated files using the vintage 2020_06 at the region and jurisdiction level\n",
    "# \"_ =\" to supress output\n",
    "_ = gt.EstimatesTables().consolidate(\"2020_06\", \n",
    "        geo_list=[\"region\", \"jurisdiction\"], \n",
    "        save=True,\n",
    "        save_folder=RAW_FOLDER)"
   ]
  },
  {
   "cell_type": "code",
   "execution_count": 5,
   "metadata": {},
   "outputs": [],
   "source": [
    "# Creating individual files using the vintage 2020_06 at the region and jurisdiction level for the\n",
    "# Estimates tables household_income, age_ethnicity, and population\n",
    "_ = gt.EstimatesTables().individual(\"2020_06\",\n",
    "        geo_list=[\"region\", \"jurisdiction\"],\n",
    "        est_table_list=[\"household_income\", \"age_ethnicity\", \"population\"],\n",
    "        save=True,\n",
    "        save_folder=RAW_FOLDER)"
   ]
  },
  {
   "cell_type": "markdown",
   "metadata": {},
   "source": [
    "### Creating DOF Data Files (generate_tables.CA_DOF)"
   ]
  },
  {
   "cell_type": "code",
   "execution_count": 6,
   "metadata": {},
   "outputs": [],
   "source": [
    "# Creating DOF Data file.\n",
    "# NOTE: See class documentation for some manual steps you need to do before running this code.\n",
    "# Using the default raw_data and save locations\n",
    "_ = gt.CA_DOF().get_CA_DOF_data(\n",
    "    years=range(2010, 2022),\n",
    "    geo_list=[\"region\", \"jurisdiction\"])"
   ]
  },
  {
   "cell_type": "markdown",
   "metadata": {},
   "source": [
    "### Creating Diff Files (generate_tables.DiffFiles)"
   ]
  },
  {
   "cell_type": "code",
   "execution_count": 7,
   "metadata": {},
   "outputs": [],
   "source": [
    "# First create consolidated and individual files using the same parameters as before but with \n",
    "# a vintage of 2021_01\n",
    "_ = gt.EstimatesTables().consolidate(\"2021_01\", \n",
    "        geo_list=[\"region\", \"jurisdiction\"], \n",
    "        save=True,\n",
    "        save_folder=RAW_FOLDER)\n",
    "_ = gt.EstimatesTables().individual(\"2021_01\",\n",
    "        geo_list=[\"region\", \"jurisdiction\"],\n",
    "        est_table_list=[\"household_income\", \"age_ethnicity\"],\n",
    "        save=True,\n",
    "        save_folder=RAW_FOLDER)"
   ]
  },
  {
   "cell_type": "code",
   "execution_count": 8,
   "metadata": {},
   "outputs": [],
   "source": [
    "# Create diff files \n",
    "_ = gt.DiffFiles().create_diff_tables(\"2020_06\", \"2021_01\", \n",
    "        geo_list=[\"region\", \"jurisdiction\"],\n",
    "        est_table_list=[\"consolidated\", \"household_income\", \"age_ethnicity\"],\n",
    "        raw_data_folder=RAW_FOLDER,\n",
    "        save_folder=DIFF_FOLDER)"
   ]
  },
  {
   "cell_type": "markdown",
   "metadata": {},
   "source": [
    "## Run Checks"
   ]
  },
  {
   "cell_type": "code",
   "execution_count": 20,
   "metadata": {},
   "outputs": [],
   "source": [
    "# Import the module that allows us to run checks\n",
    "import perform_checks as pc"
   ]
  },
  {
   "cell_type": "markdown",
   "metadata": {},
   "source": [
    "### Run Check 1"
   ]
  },
  {
   "cell_type": "code",
   "execution_count": 10,
   "metadata": {},
   "outputs": [
    {
     "name": "stdout",
     "output_type": "stream",
     "text": [
      "Aggregating jurisdiction level data to region and comparing with region csv file\n",
      "No errors\n",
      "\n"
     ]
    }
   ],
   "source": [
    "# Run internal consistency checks\n",
    "pc.InternalConsistency().check_geography_aggregations(RAW_FOLDER, \"2020_06\", geo_list=[\"jurisdiction\"])"
   ]
  },
  {
   "cell_type": "markdown",
   "metadata": {},
   "source": [
    "### Run Check 2"
   ]
  },
  {
   "cell_type": "code",
   "execution_count": 11,
   "metadata": {},
   "outputs": [],
   "source": [
    "# TODO"
   ]
  },
  {
   "cell_type": "markdown",
   "metadata": {},
   "source": [
    "### Run Check 3"
   ]
  },
  {
   "cell_type": "code",
   "execution_count": 12,
   "metadata": {},
   "outputs": [],
   "source": [
    "# TODO"
   ]
  },
  {
   "cell_type": "markdown",
   "metadata": {},
   "source": [
    "### Run Check 4"
   ]
  },
  {
   "cell_type": "code",
   "execution_count": 23,
   "metadata": {},
   "outputs": [
    {
     "ename": "TypeError",
     "evalue": "ThresholdAnalysis.yearly_change() missing 1 required positional argument: 'col'",
     "output_type": "error",
     "traceback": [
      "\u001b[1;31m---------------------------------------------------------------------------\u001b[0m",
      "\u001b[1;31mTypeError\u001b[0m                                 Traceback (most recent call last)",
      "\u001b[1;32mc:\\Users\\eli\\QA\\2022\\Estimates_Automation\\example_usage.ipynb Cell 23\u001b[0m in \u001b[0;36m<cell line: 2>\u001b[1;34m()\u001b[0m\n\u001b[0;32m      <a href='vscode-notebook-cell:/c%3A/Users/eli/QA/2022/Estimates_Automation/example_usage.ipynb#X53sZmlsZQ%3D%3D?line=0'>1</a>\u001b[0m \u001b[39m# Run checks that year over year Estimates values do not change by too much\u001b[39;00m\n\u001b[1;32m----> <a href='vscode-notebook-cell:/c%3A/Users/eli/QA/2022/Estimates_Automation/example_usage.ipynb#X53sZmlsZQ%3D%3D?line=1'>2</a>\u001b[0m pc\u001b[39m.\u001b[39;49mThresholdAnalysis()\u001b[39m.\u001b[39;49myearly_change(RAW_FOLDER, \u001b[39m\"\u001b[39;49m\u001b[39m2020_06\u001b[39;49m\u001b[39m\"\u001b[39;49m, \u001b[39m\"\u001b[39;49m\u001b[39mregion\u001b[39;49m\u001b[39m\"\u001b[39;49m, \u001b[39m\"\u001b[39;49m\u001b[39mpopulation\u001b[39;49m\u001b[39m\"\u001b[39;49m)\n",
      "\u001b[1;31mTypeError\u001b[0m: ThresholdAnalysis.yearly_change() missing 1 required positional argument: 'col'"
     ]
    }
   ],
   "source": [
    "# Run checks that year over year Estimates values do not change by too much\n",
    "pc.ThresholdAnalysis().yearly_change(RAW_FOLDER, \"2020_06\", \"region\", \"population\", threshold=5)"
   ]
  },
  {
   "cell_type": "markdown",
   "metadata": {},
   "source": [
    "### Run Check 5"
   ]
  },
  {
   "cell_type": "code",
   "execution_count": 14,
   "metadata": {},
   "outputs": [],
   "source": [
    "# N/A, done in Power BI"
   ]
  },
  {
   "cell_type": "markdown",
   "metadata": {},
   "source": [
    "### Run Check 6"
   ]
  },
  {
   "cell_type": "code",
   "execution_count": 15,
   "metadata": {},
   "outputs": [
    {
     "name": "stdout",
     "output_type": "stream",
     "text": [
      "Running Check 6: DOF Total Population Comparison\n",
      "Errors have occured on the following rows:\n",
      "    Year  Est Total Population  Est Household Population  Est Group Quarters  \\\n",
      "0   2010               3095314                   2993348              101966   \n",
      "11  2020               3343355                   3230945              112410   \n",
      "\n",
      "    DOF Total Population  DOF Household Population  DOF Group Quarters  \\\n",
      "0                3095313                   2991515              103798   \n",
      "11               3298634                   3172741              125893   \n",
      "\n",
      "    % Total Population  % Household Population  % Group Quarters  \n",
      "0             0.000032                0.061273          1.764967  \n",
      "11            1.355743                1.834502         10.709889  \n",
      "\n"
     ]
    }
   ],
   "source": [
    "# Run checks that Estimates population values are within a certain range +/- 1.5% of CA DOF \n",
    "# population values\n",
    "pc.DOFPopulation().region_DOF_population_comparison(DOF_FOLDER, RAW_FOLDER, \"2020_06\", threshold=1.5)"
   ]
  },
  {
   "cell_type": "markdown",
   "metadata": {},
   "source": [
    "### Run Check 7"
   ]
  },
  {
   "cell_type": "code",
   "execution_count": 16,
   "metadata": {},
   "outputs": [],
   "source": [
    "# TODO"
   ]
  }
 ],
 "metadata": {
  "kernelspec": {
   "display_name": "Python 3.10.6 64-bit",
   "language": "python",
   "name": "python3"
  },
  "language_info": {
   "codemirror_mode": {
    "name": "ipython",
    "version": 3
   },
   "file_extension": ".py",
   "mimetype": "text/x-python",
   "name": "python",
   "nbconvert_exporter": "python",
   "pygments_lexer": "ipython3",
   "version": "3.10.6"
  },
  "orig_nbformat": 4,
  "vscode": {
   "interpreter": {
    "hash": "7804eeadc717885dfaa8f49b012a5fe9d8355528c06deeb48f3c48c16fd8060a"
   }
  }
 },
 "nbformat": 4,
 "nbformat_minor": 2
}
