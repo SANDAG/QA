{
 "cells": [
  {
   "cell_type": "markdown",
   "metadata": {},
   "source": [
    "# Example Usage"
   ]
  },
  {
   "cell_type": "code",
   "execution_count": 1,
   "metadata": {},
   "outputs": [],
   "source": [
    "import pathlib\n",
    "\n",
    "import pandas as pd"
   ]
  },
  {
   "cell_type": "markdown",
   "metadata": {},
   "source": [
    "## Creating Estimates Tables (\"generate_tables.py\")"
   ]
  },
  {
   "cell_type": "code",
   "execution_count": 2,
   "metadata": {},
   "outputs": [],
   "source": [
    "import generate_tables as gt"
   ]
  },
  {
   "cell_type": "code",
   "execution_count": 3,
   "metadata": {},
   "outputs": [],
   "source": [
    "# Creating consolidated files using the vintage 2020_06 at the region and jurisdiction level\n",
    "# \"_ =\" to supress output\n",
    "_ = gt.EstimatesTables().consolidate(\"2020_06\", \n",
    "        geo_list=[\"region\", \"jurisdiction\"], \n",
    "        save=True,\n",
    "        save_folder=pathlib.Path(\"./data/raw_data/\"))"
   ]
  },
  {
   "cell_type": "code",
   "execution_count": 4,
   "metadata": {},
   "outputs": [],
   "source": [
    "# Creating individual files using the vintage 2020_06 at the region and jurisdiction level for the\n",
    "# Estimates tables household_income and age_ethnicity\n",
    "_ = gt.EstimatesTables().individual(\"2020_06\",\n",
    "        geo_list=[\"region\", \"jurisdiction\"],\n",
    "        est_table_list=[\"household_income\", \"age_ethnicity\"],\n",
    "        save=True,\n",
    "        save_folder=pathlib.Path(\"./data/raw_data/\"))"
   ]
  }
 ],
 "metadata": {
  "kernelspec": {
   "display_name": "Python 3.10.6 64-bit",
   "language": "python",
   "name": "python3"
  },
  "language_info": {
   "codemirror_mode": {
    "name": "ipython",
    "version": 3
   },
   "file_extension": ".py",
   "mimetype": "text/x-python",
   "name": "python",
   "nbconvert_exporter": "python",
   "pygments_lexer": "ipython3",
   "version": "3.10.6"
  },
  "orig_nbformat": 4,
  "vscode": {
   "interpreter": {
    "hash": "7804eeadc717885dfaa8f49b012a5fe9d8355528c06deeb48f3c48c16fd8060a"
   }
  }
 },
 "nbformat": 4,
 "nbformat_minor": 2
}
