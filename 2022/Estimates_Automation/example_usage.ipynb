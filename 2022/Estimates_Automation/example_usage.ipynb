{
 "cells": [
  {
   "cell_type": "markdown",
   "metadata": {},
   "source": [
    "# Example Usage"
   ]
  },
  {
   "cell_type": "code",
   "execution_count": 1,
   "metadata": {},
   "outputs": [],
   "source": [
    "import pathlib\n",
    "import random\n",
    "\n",
    "import numpy as np\n",
    "import pandas as pd\n",
    "\n",
    "# Local modules\n",
    "import functions as f"
   ]
  },
  {
   "cell_type": "code",
   "execution_count": 2,
   "metadata": {},
   "outputs": [],
   "source": [
    "# Where files should be saved/loaded\n",
    "RAW_FOLDER = pathlib.Path(\"./data/raw_data/\")\n",
    "DIFF_FOLDER = pathlib.Path(\"./data/diff/\")\n",
    "DOF_FOLDER = pathlib.Path(\"./data/CA_DOF/\")"
   ]
  },
  {
   "cell_type": "markdown",
   "metadata": {},
   "source": [
    "## Create Tables"
   ]
  },
  {
   "cell_type": "code",
   "execution_count": 3,
   "metadata": {},
   "outputs": [],
   "source": [
    "# Import the module that allows us to create tables\n",
    "import generate_tables as gt"
   ]
  },
  {
   "cell_type": "markdown",
   "metadata": {},
   "source": [
    "### Creating Estimates Tables (generate_tables.EstimatesTables)"
   ]
  },
  {
   "cell_type": "code",
   "execution_count": 4,
   "metadata": {},
   "outputs": [],
   "source": [
    "# Creating consolidated files using the vintage 2020_06 at the region and jurisdiction level\n",
    "# \"_ =\" to supress output\n",
    "_ = gt.EstimatesTables().consolidate(\"2020_06\", \n",
    "        geo_list=[\"region\", \"jurisdiction\"], \n",
    "        save=True,\n",
    "        save_folder=RAW_FOLDER)"
   ]
  },
  {
   "cell_type": "code",
   "execution_count": 5,
   "metadata": {},
   "outputs": [],
   "source": [
    "# Creating individual files using the vintage 2020_06 at the region and jurisdiction level for the\n",
    "# Estimates tables household_income and age_ethnicity\n",
    "_ = gt.EstimatesTables().individual(\"2020_06\",\n",
    "        geo_list=[\"region\", \"jurisdiction\"],\n",
    "        est_table_list=[\"household_income\", \"age_ethnicity\"],\n",
    "        save=True,\n",
    "        save_folder=RAW_FOLDER)"
   ]
  },
  {
   "cell_type": "markdown",
   "metadata": {},
   "source": [
    "### Creating DOF Data Files (generate_tables.CA_DOF)"
   ]
  },
  {
   "cell_type": "code",
   "execution_count": 6,
   "metadata": {},
   "outputs": [],
   "source": [
    "# Creating DOF Data file.\n",
    "# NOTE: See class documentation for some manual steps you need to do before running this code.\n",
    "# Using the default raw_data and save locations\n",
    "_ = gt.CA_DOF().get_CA_DOF_data(\n",
    "    years=range(2010, 2022),\n",
    "    geo_list=[\"region\", \"jurisdiction\"])"
   ]
  },
  {
   "cell_type": "markdown",
   "metadata": {},
   "source": [
    "### Creating Diff Files (generate_tables.DiffFiles)"
   ]
  },
  {
   "cell_type": "code",
   "execution_count": 7,
   "metadata": {},
   "outputs": [],
   "source": [
    "# First create consolidated and individual files using the same parameters as before but with \n",
    "# a vintage of 2021_01\n",
    "_ = gt.EstimatesTables().consolidate(\"2021_01\", \n",
    "        geo_list=[\"region\", \"jurisdiction\"], \n",
    "        save=True,\n",
    "        save_folder=RAW_FOLDER)\n",
    "_ = gt.EstimatesTables().individual(\"2021_01\",\n",
    "        geo_list=[\"region\", \"jurisdiction\"],\n",
    "        est_table_list=[\"household_income\", \"age_ethnicity\"],\n",
    "        save=True,\n",
    "        save_folder=RAW_FOLDER)"
   ]
  },
  {
   "cell_type": "code",
   "execution_count": 8,
   "metadata": {},
   "outputs": [],
   "source": [
    "# Create diff files \n",
    "_ = gt.DiffFiles().create_diff_tables(\"2020_06\", \"2021_01\", \n",
    "        geo_list=[\"region\", \"jurisdiction\"],\n",
    "        est_table_list=[\"consolidated\", \"household_income\", \"age_ethnicity\"],\n",
    "        raw_data_folder=RAW_FOLDER,\n",
    "        save_folder=DIFF_FOLDER)"
   ]
  },
  {
   "cell_type": "markdown",
   "metadata": {},
   "source": [
    "## Run Checks"
   ]
  },
  {
   "cell_type": "code",
   "execution_count": 9,
   "metadata": {},
   "outputs": [],
   "source": [
    "# Import the module that allows us to run checks\n",
    "import perform_checks as pc"
   ]
  },
  {
   "cell_type": "markdown",
   "metadata": {},
   "source": [
    "### Run Check 1"
   ]
  },
  {
   "cell_type": "code",
   "execution_count": 10,
   "metadata": {},
   "outputs": [
    {
     "name": "stdout",
     "output_type": "stream",
     "text": [
      "Aggregating jurisdiction level data to region and comparing with region csv file\n",
      "No errors\n",
      "\n"
     ]
    }
   ],
   "source": [
    "# Run internal consistency checks\n",
    "pc.InternalConsistency().check_geography_aggregations(RAW_FOLDER, \"2020_06\", geo_list=[\"jurisdiction\"])"
   ]
  },
  {
   "cell_type": "code",
   "execution_count": 11,
   "metadata": {},
   "outputs": [
    {
     "name": "stdout",
     "output_type": "stream",
     "text": [
      "Aggregating jurisdiction level data to region and comparing with region csv file\n",
      "      region  yr_id  Under 5  5 to 9  10 to 14  15 to 17  18 and 19  20 to 24  \\\n",
      "0  San Diego   2010   203423  194029    198716    128000      97095    270750   \n",
      "\n",
      "   25 to 29  30 to 34  35 to 39  40 to 44  45 to 49  50 to 54  55 to 59  \\\n",
      "0    250737    220185    211012    209551    219795    210980    180305   \n",
      "\n",
      "   60 and 61  62 to 64  65 to 69  70 to 74  75 to 79  80 to 84  85 and Older  \\\n",
      "0      64088     85223    103241     77313     64347     52564         53960   \n",
      "\n",
      "   Hispanic  Non-Hispanic, White  Non-Hispanic, Black  \\\n",
      "0    991348              1500048               146600   \n",
      "\n",
      "   Non-Hispanic, American Indian or Alaska Native  Non-Hispanic, Asian  \\\n",
      "0                                           14098               328058   \n",
      "\n",
      "   Non-Hispanic, Hawaiian or Pacific Islander  Non-Hispanic, Other  \\\n",
      "0                                       13504                 6715   \n",
      "\n",
      "   Non-Hispanic, Two or More Races  Less than $15,000  $15,000 to $29,999  \\\n",
      "0                            94943             117399              149059   \n",
      "\n",
      "   $30,000 to $44,999  $45,000 to $59,999  $60,000 to $74,999  \\\n",
      "0              153011              123744              111343   \n",
      "\n",
      "   $75,000 to $99,999  $100,000 to $124,999  $125,000 to $149,999  \\\n",
      "0              142638                100598                 63023   \n",
      "\n",
      "   $150,000 to $199,999  $200,000 or more  households  \\\n",
      "0                 64067             61984     1086866   \n",
      "\n",
      "   Single Family - Detached  Single Family - Multiple Unit  Multifamily  \\\n",
      "0                    589933                         109875       412457   \n",
      "\n",
      "   Mobile Home  Single-family Detached  Single-family Attached    units  \\\n",
      "0        42737                       0                       0  1110773   \n",
      "\n",
      "   unoccupiable  occupied  vacancy  Total Population  Household Population  \\\n",
      "0         40086   1086866    68136           3095314               2993348   \n",
      "\n",
      "   Group Quarters - Military  Group Quarters - College  \\\n",
      "0                      43597                     16055   \n",
      "\n",
      "   Group Quarters - Other   Female     Male  \n",
      "0                   42314  1541635  1553679  \n",
      "      region  yr_id  Under 5  5 to 9  10 to 14  15 to 17  18 and 19  20 to 24  \\\n",
      "0  San Diego   2010   203423  194029    198716    128000      97095    270750   \n",
      "\n",
      "   25 to 29  30 to 34  35 to 39  40 to 44  45 to 49  50 to 54  55 to 59  \\\n",
      "0    250737    220185    211012    209551    219795    210980    180305   \n",
      "\n",
      "   60 and 61  62 to 64  65 to 69  70 to 74  75 to 79  80 to 84  85 and Older  \\\n",
      "0      64088     85223    103241     77313     64347     52564         53960   \n",
      "\n",
      "   Hispanic  Non-Hispanic, White  Non-Hispanic, Black  \\\n",
      "0    991348              1500048               146600   \n",
      "\n",
      "   Non-Hispanic, American Indian or Alaska Native  Non-Hispanic, Asian  \\\n",
      "0                                           14098               328058   \n",
      "\n",
      "   Non-Hispanic, Hawaiian or Pacific Islander  Non-Hispanic, Other  \\\n",
      "0                                       13504                 6715   \n",
      "\n",
      "   Non-Hispanic, Two or More Races  Less than $15,000  $15,000 to $29,999  \\\n",
      "0                            94943             117399              149059   \n",
      "\n",
      "   $30,000 to $44,999  $45,000 to $59,999  $60,000 to $74,999  \\\n",
      "0              153011              123744              111343   \n",
      "\n",
      "   $75,000 to $99,999  $100,000 to $124,999  $125,000 to $149,999  \\\n",
      "0              142638                100598                 63023   \n",
      "\n",
      "   $150,000 to $199,999  $200,000 or more  households  \\\n",
      "0                 64067             61984     1086866   \n",
      "\n",
      "   Single Family - Detached  Single Family - Multiple Unit  Multifamily  \\\n",
      "0                    589933                         109875       412457   \n",
      "\n",
      "   Mobile Home  Single-family Detached  Single-family Attached    units  \\\n",
      "0        42737                       0                       0  1155002   \n",
      "\n",
      "   unoccupiable  occupied  vacancy  Total Population  Household Population  \\\n",
      "0         40086   1086866    68136           3095314               2993348   \n",
      "\n",
      "   Group Quarters - Military  Group Quarters - College  \\\n",
      "0                      43597                     16055   \n",
      "\n",
      "   Group Quarters - Other   Female     Male  \n",
      "0                   42314  1541635  1553679  \n",
      "\n"
     ]
    }
   ],
   "source": [
    "# Intentionally intoduce an error in a one row to show what error output looks like\n",
    "df = f.load(RAW_FOLDER, \"2020_06\", \"jurisdiction\", \"consolidated\")\n",
    "df.at[0, \"units\"] = 0\n",
    "f.save(df, RAW_FOLDER, \"2020_06\", \"jurisdiction\", \"consolidated\")\n",
    "\n",
    "# Run internal consistency checks\n",
    "pc.InternalConsistency().check_geography_aggregations(RAW_FOLDER, \"2020_06\", geo_list=[\"jurisdiction\"])\n",
    "\n",
    "# Fix the errors in the output by just downloading the file again\n",
    "_ = gt.EstimatesTables().consolidate(\"2020_06\", geo_list=[\"jurisdiction\"], save=True, save_folder=RAW_FOLDER)"
   ]
  },
  {
   "cell_type": "markdown",
   "metadata": {},
   "source": [
    "### Run Check 2"
   ]
  },
  {
   "cell_type": "code",
   "execution_count": 12,
   "metadata": {},
   "outputs": [],
   "source": [
    "# TODO"
   ]
  },
  {
   "cell_type": "markdown",
   "metadata": {},
   "source": [
    "### Run Check 3"
   ]
  },
  {
   "cell_type": "code",
   "execution_count": 13,
   "metadata": {},
   "outputs": [],
   "source": [
    "# TODO"
   ]
  },
  {
   "cell_type": "markdown",
   "metadata": {},
   "source": [
    "### Run Check 4"
   ]
  },
  {
   "cell_type": "code",
   "execution_count": 14,
   "metadata": {},
   "outputs": [],
   "source": [
    "# TODO"
   ]
  },
  {
   "cell_type": "markdown",
   "metadata": {},
   "source": [
    "### Run Check 5"
   ]
  },
  {
   "cell_type": "code",
   "execution_count": 15,
   "metadata": {},
   "outputs": [],
   "source": [
    "# N/A, done in Power BI"
   ]
  },
  {
   "cell_type": "markdown",
   "metadata": {},
   "source": [
    "### Run Check 6"
   ]
  },
  {
   "cell_type": "code",
   "execution_count": 16,
   "metadata": {},
   "outputs": [],
   "source": [
    "# TODO"
   ]
  },
  {
   "cell_type": "markdown",
   "metadata": {},
   "source": [
    "### Run Check 7"
   ]
  },
  {
   "cell_type": "code",
   "execution_count": 17,
   "metadata": {},
   "outputs": [],
   "source": [
    "# TODO"
   ]
  }
 ],
 "metadata": {
  "kernelspec": {
   "display_name": "Python 3.10.6 64-bit",
   "language": "python",
   "name": "python3"
  },
  "language_info": {
   "codemirror_mode": {
    "name": "ipython",
    "version": 3
   },
   "file_extension": ".py",
   "mimetype": "text/x-python",
   "name": "python",
   "nbconvert_exporter": "python",
   "pygments_lexer": "ipython3",
   "version": "3.10.6"
  },
  "orig_nbformat": 4,
  "vscode": {
   "interpreter": {
    "hash": "7804eeadc717885dfaa8f49b012a5fe9d8355528c06deeb48f3c48c16fd8060a"
   }
  }
 },
 "nbformat": 4,
 "nbformat_minor": 2
}
