{
 "cells": [
  {
   "cell_type": "markdown",
   "metadata": {},
   "source": [
    "# Example Usage"
   ]
  },
  {
   "cell_type": "code",
   "execution_count": 1,
   "metadata": {},
   "outputs": [],
   "source": [
    "# Keep track of runtime which will be printed at the end of this notebook\n",
    "import time\n",
    "start = time.time()"
   ]
  },
  {
   "cell_type": "code",
   "execution_count": 2,
   "metadata": {},
   "outputs": [],
   "source": [
    "# Library imports\n",
    "import pathlib\n",
    "\n",
    "import numpy as np\n",
    "import pandas as pd\n",
    "\n",
    "# Local modules\n",
    "import functions as f"
   ]
  },
  {
   "cell_type": "code",
   "execution_count": 3,
   "metadata": {},
   "outputs": [],
   "source": [
    "# The list of geographies to run on by default\n",
    "# NOTE: To add any additional geography such as \"mgra\", simply add it to the list below. \n",
    "# NOTE: Including \"mgra\" results in huge memory usage, possibly 10GB+. If you are going to get mgra\n",
    "# level data, it is recommended that you close as many programs as possible to avoid using the \n",
    "# hard drive as additional memory, which is EXTREMELY slow.\n",
    "GEOGRAPHIES = [\"region\", \"jurisdiction\", \"cpa\"]\n",
    "\n",
    "# The estimates tables to run on. The tables are split up into three different variables\n",
    "# EST_TABLES contains Estimates tables where the key columns are ONLY geography name and year\n",
    "# AGE_SEX_ETHNICITY contains Estimates tables where key columns contain additional information such\n",
    "# as age category or ethnicity category\n",
    "# CONSOLIDATED is the name of the consolidated file\n",
    "EST_TABLES = ['age', 'ethnicity', 'household_income', 'households', 'housing', 'population', 'sex']\n",
    "AGE_SEX_ETHNICITY = [\"age_ethnicity\", \"age_sex_ethnicity\"]\n",
    "CONSOLIDATED = [\"consolidated\"]\n",
    "\n",
    "# The Estimates/DOF vintages to run on. Checks are run on the NEW_VINTAGE by default. OLD_VINTAGE is\n",
    "# only used in the creation of diff files, which contain NEW_VINTAGE - OLD_VINTAGE. DOF_VINTAGE is\n",
    "# used for downloading DOF data, and comparing region level population values in Check 6\n",
    "NEW_VINTAGE = \"2021_01\"\n",
    "OLD_VINTAGE = \"2020_06\"\n",
    "DOF_VINTAGE = \"2021_07_14\"\n",
    "\n",
    "# Default locations where files should be saved to and loaded from.\n",
    "# NOTE: These folders are created by the save function, no need to do so yourself.\n",
    "RAW_FOLDER = pathlib.Path(\"./data/raw_data/\")\n",
    "DIFF_FOLDER = pathlib.Path(\"./data/diff/\")\n",
    "PROP_FOLDER = pathlib.Path(\"./data/proportion/\")\n",
    "OUTPUTS_FOLDER = pathlib.Path(\"./data/outputs/\")"
   ]
  },
  {
   "cell_type": "code",
   "execution_count": 4,
   "metadata": {},
   "outputs": [],
   "source": [
    "# Import the module that allows us to create tables\n",
    "import generate_tables as gt"
   ]
  },
  {
   "cell_type": "markdown",
   "metadata": {},
   "source": [
    "### Creating Estimates Tables (generate_tables.EstimatesTables)"
   ]
  },
  {
   "cell_type": "code",
   "execution_count": 5,
   "metadata": {},
   "outputs": [],
   "source": [
    "# Creating individual files (one file per unique geography and Estimate table)\n",
    "# \"_ =\" to suppress output\n",
    "_ = gt.EstimatesTables().individual(\n",
    "        est_vintage=NEW_VINTAGE,\n",
    "        geo_list=[\"mgra\"],\n",
    "        est_table_list=EST_TABLES + AGE_SEX_ETHNICITY,\n",
    "        save=True,\n",
    "        save_folder=RAW_FOLDER)"
   ]
  },
  {
   "cell_type": "code",
   "execution_count": 6,
   "metadata": {},
   "outputs": [],
   "source": [
    "# Creating consolidated files (one file per geography, contains all requested tables)\n",
    "# NOTE: The additional parameter get_from_file=True allows the function to pull data from already\n",
    "# downloaded Estimates tables, instead of re-downloading and holding in memory\n",
    "_ = gt.EstimatesTables().consolidate(\n",
    "        est_vintage=NEW_VINTAGE, \n",
    "        geo_list=GEOGRAPHIES,\n",
    "        est_table_list=EST_TABLES, \n",
    "        get_from_file=True,\n",
    "        raw_folder=RAW_FOLDER,\n",
    "        save=True,\n",
    "        save_folder=RAW_FOLDER)"
   ]
  },
  {
   "cell_type": "markdown",
   "metadata": {},
   "source": [
    "### Creating DOF Data Files (generate_tables.CA_DOF)"
   ]
  },
  {
   "cell_type": "code",
   "execution_count": 7,
   "metadata": {},
   "outputs": [],
   "source": [
    "# Creating DOF Data files.\n",
    "_ = gt.CA_DOF().get_CA_DOF_data(\n",
    "        dof_vintage=DOF_VINTAGE, \n",
    "        save_folder=RAW_FOLDER)"
   ]
  },
  {
   "cell_type": "markdown",
   "metadata": {},
   "source": [
    "### Creating Diff Files (generate_tables.DiffFiles)"
   ]
  },
  {
   "cell_type": "code",
   "execution_count": 8,
   "metadata": {},
   "outputs": [],
   "source": [
    "# First create consolidated and individual files using the same parameters as before but with \n",
    "# the OLD_VINTAGE instead of the NEW_VINTAGE\n",
    "_ = gt.EstimatesTables().individual(\n",
    "        est_vintage=OLD_VINTAGE,\n",
    "        geo_list=GEOGRAPHIES,\n",
    "        est_table_list=EST_TABLES + AGE_SEX_ETHNICITY,\n",
    "        save=True,\n",
    "        save_folder=RAW_FOLDER)\n",
    "_ = gt.EstimatesTables().consolidate(\n",
    "        est_vintage=OLD_VINTAGE, \n",
    "        geo_list=GEOGRAPHIES,\n",
    "        est_table_list=EST_TABLES, \n",
    "        get_from_file=True,\n",
    "        raw_folder=RAW_FOLDER,\n",
    "        save=True,\n",
    "        save_folder=RAW_FOLDER)"
   ]
  },
  {
   "cell_type": "code",
   "execution_count": 9,
   "metadata": {},
   "outputs": [],
   "source": [
    "# Create diff files \n",
    "# NOTE: This will output xlsx files with sheets containing OLD_VINTAGE data, NEW_VINTAGE data, and\n",
    "# NEW_VINTAGE-OLD_VINTAGE data. This is NOT percent difference, but numeric difference\n",
    "_ = gt.DiffFiles().create_diff_tables(\n",
    "        old_vintage=OLD_VINTAGE, \n",
    "        new_vintage=NEW_VINTAGE, \n",
    "        geo_list=GEOGRAPHIES,\n",
    "        est_table_list=EST_TABLES + CONSOLIDATED + AGE_SEX_ETHNICITY,\n",
    "        raw_data_folder=RAW_FOLDER,\n",
    "        save=True,\n",
    "        save_folder=DIFF_FOLDER)"
   ]
  },
  {
   "cell_type": "markdown",
   "metadata": {},
   "source": [
    "### Creating Proportion Files (generate_tables.ProportionFiles)"
   ]
  },
  {
   "cell_type": "code",
   "execution_count": 10,
   "metadata": {},
   "outputs": [],
   "source": [
    "# Create proportion files\n",
    "gt.ProportionFiles().create_proportion_tables( \n",
    "    est_vintage=NEW_VINTAGE, \n",
    "    geo_list=['region'],\n",
    "    est_table_list=['age', \"sex\", 'ethnicity', 'household_income', 'age_ethnicity', 'age_sex_ethnicity'],\n",
    "    raw_data_folder=RAW_FOLDER,\n",
    "    save=True,\n",
    "    save_folder=PROP_FOLDER)"
   ]
  },
  {
   "cell_type": "markdown",
   "metadata": {},
   "source": [
    "## Run Checks"
   ]
  },
  {
   "cell_type": "code",
   "execution_count": 4,
   "metadata": {},
   "outputs": [],
   "source": [
    "# Import the module that allows us to run checks\n",
    "import perform_checks as pc"
   ]
  },
  {
   "cell_type": "markdown",
   "metadata": {},
   "source": [
    "### Run Check 1"
   ]
  },
  {
   "cell_type": "code",
   "execution_count": 5,
   "metadata": {},
   "outputs": [
    {
     "name": "stdout",
     "output_type": "stream",
     "text": [
      "Running Check 1: Check aggregated values between geography levels\n",
      "Aggregating jurisdiction level data to region and comparing with region csv file\n",
      "No errors\n",
      "\n",
      "Aggregating cpa level data to jurisdiction and comparing with jurisdiction csv file\n",
      "CPA cannot be aggregated\n",
      "\n",
      "Aggregating cpa level data to region and comparing with region csv file\n",
      "CPA cannot be aggregated\n",
      "\n"
     ]
    }
   ],
   "source": [
    "# Run internal consistency checks by geography level\n",
    "# NOTE: Due to a limitation of the function, \"region\" cannot be included in the input geo_list\n",
    "# BUG: If new geographies were added to GEOGRAPHIES, make sure that aggregation instructions are\n",
    "# updated in the variable InternalConsistency()._geography_aggregation. For more details on how,\n",
    "# see the class docstring\n",
    "NO_REGION = GEOGRAPHIES.copy()\n",
    "NO_REGION.remove(\"region\")\n",
    "pc.InternalConsistency().check_geography_aggregations(\n",
    "    vintage=NEW_VINTAGE,\n",
    "    geo_list=NO_REGION,\n",
    "    est_table=\"consolidated\",\n",
    "    raw_folder=RAW_FOLDER,  \n",
    "    save=True,\n",
    "    save_location=OUTPUTS_FOLDER)"
   ]
  },
  {
   "cell_type": "code",
   "execution_count": 6,
   "metadata": {},
   "outputs": [
    {
     "name": "stdout",
     "output_type": "stream",
     "text": [
      "Running Check 1: Check aggregated values between Estimates tables\n",
      "Checking Estimates tables with population values at the region level\n",
      "No errors\n",
      "\n",
      "Checking Estimates tables with population values at the jurisdiction level\n",
      "No errors\n",
      "\n",
      "Checking Estimates tables with population values at the cpa level\n",
      "No errors\n",
      "\n",
      "Checking Estimates tables with households values at the region level\n",
      "No errors\n",
      "\n",
      "Checking Estimates tables with households values at the jurisdiction level\n",
      "No errors\n",
      "\n",
      "Checking Estimates tables with households values at the cpa level\n",
      "Errors found on the following rows:\n",
      "                 cpa  yr_id  household_income_households  \\\n",
      "552    NCFUA Reserve   2010                            0   \n",
      "553    NCFUA Reserve   2011                            0   \n",
      "554    NCFUA Reserve   2012                            0   \n",
      "555    NCFUA Reserve   2013                            0   \n",
      "556    NCFUA Reserve   2014                            0   \n",
      "557    NCFUA Reserve   2015                            0   \n",
      "558    NCFUA Reserve   2016                            0   \n",
      "559    NCFUA Reserve   2017                            0   \n",
      "560    NCFUA Reserve   2018                            0   \n",
      "561    NCFUA Reserve   2019                            0   \n",
      "562    NCFUA Reserve   2020                            0   \n",
      "563    NCFUA Reserve   2021                            0   \n",
      "564  NCFUA Subarea 2   2010                           47   \n",
      "565  NCFUA Subarea 2   2011                           47   \n",
      "566  NCFUA Subarea 2   2012                           47   \n",
      "567  NCFUA Subarea 2   2013                           47   \n",
      "568  NCFUA Subarea 2   2014                           46   \n",
      "569  NCFUA Subarea 2   2015                           46   \n",
      "570  NCFUA Subarea 2   2016                           46   \n",
      "571  NCFUA Subarea 2   2017                           47   \n",
      "572  NCFUA Subarea 2   2018                           47   \n",
      "573  NCFUA Subarea 2   2019                           48   \n",
      "574  NCFUA Subarea 2   2020                           48   \n",
      "575  NCFUA Subarea 2   2021                           49   \n",
      "576           Navajo   2010                        20041   \n",
      "577           Navajo   2011                        20041   \n",
      "578           Navajo   2012                        20041   \n",
      "579           Navajo   2013                        19934   \n",
      "580           Navajo   2014                        19942   \n",
      "581           Navajo   2015                        19950   \n",
      "582           Navajo   2016                        20258   \n",
      "583           Navajo   2017                        20347   \n",
      "584           Navajo   2018                        20378   \n",
      "585           Navajo   2019                        20762   \n",
      "586           Navajo   2020                        21217   \n",
      "587           Navajo   2021                        21473   \n",
      "\n",
      "     households_households  housing_households_housing_type_breakdown  \\\n",
      "552                  20041                                          0   \n",
      "553                  20041                                          0   \n",
      "554                  20041                                          0   \n",
      "555                  19934                                          0   \n",
      "556                  19942                                          0   \n",
      "557                  19950                                          0   \n",
      "558                  20258                                          0   \n",
      "559                  20347                                          0   \n",
      "560                  20378                                          0   \n",
      "561                  20762                                          0   \n",
      "562                  21217                                          0   \n",
      "563                  21473                                          0   \n",
      "564                      0                                         47   \n",
      "565                      0                                         47   \n",
      "566                      0                                         47   \n",
      "567                      0                                         47   \n",
      "568                      0                                         46   \n",
      "569                      0                                         46   \n",
      "570                      0                                         46   \n",
      "571                      0                                         47   \n",
      "572                      0                                         47   \n",
      "573                      0                                         48   \n",
      "574                      0                                         48   \n",
      "575                      0                                         49   \n",
      "576                     47                                      20041   \n",
      "577                     47                                      20041   \n",
      "578                     47                                      20041   \n",
      "579                     47                                      19934   \n",
      "580                     46                                      19942   \n",
      "581                     46                                      19950   \n",
      "582                     46                                      20258   \n",
      "583                     47                                      20347   \n",
      "584                     47                                      20378   \n",
      "585                     48                                      20762   \n",
      "586                     48                                      21217   \n",
      "587                     49                                      21473   \n",
      "\n",
      "     housing_households  \n",
      "552                   0  \n",
      "553                   0  \n",
      "554                   0  \n",
      "555                   0  \n",
      "556                   0  \n",
      "557                   0  \n",
      "558                   0  \n",
      "559                   0  \n",
      "560                   0  \n",
      "561                   0  \n",
      "562                   0  \n",
      "563                   0  \n",
      "564                  47  \n",
      "565                  47  \n",
      "566                  47  \n",
      "567                  47  \n",
      "568                  46  \n",
      "569                  46  \n",
      "570                  46  \n",
      "571                  47  \n",
      "572                  47  \n",
      "573                  48  \n",
      "574                  48  \n",
      "575                  49  \n",
      "576               20041  \n",
      "577               20041  \n",
      "578               20041  \n",
      "579               19934  \n",
      "580               19942  \n",
      "581               19950  \n",
      "582               20258  \n",
      "583               20347  \n",
      "584               20378  \n",
      "585               20762  \n",
      "586               21217  \n",
      "587               21473  \n"
     ]
    },
    {
     "ename": "PermissionError",
     "evalue": "[Errno 13] Permission denied: 'data\\\\outputs\\\\QA_C1_2021_01_cpa_households.csv'",
     "output_type": "error",
     "traceback": [
      "\u001b[1;31m---------------------------------------------------------------------------\u001b[0m",
      "\u001b[1;31mPermissionError\u001b[0m                           Traceback (most recent call last)",
      "\u001b[1;32mc:\\Users\\eli\\QA\\2022\\Estimates_Automation\\example_usage.ipynb Cell 21\u001b[0m in \u001b[0;36m<cell line: 3>\u001b[1;34m()\u001b[0m\n\u001b[0;32m      <a href='vscode-notebook-cell:/c%3A/Users/eli/QA/2022/Estimates_Automation/example_usage.ipynb#X26sZmlsZQ%3D%3D?line=0'>1</a>\u001b[0m \u001b[39m# Run internal consistency checks between Estimates tables\u001b[39;00m\n\u001b[0;32m      <a href='vscode-notebook-cell:/c%3A/Users/eli/QA/2022/Estimates_Automation/example_usage.ipynb#X26sZmlsZQ%3D%3D?line=1'>2</a>\u001b[0m \u001b[39m# See function signature for the meaning of \"est_table_types\"\u001b[39;00m\n\u001b[1;32m----> <a href='vscode-notebook-cell:/c%3A/Users/eli/QA/2022/Estimates_Automation/example_usage.ipynb#X26sZmlsZQ%3D%3D?line=2'>3</a>\u001b[0m pc\u001b[39m.\u001b[39;49mInternalConsistency()\u001b[39m.\u001b[39;49mcheck_internal_aggregations(\n\u001b[0;32m      <a href='vscode-notebook-cell:/c%3A/Users/eli/QA/2022/Estimates_Automation/example_usage.ipynb#X26sZmlsZQ%3D%3D?line=3'>4</a>\u001b[0m         vintage\u001b[39m=\u001b[39;49mNEW_VINTAGE, \n\u001b[0;32m      <a href='vscode-notebook-cell:/c%3A/Users/eli/QA/2022/Estimates_Automation/example_usage.ipynb#X26sZmlsZQ%3D%3D?line=4'>5</a>\u001b[0m         geo_list\u001b[39m=\u001b[39;49mGEOGRAPHIES,\n\u001b[0;32m      <a href='vscode-notebook-cell:/c%3A/Users/eli/QA/2022/Estimates_Automation/example_usage.ipynb#X26sZmlsZQ%3D%3D?line=5'>6</a>\u001b[0m         est_table_types\u001b[39m=\u001b[39;49m[\u001b[39m\"\u001b[39;49m\u001b[39mpopulation\u001b[39;49m\u001b[39m\"\u001b[39;49m, \u001b[39m\"\u001b[39;49m\u001b[39mhouseholds\u001b[39;49m\u001b[39m\"\u001b[39;49m],\n\u001b[0;32m      <a href='vscode-notebook-cell:/c%3A/Users/eli/QA/2022/Estimates_Automation/example_usage.ipynb#X26sZmlsZQ%3D%3D?line=6'>7</a>\u001b[0m         raw_folder\u001b[39m=\u001b[39;49mRAW_FOLDER,\n\u001b[0;32m      <a href='vscode-notebook-cell:/c%3A/Users/eli/QA/2022/Estimates_Automation/example_usage.ipynb#X26sZmlsZQ%3D%3D?line=7'>8</a>\u001b[0m         save\u001b[39m=\u001b[39;49m\u001b[39mTrue\u001b[39;49;00m,\n\u001b[0;32m      <a href='vscode-notebook-cell:/c%3A/Users/eli/QA/2022/Estimates_Automation/example_usage.ipynb#X26sZmlsZQ%3D%3D?line=8'>9</a>\u001b[0m         save_location\u001b[39m=\u001b[39;49mOUTPUTS_FOLDER)\n",
      "File \u001b[1;32mc:\\Users\\eli\\QA\\2022\\Estimates_Automation\\perform_checks.py:308\u001b[0m, in \u001b[0;36mInternalConsistency.check_internal_aggregations\u001b[1;34m(self, vintage, geo_list, est_table_types, raw_folder, save, save_location)\u001b[0m\n\u001b[0;32m    306\u001b[0m     \u001b[39m# Save if errors and requested\u001b[39;00m\n\u001b[0;32m    307\u001b[0m     \u001b[39mif\u001b[39;00m(save):\n\u001b[1;32m--> 308\u001b[0m         f\u001b[39m.\u001b[39;49msave(totals[mask], save_location, \u001b[39m\"\u001b[39;49m\u001b[39mC1\u001b[39;49m\u001b[39m\"\u001b[39;49m, vintage,\n\u001b[0;32m    309\u001b[0m             geo, est_type)\n\u001b[0;32m    310\u001b[0m \u001b[39melse\u001b[39;00m:\n\u001b[0;32m    311\u001b[0m     \u001b[39mprint\u001b[39m(\u001b[39m\"\u001b[39m\u001b[39mNo errors\u001b[39m\u001b[39m\"\u001b[39m)\n",
      "File \u001b[1;32mc:\\Users\\eli\\QA\\2022\\Estimates_Automation\\functions.py:74\u001b[0m, in \u001b[0;36msave\u001b[1;34m(dfs, save_folder, *args)\u001b[0m\n\u001b[0;32m     72\u001b[0m \u001b[39mif\u001b[39;00m(\u001b[39misinstance\u001b[39m(dfs, pd\u001b[39m.\u001b[39mDataFrame)):\n\u001b[0;32m     73\u001b[0m     file_name \u001b[39m+\u001b[39m\u001b[39m=\u001b[39m \u001b[39m\"\u001b[39m\u001b[39mcsv\u001b[39m\u001b[39m\"\u001b[39m\n\u001b[1;32m---> 74\u001b[0m     dfs\u001b[39m.\u001b[39;49mto_csv(save_folder \u001b[39m/\u001b[39;49m file_name, index\u001b[39m=\u001b[39;49m\u001b[39mFalse\u001b[39;49;00m)\n\u001b[0;32m     76\u001b[0m \u001b[39m# If a List of pd.DataFrame is input, then save as xlsx\u001b[39;00m\n\u001b[0;32m     77\u001b[0m \u001b[39melif\u001b[39;00m(\u001b[39misinstance\u001b[39m(dfs, \u001b[39mdict\u001b[39m)):\n",
      "File \u001b[1;32mc:\\Users\\eli\\AppData\\Local\\Programs\\Python\\Python310\\lib\\site-packages\\pandas\\core\\generic.py:3551\u001b[0m, in \u001b[0;36mNDFrame.to_csv\u001b[1;34m(self, path_or_buf, sep, na_rep, float_format, columns, header, index, index_label, mode, encoding, compression, quoting, quotechar, line_terminator, chunksize, date_format, doublequote, escapechar, decimal, errors, storage_options)\u001b[0m\n\u001b[0;32m   3540\u001b[0m df \u001b[39m=\u001b[39m \u001b[39mself\u001b[39m \u001b[39mif\u001b[39;00m \u001b[39misinstance\u001b[39m(\u001b[39mself\u001b[39m, ABCDataFrame) \u001b[39melse\u001b[39;00m \u001b[39mself\u001b[39m\u001b[39m.\u001b[39mto_frame()\n\u001b[0;32m   3542\u001b[0m formatter \u001b[39m=\u001b[39m DataFrameFormatter(\n\u001b[0;32m   3543\u001b[0m     frame\u001b[39m=\u001b[39mdf,\n\u001b[0;32m   3544\u001b[0m     header\u001b[39m=\u001b[39mheader,\n\u001b[1;32m   (...)\u001b[0m\n\u001b[0;32m   3548\u001b[0m     decimal\u001b[39m=\u001b[39mdecimal,\n\u001b[0;32m   3549\u001b[0m )\n\u001b[1;32m-> 3551\u001b[0m \u001b[39mreturn\u001b[39;00m DataFrameRenderer(formatter)\u001b[39m.\u001b[39;49mto_csv(\n\u001b[0;32m   3552\u001b[0m     path_or_buf,\n\u001b[0;32m   3553\u001b[0m     line_terminator\u001b[39m=\u001b[39;49mline_terminator,\n\u001b[0;32m   3554\u001b[0m     sep\u001b[39m=\u001b[39;49msep,\n\u001b[0;32m   3555\u001b[0m     encoding\u001b[39m=\u001b[39;49mencoding,\n\u001b[0;32m   3556\u001b[0m     errors\u001b[39m=\u001b[39;49merrors,\n\u001b[0;32m   3557\u001b[0m     compression\u001b[39m=\u001b[39;49mcompression,\n\u001b[0;32m   3558\u001b[0m     quoting\u001b[39m=\u001b[39;49mquoting,\n\u001b[0;32m   3559\u001b[0m     columns\u001b[39m=\u001b[39;49mcolumns,\n\u001b[0;32m   3560\u001b[0m     index_label\u001b[39m=\u001b[39;49mindex_label,\n\u001b[0;32m   3561\u001b[0m     mode\u001b[39m=\u001b[39;49mmode,\n\u001b[0;32m   3562\u001b[0m     chunksize\u001b[39m=\u001b[39;49mchunksize,\n\u001b[0;32m   3563\u001b[0m     quotechar\u001b[39m=\u001b[39;49mquotechar,\n\u001b[0;32m   3564\u001b[0m     date_format\u001b[39m=\u001b[39;49mdate_format,\n\u001b[0;32m   3565\u001b[0m     doublequote\u001b[39m=\u001b[39;49mdoublequote,\n\u001b[0;32m   3566\u001b[0m     escapechar\u001b[39m=\u001b[39;49mescapechar,\n\u001b[0;32m   3567\u001b[0m     storage_options\u001b[39m=\u001b[39;49mstorage_options,\n\u001b[0;32m   3568\u001b[0m )\n",
      "File \u001b[1;32mc:\\Users\\eli\\AppData\\Local\\Programs\\Python\\Python310\\lib\\site-packages\\pandas\\io\\formats\\format.py:1180\u001b[0m, in \u001b[0;36mDataFrameRenderer.to_csv\u001b[1;34m(self, path_or_buf, encoding, sep, columns, index_label, mode, compression, quoting, quotechar, line_terminator, chunksize, date_format, doublequote, escapechar, errors, storage_options)\u001b[0m\n\u001b[0;32m   1159\u001b[0m     created_buffer \u001b[39m=\u001b[39m \u001b[39mFalse\u001b[39;00m\n\u001b[0;32m   1161\u001b[0m csv_formatter \u001b[39m=\u001b[39m CSVFormatter(\n\u001b[0;32m   1162\u001b[0m     path_or_buf\u001b[39m=\u001b[39mpath_or_buf,\n\u001b[0;32m   1163\u001b[0m     line_terminator\u001b[39m=\u001b[39mline_terminator,\n\u001b[1;32m   (...)\u001b[0m\n\u001b[0;32m   1178\u001b[0m     formatter\u001b[39m=\u001b[39m\u001b[39mself\u001b[39m\u001b[39m.\u001b[39mfmt,\n\u001b[0;32m   1179\u001b[0m )\n\u001b[1;32m-> 1180\u001b[0m csv_formatter\u001b[39m.\u001b[39;49msave()\n\u001b[0;32m   1182\u001b[0m \u001b[39mif\u001b[39;00m created_buffer:\n\u001b[0;32m   1183\u001b[0m     \u001b[39massert\u001b[39;00m \u001b[39misinstance\u001b[39m(path_or_buf, StringIO)\n",
      "File \u001b[1;32mc:\\Users\\eli\\AppData\\Local\\Programs\\Python\\Python310\\lib\\site-packages\\pandas\\io\\formats\\csvs.py:241\u001b[0m, in \u001b[0;36mCSVFormatter.save\u001b[1;34m(self)\u001b[0m\n\u001b[0;32m    237\u001b[0m \u001b[39m\"\"\"\u001b[39;00m\n\u001b[0;32m    238\u001b[0m \u001b[39mCreate the writer & save.\u001b[39;00m\n\u001b[0;32m    239\u001b[0m \u001b[39m\"\"\"\u001b[39;00m\n\u001b[0;32m    240\u001b[0m \u001b[39m# apply compression and byte/text conversion\u001b[39;00m\n\u001b[1;32m--> 241\u001b[0m \u001b[39mwith\u001b[39;00m get_handle(\n\u001b[0;32m    242\u001b[0m     \u001b[39mself\u001b[39;49m\u001b[39m.\u001b[39;49mfilepath_or_buffer,\n\u001b[0;32m    243\u001b[0m     \u001b[39mself\u001b[39;49m\u001b[39m.\u001b[39;49mmode,\n\u001b[0;32m    244\u001b[0m     encoding\u001b[39m=\u001b[39;49m\u001b[39mself\u001b[39;49m\u001b[39m.\u001b[39;49mencoding,\n\u001b[0;32m    245\u001b[0m     errors\u001b[39m=\u001b[39;49m\u001b[39mself\u001b[39;49m\u001b[39m.\u001b[39;49merrors,\n\u001b[0;32m    246\u001b[0m     compression\u001b[39m=\u001b[39;49m\u001b[39mself\u001b[39;49m\u001b[39m.\u001b[39;49mcompression,\n\u001b[0;32m    247\u001b[0m     storage_options\u001b[39m=\u001b[39;49m\u001b[39mself\u001b[39;49m\u001b[39m.\u001b[39;49mstorage_options,\n\u001b[0;32m    248\u001b[0m ) \u001b[39mas\u001b[39;00m handles:\n\u001b[0;32m    249\u001b[0m \n\u001b[0;32m    250\u001b[0m     \u001b[39m# Note: self.encoding is irrelevant here\u001b[39;00m\n\u001b[0;32m    251\u001b[0m     \u001b[39mself\u001b[39m\u001b[39m.\u001b[39mwriter \u001b[39m=\u001b[39m csvlib\u001b[39m.\u001b[39mwriter(\n\u001b[0;32m    252\u001b[0m         handles\u001b[39m.\u001b[39mhandle,\n\u001b[0;32m    253\u001b[0m         lineterminator\u001b[39m=\u001b[39m\u001b[39mself\u001b[39m\u001b[39m.\u001b[39mline_terminator,\n\u001b[1;32m   (...)\u001b[0m\n\u001b[0;32m    258\u001b[0m         quotechar\u001b[39m=\u001b[39m\u001b[39mself\u001b[39m\u001b[39m.\u001b[39mquotechar,\n\u001b[0;32m    259\u001b[0m     )\n\u001b[0;32m    261\u001b[0m     \u001b[39mself\u001b[39m\u001b[39m.\u001b[39m_save()\n",
      "File \u001b[1;32mc:\\Users\\eli\\AppData\\Local\\Programs\\Python\\Python310\\lib\\site-packages\\pandas\\io\\common.py:786\u001b[0m, in \u001b[0;36mget_handle\u001b[1;34m(path_or_buf, mode, encoding, compression, memory_map, is_text, errors, storage_options)\u001b[0m\n\u001b[0;32m    781\u001b[0m \u001b[39melif\u001b[39;00m \u001b[39misinstance\u001b[39m(handle, \u001b[39mstr\u001b[39m):\n\u001b[0;32m    782\u001b[0m     \u001b[39m# Check whether the filename is to be opened in binary mode.\u001b[39;00m\n\u001b[0;32m    783\u001b[0m     \u001b[39m# Binary mode does not support 'encoding' and 'newline'.\u001b[39;00m\n\u001b[0;32m    784\u001b[0m     \u001b[39mif\u001b[39;00m ioargs\u001b[39m.\u001b[39mencoding \u001b[39mand\u001b[39;00m \u001b[39m\"\u001b[39m\u001b[39mb\u001b[39m\u001b[39m\"\u001b[39m \u001b[39mnot\u001b[39;00m \u001b[39min\u001b[39;00m ioargs\u001b[39m.\u001b[39mmode:\n\u001b[0;32m    785\u001b[0m         \u001b[39m# Encoding\u001b[39;00m\n\u001b[1;32m--> 786\u001b[0m         handle \u001b[39m=\u001b[39m \u001b[39mopen\u001b[39;49m(\n\u001b[0;32m    787\u001b[0m             handle,\n\u001b[0;32m    788\u001b[0m             ioargs\u001b[39m.\u001b[39;49mmode,\n\u001b[0;32m    789\u001b[0m             encoding\u001b[39m=\u001b[39;49mioargs\u001b[39m.\u001b[39;49mencoding,\n\u001b[0;32m    790\u001b[0m             errors\u001b[39m=\u001b[39;49merrors,\n\u001b[0;32m    791\u001b[0m             newline\u001b[39m=\u001b[39;49m\u001b[39m\"\u001b[39;49m\u001b[39m\"\u001b[39;49m,\n\u001b[0;32m    792\u001b[0m         )\n\u001b[0;32m    793\u001b[0m     \u001b[39melse\u001b[39;00m:\n\u001b[0;32m    794\u001b[0m         \u001b[39m# Binary mode\u001b[39;00m\n\u001b[0;32m    795\u001b[0m         handle \u001b[39m=\u001b[39m \u001b[39mopen\u001b[39m(handle, ioargs\u001b[39m.\u001b[39mmode)\n",
      "\u001b[1;31mPermissionError\u001b[0m: [Errno 13] Permission denied: 'data\\\\outputs\\\\QA_C1_2021_01_cpa_households.csv'"
     ]
    }
   ],
   "source": [
    "# Run internal consistency checks between Estimates tables\n",
    "# See function signature for the meaning of \"est_table_types\"\n",
    "pc.InternalConsistency().check_internal_aggregations(\n",
    "        vintage=NEW_VINTAGE, \n",
    "        geo_list=GEOGRAPHIES,\n",
    "        est_table_types=[\"population\", \"households\"],\n",
    "        raw_folder=RAW_FOLDER,\n",
    "        save=True,\n",
    "        save_location=OUTPUTS_FOLDER)"
   ]
  },
  {
   "cell_type": "markdown",
   "metadata": {},
   "source": [
    "### Run Check 2"
   ]
  },
  {
   "cell_type": "code",
   "execution_count": 14,
   "metadata": {},
   "outputs": [
    {
     "name": "stdout",
     "output_type": "stream",
     "text": [
      "Running Check 2: Spot Nulls\n",
      "Checking QA_2021_01_region_age.\n",
      "No errors\n",
      "\n",
      "Checking QA_2021_01_region_ethnicity.\n",
      "No errors\n",
      "\n",
      "Checking QA_2021_01_region_household_income.\n",
      "No errors\n",
      "\n",
      "Checking QA_2021_01_region_households.\n",
      "No errors\n",
      "\n",
      "Checking QA_2021_01_region_housing.\n",
      "No errors\n",
      "\n",
      "Checking QA_2021_01_region_population.\n",
      "No errors\n",
      "\n",
      "Checking QA_2021_01_region_sex.\n",
      "No errors\n",
      "\n",
      "Checking QA_2021_01_region_consolidated.\n",
      "No errors\n",
      "\n",
      "Checking QA_2021_01_region_age_ethnicity.\n",
      "No errors\n",
      "\n",
      "Checking QA_2021_01_region_age_sex_ethnicity.\n",
      "No errors\n",
      "\n",
      "Checking QA_2021_01_jurisdiction_age.\n",
      "No errors\n",
      "\n",
      "Checking QA_2021_01_jurisdiction_ethnicity.\n",
      "No errors\n",
      "\n",
      "Checking QA_2021_01_jurisdiction_household_income.\n",
      "No errors\n",
      "\n",
      "Checking QA_2021_01_jurisdiction_households.\n",
      "No errors\n",
      "\n",
      "Checking QA_2021_01_jurisdiction_housing.\n",
      "No errors\n",
      "\n",
      "Checking QA_2021_01_jurisdiction_population.\n",
      "No errors\n",
      "\n",
      "Checking QA_2021_01_jurisdiction_sex.\n",
      "No errors\n",
      "\n",
      "Checking QA_2021_01_jurisdiction_consolidated.\n",
      "No errors\n",
      "\n",
      "Checking QA_2021_01_jurisdiction_age_ethnicity.\n",
      "No errors\n",
      "\n",
      "Checking QA_2021_01_jurisdiction_age_sex_ethnicity.\n",
      "No errors\n",
      "\n",
      "Checking QA_2021_01_cpa_age.\n",
      "No errors\n",
      "\n",
      "Checking QA_2021_01_cpa_ethnicity.\n",
      "No errors\n",
      "\n",
      "Checking QA_2021_01_cpa_household_income.\n",
      "No errors\n",
      "\n",
      "Checking QA_2021_01_cpa_households.\n",
      "No errors\n",
      "\n",
      "Checking QA_2021_01_cpa_housing.\n",
      "No errors\n",
      "\n",
      "Checking QA_2021_01_cpa_population.\n",
      "No errors\n",
      "\n",
      "Checking QA_2021_01_cpa_sex.\n",
      "No errors\n",
      "\n",
      "Checking QA_2021_01_cpa_consolidated.\n",
      "No errors\n",
      "\n",
      "Checking QA_2021_01_cpa_age_ethnicity.\n",
      "No errors\n",
      "\n",
      "Checking QA_2021_01_cpa_age_sex_ethnicity.\n",
      "No errors\n",
      "\n"
     ]
    }
   ],
   "source": [
    "# Run spot nulls check\n",
    "pc.NullValues().spot_nulls(\n",
    "    vintage=NEW_VINTAGE, \n",
    "    geo_list=GEOGRAPHIES, \n",
    "    est_table_list=EST_TABLES + CONSOLIDATED + AGE_SEX_ETHNICITY, \n",
    "    raw_folder=RAW_FOLDER, \n",
    "    save=True,\n",
    "    save_location=OUTPUTS_FOLDER)"
   ]
  },
  {
   "cell_type": "markdown",
   "metadata": {},
   "source": [
    "### Run Check 3"
   ]
  },
  {
   "cell_type": "code",
   "execution_count": 15,
   "metadata": {},
   "outputs": [],
   "source": [
    "# N/A, done already by generate_tables.DiffFiles"
   ]
  },
  {
   "cell_type": "markdown",
   "metadata": {},
   "source": [
    "### Run Check 4"
   ]
  },
  {
   "cell_type": "code",
   "execution_count": 16,
   "metadata": {},
   "outputs": [],
   "source": [
    "# N/A. Although code has been written for this check, the outputs are primarily for QA/QC. \n",
    "# Uncomment the following lines of code if you want to run the check anyways\n",
    "\n",
    "# # Run checks that year over year Estimates values do not change by too much\n",
    "# pc.ThresholdAnalysis().check_thresholds(\n",
    "#     threshold=5,\n",
    "#     vintage=\"2020_06\", \n",
    "#     geo_list=[\"region\"],\n",
    "#     est_table_list=EST_TABLES,\n",
    "#     raw_folder=RAW_FOLDER, \n",
    "#     save=True,\n",
    "#     save_location=OUTPUTS_FOLDER)"
   ]
  },
  {
   "cell_type": "code",
   "execution_count": 17,
   "metadata": {},
   "outputs": [],
   "source": [
    "# N/A. Although code has been written for this check, the outputs are primarily for QA/QC.\n",
    "# Uncomment the following lines of code if you want to run the check anyways\n",
    "\n",
    "# # Run checks that year over year age_sex and age_sex_ethnicity Estimates values do not change by \n",
    "# # too much\n",
    "# # NOTE: The threshold used is 10 for the region level and 15 for the jurisdiction level, as smaller\n",
    "# # population values result in more extreme changes\n",
    "# pc.ThresholdAnalysis().check_thresholds(\n",
    "#     threshold=10,\n",
    "#     vintage=\"2020_06\", \n",
    "#     geo_list=[\"region\"],\n",
    "#     est_table_list=AGE_SEX_ETHNICITY,\n",
    "#     raw_folder=RAW_FOLDER, \n",
    "#     save=True,\n",
    "#     save_location=OUTPUTS_FOLDER)\n",
    "# pc.ThresholdAnalysis().check_thresholds(\n",
    "#     threshold=15,\n",
    "#     vintage=\"2020_06\", \n",
    "#     geo_list=[\"jurisdiction\"],\n",
    "#     est_table_list=AGE_SEX_ETHNICITY,\n",
    "#     raw_folder=RAW_FOLDER, \n",
    "#     save=True,\n",
    "#     save_location=OUTPUTS_FOLDER)"
   ]
  },
  {
   "cell_type": "markdown",
   "metadata": {},
   "source": [
    "### Run Check 5"
   ]
  },
  {
   "cell_type": "code",
   "execution_count": 18,
   "metadata": {},
   "outputs": [],
   "source": [
    "# N/A, done in Power BI"
   ]
  },
  {
   "cell_type": "markdown",
   "metadata": {},
   "source": [
    "### Run Check 6"
   ]
  },
  {
   "cell_type": "code",
   "execution_count": 19,
   "metadata": {},
   "outputs": [
    {
     "name": "stdout",
     "output_type": "stream",
     "text": [
      "Running Check 6: Estimates vs DOF Population Values\n",
      "No errors\n",
      "\n"
     ]
    }
   ],
   "source": [
    "# Run checks that region level Estimates population values are within +/- 1.5% of CA DOF population\n",
    "# values\n",
    "pc.DOFPopulation().region_DOF_population_comparison(\n",
    "    threshold=1.5,\n",
    "    est_vintage=NEW_VINTAGE, \n",
    "    DOF_vintage=DOF_VINTAGE,\n",
    "    raw_folder=RAW_FOLDER, \n",
    "    save=True,\n",
    "    save_location=OUTPUTS_FOLDER)"
   ]
  },
  {
   "cell_type": "markdown",
   "metadata": {},
   "source": [
    "### Run Check 7"
   ]
  },
  {
   "cell_type": "code",
   "execution_count": 20,
   "metadata": {},
   "outputs": [],
   "source": [
    "# N/A. Although code has been written for this check, the outputs are primarily for QA/QC.\n",
    "# Uncomment the following lines of code if you want to run the check anyways\n",
    "\n",
    "# # Run checks that Estimates categorical distributions are within a certain range of CA DOF \n",
    "# # categorical distributions. For example, is the percent of population in households vs group\n",
    "# # quarters roughly the same between Estimates and CA DOF?\n",
    "# pc.DOFProportion().check_DOF_proportion(\n",
    "#     threshold=4,\n",
    "#     vintage=\"2020_06\", \n",
    "#     geo_list=[\"region\", \"jurisdiction\"],\n",
    "#     raw_folder=RAW_FOLDER,\n",
    "#     DOF_folder=DOF_FOLDER,\n",
    "#     save=True,\n",
    "#     save_location=OUTPUTS_FOLDER)"
   ]
  },
  {
   "cell_type": "markdown",
   "metadata": {},
   "source": [
    "## Runtime"
   ]
  },
  {
   "cell_type": "code",
   "execution_count": 21,
   "metadata": {},
   "outputs": [
    {
     "name": "stdout",
     "output_type": "stream",
     "text": [
      "Runtime: 7 minutes, 36 seconds\n"
     ]
    }
   ],
   "source": [
    "runtime = time.time() - start\n",
    "minutes, seconds = divmod(runtime, 60)\n",
    "print(f'Runtime: {int(minutes)} minutes, {(int(seconds))} seconds')"
   ]
  }
 ],
 "metadata": {
  "kernelspec": {
   "display_name": "Python 3.10.6 64-bit",
   "language": "python",
   "name": "python3"
  },
  "language_info": {
   "codemirror_mode": {
    "name": "ipython",
    "version": 3
   },
   "file_extension": ".py",
   "mimetype": "text/x-python",
   "name": "python",
   "nbconvert_exporter": "python",
   "pygments_lexer": "ipython3",
   "version": "3.10.6"
  },
  "orig_nbformat": 4,
  "vscode": {
   "interpreter": {
    "hash": "7804eeadc717885dfaa8f49b012a5fe9d8355528c06deeb48f3c48c16fd8060a"
   }
  }
 },
 "nbformat": 4,
 "nbformat_minor": 2
}
