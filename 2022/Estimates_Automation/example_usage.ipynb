{
 "cells": [
  {
   "cell_type": "markdown",
   "metadata": {},
   "source": [
    "# Example Usage"
   ]
  },
  {
   "cell_type": "code",
   "execution_count": 1,
   "metadata": {},
   "outputs": [],
   "source": [
    "import pathlib\n",
    "\n",
    "import pandas as pd"
   ]
  },
  {
   "cell_type": "code",
   "execution_count": 2,
   "metadata": {},
   "outputs": [],
   "source": [
    "# Where files should be saved/loaded\n",
    "RAW_FOLDER = pathlib.Path(\"./data/raw_data/\")\n",
    "DIFF_FOLDER = pathlib.Path(\"./data/diff/\")\n",
    "DOF_FOLDER = pathlib.Path(\"./data/CA_DOF/\")"
   ]
  },
  {
   "cell_type": "markdown",
   "metadata": {},
   "source": [
    "## Create Tables"
   ]
  },
  {
   "cell_type": "code",
   "execution_count": 3,
   "metadata": {},
   "outputs": [],
   "source": [
    "# Import the module that allows us to create tables\n",
    "import generate_tables as gt"
   ]
  },
  {
   "cell_type": "markdown",
   "metadata": {},
   "source": [
    "### Creating Estimates Tables (generate_tables.EstimatesTables)"
   ]
  },
  {
   "cell_type": "code",
   "execution_count": 4,
   "metadata": {},
   "outputs": [],
   "source": [
    "# Creating consolidated files using the vintage 2020_06 at the region and jurisdiction level\n",
    "# \"_ =\" to supress output\n",
    "_ = gt.EstimatesTables().consolidate(\"2020_06\", \n",
    "        geo_list=[\"region\", \"jurisdiction\"], \n",
    "        save=True,\n",
    "        save_folder=RAW_FOLDER)"
   ]
  },
  {
   "cell_type": "code",
   "execution_count": 5,
   "metadata": {},
   "outputs": [],
   "source": [
    "# Creating individual files using the vintage 2020_06 at the region and jurisdiction level for the\n",
    "# Estimates tables household_income and age_ethnicity\n",
    "_ = gt.EstimatesTables().individual(\"2020_06\",\n",
    "        geo_list=[\"region\", \"jurisdiction\"],\n",
    "        est_table_list=[\"household_income\", \"age_ethnicity\"],\n",
    "        save=True,\n",
    "        save_folder=RAW_FOLDER)"
   ]
  },
  {
   "cell_type": "markdown",
   "metadata": {},
   "source": [
    "### Creating DOF Data Files (generate_tables.CA_DOF)"
   ]
  },
  {
   "cell_type": "code",
   "execution_count": 6,
   "metadata": {},
   "outputs": [],
   "source": [
    "# Creating DOF Data file.\n",
    "# NOTE: See class documentation for some manual steps you need to do before running this code.\n",
    "# Using the default raw_data and save locations\n",
    "_ = gt.CA_DOF().get_CA_DOF_data(\n",
    "    years=range(2010, 2022),\n",
    "    geo_list=[\"region\", \"jurisdiction\"])"
   ]
  },
  {
   "cell_type": "markdown",
   "metadata": {},
   "source": [
    "### Creating Diff Files (generate_tables.DiffFiles)"
   ]
  },
  {
   "cell_type": "code",
   "execution_count": 7,
   "metadata": {},
   "outputs": [],
   "source": [
    "# First create consolidated and individual files using the same parameters as before but with \n",
    "# a vintage of 2021_01\n",
    "_ = gt.EstimatesTables().consolidate(\"2021_01\", \n",
    "        geo_list=[\"region\", \"jurisdiction\"], \n",
    "        save=True,\n",
    "        save_folder=RAW_FOLDER)\n",
    "_ = gt.EstimatesTables().individual(\"2021_01\",\n",
    "        geo_list=[\"region\", \"jurisdiction\"],\n",
    "        est_table_list=[\"household_income\", \"age_ethnicity\"],\n",
    "        save=True,\n",
    "        save_folder=RAW_FOLDER)"
   ]
  },
  {
   "cell_type": "code",
   "execution_count": 4,
   "metadata": {},
   "outputs": [],
   "source": [
    "# Create diff files \n",
    "_ = gt.DiffFiles().create_diff_tables(\"2020_06\", \"2021_01\", \n",
    "        geo_list=[\"region\", \"jurisdiction\"],\n",
    "        est_table_list=[\"consolidated\", \"household_income\", \"age_ethnicity\"],\n",
    "        raw_data_folder=RAW_FOLDER,\n",
    "        save_folder=DIFF_FOLDER)"
   ]
  },
  {
   "cell_type": "markdown",
   "metadata": {},
   "source": [
    "## Run Checks"
   ]
  },
  {
   "cell_type": "code",
   "execution_count": 4,
   "metadata": {},
   "outputs": [],
   "source": [
    "# Import the module that allows us to run checks\n",
    "import perform_checks as pc"
   ]
  },
  {
   "cell_type": "markdown",
   "metadata": {},
   "source": [
    "### Run Check 1"
   ]
  },
  {
   "cell_type": "code",
   "execution_count": 5,
   "metadata": {},
   "outputs": [
    {
     "ename": "KeyError",
     "evalue": "'region'",
     "output_type": "error",
     "traceback": [
      "\u001b[1;31m---------------------------------------------------------------------------\u001b[0m",
      "\u001b[1;31mKeyError\u001b[0m                                  Traceback (most recent call last)",
      "\u001b[1;32mc:\\Users\\eli\\QA\\2022\\Estimates_Automation\\example_usage.ipynb Cell 17\u001b[0m in \u001b[0;36m<cell line: 2>\u001b[1;34m()\u001b[0m\n\u001b[0;32m      <a href='vscode-notebook-cell:/c%3A/Users/eli/QA/2022/Estimates_Automation/example_usage.ipynb#X50sZmlsZQ%3D%3D?line=0'>1</a>\u001b[0m \u001b[39m# Run internal consistency checks\u001b[39;00m\n\u001b[1;32m----> <a href='vscode-notebook-cell:/c%3A/Users/eli/QA/2022/Estimates_Automation/example_usage.ipynb#X50sZmlsZQ%3D%3D?line=1'>2</a>\u001b[0m pc\u001b[39m.\u001b[39;49mInternalConsistency()\u001b[39m.\u001b[39;49mcheck_geography_aggregations(RAW_FOLDER, \u001b[39m\"\u001b[39;49m\u001b[39m2020_06\u001b[39;49m\u001b[39m\"\u001b[39;49m, geo_list\u001b[39m=\u001b[39;49m[\u001b[39m\"\u001b[39;49m\u001b[39mjurisdiction\u001b[39;49m\u001b[39m\"\u001b[39;49m, \u001b[39m\"\u001b[39;49m\u001b[39mregion\u001b[39;49m\u001b[39m\"\u001b[39;49m])\n",
      "File \u001b[1;32mc:\\Users\\eli\\QA\\2022\\Estimates_Automation\\perform_checks.py:127\u001b[0m, in \u001b[0;36mInternalConsistency.check_geography_aggregations\u001b[1;34m(self, folder, vintage, geo_list)\u001b[0m\n\u001b[0;32m    125\u001b[0m geo_tables \u001b[39m=\u001b[39m {}\n\u001b[0;32m    126\u001b[0m \u001b[39mfor\u001b[39;00m geo \u001b[39min\u001b[39;00m geo_list:\n\u001b[1;32m--> 127\u001b[0m     geo_tables[geo] \u001b[39m=\u001b[39m \u001b[39mself\u001b[39;49m\u001b[39m.\u001b[39;49m_get_data_with_aggregation_level(folder, vintage, geo, \u001b[39m\"\u001b[39;49m\u001b[39mconsolidated\u001b[39;49m\u001b[39m\"\u001b[39;49m)\n\u001b[0;32m    129\u001b[0m \u001b[39m# Check each geography level at the specified aggregation levels\u001b[39;00m\n\u001b[0;32m    130\u001b[0m \u001b[39mfor\u001b[39;00m agg_col \u001b[39min\u001b[39;00m \u001b[39mself\u001b[39m\u001b[39m.\u001b[39m_geography_aggregation[geo]:\n\u001b[0;32m    131\u001b[0m     \u001b[39m# Let the user know what we are aggregating to/from and what we are comparing to\u001b[39;00m\n",
      "File \u001b[1;32mc:\\Users\\eli\\QA\\2022\\Estimates_Automation\\perform_checks.py:102\u001b[0m, in \u001b[0;36mInternalConsistency._get_data_with_aggregation_level\u001b[1;34m(self, folder, vintage, geo, table_name)\u001b[0m\n\u001b[0;32m    100\u001b[0m dim_table \u001b[39m=\u001b[39m dim_table\u001b[39m.\u001b[39mrename({\u001b[39m\"\u001b[39m\u001b[39mMGRA\u001b[39m\u001b[39m\"\u001b[39m: \u001b[39m\"\u001b[39m\u001b[39mmgra\u001b[39m\u001b[39m\"\u001b[39m, \u001b[39m\"\u001b[39m\u001b[39mName\u001b[39m\u001b[39m\"\u001b[39m: \u001b[39m\"\u001b[39m\u001b[39mjurisdiction\u001b[39m\u001b[39m\"\u001b[39m, \u001b[39m\"\u001b[39m\u001b[39mLUZ\u001b[39m\u001b[39m\"\u001b[39m: \u001b[39m\"\u001b[39m\u001b[39mluz\u001b[39m\u001b[39m\"\u001b[39m}, axis\u001b[39m=\u001b[39m\u001b[39m1\u001b[39m)\n\u001b[0;32m    101\u001b[0m dim_table[\u001b[39m\"\u001b[39m\u001b[39mregion\u001b[39m\u001b[39m\"\u001b[39m] \u001b[39m=\u001b[39m \u001b[39m\"\u001b[39m\u001b[39mSan Diego\u001b[39m\u001b[39m\"\u001b[39m\n\u001b[1;32m--> 102\u001b[0m dim_table \u001b[39m=\u001b[39m dim_table[[geo] \u001b[39m+\u001b[39m \u001b[39mself\u001b[39;49m\u001b[39m.\u001b[39;49m_geography_aggregation[geo]]\u001b[39m.\u001b[39mdrop_duplicates(ignore_index\u001b[39m=\u001b[39m\u001b[39mTrue\u001b[39;00m)\n\u001b[0;32m    104\u001b[0m \u001b[39m# The luz file has geography as luz_id, and not luz. Change to keep our merge the same\u001b[39;00m\n\u001b[0;32m    105\u001b[0m \u001b[39mif\u001b[39;00m(geo \u001b[39m==\u001b[39m \u001b[39m\"\u001b[39m\u001b[39mluz\u001b[39m\u001b[39m\"\u001b[39m):\n",
      "\u001b[1;31mKeyError\u001b[0m: 'region'"
     ]
    }
   ],
   "source": [
    "# Run internal consistency checks\n",
    "pc.InternalConsistency().check_geography_aggregations(RAW_FOLDER, \"2020_06\", geo_list=[\"jurisdiction\", \"region\"])"
   ]
  },
  {
   "cell_type": "markdown",
   "metadata": {},
   "source": [
    "### Run Check 2"
   ]
  },
  {
   "cell_type": "code",
   "execution_count": null,
   "metadata": {},
   "outputs": [],
   "source": [
    "# TODO"
   ]
  },
  {
   "cell_type": "markdown",
   "metadata": {},
   "source": [
    "### Run Check 3"
   ]
  },
  {
   "cell_type": "code",
   "execution_count": null,
   "metadata": {},
   "outputs": [],
   "source": [
    "# TODO"
   ]
  },
  {
   "cell_type": "markdown",
   "metadata": {},
   "source": [
    "### Run Check 4"
   ]
  },
  {
   "cell_type": "code",
   "execution_count": null,
   "metadata": {},
   "outputs": [],
   "source": [
    "# TODO"
   ]
  },
  {
   "cell_type": "markdown",
   "metadata": {},
   "source": [
    "### Run Check 5"
   ]
  },
  {
   "cell_type": "code",
   "execution_count": null,
   "metadata": {},
   "outputs": [],
   "source": [
    "# N/A, done in Power BI"
   ]
  },
  {
   "cell_type": "markdown",
   "metadata": {},
   "source": [
    "### Run Check 6"
   ]
  },
  {
   "cell_type": "code",
   "execution_count": null,
   "metadata": {},
   "outputs": [],
   "source": [
    "# TODO"
   ]
  },
  {
   "cell_type": "markdown",
   "metadata": {},
   "source": [
    "### Run Check 7"
   ]
  },
  {
   "cell_type": "code",
   "execution_count": null,
   "metadata": {},
   "outputs": [],
   "source": [
    "# TODO"
   ]
  }
 ],
 "metadata": {
  "kernelspec": {
   "display_name": "Python 3.10.6 64-bit",
   "language": "python",
   "name": "python3"
  },
  "language_info": {
   "codemirror_mode": {
    "name": "ipython",
    "version": 3
   },
   "file_extension": ".py",
   "mimetype": "text/x-python",
   "name": "python",
   "nbconvert_exporter": "python",
   "pygments_lexer": "ipython3",
   "version": "3.10.6"
  },
  "orig_nbformat": 4,
  "vscode": {
   "interpreter": {
    "hash": "7804eeadc717885dfaa8f49b012a5fe9d8355528c06deeb48f3c48c16fd8060a"
   }
  }
 },
 "nbformat": 4,
 "nbformat_minor": 2
}
