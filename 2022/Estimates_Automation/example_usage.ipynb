{
 "cells": [
  {
   "cell_type": "markdown",
   "metadata": {},
   "source": [
    "# Example Usage"
   ]
  },
  {
   "cell_type": "code",
   "execution_count": 1,
   "metadata": {},
   "outputs": [],
   "source": [
    "# Keep track of runtime which will be printed at the end of this notebook\n",
    "import time\n",
    "start = time.time()"
   ]
  },
  {
   "cell_type": "code",
   "execution_count": 2,
   "metadata": {},
   "outputs": [],
   "source": [
    "# Library imports\n",
    "import pathlib\n",
    "\n",
    "import numpy as np\n",
    "import pandas as pd\n",
    "\n",
    "# Local modules\n",
    "import functions as f"
   ]
  },
  {
   "cell_type": "code",
   "execution_count": 3,
   "metadata": {},
   "outputs": [],
   "source": [
    "# The list of geographies to run on by default\n",
    "# NOTE: To add any additional geography such as \"mgra\" or \"cpa\", simply add it to the list below. \n",
    "# NOTE: Including \"mgra\" results in huge memory usage, possibly 10GB+. If you are going to get mgra\n",
    "# level data, it is recommended that you close as many programs as possible to avoid using the \n",
    "# hard drive as additional memory, which is EXTREMELY slow.\n",
    "GEOGRAPHIES = [\"region\", \"jurisdiction\"]\n",
    "\n",
    "# The estimates tables to run on. The tables are split up into three different variables\n",
    "# EST_TABLES contains Estimates tables where the key columns are ONLY geography name and year\n",
    "# AGE_SEX_ETHNICITY contains Estimates tables where key columns contain additional information such\n",
    "# as age category or ethnicity category\n",
    "# CONSOLIDATED is the name of the consolidated file\n",
    "EST_TABLES = ['age', 'ethnicity', 'household_income', 'households', 'housing', 'population', 'sex']\n",
    "AGE_SEX_ETHNICITY = [\"age_ethnicity\", \"age_sex_ethnicity\"]\n",
    "CONSOLIDATED = [\"consolidated\"]\n",
    "\n",
    "# The Estimates/DOF vintages to run on. Checks are run on the NEW_VINTAGE by default. OLD_VINTAGE is\n",
    "# only used in the creation of diff files, which contain NEW_VINTAGE - OLD_VINTAGE. DOF_VINTAGE is\n",
    "# used for downloading DOF data, and comparing region level population values in Check 6\n",
    "NEW_VINTAGE = \"2021_01\"\n",
    "OLD_VINTAGE = \"2020_06\"\n",
    "DOF_VINTAGE = \"2021_07_14\"\n",
    "\n",
    "# Default locations where files should be saved to and loaded from.\n",
    "# NOTE: These folders are created by the save function, no need to do so yourself.\n",
    "RAW_FOLDER = pathlib.Path(\"./data/raw_data/\")\n",
    "DIFF_FOLDER = pathlib.Path(\"./data/diff/\")\n",
    "PROP_FOLDER = pathlib.Path(\"./data/proportion/\")\n",
    "OUTPUTS_FOLDER = pathlib.Path(\"./data/outputs/\")"
   ]
  },
  {
   "cell_type": "markdown",
   "metadata": {},
   "source": [
    "## Create Tables"
   ]
  },
  {
   "cell_type": "code",
   "execution_count": 4,
   "metadata": {},
   "outputs": [],
   "source": [
    "# Import the module that allows us to create tables\n",
    "import generate_tables as gt"
   ]
  },
  {
   "cell_type": "markdown",
   "metadata": {},
   "source": [
    "### Creating Estimates Tables (generate_tables.EstimatesTables)"
   ]
  },
  {
   "cell_type": "code",
   "execution_count": 5,
   "metadata": {},
   "outputs": [],
   "source": [
    "# Creating individual files (one file per unique geography and Estimate table)\n",
    "# \"_ =\" to suppress output\n",
    "_ = gt.EstimatesTables().individual(\n",
    "        est_vintage=NEW_VINTAGE,\n",
    "        geo_list=GEOGRAPHIES,\n",
    "        est_table_list=EST_TABLES + AGE_SEX_ETHNICITY,\n",
    "        save=True,\n",
    "        save_folder=RAW_FOLDER)"
   ]
  },
  {
   "cell_type": "code",
   "execution_count": 6,
   "metadata": {},
   "outputs": [],
   "source": [
    "# Creating consolidated files (one file per geography, contains all requested tables)\n",
    "# NOTE: The additional parameter get_from_file=True allows the function to pull data from already\n",
    "# downloaded Estimates tables, instead of re-downloading and holding in memory\n",
    "_ = gt.EstimatesTables().consolidate(\n",
    "        est_vintage=NEW_VINTAGE, \n",
    "        geo_list=GEOGRAPHIES,\n",
    "        est_table_list=EST_TABLES, \n",
    "        get_from_file=True,\n",
    "        raw_folder=RAW_FOLDER,\n",
    "        save=True,\n",
    "        save_folder=RAW_FOLDER)"
   ]
  },
  {
   "cell_type": "markdown",
   "metadata": {},
   "source": [
    "### Creating DOF Data Files (generate_tables.CA_DOF)"
   ]
  },
  {
   "cell_type": "code",
   "execution_count": 7,
   "metadata": {},
   "outputs": [
    {
     "name": "stdout",
     "output_type": "stream",
     "text": [
      "SELECT dof.county_fips_code, dof.fiscal_yr, SUM(dof.population) as population\n",
      "FROM [socioec_data].[ca_dof].[population_proj_2021_07_14] as dof\n",
      "WHERE county_fips_code='06073'\n",
      "GROUP BY dof.county_fips_code, dof.fiscal_yr\n",
      "ORDER BY dof.county_fips_code, dof.fiscal_yr ASC\n"
     ]
    }
   ],
   "source": [
    "# Creating DOF Data files.\n",
    "_ = gt.CA_DOF().get_CA_DOF_data(\n",
    "        dof_vintage=DOF_VINTAGE, \n",
    "        save_folder=RAW_FOLDER)"
   ]
  },
  {
   "cell_type": "markdown",
   "metadata": {},
   "source": [
    "### Creating Diff Files (generate_tables.DiffFiles)"
   ]
  },
  {
   "cell_type": "code",
   "execution_count": 8,
   "metadata": {},
   "outputs": [],
   "source": [
    "# First create consolidated and individual files using the same parameters as before but with \n",
    "# the OLD_VINTAGE instead of the NEW_VINTAGE\n",
    "_ = gt.EstimatesTables().individual(\n",
    "        est_vintage=OLD_VINTAGE,\n",
    "        geo_list=GEOGRAPHIES,\n",
    "        est_table_list=EST_TABLES + AGE_SEX_ETHNICITY,\n",
    "        save=True,\n",
    "        save_folder=RAW_FOLDER)\n",
    "_ = gt.EstimatesTables().consolidate(\n",
    "        est_vintage=OLD_VINTAGE, \n",
    "        geo_list=GEOGRAPHIES,\n",
    "        est_table_list=EST_TABLES, \n",
    "        get_from_file=True,\n",
    "        raw_folder=RAW_FOLDER,\n",
    "        save=True,\n",
    "        save_folder=RAW_FOLDER)"
   ]
  },
  {
   "cell_type": "code",
   "execution_count": 9,
   "metadata": {},
   "outputs": [],
   "source": [
    "# Create diff files \n",
    "# NOTE: This will output xlsx files with sheets containing OLD_VINTAGE data, NEW_VINTAGE data, and\n",
    "# NEW_VINTAGE-OLD_VINTAGE data. This is NOT percent difference, but numeric difference\n",
    "_ = gt.DiffFiles().create_diff_tables(\n",
    "        old_vintage=OLD_VINTAGE, \n",
    "        new_vintage=NEW_VINTAGE, \n",
    "        geo_list=GEOGRAPHIES,\n",
    "        est_table_list=EST_TABLES + CONSOLIDATED + AGE_SEX_ETHNICITY,\n",
    "        raw_data_folder=RAW_FOLDER,\n",
    "        save=True,\n",
    "        save_folder=DIFF_FOLDER)"
   ]
  },
  {
   "cell_type": "markdown",
   "metadata": {},
   "source": [
    "### Creating Proportion Files (generate_tables.ProportionFiles)"
   ]
  },
  {
   "cell_type": "code",
   "execution_count": 10,
   "metadata": {},
   "outputs": [],
   "source": [
    "# Create proportion files\n",
    "gt.ProportionFiles().create_proportion_tables( \n",
    "    est_vintage=NEW_VINTAGE, \n",
    "    geo_list=['region'],\n",
    "    est_table_list=['age', \"sex\", 'ethnicity', 'household_income', 'age_ethnicity', 'age_sex_ethnicity'],\n",
    "    raw_data_folder=RAW_FOLDER,\n",
    "    save=True,\n",
    "    save_folder=PROP_FOLDER)"
   ]
  },
  {
   "cell_type": "markdown",
   "metadata": {},
   "source": [
    "## Run Checks"
   ]
  },
  {
   "cell_type": "code",
   "execution_count": 11,
   "metadata": {},
   "outputs": [],
   "source": [
    "# Import the module that allows us to run checks\n",
    "import perform_checks as pc"
   ]
  },
  {
   "cell_type": "markdown",
   "metadata": {},
   "source": [
    "### Run Check 1"
   ]
  },
  {
   "cell_type": "code",
   "execution_count": 12,
   "metadata": {},
   "outputs": [
    {
     "name": "stdout",
     "output_type": "stream",
     "text": [
      "Running Check 1: Check aggregated values between geography levels\n",
      "Aggregating jurisdiction level data to region and comparing with region csv file\n",
      "No errors\n",
      "\n"
     ]
    }
   ],
   "source": [
    "# Run internal consistency checks by geography level\n",
    "# NOTE: Due to a limitation of the function, \"region\" cannot be included in the input geo_list\n",
    "# BUG: If new geographies were added to GEOGRAPHIES, make sure that aggregation instructions are\n",
    "# updated in the variable InternalConsistency()._geography_aggregation. For more details on how,\n",
    "# see the class docstring\n",
    "NO_REGION = GEOGRAPHIES.copy()\n",
    "NO_REGION.remove(\"region\")\n",
    "pc.InternalConsistency().check_geography_aggregations(\n",
    "    vintage=NEW_VINTAGE,\n",
    "    geo_list=NO_REGION,\n",
    "    est_table=\"consolidated\",\n",
    "    raw_folder=RAW_FOLDER,  \n",
    "    save=True,\n",
    "    save_location=OUTPUTS_FOLDER)"
   ]
  },
  {
   "cell_type": "code",
   "execution_count": 13,
   "metadata": {},
   "outputs": [
    {
     "name": "stdout",
     "output_type": "stream",
     "text": [
      "Running Check 1: Check aggregated values between Estimates tables\n",
      "Checking Estimates tables with population values at the region level\n",
      "No errors\n",
      "\n",
      "Checking Estimates tables with population values at the jurisdiction level\n",
      "No errors\n",
      "\n",
      "Checking Estimates tables with households values at the region level\n",
      "No errors\n",
      "\n",
      "Checking Estimates tables with households values at the jurisdiction level\n",
      "No errors\n",
      "\n"
     ]
    }
   ],
   "source": [
    "# Run internal consistency checks between Estimates tables\n",
    "# See function signature for the meaning of \"est_table_types\"\n",
    "pc.InternalConsistency().check_internal_aggregations(\n",
    "        vintage=NEW_VINTAGE, \n",
    "        geo_list=GEOGRAPHIES,\n",
    "        est_table_types=[\"population\", \"households\"],\n",
    "        raw_folder=RAW_FOLDER,\n",
    "        save=True,\n",
    "        save_location=OUTPUTS_FOLDER)"
   ]
  },
  {
   "cell_type": "markdown",
   "metadata": {},
   "source": [
    "### Run Check 2"
   ]
  },
  {
   "cell_type": "code",
   "execution_count": 14,
   "metadata": {},
   "outputs": [
    {
     "name": "stdout",
     "output_type": "stream",
     "text": [
      "Running Check 2: Spot Nulls\n",
      "Checking QA_2021_01_region_age.\n",
      "No errors\n",
      "\n",
      "Checking QA_2021_01_region_ethnicity.\n",
      "No errors\n",
      "\n",
      "Checking QA_2021_01_region_household_income.\n",
      "No errors\n",
      "\n",
      "Checking QA_2021_01_region_households.\n",
      "No errors\n",
      "\n",
      "Checking QA_2021_01_region_housing.\n",
      "No errors\n",
      "\n",
      "Checking QA_2021_01_region_population.\n",
      "No errors\n",
      "\n",
      "Checking QA_2021_01_region_sex.\n",
      "No errors\n",
      "\n",
      "Checking QA_2021_01_region_consolidated.\n",
      "No errors\n",
      "\n",
      "Checking QA_2021_01_region_age_ethnicity.\n",
      "No errors\n",
      "\n",
      "Checking QA_2021_01_region_age_sex_ethnicity.\n",
      "No errors\n",
      "\n",
      "Checking QA_2021_01_jurisdiction_age.\n",
      "No errors\n",
      "\n",
      "Checking QA_2021_01_jurisdiction_ethnicity.\n",
      "No errors\n",
      "\n",
      "Checking QA_2021_01_jurisdiction_household_income.\n",
      "No errors\n",
      "\n",
      "Checking QA_2021_01_jurisdiction_households.\n",
      "No errors\n",
      "\n",
      "Checking QA_2021_01_jurisdiction_housing.\n",
      "No errors\n",
      "\n",
      "Checking QA_2021_01_jurisdiction_population.\n",
      "No errors\n",
      "\n",
      "Checking QA_2021_01_jurisdiction_sex.\n",
      "No errors\n",
      "\n",
      "Checking QA_2021_01_jurisdiction_consolidated.\n",
      "No errors\n",
      "\n",
      "Checking QA_2021_01_jurisdiction_age_ethnicity.\n",
      "No errors\n",
      "\n",
      "Checking QA_2021_01_jurisdiction_age_sex_ethnicity.\n",
      "No errors\n",
      "\n"
     ]
    }
   ],
   "source": [
    "# Run spot nulls check\n",
    "pc.NullValues().spot_nulls(\n",
    "    vintage=NEW_VINTAGE, \n",
    "    geo_list=GEOGRAPHIES, \n",
    "    est_table_list=EST_TABLES + CONSOLIDATED + AGE_SEX_ETHNICITY, \n",
    "    raw_folder=RAW_FOLDER, \n",
    "    save=True,\n",
    "    save_location=OUTPUTS_FOLDER)"
   ]
  },
  {
   "cell_type": "markdown",
   "metadata": {},
   "source": [
    "### Run Check 3"
   ]
  },
  {
   "cell_type": "code",
   "execution_count": 15,
   "metadata": {},
   "outputs": [],
   "source": [
    "# N/A, done already by generate_tables.DiffFiles"
   ]
  },
  {
   "cell_type": "markdown",
   "metadata": {},
   "source": [
    "### Run Check 4"
   ]
  },
  {
   "cell_type": "code",
   "execution_count": 16,
   "metadata": {},
   "outputs": [],
   "source": [
    "# N/A. Although code has been written for this check, the outputs are primarily for QA/QC. \n",
    "# Uncomment the following lines of code if you want to run the check anyways\n",
    "\n",
    "# # Run checks that year over year Estimates values do not change by too much\n",
    "# pc.ThresholdAnalysis().check_thresholds(\n",
    "#     threshold=5,\n",
    "#     vintage=\"2020_06\", \n",
    "#     geo_list=[\"region\"],\n",
    "#     est_table_list=EST_TABLES,\n",
    "#     raw_folder=RAW_FOLDER, \n",
    "#     save=True,\n",
    "#     save_location=OUTPUTS_FOLDER)"
   ]
  },
  {
   "cell_type": "code",
   "execution_count": 17,
   "metadata": {},
   "outputs": [],
   "source": [
    "# N/A. Although code has been written for this check, the outputs are primarily for QA/QC.\n",
    "# Uncomment the following lines of code if you want to run the check anyways\n",
    "\n",
    "# # Run checks that year over year age_sex and age_sex_ethnicity Estimates values do not change by \n",
    "# # too much\n",
    "# # NOTE: The threshold used is 10 for the region level and 15 for the jurisdiction level, as smaller\n",
    "# # population values result in more extreme changes\n",
    "# pc.ThresholdAnalysis().check_thresholds(\n",
    "#     threshold=10,\n",
    "#     vintage=\"2020_06\", \n",
    "#     geo_list=[\"region\"],\n",
    "#     est_table_list=AGE_SEX_ETHNICITY,\n",
    "#     raw_folder=RAW_FOLDER, \n",
    "#     save=True,\n",
    "#     save_location=OUTPUTS_FOLDER)\n",
    "# pc.ThresholdAnalysis().check_thresholds(\n",
    "#     threshold=15,\n",
    "#     vintage=\"2020_06\", \n",
    "#     geo_list=[\"jurisdiction\"],\n",
    "#     est_table_list=AGE_SEX_ETHNICITY,\n",
    "#     raw_folder=RAW_FOLDER, \n",
    "#     save=True,\n",
    "#     save_location=OUTPUTS_FOLDER)"
   ]
  },
  {
   "cell_type": "markdown",
   "metadata": {},
   "source": [
    "### Run Check 5"
   ]
  },
  {
   "cell_type": "code",
   "execution_count": 18,
   "metadata": {},
   "outputs": [],
   "source": [
    "# N/A, done in Power BI"
   ]
  },
  {
   "cell_type": "markdown",
   "metadata": {},
   "source": [
    "### Run Check 6"
   ]
  },
  {
   "cell_type": "code",
   "execution_count": 19,
   "metadata": {},
   "outputs": [
    {
     "name": "stdout",
     "output_type": "stream",
     "text": [
      "Running Check 6: Estimates vs DOF Population Values\n",
      "No errors\n",
      "\n"
     ]
    }
   ],
   "source": [
    "# Run checks that region level Estimates population values are within +/- 1.5% of CA DOF population\n",
    "# values\n",
    "pc.DOFPopulation().region_DOF_population_comparison(\n",
    "    threshold=1.5,\n",
    "    est_vintage=NEW_VINTAGE, \n",
    "    DOF_vintage=DOF_VINTAGE,\n",
    "    raw_folder=RAW_FOLDER, \n",
    "    save=True,\n",
    "    save_location=OUTPUTS_FOLDER)"
   ]
  },
  {
   "cell_type": "markdown",
   "metadata": {},
   "source": [
    "### Run Check 7"
   ]
  },
  {
   "cell_type": "code",
   "execution_count": 20,
   "metadata": {},
   "outputs": [],
   "source": [
    "# N/A. Although code has been written for this check, the outputs are primarily for QA/QC.\n",
    "# Uncomment the following lines of code if you want to run the check anyways\n",
    "\n",
    "# # Run checks that Estimates categorical distributions are within a certain range of CA DOF \n",
    "# # categorical distributions. For example, is the percent of population in households vs group\n",
    "# # quarters roughly the same between Estimates and CA DOF?\n",
    "# pc.DOFProportion().check_DOF_proportion(\n",
    "#     threshold=4,\n",
    "#     vintage=\"2020_06\", \n",
    "#     geo_list=[\"region\", \"jurisdiction\"],\n",
    "#     raw_folder=RAW_FOLDER,\n",
    "#     DOF_folder=DOF_FOLDER,\n",
    "#     save=True,\n",
    "#     save_location=OUTPUTS_FOLDER)"
   ]
  },
  {
   "cell_type": "markdown",
   "metadata": {},
   "source": [
    "## Runtime"
   ]
  },
  {
   "cell_type": "code",
   "execution_count": 21,
   "metadata": {},
   "outputs": [
    {
     "name": "stdout",
     "output_type": "stream",
     "text": [
      "Runtime: 3 minutes, 16 seconds\n"
     ]
    }
   ],
   "source": [
    "runtime = time.time() - start\n",
    "minutes, seconds = divmod(runtime, 60)\n",
    "print(f'Runtime: {int(minutes)} minutes, {(int(seconds))} seconds')"
   ]
  }
 ],
 "metadata": {
  "kernelspec": {
   "display_name": "Python 3.10.6 64-bit",
   "language": "python",
   "name": "python3"
  },
  "language_info": {
   "codemirror_mode": {
    "name": "ipython",
    "version": 3
   },
   "file_extension": ".py",
   "mimetype": "text/x-python",
   "name": "python",
   "nbconvert_exporter": "python",
   "pygments_lexer": "ipython3",
   "version": "3.10.6"
  },
  "orig_nbformat": 4,
  "vscode": {
   "interpreter": {
    "hash": "7804eeadc717885dfaa8f49b012a5fe9d8355528c06deeb48f3c48c16fd8060a"
   }
  }
 },
 "nbformat": 4,
 "nbformat_minor": 2
}
