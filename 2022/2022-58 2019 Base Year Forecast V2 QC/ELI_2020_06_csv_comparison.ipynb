{
 "cells": [
  {
   "cell_type": "markdown",
   "metadata": {},
   "source": [
    "# 2022-58 2019 Base Year Forecast V2 QC\n",
    "\n",
    "## 2020_06 estimates and csv file comparison"
   ]
  },
  {
   "cell_type": "code",
   "execution_count": 17,
   "metadata": {},
   "outputs": [],
   "source": [
    "import pathlib\n",
    "import json\n",
    "import pandas as pd\n",
    "import sqlalchemy as sql\n",
    "\n",
    "import compare_variables as cv\n",
    "\n",
    "# :( horrible import, I had to manually move the file over here\n",
    "import estimates_automation as ea"
   ]
  },
  {
   "cell_type": "markdown",
   "metadata": {},
   "source": [
    "### Estimates 2020_06 (2019 Only)"
   ]
  },
  {
   "cell_type": "code",
   "execution_count": 9,
   "metadata": {},
   "outputs": [],
   "source": [
    "# The setup for estimates automation\n",
    "DDAM = sql.create_engine('mssql+pymssql://DDAMWSQL16')\n",
    "\n",
    "CONFIG = None\n",
    "with open(\"./../2022-56 Estimates 2021 QC/config.json\", \"r\") as f:\n",
    "    CONFIG = json.load(f)"
   ]
  },
  {
   "cell_type": "code",
   "execution_count": 12,
   "metadata": {},
   "outputs": [],
   "source": [
    "# Get every table\n",
    "estimates_table_list = [\"population\", \"housing\", \"household_income\", \"ethnicity\"]\n",
    "estimates_tables = {}\n",
    "for table_name in estimates_table_list:\n",
    "    estimates_tables[table_name] = \\\n",
    "        ea.get_table_by_geography(DDAM, CONFIG, table_name, \"mgra\", est_vintage=\"2020_06\", pivot=True)\n",
    "\n",
    "    # Additionally filter by year of 2019\n",
    "    estimates_tables[table_name] = estimates_tables[table_name][estimates_tables[table_name][\"yr_id\"] == 2019]"
   ]
  },
  {
   "cell_type": "code",
   "execution_count": 32,
   "metadata": {},
   "outputs": [],
   "source": [
    "# Combine the tables together\n",
    "combined_estimates = pd.DataFrame(columns=[\"mgra\", \"yr_id\"])\n",
    "for name, table in estimates_tables.items():\n",
    "    combined_estimates = pd.merge(combined_estimates, table, how=\"outer\", on=[\"mgra\", \"yr_id\"])\n",
    "\n",
    "# Select only the columns we want, in the order we want\n",
    "combined_estimates[\"Group Quarters - Civilian\"] = \\\n",
    "    combined_estimates[[\"Group Quarters - College\", \"Group Quarters - Other\"]].sum(axis=1)\n",
    "combined_columns = [\"mgra\", \"yr_id\", \n",
    "    # population variables\n",
    "    \"Total Population\", \"Household Population\", \"Group Quarters - Military\", \n",
    "    \"Group Quarters - Civilian\",             \n",
    "\n",
    "    # housing variables                  \n",
    "    \"units\", \"unoccupiable\", \"vacancy\",             \n",
    "\n",
    "    # income variables\n",
    "    \"Less than $15,000\", \"$15,000 to $29,999\", \"$30,000 to $44,999\", \"$45,000 to $59,999\",\n",
    "    \"$60,000 to $74,999\", \"$75,000 to $99,999\", \"$100,000 to $124,999\", \"$125,000 to $149,999\",\n",
    "    \"$150,000 to $199,999\", \"$200,000 or more\",  \n",
    "\n",
    "    # ethnicity variables\n",
    "    \"Hispanic\", \"Non-Hispanic, White\", \"Non-Hispanic, Black\",\n",
    "    \"Non-Hispanic, American Indian or Alaska Native\", \"Non-Hispanic, Asian\", \n",
    "    \"Non-Hispanic, Hawaiian or Pacific Islander\", \"Non-Hispanic, Other\", \n",
    "    \"Non-Hispanic, Two or More Races\",\n",
    "]\n",
    "combined_estimates = combined_estimates[combined_columns]\n"
   ]
  },
  {
   "cell_type": "markdown",
   "metadata": {},
   "source": [
    "### csv files "
   ]
  },
  {
   "cell_type": "code",
   "execution_count": 19,
   "metadata": {},
   "outputs": [],
   "source": [
    "# Get the data we want\n",
    "user = \"eli\"\n",
    "base_folder = pathlib.Path(f\"C:/Users/{user}/San Diego Association of Governments/SANDAG QA QC - Documents/Projects/2022/2022-58 2019 Base Year Forecast Output QC/data/MGRA13 Updated Data/\")\n",
    "csv = cv.get_data(base_folder, \"_mgra_\")"
   ]
  },
  {
   "cell_type": "code",
   "execution_count": 33,
   "metadata": {},
   "outputs": [],
   "source": [
    "# Select only the columns we want, in the order we want them\n",
    "csv_columns = [\"mgra\", \"year\", \n",
    "    # population variables\n",
    "    \"pop\", \"hhp\", \"gq_mil\", \"gq_civ\",                \n",
    "\n",
    "    # housing variables               \n",
    "    \"units\", \"unoccupiable\", \"vacancy\",            \n",
    "\n",
    "    # income variables\n",
    "    \"i1\", \"i2\", \"i3\", \"i4\", \"i5\", \"i6\", \"i7\", \"i8\", \"i9\", \"i10\",    \n",
    "\n",
    "    # ethnicity variables\n",
    "    \"Hispanic\", \"White\", \"Black\", \"American Indian\", \"Asian\",       \n",
    "    \"Pacific Islander\", \"Other\", \"Two or More\", \n",
    "]\n",
    "csv = csv[csv_columns]"
   ]
  },
  {
   "cell_type": "markdown",
   "metadata": {},
   "source": [
    "### Create a difference file"
   ]
  },
  {
   "cell_type": "code",
   "execution_count": 42,
   "metadata": {},
   "outputs": [],
   "source": [
    "diff = pd.DataFrame()\n",
    "diff[\"mgra\"] = combined_estimates[\"mgra\"].copy(deep=True)\n",
    "diff[\"yr_id\"] = 2019\n",
    "\n",
    "# Start at 2 to skip \"mgra\" and \"year\"\n",
    "for i in range(2, len(combined_columns)):\n",
    "    diff[csv_columns[i]] = combined_estimates[combined_columns[i]] - csv[csv_columns[i]]"
   ]
  },
  {
   "cell_type": "markdown",
   "metadata": {},
   "source": [
    "### Combine the three files into one excel sheet"
   ]
  },
  {
   "cell_type": "code",
   "execution_count": 43,
   "metadata": {},
   "outputs": [],
   "source": [
    "save_path = pathlib.Path(\"./2020_06_estimates_vs_csv.xlsx\")\n",
    "\n",
    "# Save the two dfs into the same Excel file\n",
    "with pd.ExcelWriter(save_path) as writer:\n",
    "    combined_estimates.to_excel(writer, sheet_name=\"2020_06 Estimates (2019 Only)\", index=False)\n",
    "    csv.to_excel(writer, sheet_name=\"mgra13_update_mgra_ind_QA.csv\", index=False)\n",
    "    diff.to_excel(writer, sheet_name=\"Estimates - MGRA csv\", index=False)"
   ]
  }
 ],
 "metadata": {
  "kernelspec": {
   "display_name": "Python 3.10.6 64-bit",
   "language": "python",
   "name": "python3"
  },
  "language_info": {
   "codemirror_mode": {
    "name": "ipython",
    "version": 3
   },
   "file_extension": ".py",
   "mimetype": "text/x-python",
   "name": "python",
   "nbconvert_exporter": "python",
   "pygments_lexer": "ipython3",
   "version": "3.10.6"
  },
  "orig_nbformat": 4,
  "vscode": {
   "interpreter": {
    "hash": "7804eeadc717885dfaa8f49b012a5fe9d8355528c06deeb48f3c48c16fd8060a"
   }
  }
 },
 "nbformat": 4,
 "nbformat_minor": 2
}
