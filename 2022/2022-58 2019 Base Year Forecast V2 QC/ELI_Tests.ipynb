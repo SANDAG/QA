{
 "cells": [
  {
   "cell_type": "markdown",
   "metadata": {},
   "source": [
    "# 2019 Base Year Forecast V2 QC"
   ]
  },
  {
   "cell_type": "markdown",
   "metadata": {},
   "source": [
    "## Testing totals match MGRA->Region and LUZ->Region"
   ]
  },
  {
   "cell_type": "code",
   "execution_count": 1,
   "metadata": {},
   "outputs": [
    {
     "name": "stdout",
     "output_type": "stream",
     "text": [
      "Aggregating mgra level data to region and comparing with region csv file\n",
      "      region         hs         hh       hhs  vacancy  vacancy_rate  \\\n",
      "0  San Diego  1204471.0  1153032.0  2.801764  51442.0      0.991685   \n",
      "\n",
      "         hhp   emp_ag  emp_const_non_bldg_prod  emp_const_non_bldg_office  \\\n",
      "0  3230523.0  10000.0                   6700.0                     2171.0   \n",
      "\n",
      "   ...  emp_fed_non_mil  emp_fed_mil  emp_state_local_gov_blue  \\\n",
      "0  ...          11454.0     129493.0                    9739.0   \n",
      "\n",
      "   emp_state_local_gov_white  emp_public_ed  emp_own_occ_dwell_mgmt  \\\n",
      "0                    17053.0            0.0                     0.0   \n",
      "\n",
      "   emp_fed_gov_accts  emp_st_lcl_gov_accts  emp_cap_accts  emp_total  \n",
      "0                0.0                   0.0            0.0  1714155.0  \n",
      "\n",
      "[1 rows x 42 columns]\n",
      "      region         hs         hh       hhs  vacancy  vacancy_rate  \\\n",
      "0  San Diego  1204471.0  1153032.0  2.801764  51442.0           NaN   \n",
      "\n",
      "         hhp   emp_ag  emp_const_non_bldg_prod  emp_const_non_bldg_office  \\\n",
      "0  3230523.0  10000.0                   6700.0                     2171.0   \n",
      "\n",
      "   ...  emp_fed_non_mil  emp_fed_mil  emp_state_local_gov_blue  \\\n",
      "0  ...          11454.0     129493.0                    9739.0   \n",
      "\n",
      "   emp_state_local_gov_white  emp_public_ed  emp_own_occ_dwell_mgmt  \\\n",
      "0                    17053.0            0.0                     0.0   \n",
      "\n",
      "   emp_fed_gov_accts  emp_st_lcl_gov_accts  emp_cap_accts  emp_total  \n",
      "0                0.0                   0.0            0.0  1714155.0  \n",
      "\n",
      "[1 rows x 42 columns]\n",
      "   region    hs    hh   hhs  vacancy  vacancy_rate   hhp  emp_ag  \\\n",
      "0    True  True  True  True     True         False  True    True   \n",
      "\n",
      "   emp_const_non_bldg_prod  emp_const_non_bldg_office  ...  emp_fed_non_mil  \\\n",
      "0                     True                       True  ...             True   \n",
      "\n",
      "   emp_fed_mil  emp_state_local_gov_blue  emp_state_local_gov_white  \\\n",
      "0         True                      True                       True   \n",
      "\n",
      "   emp_public_ed  emp_own_occ_dwell_mgmt  emp_fed_gov_accts  \\\n",
      "0           True                    True               True   \n",
      "\n",
      "   emp_st_lcl_gov_accts  emp_cap_accts  emp_total  \n",
      "0                  True           True       True  \n",
      "\n",
      "[1 rows x 42 columns]\n",
      "\n",
      "Aggregating luz level data to region and comparing with region csv file\n",
      "      region         hs         hh       hhs  vacancy  vacancy_rate  \\\n",
      "0  San Diego  1204471.0  1153032.0  2.801764  51442.0      0.991685   \n",
      "\n",
      "         hhp   emp_ag  emp_const_non_bldg_prod  emp_const_non_bldg_office  \\\n",
      "0  3230523.0  10000.0                   6700.0                     2171.0   \n",
      "\n",
      "   ...  emp_fed_non_mil  emp_fed_mil  emp_state_local_gov_blue  \\\n",
      "0  ...          11454.0     129493.0                    9739.0   \n",
      "\n",
      "   emp_state_local_gov_white  emp_public_ed  emp_own_occ_dwell_mgmt  \\\n",
      "0                    17053.0            0.0                     0.0   \n",
      "\n",
      "   emp_fed_gov_accts  emp_st_lcl_gov_accts  emp_cap_accts  emp_total  \n",
      "0                0.0                   0.0            0.0  1714155.0  \n",
      "\n",
      "[1 rows x 42 columns]\n",
      "      region         hs         hh       hhs  vacancy  vacancy_rate  \\\n",
      "0  San Diego  1204471.0  1153032.0  2.801764  51442.0           NaN   \n",
      "\n",
      "         hhp   emp_ag  emp_const_non_bldg_prod  emp_const_non_bldg_office  \\\n",
      "0  3230523.0  10000.0                   6700.0                     2171.0   \n",
      "\n",
      "   ...  emp_fed_non_mil  emp_fed_mil  emp_state_local_gov_blue  \\\n",
      "0  ...          11454.0     129493.0                    9739.0   \n",
      "\n",
      "   emp_state_local_gov_white  emp_public_ed  emp_own_occ_dwell_mgmt  \\\n",
      "0                    17053.0            0.0                     0.0   \n",
      "\n",
      "   emp_fed_gov_accts  emp_st_lcl_gov_accts  emp_cap_accts  emp_total  \n",
      "0                0.0                   0.0            0.0  1714155.0  \n",
      "\n",
      "[1 rows x 42 columns]\n",
      "   region    hs    hh   hhs  vacancy  vacancy_rate   hhp  emp_ag  \\\n",
      "0    True  True  True  True     True         False  True    True   \n",
      "\n",
      "   emp_const_non_bldg_prod  emp_const_non_bldg_office  ...  emp_fed_non_mil  \\\n",
      "0                     True                       True  ...             True   \n",
      "\n",
      "   emp_fed_mil  emp_state_local_gov_blue  emp_state_local_gov_white  \\\n",
      "0         True                      True                       True   \n",
      "\n",
      "   emp_public_ed  emp_own_occ_dwell_mgmt  emp_fed_gov_accts  \\\n",
      "0           True                    True               True   \n",
      "\n",
      "   emp_st_lcl_gov_accts  emp_cap_accts  emp_total  \n",
      "0                  True           True       True  \n",
      "\n",
      "[1 rows x 42 columns]\n",
      "\n"
     ]
    }
   ],
   "source": [
    "import pathlib \n",
    "\n",
    "import compare_variables as cv\n",
    "\n",
    "user = \"eli\"\n",
    "base_folder = pathlib.Path(f\"C:/Users/{user}/San Diego Association of Governments/SANDAG QA QC - Documents/Projects/2022/2022-58 2019 Base Year Forecast Output QC/data/MGRA15 Data/\")\n",
    "\n",
    "df_dict = cv.get_data_with_aggregation_levels(base_folder)\n",
    "cv.check_geography_aggregations(df_dict)"
   ]
  }
 ],
 "metadata": {
  "kernelspec": {
   "display_name": "Python 3.10.6 64-bit",
   "language": "python",
   "name": "python3"
  },
  "language_info": {
   "codemirror_mode": {
    "name": "ipython",
    "version": 3
   },
   "file_extension": ".py",
   "mimetype": "text/x-python",
   "name": "python",
   "nbconvert_exporter": "python",
   "pygments_lexer": "ipython3",
   "version": "3.10.6"
  },
  "orig_nbformat": 4,
  "vscode": {
   "interpreter": {
    "hash": "7804eeadc717885dfaa8f49b012a5fe9d8355528c06deeb48f3c48c16fd8060a"
   }
  }
 },
 "nbformat": 4,
 "nbformat_minor": 2
}
