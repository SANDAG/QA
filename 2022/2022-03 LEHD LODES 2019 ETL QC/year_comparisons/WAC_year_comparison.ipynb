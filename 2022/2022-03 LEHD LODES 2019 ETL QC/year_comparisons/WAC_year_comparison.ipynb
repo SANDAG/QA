{
 "cells": [
  {
   "cell_type": "markdown",
   "metadata": {},
   "source": [
    "# 2018"
   ]
  },
  {
   "cell_type": "code",
   "execution_count": null,
   "metadata": {},
   "outputs": [],
   "source": [
    "import os \n",
    "import pandas as pd\n",
    "import numpy as np\n",
    "import glob\n",
    "import pyodbc\n",
    "import gc"
   ]
  },
  {
   "cell_type": "markdown",
   "metadata": {},
   "source": [
    "# Origin-Destination Data"
   ]
  },
  {
   "cell_type": "markdown",
   "metadata": {},
   "source": [
    "# Old Folder - 2018 Data \n",
    "- This is the LEHD data that we QCd before, that Anne re-ran for us\n",
    "- All of this data can be seen looked at in the 'New-Runs' page\n",
    "- This is not the new 2018 data"
   ]
  },
  {
   "cell_type": "code",
   "execution_count": null,
   "metadata": {},
   "outputs": [],
   "source": [
    "path = r'R:/DPOE/LEHD LODES/7.5/Source/WAC/Unzipped_RD'\n",
    "r_2018 = glob.glob(path + '/*2018.csv')"
   ]
  },
  {
   "cell_type": "code",
   "execution_count": null,
   "metadata": {},
   "outputs": [],
   "source": [
    "csv_all = r_2018"
   ]
  },
  {
   "cell_type": "code",
   "execution_count": null,
   "metadata": {},
   "outputs": [],
   "source": [
    "list_all_file = []\n",
    "\n",
    "for filename in csv_all:\n",
    "    df=pd.read_csv(filename, index_col=None, header=0)\n",
    "    list_all_file.append(df)"
   ]
  },
  {
   "cell_type": "code",
   "execution_count": null,
   "metadata": {},
   "outputs": [],
   "source": [
    "r_all = pd.concat(list_all_file, axis=0, ignore_index=True)\n",
    "r_all = r_all.iloc[:, :-1]\n",
    "r_all"
   ]
  },
  {
   "cell_type": "code",
   "execution_count": null,
   "metadata": {},
   "outputs": [],
   "source": [
    "#6073 is SD County \n",
    "string_ints = [str(int) for int in r_all['w_geocode']]\n",
    "\n",
    "tf = []\n",
    "for i in string_ints:\n",
    "    if i[0:4] == '6073':\n",
    "        tf.append(True)\n",
    "    else:\n",
    "        tf.append(False)\n",
    "\n",
    "old_sorted_r = r_all[tf]\n",
    "old_sorted_r"
   ]
  },
  {
   "cell_type": "markdown",
   "metadata": {},
   "source": [
    "# New Folder - 2018 Data\n",
    "- This is looking in the new folder  that has 2019 values, but we will be extracting 2018 values to compare."
   ]
  },
  {
   "cell_type": "code",
   "execution_count": null,
   "metadata": {},
   "outputs": [],
   "source": [
    "path = r'R:/DPOE/LEHD LODES/7.5_2021_11Nov/Source/LODES_Download_2021-11-19-20-07-45/wac'\n",
    "r_2018 = glob.glob(path + '/*2018.csv')"
   ]
  },
  {
   "cell_type": "code",
   "execution_count": null,
   "metadata": {},
   "outputs": [],
   "source": [
    "csv_all = r_2018"
   ]
  },
  {
   "cell_type": "code",
   "execution_count": null,
   "metadata": {},
   "outputs": [],
   "source": [
    "list_all_file = []\n",
    "\n",
    "for filename in csv_all:\n",
    "    df=pd.read_csv(filename, index_col=None, header=0)\n",
    "    list_all_file.append(df)"
   ]
  },
  {
   "cell_type": "code",
   "execution_count": null,
   "metadata": {},
   "outputs": [],
   "source": [
    "r_all = pd.concat(list_all_file, axis=0, ignore_index=True)\n",
    "r_all = r_all.iloc[:, :-1]\n",
    "r_all"
   ]
  },
  {
   "cell_type": "code",
   "execution_count": null,
   "metadata": {},
   "outputs": [],
   "source": [
    "#6073 is SD County \n",
    "string_ints = [str(int) for int in r_all['w_geocode']]\n",
    "\n",
    "tf = []\n",
    "for i in string_ints:\n",
    "    if i[0:4] == '6073':\n",
    "        tf.append(True)\n",
    "    else:\n",
    "        tf.append(False)\n",
    "\n",
    "new_sorted_r = r_all[tf]\n",
    "new_sorted_r"
   ]
  },
  {
   "cell_type": "markdown",
   "metadata": {},
   "source": [
    "# Comparison"
   ]
  },
  {
   "cell_type": "code",
   "execution_count": null,
   "metadata": {},
   "outputs": [],
   "source": [
    "new_sorted_r.equals(old_sorted_r)"
   ]
  }
 ],
 "metadata": {
  "interpreter": {
   "hash": "d60123f2ed8b63279fba5ddbefdeca593323e286d3975f7130d49323a9310301"
  },
  "kernelspec": {
   "display_name": "Python 3 (ipykernel)",
   "language": "python",
   "name": "python3"
  },
  "language_info": {
   "codemirror_mode": {
    "name": "ipython",
    "version": 3
   },
   "file_extension": ".py",
   "mimetype": "text/x-python",
   "name": "python",
   "nbconvert_exporter": "python",
   "pygments_lexer": "ipython3",
   "version": "3.8.8"
  }
 },
 "nbformat": 4,
 "nbformat_minor": 4
}
