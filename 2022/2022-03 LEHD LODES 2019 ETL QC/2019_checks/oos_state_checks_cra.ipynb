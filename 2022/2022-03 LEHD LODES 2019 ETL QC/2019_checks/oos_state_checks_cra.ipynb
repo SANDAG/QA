{
 "cells": [
  {
   "cell_type": "markdown",
   "metadata": {},
   "source": [
    "# Out of State Check\n",
    "In this code we will be bringing in out of state data for a particular state and a particular year. This code will then filter for San Diego and the sum will be taken."
   ]
  },
  {
   "cell_type": "code",
   "execution_count": 97,
   "metadata": {},
   "outputs": [],
   "source": [
    "import os \n",
    "import pandas as pd\n",
    "import numpy as np\n",
    "import glob\n",
    "import pyodbc\n",
    "import gc"
   ]
  },
  {
   "cell_type": "markdown",
   "metadata": {},
   "source": [
    "# Getting the correct files in order"
   ]
  },
  {
   "cell_type": "code",
   "execution_count": 98,
   "metadata": {},
   "outputs": [],
   "source": [
    "year = '2019'\n",
    "state = 'co'"
   ]
  },
  {
   "cell_type": "code",
   "execution_count": 99,
   "metadata": {},
   "outputs": [],
   "source": [
    "path = r'R:/DPOE/LEHD LODES/7.5_2021_11Nov/Source/OD_aux_Download_2021-12-18-15-18-17/od/'\n",
    "files = glob.glob(path + f'*{year}.csv')"
   ]
  },
  {
   "cell_type": "code",
   "execution_count": 100,
   "metadata": {},
   "outputs": [
    {
     "data": {
      "text/plain": [
       "['R:/DPOE/LEHD LODES/7.5_2021_11Nov/Source/OD_aux_Download_2021-12-18-15-18-17/od\\\\co_od_aux_JT00_2019.csv',\n",
       " 'R:/DPOE/LEHD LODES/7.5_2021_11Nov/Source/OD_aux_Download_2021-12-18-15-18-17/od\\\\co_od_aux_JT01_2019.csv',\n",
       " 'R:/DPOE/LEHD LODES/7.5_2021_11Nov/Source/OD_aux_Download_2021-12-18-15-18-17/od\\\\co_od_aux_JT02_2019.csv',\n",
       " 'R:/DPOE/LEHD LODES/7.5_2021_11Nov/Source/OD_aux_Download_2021-12-18-15-18-17/od\\\\co_od_aux_JT03_2019.csv',\n",
       " 'R:/DPOE/LEHD LODES/7.5_2021_11Nov/Source/OD_aux_Download_2021-12-18-15-18-17/od\\\\co_od_aux_JT04_2019.csv',\n",
       " 'R:/DPOE/LEHD LODES/7.5_2021_11Nov/Source/OD_aux_Download_2021-12-18-15-18-17/od\\\\co_od_aux_JT05_2019.csv']"
      ]
     },
     "execution_count": 100,
     "metadata": {},
     "output_type": "execute_result"
    }
   ],
   "source": [
    "csv_all = []\n",
    "for file in files:\n",
    "    if file[-23:-21] == state:\n",
    "        csv_all.append(file)\n",
    "\n",
    "csv_all"
   ]
  },
  {
   "cell_type": "markdown",
   "metadata": {},
   "source": [
    "# Download The Data"
   ]
  },
  {
   "cell_type": "code",
   "execution_count": 101,
   "metadata": {},
   "outputs": [],
   "source": [
    "list_all_file = []\n",
    "for filename in csv_all:\n",
    "    df=pd.read_csv(filename, index_col=None, header=0)\n",
    "    list_all_file.append(df)"
   ]
  },
  {
   "cell_type": "code",
   "execution_count": 102,
   "metadata": {},
   "outputs": [],
   "source": [
    "r_all = pd.concat(list_all_file, axis=0, ignore_index=True)"
   ]
  },
  {
   "cell_type": "markdown",
   "metadata": {},
   "source": [
    "# Sort for San Diego"
   ]
  },
  {
   "cell_type": "code",
   "execution_count": 103,
   "metadata": {},
   "outputs": [
    {
     "data": {
      "text/html": [
       "<div>\n",
       "<style scoped>\n",
       "    .dataframe tbody tr th:only-of-type {\n",
       "        vertical-align: middle;\n",
       "    }\n",
       "\n",
       "    .dataframe tbody tr th {\n",
       "        vertical-align: top;\n",
       "    }\n",
       "\n",
       "    .dataframe thead th {\n",
       "        text-align: right;\n",
       "    }\n",
       "</style>\n",
       "<table border=\"1\" class=\"dataframe\">\n",
       "  <thead>\n",
       "    <tr style=\"text-align: right;\">\n",
       "      <th></th>\n",
       "      <th>w_geocode</th>\n",
       "      <th>h_geocode</th>\n",
       "      <th>S000</th>\n",
       "      <th>SA01</th>\n",
       "      <th>SA02</th>\n",
       "      <th>SA03</th>\n",
       "      <th>SE01</th>\n",
       "      <th>SE02</th>\n",
       "      <th>SE03</th>\n",
       "      <th>SI01</th>\n",
       "      <th>SI02</th>\n",
       "      <th>SI03</th>\n",
       "      <th>createdate</th>\n",
       "    </tr>\n",
       "  </thead>\n",
       "  <tbody>\n",
       "    <tr>\n",
       "      <th>1259</th>\n",
       "      <td>80010088011015</td>\n",
       "      <td>60730101041007</td>\n",
       "      <td>1</td>\n",
       "      <td>0</td>\n",
       "      <td>0</td>\n",
       "      <td>1</td>\n",
       "      <td>0</td>\n",
       "      <td>0</td>\n",
       "      <td>1</td>\n",
       "      <td>1</td>\n",
       "      <td>0</td>\n",
       "      <td>0</td>\n",
       "      <td>20211018</td>\n",
       "    </tr>\n",
       "    <tr>\n",
       "      <th>1267</th>\n",
       "      <td>80010088011039</td>\n",
       "      <td>60730117003008</td>\n",
       "      <td>1</td>\n",
       "      <td>0</td>\n",
       "      <td>0</td>\n",
       "      <td>1</td>\n",
       "      <td>0</td>\n",
       "      <td>0</td>\n",
       "      <td>1</td>\n",
       "      <td>1</td>\n",
       "      <td>0</td>\n",
       "      <td>0</td>\n",
       "      <td>20211018</td>\n",
       "    </tr>\n",
       "    <tr>\n",
       "      <th>1556</th>\n",
       "      <td>80010093201012</td>\n",
       "      <td>60730093043003</td>\n",
       "      <td>1</td>\n",
       "      <td>0</td>\n",
       "      <td>1</td>\n",
       "      <td>0</td>\n",
       "      <td>1</td>\n",
       "      <td>0</td>\n",
       "      <td>0</td>\n",
       "      <td>0</td>\n",
       "      <td>0</td>\n",
       "      <td>1</td>\n",
       "      <td>20211018</td>\n",
       "    </tr>\n",
       "    <tr>\n",
       "      <th>1558</th>\n",
       "      <td>80010093202011</td>\n",
       "      <td>60730093042010</td>\n",
       "      <td>1</td>\n",
       "      <td>0</td>\n",
       "      <td>1</td>\n",
       "      <td>0</td>\n",
       "      <td>1</td>\n",
       "      <td>0</td>\n",
       "      <td>0</td>\n",
       "      <td>0</td>\n",
       "      <td>0</td>\n",
       "      <td>1</td>\n",
       "      <td>20211018</td>\n",
       "    </tr>\n",
       "    <tr>\n",
       "      <th>1848</th>\n",
       "      <td>80010096034002</td>\n",
       "      <td>60730125012002</td>\n",
       "      <td>1</td>\n",
       "      <td>0</td>\n",
       "      <td>0</td>\n",
       "      <td>1</td>\n",
       "      <td>1</td>\n",
       "      <td>0</td>\n",
       "      <td>0</td>\n",
       "      <td>0</td>\n",
       "      <td>0</td>\n",
       "      <td>1</td>\n",
       "      <td>20211018</td>\n",
       "    </tr>\n",
       "    <tr>\n",
       "      <th>...</th>\n",
       "      <td>...</td>\n",
       "      <td>...</td>\n",
       "      <td>...</td>\n",
       "      <td>...</td>\n",
       "      <td>...</td>\n",
       "      <td>...</td>\n",
       "      <td>...</td>\n",
       "      <td>...</td>\n",
       "      <td>...</td>\n",
       "      <td>...</td>\n",
       "      <td>...</td>\n",
       "      <td>...</td>\n",
       "      <td>...</td>\n",
       "    </tr>\n",
       "    <tr>\n",
       "      <th>172455</th>\n",
       "      <td>81230014081021</td>\n",
       "      <td>60730027071002</td>\n",
       "      <td>1</td>\n",
       "      <td>0</td>\n",
       "      <td>0</td>\n",
       "      <td>1</td>\n",
       "      <td>0</td>\n",
       "      <td>1</td>\n",
       "      <td>0</td>\n",
       "      <td>0</td>\n",
       "      <td>0</td>\n",
       "      <td>1</td>\n",
       "      <td>20211018</td>\n",
       "    </tr>\n",
       "    <tr>\n",
       "      <th>172896</th>\n",
       "      <td>81230019071107</td>\n",
       "      <td>60730039022005</td>\n",
       "      <td>1</td>\n",
       "      <td>0</td>\n",
       "      <td>1</td>\n",
       "      <td>0</td>\n",
       "      <td>1</td>\n",
       "      <td>0</td>\n",
       "      <td>0</td>\n",
       "      <td>0</td>\n",
       "      <td>0</td>\n",
       "      <td>1</td>\n",
       "      <td>20211018</td>\n",
       "    </tr>\n",
       "    <tr>\n",
       "      <th>172936</th>\n",
       "      <td>81230019072042</td>\n",
       "      <td>60730100034005</td>\n",
       "      <td>1</td>\n",
       "      <td>0</td>\n",
       "      <td>0</td>\n",
       "      <td>1</td>\n",
       "      <td>0</td>\n",
       "      <td>0</td>\n",
       "      <td>1</td>\n",
       "      <td>1</td>\n",
       "      <td>0</td>\n",
       "      <td>0</td>\n",
       "      <td>20211018</td>\n",
       "    </tr>\n",
       "    <tr>\n",
       "      <th>173485</th>\n",
       "      <td>81230023004011</td>\n",
       "      <td>60730187001162</td>\n",
       "      <td>1</td>\n",
       "      <td>0</td>\n",
       "      <td>0</td>\n",
       "      <td>1</td>\n",
       "      <td>0</td>\n",
       "      <td>1</td>\n",
       "      <td>0</td>\n",
       "      <td>1</td>\n",
       "      <td>0</td>\n",
       "      <td>0</td>\n",
       "      <td>20211018</td>\n",
       "    </tr>\n",
       "    <tr>\n",
       "      <th>173854</th>\n",
       "      <td>81259632003148</td>\n",
       "      <td>60730100051002</td>\n",
       "      <td>1</td>\n",
       "      <td>0</td>\n",
       "      <td>0</td>\n",
       "      <td>1</td>\n",
       "      <td>0</td>\n",
       "      <td>0</td>\n",
       "      <td>1</td>\n",
       "      <td>1</td>\n",
       "      <td>0</td>\n",
       "      <td>0</td>\n",
       "      <td>20211018</td>\n",
       "    </tr>\n",
       "  </tbody>\n",
       "</table>\n",
       "<p>1327 rows × 13 columns</p>\n",
       "</div>"
      ],
      "text/plain": [
       "             w_geocode       h_geocode  S000  SA01  SA02  SA03  SE01  SE02  \\\n",
       "1259    80010088011015  60730101041007     1     0     0     1     0     0   \n",
       "1267    80010088011039  60730117003008     1     0     0     1     0     0   \n",
       "1556    80010093201012  60730093043003     1     0     1     0     1     0   \n",
       "1558    80010093202011  60730093042010     1     0     1     0     1     0   \n",
       "1848    80010096034002  60730125012002     1     0     0     1     1     0   \n",
       "...                ...             ...   ...   ...   ...   ...   ...   ...   \n",
       "172455  81230014081021  60730027071002     1     0     0     1     0     1   \n",
       "172896  81230019071107  60730039022005     1     0     1     0     1     0   \n",
       "172936  81230019072042  60730100034005     1     0     0     1     0     0   \n",
       "173485  81230023004011  60730187001162     1     0     0     1     0     1   \n",
       "173854  81259632003148  60730100051002     1     0     0     1     0     0   \n",
       "\n",
       "        SE03  SI01  SI02  SI03  createdate  \n",
       "1259       1     1     0     0    20211018  \n",
       "1267       1     1     0     0    20211018  \n",
       "1556       0     0     0     1    20211018  \n",
       "1558       0     0     0     1    20211018  \n",
       "1848       0     0     0     1    20211018  \n",
       "...      ...   ...   ...   ...         ...  \n",
       "172455     0     0     0     1    20211018  \n",
       "172896     0     0     0     1    20211018  \n",
       "172936     1     1     0     0    20211018  \n",
       "173485     0     1     0     0    20211018  \n",
       "173854     1     1     0     0    20211018  \n",
       "\n",
       "[1327 rows x 13 columns]"
      ]
     },
     "execution_count": 103,
     "metadata": {},
     "output_type": "execute_result"
    }
   ],
   "source": [
    "string_ints = [str(int) for int in r_all['h_geocode']]\n",
    "\n",
    "tf = []\n",
    "for i in string_ints:\n",
    "    if i[0:4] == '6073':\n",
    "        tf.append(True)\n",
    "    else:\n",
    "        tf.append(False)\n",
    "\n",
    "sorted_r = r_all[tf]\n",
    "sorted_r"
   ]
  },
  {
   "cell_type": "markdown",
   "metadata": {},
   "source": [
    "# Final Number Needed"
   ]
  },
  {
   "cell_type": "code",
   "execution_count": 104,
   "metadata": {},
   "outputs": [
    {
     "name": "stdout",
     "output_type": "stream",
     "text": [
      "In co in 2019 there are 1327 h_geocodes\n"
     ]
    }
   ],
   "source": [
    "print(f\"In {state} in {year} there are {len(sorted_r)} h_geocodes\")"
   ]
  }
 ],
 "metadata": {
  "interpreter": {
   "hash": "d60123f2ed8b63279fba5ddbefdeca593323e286d3975f7130d49323a9310301"
  },
  "kernelspec": {
   "display_name": "Python 3.8.8 64-bit ('base': conda)",
   "language": "python",
   "name": "python3"
  },
  "language_info": {
   "codemirror_mode": {
    "name": "ipython",
    "version": 3
   },
   "file_extension": ".py",
   "mimetype": "text/x-python",
   "name": "python",
   "nbconvert_exporter": "python",
   "pygments_lexer": "ipython3",
   "version": "3.8.8"
  },
  "orig_nbformat": 4
 },
 "nbformat": 4,
 "nbformat_minor": 2
}
