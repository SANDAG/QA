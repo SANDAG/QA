{
 "cells": [
  {
   "cell_type": "markdown",
   "metadata": {},
   "source": [
    "# Out of State Check\n",
    "In this code we will be bringing in out of state data for a particular state and a particular year. This code will then filter for San Diego and the sum will be taken."
   ]
  },
  {
   "cell_type": "code",
   "execution_count": 87,
   "metadata": {},
   "outputs": [],
   "source": [
    "import os \n",
    "import pandas as pd\n",
    "import numpy as np\n",
    "import glob\n",
    "import pyodbc\n",
    "import gc"
   ]
  },
  {
   "cell_type": "markdown",
   "metadata": {},
   "source": [
    "# Getting the correct files in order"
   ]
  },
  {
   "cell_type": "code",
   "execution_count": 88,
   "metadata": {},
   "outputs": [],
   "source": [
    "year = '2019'\n",
    "state = 'al'"
   ]
  },
  {
   "cell_type": "code",
   "execution_count": 89,
   "metadata": {},
   "outputs": [],
   "source": [
    "path = r'R:/DPOE/LEHD LODES/7.5_2021_11Nov/Source/OD_aux_Download_2021-12-18-15-18-17/od/'\n",
    "files = glob.glob(path + f'*{year}.csv')"
   ]
  },
  {
   "cell_type": "code",
   "execution_count": 90,
   "metadata": {},
   "outputs": [
    {
     "data": {
      "text/plain": [
       "['R:/DPOE/LEHD LODES/7.5_2021_11Nov/Source/OD_aux_Download_2021-12-18-15-18-17/od\\\\al_od_aux_JT00_2019.csv',\n",
       " 'R:/DPOE/LEHD LODES/7.5_2021_11Nov/Source/OD_aux_Download_2021-12-18-15-18-17/od\\\\al_od_aux_JT01_2019.csv',\n",
       " 'R:/DPOE/LEHD LODES/7.5_2021_11Nov/Source/OD_aux_Download_2021-12-18-15-18-17/od\\\\al_od_aux_JT02_2019.csv',\n",
       " 'R:/DPOE/LEHD LODES/7.5_2021_11Nov/Source/OD_aux_Download_2021-12-18-15-18-17/od\\\\al_od_aux_JT03_2019.csv',\n",
       " 'R:/DPOE/LEHD LODES/7.5_2021_11Nov/Source/OD_aux_Download_2021-12-18-15-18-17/od\\\\al_od_aux_JT04_2019.csv',\n",
       " 'R:/DPOE/LEHD LODES/7.5_2021_11Nov/Source/OD_aux_Download_2021-12-18-15-18-17/od\\\\al_od_aux_JT05_2019.csv']"
      ]
     },
     "execution_count": 90,
     "metadata": {},
     "output_type": "execute_result"
    }
   ],
   "source": [
    "csv_all = []\n",
    "for file in files:\n",
    "    if file[-23:-21] == state:\n",
    "        csv_all.append(file)\n",
    "\n",
    "csv_all"
   ]
  },
  {
   "cell_type": "markdown",
   "metadata": {},
   "source": [
    "# Download The Data"
   ]
  },
  {
   "cell_type": "code",
   "execution_count": 91,
   "metadata": {},
   "outputs": [],
   "source": [
    "list_all_file = []\n",
    "for filename in csv_all:\n",
    "    df=pd.read_csv(filename, index_col=None, header=0)\n",
    "    list_all_file.append(df)"
   ]
  },
  {
   "cell_type": "code",
   "execution_count": 92,
   "metadata": {},
   "outputs": [],
   "source": [
    "r_all = pd.concat(list_all_file, axis=0, ignore_index=True)"
   ]
  },
  {
   "cell_type": "markdown",
   "metadata": {},
   "source": [
    "# Sort for San Diego"
   ]
  },
  {
   "cell_type": "code",
   "execution_count": 95,
   "metadata": {},
   "outputs": [
    {
     "data": {
      "text/html": [
       "<div>\n",
       "<style scoped>\n",
       "    .dataframe tbody tr th:only-of-type {\n",
       "        vertical-align: middle;\n",
       "    }\n",
       "\n",
       "    .dataframe tbody tr th {\n",
       "        vertical-align: top;\n",
       "    }\n",
       "\n",
       "    .dataframe thead th {\n",
       "        text-align: right;\n",
       "    }\n",
       "</style>\n",
       "<table border=\"1\" class=\"dataframe\">\n",
       "  <thead>\n",
       "    <tr style=\"text-align: right;\">\n",
       "      <th></th>\n",
       "      <th>w_geocode</th>\n",
       "      <th>h_geocode</th>\n",
       "      <th>S000</th>\n",
       "      <th>SA01</th>\n",
       "      <th>SA02</th>\n",
       "      <th>SA03</th>\n",
       "      <th>SE01</th>\n",
       "      <th>SE02</th>\n",
       "      <th>SE03</th>\n",
       "      <th>SI01</th>\n",
       "      <th>SI02</th>\n",
       "      <th>SI03</th>\n",
       "      <th>createdate</th>\n",
       "    </tr>\n",
       "  </thead>\n",
       "  <tbody>\n",
       "    <tr>\n",
       "      <th>827</th>\n",
       "      <td>10030107031094</td>\n",
       "      <td>60730170482004</td>\n",
       "      <td>1</td>\n",
       "      <td>1</td>\n",
       "      <td>0</td>\n",
       "      <td>0</td>\n",
       "      <td>0</td>\n",
       "      <td>0</td>\n",
       "      <td>1</td>\n",
       "      <td>0</td>\n",
       "      <td>0</td>\n",
       "      <td>1</td>\n",
       "      <td>20211018</td>\n",
       "    </tr>\n",
       "    <tr>\n",
       "      <th>1148</th>\n",
       "      <td>10030107051033</td>\n",
       "      <td>60730165023001</td>\n",
       "      <td>1</td>\n",
       "      <td>1</td>\n",
       "      <td>0</td>\n",
       "      <td>0</td>\n",
       "      <td>0</td>\n",
       "      <td>1</td>\n",
       "      <td>0</td>\n",
       "      <td>0</td>\n",
       "      <td>1</td>\n",
       "      <td>0</td>\n",
       "      <td>20211018</td>\n",
       "    </tr>\n",
       "    <tr>\n",
       "      <th>2946</th>\n",
       "      <td>10030114051058</td>\n",
       "      <td>60730157013000</td>\n",
       "      <td>1</td>\n",
       "      <td>0</td>\n",
       "      <td>1</td>\n",
       "      <td>0</td>\n",
       "      <td>1</td>\n",
       "      <td>0</td>\n",
       "      <td>0</td>\n",
       "      <td>0</td>\n",
       "      <td>0</td>\n",
       "      <td>1</td>\n",
       "      <td>20211018</td>\n",
       "    </tr>\n",
       "    <tr>\n",
       "      <th>7255</th>\n",
       "      <td>10139529001024</td>\n",
       "      <td>60730174012001</td>\n",
       "      <td>1</td>\n",
       "      <td>1</td>\n",
       "      <td>0</td>\n",
       "      <td>0</td>\n",
       "      <td>0</td>\n",
       "      <td>1</td>\n",
       "      <td>0</td>\n",
       "      <td>0</td>\n",
       "      <td>1</td>\n",
       "      <td>0</td>\n",
       "      <td>20211018</td>\n",
       "    </tr>\n",
       "    <tr>\n",
       "      <th>8352</th>\n",
       "      <td>10150015001024</td>\n",
       "      <td>60730186112013</td>\n",
       "      <td>1</td>\n",
       "      <td>1</td>\n",
       "      <td>0</td>\n",
       "      <td>0</td>\n",
       "      <td>0</td>\n",
       "      <td>0</td>\n",
       "      <td>1</td>\n",
       "      <td>1</td>\n",
       "      <td>0</td>\n",
       "      <td>0</td>\n",
       "      <td>20211018</td>\n",
       "    </tr>\n",
       "    <tr>\n",
       "      <th>...</th>\n",
       "      <td>...</td>\n",
       "      <td>...</td>\n",
       "      <td>...</td>\n",
       "      <td>...</td>\n",
       "      <td>...</td>\n",
       "      <td>...</td>\n",
       "      <td>...</td>\n",
       "      <td>...</td>\n",
       "      <td>...</td>\n",
       "      <td>...</td>\n",
       "      <td>...</td>\n",
       "      <td>...</td>\n",
       "      <td>...</td>\n",
       "    </tr>\n",
       "    <tr>\n",
       "      <th>299147</th>\n",
       "      <td>11250124051033</td>\n",
       "      <td>60730170484000</td>\n",
       "      <td>1</td>\n",
       "      <td>0</td>\n",
       "      <td>1</td>\n",
       "      <td>0</td>\n",
       "      <td>0</td>\n",
       "      <td>1</td>\n",
       "      <td>0</td>\n",
       "      <td>0</td>\n",
       "      <td>1</td>\n",
       "      <td>0</td>\n",
       "      <td>20211018</td>\n",
       "    </tr>\n",
       "    <tr>\n",
       "      <th>299178</th>\n",
       "      <td>11250124052046</td>\n",
       "      <td>60730093014000</td>\n",
       "      <td>1</td>\n",
       "      <td>0</td>\n",
       "      <td>1</td>\n",
       "      <td>0</td>\n",
       "      <td>0</td>\n",
       "      <td>1</td>\n",
       "      <td>0</td>\n",
       "      <td>0</td>\n",
       "      <td>1</td>\n",
       "      <td>0</td>\n",
       "      <td>20211018</td>\n",
       "    </tr>\n",
       "    <tr>\n",
       "      <th>299200</th>\n",
       "      <td>11250124053011</td>\n",
       "      <td>60730093052004</td>\n",
       "      <td>1</td>\n",
       "      <td>0</td>\n",
       "      <td>1</td>\n",
       "      <td>0</td>\n",
       "      <td>0</td>\n",
       "      <td>1</td>\n",
       "      <td>0</td>\n",
       "      <td>0</td>\n",
       "      <td>1</td>\n",
       "      <td>0</td>\n",
       "      <td>20211018</td>\n",
       "    </tr>\n",
       "    <tr>\n",
       "      <th>299764</th>\n",
       "      <td>11270211003015</td>\n",
       "      <td>60730177021000</td>\n",
       "      <td>1</td>\n",
       "      <td>0</td>\n",
       "      <td>1</td>\n",
       "      <td>0</td>\n",
       "      <td>0</td>\n",
       "      <td>1</td>\n",
       "      <td>0</td>\n",
       "      <td>0</td>\n",
       "      <td>1</td>\n",
       "      <td>0</td>\n",
       "      <td>20211018</td>\n",
       "    </tr>\n",
       "    <tr>\n",
       "      <th>299765</th>\n",
       "      <td>11270211003015</td>\n",
       "      <td>60730202112003</td>\n",
       "      <td>1</td>\n",
       "      <td>1</td>\n",
       "      <td>0</td>\n",
       "      <td>0</td>\n",
       "      <td>0</td>\n",
       "      <td>1</td>\n",
       "      <td>0</td>\n",
       "      <td>0</td>\n",
       "      <td>1</td>\n",
       "      <td>0</td>\n",
       "      <td>20211018</td>\n",
       "    </tr>\n",
       "  </tbody>\n",
       "</table>\n",
       "<p>341 rows × 13 columns</p>\n",
       "</div>"
      ],
      "text/plain": [
       "             w_geocode       h_geocode  S000  SA01  SA02  SA03  SE01  SE02  \\\n",
       "827     10030107031094  60730170482004     1     1     0     0     0     0   \n",
       "1148    10030107051033  60730165023001     1     1     0     0     0     1   \n",
       "2946    10030114051058  60730157013000     1     0     1     0     1     0   \n",
       "7255    10139529001024  60730174012001     1     1     0     0     0     1   \n",
       "8352    10150015001024  60730186112013     1     1     0     0     0     0   \n",
       "...                ...             ...   ...   ...   ...   ...   ...   ...   \n",
       "299147  11250124051033  60730170484000     1     0     1     0     0     1   \n",
       "299178  11250124052046  60730093014000     1     0     1     0     0     1   \n",
       "299200  11250124053011  60730093052004     1     0     1     0     0     1   \n",
       "299764  11270211003015  60730177021000     1     0     1     0     0     1   \n",
       "299765  11270211003015  60730202112003     1     1     0     0     0     1   \n",
       "\n",
       "        SE03  SI01  SI02  SI03  createdate  \n",
       "827        1     0     0     1    20211018  \n",
       "1148       0     0     1     0    20211018  \n",
       "2946       0     0     0     1    20211018  \n",
       "7255       0     0     1     0    20211018  \n",
       "8352       1     1     0     0    20211018  \n",
       "...      ...   ...   ...   ...         ...  \n",
       "299147     0     0     1     0    20211018  \n",
       "299178     0     0     1     0    20211018  \n",
       "299200     0     0     1     0    20211018  \n",
       "299764     0     0     1     0    20211018  \n",
       "299765     0     0     1     0    20211018  \n",
       "\n",
       "[341 rows x 13 columns]"
      ]
     },
     "execution_count": 95,
     "metadata": {},
     "output_type": "execute_result"
    }
   ],
   "source": [
    "string_ints = [str(int) for int in r_all['h_geocode']]\n",
    "\n",
    "tf = []\n",
    "for i in string_ints:\n",
    "    if i[0:4] == '6073':\n",
    "        tf.append(True)\n",
    "    else:\n",
    "        tf.append(False)\n",
    "\n",
    "sorted_r = r_all[tf]\n",
    "sorted_r"
   ]
  },
  {
   "cell_type": "markdown",
   "metadata": {},
   "source": [
    "# Final Number Needed"
   ]
  },
  {
   "cell_type": "code",
   "execution_count": 96,
   "metadata": {},
   "outputs": [
    {
     "name": "stdout",
     "output_type": "stream",
     "text": [
      "In al in 2019 there are 341 h_geocodes\n"
     ]
    }
   ],
   "source": [
    "print(f\"In {state} in {year} there are {len(sorted_r)} h_geocodes\")"
   ]
  }
 ],
 "metadata": {
  "interpreter": {
   "hash": "d60123f2ed8b63279fba5ddbefdeca593323e286d3975f7130d49323a9310301"
  },
  "kernelspec": {
   "display_name": "Python 3.8.8 64-bit ('base': conda)",
   "language": "python",
   "name": "python3"
  },
  "language_info": {
   "codemirror_mode": {
    "name": "ipython",
    "version": 3
   },
   "file_extension": ".py",
   "mimetype": "text/x-python",
   "name": "python",
   "nbconvert_exporter": "python",
   "pygments_lexer": "ipython3",
   "version": "3.8.8"
  },
  "orig_nbformat": 4
 },
 "nbformat": 4,
 "nbformat_minor": 2
}
