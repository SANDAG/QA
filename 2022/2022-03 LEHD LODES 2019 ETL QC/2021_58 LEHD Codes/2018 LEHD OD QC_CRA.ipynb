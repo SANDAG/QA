{
 "cells": [
  {
   "cell_type": "code",
   "execution_count": 1,
   "id": "59f5dd17-11cc-414a-b619-3a35df3a0369",
   "metadata": {},
   "outputs": [],
   "source": [
    "import os \n",
    "import pandas as pd\n",
    "import numpy as np\n",
    "import glob\n",
    "import pyodbc\n",
    "import gc"
   ]
  },
  {
   "cell_type": "markdown",
   "id": "0ec982f2-033f-4c4d-8615-a2d8266e33ae",
   "metadata": {},
   "source": [
    "# Loading Source Data (From R Drive)"
   ]
  },
  {
   "cell_type": "code",
   "execution_count": 2,
   "id": "0d55b34f-a904-4b20-bbdf-5d281c2ffe18",
   "metadata": {},
   "outputs": [],
   "source": [
    "path = r'R:/DPOE/LEHD LODES/7.5/Source/OD_Data/Unzipped_RD'"
   ]
  },
  {
   "cell_type": "code",
   "execution_count": 3,
   "id": "bff64b64-e986-4ec1-87df-51599816b336",
   "metadata": {
    "tags": []
   },
   "outputs": [],
   "source": [
    "# 2018 source data\n",
    "csv_2018 = glob.glob(path + \"/*2018.csv\")\n",
    "list_2018 = []\n",
    "\n",
    "for filename in csv_2018:\n",
    "    df = pd.read_csv(filename, index_col=None, header=0)\n",
    "    list_2018.append(df)"
   ]
  },
  {
   "cell_type": "code",
   "execution_count": 4,
   "id": "b9173627-776d-493e-80f0-5dfe5e44497d",
   "metadata": {},
   "outputs": [],
   "source": [
    "od_2018 = pd.concat(list_2018, axis=0, ignore_index=True)"
   ]
  },
  {
   "cell_type": "code",
   "execution_count": 6,
   "id": "d4cca846-6d1e-40b8-9220-58241bb45992",
   "metadata": {},
   "outputs": [
    {
     "data": {
      "text/plain": [
       "5914258000"
      ]
     },
     "execution_count": 6,
     "metadata": {},
     "output_type": "execute_result"
    }
   ],
   "source": [
    "import sys\n",
    "sys.getsizeof(od_2018)"
   ]
  },
  {
   "cell_type": "markdown",
   "id": "b4d12e9a-0d48-46df-b474-e12077b46b19",
   "metadata": {},
   "source": [
    "# Loading The Staging Table (SQL Server)"
   ]
  },
  {
   "cell_type": "code",
   "execution_count": 7,
   "id": "7f8d1d5a-4f45-4e51-8eb9-3f2e3a1be15c",
   "metadata": {},
   "outputs": [],
   "source": [
    "conn = pyodbc.connect('Driver={ODBC Driver 17 for SQL Server};'\n",
    "                      'Server=DDAMWSQL16.sandag.org;'\n",
    "                      'Database=socioec_data;'\n",
    "                      'Trusted_Connection=yes;')\n",
    "\n",
    "#2018\n",
    "od_db18 =\"SELECT * \"\\\n",
    "                   \"FROM [socioec_data].[lehd_lodes].[od_7_5]\"\\\n",
    "                    \"WHERE yr= 2018\"\n",
    "db18 = pd.read_sql_query(od_db18, conn)"
   ]
  },
  {
   "cell_type": "code",
   "execution_count": 8,
   "id": "eef1619f-3ade-4c9e-a0d0-34aebbe70cdd",
   "metadata": {},
   "outputs": [
    {
     "data": {
      "text/plain": [
       "1665949506"
      ]
     },
     "execution_count": 8,
     "metadata": {},
     "output_type": "execute_result"
    }
   ],
   "source": [
    "sys.getsizeof(db18)"
   ]
  },
  {
   "cell_type": "markdown",
   "id": "51c802a9-bba7-4d7d-bd88-703fb17cac83",
   "metadata": {},
   "source": [
    "# Cleaning Source Data"
   ]
  },
  {
   "cell_type": "code",
   "execution_count": null,
   "id": "91f8245b-2fca-47e9-aed0-892f547e5d11",
   "metadata": {},
   "outputs": [],
   "source": [
    "od_2018 = od_2018.rename({'w_geocode': 'w_geoid', 'h_geocode': 'h_geoid'}, axis=1)"
   ]
  },
  {
   "cell_type": "code",
   "execution_count": null,
   "id": "a75fe92e-c001-4432-ad0c-2795a6de9939",
   "metadata": {},
   "outputs": [],
   "source": [
    "od_2018 = od_2018.drop(['createdate',], axis=1)"
   ]
  },
  {
   "cell_type": "markdown",
   "id": "2d3e86e3-464d-408c-939c-f532f248d524",
   "metadata": {},
   "source": [
    "# Cleaning Staging Data"
   ]
  },
  {
   "cell_type": "code",
   "execution_count": null,
   "id": "bf0f7027-47d8-4421-a381-7411da19a37a",
   "metadata": {},
   "outputs": [],
   "source": [
    "db18 = db18.drop(['type','yr'], axis=1)"
   ]
  },
  {
   "cell_type": "code",
   "execution_count": null,
   "id": "7e8f5289-7969-440f-8c78-22b7b85f0c8b",
   "metadata": {},
   "outputs": [],
   "source": [
    "db18['w_geoid'] = [i.lstrip('0') for i in db18['w_geoid']]"
   ]
  },
  {
   "cell_type": "code",
   "execution_count": null,
   "id": "78952e2f-a62f-4faa-abd8-2b2be0425df1",
   "metadata": {},
   "outputs": [],
   "source": [
    "db18['h_geoid'] = [i.lstrip('0') for i in db18['h_geoid']]"
   ]
  },
  {
   "cell_type": "markdown",
   "id": "b7d1b227-3d18-4b49-9e68-10a94942e6b1",
   "metadata": {},
   "source": [
    "# Filtering for just SD Data (Source Data)"
   ]
  },
  {
   "cell_type": "code",
   "execution_count": null,
   "id": "3b85a829-a8b2-410d-a1b3-fcfa47f5e8a5",
   "metadata": {},
   "outputs": [],
   "source": [
    "string_ints = [str(int) for int in od_2018['w_geoid']]\n",
    "\n",
    "tf = []\n",
    "for i in string_ints:\n",
    "    if i[0:4] == '6073':\n",
    "        tf.append(True)\n",
    "    else:\n",
    "        tf.append(False)\n",
    "        \n",
    "f_od_2018 = od_2018[tf]"
   ]
  },
  {
   "cell_type": "markdown",
   "id": "ff691bd7-6e72-4a87-8bc8-d6ade9fe417b",
   "metadata": {},
   "source": [
    "# Filtering for just SD Data (Staging Data)"
   ]
  },
  {
   "cell_type": "code",
   "execution_count": null,
   "id": "bb17540d-2a81-4011-bbed-fdd9884e8e54",
   "metadata": {},
   "outputs": [],
   "source": [
    "string_ints = [str(int) for int in db18['w_geoid']]\n",
    "\n",
    "tf = []\n",
    "for i in string_ints:\n",
    "    if i[0:4] == '6073':\n",
    "        tf.append(True)\n",
    "    else:\n",
    "        tf.append(False)\n",
    "        \n",
    "f_db18 = db18[tf]"
   ]
  },
  {
   "cell_type": "markdown",
   "id": "7e65f22f-e1af-4132-8d95-d6e75f28e691",
   "metadata": {},
   "source": [
    "# Comparison "
   ]
  },
  {
   "cell_type": "code",
   "execution_count": null,
   "id": "ba1a0c11-fb26-4d97-96bf-26798d8de82a",
   "metadata": {},
   "outputs": [],
   "source": [
    "f_db18.columns == f_od_2018.columns"
   ]
  },
  {
   "cell_type": "code",
   "execution_count": null,
   "id": "f59531f9-a2f7-49a4-8373-5cb88e87d4e2",
   "metadata": {},
   "outputs": [],
   "source": [
    "f_od_2018.dtypes"
   ]
  },
  {
   "cell_type": "code",
   "execution_count": null,
   "id": "da62757d-f78c-4f98-8c29-5f156dce886a",
   "metadata": {},
   "outputs": [],
   "source": [
    "f_db18.dtypes"
   ]
  },
  {
   "cell_type": "code",
   "execution_count": null,
   "id": "98ef9890-7d91-442e-95d2-3ec7f4bf9207",
   "metadata": {},
   "outputs": [],
   "source": []
  },
  {
   "cell_type": "markdown",
   "id": "a2f6c1b7-45a2-4152-bcaa-a3a6f06b5b32",
   "metadata": {},
   "source": [
    "# Checking the shape of the data"
   ]
  },
  {
   "cell_type": "code",
   "execution_count": null,
   "id": "e4d84be9-0150-4900-a861-abdac437adce",
   "metadata": {},
   "outputs": [],
   "source": [
    "print(f_od_2018.shape)\n",
    "print(f_db18.shape)"
   ]
  },
  {
   "cell_type": "code",
   "execution_count": null,
   "id": "cce4689d-1c8e-47fd-b015-37adcc3b0a5d",
   "metadata": {},
   "outputs": [],
   "source": [
    "f_od_2018.shape[0] - f_db18.shape[0]"
   ]
  },
  {
   "cell_type": "markdown",
   "id": "e5abdbab-fdd6-49a1-9399-839d3fb36140",
   "metadata": {},
   "source": [
    "# Checking Length"
   ]
  },
  {
   "cell_type": "code",
   "execution_count": null,
   "id": "aa14dc89-7e73-4dc3-abb5-167af195fe1d",
   "metadata": {},
   "outputs": [],
   "source": [
    "print(len(f_od_2018))\n",
    "print(len(f_db18))"
   ]
  },
  {
   "cell_type": "markdown",
   "id": "fdf37ea1-7941-41ed-b2a3-eead640d3db4",
   "metadata": {},
   "source": [
    "# To Numeric and Filter by Geoid"
   ]
  },
  {
   "cell_type": "code",
   "execution_count": null,
   "id": "9ab3669b-64d6-4cb4-b1ba-31039c21d783",
   "metadata": {},
   "outputs": [],
   "source": [
    "f_od_2018 = f_od_2018.apply(pd.to_numeric)\n",
    "f_od_2018 = f_od_2018.sort_values(by=['w_geoid'])"
   ]
  },
  {
   "cell_type": "code",
   "execution_count": null,
   "id": "afa11a8c-e4fe-4b9f-8125-a5235ffce114",
   "metadata": {},
   "outputs": [],
   "source": [
    "f_db18 = f_db18.apply(pd.to_numeric)\n",
    "f_db18 = f_db18.sort_values(by=['w_geoid'])"
   ]
  },
  {
   "cell_type": "markdown",
   "id": "bf1e7a88-6de8-4003-ab88-eac77862bac4",
   "metadata": {},
   "source": [
    "# Count the number of unique IDs"
   ]
  },
  {
   "cell_type": "code",
   "execution_count": null,
   "id": "df28a319-48ef-4e54-96a2-70d4e032c972",
   "metadata": {},
   "outputs": [],
   "source": [
    "print(f_od_2018['w_geoid'].nunique())\n",
    "print(f_db18['w_geoid'].nunique())"
   ]
  },
  {
   "cell_type": "markdown",
   "id": "f913d70c-236f-4120-997c-8115a8b94a6d",
   "metadata": {},
   "source": [
    "# Check if stats are the same"
   ]
  },
  {
   "cell_type": "code",
   "execution_count": null,
   "id": "98012cfc-bcf3-4d5f-916e-43c48be0c185",
   "metadata": {},
   "outputs": [],
   "source": [
    "f_od_2018.describe() == f_db18.describe()"
   ]
  },
  {
   "cell_type": "markdown",
   "id": "a00c84cb-0f36-4cec-88e6-830b8bcf4d75",
   "metadata": {},
   "source": [
    "# Round std to make sure they are identical"
   ]
  },
  {
   "cell_type": "code",
   "execution_count": null,
   "id": "42d3ec73-7951-4b89-84dd-805c94d9b239",
   "metadata": {},
   "outputs": [],
   "source": [
    "# Since this prints out false we see that the rounded version of the standard deviations are all the same\n",
    "for i in f_od_2018.describe().loc['std',:].round() == f_db18.describe().loc['std',:].round():\n",
    "    if i == False:\n",
    "        print(False)"
   ]
  }
 ],
 "metadata": {
  "kernelspec": {
   "display_name": "Python 3",
   "language": "python",
   "name": "python3"
  },
  "language_info": {
   "codemirror_mode": {
    "name": "ipython",
    "version": 3
   },
   "file_extension": ".py",
   "mimetype": "text/x-python",
   "name": "python",
   "nbconvert_exporter": "python",
   "pygments_lexer": "ipython3",
   "version": "3.8.8"
  }
 },
 "nbformat": 4,
 "nbformat_minor": 5
}
