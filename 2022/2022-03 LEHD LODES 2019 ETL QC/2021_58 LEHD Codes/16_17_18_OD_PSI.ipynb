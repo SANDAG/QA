{
 "cells": [
  {
   "cell_type": "markdown",
   "id": "32c60aee",
   "metadata": {},
   "source": [
    "**Author: PSI**"
   ]
  },
  {
   "cell_type": "markdown",
   "id": "7cc5eb90",
   "metadata": {},
   "source": [
    "**Project Descriptio:2018 LEHD Data QC (version 7.5) of the origin- destination (OD) data**"
   ]
  },
  {
   "cell_type": "markdown",
   "id": "035a3c32",
   "metadata": {},
   "source": [
    "QC checks: <br>\n",
    "\n",
    "Part 1-Compare the source data and staging tables for: <br>\n",
    "-Field totals<br>\n",
    "-Number of Records <br>\n",
    "-Spot checking data <br>\n",
    "\n",
    "Part 2-Checking outliers in data by sorting data from highest to lowest and visualizing those census tracts in ArcGISPro"
   ]
  },
  {
   "cell_type": "markdown",
   "id": "6a9ec383",
   "metadata": {},
   "source": [
    "**Installing Packages**\n"
   ]
  },
  {
   "cell_type": "code",
   "execution_count": 4,
   "id": "4686c3d4",
   "metadata": {},
   "outputs": [],
   "source": [
    "import os \n",
    "import pandas as pd\n",
    "import numpy as np\n",
    "import glob\n",
    "import pyodbc\n",
    "import gc"
   ]
  },
  {
   "cell_type": "markdown",
   "id": "e3fa9324",
   "metadata": {},
   "source": [
    "**Loading the source data** "
   ]
  },
  {
   "cell_type": "code",
   "execution_count": 5,
   "id": "6207d6ee",
   "metadata": {},
   "outputs": [
    {
     "name": "stdout",
     "output_type": "stream",
     "text": [
      "Wall time: 37.4 ms\n"
     ]
    }
   ],
   "source": [
    "%%time \n",
    "\n",
    "path = r'R:/DPOE/LEHD LODES/7.5/Source/OD_Data/Unzipped_RD'\n",
    "\n",
    "# 2016 source data\n",
    "csv_2016 = glob.glob(path + \"/*2016.csv\")\n",
    "list_2016 = []\n",
    "\n",
    "# for filename in csv_2016:\n",
    "#     df = pd.read_csv(filename, index_col=None, header=0)\n",
    "#     list_2016.append(df)\n",
    "\n",
    "# od_2016 = pd.concat(list_2016, axis=0, ignore_index=True)\n",
    "\n",
    "# od_2016\n"
   ]
  },
  {
   "cell_type": "code",
   "execution_count": 6,
   "id": "9d7f2770",
   "metadata": {},
   "outputs": [
    {
     "data": {
      "text/plain": [
       "'R:/DPOE/LEHD LODES/7.5/Source/OD_Data/Unzipped_RD\\\\ca_od_aux_JT01_2016.csv'"
      ]
     },
     "execution_count": 6,
     "metadata": {},
     "output_type": "execute_result"
    }
   ],
   "source": [
    "csv_2016[1]"
   ]
  },
  {
   "cell_type": "code",
   "execution_count": 7,
   "id": "938648ac",
   "metadata": {},
   "outputs": [],
   "source": [
    "df = pd.read_csv(csv_2016[1], index_col=None, header=0)"
   ]
  },
  {
   "cell_type": "code",
   "execution_count": 8,
   "id": "8530df1d",
   "metadata": {},
   "outputs": [
    {
     "data": {
      "text/html": [
       "<div>\n",
       "<style scoped>\n",
       "    .dataframe tbody tr th:only-of-type {\n",
       "        vertical-align: middle;\n",
       "    }\n",
       "\n",
       "    .dataframe tbody tr th {\n",
       "        vertical-align: top;\n",
       "    }\n",
       "\n",
       "    .dataframe thead th {\n",
       "        text-align: right;\n",
       "    }\n",
       "</style>\n",
       "<table border=\"1\" class=\"dataframe\">\n",
       "  <thead>\n",
       "    <tr style=\"text-align: right;\">\n",
       "      <th></th>\n",
       "      <th>w_geocode</th>\n",
       "      <th>h_geocode</th>\n",
       "      <th>S000</th>\n",
       "      <th>SA01</th>\n",
       "      <th>SA02</th>\n",
       "      <th>SA03</th>\n",
       "      <th>SE01</th>\n",
       "      <th>SE02</th>\n",
       "      <th>SE03</th>\n",
       "      <th>SI01</th>\n",
       "      <th>SI02</th>\n",
       "      <th>SI03</th>\n",
       "      <th>createdate</th>\n",
       "    </tr>\n",
       "  </thead>\n",
       "  <tbody>\n",
       "    <tr>\n",
       "      <th>0</th>\n",
       "      <td>60014001001007</td>\n",
       "      <td>483396924001037</td>\n",
       "      <td>1</td>\n",
       "      <td>1</td>\n",
       "      <td>0</td>\n",
       "      <td>0</td>\n",
       "      <td>1</td>\n",
       "      <td>0</td>\n",
       "      <td>0</td>\n",
       "      <td>0</td>\n",
       "      <td>0</td>\n",
       "      <td>1</td>\n",
       "      <td>20200924</td>\n",
       "    </tr>\n",
       "    <tr>\n",
       "      <th>1</th>\n",
       "      <td>60014001001068</td>\n",
       "      <td>271159505002033</td>\n",
       "      <td>1</td>\n",
       "      <td>0</td>\n",
       "      <td>0</td>\n",
       "      <td>1</td>\n",
       "      <td>0</td>\n",
       "      <td>1</td>\n",
       "      <td>0</td>\n",
       "      <td>0</td>\n",
       "      <td>0</td>\n",
       "      <td>1</td>\n",
       "      <td>20200924</td>\n",
       "    </tr>\n",
       "    <tr>\n",
       "      <th>2</th>\n",
       "      <td>60014002002003</td>\n",
       "      <td>530610538011002</td>\n",
       "      <td>1</td>\n",
       "      <td>0</td>\n",
       "      <td>1</td>\n",
       "      <td>0</td>\n",
       "      <td>0</td>\n",
       "      <td>1</td>\n",
       "      <td>0</td>\n",
       "      <td>0</td>\n",
       "      <td>0</td>\n",
       "      <td>1</td>\n",
       "      <td>20200924</td>\n",
       "    </tr>\n",
       "    <tr>\n",
       "      <th>3</th>\n",
       "      <td>60014002002006</td>\n",
       "      <td>260750012002001</td>\n",
       "      <td>1</td>\n",
       "      <td>1</td>\n",
       "      <td>0</td>\n",
       "      <td>0</td>\n",
       "      <td>0</td>\n",
       "      <td>1</td>\n",
       "      <td>0</td>\n",
       "      <td>0</td>\n",
       "      <td>0</td>\n",
       "      <td>1</td>\n",
       "      <td>20200924</td>\n",
       "    </tr>\n",
       "    <tr>\n",
       "      <th>4</th>\n",
       "      <td>60014003001006</td>\n",
       "      <td>481130131022007</td>\n",
       "      <td>1</td>\n",
       "      <td>0</td>\n",
       "      <td>1</td>\n",
       "      <td>0</td>\n",
       "      <td>1</td>\n",
       "      <td>0</td>\n",
       "      <td>0</td>\n",
       "      <td>0</td>\n",
       "      <td>0</td>\n",
       "      <td>1</td>\n",
       "      <td>20200924</td>\n",
       "    </tr>\n",
       "    <tr>\n",
       "      <th>...</th>\n",
       "      <td>...</td>\n",
       "      <td>...</td>\n",
       "      <td>...</td>\n",
       "      <td>...</td>\n",
       "      <td>...</td>\n",
       "      <td>...</td>\n",
       "      <td>...</td>\n",
       "      <td>...</td>\n",
       "      <td>...</td>\n",
       "      <td>...</td>\n",
       "      <td>...</td>\n",
       "      <td>...</td>\n",
       "      <td>...</td>\n",
       "    </tr>\n",
       "    <tr>\n",
       "      <th>127810</th>\n",
       "      <td>61150411003021</td>\n",
       "      <td>320310010112025</td>\n",
       "      <td>1</td>\n",
       "      <td>0</td>\n",
       "      <td>1</td>\n",
       "      <td>0</td>\n",
       "      <td>0</td>\n",
       "      <td>1</td>\n",
       "      <td>0</td>\n",
       "      <td>0</td>\n",
       "      <td>1</td>\n",
       "      <td>0</td>\n",
       "      <td>20200924</td>\n",
       "    </tr>\n",
       "    <tr>\n",
       "      <th>127811</th>\n",
       "      <td>61150411003058</td>\n",
       "      <td>320310030003011</td>\n",
       "      <td>1</td>\n",
       "      <td>0</td>\n",
       "      <td>1</td>\n",
       "      <td>0</td>\n",
       "      <td>0</td>\n",
       "      <td>1</td>\n",
       "      <td>0</td>\n",
       "      <td>0</td>\n",
       "      <td>0</td>\n",
       "      <td>1</td>\n",
       "      <td>20200924</td>\n",
       "    </tr>\n",
       "    <tr>\n",
       "      <th>127812</th>\n",
       "      <td>61150411004035</td>\n",
       "      <td>320310031081021</td>\n",
       "      <td>1</td>\n",
       "      <td>0</td>\n",
       "      <td>0</td>\n",
       "      <td>1</td>\n",
       "      <td>0</td>\n",
       "      <td>1</td>\n",
       "      <td>0</td>\n",
       "      <td>0</td>\n",
       "      <td>0</td>\n",
       "      <td>1</td>\n",
       "      <td>20200924</td>\n",
       "    </tr>\n",
       "    <tr>\n",
       "      <th>127813</th>\n",
       "      <td>61150411004037</td>\n",
       "      <td>517700009003013</td>\n",
       "      <td>1</td>\n",
       "      <td>1</td>\n",
       "      <td>0</td>\n",
       "      <td>0</td>\n",
       "      <td>0</td>\n",
       "      <td>1</td>\n",
       "      <td>0</td>\n",
       "      <td>0</td>\n",
       "      <td>1</td>\n",
       "      <td>0</td>\n",
       "      <td>20200924</td>\n",
       "    </tr>\n",
       "    <tr>\n",
       "      <th>127814</th>\n",
       "      <td>61150411004051</td>\n",
       "      <td>320310033062006</td>\n",
       "      <td>1</td>\n",
       "      <td>0</td>\n",
       "      <td>1</td>\n",
       "      <td>0</td>\n",
       "      <td>1</td>\n",
       "      <td>0</td>\n",
       "      <td>0</td>\n",
       "      <td>0</td>\n",
       "      <td>0</td>\n",
       "      <td>1</td>\n",
       "      <td>20200924</td>\n",
       "    </tr>\n",
       "  </tbody>\n",
       "</table>\n",
       "<p>127815 rows × 13 columns</p>\n",
       "</div>"
      ],
      "text/plain": [
       "             w_geocode        h_geocode  S000  SA01  SA02  SA03  SE01  SE02  \\\n",
       "0       60014001001007  483396924001037     1     1     0     0     1     0   \n",
       "1       60014001001068  271159505002033     1     0     0     1     0     1   \n",
       "2       60014002002003  530610538011002     1     0     1     0     0     1   \n",
       "3       60014002002006  260750012002001     1     1     0     0     0     1   \n",
       "4       60014003001006  481130131022007     1     0     1     0     1     0   \n",
       "...                ...              ...   ...   ...   ...   ...   ...   ...   \n",
       "127810  61150411003021  320310010112025     1     0     1     0     0     1   \n",
       "127811  61150411003058  320310030003011     1     0     1     0     0     1   \n",
       "127812  61150411004035  320310031081021     1     0     0     1     0     1   \n",
       "127813  61150411004037  517700009003013     1     1     0     0     0     1   \n",
       "127814  61150411004051  320310033062006     1     0     1     0     1     0   \n",
       "\n",
       "        SE03  SI01  SI02  SI03  createdate  \n",
       "0          0     0     0     1    20200924  \n",
       "1          0     0     0     1    20200924  \n",
       "2          0     0     0     1    20200924  \n",
       "3          0     0     0     1    20200924  \n",
       "4          0     0     0     1    20200924  \n",
       "...      ...   ...   ...   ...         ...  \n",
       "127810     0     0     1     0    20200924  \n",
       "127811     0     0     0     1    20200924  \n",
       "127812     0     0     0     1    20200924  \n",
       "127813     0     0     1     0    20200924  \n",
       "127814     0     0     0     1    20200924  \n",
       "\n",
       "[127815 rows x 13 columns]"
      ]
     },
     "execution_count": 8,
     "metadata": {},
     "output_type": "execute_result"
    }
   ],
   "source": [
    "df"
   ]
  },
  {
   "cell_type": "code",
   "execution_count": 40,
   "id": "4e7f9450",
   "metadata": {},
   "outputs": [
    {
     "data": {
      "text/plain": [
       "w_geoid    object\n",
       "h_geoid    object\n",
       "S000        int64\n",
       "SA01        int64\n",
       "SA02        int64\n",
       "SA03        int64\n",
       "SE01        int64\n",
       "SE02        int64\n",
       "SE03        int64\n",
       "SI01        int64\n",
       "SI02        int64\n",
       "SI03        int64\n",
       "type       object\n",
       "yr          int64\n",
       "dtype: object"
      ]
     },
     "execution_count": 40,
     "metadata": {},
     "output_type": "execute_result"
    }
   ],
   "source": [
    "db16.dtypes"
   ]
  },
  {
   "cell_type": "code",
   "execution_count": 4,
   "id": "ddc70081",
   "metadata": {},
   "outputs": [
    {
     "data": {
      "text/plain": [
       "['R:/DPOE/LEHD LODES/7.5/Source/OD_Data/Unzipped_RD\\\\ca_od_aux_JT00_2016.csv',\n",
       " 'R:/DPOE/LEHD LODES/7.5/Source/OD_Data/Unzipped_RD\\\\ca_od_aux_JT01_2016.csv',\n",
       " 'R:/DPOE/LEHD LODES/7.5/Source/OD_Data/Unzipped_RD\\\\ca_od_aux_JT02_2016.csv',\n",
       " 'R:/DPOE/LEHD LODES/7.5/Source/OD_Data/Unzipped_RD\\\\ca_od_aux_JT03_2016.csv',\n",
       " 'R:/DPOE/LEHD LODES/7.5/Source/OD_Data/Unzipped_RD\\\\ca_od_aux_JT04_2016.csv',\n",
       " 'R:/DPOE/LEHD LODES/7.5/Source/OD_Data/Unzipped_RD\\\\ca_od_aux_JT05_2016.csv',\n",
       " 'R:/DPOE/LEHD LODES/7.5/Source/OD_Data/Unzipped_RD\\\\ca_od_main_JT00_2016.csv',\n",
       " 'R:/DPOE/LEHD LODES/7.5/Source/OD_Data/Unzipped_RD\\\\ca_od_main_JT01_2016.csv',\n",
       " 'R:/DPOE/LEHD LODES/7.5/Source/OD_Data/Unzipped_RD\\\\ca_od_main_JT02_2016.csv',\n",
       " 'R:/DPOE/LEHD LODES/7.5/Source/OD_Data/Unzipped_RD\\\\ca_od_main_JT03_2016.csv',\n",
       " 'R:/DPOE/LEHD LODES/7.5/Source/OD_Data/Unzipped_RD\\\\ca_od_main_JT04_2016.csv',\n",
       " 'R:/DPOE/LEHD LODES/7.5/Source/OD_Data/Unzipped_RD\\\\ca_od_main_JT05_2016.csv']"
      ]
     },
     "execution_count": 4,
     "metadata": {},
     "output_type": "execute_result"
    }
   ],
   "source": [
    "glob.glob(path + \"/*2016.csv\")"
   ]
  },
  {
   "cell_type": "code",
   "execution_count": 5,
   "id": "e71e7554",
   "metadata": {},
   "outputs": [],
   "source": [
    "# %%time\n",
    "\n",
    "# # 2017 source data\n",
    "# csv_2017 = glob.glob(path + \"/*2017.csv\")\n",
    "# list_2017 = []\n",
    "\n",
    "# for filename in csv_2017:\n",
    "#     df = pd.read_csv(filename, index_col=None, header=0)\n",
    "#     list_2017.append(df)\n",
    "\n",
    "# od_2017 = pd.concat(list_2017, axis=0, ignore_index=True)\n"
   ]
  },
  {
   "cell_type": "code",
   "execution_count": 6,
   "id": "085514b1",
   "metadata": {},
   "outputs": [],
   "source": [
    "# %%time\n",
    "\n",
    "# # 2018 source data\n",
    "# csv_2018 = glob.glob(path + \"/*2018.csv\")\n",
    "# list_2018 = []\n",
    "\n",
    "# for filename in csv_2018:\n",
    "#     df = pd.read_csv(filename, index_col=None, header=0)\n",
    "#     list_2018.append(df)\n",
    "\n",
    "# od_2018 = pd.concat(list_2018, axis=0, ignore_index=True)"
   ]
  },
  {
   "cell_type": "markdown",
   "id": "187ac6b9",
   "metadata": {},
   "source": [
    "**Loading the staging tables** "
   ]
  },
  {
   "cell_type": "code",
   "execution_count": 7,
   "id": "250a2265",
   "metadata": {},
   "outputs": [],
   "source": [
    "conn = pyodbc.connect('Driver={ODBC Driver 17 for SQL Server};'\n",
    "                      'Server=DDAMWSQL16.sandag.org;'\n",
    "                      'Database=socioec_data;'\n",
    "                      'Trusted_Connection=yes;')"
   ]
  },
  {
   "cell_type": "code",
   "execution_count": 8,
   "id": "bf05a8fb",
   "metadata": {},
   "outputs": [
    {
     "name": "stdout",
     "output_type": "stream",
     "text": [
      "Wall time: 3min 53s\n"
     ]
    }
   ],
   "source": [
    "%%time\n",
    "\n",
    "#2016\n",
    "od_db16 =\"SELECT * \"\\\n",
    "                  \"FROM [socioec_data].[lehd_lodes].[od_7_5]\"\\\n",
    "                   \"WHERE yr= 2016\"\n",
    "db16 = pd.read_sql_query(od_db16, conn)\n",
    "\n",
    "# #2017\n",
    "# od_db17 =\"SELECT * \"\\\n",
    "#                   \"FROM [socioec_data].[lehd_lodes].[od_7_5]\"\\\n",
    "#                    \"WHERE yr= 2017\"\n",
    "# db17 = pd.read_sql_query(od_db17, conn)  \n",
    "\n",
    "# #2018\n",
    "# od_db18 =\"SELECT * \"\\\n",
    "#                   \"FROM [socioec_data].[lehd_lodes].[od_7_5]\"\\\n",
    "#                    \"WHERE yr= 2018\"\n",
    "# db18 = pd.read_sql_query(od_db18, conn)  \n"
   ]
  },
  {
   "cell_type": "code",
   "execution_count": 9,
   "id": "ee105558",
   "metadata": {},
   "outputs": [],
   "source": [
    "# %%time\n",
    "\n",
    "# #2017\n",
    "# od_db17 =\"SELECT * \"\\\n",
    "#                   \"FROM [socioec_data].[lehd_lodes].[od_7_5]\"\\\n",
    "#                    \"WHERE yr= 2017\"\n",
    "# db17 = pd.read_sql_query(od_db17, conn)"
   ]
  },
  {
   "cell_type": "code",
   "execution_count": 10,
   "id": "ec4ee9cf",
   "metadata": {},
   "outputs": [],
   "source": [
    "# %%time\n",
    "\n",
    "# #2018\n",
    "# od_db18 =\"SELECT * \"\\\n",
    "#                   \"FROM [socioec_data].[lehd_lodes].[od_7_5]\"\\\n",
    "#                    \"WHERE yr= 2018\"\n",
    "# db18 = pd.read_sql_query(od_db18, conn)"
   ]
  },
  {
   "cell_type": "code",
   "execution_count": 11,
   "id": "06affebf",
   "metadata": {},
   "outputs": [
    {
     "data": {
      "text/html": [
       "<div>\n",
       "<style scoped>\n",
       "    .dataframe tbody tr th:only-of-type {\n",
       "        vertical-align: middle;\n",
       "    }\n",
       "\n",
       "    .dataframe tbody tr th {\n",
       "        vertical-align: top;\n",
       "    }\n",
       "\n",
       "    .dataframe thead th {\n",
       "        text-align: right;\n",
       "    }\n",
       "</style>\n",
       "<table border=\"1\" class=\"dataframe\">\n",
       "  <thead>\n",
       "    <tr style=\"text-align: right;\">\n",
       "      <th></th>\n",
       "      <th>w_geoid</th>\n",
       "      <th>h_geoid</th>\n",
       "      <th>S000</th>\n",
       "      <th>SA01</th>\n",
       "      <th>SA02</th>\n",
       "      <th>SA03</th>\n",
       "      <th>SE01</th>\n",
       "      <th>SE02</th>\n",
       "      <th>SE03</th>\n",
       "      <th>SI01</th>\n",
       "      <th>SI02</th>\n",
       "      <th>SI03</th>\n",
       "      <th>type</th>\n",
       "      <th>yr</th>\n",
       "    </tr>\n",
       "  </thead>\n",
       "  <tbody>\n",
       "    <tr>\n",
       "      <th>0</th>\n",
       "      <td>060730133101040</td>\n",
       "      <td>060730032122007</td>\n",
       "      <td>1</td>\n",
       "      <td>0</td>\n",
       "      <td>1</td>\n",
       "      <td>0</td>\n",
       "      <td>0</td>\n",
       "      <td>0</td>\n",
       "      <td>1</td>\n",
       "      <td>0</td>\n",
       "      <td>0</td>\n",
       "      <td>1</td>\n",
       "      <td>JT00</td>\n",
       "      <td>2016</td>\n",
       "    </tr>\n",
       "    <tr>\n",
       "      <th>1</th>\n",
       "      <td>060730133101040</td>\n",
       "      <td>060730032122009</td>\n",
       "      <td>1</td>\n",
       "      <td>0</td>\n",
       "      <td>1</td>\n",
       "      <td>0</td>\n",
       "      <td>0</td>\n",
       "      <td>0</td>\n",
       "      <td>1</td>\n",
       "      <td>0</td>\n",
       "      <td>0</td>\n",
       "      <td>1</td>\n",
       "      <td>JT00</td>\n",
       "      <td>2016</td>\n",
       "    </tr>\n",
       "    <tr>\n",
       "      <th>2</th>\n",
       "      <td>060730133101040</td>\n",
       "      <td>060730032122018</td>\n",
       "      <td>1</td>\n",
       "      <td>0</td>\n",
       "      <td>0</td>\n",
       "      <td>1</td>\n",
       "      <td>0</td>\n",
       "      <td>1</td>\n",
       "      <td>0</td>\n",
       "      <td>0</td>\n",
       "      <td>0</td>\n",
       "      <td>1</td>\n",
       "      <td>JT00</td>\n",
       "      <td>2016</td>\n",
       "    </tr>\n",
       "    <tr>\n",
       "      <th>3</th>\n",
       "      <td>060730133101040</td>\n",
       "      <td>060730032122022</td>\n",
       "      <td>1</td>\n",
       "      <td>0</td>\n",
       "      <td>1</td>\n",
       "      <td>0</td>\n",
       "      <td>0</td>\n",
       "      <td>0</td>\n",
       "      <td>1</td>\n",
       "      <td>0</td>\n",
       "      <td>0</td>\n",
       "      <td>1</td>\n",
       "      <td>JT00</td>\n",
       "      <td>2016</td>\n",
       "    </tr>\n",
       "    <tr>\n",
       "      <th>4</th>\n",
       "      <td>060730133101040</td>\n",
       "      <td>060730032131001</td>\n",
       "      <td>1</td>\n",
       "      <td>0</td>\n",
       "      <td>1</td>\n",
       "      <td>0</td>\n",
       "      <td>0</td>\n",
       "      <td>1</td>\n",
       "      <td>0</td>\n",
       "      <td>0</td>\n",
       "      <td>0</td>\n",
       "      <td>1</td>\n",
       "      <td>JT00</td>\n",
       "      <td>2016</td>\n",
       "    </tr>\n",
       "    <tr>\n",
       "      <th>...</th>\n",
       "      <td>...</td>\n",
       "      <td>...</td>\n",
       "      <td>...</td>\n",
       "      <td>...</td>\n",
       "      <td>...</td>\n",
       "      <td>...</td>\n",
       "      <td>...</td>\n",
       "      <td>...</td>\n",
       "      <td>...</td>\n",
       "      <td>...</td>\n",
       "      <td>...</td>\n",
       "      <td>...</td>\n",
       "      <td>...</td>\n",
       "      <td>...</td>\n",
       "    </tr>\n",
       "    <tr>\n",
       "      <th>5459436</th>\n",
       "      <td>060590886013000</td>\n",
       "      <td>060730200271003</td>\n",
       "      <td>1</td>\n",
       "      <td>1</td>\n",
       "      <td>0</td>\n",
       "      <td>0</td>\n",
       "      <td>0</td>\n",
       "      <td>1</td>\n",
       "      <td>0</td>\n",
       "      <td>0</td>\n",
       "      <td>1</td>\n",
       "      <td>0</td>\n",
       "      <td>JT00</td>\n",
       "      <td>2016</td>\n",
       "    </tr>\n",
       "    <tr>\n",
       "      <th>5459437</th>\n",
       "      <td>060590886013000</td>\n",
       "      <td>060730202022000</td>\n",
       "      <td>1</td>\n",
       "      <td>0</td>\n",
       "      <td>1</td>\n",
       "      <td>0</td>\n",
       "      <td>1</td>\n",
       "      <td>0</td>\n",
       "      <td>0</td>\n",
       "      <td>0</td>\n",
       "      <td>1</td>\n",
       "      <td>0</td>\n",
       "      <td>JT00</td>\n",
       "      <td>2016</td>\n",
       "    </tr>\n",
       "    <tr>\n",
       "      <th>5459438</th>\n",
       "      <td>060590886013000</td>\n",
       "      <td>060730202102000</td>\n",
       "      <td>1</td>\n",
       "      <td>0</td>\n",
       "      <td>1</td>\n",
       "      <td>0</td>\n",
       "      <td>0</td>\n",
       "      <td>0</td>\n",
       "      <td>1</td>\n",
       "      <td>0</td>\n",
       "      <td>1</td>\n",
       "      <td>0</td>\n",
       "      <td>JT00</td>\n",
       "      <td>2016</td>\n",
       "    </tr>\n",
       "    <tr>\n",
       "      <th>5459439</th>\n",
       "      <td>060590886013000</td>\n",
       "      <td>060730202113000</td>\n",
       "      <td>1</td>\n",
       "      <td>0</td>\n",
       "      <td>1</td>\n",
       "      <td>0</td>\n",
       "      <td>1</td>\n",
       "      <td>0</td>\n",
       "      <td>0</td>\n",
       "      <td>0</td>\n",
       "      <td>1</td>\n",
       "      <td>0</td>\n",
       "      <td>JT00</td>\n",
       "      <td>2016</td>\n",
       "    </tr>\n",
       "    <tr>\n",
       "      <th>5459440</th>\n",
       "      <td>060590886013000</td>\n",
       "      <td>060730203071005</td>\n",
       "      <td>1</td>\n",
       "      <td>0</td>\n",
       "      <td>1</td>\n",
       "      <td>0</td>\n",
       "      <td>0</td>\n",
       "      <td>1</td>\n",
       "      <td>0</td>\n",
       "      <td>0</td>\n",
       "      <td>1</td>\n",
       "      <td>0</td>\n",
       "      <td>JT00</td>\n",
       "      <td>2016</td>\n",
       "    </tr>\n",
       "  </tbody>\n",
       "</table>\n",
       "<p>5459441 rows × 14 columns</p>\n",
       "</div>"
      ],
      "text/plain": [
       "                 w_geoid          h_geoid  S000  SA01  SA02  SA03  SE01  SE02  \\\n",
       "0        060730133101040  060730032122007     1     0     1     0     0     0   \n",
       "1        060730133101040  060730032122009     1     0     1     0     0     0   \n",
       "2        060730133101040  060730032122018     1     0     0     1     0     1   \n",
       "3        060730133101040  060730032122022     1     0     1     0     0     0   \n",
       "4        060730133101040  060730032131001     1     0     1     0     0     1   \n",
       "...                  ...              ...   ...   ...   ...   ...   ...   ...   \n",
       "5459436  060590886013000  060730200271003     1     1     0     0     0     1   \n",
       "5459437  060590886013000  060730202022000     1     0     1     0     1     0   \n",
       "5459438  060590886013000  060730202102000     1     0     1     0     0     0   \n",
       "5459439  060590886013000  060730202113000     1     0     1     0     1     0   \n",
       "5459440  060590886013000  060730203071005     1     0     1     0     0     1   \n",
       "\n",
       "         SE03  SI01  SI02  SI03  type    yr  \n",
       "0           1     0     0     1  JT00  2016  \n",
       "1           1     0     0     1  JT00  2016  \n",
       "2           0     0     0     1  JT00  2016  \n",
       "3           1     0     0     1  JT00  2016  \n",
       "4           0     0     0     1  JT00  2016  \n",
       "...       ...   ...   ...   ...   ...   ...  \n",
       "5459436     0     0     1     0  JT00  2016  \n",
       "5459437     0     0     1     0  JT00  2016  \n",
       "5459438     1     0     1     0  JT00  2016  \n",
       "5459439     0     0     1     0  JT00  2016  \n",
       "5459440     0     0     1     0  JT00  2016  \n",
       "\n",
       "[5459441 rows x 14 columns]"
      ]
     },
     "execution_count": 11,
     "metadata": {},
     "output_type": "execute_result"
    }
   ],
   "source": [
    "db16"
   ]
  },
  {
   "cell_type": "markdown",
   "id": "d17b93bb",
   "metadata": {},
   "source": [
    "**QC checks** \n",
    "1. Compare the sum totals by columns\n",
    "2. Compare data types \n",
    "3. Conduct spot checks for top 1000 rows<br> \n",
    "**Note**- The source data will have to be subsetted to include only San Diego geoid (starting with 6073) and remove unnecessary columns "
   ]
  },
  {
   "cell_type": "code",
   "execution_count": 12,
   "id": "3329ea0e",
   "metadata": {
    "scrolled": true
   },
   "outputs": [
    {
     "name": "stdout",
     "output_type": "stream",
     "text": [
      "Wall time: 4min 19s\n"
     ]
    }
   ],
   "source": [
    "%%time\n",
    "# Subsetting the source data \n",
    "od_2016_sub= od_2016 [od_2016 ['w_geocode'].astype(str).str.startswith('6073') | od_2016 ['h_geocode'].astype(str).str.startswith('6073') ]"
   ]
  },
  {
   "cell_type": "code",
   "execution_count": 41,
   "id": "a7ee1e04",
   "metadata": {},
   "outputs": [
    {
     "data": {
      "text/plain": [
       "w_geocode     float64\n",
       "h_geocode     float64\n",
       "S000            int64\n",
       "SA01            int64\n",
       "SA02            int64\n",
       "SA03            int64\n",
       "SE01            int64\n",
       "SE02            int64\n",
       "SE03            int64\n",
       "SI01            int64\n",
       "SI02            int64\n",
       "SI03            int64\n",
       "createdate      int64\n",
       "dtype: object"
      ]
     },
     "execution_count": 41,
     "metadata": {},
     "output_type": "execute_result"
    }
   ],
   "source": [
    "od_2016_sub.dtypes"
   ]
  },
  {
   "cell_type": "code",
   "execution_count": 14,
   "id": "5508522a",
   "metadata": {},
   "outputs": [],
   "source": [
    "# %%time\n",
    "# od_2017_sub= od_2017 [od_2017 ['w_geocode'].astype(str).str.startswith('6073') | od_2017 ['h_geocode'].astype(str).str.startswith('6073') ]"
   ]
  },
  {
   "cell_type": "code",
   "execution_count": 15,
   "id": "618c7da4",
   "metadata": {},
   "outputs": [],
   "source": [
    "# %%time\n",
    "# od_2018_sub= od_2018 [od_2018 ['w_geocode'].astype(str).str.startswith('6073') | od_2018 ['h_geocode'].astype(str).str.startswith('6073') ]"
   ]
  },
  {
   "cell_type": "code",
   "execution_count": 16,
   "id": "8038f2e9",
   "metadata": {},
   "outputs": [],
   "source": [
    "# od_2016_sub\n",
    "# od_2017_sub\n",
    "# od_2018_sub"
   ]
  },
  {
   "cell_type": "code",
   "execution_count": 17,
   "id": "de5373a0",
   "metadata": {},
   "outputs": [],
   "source": [
    "# len(od_2016_w)+ len(od_2016_h)"
   ]
  },
  {
   "cell_type": "code",
   "execution_count": 18,
   "id": "7c5a78d3",
   "metadata": {},
   "outputs": [
    {
     "name": "stdout",
     "output_type": "stream",
     "text": [
      "2016: 5469881 5459441\n"
     ]
    }
   ],
   "source": [
    "print('2016: {0} {1}'.format(len(od_2016_sub), len(db16)))\n",
    "# print('2017: {0} {1} ({2})'.format(len(od_2017_sub), len(db17), len(od_2017_sub)-len(db17)))\n",
    "# print('2018: {0} {1}'.format(len(od_2018_sub), len(db18)))"
   ]
  },
  {
   "cell_type": "code",
   "execution_count": 19,
   "id": "2a40dde7",
   "metadata": {},
   "outputs": [],
   "source": [
    "# od_2017.info(memory_usage='deep')"
   ]
  },
  {
   "cell_type": "markdown",
   "id": "5bb7e16f",
   "metadata": {},
   "source": [
    "# Finding the Sums of the tables"
   ]
  },
  {
   "cell_type": "markdown",
   "id": "38cbe97f",
   "metadata": {},
   "source": [
    "# Sums from R drive"
   ]
  },
  {
   "cell_type": "code",
   "execution_count": 20,
   "id": "d52f483d",
   "metadata": {},
   "outputs": [
    {
     "data": {
      "text/html": [
       "<div>\n",
       "<style scoped>\n",
       "    .dataframe tbody tr th:only-of-type {\n",
       "        vertical-align: middle;\n",
       "    }\n",
       "\n",
       "    .dataframe tbody tr th {\n",
       "        vertical-align: top;\n",
       "    }\n",
       "\n",
       "    .dataframe thead th {\n",
       "        text-align: right;\n",
       "    }\n",
       "</style>\n",
       "<table border=\"1\" class=\"dataframe\">\n",
       "  <thead>\n",
       "    <tr style=\"text-align: right;\">\n",
       "      <th></th>\n",
       "      <th>w_geocode</th>\n",
       "      <th>h_geocode</th>\n",
       "      <th>S000</th>\n",
       "      <th>SA01</th>\n",
       "      <th>SA02</th>\n",
       "      <th>SA03</th>\n",
       "      <th>SE01</th>\n",
       "      <th>SE02</th>\n",
       "      <th>SE03</th>\n",
       "      <th>SI01</th>\n",
       "      <th>SI02</th>\n",
       "      <th>SI03</th>\n",
       "      <th>createdate</th>\n",
       "    </tr>\n",
       "  </thead>\n",
       "  <tbody>\n",
       "    <tr>\n",
       "      <th>103967</th>\n",
       "      <td>6.073000e+13</td>\n",
       "      <td>1.325200e+14</td>\n",
       "      <td>1</td>\n",
       "      <td>0</td>\n",
       "      <td>0</td>\n",
       "      <td>1</td>\n",
       "      <td>1</td>\n",
       "      <td>0</td>\n",
       "      <td>0</td>\n",
       "      <td>0</td>\n",
       "      <td>0</td>\n",
       "      <td>1</td>\n",
       "      <td>20200924</td>\n",
       "    </tr>\n",
       "    <tr>\n",
       "      <th>103968</th>\n",
       "      <td>6.073000e+13</td>\n",
       "      <td>3.104800e+14</td>\n",
       "      <td>1</td>\n",
       "      <td>0</td>\n",
       "      <td>0</td>\n",
       "      <td>1</td>\n",
       "      <td>0</td>\n",
       "      <td>1</td>\n",
       "      <td>0</td>\n",
       "      <td>0</td>\n",
       "      <td>0</td>\n",
       "      <td>1</td>\n",
       "      <td>20200924</td>\n",
       "    </tr>\n",
       "    <tr>\n",
       "      <th>103969</th>\n",
       "      <td>6.073000e+13</td>\n",
       "      <td>4.007400e+14</td>\n",
       "      <td>1</td>\n",
       "      <td>0</td>\n",
       "      <td>0</td>\n",
       "      <td>1</td>\n",
       "      <td>0</td>\n",
       "      <td>1</td>\n",
       "      <td>0</td>\n",
       "      <td>0</td>\n",
       "      <td>0</td>\n",
       "      <td>1</td>\n",
       "      <td>20200924</td>\n",
       "    </tr>\n",
       "    <tr>\n",
       "      <th>103970</th>\n",
       "      <td>6.073000e+13</td>\n",
       "      <td>3.200300e+14</td>\n",
       "      <td>1</td>\n",
       "      <td>1</td>\n",
       "      <td>0</td>\n",
       "      <td>0</td>\n",
       "      <td>0</td>\n",
       "      <td>1</td>\n",
       "      <td>0</td>\n",
       "      <td>0</td>\n",
       "      <td>0</td>\n",
       "      <td>1</td>\n",
       "      <td>20200924</td>\n",
       "    </tr>\n",
       "    <tr>\n",
       "      <th>103971</th>\n",
       "      <td>6.073000e+13</td>\n",
       "      <td>3.301300e+14</td>\n",
       "      <td>1</td>\n",
       "      <td>1</td>\n",
       "      <td>0</td>\n",
       "      <td>0</td>\n",
       "      <td>0</td>\n",
       "      <td>1</td>\n",
       "      <td>0</td>\n",
       "      <td>0</td>\n",
       "      <td>0</td>\n",
       "      <td>1</td>\n",
       "      <td>20200924</td>\n",
       "    </tr>\n",
       "  </tbody>\n",
       "</table>\n",
       "</div>"
      ],
      "text/plain": [
       "           w_geocode     h_geocode  S000  SA01  SA02  SA03  SE01  SE02  SE03  \\\n",
       "103967  6.073000e+13  1.325200e+14     1     0     0     1     1     0     0   \n",
       "103968  6.073000e+13  3.104800e+14     1     0     0     1     0     1     0   \n",
       "103969  6.073000e+13  4.007400e+14     1     0     0     1     0     1     0   \n",
       "103970  6.073000e+13  3.200300e+14     1     1     0     0     0     1     0   \n",
       "103971  6.073000e+13  3.301300e+14     1     1     0     0     0     1     0   \n",
       "\n",
       "        SI01  SI02  SI03  createdate  \n",
       "103967     0     0     1    20200924  \n",
       "103968     0     0     1    20200924  \n",
       "103969     0     0     1    20200924  \n",
       "103970     0     0     1    20200924  \n",
       "103971     0     0     1    20200924  "
      ]
     },
     "execution_count": 20,
     "metadata": {},
     "output_type": "execute_result"
    }
   ],
   "source": [
    "od_2016_sub.head()"
   ]
  },
  {
   "cell_type": "code",
   "execution_count": 33,
   "id": "3f1c485d",
   "metadata": {},
   "outputs": [
    {
     "data": {
      "text/html": [
       "<div>\n",
       "<style scoped>\n",
       "    .dataframe tbody tr th:only-of-type {\n",
       "        vertical-align: middle;\n",
       "    }\n",
       "\n",
       "    .dataframe tbody tr th {\n",
       "        vertical-align: top;\n",
       "    }\n",
       "\n",
       "    .dataframe thead th {\n",
       "        text-align: right;\n",
       "    }\n",
       "</style>\n",
       "<table border=\"1\" class=\"dataframe\">\n",
       "  <thead>\n",
       "    <tr style=\"text-align: right;\">\n",
       "      <th></th>\n",
       "      <th>w_geoid</th>\n",
       "      <th>h_geoid</th>\n",
       "      <th>S000</th>\n",
       "      <th>SA01</th>\n",
       "      <th>SA02</th>\n",
       "      <th>SA03</th>\n",
       "      <th>SE01</th>\n",
       "      <th>SE02</th>\n",
       "      <th>SE03</th>\n",
       "      <th>SI01</th>\n",
       "      <th>SI02</th>\n",
       "      <th>SI03</th>\n",
       "      <th>type</th>\n",
       "      <th>yr</th>\n",
       "    </tr>\n",
       "  </thead>\n",
       "  <tbody>\n",
       "    <tr>\n",
       "      <th>0</th>\n",
       "      <td>060730133101040</td>\n",
       "      <td>060730032122007</td>\n",
       "      <td>1</td>\n",
       "      <td>0</td>\n",
       "      <td>1</td>\n",
       "      <td>0</td>\n",
       "      <td>0</td>\n",
       "      <td>0</td>\n",
       "      <td>1</td>\n",
       "      <td>0</td>\n",
       "      <td>0</td>\n",
       "      <td>1</td>\n",
       "      <td>JT00</td>\n",
       "      <td>2016</td>\n",
       "    </tr>\n",
       "    <tr>\n",
       "      <th>1</th>\n",
       "      <td>060730133101040</td>\n",
       "      <td>060730032122009</td>\n",
       "      <td>1</td>\n",
       "      <td>0</td>\n",
       "      <td>1</td>\n",
       "      <td>0</td>\n",
       "      <td>0</td>\n",
       "      <td>0</td>\n",
       "      <td>1</td>\n",
       "      <td>0</td>\n",
       "      <td>0</td>\n",
       "      <td>1</td>\n",
       "      <td>JT00</td>\n",
       "      <td>2016</td>\n",
       "    </tr>\n",
       "    <tr>\n",
       "      <th>2</th>\n",
       "      <td>060730133101040</td>\n",
       "      <td>060730032122018</td>\n",
       "      <td>1</td>\n",
       "      <td>0</td>\n",
       "      <td>0</td>\n",
       "      <td>1</td>\n",
       "      <td>0</td>\n",
       "      <td>1</td>\n",
       "      <td>0</td>\n",
       "      <td>0</td>\n",
       "      <td>0</td>\n",
       "      <td>1</td>\n",
       "      <td>JT00</td>\n",
       "      <td>2016</td>\n",
       "    </tr>\n",
       "    <tr>\n",
       "      <th>3</th>\n",
       "      <td>060730133101040</td>\n",
       "      <td>060730032122022</td>\n",
       "      <td>1</td>\n",
       "      <td>0</td>\n",
       "      <td>1</td>\n",
       "      <td>0</td>\n",
       "      <td>0</td>\n",
       "      <td>0</td>\n",
       "      <td>1</td>\n",
       "      <td>0</td>\n",
       "      <td>0</td>\n",
       "      <td>1</td>\n",
       "      <td>JT00</td>\n",
       "      <td>2016</td>\n",
       "    </tr>\n",
       "    <tr>\n",
       "      <th>4</th>\n",
       "      <td>060730133101040</td>\n",
       "      <td>060730032131001</td>\n",
       "      <td>1</td>\n",
       "      <td>0</td>\n",
       "      <td>1</td>\n",
       "      <td>0</td>\n",
       "      <td>0</td>\n",
       "      <td>1</td>\n",
       "      <td>0</td>\n",
       "      <td>0</td>\n",
       "      <td>0</td>\n",
       "      <td>1</td>\n",
       "      <td>JT00</td>\n",
       "      <td>2016</td>\n",
       "    </tr>\n",
       "  </tbody>\n",
       "</table>\n",
       "</div>"
      ],
      "text/plain": [
       "           w_geoid          h_geoid  S000  SA01  SA02  SA03  SE01  SE02  SE03  \\\n",
       "0  060730133101040  060730032122007     1     0     1     0     0     0     1   \n",
       "1  060730133101040  060730032122009     1     0     1     0     0     0     1   \n",
       "2  060730133101040  060730032122018     1     0     0     1     0     1     0   \n",
       "3  060730133101040  060730032122022     1     0     1     0     0     0     1   \n",
       "4  060730133101040  060730032131001     1     0     1     0     0     1     0   \n",
       "\n",
       "   SI01  SI02  SI03  type    yr  \n",
       "0     0     0     1  JT00  2016  \n",
       "1     0     0     1  JT00  2016  \n",
       "2     0     0     1  JT00  2016  \n",
       "3     0     0     1  JT00  2016  \n",
       "4     0     0     1  JT00  2016  "
      ]
     },
     "execution_count": 33,
     "metadata": {},
     "output_type": "execute_result"
    }
   ],
   "source": [
    "db16.head()"
   ]
  },
  {
   "cell_type": "code",
   "execution_count": 34,
   "id": "5d31aafe",
   "metadata": {},
   "outputs": [
    {
     "name": "stdout",
     "output_type": "stream",
     "text": [
      "h_geocode: 148054\n",
      "w_geocode: 58140\n"
     ]
    }
   ],
   "source": [
    "## CHECKING CSV\n",
    "\n",
    "# h_geocode blocks\n",
    "od_blocks = od_2016_sub.drop_duplicates(subset=['h_geocode'])\n",
    "od_count_h = len(od_blocks)\n",
    "print('h_geocode: {0}'.format(od_count_h))\n",
    "\n",
    "# w_geocode blocks\n",
    "od_blocks = od_2016_sub.drop_duplicates(subset=['w_geocode'])\n",
    "od_count_w = len(od_blocks)\n",
    "print('w_geocode: {0}'.format(od_count_w))"
   ]
  },
  {
   "cell_type": "code",
   "execution_count": 36,
   "id": "b4358426",
   "metadata": {},
   "outputs": [
    {
     "name": "stdout",
     "output_type": "stream",
     "text": [
      "h_geoid: 146668\n",
      "w_geoid: 58137\n"
     ]
    }
   ],
   "source": [
    "## CHECKING DB TABLE\n",
    "conn = pyodbc.connect('Driver={ODBC Driver 17 for SQL Server};'\n",
    "                      'Server=DDAMWSQL16.sandag.org;'\n",
    "                      'Database=socioec_data;'\n",
    "                      'Trusted_Connection=yes;')\n",
    "                      \n",
    "# h_geoid blocks\n",
    "qry = \"SELECT DISTINCT h_geoid FROM socioec_data.lehd_lodes.od_7_5 WHERE yr = 2016\"\n",
    "db_blocks = pd.read_sql_query(qry, conn)\n",
    "db_count_h = len(db_blocks)\n",
    "print('h_geoid: {0}'.format(db_count_h))\n",
    "\n",
    "# w_geoid blocks\n",
    "qry = \"SELECT DISTINCT w_geoid FROM socioec_data.lehd_lodes.od_7_5 WHERE yr = 2016\"\n",
    "db_blocks = pd.read_sql_query(qry, conn)\n",
    "db_count_w = len(db_blocks)\n",
    "print('w_geoid: {0}'.format(db_count_w))"
   ]
  },
  {
   "cell_type": "code",
   "execution_count": 37,
   "id": "1f6fa6d7",
   "metadata": {},
   "outputs": [
    {
     "name": "stdout",
     "output_type": "stream",
     "text": [
      "h difference: 1386\n",
      "w difference: 3\n"
     ]
    }
   ],
   "source": [
    "print('h difference: {0}'.format(od_count_h - db_count_h))\n",
    "print('w difference: {0}'.format(od_count_w - db_count_w))"
   ]
  },
  {
   "cell_type": "code",
   "execution_count": 27,
   "id": "37cf5d4e",
   "metadata": {},
   "outputs": [],
   "source": [
    "SQL_sumcheck_df = db16[['S000', 'SA01', 'SA02', 'SA03', 'SE01', 'SE02',\n",
    "       'SE03', 'SI01', 'SI02', 'SI03']]"
   ]
  },
  {
   "cell_type": "code",
   "execution_count": 25,
   "id": "683ca70b",
   "metadata": {},
   "outputs": [
    {
     "data": {
      "text/plain": [
       "Index(['w_geocode', 'h_geocode', 'S000', 'SA01', 'SA02', 'SA03', 'SE01',\n",
       "       'SE02', 'SE03', 'SI01', 'SI02', 'SI03', 'createdate'],\n",
       "      dtype='object')"
      ]
     },
     "execution_count": 25,
     "metadata": {},
     "output_type": "execute_result"
    }
   ],
   "source": [
    "od_2016_sub.columns"
   ]
  },
  {
   "cell_type": "code",
   "execution_count": 26,
   "id": "e55fb1b9",
   "metadata": {},
   "outputs": [],
   "source": [
    "r_sumcheck_df = od_2016_sub[['S000', 'SA01', 'SA02', 'SA03', 'SE01',\n",
    "       'SE02', 'SE03', 'SI01', 'SI02', 'SI03']]"
   ]
  },
  {
   "cell_type": "code",
   "execution_count": 32,
   "id": "074a3208",
   "metadata": {},
   "outputs": [
    {
     "data": {
      "text/plain": [
       "S000    5917791\n",
       "SA01    1427425\n",
       "SA02    3275504\n",
       "SA03    1214862\n",
       "SE01    1162046\n",
       "SE02    2011510\n",
       "SE03    2744235\n",
       "SI01     909003\n",
       "SI02    1091479\n",
       "SI03    3917309\n",
       "dtype: int64"
      ]
     },
     "execution_count": 32,
     "metadata": {},
     "output_type": "execute_result"
    }
   ],
   "source": [
    "SQL_sumcheck_df.sum()"
   ]
  },
  {
   "cell_type": "code",
   "execution_count": 30,
   "id": "f9442ac4",
   "metadata": {},
   "outputs": [
    {
     "data": {
      "text/plain": [
       "S000    5928234\n",
       "SA01    1430272\n",
       "SA02    3280816\n",
       "SA03    1217146\n",
       "SE01    1164553\n",
       "SE02    2015663\n",
       "SE03    2748018\n",
       "SI01     910739\n",
       "SI02    1092984\n",
       "SI03    3924511\n",
       "dtype: int64"
      ]
     },
     "execution_count": 30,
     "metadata": {},
     "output_type": "execute_result"
    }
   ],
   "source": [
    "r_sumcheck_df.sum()"
   ]
  },
  {
   "cell_type": "code",
   "execution_count": null,
   "id": "3ea22dd7",
   "metadata": {},
   "outputs": [],
   "source": []
  }
 ],
 "metadata": {
  "kernelspec": {
   "display_name": "Python 3",
   "language": "python",
   "name": "python3"
  },
  "language_info": {
   "codemirror_mode": {
    "name": "ipython",
    "version": 3
   },
   "file_extension": ".py",
   "mimetype": "text/x-python",
   "name": "python",
   "nbconvert_exporter": "python",
   "pygments_lexer": "ipython3",
   "version": "3.8.8"
  }
 },
 "nbformat": 4,
 "nbformat_minor": 5
}
