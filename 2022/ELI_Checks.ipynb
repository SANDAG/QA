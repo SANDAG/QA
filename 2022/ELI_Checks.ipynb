{
 "cells": [
  {
   "cell_type": "markdown",
   "metadata": {},
   "source": [
    "# 2022-66 Data Surfer Extract QC"
   ]
  },
  {
   "cell_type": "markdown",
   "metadata": {},
   "source": [
    "See the test plan here: https://sandag.sharepoint.com/:o:/r/qaqc/Shared%20Documents/Service%20Requests/2022/2022-66%20Data%20Surfer%20Extract%20QC/2022-66%20Data%20Surfer%20Extract?d=w5f76d25f220349ba9ba1ab1ba14cc8c0&csf=1&web=1&e=wJTYh4"
   ]
  },
  {
   "cell_type": "markdown",
   "metadata": {},
   "source": [
    "## Spot Checking"
   ]
  },
  {
   "cell_type": "code",
   "execution_count": 32,
   "metadata": {},
   "outputs": [],
   "source": [
    "import sqlalchemy as sql\n",
    "import pandas as pd\n",
    "import dask.dataframe as dd\n",
    "\n",
    "import pathlib\n",
    "import textwrap"
   ]
  },
  {
   "cell_type": "code",
   "execution_count": 24,
   "metadata": {},
   "outputs": [],
   "source": [
    "# The base directory where files can be found\n",
    "# Requires a local copy of the QA/QC sharepoint folder\n",
    "user = \"eli\"\n",
    "base_folder = pathlib.Path(f\"C:/Users/{user}/OneDrive - San Diego Association of Governments/Documents - SANDAG QA_QC/Service Requests/2022/2022-66 Data Surfer Extract QC/\")\n",
    "\n",
    "# sql connection\n",
    "DDAM = sql.create_engine('mssql+pymssql://DDAMWSQL16/')\n",
    "\n",
    "# Load the files\n",
    "# NOTE: Large files, more convenient to hold in dask.dataframe instead of pd.DataFrame\n",
    "census = dd.read_csv(base_folder / \"Data/Census.csv\",\n",
    "    dtype={\"geom_name\": \"str\", \"variable_sub\": \"str\", \"variable_tertiary\": \"str\"})\n",
    "estimates = dd.read_csv(base_folder / \"Data/estimates.csv\")\n",
    "forecasts = dd.read_csv(base_folder / \"Data/forecasts.csv\")"
   ]
  },
  {
   "cell_type": "markdown",
   "metadata": {},
   "source": [
    "### Spot Check Census"
   ]
  },
  {
   "cell_type": "code",
   "execution_count": 33,
   "metadata": {},
   "outputs": [
    {
     "ename": "TypeError",
     "evalue": "read_sql_query() missing 2 required positional arguments: 'sql' and 'con'",
     "output_type": "error",
     "traceback": [
      "\u001b[1;31m---------------------------------------------------------------------------\u001b[0m",
      "\u001b[1;31mTypeError\u001b[0m                                 Traceback (most recent call last)",
      "\u001b[1;32mc:\\Users\\eli\\QA\\2022\\ELI_Checks.ipynb Cell 7\u001b[0m in \u001b[0;36m<cell line: 13>\u001b[1;34m()\u001b[0m\n\u001b[0;32m      <a href='vscode-notebook-cell:/c%3A/Users/eli/QA/2022/ELI_Checks.ipynb#X10sZmlsZQ%3D%3D?line=7'>8</a>\u001b[0m csV_gc_2010_population \u001b[39m=\u001b[39m csv_gross_cuya[\n\u001b[0;32m      <a href='vscode-notebook-cell:/c%3A/Users/eli/QA/2022/ELI_Checks.ipynb#X10sZmlsZQ%3D%3D?line=8'>9</a>\u001b[0m     (csv_gross_cuya[\u001b[39m\"\u001b[39m\u001b[39myear\u001b[39m\u001b[39m\"\u001b[39m] \u001b[39m==\u001b[39m \u001b[39m2010\u001b[39m) \u001b[39m&\u001b[39m \n\u001b[0;32m     <a href='vscode-notebook-cell:/c%3A/Users/eli/QA/2022/ELI_Checks.ipynb#X10sZmlsZQ%3D%3D?line=9'>10</a>\u001b[0m     (csv_gross_cuya[\u001b[39m\"\u001b[39m\u001b[39mcategory\u001b[39m\u001b[39m\"\u001b[39m] \u001b[39m==\u001b[39m \u001b[39m\"\u001b[39m\u001b[39mPopulation\u001b[39m\u001b[39m\"\u001b[39m)]\u001b[39m.\u001b[39mcompute()\n\u001b[0;32m     <a href='vscode-notebook-cell:/c%3A/Users/eli/QA/2022/ELI_Checks.ipynb#X10sZmlsZQ%3D%3D?line=11'>12</a>\u001b[0m \u001b[39m# Get the two tables from sql\u001b[39;00m\n\u001b[1;32m---> <a href='vscode-notebook-cell:/c%3A/Users/eli/QA/2022/ELI_Checks.ipynb#X10sZmlsZQ%3D%3D?line=12'>13</a>\u001b[0m sql_gc_2000_age \u001b[39m=\u001b[39m pd\u001b[39m.\u001b[39;49mread_sql_query()\n",
      "\u001b[1;31mTypeError\u001b[0m: read_sql_query() missing 2 required positional arguments: 'sql' and 'con'"
     ]
    }
   ],
   "source": [
    "# Spot check the community college area Grossmont-Cuyamaca for 2000 Age and 2010 Population\n",
    "\n",
    "# Get the two tables from Census.csv\n",
    "csv_gross_cuya = census[census[\"geom_name\"] == \"Grossmont-Cuyamaca\"]\n",
    "csv_gc_2000_age = csv_gross_cuya[\n",
    "    (csv_gross_cuya[\"year\"] == 2000) & \n",
    "    (csv_gross_cuya[\"category\"] == \"Age\")].compute()\n",
    "csV_gc_2010_population = csv_gross_cuya[\n",
    "    (csv_gross_cuya[\"year\"] == 2010) & \n",
    "    (csv_gross_cuya[\"category\"] == \"Population\")].compute()\n",
    "\n",
    "# Get the two tables from sql\n",
    "# TODO\n",
    "sql_gc_2000_age = pd.read_sql_query(textwrap.dedent(\"\"\"\n",
    "    SELECT * FROM \n",
    "    \"\"\"), con=DDAM)"
   ]
  }
 ],
 "metadata": {
  "kernelspec": {
   "display_name": "Python 3.10.6 64-bit",
   "language": "python",
   "name": "python3"
  },
  "language_info": {
   "codemirror_mode": {
    "name": "ipython",
    "version": 3
   },
   "file_extension": ".py",
   "mimetype": "text/x-python",
   "name": "python",
   "nbconvert_exporter": "python",
   "pygments_lexer": "ipython3",
   "version": "3.10.6"
  },
  "orig_nbformat": 4,
  "vscode": {
   "interpreter": {
    "hash": "7804eeadc717885dfaa8f49b012a5fe9d8355528c06deeb48f3c48c16fd8060a"
   }
  }
 },
 "nbformat": 4,
 "nbformat_minor": 2
}
