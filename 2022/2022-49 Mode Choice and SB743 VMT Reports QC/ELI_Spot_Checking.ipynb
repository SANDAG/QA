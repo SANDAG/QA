{
 "cells": [
  {
   "cell_type": "markdown",
   "metadata": {},
   "source": [
    "# 2022-49 Mode Choice and SB743 VMT QC"
   ]
  },
  {
   "cell_type": "code",
   "execution_count": 2,
   "metadata": {},
   "outputs": [],
   "source": [
    "import pandas as pd\n",
    "import sqlalchemy as sql\n",
    "\n",
    "ddam = sql.create_engine('mssql+pymssql://DDAMWSQL16/demographic_warehouse')"
   ]
  },
  {
   "cell_type": "markdown",
   "metadata": {},
   "source": [
    "## Mode Choice Report\n",
    "\n",
    "### Study Area Trips section"
   ]
  },
  {
   "cell_type": "code",
   "execution_count": 3,
   "metadata": {},
   "outputs": [],
   "source": [
    "# The list of MGRAs that define the downtown area\n",
    "mgra = pd.read_csv(\"T:/ABM/SB/Enhancement_ABM2+/data/PowerBI/ModeChoiceReport/service_bureau_mode_choice_reports/QA/cicpa_downtown_mgra.csv\").values\n",
    "mgra = tuple([str(y) for z in mgra for y in z])\n",
    "\n",
    "# The scenario_id to use\n",
    "SCENARIO_ID = 100\n",
    "\n",
    "# geography_set_id = 4 corresponds to \"zone split for Seaport Village land use converter test \n",
    "# 6.1.2022\". This value is used because in [abm_14_3_0].[dimension].[scenario], scenario_id=100 \n",
    "# corresponds to geography_set_id = 4\n",
    "GEOGRAPHY_SET_ID = 4"
   ]
  },
  {
   "cell_type": "code",
   "execution_count": 11,
   "metadata": {},
   "outputs": [
    {
     "data": {
      "text/plain": [
       "True"
      ]
     },
     "execution_count": 11,
     "metadata": {},
     "output_type": "execute_result"
    }
   ],
   "source": [
    "# Double check that the MGRAs which define the downtown area are correct\n",
    "downtown_mgras = pd.read_sql(f\"\"\"\n",
    "    SELECT mgra_13\n",
    "    FROM [abm_14_3_0].[dimension].[geography]\n",
    "    WHERE cicpa_2016_name='Downtown'\n",
    "        AND mgra_13 != 'Not Applicable'\n",
    "        AND geography_set_id = 4\n",
    "\"\"\", con=ddam.connect())\n",
    "mgra == tuple(downtown_mgras[\"mgra_13\"])"
   ]
  },
  {
   "cell_type": "code",
   "execution_count": 3,
   "metadata": {},
   "outputs": [],
   "source": [
    "# Get all the person trips from SQL filtered by scenario_id, the list of MGRAs in the jurisdiction,\n",
    "# and the correct geography_set_id\n",
    "person_trips = pd.read_sql(f\"\"\"\n",
    "    SELECT \n",
    "        geo_o.mgra_13 AS origin_mgra, \n",
    "        geo_d.mgra_13 AS dest_mgra, \n",
    "        trip.*\n",
    "    FROM [abm_14_3_0].[fact].[person_trip] AS trip\n",
    "    LEFT JOIN [abm_14_3_0].[dimension].[geography] AS geo_o ON\n",
    "        trip.geography_trip_origin_id = geo_o.geography_id\n",
    "    LEFT JOIN [abm_14_3_0].[dimension].[geography] AS geo_d ON\n",
    "        trip.geography_trip_destination_id = geo_d.geography_id\n",
    "    WHERE scenario_id={SCENARIO_ID}\n",
    "        AND (geo_o.mgra_13 IN {mgra} OR geo_d.mgra_13 IN {mgra})\n",
    "        AND geo_o.geography_set_id = {GEOGRAPHY_SET_ID}\n",
    "        AND geo_d.geography_set_id = {GEOGRAPHY_SET_ID}\n",
    "    \"\"\", con=ddam.connect())"
   ]
  },
  {
   "cell_type": "code",
   "execution_count": 4,
   "metadata": {},
   "outputs": [
    {
     "name": "stdout",
     "output_type": "stream",
     "text": [
      "Intra-Zonal values\n",
      "Pre filter trips:    20170\n",
      "Post filter trips:   18392\n"
     ]
    }
   ],
   "source": [
    "# Intra-Zonal = trip starts and ends in the same MGRA\n",
    "intra_zonal = person_trips[person_trips[\"origin_mgra\"] == person_trips[\"dest_mgra\"]].copy(deep=True)\n",
    "\n",
    "# For some reason, some filtering is done on model_trip_id for no (to me at least) discernable \n",
    "# reason\n",
    "print(\"Intra-Zonal values\")\n",
    "print(f\"{'Pre filter trips:' : <20}\", intra_zonal.shape[0])\n",
    "intra_zonal = intra_zonal[intra_zonal[\"model_trip_id\"].isin([1, 2, 4])]\n",
    "print(f\"{'Post filter trips:' : <20}\", intra_zonal.shape[0])"
   ]
  },
  {
   "cell_type": "code",
   "execution_count": 5,
   "metadata": {},
   "outputs": [
    {
     "name": "stdout",
     "output_type": "stream",
     "text": [
      "Inter-Zonal values\n",
      "Pre filter trips:    342230\n",
      "Post filter trips:   307715\n"
     ]
    }
   ],
   "source": [
    "# Inter-Zonal = trip starts and ends in the same jurisdiction, but not the same MGRA\n",
    "inter_zonal = person_trips[person_trips[\"origin_mgra\"] != person_trips[\"dest_mgra\"]].copy(deep=True)\n",
    "inter_zonal = inter_zonal[inter_zonal[\"origin_mgra\"].isin(mgra) & inter_zonal[\"dest_mgra\"].isin(mgra)]\n",
    "\n",
    "# For some reason, some filtering is done on model_trip_id for no (to me at least) discernable \n",
    "# reason\n",
    "print(\"Inter-Zonal values\")\n",
    "print(f\"{'Pre filter trips:' : <20}\", inter_zonal.shape[0])\n",
    "inter_zonal = inter_zonal[inter_zonal[\"model_trip_id\"].isin([1, 2, 4])]\n",
    "print(f\"{'Post filter trips:' : <20}\", inter_zonal.shape[0])"
   ]
  },
  {
   "cell_type": "code",
   "execution_count": 6,
   "metadata": {},
   "outputs": [
    {
     "name": "stdout",
     "output_type": "stream",
     "text": [
      "Inter-Study Area values\n",
      "Pre filter trips:    700524\n",
      "Post filter trips:   616203\n"
     ]
    }
   ],
   "source": [
    "# Inter-Study Area = trip starts/ends in the jurisdiction, but ends/starts outside the jurisdiction\n",
    "inter_study = person_trips.copy(deep=True)\n",
    "inter_study = inter_study[\n",
    "    (inter_study[\"origin_mgra\"].isin(mgra) & ~inter_study[\"dest_mgra\"].isin(mgra)) |\n",
    "    (~inter_study[\"origin_mgra\"].isin(mgra) & inter_study[\"dest_mgra\"].isin(mgra))]\n",
    "\n",
    "# For some reason, some filtering is done on model_trip_id for no (to me at least) discernable \n",
    "# reason\n",
    "print(\"Inter-Study Area values\")\n",
    "print(f\"{'Pre filter trips:' : <20}\", inter_study.shape[0])\n",
    "inter_study = inter_study[inter_study[\"model_trip_id\"].isin([1, 2, 4])]\n",
    "print(f\"{'Post filter trips:' : <20}\", inter_study.shape[0])"
   ]
  },
  {
   "cell_type": "markdown",
   "metadata": {},
   "source": [
    "## VMT\n",
    "\n",
    "### VMT Per Employee by Geography"
   ]
  },
  {
   "cell_type": "code",
   "execution_count": null,
   "metadata": {},
   "outputs": [],
   "source": []
  }
 ],
 "metadata": {
  "kernelspec": {
   "display_name": "Python 3.9.12 ('SANDAG')",
   "language": "python",
   "name": "python3"
  },
  "language_info": {
   "codemirror_mode": {
    "name": "ipython",
    "version": 3
   },
   "file_extension": ".py",
   "mimetype": "text/x-python",
   "name": "python",
   "nbconvert_exporter": "python",
   "pygments_lexer": "ipython3",
   "version": "3.9.12"
  },
  "orig_nbformat": 4,
  "vscode": {
   "interpreter": {
    "hash": "41c20cbfa603768ded13150453b5681e701a59febb16590ec3ab380b595ec114"
   }
  }
 },
 "nbformat": 4,
 "nbformat_minor": 2
}
