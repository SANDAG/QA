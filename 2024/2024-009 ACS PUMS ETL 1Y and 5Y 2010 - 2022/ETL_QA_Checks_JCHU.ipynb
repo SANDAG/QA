{
 "cells": [
  {
   "cell_type": "code",
   "execution_count": 1,
   "id": "83c51168",
   "metadata": {},
   "outputs": [],
   "source": [
    "import pandas as pd\n",
    "import numpy as np\n",
    "import sys\n",
    "import sqlalchemy as sql\n",
    "import re\n",
    "from tqdm import tqdm\n",
    "import zipfile\n",
    "import os\n",
    "import glob\n",
    "import polars as pl\n",
    "import json\n",
    "import glob"
   ]
  },
  {
   "cell_type": "code",
   "execution_count": 2,
   "id": "d203290d",
   "metadata": {},
   "outputs": [],
   "source": [
    "server = 'ddamwsql16'\n",
    "database = 'acs'\n",
    "driver = 'ODBC Driver 17 for SQL Server'\n",
    "\n",
    "engine = sql.create_engine('mssql+pyodbc://@{}/{}?trusted_connection=yes&driver={}'.format(server, database, driver))\n",
    "conn = engine.connect()"
   ]
  },
  {
   "cell_type": "code",
   "execution_count": 3,
   "id": "9ec8a318",
   "metadata": {},
   "outputs": [],
   "source": [
    "year_ranges = ['1y', '5y']\n",
    "years = ['2010', '2011']\n",
    "# years = ['2012', '2013']\n",
    "# years = ['2014', '2015']\n",
    "# years = ['2016', '2017']\n",
    "# years = ['2018', '2019']\n",
    "# years = ['2020', '2021', '2022']\n",
    "data_types = ['persons', 'households']"
   ]
  },
  {
   "cell_type": "markdown",
   "id": "e77dfe58",
   "metadata": {},
   "source": [
    "# Row Column Comparisons"
   ]
  },
  {
   "cell_type": "code",
   "execution_count": null,
   "id": "1bacbcfe",
   "metadata": {},
   "outputs": [],
   "source": [
    "def data_dictionary(r, y, d='both'):\n",
    "    pums_year = int(y)\n",
    "    \n",
    "    if r == '5y':\n",
    "        dd = pd.read_csv(f'https://www2.census.gov/programs-surveys/acs/tech_docs/pums/data_dict/PUMS_Data_Dictionary_{pums_year-4}-{pums_year}.csv', \n",
    "                     header=None, names=['Name/Val', 'Var', 'Type', 'Length', 'Desc', 'Values', 'Val Desc'])\n",
    "    else:\n",
    "        dd = pd.read_csv(f'https://www2.census.gov/programs-surveys/acs/tech_docs/pums/data_dict/PUMS_Data_Dictionary_{pums_year}.csv', \n",
    "                     header=None, names=['Name/Val', 'Var', 'Type', 'Length', 'Desc', 'Values', 'Val Desc'])\n",
    "    \n",
    "    # Create dictionary of dtypes\n",
    "    dd['cast_dtypes'] = dd['Type'].apply(lambda x: str if x=='C' else float)\n",
    "    dd['Dtypes'] = dd['Type'].replace({'C':'varchar', 'N':'float'})\n",
    "    dd_names = dd[dd['Name/Val'] == 'NAME'][['Var', 'Dtypes', 'Length']].reset_index(drop=True)\n",
    "    dd_cast_types = dd[dd['Name/Val'] == 'NAME'][['Var', 'cast_dtypes']].reset_index(drop=True)\n",
    "\n",
    "    # Get index of second RT variable to split between households and persons\n",
    "    p_ind = dd_names[dd_names['Var'] == 'RT'].index[1]\n",
    "    \n",
    "    dd_housing = {*dd_names[:p_ind].squeeze().itertuples(index=False, name=None)}\n",
    "    dd_housing_casting = dict({*dd_cast_types[:p_ind].squeeze().itertuples(index=False, name=None)})\n",
    "    \n",
    "    dd_persons = {*dd_names[p_ind:].squeeze().itertuples(index=False, name=None)}\n",
    "    dd_persons_casting = dict({*dd_cast_types[p_ind:].squeeze().itertuples(index=False, name=None)})\n",
    "\n",
    "    if d == 'households':\n",
    "        return dd_housing, dd_housing_casting\n",
    "    elif d == 'persons':\n",
    "        return dd_persons, dd_persons_casting\n",
    "    return (dd_housing, dd_persons), (dd_housing_casting, dd_persons_casting)\n",
    "\n",
    "def get_pums_database_data(r, y, d, conn):\n",
    "    rows_query = \"\"\"\n",
    "    SELECT count(serialno)\n",
    "    FROM [acs].[pums].[{}_{}_{}]\n",
    "    \"\"\".format(r, y if r == '1y' else '{}_{}'.format(str(int(y)-4), y), d)\n",
    "    \n",
    "    columns_query = \"\"\"\n",
    "    SELECT COLUMN_NAME\n",
    "    FROM INFORMATION_SCHEMA.COLUMNS\n",
    "    WHERE TABLE_CATALOG = 'acs'\n",
    "        AND TABLE_SCHEMA = 'pums'\n",
    "        AND TABLE_NAME = '{}_{}_{}'\n",
    "    \"\"\".format(r, y if r == '1y' else '{}_{}'.format(str(int(y)-4), y), d)\n",
    "    \n",
    "    columns = pd.read_sql_query(columns_query, con=conn).squeeze().to_list()\n",
    "    rows = pd.read_sql_query(rows_query, con=conn).iloc[0][0]\n",
    "\n",
    "    print('----database complete: [{}_{}_{}]'.format(r, y if r == '1y' else '{}_{}'.format(str(int(y)-4), y), d))\n",
    "    return (int(rows), columns)\n",
    "          \n",
    "\n",
    "def get_pums_source_data(r, y, d):\n",
    "    path = r'C:\\Users\\jchu\\OneDrive - San Diego Association of Governments\\Projects\\2024\\2024-009 ACS PUMS ETL 1Y and 5Y 2010 - 2022\\Data'\n",
    "    print(path + r\"\\{} {}r PUMS\\raw\\csv_{}.zip\".format(y if r == '1y' else '{}-{}'.format(str(int(y)-4), y), r, 'hus' if d =='households' else 'pus'))\n",
    "    with zipfile.ZipFile(path + r\"\\{} {}r PUMS\\raw\\csv_{}.zip\".format(y if r == '1y' else '{}-{}'.format(str(int(y)-4), y), r, 'hus' if d =='households' else 'pus')) as z:\n",
    "        dfs = {}\n",
    "        for text_file in z.infolist():\n",
    "            if text_file.filename.endswith('.csv'):\n",
    "                df = pl.read_csv(z.open(text_file, mode='r').read(),\n",
    "                                dtypes = {\"SERIALNO\":str},\n",
    "                                null_values = ['N.A.'])\n",
    "                dfs[text_file.filename] = (int(df.shape[0]), df.columns)\n",
    "                print(f\"--------source complete: [{r}_{y if r == '1y' else '{}_{}'.format(str(int(y)-4), y)}_{d}] - {text_file.filename}\")\n",
    "    print(f\"----source complete: [{r}_{y if r == '1y' else '{}_{}'.format(str(int(y)-4), y)}_{d}]\")\n",
    "    return dfs"
   ]
  },
  {
   "cell_type": "code",
   "execution_count": null,
   "id": "4ab3f6b6",
   "metadata": {
    "scrolled": true
   },
   "outputs": [],
   "source": [
    "outputs = {\n",
    "    'database':{},\n",
    "    'source':{}\n",
    "}\n",
    "\n",
    "for year_range in year_ranges:\n",
    "    outputs['database'][year_range] = {}\n",
    "    outputs['source'][year_range] = {}\n",
    "    for year in years:\n",
    "        if year_range == '1y' and year == '2020':\n",
    "            continue\n",
    "        elif year_range == '5y' and year == '2020':\n",
    "            continue\n",
    "        elif year_range == '5y' and year == '2021':\n",
    "            continue\n",
    "        else:\n",
    "            outputs['database'][year_range][year] = {}\n",
    "            outputs['source'][year_range][year] = {}\n",
    "        for data_type in data_types:\n",
    "            outputs['database'][year_range][year][data_type] = get_pums_database_data(year_range, year, data_type, conn)\n",
    "            outputs['source'][year_range][year][data_type] = get_pums_source_data(year_range, year, data_type)"
   ]
  },
  {
   "cell_type": "code",
   "execution_count": null,
   "id": "4ea7febd",
   "metadata": {},
   "outputs": [],
   "source": [
    "with open('output.txt', 'w') as convert_file: \n",
    "     convert_file.write(json.dumps(outputs))\n",
    "\n",
    "with open('output.txt') as f_in:\n",
    "        outputs = json.load(f_in)"
   ]
  },
  {
   "cell_type": "code",
   "execution_count": null,
   "id": "68330404",
   "metadata": {},
   "outputs": [],
   "source": [
    "for year_range in year_ranges:\n",
    "    for year in years:\n",
    "        if year_range == '1y' and year == '2020':\n",
    "            continue\n",
    "        elif year_range == '5y' and year == '2020':\n",
    "            continue\n",
    "        elif year_range == '5y' and year == '2021':\n",
    "            continue\n",
    "        else:\n",
    "            for data_type in data_types:\n",
    "                database_sum = outputs['database'][year_range][year][data_type][0]\n",
    "                source_sum = 0\n",
    "                for key in outputs['source'][year_range][year][data_type].keys():\n",
    "                    source_sum += outputs['source'][year_range][year][data_type][key][0]\n",
    "                if database_sum == source_sum:\n",
    "                    print(f'Row Match for [{year_range}_{year}_{data_type}]' )\n",
    "                else:\n",
    "                    print('-'*8 + f'Mismatch for [{year_range}_{year}_{data_type}]' + '-'*8)"
   ]
  },
  {
   "cell_type": "code",
   "execution_count": null,
   "id": "8c9336bb",
   "metadata": {},
   "outputs": [],
   "source": [
    "for year_range in year_ranges:\n",
    "    for year in years:\n",
    "        if year_range == '1y' and year == '2020':\n",
    "            continue\n",
    "        elif year_range == '5y' and year == '2020':\n",
    "            continue\n",
    "        elif year_range == '5y' and year == '2021':\n",
    "            continue\n",
    "        else:\n",
    "            for data_type in data_types:\n",
    "                database_cols = set(outputs['database'][year_range][year][data_type][1])\n",
    "                source_cols = set()\n",
    "                for key in outputs['source'][year_range][year][data_type].keys():\n",
    "                    source_cols | set(outputs['source'][year_range][year][data_type][key][1])\n",
    "                if len(database_cols) == len(database_cols | source_cols):\n",
    "                    print(f'Match for [{year_range}_{year}_{data_type}]' )\n",
    "                else:\n",
    "                    print('-'*8 + f'Mismatch for [{year_range}_{year}_{data_type}]' + '-'*8)"
   ]
  },
  {
   "cell_type": "markdown",
   "id": "769da359",
   "metadata": {},
   "source": [
    "# Row values comparisons"
   ]
  },
  {
   "cell_type": "code",
   "execution_count": null,
   "id": "f58db3ca",
   "metadata": {},
   "outputs": [],
   "source": [
    "def get_source_sample(r, y, d):\n",
    "    path = r'C:\\Users\\jchu\\OneDrive - San Diego Association of Governments\\Projects\\2024\\2024-009 ACS PUMS ETL 1Y and 5Y 2010 - 2022\\Data'\n",
    "    with zipfile.ZipFile(path + r\"\\{} {}r PUMS\\raw\\csv_{}.zip\".format(y if r == '1y' else '{}-{}'.format(str(int(y)-4), y), r, 'hus' if d =='households' else 'pus')) as z:\n",
    "        # check 3\n",
    "        sample_df = None\n",
    "        for text_file in z.infolist():\n",
    "            if text_file.filename.endswith('.csv'):\n",
    "                dtype_convert = {\"SERIALNO\":str}\n",
    "                if d == 'persons':\n",
    "                    dtype_convert['SPORDER'] = str\n",
    "                df = pl.read_csv(z.open(text_file, mode='r').read(),\n",
    "                                dtypes = dtype_convert,\n",
    "                                null_values = ['N.A.']).lazy()\n",
    "                # check 3\n",
    "                if sample_df is not None:\n",
    "                    sample_df = pd.concat([sample_df, df.limit(n=10000).collect().to_pandas()])\n",
    "                else:\n",
    "                    sample_df = df.limit(n=10000).collect().to_pandas()\n",
    "        sample_df.columns = sample_df.columns.str.lower()\n",
    "        print('----source sample: [{}_{}_{}]'.format(r, y if r == '1y' else '{}_{}'.format(str(int(y)-4), y), d))\n",
    "        return sample_df\n",
    "    \n",
    "def get_db_sample(r, y, d, serialnos, conn):\n",
    "    serialnos = list(serialnos)\n",
    "    rows_query = \"\"\"\n",
    "    SELECT *\n",
    "    FROM [acs].[pums].[{}_{}_{}]\n",
    "    WHERE SERIALNO IN ({})\n",
    "    \"\"\".format(r, y if r == '1y' else '{}_{}'.format(str(int(y)-4), y), d, ','.join(serialnos))\n",
    "    \n",
    "    if d == 'persons':\n",
    "        rows_query = \"\"\"\n",
    "        SELECT *\n",
    "        FROM [acs].[pums].[{}_{}_{}]\n",
    "        \"\"\".format(r, y if r == '1y' else '{}_{}'.format(str(int(y)-4), y), d, ','.join(serialnos))\n",
    "    rows = pd.read_sql_query(rows_query, con=conn)\n",
    "\n",
    "    print('----database sample: [{}_{}_{}]'.format(r, y if r == '1y' else '{}_{}'.format(str(int(y)-4), y), d))\n",
    "    rows.columns = rows.columns.str.lower()\n",
    "    return rows\n",
    "\n",
    "def compare_samples(r, y, d, conn):\n",
    "    source = get_source_sample(r, y, d)\n",
    "    \n",
    "    key = ['serialno']\n",
    "    if d == 'persons':\n",
    "        key.append('sporder')\n",
    "    \n",
    "    if d == \"persons\":\n",
    "        serialnos = map(lambda x: \"'\"+str(x[0])+'|'+str(x[1])+\"'\", source[key].values)\n",
    "    else:\n",
    "        serialnos = map(lambda x: \"'\" + x + \"'\", source['serialno'].to_list())\n",
    "    print('serialno completed')\n",
    "    \n",
    "    db = get_db_sample(r, y, d, serialnos, conn)\n",
    "    \n",
    "    compare_source = source.sort_values(key).set_index(key)\n",
    "    compare_db = db.astype(compare_source.dtypes).sort_values(key).set_index(key)\n",
    "    \n",
    "    compare = (compare_db.replace(np.nan, 'NA') != compare_source.replace(np.NaN, 'NA'))\n",
    "    change_cols = []\n",
    "    for col in compare.columns:\n",
    "        if compare[col].sum()>0:\n",
    "            change_cols.append(col)\n",
    "    \n",
    "    compare_db[change_cols] = compare_db[change_cols].apply(pd.to_numeric)\n",
    "    compare_source[change_cols] = compare_source[change_cols].apply(pd.to_numeric)\n",
    "    mismatch = (compare_db.replace(np.nan, 'NA') != compare_source.replace(np.NaN, 'NA')).sum().sum()\n",
    "    \n",
    "    return \"{} mismatches found in {}_{}_{}\".format(mismatch, r, y, d)"
   ]
  },
  {
   "cell_type": "code",
   "execution_count": null,
   "id": "443249d6",
   "metadata": {},
   "outputs": [],
   "source": [
    "for year_range in ['1y']:\n",
    "    for year in years:\n",
    "        if year_range == '1y' and year == '2020':\n",
    "            continue\n",
    "        elif year_range == '5y' and year == '2020':\n",
    "            continue\n",
    "        elif year_range == '5y' and year == '2021':\n",
    "            continue\n",
    "        else:\n",
    "            for data_type in data_types:\n",
    "                print(compare_samples(year_range, year, data_type, conn))"
   ]
  },
  {
   "cell_type": "markdown",
   "id": "e3139ef7",
   "metadata": {},
   "source": [
    "# Summary value comparisons"
   ]
  },
  {
   "cell_type": "code",
   "execution_count": 4,
   "id": "b9486013",
   "metadata": {},
   "outputs": [],
   "source": [
    "def get_db_summary(r, y, d, conn):\n",
    "    \n",
    "    summary_counts = {}\n",
    "    \n",
    "    if d == 'households':\n",
    "        rows_query = \"\"\"\n",
    "        SELECT SUM(CAST(NP AS INT)) AS NP, SUM(CAST(VEH AS INT)) AS VEH\n",
    "          FROM [acs].[pums].[{}_{}_{}]\n",
    "        \"\"\".format(r, y if r == '1y' else '{}_{}'.format(str(int(y)-4), y), d)\n",
    "        \n",
    "    elif d == 'persons':\n",
    "        rows_query = \"\"\"\n",
    "        SELECT SUM(CAST(OIP AS INT)) AS OIP, SUM(CAST(WKHP AS INT)) AS WKHP\n",
    "          FROM [acs].[pums].[{}_{}_{}]\n",
    "        \"\"\".format(r, y if r == '1y' else '{}_{}'.format(str(int(y)-4), y), d)\n",
    "        \n",
    "\n",
    "    rows = pd.read_sql_query(rows_query, con=conn)\n",
    "    for col in rows.columns:\n",
    "        summary_counts[col] = rows[col][0]\n",
    "    \n",
    "    print('----database sample: [{}_{}_{}]'.format(r, y if r == '1y' else '{}_{}'.format(str(int(y)-4), y), d))\n",
    "    return summary_counts\n",
    "\n",
    "\n",
    "def get_pums_summary(r, y, d):\n",
    "    path = r'C:\\Users\\jchu\\OneDrive - San Diego Association of Governments\\Projects\\2024\\2024-009 ACS PUMS ETL 1Y and 5Y 2010 - 2022\\Data'\n",
    "    with zipfile.ZipFile(path + r\"\\{} {}r PUMS\\raw\\csv_{}.zip\".format(y if r == '1y' else '{}-{}'.format(str(int(y)-4), y), r, 'hus' if d =='households' else 'pus')) as z:\n",
    "        \n",
    "        #check 4\n",
    "        summary_counts = None\n",
    "        for text_file in z.infolist():\n",
    "            if text_file.filename.endswith('.csv'):\n",
    "                df = pl.read_csv(z.open(text_file, mode='r').read(),\n",
    "                                dtypes = {'SERIALNO':str},\n",
    "                                null_values=['N.A.']).lazy()\n",
    "                \n",
    "                # check 4\n",
    "                if d == 'households':\n",
    "                    counts = df.select(['NP', 'VEH']).sum().collect()\n",
    "                    if summary_counts is None:\n",
    "                        summary_counts = {'NP':0, 'VEH':0}\n",
    "                        \n",
    "                    summary_counts['NP'] += counts['NP'][0] if counts['NP'][0] is not None else 0\n",
    "                    summary_counts['VEH'] += counts['VEH'][0] if counts['VEH'][0] is not None else 0\n",
    "                        \n",
    "                elif d == 'persons':\n",
    "                    counts = df.select(['SPORDER', 'WKHP']).sum().collect()\n",
    "                    if summary_counts is None:\n",
    "                        summary_counts = {'SPORDER':0, 'WKHP':0}\n",
    "                        \n",
    "                    summary_counts['SPORDER'] += counts['SPORDER'][0] if counts['SPORDER'][0] is not None else 0\n",
    "                    summary_counts['WKHP'] += counts['WKHP'][0] if counts['WKHP'][0] is not None else 0\n",
    "    return summary_counts\n",
    "\n",
    "\n",
    "def compare_summaries(r, y, d, conn):\n",
    "    source_summary = get_pums_summary(r, y, d)\n",
    "    db_summary = get_db_summary(r, y, d, conn)\n",
    "    \n",
    "    source_comparisons = {}\n",
    "    print(source_summary)\n",
    "    print(db_summary)\n",
    "    for key in source_summary.keys():\n",
    "        source_comparisons[key]=source_summary[key] == db_summary[key]\n",
    "    return source_comparisons"
   ]
  },
  {
   "cell_type": "code",
   "execution_count": null,
   "id": "c666dd2c",
   "metadata": {},
   "outputs": [],
   "source": [
    "# year_ranges = ['1y']\n",
    "year_ranges = ['5y']\n",
    "# years = ['2010', '2011']\n",
    "# years = ['2012', '2013']\n",
    "# years = ['2014', '2015']\n",
    "# years = ['2016', '2017']\n",
    "# years = ['2018', '2019']\n",
    "# years = ['2020']\n",
    "years = ['2021', '2022']\n",
    "data_types = ['persons', 'households']"
   ]
  },
  {
   "cell_type": "code",
   "execution_count": null,
   "id": "b229b3b1",
   "metadata": {
    "scrolled": true
   },
   "outputs": [],
   "source": [
    "for year_range in year_ranges:\n",
    "    for year in years:\n",
    "        if year_range == '1y' and year == '2020':\n",
    "            continue\n",
    "        elif year_range == '5y' and year == '2020':\n",
    "            continue\n",
    "        elif year_range == '5y' and year == '2021':\n",
    "            continue\n",
    "        else:\n",
    "            for data_type in data_types:\n",
    "                print(get_pums_summary(year_range, year, data_type))\n",
    "                print('----source sample: [{}_{}_{}]'.format(year_range, year if year_range == '1y' else '{}_{}'.format(str(int(year)-4), year), data_type))"
   ]
  },
  {
   "cell_type": "code",
   "execution_count": null,
   "id": "2e28206b",
   "metadata": {},
   "outputs": [],
   "source": []
  },
  {
   "cell_type": "code",
   "execution_count": null,
   "id": "03bf3532",
   "metadata": {},
   "outputs": [],
   "source": []
  },
  {
   "cell_type": "code",
   "execution_count": null,
   "id": "341a4603",
   "metadata": {},
   "outputs": [],
   "source": []
  },
  {
   "cell_type": "markdown",
   "id": "dd461c7e",
   "metadata": {},
   "source": [
    "# Specific Checks for outlier J drive data"
   ]
  },
  {
   "cell_type": "code",
   "execution_count": 64,
   "id": "ff820328",
   "metadata": {},
   "outputs": [],
   "source": [
    "a = pl.scan_csv(r'J:\\DataScience\\DataScience&Analytics\\PUMS ETL\\2017-2021 5yr PUMS\\raw\\psam_pusa.csv',\n",
    "               dtypes = {'SERIALNO':str},\n",
    "                null_values=['N.A.'])\n",
    "b = pl.scan_csv(r'J:\\DataScience\\DataScience&Analytics\\PUMS ETL\\2017-2021 5yr PUMS\\raw\\psam_pusb.csv',\n",
    "               dtypes = {'SERIALNO':str},\n",
    "                null_values=['N.A.'])\n",
    "c = pl.scan_csv(r'J:\\DataScience\\DataScience&Analytics\\PUMS ETL\\2017-2021 5yr PUMS\\raw\\psam_pusc.csv',\n",
    "               dtypes = {'SERIALNO':str},\n",
    "                null_values=['N.A.'])\n",
    "d_df = pl.scan_csv(r'J:\\DataScience\\DataScience&Analytics\\PUMS ETL\\2017-2021 5yr PUMS\\raw\\psam_pusd.csv',\n",
    "               dtypes = {'SERIALNO':str},\n",
    "                null_values=['N.A.'])"
   ]
  },
  {
   "cell_type": "code",
   "execution_count": 65,
   "id": "e8edb33f",
   "metadata": {},
   "outputs": [
    {
     "data": {
      "text/plain": [
       "(4579396, 287)"
      ]
     },
     "execution_count": 65,
     "metadata": {},
     "output_type": "execute_result"
    }
   ],
   "source": [
    "a.collect().shape"
   ]
  },
  {
   "cell_type": "code",
   "execution_count": 66,
   "id": "cabf3616",
   "metadata": {
    "scrolled": true
   },
   "outputs": [
    {
     "data": {
      "text/plain": [
       "(3382643, 287)"
      ]
     },
     "execution_count": 66,
     "metadata": {},
     "output_type": "execute_result"
    }
   ],
   "source": [
    "b.collect().shape"
   ]
  },
  {
   "cell_type": "code",
   "execution_count": 67,
   "id": "cc6184be",
   "metadata": {},
   "outputs": [
    {
     "data": {
      "text/plain": [
       "(3640306, 287)"
      ]
     },
     "execution_count": 67,
     "metadata": {},
     "output_type": "execute_result"
    }
   ],
   "source": [
    "c.collect().shape"
   ]
  },
  {
   "cell_type": "code",
   "execution_count": 68,
   "id": "cf6ff991",
   "metadata": {},
   "outputs": [
    {
     "data": {
      "text/plain": [
       "(3935440, 287)"
      ]
     },
     "execution_count": 68,
     "metadata": {},
     "output_type": "execute_result"
    }
   ],
   "source": [
    "d_df.collect().shape"
   ]
  },
  {
   "cell_type": "code",
   "execution_count": 69,
   "id": "578da4ee",
   "metadata": {},
   "outputs": [
    {
     "name": "stdout",
     "output_type": "stream",
     "text": [
      "True\n",
      "True\n",
      "True\n"
     ]
    },
    {
     "data": {
      "text/plain": [
       "True"
      ]
     },
     "execution_count": 69,
     "metadata": {},
     "output_type": "execute_result"
    }
   ],
   "source": [
    "print(a.columns == b.columns)\n",
    "print(a.columns == c.columns)\n",
    "print(a.columns == d_df.columns)\n",
    "\n",
    "\n",
    "q = \"\"\"\n",
    "SELECT COLUMN_NAME\n",
    "FROM INFORMATION_SCHEMA.COLUMNS\n",
    "WHERE TABLE_NAME = '5y_2017_2021_persons'\n",
    "\"\"\"\n",
    "\n",
    "dbq = set(pd.read_sql_query(q, con=conn).COLUMN_NAME)\n",
    "\n",
    "len(dbq) == len(dbq.union(set(a.columns)))"
   ]
  },
  {
   "cell_type": "code",
   "execution_count": 70,
   "id": "ecba408c",
   "metadata": {},
   "outputs": [
    {
     "data": {
      "text/plain": [
       "{'SPORDER': 32172156, 'WKHP': 304592879}"
      ]
     },
     "execution_count": 70,
     "metadata": {},
     "output_type": "execute_result"
    }
   ],
   "source": [
    "d = 'persons'\n",
    "summary_counts = None\n",
    "for df in [a, b, c, d_df]:\n",
    "        # check 4\n",
    "        if d == 'households':\n",
    "            counts = df.select(['NP', 'VEH']).sum().collect()\n",
    "            if summary_counts is None:\n",
    "                summary_counts = {'NP':0, 'VEH':0}\n",
    "\n",
    "            summary_counts['NP'] += counts['NP'][0] if counts['NP'][0] is not None else 0\n",
    "            summary_counts['VEH'] += counts['VEH'][0] if counts['VEH'][0] is not None else 0\n",
    "\n",
    "        elif d == 'persons':\n",
    "            counts = df.select(['SPORDER', 'WKHP']).sum().collect()\n",
    "            if summary_counts is None:\n",
    "                summary_counts = {'SPORDER':0, 'WKHP':0}\n",
    "\n",
    "            summary_counts['SPORDER'] += counts['SPORDER'][0] if counts['SPORDER'][0] is not None else 0\n",
    "            summary_counts['WKHP'] += counts['WKHP'][0] if counts['WKHP'][0] is not None else 0\n",
    "summary_counts"
   ]
  },
  {
   "cell_type": "code",
   "execution_count": null,
   "id": "22368aeb",
   "metadata": {},
   "outputs": [],
   "source": []
  },
  {
   "cell_type": "code",
   "execution_count": null,
   "id": "d91f917b",
   "metadata": {},
   "outputs": [],
   "source": []
  },
  {
   "cell_type": "code",
   "execution_count": null,
   "id": "de03000b",
   "metadata": {},
   "outputs": [],
   "source": []
  },
  {
   "cell_type": "code",
   "execution_count": null,
   "id": "8bd51150",
   "metadata": {},
   "outputs": [],
   "source": []
  },
  {
   "cell_type": "code",
   "execution_count": null,
   "id": "75265521",
   "metadata": {},
   "outputs": [],
   "source": []
  },
  {
   "cell_type": "code",
   "execution_count": 71,
   "id": "860c02e8",
   "metadata": {},
   "outputs": [],
   "source": [
    "def get_source_sample(lazies):\n",
    "    sample_df = None\n",
    "    N = 10000//len(lazies)\n",
    "    for df in lazies:\n",
    "        if sample_df is not None:\n",
    "            sample_df = pd.concat([sample_df, df.limit(n=N).collect().to_pandas()])\n",
    "        else:\n",
    "            sample_df = df.limit(n=N).collect().to_pandas()\n",
    "    sample_df.columns = sample_df.columns.str.lower()\n",
    "    return sample_df\n",
    "    \n",
    "def get_db_sample(r, y, d, serialnos, conn):\n",
    "    serialnos = list(serialnos)\n",
    "    rows_query = f\"\"\"\n",
    "    SELECT * FROM [acs].[pums].[{r}_{y if r == '1y' else '{}_{}'.format(str(int(y)-4), y)}_{d}] WHERE SERIALNO IN\n",
    "    (SELECT SERIALNO\n",
    "    FROM [acs].[pums].[{r}_{y if r == '1y' else '{}_{}'.format(str(int(y)-4), y)}_{d}]\n",
    "    WHERE SERIALNO IN ({','.join(serialnos)}))\n",
    "    \"\"\"\n",
    "    \n",
    "    if d == 'persons':\n",
    "        rows_query = \"\"\"\n",
    "        SELECT *\n",
    "        FROM [acs].[pums].[{}_{}_{}]\n",
    "        WHERE CONCAT(SERIALNO, '|', SPORDER) IN ({})\n",
    "        \"\"\".format(r, y if r == '1y' else '{}_{}'.format(str(int(y)-4), y), d, ','.join(serialnos))\n",
    "    print(rows_query)\n",
    "    rows = pd.read_sql_query(rows_query, con=conn)\n",
    "\n",
    "    print('----database sample: [{}_{}_{}]'.format(r, y if r == '1y' else '{}_{}'.format(str(int(y)-4), y), d))\n",
    "    rows.columns = rows.columns.str.lower()\n",
    "    return rows\n",
    "\n",
    "def compare_samples(r, y, d, conn):\n",
    "    source = get_source_sample(r, y, d)\n",
    "    \n",
    "    key = ['serialno']\n",
    "    if d == 'persons':\n",
    "        key.append('sporder')\n",
    "    \n",
    "    if d == \"persons\":\n",
    "        serialnos = map(lambda x: \"'\"+str(x[0])+'|'+str(x[1])+\"'\", source[key].values)\n",
    "    else:\n",
    "        serialnos = map(lambda x: \"'\" + x + \"'\", source['serialno'].to_list())\n",
    "    print('serialno completed')\n",
    "    db = get_db_sample(r, y, d, serialnos, conn)\n",
    "    \n",
    "    \n",
    "    compare_source = source.sort_values(key).set_index(key)\n",
    "    compare_db = db.astype(compare_source.dtypes).sort_values(key).set_index(key)\n",
    "    \n",
    "    compare = (compare_db.replace(np.nan, 'NA') != compare_source.replace(np.NaN, 'NA'))\n",
    "    change_cols = []\n",
    "    for col in compare.columns:\n",
    "        if compare[col].sum()>0:\n",
    "            change_cols.append(col)\n",
    "    \n",
    "    compare_db[change_cols] = compare_db[change_cols].apply(pd.to_numeric)\n",
    "    compare_source[change_cols] = compare_source[change_cols].apply(pd.to_numeric)\n",
    "    mismatch = (compare_db.replace(np.nan, 'NA') != compare_source.replace(np.NaN, 'NA')).sum().sum()\n",
    "    \n",
    "    return \"{} mismatches found in {}_{}_{}\".format(mismatch, r, y, d)"
   ]
  },
  {
   "cell_type": "code",
   "execution_count": 72,
   "id": "2d82bb2f",
   "metadata": {},
   "outputs": [],
   "source": [
    "lazies = get_source_sample([a, b, c, d_df])"
   ]
  },
  {
   "cell_type": "code",
   "execution_count": 73,
   "id": "aaa51556",
   "metadata": {},
   "outputs": [
    {
     "name": "stdout",
     "output_type": "stream",
     "text": [
      "\n",
      "        SELECT *\n",
      "        FROM [acs].[pums].[5y_2017_2021_persons]\n",
      "        WHERE CONCAT(SERIALNO, '|', SPORDER) IN ('2017000000016|1','2017000000031|1','2017000000061|1','2017000000061|2','2017000000061|3','2017000000158|1','2017000000158|2','2017000000158|3','2017000000158|4','2017000000158|5','2017000000159|1','2017000000159|2','2017000000159|3','2017000000174|1','2017000000174|2','2017000000174|3','2017000000222|1','2017000000436|1','2017000000436|2','2017000000573|1','2017000000573|2','2017000000573|3','2017000000645|1','2017000000654|1','2017000000654|2','2017000000654|3','2017000000654|4','2017000000654|5','2017000000691|1','2017000000691|2','2017000000691|3','2017000000691|4','2017000000691|5','2017000000695|1','2017000000695|2','2017000000695|3','2017000000695|4','2017000000695|5','2017000000776|1','2017000000776|2','2017000000780|1','2017000000799|1','2017000000799|2','2017000000812|1','2017000000812|2','2017000001036|1','2017000001036|2','2017000001036|3','2017000001331|1','2017000001331|2','2017000001331|3','2017000001331|4','2017000001565|1','2017000001565|2','2017000001602|1','2017000001602|2','2017000001602|3','2017000001602|4','2017000001658|1','2017000001658|2','2017000001658|3','2017000001658|4','2017000001658|5','2017000001658|6','2017000001707|1','2017000001707|2','2017000001707|3','2017000001707|4','2017000001841|1','2017000001841|2','2017000001841|3','2017000001923|1','2017000001923|2','2017000001945|1','2017000001945|2','2017000001954|1','2017000001971|1','2017000001971|2','2017000001971|3','2017000001971|4','2017000002132|1','2017000002132|2','2017000002132|3','2017000002132|4','2017000002346|1','2017000002346|2','2017000002390|1','2017000002390|2','2017000002390|3','2017000002390|4','2017000002510|1','2017000002510|2','2017000002510|3','2017000002510|4','2017000002729|1','2017000002729|2','2017000002776|1','2017000002776|2','2017000002979|1','2017000003125|1','2017000003125|2','2017000003184|1','2017000003184|2','2017000003290|1','2017000003290|2','2017000003311|1','2017000003311|2','2017000003311|3','2017000003311|4','2017000003399|1','2017000003399|2','2017000003485|1','2017000003485|2','2017000003485|3','2017000003485|4','2017000003530|1','2017000003530|2','2017000003542|1','2017000003542|2','2017000003606|1','2017000003606|2','2017000003715|1','2017000003715|2','2017000003715|3','2017000003998|1','2017000003998|2','2017000003998|3','2017000003998|4','2017000003998|5','2017000003998|6','2017000004132|1','2017000004132|2','2017000004147|1','2017000004147|2','2017000004237|1','2017000004237|2','2017000004269|1','2017000004269|2','2017000004315|1','2017000004315|2','2017000004330|1','2017000004330|2','2017000004330|3','2017000004330|4','2017000004330|5','2017000004386|1','2017000004386|2','2017000004386|3','2017000004386|4','2017000004451|1','2017000004582|1','2017000004582|2','2017000004584|1','2017000004584|2','2017000004584|3','2017000004584|4','2017000004617|1','2017000004617|2','2017000004677|1','2017000004677|2','2017000004693|1','2017000004693|2','2017000004771|1','2017000004771|2','2017000004811|1','2017000004842|1','2017000004842|2','2017000004852|1','2017000004852|2','2017000004914|1','2017000004914|2','2017000004925|1','2017000005013|1','2017000005035|1','2017000005040|1','2017000005086|1','2017000005086|2','2017000005117|1','2017000005154|1','2017000005154|2','2017000005154|3','2017000005154|4','2017000005178|1','2017000005178|2','2017000005178|3','2017000005219|1','2017000005219|2','2017000005220|1','2017000005358|1','2017000005358|2','2017000005358|3','2017000005358|4','2017000005527|1','2017000005527|2','2017000005530|1','2017000005530|2','2017000005530|3','2017000005546|1','2017000005547|1','2017000005547|2','2017000005547|3','2017000005602|1','2017000005602|2','2017000005733|1','2017000005733|2','2017000005733|3','2017000005733|4','2017000005733|5','2017000005733|6','2017000005811|1','2017000005811|2','2017000005811|3','2017000005811|4','2017000005815|1','2017000005815|2','2017000005815|3','2017000005815|4','2017000005832|1','2017000005832|2','2017000005832|3','2017000005832|4','2017000005832|5','2017000005832|6','2017000005832|7','2017000005886|1','2017000005886|2','2017000005886|3','2017000005886|4','2017000005886|5','2017000005956|1','2017000005956|2','2017000005956|3','2017000005989|1','2017000005989|2','2017000006011|1','2017000006011|2','2017000006014|1','2017000006027|1','2017000006027|2','2017000006137|1','2017000006137|2','2017000006147|1','2017000006147|2','2017000006147|3','2017000006147|4','2017000006147|5','2017000006375|1','2017000006460|1','2017000006460|2','2017000006460|3','2017000006470|1','2017000006614|1','2017000006645|1','2017000006650|1','2017000006650|2','2017000006650|3','2017000006650|4','2017000006650|5','2017000006650|6','2017000006675|1','2017000006748|1','2017000006748|2','2017000006748|3','2017000006748|4','2017000006800|1','2017000006800|2','2017000006800|3','2017000006843|1','2017000006843|2','2017000006941|1','2017000006941|2','2017000006941|3','2017000006987|1','2017000006987|2','2017000006989|1','2017000006994|1','2017000007176|1','2017000007176|2','2017000007176|3','2017000007176|4','2017000007178|1','2017000007178|2','2017000007238|1','2017000007238|2','2017000007238|3','2017000007376|1','2017000007376|2','2017000007408|1','2017000007408|2','2017000007408|3','2017000007430|1','2017000007430|2','2017000007468|1','2017000007468|2','2017000007468|3','2017000007546|1','2017000007546|2','2017000007546|3','2017000007546|4','2017000007592|1','2017000007592|2','2017000007592|3','2017000007735|1','2017000007735|2','2017000007848|1','2017000007848|2','2017000007848|3','2017000007848|4','2017000007990|1','2017000008136|1','2017000008136|2','2017000008167|1','2017000008313|1','2017000008336|1','2017000008394|1','2017000008394|2','2017000008394|3','2017000008394|4','2017000008394|5','2017000008587|1','2017000008587|2','2017000008587|3','2017000008695|1','2017000008695|2','2017000008746|1','2017000008746|2','2017000008787|1','2017000008787|2','2017000008866|1','2017000008866|2','2017000008966|1','2017000008966|2','2017000009091|1','2017000009091|2','2017000009092|1','2017000009092|2','2017000009120|1','2017000009138|1','2017000009138|2','2017000009404|1','2017000009498|1','2017000009498|2','2017000009506|1','2017000009506|2','2017000009506|3','2017000009593|1','2017000009593|2','2017000009593|3','2017000009600|1','2017000009600|2','2017000009600|3','2017000009600|4','2017000009664|1','2017000009664|2','2017000009664|3','2017000009664|4','2017000009664|5','2017000009674|1','2017000009674|2','2017000009706|1','2017000009706|2','2017000009706|3','2017000009753|1','2017000009753|2','2017000009753|3','2017000009753|4','2017000009753|5','2017000009753|6','2017000009753|7','2017000009854|1','2017000009921|1','2017000009921|2','2017000009921|3','2017000009979|1','2017000009979|2','2017000009979|3','2017000009995|1','2017000010044|1','2017000010046|1','2017000010046|2','2017000010240|1','2017000010240|2','2017000010251|1','2017000010251|2','2017000010425|1','2017000010425|2','2017000010425|3','2017000010428|1','2017000010428|2','2017000010428|3','2017000010441|1','2017000010441|2','2017000010441|3','2017000010487|1','2017000010487|2','2017000010703|1','2017000010730|1','2017000010730|2','2017000010878|1','2017000010911|1','2017000010911|2','2017000011007|1','2017000011007|2','2017000011008|1','2017000011276|1','2017000011276|2','2017000011276|3','2017000011309|1','2017000011309|2','2017000011368|1','2017000011368|2','2017000011368|3','2017000011473|1','2017000011473|2','2017000011517|1','2017000011517|2','2017000011584|1','2017000011584|2','2017000011584|3','2017000011628|1','2017000011628|2','2017000011628|3','2017000011725|1','2017000011752|1','2017000011752|2','2017000011752|3','2017000011856|1','2017000011856|2','2017000011926|1','2017000011926|2','2017000011962|1','2017000012057|1','2017000012057|2','2017000012156|1','2017000012156|2','2017000012203|1','2017000012203|2','2017000012356|1','2017000012356|2','2017000012387|1','2017000012387|2','2017000012474|1','2017000012474|2','2017000012594|1','2017000012594|2','2017000012594|3','2017000012594|4','2017000012809|1','2017000012945|1','2017000012945|2','2017000013014|1','2017000013014|2','2017000013014|3','2017000013068|1','2017000013068|2','2017000013068|3','2017000013068|4','2017000013087|1','2017000013087|2','2017000013120|1','2017000013137|1','2017000013137|2','2017000013137|3','2017000013137|4','2017000013137|5','2017000013138|1','2017000013182|1','2017000013182|2','2017000013336|1','2017000013336|2','2017000013336|3','2017000013336|4','2017000013464|1','2017000013464|2','2017000013464|3','2017000013501|1','2017000013501|2','2017000013501|3','2017000013501|4','2017000013501|5','2017000013667|1','2017000013667|2','2017000013889|1','2017000013889|2','2017000013889|3','2017000014127|1','2017000014127|2','2017000014205|1','2017000014205|2','2017000014205|3','2017000014309|1','2017000014309|2','2017000014309|3','2017000014309|4','2017000014324|1','2017000014324|2','2017000014360|1','2017000014360|2','2017000014360|3','2017000014360|4','2017000014474|1','2017000014474|2','2017000014474|3','2017000014580|1','2017000014580|2','2017000014580|3','2017000014641|1','2017000014641|2','2017000014641|3','2017000014641|4','2017000014723|1','2017000014745|1','2017000014745|2','2017000014745|3','2017000014745|4','2017000014810|1','2017000014810|2','2017000014810|3','2017000014863|1','2017000014863|2','2017000014894|1','2017000014898|1','2017000014898|2','2017000014951|1','2017000014951|2','2017000014951|3','2017000014978|1','2017000014978|2','2017000014978|3','2017000015116|1','2017000015116|2','2017000015188|1','2017000015188|2','2017000015188|3','2017000015188|4','2017000015188|5','2017000015291|1','2017000015291|2','2017000015338|1','2017000015338|2','2017000015338|3','2017000015338|4','2017000015359|1','2017000015360|1','2017000015360|2','2017000015614|1','2017000015614|2','2017000015614|3','2017000015699|1','2017000015706|1','2017000015706|2','2017000015706|3','2017000015764|1','2017000015764|2','2017000015827|1','2017000015873|1','2017000015886|1','2017000015886|2','2017000015965|1','2017000015965|2','2017000016051|1','2017000016051|2','2017000016051|3','2017000016051|4','2017000016051|5','2017000016051|6','2017000016203|1','2017000016203|2','2017000016203|3','2017000016203|4','2017000016203|5','2017000016203|6','2017000016337|1','2017000016337|2','2017000016337|3','2017000016337|4','2017000016352|1','2017000016352|2','2017000016356|1','2017000016356|2','2017000016356|3','2017000016356|4','2017000016356|5','2017000016628|1','2017000016635|1','2017000016635|2','2017000016978|1','2017000016978|2','2017000017107|1','2017000017145|1','2017000017145|2','2017000017145|3','2017000017271|1','2017000017271|2','2017000017271|3','2017000017271|4','2017000017326|1','2017000017326|2','2017000017326|3','2017000017374|1','2017000017374|2','2017000017463|1','2017000017463|2','2017000017463|3','2017000017463|4','2017000017475|1','2017000017475|2','2017000017475|3','2017000017513|1','2017000017543|1','2017000017543|2','2017000017613|1','2017000017613|2','2017000017633|1','2017000017638|1','2017000017638|2','2017000017638|3','2017000017638|4','2017000017729|1','2017000017800|1','2017000017800|2','2017000017876|1','2017000017932|1','2017000018134|1','2017000018134|2','2017000018134|3','2017000018134|4','2017000018134|5','2017000018147|1','2017000018147|2','2017000018172|1','2017000018172|2','2017000018172|3','2017000018172|4','2017000018253|1','2017000018341|1','2017000018341|2','2017000018439|1','2017000018439|2','2017000018439|3','2017000018439|4','2017000018439|5','2017000018439|6','2017000018472|1','2017000018472|2','2017000018472|3','2017000018606|1','2017000018606|2','2017000018733|1','2017000018733|2','2017000018808|1','2017000018808|2','2017000018949|1','2017000018949|2','2017000018949|3','2017000018949|4','2017000018949|5','2017000018996|1','2017000018996|2','2017000018996|3','2017000019081|1','2017000019081|2','2017000019151|1','2017000019151|2','2017000019162|1','2017000019221|1','2017000019221|2','2017000019238|1','2017000019238|2','2017000019238|3','2017000019238|4','2017000019288|1','2017000019288|2','2017000019288|3','2017000019375|1','2017000019523|1','2017000019523|2','2017000019550|1','2017000019550|2','2017000019576|1','2017000019576|2','2017000019576|3','2017000019576|4','2017000019576|5','2017000019576|6','2017000019714|1','2017000019716|1','2017000019716|2','2017000019716|3','2017000019716|4','2017000019745|1','2017000019745|2','2017000019747|1','2017000019800|1','2017000019800|2','2017000019800|3','2017000019896|1','2017000019896|2','2017000019896|3','2017000019896|4','2017000019971|1','2017000019971|2','2017000020041|1','2017000020213|1','2017000020337|1','2017000020337|2','2017000020337|3','2017000020415|1','2017000020415|2','2017000020415|3','2017000020610|1','2017000020610|2','2017000020613|1','2017000020613|2','2017000020613|3','2017000020653|1','2017000020653|2','2017000020669|1','2017000020669|2','2017000020890|1','2017000020896|1','2017000020896|2','2017000020916|1','2017000020935|1','2017000020939|1','2017000020939|2','2017000021081|1','2017000021351|1','2017000021351|2','2017000021351|3','2017000021351|4','2017000021392|1','2017000021397|1','2017000021432|1','2017000021432|2','2017000021432|3','2017000021463|1','2017000021463|2','2017000021463|3','2017000021483|1','2017000021646|1','2017000021646|2','2017000021712|1','2017000021712|2','2017000021712|3','2017000021745|1','2017000021745|2','2017000021767|1','2017000021767|2','2017000021774|1','2017000021774|2','2017000021819|1','2017000021846|1','2017000021846|2','2017000021846|3','2017000021846|4','2017000021861|1','2017000021861|2','2017000021861|3','2017000021931|1','2017000021958|1','2017000021989|1','2017000021989|2','2017000021989|3','2017000021989|4','2017000021989|5','2017000022063|1','2017000022063|2','2017000022063|3','2017000022080|1','2017000022080|2','2017000022080|3','2017000022080|4','2017000022080|5','2017000022173|1','2017000022173|2','2017000022173|3','2017000022354|1','2017000022354|2','2017000022354|3','2017000022384|1','2017000022384|2','2017000022571|1','2017000022571|2','2017000022571|3','2017000022571|4','2017000022615|1','2017000022696|1','2017000022699|1','2017000022699|2','2017000022699|3','2017000022699|4','2017000022699|5','2017000022699|6','2017000022773|1','2017000022773|2','2017000022773|3','2017000022778|1','2017000022787|1','2017000022787|2','2017000022787|3','2017000022920|1','2017000022956|1','2017000023063|1','2017000023063|2','2017000023063|3','2017000023205|1','2017000023205|2','2017000023205|3','2017000023205|4','2017000023205|5','2017000023303|1','2017000023303|2','2017000023303|3','2017000023421|1','2017000023421|2','2017000023422|1','2017000023422|2','2017000023488|1','2017000023488|2','2017000023638|1','2017000023638|2','2017000023753|1','2017000023753|2','2017000023753|3','2017000023755|1','2017000023765|1','2017000023880|1','2017000023880|2','2017000023905|1','2017000023905|2','2017000023905|3','2017000023905|4','2017000023916|1','2017000023916|2','2017000024030|1','2017000024030|2','2017000024030|3','2017000024048|1','2017000024132|1','2017000024132|2','2017000024316|1','2017000024500|1','2017000024500|2','2017000024531|1','2017000024531|2','2017000024555|1','2017000024580|1','2017000024580|2','2017000024580|3','2017000024616|1','2017000024616|2','2017000024700|1','2017000024700|2','2017000024700|3','2017000024700|4','2017000024700|5','2017000024777|1','2017000024777|2','2017000024951|1','2017000024951|2','2017000024951|3','2017000025008|1','2017000025008|2','2017000025248|1','2017000025331|1','2017000025487|1','2017000025487|2','2017000025487|3','2017000025487|4','2017000025504|1','2017000025504|2','2017000025547|1','2017000025547|2','2017000025596|1','2017000025596|2','2017000025596|3','2017000025641|1','2017000025641|2','2017000025677|1','2017000025684|1','2017000025684|2','2017000025804|1','2017000025804|2','2017000025828|1','2017000025828|2','2017000025841|1','2017000025841|2','2017000025905|1','2017000026048|1','2017000026113|1','2017000026113|2','2017000026172|1','2017000026172|2','2017000026212|1','2017000026212|2','2017000026235|1','2017000026235|2','2017000026235|3','2017000026235|4','2017000026235|5','2017000026253|1','2017000026253|2','2017000026338|1','2017000026862|1','2017000026862|2','2017000026862|3','2017000026874|1','2017000026888|1','2017000026982|1','2017000026982|2','2017000026982|3','2017000026982|4','2017000027066|1','2017000027066|2','2017000027066|3','2017000027066|4','2017000027133|1','2017000027196|1','2017000027196|2','2017000027242|1','2017000027242|2','2017000027242|3','2017000027242|4','2017000027242|5','2017000027389|1','2017000027389|2','2017000027389|3','2017000027389|4','2017000027389|5','2017000027502|1','2017000027502|2','2017000027502|3','2017000027502|4','2017000027508|1','2017000027643|1','2017000027670|1','2017000027670|2','2017000027687|1','2017000027687|2','2017000027747|1','2017000027750|1','2017000027750|2','2017000028007|1','2017000028030|1','2017000028030|2','2017000028186|1','2017000028271|1','2017000028271|2','2017000028271|3','2017000028442|1','2017000028442|2','2017000028442|3','2017000028780|1','2017000028780|2','2017000028780|3','2017000028826|1','2017000028826|2','2017000028826|3','2017000028896|1','2017000028896|2','2017000028903|1','2017000028903|2','2017000028903|3','2017000028931|1','2017000029024|1','2017000029024|2','2017000029024|3','2017000029129|1','2017000029230|1','2017000029265|1','2017000029353|1','2017000029353|2','2017000029369|1','2017000029369|2','2017000029369|3','2017000029369|4','2017000029369|5','2017000029369|6','2017000029369|7','2017000029413|1','2017000029413|2','2017000029473|1','2017000029473|2','2017000029571|1','2017000029571|2','2017000029571|3','2017000029588|1','2017000029593|1','2017000029593|2','2017000029884|1','2017000030002|1','2017000030009|1','2017000030009|2','2017000030148|1','2017000030148|2','2017000030148|3','2017000030202|1','2017000030352|1','2017000030452|1','2017000030478|1','2017000030505|1','2017000030505|2','2017000030521|1','2017000030521|2','2017000030624|1','2017000030624|2','2017000030624|3','2017000030669|1','2017000030669|2','2017000030748|1','2017000030748|2','2017000030748|3','2017000030748|4','2017000030748|5','2017000030822|1','2017000030822|2','2017000030822|3','2017000030822|4','2017000030911|1','2017000030911|2','2017000030995|1','2017000030995|2','2017000030995|3','2017000031060|1','2017000031060|2','2017000031060|3','2017000031060|4','2017000031060|5','2017000031125|1','2017000031125|2','2017000031125|3','2017000031352|1','2017000031352|2','2017000031352|3','2017000031352|4','2017000031528|1','2017000031571|1','2017000031571|2','2017000031571|3','2017000031571|4','2017000031773|1','2017000031773|2','2017000031773|3','2017000031773|4','2017000031788|1','2017000031788|2','2017000031788|3','2017000031839|1','2017000031839|2','2017000031839|3','2017000031916|1','2017000032018|1','2017000032018|2','2017000032018|3','2017000032026|1','2017000032026|2','2017000032147|1','2017000032166|1','2017000032166|2','2017000032166|3','2017000032166|4','2017000032178|1','2017000032178|2','2017000032178|3','2017000032178|4','2017000032296|1','2017000032296|2','2017000032296|3','2017000032296|4','2017000032396|1','2017000032400|1','2017000032495|1','2017000032495|2','2017000032495|3','2017000032495|4','2017000032495|5','2017000032614|1','2017000032614|2','2017000032614|3','2017000032709|1','2017000032709|2','2017000032816|1','2017000032816|2','2017000032918|1','2017000032932|1','2017000032932|2','2017000033019|1','2017000033019|2','2017000033096|1','2017000033096|2','2017000033107|1','2017000033185|1','2017000033185|2','2017000033185|3','2017000033185|4','2017000033248|1','2017000033358|1','2017000033440|1','2017000033440|2','2017000033602|1','2017000033602|2','2017000033730|1','2017000033730|2','2017000033730|3','2017000033730|4','2017000033745|1','2017000033745|2','2017000033765|1','2017000033939|1','2017000034266|1','2017000034268|1','2017000034268|2','2017000034332|1','2017000034332|2','2017000034336|1','2017000034336|2','2017000034354|1','2017000034354|2','2017000034354|3','2017000034378|1','2017000034379|1','2017000034379|2','2017000034379|3','2017000034379|4','2017000034449|1','2017000034468|1','2017000034487|1','2017000034487|2','2017000034487|3','2017000034487|4','2017000034487|5','2017000034489|1','2017000034489|2','2017000034489|3','2017000034489|4','2017000034489|5','2017000034678|1','2017000034678|2','2017000034680|1','2017000034680|2','2017000034845|1','2017000035073|1','2017000035073|2','2017000035073|3','2017000035106|1','2017000035116|1','2017000035116|2','2017000035116|3','2017000035116|4','2017000035116|5','2017000035132|1','2017000035132|2','2017000035132|3','2017000035132|4','2017000035132|5','2017000035161|1','2017000035161|2','2017000035161|3','2017000035161|4','2017000035161|5','2017000035161|6','2017000035257|1','2017000035289|1','2017000035289|2','2017000035391|1','2017000035391|2','2017000035391|3','2017000035391|4','2017000035430|1','2017000035430|2','2017000035430|3','2017000035430|4','2017000035551|1','2017000035551|2','2017000035609|1','2017000035609|2','2017000035609|3','2017000035609|4','2017000035609|5','2017000035609|6','2017000035653|1','2017000035772|1','2017000035772|2','2017000035812|1','2017000035866|1','2017000035877|1','2017000035877|2','2017000035877|3','2017000035877|4','2017000035877|5','2017000035877|6','2017000035877|7','2017000035877|8','2017000035877|9','2017000035878|1','2017000035878|2','2017000035878|3','2017000035913|1','2017000035913|2','2017000035913|3','2017000035913|4','2017000035913|5','2017000035913|6','2017000035913|7','2017000035923|1','2017000035923|2','2017000035923|3','2017000035923|4','2017000035923|5','2017000035923|6','2017000035937|1','2017000036058|1','2017000036058|2','2017000036058|3','2017000036196|1','2017000036196|2','2017000036196|3','2017000036196|4','2017000036259|1','2017000036259|2','2017000036413|1','2017000036413|2','2017000036532|1','2017000036599|1','2017000036599|2','2017000036838|1','2017000036869|1','2017000036869|2','2017000036869|3','2017000036927|1','2017000036927|2','2017000036927|3','2017000036927|4','2017000036927|5','2017000036937|1','2017000037131|1','2017000037131|2','2017000037201|1','2017000037246|1','2017000037287|1','2017000037290|1','2017000037290|2','2017000037290|3','2017000037490|1','2017000037490|2','2017000037490|3','2017000037490|4','2017000037490|5','2017000037626|1','2017000000371|1','2017000000371|2','2017000000595|1','2017000000595|2','2017000000942|1','2017000000942|2','2017000001296|1','2017000001296|2','2017000001406|1','2017000001406|2','2017000001427|1','2017000001506|1','2017000001550|1','2017000001550|2','2017000001550|3','2017000001550|4','2017000001599|1','2017000001599|2','2017000001655|1','2017000001655|2','2017000001655|3','2017000001655|4','2017000001655|5','2017000001655|6','2017000001655|7','2017000001655|8','2017000001742|1','2017000001885|1','2017000001885|2','2017000001885|3','2017000002514|1','2017000002514|2','2017000002514|3','2017000002514|4','2017000002514|5','2017000002527|1','2017000002527|2','2017000002527|3','2017000002540|1','2017000002540|2','2017000002629|1','2017000002629|2','2017000002629|3','2017000002629|4','2017000002933|1','2017000002933|2','2017000002995|1','2017000002995|2','2017000003168|1','2017000003168|2','2017000003776|1','2017000003776|2','2017000003776|3','2017000004038|1','2017000004166|1','2017000004344|1','2017000004565|1','2017000004565|2','2017000004573|1','2017000004573|2','2017000004573|3','2017000004619|1','2017000004619|2','2017000004619|3','2017000004619|4','2017000004619|5','2017000004652|1','2017000004776|1','2017000004801|1','2017000004801|2','2017000004801|3','2017000004896|1','2017000004896|2','2017000004921|1','2017000004921|2','2017000004921|3','2017000004921|4','2017000004921|5','2017000004921|6','2017000004934|1','2017000004994|1','2017000005048|1','2017000005048|2','2017000005050|1','2017000005050|2','2017000005050|3','2017000005050|4','2017000005050|5','2017000005050|6','2017000005235|1','2017000005235|2','2017000005497|1','2017000005497|2','2017000005619|1','2017000005619|2','2017000005622|1','2017000005622|2','2017000005705|1','2017000005705|2','2017000005824|1','2017000005824|2','2017000005824|3','2017000007403|1','2017000007963|1','2017000007963|2','2017000008113|1','2017000008113|2','2017000008113|3','2017000008270|1','2017000008270|2','2017000008270|3','2017000008503|1','2017000008503|2','2017000008503|3','2017000008503|4','2017000008503|5','2017000008939|1','2017000008939|2','2017000009005|1','2017000009005|2','2017000009056|1','2017000009056|2','2017000009085|1','2017000009244|1','2017000009244|2','2017000009431|1','2017000009446|1','2017000009446|2','2017000009971|1','2017000009977|1','2017000009977|2','2017000009977|3','2017000009977|4','2017000009977|5','2017000010192|1','2017000010192|2','2017000010293|1','2017000010293|2','2017000010293|3','2017000010293|4','2017000010420|1','2017000010677|1','2017000010677|2','2017000010677|3','2017000010677|4','2017000010677|5','2017000010677|6','2017000010677|7','2017000010677|8','2017000010880|1','2017000010880|2','2017000010945|1','2017000010945|2','2017000010945|3','2017000011044|1','2017000011157|1','2017000011157|2','2017000011230|1','2017000011288|1','2017000011323|1','2017000011780|1','2017000011780|2','2017000011780|3','2017000011780|4','2017000011905|1','2017000011905|2','2017000011905|3','2017000011905|4','2017000011905|5','2017000012285|1','2017000012285|2','2017000012285|3','2017000012285|4','2017000012422|1','2017000012422|2','2017000012618|1','2017000012618|2','2017000012664|1','2017000012664|2','2017000012664|3','2017000012664|4','2017000012664|5','2017000013094|1','2017000013587|1','2017000013587|2','2017000013587|3','2017000013788|1','2017000013788|2','2017000013801|1','2017000013805|1','2017000014104|1','2017000014104|2','2017000014104|3','2017000014594|1','2017000014594|2','2017000014608|1','2017000014608|2','2017000014833|1','2017000014833|2','2017000014929|1','2017000014929|2','2017000014929|3','2017000015195|1','2017000015195|2','2017000015333|1','2017000015464|1','2017000015464|2','2017000015570|1','2017000015570|2','2017000015570|3','2017000016452|1','2017000016452|2','2017000016452|3','2017000016624|1','2017000016624|2','2017000016624|3','2017000016624|4','2017000016624|5','2017000016624|6','2017000016624|7','2017000016656|1','2017000016656|2','2017000016656|3','2017000017237|1','2017000017237|2','2017000017320|1','2017000017320|2','2017000017616|1','2017000017616|2','2017000017645|1','2017000017645|2','2017000017787|1','2017000017905|1','2017000018090|1','2017000018090|2','2017000018252|1','2017000018252|2','2017000018252|3','2017000018252|4','2017000018252|5','2017000018499|1','2017000018499|2','2017000018598|1','2017000019048|1','2017000019048|2','2017000019048|3','2017000019543|1','2017000019543|2','2017000019543|3','2017000019543|4','2017000019701|1','2017000019701|2','2017000019701|3','2017000020408|1','2017000020408|2','2017000020716|1','2017000020716|2','2017000020716|3','2017000020716|4','2017000020956|1','2017000020981|1','2017000021097|1','2017000021097|2','2017000021140|1','2017000021140|2','2017000021396|1','2017000021396|2','2017000022040|1','2017000022040|2','2017000022043|1','2017000022043|2','2017000022043|3','2017000022176|1','2017000022468|1','2017000022468|2','2017000022616|1','2017000022917|1','2017000022917|2','2017000022917|3','2017000022917|4','2017000022917|5','2017000023092|1','2017000023446|1','2017000023446|2','2017000023493|1','2017000023607|1','2017000023607|2','2017000023790|1','2017000023825|1','2017000023825|2','2017000024334|1','2017000024334|2','2017000024725|1','2017000024725|2','2017000024849|1','2017000025140|1','2017000025140|2','2017000025140|3','2017000025197|1','2017000025197|2','2017000025654|1','2017000026065|1','2017000026065|2','2017000026131|1','2017000026568|1','2017000026568|2','2017000026687|1','2017000026687|2','2017000026830|1','2017000026830|2','2017000027177|1','2017000027479|1','2017000027479|2','2017000027479|3','2017000027560|1','2017000027560|2','2017000027589|1','2017000027589|2','2017000027766|1','2017000027766|2','2017000027810|1','2017000028095|1','2017000028095|2','2017000028203|1','2017000028238|1','2017000028238|2','2017000028238|3','2017000028291|1','2017000028291|2','2017000028704|1','2017000028704|2','2017000028859|1','2017000028859|2','2017000028859|3','2017000028859|4','2017000028920|1','2017000028920|2','2017000029057|1','2017000029057|2','2017000029162|1','2017000029695|1','2017000029695|2','2017000029695|3','2017000029695|4','2017000029695|5','2017000029798|1','2017000029798|2','2017000029882|1','2017000029882|2','2017000029882|3','2017000029882|4','2017000030031|1','2017000030146|1','2017000030146|2','2017000030146|3','2017000030146|4','2017000030204|1','2017000030204|2','2017000030204|3','2017000030204|4','2017000030204|5','2017000030204|6','2017000030215|1','2017000030215|2','2017000030215|3','2017000030215|4','2017000030215|5','2017000030215|6','2017000030493|1','2017000030882|1','2017000031420|1','2017000031420|2','2017000031592|1','2017000031592|2','2017000031643|1','2017000031643|2','2017000031643|3','2017000031761|1','2017000031761|2','2017000031761|3','2017000031761|4','2017000031761|5','2017000031896|1','2017000031896|2','2017000031945|1','2017000031945|2','2017000031945|3','2017000031945|4','2017000031945|5','2017000032403|1','2017000032403|2','2017000032655|1','2017000032655|2','2017000032925|1','2017000032925|2','2017000032925|3','2017000032925|4','2017000032925|5','2017000032925|6','2017000032925|7','2017000032949|1','2017000033014|1','2017000033036|1','2017000033036|2','2017000033036|3','2017000033036|4','2017000033152|1','2017000033424|1','2017000033424|2','2017000033445|1','2017000033445|2','2017000033445|3','2017000033449|1','2017000033449|2','2017000033488|1','2017000033785|1','2017000033825|1','2017000033825|2','2017000033858|1','2017000033858|2','2017000033858|3','2017000033858|4','2017000033858|5','2017000033858|6','2017000034205|1','2017000034495|1','2017000034495|2','2017000034929|1','2017000034929|2','2017000034929|3','2017000034929|4','2017000034929|5','2017000034974|1','2017000035157|1','2017000035157|2','2017000035157|3','2017000035157|4','2017000035157|5','2017000035157|6','2017000035157|7','2017000035683|1','2017000035683|2','2017000035683|3','2017000035683|4','2017000035683|5','2017000035683|6','2017000035760|1','2017000035760|2','2017000035778|1','2017000035778|2','2017000036418|1','2017000036788|1','2017000036788|2','2017000036998|1','2017000036998|2','2017000036998|3','2017000036998|4','2017000036998|5','2017000037045|1','2017000037045|2','2017000037746|1','2017000037746|2','2017000037762|1','2017000038527|1','2017000038811|1','2017000038811|2','2017000039079|1','2017000039079|2','2017000039160|1','2017000039160|2','2017000039160|3','2017000039160|4','2017000039454|1','2017000039454|2','2017000039454|3','2017000039780|1','2017000039780|2','2017000039948|1','2017000039948|2','2017000039948|3','2017000039948|4','2017000039948|5','2017000039948|6','2017000040135|1','2017000040414|1','2017000040448|1','2017000040875|1','2017000040875|2','2017000041182|1','2017000041182|2','2017000041182|3','2017000041182|4','2017000041182|5','2017000041182|6','2017000041276|1','2017000042307|1','2017000042352|1','2017000042352|2','2017000042477|1','2017000042630|1','2017000042630|2','2017000042766|1','2017000042766|2','2017000043249|1','2017000043249|2','2017000043249|3','2017000043268|1','2017000043268|2','2017000043467|1','2017000043467|2','2017000043802|1','2017000043907|1','2017000043907|2','2017000044444|1','2017000044444|2','2017000044463|1','2017000044463|2','2017000044502|1','2017000044502|2','2017000044502|3','2017000044502|4','2017000044502|5','2017000044502|6','2017000044553|1','2017000044553|2','2017000044562|1','2017000044562|2','2017000044994|1','2017000044994|2','2017000045071|1','2017000045071|2','2017000045071|3','2017000045071|4','2017000045474|1','2017000045474|2','2017000045719|1','2017000045958|1','2017000046018|1','2017000046018|2','2017000046018|3','2017000046018|4','2017000046018|5','2017000046139|1','2017000046139|2','2017000046186|1','2017000046186|2','2017000046193|1','2017000046193|2','2017000046193|3','2017000046201|1','2017000046201|2','2017000046201|3','2017000046201|4','2017000046252|1','2017000046252|2','2017000046634|1','2017000046634|2','2017000047220|1','2017000047288|1','2017000047320|1','2017000047320|2','2017000047703|1','2017000047703|2','2017000047707|1','2017000047707|2','2017000047707|3','2017000047707|4','2017000047707|5','2017000047800|1','2017000047800|2','2017000048031|1','2017000048031|2','2017000048196|1','2017000048196|2','2017000048425|1','2017000048425|2','2017000048455|1','2017000048455|2','2017000048455|3','2017000048556|1','2017000049000|1','2017000049000|2','2017000049000|3','2017000049000|4','2017000049000|5','2017000049000|6','2017000049000|7','2017000049000|8','2017000049110|1','2017000049110|2','2017000049364|1','2017000049364|2','2017000049364|3','2017000049515|1','2017000049515|2','2017000049515|3','2017000049515|4','2017000049515|5','2017000050274|1','2017000050274|2','2017000050274|3','2017000050274|4','2017000050368|1','2017000050368|2','2017000050368|3','2017000050437|1','2017000050437|2','2017000050574|1','2017000050574|2','2017000050574|3','2017000050574|4','2017000050619|1','2017000050619|2','2017000050619|3','2017000051354|1','2017000051354|2','2017000051383|1','2017000051489|1','2017000051489|2','2017000051489|3','2017000051489|4','2017000051761|1','2017000051761|2','2017000051771|1','2017000051771|2','2017000052502|1','2017000052502|2','2017000052701|1','2017000052701|2','2017000052740|1','2017000052740|2','2017000052740|3','2017000053784|1','2017000053951|1','2017000054438|1','2017000054438|2','2017000054770|1','2017000054770|2','2017000054835|1','2017000054835|2','2017000054835|3','2017000054835|4','2017000054835|5','2017000054835|6','2017000054835|7','2017000054835|8','2017000054929|1','2017000054929|2','2017000054929|3','2017000054941|1','2017000054941|2','2017000054941|3','2017000055121|1','2017000055294|1','2017000055294|2','2017000055614|1','2017000055614|2','2017000055614|3','2017000055614|4','2017000055614|5','2017000055793|1','2017000055793|2','2017000055793|3','2017000055793|4','2017000055793|5','2017000055968|1','2017000056022|1','2017000056022|2','2017000056054|1','2017000056054|2','2017000056330|1','2017000056330|2','2017000056330|3','2017000056621|1','2017000056621|2','2017000056878|1','2017000057086|1','2017000057326|1','2017000057326|2','2017000058528|1','2017000058528|2','2017000058613|1','2017000058900|1','2017000058900|2','2017000058922|1','2017000058922|2','2017000058922|3','2017000058949|1','2017000058949|2','2017000059704|1','2017000059704|2','2017000059704|3','2017000059704|4','2017000059864|1','2017000060109|1','2017000060109|2','2017000060109|3','2017000060746|1','2017000061039|1','2017000061039|2','2017000061039|3','2017000061039|4','2017000061109|1','2017000061109|2','2017000061160|1','2017000061360|1','2017000061360|2','2017000061360|3','2017000061447|1','2017000061447|2','2017000061447|3','2017000061447|4','2017000061447|5','2017000061447|6','2017000061447|7','2017000061717|1','2017000061817|1','2017000061817|2','2017000061817|3','2017000061817|4','2017000061817|5','2017000061817|6','2017000061850|1','2017000061850|2','2017000061850|3','2017000061850|4','2017000061850|5','2017000061934|1','2017000061934|2','2017000061934|3','2017000061934|4','2017000061934|5','2017000062051|1','2017000062051|2','2017000062093|1','2017000062269|1','2017000062269|2','2017000062269|3','2017000062269|4','2017000062269|5','2017000063039|1','2017000063039|2','2017000063039|3','2017000063039|4','2017000063275|1','2017000063275|2','2017000063339|1','2017000063339|2','2017000063772|1','2017000063784|1','2017000063784|2','2017000064065|1','2017000064105|1','2017000064105|2','2017000064166|1','2017000064166|2','2017000064166|3','2017000064332|1','2017000064332|2','2017000064332|3','2017000064332|4','2017000064677|1','2017000064677|2','2017000064677|3','2017000064733|1','2017000064733|2','2017000064733|3','2017000064733|4','2017000064733|5','2017000064983|1','2017000065510|1','2017000065510|2','2017000065510|3','2017000065510|4','2017000065743|1','2017000065955|1','2017000065955|2','2017000066067|1','2017000066067|2','2017000066290|1','2017000066290|2','2017000066290|3','2017000066506|1','2017000066506|2','2017000066535|1','2017000066535|2','2017000066535|3','2017000066535|4','2017000066535|5','2017000066535|6','2017000066574|1','2017000066575|1','2017000066575|2','2017000066742|1','2017000066742|2','2017000067047|1','2017000067047|2','2017000067047|3','2017000067047|4','2017000067047|5','2017000067126|1','2017000067126|2','2017000067176|1','2017000067176|2','2017000067220|1','2017000067493|1','2017000067493|2','2017000067495|1','2017000067495|2','2017000067495|3','2017000067495|4','2017000067495|5','2017000067495|6','2017000067500|1','2017000067500|2','2017000067500|3','2017000067715|1','2017000067715|2','2017000067715|3','2017000067715|4','2017000067994|1','2017000067994|2','2017000067994|3','2017000068132|1','2017000068132|2','2017000068318|1','2017000068371|1','2017000068371|2','2017000068393|1','2017000068393|2','2017000068393|3','2017000068393|4','2017000068393|5','2017000068434|1','2017000068434|2','2017000068439|1','2017000068439|2','2017000068450|1','2017000068450|2','2017000068521|1','2017000068521|2','2017000068628|1','2017000068628|2','2017000068628|3','2017000068628|4','2017000068628|5','2017000068628|6','2017000068634|1','2017000068634|2','2017000069208|1','2017000069208|2','2017000069208|3','2017000069208|4','2017000069208|5','2017000069208|6','2017000069239|1','2017000069239|2','2017000069239|3','2017000069239|4','2017000069239|5','2017000069239|6','2017000069239|7','2017000069239|8','2017000069239|9','2017000069351|1','2017000069442|1','2017000069442|2','2017000069530|1','2017000070514|1','2017000070514|2','2017000070514|3','2017000070651|1','2017000070939|1','2017000070959|1','2017000070959|2','2017000071032|1','2017000071032|2','2017000071189|1','2017000071189|2','2017000071189|3','2017000071189|4','2017000072542|1','2017000072542|2','2017000072542|3','2017000072602|1','2017000072602|2','2017000072602|3','2017000072728|1','2017000072728|2','2017000072728|3','2017000072728|4','2017000072879|1','2017000072879|2','2017000072879|3','2017000073156|1','2017000073156|2','2017000073156|3','2017000073156|4','2017000073298|1','2017000073298|2','2017000073298|3','2017000073371|1','2017000073371|2','2017000073371|3','2017000073371|4','2017000073371|5','2017000073425|1','2017000073553|1','2017000073553|2','2017000073619|1','2017000073619|2','2017000073619|3','2017000073619|4','2017000073628|1','2017000073835|1','2017000073835|2','2017000074151|1','2017000074151|2','2017000074439|1','2017000074439|2','2017000074604|1','2017000074604|2','2017000074895|1','2017000074895|2','2017000074895|3','2017000074895|4','2017000075259|1','2017000075259|2','2017000075434|1','2017000075434|2','2017000075434|3','2017000075455|1','2017000075455|2','2017000075644|1','2017000075644|2','2017000075719|1','2017000075719|2','2017000075860|1','2017000075860|2','2017000075860|3','2017000076067|1','2017000076067|2','2017000076880|1','2017000076962|1','2017000077222|1','2017000077222|2','2017000077222|3','2017000077598|1','2017000077655|1','2017000077655|2','2017000078348|1','2017000078348|2','2017000078348|3','2017000078348|4','2017000078463|1','2017000078463|2','2017000078463|3','2017000078727|1','2017000078727|2','2017000078727|3','2017000078727|4','2017000078727|5','2017000078868|1','2017000078868|2','2017000078868|3','2017000079038|1','2017000079038|2','2017000079503|1','2017000079503|2','2017000079503|3','2017000079503|4','2017000079858|1','2017000079926|1','2017000079926|2','2017000081383|1','2017000081383|2','2017000081383|3','2017000081383|4','2017000081383|5','2017000081383|6','2017000081575|1','2017000081848|1','2017000082018|1','2017000082018|2','2017000082018|3','2017000082018|4','2017000082188|1','2017000082188|2','2017000082188|3','2017000082188|4','2017000082188|5','2017000082188|6','2017000082188|7','2017000082188|8','2017000082188|9','2017000082188|10','2017000083078|1','2017000083078|2','2017000083078|3','2017000083377|1','2017000083377|2','2017000083377|3','2017000083377|4','2017000083550|1','2017000083550|2','2017000083550|3','2017000083550|4','2017000083826|1','2017000083826|2','2017000084167|1','2017000084576|1','2017000084576|2','2017000084576|3','2017000084576|4','2017000084596|1','2017000084655|1','2017000084655|2','2017000084698|1','2017000084918|1','2017000084918|2','2017000085296|1','2017000085296|2','2017000085296|3','2017000085296|4','2017000085401|1','2017000085401|2','2017000085631|1','2017000085631|2','2017000085631|3','2017000085631|4','2017000085631|5','2017000086005|1','2017000086005|2','2017000086014|1','2017000086014|2','2017000086546|1','2017000086855|1','2017000086855|2','2017000087167|1','2017000087176|1','2017000087176|2','2017000087176|3','2017000087176|4','2017000087176|5','2017000087176|6','2017000087176|7','2017000087176|8','2017000087177|1','2017000087177|2','2017000087177|3','2017000087575|1','2017000087932|1','2017000087932|2','2017000087932|3','2017000087932|4','2017000087984|1','2017000087984|2','2017000087984|3','2017000087984|4','2017000087984|5','2017000088498|1','2017000088780|1','2017000088939|1','2017000088939|2','2017000089298|1','2017000089298|2','2017000089298|3','2017000089298|4','2017000089691|1','2017000089691|2','2017000089811|1','2017000090117|1','2017000090117|2','2017000090141|1','2017000090141|2','2017000090279|1','2017000090279|2','2017000090279|3','2017000090279|4','2017000090329|1','2017000090329|2','2017000090614|1','2017000090614|2','2017000090614|3','2017000090614|4','2017000090999|1','2017000091048|1','2017000091048|2','2017000091048|3','2017000091048|4','2017000091711|1','2017000091783|1','2017000091783|2','2017000091799|1','2017000091799|2','2017000092561|1','2017000092561|2','2017000092574|1','2017000092574|2','2017000092809|1','2017000092809|2','2017000092906|1','2017000093181|1','2017000093181|2','2017000093181|3','2017000093181|4','2017000093181|5','2017000093229|1','2017000093229|2','2017000093229|3','2017000093229|4','2017000093229|5','2017000093229|6','2017000093454|1','2017000093461|1','2017000093461|2','2017000093584|1','2017000093584|2','2017000093584|3','2017000093815|1','2017000093815|2','2017000093815|3','2017000093815|4','2017000093828|1','2017000093828|2','2017000093865|1','2017000093865|2','2017000093865|3','2017000093865|4','2017000093865|5','2017000094071|1','2017000094095|1','2017000094825|1','2017000094927|1','2017000094927|2','2017000095542|1','2017000095637|1','2017000095637|2','2017000095781|1','2017000095781|2','2017000095781|3','2017000095781|4','2017000095793|1','2017000095793|2','2017000095793|3','2017000095793|4','2017000095838|1','2017000095838|2','2017000095838|3','2017000095838|4','2017000095935|1','2017000095952|1','2017000095952|2','2017000096176|1','2017000096176|2','2017000096207|1','2017000096207|2','2017000096207|3','2017000096411|1','2017000096411|2','2017000096411|3','2017000096411|4','2017000096453|1','2017000096453|2','2017000096453|3','2017000096512|1','2017000096720|1','2017000096720|2','2017000096812|1','2017000096812|2','2017000096812|3','2017000096883|1','2017000096883|2','2017000097155|1','2017000097155|2','2017000097155|3','2017000097668|1','2017000097668|2','2017000097905|1','2017000097905|2','2017000097922|1','2017000097922|2','2017000098215|1','2017000098215|2','2017000098215|3','2017000098215|4','2017000098577|1','2017000098577|2','2017000098577|3','2017000098786|1','2017000098786|2','2017000099552|1','2017000099552|2','2017000099552|3','2017000100068|1','2017000100523|1','2017000100523|2','2017000100523|3','2017000100683|1','2017000100683|2','2017000100683|3','2017000100683|4','2017000100683|5','2017000100683|6','2017000100683|7','2017000100748|1','2017000100748|2','2017000100973|1','2017000100973|2','2017000101204|1','2017000101204|2','2017000101255|1','2017000101463|1','2017000101470|1','2017000101615|1','2017000101615|2','2017000101615|3','2017000101615|4','2017000101676|1','2017000101676|2','2017000101698|1','2017000101698|2','2017000101810|1','2017000102637|1','2017000102637|2','2017000102814|1','2017000102814|2','2017000102814|3','2017000102814|4','2017000102877|1','2017000102877|2','2017000103080|1','2017000103297|1','2017000103297|2','2017000103336|1','2017000103336|2','2017000103336|3','2017000103336|4','2017000103336|5','2017000103336|6','2017000103594|1','2017000103594|2','2017000103619|1','2017000103641|1','2017000103641|2','2017000103812|1','2017000103812|2','2017000103812|3','2017000103812|4','2017000103812|5','2017000000075|1','2017000000075|2','2017000000075|3','2017000000075|4','2017000000167|1','2017000000201|1','2017000000201|2','2017000000268|1','2017000000269|1','2017000000269|2','2017000000304|1','2017000000304|2','2017000000304|3','2017000000304|4','2017000000304|5','2017000000322|1','2017000000325|1','2017000000325|2','2017000000325|3','2017000000325|4','2017000000325|5','2017000000348|1','2017000000348|2','2017000000348|3','2017000000348|4','2017000000348|5','2017000000348|6','2017000000369|1','2017000000369|2','2017000000378|1','2017000000378|2','2017000000387|1','2017000000402|1','2017000000402|2','2017000000505|1','2017000000507|1','2017000000507|2','2017000000522|1','2017000000522|2','2017000000523|1','2017000000523|2','2017000000523|3','2017000000523|4','2017000000561|1','2017000000592|1','2017000000592|2','2017000000610|1','2017000000610|2','2017000000665|1','2017000000703|1','2017000000703|2','2017000000705|1','2017000000705|2','2017000000715|1','2017000000715|2','2017000000737|1','2017000000737|2','2017000000759|1','2017000000759|2','2017000000805|1','2017000000805|2','2017000000805|3','2017000000805|4','2017000000911|1','2017000000911|2','2017000000911|3','2017000000911|4','2017000000924|1','2017000000924|2','2017000000933|1','2017000000978|1','2017000001028|1','2017000001028|2','2017000001028|3','2017000001034|1','2017000001034|2','2017000001034|3','2017000001034|4','2017000001034|5','2017000001056|1','2017000001056|2','2017000001260|1','2017000001260|2','2017000001260|3','2017000001287|1','2017000001323|1','2017000001621|1','2017000001621|2','2017000001621|3','2017000001621|4','2017000001621|5','2017000001668|1','2017000001668|2','2017000001694|1','2017000001694|2','2017000001695|1','2017000001695|2','2017000001695|3','2017000001695|4','2017000001695|5','2017000001769|1','2017000001769|2','2017000001871|1','2017000001871|2','2017000001871|3','2017000001871|4','2017000001871|5','2017000001880|1','2017000001967|1','2017000001967|2','2017000001988|1','2017000001988|2','2017000001988|3','2017000001988|4','2017000002035|1','2017000002035|2','2017000002047|1','2017000002047|2','2017000002047|3','2017000002086|1','2017000002114|1','2017000002114|2','2017000002141|1','2017000002155|1','2017000002155|2','2017000002282|1','2017000002282|2','2017000002285|1','2017000002285|2','2017000002285|3','2017000002285|4','2017000002307|1','2017000002313|1','2017000002338|1','2017000002338|2','2017000002377|1','2017000002377|2','2017000002377|3','2017000002377|4','2017000002377|5','2017000002377|6','2017000002383|1','2017000002436|1','2017000002436|2','2017000002448|1','2017000002448|2','2017000002448|3','2017000002518|1','2017000002518|2','2017000002518|3','2017000002518|4','2017000002538|1','2017000002538|2','2017000002553|1','2017000002553|2','2017000002592|1','2017000002592|2','2017000002602|1','2017000002602|2','2017000002650|1','2017000002650|2','2017000002650|3','2017000002650|4','2017000002668|1','2017000002668|2','2017000002668|3','2017000002668|4','2017000002668|5','2017000002864|1','2017000002864|2','2017000002894|1','2017000002894|2','2017000002894|3','2017000002935|1','2017000002935|2','2017000002950|1','2017000002950|2','2017000002977|1','2017000002977|2','2017000002977|3','2017000003036|1','2017000003036|2','2017000003088|1','2017000003157|1','2017000003157|2','2017000003205|1','2017000003254|1','2017000003254|2','2017000003254|3','2017000003254|4','2017000003254|5','2017000003254|6','2017000003322|1','2017000003344|1','2017000003354|1','2017000003354|2','2017000003354|3','2017000003359|1','2017000003385|1','2017000003424|1','2017000003424|2','2017000003424|3','2017000003424|4','2017000003424|5','2017000003781|1','2017000003804|1','2017000003804|2','2017000003834|1','2017000003834|2','2017000003834|3','2017000003834|4','2017000003944|1','2017000003944|2','2017000003944|3','2017000003996|1','2017000003996|2','2017000003996|3','2017000003996|4','2017000003996|5','2017000003996|6','2017000003996|7','2017000003996|8','2017000003996|9','2017000003996|10','2017000003996|11','2017000003996|12','2017000004034|1','2017000004034|2','2017000004060|1','2017000004064|1','2017000004064|2','2017000004064|3','2017000004091|1','2017000004091|2','2017000004091|3','2017000004091|4','2017000004170|1','2017000004170|2','2017000004170|3','2017000004325|1','2017000004387|1','2017000004387|2','2017000004390|1','2017000004435|1','2017000004435|2','2017000004470|1','2017000004470|2','2017000004470|3','2017000004470|4','2017000004661|1','2017000004665|1','2017000004665|2','2017000004665|3','2017000004665|4','2017000004665|5','2017000004716|1','2017000004716|2','2017000004734|1','2017000004734|2','2017000004803|1','2017000004803|2','2017000004803|3','2017000004803|4','2017000004803|5','2017000004820|1','2017000004820|2','2017000004820|3','2017000004820|4','2017000004820|5','2017000004860|1','2017000004943|1','2017000004943|2','2017000004958|1','2017000004962|1','2017000004962|2','2017000004962|3','2017000004962|4','2017000004969|1','2017000004969|2','2017000004969|3','2017000004969|4','2017000004993|1','2017000004993|2','2017000005008|1','2017000005008|2','2017000005008|3','2017000005008|4','2017000005008|5','2017000005010|1','2017000005010|2','2017000005010|3','2017000005010|4','2017000005010|5','2017000005313|1','2017000005326|1','2017000005326|2','2017000005334|1','2017000005334|2','2017000005334|3','2017000005570|1','2017000005570|2','2017000005586|1','2017000005586|2','2017000005586|3','2017000005784|1','2017000005784|2','2017000005809|1','2017000005809|2','2017000005843|1','2017000005843|2','2017000005870|1','2017000005870|2','2017000005870|3','2017000005870|4','2017000005879|1','2017000005879|2','2017000005924|1','2017000005924|2','2017000005924|3','2017000005924|4','2017000005924|5','2017000005924|6','2017000005934|1','2017000005934|2','2017000005934|3','2017000006003|1','2017000006039|1','2017000006064|1','2017000006219|1','2017000006219|2','2017000006219|3','2017000006219|4','2017000006232|1','2017000006232|2','2017000006239|1','2017000006239|2','2017000006304|1','2017000006304|2','2017000006304|3','2017000006304|4','2017000006443|1','2017000006452|1','2017000006546|1','2017000006546|2','2017000006608|1','2017000006665|1','2017000006665|2','2017000006721|1','2017000006721|2','2017000006721|3','2017000006737|1','2017000006737|2','2017000006751|1','2017000006801|1','2017000006801|2','2017000006856|1','2017000006864|1','2017000006864|2','2017000006873|1','2017000006873|2','2017000006894|1','2017000006894|2','2017000006913|1','2017000006913|2','2017000006913|3','2017000007029|1','2017000007029|2','2017000007074|1','2017000007074|2','2017000007100|1','2017000007100|2','2017000007130|1','2017000007130|2','2017000007130|3','2017000007170|1','2017000007170|2','2017000007191|1','2017000007191|2','2017000007211|1','2017000007235|1','2017000007235|2','2017000007239|1','2017000007239|2','2017000007239|3','2017000007240|1','2017000007240|2','2017000007240|3','2017000007240|4','2017000007347|1','2017000007347|2','2017000007362|1','2017000007362|2','2017000007394|1','2017000007394|2','2017000007413|1','2017000007413|2','2017000007457|1','2017000007540|1','2017000007540|2','2017000007606|1','2017000007606|2','2017000007623|1','2017000007623|2','2017000007623|3','2017000007623|4','2017000007623|5','2017000007625|1','2017000007625|2','2017000007625|3','2017000007698|1','2017000007698|2','2017000007717|1','2017000007717|2','2017000007719|1','2017000007719|2','2017000007719|3','2017000007760|1','2017000007760|2','2017000007760|3','2017000007760|4','2017000007762|1','2017000007762|2','2017000007924|1','2017000008068|1','2017000008133|1','2017000008150|1','2017000008150|2','2017000008150|3','2017000008150|4','2017000008165|1','2017000008165|2','2017000008165|3','2017000008165|4','2017000008165|5','2017000008165|6','2017000008243|1','2017000008273|1','2017000008284|1','2017000008316|1','2017000008316|2','2017000008316|3','2017000008316|4','2017000008365|1','2017000008365|2','2017000008365|3','2017000008397|1','2017000008488|1','2017000008488|2','2017000008508|1','2017000008508|2','2017000008547|1','2017000008561|1','2017000008628|1','2017000008732|1','2017000008732|2','2017000008732|3','2017000008732|4','2017000008732|5','2017000008769|1','2017000008769|2','2017000008769|3','2017000008779|1','2017000008814|1','2017000008814|2','2017000008834|1','2017000008834|2','2017000008888|1','2017000008888|2','2017000008915|1','2017000008915|2','2017000008928|1','2017000008928|2','2017000009007|1','2017000009007|2','2017000009014|1','2017000009014|2','2017000009014|3','2017000009065|1','2017000009065|2','2017000009163|1','2017000009163|2','2017000009163|3','2017000009163|4','2017000009261|1','2017000009261|2','2017000009306|1','2017000009306|2','2017000009306|3','2017000009378|1','2017000009378|2','2017000009432|1','2017000009488|1','2017000009528|1','2017000009537|1','2017000009537|2','2017000009577|1','2017000009577|2','2017000009577|3','2017000009577|4','2017000009677|1','2017000009677|2','2017000009685|1','2017000009700|1','2017000009731|1','2017000009736|1','2017000009736|2','2017000009736|3','2017000009788|1','2017000009788|2','2017000009819|1','2017000009819|2','2017000009819|3','2017000009819|4','2017000009935|1','2017000009935|2','2017000009966|1','2017000009966|2','2017000010079|1','2017000010079|2','2017000010079|3','2017000010103|1','2017000010103|2','2017000010103|3','2017000010103|4','2017000010111|1','2017000010111|2','2017000010111|3','2017000010135|1','2017000010139|1','2017000010195|1','2017000010195|2','2017000010271|1','2017000010271|2','2017000010274|1','2017000010274|2','2017000010279|1','2017000010329|1','2017000010329|2','2017000010341|1','2017000010341|2','2017000010374|1','2017000010383|1','2017000010383|2','2017000010383|3','2017000010383|4','2017000010424|1','2017000010424|2','2017000010424|3','2017000010497|1','2017000010497|2','2017000010497|3','2017000010514|1','2017000010514|2','2017000010515|1','2017000010515|2','2017000010515|3','2017000010515|4','2017000010515|5','2017000010591|1','2017000010591|2','2017000010591|3','2017000010591|4','2017000010721|1','2017000010721|2','2017000010777|1','2017000010777|2','2017000010777|3','2017000010838|1','2017000010838|2','2017000010840|1','2017000010840|2','2017000010840|3','2017000010840|4','2017000010843|1','2017000010843|2','2017000010843|3','2017000010901|1','2017000010904|1','2017000010904|2','2017000010904|3','2017000010904|4','2017000010904|5','2017000011018|1','2017000011018|2','2017000011018|3','2017000011059|1','2017000011059|2','2017000011064|1','2017000011104|1','2017000011104|2','2017000011156|1','2017000011199|1','2017000011205|1','2017000011205|2','2017000011205|3','2017000011205|4','2017000011301|1','2017000011301|2','2017000011337|1','2017000011381|1','2017000011390|1','2017000011436|1','2017000011436|2','2017000011476|1','2017000011476|2','2017000011476|3','2017000011476|4','2017000011593|1','2017000011593|2','2017000011612|1','2017000011761|1','2017000011761|2','2017000011761|3','2017000011761|4','2017000011761|5','2017000011779|1','2017000011779|2','2017000011832|1','2017000011832|2','2017000011832|3','2017000011832|4','2017000011873|1','2017000011875|1','2017000011875|2','2017000011875|3','2017000011875|4','2017000011989|1','2017000011989|2','2017000011989|3','2017000011989|4','2017000011989|5','2017000011989|6','2017000011989|7','2017000011989|8','2017000012008|1','2017000012008|2','2017000012008|3','2017000012052|1','2017000012052|2','2017000012052|3','2017000012052|4','2017000012065|1','2017000012118|1','2017000012151|1','2017000012168|1','2017000012168|2','2017000012168|3','2017000012195|1','2017000012195|2','2017000012195|3','2017000012216|1','2017000012321|1','2017000012363|1','2017000012363|2','2017000012363|3','2017000012366|1','2017000012366|2','2017000012366|3','2017000012405|1','2017000012448|1','2017000012512|1','2017000012663|1','2017000012663|2','2017000012663|3','2017000012663|4','2017000012743|1','2017000012755|1','2017000012755|2','2017000012839|1','2017000012910|1','2017000013063|1','2017000013082|1','2017000013082|2','2017000013085|1','2017000013085|2','2017000013157|1','2017000013157|2','2017000013157|3','2017000013179|1','2017000013268|1','2017000013268|2','2017000013288|1','2017000013288|2','2017000013318|1','2017000013318|2','2017000013379|1','2017000013389|1','2017000013389|2','2017000013389|3','2017000013389|4','2017000013467|1','2017000013467|2','2017000013467|3','2017000013467|4','2017000013467|5','2017000013467|6','2017000013547|1','2017000013547|2','2017000013558|1','2017000013558|2','2017000013665|1','2017000013665|2','2017000013665|3','2017000013665|4','2017000013669|1','2017000013727|1','2017000013758|1','2017000013758|2','2017000013758|3','2017000013758|4','2017000013758|5','2017000013758|6','2017000013794|1','2017000013794|2','2017000013794|3','2017000013794|4','2017000013794|5','2017000013794|6','2017000013925|1','2017000013953|1','2017000013953|2','2017000013965|1','2017000013965|2','2017000013965|3','2017000013965|4','2017000014030|1','2017000014030|2','2017000014030|3','2017000014290|1','2017000014311|1','2017000014311|2','2017000014320|1','2017000014320|2','2017000014404|1','2017000014404|2','2017000014439|1','2017000014439|2','2017000014439|3','2017000014439|4','2017000014503|1','2017000014503|2','2017000014505|1','2017000014505|2','2017000014575|1','2017000014713|1','2017000014713|2','2017000014811|1','2017000014811|2','2017000014844|1','2017000014844|2','2017000014916|1','2017000014916|2','2017000014924|1','2017000015018|1','2017000015018|2','2017000015022|1','2017000015022|2','2017000015027|1','2017000015027|2','2017000015027|3','2017000015027|4','2017000015081|1','2017000015081|2','2017000015081|3','2017000015081|4','2017000015081|5','2017000015081|6','2017000015119|1','2017000015180|1','2017000015180|2','2017000015180|3','2017000015180|4','2017000015204|1','2017000015204|2','2017000015204|3','2017000015204|4','2017000015204|5','2017000015219|1','2017000015219|2','2017000015306|1','2017000015306|2','2017000015309|1','2017000015428|1','2017000015529|1','2017000015529|2','2017000015529|3','2017000015548|1','2017000015548|2','2017000015548|3','2017000015548|4','2017000015548|5','2017000015562|1','2017000015562|2','2017000015569|1','2017000015653|1','2017000015653|2','2017000015653|3','2017000015653|4','2017000015653|5','2017000015653|6','2017000015674|1','2017000015697|1','2017000015704|1','2017000015704|2','2017000015704|3','2017000015739|1','2017000015739|2','2017000015739|3','2017000015874|1','2017000015874|2','2017000015885|1','2017000015891|1','2017000015891|2','2017000015891|3','2017000015891|4','2017000015921|1','2017000015992|1','2017000015992|2','2017000016040|1','2017000016061|1','2017000016100|1','2017000016100|2','2017000016100|3','2017000016100|4','2017000016126|1','2017000016126|2','2017000016128|1','2017000016128|2','2017000016128|3','2017000016146|1','2017000016146|2','2017000016146|3','2017000016151|1','2017000016151|2','2017000016151|3','2017000016151|4','2017000016198|1','2017000016198|2','2017000016202|1','2017000016202|2','2017000016254|1','2017000016254|2','2017000016281|1','2017000016321|1','2017000016321|2','2017000016359|1','2017000016359|2','2017000016543|1','2017000016543|2','2017000016543|3','2017000016543|4','2017000016543|5','2017000016557|1','2017000016557|2','2017000016557|3','2017000016578|1','2017000016578|2','2017000016645|1','2017000016645|2','2017000016645|3','2017000016645|4','2017000016645|5','2017000016666|1','2017000016666|2','2017000016717|1','2017000016717|2','2017000016760|1','2017000016798|1','2017000016859|1','2017000016859|2','2017000016859|3','2017000016859|4','2017000016859|5','2017000016859|6','2017000016905|1','2017000016905|2','2017000016932|1','2017000016932|2','2017000016996|1','2017000016996|2','2017000016999|1','2017000016999|2','2017000017084|1','2017000017084|2','2017000017084|3','2017000017142|1','2017000017245|1','2017000017245|2','2017000017275|1','2017000017275|2','2017000017307|1','2017000017307|2','2017000017331|1','2017000017331|2','2017000017331|3','2017000017446|1','2017000017446|2','2017000017483|1','2017000017535|1','2017000017535|2','2017000017535|3','2017000017535|4','2017000017553|1','2017000017553|2','2017000017553|3','2017000017605|1','2017000017605|2','2017000017679|1','2017000017728|1','2017000017728|2','2017000017728|3','2017000017728|4','2017000017728|5','2017000017728|6','2017000017839|1','2017000017843|1','2017000017843|2','2017000017981|1','2017000018041|1','2017000018079|1','2017000018079|2','2017000018119|1','2017000018135|1','2017000018151|1','2017000018151|2','2017000018160|1','2017000018191|1','2017000018208|1','2017000018208|2','2017000018255|1','2017000018255|2','2017000018255|3','2017000018255|4','2017000018283|1','2017000018283|2','2017000018329|1','2017000018348|1','2017000018348|2','2017000018348|3','2017000018348|4','2017000018352|1','2017000018352|2','2017000018352|3','2017000018369|1','2017000018468|1','2017000018468|2','2017000018546|1','2017000018546|2','2017000018546|3','2017000018546|4','2017000018604|1','2017000018616|1','2017000018616|2','2017000018638|1','2017000018638|2','2017000018638|3','2017000018638|4','2017000018759|1','2017000018759|2','2017000018826|1','2017000018831|1','2017000018831|2','2017000018849|1','2017000018849|2','2017000018910|1','2017000018910|2','2017000018910|3','2017000018910|4','2017000018999|1','2017000018999|2','2017000018999|3','2017000018999|4','2017000018999|5','2017000019032|1','2017000019032|2','2017000019099|1','2017000019099|2','2017000019099|3','2017000019099|4','2017000019184|1','2017000019184|2','2017000019212|1','2017000019244|1','2017000019244|2','2017000019244|3','2017000019294|1','2017000019294|2','2017000019294|3','2017000019367|1','2017000019367|2','2017000019367|3','2017000019367|4','2017000019408|1','2017000019408|2','2017000019408|3','2017000019408|4','2017000019408|5','2017000019408|6','2017000019470|1','2017000019470|2','2017000019507|1','2017000019629|1','2017000019629|2','2017000019629|3','2017000019629|4','2017000019735|1','2017000019735|2','2017000019735|3','2017000019754|1','2017000019754|2','2017000019827|1','2017000019827|2','2017000019827|3','2017000019827|4','2017000019827|5','2017000019827|6','2017000019895|1','2017000019895|2','2017000019908|1','2017000019908|2','2017000019922|1','2017000019922|2','2017000019922|3','2017000020121|1','2017000020121|2','2017000020121|3','2017000020121|4','2017000020195|1','2017000020195|2','2017000020195|3','2017000020195|4','2017000020195|5','2017000020195|6','2017000020195|7','2017000020195|8','2017000020195|9','2017000020195|10','2017000020204|1','2017000020204|2','2017000020204|3','2017000020204|4','2017000020204|5','2017000020226|1','2017000020226|2','2017000020227|1','2017000020227|2','2017000020294|1','2017000020294|2','2017000020479|1','2017000020528|1','2017000020528|2','2017000020601|1','2017000020601|2','2017000020672|1','2017000020672|2','2017000020680|1','2017000020680|2','2017000020680|3','2017000020680|4','2017000020778|1','2017000020778|2','2017000020778|3','2017000020817|1','2017000020817|2','2017000020817|3','2017000020822|1','2017000020822|2','2017000020887|1','2017000020908|1','2017000020908|2','2017000020908|3','2017000020908|4','2017000020929|1','2017000020929|2','2017000020929|3','2017000020929|4','2017000020973|1','2017000020973|2','2017000020973|3','2017000020973|4','2017000020973|5','2017000021008|1','2017000021043|1','2017000021043|2','2017000021154|1','2017000021154|2','2017000021299|1','2017000021299|2','2017000021299|3','2017000021299|4','2017000021299|5','2017000021299|6','2017000021299|7','2017000021324|1','2017000021328|1','2017000021328|2','2017000021347|1','2017000021347|2','2017000021417|1','2017000021417|2','2017000021469|1','2017000021469|2','2017000021503|1','2017000021503|2','2017000021503|3','2017000021533|1','2017000021562|1','2017000021562|2','2017000021588|1','2017000021588|2','2017000021634|1','2017000021634|2','2017000021634|3','2017000021634|4','2017000021636|1','2017000021725|1','2017000021725|2','2017000021725|3','2017000021758|1','2017000021758|2','2017000021764|1','2017000021764|2','2017000021817|1','2017000021817|2','2017000021829|1','2017000021829|2','2017000021867|1','2017000021922|1','2017000021922|2','2017000021922|3','2017000021922|4','2017000022155|1','2017000022155|2','2017000022161|1','2017000022161|2','2017000022161|3','2017000022201|1','2017000022201|2','2017000022201|3','2017000022201|4','2017000022390|1','2017000022425|1','2017000022425|2','2017000022425|3','2017000022432|1','2017000022490|1','2017000022490|2','2017000022490|3','2017000022490|4','2017000022505|1','2017000022769|1','2017000022802|1','2017000022802|2','2017000022814|1','2017000022906|1','2017000022906|2','2017000022918|1','2017000022918|2','2017000022918|3','2017000022918|4','2017000022918|5','2017000022958|1','2017000023001|1','2017000023001|2','2017000023177|1','2017000023177|2','2017000023206|1','2017000023206|2','2017000023206|3','2017000023206|4','2017000023256|1','2017000023256|2','2017000023308|1','2017000023308|2','2017000023342|1','2017000023342|2','2017000023392|1','2017000023398|1','2017000023405|1','2017000023405|2','2017000023443|1','2017000023443|2','2017000023449|1','2017000023449|2','2017000023449|3','2017000023449|4','2017000023449|5','2017000023466|1','2017000023466|2','2017000023471|1','2017000023471|2','2017000023471|3','2017000023471|4','2017000023501|1','2017000023501|2','2017000023501|3','2017000023537|1','2017000023537|2','2017000023537|3','2017000023537|4','2017000023552|1','2017000023583|1','2017000023583|2','2017000023583|3','2017000023584|1','2017000023584|2','2017000023584|3','2017000023614|1','2017000023614|2','2017000023614|3','2017000023667|1','2017000023667|2','2017000023721|1','2017000023721|2','2017000023754|1','2017000023754|2','2017000023862|1','2017000023862|2','2017000023862|3','2017000023862|4','2017000023862|5','2017000023954|1','2017000024099|1','2017000024099|2','2017000024099|3','2017000024099|4','2017000024189|1','2017000024189|2','2017000024228|1','2017000024228|2','2017000024291|1','2017000024291|2','2017000024291|3','2017000024291|4','2017000024304|1','2017000024304|2','2017000024358|1','2017000024358|2','2017000024358|3','2017000024358|4','2017000024366|1','2017000024366|2','2017000024366|3','2017000024366|4','2017000024474|1','2017000024496|1','2017000024506|1','2017000024506|2','2017000024519|1','2017000024519|2','2017000000073|1','2017000000081|1','2017000000081|2','2017000000107|1','2017000000120|1','2017000000120|2','2017000000136|1','2017000000136|2','2017000000144|1','2017000000144|2','2017000000154|1','2017000000154|2','2017000000154|3','2017000000154|4','2017000000154|5','2017000000154|6','2017000000156|1','2017000000156|2','2017000000156|3','2017000000156|4','2017000000228|1','2017000000228|2','2017000000292|1','2017000000292|2','2017000000359|1','2017000000359|2','2017000000359|3','2017000000359|4','2017000000359|5','2017000000359|6','2017000000359|7','2017000000366|1','2017000000366|2','2017000000368|1','2017000000368|2','2017000000368|3','2017000000368|4','2017000000374|1','2017000000432|1','2017000000432|2','2017000000432|3','2017000000480|1','2017000000509|1','2017000000509|2','2017000000509|3','2017000000509|4','2017000000515|1','2017000000521|1','2017000000521|2','2017000000521|3','2017000000521|4','2017000000530|1','2017000000530|2','2017000000530|3','2017000000544|1','2017000000614|1','2017000000614|2','2017000000614|3','2017000000688|1','2017000000690|1','2017000000704|1','2017000000704|2','2017000000704|3','2017000000735|1','2017000000735|2','2017000000735|3','2017000000747|1','2017000000747|2','2017000000756|1','2017000000847|1','2017000000847|2','2017000000856|1','2017000000856|2','2017000000884|1','2017000000884|2','2017000000884|3','2017000000884|4','2017000000896|1','2017000000968|1','2017000000983|1','2017000000983|2','2017000000983|3','2017000000992|1','2017000000992|2','2017000000997|1','2017000000997|2','2017000000997|3','2017000001015|1','2017000001015|2','2017000001041|1','2017000001041|2','2017000001041|3','2017000001041|4','2017000001043|1','2017000001084|1','2017000001123|1','2017000001123|2','2017000001123|3','2017000001127|1','2017000001173|1','2017000001184|1','2017000001184|2','2017000001184|3','2017000001194|1','2017000001252|1','2017000001252|2','2017000001258|1','2017000001258|2','2017000001258|3','2017000001298|1','2017000001298|2','2017000001298|3','2017000001298|4','2017000001299|1','2017000001299|2','2017000001302|1','2017000001302|2','2017000001319|1','2017000001345|1','2017000001345|2','2017000001366|1','2017000001366|2','2017000001366|3','2017000001366|4','2017000001370|1','2017000001370|2','2017000001390|1','2017000001390|2','2017000001399|1','2017000001399|2','2017000001399|3','2017000001473|1','2017000001502|1','2017000001502|2','2017000001518|1','2017000001543|1','2017000001543|2','2017000001555|1','2017000001555|2','2017000001610|1','2017000001610|2','2017000001612|1','2017000001638|1','2017000001638|2','2017000001638|3','2017000001700|1','2017000001700|2','2017000001700|3','2017000001700|4','2017000001700|5','2017000001705|1','2017000001705|2','2017000001705|3','2017000001705|4','2017000001729|1','2017000001729|2','2017000001770|1','2017000001773|1','2017000001773|2','2017000001903|1','2017000001912|1','2017000001912|2','2017000001912|3','2017000001921|1','2017000001921|2','2017000001921|3','2017000001921|4','2017000001921|5','2017000001921|6','2017000001939|1','2017000001939|2','2017000002006|1','2017000002006|2','2017000002012|1','2017000002012|2','2017000002046|1','2017000002046|2','2017000002046|3','2017000002051|1','2017000002051|2','2017000002051|3','2017000002051|4','2017000002051|5','2017000002088|1','2017000002088|2','2017000002088|3','2017000002088|4','2017000002213|1','2017000002213|2','2017000002224|1','2017000002228|1','2017000002228|2','2017000002228|3','2017000002286|1','2017000002309|1','2017000002309|2','2017000002309|3','2017000002316|1','2017000002316|2','2017000002340|1','2017000002340|2','2017000002340|3','2017000002447|1','2017000002456|1','2017000002471|1','2017000002486|1','2017000002486|2','2017000002486|3','2017000002486|4','2017000002489|1','2017000002489|2','2017000002489|3','2017000002489|4','2017000002505|1','2017000002505|2','2017000002590|1','2017000002590|2','2017000002590|3','2017000002590|4','2017000002610|1','2017000002689|1','2017000002689|2','2017000002813|1','2017000002813|2','2017000002813|3','2017000002813|4','2017000002814|1','2017000002818|1','2017000002827|1','2017000002830|1','2017000002860|1','2017000002860|2','2017000002860|3','2017000002860|4','2017000002875|1','2017000002926|1','2017000002941|1','2017000002941|2','2017000002941|3','2017000002965|1','2017000002965|2','2017000002965|3','2017000002965|4','2017000002987|1','2017000002987|2','2017000002987|3','2017000002987|4','2017000002987|5','2017000002987|6','2017000002987|7','2017000003011|1','2017000003011|2','2017000003011|3','2017000003039|1','2017000003067|1','2017000003067|2','2017000003075|1','2017000003075|2','2017000003096|1','2017000003096|2','2017000003096|3','2017000003114|1','2017000003114|2','2017000003114|3','2017000003127|1','2017000003127|2','2017000003127|3','2017000003209|1','2017000003209|2','2017000003209|3','2017000003209|4','2017000003209|5','2017000003241|1','2017000003241|2','2017000003241|3','2017000003305|1','2017000003305|2','2017000003330|1','2017000003330|2','2017000003330|3','2017000003335|1','2017000003335|2','2017000003350|1','2017000003350|2','2017000003365|1','2017000003365|2','2017000003369|1','2017000003390|1','2017000003390|2','2017000003405|1','2017000003405|2','2017000003405|3','2017000003407|1','2017000003410|1','2017000003432|1','2017000003432|2','2017000003473|1','2017000003473|2','2017000003479|1','2017000003479|2','2017000003479|3','2017000003479|4','2017000003512|1','2017000003514|1','2017000003514|2','2017000003576|1','2017000003576|2','2017000003598|1','2017000003598|2','2017000003638|1','2017000003638|2','2017000003661|1','2017000003678|1','2017000003678|2','2017000003696|1','2017000003705|1','2017000003705|2','2017000003727|1','2017000003727|2','2017000003727|3','2017000003727|4','2017000003738|1','2017000003738|2','2017000003800|1','2017000003802|1','2017000003802|2','2017000003802|3','2017000003802|4','2017000003802|5','2017000003814|1','2017000003814|2','2017000003851|1','2017000003879|1','2017000003879|2','2017000003879|3','2017000003879|4','2017000003881|1','2017000003890|1','2017000003892|1','2017000003902|1','2017000003902|2','2017000003936|1','2017000003936|2','2017000003959|1','2017000003959|2','2017000003959|3','2017000003965|1','2017000003965|2','2017000003966|1','2017000003966|2','2017000004004|1','2017000004004|2','2017000004085|1','2017000004085|2','2017000004085|3','2017000004085|4','2017000004085|5','2017000004105|1','2017000004187|1','2017000004214|1','2017000004214|2','2017000004242|1','2017000004263|1','2017000004263|2','2017000004264|1','2017000004264|2','2017000004306|1','2017000004306|2','2017000004306|3','2017000004319|1','2017000004319|2','2017000004319|3','2017000004324|1','2017000004324|2','2017000004324|3','2017000004324|4','2017000004324|5','2017000004324|6','2017000004324|7','2017000004324|8','2017000004342|1','2017000004351|1','2017000004351|2','2017000004359|1','2017000004359|2','2017000004398|1','2017000004431|1','2017000004431|2','2017000004431|3','2017000004630|1','2017000004630|2','2017000004637|1','2017000004637|2','2017000004637|3','2017000004659|1','2017000004690|1','2017000004700|1','2017000004700|2','2017000004725|1','2017000004725|2','2017000004725|3','2017000004725|4','2017000004725|5','2017000004728|1','2017000004728|2','2017000004728|3','2017000004728|4','2017000004742|1','2017000004742|2','2017000004743|1','2017000004743|2','2017000004743|3','2017000004743|4','2017000004748|1','2017000004748|2','2017000004767|1','2017000004767|2','2017000004767|3','2017000004770|1','2017000004770|2','2017000004770|3','2017000004770|4','2017000004818|1','2017000004823|1','2017000004823|2','2017000004840|1','2017000004840|2','2017000004840|3','2017000004840|4','2017000004854|1','2017000004857|1','2017000004865|1','2017000004865|2','2017000004911|1','2017000004911|2','2017000004913|1','2017000004913|2','2017000004940|1','2017000004940|2','2017000004940|3','2017000004940|4','2017000004940|5','2017000004940|6','2017000004941|1','2017000005077|1','2017000005077|2','2017000005077|3','2017000005077|4','2017000005092|1','2017000005092|2','2017000005097|1','2017000005112|1','2017000005176|1','2017000005176|2','2017000005176|3','2017000005176|4','2017000005204|1','2017000005204|2','2017000005208|1','2017000005208|2','2017000005263|1','2017000005263|2','2017000005263|3','2017000005263|4','2017000005263|5','2017000005263|6','2017000005263|7','2017000005264|1','2017000005275|1','2017000005275|2','2017000005275|3','2017000005276|1','2017000005276|2','2017000005276|3','2017000005276|4','2017000005309|1','2017000005309|2','2017000005309|3','2017000005311|1','2017000005311|2','2017000005403|1','2017000005447|1','2017000005447|2','2017000005452|1','2017000005452|2','2017000005475|1','2017000005475|2','2017000005475|3','2017000005614|1','2017000005614|2','2017000005636|1','2017000005636|2','2017000005636|3','2017000005636|4','2017000005643|1','2017000005643|2','2017000005660|1','2017000005660|2','2017000005660|3','2017000005660|4','2017000005660|5','2017000005667|1','2017000005667|2','2017000005667|3','2017000005667|4','2017000005667|5','2017000005667|6','2017000005685|1','2017000005685|2','2017000005694|1','2017000005706|1','2017000005706|2','2017000005713|1','2017000005713|2','2017000005723|1','2017000005723|2','2017000005757|1','2017000005767|1','2017000005767|2','2017000005767|3','2017000005767|4','2017000005838|1','2017000005838|2','2017000005841|1','2017000005841|2','2017000005841|3','2017000005940|1','2017000005951|1','2017000005960|1','2017000005971|1','2017000005975|1','2017000005975|2','2017000005976|1','2017000006004|1','2017000006004|2','2017000006007|1','2017000006007|2','2017000006034|1','2017000006056|1','2017000006056|2','2017000006076|1','2017000006076|2','2017000006076|3','2017000006076|4','2017000006089|1','2017000006089|2','2017000006096|1','2017000006096|2','2017000006118|1','2017000006118|2','2017000006118|3','2017000006209|1','2017000006209|2','2017000006209|3','2017000006209|4','2017000006225|1','2017000006225|2','2017000006225|3','2017000006252|1','2017000006252|2','2017000006271|1','2017000006284|1','2017000006290|1','2017000006290|2','2017000006290|3','2017000006290|4','2017000006370|1','2017000006377|1','2017000006377|2','2017000006377|3','2017000006384|1','2017000006384|2','2017000006430|1','2017000006430|2','2017000006430|3','2017000006431|1','2017000006431|2','2017000006448|1','2017000006448|2','2017000006516|1','2017000006552|1','2017000006552|2','2017000006552|3','2017000006574|1','2017000006574|2','2017000006574|3','2017000006574|4','2017000006574|5','2017000006574|6','2017000006579|1','2017000006626|1','2017000006626|2','2017000006661|1','2017000006661|2','2017000006667|1','2017000006667|2','2017000006667|3','2017000006667|4','2017000006681|1','2017000006696|1','2017000006707|1','2017000006707|2','2017000006715|1','2017000006715|2','2017000006766|1','2017000006766|2','2017000006766|3','2017000006784|1','2017000006796|1','2017000006796|2','2017000006796|3','2017000006808|1','2017000006808|2','2017000006808|3','2017000006808|4','2017000006808|5','2017000006829|1','2017000006837|1','2017000006865|1','2017000006865|2','2017000006943|1','2017000006953|1','2017000006953|2','2017000006953|3','2017000006953|4','2017000006953|5','2017000006958|1','2017000006958|2','2017000006980|1','2017000006980|2','2017000006996|1','2017000007056|1','2017000007056|2','2017000007056|3','2017000007099|1','2017000007099|2','2017000007099|3','2017000007104|1','2017000007104|2','2017000007105|1','2017000007107|1','2017000007107|2','2017000007107|3','2017000007107|4','2017000007107|5','2017000007111|1','2017000007153|1','2017000007153|2','2017000007153|3','2017000007153|4','2017000007153|5','2017000007175|1','2017000007175|2','2017000007221|1','2017000007245|1','2017000007245|2','2017000007247|1','2017000007247|2','2017000007247|3','2017000007247|4','2017000007247|5','2017000007251|1','2017000007251|2','2017000007251|3','2017000007251|4','2017000007271|1','2017000007281|1','2017000007299|1','2017000007299|2','2017000007340|1','2017000007340|2','2017000007390|1','2017000007490|1','2017000007490|2','2017000007536|1','2017000007536|2','2017000007536|3','2017000007565|1','2017000007565|2','2017000007565|3','2017000007565|4','2017000007566|1','2017000007566|2','2017000007579|1','2017000007591|1','2017000007591|2','2017000007595|1','2017000007595|2','2017000007595|3','2017000007595|4','2017000007595|5','2017000007595|6','2017000007637|1','2017000007706|1','2017000007706|2','2017000007706|3','2017000007730|1','2017000007730|2','2017000007730|3','2017000007738|1','2017000007759|1','2017000007759|2','2017000007759|3','2017000007759|4','2017000007774|1','2017000007774|2','2017000007789|1','2017000007789|2','2017000007789|3','2017000007789|4','2017000007790|1','2017000007802|1','2017000007802|2','2017000007844|1','2017000007844|2','2017000007844|3','2017000007844|4','2017000007844|5','2017000007847|1','2017000007851|1','2017000007851|2','2017000007851|3','2017000007894|1','2017000007894|2','2017000007903|1','2017000007978|1','2017000007978|2','2017000007978|3','2017000007978|4','2017000007978|5','2017000007978|6','2017000008006|1','2017000008024|1','2017000008024|2','2017000008024|3','2017000008026|1','2017000008052|1','2017000008052|2','2017000008052|3','2017000008056|1','2017000008056|2','2017000008056|3','2017000008058|1','2017000008058|2','2017000008058|3','2017000008058|4','2017000008070|1','2017000008070|2','2017000008095|1','2017000008095|2','2017000008095|3','2017000008095|4','2017000008166|1','2017000008166|2','2017000008174|1','2017000008174|2','2017000008176|1','2017000008178|1','2017000008187|1','2017000008187|2','2017000008251|1','2017000008355|1','2017000008355|2','2017000008355|3','2017000008355|4','2017000008406|1','2017000008406|2','2017000008406|3','2017000008406|4','2017000008460|1','2017000008467|1','2017000008467|2','2017000008467|3','2017000008478|1','2017000008495|1','2017000008515|1','2017000008515|2','2017000008515|3','2017000008519|1','2017000008519|2','2017000008519|3','2017000008519|4','2017000008519|5','2017000008563|1','2017000008563|2','2017000008571|1','2017000008571|2','2017000008571|3','2017000008571|4','2017000008624|1','2017000008624|2','2017000008624|3','2017000008625|1','2017000008625|2','2017000008625|3','2017000008625|4','2017000008625|5','2017000008653|1','2017000008653|2','2017000008653|3','2017000008653|4','2017000008707|1','2017000008734|1','2017000008734|2','2017000008737|1','2017000008737|2','2017000008737|3','2017000008737|4','2017000008738|1','2017000008803|1','2017000008803|2','2017000008876|1','2017000008876|2','2017000008919|1','2017000008919|2','2017000008922|1','2017000008922|2','2017000008922|3','2017000008922|4','2017000008922|5','2017000008933|1','2017000008950|1','2017000008950|2','2017000008970|1','2017000008975|1','2017000008980|1','2017000008980|2','2017000008980|3','2017000008980|4','2017000009012|1','2017000009012|2','2017000009081|1','2017000009172|1','2017000009178|1','2017000009178|2','2017000009178|3','2017000009178|4','2017000009178|5','2017000009194|1','2017000009194|2','2017000009233|1','2017000009233|2','2017000009268|1','2017000009268|2','2017000009268|3','2017000009277|1','2017000009283|1','2017000009304|1','2017000009309|1','2017000009332|1','2017000009332|2','2017000009332|3','2017000009332|4','2017000009447|1','2017000009449|1','2017000009449|2','2017000009491|1','2017000009491|2','2017000009500|1','2017000009530|1','2017000009530|2','2017000009586|1','2017000009586|2','2017000009598|1','2017000009598|2','2017000009598|3','2017000009621|1','2017000009621|2','2017000009645|1','2017000009645|2','2017000009652|1','2017000009652|2','2017000009668|1','2017000009668|2','2017000009735|1','2017000009735|2','2017000009745|1','2017000009745|2','2017000009745|3','2017000009745|4','2017000009755|1','2017000009755|2','2017000009755|3','2017000009755|4','2017000009770|1','2017000009770|2','2017000009770|3','2017000009770|4','2017000009790|1','2017000009790|2','2017000009804|1','2017000009804|2','2017000009820|1','2017000009820|2','2017000009825|1','2017000009825|2','2017000009844|1','2017000009844|2','2017000009847|1','2017000009847|2','2017000009850|1','2017000009850|2','2017000009850|3','2017000009856|1','2017000009856|2','2017000009856|3','2017000009918|1','2017000009925|1','2017000009925|2','2017000009925|3','2017000009925|4','2017000009975|1','2017000009978|1','2017000009978|2','2017000009978|3','2017000009978|4','2017000009993|1','2017000010023|1','2017000010023|2','2017000010072|1','2017000010072|2','2017000010072|3','2017000010073|1','2017000010073|2','2017000010073|3','2017000010073|4','2017000010080|1','2017000010080|2','2017000010096|1','2017000010096|2','2017000010110|1','2017000010133|1','2017000010150|1','2017000010150|2','2017000010178|1','2017000010185|1','2017000010185|2','2017000010185|3','2017000010256|1','2017000010267|1','2017000010267|2','2017000010335|1','2017000010345|1','2017000010348|1','2017000010348|2','2017000010348|3','2017000010362|1','2017000010416|1','2017000010432|1','2017000010432|2','2017000010463|1','2017000010463|2','2017000010463|3','2017000010463|4','2017000010463|5','2017000010463|6','2017000010463|7','2017000010476|1','2017000010476|2','2017000010483|1','2017000010510|1','2017000010526|1','2017000010555|1','2017000010560|1','2017000010560|2','2017000010560|3','2017000010560|4','2017000010597|1','2017000010597|2','2017000010599|1','2017000010624|1','2017000010624|2','2017000010624|3','2017000010624|4','2017000010661|1','2017000010661|2','2017000010699|1','2017000010699|2','2017000010699|3','2017000010699|4','2017000010699|5','2017000010736|1','2017000010736|2','2017000010747|1','2017000010747|2','2017000010772|1','2017000010772|2','2017000010772|3','2017000010772|4','2017000010772|5','2017000010772|6','2017000010772|7','2017000010774|1','2017000010774|2','2017000010774|3','2017000010774|4','2017000010832|1','2017000010834|1','2017000010834|2','2017000010834|3','2017000010834|4','2017000010844|1','2017000010844|2','2017000010844|3','2017000010856|1','2017000010856|2','2017000010905|1','2017000010905|2','2017000010905|3','2017000010905|4','2017000010953|1','2017000010953|2','2017000010992|1','2017000010992|2','2017000011019|1','2017000011042|1','2017000011042|2','2017000011042|3','2017000011042|4','2017000011072|1','2017000011072|2','2017000011072|3','2017000011094|1','2017000011094|2','2017000011113|1','2017000011113|2','2017000011113|3','2017000011119|1','2017000011119|2','2017000011119|3','2017000011122|1','2017000011130|1','2017000011130|2','2017000011147|1','2017000011165|1','2017000011165|2','2017000011180|1','2017000011214|1','2017000011222|1','2017000011226|1','2017000011228|1','2017000011228|2','2017000011256|1','2017000011269|1','2017000011279|1','2017000011279|2','2017000011284|1','2017000011284|2','2017000011284|3','2017000011289|1','2017000011289|2','2017000011327|1','2017000011327|2','2017000011335|1','2017000011335|2','2017000011335|3','2017000011335|4','2017000011342|1','2017000011342|2','2017000011386|1','2017000011450|1','2017000011450|2','2017000011450|3','2017000011450|4','2017000011450|5','2017000011450|6','2017000011450|7','2017000011450|8','2017000011465|1','2017000011465|2','2017000011470|1','2017000011475|1','2017000011475|2','2017000011497|1','2017000011497|2','2017000011497|3','2017000011497|4','2017000011497|5','2017000011533|1','2017000011533|2','2017000011533|3','2017000011546|1','2017000011546|2','2017000011555|1','2017000011555|2','2017000011578|1','2017000011578|2','2017000011603|1','2017000011627|1','2017000011627|2','2017000011627|3','2017000011627|4','2017000011640|1','2017000011671|1','2017000011671|2','2017000011682|1','2017000011682|2','2017000011682|3','2017000011682|4','2017000011682|5','2017000011730|1','2017000011730|2','2017000011745|1','2017000011751|1','2017000011754|1','2017000011754|2','2017000011763|1','2017000011763|2','2017000011797|1','2017000011811|1','2017000011811|2','2017000011811|3','2017000011811|4','2017000011811|5','2017000011820|1','2017000011820|2','2017000011839|1','2017000011839|2','2017000011839|3','2017000011842|1','2017000011853|1','2017000011853|2','2017000011894|1','2017000011894|2','2017000011939|1','2017000011981|1','2017000011981|2','2017000011981|3','2017000011990|1','2017000011990|2','2017000011990|3','2017000011990|4','2017000012077|1','2017000012077|2','2017000012077|3','2017000012079|1','2017000012079|2','2017000012079|3','2017000012079|4','2017000012079|5','2017000012111|1','2017000012111|2','2017000012111|3','2017000012113|1','2017000012113|2','2017000012146|1','2017000012146|2','2017000012146|3','2017000012146|4','2017000012146|5','2017000012147|1','2017000012147|2','2017000012171|1','2017000012251|1','2017000012258|1','2017000012258|2','2017000012315|1','2017000012315|2','2017000012315|3','2017000012315|4','2017000012315|5','2017000012320|1','2017000012320|2','2017000012320|3','2017000012320|4','2017000012320|5','2017000012338|1','2017000012404|1','2017000012404|2','2017000012450|1','2017000012450|2','2017000012484|1','2017000012484|2','2017000012484|3','2017000012484|4','2017000012490|1','2017000012490|2','2017000012565|1','2017000012582|1','2017000012582|2','2017000012582|3','2017000012582|4','2017000012607|1','2017000012607|2','2017000012607|3','2017000012607|4','2017000012665|1','2017000012665|2','2017000012665|3','2017000012722|1','2017000012722|2','2017000012748|1','2017000012831|1','2017000012831|2','2017000012851|1','2017000012851|2','2017000012851|3','2017000012851|4','2017000012860|1','2017000012860|2','2017000012860|3','2017000012860|4','2017000012860|5','2017000012865|1','2017000012865|2','2017000012893|1','2017000012894|1','2017000012894|2','2017000012894|3','2017000012894|4','2017000012937|1','2017000012937|2','2017000012965|1','2017000012974|1','2017000012974|2','2017000012974|3','2017000012974|4','2017000012979|1','2017000012979|2','2017000013003|1','2017000013003|2','2017000013025|1','2017000013025|2','2017000013046|1','2017000013046|2','2017000013081|1','2017000013081|2','2017000013083|1','2017000013128|1','2017000013128|2','2017000013128|3','2017000013139|1','2017000013139|2','2017000013139|3','2017000013139|4','2017000013150|1','2017000013171|1','2017000013189|1','2017000013189|2','2017000013215|1','2017000013215|2','2017000013215|3','2017000013272|1','2017000013272|2','2017000013272|3','2017000013272|4','2017000013277|1','2017000013277|2','2017000013277|3','2017000013277|4')\n",
      "        \n"
     ]
    },
    {
     "name": "stdout",
     "output_type": "stream",
     "text": [
      "----database sample: [5y_2017_2021_persons]\n"
     ]
    }
   ],
   "source": [
    "r = '5y'\n",
    "y = '2021'\n",
    "d = 'persons'\n",
    "\n",
    "\n",
    "# serialnos = list(map(lambda x: \"'\" + str(x) + \"'\", lazies['serialno'].to_list()))\n",
    "# db_lazies = get_db_sample(r, y, d, serialnos[:5000], conn)\n",
    "\n",
    "serialnos = list(map(lambda x: \"'\"+str(x[0])+'|'+str(int(x[1]))+\"'\", lazies[['serialno', 'sporder']].values))\n",
    "db_lazies = get_db_sample(r, y, d, serialnos[:5000], conn)"
   ]
  },
  {
   "cell_type": "code",
   "execution_count": 74,
   "id": "c6bd8b51",
   "metadata": {},
   "outputs": [
    {
     "data": {
      "text/plain": [
       "'0 mismatches found in 5y_2021_persons'"
      ]
     },
     "execution_count": 74,
     "metadata": {},
     "output_type": "execute_result"
    }
   ],
   "source": [
    "key = ['serialno']\n",
    "if d == 'persons':\n",
    "    key.append('sporder')\n",
    "\n",
    "compare_source = lazies.sort_values(key).set_index(key)\n",
    "compare_db = db_lazies.astype(compare_source.dtypes).sort_values(key).set_index(key)\n",
    "\n",
    "compare = (compare_db.replace(np.nan, 'NA') != compare_source.replace(np.NaN, 'NA'))\n",
    "change_cols = []\n",
    "for col in compare.columns:\n",
    "    if compare[col].sum()>0:\n",
    "        change_cols.append(col)\n",
    "\n",
    "compare_db[change_cols] = compare_db[change_cols].apply(pd.to_numeric)\n",
    "compare_source[change_cols] = compare_source[change_cols].apply(pd.to_numeric)\n",
    "mismatch = (compare_db.replace(np.nan, 'NA') != compare_source.replace(np.NaN, 'NA')).sum().sum()\n",
    "\n",
    "\"{} mismatches found in {}_{}_{}\".format(mismatch, r, y, d)"
   ]
  },
  {
   "cell_type": "code",
   "execution_count": null,
   "id": "690a40ac",
   "metadata": {},
   "outputs": [],
   "source": []
  },
  {
   "cell_type": "code",
   "execution_count": null,
   "id": "09c2d60c",
   "metadata": {},
   "outputs": [],
   "source": []
  },
  {
   "cell_type": "code",
   "execution_count": null,
   "id": "f2452e2b",
   "metadata": {},
   "outputs": [],
   "source": []
  },
  {
   "cell_type": "code",
   "execution_count": 75,
   "id": "d31cfee5",
   "metadata": {},
   "outputs": [],
   "source": [
    "def get_source_sample(r, y, d):\n",
    "    path = r'C:\\Users\\jchu\\OneDrive - San Diego Association of Governments\\Projects\\2024\\2024-009 ACS PUMS ETL 1Y and 5Y 2010 - 2022\\Data'\n",
    "    with zipfile.ZipFile(path + r\"\\{} {}r PUMS\\raw\\csv_{}.zip\".format(y if r == '1y' else '{}-{}'.format(str(int(y)-4), y), r, 'hus' if d =='households' else 'pus')) as z:\n",
    "        # check 3\n",
    "        sample_df = None\n",
    "        N = 10000//len([_ for _ in z.infolist() if _.filename.endswith('.csv')])\n",
    "        for text_file in z.infolist():\n",
    "            if text_file.filename.endswith('.csv'):\n",
    "                dtype_convert = {\"SERIALNO\":pl.String}\n",
    "                if d == 'persons':\n",
    "                    dtype_convert['SPORDER'] = pl.String\n",
    "                df = pl.read_csv(z.open(text_file, mode='r').read(),\n",
    "                                dtypes = dtype_convert,\n",
    "                                null_values = ['N.A.', ' ']).lazy()\n",
    "                # check 3\n",
    "                if sample_df is not None:\n",
    "                    sample_df = pd.concat([sample_df, df.limit(n=N).collect().to_pandas()])\n",
    "                else:\n",
    "                    sample_df = df.limit(n=N).collect().to_pandas()\n",
    "        sample_df.columns = sample_df.columns.str.lower()\n",
    "        print('----source sample: [{}_{}_{}]'.format(r, y if r == '1y' else '{}_{}'.format(str(int(y)-4), y), d))\n",
    "        return sample_df\n",
    "    \n",
    "def get_db_sample(r, y, d, serialnos, conn):\n",
    "    serialnos = list(serialnos)\n",
    "    rows_query = f\"\"\"\n",
    "    SELECT * FROM [acs].[pums].[{r}_{y if r == '1y' else '{}_{}'.format(str(int(y)-4), y)}_{d}] WHERE SERIALNO IN\n",
    "    (SELECT SERIALNO\n",
    "    FROM [acs].[pums].[{r}_{y if r == '1y' else '{}_{}'.format(str(int(y)-4), y)}_{d}]\n",
    "    WHERE SERIALNO IN ({','.join(serialnos)}))\n",
    "    \"\"\"\n",
    "    \n",
    "    if d == 'persons':\n",
    "        rows_query = \"\"\"\n",
    "        SELECT *\n",
    "        FROM [acs].[pums].[{}_{}_{}]\n",
    "        WHERE CONCAT(SERIALNO, '|', CAST(SPORDER AS INT)) IN ({})\n",
    "        \"\"\".format(r, y if r == '1y' else '{}_{}'.format(str(int(y)-4), y), d, ','.join(serialnos))\n",
    "    print(rows_query)\n",
    "    rows = pd.read_sql_query(rows_query, con=conn)\n",
    "\n",
    "    print('----database sample: [{}_{}_{}]'.format(r, y if r == '1y' else '{}_{}'.format(str(int(y)-4), y), d))\n",
    "    rows.columns = rows.columns.str.lower()\n",
    "    return rows\n",
    "\n",
    "def compare_samples(r, y, d, conn):\n",
    "    source = get_source_sample(r, y, d)\n",
    "    \n",
    "    key = ['serialno']\n",
    "    if d == 'persons':\n",
    "        key.append('sporder')\n",
    "    \n",
    "    if d == \"persons\":\n",
    "        serialnos = map(lambda x: \"'\"+str(x[0])+'|'+str(x[1])+\"'\", source[key].values)\n",
    "    else:\n",
    "        serialnos = map(lambda x: \"'\" + x + \"'\", source['serialno'].to_list())\n",
    "    print('serialno completed')\n",
    "    db = get_db_sample(r, y, d, serialnos, conn)\n",
    "    \n",
    "    \n",
    "    compare_source = source.sort_values(key).set_index(key)\n",
    "    compare_db = db.astype(compare_source.dtypes).sort_values(key).set_index(key)\n",
    "    \n",
    "    compare = (compare_db.replace(np.nan, 'NA') != compare_source.replace(np.NaN, 'NA'))\n",
    "    change_cols = []\n",
    "    for col in compare.columns:\n",
    "        if compare[col].sum()>0:\n",
    "            change_cols.append(col)\n",
    "    \n",
    "    compare_db[change_cols] = compare_db[change_cols].apply(pd.to_numeric)\n",
    "    compare_source[change_cols] = compare_source[change_cols].apply(pd.to_numeric)\n",
    "    mismatch = (compare_db.replace(np.nan, 'NA') != compare_source.replace(np.NaN, 'NA')).sum().sum()\n",
    "    \n",
    "    return \"{} mismatches found in {}_{}_{}\".format(mismatch, r, y, d)"
   ]
  },
  {
   "cell_type": "code",
   "execution_count": 89,
   "id": "eecb286a",
   "metadata": {},
   "outputs": [
    {
     "name": "stdout",
     "output_type": "stream",
     "text": [
      "----source sample: [5y_2012_2016_persons]\n"
     ]
    }
   ],
   "source": [
    "r = '5y'\n",
    "y = '2016'\n",
    "d = 'persons'\n",
    "a = get_source_sample(r, y, d)"
   ]
  },
  {
   "cell_type": "code",
   "execution_count": 90,
   "id": "eceedb65",
   "metadata": {},
   "outputs": [
    {
     "name": "stdout",
     "output_type": "stream",
     "text": [
      "\n",
      "        SELECT *\n",
      "        FROM [acs].[pums].[5y_2012_2016_persons]\n",
      "        WHERE CONCAT(SERIALNO, '|', CAST(SPORDER AS INT)) IN ('2012000000002|1','2012000000009|1','2012000000009|2','2012000000010|1','2012000000010|2','2012000000010|3','2012000000010|4','2012000000010|5','2012000000010|6','2012000000010|7','2012000000010|8','2012000000010|9','2012000000010|10','2012000000010|11','2012000000011|1','2012000000011|2','2012000000017|1','2012000000020|1','2012000000020|2','2012000000020|3','2012000000020|4','2012000000022|1','2012000000024|1','2012000000025|1','2012000000025|2','2012000000028|1','2012000000031|1','2012000000031|2','2012000000037|1','2012000000037|2','2012000000039|1','2012000000040|1','2012000000040|2','2012000000045|1','2012000000047|1','2012000000047|2','2012000000050|1','2012000000052|1','2012000000057|1','2012000000057|2','2012000000059|1','2012000000059|2','2012000000060|1','2012000000067|1','2012000000069|1','2012000000069|2','2012000000070|1','2012000000071|1','2012000000071|2','2012000000073|1','2012000000073|2','2012000000074|1','2012000000076|1','2012000000091|1','2012000000093|1','2012000000093|2','2012000000093|3','2012000000093|4','2012000000093|5','2012000000098|1','2012000000098|2','2012000000099|1','2012000000099|2','2012000000099|3','2012000000099|4','2012000000103|1','2012000000103|2','2012000000103|3','2012000000105|1','2012000000111|1','2012000000121|1','2012000000122|1','2012000000122|2','2012000000123|1','2012000000123|2','2012000000124|1','2012000000124|2','2012000000124|3','2012000000124|4','2012000000125|1','2012000000129|1','2012000000129|2','2012000000130|1','2012000000134|1','2012000000134|2','2012000000134|3','2012000000134|4','2012000000135|1','2012000000136|1','2012000000136|2','2012000000136|3','2012000000137|1','2012000000138|1','2012000000138|2','2012000000141|1','2012000000141|2','2012000000152|1','2012000000152|2','2012000000154|1','2012000000154|2','2012000000165|1','2012000000165|2','2012000000167|1','2012000000172|1','2012000000172|2','2012000000177|1','2012000000186|1','2012000000199|1','2012000000199|2','2012000000199|3','2012000000199|4','2012000000199|5','2012000000213|1','2012000000213|2','2012000000213|3','2012000000213|4','2012000000217|1','2012000000220|1','2012000000220|2','2012000000220|3','2012000000222|1','2012000000222|2','2012000000223|1','2012000000223|2','2012000000223|3','2012000000223|4','2012000000230|1','2012000000237|1','2012000000240|1','2012000000240|2','2012000000240|3','2012000000240|4','2012000000240|5','2012000000245|1','2012000000245|2','2012000000245|3','2012000000245|4','2012000000245|5','2012000000245|6','2012000000246|1','2012000000248|1','2012000000248|2','2012000000249|1','2012000000249|2','2012000000249|3','2012000000255|1','2012000000255|2','2012000000256|1','2012000000256|2','2012000000257|1','2012000000257|2','2012000000258|1','2012000000258|2','2012000000258|3','2012000000258|4','2012000000264|1','2012000000266|1','2012000000266|2','2012000000266|3','2012000000276|1','2012000000285|1','2012000000285|2','2012000000285|3','2012000000285|4','2012000000285|5','2012000000287|1','2012000000290|1','2012000000290|2','2012000000290|3','2012000000290|4','2012000000293|1','2012000000293|2','2012000000293|3','2012000000293|4','2012000000293|5','2012000000293|6','2012000000299|1','2012000000308|1','2012000000308|2','2012000000308|3','2012000000308|4','2012000000308|5','2012000000309|1','2012000000310|1','2012000000310|2','2012000000321|1','2012000000324|1','2012000000330|1','2012000000330|2','2012000000330|3','2012000000330|4','2012000000331|1','2012000000331|2','2012000000335|1','2012000000335|2','2012000000338|1','2012000000339|1','2012000000339|2','2012000000344|1','2012000000344|2','2012000000348|1','2012000000348|2','2012000000348|3','2012000000348|4','2012000000348|5','2012000000353|1','2012000000353|2','2012000000358|1','2012000000358|2','2012000000362|1','2012000000362|2','2012000000363|1','2012000000363|2','2012000000363|3','2012000000363|4','2012000000364|1','2012000000365|1','2012000000368|1','2012000000370|1','2012000000370|2','2012000000374|1','2012000000374|2','2012000000375|1','2012000000375|2','2012000000381|1','2012000000385|1','2012000000397|1','2012000000404|1','2012000000410|1','2012000000421|1','2012000000426|1','2012000000426|2','2012000000432|1','2012000000432|2','2012000000435|1','2012000000435|2','2012000000435|3','2012000000435|4','2012000000438|1','2012000000441|1','2012000000441|2','2012000000441|3','2012000000441|4','2012000000443|1','2012000000443|2','2012000000443|3','2012000000450|1','2012000000450|2','2012000000459|1','2012000000459|2','2012000000008|1','2012000000008|2','2012000000008|3','2012000000012|1','2012000000012|2','2012000000012|3','2012000000015|1','2012000000015|2','2012000000016|1','2012000000029|1','2012000000029|2','2012000000029|3','2012000000033|1','2012000000033|2','2012000000033|3','2012000000033|4','2012000000033|5','2012000000036|1','2012000000036|2','2012000000036|3','2012000000036|4','2012000000038|1','2012000000038|2','2012000000038|3','2012000000049|1','2012000000049|2','2012000000051|1','2012000000054|1','2012000000055|1','2012000000055|2','2012000000055|3','2012000000055|4','2012000000061|1','2012000000061|2','2012000000062|1','2012000000062|2','2012000000062|3','2012000000062|4','2012000000062|5','2012000000062|6','2012000000063|1','2012000000063|2','2012000000063|3','2012000000064|1','2012000000064|2','2012000000064|3','2012000000064|4','2012000000078|1','2012000000083|1','2012000000083|2','2012000000083|3','2012000000084|1','2012000000084|2','2012000000084|3','2012000000090|1','2012000000092|1','2012000000094|1','2012000000094|2','2012000000094|3','2012000000095|1','2012000000104|1','2012000000104|2','2012000000104|3','2012000000104|4','2012000000107|1','2012000000112|1','2012000000114|1','2012000000114|2','2012000000115|1','2012000000115|2','2012000000116|1','2012000000116|2','2012000000120|1','2012000000120|2','2012000000120|3','2012000000120|4','2012000000128|1','2012000000128|2','2012000000128|3','2012000000131|1','2012000000139|1','2012000000143|1','2012000000145|1','2012000000145|2','2012000000146|1','2012000000147|1','2012000000147|2','2012000000149|1','2012000000158|1','2012000000170|1','2012000000170|2','2012000000170|3','2012000000176|1','2012000000176|2','2012000000180|1','2012000000180|2','2012000000185|1','2012000000185|2','2012000000189|1','2012000000193|1','2012000000193|2','2012000000193|3','2012000000193|4','2012000000193|5','2012000000193|6','2012000000193|7','2012000000198|1','2012000000198|2','2012000000198|3','2012000000200|1','2012000000200|2','2012000000215|1','2012000000215|2','2012000000218|1','2012000000224|1','2012000000224|2','2012000000224|3','2012000000224|4','2012000000227|1','2012000000227|2','2012000000231|1','2012000000231|2','2012000000234|1','2012000000250|1','2012000000250|2','2012000000252|1','2012000000252|2','2012000000259|1','2012000000259|2','2012000000269|1','2012000000274|1','2012000000274|2','2012000000274|3','2012000000274|4','2012000000277|1','2012000000283|1','2012000000283|2','2012000000284|1','2012000000297|1','2012000000298|1','2012000000301|1','2012000000303|1','2012000000304|1','2012000000307|1','2012000000318|1','2012000000319|1','2012000000319|2','2012000000319|3','2012000000319|4','2012000000327|1','2012000000327|2','2012000000329|1','2012000000329|2','2012000000334|1','2012000000334|2','2012000000336|1','2012000000341|1','2012000000341|2','2012000000341|3','2012000000341|4','2012000000341|5','2012000000341|6','2012000000342|1','2012000000346|1','2012000000346|2','2012000000346|3','2012000000346|4','2012000000355|1','2012000000355|2','2012000000359|1','2012000000360|1','2012000000366|1','2012000000366|2','2012000000372|1','2012000000372|2','2012000000376|1','2012000000376|2','2012000000378|1','2012000000378|2','2012000000382|1','2012000000382|2','2012000000382|3','2012000000382|4','2012000000386|1','2012000000386|2','2012000000391|1','2012000000391|2','2012000000400|1','2012000000400|2','2012000000401|1','2012000000401|2','2012000000411|1','2012000000411|2','2012000000423|1','2012000000423|2','2012000000424|1','2012000000424|2','2012000000424|3','2012000000433|1','2012000000433|2','2012000000437|1','2012000000437|2','2012000000437|3','2012000000446|1','2012000000446|2','2012000000449|1','2012000000449|2','2012000000449|3','2012000000449|4','2012000000461|1','2012000000461|2','2012000000461|3','2012000000463|1','2012000000463|2','2012000000470|1','2012000000470|2','2012000000470|3','2012000000470|4','2012000000470|5','2012000000479|1','2012000000479|2','2012000000479|3','2012000000487|1','2012000000487|2','2012000000489|1','2012000000489|2','2012000000491|1','2012000000501|1','2012000000501|2','2012000000504|1','2012000000504|2','2012000000504|3','2012000000504|4','2012000000507|1','2012000000508|1','2012000000508|2','2012000000508|3','2012000000511|1','2012000000511|2','2012000000516|1','2012000000516|2','2012000000526|1','2012000000526|2','2012000000528|1','2012000000528|2','2012000000532|1','2012000000536|1','2012000000537|1','2012000000537|2','2012000000537|3','2012000000001|1','2012000000001|2','2012000000005|1','2012000000013|1','2012000000018|1','2012000000018|2','2012000000018|3','2012000000021|1','2012000000027|1','2012000000027|2','2012000000030|1','2012000000035|1','2012000000035|2','2012000000035|3','2012000000035|4','2012000000035|5','2012000000035|6','2012000000035|7','2012000000035|8','2012000000041|1','2012000000041|2','2012000000046|1','2012000000046|2','2012000000056|1','2012000000065|1','2012000000072|1','2012000000072|2','2012000000080|1','2012000000082|1','2012000000082|2','2012000000082|3','2012000000085|1','2012000000085|2','2012000000086|1','2012000000086|2','2012000000086|3','2012000000087|1','2012000000089|1','2012000000089|2','2012000000109|1','2012000000110|1','2012000000110|2','2012000000110|3','2012000000113|1','2012000000113|2','2012000000117|1','2012000000117|2','2012000000117|3','2012000000117|4','2012000000117|5','2012000000133|1','2012000000133|2','2012000000133|3','2012000000133|4','2012000000133|5','2012000000133|6','2012000000133|7','2012000000148|1','2012000000150|1','2012000000153|1','2012000000153|2','2012000000153|3','2012000000153|4','2012000000156|1','2012000000156|2','2012000000156|3','2012000000157|1','2012000000157|2','2012000000157|3','2012000000161|1','2012000000162|1','2012000000162|2','2012000000163|1','2012000000168|1','2012000000168|2','2012000000174|1','2012000000174|2','2012000000175|1','2012000000183|1','2012000000183|2','2012000000184|1','2012000000184|2','2012000000184|3','2012000000184|4','2012000000184|5','2012000000184|6','2012000000187|1','2012000000187|2','2012000000191|1','2012000000191|2','2012000000194|1','2012000000194|2','2012000000194|3','2012000000194|4','2012000000194|5','2012000000194|6','2012000000197|1','2012000000208|1','2012000000208|2','2012000000208|3','2012000000208|4','2012000000208|5','2012000000209|1','2012000000216|1','2012000000216|2','2012000000216|3','2012000000225|1','2012000000226|1','2012000000226|2','2012000000226|3','2012000000226|4','2012000000229|1','2012000000229|2','2012000000232|1','2012000000232|2','2012000000232|3','2012000000232|4','2012000000232|5','2012000000232|6','2012000000233|1','2012000000233|2','2012000000236|1','2012000000236|2','2012000000236|3','2012000000236|4','2012000000239|1','2012000000239|2','2012000000239|3','2012000000239|4','2012000000242|1','2012000000242|2','2012000000242|3','2012000000242|4','2012000000244|1','2012000000244|2','2012000000244|3','2012000000244|4','2012000000244|5','2012000000244|6','2012000000244|7','2012000000244|8','2012000000254|1','2012000000254|2','2012000000265|1','2012000000267|1','2012000000270|1','2012000000271|1','2012000000271|2','2012000000275|1','2012000000281|1','2012000000281|2','2012000000289|1','2012000000291|1','2012000000291|2','2012000000294|1','2012000000295|1','2012000000295|2','2012000000313|1','2012000000313|2','2012000000317|1','2012000000320|1','2012000000320|2','2012000000320|3','2012000000322|1','2012000000323|1','2012000000323|2','2012000000326|1','2012000000326|2','2012000000333|1','2012000000340|1','2012000000340|2','2012000000340|3','2012000000340|4','2012000000340|5','2012000000345|1','2012000000347|1','2012000000349|1','2012000000349|2','2012000000349|3','2012000000352|1','2012000000352|2','2012000000354|1','2012000000354|2','2012000000354|3','2012000000354|4','2012000000367|1','2012000000369|1','2012000000371|1','2012000000371|2','2012000000371|3','2012000000371|4','2012000000371|5','2012000000371|6','2012000000371|7','2012000000371|8','2012000000371|9','2012000000371|10','2012000000371|11','2012000000380|1','2012000000380|2','2012000000380|3','2012000000383|1','2012000000383|2','2012000000387|1','2012000000387|2','2012000000387|3','2012000000387|4','2012000000388|1','2012000000390|1','2012000000394|1','2012000000394|2','2012000000396|1','2012000000403|1','2012000000405|1','2012000000405|2','2012000000406|1','2012000000406|2','2012000000406|3','2012000000406|4','2012000000408|1','2012000000408|2','2012000000412|1','2012000000412|2','2012000000412|3','2012000000413|1','2012000000413|2','2012000000413|3','2012000000413|4','2012000000414|1','2012000000416|1','2012000000417|1','2012000000417|2','2012000000417|3','2012000000417|4','2012000000425|1','2012000000429|1','2012000000434|1','2012000000439|1','2012000000442|1','2012000000444|1','2012000000445|1','2012000000445|2','2012000000448|1','2012000000448|2','2012000000451|1','2012000000451|2','2012000000455|1','2012000000455|2','2012000000455|3','2012000000455|4','2012000000003|1','2012000000004|1','2012000000006|1','2012000000006|2','2012000000006|3','2012000000006|4','2012000000007|1','2012000000014|1','2012000000026|1','2012000000034|1','2012000000034|2','2012000000042|1','2012000000044|1','2012000000044|2','2012000000048|1','2012000000048|2','2012000000048|3','2012000000048|4','2012000000053|1','2012000000058|1','2012000000066|1','2012000000075|1','2012000000075|2','2012000000075|3','2012000000075|4','2012000000075|5','2012000000075|6','2012000000079|1','2012000000079|2','2012000000079|3','2012000000081|1','2012000000096|1','2012000000096|2','2012000000100|1','2012000000102|1','2012000000102|2','2012000000108|1','2012000000118|1','2012000000118|2','2012000000119|1','2012000000119|2','2012000000126|1','2012000000126|2','2012000000126|3','2012000000126|4','2012000000127|1','2012000000127|2','2012000000132|1','2012000000142|1','2012000000142|2','2012000000144|1','2012000000144|2','2012000000144|3','2012000000144|4','2012000000151|1','2012000000159|1','2012000000159|2','2012000000160|1','2012000000160|2','2012000000160|3','2012000000164|1','2012000000166|1','2012000000166|2','2012000000166|3','2012000000166|4','2012000000169|1','2012000000169|2','2012000000169|3','2012000000169|4','2012000000171|1','2012000000171|2','2012000000178|1','2012000000178|2','2012000000179|1','2012000000179|2','2012000000179|3','2012000000179|4','2012000000179|5','2012000000188|1','2012000000188|2','2012000000190|1','2012000000192|1','2012000000195|1','2012000000195|2','2012000000195|3','2012000000195|4','2012000000195|5','2012000000196|1','2012000000196|2','2012000000196|3','2012000000196|4','2012000000196|5','2012000000196|6','2012000000201|1','2012000000204|1','2012000000205|1','2012000000205|2','2012000000206|1','2012000000206|2','2012000000207|1','2012000000207|2','2012000000210|1','2012000000210|2','2012000000210|3','2012000000210|4','2012000000211|1','2012000000212|1','2012000000219|1','2012000000221|1','2012000000221|2','2012000000238|1','2012000000243|1','2012000000243|2','2012000000243|3','2012000000247|1','2012000000247|2','2012000000247|3','2012000000247|4','2012000000251|1','2012000000251|2','2012000000253|1','2012000000253|2','2012000000253|3','2012000000253|4','2012000000260|1','2012000000260|2','2012000000261|1','2012000000261|2','2012000000262|1','2012000000263|1','2012000000273|1','2012000000273|2','2012000000278|1','2012000000278|2','2012000000278|3','2012000000278|4','2012000000278|5','2012000000279|1','2012000000279|2','2012000000280|1','2012000000286|1','2012000000288|1','2012000000288|2','2012000000288|3','2012000000288|4','2012000000300|1','2012000000300|2','2012000000300|3','2012000000300|4','2012000000302|1','2012000000302|2','2012000000302|3','2012000000302|4','2012000000305|1','2012000000306|1','2012000000312|1','2012000000312|2','2012000000314|1','2012000000316|1','2012000000316|2','2012000000316|3','2012000000316|4','2012000000325|1','2012000000325|2','2012000000325|3','2012000000328|1','2012000000332|1','2012000000332|2','2012000000337|1','2012000000343|1','2012000000343|2','2012000000350|1','2012000000351|1','2012000000351|2','2012000000351|3','2012000000351|4','2012000000351|5','2012000000351|6','2012000000351|7','2012000000356|1','2012000000356|2','2012000000356|3','2012000000356|4','2012000000356|5','2012000000373|1','2012000000377|1','2012000000384|1','2012000000389|1','2012000000389|2','2012000000393|1','2012000000393|2','2012000000393|3','2012000000395|1','2012000000398|1','2012000000399|1','2012000000399|2','2012000000399|3','2012000000399|4','2012000000399|5','2012000000402|1','2012000000402|2','2012000000402|3','2012000000407|1','2012000000407|2','2012000000407|3','2012000000409|1','2012000000409|2','2012000000409|3','2012000000409|4','2012000000415|1','2012000000419|1','2012000000419|2','2012000000420|1','2012000000420|2','2012000000427|1','2012000000428|1','2012000000428|2','2012000000431|1','2012000000431|2','2012000000436|1','2012000000436|2','2012000000436|3','2012000000436|4','2012000000440|1','2012000000440|2','2012000000440|3','2012000000447|1','2012000000452|1','2012000000453|1','2012000000453|2','2012000000456|1','2012000000456|2','2012000000456|3','2012000000466|1','2012000000466|2','2012000000474|1','2012000000474|2','2012000000478|1','2012000000484|1','2012000000484|2','2012000000502|1','2012000000506|1','2012000000510|1','2012000000510|2','2012000000510|3','2012000000513|1','2012000000518|1','2012000000518|2','2012000000518|3','2012000000524|1')\n",
      "        \n"
     ]
    },
    {
     "name": "stdout",
     "output_type": "stream",
     "text": [
      "----database sample: [5y_2012_2016_persons]\n"
     ]
    }
   ],
   "source": [
    "# serialnos = list(map(lambda x: \"'\" + str(x) + \"'\", a['serialno'].to_list()))\n",
    "# b = get_db_sample(r, y, d, serialnos[:1000], conn)\n",
    "\n",
    "serialnos = list(map(lambda x: \"'\" +str(x[0])+'|'+str(int(x[1]))+\"'\", a[['serialno', 'sporder']].values))\n",
    "b = get_db_sample(r, y, d, serialnos[:10000], conn)"
   ]
  },
  {
   "cell_type": "code",
   "execution_count": 91,
   "id": "cbaf9aa8",
   "metadata": {},
   "outputs": [
    {
     "name": "stdout",
     "output_type": "stream",
     "text": [
      "0 mismatches found in 5y_2016_persons\n"
     ]
    }
   ],
   "source": [
    "key = ['serialno']\n",
    "if d == 'persons':\n",
    "    key.append('sporder')\n",
    "\n",
    "compare_source = a.astype({'sporder':int}).sort_values(key).set_index(key)\n",
    "compare_db = b.astype({'sporder':int}).astype(a.dtypes).sort_values(key).set_index(key)\n",
    "\n",
    "compare = (compare_db.replace(np.nan, 'NA') != compare_source.replace(np.NaN, 'NA'))\n",
    "change_cols = []\n",
    "for col in compare.columns:\n",
    "    if compare[col].sum()>0:\n",
    "        change_cols.append(col)\n",
    "\n",
    "compare_db[change_cols] = compare_db[change_cols].replace(\"N.A.\", np.nan).apply(pd.to_numeric)\n",
    "compare_source[change_cols] = compare_source[change_cols].apply(pd.to_numeric)\n",
    "mismatch = (compare_db.replace(np.nan, 'NA') != compare_source.replace(np.NaN, 'NA')).sum().sum()\n",
    "\n",
    "print(\"{} mismatches found in {}_{}_{}\".format(mismatch, r, y, d))"
   ]
  },
  {
   "cell_type": "code",
   "execution_count": null,
   "id": "dbd01d78",
   "metadata": {},
   "outputs": [],
   "source": []
  }
 ],
 "metadata": {
  "kernelspec": {
   "display_name": "Python 3",
   "language": "python",
   "name": "python3"
  },
  "language_info": {
   "codemirror_mode": {
    "name": "ipython",
    "version": 3
   },
   "file_extension": ".py",
   "mimetype": "text/x-python",
   "name": "python",
   "nbconvert_exporter": "python",
   "pygments_lexer": "ipython3",
   "version": "3.8.8"
  }
 },
 "nbformat": 4,
 "nbformat_minor": 5
}
