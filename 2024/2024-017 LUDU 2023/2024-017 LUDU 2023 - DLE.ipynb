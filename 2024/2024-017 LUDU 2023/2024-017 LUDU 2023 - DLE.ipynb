{
 "cells": [
  {
   "cell_type": "markdown",
   "metadata": {},
   "source": [
    "# 2024-017 LUDU 2023\n",
    "\n",
    "<b>Background:</b>  \n",
    "The GIS team performs an annual land use and housing inventory update in the interest of maintaining a robust and accurate catalog of the existing conditions for any given year. This catalog of snapshots are the base year inputs to SANDAG’s Regional Demographic, Economic, and Land Use Models.\n",
    "\n",
    "<b>QC Request:</b>  \n",
    "Conduct attribute checks and trend checks to verify the data's accuracy.\n",
    "\n",
    "<b>Notes:</b>  \n",
    "* _X = previous\n",
    "* _Y = current\n",
    "\n",
    "<b>Author:</b> Dante Lee  \n",
    "<b>Date Created:</b> 12/2/2022  \n",
    "\n",
    "<b>Date Modified:</b> 2/27/2024     \n",
    "<b>Modified by:</b> Dante Lee"
   ]
  },
  {
   "cell_type": "markdown",
   "metadata": {},
   "source": [
    "## Data Prep"
   ]
  },
  {
   "cell_type": "code",
   "execution_count": null,
   "metadata": {},
   "outputs": [],
   "source": [
    "import pandas as pd\n",
    "import sqlalchemy as sa"
   ]
  },
  {
   "cell_type": "code",
   "execution_count": null,
   "metadata": {},
   "outputs": [],
   "source": [
    "# Export copy of PREVIOUS LUDU\n",
    "\n",
    "server = 'sql2014b8'\n",
    "database = 'GeoDepot'\n",
    "driver = 'ODBC Driver 17 for SQL Server'\n",
    "url = f\"mssql+pyodbc://{server}/{database}?trusted_connection=yes&driver={driver}\"\n",
    "engine = sa.create_engine(url)\n",
    "\n",
    "query = \"\"\"\n",
    "        SELECT [LCKey],[parcelID],[subParcel],[lu],[du],[MGRA]\n",
    "          FROM [GeoDepot].[gis].[LUDU2022]\n",
    "        \"\"\"\n",
    "\n",
    "ludu_X = pd.read_sql(query, con=engine).add_suffix('_X')\n",
    "#ludu_X.to_csv('ludu_X.csv')\n",
    "ludu_X"
   ]
  },
  {
   "cell_type": "code",
   "execution_count": null,
   "metadata": {},
   "outputs": [],
   "source": [
    "# Export copy of CURRENT LUDU\n",
    "\n",
    "server = 'sql2014b8'\n",
    "database = 'WS'\n",
    "driver = 'ODBC Driver 17 for SQL Server'\n",
    "url = f\"mssql+pyodbc://{server}/{database}?trusted_connection=yes&driver={driver}\"\n",
    "engine = sa.create_engine(url)\n",
    "\n",
    "query = \"\"\"\n",
    "        SELECT [LCKey],[parcelID],[subParcel],[lu],[du],[MGRA]\n",
    "          FROM [WS].[gis].[LUDU2023_DRAFT_20240223]\n",
    "        \"\"\"\n",
    "\n",
    "ludu_Y = pd.read_sql(query, con=engine).add_suffix('_Y')\n",
    "#ludu_Y.to_csv('ludu_Y.csv')\n",
    "ludu_Y"
   ]
  },
  {
   "cell_type": "markdown",
   "metadata": {},
   "source": [
    "## Attribute Checks"
   ]
  },
  {
   "cell_type": "markdown",
   "metadata": {},
   "source": [
    "### ⚠️ Check value ranges\n",
    "\n",
    "<b>QC Summary:</b>  \n",
    "Value ranges are reasonable"
   ]
  },
  {
   "cell_type": "code",
   "execution_count": null,
   "metadata": {},
   "outputs": [],
   "source": [
    "# Check value ranges\n",
    "# Note: ParcelID comes from the County. Negative values indicate that the parcel is covered by water.\n",
    "print(ludu_Y[['LCKey_Y', 'parcelID_Y', 'subParcel_Y', 'lu_Y', 'du_Y', 'MGRA_Y']].describe().loc[['min', 'max']])"
   ]
  },
  {
   "cell_type": "code",
   "execution_count": null,
   "metadata": {},
   "outputs": [],
   "source": [
    "# Investigate issues with value ranges\n",
    "\n",
    "ludu_Y[ludu_Y['du_Y'] < 0]"
   ]
  },
  {
   "cell_type": "markdown",
   "metadata": {},
   "source": [
    "### ✅ Check values\n",
    "\n",
    "<b>QC Summary:</b>  \n",
    "Pass - No null values (except apn8). LCKey is unique"
   ]
  },
  {
   "cell_type": "code",
   "execution_count": null,
   "metadata": {},
   "outputs": [],
   "source": [
    "# Check for null values\n",
    "print('NULL VALUES ----------')\n",
    "print(ludu_Y.isna().any())\n",
    "\n",
    "# Check count of unique values\n",
    "print('\\nUNIQUE VALUES ----------')\n",
    "print(ludu_Y.nunique())"
   ]
  },
  {
   "cell_type": "markdown",
   "metadata": {},
   "source": [
    "### ⚠️ No DU on select land uses\n",
    "\n",
    "<b>QC Summary:</b>  \n",
    "DU found on special cases. Most are consistent with ludu2022    \n",
    "\n",
    "Investigate/confirm DU on: 1409, 4101, 4113"
   ]
  },
  {
   "cell_type": "code",
   "execution_count": null,
   "metadata": {},
   "outputs": [],
   "source": [
    "nodu = [1400, 1409, 1500, 1501, 1502, 9101, 4101, 4102, 4103, 4104, 4110, \n",
    "        4111, 4112, 4113, 4114, 4115, 4116, 4117, 4118, 4119, 4120, 6101, \n",
    "        7600, 7601, 7603, 7604, 7605, 7606, 7607, 7609, 9201, 9202]\n",
    "\n",
    "# Previous LUDU - no DU on select land uses\n",
    "ludu_X_nodu = ludu_X[ludu_X['lu_X'].isin(nodu)]\n",
    "ludu_X_nodu = ludu_X_nodu.groupby(['lu_X'])['du_X'].sum().reset_index()\n",
    "\n",
    "# Current LUDU - no DU on select land uses\n",
    "ludu_Y_nodu = ludu_Y[ludu_Y['lu_Y'].isin(nodu)]\n",
    "ludu_Y_nodu = ludu_Y_nodu.groupby(['lu_Y'])['du_Y'].sum().reset_index()\n",
    "\n",
    "# Compare previous/current LUDU special cases\n",
    "nodu_df = pd.merge(ludu_X_nodu, ludu_Y_nodu, how='outer', left_on='lu_X', right_on='lu_Y').fillna(0)\n",
    "nodu_df[(nodu_df['du_Y'] > 0) | (nodu_df['du_X'] > 0)]\n"
   ]
  },
  {
   "cell_type": "code",
   "execution_count": null,
   "metadata": {},
   "outputs": [],
   "source": [
    "# Investigate special case records with du > 0\n",
    "nodu_Y = [1409, 4101, 4113]\n",
    "\n",
    "ludu_Y[(ludu_Y['lu_Y'].isin(nodu_Y)) & (ludu_Y['du_Y'] > 0)]"
   ]
  },
  {
   "cell_type": "markdown",
   "metadata": {},
   "source": [
    "## Trend Checks"
   ]
  },
  {
   "cell_type": "code",
   "execution_count": null,
   "metadata": {},
   "outputs": [],
   "source": [
    "ludu_XY = pd.merge(ludu_X, ludu_Y, how='outer', left_on='LCKey_X', right_on='LCKey_Y')\n",
    "ludu_XY = ludu_XY.fillna(0)\n",
    "ludu_XY"
   ]
  },
  {
   "cell_type": "code",
   "execution_count": null,
   "metadata": {},
   "outputs": [],
   "source": [
    "# Calculate du diff between 22 and 21\n",
    "\n",
    "du_diff = ludu_XY[['LCKey_Y', 'lu_Y', 'du_Y', 'LCKey_X', 'lu_X', 'du_X']]\n",
    "du_diff['du_diff'] = du_diff['du_Y'] - du_diff['du_X']"
   ]
  },
  {
   "cell_type": "markdown",
   "metadata": {},
   "source": [
    "### Dramatic changes in DU at the LCKey level (diff < -20 or > 20)\n",
    "\n",
    "<b>QC Summary:</b>  \n"
   ]
  },
  {
   "cell_type": "code",
   "execution_count": null,
   "metadata": {},
   "outputs": [],
   "source": [
    "# Dramatic changes in DU\n",
    "\n",
    "du_diff[(du_diff['du_diff'] < -20) | (du_diff['du_diff'] > 20)].sort_values(by='du_diff', ascending=False)"
   ]
  },
  {
   "cell_type": "code",
   "execution_count": null,
   "metadata": {},
   "outputs": [],
   "source": [
    "# Dramatic changes in DU where LU is the same\n",
    "\n",
    "du_diff_samelu = du_diff[((du_diff['du_diff'] < -20) | (du_diff['du_diff'] > 20))  & (du_diff['lu_X'] == du_diff['lu_Y'])].sort_values(by='du_diff', ascending=False)\n",
    "du_diff_samelu"
   ]
  },
  {
   "cell_type": "code",
   "execution_count": null,
   "metadata": {},
   "outputs": [],
   "source": [
    "# Dramatic changes in DU where LU is different\n",
    "\n",
    "du_diff_difflu = du_diff[((du_diff['du_diff'] < -20) | (du_diff['du_diff'] > 20))  & (du_diff['lu_X'] != du_diff['lu_Y'])].sort_values(by='du_diff', ascending=False)\n",
    "#du_diff_difflu.to_csv('du_diff_difflu_adu.csv', index=False)\n",
    "du_diff_difflu"
   ]
  },
  {
   "cell_type": "markdown",
   "metadata": {},
   "source": [
    "### LU consistency - number of LU changes\n",
    "\n",
    "<b>QC Summary:</b>  \n",
    "Information only - LU consistency report."
   ]
  },
  {
   "cell_type": "code",
   "execution_count": null,
   "metadata": {},
   "outputs": [],
   "source": [
    "# Number of LU diffs between previous and current\n",
    "\n",
    "du_diff[(du_diff['lu_X'] != du_diff['lu_Y'])].sort_values(by='LCKey_Y', ascending=False)"
   ]
  },
  {
   "cell_type": "markdown",
   "metadata": {},
   "source": [
    "### MGRA15 Consistency Report\n",
    "\n",
    "<b>QC Summary:</b>  "
   ]
  },
  {
   "cell_type": "code",
   "execution_count": null,
   "metadata": {},
   "outputs": [],
   "source": [
    "# Unique MGRAs in ludu21/ludu22\n",
    "luduX_mgra = ludu_X['MGRA_X'].unique()\n",
    "luduY_mgra = ludu_Y['MGRA_Y'].unique()\n",
    "\n",
    "luduX_mgra_unique = set(luduX_mgra).difference(set(luduY_mgra))\n",
    "print('Not in ludu22: ' + str(len(luduX_mgra_unique)))\n",
    "\n",
    "luduY_mgra = ludu_Y['MGRA_Y'].unique()\n",
    "luduY_mgra_unique = set(luduY_mgra).difference(set(luduX_mgra))\n",
    "print('Not in ludu21: ' + str(len(luduY_mgra_unique)))\n",
    "\n",
    "luduX_mgra_unique"
   ]
  }
 ],
 "metadata": {
  "kernelspec": {
   "display_name": "Python 3.9.12 ('base')",
   "language": "python",
   "name": "python3"
  },
  "language_info": {
   "codemirror_mode": {
    "name": "ipython",
    "version": 3
   },
   "file_extension": ".py",
   "mimetype": "text/x-python",
   "name": "python",
   "nbconvert_exporter": "python",
   "pygments_lexer": "ipython3",
   "version": "3.9.12"
  },
  "orig_nbformat": 4,
  "vscode": {
   "interpreter": {
    "hash": "e5d6e1232f85ddb5303135df77d505662c512360ec06a3661471a6d4adea7be0"
   }
  }
 },
 "nbformat": 4,
 "nbformat_minor": 2
}
