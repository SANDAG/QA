{
 "cells": [
  {
   "cell_type": "code",
   "execution_count": null,
   "metadata": {},
   "outputs": [],
   "source": [
    "import pandas as pd\n",
    "from sqlalchemy import create_engine"
   ]
  },
  {
   "cell_type": "code",
   "execution_count": null,
   "metadata": {},
   "outputs": [],
   "source": [
    "# ABM households file"
   ]
  },
  {
   "cell_type": "code",
   "execution_count": null,
   "metadata": {},
   "outputs": [],
   "source": [
    "inc_abm_13_2020 = pd.read_csv(\"T:\\\\ABM\\\\release\\\\ABM\\\\archive\\\\version_13.2.2\\\\input\\\\2020\\\\households.csv\")\n",
    "inc_abm_13_2025 = pd.read_csv(\"T:\\\\ABM\\\\release\\\\ABM\\\\archive\\\\version_13.2.2\\\\input\\\\2025\\\\households.csv\")\n",
    "inc_abm_13_2035 = pd.read_csv(\"T:\\\\ABM\\\\release\\\\ABM\\\\archive\\\\version_13.2.2\\\\input\\\\2035\\\\households.csv\")\n",
    "inc_abm_13_2050 = pd.read_csv(\"T:\\\\ABM\\\\release\\\\ABM\\\\archive\\\\version_13.2.2\\\\input\\\\2050\\\\households.csv\")"
   ]
  },
  {
   "cell_type": "code",
   "execution_count": null,
   "metadata": {},
   "outputs": [],
   "source": [
    "inc_abm_13_2020['yr'] = 2020\n",
    "inc_abm_13_2025['yr'] = 2025\n",
    "inc_abm_13_2035['yr'] = 2035\n",
    "inc_abm_13_2050['yr'] = 2050"
   ]
  },
  {
   "cell_type": "code",
   "execution_count": null,
   "metadata": {},
   "outputs": [],
   "source": [
    "result = pd.concat([inc_abm_13_2020,inc_abm_13_2025,inc_abm_13_2035,inc_abm_13_2050])"
   ]
  },
  {
   "cell_type": "code",
   "execution_count": null,
   "metadata": {},
   "outputs": [],
   "source": [
    "inc_abm = result[['MGRA', 'HINCCAT1','yr']].copy()"
   ]
  },
  {
   "cell_type": "code",
   "execution_count": null,
   "metadata": {},
   "outputs": [],
   "source": [
    "inc_abm['hh'] = 1"
   ]
  },
  {
   "cell_type": "code",
   "execution_count": null,
   "metadata": {},
   "outputs": [],
   "source": [
    "inc_abm.rename(columns={'HINCCAT1':'income_group_id'}, inplace=True)"
   ]
  },
  {
   "cell_type": "code",
   "execution_count": null,
   "metadata": {},
   "outputs": [],
   "source": [
    "incabm = inc_abm.groupby(['MGRA','income_group_id','yr'])[[\"hh\"]].sum().reset_index()"
   ]
  },
  {
   "cell_type": "code",
   "execution_count": null,
   "metadata": {},
   "outputs": [],
   "source": [
    "mssql_engine = create_engine('mssql+pyodbc://sql2014a8/data_cafe?driver=SQL+Server+Native+Client+11.0')"
   ]
  },
  {
   "cell_type": "code",
   "execution_count": null,
   "metadata": {},
   "outputs": [],
   "source": [
    "mgra_13_sql = '''\n",
    "SELECT [mgra_13] \n",
    "      ,[cocpa_13]\n",
    "      ,[jurisdiction_2015]\n",
    "      ,[cicpa_13]\n",
    "  FROM [data_cafe].[ref].[vi_xref_geography_mgra_13]'''\n",
    "mgra_13 = pd.read_sql(mgra_13_sql,mssql_engine)"
   ]
  },
  {
   "cell_type": "code",
   "execution_count": null,
   "metadata": {},
   "outputs": [],
   "source": [
    "inc = pd.merge(incabm,mgra_13,left_on='MGRA',right_on='mgra_13',how='left')"
   ]
  },
  {
   "cell_type": "code",
   "execution_count": null,
   "metadata": {},
   "outputs": [],
   "source": [
    "inc.loc[inc.income_group_id==1,'lower_bound'] = 0\n",
    "inc.loc[inc.income_group_id==1,'upper_bound'] = 29999\n",
    "inc.loc[inc.income_group_id==2,'lower_bound'] = 30000\n",
    "inc.loc[inc.income_group_id==2,'upper_bound'] = 59999\n",
    "inc.loc[inc.income_group_id==3,'lower_bound'] = 60000\n",
    "inc.loc[inc.income_group_id==3,'upper_bound'] = 99999\n",
    "inc.loc[inc.income_group_id==4,'lower_bound'] = 100000\n",
    "inc.loc[inc.income_group_id==4,'upper_bound'] = 149999\n",
    "inc.loc[inc.income_group_id==5,'lower_bound'] = 150000\n",
    "inc.loc[inc.income_group_id==5,'upper_bound'] = 349999"
   ]
  },
  {
   "cell_type": "code",
   "execution_count": null,
   "metadata": {},
   "outputs": [],
   "source": [
    "inc['interval_width'] = inc.upper_bound-inc.lower_bound +1"
   ]
  },
  {
   "cell_type": "code",
   "execution_count": null,
   "metadata": {},
   "outputs": [],
   "source": [
    "inc.head()"
   ]
  },
  {
   "cell_type": "code",
   "execution_count": null,
   "metadata": {},
   "outputs": [],
   "source": [
    "# Jurisdiction"
   ]
  },
  {
   "cell_type": "code",
   "execution_count": null,
   "metadata": {},
   "outputs": [],
   "source": [
    "inccitycpa = inc.groupby(['jurisdiction_2015','income_group_id','lower_bound',\\\n",
    "                                   'upper_bound','interval_width','yr']\\\n",
    "                                 )[[\"hh\"]].sum().reset_index()"
   ]
  },
  {
   "cell_type": "code",
   "execution_count": null,
   "metadata": {},
   "outputs": [],
   "source": [
    "inccitycpa.sort_values(by=['jurisdiction_2015','yr','income_group_id'],inplace=True)"
   ]
  },
  {
   "cell_type": "code",
   "execution_count": null,
   "metadata": {},
   "outputs": [],
   "source": [
    "inccitycpa.head(10)"
   ]
  },
  {
   "cell_type": "code",
   "execution_count": null,
   "metadata": {},
   "outputs": [],
   "source": [
    "inccitycpa['cumlativesum'] = inccitycpa.groupby(['jurisdiction_2015','yr'])['hh'].cumsum()"
   ]
  },
  {
   "cell_type": "code",
   "execution_count": null,
   "metadata": {},
   "outputs": [],
   "source": [
    "totalhh = inccitycpa.groupby(['jurisdiction_2015','yr'])['hh'].sum().reset_index()"
   ]
  },
  {
   "cell_type": "code",
   "execution_count": null,
   "metadata": {},
   "outputs": [],
   "source": [
    "totalhh.rename(columns={\"hh\": \"totalhh\"},inplace=True)"
   ]
  },
  {
   "cell_type": "code",
   "execution_count": null,
   "metadata": {},
   "outputs": [],
   "source": [
    "totalhh.head()"
   ]
  },
  {
   "cell_type": "code",
   "execution_count": null,
   "metadata": {},
   "outputs": [],
   "source": [
    "inccity= pd.merge(inccitycpa,totalhh,left_on=['jurisdiction_2015','yr'],right_on=['jurisdiction_2015','yr'],how='left')"
   ]
  },
  {
   "cell_type": "code",
   "execution_count": null,
   "metadata": {},
   "outputs": [],
   "source": [
    "inccity['halfhh'] = inccity['totalhh']/2"
   ]
  },
  {
   "cell_type": "code",
   "execution_count": null,
   "metadata": {},
   "outputs": [],
   "source": [
    "inccity['halfhh'] = inccity['halfhh'].round() "
   ]
  },
  {
   "cell_type": "code",
   "execution_count": null,
   "metadata": {},
   "outputs": [],
   "source": [
    "halfhh_firstrow = inccity.loc[inccity.cumlativesum>inccity.halfhh]"
   ]
  },
  {
   "cell_type": "code",
   "execution_count": null,
   "metadata": {},
   "outputs": [],
   "source": [
    "mediancitycpa = halfhh_firstrow.groupby(['jurisdiction_2015','yr']).first()"
   ]
  },
  {
   "cell_type": "code",
   "execution_count": null,
   "metadata": {},
   "outputs": [],
   "source": [
    "mediancitycpa.head()"
   ]
  },
  {
   "cell_type": "code",
   "execution_count": null,
   "metadata": {},
   "outputs": [],
   "source": [
    "mediancitycpa['median_income'] = mediancitycpa.lower_bound +\\\n",
    "((mediancitycpa.halfhh - (mediancitycpa.cumlativesum - mediancitycpa.hh))\\\n",
    "                                                            /mediancitycpa.hh)*mediancitycpa.interval_width"
   ]
  },
  {
   "cell_type": "code",
   "execution_count": null,
   "metadata": {},
   "outputs": [],
   "source": [
    "mediancitycpa.median_income = mediancitycpa.median_income.round() "
   ]
  },
  {
   "cell_type": "code",
   "execution_count": null,
   "metadata": {},
   "outputs": [],
   "source": [
    "jurisdictions_names_sql = '''\n",
    "    SELECT zone as jurisdiction_id_data_cafe, name as jurisdiction\n",
    "    FROM data_cafe.ref.geography_zone WHERE geography_type_id = 150'''\n",
    "jur_name_df = pd.read_sql(jurisdictions_names_sql, mssql_engine)"
   ]
  },
  {
   "cell_type": "code",
   "execution_count": null,
   "metadata": {},
   "outputs": [],
   "source": [
    "mediancitycpa.reset_index(inplace=True)"
   ]
  },
  {
   "cell_type": "code",
   "execution_count": null,
   "metadata": {},
   "outputs": [],
   "source": [
    "mediancitycpa.head()"
   ]
  },
  {
   "cell_type": "code",
   "execution_count": null,
   "metadata": {},
   "outputs": [],
   "source": [
    "jur_name_df.head()"
   ]
  },
  {
   "cell_type": "code",
   "execution_count": null,
   "metadata": {},
   "outputs": [],
   "source": [
    "citymed = pd.merge(mediancitycpa[['jurisdiction_2015','yr','median_income']],\\\n",
    "                   jur_name_df,right_on = 'jurisdiction_id_data_cafe',left_on='jurisdiction_2015')"
   ]
  },
  {
   "cell_type": "code",
   "execution_count": null,
   "metadata": {},
   "outputs": [],
   "source": [
    "citymed.sort_values(by=['jurisdiction_2015','yr'],inplace=True)"
   ]
  },
  {
   "cell_type": "code",
   "execution_count": null,
   "metadata": {},
   "outputs": [],
   "source": [
    "citymed.head()"
   ]
  },
  {
   "cell_type": "code",
   "execution_count": null,
   "metadata": {},
   "outputs": [],
   "source": [
    "# citymed[['cicpa_13','yr','median_income','cicpa']]"
   ]
  },
  {
   "cell_type": "code",
   "execution_count": null,
   "metadata": {},
   "outputs": [],
   "source": [
    "citymed[['jurisdiction_2015','yr','median_income','jurisdiction']].to_csv('median_income_jur.csv')"
   ]
  },
  {
   "cell_type": "code",
   "execution_count": null,
   "metadata": {},
   "outputs": [],
   "source": [
    "# year 2050 only\n",
    "# city2050 = citymed[['cicpa_13','yr','median_income','cicpa']].loc[citymed.yr==2050].sort_values(by='median_income')"
   ]
  },
  {
   "cell_type": "code",
   "execution_count": null,
   "metadata": {},
   "outputs": [],
   "source": [
    "max_median = city2050.groupby(['cicpa_13','cicpa'])[[\"median_income\"]].max().reset_index().sort_values(by='median_income')"
   ]
  },
  {
   "cell_type": "code",
   "execution_count": null,
   "metadata": {},
   "outputs": [],
   "source": [
    "max_median.median_income.median()"
   ]
  },
  {
   "cell_type": "code",
   "execution_count": null,
   "metadata": {},
   "outputs": [],
   "source": [
    "# one scale to plot\n",
    "max_median.loc[max_median.median_income < max_median.median_income.median()]"
   ]
  },
  {
   "cell_type": "code",
   "execution_count": null,
   "metadata": {},
   "outputs": [],
   "source": [
    "# other scale for plot\n",
    "max_median.loc[max_median.median_income >= max_median.median_income.median()]"
   ]
  },
  {
   "cell_type": "code",
   "execution_count": null,
   "metadata": {},
   "outputs": [],
   "source": []
  }
 ],
 "metadata": {
  "kernelspec": {
   "display_name": "Python 3",
   "language": "python",
   "name": "python3"
  },
  "language_info": {
   "codemirror_mode": {
    "name": "ipython",
    "version": 3
   },
   "file_extension": ".py",
   "mimetype": "text/x-python",
   "name": "python",
   "nbconvert_exporter": "python",
   "pygments_lexer": "ipython3",
   "version": "3.6.6"
  }
 },
 "nbformat": 4,
 "nbformat_minor": 2
}
