{
 "cells": [
  {
   "cell_type": "code",
   "execution_count": 7,
   "metadata": {},
   "outputs": [],
   "source": [
    "import os\n",
    "import pyodbc\n",
    "import pandas as pd"
   ]
  },
  {
   "cell_type": "code",
   "execution_count": 52,
   "metadata": {},
   "outputs": [
    {
     "name": "stdout",
     "output_type": "stream",
     "text": [
      "      mgra_id  yr_id  housing_type_id  population\n",
      "0  1400000101   2010                1          41\n",
      "1  1400000102   2010                1           0\n",
      "2  1400000201   2010                1          74\n",
      "3  1400000202   2010                1           0\n",
      "4  1400000301   2010                1         126\n",
      "11\n"
     ]
    }
   ],
   "source": [
    "#loading the estimates data \n",
    "conn = pyodbc.connect('Driver={ODBC Driver 17 for SQL Server};'\n",
    "                      'Server=DDAMWSQL16.sandag.org;'\n",
    "                      'Database=estimates;'\n",
    "                      'Trusted_Connection=yes;')\n",
    "\n",
    "hhpop_2020 =\"SELECT [mgra_id], [yr_id], [housing_type_id], [population]\"\\\n",
    "                  \"FROM [estimates].[est_2020_01].[dw_population]\"\\\n",
    "                   \"WHERE housing_type_id= 1\"\n",
    "                  \n",
    "             \n",
    "hhpop = pd.read_sql_query(hhpop_2020, conn)    \n",
    "\n",
    "print(hhpop.head())\n",
    "\n",
    "uniqueyr = hhpop['yr_id'].nunique()\n",
    "print(uniqueyr)"
   ]
  },
  {
   "cell_type": "code",
   "execution_count": null,
   "metadata": {},
   "outputs": [],
   "source": []
  },
  {
   "cell_type": "code",
   "execution_count": 34,
   "metadata": {},
   "outputs": [
    {
     "data": {
      "text/plain": [
       "mgra_id             int64\n",
       "mgra                int64\n",
       "series              int64\n",
       "region             object\n",
       "sra                object\n",
       "tract              object\n",
       "supervisorial      object\n",
       "college            object\n",
       "cpa                object\n",
       "jurisdiction       object\n",
       "zip                object\n",
       "secondary          object\n",
       "elementary         object\n",
       "msa                object\n",
       "sdcouncil          object\n",
       "transit            object\n",
       "unified            object\n",
       "jurisdiction_id     int64\n",
       "cpa_id              int64\n",
       "taz                 int64\n",
       "dtype: object"
      ]
     },
     "execution_count": 34,
     "metadata": {},
     "output_type": "execute_result"
    }
   ],
   "source": [
    "# loading the dim_mgra_denormalized table from demographic warehouse \n",
    "conn = pyodbc.connect('Driver={ODBC Driver 17 for SQL Server};'\n",
    "                      'Server=DDAMWSQL16.sandag.org;'\n",
    "                      'Database=demographic_warehouse;'\n",
    "                      'Trusted_Connection=yes;')\n",
    "\n",
    "dim_mgra =\"SELECT *\"\\\n",
    "                  \"FROM [demographic_warehouse].[dim].[mgra_denormalize]\"\\\n",
    "                   \"WHERE series= 14 \" \n",
    "             \n",
    "dim_mgra = pd.read_sql_query(dim_mgra, conn)    \n",
    "\n",
    "dim_mgra.dtypes\n"
   ]
  },
  {
   "cell_type": "code",
   "execution_count": 25,
   "metadata": {},
   "outputs": [],
   "source": [
    "# setting up the query string for loading the mgra data from geodepot\n",
    "\n",
    "mgra_query = \"\"\"SELECT  [OBJECTID]\n",
    "      ,[MGRA]\n",
    "      ,[CT10]\n",
    "      ,[CT10BG]\n",
    "      ,[SRA]\n",
    "      ,[MSA]\n",
    "      ,[City]\n",
    "      ,[ZIP]\n",
    "      ,[Sphere]\n",
    "      ,[CPA]\n",
    "      ,[CPASG]\n",
    "      ,[TAZ]\n",
    "      ,[Council]\n",
    "      ,[Super]\n",
    "      ,[LUZ]\n",
    "      ,[Elem]\n",
    "      ,[Unif]\n",
    "      ,[High]\n",
    "      ,[Coll]\n",
    "      ,[Transit]\n",
    "      ,[Shape] \"\"\" + \\\n",
    "    \".STGeometryN(1).ToString()\"  + \"FROM [GeoDepot].[gis].[MGRA13PT]\"\n",
    "\n",
    " # + geo_col + '.STGeometryN(1).ToString()'  \n",
    " #  ,[Shape]\n",
    "   #-  ,[GDB_GEOMATTR_DATA]"
   ]
  },
  {
   "cell_type": "code",
   "execution_count": 37,
   "metadata": {},
   "outputs": [
    {
     "data": {
      "text/plain": [
       "OBJECTID     int64\n",
       "MGRA         int64\n",
       "CT10         int64\n",
       "CT10BG       int64\n",
       "SRA          int64\n",
       "MSA          int64\n",
       "City         int64\n",
       "ZIP          int64\n",
       "Sphere       int64\n",
       "CPA          int64\n",
       "CPASG        int64\n",
       "TAZ          int64\n",
       "Council      int64\n",
       "Super        int64\n",
       "LUZ          int64\n",
       "Elem         int64\n",
       "Unif         int64\n",
       "High         int64\n",
       "Coll         int64\n",
       "Transit      int64\n",
       "            object\n",
       "dtype: object"
      ]
     },
     "execution_count": 37,
     "metadata": {},
     "output_type": "execute_result"
    }
   ],
   "source": [
    "# loading the mgra data from geodepot\n",
    "\n",
    "conn = pyodbc.connect('Driver={ODBC Driver 17 for SQL Server};'\n",
    "                      'Server=sql2014b8;'\n",
    "                      'Database=GeoDepot;'\n",
    "                      'Trusted_Connection=yes;')\n",
    "cursor = conn.cursor()\n",
    "             \n",
    "mgra = pd.read_sql_query(mgra_query, conn)    \n",
    "\n",
    "mgra.dtypes\n"
   ]
  },
  {
   "cell_type": "code",
   "execution_count": 56,
   "metadata": {},
   "outputs": [
    {
     "name": "stdout",
     "output_type": "stream",
     "text": [
      "300476\n"
     ]
    },
    {
     "data": {
      "text/plain": [
       "True"
      ]
     },
     "execution_count": 56,
     "metadata": {},
     "output_type": "execute_result"
    }
   ],
   "source": [
    "# creating cross-walking between the age estimates table, dim_mgra table, and mgra geodepot file\n",
    "\n",
    "mgra_shape= mgra.merge(dim_mgra, left_on='MGRA', right_on='mgra')\n",
    "mgra_shape.shape[0]\n",
    "mgra_shape.head()\n",
    "estimates_mgra= mgra_shape.merge(hhpop, left_on= 'mgra_id', right_on= 'mgra_id')\n",
    "print(estimates_mgra.shape[0])\n",
    "estimates_mgra\n",
    "\n",
    "# checking the number of rows in the final df remains intact during merge\n",
    "\n",
    "estimates_mgra.shape[0]== uniqueyr*27316"
   ]
  },
  {
   "cell_type": "code",
   "execution_count": null,
   "metadata": {},
   "outputs": [],
   "source": [
    "from arcgis.gis import GIS\n",
    "\n",
    "gis = GIS()"
   ]
  },
  {
   "cell_type": "code",
   "execution_count": 6,
   "metadata": {},
   "outputs": [
    {
     "data": {
      "text/html": [
       "GIS @ <a href=\"https://www.arcgis.com\">https://www.arcgis.com</a>"
      ],
      "text/plain": [
       "GIS @ https://www.arcgis.com version:9.1"
      ]
     },
     "execution_count": 6,
     "metadata": {},
     "output_type": "execute_result"
    }
   ],
   "source": [
    "gis"
   ]
  },
  {
   "cell_type": "code",
   "execution_count": null,
   "metadata": {},
   "outputs": [],
   "source": [
    "# pull data from geodepot\n",
    "\n",
    "\n",
    "# series 13 for geodepot "
   ]
  },
  {
   "cell_type": "code",
   "execution_count": null,
   "metadata": {},
   "outputs": [],
   "source": []
  }
 ],
 "metadata": {
  "kernelspec": {
   "display_name": "Python 3",
   "language": "python",
   "name": "python3"
  },
  "language_info": {
   "codemirror_mode": {
    "name": "ipython",
    "version": 3
   },
   "file_extension": ".py",
   "mimetype": "text/x-python",
   "name": "python",
   "nbconvert_exporter": "python",
   "pygments_lexer": "ipython3",
   "version": "3.7.10"
  },
  "toc-autonumbering": true,
  "toc-showmarkdowntxt": true
 },
 "nbformat": 4,
 "nbformat_minor": 4
}
