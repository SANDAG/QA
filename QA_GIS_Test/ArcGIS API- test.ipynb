{
 "cells": [
  {
   "cell_type": "code",
   "execution_count": 51,
   "metadata": {},
   "outputs": [],
   "source": [
    "import os\n",
    "import pyodbc\n",
    "import pandas as pd\n",
    "from arcgis.gis import GIS"
   ]
  },
  {
   "cell_type": "code",
   "execution_count": 3,
   "metadata": {},
   "outputs": [
    {
     "name": "stdout",
     "output_type": "stream",
     "text": [
      "      mgra_id  yr_id  housing_type_id  population\n",
      "0  1400000101   2010                1          41\n",
      "1  1400000102   2010                1           0\n",
      "2  1400000201   2010                1          74\n",
      "3  1400000202   2010                1           0\n",
      "4  1400000301   2010                1         126\n",
      "11\n"
     ]
    }
   ],
   "source": [
    "#loading the estimates data \n",
    "conn = pyodbc.connect('Driver={ODBC Driver 17 for SQL Server};'\n",
    "                      'Server=DDAMWSQL16.sandag.org;'\n",
    "                      'Database=estimates;'\n",
    "                      'Trusted_Connection=yes;')\n",
    "\n",
    "hhpop_2020 =\"SELECT [mgra_id], [yr_id], [housing_type_id], [population]\"\\\n",
    "                  \"FROM [estimates].[est_2020_01].[dw_population]\"\\\n",
    "                   \"WHERE housing_type_id= 1\"\n",
    "                  \n",
    "             \n",
    "hhpop = pd.read_sql_query(hhpop_2020, conn)    \n",
    "\n",
    "print(hhpop.head())\n",
    "\n",
    "uniqueyr = hhpop['yr_id'].nunique()\n",
    "print(uniqueyr)"
   ]
  },
  {
   "cell_type": "code",
   "execution_count": null,
   "metadata": {},
   "outputs": [],
   "source": []
  },
  {
   "cell_type": "code",
   "execution_count": 4,
   "metadata": {},
   "outputs": [
    {
     "data": {
      "text/plain": [
       "mgra_id             int64\n",
       "mgra                int64\n",
       "series              int64\n",
       "region             object\n",
       "sra                object\n",
       "tract              object\n",
       "supervisorial      object\n",
       "college            object\n",
       "cpa                object\n",
       "jurisdiction       object\n",
       "zip                object\n",
       "secondary          object\n",
       "elementary         object\n",
       "msa                object\n",
       "sdcouncil          object\n",
       "transit            object\n",
       "unified            object\n",
       "jurisdiction_id     int64\n",
       "cpa_id              int64\n",
       "taz                 int64\n",
       "dtype: object"
      ]
     },
     "execution_count": 4,
     "metadata": {},
     "output_type": "execute_result"
    }
   ],
   "source": [
    "# loading the dim_mgra_denormalized table from demographic warehouse \n",
    "conn = pyodbc.connect('Driver={ODBC Driver 17 for SQL Server};'\n",
    "                      'Server=DDAMWSQL16.sandag.org;'\n",
    "                      'Database=demographic_warehouse;'\n",
    "                      'Trusted_Connection=yes;')\n",
    "\n",
    "dim_mgra =\"SELECT *\"\\\n",
    "                  \"FROM [demographic_warehouse].[dim].[mgra_denormalize]\"\\\n",
    "                   \"WHERE series= 14 \" \n",
    "             \n",
    "dim_mgra = pd.read_sql_query(dim_mgra, conn)    \n",
    "\n",
    "dim_mgra.dtypes\n"
   ]
  },
  {
   "cell_type": "code",
   "execution_count": 5,
   "metadata": {},
   "outputs": [],
   "source": [
    "# setting up the query string for loading the mgra data from geodepot\n",
    "\n",
    "mgra_query = \"\"\"SELECT  [OBJECTID]\n",
    "      ,[MGRA]\n",
    "      ,[CT10]\n",
    "      ,[CT10BG]\n",
    "      ,[SRA]\n",
    "      ,[MSA]\n",
    "      ,[City]\n",
    "      ,[ZIP]\n",
    "      ,[Sphere]\n",
    "      ,[CPA]\n",
    "      ,[CPASG]\n",
    "      ,[TAZ]\n",
    "      ,[Council]\n",
    "      ,[Super]\n",
    "      ,[LUZ]\n",
    "      ,[Elem]\n",
    "      ,[Unif]\n",
    "      ,[High]\n",
    "      ,[Coll]\n",
    "      ,[Transit]\n",
    "      ,[Shape] \"\"\" + \\\n",
    "    \".STGeometryN(1).ToString()\"  + \"FROM [GeoDepot].[gis].[MGRA13PT]\"\n",
    "\n",
    " # + geo_col + '.STGeometryN(1).ToString()'  \n",
    " #  ,[Shape]\n",
    "   #-  ,[GDB_GEOMATTR_DATA]"
   ]
  },
  {
   "cell_type": "code",
   "execution_count": 6,
   "metadata": {},
   "outputs": [
    {
     "data": {
      "text/plain": [
       "OBJECTID     int64\n",
       "MGRA         int64\n",
       "CT10         int64\n",
       "CT10BG       int64\n",
       "SRA          int64\n",
       "MSA          int64\n",
       "City         int64\n",
       "ZIP          int64\n",
       "Sphere       int64\n",
       "CPA          int64\n",
       "CPASG        int64\n",
       "TAZ          int64\n",
       "Council      int64\n",
       "Super        int64\n",
       "LUZ          int64\n",
       "Elem         int64\n",
       "Unif         int64\n",
       "High         int64\n",
       "Coll         int64\n",
       "Transit      int64\n",
       "            object\n",
       "dtype: object"
      ]
     },
     "execution_count": 6,
     "metadata": {},
     "output_type": "execute_result"
    }
   ],
   "source": [
    "# loading the mgra data from geodepot\n",
    "\n",
    "conn = pyodbc.connect('Driver={ODBC Driver 17 for SQL Server};'\n",
    "                      'Server=sql2014b8;'\n",
    "                      'Database=GeoDepot;'\n",
    "                      'Trusted_Connection=yes;')\n",
    "cursor = conn.cursor()\n",
    "             \n",
    "mgra = pd.read_sql_query(mgra_query, conn)    \n",
    "\n",
    "mgra.dtypes\n"
   ]
  },
  {
   "cell_type": "code",
   "execution_count": 43,
   "metadata": {},
   "outputs": [
    {
     "name": "stdout",
     "output_type": "stream",
     "text": [
      "300476\n",
      "True\n"
     ]
    },
    {
     "data": {
      "text/plain": [
       "Index(['OBJECTID', 'MGRA', 'CT10', 'CT10BG', 'SRA', 'MSA', 'City', 'ZIP',\n",
       "       'Sphere', 'CPA', 'CPASG', 'TAZ', 'Council', 'Super', 'LUZ', 'Elem',\n",
       "       'Unif', 'High', 'Coll', 'Transit', '', 'mgra_id', 'mgra', 'series',\n",
       "       'region', 'sra', 'tract', 'supervisorial', 'college', 'cpa',\n",
       "       'jurisdiction', 'zip', 'secondary', 'elementary', 'msa', 'sdcouncil',\n",
       "       'transit', 'unified', 'jurisdiction_id', 'cpa_id', 'taz', 'yr_id',\n",
       "       'housing_type_id', 'population'],\n",
       "      dtype='object')"
      ]
     },
     "execution_count": 43,
     "metadata": {},
     "output_type": "execute_result"
    }
   ],
   "source": [
    "# creating cross-walking between the age estimates table, dim_mgra table, and mgra geodepot file\n",
    "\n",
    "mgra_shape= mgra.merge(dim_mgra, left_on='MGRA', right_on='mgra')\n",
    "mgra_shape.shape[0]\n",
    "mgra_shape.head()\n",
    "estimates_mgra= mgra_shape.merge(hhpop, left_on= 'mgra_id', right_on= 'mgra_id')\n",
    "print(estimates_mgra.shape[0])\n",
    "estimates_mgra\n",
    "\n",
    "# checking the number of rows in the final df remains intact during merge\n",
    "\n",
    "print(estimates_mgra.shape[0]== uniqueyr*27316)\n",
    "\n",
    "\n",
    "estimates_mgra.rename({\"mgra\": \"MGRA\"}, axis=1)\n",
    "\n",
    "estimates_mgra.columns\n"
   ]
  },
  {
   "cell_type": "code",
   "execution_count": 11,
   "metadata": {},
   "outputs": [],
   "source": [
    "# Loading GIS module from arcgis for visualizing estimates \n",
    "\n",
    "username = \"Purva.Singh_SANDAG\"\n",
    "password = \"adgjmptw280189\"\n",
    "gis = GIS(\"https://www.arcgis.com\", username, password)\n",
    "\n"
   ]
  },
  {
   "cell_type": "code",
   "execution_count": 12,
   "metadata": {},
   "outputs": [],
   "source": [
    "mgra13 = gis.content.search(\"MGRA\", item_type=\"Feature Layer\", )[4]\n",
    "mgra_map = gis.map(\"San Diego\", zoomlevel=16)"
   ]
  },
  {
   "cell_type": "code",
   "execution_count": 13,
   "metadata": {},
   "outputs": [],
   "source": [
    "mgra_map.add_layer(mgra13, {\"field_name\":\"MGRA\" })"
   ]
  },
  {
   "cell_type": "code",
   "execution_count": 14,
   "metadata": {},
   "outputs": [
    {
     "data": {
      "application/vnd.jupyter.widget-view+json": {
       "model_id": "c2263fa073f44d5e95305dc7366abe3a",
       "version_major": 2,
       "version_minor": 0
      },
      "text/plain": [
       "MapView(layout=Layout(height='400px', width='100%'))"
      ]
     },
     "metadata": {},
     "output_type": "display_data"
    },
    {
     "data": {
      "text/html": [
       "<div class=\"map-static-img-preview-0ccea1b5-f266-42fd-9914-9b3f580d2398\"><img src=\"\"></img></div>"
      ],
      "text/plain": [
       "<IPython.core.display.HTML object>"
      ]
     },
     "metadata": {},
     "output_type": "display_data"
    }
   ],
   "source": [
    "mgra_map"
   ]
  },
  {
   "cell_type": "code",
   "execution_count": 34,
   "metadata": {},
   "outputs": [
    {
     "data": {
      "text/plain": [
       "Index(['CPA', 'CPASG', 'CT10', 'CT10BG', 'City', 'Coll', 'Council', 'Elem',\n",
       "       'High', 'LUZ', 'MGRA', 'MSA', 'OBJECTID', 'SHAPE', 'SRA', 'Sphere',\n",
       "       'Super', 'TAZ', 'Transit', 'Unif', 'ZIP'],\n",
       "      dtype='object')"
      ]
     },
     "execution_count": 34,
     "metadata": {},
     "output_type": "execute_result"
    }
   ],
   "source": [
    "# viewing the attribute table for the mgra13 layer \n",
    "mgra_layer= mgra13.layers[0]\n",
    "\n",
    "sdf = pd.DataFrame.spatial.from_layer(mgra_layer)\n",
    "sdf.columns"
   ]
  },
  {
   "cell_type": "code",
   "execution_count": 53,
   "metadata": {},
   "outputs": [
    {
     "data": {
      "text/html": [
       "<div>\n",
       "<style scoped>\n",
       "    .dataframe tbody tr th:only-of-type {\n",
       "        vertical-align: middle;\n",
       "    }\n",
       "\n",
       "    .dataframe tbody tr th {\n",
       "        vertical-align: top;\n",
       "    }\n",
       "\n",
       "    .dataframe thead th {\n",
       "        text-align: right;\n",
       "    }\n",
       "</style>\n",
       "<table border=\"1\" class=\"dataframe\">\n",
       "  <thead>\n",
       "    <tr style=\"text-align: right;\">\n",
       "      <th></th>\n",
       "      <th>CPA</th>\n",
       "      <th>CPASG</th>\n",
       "      <th>CT10</th>\n",
       "      <th>CT10BG</th>\n",
       "      <th>City</th>\n",
       "      <th>Coll</th>\n",
       "      <th>Council</th>\n",
       "      <th>Elem</th>\n",
       "      <th>High</th>\n",
       "      <th>LUZ</th>\n",
       "      <th>...</th>\n",
       "      <th>msa</th>\n",
       "      <th>sdcouncil</th>\n",
       "      <th>transit</th>\n",
       "      <th>unified</th>\n",
       "      <th>jurisdiction_id</th>\n",
       "      <th>cpa_id</th>\n",
       "      <th>taz</th>\n",
       "      <th>yr_id</th>\n",
       "      <th>housing_type_id</th>\n",
       "      <th>population</th>\n",
       "    </tr>\n",
       "  </thead>\n",
       "  <tbody>\n",
       "    <tr>\n",
       "      <th>300471</th>\n",
       "      <td>0</td>\n",
       "      <td>0</td>\n",
       "      <td>20405</td>\n",
       "      <td>204052</td>\n",
       "      <td>7</td>\n",
       "      <td>3</td>\n",
       "      <td>0</td>\n",
       "      <td>12</td>\n",
       "      <td>13</td>\n",
       "      <td>175</td>\n",
       "      <td>...</td>\n",
       "      <td>North County East</td>\n",
       "      <td>None</td>\n",
       "      <td>NCTD</td>\n",
       "      <td>None</td>\n",
       "      <td>19</td>\n",
       "      <td>1909</td>\n",
       "      <td>1378</td>\n",
       "      <td>2016</td>\n",
       "      <td>1</td>\n",
       "      <td>0</td>\n",
       "    </tr>\n",
       "    <tr>\n",
       "      <th>300472</th>\n",
       "      <td>0</td>\n",
       "      <td>0</td>\n",
       "      <td>20405</td>\n",
       "      <td>204052</td>\n",
       "      <td>7</td>\n",
       "      <td>3</td>\n",
       "      <td>0</td>\n",
       "      <td>12</td>\n",
       "      <td>13</td>\n",
       "      <td>175</td>\n",
       "      <td>...</td>\n",
       "      <td>North County East</td>\n",
       "      <td>None</td>\n",
       "      <td>NCTD</td>\n",
       "      <td>None</td>\n",
       "      <td>19</td>\n",
       "      <td>1909</td>\n",
       "      <td>1378</td>\n",
       "      <td>2017</td>\n",
       "      <td>1</td>\n",
       "      <td>0</td>\n",
       "    </tr>\n",
       "    <tr>\n",
       "      <th>300473</th>\n",
       "      <td>0</td>\n",
       "      <td>0</td>\n",
       "      <td>20405</td>\n",
       "      <td>204052</td>\n",
       "      <td>7</td>\n",
       "      <td>3</td>\n",
       "      <td>0</td>\n",
       "      <td>12</td>\n",
       "      <td>13</td>\n",
       "      <td>175</td>\n",
       "      <td>...</td>\n",
       "      <td>North County East</td>\n",
       "      <td>None</td>\n",
       "      <td>NCTD</td>\n",
       "      <td>None</td>\n",
       "      <td>19</td>\n",
       "      <td>1909</td>\n",
       "      <td>1378</td>\n",
       "      <td>2018</td>\n",
       "      <td>1</td>\n",
       "      <td>0</td>\n",
       "    </tr>\n",
       "    <tr>\n",
       "      <th>300474</th>\n",
       "      <td>0</td>\n",
       "      <td>0</td>\n",
       "      <td>20405</td>\n",
       "      <td>204052</td>\n",
       "      <td>7</td>\n",
       "      <td>3</td>\n",
       "      <td>0</td>\n",
       "      <td>12</td>\n",
       "      <td>13</td>\n",
       "      <td>175</td>\n",
       "      <td>...</td>\n",
       "      <td>North County East</td>\n",
       "      <td>None</td>\n",
       "      <td>NCTD</td>\n",
       "      <td>None</td>\n",
       "      <td>19</td>\n",
       "      <td>1909</td>\n",
       "      <td>1378</td>\n",
       "      <td>2019</td>\n",
       "      <td>1</td>\n",
       "      <td>0</td>\n",
       "    </tr>\n",
       "    <tr>\n",
       "      <th>300475</th>\n",
       "      <td>0</td>\n",
       "      <td>0</td>\n",
       "      <td>20405</td>\n",
       "      <td>204052</td>\n",
       "      <td>7</td>\n",
       "      <td>3</td>\n",
       "      <td>0</td>\n",
       "      <td>12</td>\n",
       "      <td>13</td>\n",
       "      <td>175</td>\n",
       "      <td>...</td>\n",
       "      <td>North County East</td>\n",
       "      <td>None</td>\n",
       "      <td>NCTD</td>\n",
       "      <td>None</td>\n",
       "      <td>19</td>\n",
       "      <td>1909</td>\n",
       "      <td>1378</td>\n",
       "      <td>2020</td>\n",
       "      <td>1</td>\n",
       "      <td>0</td>\n",
       "    </tr>\n",
       "  </tbody>\n",
       "</table>\n",
       "<p>5 rows × 84 columns</p>\n",
       "</div>"
      ],
      "text/plain": [
       "        CPA  CPASG   CT10  CT10BG  City  Coll  Council  Elem  High  LUZ  ...  \\\n",
       "300471    0      0  20405  204052     7     3        0    12    13  175  ...   \n",
       "300472    0      0  20405  204052     7     3        0    12    13  175  ...   \n",
       "300473    0      0  20405  204052     7     3        0    12    13  175  ...   \n",
       "300474    0      0  20405  204052     7     3        0    12    13  175  ...   \n",
       "300475    0      0  20405  204052     7     3        0    12    13  175  ...   \n",
       "\n",
       "                      msa  sdcouncil  transit unified  jurisdiction_id  \\\n",
       "300471  North County East       None     NCTD    None               19   \n",
       "300472  North County East       None     NCTD    None               19   \n",
       "300473  North County East       None     NCTD    None               19   \n",
       "300474  North County East       None     NCTD    None               19   \n",
       "300475  North County East       None     NCTD    None               19   \n",
       "\n",
       "        cpa_id   taz  yr_id  housing_type_id  population  \n",
       "300471    1909  1378   2016                1           0  \n",
       "300472    1909  1378   2017                1           0  \n",
       "300473    1909  1378   2018                1           0  \n",
       "300474    1909  1378   2019                1           0  \n",
       "300475    1909  1378   2020                1           0  \n",
       "\n",
       "[5 rows x 84 columns]"
      ]
     },
     "execution_count": 53,
     "metadata": {},
     "output_type": "execute_result"
    }
   ],
   "source": [
    "estimates_mgra= sdf.merge(estimates_mgra, left_on='MGRA', right_on='MGRA')\n",
    "\n",
    "estimates_mgra.tail()"
   ]
  },
  {
   "cell_type": "code",
   "execution_count": 58,
   "metadata": {},
   "outputs": [
    {
     "ename": "KeyError",
     "evalue": "None",
     "output_type": "error",
     "traceback": [
      "\u001b[1;31m---------------------------------------------------------------------------\u001b[0m",
      "\u001b[1;31mKeyError\u001b[0m                                  Traceback (most recent call last)",
      "\u001b[1;32m~\\Anaconda3\\lib\\site-packages\\pandas\\core\\indexes\\base.py\u001b[0m in \u001b[0;36mget_loc\u001b[1;34m(self, key, method, tolerance)\u001b[0m\n\u001b[0;32m   3079\u001b[0m             \u001b[1;32mtry\u001b[0m\u001b[1;33m:\u001b[0m\u001b[1;33m\u001b[0m\u001b[1;33m\u001b[0m\u001b[0m\n\u001b[1;32m-> 3080\u001b[1;33m                 \u001b[1;32mreturn\u001b[0m \u001b[0mself\u001b[0m\u001b[1;33m.\u001b[0m\u001b[0m_engine\u001b[0m\u001b[1;33m.\u001b[0m\u001b[0mget_loc\u001b[0m\u001b[1;33m(\u001b[0m\u001b[0mcasted_key\u001b[0m\u001b[1;33m)\u001b[0m\u001b[1;33m\u001b[0m\u001b[1;33m\u001b[0m\u001b[0m\n\u001b[0m\u001b[0;32m   3081\u001b[0m             \u001b[1;32mexcept\u001b[0m \u001b[0mKeyError\u001b[0m \u001b[1;32mas\u001b[0m \u001b[0merr\u001b[0m\u001b[1;33m:\u001b[0m\u001b[1;33m\u001b[0m\u001b[1;33m\u001b[0m\u001b[0m\n",
      "\u001b[1;32mpandas\\_libs\\index.pyx\u001b[0m in \u001b[0;36mpandas._libs.index.IndexEngine.get_loc\u001b[1;34m()\u001b[0m\n",
      "\u001b[1;32mpandas\\_libs\\index.pyx\u001b[0m in \u001b[0;36mpandas._libs.index.IndexEngine.get_loc\u001b[1;34m()\u001b[0m\n",
      "\u001b[1;32mpandas\\_libs\\hashtable_class_helper.pxi\u001b[0m in \u001b[0;36mpandas._libs.hashtable.PyObjectHashTable.get_item\u001b[1;34m()\u001b[0m\n",
      "\u001b[1;32mpandas\\_libs\\hashtable_class_helper.pxi\u001b[0m in \u001b[0;36mpandas._libs.hashtable.PyObjectHashTable.get_item\u001b[1;34m()\u001b[0m\n",
      "\u001b[1;31mKeyError\u001b[0m: None",
      "\nThe above exception was the direct cause of the following exception:\n",
      "\u001b[1;31mKeyError\u001b[0m                                  Traceback (most recent call last)",
      "\u001b[1;32m<ipython-input-58-548c04776935>\u001b[0m in \u001b[0;36m<module>\u001b[1;34m\u001b[0m\n\u001b[0;32m      1\u001b[0m estimates_mgra[estimates_mgra.yr_id==2016].spatial.plot(kind='map', map_widget= mgra_map, \n\u001b[0;32m      2\u001b[0m                            \u001b[0mrenderer_type\u001b[0m\u001b[1;33m=\u001b[0m\u001b[1;34m'u'\u001b[0m\u001b[1;33m,\u001b[0m \u001b[1;31m# specify the unique value renderer using its notation 'u'\u001b[0m\u001b[1;33m\u001b[0m\u001b[1;33m\u001b[0m\u001b[0m\n\u001b[1;32m----> 3\u001b[1;33m         col='MGRA')\n\u001b[0m",
      "\u001b[1;32m~\\Anaconda3\\lib\\site-packages\\arcgis\\features\\geo\\_accessor.py\u001b[0m in \u001b[0;36mplot\u001b[1;34m(self, map_widget, **kwargs)\u001b[0m\n\u001b[0;32m   2002\u001b[0m             \u001b[0mself\u001b[0m\u001b[1;33m.\u001b[0m\u001b[0m_data\u001b[0m\u001b[1;33m.\u001b[0m\u001b[0mcolumns\u001b[0m \u001b[1;33m=\u001b[0m \u001b[1;33m[\u001b[0m\u001b[0mc\u001b[0m\u001b[1;33m.\u001b[0m\u001b[0mreplace\u001b[0m\u001b[1;33m(\u001b[0m\u001b[1;34m\" \"\u001b[0m\u001b[1;33m,\u001b[0m \u001b[1;34m\"_\"\u001b[0m\u001b[1;33m)\u001b[0m \u001b[1;32mfor\u001b[0m \u001b[0mc\u001b[0m \u001b[1;32min\u001b[0m \u001b[0mself\u001b[0m\u001b[1;33m.\u001b[0m\u001b[0m_data\u001b[0m\u001b[1;33m.\u001b[0m\u001b[0mcolumns\u001b[0m\u001b[1;33m]\u001b[0m\u001b[1;33m\u001b[0m\u001b[1;33m\u001b[0m\u001b[0m\n\u001b[0;32m   2003\u001b[0m             \u001b[1;31m# plot and be merry\u001b[0m\u001b[1;33m\u001b[0m\u001b[1;33m\u001b[0m\u001b[1;33m\u001b[0m\u001b[0m\n\u001b[1;32m-> 2004\u001b[1;33m             \u001b[0m_plot_map_widget\u001b[0m\u001b[1;33m(\u001b[0m\u001b[0mmap_widget\u001b[0m\u001b[1;33m)\u001b[0m\u001b[1;33m\u001b[0m\u001b[1;33m\u001b[0m\u001b[0m\n\u001b[0m\u001b[0;32m   2005\u001b[0m             \u001b[0mself\u001b[0m\u001b[1;33m.\u001b[0m\u001b[0m_data\u001b[0m\u001b[1;33m.\u001b[0m\u001b[0mcolumns\u001b[0m \u001b[1;33m=\u001b[0m \u001b[0morig_col\u001b[0m\u001b[1;33m\u001b[0m\u001b[1;33m\u001b[0m\u001b[0m\n\u001b[0;32m   2006\u001b[0m             \u001b[1;32mreturn\u001b[0m \u001b[1;32mTrue\u001b[0m\u001b[1;33m\u001b[0m\u001b[1;33m\u001b[0m\u001b[0m\n",
      "\u001b[1;32m~\\Anaconda3\\lib\\site-packages\\arcgis\\features\\geo\\_accessor.py\u001b[0m in \u001b[0;36m_plot_map_widget\u001b[1;34m(mp_wdgt)\u001b[0m\n\u001b[0;32m   1984\u001b[0m                  \u001b[0mcolors\u001b[0m\u001b[1;33m=\u001b[0m\u001b[0mkwargs\u001b[0m\u001b[1;33m.\u001b[0m\u001b[0mpop\u001b[0m\u001b[1;33m(\u001b[0m\u001b[1;34m'cmap'\u001b[0m\u001b[1;33m,\u001b[0m \u001b[1;32mNone\u001b[0m\u001b[1;33m)\u001b[0m \u001b[1;32mor\u001b[0m \u001b[0mkwargs\u001b[0m\u001b[1;33m.\u001b[0m\u001b[0mpop\u001b[0m\u001b[1;33m(\u001b[0m\u001b[1;34m'colors'\u001b[0m\u001b[1;33m,\u001b[0m \u001b[1;32mNone\u001b[0m\u001b[1;33m)\u001b[0m \u001b[1;32mor\u001b[0m \u001b[0mkwargs\u001b[0m\u001b[1;33m.\u001b[0m\u001b[0mpop\u001b[0m\u001b[1;33m(\u001b[0m\u001b[1;34m'pallette'\u001b[0m\u001b[1;33m,\u001b[0m \u001b[1;34m'jet'\u001b[0m\u001b[1;33m)\u001b[0m\u001b[1;33m,\u001b[0m\u001b[1;33m\u001b[0m\u001b[1;33m\u001b[0m\u001b[0m\n\u001b[0;32m   1985\u001b[0m                  \u001b[0malpha\u001b[0m\u001b[1;33m=\u001b[0m\u001b[0mkwargs\u001b[0m\u001b[1;33m.\u001b[0m\u001b[0mpop\u001b[0m\u001b[1;33m(\u001b[0m\u001b[1;34m'alpha'\u001b[0m\u001b[1;33m,\u001b[0m \u001b[1;36m1\u001b[0m\u001b[1;33m)\u001b[0m\u001b[1;33m,\u001b[0m\u001b[1;33m\u001b[0m\u001b[1;33m\u001b[0m\u001b[0m\n\u001b[1;32m-> 1986\u001b[1;33m                  **kwargs)\n\u001b[0m\u001b[0;32m   1987\u001b[0m \u001b[1;33m\u001b[0m\u001b[0m\n\u001b[0;32m   1988\u001b[0m         \u001b[1;31m# small helper to address zoom level\u001b[0m\u001b[1;33m\u001b[0m\u001b[1;33m\u001b[0m\u001b[1;33m\u001b[0m\u001b[0m\n",
      "\u001b[1;32m~\\Anaconda3\\lib\\site-packages\\arcgis\\features\\geo\\_viz\\mapping.py\u001b[0m in \u001b[0;36mplot\u001b[1;34m(df, map_widget, name, renderer_type, symbol_type, symbol_style, col, colors, alpha, **kwargs)\u001b[0m\n\u001b[0;32m    184\u001b[0m     \u001b[0mcol_old\u001b[0m \u001b[1;33m=\u001b[0m \u001b[0mdf\u001b[0m\u001b[1;33m.\u001b[0m\u001b[0mcolumns\u001b[0m\u001b[1;33m.\u001b[0m\u001b[0mtolist\u001b[0m\u001b[1;33m(\u001b[0m\u001b[1;33m)\u001b[0m\u001b[1;33m\u001b[0m\u001b[1;33m\u001b[0m\u001b[0m\n\u001b[0;32m    185\u001b[0m     \u001b[0mdf\u001b[0m\u001b[1;33m.\u001b[0m\u001b[0mcolumns\u001b[0m \u001b[1;33m=\u001b[0m \u001b[0mcol_new\u001b[0m\u001b[1;33m\u001b[0m\u001b[1;33m\u001b[0m\u001b[0m\n\u001b[1;32m--> 186\u001b[1;33m     \u001b[0mfc\u001b[0m \u001b[1;33m=\u001b[0m \u001b[0mdf\u001b[0m\u001b[1;33m.\u001b[0m\u001b[0mspatial\u001b[0m\u001b[1;33m.\u001b[0m\u001b[0mto_feature_collection\u001b[0m\u001b[1;33m(\u001b[0m\u001b[0mname\u001b[0m\u001b[1;33m=\u001b[0m\u001b[0mname\u001b[0m\u001b[1;33m)\u001b[0m\u001b[1;33m\u001b[0m\u001b[1;33m\u001b[0m\u001b[0m\n\u001b[0m\u001b[0;32m    187\u001b[0m     \u001b[0mdf\u001b[0m\u001b[1;33m.\u001b[0m\u001b[0mcolumns\u001b[0m \u001b[1;33m=\u001b[0m \u001b[0mcol_old\u001b[0m\u001b[1;33m\u001b[0m\u001b[1;33m\u001b[0m\u001b[0m\n\u001b[0;32m    188\u001b[0m     \u001b[0mgt\u001b[0m \u001b[1;33m=\u001b[0m \u001b[1;33m[\u001b[0m\u001b[0mel\u001b[0m \u001b[1;32mfor\u001b[0m \u001b[0mel\u001b[0m \u001b[1;32min\u001b[0m \u001b[0mdf\u001b[0m\u001b[1;33m.\u001b[0m\u001b[0mspatial\u001b[0m\u001b[1;33m.\u001b[0m\u001b[0mgeometry_type\u001b[0m \u001b[1;32mif\u001b[0m \u001b[0mel\u001b[0m \u001b[1;32mis\u001b[0m \u001b[1;32mnot\u001b[0m \u001b[1;32mNone\u001b[0m\u001b[1;33m]\u001b[0m\u001b[1;33m\u001b[0m\u001b[1;33m\u001b[0m\u001b[0m\n",
      "\u001b[1;32m~\\Anaconda3\\lib\\site-packages\\arcgis\\features\\geo\\_accessor.py\u001b[0m in \u001b[0;36mto_feature_collection\u001b[1;34m(self, name, drawing_info, extent, global_id_field)\u001b[0m\n\u001b[0;32m   2734\u001b[0m         }\n\u001b[0;32m   2735\u001b[0m         \u001b[1;32mif\u001b[0m \u001b[0mextent\u001b[0m \u001b[1;32mis\u001b[0m \u001b[1;32mNone\u001b[0m\u001b[1;33m:\u001b[0m\u001b[1;33m\u001b[0m\u001b[1;33m\u001b[0m\u001b[0m\n\u001b[1;32m-> 2736\u001b[1;33m             \u001b[0mext\u001b[0m \u001b[1;33m=\u001b[0m \u001b[0mself\u001b[0m\u001b[1;33m.\u001b[0m\u001b[0mfull_extent\u001b[0m\u001b[1;33m\u001b[0m\u001b[1;33m\u001b[0m\u001b[0m\n\u001b[0m\u001b[0;32m   2737\u001b[0m             extent = {\n\u001b[0;32m   2738\u001b[0m                 \u001b[1;34m\"xmin\"\u001b[0m \u001b[1;33m:\u001b[0m \u001b[0mext\u001b[0m\u001b[1;33m[\u001b[0m\u001b[1;36m0\u001b[0m\u001b[1;33m]\u001b[0m\u001b[1;33m,\u001b[0m\u001b[1;33m\u001b[0m\u001b[1;33m\u001b[0m\u001b[0m\n",
      "\u001b[1;32m~\\Anaconda3\\lib\\site-packages\\arcgis\\features\\geo\\_accessor.py\u001b[0m in \u001b[0;36mfull_extent\u001b[1;34m(self)\u001b[0m\n\u001b[0;32m   2946\u001b[0m \u001b[1;33m\u001b[0m\u001b[0m\n\u001b[0;32m   2947\u001b[0m         \"\"\"\n\u001b[1;32m-> 2948\u001b[1;33m         \u001b[0mge\u001b[0m \u001b[1;33m=\u001b[0m \u001b[0mself\u001b[0m\u001b[1;33m.\u001b[0m\u001b[0m_data\u001b[0m\u001b[1;33m[\u001b[0m\u001b[0mself\u001b[0m\u001b[1;33m.\u001b[0m\u001b[0mname\u001b[0m\u001b[1;33m]\u001b[0m\u001b[1;33m.\u001b[0m\u001b[0mgeom\u001b[0m\u001b[1;33m.\u001b[0m\u001b[0mextent\u001b[0m\u001b[1;33m\u001b[0m\u001b[1;33m\u001b[0m\u001b[0m\n\u001b[0m\u001b[0;32m   2949\u001b[0m         \u001b[0mq\u001b[0m \u001b[1;33m=\u001b[0m \u001b[0mge\u001b[0m\u001b[1;33m.\u001b[0m\u001b[0mnotnull\u001b[0m\u001b[1;33m(\u001b[0m\u001b[1;33m)\u001b[0m\u001b[1;33m\u001b[0m\u001b[1;33m\u001b[0m\u001b[0m\n\u001b[0;32m   2950\u001b[0m         \u001b[0mdata\u001b[0m \u001b[1;33m=\u001b[0m \u001b[0mge\u001b[0m\u001b[1;33m[\u001b[0m\u001b[0mq\u001b[0m\u001b[1;33m]\u001b[0m\u001b[1;33m.\u001b[0m\u001b[0mtolist\u001b[0m\u001b[1;33m(\u001b[0m\u001b[1;33m)\u001b[0m\u001b[1;33m\u001b[0m\u001b[1;33m\u001b[0m\u001b[0m\n",
      "\u001b[1;32m~\\Anaconda3\\lib\\site-packages\\pandas\\core\\frame.py\u001b[0m in \u001b[0;36m__getitem__\u001b[1;34m(self, key)\u001b[0m\n\u001b[0;32m   3022\u001b[0m             \u001b[1;32mif\u001b[0m \u001b[0mself\u001b[0m\u001b[1;33m.\u001b[0m\u001b[0mcolumns\u001b[0m\u001b[1;33m.\u001b[0m\u001b[0mnlevels\u001b[0m \u001b[1;33m>\u001b[0m \u001b[1;36m1\u001b[0m\u001b[1;33m:\u001b[0m\u001b[1;33m\u001b[0m\u001b[1;33m\u001b[0m\u001b[0m\n\u001b[0;32m   3023\u001b[0m                 \u001b[1;32mreturn\u001b[0m \u001b[0mself\u001b[0m\u001b[1;33m.\u001b[0m\u001b[0m_getitem_multilevel\u001b[0m\u001b[1;33m(\u001b[0m\u001b[0mkey\u001b[0m\u001b[1;33m)\u001b[0m\u001b[1;33m\u001b[0m\u001b[1;33m\u001b[0m\u001b[0m\n\u001b[1;32m-> 3024\u001b[1;33m             \u001b[0mindexer\u001b[0m \u001b[1;33m=\u001b[0m \u001b[0mself\u001b[0m\u001b[1;33m.\u001b[0m\u001b[0mcolumns\u001b[0m\u001b[1;33m.\u001b[0m\u001b[0mget_loc\u001b[0m\u001b[1;33m(\u001b[0m\u001b[0mkey\u001b[0m\u001b[1;33m)\u001b[0m\u001b[1;33m\u001b[0m\u001b[1;33m\u001b[0m\u001b[0m\n\u001b[0m\u001b[0;32m   3025\u001b[0m             \u001b[1;32mif\u001b[0m \u001b[0mis_integer\u001b[0m\u001b[1;33m(\u001b[0m\u001b[0mindexer\u001b[0m\u001b[1;33m)\u001b[0m\u001b[1;33m:\u001b[0m\u001b[1;33m\u001b[0m\u001b[1;33m\u001b[0m\u001b[0m\n\u001b[0;32m   3026\u001b[0m                 \u001b[0mindexer\u001b[0m \u001b[1;33m=\u001b[0m \u001b[1;33m[\u001b[0m\u001b[0mindexer\u001b[0m\u001b[1;33m]\u001b[0m\u001b[1;33m\u001b[0m\u001b[1;33m\u001b[0m\u001b[0m\n",
      "\u001b[1;32m~\\Anaconda3\\lib\\site-packages\\pandas\\core\\indexes\\base.py\u001b[0m in \u001b[0;36mget_loc\u001b[1;34m(self, key, method, tolerance)\u001b[0m\n\u001b[0;32m   3080\u001b[0m                 \u001b[1;32mreturn\u001b[0m \u001b[0mself\u001b[0m\u001b[1;33m.\u001b[0m\u001b[0m_engine\u001b[0m\u001b[1;33m.\u001b[0m\u001b[0mget_loc\u001b[0m\u001b[1;33m(\u001b[0m\u001b[0mcasted_key\u001b[0m\u001b[1;33m)\u001b[0m\u001b[1;33m\u001b[0m\u001b[1;33m\u001b[0m\u001b[0m\n\u001b[0;32m   3081\u001b[0m             \u001b[1;32mexcept\u001b[0m \u001b[0mKeyError\u001b[0m \u001b[1;32mas\u001b[0m \u001b[0merr\u001b[0m\u001b[1;33m:\u001b[0m\u001b[1;33m\u001b[0m\u001b[1;33m\u001b[0m\u001b[0m\n\u001b[1;32m-> 3082\u001b[1;33m                 \u001b[1;32mraise\u001b[0m \u001b[0mKeyError\u001b[0m\u001b[1;33m(\u001b[0m\u001b[0mkey\u001b[0m\u001b[1;33m)\u001b[0m \u001b[1;32mfrom\u001b[0m \u001b[0merr\u001b[0m\u001b[1;33m\u001b[0m\u001b[1;33m\u001b[0m\u001b[0m\n\u001b[0m\u001b[0;32m   3083\u001b[0m \u001b[1;33m\u001b[0m\u001b[0m\n\u001b[0;32m   3084\u001b[0m         \u001b[1;32mif\u001b[0m \u001b[0mtolerance\u001b[0m \u001b[1;32mis\u001b[0m \u001b[1;32mnot\u001b[0m \u001b[1;32mNone\u001b[0m\u001b[1;33m:\u001b[0m\u001b[1;33m\u001b[0m\u001b[1;33m\u001b[0m\u001b[0m\n",
      "\u001b[1;31mKeyError\u001b[0m: None"
     ]
    }
   ],
   "source": [
    "estimates_mgra[estimates_mgra.yr_id==2016].spatial.plot(kind='map', map_widget= mgra_map, \n",
    "                           renderer_type='u', # specify the unique value renderer using its notation 'u'\n",
    "        col='MGRA')"
   ]
  }
 ],
 "metadata": {
  "kernelspec": {
   "display_name": "Python 3",
   "language": "python",
   "name": "python3"
  },
  "language_info": {
   "codemirror_mode": {
    "name": "ipython",
    "version": 3
   },
   "file_extension": ".py",
   "mimetype": "text/x-python",
   "name": "python",
   "nbconvert_exporter": "python",
   "pygments_lexer": "ipython3",
   "version": "3.7.10"
  },
  "toc-autonumbering": true,
  "toc-showmarkdowntxt": true
 },
 "nbformat": 4,
 "nbformat_minor": 4
}
