{
 "cells": [
  {
   "cell_type": "code",
   "execution_count": 1,
   "metadata": {},
   "outputs": [],
   "source": [
    "import os\n",
    "import pyodbc\n",
    "import pandas as pd\n",
    "from arcgis.gis import GIS\n",
    "import qgrid"
   ]
  },
  {
   "cell_type": "code",
   "execution_count": 2,
   "metadata": {},
   "outputs": [
    {
     "name": "stdout",
     "output_type": "stream",
     "text": [
      "      mgra_id  yr_id  housing_type_id  population\n",
      "0  1400000101   2010                1          41\n",
      "1  1400000102   2010                1           0\n",
      "2  1400000201   2010                1          74\n",
      "3  1400000202   2010                1           0\n",
      "4  1400000301   2010                1         126\n",
      "11\n"
     ]
    }
   ],
   "source": [
    "#loading the estimates data \n",
    "conn = pyodbc.connect('Driver={ODBC Driver 17 for SQL Server};'\n",
    "                      'Server=DDAMWSQL16.sandag.org;'\n",
    "                      'Database=estimates;'\n",
    "                      'Trusted_Connection=yes;')\n",
    "\n",
    "hhpop_2020 =\"SELECT [mgra_id], [yr_id], [housing_type_id], [population]\"\\\n",
    "                  \"FROM [estimates].[est_2020_03].[dw_population]\"\\\n",
    "                   \"WHERE housing_type_id= 1\"\n",
    "                  \n",
    "             \n",
    "hhpop = pd.read_sql_query(hhpop_2020, conn)    \n",
    "\n",
    "print(hhpop.head())\n",
    "\n",
    "uniqueyr = hhpop['yr_id'].nunique()\n",
    "print(uniqueyr)"
   ]
  },
  {
   "cell_type": "code",
   "execution_count": 3,
   "metadata": {},
   "outputs": [
    {
     "data": {
      "text/plain": [
       "mgra_id             int64\n",
       "mgra                int64\n",
       "series              int64\n",
       "region             object\n",
       "sra                object\n",
       "tract              object\n",
       "supervisorial      object\n",
       "college            object\n",
       "cpa                object\n",
       "jurisdiction       object\n",
       "zip                object\n",
       "secondary          object\n",
       "elementary         object\n",
       "msa                object\n",
       "sdcouncil          object\n",
       "transit            object\n",
       "unified            object\n",
       "jurisdiction_id     int64\n",
       "cpa_id              int64\n",
       "taz                 int64\n",
       "dtype: object"
      ]
     },
     "execution_count": 3,
     "metadata": {},
     "output_type": "execute_result"
    }
   ],
   "source": [
    "# loading the dim_mgra_denormalized table from demographic warehouse \n",
    "conn = pyodbc.connect('Driver={ODBC Driver 17 for SQL Server};'\n",
    "                      'Server=DDAMWSQL16.sandag.org;'\n",
    "                      'Database=demographic_warehouse;'\n",
    "                      'Trusted_Connection=yes;')\n",
    "\n",
    "dim_mgra =\"SELECT *\"\\\n",
    "                  \"FROM [demographic_warehouse].[dim].[mgra_denormalize]\"\\\n",
    "                   \"WHERE series= 14 \" \n",
    "             \n",
    "dim_mgra = pd.read_sql_query(dim_mgra, conn)    \n",
    "\n",
    "dim_mgra.dtypes\n"
   ]
  },
  {
   "cell_type": "code",
   "execution_count": 4,
   "metadata": {},
   "outputs": [],
   "source": [
    "# setting up the query string for loading the mgra data from geodepot\n",
    "\n",
    "mgra_query = \"\"\"SELECT  [OBJECTID]\n",
    "      ,[MGRA]\n",
    "      ,[CT10]\n",
    "      ,[CT10BG]\n",
    "      ,[SRA]\n",
    "      ,[MSA]\n",
    "      ,[City]\n",
    "      ,[ZIP]\n",
    "      ,[Sphere]\n",
    "      ,[CPA]\n",
    "      ,[CPASG]\n",
    "      ,[TAZ]\n",
    "      ,[Council]\n",
    "      ,[Super]\n",
    "      ,[LUZ]\n",
    "      ,[Elem]\n",
    "      ,[Unif]\n",
    "      ,[High]\n",
    "      ,[Coll]\n",
    "      ,[Transit]\n",
    "      ,[Shape] \"\"\" + \\\n",
    "    \".STGeometryN(1).ToString()\"  + \"FROM [GeoDepot].[gis].[MGRA13PT]\"\n",
    "\n",
    " # + geo_col + '.STGeometryN(1).ToString()'  \n",
    " #  ,[Shape]\n",
    "   #-  ,[GDB_GEOMATTR_DATA]"
   ]
  },
  {
   "cell_type": "code",
   "execution_count": 5,
   "metadata": {},
   "outputs": [
    {
     "data": {
      "text/plain": [
       "OBJECTID     int64\n",
       "MGRA         int64\n",
       "CT10         int64\n",
       "CT10BG       int64\n",
       "SRA          int64\n",
       "MSA          int64\n",
       "City         int64\n",
       "ZIP          int64\n",
       "Sphere       int64\n",
       "CPA          int64\n",
       "CPASG        int64\n",
       "TAZ          int64\n",
       "Council      int64\n",
       "Super        int64\n",
       "LUZ          int64\n",
       "Elem         int64\n",
       "Unif         int64\n",
       "High         int64\n",
       "Coll         int64\n",
       "Transit      int64\n",
       "            object\n",
       "dtype: object"
      ]
     },
     "execution_count": 5,
     "metadata": {},
     "output_type": "execute_result"
    }
   ],
   "source": [
    "# loading the mgra data from geodepot\n",
    "\n",
    "conn = pyodbc.connect('Driver={ODBC Driver 17 for SQL Server};'\n",
    "                      'Server=sql2014b8;'\n",
    "                      'Database=GeoDepot;'\n",
    "                      'Trusted_Connection=yes;')\n",
    "cursor = conn.cursor()\n",
    "             \n",
    "mgra = pd.read_sql_query(mgra_query, conn)    \n",
    "\n",
    "mgra.dtypes\n"
   ]
  },
  {
   "cell_type": "code",
   "execution_count": 6,
   "metadata": {},
   "outputs": [
    {
     "name": "stdout",
     "output_type": "stream",
     "text": [
      "300476\n",
      "True\n"
     ]
    },
    {
     "data": {
      "text/plain": [
       "Index(['OBJECTID', 'MGRA', 'CT10', 'CT10BG', 'SRA', 'MSA', 'City', 'ZIP',\n",
       "       'Sphere', 'CPA', 'CPASG', 'TAZ', 'Council', 'Super', 'LUZ', 'Elem',\n",
       "       'Unif', 'High', 'Coll', 'Transit', '', 'mgra_id', 'mgra', 'series',\n",
       "       'region', 'sra', 'tract', 'supervisorial', 'college', 'cpa',\n",
       "       'jurisdiction', 'zip', 'secondary', 'elementary', 'msa', 'sdcouncil',\n",
       "       'transit', 'unified', 'jurisdiction_id', 'cpa_id', 'taz', 'yr_id',\n",
       "       'housing_type_id', 'population'],\n",
       "      dtype='object')"
      ]
     },
     "execution_count": 6,
     "metadata": {},
     "output_type": "execute_result"
    }
   ],
   "source": [
    "# creating cross-walking between the age estimates table, dim_mgra table, and mgra geodepot file\n",
    "\n",
    "mgra_shape= mgra.merge(dim_mgra, left_on='MGRA', right_on='mgra')\n",
    "mgra_shape.shape[0]\n",
    "mgra_shape.head()\n",
    "estimates_mgra= mgra_shape.merge(hhpop, left_on= 'mgra_id', right_on= 'mgra_id')\n",
    "print(estimates_mgra.shape[0])\n",
    "estimates_mgra\n",
    "\n",
    "# checking the number of rows in the final df remains intact during merge\n",
    "\n",
    "print(estimates_mgra.shape[0]== uniqueyr*27316)\n",
    "\n",
    "\n",
    "estimates_mgra.rename({\"mgra\": \"MGRA\"}, axis=1)\n",
    "\n",
    "estimates_mgra.columns\n"
   ]
  },
  {
   "cell_type": "code",
   "execution_count": 7,
   "metadata": {},
   "outputs": [],
   "source": [
    "# Loading GIS module from arcgis for visualizing estimates \n",
    "\n",
    "username = \"Purva.Singh_SANDAG\"\n",
    "password = \"Crisil1234\"\n",
    "gis = GIS(\"https://www.arcgis.com\", username, password)\n",
    "\n"
   ]
  },
  {
   "cell_type": "code",
   "execution_count": 14,
   "metadata": {},
   "outputs": [
    {
     "data": {
      "text/html": [
       "<div class=\"item_container\" style=\"height: auto; overflow: hidden; border: 1px solid #cfcfcf; border-radius: 2px; background: #f6fafa; line-height: 1.21429em; padding: 10px;\">\n",
       "                    <div class=\"item_left\" style=\"width: 210px; float: left;\">\n",
       "                       <a href='https://SANDAG.maps.arcgis.com/home/item.html?id=a9a6a3ef1a0d4e92905227e69b936a6f' target='_blank'>\n",
       "                        <img src='data:image/png;base64,iVBORw0KGgoAAAANSUhEUgAAAMgAAACFCAYAAAAenrcsAAABaUlEQVR4Xu3TsQkAMAzAsPz/dDsGCvUF0ujdc4CveQOwDALBIBAMAsEgEAwCwSAQDALBIBAMAsEgEAwCwSAQDALBIBAMAsEgEAwCwSAQDALBIBAMAsEgEAwCwSAQDALBIBAMAsEgEAwCwSAQDALBIBAMAsEgEAwCwSAQDALBIBAMAsEgEAwCwSAQDALBIBAMAsEgEAwCwSAQDALBIBAMAsEgEAwCwSAQDALBIBAMAsEgEAwCwSAQDALBIBAMAsEgEAwCwSAQDALBIBAMAsEgEAwCwSAQDALBIBAMAsEgEAwCwSAQDALBIBAMAsEgEAwCwSAQDALBIBAMAsEgEAwCwSAQDALBIBAMAsEgEAwCwSAQDALBIBAMAsEgEAwCwSAQDALBIBAMAsEgEAwCwSAQDALBIBAMAsEgEAwCwSAQDALBIBAMAsEgEAwCwSAQDALBIBAMAsEgEAwCwSAQDALBIBAMAsEgEAwC4QI0Uhij/CqwawAAAABJRU5ErkJggg==' width='200' height='133' class=\"itemThumbnail\">\n",
       "                       </a>\n",
       "                    </div>\n",
       "\n",
       "                    <div class=\"item_right\"     style=\"float: none; width: auto; overflow: hidden;\">\n",
       "                        <a href='https://SANDAG.maps.arcgis.com/home/item.html?id=a9a6a3ef1a0d4e92905227e69b936a6f' target='_blank'><b>MGRA</b>\n",
       "                        </a>\n",
       "                        <br/><img src='https://SANDAG.maps.arcgis.com/home/js/jsapi/esri/css/images/item_type_icons/featureshosted16.png' style=\"vertical-align:middle;\">Feature Layer Collection by SANDAG_Admin\n",
       "                        <br/>Last Modified: July 08, 2020\n",
       "                        <br/>0 comments, 78 views\n",
       "                    </div>\n",
       "                </div>\n",
       "                "
      ],
      "text/plain": [
       "<Item title:\"MGRA\" type:Feature Layer Collection owner:SANDAG_Admin>"
      ]
     },
     "execution_count": 14,
     "metadata": {},
     "output_type": "execute_result"
    }
   ],
   "source": [
    "mgra13 = gis.content.search(\"MGRA\", item_type=\"Feature Layer\", )[4]\n",
    "mgra_map = gis.map(\"San Diego\", zoomlevel=16)\n",
    "mgra13"
   ]
  },
  {
   "cell_type": "code",
   "execution_count": 9,
   "metadata": {},
   "outputs": [],
   "source": [
    "mgra_map.add_layer(mgra13, {\"field_name\":\"MGRA\" })"
   ]
  },
  {
   "cell_type": "code",
   "execution_count": 10,
   "metadata": {},
   "outputs": [
    {
     "data": {
      "application/vnd.jupyter.widget-view+json": {
       "model_id": "33f3d6185ccc434a9ae989d63ac9b560",
       "version_major": 2,
       "version_minor": 0
      },
      "text/plain": [
       "MapView(layout=Layout(height='400px', width='100%'))"
      ]
     },
     "metadata": {},
     "output_type": "display_data"
    },
    {
     "data": {
      "text/html": [
       "<div class=\"map-static-img-preview-543dac8b-0cd8-4a21-9e47-fadd5159ad7b\"><img src=\"\"></img></div>"
      ],
      "text/plain": [
       "<IPython.core.display.HTML object>"
      ]
     },
     "metadata": {},
     "output_type": "display_data"
    }
   ],
   "source": [
    "mgra_map"
   ]
  },
  {
   "cell_type": "code",
   "execution_count": 17,
   "metadata": {},
   "outputs": [
    {
     "data": {
      "text/html": [
       "<div>\n",
       "<style scoped>\n",
       "    .dataframe tbody tr th:only-of-type {\n",
       "        vertical-align: middle;\n",
       "    }\n",
       "\n",
       "    .dataframe tbody tr th {\n",
       "        vertical-align: top;\n",
       "    }\n",
       "\n",
       "    .dataframe thead th {\n",
       "        text-align: right;\n",
       "    }\n",
       "</style>\n",
       "<table border=\"1\" class=\"dataframe\">\n",
       "  <thead>\n",
       "    <tr style=\"text-align: right;\">\n",
       "      <th></th>\n",
       "      <th>OBJECTID</th>\n",
       "      <th>MGRA</th>\n",
       "      <th>CT10</th>\n",
       "      <th>CT10BG</th>\n",
       "      <th>SRA</th>\n",
       "      <th>MSA</th>\n",
       "      <th>City</th>\n",
       "      <th>ZIP</th>\n",
       "      <th>Sphere</th>\n",
       "      <th>CPA</th>\n",
       "      <th>...</th>\n",
       "      <th>TAZ</th>\n",
       "      <th>Council</th>\n",
       "      <th>Super</th>\n",
       "      <th>LUZ</th>\n",
       "      <th>Elem</th>\n",
       "      <th>Unif</th>\n",
       "      <th>High</th>\n",
       "      <th>Coll</th>\n",
       "      <th>Transit</th>\n",
       "      <th>SHAPE</th>\n",
       "    </tr>\n",
       "  </thead>\n",
       "  <tbody>\n",
       "    <tr>\n",
       "      <th>0</th>\n",
       "      <td>1</td>\n",
       "      <td>1</td>\n",
       "      <td>100</td>\n",
       "      <td>1001</td>\n",
       "      <td>1</td>\n",
       "      <td>0</td>\n",
       "      <td>14</td>\n",
       "      <td>92103</td>\n",
       "      <td>1442</td>\n",
       "      <td>1442</td>\n",
       "      <td>...</td>\n",
       "      <td>3331</td>\n",
       "      <td>3</td>\n",
       "      <td>4</td>\n",
       "      <td>95</td>\n",
       "      <td>0</td>\n",
       "      <td>30</td>\n",
       "      <td>0</td>\n",
       "      <td>4</td>\n",
       "      <td>1</td>\n",
       "      <td>{\"rings\": [[[-13045374.349833563, 3863379.4859...</td>\n",
       "    </tr>\n",
       "    <tr>\n",
       "      <th>1</th>\n",
       "      <td>2</td>\n",
       "      <td>2</td>\n",
       "      <td>100</td>\n",
       "      <td>1001</td>\n",
       "      <td>1</td>\n",
       "      <td>0</td>\n",
       "      <td>14</td>\n",
       "      <td>92103</td>\n",
       "      <td>1442</td>\n",
       "      <td>1442</td>\n",
       "      <td>...</td>\n",
       "      <td>3331</td>\n",
       "      <td>3</td>\n",
       "      <td>4</td>\n",
       "      <td>95</td>\n",
       "      <td>0</td>\n",
       "      <td>30</td>\n",
       "      <td>0</td>\n",
       "      <td>4</td>\n",
       "      <td>1</td>\n",
       "      <td>{\"rings\": [[[-13044868.53026565, 3863126.96744...</td>\n",
       "    </tr>\n",
       "    <tr>\n",
       "      <th>2</th>\n",
       "      <td>3</td>\n",
       "      <td>3</td>\n",
       "      <td>100</td>\n",
       "      <td>1001</td>\n",
       "      <td>1</td>\n",
       "      <td>0</td>\n",
       "      <td>14</td>\n",
       "      <td>92103</td>\n",
       "      <td>1442</td>\n",
       "      <td>1442</td>\n",
       "      <td>...</td>\n",
       "      <td>3358</td>\n",
       "      <td>3</td>\n",
       "      <td>4</td>\n",
       "      <td>95</td>\n",
       "      <td>0</td>\n",
       "      <td>30</td>\n",
       "      <td>0</td>\n",
       "      <td>4</td>\n",
       "      <td>1</td>\n",
       "      <td>{\"rings\": [[[-13044573.865921693, 3863107.2344...</td>\n",
       "    </tr>\n",
       "    <tr>\n",
       "      <th>3</th>\n",
       "      <td>4</td>\n",
       "      <td>4</td>\n",
       "      <td>100</td>\n",
       "      <td>1001</td>\n",
       "      <td>1</td>\n",
       "      <td>0</td>\n",
       "      <td>14</td>\n",
       "      <td>92103</td>\n",
       "      <td>1442</td>\n",
       "      <td>1442</td>\n",
       "      <td>...</td>\n",
       "      <td>3358</td>\n",
       "      <td>3</td>\n",
       "      <td>4</td>\n",
       "      <td>95</td>\n",
       "      <td>0</td>\n",
       "      <td>30</td>\n",
       "      <td>0</td>\n",
       "      <td>4</td>\n",
       "      <td>1</td>\n",
       "      <td>{\"rings\": [[[-13044254.604501536, 3862633.8466...</td>\n",
       "    </tr>\n",
       "    <tr>\n",
       "      <th>4</th>\n",
       "      <td>5</td>\n",
       "      <td>5</td>\n",
       "      <td>100</td>\n",
       "      <td>1001</td>\n",
       "      <td>1</td>\n",
       "      <td>0</td>\n",
       "      <td>14</td>\n",
       "      <td>92103</td>\n",
       "      <td>1442</td>\n",
       "      <td>1442</td>\n",
       "      <td>...</td>\n",
       "      <td>3358</td>\n",
       "      <td>3</td>\n",
       "      <td>4</td>\n",
       "      <td>95</td>\n",
       "      <td>0</td>\n",
       "      <td>30</td>\n",
       "      <td>0</td>\n",
       "      <td>4</td>\n",
       "      <td>1</td>\n",
       "      <td>{\"rings\": [[[-13044782.283246167, 3862848.1879...</td>\n",
       "    </tr>\n",
       "  </tbody>\n",
       "</table>\n",
       "<p>5 rows × 21 columns</p>\n",
       "</div>"
      ],
      "text/plain": [
       "   OBJECTID  MGRA  CT10  CT10BG  SRA  MSA  City    ZIP  Sphere   CPA  ...  \\\n",
       "0         1     1   100    1001    1    0    14  92103    1442  1442  ...   \n",
       "1         2     2   100    1001    1    0    14  92103    1442  1442  ...   \n",
       "2         3     3   100    1001    1    0    14  92103    1442  1442  ...   \n",
       "3         4     4   100    1001    1    0    14  92103    1442  1442  ...   \n",
       "4         5     5   100    1001    1    0    14  92103    1442  1442  ...   \n",
       "\n",
       "    TAZ  Council  Super  LUZ  Elem  Unif  High  Coll  Transit  \\\n",
       "0  3331        3      4   95     0    30     0     4        1   \n",
       "1  3331        3      4   95     0    30     0     4        1   \n",
       "2  3358        3      4   95     0    30     0     4        1   \n",
       "3  3358        3      4   95     0    30     0     4        1   \n",
       "4  3358        3      4   95     0    30     0     4        1   \n",
       "\n",
       "                                               SHAPE  \n",
       "0  {\"rings\": [[[-13045374.349833563, 3863379.4859...  \n",
       "1  {\"rings\": [[[-13044868.53026565, 3863126.96744...  \n",
       "2  {\"rings\": [[[-13044573.865921693, 3863107.2344...  \n",
       "3  {\"rings\": [[[-13044254.604501536, 3862633.8466...  \n",
       "4  {\"rings\": [[[-13044782.283246167, 3862848.1879...  \n",
       "\n",
       "[5 rows x 21 columns]"
      ]
     },
     "execution_count": 17,
     "metadata": {},
     "output_type": "execute_result"
    }
   ],
   "source": [
    "# viewing the attribute table for the mgra13 layer \n",
    "mgra_layer= mgra13.layers[0]\n",
    "\n",
    "#sdf = pd.DataFrame.spatial.from_layer(mgra_layer)\n",
    "\n",
    "sdf = mgra_layer.query().sdf\n",
    "\n",
    "sdf.head()"
   ]
  },
  {
   "cell_type": "code",
   "execution_count": 31,
   "metadata": {},
   "outputs": [
    {
     "data": {
      "application/vnd.jupyter.widget-view+json": {
       "model_id": "a3daf8e9cbd4497aa20caf148a7f6a9f",
       "version_major": 2,
       "version_minor": 0
      },
      "text/plain": [
       "MapView(layout=Layout(height='400px', width='100%'))"
      ]
     },
     "metadata": {},
     "output_type": "display_data"
    },
    {
     "data": {
      "text/html": [
       "<div class=\"map-static-img-preview-34088ac7-070e-4b1b-b8ab-cf1badfd1323\"><img src=\"\"></img></div>"
      ],
      "text/plain": [
       "<IPython.core.display.HTML object>"
      ]
     },
     "metadata": {},
     "output_type": "display_data"
    }
   ],
   "source": [
    "estimates_mgra= sdf.merge(estimates_mgra, left_on='MGRA', right_on='MGRA')\n",
    "\n",
    "#estimates_mgra_16= estimates_mgra[estimates_mgra['yr_id']==2016]\n",
    "\n",
    "sdf.spatial.plot()"
   ]
  },
  {
   "cell_type": "code",
   "execution_count": 32,
   "metadata": {},
   "outputs": [
    {
     "data": {
      "application/vnd.jupyter.widget-view+json": {
       "model_id": "92942199db314900ab5b78be9c4419c0",
       "version_major": 2,
       "version_minor": 0
      },
      "text/plain": [
       "MapView(layout=Layout(height='400px', width='100%'))"
      ]
     },
     "metadata": {},
     "output_type": "display_data"
    },
    {
     "data": {
      "text/html": [
       "<div class=\"map-static-img-preview-bfe8a093-e157-4201-9833-362fb6f187c4\"><img src=\"\"></img></div>"
      ],
      "text/plain": [
       "<IPython.core.display.HTML object>"
      ]
     },
     "metadata": {},
     "output_type": "display_data"
    }
   ],
   "source": [
    "cities = gis.content.search(\"Jurisdictions\", item_type=\"Feature Layer\", )[9]\n",
    "cities_layer= cities.layers[0]\n",
    "city_df = cities_layer.query().sdf\n",
    "city_df.spatial.plot()\n",
    "\n",
    "#estimates_mgra_16.spatial.plot()"
   ]
  },
  {
   "cell_type": "code",
   "execution_count": null,
   "metadata": {},
   "outputs": [],
   "source": [
    "#renderer_type='u', # specify the unique value renderer using its notation 'u'\n",
    "      #  col='MGRA')"
   ]
  }
 ],
 "metadata": {
  "kernelspec": {
   "display_name": "Python 3",
   "language": "python",
   "name": "python3"
  },
  "language_info": {
   "codemirror_mode": {
    "name": "ipython",
    "version": 3
   },
   "file_extension": ".py",
   "mimetype": "text/x-python",
   "name": "python",
   "nbconvert_exporter": "python",
   "pygments_lexer": "ipython3",
   "version": "3.7.10"
  },
  "toc-autonumbering": true,
  "toc-showmarkdowntxt": true
 },
 "nbformat": 4,
 "nbformat_minor": 4
}
