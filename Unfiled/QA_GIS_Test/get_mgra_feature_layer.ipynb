{
 "cells": [
  {
   "cell_type": "code",
   "execution_count": null,
   "metadata": {},
   "outputs": [],
   "source": [
    "from arcgis.gis import GIS"
   ]
  },
  {
   "cell_type": "code",
   "execution_count": null,
   "metadata": {},
   "outputs": [],
   "source": [
    "import geopandas"
   ]
  },
  {
   "cell_type": "code",
   "execution_count": null,
   "metadata": {},
   "outputs": [],
   "source": [
    "import os"
   ]
  },
  {
   "cell_type": "code",
   "execution_count": null,
   "metadata": {},
   "outputs": [],
   "source": [
    "import pandas as pd\n",
    "import json"
   ]
  },
  {
   "cell_type": "markdown",
   "metadata": {},
   "source": [
    "### Enter username and password for ArcGIS online"
   ]
  },
  {
   "cell_type": "code",
   "execution_count": null,
   "metadata": {},
   "outputs": [],
   "source": [
    "username = \"\""
   ]
  },
  {
   "cell_type": "code",
   "execution_count": null,
   "metadata": {},
   "outputs": [],
   "source": [
    "password = \"\""
   ]
  },
  {
   "cell_type": "code",
   "execution_count": null,
   "metadata": {},
   "outputs": [],
   "source": []
  },
  {
   "cell_type": "code",
   "execution_count": null,
   "metadata": {},
   "outputs": [],
   "source": [
    "gis = GIS(\"https://www.arcgis.com\", username, password)"
   ]
  },
  {
   "cell_type": "code",
   "execution_count": null,
   "metadata": {},
   "outputs": [],
   "source": [
    "# -*- coding: utf-8 -*-\n",
    "\"\"\"\n",
    "Convert Geospatial Data to TopoJSON\n",
    "- query data from SQL Server\n",
    "\n",
    "@author: Jeff Yen\n",
    "\"\"\"\n",
    "\n",
    "\n",
    "import os\n",
    "import pyodbc\n",
    "import pandas as pd\n",
    "import geopandas as gpd\n",
    "from shapely import wkt\n",
    "import topojson as tp #topojson: https://mattijn.github.io/topojson/\n",
    "\n",
    "# Set workspace to the script directory\n",
    "os.chdir(os.path.dirname(os.path.abspath('__file__')))\n",
    "\n",
    "# Functions\n",
    "def get_gis_layer(sql):\n",
    "    \"\"\"\n",
    "    # Query a GIS layer from SQL Server (GeoDepot)\n",
    "    \"\"\"\n",
    "    #establish SQL connection\n",
    "    conn = pyodbc.connect(\"Driver={SQL Server};\"\n",
    "                          \"Server=sql2014b8;\" # TODO: specify server\n",
    "                          \"Database=GeoDepot;\" # TODO: specify database\n",
    "                          \"Trusted_Connection=yes;\")\n",
    "    #run query\n",
    "    resultDF = pd.read_sql_query(sql, conn)\n",
    "    \n",
    "    #convert to GeoDF\n",
    "    resultDF[\"geometry\"] = [wkt.loads(x) for x in resultDF[\"geometry\"]]\n",
    "    resultDF = gpd.GeoDataFrame(resultDF, crs=\"EPSG:2230\", geometry=\"geometry\")\n",
    "    \n",
    "    #drop original shape column\n",
    "    resultDF = resultDF.drop('Shape', axis=1)\n",
    "    \n",
    "    return resultDF\n",
    "\n",
    "def convert_to_TopoJSON(input_data, outname):\n",
    "    \"\"\"\n",
    "    # Convert a GIS layer to TopoJSON\n",
    "    # and export attribute table\n",
    "    \"\"\"\n",
    "    #if input projection is not WGS84\n",
    "    #then do re-projection\n",
    "    if input_data.crs != \"EPSG:4326\":\n",
    "        input_data = input_data.to_crs(\"EPSG:4326\")\n",
    "    \n",
    "    #export geography to topojson\n",
    "    resultTP = tp.Topology(input_data, prequantize=False).to_json()\n",
    "    Output_object = open(r\"..\\output\\{}.json\".format(outname),\"w\")\n",
    "    Output_object.write(resultTP)\n",
    "\n",
    "    #export attribute table as csv (exclude geometry)\n",
    "    input_data.iloc[:,:-1].to_csv(r'..\\output\\{}.csv'.format(outname), index = False)\n",
    "    \n",
    "    return resultTP\n"
   ]
  },
  {
   "cell_type": "code",
   "execution_count": null,
   "metadata": {},
   "outputs": [],
   "source": [
    "lyr_name = 'MGRA13PT' #TODO: specify table name\n",
    "\n",
    "sql = (\"SELECT *\"\n",
    "       \", [Shape].ToString() AS [geometry]\"\n",
    "       \"FROM [GeoDepot].[gis].[{}]\".format(lyr_name)\n",
    "       )\n",
    "\n",
    "# Get GIS layer\n",
    "gisLYR = get_gis_layer(sql)\n",
    "\n",
    "# Convert GIS layer to TopoJSON and export attribute table\n",
    "# topoJSON = convert_to_TopoJSON(gisLYR, lyr_name)\n"
   ]
  },
  {
   "cell_type": "code",
   "execution_count": null,
   "metadata": {},
   "outputs": [],
   "source": [
    "gisLYR"
   ]
  },
  {
   "cell_type": "code",
   "execution_count": null,
   "metadata": {},
   "outputs": [],
   "source": [
    "mgra_map = gis.map(\"San Diego\", zoomlevel=16)"
   ]
  },
  {
   "cell_type": "code",
   "execution_count": null,
   "metadata": {},
   "outputs": [],
   "source": [
    "mgra_map"
   ]
  },
  {
   "cell_type": "code",
   "execution_count": null,
   "metadata": {},
   "outputs": [],
   "source": [
    "# mgra_map.add_layer(gisLYR)\n",
    "mgra_map.add_layer(gisLYR, {\"field_name\":\"MGRA\" })"
   ]
  },
  {
   "cell_type": "markdown",
   "metadata": {},
   "source": [
    "### find MGRA feature layer   (to-do: remove the \"[4]\")"
   ]
  },
  {
   "cell_type": "code",
   "execution_count": null,
   "metadata": {},
   "outputs": [],
   "source": [
    "mgra13 = gis.content.search(\"MGRA\", item_type=\"Feature Layer\", )[4]"
   ]
  },
  {
   "cell_type": "code",
   "execution_count": null,
   "metadata": {},
   "outputs": [],
   "source": [
    "mgra13"
   ]
  },
  {
   "cell_type": "markdown",
   "metadata": {},
   "source": [
    "### map the MGRAs"
   ]
  },
  {
   "cell_type": "code",
   "execution_count": null,
   "metadata": {},
   "outputs": [],
   "source": [
    "mgra_map = gis.map(\"San Diego\", zoomlevel=16)"
   ]
  },
  {
   "cell_type": "code",
   "execution_count": null,
   "metadata": {},
   "outputs": [],
   "source": [
    "# mgra_map.add_layer(mgra13, {\"field_name\":\"MGRA\" })"
   ]
  },
  {
   "cell_type": "code",
   "execution_count": null,
   "metadata": {},
   "outputs": [],
   "source": [
    "mgra_map.add_layer(mgra13)"
   ]
  },
  {
   "cell_type": "code",
   "execution_count": null,
   "metadata": {},
   "outputs": [],
   "source": [
    "mgra_map"
   ]
  }
 ],
 "metadata": {
  "kernelspec": {
   "display_name": "Python 3",
   "language": "python",
   "name": "python3"
  },
  "language_info": {
   "codemirror_mode": {
    "name": "ipython",
    "version": 3
   },
   "file_extension": ".py",
   "mimetype": "text/x-python",
   "name": "python",
   "nbconvert_exporter": "python",
   "pygments_lexer": "ipython3",
   "version": "3.7.10"
  }
 },
 "nbformat": 4,
 "nbformat_minor": 4
}
