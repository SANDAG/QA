{
 "cells": [
  {
   "cell_type": "code",
   "execution_count": 221,
   "metadata": {},
   "outputs": [],
   "source": [
    "import pandas as pd\n",
    "import datetime\n",
    "import os\n",
    "import numpy as np\n",
    "from os import listdir\n",
    "from os.path import isfile, join"
   ]
  },
  {
   "cell_type": "markdown",
   "metadata": {},
   "source": [
    "## set directory for output"
   ]
  },
  {
   "cell_type": "code",
   "execution_count": 59,
   "metadata": {},
   "outputs": [],
   "source": [
    "output_dir = 'C:\\\\Users\\\\psi\\\\San Diego Association of Governments\\\\Regional Census Data Center - Documents\\\\2020 Census Planning\\\\Complete Count Committee\\\\Monthly Reports\\\\python_output\\\\'"
   ]
  },
  {
   "cell_type": "markdown",
   "metadata": {},
   "source": [
    "## automatically create a new folder so do not overwrite output from prior day"
   ]
  },
  {
   "cell_type": "code",
   "execution_count": 60,
   "metadata": {},
   "outputs": [],
   "source": [
    "python_out = os.path.join(output_dir, datetime.datetime.now().strftime('%Y-%m-%d'))"
   ]
  },
  {
   "cell_type": "code",
   "execution_count": 61,
   "metadata": {},
   "outputs": [
    {
     "name": "stdout",
     "output_type": "stream",
     "text": [
      "C:\\Users\\psi\\San Diego Association of Governments\\Regional Census Data Center - Documents\\2020 Census Planning\\Complete Count Committee\\Monthly Reports\\python_output\\2020-09-10\n"
     ]
    }
   ],
   "source": [
    "print(python_out)"
   ]
  },
  {
   "cell_type": "code",
   "execution_count": 62,
   "metadata": {},
   "outputs": [],
   "source": [
    "if not os.path.exists(python_out):\n",
    "    os.makedirs(python_out)"
   ]
  },
  {
   "cell_type": "markdown",
   "metadata": {},
   "source": [
    "### initialize data frames"
   ]
  },
  {
   "cell_type": "code",
   "execution_count": 63,
   "metadata": {},
   "outputs": [],
   "source": [
    "df = pd.DataFrame() # for all files\n",
    "cbodf = pd.DataFrame() # just cbo file for summary spreadsheet\n",
    "novdf = pd.DataFrame() # just nov files for summary spreadsheet\n",
    "decdf = pd.DataFrame() # just dec files for summary spreadsheet\n",
    "jandf = pd.DataFrame() # just jan files for summary spreadsheet\n",
    "febdf = pd.DataFrame() # just feb files for summary spreadsheet\n",
    "mardf = pd.DataFrame() # just mar files for summary spreadsheet\n",
    "aprdf = pd.DataFrame() # just apr files for summary spreadsheet\n",
    "maydf = pd.DataFrame() # just may files for summary spreadsheet\n",
    "jundf = pd.DataFrame() # just jun files for summary spreadsheet\n",
    "juldf = pd.DataFrame() # just jun files for summary spreadsheet\n",
    "augdf = pd.DataFrame() # just jun files for summary spreadsheet\n"
   ]
  },
  {
   "cell_type": "markdown",
   "metadata": {},
   "source": [
    "### get list november files in folder"
   ]
  },
  {
   "cell_type": "code",
   "execution_count": 64,
   "metadata": {},
   "outputs": [
    {
     "name": "stdout",
     "output_type": "stream",
     "text": [
      "C:\\Users\\psi\\San Diego Association of Governments\\Regional Census Data Center - Documents\\2020 Census Planning\\Complete Count Committee\\Monthly Reports\\2019-11\n"
     ]
    },
    {
     "data": {
      "text/plain": [
       "['Additional materials',\n",
       " 'Carlsbad 2019-11.xlsx',\n",
       " 'County Monthly Reporting Spreadsheet 2019-11.xlsx',\n",
       " 'Escondido Outreach Report - October 2019.xlsx',\n",
       " 'Imperial Beach Report for October 2019.xlsx',\n",
       " 'Lemon Grove Outreach Update.xlsx',\n",
       " 'San Marcos October Update.xlsx']"
      ]
     },
     "execution_count": 64,
     "metadata": {},
     "output_type": "execute_result"
    }
   ],
   "source": [
    "novpath = 'C:\\\\Users\\\\psi\\\\San Diego Association of Governments\\\\Regional Census Data Center - Documents\\\\2020 Census Planning\\\\Complete Count Committee\\\\Monthly Reports\\\\2019-11'\n",
    "\n",
    "\n",
    "print(novpath)\n",
    "\n",
    "listdir(novpath)\n"
   ]
  },
  {
   "cell_type": "code",
   "execution_count": 65,
   "metadata": {},
   "outputs": [
    {
     "data": {
      "text/plain": [
       "['Carlsbad 2019-11.xlsx',\n",
       " 'County Monthly Reporting Spreadsheet 2019-11.xlsx',\n",
       " 'Escondido Outreach Report - October 2019.xlsx',\n",
       " 'Imperial Beach Report for October 2019.xlsx',\n",
       " 'Lemon Grove Outreach Update.xlsx',\n",
       " 'San Marcos October Update.xlsx']"
      ]
     },
     "execution_count": 65,
     "metadata": {},
     "output_type": "execute_result"
    }
   ],
   "source": [
    "novfiles = [f for f in listdir(novpath) if isfile(join(novpath, f))]\n",
    "novfiles"
   ]
  },
  {
   "cell_type": "markdown",
   "metadata": {},
   "source": [
    "### remove files in folder that should not be used"
   ]
  },
  {
   "cell_type": "code",
   "execution_count": 67,
   "metadata": {},
   "outputs": [],
   "source": [
    "#novfiles.remove('Thumbs.db');"
   ]
  },
  {
   "cell_type": "markdown",
   "metadata": {},
   "source": [
    "### nov files to be read"
   ]
  },
  {
   "cell_type": "code",
   "execution_count": 68,
   "metadata": {},
   "outputs": [
    {
     "data": {
      "text/plain": [
       "['Carlsbad 2019-11.xlsx',\n",
       " 'County Monthly Reporting Spreadsheet 2019-11.xlsx',\n",
       " 'Escondido Outreach Report - October 2019.xlsx',\n",
       " 'Imperial Beach Report for October 2019.xlsx',\n",
       " 'Lemon Grove Outreach Update.xlsx',\n",
       " 'San Marcos October Update.xlsx']"
      ]
     },
     "execution_count": 68,
     "metadata": {},
     "output_type": "execute_result"
    }
   ],
   "source": [
    "novfiles"
   ]
  },
  {
   "cell_type": "code",
   "execution_count": 69,
   "metadata": {},
   "outputs": [
    {
     "name": "stdout",
     "output_type": "stream",
     "text": [
      "6\n"
     ]
    }
   ],
   "source": [
    "print(len(novfiles)) # number of nov files"
   ]
  },
  {
   "cell_type": "markdown",
   "metadata": {},
   "source": [
    "### get list december files in folder"
   ]
  },
  {
   "cell_type": "code",
   "execution_count": 70,
   "metadata": {},
   "outputs": [
    {
     "data": {
      "text/plain": [
       "['Carlsbad December Report.xlsx',\n",
       " 'Chula Vista 2019-12.xlsx',\n",
       " 'Escondido December Report.xlsx',\n",
       " 'La Mesa 2019-12.xlsx',\n",
       " 'Lemon Grove December Report.xlsx',\n",
       " 'San Marcos December Report.xlsx',\n",
       " 'SANDAG December Report.xlsx']"
      ]
     },
     "execution_count": 70,
     "metadata": {},
     "output_type": "execute_result"
    }
   ],
   "source": [
    "decpath = 'C:\\\\Users\\\\psi\\\\San Diego Association of Governments\\\\Regional Census Data Center - Documents\\\\2020 Census Planning\\\\Complete Count Committee\\\\Monthly Reports\\\\2019-12'\n",
    "decfiles = [f for f in listdir(decpath) if isfile(join(decpath, f))]\n",
    "decfiles"
   ]
  },
  {
   "cell_type": "markdown",
   "metadata": {},
   "source": [
    "### dec files to be read"
   ]
  },
  {
   "cell_type": "code",
   "execution_count": 71,
   "metadata": {},
   "outputs": [
    {
     "data": {
      "text/plain": [
       "['Carlsbad December Report.xlsx',\n",
       " 'Chula Vista 2019-12.xlsx',\n",
       " 'Escondido December Report.xlsx',\n",
       " 'La Mesa 2019-12.xlsx',\n",
       " 'Lemon Grove December Report.xlsx',\n",
       " 'San Marcos December Report.xlsx',\n",
       " 'SANDAG December Report.xlsx']"
      ]
     },
     "execution_count": 71,
     "metadata": {},
     "output_type": "execute_result"
    }
   ],
   "source": [
    "decfiles"
   ]
  },
  {
   "cell_type": "code",
   "execution_count": 72,
   "metadata": {},
   "outputs": [
    {
     "name": "stdout",
     "output_type": "stream",
     "text": [
      "7\n"
     ]
    }
   ],
   "source": [
    "print(len(decfiles))"
   ]
  },
  {
   "cell_type": "markdown",
   "metadata": {},
   "source": [
    "## get list january files in folder"
   ]
  },
  {
   "cell_type": "code",
   "execution_count": 73,
   "metadata": {},
   "outputs": [
    {
     "data": {
      "text/plain": [
       "['Carlsbad January 2020 Census Report (updated)_v2.xlsx',\n",
       " 'Chula Vista Outreach- 2020-01.xlsx',\n",
       " 'County 2020-01.xlsx',\n",
       " 'Encinitas 2020-01.xlsx',\n",
       " 'Escondido Outreach Report-2020-01.xlsx',\n",
       " 'Imperial Beach Outreach Report-2020-01.xlsx',\n",
       " 'La Mesa Outreach Report-2020-01.xlsx',\n",
       " 'Lemon Grove Outreach Report-2020-01.xlsx',\n",
       " 'National City 2020-01.xlsx',\n",
       " 'Oceanside 2020-01.xlsx',\n",
       " 'San Marcos-Census_Report1-31-2020.xlsx',\n",
       " 'SANDAG 2020-01.xlsx']"
      ]
     },
     "execution_count": 73,
     "metadata": {},
     "output_type": "execute_result"
    }
   ],
   "source": [
    "janpath = 'C:\\\\Users\\\\psi\\\\San Diego Association of Governments\\\\Regional Census Data Center - Documents\\\\2020 Census Planning\\\\Complete Count Committee\\\\Monthly Reports\\\\2020-01'\n",
    "janfiles = [f for f in listdir(janpath) if isfile(join(janpath, f))]\n",
    "janfiles"
   ]
  },
  {
   "cell_type": "markdown",
   "metadata": {},
   "source": [
    "### remove files in folder that should not be used"
   ]
  },
  {
   "cell_type": "code",
   "execution_count": 16,
   "metadata": {},
   "outputs": [
    {
     "ename": "ValueError",
     "evalue": "list.remove(x): x not in list",
     "output_type": "error",
     "traceback": [
      "\u001b[1;31m---------------------------------------------------------------------------\u001b[0m",
      "\u001b[1;31mValueError\u001b[0m                                Traceback (most recent call last)",
      "\u001b[1;32m<ipython-input-16-20d0bc2ab1e8>\u001b[0m in \u001b[0;36m<module>\u001b[1;34m\u001b[0m\n\u001b[1;32m----> 1\u001b[1;33m \u001b[0mjanfiles\u001b[0m\u001b[1;33m.\u001b[0m\u001b[0mremove\u001b[0m\u001b[1;33m(\u001b[0m\u001b[1;34m'Thumbs.db'\u001b[0m\u001b[1;33m)\u001b[0m\u001b[1;33m;\u001b[0m\u001b[1;33m\u001b[0m\u001b[1;33m\u001b[0m\u001b[0m\n\u001b[0m",
      "\u001b[1;31mValueError\u001b[0m: list.remove(x): x not in list"
     ]
    }
   ],
   "source": [
    "#janfiles.remove('Thumbs.db');"
   ]
  },
  {
   "cell_type": "code",
   "execution_count": 74,
   "metadata": {},
   "outputs": [
    {
     "name": "stdout",
     "output_type": "stream",
     "text": [
      "12\n"
     ]
    }
   ],
   "source": [
    "print(len(janfiles))"
   ]
  },
  {
   "cell_type": "markdown",
   "metadata": {},
   "source": [
    "## get list february files in folder"
   ]
  },
  {
   "cell_type": "code",
   "execution_count": 75,
   "metadata": {},
   "outputs": [
    {
     "data": {
      "text/plain": [
       "['Carlsbad February 2020 Census Report 322020_update.xlsx',\n",
       " 'Chula Vista - Monthly Reporting FEB.xlsx',\n",
       " 'County Monthly Report - February 2020.xlsx',\n",
       " 'Encinitas February.xlsx',\n",
       " 'Escondido Outreach Report 1-15-20 - 2-28-20.xlsx',\n",
       " 'Imperial Beach February 2020 3.11.19.xlsx',\n",
       " 'La Mesa - February.xlsx',\n",
       " 'Lemon Grove 2020-02.xlsx',\n",
       " 'Oceanside February Report.xlsx',\n",
       " 'San Marcos Census_Report02-28-2020.xlsx',\n",
       " 'SANDAG February 2020.xlsx']"
      ]
     },
     "execution_count": 75,
     "metadata": {},
     "output_type": "execute_result"
    }
   ],
   "source": [
    "febpath = 'C:\\\\Users\\\\psi\\\\San Diego Association of Governments\\\\Regional Census Data Center - Documents\\\\2020 Census Planning\\\\Complete Count Committee\\\\Monthly Reports\\\\2020-02'\n",
    "febfiles = [f for f in listdir(febpath) if isfile(join(febpath, f))]\n",
    "febfiles"
   ]
  },
  {
   "cell_type": "markdown",
   "metadata": {},
   "source": [
    "## get list march files in folder"
   ]
  },
  {
   "cell_type": "code",
   "execution_count": 76,
   "metadata": {},
   "outputs": [
    {
     "data": {
      "text/plain": [
       "['Carlsbad March 2020 Census Report_updated.xlsx',\n",
       " 'Chula Vista - Monthly Reporting MAR.xlsx',\n",
       " 'County Monthly Report - March 2020.xlsx',\n",
       " 'Encinitas OUTREACH_REPORT_March.xlsx',\n",
       " 'Escondido Monthly Census Outreach Report 2-29-20 - 3-16-20.xlsx',\n",
       " 'Imperial Beach Report for March 2020.xlsx',\n",
       " 'La Mesa - March.xlsx',\n",
       " 'Lemon Grove 2020-03.xlsx',\n",
       " 'National City_March 31_Loma & SVPR.xlsx',\n",
       " 'Oceanside March Report.xlsx',\n",
       " 'San Marcos-Census_Report03-31-2020.xlsx',\n",
       " 'SANDAG Monthly Report_March 2020_Census Outreach.xlsx',\n",
       " 'Vista Monthly Reporting Spreadsheet_March 2020.xlsx']"
      ]
     },
     "execution_count": 76,
     "metadata": {},
     "output_type": "execute_result"
    }
   ],
   "source": [
    "marpath = 'C:\\\\Users\\\\psi\\\\San Diego Association of Governments\\\\Regional Census Data Center - Documents\\\\2020 Census Planning\\\\Complete Count Committee\\\\Monthly Reports\\\\2020-03'\n",
    "marfiles = [f for f in listdir(marpath) if isfile(join(marpath, f))]\n",
    "marfiles\n"
   ]
  },
  {
   "cell_type": "markdown",
   "metadata": {},
   "source": [
    "## get list april files in folder"
   ]
  },
  {
   "cell_type": "code",
   "execution_count": 77,
   "metadata": {},
   "outputs": [
    {
     "data": {
      "text/plain": [
       "['Carlsbad April Census Update.xlsx',\n",
       " 'Chula Vista - Monthly Reporting APR 2020.xlsx',\n",
       " 'County Monthly Report - April 2020.xlsx',\n",
       " 'Imperial Beach Report for April 2020.xlsx',\n",
       " 'La Mesa - April.xlsx',\n",
       " 'Lemon Grove Census 2020 - 6th Outreach Progress Report (March)_4-28-2020.xlsx',\n",
       " 'National City April 2020.xlsx',\n",
       " 'Oceanside April Report.xlsx',\n",
       " 'SANDAG April 2020 Monthly Census Report.xlsx',\n",
       " 'SanMarcos-Census_Report04-29-2020.xlsx',\n",
       " 'Vista April 2020.xlsx']"
      ]
     },
     "execution_count": 77,
     "metadata": {},
     "output_type": "execute_result"
    }
   ],
   "source": [
    "aprpath = 'C:\\\\Users\\\\psi\\\\San Diego Association of Governments\\\\Regional Census Data Center - Documents\\\\2020 Census Planning\\\\Complete Count Committee\\\\Monthly Reports\\\\2020-04'\n",
    "aprfiles = [f for f in listdir(aprpath) if isfile(join(aprpath, f))]\n",
    "aprfiles"
   ]
  },
  {
   "cell_type": "markdown",
   "metadata": {},
   "source": [
    "## get list may files in folder"
   ]
  },
  {
   "cell_type": "code",
   "execution_count": 78,
   "metadata": {},
   "outputs": [
    {
     "data": {
      "text/plain": [
       "['Carlsbad May Census Update.xlsx',\n",
       " 'Chula Vista MAY 2020.xlsx',\n",
       " 'County - May 2020.xlsx',\n",
       " 'Escondido Report 3-17-20 - 5-5-20.xlsx',\n",
       " 'Escondido Report 5-6-20 - 6-1-20.xlsx',\n",
       " 'Imperial Beach Report for May 2020.xlsx',\n",
       " 'Lemon Grove-2020-05.xlsx',\n",
       " 'National City May 2020.xlsx',\n",
       " 'Oceanside May Report.xlsx',\n",
       " 'SANDAG May 2020 Monthly Census Outreach Report.xlsx',\n",
       " 'SanMarcos-Census_Report05-31-2020.xlsx']"
      ]
     },
     "execution_count": 78,
     "metadata": {},
     "output_type": "execute_result"
    }
   ],
   "source": [
    "maypath = 'C:\\\\Users\\\\psi\\\\San Diego Association of Governments\\\\Regional Census Data Center - Documents\\\\2020 Census Planning\\\\Complete Count Committee\\\\Monthly Reports\\\\2020-05'\n",
    "mayfiles = [f for f in listdir(maypath) if isfile(join(maypath, f))]\n",
    "mayfiles"
   ]
  },
  {
   "cell_type": "markdown",
   "metadata": {},
   "source": [
    "## get list jun files in folder"
   ]
  },
  {
   "cell_type": "code",
   "execution_count": 79,
   "metadata": {},
   "outputs": [
    {
     "data": {
      "text/plain": [
       "['Chula Vista - JUNE 2020.xlsx',\n",
       " 'County June 2020.xlsx',\n",
       " 'Escondido 6-2-20 - 6-30-20.xlsx',\n",
       " 'Imperial Beach June 2020.xlsx',\n",
       " 'La Mesa - May & June.xlsx',\n",
       " 'Lemon Grove 2020-06.xlsx',\n",
       " 'National City June 2020.xlsx',\n",
       " 'Oceanside June Report.xlsx',\n",
       " 'SANDAG June 2020 Monthly Census Outreach Report.xlsx',\n",
       " 'SanMarcos-Census_Report06-30-2020.xlsx',\n",
       " 'Vista May - June 2020.xlsx']"
      ]
     },
     "execution_count": 79,
     "metadata": {},
     "output_type": "execute_result"
    }
   ],
   "source": [
    "junpath = 'C:\\\\Users\\\\psi\\\\San Diego Association of Governments\\\\Regional Census Data Center - Documents\\\\2020 Census Planning\\\\Complete Count Committee\\\\Monthly Reports\\\\2020-06'\n",
    "junfiles = [f for f in listdir(junpath) if isfile(join(junpath, f))]\n",
    "junfiles"
   ]
  },
  {
   "cell_type": "code",
   "execution_count": 80,
   "metadata": {},
   "outputs": [
    {
     "data": {
      "text/plain": [
       "['Carlsbad July Census Update.xlsx',\n",
       " 'Chula Vista - Monthly Reporting July 2020.xlsx',\n",
       " 'County - July 2020.xlsx',\n",
       " 'Escondido 7-1-20 - 7-30-20.xlsx',\n",
       " 'Imperial Beach July 2020.xlsx',\n",
       " 'La Mesa - July.xlsx',\n",
       " 'Lemon Grove Outreach Progress Report (June)_7-27-2020.xlsx',\n",
       " 'Oceanside July Report.xlsx',\n",
       " 'SANDAG July 2020 Monthly Census Outreach Report.xlsx',\n",
       " 'SanMarcos-Census_Report07-30-2020.xlsx',\n",
       " 'Vista 7.2020 Report.xlsx']"
      ]
     },
     "execution_count": 80,
     "metadata": {},
     "output_type": "execute_result"
    }
   ],
   "source": [
    "julpath = 'C:\\\\Users\\\\psi\\\\San Diego Association of Governments\\\\Regional Census Data Center - Documents\\\\2020 Census Planning\\\\Complete Count Committee\\\\Monthly Reports\\\\2020-07'\n",
    "julfiles = [f for f in listdir(julpath) if isfile(join(julpath, f))]\n",
    "julfiles"
   ]
  },
  {
   "cell_type": "code",
   "execution_count": 81,
   "metadata": {},
   "outputs": [
    {
     "data": {
      "text/plain": [
       "['Carlsbad Augsut Census Update.xlsx',\n",
       " 'Chula Vista Monthly Reporting August 2020.xlsx',\n",
       " 'County SANDAG Monthly Report - August 2020.xlsx',\n",
       " 'Escondido Monthly Census Outreach Report 7-31-20 - 8-31-20.xlsx',\n",
       " 'Imperial Beach Report for August 2020.xlsx',\n",
       " 'Lemon Grove 10th Outreach Progress Report (July)_8-27-2020.xlsx',\n",
       " 'National City_July 31_Fixed.xlsx',\n",
       " 'Oceanside August Report.xlsx',\n",
       " 'SANDAG August 2020 Monthly Census Outreach Report.xlsx',\n",
       " 'SanMarcos-Census_Report08-31-2020.xlsx']"
      ]
     },
     "execution_count": 81,
     "metadata": {},
     "output_type": "execute_result"
    }
   ],
   "source": [
    "augpath = 'C:\\\\Users\\\\psi\\\\San Diego Association of Governments\\\\Regional Census Data Center - Documents\\\\2020 Census Planning\\\\Complete Count Committee\\\\Monthly Reports\\\\2020-08'\n",
    "augfiles = [f for f in listdir(augpath) if isfile(join(augpath, f))]\n",
    "augfiles"
   ]
  },
  {
   "cell_type": "markdown",
   "metadata": {},
   "source": [
    "### get Other Groups file in folder"
   ]
  },
  {
   "cell_type": "code",
   "execution_count": 82,
   "metadata": {},
   "outputs": [
    {
     "data": {
      "text/plain": [
       "['2020-04 April Count Me 2020 SANDAG Sub-Report (V7).xlsx',\n",
       " '2020-04 April Count Me 2020 Supplemental Report (V7).xlsx',\n",
       " '2020-05 May Count Me 2020 SANDAG Sub-Report (V7).xlsx',\n",
       " '2020-05 May\\xa0Count Me 2020 Supplemental Report (V7).xlsx',\n",
       " '2020-06 June Count Me 2020 SANDAG Sub-Report-Fixed.xlsx',\n",
       " '2020-06 June\\xa0Count Me 2020 Supplemental Report-Fixed.xlsx',\n",
       " '2020-07 SANDAG Sub-Report-Fixed.xlsx',\n",
       " '2020-07 SANDAG Supplemental Report-Fixed.xlsx',\n",
       " '2020-08 SANDAG Sub-Report (V7)-Fixed.xlsx',\n",
       " '2020-08 SANDAG Supplemental Report (V7)-Fixed.xlsx',\n",
       " 'CountMe2020_2020-02-24 OUTREACH_REPORT_v3.xlsx',\n",
       " 'El Cajon & San Diego March Count Me 2020 Report.xlsx',\n",
       " 'MakeIt Count Monday 1-27-20 final.xlsx',\n",
       " 'MakeIt Count Monday 2-24-20.xlsx',\n",
       " 'MakeIt Count Monday 2-3-20.xlsx',\n",
       " 'MakeIt Count Monday 3-1-20.xlsx',\n",
       " 'SwORD Batch 3-2-20 b.xlsx',\n",
       " 'SwORD Batch 3-2-20.xlsx',\n",
       " 'SwORD Batch 4-30-20.xlsx']"
      ]
     },
     "execution_count": 82,
     "metadata": {},
     "output_type": "execute_result"
    }
   ],
   "source": [
    "cbopath = 'C:\\\\Users\\\\psi\\\\San Diego Association of Governments\\\\Regional Census Data Center - Documents\\\\2020 Census Planning\\\\Complete Count Committee\\\\Monthly Reports\\\\Outside Groups'\n",
    "cbofile = [f for f in listdir(cbopath) if isfile(join(cbopath, f))]\n",
    "cbofile"
   ]
  },
  {
   "cell_type": "markdown",
   "metadata": {},
   "source": [
    "### read in the excel files and combine "
   ]
  },
  {
   "cell_type": "markdown",
   "metadata": {},
   "source": [
    "#### this will create a dataframe for nov, dec, jan, feb, mar, apr, may and cbo - all combined"
   ]
  },
  {
   "cell_type": "code",
   "execution_count": 83,
   "metadata": {},
   "outputs": [],
   "source": [
    "for f in novfiles:\n",
    "    workbook_url = novpath + \"\\\\\" + f\n",
    "    data = pd.read_excel(workbook_url, sheet_name='ACTIVITIES',skiprows=1)\n",
    "    data.rename(columns = {'Total Alert Sign-Ups (Impressions) ':'Total Alert Sign-Ups'}, inplace = True)\n",
    "    data.rename(columns = {'Total People Spoken To (Attendees)':'Total People Spoken To'}, inplace = True)\n",
    "    data['filename']=f\n",
    "    novdf = novdf.append(data, sort=False)\n",
    "    SANDAGdf = df.append(data, sort=False)\n",
    "    df = df.append(data, sort=False)"
   ]
  },
  {
   "cell_type": "code",
   "execution_count": 84,
   "metadata": {},
   "outputs": [],
   "source": [
    "for f in decfiles:\n",
    "    workbook_url = decpath + \"\\\\\" + f\n",
    "    data = pd.read_excel(workbook_url, sheet_name='ACTIVITIES',skiprows=1)\n",
    "    data.rename(columns = {'Total Alert Sign-Ups (Impressions) ':'Total Alert Sign-Ups'}, inplace = True)\n",
    "    data.rename(columns = {'Total People Spoken To (Attendees)':'Total People Spoken To'}, inplace = True)\n",
    "    data['filename']=f\n",
    "    decdf = decdf.append(data, sort=False)\n",
    "    SANDAGdf = df.append(data, sort=False)\n",
    "    df = df.append(data, sort=False)"
   ]
  },
  {
   "cell_type": "code",
   "execution_count": 85,
   "metadata": {},
   "outputs": [],
   "source": [
    "for f in janfiles:\n",
    "    workbook_url = janpath + \"\\\\\" + f\n",
    "    data = pd.read_excel(workbook_url, sheet_name='ACTIVITIES',skiprows=1)\n",
    "    data.rename(columns = {'Total Alert Sign-Ups (Impressions) ':'Total Alert Sign-Ups'}, inplace = True)\n",
    "    data.rename(columns = {'Total People Spoken To (Attendees)':'Total People Spoken To'}, inplace = True)\n",
    "    data.rename(columns = {'Address / Census Tract / Block Group / County Name*\\nAddress MUST be in this format: Street Address, City. EXACT street address must be used, NOT \"City Hall, Sacramento\"\\nCHECK NOTES FOR ACTIVITY TYPES THAT ARE AREAS/REGIONS.':'Address*'}, inplace = True)\n",
    "    data['filename']=f\n",
    "    jandf = jandf.append(data, sort=False)\n",
    "    SANDAGdf = df.append(data, sort=False)\n",
    "    df = df.append(data, sort=False)"
   ]
  },
  {
   "cell_type": "code",
   "execution_count": 86,
   "metadata": {},
   "outputs": [],
   "source": [
    "for f in febfiles:\n",
    "    workbook_url = febpath + \"\\\\\" + f\n",
    "    data = pd.read_excel(workbook_url, sheet_name='ACTIVITIES',skiprows=1)\n",
    "    data.rename(columns = {'Total Alert Sign-Ups (Impressions) ':'Total Alert Sign-Ups'}, inplace = True)\n",
    "    data.rename(columns = {'Total People Spoken To (Attendees)':'Total People Spoken To'}, inplace = True)\n",
    "    data.rename(columns = {'Address / Census Tract / Block Group / County Name*\\nAddress MUST be in this format: Street Address, City. EXACT street address must be used, NOT \"City Hall, Sacramento\"\\nCHECK NOTES FOR ACTIVITY TYPES THAT ARE AREAS/REGIONS.':'Address*'}, inplace = True)\n",
    "    data['filename']=f\n",
    "    febdf = febdf.append(data, sort=False)\n",
    "    SANDAGdf = df.append(data, sort=False)\n",
    "    df = df.append(data, sort=False)"
   ]
  },
  {
   "cell_type": "code",
   "execution_count": 87,
   "metadata": {},
   "outputs": [],
   "source": [
    "for f in marfiles:\n",
    "    workbook_url = marpath + \"\\\\\" + f\n",
    "    data = pd.read_excel(workbook_url, sheet_name='ACTIVITIES',skiprows=1)\n",
    "    data.rename(columns = {'Total Alert Sign-Ups (Impressions) ':'Total Alert Sign-Ups'}, inplace = True)\n",
    "    data.rename(columns = {'Total People Spoken To (Attendees)':'Total People Spoken To'}, inplace = True)\n",
    "    data.rename(columns = {data.columns[11]: 'Address*'},inplace=True)\n",
    "    data['filename']=f\n",
    "    mardf = mardf.append(data, sort=False)\n",
    "    SANDAGdf = df.append(data, sort=False)\n",
    "    df = df.append(data, sort=False)"
   ]
  },
  {
   "cell_type": "code",
   "execution_count": 88,
   "metadata": {},
   "outputs": [],
   "source": [
    "for f in aprfiles:\n",
    "    workbook_url = aprpath + \"\\\\\" + f\n",
    "    data = pd.read_excel(workbook_url, sheet_name='ACTIVITIES',skiprows=1)\n",
    "    data.rename(columns = {'Total Alert Sign-Ups (Impressions) ':'Total Alert Sign-Ups'}, inplace = True)\n",
    "    data.rename(columns = {'Total People Spoken To (Attendees)':'Total People Spoken To'}, inplace = True)\n",
    "    data.rename(columns = {data.columns[11]: 'Address*'},inplace=True)\n",
    "    data['filename']=f\n",
    "    aprdf = aprdf.append(data, sort=False)\n",
    "    SANDAGdf = df.append(data, sort=False)\n",
    "    df = df.append(data, sort=False)"
   ]
  },
  {
   "cell_type": "code",
   "execution_count": 89,
   "metadata": {},
   "outputs": [],
   "source": [
    "for f in mayfiles:\n",
    "    workbook_url = maypath + \"\\\\\" + f\n",
    "    data = pd.read_excel(workbook_url, sheet_name='ACTIVITIES',skiprows=1)\n",
    "    data.rename(columns = {'Total Alert Sign-Ups (Impressions) ':'Total Alert Sign-Ups'}, inplace = True)\n",
    "    data.rename(columns = {'Total People Spoken To (Attendees)':'Total People Spoken To'}, inplace = True)\n",
    "    data.rename(columns = {data.columns[11]: 'Address*'},inplace=True)\n",
    "    data['filename']=f\n",
    "    maydf = maydf.append(data, sort=False)\n",
    "    SANDAGdf = df.append(data, sort=False)\n",
    "    df = df.append(data, sort=False)"
   ]
  },
  {
   "cell_type": "code",
   "execution_count": 90,
   "metadata": {},
   "outputs": [],
   "source": [
    "for f in junfiles:\n",
    "    workbook_url = junpath + \"\\\\\" + f\n",
    "    data = pd.read_excel(workbook_url, sheet_name='ACTIVITIES',skiprows=1)\n",
    "    data.rename(columns = {'Total Alert Sign-Ups (Impressions) ':'Total Alert Sign-Ups'}, inplace = True)\n",
    "    data.rename(columns = {'Total People Spoken To (Attendees)':'Total People Spoken To'}, inplace = True)\n",
    "    data.rename(columns = {data.columns[11]: 'Address*'},inplace=True)\n",
    "    data['filename']=f\n",
    "    jundf = jundf.append(data, sort=False)\n",
    "    SANDAGdf = df.append(data, sort=False)\n",
    "    df = df.append(data, sort=False)"
   ]
  },
  {
   "cell_type": "code",
   "execution_count": 91,
   "metadata": {},
   "outputs": [],
   "source": [
    "for f in julfiles:\n",
    "    workbook_url = julpath + \"\\\\\" + f\n",
    "    data = pd.read_excel(workbook_url, sheet_name='ACTIVITIES',skiprows=1)\n",
    "    data.rename(columns = {'Total Alert Sign-Ups (Impressions) ':'Total Alert Sign-Ups'}, inplace = True)\n",
    "    data.rename(columns = {'Total People Spoken To (Attendees)':'Total People Spoken To'}, inplace = True)\n",
    "    data.rename(columns = {data.columns[11]: 'Address*'},inplace=True)\n",
    "    data['filename']=f\n",
    "    juldf = juldf.append(data, sort=False)\n",
    "    SANDAGdf = df.append(data, sort=False)\n",
    "    df = df.append(data, sort=False)"
   ]
  },
  {
   "cell_type": "code",
   "execution_count": 92,
   "metadata": {},
   "outputs": [],
   "source": [
    "for f in augfiles:\n",
    "    workbook_url = augpath + \"\\\\\" + f\n",
    "    data = pd.read_excel(workbook_url, sheet_name='ACTIVITIES',skiprows=1)\n",
    "    data.rename(columns = {'Total Alert Sign-Ups (Impressions) ':'Total Alert Sign-Ups'}, inplace = True)\n",
    "    data.rename(columns = {'Total People Spoken To (Attendees)':'Total People Spoken To'}, inplace = True)\n",
    "    data.rename(columns = {data.columns[11]: 'Address*'},inplace=True)\n",
    "    data['filename']=f\n",
    "    augdf = augdf.append(data, sort=False)\n",
    "    SANDAGdf = df.append(data, sort=False)\n",
    "    df = df.append(data, sort=False)"
   ]
  },
  {
   "cell_type": "code",
   "execution_count": 93,
   "metadata": {},
   "outputs": [],
   "source": [
    "for f in cbofile:\n",
    "    workbook_url = cbopath + \"\\\\\" + f\n",
    "    data = pd.read_excel(workbook_url, sheet_name='ACTIVITIES',skiprows=1)\n",
    "    data.rename(columns = {'Total Alert Sign-Ups (Impressions) ':'Total Alert Sign-Ups'}, inplace = True)\n",
    "    data.rename(columns = {'Total People Spoken To (Attendees)':'Total People Spoken To'}, inplace = True)\n",
    "    data.rename(columns = {data.columns[11]: 'Address*'},inplace=True)\n",
    "    data['filename']=f\n",
    "    cbodf = cbodf.append(data, sort=False)\n",
    "    df = df.append(data, sort=False)"
   ]
  },
  {
   "cell_type": "markdown",
   "metadata": {},
   "source": [
    "### replace space and asterick in column names with underscore"
   ]
  },
  {
   "cell_type": "code",
   "execution_count": 94,
   "metadata": {},
   "outputs": [],
   "source": [
    "df.columns = [c.replace(' ', '_') for c in df.columns]\n",
    "df.columns = [c.replace('*', '_') for c in df.columns]"
   ]
  },
  {
   "cell_type": "markdown",
   "metadata": {},
   "source": [
    "### Recode Other Activity_Type_ into Activity_Type main categories and other recodes"
   ]
  },
  {
   "cell_type": "code",
   "execution_count": 95,
   "metadata": {},
   "outputs": [],
   "source": [
    "## Meeting\n",
    "df.loc[((df['Activity_Type_'] == 'other') & (df['Activity_Type_(Other)_Description'] == 'City Council Meeting')),'Activity_Type_'] = 'meeting'\n",
    "df.loc[((df['Activity_Type_'] == 'other') & (df['Activity_Type_(Other)_Description'] == 'Census 2020 disc ussion')),'Activity_Type_'] = 'meeting'\n",
    "df.loc[((df['Activity_Type_'] == 'other') & (df['Activity_Type_(Other)_Description'] == 'Census 2020 general information - Census data helps policy makers make decisions')),'Activity_Type_'] = 'meeting'\n",
    "df.loc[((df['Activity_Type_'] == 'other') & (df['Activity_Type_(Other)_Description'] == 'Census 2020 general information - Kids Count Message')),'Activity_Type_'] = 'meeting'\n",
    "df.loc[((df['Activity_Type_'] == 'other') & (df['Activity_Type_(Other)_Description'] == 'Census 2020 general information - Partnership announcement with US Census Bureau (People sitting around a table ad)')),'Activity_Type_'] = 'meeting'\n",
    "df.loc[((df['Activity_Type_'] == 'other') & (df['Activity_Type_(Other)_Description'] == 'Census 2020 general information - Partnership announcement with US Census Bureau (hands with puzzle ad)')),'Activity_Type_'] = 'meeting'\n",
    "df.loc[((df['Activity_Type_'] == 'other') & (df['Activity_Type_(Other)_Description'] == 'Census Talk during Dinner')),'Activity_Type_'] = 'meeting'\n",
    "df.loc[((df['Activity_Type_'] == 'other') & (df['Activity_Type_(Other)_Description'] == 'Census discussion with College Intern')),'Activity_Type_'] = 'meeting'\n",
    "df.loc[((df['Activity_Type_'] == 'other') & (df['Activity_Type_(Other)_Description'] == 'Communication to National Association of Asian American Professionals (NAAAP) Lunar New Year Mega Mixer scheduled on 2/12')),'Activity_Type_'] = 'meeting'\n",
    "df.loc[((df['Activity_Type_'] == 'other') & (df['Activity_Type_(Other)_Description'] == 'Communication with House of China organizer to finalize booth at the Chinese Lunar New Year Fair in Balboa Park scheduled 1/25 - 1/26')),'Activity_Type_'] = 'meeting'\n",
    "df.loc[((df['Activity_Type_'] == 'other') & (df['Activity_Type_(Other)_Description'] == 'communication with VietNewsTV to coordinate meeting with lead Communications team to coordinate a strategic meeting to create programming census content')),'Activity_Type_'] = 'meeting'\n",
    "df.loc[((df['Activity_Type_'] == 'other') & (df['Activity_Type_(Other)_Description'] == 'Planning meetings')),'Activity_Type_'] = 'meeting'\n",
    "df.loc[((df['Activity_Type_'] == 'other') & (df['Activity_Type_(Other)_Description'] == 'In-reach at one of our clinic sites')),'Activity_Type_'] = 'meeting'\n",
    "\n",
    "## Email\n",
    "df.loc[((df['Activity_Type_'] == 'other') & (df['Activity_Type_(Other)_Description'] == 'Email')),'Activity_Type_'] = 'email'\n",
    "df.loc[((df['Activity_Type_'] == 'other') & (df['Activity_Type_(Other)_Description'] == 'Strategic Plan Eblast')),'Activity_Type_'] = 'email'\n",
    "df.loc[((df['Activity_Type_'] == 'other') & (df['Activity_Type_(Other)_Description'] == 'Implementation Plan Workshop Eblasts')),'Activity_Type_'] = 'email'\n",
    "df.loc[((df['Activity_Type_'] == 'other') & (df['Activity_Type_(Other)_Description'] == 'September monthly eblast')),'Activity_Type_'] = 'email'\n",
    "df.loc[((df['Activity_Type_'] == 'other') & (df['Activity_Type_(Other)_Description'] == 'October monthly eblast with Census outreach updates')),'Activity_Type_'] = 'email'\n",
    "df.loc[((df['Activity_Type_'] == 'other') & (df['Activity_Type_(Other)_Description'] == 'November monthly eblast with Census 2020 updates')),'Activity_Type_'] = 'email'\n",
    "df.loc[((df['Activity_Type_'] == 'other') & (df['Activity_Type_(Other)_Description'] == 'November Census Outreach Resources email')),'Activity_Type_'] = 'email'\n",
    "df.loc[((df['Activity_Type_'] == 'other') & (df['Activity_Type_(Other)_Description'] == 'December monthly eblast with Census 2020 updates')),'Activity_Type_'] = 'email'\n",
    "df.loc[((df['Activity_Type_'] == 'other') & (df['Activity_Type_(Other)_Description'] == 'December Census Outreach resources eblast')),'Activity_Type_'] = 'email'\n",
    "df.loc[((df['Activity_Type_'] == 'other') & (df['Activity_Type_(Other)_Description'] == \"General Census 2020 Information Story - linking back to City's Census info page on the website (shared via City's ENEWS blast)\")),'Activity_Type_'] = 'email'\n",
    "df.loc[((df['Activity_Type_'] == 'other') & (df['Activity_Type_(Other)_Description'] == 'City enews blast / COVID-19 update')),'Activity_Type_'] = 'email'\n",
    "df.loc[((df['Activity_Type_'] == 'other') & (df['Activity_Type_(Other)_Description'] == 'Emails contact')),'Activity_Type_'] = 'email'\n",
    "df.loc[((df['Activity_Type_'] == 'other') & (df['Activity_Type_(Other)_Description'] == 'Outreach toolkit/email')),'Activity_Type_'] = 'email'\n",
    "df.loc[((df['Activity_Type_'] == 'other') & (df['Activity_Type_(Other)_Description'] == 'email to VCC staff')),'Activity_Type_'] = 'email'\n",
    "df.loc[((df['Activity_Type_'] == 'other') & (df['Activity_Type_(Other)_Description'] == 'email')),'Activity_Type_'] = 'email'\n",
    "df.loc[((df['Activity_Type_'] == 'other') & (df['Activity_Type_(Other)_Description'] == 'email blast to YMCA Active Adults list')),'Activity_Type_'] = 'email'\n",
    "df.loc[((df['Activity_Type_'] == 'other') & (df['Activity_Type_(Other)_Description'] == 'email blast to YMCA members')),'Activity_Type_'] = 'email'\n",
    "df.loc[((df['Activity_Type_'] == 'other') & (df['Activity_Type_(Other)_Description'] == 'email sent to repite clients')),'Activity_Type_'] = 'email'\n",
    "df.loc[((df['Activity_Type_'] == 'other') & (df['Activity_Type_(Other)_Description'] == 'email to child care providers')),'Activity_Type_'] = 'email'\n",
    "df.loc[((df['Activity_Type_'] == 'other') & (df['Activity_Type_(Other)_Description'] == 'email to respite clientele')),'Activity_Type_'] = 'email'\n",
    "\n",
    "## Newsletter\n",
    "df.loc[((df['Activity_Type_'] == 'other') & (df['Activity_Type_(Other)_Description'] == 'October SANDAG Region Newsletter')),'Activity_Type_'] = 'newsletter'\n",
    "df.loc[((df['Activity_Type_'] == 'other') & (df['Activity_Type_(Other)_Description'] == 'November SANDAG Region Newsletter')),'Activity_Type_'] = 'newsletter'\n",
    "df.loc[((df['Activity_Type_'] == 'other') & (df['Activity_Type_(Other)_Description'] == 'December SANDAG Region Newsletter')),'Activity_Type_'] = 'newsletter'\n",
    "df.loc[((df['Activity_Type_'] == 'other') & (df['Activity_Type_(Other)_Description'] == 'E-Tide newletter')),'Activity_Type_'] = 'newsletter'\n",
    "df.loc[((df['Activity_Type_'] == 'other') & (df['Activity_Type_(Other)_Description'] == 'San Marcos City Magazin')),'Activity_Type_'] = 'newsletter'\n",
    "df.loc[((df['Activity_Type_'] == 'other') & (df['Activity_Type_(Other)_Description'] == 'City of Carlsbad Library e-newsletter - nudge to remind people to fill out the 2020 Census.')),'Activity_Type_'] = 'newsletter'\n",
    "df.loc[((df['Activity_Type_'] == 'other') & (df['Activity_Type_(Other)_Description'] == 'Neighborhood Newsletter ')),'Activity_Type_'] = 'newsletter'\n",
    "\n",
    "## Social media\n",
    "df.loc[((df['Activity_Type_'] == 'other') & (df['Activity_Type_(Other)_Description'] == 'Every person must be counted message story posted on Facebook')),'Activity_Type_'] = 'social_media'\n",
    "df.loc[((df['Activity_Type_'] == 'other') & (df['Activity_Type_(Other)_Description'] == \"You are the expert Census 2020 message placed on city's official Facebook page\")),'Activity_Type_'] = 'social_media'\n",
    "df.loc[((df['Activity_Type_'] == 'other') & (df['Activity_Type_(Other)_Description'] == \"It's your civic duty, participate in the 2020 Census! Message placed on city's official Facebook page\")),'Activity_Type_'] = 'social_media'\n",
    "df.loc[((df['Activity_Type_'] == 'other') & (df['Activity_Type_(Other)_Description'] == \"What is the 2020 Census PSA: Census Made Simple message shaed on the city's official facebook page\")),'Activity_Type_'] = 'social_media'\n",
    "df.loc[((df['Activity_Type_'] == 'other') & (df['Activity_Type_(Other)_Description'] == \"What is the 2020 Census PSA: Census Made Simple message shaed on the city's official Twitter page\")),'Activity_Type_'] = 'social_media'\n",
    "df.loc[((df['Activity_Type_'] == 'other') & (df['Activity_Type_(Other)_Description'] == \"Partnership with US Census Bureau annoucement shaed on the city's official Twitter page\")),'Activity_Type_'] = 'social_media'\n",
    "df.loc[((df['Activity_Type_'] == 'other') & (df['Activity_Type_(Other)_Description'] == \"Partnership with US Census Bureau annoucement shaed on the city's official Facebook page\")),'Activity_Type_'] = 'social_media'\n",
    "df.loc[((df['Activity_Type_'] == 'other') & (df['Activity_Type_(Other)_Description'] == 'Social Media posts')),'Activity_Type_'] = 'social_media'\n",
    "df.loc[((df['Activity_Type_'] == 'other') & (df['Activity_Type_(Other)_Description'] == 'Social Media - Facebook')),'Activity_Type_'] = 'social_media'\n",
    "df.loc[((df['Activity_Type_'] == 'other') & (df['Activity_Type_(Other)_Description'] == 'Social Media  - Twitter')),'Activity_Type_'] = 'social_media'\n",
    "df.loc[((df['Activity_Type_'] == 'other') & (df['Activity_Type_(Other)_Description'] == 'Social Media - Twitter')),'Activity_Type_'] = 'social_media'\n",
    "df.loc[((df['Activity_Type_'] == 'other') & (df['Activity_Type_(Other)_Description'] == 'Social Media - Linkedln')),'Activity_Type_'] = 'social_media'\n",
    "df.loc[((df['Activity_Type_'] == 'other') & (df['Activity_Type_(Other)_Description'] == 'Social Media')),'Activity_Type_'] = 'social_media'\n",
    "df.loc[((df['Activity_Type_'] == 'other') & (df['Activity_Type_(Other)_Description'] == \"Avoid a follow up visit from a census taker message shared on the City's Official Twitter page\")),'Activity_Type_'] = 'social_media'\n",
    "df.loc[((df['Activity_Type_'] == 'other') & (df['Activity_Type_(Other)_Description'] == 'Kids Count US Census Bureau ad shared via Twitter')),'Activity_Type_'] = 'social_media'\n",
    "df.loc[((df['Activity_Type_'] == 'other') & (df['Activity_Type_(Other)_Description'] == \"Every Family Counts Census 2020 ad placed on City's Twitter Account\")),'Activity_Type_'] = 'social_media'\n",
    "df.loc[((df['Activity_Type_'] == 'other') & (df['Activity_Type_(Other)_Description'] == \"Shape Your Future / US Census Bureau ad shared on the city's official Twitter page\")),'Activity_Type_'] = 'social_media'\n",
    "df.loc[((df['Activity_Type_'] == 'other') & (df['Activity_Type_(Other)_Description'] == 'Social Media Post')),'Activity_Type_'] = 'social_media'\n",
    "df.loc[((df['Activity_Type_'] == 'other') & (df['Activity_Type_(Other)_Description'] == 'Social media')),'Activity_Type_'] = 'social_media'\n",
    "df.loc[((df['Activity_Type_'] == 'other') & (df['Activity_Type_(Other)_Description'] == \"Census 2020 general information - every family counts message shared on the City's Facebook Page\")),'Activity_Type_'] = 'social_media'\n",
    "df.loc[((df['Activity_Type_'] == 'other') & (df['Activity_Type_(Other)_Description'] == \"Census 2020 general information - invitation to participate in Census 2020, placed on City's Facebook Page\")),'Activity_Type_'] = 'social_media'\n",
    "\n",
    "## Advertising\n",
    "df.loc[((df['Activity_Type_'] == 'other') & (df['Activity_Type_(Other)_Description'] == 'Census 2020 advertisement for Census speaking event at the Carlsbad Library')),'Activity_Type_'] = 'advertising'\n",
    "df.loc[((df['Activity_Type_'] == 'other') & (df['Activity_Type_(Other)_Description'] == 'Census 2020 general information - Partnership announcement with US Census Bureau (People sitting around a table ad) ')),'Activity_Type_'] = 'advertising'\n",
    "df.loc[((df['Activity_Type_'] == 'other') & (df['Activity_Type_(Other)_Description'] == 'Census 2020 general information - Partnership announcement with US Census Bureau (hands with puzzle ad) ')),'Activity_Type_'] = 'advertising'\n",
    "df.loc[((df['Activity_Type_'] == 'other') & (df['Activity_Type_(Other)_Description'] == 'Promotion to Cardiff 101 for buisiness outreach')),'Activity_Type_'] = 'advertising'\n",
    "df.loc[((df['Activity_Type_'] == 'other') & (df['Activity_Type_(Other)_Description'] == 'Promotion to Chamber of Commerce for buisiness outreach')),'Activity_Type_'] = 'advertising'\n",
    "df.loc[((df['Activity_Type_'] == 'other') & (df['Activity_Type_(Other)_Description'] == 'Promotion to Encinitas 101 for buisiness outreach')),'Activity_Type_'] = 'advertising'\n",
    "df.loc[((df['Activity_Type_'] == 'other') & (df['Activity_Type_(Other)_Description'] == 'Promotion to Leucadia 101 for buisiness outreach')),'Activity_Type_'] = 'advertising'\n",
    "\n",
    "## Flyers\n",
    "df.loc[((df['Activity_Type_'] == 'other') & (df['Activity_Type_(Other)_Description'] == 'Mailers')),'Activity_Type_'] = 'flyers'\n",
    "df.loc[((df['Activity_Type_'] == 'other') & (df['Activity_Type_(Other)_Description'] == 'Both English and Vietnamese translated flyers sent home with children attending three different Vietnamese schools')),'Activity_Type_'] = 'flyers'\n",
    "df.loc[((df['Activity_Type_'] == 'other') & (df['Activity_Type_(Other)_Description'] == 'Creatiion of Volunteers Needed Flyers (Recruiting)')),'Activity_Type_'] = 'flyers'\n",
    "\n",
    "## Translation\n",
    "df.loc[((df['Activity_Type_'] == 'other') & (df['Activity_Type_(Other)_Description'] == 'Translating materials to Arabic for the PANA Refugee and Immigrant Census Hub')),'Activity_Type_'] = 'translation'\n",
    "\n",
    "## Event\n",
    "df.loc[((df['Activity_Type_'] == 'other') & (df['Activity_Type_(Other)_Description'] == 'Shower events')),'Activity_Type_'] = 'event'\n",
    "df.loc[((df['Activity_Type_'] == 'other') & (df['Activity_Type_(Other)_Description'] == 'Shower Events')),'Activity_Type_'] = 'event'\n",
    "df.loc[((df['Activity_Type_'] == 'other') & (df['Activity_Type_(Other)_Description'] == 'Street Cafe')),'Activity_Type_'] = 'event'\n",
    "df.loc[((df['Activity_Type_'] == 'other') & (df['Activity_Type_(Other)_Description'] == 'Street Cafe 1/3/2020')),'Activity_Type_'] = 'event'\n",
    "df.loc[((df['Activity_Type_'] == 'other') & (df['Activity_Type_(Other)_Description'] == 'Census Car Parade through HTC locations')),'Activity_Type_'] = 'event'\n",
    "df.loc[((df['Activity_Type_'] == 'other') & (df['Activity_Type_(Other)_Description'] == 'Fresh Start Showers')),'Activity_Type_'] = 'event'\n",
    "df.loc[((df['Activity_Type_'] == 'other') & (df['Activity_Type_(Other)_Description'] == 'Parade participant')),'Activity_Type_'] = 'event'\n",
    "\n",
    "## Food/resource distribution\n",
    "df.loc[((df['Activity_Type_'] == 'other') & (df['Activity_Type_(Other)_Description'] == \"Community outreach and help with cov19, giving food to people and giving them information of how to access the webpage to count them self's on internet\")),'Activity_Type_'] = 'food_resources'\n",
    "df.loc[((df['Activity_Type_'] == 'other') & (df['Activity_Type_(Other)_Description'] == 'Food Distribution & Census Form Assistance')),'Activity_Type_'] = 'food_resources'\n",
    "df.loc[((df['Activity_Type_'] == 'other') & (df['Activity_Type_(Other)_Description'] == 'Food Distribution & Census Outreach at Farr Elementary')),'Activity_Type_'] = 'food_resources'\n",
    "df.loc[((df['Activity_Type_'] == 'other') & (df['Activity_Type_(Other)_Description'] == 'Food Distribution & Census Outreach at Farr Elementary')),'Activity_Type_'] = 'food_resources'\n",
    "df.loc[((df['Activity_Type_'] == 'other') & (df['Activity_Type_(Other)_Description'] == \"Hygiene and Resources- Brother Benno's\")),'Activity_Type_'] = 'food_resources'\n",
    "df.loc[((df['Activity_Type_'] == 'other') & (df['Activity_Type_(Other)_Description'] == 'Hygiene and Resources- Crisis House')),'Activity_Type_'] = 'food_resources'\n",
    "df.loc[((df['Activity_Type_'] == 'other') & (df['Activity_Type_(Other)_Description'] == 'Hygiene and Resources- Day Of Hope')),'Activity_Type_'] = 'food_resources'\n",
    "df.loc[((df['Activity_Type_'] == 'other') & (df['Activity_Type_(Other)_Description'] == 'Hygiene and Resources- Jewish Family Foundation')),'Activity_Type_'] = 'food_resources'\n",
    "df.loc[((df['Activity_Type_'] == 'other') & (df['Activity_Type_(Other)_Description'] == 'Hygiene and Resources- Linda Vista')),'Activity_Type_'] = 'food_resources'\n",
    "df.loc[((df['Activity_Type_'] == 'other') & (df['Activity_Type_(Other)_Description'] == 'Hygiene and Resources- Our Lady of Guadalupe')),'Activity_Type_'] = 'food_resources'\n",
    "df.loc[((df['Activity_Type_'] == 'other') & (df['Activity_Type_(Other)_Description'] == 'Hygiene and Resources-Dreams for Change')),'Activity_Type_'] = 'food_resources'\n",
    "df.loc[((df['Activity_Type_'] == 'other') & (df['Activity_Type_(Other)_Description'] == 'Hygiene and Resources-Lakeside Christian Help Center')),'Activity_Type_'] = 'food_resources'\n",
    "df.loc[((df['Activity_Type_'] == 'other') & (df['Activity_Type_(Other)_Description'] == 'Hygiene and Resources-Meridian Baptist Church')),'Activity_Type_'] = 'food_resources'\n",
    "df.loc[((df['Activity_Type_'] == 'other') & (df['Activity_Type_(Other)_Description'] == 'Hygiene and Resources-Salvation Army El Cajon')),'Activity_Type_'] = 'food_resources'\n",
    "df.loc[((df['Activity_Type_'] == 'other') & (df['Activity_Type_(Other)_Description'] == 'Hygiene and Resources-TAY Academy')),'Activity_Type_'] = 'food_resources'\n",
    "df.loc[((df['Activity_Type_'] == 'other') & (df['Activity_Type_(Other)_Description'] == 'Hygiene and Resources-The Rock Church')),'Activity_Type_'] = 'food_resources'\n",
    "df.loc[((df['Activity_Type_'] == 'other') & (df['Activity_Type_(Other)_Description'] == 'Hygiene and Resources-Thriving Life Church')),'Activity_Type_'] = 'food_resources'\n",
    "df.loc[((df['Activity_Type_'] == 'other') & (df['Activity_Type_(Other)_Description'] == 'Referrals and Resources- TSC')),'Activity_Type_'] = 'food_resources'\n",
    "df.loc[((df['Activity_Type_'] == 'other') & (df['Activity_Type_(Other)_Description'] == 'Resources and Referrals- Transitional Storage Center')),'Activity_Type_'] = 'food_resources'\n",
    "df.loc[((df['Activity_Type_'] == 'other') & (df['Activity_Type_(Other)_Description'] == 'Resources- Transitional Storage Center')),'Activity_Type_'] = 'food_resources'\n",
    "df.loc[((df['Activity_Type_'] == 'other') & (df['Activity_Type_(Other)_Description'] == 'Resources-Transitional Storage Center')),'Activity_Type_'] = 'food_resources'\n",
    "df.loc[((df['Activity_Type_'] == 'other') & (df['Activity_Type_(Other)_Description'] == 'Vista Adult Transition Center Food Distribution Outreach')),'Activity_Type_'] = 'food_resources'\n",
    "df.loc[((df['Activity_Type_'] == 'other') & (df['Activity_Type_(Other)_Description'] == 'Census 2020 Food Distribution Outreach- Mary Lou Clack Center')),'Activity_Type_'] = 'food_resources'\n",
    "df.loc[((df['Activity_Type_'] == 'other') & (df['Activity_Type_(Other)_Description'] == 'Deliver Census bags to different food distribution centers in CV')),'Activity_Type_'] = 'food_resources'\n",
    "df.loc[((df['Activity_Type_'] == 'other') & (df['Activity_Type_(Other)_Description'] == 'Dropped off Census bags')),'Activity_Type_'] = 'food_resources'\n",
    "df.loc[((df['Activity_Type_'] == 'other') & (df['Activity_Type_(Other)_Description'] == 'FW Supply Drop off to day laborers')),'Activity_Type_'] = 'food_resources'\n",
    "df.loc[((df['Activity_Type_'] == 'other') & (df['Activity_Type_(Other)_Description'] == 'FW Supply drop off')),'Activity_Type_'] = 'food_resources'\n",
    "df.loc[((df['Activity_Type_'] == 'other') & (df['Activity_Type_(Other)_Description'] == 'Farmworker supply drop-off')),'Activity_Type_'] = 'food_resources'\n",
    "df.loc[((df['Activity_Type_'] == 'other') & (df['Activity_Type_(Other)_Description'] == 'Food Distribution for Youth Program')),'Activity_Type_'] = 'food_resources'\n",
    "df.loc[((df['Activity_Type_'] == 'other') & (df['Activity_Type_(Other)_Description'] == 'Food Distribution- Census 2020 Outreach at Mission Middle School')),'Activity_Type_'] = 'food_resources'\n",
    "df.loc[((df['Activity_Type_'] == 'other') & (df['Activity_Type_(Other)_Description'] == 'Food Distribution-Mary Lou Clack Center')),'Activity_Type_'] = 'food_resources'\n",
    "df.loc[((df['Activity_Type_'] == 'other') & (df['Activity_Type_(Other)_Description'] == 'Handed out fliers and swag at meal distribute site')),'Activity_Type_'] = 'food_resources'\n",
    "df.loc[((df['Activity_Type_'] == 'other') & (df['Activity_Type_(Other)_Description'] == 'Handed out flyers and swag at meal distribute site')),'Activity_Type_'] = 'food_resources'\n",
    "df.loc[((df['Activity_Type_'] == 'other') & (df['Activity_Type_(Other)_Description'] == 'Home deliveries of food bags to COVID19 patients')),'Activity_Type_'] = 'food_resources'\n",
    "df.loc[((df['Activity_Type_'] == 'other') & (df['Activity_Type_(Other)_Description'] == 'Home delivery of food bags for COVID19 Patients')),'Activity_Type_'] = 'food_resources'\n",
    "df.loc[((df['Activity_Type_'] == 'other') & (df['Activity_Type_(Other)_Description'] == 'Hygiene and Resources- Ebenezer Church')),'Activity_Type_'] = 'food_resources'\n",
    "df.loc[((df['Activity_Type_'] == 'other') & (df['Activity_Type_(Other)_Description'] == 'Hygiene and Resources- Our lady of Guadalupe')),'Activity_Type_'] = 'food_resources'\n",
    "df.loc[((df['Activity_Type_'] == 'other') & (df['Activity_Type_(Other)_Description'] == 'Hygiene and Resources- Telecare')),'Activity_Type_'] = 'food_resources'\n",
    "df.loc[((df['Activity_Type_'] == 'other') & (df['Activity_Type_(Other)_Description'] == 'Hygiene and Resources- Voices of Our City Choir/Living Water Church')),'Activity_Type_'] = 'food_resources'\n",
    "df.loc[((df['Activity_Type_'] == 'other') & (df['Activity_Type_(Other)_Description'] == 'Hygiene and Resources- Wesley CSC')),'Activity_Type_'] = 'food_resources'\n",
    "df.loc[((df['Activity_Type_'] == 'other') & (df['Activity_Type_(Other)_Description'] == 'Hygiene and Resources-Crisis House')),'Activity_Type_'] = 'food_resources'\n",
    "df.loc[((df['Activity_Type_'] == 'other') & (df['Activity_Type_(Other)_Description'] == 'Hygiene and Resources-Wesley Terrace Apartments')),'Activity_Type_'] = 'food_resources'\n",
    "df.loc[((df['Activity_Type_'] == 'other') & (df['Activity_Type_(Other)_Description'] == 'Senior Food Delivery and Onsite Food Distribution')),'Activity_Type_'] = 'food_resources'\n",
    "\n",
    "## Canvassing\n",
    "df.loc[((df['Activity_Type_'] == 'other') & (df['Activity_Type_(Other)_Description'] == \"CENSUS pledges PDI ID's both Phone and Canvassing\")),'Activity_Type_'] = 'canvassing'\n",
    "df.loc[((df['Activity_Type_'] == 'other') & (df['Activity_Type_(Other)_Description'] == 'Canvassing but at location where farm workers gather/meet up at')),'Activity_Type_'] = 'canvassing'\n",
    "df.loc[((df['Activity_Type_'] == 'other') & (df['Activity_Type_(Other)_Description'] == 'Hired canvassers (15 people)')),'Activity_Type_'] = 'canvassing'\n",
    "df.loc[((df['Activity_Type_'] == 'other') & (df['Activity_Type_(Other)_Description'] == 'House Visit')),'Activity_Type_'] = 'canvassing'\n",
    "df.loc[((df['Activity_Type_'] == 'other') & (df['Activity_Type_(Other)_Description'] == 'House Visit with Church Members')),'Activity_Type_'] = 'canvassing'\n",
    "df.loc[((df['Activity_Type_'] == 'other') & (df['Activity_Type_(Other)_Description'] == 'House Visit with Family')),'Activity_Type_'] = 'canvassing'\n",
    "df.loc[((df['Activity_Type_'] == 'other') & (df['Activity_Type_(Other)_Description'] == 'House Visit with Friends')),'Activity_Type_'] = 'canvassing'\n",
    "df.loc[((df['Activity_Type_'] == 'other') & (df['Activity_Type_(Other)_Description'] == 'One-on-one with day laborers')),'Activity_Type_'] = 'canvassing'\n",
    "\n",
    "## Media other\n",
    "df.loc[((df['Activity_Type_'] == 'other') & (df['Activity_Type_(Other)_Description'] == 'Media (other)')),'Activity_Type_'] = 'media_other'\n",
    "\n",
    "## Collateral\n",
    "df.loc[((df['Activity_Type_'] == 'other') & (df['Activity_Type_(Other)_Description'] == 'Facemask giveaway')),'Activity_Type_'] = 'collateral'\n",
    "df.loc[((df['Activity_Type_'] == 'other') & (df['Activity_Type_(Other)_Description'] == 'Provided 40 City Heights families w/ Care Packages of a Census 2020 tote filled w/ hand sanitizer, toilet paper, census flyer and food')),'Activity_Type_'] = 'collateral'\n",
    "df.loc[((df['Activity_Type_'] == 'other') & (df['Activity_Type_(Other)_Description'] == 'T-Shirt & Tote Bag give away')),'Activity_Type_'] = 'collateral'\n",
    "\n",
    "## Implementation Plan Workshop\n",
    "df.loc[((df['Activity_Type_'] == 'other') & (df['Activity_Type_(Other)_Description'] == 'Coordinating our first implementation planning workshop: time, place, speakers, creating and translating powerpoint')),'Activity_Type_'] = 'implementation_planning_worksho'\n",
    "\n",
    "## Texting\n",
    "df.loc[((df['Activity_Type_'] == 'other') & (df['Activity_Type_(Other)_Description'] == 'Text messages to our supporters in Census Tracks 6073001000, 6073001500, 6073005900 & 6073005600')),'Activity_Type_'] = 'texting_campaign'\n",
    "df.loc[((df['Activity_Type_'] == 'other') & (df['Activity_Type_(Other)_Description'] == 'Text messages to our supporters in Census Tracks 6073001400, 6073002801, 607300800, 6073001800, 607300300 & 6073006500')),'Activity_Type_'] = 'texting_campaign'\n",
    "df.loc[((df['Activity_Type_'] == 'other') & (df['Activity_Type_(Other)_Description'] == 'Text messages to our supporters in Census Tracks 6073005800, 6073002904, 607300700, 6073005700, 6073007800, 6073007903, 6073007910, 6073002905, 6073007905, 607300400, 6073009102, 6073013103 & 6073006600')),'Activity_Type_'] = 'texting_campaign'\n",
    "df.loc[((df['Activity_Type_'] == 'other') & (df['Activity_Type_(Other)_Description'] == 'Text messages to our supporters in Census Tracks 607300600, 6073001200')),'Activity_Type_'] = 'texting_campaign'\n",
    "df.loc[((df['Activity_Type_'] == 'other') & (df['Activity_Type_(Other)_Description'] == \"Text's escondido D1 D2\")),'Activity_Type_'] = 'texting_campaign'\n",
    "df.loc[((df['Activity_Type_'] == 'other') & (df['Activity_Type_(Other)_Description'] == \"Text's top Chula vista Community\")),'Activity_Type_'] = 'texting_campaign'\n",
    "df.loc[((df['Activity_Type_'] == 'other') & (df['Activity_Type_(Other)_Description'] == 'Texting to Escondido d1 d2')),'Activity_Type_'] = 'texting_campaign'\n",
    "df.loc[((df['Activity_Type_'] == 'other') & (df['Activity_Type_(Other)_Description'] == 'Texting to San Marcos community')),'Activity_Type_'] = 'texting_campaign'\n",
    "df.loc[((df['Activity_Type_'] == 'other') & (df['Activity_Type_(Other)_Description'] == '2nd text message to non response from 4/15 & 4/16')),'Activity_Type_'] = 'texting_campaign'\n",
    "df.loc[((df['Activity_Type_'] == 'other') & (df['Activity_Type_(Other)_Description'] == '2nd text message to non response from 4/17 & 4/20')),'Activity_Type_'] = 'texting_campaign'\n",
    "df.loc[((df['Activity_Type_'] == 'other') & (df['Activity_Type_(Other)_Description'] == '2nd text message to non response from 4/21 & 4/22')),'Activity_Type_'] = 'texting_campaign'\n",
    "df.loc[((df['Activity_Type_'] == 'other') & (df['Activity_Type_(Other)_Description'] == '2nd text message to non response from 4/23 & 4/27')),'Activity_Type_'] = 'texting_campaign'\n",
    "df.loc[((df['Activity_Type_'] == 'other') & (df['Activity_Type_(Other)_Description'] == 'Text message to Center supporters in San Diego not included in 1st and 2nd tier priorities')),'Activity_Type_'] = 'texting_campaign'\n",
    "df.loc[((df['Activity_Type_'] == 'other') & (df['Activity_Type_(Other)_Description'] == \"Texting (English & Spanish)\")),'Activity_Type_'] = 'texting_campaign'\n",
    "\n",
    "## Kiosks\n",
    "df.loc[((df['Activity_Type_'] == 'qac')),'Activity_Type_'] = 'census_action_kiosk'\n",
    "\n",
    "## Mailers\n",
    "df.loc[((df['Activity_Type_'] == 'other') & (df['Activity_Type_(Other)_Description'] == 'Utility Biling - message printed')),'Activity_Type_'] = 'mailers'\n",
    "df.loc[((df['Activity_Type_'] == 'other') & (df['Activity_Type_(Other)_Description'] == 'Postcards')),'Activity_Type_'] = 'mailers'\n",
    "df.loc[((df['Activity_Type_'] == 'other') & (df['Activity_Type_(Other)_Description'] == 'Utility Biling - message printed ')),'Activity_Type_'] = 'mailers'\n"
   ]
  },
  {
   "cell_type": "markdown",
   "metadata": {},
   "source": [
    "# SAVE SUMMARY FILES"
   ]
  },
  {
   "cell_type": "code",
   "execution_count": 96,
   "metadata": {},
   "outputs": [],
   "source": [
    "cbodf.to_csv(python_out + '\\\\'+ 'Cbo_summary.csv')"
   ]
  },
  {
   "cell_type": "code",
   "execution_count": 97,
   "metadata": {},
   "outputs": [],
   "source": [
    "novdf.to_csv(python_out + '\\\\'+ 'Nov_summary.csv')"
   ]
  },
  {
   "cell_type": "code",
   "execution_count": 98,
   "metadata": {},
   "outputs": [],
   "source": [
    "decdf.to_csv(python_out + '\\\\'+ 'Dec_summary.csv')"
   ]
  },
  {
   "cell_type": "code",
   "execution_count": 99,
   "metadata": {},
   "outputs": [],
   "source": [
    "jandf.to_csv(python_out + '\\\\'+ 'Jan_summary.csv')"
   ]
  },
  {
   "cell_type": "code",
   "execution_count": 100,
   "metadata": {},
   "outputs": [],
   "source": [
    "febdf.to_csv(python_out + '\\\\'+ 'Feb_summary.csv')"
   ]
  },
  {
   "cell_type": "code",
   "execution_count": 101,
   "metadata": {},
   "outputs": [],
   "source": [
    "mardf.to_csv(python_out + '\\\\'+ 'Mar_summary.csv')"
   ]
  },
  {
   "cell_type": "code",
   "execution_count": 102,
   "metadata": {},
   "outputs": [],
   "source": [
    "aprdf.to_csv(python_out + '\\\\'+ 'Apr_summary.csv')"
   ]
  },
  {
   "cell_type": "code",
   "execution_count": 103,
   "metadata": {},
   "outputs": [],
   "source": [
    "maydf.to_csv(python_out + '\\\\'+ 'May_summary.csv')"
   ]
  },
  {
   "cell_type": "code",
   "execution_count": 104,
   "metadata": {},
   "outputs": [],
   "source": [
    "jundf.to_csv(python_out + '\\\\'+ 'Jun_summary.csv')"
   ]
  },
  {
   "cell_type": "code",
   "execution_count": 105,
   "metadata": {},
   "outputs": [],
   "source": [
    "juldf.to_csv(python_out + '\\\\'+ 'Jul_summary.csv')"
   ]
  },
  {
   "cell_type": "code",
   "execution_count": 106,
   "metadata": {},
   "outputs": [],
   "source": [
    "augdf.to_csv(python_out + '\\\\'+ 'Aug_summary.csv')"
   ]
  },
  {
   "cell_type": "code",
   "execution_count": 107,
   "metadata": {},
   "outputs": [],
   "source": [
    "SANDAGdf.to_csv(python_out  + '\\\\'+ 'SANDAG_summary.csv')"
   ]
  },
  {
   "cell_type": "code",
   "execution_count": 108,
   "metadata": {},
   "outputs": [],
   "source": [
    "df.to_csv(python_out + '\\\\' + 'all_summary.csv')"
   ]
  },
  {
   "cell_type": "markdown",
   "metadata": {},
   "source": [
    "# Check row counts"
   ]
  },
  {
   "cell_type": "code",
   "execution_count": 109,
   "metadata": {},
   "outputs": [
    {
     "data": {
      "text/plain": [
       "6016"
      ]
     },
     "execution_count": 109,
     "metadata": {},
     "output_type": "execute_result"
    }
   ],
   "source": [
    "len(cbodf.index) # cbo file"
   ]
  },
  {
   "cell_type": "code",
   "execution_count": 110,
   "metadata": {},
   "outputs": [
    {
     "data": {
      "text/plain": [
       "19"
      ]
     },
     "execution_count": 110,
     "metadata": {},
     "output_type": "execute_result"
    }
   ],
   "source": [
    "len(novdf.index) # nov file"
   ]
  },
  {
   "cell_type": "code",
   "execution_count": 111,
   "metadata": {},
   "outputs": [
    {
     "data": {
      "text/plain": [
       "47"
      ]
     },
     "execution_count": 111,
     "metadata": {},
     "output_type": "execute_result"
    }
   ],
   "source": [
    "len(decdf.index) # dec file"
   ]
  },
  {
   "cell_type": "code",
   "execution_count": 112,
   "metadata": {},
   "outputs": [
    {
     "data": {
      "text/plain": [
       "77"
      ]
     },
     "execution_count": 112,
     "metadata": {},
     "output_type": "execute_result"
    }
   ],
   "source": [
    "len(jandf.index) # jan file"
   ]
  },
  {
   "cell_type": "code",
   "execution_count": 113,
   "metadata": {},
   "outputs": [
    {
     "data": {
      "text/plain": [
       "115"
      ]
     },
     "execution_count": 113,
     "metadata": {},
     "output_type": "execute_result"
    }
   ],
   "source": [
    "len(febdf.index) # feb file"
   ]
  },
  {
   "cell_type": "code",
   "execution_count": 114,
   "metadata": {},
   "outputs": [
    {
     "data": {
      "text/plain": [
       "136"
      ]
     },
     "execution_count": 114,
     "metadata": {},
     "output_type": "execute_result"
    }
   ],
   "source": [
    "len(mardf.index) # mar file"
   ]
  },
  {
   "cell_type": "code",
   "execution_count": 115,
   "metadata": {},
   "outputs": [
    {
     "data": {
      "text/plain": [
       "121"
      ]
     },
     "execution_count": 115,
     "metadata": {},
     "output_type": "execute_result"
    }
   ],
   "source": [
    "len(aprdf.index) # apr file"
   ]
  },
  {
   "cell_type": "code",
   "execution_count": 116,
   "metadata": {},
   "outputs": [
    {
     "data": {
      "text/plain": [
       "64"
      ]
     },
     "execution_count": 116,
     "metadata": {},
     "output_type": "execute_result"
    }
   ],
   "source": [
    "len(maydf.index) # may file"
   ]
  },
  {
   "cell_type": "code",
   "execution_count": 117,
   "metadata": {},
   "outputs": [
    {
     "data": {
      "text/plain": [
       "78"
      ]
     },
     "execution_count": 117,
     "metadata": {},
     "output_type": "execute_result"
    }
   ],
   "source": [
    "len(jundf.index) # jun file"
   ]
  },
  {
   "cell_type": "code",
   "execution_count": 118,
   "metadata": {},
   "outputs": [
    {
     "data": {
      "text/plain": [
       "72"
      ]
     },
     "execution_count": 118,
     "metadata": {},
     "output_type": "execute_result"
    }
   ],
   "source": [
    "len(juldf.index) # jul file"
   ]
  },
  {
   "cell_type": "code",
   "execution_count": 119,
   "metadata": {},
   "outputs": [
    {
     "data": {
      "text/plain": [
       "125"
      ]
     },
     "execution_count": 119,
     "metadata": {},
     "output_type": "execute_result"
    }
   ],
   "source": [
    "len(augdf.index) # aug file"
   ]
  },
  {
   "cell_type": "code",
   "execution_count": 120,
   "metadata": {},
   "outputs": [
    {
     "data": {
      "text/plain": [
       "394"
      ]
     },
     "execution_count": 120,
     "metadata": {},
     "output_type": "execute_result"
    }
   ],
   "source": [
    "# nov + dec + jan + feb + mar + apr + may + jun\n",
    "total_length = len(novdf.index) + len(decdf.index) + len(jandf.index) + len(febdf.index) + len(mardf.index) \n",
    "+ len(aprdf.index) + len(maydf.index) + len(jundf.index)+len(juldf.index)+len(augdf.index)\n",
    "total_length"
   ]
  },
  {
   "cell_type": "code",
   "execution_count": 121,
   "metadata": {},
   "outputs": [
    {
     "data": {
      "text/plain": [
       "6870"
      ]
     },
     "execution_count": 121,
     "metadata": {},
     "output_type": "execute_result"
    }
   ],
   "source": [
    "len(df.index) # all months"
   ]
  },
  {
   "cell_type": "markdown",
   "metadata": {},
   "source": [
    "# Check column names"
   ]
  },
  {
   "cell_type": "code",
   "execution_count": 56,
   "metadata": {},
   "outputs": [
    {
     "data": {
      "text/plain": [
       "103"
      ]
     },
     "execution_count": 56,
     "metadata": {},
     "output_type": "execute_result"
    }
   ],
   "source": [
    "len(df.columns.tolist())"
   ]
  },
  {
   "cell_type": "code",
   "execution_count": 122,
   "metadata": {},
   "outputs": [
    {
     "data": {
      "text/plain": [
       "102"
      ]
     },
     "execution_count": 122,
     "metadata": {},
     "output_type": "execute_result"
    }
   ],
   "source": [
    "len(cbodf.columns.tolist())"
   ]
  },
  {
   "cell_type": "code",
   "execution_count": 123,
   "metadata": {},
   "outputs": [
    {
     "data": {
      "text/plain": [
       "98"
      ]
     },
     "execution_count": 123,
     "metadata": {},
     "output_type": "execute_result"
    }
   ],
   "source": [
    "len(novdf.columns.tolist())"
   ]
  },
  {
   "cell_type": "code",
   "execution_count": 124,
   "metadata": {},
   "outputs": [
    {
     "data": {
      "text/plain": [
       "98"
      ]
     },
     "execution_count": 124,
     "metadata": {},
     "output_type": "execute_result"
    }
   ],
   "source": [
    "len(decdf.columns.tolist())"
   ]
  },
  {
   "cell_type": "code",
   "execution_count": 125,
   "metadata": {},
   "outputs": [
    {
     "data": {
      "text/plain": [
       "98"
      ]
     },
     "execution_count": 125,
     "metadata": {},
     "output_type": "execute_result"
    }
   ],
   "source": [
    "len(jandf.columns.tolist())"
   ]
  },
  {
   "cell_type": "code",
   "execution_count": 126,
   "metadata": {},
   "outputs": [
    {
     "data": {
      "text/plain": [
       "98"
      ]
     },
     "execution_count": 126,
     "metadata": {},
     "output_type": "execute_result"
    }
   ],
   "source": [
    "len(febdf.columns.tolist())"
   ]
  },
  {
   "cell_type": "code",
   "execution_count": 127,
   "metadata": {},
   "outputs": [
    {
     "data": {
      "text/plain": [
       "102"
      ]
     },
     "execution_count": 127,
     "metadata": {},
     "output_type": "execute_result"
    }
   ],
   "source": [
    "len(mardf.columns.tolist())"
   ]
  },
  {
   "cell_type": "code",
   "execution_count": 128,
   "metadata": {},
   "outputs": [
    {
     "data": {
      "text/plain": [
       "102"
      ]
     },
     "execution_count": 128,
     "metadata": {},
     "output_type": "execute_result"
    }
   ],
   "source": [
    "len(aprdf.columns.tolist())"
   ]
  },
  {
   "cell_type": "code",
   "execution_count": 129,
   "metadata": {},
   "outputs": [
    {
     "data": {
      "text/plain": [
       "102"
      ]
     },
     "execution_count": 129,
     "metadata": {},
     "output_type": "execute_result"
    }
   ],
   "source": [
    "len(maydf.columns.tolist())"
   ]
  },
  {
   "cell_type": "code",
   "execution_count": 130,
   "metadata": {},
   "outputs": [
    {
     "data": {
      "text/plain": [
       "102"
      ]
     },
     "execution_count": 130,
     "metadata": {},
     "output_type": "execute_result"
    }
   ],
   "source": [
    "len(jundf.columns.tolist())"
   ]
  },
  {
   "cell_type": "code",
   "execution_count": 131,
   "metadata": {},
   "outputs": [
    {
     "data": {
      "text/plain": [
       "102"
      ]
     },
     "execution_count": 131,
     "metadata": {},
     "output_type": "execute_result"
    }
   ],
   "source": [
    "len(juldf.columns.tolist())"
   ]
  },
  {
   "cell_type": "code",
   "execution_count": 132,
   "metadata": {},
   "outputs": [
    {
     "data": {
      "text/plain": [
       "102"
      ]
     },
     "execution_count": 132,
     "metadata": {},
     "output_type": "execute_result"
    }
   ],
   "source": [
    "len(augdf.columns.tolist())"
   ]
  },
  {
   "cell_type": "code",
   "execution_count": 133,
   "metadata": {},
   "outputs": [
    {
     "data": {
      "text/plain": [
       "['Reporter_Name_',\n",
       " 'username',\n",
       " 'CBO_Name_',\n",
       " 'Parent_Organization_',\n",
       " 'Activity_Type_',\n",
       " 'Activity_Type_(Other)_Description',\n",
       " '(Start)_Date_of_Activity_',\n",
       " 'Activity_End_Date',\n",
       " 'Advertising_End_Date',\n",
       " 'Total_Alert_Sign-Ups',\n",
       " 'Total_People_Spoken_To',\n",
       " 'Address_',\n",
       " 'Description',\n",
       " 'Start_Time',\n",
       " 'End_Time',\n",
       " 'Total_Houses_Canvassed',\n",
       " 'How_Assisted',\n",
       " 'Total_Number_Assisted',\n",
       " 'Event_Name',\n",
       " 'Average_Number_of_Miles_Travelled',\n",
       " 'Speaker_Details',\n",
       " 'Audience_Details',\n",
       " 'Education_Grade',\n",
       " 'Total_Materials_Distributed_At_Activity',\n",
       " 'Activity_Collateral_Details',\n",
       " 'Social_Media_Channels',\n",
       " 'Total_Paid_Staff_and_Volunteers',\n",
       " 'Total_Nudged/Alerted',\n",
       " 'Total_Calls_Made',\n",
       " 'Total_Pledge_Cards',\n",
       " 'Primary_Organizer_',\n",
       " 'Additional_Organizers',\n",
       " 'Total_Impressions_',\n",
       " 'Impression_Data_Accuracy_Confidence_',\n",
       " 'Total_HTC_%_Impressions_',\n",
       " 'HTC_Data_Accuracy_Confidence_',\n",
       " 'Immigrants_&_Refugees',\n",
       " 'Middle-Eastern_and_North_Africans_(MENA)',\n",
       " 'Homeless_Individuals_and_Families',\n",
       " 'Farmworkers',\n",
       " 'Veterans',\n",
       " 'Latinos',\n",
       " 'Asian-Americans_&_Pacific_Islanders_(AAPI)',\n",
       " 'African_Americans',\n",
       " 'Native_Americans_&_Tribal_Communities',\n",
       " 'Children_Ages_0-5',\n",
       " 'Lesbian,_Gay,_Bisexual,_Transgender,_and_Questioning_(LGBTQ)',\n",
       " 'Limited-English_Proficient_Individuals_and_Families',\n",
       " 'People_with_Disabilities',\n",
       " 'Seniors/Older_Adults',\n",
       " 'Low_Broadband_subscription_rates_and_limited_or_no_access',\n",
       " 'HTC_Breakdown_Data_Confidence_',\n",
       " 'HTC_Breakdown_Methodology',\n",
       " 'Arabic',\n",
       " 'Armenian',\n",
       " 'Assyrian_Neo-Aramaic',\n",
       " 'Cantonese',\n",
       " 'Chaldean_Neo-Aramaic',\n",
       " 'Chinese',\n",
       " 'Farsi',\n",
       " 'Filipino',\n",
       " 'Hindi',\n",
       " 'Hmong',\n",
       " 'lu_Mien',\n",
       " 'Japanese',\n",
       " 'Khmer',\n",
       " 'Korean',\n",
       " 'Mandarin',\n",
       " 'Min_Nan_Chinese',\n",
       " 'Portuguese',\n",
       " 'Punjabi',\n",
       " 'Russian',\n",
       " 'Spanish',\n",
       " 'Tagalog',\n",
       " 'Telegu',\n",
       " 'Thai',\n",
       " 'Ukrainian',\n",
       " 'Vietnamese',\n",
       " 'Other_Language(s)',\n",
       " 'Language_Breakdown_Data_Confidence',\n",
       " 'Activity_Website',\n",
       " 'Facebook_Link',\n",
       " 'Youtube/video_Link',\n",
       " 'Venue_Rating',\n",
       " 'Participant_Engagement',\n",
       " 'Interaction_Quality',\n",
       " 'Overall_Effectiveness',\n",
       " 'What_Went_Well',\n",
       " 'What_Could_Be_Improved',\n",
       " 'Audience_Questions_&_Concerns',\n",
       " 'Additional_Notes',\n",
       " 'State_Funds',\n",
       " 'County_Direct_Funds',\n",
       " 'ACBO_Direct_Funds',\n",
       " 'Foundations',\n",
       " 'Private_Funding',\n",
       " 'Volunteer_hours',\n",
       " 'filename',\n",
       " 'Total_number_of_visitors_who_provided_printed_information_and/or_responded_to_questions_but_did_not_complete_Census_Questionnaire\\n(total_number_for_the_day/date_range)',\n",
       " 'Total_number_of_visitors_who_completed_a_Census_Questionnaire_via_tablet_or_desktop_at_QAC\\n(total_number_for_the_day/date_range)',\n",
       " 'Total_number_of_visitors_who_completed_a_Census_Questionnaire_via_phone_at_QAC\\n(total_number_for_the_day/date_range)',\n",
       " 'Total_number_of_visitors_who_contacted_USCB_via_phone_at_QAC_and_requested_an_in-person_enumerator\\n(total_number_for_the_day/date_range)']"
      ]
     },
     "execution_count": 133,
     "metadata": {},
     "output_type": "execute_result"
    }
   ],
   "source": [
    "df.columns.tolist()"
   ]
  },
  {
   "cell_type": "markdown",
   "metadata": {},
   "source": [
    "## Activity Type Summary"
   ]
  },
  {
   "cell_type": "code",
   "execution_count": 134,
   "metadata": {},
   "outputs": [
    {
     "data": {
      "text/html": [
       "<div>\n",
       "<style scoped>\n",
       "    .dataframe tbody tr th:only-of-type {\n",
       "        vertical-align: middle;\n",
       "    }\n",
       "\n",
       "    .dataframe tbody tr th {\n",
       "        vertical-align: top;\n",
       "    }\n",
       "\n",
       "    .dataframe thead th {\n",
       "        text-align: right;\n",
       "    }\n",
       "</style>\n",
       "<table border=\"1\" class=\"dataframe\">\n",
       "  <thead>\n",
       "    <tr style=\"text-align: right;\">\n",
       "      <th></th>\n",
       "      <th>count</th>\n",
       "    </tr>\n",
       "    <tr>\n",
       "      <th>Activity_Type_</th>\n",
       "      <th></th>\n",
       "    </tr>\n",
       "  </thead>\n",
       "  <tbody>\n",
       "    <tr>\n",
       "      <th>advertising</th>\n",
       "      <td>261</td>\n",
       "    </tr>\n",
       "    <tr>\n",
       "      <th>alert_sign_up</th>\n",
       "      <td>6</td>\n",
       "    </tr>\n",
       "    <tr>\n",
       "      <th>booths</th>\n",
       "      <td>185</td>\n",
       "    </tr>\n",
       "    <tr>\n",
       "      <th>canvassing</th>\n",
       "      <td>167</td>\n",
       "    </tr>\n",
       "    <tr>\n",
       "      <th>census_action_kiosk</th>\n",
       "      <td>49</td>\n",
       "    </tr>\n",
       "    <tr>\n",
       "      <th>collateral</th>\n",
       "      <td>62</td>\n",
       "    </tr>\n",
       "    <tr>\n",
       "      <th>convening</th>\n",
       "      <td>63</td>\n",
       "    </tr>\n",
       "    <tr>\n",
       "      <th>curriculum</th>\n",
       "      <td>2</td>\n",
       "    </tr>\n",
       "    <tr>\n",
       "      <th>education_forum</th>\n",
       "      <td>32</td>\n",
       "    </tr>\n",
       "    <tr>\n",
       "      <th>email</th>\n",
       "      <td>2936</td>\n",
       "    </tr>\n",
       "    <tr>\n",
       "      <th>event</th>\n",
       "      <td>259</td>\n",
       "    </tr>\n",
       "    <tr>\n",
       "      <th>flyers</th>\n",
       "      <td>260</td>\n",
       "    </tr>\n",
       "    <tr>\n",
       "      <th>food_resources</th>\n",
       "      <td>132</td>\n",
       "    </tr>\n",
       "    <tr>\n",
       "      <th>form_filling_assistance</th>\n",
       "      <td>5</td>\n",
       "    </tr>\n",
       "    <tr>\n",
       "      <th>implementation_planning_worksho</th>\n",
       "      <td>18</td>\n",
       "    </tr>\n",
       "    <tr>\n",
       "      <th>mailers</th>\n",
       "      <td>2</td>\n",
       "    </tr>\n",
       "    <tr>\n",
       "      <th>media_other</th>\n",
       "      <td>92</td>\n",
       "    </tr>\n",
       "    <tr>\n",
       "      <th>meeting</th>\n",
       "      <td>214</td>\n",
       "    </tr>\n",
       "    <tr>\n",
       "      <th>newsletter</th>\n",
       "      <td>13</td>\n",
       "    </tr>\n",
       "    <tr>\n",
       "      <th>nudgealert</th>\n",
       "      <td>42</td>\n",
       "    </tr>\n",
       "    <tr>\n",
       "      <th>other</th>\n",
       "      <td>373</td>\n",
       "    </tr>\n",
       "    <tr>\n",
       "      <th>phone_banking</th>\n",
       "      <td>162</td>\n",
       "    </tr>\n",
       "    <tr>\n",
       "      <th>pledge_cards</th>\n",
       "      <td>10</td>\n",
       "    </tr>\n",
       "    <tr>\n",
       "      <th>social_media</th>\n",
       "      <td>583</td>\n",
       "    </tr>\n",
       "    <tr>\n",
       "      <th>speaking_engagement</th>\n",
       "      <td>157</td>\n",
       "    </tr>\n",
       "    <tr>\n",
       "      <th>texting_campaign</th>\n",
       "      <td>25</td>\n",
       "    </tr>\n",
       "    <tr>\n",
       "      <th>training_delivery</th>\n",
       "      <td>40</td>\n",
       "    </tr>\n",
       "    <tr>\n",
       "      <th>translation</th>\n",
       "      <td>2</td>\n",
       "    </tr>\n",
       "    <tr>\n",
       "      <th>webinar</th>\n",
       "      <td>10</td>\n",
       "    </tr>\n",
       "    <tr>\n",
       "      <th>Total</th>\n",
       "      <td>6162</td>\n",
       "    </tr>\n",
       "  </tbody>\n",
       "</table>\n",
       "</div>"
      ],
      "text/plain": [
       "                                 count\n",
       "Activity_Type_                        \n",
       "advertising                        261\n",
       "alert_sign_up                        6\n",
       "booths                             185\n",
       "canvassing                         167\n",
       "census_action_kiosk                 49\n",
       "collateral                          62\n",
       "convening                           63\n",
       "curriculum                           2\n",
       "education_forum                     32\n",
       "email                             2936\n",
       "event                              259\n",
       "flyers                             260\n",
       "food_resources                     132\n",
       "form_filling_assistance              5\n",
       "implementation_planning_worksho     18\n",
       "mailers                              2\n",
       "media_other                         92\n",
       "meeting                            214\n",
       "newsletter                          13\n",
       "nudgealert                          42\n",
       "other                              373\n",
       "phone_banking                      162\n",
       "pledge_cards                        10\n",
       "social_media                       583\n",
       "speaking_engagement                157\n",
       "texting_campaign                    25\n",
       "training_delivery                   40\n",
       "translation                          2\n",
       "webinar                             10\n",
       "Total                             6162"
      ]
     },
     "execution_count": 134,
     "metadata": {},
     "output_type": "execute_result"
    }
   ],
   "source": [
    "activity_type_summary = pd.DataFrame({'count' : df.groupby( ([\"Activity_Type_\"]) ).size()})\n",
    "activity_type_summary.loc['Total']= activity_type_summary.sum()\n",
    "activity_type_summary"
   ]
  },
  {
   "cell_type": "markdown",
   "metadata": {},
   "source": [
    "## Save data to csv"
   ]
  },
  {
   "cell_type": "code",
   "execution_count": 135,
   "metadata": {},
   "outputs": [],
   "source": [
    "activity_type_summary.to_csv(python_out + '\\\\'+ 'activity_summary.csv')"
   ]
  },
  {
   "cell_type": "markdown",
   "metadata": {},
   "source": [
    "## Activity Type Other "
   ]
  },
  {
   "cell_type": "code",
   "execution_count": 136,
   "metadata": {},
   "outputs": [
    {
     "data": {
      "text/html": [
       "<div>\n",
       "<style scoped>\n",
       "    .dataframe tbody tr th:only-of-type {\n",
       "        vertical-align: middle;\n",
       "    }\n",
       "\n",
       "    .dataframe tbody tr th {\n",
       "        vertical-align: top;\n",
       "    }\n",
       "\n",
       "    .dataframe thead th {\n",
       "        text-align: right;\n",
       "    }\n",
       "</style>\n",
       "<table border=\"1\" class=\"dataframe\">\n",
       "  <thead>\n",
       "    <tr style=\"text-align: right;\">\n",
       "      <th></th>\n",
       "      <th>count</th>\n",
       "    </tr>\n",
       "    <tr>\n",
       "      <th>Activity_Type_(Other)_Description</th>\n",
       "      <th></th>\n",
       "    </tr>\n",
       "  </thead>\n",
       "  <tbody>\n",
       "    <tr>\n",
       "      <th>2020 Census Car Caravan</th>\n",
       "      <td>1</td>\n",
       "    </tr>\n",
       "    <tr>\n",
       "      <th>2020 Census posters</th>\n",
       "      <td>1</td>\n",
       "    </tr>\n",
       "    <tr>\n",
       "      <th>2020 Census social media post</th>\n",
       "      <td>1</td>\n",
       "    </tr>\n",
       "    <tr>\n",
       "      <th>7 clients visited Bayside's Count Me 2020 webpage during the week</th>\n",
       "      <td>2</td>\n",
       "    </tr>\n",
       "    <tr>\n",
       "      <th>CVCC donate Census face mask to clients of our FRC</th>\n",
       "      <td>2</td>\n",
       "    </tr>\n",
       "    <tr>\n",
       "      <th>Census 2020 Carvan, recorded msg played in English/Spanish of a woman, man, child encouraging the community to fill out the Census Questionnaire, along with the Cuenta Conmigo song. Vehicles were decorated. Routes were made to to target HTCs.</th>\n",
       "      <td>10</td>\n",
       "    </tr>\n",
       "    <tr>\n",
       "      <th>Census 2020 Outreach- Farr Avenue Elementary School</th>\n",
       "      <td>2</td>\n",
       "    </tr>\n",
       "    <tr>\n",
       "      <th>Census 2020 Outreach- Mary Lou CLack Center</th>\n",
       "      <td>2</td>\n",
       "    </tr>\n",
       "    <tr>\n",
       "      <th>Census 2020 Outreach- Mary Lou Clack Center Food Distribution</th>\n",
       "      <td>1</td>\n",
       "    </tr>\n",
       "    <tr>\n",
       "      <th>Census 2020 Outreach- Valley Max Grocery Store</th>\n",
       "      <td>1</td>\n",
       "    </tr>\n",
       "    <tr>\n",
       "      <th>Census 2020 Outreach-Mary Lou Clack Center</th>\n",
       "      <td>1</td>\n",
       "    </tr>\n",
       "    <tr>\n",
       "      <th>Census 2020 Outreach-Oak Hill Elementary School</th>\n",
       "      <td>2</td>\n",
       "    </tr>\n",
       "    <tr>\n",
       "      <th>Census 2020 weblink</th>\n",
       "      <td>1</td>\n",
       "    </tr>\n",
       "    <tr>\n",
       "      <th>Census Outreach at Vista Square Elementary School</th>\n",
       "      <td>2</td>\n",
       "    </tr>\n",
       "    <tr>\n",
       "      <th>Census bags donation for food drive distribution in CV</th>\n",
       "      <td>2</td>\n",
       "    </tr>\n",
       "    <tr>\n",
       "      <th>Chalking in Townsite a HTC Community</th>\n",
       "      <td>4</td>\n",
       "    </tr>\n",
       "    <tr>\n",
       "      <th>Digital Files of FAQ created in English and Spanish</th>\n",
       "      <td>1</td>\n",
       "    </tr>\n",
       "    <tr>\n",
       "      <th>Engage customers in Census 2020 importance while the customers are shipping/checking out at the Essential Business of Postal Annex 17. Employees are all FACO members.</th>\n",
       "      <td>1</td>\n",
       "    </tr>\n",
       "    <tr>\n",
       "      <th>Explained to clients one on one about census</th>\n",
       "      <td>1</td>\n",
       "    </tr>\n",
       "    <tr>\n",
       "      <th>Filipino PSA</th>\n",
       "      <td>2</td>\n",
       "    </tr>\n",
       "    <tr>\n",
       "      <th>Gave out flyers and swag at meal distribution site</th>\n",
       "      <td>2</td>\n",
       "    </tr>\n",
       "    <tr>\n",
       "      <th>Gave out flyers and swag outside Valleymax Supermarket</th>\n",
       "      <td>1</td>\n",
       "    </tr>\n",
       "    <tr>\n",
       "      <th>Handed out flyers and swag at meal distribution site</th>\n",
       "      <td>2</td>\n",
       "    </tr>\n",
       "    <tr>\n",
       "      <th>Homeless Coordination</th>\n",
       "      <td>1</td>\n",
       "    </tr>\n",
       "    <tr>\n",
       "      <th>Homeless census discussion</th>\n",
       "      <td>1</td>\n",
       "    </tr>\n",
       "    <tr>\n",
       "      <th>Hygiene and Resources- Day of Hope</th>\n",
       "      <td>2</td>\n",
       "    </tr>\n",
       "    <tr>\n",
       "      <th>Hygiene and Resources- Interfaith Community Services</th>\n",
       "      <td>2</td>\n",
       "    </tr>\n",
       "    <tr>\n",
       "      <th>Hygiene and Resources- JFS</th>\n",
       "      <td>2</td>\n",
       "    </tr>\n",
       "    <tr>\n",
       "      <th>Hygiene and Resources- Thriving Life Church</th>\n",
       "      <td>2</td>\n",
       "    </tr>\n",
       "    <tr>\n",
       "      <th>Hygiene and Resources-Sharia's Closet</th>\n",
       "      <td>2</td>\n",
       "    </tr>\n",
       "    <tr>\n",
       "      <th>Letter to owners of vacation rentals</th>\n",
       "      <td>1</td>\n",
       "    </tr>\n",
       "    <tr>\n",
       "      <th>Mask and Resource Distribution</th>\n",
       "      <td>2</td>\n",
       "    </tr>\n",
       "    <tr>\n",
       "      <th>Media (Other)</th>\n",
       "      <td>1</td>\n",
       "    </tr>\n",
       "    <tr>\n",
       "      <th>Mondays Mask and census</th>\n",
       "      <td>2</td>\n",
       "    </tr>\n",
       "    <tr>\n",
       "      <th>NC Coordination - media &amp; homeless counting</th>\n",
       "      <td>1</td>\n",
       "    </tr>\n",
       "    <tr>\n",
       "      <th>Nothing to report for this past week due to the holiday.</th>\n",
       "      <td>1</td>\n",
       "    </tr>\n",
       "    <tr>\n",
       "      <th>Posting on Nextdoor App</th>\n",
       "      <td>1</td>\n",
       "    </tr>\n",
       "    <tr>\n",
       "      <th>Resources and Referrals-Transitional Storage Center (TSC)</th>\n",
       "      <td>2</td>\n",
       "    </tr>\n",
       "    <tr>\n",
       "      <th>Resources- Door of Hope</th>\n",
       "      <td>2</td>\n",
       "    </tr>\n",
       "    <tr>\n",
       "      <th>Supervisor Cox Census statement at the end of COVID-19 telebriefing</th>\n",
       "      <td>1</td>\n",
       "    </tr>\n",
       "    <tr>\n",
       "      <th>Tabling at Black History Month Event</th>\n",
       "      <td>2</td>\n",
       "    </tr>\n",
       "    <tr>\n",
       "      <th>Teen Parent Program</th>\n",
       "      <td>2</td>\n",
       "    </tr>\n",
       "    <tr>\n",
       "      <th>Vagani quoted in American Libraries magazine article about Census 2020 outreach efforts in libraries: https://americanlibrariesmagazine.org/2020/03/02/fact-versus-fear-census-anxieties/</th>\n",
       "      <td>1</td>\n",
       "    </tr>\n",
       "    <tr>\n",
       "      <th>nothing to report</th>\n",
       "      <td>1</td>\n",
       "    </tr>\n",
       "    <tr>\n",
       "      <th>outreach to Community Partners</th>\n",
       "      <td>2</td>\n",
       "    </tr>\n",
       "    <tr>\n",
       "      <th>post capstone activities</th>\n",
       "      <td>1</td>\n",
       "    </tr>\n",
       "    <tr>\n",
       "      <th>Total</th>\n",
       "      <td>80</td>\n",
       "    </tr>\n",
       "  </tbody>\n",
       "</table>\n",
       "</div>"
      ],
      "text/plain": [
       "                                                    count\n",
       "Activity_Type_(Other)_Description                        \n",
       "2020 Census Car Caravan                                 1\n",
       "2020 Census posters                                     1\n",
       "2020 Census social media post                           1\n",
       "7 clients visited Bayside's Count Me 2020 webpa...      2\n",
       "CVCC donate Census face mask to clients of our FRC      2\n",
       "Census 2020 Carvan, recorded msg played in Engl...     10\n",
       "Census 2020 Outreach- Farr Avenue Elementary Sc...      2\n",
       "Census 2020 Outreach- Mary Lou CLack Center             2\n",
       "Census 2020 Outreach- Mary Lou Clack Center Foo...      1\n",
       "Census 2020 Outreach- Valley Max Grocery Store          1\n",
       "Census 2020 Outreach-Mary Lou Clack Center              1\n",
       "Census 2020 Outreach-Oak Hill Elementary School         2\n",
       "Census 2020 weblink                                     1\n",
       "Census Outreach at Vista Square Elementary School       2\n",
       "Census bags donation for food drive distributio...      2\n",
       "Chalking in Townsite a HTC Community                    4\n",
       "Digital Files of FAQ created in English and Spa...      1\n",
       "Engage customers in Census 2020 importance whil...      1\n",
       "Explained to clients one on one about census            1\n",
       "Filipino PSA                                            2\n",
       "Gave out flyers and swag at meal distribution site      2\n",
       "Gave out flyers and swag outside Valleymax Supe...      1\n",
       "Handed out flyers and swag at meal distribution...      2\n",
       "Homeless Coordination                                   1\n",
       "Homeless census discussion                              1\n",
       "Hygiene and Resources- Day of Hope                      2\n",
       "Hygiene and Resources- Interfaith Community Ser...      2\n",
       "Hygiene and Resources- JFS                              2\n",
       "Hygiene and Resources- Thriving Life Church             2\n",
       "Hygiene and Resources-Sharia's Closet                   2\n",
       "Letter to owners of vacation rentals                    1\n",
       "Mask and Resource Distribution                          2\n",
       "Media (Other)                                           1\n",
       "Mondays Mask and census                                 2\n",
       "NC Coordination - media & homeless counting             1\n",
       "Nothing to report for this past week due to the...      1\n",
       "Posting on Nextdoor App                                 1\n",
       "Resources and Referrals-Transitional Storage Ce...      2\n",
       "Resources- Door of Hope                                 2\n",
       "Supervisor Cox Census statement at the end of C...      1\n",
       "Tabling at Black History Month Event                    2\n",
       "Teen Parent Program                                     2\n",
       "Vagani quoted in American Libraries magazine ar...      1\n",
       "nothing to report                                       1\n",
       "outreach to Community Partners                          2\n",
       "post capstone activities                                1\n",
       "Total                                                  80"
      ]
     },
     "execution_count": 136,
     "metadata": {},
     "output_type": "execute_result"
    }
   ],
   "source": [
    "df1 = df[df[\"Activity_Type_\"]=='other']\n",
    "activity_type_other_summary = pd.DataFrame({'count' : df1.groupby( ([\"Activity_Type_(Other)_Description\"]) ).size()})\n",
    "activity_type_other_summary.loc['Total']= activity_type_other_summary.sum()\n",
    "activity_type_other_summary"
   ]
  },
  {
   "cell_type": "code",
   "execution_count": 137,
   "metadata": {},
   "outputs": [],
   "source": [
    "activity_type_other_summary.to_csv(python_out + '\\\\'+ 'activity_other_summary.csv')"
   ]
  },
  {
   "cell_type": "markdown",
   "metadata": {},
   "source": [
    "## HTC"
   ]
  },
  {
   "cell_type": "markdown",
   "metadata": {},
   "source": [
    "# convert to numbers first"
   ]
  },
  {
   "cell_type": "markdown",
   "metadata": {},
   "source": [
    "## Latinos to number"
   ]
  },
  {
   "cell_type": "code",
   "execution_count": 138,
   "metadata": {},
   "outputs": [
    {
     "data": {
      "text/plain": [
       "array([15.0, nan, 10.0, 5.0, 50.0, 25.0, ' ', 1000.0, 40, 30, 20.0, 55.0,\n",
       "       60.0, 21.0, 2.0, 1.0, 3.0, 4.0, 0.0, 75.0, 2700.0, 35.0, 1313.0,\n",
       "       625.0, 584.0, 1352.0, 175.0, 220.0, 22.0, 190.0, 120.0, 100.0,\n",
       "       145.0, 130.0, 529.0, 23.0, 94.0, 9.0, 46.0, 156.0, 34.0, 290, 1720,\n",
       "       1500.0, 5000.0, 8, 72, 128, 10000.0, 7000.0, 150.0, 28.0, 58.0,\n",
       "       73.0, 143.0, 148.0, 500.0, 368.0, 95.0, 319.0, 372.0, 18.0,\n",
       "       11000.0, 6080.0, 89.0, 457.0, 85.0, 1055.0, 400.0, 350.0, 135.0,\n",
       "       80.0, 1330, 6000, 203.0, 59.0, 860.0, 23641.0, 152.0, 168.0, 160.0,\n",
       "       138.0, 250.0, 320.0, 165.0, 129.0, 333.0, 425.0, 325.0, 111.0,\n",
       "       70.0, 213.0, 32.0, 81.0, 115.0, 173.0, 177.0, 106.0, 64.0, 51.0,\n",
       "       230.0, 43.0, 188.0, 19.0, 12.0, 102.0, 29.0, 6.0, 52.0, 37.0, 61.0,\n",
       "       631.0, 260.0, 41.0, 257.0, 11.0, 17.0, 67.0, 224.0, 351.0, 385.0,\n",
       "       577.0, 592.0, 356.0, 214.0, 171.0, 770.0, 241.0, 44.0, 38.0, 13.0,\n",
       "       169.0, 3842.0, 295.0, 345.0, 104.0, 69.0, 30000.0, 3000.0, 16.0,\n",
       "       27.0, 90.0, 5336.0, 3349.0, 3302.0, 387.0, 307.0, 77.0, 65.0,\n",
       "       936.0, 113.0, 7.0, 1172.0, 270.0, 180.0, 195.0, 140.0, 39.0, 198.0,\n",
       "       5140.0, 1721.0, 797.0, 53.0, 335.0, 108.0, 118.0, 293.0, 103.0,\n",
       "       36.0, 121.0, 189.0, 14.0, 450.0, 2000.0, 45.0, 1821.0, 83.0, 57.0,\n",
       "       87.0, 98.0, 3240.0, 24.0, 96.0, 235.0, 68.0, 739.0, 454.0, 941.0,\n",
       "       2760.0, 170.0, 1102.0, 605.0, 54.0, 200.0, 47.0, 201.0, 134.0,\n",
       "       192.0, 249.0, 321.0, 26.0, 315.0, 1250.0, 1194.0, 2116.0, 493.0,\n",
       "       116.0, 244.0, 1408.0, 86.0, 147.0, 600.0, 1534.0, 137.0, 92.0,\n",
       "       459.0, 367.0, 184.0, 74.0, 48.0, 49.0, 206.0, 1136.0, 252.0, 279.0,\n",
       "       323.0, 2533.0, 1022.0, 1167.0, 2174.0, 187.0, 2606.0, 1868.0,\n",
       "       2645.0, 15596.0, 1236.0, 1034.0, 850.0, 632.0, 56.0, 153.0, 109.0,\n",
       "       572.0, 547.0, 831.0, 222.0, 379.0, 505.0, 4664.0, 136.0, 606.0,\n",
       "       2020.0, 768.0, 353.0, 2820.0, 13470.0, 91.0, 1042.0, 2169.0, 228.0,\n",
       "       151.0, 432.0, 216.0, 382.0, 998.0, 62.0, 166.0, 33.0, 475.0, 638.0,\n",
       "       66.0, 63.0, 5845.0, 282.0, 650.0, 300.0, 16096.0, 5920.0, 365.0,\n",
       "       361.0, 124.0, 395.0, 193.0, 174.0, 700.0, 31.0, 79.0, 101.0, 807.0,\n",
       "       161.0, 159.0, 337.0, 196.0, 309.0, 76.0, 176.0, 146.0, 211.0,\n",
       "       125.0, 437.0, 273.0, 727.0, 550.0, 8053.0, 157.0, 479.0, 767.0,\n",
       "       246.0, 149.0, 178, 465, 110, 167, 127], dtype=object)"
      ]
     },
     "execution_count": 138,
     "metadata": {},
     "output_type": "execute_result"
    }
   ],
   "source": [
    "df['Latinos_original'] = df.Latinos\n",
    "df['Latinos'] = pd.to_numeric(df.Latinos_original.astype(str).str.replace(',',''), errors='coerce')\\\n",
    "              .fillna(0).astype(int)\n",
    "df.Latinos_original.unique()"
   ]
  },
  {
   "cell_type": "code",
   "execution_count": 139,
   "metadata": {},
   "outputs": [
    {
     "data": {
      "text/plain": [
       "array([   15,     0,    10,     5,    50,    25,  1000,    40,    30,\n",
       "          20,    55,    60,    21,     2,     1,     3,     4,    75,\n",
       "        2700,    35,  1313,   625,   584,  1352,   175,   220,    22,\n",
       "         190,   120,   100,   145,   130,   529,    23,    94,     9,\n",
       "          46,   156,    34,   290,  1720,  1500,  5000,     8,    72,\n",
       "         128, 10000,  7000,   150,    28,    58,    73,   143,   148,\n",
       "         500,   368,    95,   319,   372,    18, 11000,  6080,    89,\n",
       "         457,    85,  1055,   400,   350,   135,    80,  1330,  6000,\n",
       "         203,    59,   860, 23641,   152,   168,   160,   138,   250,\n",
       "         320,   165,   129,   333,   425,   325,   111,    70,   213,\n",
       "          32,    81,   115,   173,   177,   106,    64,    51,   230,\n",
       "          43,   188,    19,    12,   102,    29,     6,    52,    37,\n",
       "          61,   631,   260,    41,   257,    11,    17,    67,   224,\n",
       "         351,   385,   577,   592,   356,   214,   171,   770,   241,\n",
       "          44,    38,    13,   169,  3842,   295,   345,   104,    69,\n",
       "       30000,  3000,    16,    27,    90,  5336,  3349,  3302,   387,\n",
       "         307,    77,    65,   936,   113,     7,  1172,   270,   180,\n",
       "         195,   140,    39,   198,  5140,  1721,   797,    53,   335,\n",
       "         108,   118,   293,   103,    36,   121,   189,    14,   450,\n",
       "        2000,    45,  1821,    83,    57,    87,    98,  3240,    24,\n",
       "          96,   235,    68,   739,   454,   941,  2760,   170,  1102,\n",
       "         605,    54,   200,    47,   201,   134,   192,   249,   321,\n",
       "          26,   315,  1250,  1194,  2116,   493,   116,   244,  1408,\n",
       "          86,   147,   600,  1534,   137,    92,   459,   367,   184,\n",
       "          74,    48,    49,   206,  1136,   252,   279,   323,  2533,\n",
       "        1022,  1167,  2174,   187,  2606,  1868,  2645, 15596,  1236,\n",
       "        1034,   850,   632,    56,   153,   109,   572,   547,   831,\n",
       "         222,   379,   505,  4664,   136,   606,  2020,   768,   353,\n",
       "        2820, 13470,    91,  1042,  2169,   228,   151,   432,   216,\n",
       "         382,   998,    62,   166,    33,   475,   638,    66,    63,\n",
       "        5845,   282,   650,   300, 16096,  5920,   365,   361,   124,\n",
       "         395,   193,   174,   700,    31,    79,   101,   807,   161,\n",
       "         159,   337,   196,   309,    76,   176,   146,   211,   125,\n",
       "         437,   273,   727,   550,  8053,   157,   479,   767,   246,\n",
       "         149,   178,   465,   110,   167,   127])"
      ]
     },
     "execution_count": 139,
     "metadata": {},
     "output_type": "execute_result"
    }
   ],
   "source": [
    "df.Latinos.unique()"
   ]
  },
  {
   "cell_type": "markdown",
   "metadata": {},
   "source": [
    "## Limited-English_Proficient_Individuals_and_Families to number"
   ]
  },
  {
   "cell_type": "code",
   "execution_count": 140,
   "metadata": {},
   "outputs": [],
   "source": [
    "df['Limited-English_Proficient_Individuals_and_Families_original'] = df['Limited-English_Proficient_Individuals_and_Families']"
   ]
  },
  {
   "cell_type": "code",
   "execution_count": 141,
   "metadata": {},
   "outputs": [],
   "source": [
    "df['Limited-English_Proficient_Individuals_and_Families'] = pd.to_numeric(df['Limited-English_Proficient_Individuals_and_Families_original'].\\\n",
    "astype(str).str.replace(',',''), errors='coerce')\\\n",
    "              .fillna(0).astype(int)"
   ]
  },
  {
   "cell_type": "code",
   "execution_count": 142,
   "metadata": {},
   "outputs": [
    {
     "data": {
      "text/plain": [
       "array([    0,     5,    10,    40,    25,   500,    50,    60,    21,\n",
       "           1,    20,    24,    52,    45,     3,     6,    75,    30,\n",
       "         200,     2,     9,    46,   156,     8,    51, 10000,   150,\n",
       "         368,    27,   319,    18,  1759,   132,   305,   800,  2500,\n",
       "         205,    59,   187, 19237,   213,    32,   473,  2525,  1052,\n",
       "         286,   101, 50674,  5067,     4,    11,   125,    91,   947,\n",
       "          36,    72,   113,  6788,   111,   592,   247,  1189,    67,\n",
       "          12, 11886, 30000,  3000,   232,   170,  1758,   270,   130,\n",
       "          15,   195,     7,   198,  5140,  1721,   797,   173,    61,\n",
       "          53,   335,   108,   118,   293,    39,   454,    22,  7000,\n",
       "        1592,    23,  1821,    28,   143,    26,   294,   647,   300,\n",
       "         390,    63,    87, 30780,   570,    34,    80,   159,   348,\n",
       "          54,    35,    70,   100,   385,    14,   799,   872,  7220,\n",
       "        1056,    37,    48,    65,    38,   110,   930,    19,   225,\n",
       "        4049,    47,    13,   464,    74,   950,   632,   109,    58,\n",
       "         278,  4999,    55,   105,    57,   573,   139,   284,    33,\n",
       "        4664,    62,    29,   252,    94,   768,    16,   228,    69,\n",
       "        1389,    79,    43,   222,   264,    41,    49,   893,    42,\n",
       "          44,   134,   214,   260,   638,    17,    99,  5845,   282,\n",
       "         650,   519,  8366,   209,   121,    96,    31,   700,   161,\n",
       "         212,   184,    95,   236,   135,   140,    84,    56,   238,\n",
       "         250,   176,    85,   210,  5500,   331,   166, 41391, 33113,\n",
       "         116,   133,   149,  1015, 11535,    73,    81,  4455,   268,\n",
       "       33527, 26822])"
      ]
     },
     "execution_count": 142,
     "metadata": {},
     "output_type": "execute_result"
    }
   ],
   "source": [
    "df['Limited-English_Proficient_Individuals_and_Families'].unique()"
   ]
  },
  {
   "cell_type": "code",
   "execution_count": 143,
   "metadata": {},
   "outputs": [
    {
     "data": {
      "text/plain": [
       "array([nan, 5.0, 10.0, 0.0, 40.0, 25.0, ' ', 500.0, 50.0, 60.0, 21.0, 1.0,\n",
       "       20.0, 24.0, 52.0, 45.0, 3.0, 6.0, 75.0, 30.0, 200.0, 2, 9.0, 46.0,\n",
       "       156.0, 8.0, 51.0, 10000.0, 150.0, 368.0, 27.0, 319.0, 18.0, 1759.0,\n",
       "       132.0, 305.0, 800, 2500, 205.0, 59.0, 187.0, 19237.0, 213.0, 32.0,\n",
       "       473.0, 2525.0, 1052.0, 286.0, 101.0, 50674.0, 5067.0, 4.0, 11.0,\n",
       "       125.0, 91.0, 947.0, 36.0, 72.0, 113.0, 6788.0, 111.0, 592.0, 247.0,\n",
       "       1189.0, 67.0, 12.0, 11886.0, 30000.0, 3000.0, 232.0, 170.0, 1758.0,\n",
       "       270.0, 130.0, 15.0, 195.0, 7.0, 198.0, 5140.0, 1721.0, 797.0,\n",
       "       173.0, 61.0, 53.0, 335.0, 108.0, 118.0, 293.0, 39.0, 454.0, 22.0,\n",
       "       7000.0, 1592.0, 23.0, 1821.0, 28.0, 143.0, 26.0, 294.0, 647.0,\n",
       "       300.0, 390.0, 63.0, 87.0, 30780.0, 570.0, 34.0, 80.0, 159.0, 348.0,\n",
       "       54.0, 35.0, 70.0, 100.0, 385.0, 14.0, 799.0, 872.0, 7220.0, 1056.0,\n",
       "       37.0, 48.0, 65.0, 38.0, 110.0, 930.0, 19.0, 225.0, 4049.0, 47.0,\n",
       "       13.0, 464.0, 74.0, 950.0, 632.0, 109.0, 58.0, 278.0, 4999.0, 55.0,\n",
       "       105.0, 57.0, 573.0, 139.0, 284.0, 33.0, 4664.0, 62.0, 29.0, 252.0,\n",
       "       94.0, 768.0, 16.0, 228.0, 69.0, 1389.0, 79.0, 43.0, 222.0, 264.0,\n",
       "       41.0, 49.0, 893.0, 42.0, 44.0, 134.0, 214.0, 260.0, 638.0, 17.0,\n",
       "       99.0, 5845.0, 282.0, 650.0, 519.0, 8366.0, 209.0, 121.0, 96.0,\n",
       "       31.0, 700.0, 161.0, 212.0, 184.0, 95.0, 236.0, 135.0, 140.0, 84.0,\n",
       "       56.0, 238.0, 250.0, 176.0, 85.0, 210.0, 5500.0, 331.0, 166.0,\n",
       "       41391.0, 33113.0, 116.0, 133.0, 149.0, 1015, 11535, 73, 81, 4455,\n",
       "       268, 33527, 26822], dtype=object)"
      ]
     },
     "execution_count": 143,
     "metadata": {},
     "output_type": "execute_result"
    }
   ],
   "source": [
    "df['Limited-English_Proficient_Individuals_and_Families_original'].unique()"
   ]
  },
  {
   "cell_type": "markdown",
   "metadata": {},
   "source": [
    "## Seniors/Older_Adults to number"
   ]
  },
  {
   "cell_type": "code",
   "execution_count": 144,
   "metadata": {},
   "outputs": [],
   "source": [
    "df['Seniors/Older_Adults_original'] = df['Seniors/Older_Adults']"
   ]
  },
  {
   "cell_type": "code",
   "execution_count": 145,
   "metadata": {},
   "outputs": [],
   "source": [
    "df['Seniors/Older_Adults'] = pd.to_numeric(df['Seniors/Older_Adults_original'].astype(str).str.replace(',',''), errors='coerce')\\\n",
    "              .fillna(0).astype(int)"
   ]
  },
  {
   "cell_type": "code",
   "execution_count": 146,
   "metadata": {},
   "outputs": [
    {
     "data": {
      "text/plain": [
       "array([10.0, nan, 0.0, 12.0, 35.0, 5.0, 100.0, 16.0, ' ', 6, 200.0, 7,\n",
       "       4.0, 3.0, 2.0, 20.0, 150.0, 25.0, 64.0, 70.0, 40.0, 110.0, 50.0,\n",
       "       125.0, 130.0, 57.0, 24.0, 45.0, 36.0, 8.0, 1.0, 9.0, 22.0, 21.0,\n",
       "       65.0, 95.0, 2500.0, 15.0, 1716, 1500, 500, 1000.0, 43.0, 41.0,\n",
       "       81.0, 123.0, 283.0, 295.0, 4500, 30, 1296.0, 19.0, 827.0, 97.0,\n",
       "       18.0, 225.0, 1750.0, 155.0, 2000, 4502.0, 450.0, 165.0, 320.0,\n",
       "       350.0, 11.0, 376.0, 475.0, 425.0, 2600.0, 757.0, 4039.0, 1683.0,\n",
       "       58.0, 115.0, 72.0, 17.0, 23.0, 147.0, 46.0, 193.0, 139.0, 107.0,\n",
       "       1104.0, 98.0, 1177.0, 52.0, 28.0, 135.0, 211.0, 118.0, 178.0,\n",
       "       948.0, 395.0, 192.0, 385.0, 38.0, 145.0, 241.0, 14.0, 77.0,\n",
       "       10000.0, 203.0, 33.0, 34.0, 164.0, 61.0, 499.0, 198.0, 2051.0,\n",
       "       276.0, 69.0, 32.0, 113.0, 911.0, 133.0, 101.0, 224.0, 174.0, 348.0,\n",
       "       6143.0, 27.0, 4818.0, 2007.0, 4015.0, 13.0, 172.0, 799.0, 4261.0,\n",
       "       1776.0, 177.0, 1065.0, 89.0, 96.0, 16200.0, 49.0, 449.0, 114.0,\n",
       "       31.0, 55.0, 120.0, 568.0, 82.0, 1130.0, 471.0, 942.0, 1441.0, 67.0,\n",
       "       416.0, 42.0, 250.0, 187.0, 321.0, 3800.0, 835.0, 493.0, 51.0,\n",
       "       186.0, 117.0, 2095.0, 239.0, 491.0, 197.0, 337.0, 56.0, 144.0,\n",
       "       2586.0, 54.0, 29.0, 47.0, 270.0, 53.0, 27491.0, 215.0, 73.0, 208.0,\n",
       "       104.0, 3361.0, 630000.0, 60.0, 275.0, 66.0, 370000.0, 59.0, 79.0,\n",
       "       170.0, 138.0, 600.0, 119.0, 103.0, 289.0, 84.0, 48.0, 403.0, 163.0,\n",
       "       271.0, 497.0, 37.0, 156.0, 943.0, 12124.0, 78.0, 218.0, 4000.0,\n",
       "       19316.0, 15453.0, 195, 26, 3240, 126, 62, 15646, 12517, 764, 9820],\n",
       "      dtype=object)"
      ]
     },
     "execution_count": 146,
     "metadata": {},
     "output_type": "execute_result"
    }
   ],
   "source": [
    "df['Seniors/Older_Adults_original'].unique()"
   ]
  },
  {
   "cell_type": "code",
   "execution_count": 147,
   "metadata": {
    "scrolled": true
   },
   "outputs": [
    {
     "data": {
      "text/plain": [
       "array([    10,      0,     12,     35,      5,    100,     16,      6,\n",
       "          200,      7,      4,      3,      2,     20,    150,     25,\n",
       "           64,     70,     40,    110,     50,    125,    130,     57,\n",
       "           24,     45,     36,      8,      1,      9,     22,     21,\n",
       "           65,     95,   2500,     15,   1716,   1500,    500,   1000,\n",
       "           43,     41,     81,    123,    283,    295,   4500,     30,\n",
       "         1296,     19,    827,     97,     18,    225,   1750,    155,\n",
       "         2000,   4502,    450,    165,    320,    350,     11,    376,\n",
       "          475,    425,   2600,    757,   4039,   1683,     58,    115,\n",
       "           72,     17,     23,    147,     46,    193,    139,    107,\n",
       "         1104,     98,   1177,     52,     28,    135,    211,    118,\n",
       "          178,    948,    395,    192,    385,     38,    145,    241,\n",
       "           14,     77,  10000,    203,     33,     34,    164,     61,\n",
       "          499,    198,   2051,    276,     69,     32,    113,    911,\n",
       "          133,    101,    224,    174,    348,   6143,     27,   4818,\n",
       "         2007,   4015,     13,    172,    799,   4261,   1776,    177,\n",
       "         1065,     89,     96,  16200,     49,    449,    114,     31,\n",
       "           55,    120,    568,     82,   1130,    471,    942,   1441,\n",
       "           67,    416,     42,    250,    187,    321,   3800,    835,\n",
       "          493,     51,    186,    117,   2095,    239,    491,    197,\n",
       "          337,     56,    144,   2586,     54,     29,     47,    270,\n",
       "           53,  27491,    215,     73,    208,    104,   3361, 630000,\n",
       "           60,    275,     66, 370000,     59,     79,    170,    138,\n",
       "          600,    119,    103,    289,     84,     48,    403,    163,\n",
       "          271,    497,     37,    156,    943,  12124,     78,    218,\n",
       "         4000,  19316,  15453,    195,     26,   3240,    126,     62,\n",
       "        15646,  12517,    764,   9820])"
      ]
     },
     "execution_count": 147,
     "metadata": {},
     "output_type": "execute_result"
    }
   ],
   "source": [
    "df['Seniors/Older_Adults'].unique()"
   ]
  },
  {
   "cell_type": "markdown",
   "metadata": {},
   "source": [
    "## Lesbian,_Gay,_Bisexual,_Transgender,_and_Questioning_(LGBTQ) to number"
   ]
  },
  {
   "cell_type": "code",
   "execution_count": 148,
   "metadata": {},
   "outputs": [],
   "source": [
    "df['Lesbian,_Gay,_Bisexual,_Transgender,_and_Questioning_(LGBTQ)_original'] = df['Lesbian,_Gay,_Bisexual,_Transgender,_and_Questioning_(LGBTQ)']"
   ]
  },
  {
   "cell_type": "code",
   "execution_count": 149,
   "metadata": {},
   "outputs": [],
   "source": [
    "df['Lesbian,_Gay,_Bisexual,_Transgender,_and_Questioning_(LGBTQ)'] = pd.to_numeric(df['Lesbian,_Gay,_Bisexual,_Transgender,_and_Questioning_(LGBTQ)_original'].astype(str).str.replace(',',''), errors='coerce')\\\n",
    "              .fillna(0).astype(int)"
   ]
  },
  {
   "cell_type": "code",
   "execution_count": 150,
   "metadata": {},
   "outputs": [
    {
     "data": {
      "text/plain": [
       "array([nan, 0.0, 10.0, 100.0, 2.0, 120.0, ' ', 50, 350, 500, 473.0,\n",
       "       2525.0, 1052.0, 45.0, 91.0, 72.0, 46.0, 1.0, 154.0, 6.0, 4.0,\n",
       "       181.0, 6340.0, 38.0, 92.0, 57.0, 42.0, 16.0, 66.0, 210.0, 288.0,\n",
       "       1093.0, 347.0, 14.0, 160.0, 235.0, 449.0, 216.0, 228.0, 111.0,\n",
       "       592.0, 247.0, 40.0, 39.0, 80.0, 63.0, 36.0, 161.0, 5623.0, 969.0,\n",
       "       307.0, 34.0, 81.0, 51.0, 37.0, 58.0, 186.0, 256.0, 13.0, 141.0,\n",
       "       208.0, 398.0, 192.0, 202.0, 392.0, 164.0, 326.0, 82.0, 3.0, 60.0,\n",
       "       132.0, 3511.0, 15.0, 2753.0, 1147.0, 2294.0, 991.0, 126.0, 242.0,\n",
       "       243.0, 559.0, 2983.0, 1243.0, 124.0, 746.0, 77.0, 19.0, 33.0, 71.0,\n",
       "       646.0, 269.0, 538.0, 823.0, 9.0, 112.0, 99.0, 215.0, 878.0, 291.0,\n",
       "       29.0, 175.0, 131.0, 700.0, 62.0, 25.0, 17.0, 94.0, 20.0, 11.0, 5.0,\n",
       "       7.0, 44.0, 28.0, 12.0, 8.0, 68.0, 182.0, 200.0, 140.0, 48, 239,\n",
       "       436, 749, 451, 1056, 279, 439, 277, 378, 218, 233, 76, 718, 416,\n",
       "       340, 701, 633, 550, 110, 118, 119, 6091, 8351, 2546, 163, 229, 56,\n",
       "       89, 321, 87, 102, 49, 290, 127, 59, 157, 98, 130, 149, 95, 152, 75,\n",
       "       43, 52, 22, 113], dtype=object)"
      ]
     },
     "execution_count": 150,
     "metadata": {},
     "output_type": "execute_result"
    }
   ],
   "source": [
    "df['Lesbian,_Gay,_Bisexual,_Transgender,_and_Questioning_(LGBTQ)_original'].unique()"
   ]
  },
  {
   "cell_type": "code",
   "execution_count": 151,
   "metadata": {},
   "outputs": [
    {
     "data": {
      "text/plain": [
       "array([   0,   10,  100,    2,  120,   50,  350,  500,  473, 2525, 1052,\n",
       "         45,   91,   72,   46,    1,  154,    6,    4,  181, 6340,   38,\n",
       "         92,   57,   42,   16,   66,  210,  288, 1093,  347,   14,  160,\n",
       "        235,  449,  216,  228,  111,  592,  247,   40,   39,   80,   63,\n",
       "         36,  161, 5623,  969,  307,   34,   81,   51,   37,   58,  186,\n",
       "        256,   13,  141,  208,  398,  192,  202,  392,  164,  326,   82,\n",
       "          3,   60,  132, 3511,   15, 2753, 1147, 2294,  991,  126,  242,\n",
       "        243,  559, 2983, 1243,  124,  746,   77,   19,   33,   71,  646,\n",
       "        269,  538,  823,    9,  112,   99,  215,  878,  291,   29,  175,\n",
       "        131,  700,   62,   25,   17,   94,   20,   11,    5,    7,   44,\n",
       "         28,   12,    8,   68,  182,  200,  140,   48,  239,  436,  749,\n",
       "        451, 1056,  279,  439,  277,  378,  218,  233,   76,  718,  416,\n",
       "        340,  701,  633,  550,  110,  118,  119, 6091, 8351, 2546,  163,\n",
       "        229,   56,   89,  321,   87,  102,   49,  290,  127,   59,  157,\n",
       "         98,  130,  149,   95,  152,   75,   43,   52,   22,  113])"
      ]
     },
     "execution_count": 151,
     "metadata": {},
     "output_type": "execute_result"
    }
   ],
   "source": [
    "df['Lesbian,_Gay,_Bisexual,_Transgender,_and_Questioning_(LGBTQ)'].unique()"
   ]
  },
  {
   "cell_type": "markdown",
   "metadata": {},
   "source": [
    "## Low_Broadband_subscription_rates_and_limited_or_no_access\n",
    "to number"
   ]
  },
  {
   "cell_type": "code",
   "execution_count": 152,
   "metadata": {},
   "outputs": [],
   "source": [
    "df['Low_Broadband_subscription_rates_and_limited_or_no_access_original'] = df['Low_Broadband_subscription_rates_and_limited_or_no_access']"
   ]
  },
  {
   "cell_type": "code",
   "execution_count": 153,
   "metadata": {},
   "outputs": [],
   "source": [
    "df['Low_Broadband_subscription_rates_and_limited_or_no_access'] = pd.to_numeric(df['Low_Broadband_subscription_rates_and_limited_or_no_access_original'].astype(str).str.replace(',',''), errors='coerce')\\\n",
    "              .fillna(0).astype(int)"
   ]
  },
  {
   "cell_type": "code",
   "execution_count": 154,
   "metadata": {},
   "outputs": [
    {
     "data": {
      "text/plain": [
       "array([nan, 0.0, 10.0, 150.0, 700.0, 200.0, 400.0, 100.0, 15, 20, 29, 25,\n",
       "       13, 35, 23, ' ', 2, 1000.0, 2000.0, 125.0, 5000, 31.0, 43813.0,\n",
       "       7.0, 32.0, 70.0, 11.0, 93.0, 39.0, 67.0, 1.0, 58.0, 108.0, 3.0,\n",
       "       16.0, 17.0, 5.0, 22.0, 9.0, 164.0, 41.0, 61.0, 499.0, 8.0, 118.0,\n",
       "       21.0, 144.0, 288.0, 405.0, 34.0, 47.0, 384.0, 28.0, 27.0, 798.0,\n",
       "       80.0, 68.0, 133.0, 95.0, 283.0, 46.0, 59.0, 12.0, 90.0, 1056.0,\n",
       "       37.0, 48.0, 65.0, 38.0, 45.0, 110.0, 53.0, 54.0, 978.0, 431.0,\n",
       "       282.0, 18.0, 40.0, 49.0, 42.0, 14.0, 4.0, 74.0, 229.0, 6.0, 30.0,\n",
       "       251.0, 286.0, 533.0, 639.0, 458.0, 648.0, 3822.0, 303.0, 254.0,\n",
       "       36.0, 101.0, 1207.0, 98.0, 532.0, 73.0, 122.0, 51.0, 104.0, 109.0,\n",
       "       1104.0, 116.0, 44.0, 69.0, 265.0, 79.0, 71.0, 75.0, 50.0, 518.0,\n",
       "       156.0, 78.0, 333.0, 3425.0, 26.0, 928.0, 399.0, 920.0, 1090.0,\n",
       "       60.0, 161.0, 163.0, 271.0, 176.0, 24.0, 19.0, 57.0], dtype=object)"
      ]
     },
     "execution_count": 154,
     "metadata": {},
     "output_type": "execute_result"
    }
   ],
   "source": [
    "df['Low_Broadband_subscription_rates_and_limited_or_no_access_original'].unique()"
   ]
  },
  {
   "cell_type": "code",
   "execution_count": 155,
   "metadata": {},
   "outputs": [
    {
     "data": {
      "text/plain": [
       "array([    0,    10,   150,   700,   200,   400,   100,    15,    20,\n",
       "          29,    25,    13,    35,    23,     2,  1000,  2000,   125,\n",
       "        5000,    31, 43813,     7,    32,    70,    11,    93,    39,\n",
       "          67,     1,    58,   108,     3,    16,    17,     5,    22,\n",
       "           9,   164,    41,    61,   499,     8,   118,    21,   144,\n",
       "         288,   405,    34,    47,   384,    28,    27,   798,    80,\n",
       "          68,   133,    95,   283,    46,    59,    12,    90,  1056,\n",
       "          37,    48,    65,    38,    45,   110,    53,    54,   978,\n",
       "         431,   282,    18,    40,    49,    42,    14,     4,    74,\n",
       "         229,     6,    30,   251,   286,   533,   639,   458,   648,\n",
       "        3822,   303,   254,    36,   101,  1207,    98,   532,    73,\n",
       "         122,    51,   104,   109,  1104,   116,    44,    69,   265,\n",
       "          79,    71,    75,    50,   518,   156,    78,   333,  3425,\n",
       "          26,   928,   399,   920,  1090,    60,   161,   163,   271,\n",
       "         176,    24,    19,    57])"
      ]
     },
     "execution_count": 155,
     "metadata": {},
     "output_type": "execute_result"
    }
   ],
   "source": [
    "df['Low_Broadband_subscription_rates_and_limited_or_no_access'].unique()"
   ]
  },
  {
   "cell_type": "code",
   "execution_count": 156,
   "metadata": {},
   "outputs": [],
   "source": [
    "df2 = df[['Activity_Type_','Immigrants_&_Refugees','Middle-Eastern_and_North_Africans_(MENA)','Homeless_Individuals_and_Families',\\\n",
    "          'Farmworkers', 'Veterans','Latinos', 'Asian-Americans_&_Pacific_Islanders_(AAPI)',\n",
    "       'African_Americans', 'Native_Americans_&_Tribal_Communities',\n",
    "       'Children_Ages_0-5',\n",
    "       'Lesbian,_Gay,_Bisexual,_Transgender,_and_Questioning_(LGBTQ)',\n",
    "       'Limited-English_Proficient_Individuals_and_Families',\n",
    "       'People_with_Disabilities', 'Seniors/Older_Adults',\n",
    "       'Low_Broadband_subscription_rates_and_limited_or_no_access']]"
   ]
  },
  {
   "cell_type": "code",
   "execution_count": 157,
   "metadata": {},
   "outputs": [],
   "source": [
    "activity_type_by_HTC = df2.groupby([\"Activity_Type_\"]).sum()"
   ]
  },
  {
   "cell_type": "code",
   "execution_count": 158,
   "metadata": {},
   "outputs": [],
   "source": [
    "activity_type_by_HTC.loc[\"Total\"] = activity_type_by_HTC.sum()"
   ]
  },
  {
   "cell_type": "code",
   "execution_count": 159,
   "metadata": {},
   "outputs": [
    {
     "data": {
      "text/html": [
       "<div>\n",
       "<style scoped>\n",
       "    .dataframe tbody tr th:only-of-type {\n",
       "        vertical-align: middle;\n",
       "    }\n",
       "\n",
       "    .dataframe tbody tr th {\n",
       "        vertical-align: top;\n",
       "    }\n",
       "\n",
       "    .dataframe thead th {\n",
       "        text-align: right;\n",
       "    }\n",
       "</style>\n",
       "<table border=\"1\" class=\"dataframe\">\n",
       "  <thead>\n",
       "    <tr style=\"text-align: right;\">\n",
       "      <th>Activity_Type_</th>\n",
       "      <th>advertising</th>\n",
       "      <th>alert_sign_up</th>\n",
       "      <th>booths</th>\n",
       "      <th>canvassing</th>\n",
       "      <th>census_action_kiosk</th>\n",
       "      <th>collateral</th>\n",
       "      <th>convening</th>\n",
       "      <th>curriculum</th>\n",
       "      <th>education_forum</th>\n",
       "      <th>email</th>\n",
       "      <th>...</th>\n",
       "      <th>other</th>\n",
       "      <th>phone_banking</th>\n",
       "      <th>pledge_cards</th>\n",
       "      <th>social_media</th>\n",
       "      <th>speaking_engagement</th>\n",
       "      <th>texting_campaign</th>\n",
       "      <th>training_delivery</th>\n",
       "      <th>translation</th>\n",
       "      <th>webinar</th>\n",
       "      <th>Total</th>\n",
       "    </tr>\n",
       "  </thead>\n",
       "  <tbody>\n",
       "    <tr>\n",
       "      <th>Immigrants_&amp;_Refugees</th>\n",
       "      <td>321118.0</td>\n",
       "      <td>8005.0</td>\n",
       "      <td>40458.0</td>\n",
       "      <td>631.0</td>\n",
       "      <td>147.0</td>\n",
       "      <td>83196.0</td>\n",
       "      <td>254.0</td>\n",
       "      <td>0.0</td>\n",
       "      <td>525.0</td>\n",
       "      <td>75.0</td>\n",
       "      <td>...</td>\n",
       "      <td>100070.0</td>\n",
       "      <td>18991.0</td>\n",
       "      <td>526.0</td>\n",
       "      <td>95379.0</td>\n",
       "      <td>5826.0</td>\n",
       "      <td>0.0</td>\n",
       "      <td>146.0</td>\n",
       "      <td>150.0</td>\n",
       "      <td>10529.0</td>\n",
       "      <td>1326767.0</td>\n",
       "    </tr>\n",
       "    <tr>\n",
       "      <th>Middle-Eastern_and_North_Africans_(MENA)</th>\n",
       "      <td>21603.0</td>\n",
       "      <td>5.0</td>\n",
       "      <td>737.0</td>\n",
       "      <td>75.0</td>\n",
       "      <td>68.0</td>\n",
       "      <td>142.0</td>\n",
       "      <td>1.0</td>\n",
       "      <td>0.0</td>\n",
       "      <td>158.0</td>\n",
       "      <td>0.0</td>\n",
       "      <td>...</td>\n",
       "      <td>2430.0</td>\n",
       "      <td>1575.0</td>\n",
       "      <td>0.0</td>\n",
       "      <td>8864.0</td>\n",
       "      <td>355.0</td>\n",
       "      <td>0.0</td>\n",
       "      <td>0.0</td>\n",
       "      <td>150.0</td>\n",
       "      <td>0.0</td>\n",
       "      <td>47663.0</td>\n",
       "    </tr>\n",
       "    <tr>\n",
       "      <th>Homeless_Individuals_and_Families</th>\n",
       "      <td>663.0</td>\n",
       "      <td>90.0</td>\n",
       "      <td>217.0</td>\n",
       "      <td>39.0</td>\n",
       "      <td>0.0</td>\n",
       "      <td>60.0</td>\n",
       "      <td>6.0</td>\n",
       "      <td>0.0</td>\n",
       "      <td>0.0</td>\n",
       "      <td>0.0</td>\n",
       "      <td>...</td>\n",
       "      <td>953.0</td>\n",
       "      <td>0.0</td>\n",
       "      <td>0.0</td>\n",
       "      <td>2297.0</td>\n",
       "      <td>1.0</td>\n",
       "      <td>0.0</td>\n",
       "      <td>2.0</td>\n",
       "      <td>0.0</td>\n",
       "      <td>1.0</td>\n",
       "      <td>12657.0</td>\n",
       "    </tr>\n",
       "    <tr>\n",
       "      <th>Farmworkers</th>\n",
       "      <td>160.0</td>\n",
       "      <td>5.0</td>\n",
       "      <td>871.0</td>\n",
       "      <td>4476.0</td>\n",
       "      <td>0.0</td>\n",
       "      <td>85.0</td>\n",
       "      <td>94.0</td>\n",
       "      <td>0.0</td>\n",
       "      <td>0.0</td>\n",
       "      <td>0.0</td>\n",
       "      <td>...</td>\n",
       "      <td>1.0</td>\n",
       "      <td>324.0</td>\n",
       "      <td>0.0</td>\n",
       "      <td>471.0</td>\n",
       "      <td>224.0</td>\n",
       "      <td>0.0</td>\n",
       "      <td>13.0</td>\n",
       "      <td>0.0</td>\n",
       "      <td>0.0</td>\n",
       "      <td>7678.0</td>\n",
       "    </tr>\n",
       "    <tr>\n",
       "      <th>Veterans</th>\n",
       "      <td>7146.0</td>\n",
       "      <td>15.0</td>\n",
       "      <td>1896.0</td>\n",
       "      <td>0.0</td>\n",
       "      <td>7.0</td>\n",
       "      <td>272.0</td>\n",
       "      <td>11.0</td>\n",
       "      <td>0.0</td>\n",
       "      <td>32.0</td>\n",
       "      <td>0.0</td>\n",
       "      <td>...</td>\n",
       "      <td>550540.0</td>\n",
       "      <td>4.0</td>\n",
       "      <td>0.0</td>\n",
       "      <td>5061.0</td>\n",
       "      <td>127.0</td>\n",
       "      <td>0.0</td>\n",
       "      <td>2.0</td>\n",
       "      <td>0.0</td>\n",
       "      <td>0.0</td>\n",
       "      <td>583106.0</td>\n",
       "    </tr>\n",
       "    <tr>\n",
       "      <th>Latinos</th>\n",
       "      <td>78867.0</td>\n",
       "      <td>7232.0</td>\n",
       "      <td>7197.0</td>\n",
       "      <td>12550.0</td>\n",
       "      <td>539.0</td>\n",
       "      <td>3039.0</td>\n",
       "      <td>492.0</td>\n",
       "      <td>0.0</td>\n",
       "      <td>391.0</td>\n",
       "      <td>3415.0</td>\n",
       "      <td>...</td>\n",
       "      <td>58800.0</td>\n",
       "      <td>8430.0</td>\n",
       "      <td>100.0</td>\n",
       "      <td>114600.0</td>\n",
       "      <td>8452.0</td>\n",
       "      <td>12374.0</td>\n",
       "      <td>423.0</td>\n",
       "      <td>0.0</td>\n",
       "      <td>10660.0</td>\n",
       "      <td>455986.0</td>\n",
       "    </tr>\n",
       "    <tr>\n",
       "      <th>Asian-Americans_&amp;_Pacific_Islanders_(AAPI)</th>\n",
       "      <td>96580.0</td>\n",
       "      <td>6.0</td>\n",
       "      <td>42112.0</td>\n",
       "      <td>26.0</td>\n",
       "      <td>1456.0</td>\n",
       "      <td>106868.0</td>\n",
       "      <td>64.0</td>\n",
       "      <td>0.0</td>\n",
       "      <td>542.0</td>\n",
       "      <td>0.0</td>\n",
       "      <td>...</td>\n",
       "      <td>6952183.0</td>\n",
       "      <td>2034.0</td>\n",
       "      <td>0.0</td>\n",
       "      <td>141246.0</td>\n",
       "      <td>12084.0</td>\n",
       "      <td>0.0</td>\n",
       "      <td>21.0</td>\n",
       "      <td>0.0</td>\n",
       "      <td>1.0</td>\n",
       "      <td>7952318.0</td>\n",
       "    </tr>\n",
       "    <tr>\n",
       "      <th>African_Americans</th>\n",
       "      <td>8324.0</td>\n",
       "      <td>5.0</td>\n",
       "      <td>2320.0</td>\n",
       "      <td>664.0</td>\n",
       "      <td>15.0</td>\n",
       "      <td>179.0</td>\n",
       "      <td>29.0</td>\n",
       "      <td>0.0</td>\n",
       "      <td>83.0</td>\n",
       "      <td>0.0</td>\n",
       "      <td>...</td>\n",
       "      <td>1158.0</td>\n",
       "      <td>886.0</td>\n",
       "      <td>0.0</td>\n",
       "      <td>15368.0</td>\n",
       "      <td>99.0</td>\n",
       "      <td>0.0</td>\n",
       "      <td>1.0</td>\n",
       "      <td>0.0</td>\n",
       "      <td>0.0</td>\n",
       "      <td>38137.0</td>\n",
       "    </tr>\n",
       "    <tr>\n",
       "      <th>Native_Americans_&amp;_Tribal_Communities</th>\n",
       "      <td>1854.0</td>\n",
       "      <td>5.0</td>\n",
       "      <td>325.0</td>\n",
       "      <td>26.0</td>\n",
       "      <td>0.0</td>\n",
       "      <td>60.0</td>\n",
       "      <td>3.0</td>\n",
       "      <td>0.0</td>\n",
       "      <td>4.0</td>\n",
       "      <td>0.0</td>\n",
       "      <td>...</td>\n",
       "      <td>41.0</td>\n",
       "      <td>0.0</td>\n",
       "      <td>0.0</td>\n",
       "      <td>371.0</td>\n",
       "      <td>60.0</td>\n",
       "      <td>0.0</td>\n",
       "      <td>1.0</td>\n",
       "      <td>0.0</td>\n",
       "      <td>0.0</td>\n",
       "      <td>3732.0</td>\n",
       "    </tr>\n",
       "    <tr>\n",
       "      <th>Lesbian,_Gay,_Bisexual,_Transgender,_and_Questioning_(LGBTQ)</th>\n",
       "      <td>10765.0</td>\n",
       "      <td>0.0</td>\n",
       "      <td>738.0</td>\n",
       "      <td>0.0</td>\n",
       "      <td>2.0</td>\n",
       "      <td>58.0</td>\n",
       "      <td>13.0</td>\n",
       "      <td>0.0</td>\n",
       "      <td>28.0</td>\n",
       "      <td>0.0</td>\n",
       "      <td>...</td>\n",
       "      <td>4358.0</td>\n",
       "      <td>308.0</td>\n",
       "      <td>0.0</td>\n",
       "      <td>31379.0</td>\n",
       "      <td>200.0</td>\n",
       "      <td>3709.0</td>\n",
       "      <td>10.0</td>\n",
       "      <td>0.0</td>\n",
       "      <td>0.0</td>\n",
       "      <td>129758.0</td>\n",
       "    </tr>\n",
       "    <tr>\n",
       "      <th>Limited-English_Proficient_Individuals_and_Families</th>\n",
       "      <td>110917.0</td>\n",
       "      <td>7218.0</td>\n",
       "      <td>9599.0</td>\n",
       "      <td>10492.0</td>\n",
       "      <td>147.0</td>\n",
       "      <td>83441.0</td>\n",
       "      <td>232.0</td>\n",
       "      <td>0.0</td>\n",
       "      <td>416.0</td>\n",
       "      <td>40.0</td>\n",
       "      <td>...</td>\n",
       "      <td>70275.0</td>\n",
       "      <td>5337.0</td>\n",
       "      <td>0.0</td>\n",
       "      <td>32590.0</td>\n",
       "      <td>2972.0</td>\n",
       "      <td>0.0</td>\n",
       "      <td>174.0</td>\n",
       "      <td>175.0</td>\n",
       "      <td>10539.0</td>\n",
       "      <td>451585.0</td>\n",
       "    </tr>\n",
       "    <tr>\n",
       "      <th>People_with_Disabilities</th>\n",
       "      <td>311.0</td>\n",
       "      <td>26.0</td>\n",
       "      <td>557.0</td>\n",
       "      <td>20.0</td>\n",
       "      <td>6.0</td>\n",
       "      <td>81.0</td>\n",
       "      <td>9.0</td>\n",
       "      <td>0.0</td>\n",
       "      <td>37.0</td>\n",
       "      <td>0.0</td>\n",
       "      <td>...</td>\n",
       "      <td>625125.0</td>\n",
       "      <td>4.0</td>\n",
       "      <td>0.0</td>\n",
       "      <td>815.0</td>\n",
       "      <td>36.0</td>\n",
       "      <td>0.0</td>\n",
       "      <td>2.0</td>\n",
       "      <td>0.0</td>\n",
       "      <td>0.0</td>\n",
       "      <td>631835.0</td>\n",
       "    </tr>\n",
       "    <tr>\n",
       "      <th>Seniors/Older_Adults</th>\n",
       "      <td>38722.0</td>\n",
       "      <td>187.0</td>\n",
       "      <td>19757.0</td>\n",
       "      <td>817.0</td>\n",
       "      <td>131.0</td>\n",
       "      <td>35908.0</td>\n",
       "      <td>176.0</td>\n",
       "      <td>0.0</td>\n",
       "      <td>247.0</td>\n",
       "      <td>3790.0</td>\n",
       "      <td>...</td>\n",
       "      <td>1045195.0</td>\n",
       "      <td>1882.0</td>\n",
       "      <td>0.0</td>\n",
       "      <td>39063.0</td>\n",
       "      <td>2042.0</td>\n",
       "      <td>0.0</td>\n",
       "      <td>75.0</td>\n",
       "      <td>0.0</td>\n",
       "      <td>0.0</td>\n",
       "      <td>1286251.0</td>\n",
       "    </tr>\n",
       "    <tr>\n",
       "      <th>Low_Broadband_subscription_rates_and_limited_or_no_access</th>\n",
       "      <td>56678.0</td>\n",
       "      <td>0.0</td>\n",
       "      <td>916.0</td>\n",
       "      <td>1292.0</td>\n",
       "      <td>120.0</td>\n",
       "      <td>775.0</td>\n",
       "      <td>37.0</td>\n",
       "      <td>0.0</td>\n",
       "      <td>18.0</td>\n",
       "      <td>0.0</td>\n",
       "      <td>...</td>\n",
       "      <td>12525.0</td>\n",
       "      <td>845.0</td>\n",
       "      <td>0.0</td>\n",
       "      <td>12071.0</td>\n",
       "      <td>267.0</td>\n",
       "      <td>0.0</td>\n",
       "      <td>31.0</td>\n",
       "      <td>0.0</td>\n",
       "      <td>0.0</td>\n",
       "      <td>103874.0</td>\n",
       "    </tr>\n",
       "  </tbody>\n",
       "</table>\n",
       "<p>14 rows × 30 columns</p>\n",
       "</div>"
      ],
      "text/plain": [
       "Activity_Type_                                      advertising  \\\n",
       "Immigrants_&_Refugees                                  321118.0   \n",
       "Middle-Eastern_and_North_Africans_(MENA)                21603.0   \n",
       "Homeless_Individuals_and_Families                         663.0   \n",
       "Farmworkers                                               160.0   \n",
       "Veterans                                                 7146.0   \n",
       "Latinos                                                 78867.0   \n",
       "Asian-Americans_&_Pacific_Islanders_(AAPI)              96580.0   \n",
       "African_Americans                                        8324.0   \n",
       "Native_Americans_&_Tribal_Communities                    1854.0   \n",
       "Lesbian,_Gay,_Bisexual,_Transgender,_and_Questi...      10765.0   \n",
       "Limited-English_Proficient_Individuals_and_Fami...     110917.0   \n",
       "People_with_Disabilities                                  311.0   \n",
       "Seniors/Older_Adults                                    38722.0   \n",
       "Low_Broadband_subscription_rates_and_limited_or...      56678.0   \n",
       "\n",
       "Activity_Type_                                      alert_sign_up   booths  \\\n",
       "Immigrants_&_Refugees                                      8005.0  40458.0   \n",
       "Middle-Eastern_and_North_Africans_(MENA)                      5.0    737.0   \n",
       "Homeless_Individuals_and_Families                            90.0    217.0   \n",
       "Farmworkers                                                   5.0    871.0   \n",
       "Veterans                                                     15.0   1896.0   \n",
       "Latinos                                                    7232.0   7197.0   \n",
       "Asian-Americans_&_Pacific_Islanders_(AAPI)                    6.0  42112.0   \n",
       "African_Americans                                             5.0   2320.0   \n",
       "Native_Americans_&_Tribal_Communities                         5.0    325.0   \n",
       "Lesbian,_Gay,_Bisexual,_Transgender,_and_Questi...            0.0    738.0   \n",
       "Limited-English_Proficient_Individuals_and_Fami...         7218.0   9599.0   \n",
       "People_with_Disabilities                                     26.0    557.0   \n",
       "Seniors/Older_Adults                                        187.0  19757.0   \n",
       "Low_Broadband_subscription_rates_and_limited_or...            0.0    916.0   \n",
       "\n",
       "Activity_Type_                                      canvassing  \\\n",
       "Immigrants_&_Refugees                                    631.0   \n",
       "Middle-Eastern_and_North_Africans_(MENA)                  75.0   \n",
       "Homeless_Individuals_and_Families                         39.0   \n",
       "Farmworkers                                             4476.0   \n",
       "Veterans                                                   0.0   \n",
       "Latinos                                                12550.0   \n",
       "Asian-Americans_&_Pacific_Islanders_(AAPI)                26.0   \n",
       "African_Americans                                        664.0   \n",
       "Native_Americans_&_Tribal_Communities                     26.0   \n",
       "Lesbian,_Gay,_Bisexual,_Transgender,_and_Questi...         0.0   \n",
       "Limited-English_Proficient_Individuals_and_Fami...     10492.0   \n",
       "People_with_Disabilities                                  20.0   \n",
       "Seniors/Older_Adults                                     817.0   \n",
       "Low_Broadband_subscription_rates_and_limited_or...      1292.0   \n",
       "\n",
       "Activity_Type_                                      census_action_kiosk  \\\n",
       "Immigrants_&_Refugees                                             147.0   \n",
       "Middle-Eastern_and_North_Africans_(MENA)                           68.0   \n",
       "Homeless_Individuals_and_Families                                   0.0   \n",
       "Farmworkers                                                         0.0   \n",
       "Veterans                                                            7.0   \n",
       "Latinos                                                           539.0   \n",
       "Asian-Americans_&_Pacific_Islanders_(AAPI)                       1456.0   \n",
       "African_Americans                                                  15.0   \n",
       "Native_Americans_&_Tribal_Communities                               0.0   \n",
       "Lesbian,_Gay,_Bisexual,_Transgender,_and_Questi...                  2.0   \n",
       "Limited-English_Proficient_Individuals_and_Fami...                147.0   \n",
       "People_with_Disabilities                                            6.0   \n",
       "Seniors/Older_Adults                                              131.0   \n",
       "Low_Broadband_subscription_rates_and_limited_or...                120.0   \n",
       "\n",
       "Activity_Type_                                      collateral  convening  \\\n",
       "Immigrants_&_Refugees                                  83196.0      254.0   \n",
       "Middle-Eastern_and_North_Africans_(MENA)                 142.0        1.0   \n",
       "Homeless_Individuals_and_Families                         60.0        6.0   \n",
       "Farmworkers                                               85.0       94.0   \n",
       "Veterans                                                 272.0       11.0   \n",
       "Latinos                                                 3039.0      492.0   \n",
       "Asian-Americans_&_Pacific_Islanders_(AAPI)            106868.0       64.0   \n",
       "African_Americans                                        179.0       29.0   \n",
       "Native_Americans_&_Tribal_Communities                     60.0        3.0   \n",
       "Lesbian,_Gay,_Bisexual,_Transgender,_and_Questi...        58.0       13.0   \n",
       "Limited-English_Proficient_Individuals_and_Fami...     83441.0      232.0   \n",
       "People_with_Disabilities                                  81.0        9.0   \n",
       "Seniors/Older_Adults                                   35908.0      176.0   \n",
       "Low_Broadband_subscription_rates_and_limited_or...       775.0       37.0   \n",
       "\n",
       "Activity_Type_                                      curriculum  \\\n",
       "Immigrants_&_Refugees                                      0.0   \n",
       "Middle-Eastern_and_North_Africans_(MENA)                   0.0   \n",
       "Homeless_Individuals_and_Families                          0.0   \n",
       "Farmworkers                                                0.0   \n",
       "Veterans                                                   0.0   \n",
       "Latinos                                                    0.0   \n",
       "Asian-Americans_&_Pacific_Islanders_(AAPI)                 0.0   \n",
       "African_Americans                                          0.0   \n",
       "Native_Americans_&_Tribal_Communities                      0.0   \n",
       "Lesbian,_Gay,_Bisexual,_Transgender,_and_Questi...         0.0   \n",
       "Limited-English_Proficient_Individuals_and_Fami...         0.0   \n",
       "People_with_Disabilities                                   0.0   \n",
       "Seniors/Older_Adults                                       0.0   \n",
       "Low_Broadband_subscription_rates_and_limited_or...         0.0   \n",
       "\n",
       "Activity_Type_                                      education_forum   email  \\\n",
       "Immigrants_&_Refugees                                         525.0    75.0   \n",
       "Middle-Eastern_and_North_Africans_(MENA)                      158.0     0.0   \n",
       "Homeless_Individuals_and_Families                               0.0     0.0   \n",
       "Farmworkers                                                     0.0     0.0   \n",
       "Veterans                                                       32.0     0.0   \n",
       "Latinos                                                       391.0  3415.0   \n",
       "Asian-Americans_&_Pacific_Islanders_(AAPI)                    542.0     0.0   \n",
       "African_Americans                                              83.0     0.0   \n",
       "Native_Americans_&_Tribal_Communities                           4.0     0.0   \n",
       "Lesbian,_Gay,_Bisexual,_Transgender,_and_Questi...             28.0     0.0   \n",
       "Limited-English_Proficient_Individuals_and_Fami...            416.0    40.0   \n",
       "People_with_Disabilities                                       37.0     0.0   \n",
       "Seniors/Older_Adults                                          247.0  3790.0   \n",
       "Low_Broadband_subscription_rates_and_limited_or...             18.0     0.0   \n",
       "\n",
       "Activity_Type_                                      ...      other  \\\n",
       "Immigrants_&_Refugees                               ...   100070.0   \n",
       "Middle-Eastern_and_North_Africans_(MENA)            ...     2430.0   \n",
       "Homeless_Individuals_and_Families                   ...      953.0   \n",
       "Farmworkers                                         ...        1.0   \n",
       "Veterans                                            ...   550540.0   \n",
       "Latinos                                             ...    58800.0   \n",
       "Asian-Americans_&_Pacific_Islanders_(AAPI)          ...  6952183.0   \n",
       "African_Americans                                   ...     1158.0   \n",
       "Native_Americans_&_Tribal_Communities               ...       41.0   \n",
       "Lesbian,_Gay,_Bisexual,_Transgender,_and_Questi...  ...     4358.0   \n",
       "Limited-English_Proficient_Individuals_and_Fami...  ...    70275.0   \n",
       "People_with_Disabilities                            ...   625125.0   \n",
       "Seniors/Older_Adults                                ...  1045195.0   \n",
       "Low_Broadband_subscription_rates_and_limited_or...  ...    12525.0   \n",
       "\n",
       "Activity_Type_                                      phone_banking  \\\n",
       "Immigrants_&_Refugees                                     18991.0   \n",
       "Middle-Eastern_and_North_Africans_(MENA)                   1575.0   \n",
       "Homeless_Individuals_and_Families                             0.0   \n",
       "Farmworkers                                                 324.0   \n",
       "Veterans                                                      4.0   \n",
       "Latinos                                                    8430.0   \n",
       "Asian-Americans_&_Pacific_Islanders_(AAPI)                 2034.0   \n",
       "African_Americans                                           886.0   \n",
       "Native_Americans_&_Tribal_Communities                         0.0   \n",
       "Lesbian,_Gay,_Bisexual,_Transgender,_and_Questi...          308.0   \n",
       "Limited-English_Proficient_Individuals_and_Fami...         5337.0   \n",
       "People_with_Disabilities                                      4.0   \n",
       "Seniors/Older_Adults                                       1882.0   \n",
       "Low_Broadband_subscription_rates_and_limited_or...          845.0   \n",
       "\n",
       "Activity_Type_                                      pledge_cards  \\\n",
       "Immigrants_&_Refugees                                      526.0   \n",
       "Middle-Eastern_and_North_Africans_(MENA)                     0.0   \n",
       "Homeless_Individuals_and_Families                            0.0   \n",
       "Farmworkers                                                  0.0   \n",
       "Veterans                                                     0.0   \n",
       "Latinos                                                    100.0   \n",
       "Asian-Americans_&_Pacific_Islanders_(AAPI)                   0.0   \n",
       "African_Americans                                            0.0   \n",
       "Native_Americans_&_Tribal_Communities                        0.0   \n",
       "Lesbian,_Gay,_Bisexual,_Transgender,_and_Questi...           0.0   \n",
       "Limited-English_Proficient_Individuals_and_Fami...           0.0   \n",
       "People_with_Disabilities                                     0.0   \n",
       "Seniors/Older_Adults                                         0.0   \n",
       "Low_Broadband_subscription_rates_and_limited_or...           0.0   \n",
       "\n",
       "Activity_Type_                                      social_media  \\\n",
       "Immigrants_&_Refugees                                    95379.0   \n",
       "Middle-Eastern_and_North_Africans_(MENA)                  8864.0   \n",
       "Homeless_Individuals_and_Families                         2297.0   \n",
       "Farmworkers                                                471.0   \n",
       "Veterans                                                  5061.0   \n",
       "Latinos                                                 114600.0   \n",
       "Asian-Americans_&_Pacific_Islanders_(AAPI)              141246.0   \n",
       "African_Americans                                        15368.0   \n",
       "Native_Americans_&_Tribal_Communities                      371.0   \n",
       "Lesbian,_Gay,_Bisexual,_Transgender,_and_Questi...       31379.0   \n",
       "Limited-English_Proficient_Individuals_and_Fami...       32590.0   \n",
       "People_with_Disabilities                                   815.0   \n",
       "Seniors/Older_Adults                                     39063.0   \n",
       "Low_Broadband_subscription_rates_and_limited_or...       12071.0   \n",
       "\n",
       "Activity_Type_                                      speaking_engagement  \\\n",
       "Immigrants_&_Refugees                                            5826.0   \n",
       "Middle-Eastern_and_North_Africans_(MENA)                          355.0   \n",
       "Homeless_Individuals_and_Families                                   1.0   \n",
       "Farmworkers                                                       224.0   \n",
       "Veterans                                                          127.0   \n",
       "Latinos                                                          8452.0   \n",
       "Asian-Americans_&_Pacific_Islanders_(AAPI)                      12084.0   \n",
       "African_Americans                                                  99.0   \n",
       "Native_Americans_&_Tribal_Communities                              60.0   \n",
       "Lesbian,_Gay,_Bisexual,_Transgender,_and_Questi...                200.0   \n",
       "Limited-English_Proficient_Individuals_and_Fami...               2972.0   \n",
       "People_with_Disabilities                                           36.0   \n",
       "Seniors/Older_Adults                                             2042.0   \n",
       "Low_Broadband_subscription_rates_and_limited_or...                267.0   \n",
       "\n",
       "Activity_Type_                                      texting_campaign  \\\n",
       "Immigrants_&_Refugees                                            0.0   \n",
       "Middle-Eastern_and_North_Africans_(MENA)                         0.0   \n",
       "Homeless_Individuals_and_Families                                0.0   \n",
       "Farmworkers                                                      0.0   \n",
       "Veterans                                                         0.0   \n",
       "Latinos                                                      12374.0   \n",
       "Asian-Americans_&_Pacific_Islanders_(AAPI)                       0.0   \n",
       "African_Americans                                                0.0   \n",
       "Native_Americans_&_Tribal_Communities                            0.0   \n",
       "Lesbian,_Gay,_Bisexual,_Transgender,_and_Questi...            3709.0   \n",
       "Limited-English_Proficient_Individuals_and_Fami...               0.0   \n",
       "People_with_Disabilities                                         0.0   \n",
       "Seniors/Older_Adults                                             0.0   \n",
       "Low_Broadband_subscription_rates_and_limited_or...               0.0   \n",
       "\n",
       "Activity_Type_                                      training_delivery  \\\n",
       "Immigrants_&_Refugees                                           146.0   \n",
       "Middle-Eastern_and_North_Africans_(MENA)                          0.0   \n",
       "Homeless_Individuals_and_Families                                 2.0   \n",
       "Farmworkers                                                      13.0   \n",
       "Veterans                                                          2.0   \n",
       "Latinos                                                         423.0   \n",
       "Asian-Americans_&_Pacific_Islanders_(AAPI)                       21.0   \n",
       "African_Americans                                                 1.0   \n",
       "Native_Americans_&_Tribal_Communities                             1.0   \n",
       "Lesbian,_Gay,_Bisexual,_Transgender,_and_Questi...               10.0   \n",
       "Limited-English_Proficient_Individuals_and_Fami...              174.0   \n",
       "People_with_Disabilities                                          2.0   \n",
       "Seniors/Older_Adults                                             75.0   \n",
       "Low_Broadband_subscription_rates_and_limited_or...               31.0   \n",
       "\n",
       "Activity_Type_                                      translation  webinar  \\\n",
       "Immigrants_&_Refugees                                     150.0  10529.0   \n",
       "Middle-Eastern_and_North_Africans_(MENA)                  150.0      0.0   \n",
       "Homeless_Individuals_and_Families                           0.0      1.0   \n",
       "Farmworkers                                                 0.0      0.0   \n",
       "Veterans                                                    0.0      0.0   \n",
       "Latinos                                                     0.0  10660.0   \n",
       "Asian-Americans_&_Pacific_Islanders_(AAPI)                  0.0      1.0   \n",
       "African_Americans                                           0.0      0.0   \n",
       "Native_Americans_&_Tribal_Communities                       0.0      0.0   \n",
       "Lesbian,_Gay,_Bisexual,_Transgender,_and_Questi...          0.0      0.0   \n",
       "Limited-English_Proficient_Individuals_and_Fami...        175.0  10539.0   \n",
       "People_with_Disabilities                                    0.0      0.0   \n",
       "Seniors/Older_Adults                                        0.0      0.0   \n",
       "Low_Broadband_subscription_rates_and_limited_or...          0.0      0.0   \n",
       "\n",
       "Activity_Type_                                          Total  \n",
       "Immigrants_&_Refugees                               1326767.0  \n",
       "Middle-Eastern_and_North_Africans_(MENA)              47663.0  \n",
       "Homeless_Individuals_and_Families                     12657.0  \n",
       "Farmworkers                                            7678.0  \n",
       "Veterans                                             583106.0  \n",
       "Latinos                                              455986.0  \n",
       "Asian-Americans_&_Pacific_Islanders_(AAPI)          7952318.0  \n",
       "African_Americans                                     38137.0  \n",
       "Native_Americans_&_Tribal_Communities                  3732.0  \n",
       "Lesbian,_Gay,_Bisexual,_Transgender,_and_Questi...   129758.0  \n",
       "Limited-English_Proficient_Individuals_and_Fami...   451585.0  \n",
       "People_with_Disabilities                             631835.0  \n",
       "Seniors/Older_Adults                                1286251.0  \n",
       "Low_Broadband_subscription_rates_and_limited_or...   103874.0  \n",
       "\n",
       "[14 rows x 30 columns]"
      ]
     },
     "execution_count": 159,
     "metadata": {},
     "output_type": "execute_result"
    }
   ],
   "source": [
    "activity_type_by_HTC.T"
   ]
  },
  {
   "cell_type": "code",
   "execution_count": 160,
   "metadata": {},
   "outputs": [],
   "source": [
    "activity_type_by_HTC.to_csv(python_out + '\\\\'+ 'impressions_by_HTC.csv')"
   ]
  },
  {
   "cell_type": "markdown",
   "metadata": {},
   "source": [
    "## Spanish to numeric"
   ]
  },
  {
   "cell_type": "code",
   "execution_count": 161,
   "metadata": {},
   "outputs": [
    {
     "data": {
      "text/plain": [
       "array([10.0, nan, 15.0, 5.0, 12.0, 0.0, 25.0, 1.0, 20, ' ', 1000.0, 50,\n",
       "       30, 55.0, 21.0, 3.0, 4.0, 2.0, 1050, 300, 600, 150, 7500.0, 3500.0,\n",
       "       9.0, 46.0, 191.0, 12000.0, 290, 1720, 200, 8, 72, 141, 5000.0,\n",
       "       80.0, 75.0, 368.0, 73.0, 145.0, 327.0, 18.0, 71000.0, 100.0, 85.0,\n",
       "       65.0, 10000, 205.0, 59.0, 33000.0, 26100.0, 860.0, 125.0, 213.0,\n",
       "       40.0, 32.0, 81.0, 30000.0, 3000.0, 3349.0, 2800.0, 95.0, 270.0,\n",
       "       180.0, 195.0, 198.0, 5140.0, 1721.0, 797.0, 173.0, 61.0, 27.0,\n",
       "       53.0, 335.0, 108.0, 118.0, 293.0, 60.0, 22.0, 45.0, 7000.0, 98.0,\n",
       "       294.0, 647.0, 170.0, 159.0, 348.0, 385.0, 44.0, 632.0, 90.0,\n",
       "       4664.0, 204.0, 252.0, 473.0, 768.0, 52.0, 1072.0, 260.0, 638.0,\n",
       "       5845.0, 282.0, 650.0, 700.0, 79.0, 129.0, 382.0, 31.0, 92.0, 13.0,\n",
       "       48.0, 35.0, 11.0, 14.0, 24.0, 151.0, 16.0, 7.0, 29.0, 76],\n",
       "      dtype=object)"
      ]
     },
     "execution_count": 161,
     "metadata": {},
     "output_type": "execute_result"
    }
   ],
   "source": [
    "df['Spanish_original'] = df.Spanish\n",
    "df['Spanish'] = pd.to_numeric(df.Spanish_original.astype(str).str.replace(',',''), errors='coerce')\\\n",
    "              .fillna(0).astype(int)\n",
    "df.Spanish_original.unique()"
   ]
  },
  {
   "cell_type": "code",
   "execution_count": 162,
   "metadata": {},
   "outputs": [
    {
     "data": {
      "text/plain": [
       "array([   10,     0,    15,     5,    12,    25,     1,    20,  1000,\n",
       "          50,    30,    55,    21,     3,     4,     2,  1050,   300,\n",
       "         600,   150,  7500,  3500,     9,    46,   191, 12000,   290,\n",
       "        1720,   200,     8,    72,   141,  5000,    80,    75,   368,\n",
       "          73,   145,   327,    18, 71000,   100,    85,    65, 10000,\n",
       "         205,    59, 33000, 26100,   860,   125,   213,    40,    32,\n",
       "          81, 30000,  3000,  3349,  2800,    95,   270,   180,   195,\n",
       "         198,  5140,  1721,   797,   173,    61,    27,    53,   335,\n",
       "         108,   118,   293,    60,    22,    45,  7000,    98,   294,\n",
       "         647,   170,   159,   348,   385,    44,   632,    90,  4664,\n",
       "         204,   252,   473,   768,    52,  1072,   260,   638,  5845,\n",
       "         282,   650,   700,    79,   129,   382,    31,    92,    13,\n",
       "          48,    35,    11,    14,    24,   151,    16,     7,    29,\n",
       "          76])"
      ]
     },
     "execution_count": 162,
     "metadata": {},
     "output_type": "execute_result"
    }
   ],
   "source": [
    "df.Spanish.unique()"
   ]
  },
  {
   "cell_type": "markdown",
   "metadata": {},
   "source": [
    "## Other Languages to numeric"
   ]
  },
  {
   "cell_type": "code",
   "execution_count": 163,
   "metadata": {},
   "outputs": [
    {
     "data": {
      "text/plain": [
       "array([nan, 'Spanish', 200.0, 0, 'English', '7500 (English)',\n",
       "       '6,000 (English)', 1.0,\n",
       "       'All the community members spoke kiSwahili and we had interpreter provided.',\n",
       "       'Training was conducted in English and Spanish.', 'Somali'],\n",
       "      dtype=object)"
      ]
     },
     "execution_count": 163,
     "metadata": {},
     "output_type": "execute_result"
    }
   ],
   "source": [
    "df['Other_Language(s)_original'] = df['Other_Language(s)']\n",
    "df['Other_Language(s)'] = pd.to_numeric(df['Other_Language(s)_original'].astype(str).str.replace(',',''), errors='coerce')\\\n",
    "              .fillna(0).astype(int)\n",
    "df['Other_Language(s)_original'].unique()"
   ]
  },
  {
   "cell_type": "code",
   "execution_count": 164,
   "metadata": {},
   "outputs": [
    {
     "data": {
      "text/plain": [
       "array([  0, 200,   1])"
      ]
     },
     "execution_count": 164,
     "metadata": {},
     "output_type": "execute_result"
    }
   ],
   "source": [
    "df['Other_Language(s)'].unique()"
   ]
  },
  {
   "cell_type": "code",
   "execution_count": 165,
   "metadata": {},
   "outputs": [],
   "source": [
    "df3 = df[['Activity_Type_','Arabic',\n",
    " 'Armenian',\n",
    " 'Assyrian_Neo-Aramaic',\n",
    " 'Cantonese',\n",
    " 'Chaldean_Neo-Aramaic',\n",
    " 'Chinese',\n",
    " 'Farsi',\n",
    " 'Filipino',\n",
    " 'Hindi',\n",
    " 'Hmong',\n",
    " 'lu_Mien',\n",
    " 'Japanese',\n",
    " 'Khmer',\n",
    " 'Korean',\n",
    " 'Mandarin',\n",
    " 'Min_Nan_Chinese',\n",
    " 'Portuguese',\n",
    " 'Punjabi',\n",
    " 'Russian',\n",
    " 'Spanish',\n",
    " 'Tagalog',\n",
    " 'Telegu',\n",
    " 'Thai',\n",
    " 'Ukrainian',\n",
    " 'Vietnamese',\n",
    " 'Other_Language(s)']].copy()"
   ]
  },
  {
   "cell_type": "code",
   "execution_count": 166,
   "metadata": {},
   "outputs": [],
   "source": [
    "activity_type_by_languages = df3.groupby([\"Activity_Type_\"]).sum()\n",
    "activity_type_by_languages.loc[\"Total\"] = activity_type_by_languages.sum()"
   ]
  },
  {
   "cell_type": "code",
   "execution_count": 167,
   "metadata": {
    "scrolled": true
   },
   "outputs": [
    {
     "data": {
      "text/html": [
       "<div>\n",
       "<style scoped>\n",
       "    .dataframe tbody tr th:only-of-type {\n",
       "        vertical-align: middle;\n",
       "    }\n",
       "\n",
       "    .dataframe tbody tr th {\n",
       "        vertical-align: top;\n",
       "    }\n",
       "\n",
       "    .dataframe thead th {\n",
       "        text-align: right;\n",
       "    }\n",
       "</style>\n",
       "<table border=\"1\" class=\"dataframe\">\n",
       "  <thead>\n",
       "    <tr style=\"text-align: right;\">\n",
       "      <th>Activity_Type_</th>\n",
       "      <th>advertising</th>\n",
       "      <th>alert_sign_up</th>\n",
       "      <th>booths</th>\n",
       "      <th>canvassing</th>\n",
       "      <th>census_action_kiosk</th>\n",
       "      <th>collateral</th>\n",
       "      <th>convening</th>\n",
       "      <th>curriculum</th>\n",
       "      <th>education_forum</th>\n",
       "      <th>email</th>\n",
       "      <th>...</th>\n",
       "      <th>other</th>\n",
       "      <th>phone_banking</th>\n",
       "      <th>pledge_cards</th>\n",
       "      <th>social_media</th>\n",
       "      <th>speaking_engagement</th>\n",
       "      <th>texting_campaign</th>\n",
       "      <th>training_delivery</th>\n",
       "      <th>translation</th>\n",
       "      <th>webinar</th>\n",
       "      <th>Total</th>\n",
       "    </tr>\n",
       "  </thead>\n",
       "  <tbody>\n",
       "    <tr>\n",
       "      <th>Arabic</th>\n",
       "      <td>0.0</td>\n",
       "      <td>0.0</td>\n",
       "      <td>10.0</td>\n",
       "      <td>0.0</td>\n",
       "      <td>55.0</td>\n",
       "      <td>26100.0</td>\n",
       "      <td>0.0</td>\n",
       "      <td>0.0</td>\n",
       "      <td>0.0</td>\n",
       "      <td>15.0</td>\n",
       "      <td>...</td>\n",
       "      <td>1626.0</td>\n",
       "      <td>0.0</td>\n",
       "      <td>0.0</td>\n",
       "      <td>0.0</td>\n",
       "      <td>274.0</td>\n",
       "      <td>0.0</td>\n",
       "      <td>0.0</td>\n",
       "      <td>0.0</td>\n",
       "      <td>0.0</td>\n",
       "      <td>32752.0</td>\n",
       "    </tr>\n",
       "    <tr>\n",
       "      <th>Armenian</th>\n",
       "      <td>0.0</td>\n",
       "      <td>0.0</td>\n",
       "      <td>0.0</td>\n",
       "      <td>0.0</td>\n",
       "      <td>0.0</td>\n",
       "      <td>0.0</td>\n",
       "      <td>0.0</td>\n",
       "      <td>0.0</td>\n",
       "      <td>0.0</td>\n",
       "      <td>0.0</td>\n",
       "      <td>...</td>\n",
       "      <td>0.0</td>\n",
       "      <td>0.0</td>\n",
       "      <td>0.0</td>\n",
       "      <td>0.0</td>\n",
       "      <td>0.0</td>\n",
       "      <td>0.0</td>\n",
       "      <td>0.0</td>\n",
       "      <td>0.0</td>\n",
       "      <td>0.0</td>\n",
       "      <td>1.0</td>\n",
       "    </tr>\n",
       "    <tr>\n",
       "      <th>Assyrian_Neo-Aramaic</th>\n",
       "      <td>0.0</td>\n",
       "      <td>0.0</td>\n",
       "      <td>0.0</td>\n",
       "      <td>0.0</td>\n",
       "      <td>0.0</td>\n",
       "      <td>0.0</td>\n",
       "      <td>0.0</td>\n",
       "      <td>0.0</td>\n",
       "      <td>0.0</td>\n",
       "      <td>0.0</td>\n",
       "      <td>...</td>\n",
       "      <td>0.0</td>\n",
       "      <td>0.0</td>\n",
       "      <td>0.0</td>\n",
       "      <td>0.0</td>\n",
       "      <td>0.0</td>\n",
       "      <td>0.0</td>\n",
       "      <td>0.0</td>\n",
       "      <td>0.0</td>\n",
       "      <td>0.0</td>\n",
       "      <td>0.0</td>\n",
       "    </tr>\n",
       "    <tr>\n",
       "      <th>Cantonese</th>\n",
       "      <td>0.0</td>\n",
       "      <td>0.0</td>\n",
       "      <td>5.0</td>\n",
       "      <td>0.0</td>\n",
       "      <td>27.0</td>\n",
       "      <td>0.0</td>\n",
       "      <td>0.0</td>\n",
       "      <td>0.0</td>\n",
       "      <td>0.0</td>\n",
       "      <td>0.0</td>\n",
       "      <td>...</td>\n",
       "      <td>811.0</td>\n",
       "      <td>0.0</td>\n",
       "      <td>0.0</td>\n",
       "      <td>0.0</td>\n",
       "      <td>137.0</td>\n",
       "      <td>0.0</td>\n",
       "      <td>0.0</td>\n",
       "      <td>0.0</td>\n",
       "      <td>0.0</td>\n",
       "      <td>1816.0</td>\n",
       "    </tr>\n",
       "    <tr>\n",
       "      <th>Chaldean_Neo-Aramaic</th>\n",
       "      <td>0.0</td>\n",
       "      <td>0.0</td>\n",
       "      <td>0.0</td>\n",
       "      <td>0.0</td>\n",
       "      <td>0.0</td>\n",
       "      <td>0.0</td>\n",
       "      <td>0.0</td>\n",
       "      <td>0.0</td>\n",
       "      <td>0.0</td>\n",
       "      <td>0.0</td>\n",
       "      <td>...</td>\n",
       "      <td>0.0</td>\n",
       "      <td>0.0</td>\n",
       "      <td>0.0</td>\n",
       "      <td>0.0</td>\n",
       "      <td>0.0</td>\n",
       "      <td>0.0</td>\n",
       "      <td>0.0</td>\n",
       "      <td>0.0</td>\n",
       "      <td>0.0</td>\n",
       "      <td>0.0</td>\n",
       "    </tr>\n",
       "    <tr>\n",
       "      <th>Chinese</th>\n",
       "      <td>0.0</td>\n",
       "      <td>0.0</td>\n",
       "      <td>50.0</td>\n",
       "      <td>0.0</td>\n",
       "      <td>274.0</td>\n",
       "      <td>0.0</td>\n",
       "      <td>1.0</td>\n",
       "      <td>0.0</td>\n",
       "      <td>0.0</td>\n",
       "      <td>0.0</td>\n",
       "      <td>...</td>\n",
       "      <td>8100.0</td>\n",
       "      <td>0.0</td>\n",
       "      <td>0.0</td>\n",
       "      <td>0.0</td>\n",
       "      <td>1370.0</td>\n",
       "      <td>0.0</td>\n",
       "      <td>0.0</td>\n",
       "      <td>0.0</td>\n",
       "      <td>0.0</td>\n",
       "      <td>18150.0</td>\n",
       "    </tr>\n",
       "    <tr>\n",
       "      <th>Farsi</th>\n",
       "      <td>0.0</td>\n",
       "      <td>0.0</td>\n",
       "      <td>20.0</td>\n",
       "      <td>0.0</td>\n",
       "      <td>14.0</td>\n",
       "      <td>0.0</td>\n",
       "      <td>1.0</td>\n",
       "      <td>0.0</td>\n",
       "      <td>0.0</td>\n",
       "      <td>0.0</td>\n",
       "      <td>...</td>\n",
       "      <td>402.0</td>\n",
       "      <td>0.0</td>\n",
       "      <td>0.0</td>\n",
       "      <td>0.0</td>\n",
       "      <td>68.0</td>\n",
       "      <td>0.0</td>\n",
       "      <td>0.0</td>\n",
       "      <td>0.0</td>\n",
       "      <td>0.0</td>\n",
       "      <td>921.0</td>\n",
       "    </tr>\n",
       "    <tr>\n",
       "      <th>Filipino</th>\n",
       "      <td>0.0</td>\n",
       "      <td>0.0</td>\n",
       "      <td>100.0</td>\n",
       "      <td>0.0</td>\n",
       "      <td>0.0</td>\n",
       "      <td>0.0</td>\n",
       "      <td>1.0</td>\n",
       "      <td>0.0</td>\n",
       "      <td>0.0</td>\n",
       "      <td>0.0</td>\n",
       "      <td>...</td>\n",
       "      <td>0.0</td>\n",
       "      <td>0.0</td>\n",
       "      <td>0.0</td>\n",
       "      <td>0.0</td>\n",
       "      <td>0.0</td>\n",
       "      <td>0.0</td>\n",
       "      <td>0.0</td>\n",
       "      <td>0.0</td>\n",
       "      <td>0.0</td>\n",
       "      <td>102.0</td>\n",
       "    </tr>\n",
       "    <tr>\n",
       "      <th>Hindi</th>\n",
       "      <td>0.0</td>\n",
       "      <td>0.0</td>\n",
       "      <td>5.0</td>\n",
       "      <td>0.0</td>\n",
       "      <td>0.0</td>\n",
       "      <td>0.0</td>\n",
       "      <td>0.0</td>\n",
       "      <td>0.0</td>\n",
       "      <td>0.0</td>\n",
       "      <td>0.0</td>\n",
       "      <td>...</td>\n",
       "      <td>0.0</td>\n",
       "      <td>0.0</td>\n",
       "      <td>0.0</td>\n",
       "      <td>0.0</td>\n",
       "      <td>0.0</td>\n",
       "      <td>0.0</td>\n",
       "      <td>0.0</td>\n",
       "      <td>0.0</td>\n",
       "      <td>0.0</td>\n",
       "      <td>5.0</td>\n",
       "    </tr>\n",
       "    <tr>\n",
       "      <th>Hmong</th>\n",
       "      <td>0.0</td>\n",
       "      <td>0.0</td>\n",
       "      <td>5.0</td>\n",
       "      <td>0.0</td>\n",
       "      <td>5.0</td>\n",
       "      <td>0.0</td>\n",
       "      <td>0.0</td>\n",
       "      <td>0.0</td>\n",
       "      <td>0.0</td>\n",
       "      <td>0.0</td>\n",
       "      <td>...</td>\n",
       "      <td>161.0</td>\n",
       "      <td>0.0</td>\n",
       "      <td>0.0</td>\n",
       "      <td>0.0</td>\n",
       "      <td>27.0</td>\n",
       "      <td>0.0</td>\n",
       "      <td>0.0</td>\n",
       "      <td>0.0</td>\n",
       "      <td>0.0</td>\n",
       "      <td>364.0</td>\n",
       "    </tr>\n",
       "    <tr>\n",
       "      <th>lu_Mien</th>\n",
       "      <td>0.0</td>\n",
       "      <td>0.0</td>\n",
       "      <td>0.0</td>\n",
       "      <td>0.0</td>\n",
       "      <td>0.0</td>\n",
       "      <td>0.0</td>\n",
       "      <td>0.0</td>\n",
       "      <td>0.0</td>\n",
       "      <td>0.0</td>\n",
       "      <td>0.0</td>\n",
       "      <td>...</td>\n",
       "      <td>0.0</td>\n",
       "      <td>0.0</td>\n",
       "      <td>0.0</td>\n",
       "      <td>0.0</td>\n",
       "      <td>0.0</td>\n",
       "      <td>0.0</td>\n",
       "      <td>0.0</td>\n",
       "      <td>0.0</td>\n",
       "      <td>0.0</td>\n",
       "      <td>0.0</td>\n",
       "    </tr>\n",
       "    <tr>\n",
       "      <th>Japanese</th>\n",
       "      <td>0.0</td>\n",
       "      <td>0.0</td>\n",
       "      <td>40.0</td>\n",
       "      <td>0.0</td>\n",
       "      <td>0.0</td>\n",
       "      <td>0.0</td>\n",
       "      <td>0.0</td>\n",
       "      <td>0.0</td>\n",
       "      <td>0.0</td>\n",
       "      <td>0.0</td>\n",
       "      <td>...</td>\n",
       "      <td>0.0</td>\n",
       "      <td>0.0</td>\n",
       "      <td>0.0</td>\n",
       "      <td>0.0</td>\n",
       "      <td>0.0</td>\n",
       "      <td>0.0</td>\n",
       "      <td>0.0</td>\n",
       "      <td>0.0</td>\n",
       "      <td>0.0</td>\n",
       "      <td>40.0</td>\n",
       "    </tr>\n",
       "    <tr>\n",
       "      <th>Khmer</th>\n",
       "      <td>0.0</td>\n",
       "      <td>0.0</td>\n",
       "      <td>0.0</td>\n",
       "      <td>0.0</td>\n",
       "      <td>0.0</td>\n",
       "      <td>0.0</td>\n",
       "      <td>0.0</td>\n",
       "      <td>0.0</td>\n",
       "      <td>0.0</td>\n",
       "      <td>0.0</td>\n",
       "      <td>...</td>\n",
       "      <td>0.0</td>\n",
       "      <td>0.0</td>\n",
       "      <td>0.0</td>\n",
       "      <td>0.0</td>\n",
       "      <td>0.0</td>\n",
       "      <td>0.0</td>\n",
       "      <td>0.0</td>\n",
       "      <td>0.0</td>\n",
       "      <td>0.0</td>\n",
       "      <td>0.0</td>\n",
       "    </tr>\n",
       "    <tr>\n",
       "      <th>Korean</th>\n",
       "      <td>0.0</td>\n",
       "      <td>0.0</td>\n",
       "      <td>20.0</td>\n",
       "      <td>0.0</td>\n",
       "      <td>0.0</td>\n",
       "      <td>0.0</td>\n",
       "      <td>0.0</td>\n",
       "      <td>0.0</td>\n",
       "      <td>0.0</td>\n",
       "      <td>0.0</td>\n",
       "      <td>...</td>\n",
       "      <td>0.0</td>\n",
       "      <td>0.0</td>\n",
       "      <td>0.0</td>\n",
       "      <td>0.0</td>\n",
       "      <td>0.0</td>\n",
       "      <td>0.0</td>\n",
       "      <td>0.0</td>\n",
       "      <td>0.0</td>\n",
       "      <td>0.0</td>\n",
       "      <td>20.0</td>\n",
       "    </tr>\n",
       "    <tr>\n",
       "      <th>Mandarin</th>\n",
       "      <td>0.0</td>\n",
       "      <td>0.0</td>\n",
       "      <td>10.0</td>\n",
       "      <td>0.0</td>\n",
       "      <td>274.0</td>\n",
       "      <td>130100.0</td>\n",
       "      <td>0.0</td>\n",
       "      <td>0.0</td>\n",
       "      <td>0.0</td>\n",
       "      <td>0.0</td>\n",
       "      <td>...</td>\n",
       "      <td>8100.0</td>\n",
       "      <td>0.0</td>\n",
       "      <td>0.0</td>\n",
       "      <td>0.0</td>\n",
       "      <td>1375.0</td>\n",
       "      <td>0.0</td>\n",
       "      <td>0.0</td>\n",
       "      <td>0.0</td>\n",
       "      <td>0.0</td>\n",
       "      <td>148219.0</td>\n",
       "    </tr>\n",
       "    <tr>\n",
       "      <th>Min_Nan_Chinese</th>\n",
       "      <td>0.0</td>\n",
       "      <td>0.0</td>\n",
       "      <td>0.0</td>\n",
       "      <td>0.0</td>\n",
       "      <td>0.0</td>\n",
       "      <td>0.0</td>\n",
       "      <td>0.0</td>\n",
       "      <td>0.0</td>\n",
       "      <td>0.0</td>\n",
       "      <td>0.0</td>\n",
       "      <td>...</td>\n",
       "      <td>0.0</td>\n",
       "      <td>0.0</td>\n",
       "      <td>0.0</td>\n",
       "      <td>0.0</td>\n",
       "      <td>0.0</td>\n",
       "      <td>0.0</td>\n",
       "      <td>0.0</td>\n",
       "      <td>0.0</td>\n",
       "      <td>0.0</td>\n",
       "      <td>0.0</td>\n",
       "    </tr>\n",
       "    <tr>\n",
       "      <th>Portuguese</th>\n",
       "      <td>0.0</td>\n",
       "      <td>0.0</td>\n",
       "      <td>0.0</td>\n",
       "      <td>0.0</td>\n",
       "      <td>0.0</td>\n",
       "      <td>0.0</td>\n",
       "      <td>0.0</td>\n",
       "      <td>0.0</td>\n",
       "      <td>0.0</td>\n",
       "      <td>0.0</td>\n",
       "      <td>...</td>\n",
       "      <td>0.0</td>\n",
       "      <td>0.0</td>\n",
       "      <td>0.0</td>\n",
       "      <td>0.0</td>\n",
       "      <td>0.0</td>\n",
       "      <td>0.0</td>\n",
       "      <td>0.0</td>\n",
       "      <td>0.0</td>\n",
       "      <td>0.0</td>\n",
       "      <td>0.0</td>\n",
       "    </tr>\n",
       "    <tr>\n",
       "      <th>Punjabi</th>\n",
       "      <td>0.0</td>\n",
       "      <td>0.0</td>\n",
       "      <td>0.0</td>\n",
       "      <td>0.0</td>\n",
       "      <td>0.0</td>\n",
       "      <td>0.0</td>\n",
       "      <td>0.0</td>\n",
       "      <td>0.0</td>\n",
       "      <td>0.0</td>\n",
       "      <td>0.0</td>\n",
       "      <td>...</td>\n",
       "      <td>0.0</td>\n",
       "      <td>0.0</td>\n",
       "      <td>0.0</td>\n",
       "      <td>0.0</td>\n",
       "      <td>0.0</td>\n",
       "      <td>0.0</td>\n",
       "      <td>0.0</td>\n",
       "      <td>0.0</td>\n",
       "      <td>0.0</td>\n",
       "      <td>0.0</td>\n",
       "    </tr>\n",
       "    <tr>\n",
       "      <th>Russian</th>\n",
       "      <td>0.0</td>\n",
       "      <td>0.0</td>\n",
       "      <td>0.0</td>\n",
       "      <td>0.0</td>\n",
       "      <td>0.0</td>\n",
       "      <td>0.0</td>\n",
       "      <td>0.0</td>\n",
       "      <td>0.0</td>\n",
       "      <td>0.0</td>\n",
       "      <td>0.0</td>\n",
       "      <td>...</td>\n",
       "      <td>0.0</td>\n",
       "      <td>0.0</td>\n",
       "      <td>0.0</td>\n",
       "      <td>0.0</td>\n",
       "      <td>0.0</td>\n",
       "      <td>0.0</td>\n",
       "      <td>0.0</td>\n",
       "      <td>0.0</td>\n",
       "      <td>0.0</td>\n",
       "      <td>1.0</td>\n",
       "    </tr>\n",
       "    <tr>\n",
       "      <th>Spanish</th>\n",
       "      <td>2875.0</td>\n",
       "      <td>7406.0</td>\n",
       "      <td>2233.0</td>\n",
       "      <td>33.0</td>\n",
       "      <td>2.0</td>\n",
       "      <td>142351.0</td>\n",
       "      <td>53.0</td>\n",
       "      <td>0.0</td>\n",
       "      <td>19.0</td>\n",
       "      <td>150.0</td>\n",
       "      <td>...</td>\n",
       "      <td>4091.0</td>\n",
       "      <td>2809.0</td>\n",
       "      <td>0.0</td>\n",
       "      <td>12236.0</td>\n",
       "      <td>812.0</td>\n",
       "      <td>6244.0</td>\n",
       "      <td>100.0</td>\n",
       "      <td>0.0</td>\n",
       "      <td>10509.0</td>\n",
       "      <td>285825.0</td>\n",
       "    </tr>\n",
       "    <tr>\n",
       "      <th>Tagalog</th>\n",
       "      <td>0.0</td>\n",
       "      <td>0.0</td>\n",
       "      <td>300.0</td>\n",
       "      <td>0.0</td>\n",
       "      <td>0.0</td>\n",
       "      <td>26100.0</td>\n",
       "      <td>0.0</td>\n",
       "      <td>0.0</td>\n",
       "      <td>0.0</td>\n",
       "      <td>0.0</td>\n",
       "      <td>...</td>\n",
       "      <td>0.0</td>\n",
       "      <td>0.0</td>\n",
       "      <td>0.0</td>\n",
       "      <td>0.0</td>\n",
       "      <td>0.0</td>\n",
       "      <td>0.0</td>\n",
       "      <td>0.0</td>\n",
       "      <td>0.0</td>\n",
       "      <td>0.0</td>\n",
       "      <td>29227.0</td>\n",
       "    </tr>\n",
       "    <tr>\n",
       "      <th>Telegu</th>\n",
       "      <td>0.0</td>\n",
       "      <td>0.0</td>\n",
       "      <td>0.0</td>\n",
       "      <td>0.0</td>\n",
       "      <td>0.0</td>\n",
       "      <td>0.0</td>\n",
       "      <td>0.0</td>\n",
       "      <td>0.0</td>\n",
       "      <td>0.0</td>\n",
       "      <td>0.0</td>\n",
       "      <td>...</td>\n",
       "      <td>0.0</td>\n",
       "      <td>0.0</td>\n",
       "      <td>0.0</td>\n",
       "      <td>0.0</td>\n",
       "      <td>0.0</td>\n",
       "      <td>0.0</td>\n",
       "      <td>0.0</td>\n",
       "      <td>0.0</td>\n",
       "      <td>0.0</td>\n",
       "      <td>0.0</td>\n",
       "    </tr>\n",
       "    <tr>\n",
       "      <th>Thai</th>\n",
       "      <td>0.0</td>\n",
       "      <td>0.0</td>\n",
       "      <td>0.0</td>\n",
       "      <td>0.0</td>\n",
       "      <td>0.0</td>\n",
       "      <td>0.0</td>\n",
       "      <td>0.0</td>\n",
       "      <td>0.0</td>\n",
       "      <td>0.0</td>\n",
       "      <td>0.0</td>\n",
       "      <td>...</td>\n",
       "      <td>0.0</td>\n",
       "      <td>0.0</td>\n",
       "      <td>0.0</td>\n",
       "      <td>0.0</td>\n",
       "      <td>0.0</td>\n",
       "      <td>0.0</td>\n",
       "      <td>0.0</td>\n",
       "      <td>0.0</td>\n",
       "      <td>0.0</td>\n",
       "      <td>0.0</td>\n",
       "    </tr>\n",
       "    <tr>\n",
       "      <th>Ukrainian</th>\n",
       "      <td>0.0</td>\n",
       "      <td>0.0</td>\n",
       "      <td>0.0</td>\n",
       "      <td>0.0</td>\n",
       "      <td>0.0</td>\n",
       "      <td>0.0</td>\n",
       "      <td>0.0</td>\n",
       "      <td>0.0</td>\n",
       "      <td>0.0</td>\n",
       "      <td>0.0</td>\n",
       "      <td>...</td>\n",
       "      <td>0.0</td>\n",
       "      <td>0.0</td>\n",
       "      <td>0.0</td>\n",
       "      <td>0.0</td>\n",
       "      <td>0.0</td>\n",
       "      <td>0.0</td>\n",
       "      <td>0.0</td>\n",
       "      <td>0.0</td>\n",
       "      <td>0.0</td>\n",
       "      <td>0.0</td>\n",
       "    </tr>\n",
       "    <tr>\n",
       "      <th>Vietnamese</th>\n",
       "      <td>0.0</td>\n",
       "      <td>0.0</td>\n",
       "      <td>55.0</td>\n",
       "      <td>0.0</td>\n",
       "      <td>550.0</td>\n",
       "      <td>26100.0</td>\n",
       "      <td>10.0</td>\n",
       "      <td>0.0</td>\n",
       "      <td>14.0</td>\n",
       "      <td>0.0</td>\n",
       "      <td>...</td>\n",
       "      <td>16219.0</td>\n",
       "      <td>3.0</td>\n",
       "      <td>0.0</td>\n",
       "      <td>22.0</td>\n",
       "      <td>2742.0</td>\n",
       "      <td>0.0</td>\n",
       "      <td>4.0</td>\n",
       "      <td>0.0</td>\n",
       "      <td>0.0</td>\n",
       "      <td>62484.0</td>\n",
       "    </tr>\n",
       "    <tr>\n",
       "      <th>Other_Language(s)</th>\n",
       "      <td>0.0</td>\n",
       "      <td>0.0</td>\n",
       "      <td>203.0</td>\n",
       "      <td>0.0</td>\n",
       "      <td>1.0</td>\n",
       "      <td>0.0</td>\n",
       "      <td>0.0</td>\n",
       "      <td>0.0</td>\n",
       "      <td>0.0</td>\n",
       "      <td>2.0</td>\n",
       "      <td>...</td>\n",
       "      <td>16.0</td>\n",
       "      <td>2.0</td>\n",
       "      <td>0.0</td>\n",
       "      <td>5.0</td>\n",
       "      <td>0.0</td>\n",
       "      <td>3.0</td>\n",
       "      <td>0.0</td>\n",
       "      <td>0.0</td>\n",
       "      <td>0.0</td>\n",
       "      <td>249.0</td>\n",
       "    </tr>\n",
       "  </tbody>\n",
       "</table>\n",
       "<p>26 rows × 30 columns</p>\n",
       "</div>"
      ],
      "text/plain": [
       "Activity_Type_        advertising  alert_sign_up  booths  canvassing  \\\n",
       "Arabic                        0.0            0.0    10.0         0.0   \n",
       "Armenian                      0.0            0.0     0.0         0.0   \n",
       "Assyrian_Neo-Aramaic          0.0            0.0     0.0         0.0   \n",
       "Cantonese                     0.0            0.0     5.0         0.0   \n",
       "Chaldean_Neo-Aramaic          0.0            0.0     0.0         0.0   \n",
       "Chinese                       0.0            0.0    50.0         0.0   \n",
       "Farsi                         0.0            0.0    20.0         0.0   \n",
       "Filipino                      0.0            0.0   100.0         0.0   \n",
       "Hindi                         0.0            0.0     5.0         0.0   \n",
       "Hmong                         0.0            0.0     5.0         0.0   \n",
       "lu_Mien                       0.0            0.0     0.0         0.0   \n",
       "Japanese                      0.0            0.0    40.0         0.0   \n",
       "Khmer                         0.0            0.0     0.0         0.0   \n",
       "Korean                        0.0            0.0    20.0         0.0   \n",
       "Mandarin                      0.0            0.0    10.0         0.0   \n",
       "Min_Nan_Chinese               0.0            0.0     0.0         0.0   \n",
       "Portuguese                    0.0            0.0     0.0         0.0   \n",
       "Punjabi                       0.0            0.0     0.0         0.0   \n",
       "Russian                       0.0            0.0     0.0         0.0   \n",
       "Spanish                    2875.0         7406.0  2233.0        33.0   \n",
       "Tagalog                       0.0            0.0   300.0         0.0   \n",
       "Telegu                        0.0            0.0     0.0         0.0   \n",
       "Thai                          0.0            0.0     0.0         0.0   \n",
       "Ukrainian                     0.0            0.0     0.0         0.0   \n",
       "Vietnamese                    0.0            0.0    55.0         0.0   \n",
       "Other_Language(s)             0.0            0.0   203.0         0.0   \n",
       "\n",
       "Activity_Type_        census_action_kiosk  collateral  convening  curriculum  \\\n",
       "Arabic                               55.0     26100.0        0.0         0.0   \n",
       "Armenian                              0.0         0.0        0.0         0.0   \n",
       "Assyrian_Neo-Aramaic                  0.0         0.0        0.0         0.0   \n",
       "Cantonese                            27.0         0.0        0.0         0.0   \n",
       "Chaldean_Neo-Aramaic                  0.0         0.0        0.0         0.0   \n",
       "Chinese                             274.0         0.0        1.0         0.0   \n",
       "Farsi                                14.0         0.0        1.0         0.0   \n",
       "Filipino                              0.0         0.0        1.0         0.0   \n",
       "Hindi                                 0.0         0.0        0.0         0.0   \n",
       "Hmong                                 5.0         0.0        0.0         0.0   \n",
       "lu_Mien                               0.0         0.0        0.0         0.0   \n",
       "Japanese                              0.0         0.0        0.0         0.0   \n",
       "Khmer                                 0.0         0.0        0.0         0.0   \n",
       "Korean                                0.0         0.0        0.0         0.0   \n",
       "Mandarin                            274.0    130100.0        0.0         0.0   \n",
       "Min_Nan_Chinese                       0.0         0.0        0.0         0.0   \n",
       "Portuguese                            0.0         0.0        0.0         0.0   \n",
       "Punjabi                               0.0         0.0        0.0         0.0   \n",
       "Russian                               0.0         0.0        0.0         0.0   \n",
       "Spanish                               2.0    142351.0       53.0         0.0   \n",
       "Tagalog                               0.0     26100.0        0.0         0.0   \n",
       "Telegu                                0.0         0.0        0.0         0.0   \n",
       "Thai                                  0.0         0.0        0.0         0.0   \n",
       "Ukrainian                             0.0         0.0        0.0         0.0   \n",
       "Vietnamese                          550.0     26100.0       10.0         0.0   \n",
       "Other_Language(s)                     1.0         0.0        0.0         0.0   \n",
       "\n",
       "Activity_Type_        education_forum  email  ...    other  phone_banking  \\\n",
       "Arabic                            0.0   15.0  ...   1626.0            0.0   \n",
       "Armenian                          0.0    0.0  ...      0.0            0.0   \n",
       "Assyrian_Neo-Aramaic              0.0    0.0  ...      0.0            0.0   \n",
       "Cantonese                         0.0    0.0  ...    811.0            0.0   \n",
       "Chaldean_Neo-Aramaic              0.0    0.0  ...      0.0            0.0   \n",
       "Chinese                           0.0    0.0  ...   8100.0            0.0   \n",
       "Farsi                             0.0    0.0  ...    402.0            0.0   \n",
       "Filipino                          0.0    0.0  ...      0.0            0.0   \n",
       "Hindi                             0.0    0.0  ...      0.0            0.0   \n",
       "Hmong                             0.0    0.0  ...    161.0            0.0   \n",
       "lu_Mien                           0.0    0.0  ...      0.0            0.0   \n",
       "Japanese                          0.0    0.0  ...      0.0            0.0   \n",
       "Khmer                             0.0    0.0  ...      0.0            0.0   \n",
       "Korean                            0.0    0.0  ...      0.0            0.0   \n",
       "Mandarin                          0.0    0.0  ...   8100.0            0.0   \n",
       "Min_Nan_Chinese                   0.0    0.0  ...      0.0            0.0   \n",
       "Portuguese                        0.0    0.0  ...      0.0            0.0   \n",
       "Punjabi                           0.0    0.0  ...      0.0            0.0   \n",
       "Russian                           0.0    0.0  ...      0.0            0.0   \n",
       "Spanish                          19.0  150.0  ...   4091.0         2809.0   \n",
       "Tagalog                           0.0    0.0  ...      0.0            0.0   \n",
       "Telegu                            0.0    0.0  ...      0.0            0.0   \n",
       "Thai                              0.0    0.0  ...      0.0            0.0   \n",
       "Ukrainian                         0.0    0.0  ...      0.0            0.0   \n",
       "Vietnamese                       14.0    0.0  ...  16219.0            3.0   \n",
       "Other_Language(s)                 0.0    2.0  ...     16.0            2.0   \n",
       "\n",
       "Activity_Type_        pledge_cards  social_media  speaking_engagement  \\\n",
       "Arabic                         0.0           0.0                274.0   \n",
       "Armenian                       0.0           0.0                  0.0   \n",
       "Assyrian_Neo-Aramaic           0.0           0.0                  0.0   \n",
       "Cantonese                      0.0           0.0                137.0   \n",
       "Chaldean_Neo-Aramaic           0.0           0.0                  0.0   \n",
       "Chinese                        0.0           0.0               1370.0   \n",
       "Farsi                          0.0           0.0                 68.0   \n",
       "Filipino                       0.0           0.0                  0.0   \n",
       "Hindi                          0.0           0.0                  0.0   \n",
       "Hmong                          0.0           0.0                 27.0   \n",
       "lu_Mien                        0.0           0.0                  0.0   \n",
       "Japanese                       0.0           0.0                  0.0   \n",
       "Khmer                          0.0           0.0                  0.0   \n",
       "Korean                         0.0           0.0                  0.0   \n",
       "Mandarin                       0.0           0.0               1375.0   \n",
       "Min_Nan_Chinese                0.0           0.0                  0.0   \n",
       "Portuguese                     0.0           0.0                  0.0   \n",
       "Punjabi                        0.0           0.0                  0.0   \n",
       "Russian                        0.0           0.0                  0.0   \n",
       "Spanish                        0.0       12236.0                812.0   \n",
       "Tagalog                        0.0           0.0                  0.0   \n",
       "Telegu                         0.0           0.0                  0.0   \n",
       "Thai                           0.0           0.0                  0.0   \n",
       "Ukrainian                      0.0           0.0                  0.0   \n",
       "Vietnamese                     0.0          22.0               2742.0   \n",
       "Other_Language(s)              0.0           5.0                  0.0   \n",
       "\n",
       "Activity_Type_        texting_campaign  training_delivery  translation  \\\n",
       "Arabic                             0.0                0.0          0.0   \n",
       "Armenian                           0.0                0.0          0.0   \n",
       "Assyrian_Neo-Aramaic               0.0                0.0          0.0   \n",
       "Cantonese                          0.0                0.0          0.0   \n",
       "Chaldean_Neo-Aramaic               0.0                0.0          0.0   \n",
       "Chinese                            0.0                0.0          0.0   \n",
       "Farsi                              0.0                0.0          0.0   \n",
       "Filipino                           0.0                0.0          0.0   \n",
       "Hindi                              0.0                0.0          0.0   \n",
       "Hmong                              0.0                0.0          0.0   \n",
       "lu_Mien                            0.0                0.0          0.0   \n",
       "Japanese                           0.0                0.0          0.0   \n",
       "Khmer                              0.0                0.0          0.0   \n",
       "Korean                             0.0                0.0          0.0   \n",
       "Mandarin                           0.0                0.0          0.0   \n",
       "Min_Nan_Chinese                    0.0                0.0          0.0   \n",
       "Portuguese                         0.0                0.0          0.0   \n",
       "Punjabi                            0.0                0.0          0.0   \n",
       "Russian                            0.0                0.0          0.0   \n",
       "Spanish                         6244.0              100.0          0.0   \n",
       "Tagalog                            0.0                0.0          0.0   \n",
       "Telegu                             0.0                0.0          0.0   \n",
       "Thai                               0.0                0.0          0.0   \n",
       "Ukrainian                          0.0                0.0          0.0   \n",
       "Vietnamese                         0.0                4.0          0.0   \n",
       "Other_Language(s)                  3.0                0.0          0.0   \n",
       "\n",
       "Activity_Type_        webinar     Total  \n",
       "Arabic                    0.0   32752.0  \n",
       "Armenian                  0.0       1.0  \n",
       "Assyrian_Neo-Aramaic      0.0       0.0  \n",
       "Cantonese                 0.0    1816.0  \n",
       "Chaldean_Neo-Aramaic      0.0       0.0  \n",
       "Chinese                   0.0   18150.0  \n",
       "Farsi                     0.0     921.0  \n",
       "Filipino                  0.0     102.0  \n",
       "Hindi                     0.0       5.0  \n",
       "Hmong                     0.0     364.0  \n",
       "lu_Mien                   0.0       0.0  \n",
       "Japanese                  0.0      40.0  \n",
       "Khmer                     0.0       0.0  \n",
       "Korean                    0.0      20.0  \n",
       "Mandarin                  0.0  148219.0  \n",
       "Min_Nan_Chinese           0.0       0.0  \n",
       "Portuguese                0.0       0.0  \n",
       "Punjabi                   0.0       0.0  \n",
       "Russian                   0.0       1.0  \n",
       "Spanish               10509.0  285825.0  \n",
       "Tagalog                   0.0   29227.0  \n",
       "Telegu                    0.0       0.0  \n",
       "Thai                      0.0       0.0  \n",
       "Ukrainian                 0.0       0.0  \n",
       "Vietnamese                0.0   62484.0  \n",
       "Other_Language(s)         0.0     249.0  \n",
       "\n",
       "[26 rows x 30 columns]"
      ]
     },
     "execution_count": 167,
     "metadata": {},
     "output_type": "execute_result"
    }
   ],
   "source": [
    "activity_type_by_languages.T"
   ]
  },
  {
   "cell_type": "code",
   "execution_count": 168,
   "metadata": {},
   "outputs": [],
   "source": [
    "activity_type_by_languages.to_csv(python_out + '\\\\'+ 'impressions_by_language.csv')"
   ]
  },
  {
   "cell_type": "markdown",
   "metadata": {},
   "source": [
    "# QA cross checks between langugae, HTC and all_summary"
   ]
  },
  {
   "cell_type": "code",
   "execution_count": 169,
   "metadata": {},
   "outputs": [
    {
     "name": "stdout",
     "output_type": "stream",
     "text": [
      "C:/Users/psi/San Diego Association of Governments/Regional Census Data Center - Documents/2020 Census Planning/Complete Count Committee/Monthly Reports/python_output/2020-09-10/\n"
     ]
    }
   ],
   "source": [
    "import os, glob\n",
    "import pandas as pd\n",
    "from os import listdir\n",
    "\n",
    "\n",
    "###setting up the path to pick the latest folder\n",
    "directory = 'C:/Users/psi/San Diego Association of Governments/Regional Census Data Center - Documents/2020 Census Planning/Complete Count Committee/Monthly Reports/python_output/'\n",
    "path= max([os.path.join(directory,d) for d in os.listdir(directory)], key=os.path.getmtime)\n",
    "path= os.path.join(path+ \"/\")\n",
    "print(path)\n",
    "\n"
   ]
  },
  {
   "cell_type": "code",
   "execution_count": 266,
   "metadata": {},
   "outputs": [
    {
     "name": "stdout",
     "output_type": "stream",
     "text": [
      "['activity_impressions.csv', 'activity_impressions_county.csv', 'activity_other_summary.csv', 'activity_other_summary_county.csv', 'activity_summary.csv', 'activity_summary_county.csv', 'all_summary.csv', 'Apr_summary.csv', 'aug_summary.csv', 'Cbo_summary.csv', 'Dec_summary.csv', 'Feb_summary.csv', 'impressions_by_HTC.csv', 'impressions_by_HTC_county.csv', 'impressions_by_language.csv', 'impressions_by_language_county.csv', 'Jan_summary.csv', 'Jul_summary.csv', 'Jun_summary.csv', 'Mar_summary.csv', 'May_summary.csv', 'Nov_summary.csv', 'SANDAG_summary.csv']\n"
     ]
    }
   ],
   "source": [
    "###extracting csvs from the latest folder and converting them to dataframes for further transformations\n",
    "allfiles = listdir(path)\n",
    "len(allfiles)\n",
    "csvfiles = []\n",
    "for f in allfiles:\n",
    "    if f.endswith('.csv'):\n",
    "        csvfiles.append(f)\n",
    "len(csvfiles)\n",
    "print(csvfiles)\n",
    "\n",
    "out_dfs = [pd.read_csv(path + f) for f in csvfiles]\n",
    "len(out_dfs)\n",
    "   \n",
    "###### renaming summary df as all_sum, impressions by HTC as htc and impressions by language as lang\n",
    "\n",
    "all_sum= out_dfs[csvfiles.index(\"all_summary.csv\")]\n",
    "htc= out_dfs[csvfiles.index(\"impressions_by_HTC.csv\")]\n",
    "lang= out_dfs[csvfiles.index(\"impressions_by_language.csv\")]\n",
    "\n"
   ]
  },
  {
   "cell_type": "code",
   "execution_count": 262,
   "metadata": {
    "scrolled": true
   },
   "outputs": [
    {
     "name": "stdout",
     "output_type": "stream",
     "text": [
      "True\n",
      "True\n",
      "29\n",
      "29\n"
     ]
    }
   ],
   "source": [
    "####subsetting columns in all_sum that are present in lang and htc for cross-checking \n",
    "all_sum_lang= all_sum.loc[:, lang.columns]\n",
    "all_sum_htc= all_sum.loc[:, htc.columns]\n",
    "\n",
    "####subsetting columns in all_sum that are present in lang and htc for cross-checking-- ALTERNATIVE FOR THE CODE ABOVE\n",
    "##all_sum_lang= all_sum[all_sum.columns.intersection(lang.columns)]\n",
    "##all_sum_htc= all_sum[all_sum.columns.intersection(htc.columns)]\n",
    "\n",
    "print(len(lang.columns)== len(all_sum_lang.columns))\n",
    "print(len(htc.columns)== len(all_sum_htc.columns))\n",
    "\n",
    "###Removing totals columns from the HTC df\n",
    "htc.drop(htc.tail(1).index,inplace=True)\n",
    "print(len(htc))\n",
    "\n",
    "###Removing totals columns from the lang df-\n",
    "lang.drop(lang.tail(1).index,inplace=True)\n",
    "print(len(lang))\n",
    "\n"
   ]
  },
  {
   "cell_type": "code",
   "execution_count": 263,
   "metadata": {},
   "outputs": [
    {
     "name": "stdout",
     "output_type": "stream",
     "text": [
      "Activity_Type_           object\n",
      "Arabic                  float64\n",
      "Armenian                float64\n",
      "Assyrian_Neo-Aramaic    float64\n",
      "Cantonese               float64\n",
      "Chaldean_Neo-Aramaic    float64\n",
      "Chinese                 float64\n",
      "Farsi                   float64\n",
      "Filipino                float64\n",
      "Hindi                   float64\n",
      "Hmong                   float64\n",
      "lu_Mien                 float64\n",
      "Japanese                float64\n",
      "Khmer                   float64\n",
      "Korean                  float64\n",
      "Mandarin                float64\n",
      "Min_Nan_Chinese         float64\n",
      "Portuguese              float64\n",
      "Punjabi                 float64\n",
      "Russian                 float64\n",
      "Spanish                  object\n",
      "Tagalog                 float64\n",
      "Telegu                  float64\n",
      "Thai                    float64\n",
      "Ukrainian               float64\n",
      "Vietnamese              float64\n",
      "Other_Language(s)        object\n",
      "dtype: object\n",
      "Activity_Type_                                                   object\n",
      "Immigrants_&_Refugees                                           float64\n",
      "Middle-Eastern_and_North_Africans_(MENA)                        float64\n",
      "Homeless_Individuals_and_Families                               float64\n",
      "Farmworkers                                                     float64\n",
      "Veterans                                                        float64\n",
      "Latinos                                                          object\n",
      "Asian-Americans_&_Pacific_Islanders_(AAPI)                      float64\n",
      "African_Americans                                               float64\n",
      "Native_Americans_&_Tribal_Communities                           float64\n",
      "Lesbian,_Gay,_Bisexual,_Transgender,_and_Questioning_(LGBTQ)     object\n",
      "Limited-English_Proficient_Individuals_and_Families              object\n",
      "People_with_Disabilities                                        float64\n",
      "Seniors/Older_Adults                                             object\n",
      "Low_Broadband_subscription_rates_and_limited_or_no_access        object\n",
      "dtype: object\n",
      "Activity_Type_                                                   object\n",
      "Immigrants_&_Refugees                                           float64\n",
      "Middle-Eastern_and_North_Africans_(MENA)                        float64\n",
      "Homeless_Individuals_and_Families                               float64\n",
      "Farmworkers                                                     float64\n",
      "Veterans                                                        float64\n",
      "Latinos                                                         float64\n",
      "Asian-Americans_&_Pacific_Islanders_(AAPI)                      float64\n",
      "African_Americans                                               float64\n",
      "Native_Americans_&_Tribal_Communities                           float64\n",
      "Lesbian,_Gay,_Bisexual,_Transgender,_and_Questioning_(LGBTQ)    float64\n",
      "Limited-English_Proficient_Individuals_and_Families             float64\n",
      "People_with_Disabilities                                        float64\n",
      "Seniors/Older_Adults                                            float64\n",
      "Low_Broadband_subscription_rates_and_limited_or_no_access       float64\n",
      "dtype: object\n",
      "Activity_Type_           object\n",
      "Arabic                  float64\n",
      "Armenian                float64\n",
      "Assyrian_Neo-Aramaic    float64\n",
      "Cantonese               float64\n",
      "Chaldean_Neo-Aramaic    float64\n",
      "Chinese                 float64\n",
      "Farsi                   float64\n",
      "Filipino                float64\n",
      "Hindi                   float64\n",
      "Hmong                   float64\n",
      "lu_Mien                 float64\n",
      "Japanese                float64\n",
      "Khmer                   float64\n",
      "Korean                  float64\n",
      "Mandarin                float64\n",
      "Min_Nan_Chinese         float64\n",
      "Portuguese              float64\n",
      "Punjabi                 float64\n",
      "Russian                 float64\n",
      "Spanish                 float64\n",
      "Tagalog                 float64\n",
      "Telegu                  float64\n",
      "Thai                    float64\n",
      "Ukrainian               float64\n",
      "Vietnamese              float64\n",
      "Other_Language(s)       float64\n",
      "dtype: object\n"
     ]
    }
   ],
   "source": [
    "###checking data types of all_sum_htc and all_sum_lang\n",
    "print(all_sum_lang.dtypes)\n",
    "print(all_sum_htc.dtypes)\n",
    "###changing data types to float in all_sum_htc and all_sum_lang\n",
    "\n",
    "###all_sum_htc\n",
    "all_sum_htc['Latinos'] = pd.to_numeric(all_sum_htc['Latinos'], errors='coerce')\n",
    "all_sum_htc['Lesbian,_Gay,_Bisexual,_Transgender,_and_Questioning_(LGBTQ)'] = pd.to_numeric(all_sum_htc['Lesbian,_Gay,_Bisexual,_Transgender,_and_Questioning_(LGBTQ)'], errors='coerce')\n",
    "all_sum_htc['Limited-English_Proficient_Individuals_and_Families'] = pd.to_numeric(all_sum_htc['Limited-English_Proficient_Individuals_and_Families'], errors='coerce')\n",
    "all_sum_htc['Seniors/Older_Adults'] = pd.to_numeric(all_sum_htc['Seniors/Older_Adults'], errors='coerce')\n",
    "all_sum_htc['Low_Broadband_subscription_rates_and_limited_or_no_access'] = pd.to_numeric(all_sum_htc['Low_Broadband_subscription_rates_and_limited_or_no_access'], errors='coerce')\n",
    "\n",
    "###all_sum_lang\n",
    "all_sum_lang['Spanish'] = pd.to_numeric(all_sum_lang['Spanish'], errors='coerce')\n",
    "all_sum_lang['Other_Language(s)'] = pd.to_numeric(all_sum_lang['Other_Language(s)'], errors='coerce')\n",
    "\n",
    "print(all_sum_htc.dtypes)\n",
    "print(all_sum_lang.dtypes)"
   ]
  },
  {
   "cell_type": "code",
   "execution_count": 264,
   "metadata": {},
   "outputs": [
    {
     "name": "stdout",
     "output_type": "stream",
     "text": [
      "Immigrants_&_Refugees                                           1326767.0\n",
      "Middle-Eastern_and_North_Africans_(MENA)                          47663.0\n",
      "Homeless_Individuals_and_Families                                 12657.0\n",
      "Farmworkers                                                        7678.0\n",
      "Veterans                                                         583106.0\n",
      "Latinos                                                          455986.0\n",
      "Asian-Americans_&_Pacific_Islanders_(AAPI)                      7952318.0\n",
      "African_Americans                                                 38137.0\n",
      "Native_Americans_&_Tribal_Communities                              3732.0\n",
      "Lesbian,_Gay,_Bisexual,_Transgender,_and_Questioning_(LGBTQ)     129758.0\n",
      "Limited-English_Proficient_Individuals_and_Families              451585.0\n",
      "People_with_Disabilities                                         631835.0\n",
      "Seniors/Older_Adults                                            1286251.0\n",
      "Low_Broadband_subscription_rates_and_limited_or_no_access        103874.0\n",
      "dtype: float64\n",
      "Immigrants_&_Refugees                                           1326767.0\n",
      "Middle-Eastern_and_North_Africans_(MENA)                          47663.0\n",
      "Homeless_Individuals_and_Families                                 12657.0\n",
      "Farmworkers                                                        7678.0\n",
      "Veterans                                                         583106.0\n",
      "Latinos                                                          455986.0\n",
      "Asian-Americans_&_Pacific_Islanders_(AAPI)                      7952318.0\n",
      "African_Americans                                                 38137.0\n",
      "Native_Americans_&_Tribal_Communities                              3732.0\n",
      "Lesbian,_Gay,_Bisexual,_Transgender,_and_Questioning_(LGBTQ)     129758.0\n",
      "Limited-English_Proficient_Individuals_and_Families              451585.0\n",
      "People_with_Disabilities                                         631835.0\n",
      "Seniors/Older_Adults                                            1286251.0\n",
      "Low_Broadband_subscription_rates_and_limited_or_no_access        103874.0\n",
      "dtype: float64\n",
      "Immigrants_&_Refugees                                           1326767.0\n",
      "Middle-Eastern_and_North_Africans_(MENA)                          47663.0\n",
      "Homeless_Individuals_and_Families                                 12657.0\n",
      "Farmworkers                                                        7678.0\n",
      "Veterans                                                         583106.0\n",
      "Latinos                                                          455986.0\n",
      "Asian-Americans_&_Pacific_Islanders_(AAPI)                      7952318.0\n",
      "African_Americans                                                 38137.0\n",
      "Native_Americans_&_Tribal_Communities                              3732.0\n",
      "Lesbian,_Gay,_Bisexual,_Transgender,_and_Questioning_(LGBTQ)     129758.0\n",
      "Limited-English_Proficient_Individuals_and_Families              451585.0\n",
      "People_with_Disabilities                                         631835.0\n",
      "Seniors/Older_Adults                                            1286251.0\n",
      "Low_Broadband_subscription_rates_and_limited_or_no_access        103874.0\n",
      "dtype: float64\n",
      "Immigrants_&_Refugees                                           1326767.0\n",
      "Middle-Eastern_and_North_Africans_(MENA)                          47663.0\n",
      "Homeless_Individuals_and_Families                                 12657.0\n",
      "Farmworkers                                                        7678.0\n",
      "Veterans                                                         583106.0\n",
      "Latinos                                                          455986.0\n",
      "Asian-Americans_&_Pacific_Islanders_(AAPI)                      7952318.0\n",
      "African_Americans                                                 38137.0\n",
      "Native_Americans_&_Tribal_Communities                              3732.0\n",
      "Lesbian,_Gay,_Bisexual,_Transgender,_and_Questioning_(LGBTQ)     129758.0\n",
      "Limited-English_Proficient_Individuals_and_Families              451585.0\n",
      "People_with_Disabilities                                         631835.0\n",
      "Seniors/Older_Adults                                            1286251.0\n",
      "Low_Broadband_subscription_rates_and_limited_or_no_access        103874.0\n",
      "dtype: float64\n"
     ]
    },
    {
     "data": {
      "text/plain": [
       "True"
      ]
     },
     "execution_count": 264,
     "metadata": {},
     "output_type": "execute_result"
    }
   ],
   "source": [
    "#### Running binary cross-checks on htc and all_sum_htc totals \n",
    "print(all_sum_htc.sum(axis=0, numeric_only=True))\n",
    "print(htc.sum(numeric_only=True))\n",
    "print(all_sum_htc.sum(axis=0, numeric_only=True))==print(htc.sum(numeric_only=True)) ##This is the result- True indicates the totals match\n"
   ]
  },
  {
   "cell_type": "code",
   "execution_count": 265,
   "metadata": {},
   "outputs": [
    {
     "name": "stdout",
     "output_type": "stream",
     "text": [
      "Arabic                   32752.0\n",
      "Armenian                     1.0\n",
      "Assyrian_Neo-Aramaic         0.0\n",
      "Cantonese                 1816.0\n",
      "Chaldean_Neo-Aramaic         0.0\n",
      "Chinese                  18150.0\n",
      "Farsi                      921.0\n",
      "Filipino                   102.0\n",
      "Hindi                        5.0\n",
      "Hmong                      364.0\n",
      "lu_Mien                      0.0\n",
      "Japanese                    40.0\n",
      "Khmer                        0.0\n",
      "Korean                      20.0\n",
      "Mandarin                148219.0\n",
      "Min_Nan_Chinese              0.0\n",
      "Portuguese                   0.0\n",
      "Punjabi                      0.0\n",
      "Russian                      1.0\n",
      "Spanish                 285825.0\n",
      "Tagalog                  29227.0\n",
      "Telegu                       0.0\n",
      "Thai                         0.0\n",
      "Ukrainian                    0.0\n",
      "Vietnamese               62484.0\n",
      "Other_Language(s)          249.0\n",
      "dtype: float64\n",
      "Arabic                   32752.0\n",
      "Armenian                     1.0\n",
      "Assyrian_Neo-Aramaic         0.0\n",
      "Cantonese                 1816.0\n",
      "Chaldean_Neo-Aramaic         0.0\n",
      "Chinese                  18150.0\n",
      "Farsi                      921.0\n",
      "Filipino                   102.0\n",
      "Hindi                        5.0\n",
      "Hmong                      364.0\n",
      "lu_Mien                      0.0\n",
      "Japanese                    40.0\n",
      "Khmer                        0.0\n",
      "Korean                      20.0\n",
      "Mandarin                148219.0\n",
      "Min_Nan_Chinese              0.0\n",
      "Portuguese                   0.0\n",
      "Punjabi                      0.0\n",
      "Russian                      1.0\n",
      "Spanish                 285825.0\n",
      "Tagalog                  29227.0\n",
      "Telegu                       0.0\n",
      "Thai                         0.0\n",
      "Ukrainian                    0.0\n",
      "Vietnamese               62484.0\n",
      "Other_Language(s)          249.0\n",
      "dtype: float64\n",
      "Arabic                   32752.0\n",
      "Armenian                     1.0\n",
      "Assyrian_Neo-Aramaic         0.0\n",
      "Cantonese                 1816.0\n",
      "Chaldean_Neo-Aramaic         0.0\n",
      "Chinese                  18150.0\n",
      "Farsi                      921.0\n",
      "Filipino                   102.0\n",
      "Hindi                        5.0\n",
      "Hmong                      364.0\n",
      "lu_Mien                      0.0\n",
      "Japanese                    40.0\n",
      "Khmer                        0.0\n",
      "Korean                      20.0\n",
      "Mandarin                148219.0\n",
      "Min_Nan_Chinese              0.0\n",
      "Portuguese                   0.0\n",
      "Punjabi                      0.0\n",
      "Russian                      1.0\n",
      "Spanish                 285825.0\n",
      "Tagalog                  29227.0\n",
      "Telegu                       0.0\n",
      "Thai                         0.0\n",
      "Ukrainian                    0.0\n",
      "Vietnamese               62484.0\n",
      "Other_Language(s)          249.0\n",
      "dtype: float64\n",
      "Arabic                   32752.0\n",
      "Armenian                     1.0\n",
      "Assyrian_Neo-Aramaic         0.0\n",
      "Cantonese                 1816.0\n",
      "Chaldean_Neo-Aramaic         0.0\n",
      "Chinese                  18150.0\n",
      "Farsi                      921.0\n",
      "Filipino                   102.0\n",
      "Hindi                        5.0\n",
      "Hmong                      364.0\n",
      "lu_Mien                      0.0\n",
      "Japanese                    40.0\n",
      "Khmer                        0.0\n",
      "Korean                      20.0\n",
      "Mandarin                148219.0\n",
      "Min_Nan_Chinese              0.0\n",
      "Portuguese                   0.0\n",
      "Punjabi                      0.0\n",
      "Russian                      1.0\n",
      "Spanish                 285825.0\n",
      "Tagalog                  29227.0\n",
      "Telegu                       0.0\n",
      "Thai                         0.0\n",
      "Ukrainian                    0.0\n",
      "Vietnamese               62484.0\n",
      "Other_Language(s)          249.0\n",
      "dtype: float64\n"
     ]
    },
    {
     "data": {
      "text/plain": [
       "True"
      ]
     },
     "execution_count": 265,
     "metadata": {},
     "output_type": "execute_result"
    }
   ],
   "source": [
    "#### Running binary cross-checks on lang and all_sum_lang totals \n",
    "print(all_sum_lang.sum(axis=0, numeric_only=True))\n",
    "print(lang.sum(numeric_only=True))\n",
    "print(all_sum_lang.sum(axis=0, numeric_only=True))==print(lang.sum(numeric_only=True)) ##This is the result- True indicates the totals match\n"
   ]
  }
 ],
 "metadata": {
  "kernelspec": {
   "display_name": "Python 3",
   "language": "python",
   "name": "python3"
  },
  "language_info": {
   "codemirror_mode": {
    "name": "ipython",
    "version": 3
   },
   "file_extension": ".py",
   "mimetype": "text/x-python",
   "name": "python",
   "nbconvert_exporter": "python",
   "pygments_lexer": "ipython3",
   "version": "3.7.6"
  }
 },
 "nbformat": 4,
 "nbformat_minor": 2
}
